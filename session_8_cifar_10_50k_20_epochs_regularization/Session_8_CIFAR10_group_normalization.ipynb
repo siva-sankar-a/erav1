{
  "nbformat": 4,
  "nbformat_minor": 0,
  "metadata": {
    "colab": {
      "provenance": [],
      "gpuType": "T4",
      "include_colab_link": true
    },
    "kernelspec": {
      "name": "python3",
      "display_name": "Python 3"
    },
    "language_info": {
      "name": "python"
    },
    "accelerator": "GPU",
    "gpuClass": "standard"
  },
  "cells": [
    {
      "cell_type": "markdown",
      "metadata": {
        "id": "view-in-github",
        "colab_type": "text"
      },
      "source": [
        "<a href=\"https://colab.research.google.com/github/siva-sankar-a/erav1/blob/main/session_8_cifar_10_50k_20_epochs_regularization/Session_8_CIFAR10_group_normalization.ipynb\" target=\"_parent\"><img src=\"https://colab.research.google.com/assets/colab-badge.svg\" alt=\"Open In Colab\"/></a>"
      ]
    },
    {
      "cell_type": "markdown",
      "source": [
        "# ERA V1 Session 8\n",
        "## Refer [link](https://github.com/siva-sankar-a/erav1/tree/session/session-6-multiple-architecture-check/session_6_multiple_architectures_mnist#readme) for further documentation"
      ],
      "metadata": {
        "id": "vxvrP2Onom0u"
      }
    },
    {
      "cell_type": "markdown",
      "source": [
        "## Cloning the Github repository\n",
        "## [Session 8](https://github.com/siva-sankar-a/erav1.git)"
      ],
      "metadata": {
        "id": "0D7qh1EynkZJ"
      }
    },
    {
      "cell_type": "code",
      "source": [
        "!pip install torchviz"
      ],
      "metadata": {
        "colab": {
          "base_uri": "https://localhost:8080/"
        },
        "id": "wM7bEw9vZnNQ",
        "outputId": "ebd12aaa-240f-4420-df58-108f97f7d4e6"
      },
      "execution_count": 1,
      "outputs": [
        {
          "output_type": "stream",
          "name": "stdout",
          "text": [
            "Looking in indexes: https://pypi.org/simple, https://us-python.pkg.dev/colab-wheels/public/simple/\n",
            "Collecting torchviz\n",
            "  Downloading torchviz-0.0.2.tar.gz (4.9 kB)\n",
            "  Preparing metadata (setup.py) ... \u001b[?25l\u001b[?25hdone\n",
            "Requirement already satisfied: torch in /usr/local/lib/python3.10/dist-packages (from torchviz) (2.0.1+cu118)\n",
            "Requirement already satisfied: graphviz in /usr/local/lib/python3.10/dist-packages (from torchviz) (0.20.1)\n",
            "Requirement already satisfied: filelock in /usr/local/lib/python3.10/dist-packages (from torch->torchviz) (3.12.2)\n",
            "Requirement already satisfied: typing-extensions in /usr/local/lib/python3.10/dist-packages (from torch->torchviz) (4.6.3)\n",
            "Requirement already satisfied: sympy in /usr/local/lib/python3.10/dist-packages (from torch->torchviz) (1.11.1)\n",
            "Requirement already satisfied: networkx in /usr/local/lib/python3.10/dist-packages (from torch->torchviz) (3.1)\n",
            "Requirement already satisfied: jinja2 in /usr/local/lib/python3.10/dist-packages (from torch->torchviz) (3.1.2)\n",
            "Requirement already satisfied: triton==2.0.0 in /usr/local/lib/python3.10/dist-packages (from torch->torchviz) (2.0.0)\n",
            "Requirement already satisfied: cmake in /usr/local/lib/python3.10/dist-packages (from triton==2.0.0->torch->torchviz) (3.25.2)\n",
            "Requirement already satisfied: lit in /usr/local/lib/python3.10/dist-packages (from triton==2.0.0->torch->torchviz) (16.0.6)\n",
            "Requirement already satisfied: MarkupSafe>=2.0 in /usr/local/lib/python3.10/dist-packages (from jinja2->torch->torchviz) (2.1.3)\n",
            "Requirement already satisfied: mpmath>=0.19 in /usr/local/lib/python3.10/dist-packages (from sympy->torch->torchviz) (1.3.0)\n",
            "Building wheels for collected packages: torchviz\n",
            "  Building wheel for torchviz (setup.py) ... \u001b[?25l\u001b[?25hdone\n",
            "  Created wheel for torchviz: filename=torchviz-0.0.2-py3-none-any.whl size=4131 sha256=a229c5bad07f7cb1512d16a611a44d1cb4dbd271af0469469d98f758a2b465d5\n",
            "  Stored in directory: /root/.cache/pip/wheels/4c/97/88/a02973217949e0db0c9f4346d154085f4725f99c4f15a87094\n",
            "Successfully built torchviz\n",
            "Installing collected packages: torchviz\n",
            "Successfully installed torchviz-0.0.2\n"
          ]
        }
      ]
    },
    {
      "cell_type": "code",
      "source": [
        "!git clone https://github.com/siva-sankar-a/erav1.git"
      ],
      "metadata": {
        "colab": {
          "base_uri": "https://localhost:8080/"
        },
        "id": "c75NRuJHmxzV",
        "outputId": "ad845d0a-cc58-4820-8631-21bf20cbec6d"
      },
      "execution_count": 2,
      "outputs": [
        {
          "output_type": "stream",
          "name": "stdout",
          "text": [
            "Cloning into 'erav1'...\n",
            "remote: Enumerating objects: 219, done.\u001b[K\n",
            "remote: Counting objects: 100% (79/79), done.\u001b[K\n",
            "remote: Compressing objects: 100% (70/70), done.\u001b[K\n",
            "remote: Total 219 (delta 39), reused 20 (delta 8), pack-reused 140\u001b[K\n",
            "Receiving objects: 100% (219/219), 622.47 KiB | 5.66 MiB/s, done.\n",
            "Resolving deltas: 100% (110/110), done.\n"
          ]
        }
      ]
    },
    {
      "cell_type": "code",
      "source": [
        "%cd /content/erav1"
      ],
      "metadata": {
        "colab": {
          "base_uri": "https://localhost:8080/"
        },
        "id": "_TcPvRRLzL8m",
        "outputId": "182126bc-8c1e-4e17-e7b6-1aca8db7e79d"
      },
      "execution_count": 3,
      "outputs": [
        {
          "output_type": "stream",
          "name": "stdout",
          "text": [
            "/content/erav1\n"
          ]
        }
      ]
    },
    {
      "cell_type": "code",
      "source": [
        "!git pull"
      ],
      "metadata": {
        "colab": {
          "base_uri": "https://localhost:8080/"
        },
        "id": "rl5OraqvzON6",
        "outputId": "9db909a5-aef3-4040-9fb9-1d207b96271a"
      },
      "execution_count": 4,
      "outputs": [
        {
          "output_type": "stream",
          "name": "stdout",
          "text": [
            "Already up to date.\n"
          ]
        }
      ]
    },
    {
      "cell_type": "markdown",
      "source": [
        "## Adding the session folder to path in order to access the functions defined"
      ],
      "metadata": {
        "id": "kn9Duybtn916"
      }
    },
    {
      "cell_type": "code",
      "source": [
        "%load_ext autoreload\n",
        "%autoreload 2"
      ],
      "metadata": {
        "id": "VZHmptkFtQLs"
      },
      "execution_count": 5,
      "outputs": []
    },
    {
      "cell_type": "code",
      "source": [
        "import os\n",
        "import sys"
      ],
      "metadata": {
        "id": "etBGZdEBnLgi"
      },
      "execution_count": 6,
      "outputs": []
    },
    {
      "cell_type": "code",
      "source": [
        "sys.path.append('/content/erav1/session_8_cifar_10_50k_20_epochs_regularization')"
      ],
      "metadata": {
        "id": "dmlfbkJ5nQF0"
      },
      "execution_count": 7,
      "outputs": []
    },
    {
      "cell_type": "code",
      "source": [
        "import importlib"
      ],
      "metadata": {
        "id": "hYq-JprOx5C5"
      },
      "execution_count": 8,
      "outputs": []
    },
    {
      "cell_type": "code",
      "source": [
        "import utils as U\n",
        "import datasets as ds\n",
        "import transforms as tf"
      ],
      "metadata": {
        "id": "fcdNScH6ndwQ"
      },
      "execution_count": 9,
      "outputs": []
    },
    {
      "cell_type": "code",
      "source": [
        "U = importlib.reload(U)\n",
        "ds = importlib.reload(ds)\n",
        "tf = importlib.reload(tf)"
      ],
      "metadata": {
        "id": "1eZpnItfx7Ua"
      },
      "execution_count": null,
      "outputs": []
    },
    {
      "cell_type": "markdown",
      "source": [
        "## Get device"
      ],
      "metadata": {
        "id": "JXU1Lk2JoQTu"
      }
    },
    {
      "cell_type": "code",
      "source": [
        "device = U.get_device()\n",
        "print(device)"
      ],
      "metadata": {
        "colab": {
          "base_uri": "https://localhost:8080/"
        },
        "id": "82LKarofoL7z",
        "outputId": "c079d63f-8660-4ed4-c57a-6b880be3df24"
      },
      "execution_count": 10,
      "outputs": [
        {
          "output_type": "stream",
          "name": "stdout",
          "text": [
            "CUDA Available? True\n",
            "cuda\n"
          ]
        }
      ]
    },
    {
      "cell_type": "code",
      "source": [
        "import pandas as pd"
      ],
      "metadata": {
        "id": "AS8QFBG24Saq"
      },
      "execution_count": 11,
      "outputs": []
    },
    {
      "cell_type": "code",
      "source": [
        "pd.options.plotting.backend = \"plotly\""
      ],
      "metadata": {
        "id": "wx6n36Hk4WSb"
      },
      "execution_count": 12,
      "outputs": []
    },
    {
      "cell_type": "markdown",
      "source": [
        "## Get train and test transforms"
      ],
      "metadata": {
        "id": "0Lvm6vCjoXrw"
      }
    },
    {
      "cell_type": "code",
      "source": [
        "train_transforms = tf.get_train_transforms()\n",
        "test_transforms = tf.get_test_transforms()"
      ],
      "metadata": {
        "id": "TCqAEH39oiVI"
      },
      "execution_count": 13,
      "outputs": []
    },
    {
      "cell_type": "code",
      "source": [
        "from torchvision import datasets, transforms\n",
        "import numpy as np"
      ],
      "metadata": {
        "id": "5jmS0cIh0I2-"
      },
      "execution_count": 14,
      "outputs": []
    },
    {
      "cell_type": "code",
      "source": [
        "from torch.utils.data import WeightedRandomSampler"
      ],
      "metadata": {
        "id": "mFN3lZviTZ53"
      },
      "execution_count": 15,
      "outputs": []
    },
    {
      "cell_type": "code",
      "source": [
        "def cutout(mask_size, p, cutout_inside, mask_color=(0, 0, 0)):\n",
        "    mask_size_half = mask_size // 2\n",
        "    offset = 1 if mask_size % 2 == 0 else 0\n",
        "\n",
        "    def _cutout(image):\n",
        "        image = np.asarray(image).copy()\n",
        "\n",
        "        if np.random.random() > p:\n",
        "            return image\n",
        "\n",
        "        h, w = image.shape[:2]\n",
        "\n",
        "        if cutout_inside:\n",
        "            cxmin, cxmax = mask_size_half, w + offset - mask_size_half\n",
        "            cymin, cymax = mask_size_half, h + offset - mask_size_half\n",
        "        else:\n",
        "            cxmin, cxmax = 0, w + offset\n",
        "            cymin, cymax = 0, h + offset\n",
        "\n",
        "        cx = np.random.randint(cxmin, cxmax)\n",
        "        cy = np.random.randint(cymin, cymax)\n",
        "        xmin = cx - mask_size_half\n",
        "        ymin = cy - mask_size_half\n",
        "        xmax = xmin + mask_size\n",
        "        ymax = ymin + mask_size\n",
        "        xmin = max(0, xmin)\n",
        "        ymin = max(0, ymin)\n",
        "        xmax = min(w, xmax)\n",
        "        ymax = min(h, ymax)\n",
        "        image[ymin:ymax, xmin:xmax] = mask_color\n",
        "        return image\n",
        "\n",
        "    return _cutout"
      ],
      "metadata": {
        "id": "g1UqTI2I8Hbh"
      },
      "execution_count": 16,
      "outputs": []
    },
    {
      "cell_type": "code",
      "source": [
        "train_transforms = transforms.Compose([\n",
        "                                    # transforms.RandomRotation((-5.0, 5.0), fill=(1,)),\n",
        "                                    # transforms.ElasticTransform(alpha=100.0, sigma=5.0, interpolation=transforms.InterpolationMode.NEAREST),\n",
        "                                    # transforms.RandomInvert(p=0.5),\n",
        "                                    cutout(16, 0.5, True),\n",
        "                                    transforms.ToTensor(),\n",
        "                                    transforms.Normalize((0.4913997551666284, 0.48215855929893703, 0.4465309133731618),\n",
        "                                                          (0.24703225141799082, 0.24348516474564, 0.26158783926049628))\n",
        "                                    ])"
      ],
      "metadata": {
        "id": "iGqHDZLL0A_u"
      },
      "execution_count": 17,
      "outputs": []
    },
    {
      "cell_type": "code",
      "source": [
        "test_transforms = transforms.Compose([\n",
        "                                    # transforms.RandomRotation((-7.0, 7.0), fill=(1,)),\n",
        "                                    transforms.ToTensor(),\n",
        "                                    transforms.Normalize((0.4913997551666284, 0.48215855929893703, 0.4465309133731618),\n",
        "                                                          (0.24703225141799082, 0.24348516474564, 0.26158783926049628))\n",
        "                                    ])"
      ],
      "metadata": {
        "id": "jTFC19j50DBx"
      },
      "execution_count": 18,
      "outputs": []
    },
    {
      "cell_type": "markdown",
      "source": [
        "## Get dataset"
      ],
      "metadata": {
        "id": "l-tMVwqzpDD4"
      }
    },
    {
      "cell_type": "code",
      "source": [
        "train_dataset = ds.get_train_dataset(train_transforms)\n",
        "test_dataset = ds.get_test_dataset(test_transforms)"
      ],
      "metadata": {
        "id": "x0EKJeSvpHMc",
        "colab": {
          "base_uri": "https://localhost:8080/"
        },
        "outputId": "caf4bc17-1895-42a3-a45d-18ca63dd3ba3"
      },
      "execution_count": 19,
      "outputs": [
        {
          "output_type": "stream",
          "name": "stdout",
          "text": [
            "Downloading https://www.cs.toronto.edu/~kriz/cifar-10-python.tar.gz to ../data/cifar-10-python.tar.gz\n"
          ]
        },
        {
          "output_type": "stream",
          "name": "stderr",
          "text": [
            "100%|██████████| 170498071/170498071 [00:03<00:00, 44934880.63it/s]\n"
          ]
        },
        {
          "output_type": "stream",
          "name": "stdout",
          "text": [
            "Extracting ../data/cifar-10-python.tar.gz to ../data\n",
            "Files already downloaded and verified\n"
          ]
        }
      ]
    },
    {
      "cell_type": "markdown",
      "source": [
        "## Get train and test dataloader"
      ],
      "metadata": {
        "id": "mHGXKHJHpMpD"
      }
    },
    {
      "cell_type": "code",
      "source": [
        "import torch"
      ],
      "metadata": {
        "id": "M5O00LkyUIJl"
      },
      "execution_count": 20,
      "outputs": []
    },
    {
      "cell_type": "code",
      "source": [
        "label_weights = { 0: 1.0, 1: 1.0, 2: 1.0, 3: 1.0, 4: 1.0, 5: 1.0, 6: 1.0, 7: 1.0, 8: 1.0, 9: 1.0}"
      ],
      "metadata": {
        "id": "wdcA84QPYMvD"
      },
      "execution_count": 21,
      "outputs": []
    },
    {
      "cell_type": "code",
      "source": [
        "_weights = [label_weights[label] for label in train_dataset.targets]"
      ],
      "metadata": {
        "id": "alTROWJwX_Kl"
      },
      "execution_count": 22,
      "outputs": []
    },
    {
      "cell_type": "code",
      "source": [
        "batch_size = 128\n",
        "sampler = torch.utils.data.sampler.WeightedRandomSampler(_weights, len(train_dataset), replacement=False)"
      ],
      "metadata": {
        "id": "5Du_OfgxT8vj"
      },
      "execution_count": 23,
      "outputs": []
    },
    {
      "cell_type": "code",
      "source": [
        "kwargs = {'batch_size': batch_size, 'shuffle': False, 'num_workers': 2, 'pin_memory': True}\n",
        "\n",
        "train_dataloader = ds.get_train_dataloader(train_dataset, sampler=sampler, **kwargs)\n",
        "test_dataloader = ds.get_test_dataloader(test_dataset, **kwargs)"
      ],
      "metadata": {
        "id": "bKV3bOKbpKpQ"
      },
      "execution_count": 24,
      "outputs": []
    },
    {
      "cell_type": "markdown",
      "source": [
        "## Display image grid"
      ],
      "metadata": {
        "id": "41RCssjDpaJg"
      }
    },
    {
      "cell_type": "code",
      "source": [
        "U.show_image_grid(train_dataloader)"
      ],
      "metadata": {
        "colab": {
          "base_uri": "https://localhost:8080/",
          "height": 671
        },
        "id": "VbQ_ujZnpfnA",
        "outputId": "7db56f0a-f79a-4c67-cc0e-bed5bc773cb3"
      },
      "execution_count": 25,
      "outputs": [
        {
          "output_type": "stream",
          "name": "stderr",
          "text": [
            "WARNING:matplotlib.image:Clipping input data to the valid range for imshow with RGB data ([0..1] for floats or [0..255] for integers).\n",
            "WARNING:matplotlib.image:Clipping input data to the valid range for imshow with RGB data ([0..1] for floats or [0..255] for integers).\n",
            "WARNING:matplotlib.image:Clipping input data to the valid range for imshow with RGB data ([0..1] for floats or [0..255] for integers).\n",
            "WARNING:matplotlib.image:Clipping input data to the valid range for imshow with RGB data ([0..1] for floats or [0..255] for integers).\n",
            "WARNING:matplotlib.image:Clipping input data to the valid range for imshow with RGB data ([0..1] for floats or [0..255] for integers).\n",
            "WARNING:matplotlib.image:Clipping input data to the valid range for imshow with RGB data ([0..1] for floats or [0..255] for integers).\n",
            "WARNING:matplotlib.image:Clipping input data to the valid range for imshow with RGB data ([0..1] for floats or [0..255] for integers).\n",
            "WARNING:matplotlib.image:Clipping input data to the valid range for imshow with RGB data ([0..1] for floats or [0..255] for integers).\n",
            "WARNING:matplotlib.image:Clipping input data to the valid range for imshow with RGB data ([0..1] for floats or [0..255] for integers).\n",
            "WARNING:matplotlib.image:Clipping input data to the valid range for imshow with RGB data ([0..1] for floats or [0..255] for integers).\n",
            "WARNING:matplotlib.image:Clipping input data to the valid range for imshow with RGB data ([0..1] for floats or [0..255] for integers).\n",
            "WARNING:matplotlib.image:Clipping input data to the valid range for imshow with RGB data ([0..1] for floats or [0..255] for integers).\n"
          ]
        },
        {
          "output_type": "display_data",
          "data": {
            "text/plain": [
              "<Figure size 640x480 with 12 Axes>"
            ],
            "image/png": "[encoded data removed]"
          },
          "metadata": {}
        }
      ]
    },
    {
      "cell_type": "code",
      "source": [
        "!git clone https://github.com/Fangyh09/pytorch-receptive-field.git"
      ],
      "metadata": {
        "colab": {
          "base_uri": "https://localhost:8080/"
        },
        "id": "Vcg388r_mioi",
        "outputId": "d6a64b92-3a12-462d-ffd7-04fc585dc01c"
      },
      "execution_count": 26,
      "outputs": [
        {
          "output_type": "stream",
          "name": "stdout",
          "text": [
            "Cloning into 'pytorch-receptive-field'...\n",
            "remote: Enumerating objects: 111, done.\u001b[K\n",
            "remote: Counting objects:   2% (1/44)\u001b[K\rremote: Counting objects:   4% (2/44)\u001b[K\rremote: Counting objects:   6% (3/44)\u001b[K\rremote: Counting objects:   9% (4/44)\u001b[K\rremote: Counting objects:  11% (5/44)\u001b[K\rremote: Counting objects:  13% (6/44)\u001b[K\rremote: Counting objects:  15% (7/44)\u001b[K\rremote: Counting objects:  18% (8/44)\u001b[K\rremote: Counting objects:  20% (9/44)\u001b[K\rremote: Counting objects:  22% (10/44)\u001b[K\rremote: Counting objects:  25% (11/44)\u001b[K\rremote: Counting objects:  27% (12/44)\u001b[K\rremote: Counting objects:  29% (13/44)\u001b[K\rremote: Counting objects:  31% (14/44)\u001b[K\rremote: Counting objects:  34% (15/44)\u001b[K\rremote: Counting objects:  36% (16/44)\u001b[K\rremote: Counting objects:  38% (17/44)\u001b[K\rremote: Counting objects:  40% (18/44)\u001b[K\rremote: Counting objects:  43% (19/44)\u001b[K\rremote: Counting objects:  45% (20/44)\u001b[K\rremote: Counting objects:  47% (21/44)\u001b[K\rremote: Counting objects:  50% (22/44)\u001b[K\rremote: Counting objects:  52% (23/44)\u001b[K\rremote: Counting objects:  54% (24/44)\u001b[K\rremote: Counting objects:  56% (25/44)\u001b[K\rremote: Counting objects:  59% (26/44)\u001b[K\rremote: Counting objects:  61% (27/44)\u001b[K\rremote: Counting objects:  63% (28/44)\u001b[K\rremote: Counting objects:  65% (29/44)\u001b[K\rremote: Counting objects:  68% (30/44)\u001b[K\rremote: Counting objects:  70% (31/44)\u001b[K\rremote: Counting objects:  72% (32/44)\u001b[K\rremote: Counting objects:  75% (33/44)\u001b[K\rremote: Counting objects:  77% (34/44)\u001b[K\rremote: Counting objects:  79% (35/44)\u001b[K\rremote: Counting objects:  81% (36/44)\u001b[K\rremote: Counting objects:  84% (37/44)\u001b[K\rremote: Counting objects:  86% (38/44)\u001b[K\rremote: Counting objects:  88% (39/44)\u001b[K\rremote: Counting objects:  90% (40/44)\u001b[K\rremote: Counting objects:  93% (41/44)\u001b[K\rremote: Counting objects:  95% (42/44)\u001b[K\rremote: Counting objects:  97% (43/44)\u001b[K\rremote: Counting objects: 100% (44/44)\u001b[K\rremote: Counting objects: 100% (44/44), done.\u001b[K\n",
            "remote: Compressing objects:   4% (1/21)\u001b[K\rremote: Compressing objects:   9% (2/21)\u001b[K\rremote: Compressing objects:  14% (3/21)\u001b[K\rremote: Compressing objects:  19% (4/21)\u001b[K\rremote: Compressing objects:  23% (5/21)\u001b[K\rremote: Compressing objects:  28% (6/21)\u001b[K\rremote: Compressing objects:  33% (7/21)\u001b[K\rremote: Compressing objects:  38% (8/21)\u001b[K\rremote: Compressing objects:  42% (9/21)\u001b[K\rremote: Compressing objects:  47% (10/21)\u001b[K\rremote: Compressing objects:  52% (11/21)\u001b[K\rremote: Compressing objects:  57% (12/21)\u001b[K\rremote: Compressing objects:  61% (13/21)\u001b[K\rremote: Compressing objects:  66% (14/21)\u001b[K\rremote: Compressing objects:  71% (15/21)\u001b[K\rremote: Compressing objects:  76% (16/21)\u001b[K\rremote: Compressing objects:  80% (17/21)\u001b[K\rremote: Compressing objects:  85% (18/21)\u001b[K\rremote: Compressing objects:  90% (19/21)\u001b[K\rremote: Compressing objects:  95% (20/21)\u001b[K\rremote: Compressing objects: 100% (21/21)\u001b[K\rremote: Compressing objects: 100% (21/21), done.\u001b[K\n",
            "Receiving objects:   0% (1/111)\rReceiving objects:   1% (2/111)\rReceiving objects:   2% (3/111)\rReceiving objects:   3% (4/111)\rReceiving objects:   4% (5/111)\rReceiving objects:   5% (6/111)\rReceiving objects:   6% (7/111)\rReceiving objects:   7% (8/111)\rReceiving objects:   8% (9/111)\rReceiving objects:   9% (10/111)\rReceiving objects:  10% (12/111)\rReceiving objects:  11% (13/111)\rReceiving objects:  12% (14/111)\rReceiving objects:  13% (15/111)\rReceiving objects:  14% (16/111)\rReceiving objects:  15% (17/111)\rReceiving objects:  16% (18/111)\rReceiving objects:  17% (19/111)\rReceiving objects:  18% (20/111)\rReceiving objects:  19% (22/111)\rReceiving objects:  20% (23/111)\rReceiving objects:  21% (24/111)\rReceiving objects:  22% (25/111)\rReceiving objects:  23% (26/111)\rReceiving objects:  24% (27/111)\rReceiving objects:  25% (28/111)\rReceiving objects:  26% (29/111)\rReceiving objects:  27% (30/111)\rReceiving objects:  28% (32/111)\rReceiving objects:  29% (33/111)\rReceiving objects:  30% (34/111)\rReceiving objects:  31% (35/111)\rReceiving objects:  32% (36/111)\rReceiving objects:  33% (37/111)\rReceiving objects:  34% (38/111)\rReceiving objects:  35% (39/111)\rReceiving objects:  36% (40/111)\rReceiving objects:  37% (42/111)\rReceiving objects:  38% (43/111)\rReceiving objects:  39% (44/111)\rReceiving objects:  40% (45/111)\rReceiving objects:  41% (46/111)\rReceiving objects:  42% (47/111)\rReceiving objects:  43% (48/111)\rReceiving objects:  44% (49/111)\rReceiving objects:  45% (50/111)\rReceiving objects:  46% (52/111)\rReceiving objects:  47% (53/111)\rReceiving objects:  48% (54/111)\rReceiving objects:  49% (55/111)\rReceiving objects:  50% (56/111)\rReceiving objects:  51% (57/111)\rReceiving objects:  52% (58/111)\rReceiving objects:  53% (59/111)\rReceiving objects:  54% (60/111)\rReceiving objects:  55% (62/111)\rremote: Total 111 (delta 37), reused 23 (delta 23), pack-reused 67\u001b[K\n",
            "Receiving objects:  56% (63/111)\rReceiving objects:  57% (64/111)\rReceiving objects:  58% (65/111)\rReceiving objects:  59% (66/111)\rReceiving objects:  60% (67/111)\rReceiving objects:  61% (68/111)\rReceiving objects:  62% (69/111)\rReceiving objects:  63% (70/111)\rReceiving objects:  64% (72/111)\rReceiving objects:  65% (73/111)\rReceiving objects:  66% (74/111)\rReceiving objects:  67% (75/111)\rReceiving objects:  68% (76/111)\rReceiving objects:  69% (77/111)\rReceiving objects:  70% (78/111)\rReceiving objects:  71% (79/111)\rReceiving objects:  72% (80/111)\rReceiving objects:  73% (82/111)\rReceiving objects:  74% (83/111)\rReceiving objects:  75% (84/111)\rReceiving objects:  76% (85/111)\rReceiving objects:  77% (86/111)\rReceiving objects:  78% (87/111)\rReceiving objects:  79% (88/111)\rReceiving objects:  80% (89/111)\rReceiving objects:  81% (90/111)\rReceiving objects:  82% (92/111)\rReceiving objects:  83% (93/111)\rReceiving objects:  84% (94/111)\rReceiving objects:  85% (95/111)\rReceiving objects:  86% (96/111)\rReceiving objects:  87% (97/111)\rReceiving objects:  88% (98/111)\rReceiving objects:  89% (99/111)\rReceiving objects:  90% (100/111)\rReceiving objects:  91% (102/111)\rReceiving objects:  92% (103/111)\rReceiving objects:  93% (104/111)\rReceiving objects:  94% (105/111)\rReceiving objects:  95% (106/111)\rReceiving objects:  96% (107/111)\rReceiving objects:  97% (108/111)\rReceiving objects:  98% (109/111)\rReceiving objects:  99% (110/111)\rReceiving objects: 100% (111/111)\rReceiving objects: 100% (111/111), 27.59 KiB | 2.12 MiB/s, done.\n",
            "Resolving deltas:   0% (0/51)\rResolving deltas:   1% (1/51)\rResolving deltas:  15% (8/51)\rResolving deltas:  19% (10/51)\rResolving deltas:  25% (13/51)\rResolving deltas:  35% (18/51)\rResolving deltas:  70% (36/51)\rResolving deltas:  76% (39/51)\rResolving deltas: 100% (51/51)\rResolving deltas: 100% (51/51), done.\n"
          ]
        }
      ]
    },
    {
      "cell_type": "code",
      "source": [
        "sys.path.append('/content/erav1/pytorch-receptive-field')"
      ],
      "metadata": {
        "id": "zaXzqni1myi-"
      },
      "execution_count": 27,
      "outputs": []
    },
    {
      "cell_type": "code",
      "source": [
        "from torch_receptive_field import receptive_field"
      ],
      "metadata": {
        "id": "do7ut0I9mnn2"
      },
      "execution_count": 28,
      "outputs": []
    },
    {
      "cell_type": "code",
      "source": [
        "import torch.nn as nn\n",
        "from torchviz import make_dot\n",
        "import torch.nn.functional as F"
      ],
      "metadata": {
        "id": "VqjxT94yNzGW"
      },
      "execution_count": 29,
      "outputs": []
    },
    {
      "cell_type": "code",
      "source": [
        "class Net(nn.Module):\n",
        "\n",
        "    '''\n",
        "    This class implements the neural network model\n",
        "\n",
        "    Usage:\n",
        "    >>> device = ...\n",
        "    >>> model = Net().to('cpu')\n",
        "    '''\n",
        "\n",
        "    #This defines the structure of the NN.\n",
        "    def __init__(self):\n",
        "        super(Net, self).__init__()\n",
        "        self.conv1 = self.conv3x3_bn_dropout(3, 8, padding=1)\n",
        "        self.conv2 = self.conv3x3_bn_dropout(8, 8, padding=1)\n",
        "        self.conv3 = self.conv1x1(8, 8, padding=1)\n",
        "\n",
        "        self.pool1 = self.conv3x3_bn_dropout(8, 16, stride=2)\n",
        "        self.downsample1 = self.conv3x3_bn_dropout(3, 16, padding=1, stride=2)\n",
        "\n",
        "        self.conv4 = self.conv3x3_bn_dropout(16, 16, padding=1)\n",
        "        self.conv5 = self.conv3x3_bn_dropout(16, 16, padding=1)\n",
        "        self.conv6 = self.conv3x3_bn_dropout(16, 16, padding=1)\n",
        "        self.conv7 = self.conv1x1(16, 16, padding=1)\n",
        "\n",
        "        self.pool2 = self.conv3x3_bn_dropout(16, 32, stride=2)\n",
        "        self.downsample2 = self.conv3x3_bn_dropout(16, 32, padding=1, stride=2)\n",
        "\n",
        "        self.conv8 = self.conv3x3_bn_dropout(32, 32, padding=1)\n",
        "        self.conv9 = self.conv3x3_bn_dropout(32, 32, padding=1)\n",
        "        self.conv10 = self.conv3x3_bn_dropout(32, 32, padding=1)\n",
        "\n",
        "        self.gap = nn.AvgPool2d(8)\n",
        "        self.mixer = nn.Sequential(\n",
        "            self.conv1x1(32, 10),\n",
        "        )\n",
        "\n",
        "\n",
        "    def conv3x3_bn_dropout(self, in_channels, out_channels, kernel_size=3, stride=1, padding=0, bias=False, dropout=0.1):\n",
        "          if dropout:\n",
        "            return nn.Sequential(\n",
        "                self.conv3x3(in_channels, out_channels, kernel_size, stride, padding, bias),\n",
        "                nn.ReLU(),\n",
        "                nn.GroupNorm(4, out_channels),\n",
        "                nn.Dropout(dropout),\n",
        "                )\n",
        "          else:\n",
        "            return nn.Sequential(\n",
        "                self.conv3x3(in_channels, out_channels, kernel_size, stride, padding, bias),\n",
        "                nn.ReLU(),\n",
        "                nn.GroupNorm(4, out_channels),\n",
        "                )\n",
        "\n",
        "    def conv3x3(self, in_channels, out_channels, kernel_size=3, stride=1, padding=0, bias=False):\n",
        "          return nn.Conv2d(in_channels,\n",
        "                    out_channels,\n",
        "                    kernel_size=kernel_size,\n",
        "                    stride=stride,\n",
        "                    padding=padding,\n",
        "                    bias=bias)\n",
        "\n",
        "    def conv1x1(self, in_channels, out_channels, kernel_size=1, stride=1, padding=0, bias=False):\n",
        "          return nn.Conv2d(in_channels,\n",
        "                    out_channels,\n",
        "                    kernel_size=kernel_size,\n",
        "                    stride=stride,\n",
        "                    padding=padding,\n",
        "                    bias=bias)\n",
        "\n",
        "\n",
        "    def forward(self, x):\n",
        "\n",
        "        # Block 1\n",
        "        i1 = x\n",
        "\n",
        "        x = self.conv1(x)\n",
        "        x = self.conv2(x)\n",
        "        x = self.conv3(x)\n",
        "        # pooling\n",
        "        x = self.pool1(x)\n",
        "\n",
        "        # residual connection\n",
        "        i1 = self.downsample1(i1)\n",
        "        x = x + i1\n",
        "\n",
        "        # Block 2\n",
        "        i2 = x\n",
        "        x = self.conv4(x)\n",
        "        x = self.conv5(x)\n",
        "        x = self.conv6(x)\n",
        "        x = self.conv7(x)\n",
        "        # pooling\n",
        "        x = self.pool2(x)\n",
        "\n",
        "        # residual connection\n",
        "        i2 = self.downsample2(i2)\n",
        "        x = x + i2\n",
        "\n",
        "        # Block 3\n",
        "        i3 = x\n",
        "        x = self.conv8(x)\n",
        "        x = self.conv9(x)\n",
        "        x = self.conv10(x)\n",
        "        # residual connection\n",
        "        x = x + i3\n",
        "\n",
        "        x = self.gap(x)\n",
        "        x = self.mixer(x)\n",
        "        x = x.view(-1, 10)\n",
        "\n",
        "        return F.log_softmax(x, dim=1)"
      ],
      "metadata": {
        "id": "C1pLoj7rNhzO"
      },
      "execution_count": 45,
      "outputs": []
    },
    {
      "cell_type": "markdown",
      "source": [
        "## Generate model summary"
      ],
      "metadata": {
        "id": "m242rqKopkPU"
      }
    },
    {
      "cell_type": "code",
      "source": [
        "from torchsummary import summary"
      ],
      "metadata": {
        "id": "pw9lTuzcbKCV"
      },
      "execution_count": 46,
      "outputs": []
    },
    {
      "cell_type": "code",
      "source": [
        "model = Net().to('cpu')\n",
        "summary(model, input_size=(3, 32, 32), batch_size=batch_size, device='cpu')"
      ],
      "metadata": {
        "colab": {
          "base_uri": "https://localhost:8080/"
        },
        "id": "2W39NavppocP",
        "outputId": "f01b8d40-8f70-41b1-b99b-83207bcdf89b"
      },
      "execution_count": 47,
      "outputs": [
        {
          "output_type": "stream",
          "name": "stdout",
          "text": [
            "----------------------------------------------------------------\n",
            "        Layer (type)               Output Shape         Param #\n",
            "================================================================\n",
            "            Conv2d-1           [128, 8, 32, 32]             216\n",
            "              ReLU-2           [128, 8, 32, 32]               0\n",
            "         GroupNorm-3           [128, 8, 32, 32]              16\n",
            "           Dropout-4           [128, 8, 32, 32]               0\n",
            "            Conv2d-5           [128, 8, 32, 32]             576\n",
            "              ReLU-6           [128, 8, 32, 32]               0\n",
            "         GroupNorm-7           [128, 8, 32, 32]              16\n",
            "           Dropout-8           [128, 8, 32, 32]               0\n",
            "            Conv2d-9           [128, 8, 34, 34]              64\n",
            "           Conv2d-10          [128, 16, 16, 16]           1,152\n",
            "             ReLU-11          [128, 16, 16, 16]               0\n",
            "        GroupNorm-12          [128, 16, 16, 16]              32\n",
            "          Dropout-13          [128, 16, 16, 16]               0\n",
            "           Conv2d-14          [128, 16, 16, 16]             432\n",
            "             ReLU-15          [128, 16, 16, 16]               0\n",
            "        GroupNorm-16          [128, 16, 16, 16]              32\n",
            "          Dropout-17          [128, 16, 16, 16]               0\n",
            "           Conv2d-18          [128, 16, 16, 16]           2,304\n",
            "             ReLU-19          [128, 16, 16, 16]               0\n",
            "        GroupNorm-20          [128, 16, 16, 16]              32\n",
            "          Dropout-21          [128, 16, 16, 16]               0\n",
            "           Conv2d-22          [128, 16, 16, 16]           2,304\n",
            "             ReLU-23          [128, 16, 16, 16]               0\n",
            "        GroupNorm-24          [128, 16, 16, 16]              32\n",
            "          Dropout-25          [128, 16, 16, 16]               0\n",
            "           Conv2d-26          [128, 16, 16, 16]           2,304\n",
            "             ReLU-27          [128, 16, 16, 16]               0\n",
            "        GroupNorm-28          [128, 16, 16, 16]              32\n",
            "          Dropout-29          [128, 16, 16, 16]               0\n",
            "           Conv2d-30          [128, 16, 18, 18]             256\n",
            "           Conv2d-31            [128, 32, 8, 8]           4,608\n",
            "             ReLU-32            [128, 32, 8, 8]               0\n",
            "        GroupNorm-33            [128, 32, 8, 8]              64\n",
            "          Dropout-34            [128, 32, 8, 8]               0\n",
            "           Conv2d-35            [128, 32, 8, 8]           4,608\n",
            "             ReLU-36            [128, 32, 8, 8]               0\n",
            "        GroupNorm-37            [128, 32, 8, 8]              64\n",
            "          Dropout-38            [128, 32, 8, 8]               0\n",
            "           Conv2d-39            [128, 32, 8, 8]           9,216\n",
            "             ReLU-40            [128, 32, 8, 8]               0\n",
            "        GroupNorm-41            [128, 32, 8, 8]              64\n",
            "          Dropout-42            [128, 32, 8, 8]               0\n",
            "           Conv2d-43            [128, 32, 8, 8]           9,216\n",
            "             ReLU-44            [128, 32, 8, 8]               0\n",
            "        GroupNorm-45            [128, 32, 8, 8]              64\n",
            "          Dropout-46            [128, 32, 8, 8]               0\n",
            "           Conv2d-47            [128, 32, 8, 8]           9,216\n",
            "             ReLU-48            [128, 32, 8, 8]               0\n",
            "        GroupNorm-49            [128, 32, 8, 8]              64\n",
            "          Dropout-50            [128, 32, 8, 8]               0\n",
            "        AvgPool2d-51            [128, 32, 1, 1]               0\n",
            "           Conv2d-52            [128, 10, 1, 1]             320\n",
            "================================================================\n",
            "Total params: 47,304\n",
            "Trainable params: 47,304\n",
            "Non-trainable params: 0\n",
            "----------------------------------------------------------------\n",
            "Input size (MB): 1.50\n",
            "Forward/backward pass size (MB): 198.13\n",
            "Params size (MB): 0.18\n",
            "Estimated Total Size (MB): 199.82\n",
            "----------------------------------------------------------------\n"
          ]
        }
      ]
    },
    {
      "cell_type": "code",
      "source": [
        "receptive_field(model.cpu(), input_size=(3, 32, 32), device='cpu')"
      ],
      "metadata": {
        "id": "GSp_eyvLnCTc"
      },
      "execution_count": null,
      "outputs": []
    },
    {
      "cell_type": "code",
      "source": [
        "random_input = torch.randn(1, 3, 32, 32)\n",
        "model.eval()\n",
        "y = model(random_input)\n",
        "dot_graph = make_dot(y, show_attrs=False, show_saved=True)\n",
        "dot_graph.format = 'svg'\n",
        "dot_graph.render(f'net')\n",
        "dot_graph"
      ],
      "metadata": {
        "colab": {
          "base_uri": "https://localhost:8080/",
          "height": 1000
        },
        "id": "VpAYvuxehJL7",
        "outputId": "30a88b63-bb84-4827-e005-19a928fc6afd"
      },
      "execution_count": 33,
      "outputs": [
        {
          "output_type": "execute_result",
          "data": {
            "image/svg+xml": "<?xml version=\"1.0\" encoding=\"UTF-8\" standalone=\"no\"?>\n<!DOCTYPE svg PUBLIC \"-//W3C//DTD SVG 1.1//EN\"\n \"http://www.w3.org/Graphics/SVG/1.1/DTD/svg11.dtd\">\n<!-- Generated by graphviz version 2.43.0 (0)\n -->\n<!-- Title: %3 Pages: 1 -->\n<svg width=\"2169pt\" height=\"2617pt\"\n viewBox=\"0.00 0.00 2169.00 2617.00\" xmlns=\"http://www.w3.org/2000/svg\" xmlns:xlink=\"http://www.w3.org/1999/xlink\">\n<g id=\"graph0\" class=\"graph\" transform=\"scale(1 1) rotate(0) translate(4 2613)\">\n<title>%3</title>\n<polygon fill=\"white\" stroke=\"transparent\" points=\"-4,4 -4,-2613 2165,-2613 2165,4 -4,4\"/>\n<!-- 139652280640880 -->\n<g id=\"node1\" class=\"node\">\n<title>139652280640880</title>\n<polygon fill=\"#caff70\" stroke=\"black\" points=\"696,-31 631,-31 631,0 696,0 696,-31\"/>\n<text text-anchor=\"middle\" x=\"663.5\" y=\"-7\" font-family=\"monospace\" font-size=\"10.00\"> (1, 10)</text>\n</g>\n<!-- 139652280605840 -->\n<g id=\"node2\" class=\"node\">\n<title>139652280605840</title>\n<polygon fill=\"lightgrey\" stroke=\"black\" points=\"770,-86 639,-86 639,-67 770,-67 770,-86\"/>\n<text text-anchor=\"middle\" x=\"704.5\" y=\"-74\" font-family=\"monospace\" font-size=\"10.00\">LogSoftmaxBackward0</text>\n</g>\n<!-- 139652280605840&#45;&gt;139652280640880 -->\n<g id=\"edge217\" class=\"edge\">\n<title>139652280605840&#45;&gt;139652280640880</title>\n<path fill=\"none\" stroke=\"black\" d=\"M698.45,-66.79C693.47,-59.63 686.18,-49.13 679.54,-39.58\"/>\n<polygon fill=\"black\" stroke=\"black\" points=\"682.29,-37.41 673.71,-31.19 676.54,-41.4 682.29,-37.41\"/>\n</g>\n<!-- 139652314767792 -->\n<g id=\"node3\" class=\"node\">\n<title>139652314767792</title>\n<polygon fill=\"orange\" stroke=\"black\" points=\"779,-30.5 714,-30.5 714,-0.5 779,-0.5 779,-30.5\"/>\n<text text-anchor=\"middle\" x=\"746.5\" y=\"-18.5\" font-family=\"monospace\" font-size=\"10.00\">result</text>\n<text text-anchor=\"middle\" x=\"746.5\" y=\"-7.5\" font-family=\"monospace\" font-size=\"10.00\"> (1, 10)</text>\n</g>\n<!-- 139652280605840&#45;&gt;139652314767792 -->\n<g id=\"edge1\" class=\"edge\">\n<title>139652280605840&#45;&gt;139652314767792</title>\n<path fill=\"none\" stroke=\"black\" d=\"M710.7,-66.79C717.45,-57.31 728.36,-41.98 736.37,-30.74\"/>\n</g>\n<!-- 139652280605216 -->\n<g id=\"node4\" class=\"node\">\n<title>139652280605216</title>\n<polygon fill=\"lightgrey\" stroke=\"black\" points=\"752,-147 657,-147 657,-128 752,-128 752,-147\"/>\n<text text-anchor=\"middle\" x=\"704.5\" y=\"-135\" font-family=\"monospace\" font-size=\"10.00\">ViewBackward0</text>\n</g>\n<!-- 139652280605216&#45;&gt;139652280605840 -->\n<g id=\"edge2\" class=\"edge\">\n<title>139652280605216&#45;&gt;139652280605840</title>\n<path fill=\"none\" stroke=\"black\" d=\"M704.5,-127.79C704.5,-119.6 704.5,-107.06 704.5,-96.55\"/>\n<polygon fill=\"black\" stroke=\"black\" points=\"708,-96.24 704.5,-86.24 701,-96.24 708,-96.24\"/>\n</g>\n<!-- 139652280607568 -->\n<g id=\"node5\" class=\"node\">\n<title>139652280607568</title>\n<polygon fill=\"lightgrey\" stroke=\"black\" points=\"950,-213.5 813,-213.5 813,-194.5 950,-194.5 950,-213.5\"/>\n<text text-anchor=\"middle\" x=\"881.5\" y=\"-201.5\" font-family=\"monospace\" font-size=\"10.00\">ConvolutionBackward0</text>\n</g>\n<!-- 139652280607568&#45;&gt;139652280605216 -->\n<g id=\"edge3\" class=\"edge\">\n<title>139652280607568&#45;&gt;139652280605216</title>\n<path fill=\"none\" stroke=\"black\" d=\"M858,-194.43C827.18,-183.21 772.95,-163.44 737.88,-150.67\"/>\n<polygon fill=\"black\" stroke=\"black\" points=\"738.7,-147.24 728.1,-147.1 736.3,-153.81 738.7,-147.24\"/>\n</g>\n<!-- 139652305304240 -->\n<g id=\"node6\" class=\"node\">\n<title>139652305304240</title>\n<polygon fill=\"orange\" stroke=\"black\" points=\"871,-152.5 770,-152.5 770,-122.5 871,-122.5 871,-152.5\"/>\n<text text-anchor=\"middle\" x=\"820.5\" y=\"-140.5\" font-family=\"monospace\" font-size=\"10.00\">input</text>\n<text text-anchor=\"middle\" x=\"820.5\" y=\"-129.5\" font-family=\"monospace\" font-size=\"10.00\"> (1, 32, 1, 1)</text>\n</g>\n<!-- 139652280607568&#45;&gt;139652305304240 -->\n<g id=\"edge4\" class=\"edge\">\n<title>139652280607568&#45;&gt;139652305304240</title>\n<path fill=\"none\" stroke=\"black\" d=\"M873.27,-194.3C863.26,-183.71 846.19,-165.67 834.19,-152.97\"/>\n</g>\n<!-- 139652282336816 -->\n<g id=\"node7\" class=\"node\">\n<title>139652282336816</title>\n<polygon fill=\"lightblue\" stroke=\"black\" points=\"996,-153 889,-153 889,-122 996,-122 996,-153\"/>\n<text text-anchor=\"middle\" x=\"942.5\" y=\"-129\" font-family=\"monospace\" font-size=\"10.00\"> (10, 32, 1, 1)</text>\n</g>\n<!-- 139652280607568&#45;&gt;139652282336816 -->\n<g id=\"edge5\" class=\"edge\">\n<title>139652280607568&#45;&gt;139652282336816</title>\n<path fill=\"none\" stroke=\"black\" d=\"M889.73,-194.3C899.61,-183.85 916.36,-166.14 928.34,-153.47\"/>\n</g>\n<!-- 139652280605696 -->\n<g id=\"node187\" class=\"node\">\n<title>139652280605696</title>\n<polygon fill=\"lightgrey\" stroke=\"black\" points=\"1034,-86 933,-86 933,-67 1034,-67 1034,-86\"/>\n<text text-anchor=\"middle\" x=\"983.5\" y=\"-74\" font-family=\"monospace\" font-size=\"10.00\">AccumulateGrad</text>\n</g>\n<!-- 139652282336816&#45;&gt;139652280605696 -->\n<g id=\"edge216\" class=\"edge\">\n<title>139652282336816&#45;&gt;139652280605696</title>\n<path fill=\"none\" stroke=\"black\" d=\"M952.63,-121.92C958.41,-113.61 965.67,-103.16 971.7,-94.48\"/>\n<polygon fill=\"black\" stroke=\"black\" points=\"974.59,-96.46 977.42,-86.25 968.84,-92.46 974.59,-96.46\"/>\n</g>\n<!-- 139652280607520 -->\n<g id=\"node8\" class=\"node\">\n<title>139652280607520</title>\n<polygon fill=\"lightgrey\" stroke=\"black\" points=\"1012,-274 887,-274 887,-255 1012,-255 1012,-274\"/>\n<text text-anchor=\"middle\" x=\"949.5\" y=\"-262\" font-family=\"monospace\" font-size=\"10.00\">AvgPool2DBackward0</text>\n</g>\n<!-- 139652280607520&#45;&gt;139652280607568 -->\n<g id=\"edge6\" class=\"edge\">\n<title>139652280607520&#45;&gt;139652280607568</title>\n<path fill=\"none\" stroke=\"black\" d=\"M939.47,-254.87C928.92,-245.8 912.11,-231.34 899.31,-220.32\"/>\n<polygon fill=\"black\" stroke=\"black\" points=\"901.44,-217.54 891.57,-213.67 896.87,-222.84 901.44,-217.54\"/>\n</g>\n<!-- 139652280640240 -->\n<g id=\"node9\" class=\"node\">\n<title>139652280640240</title>\n<polygon fill=\"orange\" stroke=\"black\" points=\"1069,-219 968,-219 968,-189 1069,-189 1069,-219\"/>\n<text text-anchor=\"middle\" x=\"1018.5\" y=\"-207\" font-family=\"monospace\" font-size=\"10.00\">self</text>\n<text text-anchor=\"middle\" x=\"1018.5\" y=\"-196\" font-family=\"monospace\" font-size=\"10.00\"> (1, 32, 8, 8)</text>\n</g>\n<!-- 139652280607520&#45;&gt;139652280640240 -->\n<g id=\"edge7\" class=\"edge\">\n<title>139652280607520&#45;&gt;139652280640240</title>\n<path fill=\"none\" stroke=\"black\" d=\"M959.68,-254.87C970.78,-245.46 988.7,-230.26 1001.85,-219.11\"/>\n</g>\n<!-- 139652280609632 -->\n<g id=\"node10\" class=\"node\">\n<title>139652280609632</title>\n<polygon fill=\"lightgrey\" stroke=\"black\" points=\"994,-335 905,-335 905,-316 994,-316 994,-335\"/>\n<text text-anchor=\"middle\" x=\"949.5\" y=\"-323\" font-family=\"monospace\" font-size=\"10.00\">AddBackward0</text>\n</g>\n<!-- 139652280609632&#45;&gt;139652280607520 -->\n<g id=\"edge8\" class=\"edge\">\n<title>139652280609632&#45;&gt;139652280607520</title>\n<path fill=\"none\" stroke=\"black\" d=\"M949.5,-315.79C949.5,-307.6 949.5,-295.06 949.5,-284.55\"/>\n<polygon fill=\"black\" stroke=\"black\" points=\"953,-284.24 949.5,-274.24 946,-284.24 953,-284.24\"/>\n</g>\n<!-- 139652280606944 -->\n<g id=\"node11\" class=\"node\">\n<title>139652280606944</title>\n<polygon fill=\"lightgrey\" stroke=\"black\" points=\"1175,-401.5 1014,-401.5 1014,-382.5 1175,-382.5 1175,-401.5\"/>\n<text text-anchor=\"middle\" x=\"1094.5\" y=\"-389.5\" font-family=\"monospace\" font-size=\"10.00\">NativeGroupNormBackward0</text>\n</g>\n<!-- 139652280606944&#45;&gt;139652280609632 -->\n<g id=\"edge9\" class=\"edge\">\n<title>139652280606944&#45;&gt;139652280609632</title>\n<path fill=\"none\" stroke=\"black\" d=\"M1075.25,-382.43C1050.44,-371.4 1007.09,-352.12 978.34,-339.33\"/>\n<polygon fill=\"black\" stroke=\"black\" points=\"979.39,-335.97 968.83,-335.1 976.55,-342.36 979.39,-335.97\"/>\n</g>\n<!-- 139652280640800 -->\n<g id=\"node12\" class=\"node\">\n<title>139652280640800</title>\n<polygon fill=\"orange\" stroke=\"black\" points=\"1224,-340.5 1123,-340.5 1123,-310.5 1224,-310.5 1224,-340.5\"/>\n<text text-anchor=\"middle\" x=\"1173.5\" y=\"-328.5\" font-family=\"monospace\" font-size=\"10.00\">input</text>\n<text text-anchor=\"middle\" x=\"1173.5\" y=\"-317.5\" font-family=\"monospace\" font-size=\"10.00\"> (1, 32, 8, 8)</text>\n</g>\n<!-- 139652280606944&#45;&gt;139652280640800 -->\n<g id=\"edge10\" class=\"edge\">\n<title>139652280606944&#45;&gt;139652280640800</title>\n<path fill=\"none\" stroke=\"black\" d=\"M1105.15,-382.3C1118.21,-371.64 1140.51,-353.43 1156.08,-340.73\"/>\n</g>\n<!-- 139652281650208 -->\n<g id=\"node13\" class=\"node\">\n<title>139652281650208</title>\n<polygon fill=\"orange\" stroke=\"black\" points=\"1307,-340.5 1242,-340.5 1242,-310.5 1307,-310.5 1307,-340.5\"/>\n<text text-anchor=\"middle\" x=\"1274.5\" y=\"-328.5\" font-family=\"monospace\" font-size=\"10.00\">result1</text>\n<text text-anchor=\"middle\" x=\"1274.5\" y=\"-317.5\" font-family=\"monospace\" font-size=\"10.00\"> (1, 32)</text>\n</g>\n<!-- 139652280606944&#45;&gt;139652281650208 -->\n<g id=\"edge11\" class=\"edge\">\n<title>139652280606944&#45;&gt;139652281650208</title>\n<path fill=\"none\" stroke=\"black\" d=\"M1118.4,-382.43C1150.15,-371.06 1206.36,-350.92 1241.96,-338.16\"/>\n</g>\n<!-- 139652281650928 -->\n<g id=\"node14\" class=\"node\">\n<title>139652281650928</title>\n<polygon fill=\"orange\" stroke=\"black\" points=\"1390,-340.5 1325,-340.5 1325,-310.5 1390,-310.5 1390,-340.5\"/>\n<text text-anchor=\"middle\" x=\"1357.5\" y=\"-328.5\" font-family=\"monospace\" font-size=\"10.00\">result2</text>\n<text text-anchor=\"middle\" x=\"1357.5\" y=\"-317.5\" font-family=\"monospace\" font-size=\"10.00\"> (1, 32)</text>\n</g>\n<!-- 139652280606944&#45;&gt;139652281650928 -->\n<g id=\"edge12\" class=\"edge\">\n<title>139652280606944&#45;&gt;139652281650928</title>\n<path fill=\"none\" stroke=\"black\" d=\"M1139.54,-382.48C1184.68,-373.57 1255.95,-358.46 1316.5,-341 1319.26,-340.21 1322.1,-339.33 1324.94,-338.41\"/>\n</g>\n<!-- 139652280636720 -->\n<g id=\"node15\" class=\"node\">\n<title>139652280636720</title>\n<polygon fill=\"lightblue\" stroke=\"black\" points=\"1066.5,-341 1012.5,-341 1012.5,-310 1066.5,-310 1066.5,-341\"/>\n<text text-anchor=\"middle\" x=\"1039.5\" y=\"-317\" font-family=\"monospace\" font-size=\"10.00\"> (32)</text>\n</g>\n<!-- 139652280606944&#45;&gt;139652280636720 -->\n<g id=\"edge13\" class=\"edge\">\n<title>139652280606944&#45;&gt;139652280636720</title>\n<path fill=\"none\" stroke=\"black\" d=\"M1087.08,-382.3C1078.17,-371.85 1063.07,-354.14 1052.27,-341.47\"/>\n</g>\n<!-- 139652280609776 -->\n<g id=\"node184\" class=\"node\">\n<title>139652280609776</title>\n<polygon fill=\"lightgrey\" stroke=\"black\" points=\"1138,-274 1037,-274 1037,-255 1138,-255 1138,-274\"/>\n<text text-anchor=\"middle\" x=\"1087.5\" y=\"-262\" font-family=\"monospace\" font-size=\"10.00\">AccumulateGrad</text>\n</g>\n<!-- 139652280636720&#45;&gt;139652280609776 -->\n<g id=\"edge211\" class=\"edge\">\n<title>139652280636720&#45;&gt;139652280609776</title>\n<path fill=\"none\" stroke=\"black\" d=\"M1051.37,-309.92C1058.19,-301.52 1066.8,-290.94 1073.9,-282.21\"/>\n<polygon fill=\"black\" stroke=\"black\" points=\"1076.79,-284.22 1080.38,-274.25 1071.36,-279.8 1076.79,-284.22\"/>\n</g>\n<!-- 139652280607040 -->\n<g id=\"node16\" class=\"node\">\n<title>139652280607040</title>\n<polygon fill=\"lightgrey\" stroke=\"black\" points=\"1234,-468 1139,-468 1139,-449 1234,-449 1234,-468\"/>\n<text text-anchor=\"middle\" x=\"1186.5\" y=\"-456\" font-family=\"monospace\" font-size=\"10.00\">ReluBackward0</text>\n</g>\n<!-- 139652280607040&#45;&gt;139652280606944 -->\n<g id=\"edge14\" class=\"edge\">\n<title>139652280607040&#45;&gt;139652280606944</title>\n<path fill=\"none\" stroke=\"black\" d=\"M1174.09,-448.8C1158.92,-438.16 1133.02,-420.01 1114.9,-407.3\"/>\n<polygon fill=\"black\" stroke=\"black\" points=\"1116.91,-404.44 1106.71,-401.56 1112.89,-410.17 1116.91,-404.44\"/>\n</g>\n<!-- 139652305441296 -->\n<g id=\"node17\" class=\"node\">\n<title>139652305441296</title>\n<polygon fill=\"orange\" stroke=\"black\" points=\"1294,-407 1193,-407 1193,-377 1294,-377 1294,-407\"/>\n<text text-anchor=\"middle\" x=\"1243.5\" y=\"-395\" font-family=\"monospace\" font-size=\"10.00\">result</text>\n<text text-anchor=\"middle\" x=\"1243.5\" y=\"-384\" font-family=\"monospace\" font-size=\"10.00\"> (1, 32, 8, 8)</text>\n</g>\n<!-- 139652280607040&#45;&gt;139652305441296 -->\n<g id=\"edge15\" class=\"edge\">\n<title>139652280607040&#45;&gt;139652305441296</title>\n<path fill=\"none\" stroke=\"black\" d=\"M1194.19,-448.8C1203.55,-438.21 1219.49,-420.17 1230.71,-407.47\"/>\n</g>\n<!-- 139652280613280 -->\n<g id=\"node18\" class=\"node\">\n<title>139652280613280</title>\n<polygon fill=\"lightgrey\" stroke=\"black\" points=\"1371,-535 1234,-535 1234,-516 1371,-516 1371,-535\"/>\n<text text-anchor=\"middle\" x=\"1302.5\" y=\"-523\" font-family=\"monospace\" font-size=\"10.00\">ConvolutionBackward0</text>\n</g>\n<!-- 139652280613280&#45;&gt;139652280607040 -->\n<g id=\"edge16\" class=\"edge\">\n<title>139652280613280&#45;&gt;139652280607040</title>\n<path fill=\"none\" stroke=\"black\" d=\"M1286.86,-515.73C1267.29,-504.77 1233.58,-485.88 1210.68,-473.05\"/>\n<polygon fill=\"black\" stroke=\"black\" points=\"1212.33,-469.96 1201.9,-468.13 1208.91,-476.07 1212.33,-469.96\"/>\n</g>\n<!-- 139652280639360 -->\n<g id=\"node19\" class=\"node\">\n<title>139652280639360</title>\n<polygon fill=\"orange\" stroke=\"black\" points=\"1353,-473.5 1252,-473.5 1252,-443.5 1353,-443.5 1353,-473.5\"/>\n<text text-anchor=\"middle\" x=\"1302.5\" y=\"-461.5\" font-family=\"monospace\" font-size=\"10.00\">input</text>\n<text text-anchor=\"middle\" x=\"1302.5\" y=\"-450.5\" font-family=\"monospace\" font-size=\"10.00\"> (1, 32, 8, 8)</text>\n</g>\n<!-- 139652280613280&#45;&gt;139652280639360 -->\n<g id=\"edge17\" class=\"edge\">\n<title>139652280613280&#45;&gt;139652280639360</title>\n<path fill=\"none\" stroke=\"black\" d=\"M1302.5,-515.73C1302.5,-504.92 1302.5,-486.41 1302.5,-473.59\"/>\n</g>\n<!-- 139652280636640 -->\n<g id=\"node20\" class=\"node\">\n<title>139652280636640</title>\n<polygon fill=\"lightblue\" stroke=\"black\" points=\"1478,-474 1371,-474 1371,-443 1478,-443 1478,-474\"/>\n<text text-anchor=\"middle\" x=\"1424.5\" y=\"-450\" font-family=\"monospace\" font-size=\"10.00\"> (32, 32, 3, 3)</text>\n</g>\n<!-- 139652280613280&#45;&gt;139652280636640 -->\n<g id=\"edge18\" class=\"edge\">\n<title>139652280613280&#45;&gt;139652280636640</title>\n<path fill=\"none\" stroke=\"black\" d=\"M1318.7,-515.87C1338.66,-505.23 1372.9,-486.99 1397,-474.15\"/>\n</g>\n<!-- 139652280609296 -->\n<g id=\"node183\" class=\"node\">\n<title>139652280609296</title>\n<polygon fill=\"lightgrey\" stroke=\"black\" points=\"1516,-401.5 1415,-401.5 1415,-382.5 1516,-382.5 1516,-401.5\"/>\n<text text-anchor=\"middle\" x=\"1465.5\" y=\"-389.5\" font-family=\"monospace\" font-size=\"10.00\">AccumulateGrad</text>\n</g>\n<!-- 139652280636640&#45;&gt;139652280609296 -->\n<g id=\"edge209\" class=\"edge\">\n<title>139652280636640&#45;&gt;139652280609296</title>\n<path fill=\"none\" stroke=\"black\" d=\"M1433.8,-442.86C1439.95,-433.19 1448.04,-420.46 1454.51,-410.29\"/>\n<polygon fill=\"black\" stroke=\"black\" points=\"1457.48,-412.14 1459.89,-401.82 1451.57,-408.38 1457.48,-412.14\"/>\n</g>\n<!-- 139652280609488 -->\n<g id=\"node21\" class=\"node\">\n<title>139652280609488</title>\n<polygon fill=\"lightgrey\" stroke=\"black\" points=\"1621,-601.5 1460,-601.5 1460,-582.5 1621,-582.5 1621,-601.5\"/>\n<text text-anchor=\"middle\" x=\"1540.5\" y=\"-589.5\" font-family=\"monospace\" font-size=\"10.00\">NativeGroupNormBackward0</text>\n</g>\n<!-- 139652280609488&#45;&gt;139652280613280 -->\n<g id=\"edge19\" class=\"edge\">\n<title>139652280609488&#45;&gt;139652280613280</title>\n<path fill=\"none\" stroke=\"black\" d=\"M1508.9,-582.43C1466.49,-570.94 1391.07,-550.5 1344.09,-537.77\"/>\n<polygon fill=\"black\" stroke=\"black\" points=\"1344.8,-534.34 1334.24,-535.1 1342.97,-541.09 1344.8,-534.34\"/>\n</g>\n<!-- 139652280640960 -->\n<g id=\"node22\" class=\"node\">\n<title>139652280640960</title>\n<polygon fill=\"orange\" stroke=\"black\" points=\"1490,-540.5 1389,-540.5 1389,-510.5 1490,-510.5 1490,-540.5\"/>\n<text text-anchor=\"middle\" x=\"1439.5\" y=\"-528.5\" font-family=\"monospace\" font-size=\"10.00\">input</text>\n<text text-anchor=\"middle\" x=\"1439.5\" y=\"-517.5\" font-family=\"monospace\" font-size=\"10.00\"> (1, 32, 8, 8)</text>\n</g>\n<!-- 139652280609488&#45;&gt;139652280640960 -->\n<g id=\"edge20\" class=\"edge\">\n<title>139652280609488&#45;&gt;139652280640960</title>\n<path fill=\"none\" stroke=\"black\" d=\"M1526.88,-582.3C1510.19,-571.64 1481.68,-553.43 1461.78,-540.73\"/>\n</g>\n<!-- 139652280640720 -->\n<g id=\"node23\" class=\"node\">\n<title>139652280640720</title>\n<polygon fill=\"orange\" stroke=\"black\" points=\"1573,-540.5 1508,-540.5 1508,-510.5 1573,-510.5 1573,-540.5\"/>\n<text text-anchor=\"middle\" x=\"1540.5\" y=\"-528.5\" font-family=\"monospace\" font-size=\"10.00\">result1</text>\n<text text-anchor=\"middle\" x=\"1540.5\" y=\"-517.5\" font-family=\"monospace\" font-size=\"10.00\"> (1, 32)</text>\n</g>\n<!-- 139652280609488&#45;&gt;139652280640720 -->\n<g id=\"edge21\" class=\"edge\">\n<title>139652280609488&#45;&gt;139652280640720</title>\n<path fill=\"none\" stroke=\"black\" d=\"M1540.5,-582.3C1540.5,-571.71 1540.5,-553.67 1540.5,-540.97\"/>\n</g>\n<!-- 139652280636960 -->\n<g id=\"node24\" class=\"node\">\n<title>139652280636960</title>\n<polygon fill=\"orange\" stroke=\"black\" points=\"1656,-540.5 1591,-540.5 1591,-510.5 1656,-510.5 1656,-540.5\"/>\n<text text-anchor=\"middle\" x=\"1623.5\" y=\"-528.5\" font-family=\"monospace\" font-size=\"10.00\">result2</text>\n<text text-anchor=\"middle\" x=\"1623.5\" y=\"-517.5\" font-family=\"monospace\" font-size=\"10.00\"> (1, 32)</text>\n</g>\n<!-- 139652280609488&#45;&gt;139652280636960 -->\n<g id=\"edge22\" class=\"edge\">\n<title>139652280609488&#45;&gt;139652280636960</title>\n<path fill=\"none\" stroke=\"black\" d=\"M1551.69,-582.3C1565.41,-571.64 1588.84,-553.43 1605.19,-540.73\"/>\n</g>\n<!-- 139652280636560 -->\n<g id=\"node25\" class=\"node\">\n<title>139652280636560</title>\n<polygon fill=\"lightblue\" stroke=\"black\" points=\"1728.5,-541 1674.5,-541 1674.5,-510 1728.5,-510 1728.5,-541\"/>\n<text text-anchor=\"middle\" x=\"1701.5\" y=\"-517\" font-family=\"monospace\" font-size=\"10.00\"> (32)</text>\n</g>\n<!-- 139652280609488&#45;&gt;139652280636560 -->\n<g id=\"edge23\" class=\"edge\">\n<title>139652280609488&#45;&gt;139652280636560</title>\n<path fill=\"none\" stroke=\"black\" d=\"M1562.18,-582.34C1587.12,-572.39 1629.28,-555.54 1665.5,-541 1668.38,-539.85 1671.38,-538.64 1674.38,-537.43\"/>\n</g>\n<!-- 139652280606128 -->\n<g id=\"node180\" class=\"node\">\n<title>139652280606128</title>\n<polygon fill=\"lightgrey\" stroke=\"black\" points=\"1779,-468 1678,-468 1678,-449 1779,-449 1779,-468\"/>\n<text text-anchor=\"middle\" x=\"1728.5\" y=\"-456\" font-family=\"monospace\" font-size=\"10.00\">AccumulateGrad</text>\n</g>\n<!-- 139652280636560&#45;&gt;139652280606128 -->\n<g id=\"edge205\" class=\"edge\">\n<title>139652280636560&#45;&gt;139652280606128</title>\n<path fill=\"none\" stroke=\"black\" d=\"M1707.63,-509.75C1711.6,-500.19 1716.8,-487.67 1721.02,-477.52\"/>\n<polygon fill=\"black\" stroke=\"black\" points=\"1724.36,-478.6 1724.96,-468.02 1717.89,-475.91 1724.36,-478.6\"/>\n</g>\n<!-- 139652280607424 -->\n<g id=\"node26\" class=\"node\">\n<title>139652280607424</title>\n<polygon fill=\"lightgrey\" stroke=\"black\" points=\"1616,-668 1521,-668 1521,-649 1616,-649 1616,-668\"/>\n<text text-anchor=\"middle\" x=\"1568.5\" y=\"-656\" font-family=\"monospace\" font-size=\"10.00\">ReluBackward0</text>\n</g>\n<!-- 139652280607424&#45;&gt;139652280609488 -->\n<g id=\"edge24\" class=\"edge\">\n<title>139652280607424&#45;&gt;139652280609488</title>\n<path fill=\"none\" stroke=\"black\" d=\"M1564.72,-648.8C1560.53,-639.13 1553.63,-623.25 1548.27,-610.89\"/>\n<polygon fill=\"black\" stroke=\"black\" points=\"1551.41,-609.34 1544.22,-601.56 1544.99,-612.13 1551.41,-609.34\"/>\n</g>\n<!-- 139652280640400 -->\n<g id=\"node27\" class=\"node\">\n<title>139652280640400</title>\n<polygon fill=\"orange\" stroke=\"black\" points=\"1740,-607 1639,-607 1639,-577 1740,-577 1740,-607\"/>\n<text text-anchor=\"middle\" x=\"1689.5\" y=\"-595\" font-family=\"monospace\" font-size=\"10.00\">result</text>\n<text text-anchor=\"middle\" x=\"1689.5\" y=\"-584\" font-family=\"monospace\" font-size=\"10.00\"> (1, 32, 8, 8)</text>\n</g>\n<!-- 139652280607424&#45;&gt;139652280640400 -->\n<g id=\"edge25\" class=\"edge\">\n<title>139652280607424&#45;&gt;139652280640400</title>\n<path fill=\"none\" stroke=\"black\" d=\"M1584.82,-648.8C1604.82,-638.14 1638.97,-619.93 1662.81,-607.23\"/>\n</g>\n<!-- 139652280605168 -->\n<g id=\"node28\" class=\"node\">\n<title>139652280605168</title>\n<polygon fill=\"lightgrey\" stroke=\"black\" points=\"1753,-735 1616,-735 1616,-716 1753,-716 1753,-735\"/>\n<text text-anchor=\"middle\" x=\"1684.5\" y=\"-723\" font-family=\"monospace\" font-size=\"10.00\">ConvolutionBackward0</text>\n</g>\n<!-- 139652280605168&#45;&gt;139652280607424 -->\n<g id=\"edge26\" class=\"edge\">\n<title>139652280605168&#45;&gt;139652280607424</title>\n<path fill=\"none\" stroke=\"black\" d=\"M1668.86,-715.73C1649.29,-704.77 1615.58,-685.88 1592.68,-673.05\"/>\n<polygon fill=\"black\" stroke=\"black\" points=\"1594.33,-669.96 1583.9,-668.13 1590.91,-676.07 1594.33,-669.96\"/>\n</g>\n<!-- 139652280639600 -->\n<g id=\"node29\" class=\"node\">\n<title>139652280639600</title>\n<polygon fill=\"orange\" stroke=\"black\" points=\"1735,-673.5 1634,-673.5 1634,-643.5 1735,-643.5 1735,-673.5\"/>\n<text text-anchor=\"middle\" x=\"1684.5\" y=\"-661.5\" font-family=\"monospace\" font-size=\"10.00\">input</text>\n<text text-anchor=\"middle\" x=\"1684.5\" y=\"-650.5\" font-family=\"monospace\" font-size=\"10.00\"> (1, 32, 8, 8)</text>\n</g>\n<!-- 139652280605168&#45;&gt;139652280639600 -->\n<g id=\"edge27\" class=\"edge\">\n<title>139652280605168&#45;&gt;139652280639600</title>\n<path fill=\"none\" stroke=\"black\" d=\"M1684.5,-715.73C1684.5,-704.92 1684.5,-686.41 1684.5,-673.59\"/>\n</g>\n<!-- 139652280636320 -->\n<g id=\"node30\" class=\"node\">\n<title>139652280636320</title>\n<polygon fill=\"lightblue\" stroke=\"black\" points=\"1860,-674 1753,-674 1753,-643 1860,-643 1860,-674\"/>\n<text text-anchor=\"middle\" x=\"1806.5\" y=\"-650\" font-family=\"monospace\" font-size=\"10.00\"> (32, 32, 3, 3)</text>\n</g>\n<!-- 139652280605168&#45;&gt;139652280636320 -->\n<g id=\"edge28\" class=\"edge\">\n<title>139652280605168&#45;&gt;139652280636320</title>\n<path fill=\"none\" stroke=\"black\" d=\"M1700.7,-715.87C1720.66,-705.23 1754.9,-686.99 1779,-674.15\"/>\n</g>\n<!-- 139652280605120 -->\n<g id=\"node179\" class=\"node\">\n<title>139652280605120</title>\n<polygon fill=\"lightgrey\" stroke=\"black\" points=\"1885,-601.5 1784,-601.5 1784,-582.5 1885,-582.5 1885,-601.5\"/>\n<text text-anchor=\"middle\" x=\"1834.5\" y=\"-589.5\" font-family=\"monospace\" font-size=\"10.00\">AccumulateGrad</text>\n</g>\n<!-- 139652280636320&#45;&gt;139652280605120 -->\n<g id=\"edge203\" class=\"edge\">\n<title>139652280636320&#45;&gt;139652280605120</title>\n<path fill=\"none\" stroke=\"black\" d=\"M1812.85,-642.86C1816.93,-633.48 1822.24,-621.24 1826.59,-611.23\"/>\n<polygon fill=\"black\" stroke=\"black\" points=\"1829.9,-612.39 1830.67,-601.82 1823.48,-609.6 1829.9,-612.39\"/>\n</g>\n<!-- 139652280605312 -->\n<g id=\"node31\" class=\"node\">\n<title>139652280605312</title>\n<polygon fill=\"lightgrey\" stroke=\"black\" points=\"2003,-801.5 1842,-801.5 1842,-782.5 2003,-782.5 2003,-801.5\"/>\n<text text-anchor=\"middle\" x=\"1922.5\" y=\"-789.5\" font-family=\"monospace\" font-size=\"10.00\">NativeGroupNormBackward0</text>\n</g>\n<!-- 139652280605312&#45;&gt;139652280605168 -->\n<g id=\"edge29\" class=\"edge\">\n<title>139652280605312&#45;&gt;139652280605168</title>\n<path fill=\"none\" stroke=\"black\" d=\"M1890.9,-782.43C1848.49,-770.94 1773.07,-750.5 1726.09,-737.77\"/>\n<polygon fill=\"black\" stroke=\"black\" points=\"1726.8,-734.34 1716.24,-735.1 1724.97,-741.09 1726.8,-734.34\"/>\n</g>\n<!-- 139652280640480 -->\n<g id=\"node32\" class=\"node\">\n<title>139652280640480</title>\n<polygon fill=\"orange\" stroke=\"black\" points=\"1872,-740.5 1771,-740.5 1771,-710.5 1872,-710.5 1872,-740.5\"/>\n<text text-anchor=\"middle\" x=\"1821.5\" y=\"-728.5\" font-family=\"monospace\" font-size=\"10.00\">input</text>\n<text text-anchor=\"middle\" x=\"1821.5\" y=\"-717.5\" font-family=\"monospace\" font-size=\"10.00\"> (1, 32, 8, 8)</text>\n</g>\n<!-- 139652280605312&#45;&gt;139652280640480 -->\n<g id=\"edge30\" class=\"edge\">\n<title>139652280605312&#45;&gt;139652280640480</title>\n<path fill=\"none\" stroke=\"black\" d=\"M1908.88,-782.3C1892.19,-771.64 1863.68,-753.43 1843.78,-740.73\"/>\n</g>\n<!-- 139652280641280 -->\n<g id=\"node33\" class=\"node\">\n<title>139652280641280</title>\n<polygon fill=\"orange\" stroke=\"black\" points=\"1955,-740.5 1890,-740.5 1890,-710.5 1955,-710.5 1955,-740.5\"/>\n<text text-anchor=\"middle\" x=\"1922.5\" y=\"-728.5\" font-family=\"monospace\" font-size=\"10.00\">result1</text>\n<text text-anchor=\"middle\" x=\"1922.5\" y=\"-717.5\" font-family=\"monospace\" font-size=\"10.00\"> (1, 32)</text>\n</g>\n<!-- 139652280605312&#45;&gt;139652280641280 -->\n<g id=\"edge31\" class=\"edge\">\n<title>139652280605312&#45;&gt;139652280641280</title>\n<path fill=\"none\" stroke=\"black\" d=\"M1922.5,-782.3C1922.5,-771.71 1922.5,-753.67 1922.5,-740.97\"/>\n</g>\n<!-- 139652280640560 -->\n<g id=\"node34\" class=\"node\">\n<title>139652280640560</title>\n<polygon fill=\"orange\" stroke=\"black\" points=\"2038,-740.5 1973,-740.5 1973,-710.5 2038,-710.5 2038,-740.5\"/>\n<text text-anchor=\"middle\" x=\"2005.5\" y=\"-728.5\" font-family=\"monospace\" font-size=\"10.00\">result2</text>\n<text text-anchor=\"middle\" x=\"2005.5\" y=\"-717.5\" font-family=\"monospace\" font-size=\"10.00\"> (1, 32)</text>\n</g>\n<!-- 139652280605312&#45;&gt;139652280640560 -->\n<g id=\"edge32\" class=\"edge\">\n<title>139652280605312&#45;&gt;139652280640560</title>\n<path fill=\"none\" stroke=\"black\" d=\"M1933.69,-782.3C1947.41,-771.64 1970.84,-753.43 1987.19,-740.73\"/>\n</g>\n<!-- 139652280635600 -->\n<g id=\"node35\" class=\"node\">\n<title>139652280635600</title>\n<polygon fill=\"lightblue\" stroke=\"black\" points=\"2110.5,-741 2056.5,-741 2056.5,-710 2110.5,-710 2110.5,-741\"/>\n<text text-anchor=\"middle\" x=\"2083.5\" y=\"-717\" font-family=\"monospace\" font-size=\"10.00\"> (32)</text>\n</g>\n<!-- 139652280605312&#45;&gt;139652280635600 -->\n<g id=\"edge33\" class=\"edge\">\n<title>139652280605312&#45;&gt;139652280635600</title>\n<path fill=\"none\" stroke=\"black\" d=\"M1944.18,-782.34C1969.12,-772.39 2011.28,-755.54 2047.5,-741 2050.38,-739.85 2053.38,-738.64 2056.38,-737.43\"/>\n</g>\n<!-- 139652280605456 -->\n<g id=\"node176\" class=\"node\">\n<title>139652280605456</title>\n<polygon fill=\"lightgrey\" stroke=\"black\" points=\"2161,-668 2060,-668 2060,-649 2161,-649 2161,-668\"/>\n<text text-anchor=\"middle\" x=\"2110.5\" y=\"-656\" font-family=\"monospace\" font-size=\"10.00\">AccumulateGrad</text>\n</g>\n<!-- 139652280635600&#45;&gt;139652280605456 -->\n<g id=\"edge199\" class=\"edge\">\n<title>139652280635600&#45;&gt;139652280605456</title>\n<path fill=\"none\" stroke=\"black\" d=\"M2089.63,-709.75C2093.6,-700.19 2098.8,-687.67 2103.02,-677.52\"/>\n<polygon fill=\"black\" stroke=\"black\" points=\"2106.36,-678.6 2106.96,-668.02 2099.89,-675.91 2106.36,-678.6\"/>\n</g>\n<!-- 139652280605408 -->\n<g id=\"node36\" class=\"node\">\n<title>139652280605408</title>\n<polygon fill=\"lightgrey\" stroke=\"black\" points=\"1676,-868 1581,-868 1581,-849 1676,-849 1676,-868\"/>\n<text text-anchor=\"middle\" x=\"1628.5\" y=\"-856\" font-family=\"monospace\" font-size=\"10.00\">ReluBackward0</text>\n</g>\n<!-- 139652280605408&#45;&gt;139652280605312 -->\n<g id=\"edge34\" class=\"edge\">\n<title>139652280605408&#45;&gt;139652280605312</title>\n<path fill=\"none\" stroke=\"black\" d=\"M1667.54,-848.93C1720.59,-837.3 1815.44,-816.49 1873.29,-803.8\"/>\n<polygon fill=\"black\" stroke=\"black\" points=\"1874.28,-807.16 1883.3,-801.6 1872.78,-800.32 1874.28,-807.16\"/>\n</g>\n<!-- 139652280640320 -->\n<g id=\"node37\" class=\"node\">\n<title>139652280640320</title>\n<polygon fill=\"orange\" stroke=\"black\" points=\"1679,-807 1578,-807 1578,-777 1679,-777 1679,-807\"/>\n<text text-anchor=\"middle\" x=\"1628.5\" y=\"-795\" font-family=\"monospace\" font-size=\"10.00\">result</text>\n<text text-anchor=\"middle\" x=\"1628.5\" y=\"-784\" font-family=\"monospace\" font-size=\"10.00\"> (1, 32, 8, 8)</text>\n</g>\n<!-- 139652280605408&#45;&gt;139652280640320 -->\n<g id=\"edge35\" class=\"edge\">\n<title>139652280605408&#45;&gt;139652280640320</title>\n<path fill=\"none\" stroke=\"black\" d=\"M1628.5,-848.8C1628.5,-838.21 1628.5,-820.17 1628.5,-807.47\"/>\n</g>\n<!-- 139652280604208 -->\n<g id=\"node38\" class=\"node\">\n<title>139652280604208</title>\n<polygon fill=\"lightgrey\" stroke=\"black\" points=\"1397,-935 1260,-935 1260,-916 1397,-916 1397,-935\"/>\n<text text-anchor=\"middle\" x=\"1328.5\" y=\"-923\" font-family=\"monospace\" font-size=\"10.00\">ConvolutionBackward0</text>\n</g>\n<!-- 139652280604208&#45;&gt;139652280605408 -->\n<g id=\"edge36\" class=\"edge\">\n<title>139652280604208&#45;&gt;139652280605408</title>\n<path fill=\"none\" stroke=\"black\" d=\"M1368.03,-915.94C1422.32,-904.17 1519.96,-883.02 1579.03,-870.22\"/>\n<polygon fill=\"black\" stroke=\"black\" points=\"1579.85,-873.62 1588.88,-868.08 1578.37,-866.78 1579.85,-873.62\"/>\n</g>\n<!-- 139652280639840 -->\n<g id=\"node39\" class=\"node\">\n<title>139652280639840</title>\n<polygon fill=\"orange\" stroke=\"black\" points=\"1300,-873.5 1199,-873.5 1199,-843.5 1300,-843.5 1300,-873.5\"/>\n<text text-anchor=\"middle\" x=\"1249.5\" y=\"-861.5\" font-family=\"monospace\" font-size=\"10.00\">input</text>\n<text text-anchor=\"middle\" x=\"1249.5\" y=\"-850.5\" font-family=\"monospace\" font-size=\"10.00\"> (1, 32, 8, 8)</text>\n</g>\n<!-- 139652280604208&#45;&gt;139652280639840 -->\n<g id=\"edge37\" class=\"edge\">\n<title>139652280604208&#45;&gt;139652280639840</title>\n<path fill=\"none\" stroke=\"black\" d=\"M1317.85,-915.73C1304.71,-904.92 1282.2,-886.41 1266.62,-873.59\"/>\n</g>\n<!-- 139652280635680 -->\n<g id=\"node40\" class=\"node\">\n<title>139652280635680</title>\n<polygon fill=\"lightblue\" stroke=\"black\" points=\"1464,-874 1357,-874 1357,-843 1464,-843 1464,-874\"/>\n<text text-anchor=\"middle\" x=\"1410.5\" y=\"-850\" font-family=\"monospace\" font-size=\"10.00\"> (32, 32, 3, 3)</text>\n</g>\n<!-- 139652280604208&#45;&gt;139652280635680 -->\n<g id=\"edge38\" class=\"edge\">\n<title>139652280604208&#45;&gt;139652280635680</title>\n<path fill=\"none\" stroke=\"black\" d=\"M1339.56,-915.73C1353.02,-905.06 1375.96,-886.88 1392.1,-874.08\"/>\n</g>\n<!-- 139652280601760 -->\n<g id=\"node175\" class=\"node\">\n<title>139652280601760</title>\n<polygon fill=\"lightgrey\" stroke=\"black\" points=\"1420,-801.5 1319,-801.5 1319,-782.5 1420,-782.5 1420,-801.5\"/>\n<text text-anchor=\"middle\" x=\"1369.5\" y=\"-789.5\" font-family=\"monospace\" font-size=\"10.00\">AccumulateGrad</text>\n</g>\n<!-- 139652280635680&#45;&gt;139652280601760 -->\n<g id=\"edge197\" class=\"edge\">\n<title>139652280635680&#45;&gt;139652280601760</title>\n<path fill=\"none\" stroke=\"black\" d=\"M1401.2,-842.86C1395.05,-833.19 1386.96,-820.46 1380.49,-810.29\"/>\n<polygon fill=\"black\" stroke=\"black\" points=\"1383.43,-808.38 1375.11,-801.82 1377.52,-812.14 1383.43,-808.38\"/>\n</g>\n<!-- 139652280607088 -->\n<g id=\"node41\" class=\"node\">\n<title>139652280607088</title>\n<polygon fill=\"lightgrey\" stroke=\"black\" points=\"1275,-1002 1186,-1002 1186,-983 1275,-983 1275,-1002\"/>\n<text text-anchor=\"middle\" x=\"1230.5\" y=\"-990\" font-family=\"monospace\" font-size=\"10.00\">AddBackward0</text>\n</g>\n<!-- 139652280607088&#45;&gt;139652280609632 -->\n<g id=\"edge214\" class=\"edge\">\n<title>139652280607088&#45;&gt;139652280609632</title>\n<path fill=\"none\" stroke=\"black\" d=\"M1185.89,-988.95C1110.85,-981.99 967.5,-956.06 967.5,-859.5 967.5,-859.5 967.5,-859.5 967.5,-457.5 967.5,-417.09 958.99,-370.31 953.67,-345.03\"/>\n<polygon fill=\"black\" stroke=\"black\" points=\"957.04,-344.05 951.5,-335.03 950.2,-345.54 957.04,-344.05\"/>\n</g>\n<!-- 139652280607088&#45;&gt;139652280604208 -->\n<g id=\"edge39\" class=\"edge\">\n<title>139652280607088&#45;&gt;139652280604208</title>\n<path fill=\"none\" stroke=\"black\" d=\"M1243.72,-982.73C1259.95,-971.96 1287.72,-953.55 1307.03,-940.74\"/>\n<polygon fill=\"black\" stroke=\"black\" points=\"1309.09,-943.57 1315.49,-935.13 1305.22,-937.74 1309.09,-943.57\"/>\n</g>\n<!-- 139652280602624 -->\n<g id=\"node42\" class=\"node\">\n<title>139652280602624</title>\n<polygon fill=\"lightgrey\" stroke=\"black\" points=\"964,-1068.5 803,-1068.5 803,-1049.5 964,-1049.5 964,-1068.5\"/>\n<text text-anchor=\"middle\" x=\"883.5\" y=\"-1056.5\" font-family=\"monospace\" font-size=\"10.00\">NativeGroupNormBackward0</text>\n</g>\n<!-- 139652280602624&#45;&gt;139652280607088 -->\n<g id=\"edge40\" class=\"edge\">\n<title>139652280602624&#45;&gt;139652280607088</title>\n<path fill=\"none\" stroke=\"black\" d=\"M929.58,-1049.43C993.23,-1037.6 1107.88,-1016.29 1175.8,-1003.67\"/>\n<polygon fill=\"black\" stroke=\"black\" points=\"1176.69,-1007.06 1185.88,-1001.79 1175.41,-1000.18 1176.69,-1007.06\"/>\n</g>\n<!-- 139652280639680 -->\n<g id=\"node43\" class=\"node\">\n<title>139652280639680</title>\n<polygon fill=\"orange\" stroke=\"black\" points=\"1013,-1007.5 912,-1007.5 912,-977.5 1013,-977.5 1013,-1007.5\"/>\n<text text-anchor=\"middle\" x=\"962.5\" y=\"-995.5\" font-family=\"monospace\" font-size=\"10.00\">input</text>\n<text text-anchor=\"middle\" x=\"962.5\" y=\"-984.5\" font-family=\"monospace\" font-size=\"10.00\"> (1, 32, 8, 8)</text>\n</g>\n<!-- 139652280602624&#45;&gt;139652280639680 -->\n<g id=\"edge41\" class=\"edge\">\n<title>139652280602624&#45;&gt;139652280639680</title>\n<path fill=\"none\" stroke=\"black\" d=\"M894.15,-1049.3C907.21,-1038.64 929.51,-1020.43 945.08,-1007.73\"/>\n</g>\n<!-- 139652280641520 -->\n<g id=\"node44\" class=\"node\">\n<title>139652280641520</title>\n<polygon fill=\"orange\" stroke=\"black\" points=\"1096,-1007.5 1031,-1007.5 1031,-977.5 1096,-977.5 1096,-1007.5\"/>\n<text text-anchor=\"middle\" x=\"1063.5\" y=\"-995.5\" font-family=\"monospace\" font-size=\"10.00\">result1</text>\n<text text-anchor=\"middle\" x=\"1063.5\" y=\"-984.5\" font-family=\"monospace\" font-size=\"10.00\"> (1, 32)</text>\n</g>\n<!-- 139652280602624&#45;&gt;139652280641520 -->\n<g id=\"edge42\" class=\"edge\">\n<title>139652280602624&#45;&gt;139652280641520</title>\n<path fill=\"none\" stroke=\"black\" d=\"M907.4,-1049.43C939.15,-1038.06 995.36,-1017.92 1030.96,-1005.16\"/>\n</g>\n<!-- 139652280641040 -->\n<g id=\"node45\" class=\"node\">\n<title>139652280641040</title>\n<polygon fill=\"orange\" stroke=\"black\" points=\"783,-1007.5 718,-1007.5 718,-977.5 783,-977.5 783,-1007.5\"/>\n<text text-anchor=\"middle\" x=\"750.5\" y=\"-995.5\" font-family=\"monospace\" font-size=\"10.00\">result2</text>\n<text text-anchor=\"middle\" x=\"750.5\" y=\"-984.5\" font-family=\"monospace\" font-size=\"10.00\"> (1, 32)</text>\n</g>\n<!-- 139652280602624&#45;&gt;139652280641040 -->\n<g id=\"edge43\" class=\"edge\">\n<title>139652280602624&#45;&gt;139652280641040</title>\n<path fill=\"none\" stroke=\"black\" d=\"M865.84,-1049.43C843.79,-1038.74 805.79,-1020.31 779.46,-1007.54\"/>\n</g>\n<!-- 139652280634400 -->\n<g id=\"node46\" class=\"node\">\n<title>139652280634400</title>\n<polygon fill=\"lightblue\" stroke=\"black\" points=\"855.5,-1008 801.5,-1008 801.5,-977 855.5,-977 855.5,-1008\"/>\n<text text-anchor=\"middle\" x=\"828.5\" y=\"-984\" font-family=\"monospace\" font-size=\"10.00\"> (32)</text>\n</g>\n<!-- 139652280602624&#45;&gt;139652280634400 -->\n<g id=\"edge44\" class=\"edge\">\n<title>139652280602624&#45;&gt;139652280634400</title>\n<path fill=\"none\" stroke=\"black\" d=\"M876.08,-1049.3C867.17,-1038.85 852.07,-1021.14 841.27,-1008.47\"/>\n</g>\n<!-- 139652280602432 -->\n<g id=\"node159\" class=\"node\">\n<title>139652280602432</title>\n<polygon fill=\"lightgrey\" stroke=\"black\" points=\"906,-935 805,-935 805,-916 906,-916 906,-935\"/>\n<text text-anchor=\"middle\" x=\"855.5\" y=\"-923\" font-family=\"monospace\" font-size=\"10.00\">AccumulateGrad</text>\n</g>\n<!-- 139652280634400&#45;&gt;139652280602432 -->\n<g id=\"edge176\" class=\"edge\">\n<title>139652280634400&#45;&gt;139652280602432</title>\n<path fill=\"none\" stroke=\"black\" d=\"M834.63,-976.75C838.6,-967.19 843.8,-954.67 848.02,-944.52\"/>\n<polygon fill=\"black\" stroke=\"black\" points=\"851.36,-945.6 851.96,-935.02 844.89,-942.91 851.36,-945.6\"/>\n</g>\n<!-- 139652280602384 -->\n<g id=\"node47\" class=\"node\">\n<title>139652280602384</title>\n<polygon fill=\"lightgrey\" stroke=\"black\" points=\"797,-1135 702,-1135 702,-1116 797,-1116 797,-1135\"/>\n<text text-anchor=\"middle\" x=\"749.5\" y=\"-1123\" font-family=\"monospace\" font-size=\"10.00\">ReluBackward0</text>\n</g>\n<!-- 139652280602384&#45;&gt;139652280602624 -->\n<g id=\"edge45\" class=\"edge\">\n<title>139652280602384&#45;&gt;139652280602624</title>\n<path fill=\"none\" stroke=\"black\" d=\"M767.29,-1115.93C790.12,-1104.95 829.93,-1085.79 856.5,-1073\"/>\n<polygon fill=\"black\" stroke=\"black\" points=\"858.14,-1076.09 865.63,-1068.6 855.1,-1069.78 858.14,-1076.09\"/>\n</g>\n<!-- 139652280641760 -->\n<g id=\"node48\" class=\"node\">\n<title>139652280641760</title>\n<polygon fill=\"orange\" stroke=\"black\" points=\"785,-1074 684,-1074 684,-1044 785,-1044 785,-1074\"/>\n<text text-anchor=\"middle\" x=\"734.5\" y=\"-1062\" font-family=\"monospace\" font-size=\"10.00\">result</text>\n<text text-anchor=\"middle\" x=\"734.5\" y=\"-1051\" font-family=\"monospace\" font-size=\"10.00\"> (1, 32, 8, 8)</text>\n</g>\n<!-- 139652280602384&#45;&gt;139652280641760 -->\n<g id=\"edge46\" class=\"edge\">\n<title>139652280602384&#45;&gt;139652280641760</title>\n<path fill=\"none\" stroke=\"black\" d=\"M747.48,-1115.8C745.01,-1105.21 740.82,-1087.17 737.87,-1074.47\"/>\n</g>\n<!-- 139652280602192 -->\n<g id=\"node49\" class=\"node\">\n<title>139652280602192</title>\n<polygon fill=\"lightgrey\" stroke=\"black\" points=\"693,-1202 556,-1202 556,-1183 693,-1183 693,-1202\"/>\n<text text-anchor=\"middle\" x=\"624.5\" y=\"-1190\" font-family=\"monospace\" font-size=\"10.00\">ConvolutionBackward0</text>\n</g>\n<!-- 139652280602192&#45;&gt;139652280602384 -->\n<g id=\"edge47\" class=\"edge\">\n<title>139652280602192&#45;&gt;139652280602384</title>\n<path fill=\"none\" stroke=\"black\" d=\"M641.1,-1182.87C662.21,-1171.89 698.88,-1152.82 723.66,-1139.94\"/>\n<polygon fill=\"black\" stroke=\"black\" points=\"725.57,-1142.89 732.83,-1135.17 722.35,-1136.68 725.57,-1142.89\"/>\n</g>\n<!-- 139652280645840 -->\n<g id=\"node50\" class=\"node\">\n<title>139652280645840</title>\n<polygon fill=\"orange\" stroke=\"black\" points=\"684,-1140.5 571,-1140.5 571,-1110.5 684,-1110.5 684,-1140.5\"/>\n<text text-anchor=\"middle\" x=\"627.5\" y=\"-1128.5\" font-family=\"monospace\" font-size=\"10.00\">input</text>\n<text text-anchor=\"middle\" x=\"627.5\" y=\"-1117.5\" font-family=\"monospace\" font-size=\"10.00\"> (1, 16, 18, 18)</text>\n</g>\n<!-- 139652280602192&#45;&gt;139652280645840 -->\n<g id=\"edge48\" class=\"edge\">\n<title>139652280602192&#45;&gt;139652280645840</title>\n<path fill=\"none\" stroke=\"black\" d=\"M624.9,-1182.73C625.4,-1171.92 626.26,-1153.41 626.85,-1140.59\"/>\n</g>\n<!-- 139652280634480 -->\n<g id=\"node51\" class=\"node\">\n<title>139652280634480</title>\n<polygon fill=\"lightblue\" stroke=\"black\" points=\"514,-1141 407,-1141 407,-1110 514,-1110 514,-1141\"/>\n<text text-anchor=\"middle\" x=\"460.5\" y=\"-1117\" font-family=\"monospace\" font-size=\"10.00\"> (32, 16, 3, 3)</text>\n</g>\n<!-- 139652280602192&#45;&gt;139652280634480 -->\n<g id=\"edge49\" class=\"edge\">\n<title>139652280602192&#45;&gt;139652280634480</title>\n<path fill=\"none\" stroke=\"black\" d=\"M602.72,-1182.87C575.8,-1172.2 529.57,-1153.88 497.15,-1141.02\"/>\n</g>\n<!-- 139652280602576 -->\n<g id=\"node158\" class=\"node\">\n<title>139652280602576</title>\n<polygon fill=\"lightgrey\" stroke=\"black\" points=\"552,-1068.5 451,-1068.5 451,-1049.5 552,-1049.5 552,-1068.5\"/>\n<text text-anchor=\"middle\" x=\"501.5\" y=\"-1056.5\" font-family=\"monospace\" font-size=\"10.00\">AccumulateGrad</text>\n</g>\n<!-- 139652280634480&#45;&gt;139652280602576 -->\n<g id=\"edge174\" class=\"edge\">\n<title>139652280634480&#45;&gt;139652280602576</title>\n<path fill=\"none\" stroke=\"black\" d=\"M469.8,-1109.86C475.95,-1100.19 484.04,-1087.46 490.51,-1077.29\"/>\n<polygon fill=\"black\" stroke=\"black\" points=\"493.48,-1079.14 495.89,-1068.82 487.57,-1075.38 493.48,-1079.14\"/>\n</g>\n<!-- 139652280602528 -->\n<g id=\"node52\" class=\"node\">\n<title>139652280602528</title>\n<polygon fill=\"lightgrey\" stroke=\"black\" points=\"817,-1269 680,-1269 680,-1250 817,-1250 817,-1269\"/>\n<text text-anchor=\"middle\" x=\"748.5\" y=\"-1257\" font-family=\"monospace\" font-size=\"10.00\">ConvolutionBackward0</text>\n</g>\n<!-- 139652280602528&#45;&gt;139652280602192 -->\n<g id=\"edge50\" class=\"edge\">\n<title>139652280602528&#45;&gt;139652280602192</title>\n<path fill=\"none\" stroke=\"black\" d=\"M732.03,-1249.87C711.1,-1238.89 674.72,-1219.82 650.14,-1206.94\"/>\n<polygon fill=\"black\" stroke=\"black\" points=\"651.52,-1203.71 641.03,-1202.17 648.27,-1209.91 651.52,-1203.71\"/>\n</g>\n<!-- 139652280640160 -->\n<g id=\"node53\" class=\"node\">\n<title>139652280640160</title>\n<polygon fill=\"orange\" stroke=\"black\" points=\"897,-1207.5 784,-1207.5 784,-1177.5 897,-1177.5 897,-1207.5\"/>\n<text text-anchor=\"middle\" x=\"840.5\" y=\"-1195.5\" font-family=\"monospace\" font-size=\"10.00\">input</text>\n<text text-anchor=\"middle\" x=\"840.5\" y=\"-1184.5\" font-family=\"monospace\" font-size=\"10.00\"> (1, 16, 16, 16)</text>\n</g>\n<!-- 139652280602528&#45;&gt;139652280640160 -->\n<g id=\"edge51\" class=\"edge\">\n<title>139652280602528&#45;&gt;139652280640160</title>\n<path fill=\"none\" stroke=\"black\" d=\"M760.91,-1249.73C776.21,-1238.92 802.42,-1220.41 820.56,-1207.59\"/>\n</g>\n<!-- 139652280634720 -->\n<g id=\"node54\" class=\"node\">\n<title>139652280634720</title>\n<polygon fill=\"lightblue\" stroke=\"black\" points=\"1061,-1208 954,-1208 954,-1177 1061,-1177 1061,-1208\"/>\n<text text-anchor=\"middle\" x=\"1007.5\" y=\"-1184\" font-family=\"monospace\" font-size=\"10.00\"> (16, 16, 1, 1)</text>\n</g>\n<!-- 139652280602528&#45;&gt;139652280634720 -->\n<g id=\"edge52\" class=\"edge\">\n<title>139652280602528&#45;&gt;139652280634720</title>\n<path fill=\"none\" stroke=\"black\" d=\"M782.63,-1249.94C826.31,-1238.97 902.48,-1219.86 953.92,-1206.95\"/>\n</g>\n<!-- 139652280602096 -->\n<g id=\"node157\" class=\"node\">\n<title>139652280602096</title>\n<polygon fill=\"lightgrey\" stroke=\"black\" points=\"1045,-1135 944,-1135 944,-1116 1045,-1116 1045,-1135\"/>\n<text text-anchor=\"middle\" x=\"994.5\" y=\"-1123\" font-family=\"monospace\" font-size=\"10.00\">AccumulateGrad</text>\n</g>\n<!-- 139652280634720&#45;&gt;139652280602096 -->\n<g id=\"edge172\" class=\"edge\">\n<title>139652280634720&#45;&gt;139652280602096</title>\n<path fill=\"none\" stroke=\"black\" d=\"M1004.55,-1176.75C1002.66,-1167.29 1000.19,-1154.93 998.17,-1144.84\"/>\n<polygon fill=\"black\" stroke=\"black\" points=\"1001.6,-1144.14 996.2,-1135.02 994.73,-1145.51 1001.6,-1144.14\"/>\n</g>\n<!-- 139652280602048 -->\n<g id=\"node55\" class=\"node\">\n<title>139652280602048</title>\n<polygon fill=\"lightgrey\" stroke=\"black\" points=\"568,-1335.5 407,-1335.5 407,-1316.5 568,-1316.5 568,-1335.5\"/>\n<text text-anchor=\"middle\" x=\"487.5\" y=\"-1323.5\" font-family=\"monospace\" font-size=\"10.00\">NativeGroupNormBackward0</text>\n</g>\n<!-- 139652280602048&#45;&gt;139652280602528 -->\n<g id=\"edge53\" class=\"edge\">\n<title>139652280602048&#45;&gt;139652280602528</title>\n<path fill=\"none\" stroke=\"black\" d=\"M522.16,-1316.43C568.96,-1304.87 652.41,-1284.25 703.86,-1271.53\"/>\n<polygon fill=\"black\" stroke=\"black\" points=\"704.83,-1274.9 713.7,-1269.1 703.15,-1268.1 704.83,-1274.9\"/>\n</g>\n<!-- 139652280640080 -->\n<g id=\"node56\" class=\"node\">\n<title>139652280640080</title>\n<polygon fill=\"orange\" stroke=\"black\" points=\"948,-1274.5 835,-1274.5 835,-1244.5 948,-1244.5 948,-1274.5\"/>\n<text text-anchor=\"middle\" x=\"891.5\" y=\"-1262.5\" font-family=\"monospace\" font-size=\"10.00\">input</text>\n<text text-anchor=\"middle\" x=\"891.5\" y=\"-1251.5\" font-family=\"monospace\" font-size=\"10.00\"> (1, 16, 16, 16)</text>\n</g>\n<!-- 139652280602048&#45;&gt;139652280640080 -->\n<g id=\"edge54\" class=\"edge\">\n<title>139652280602048&#45;&gt;139652280640080</title>\n<path fill=\"none\" stroke=\"black\" d=\"M554.42,-1316.49C622.78,-1307.48 731.86,-1292.19 825.5,-1275 828.5,-1274.45 831.57,-1273.86 834.67,-1273.25\"/>\n</g>\n<!-- 139652280641600 -->\n<g id=\"node57\" class=\"node\">\n<title>139652280641600</title>\n<polygon fill=\"orange\" stroke=\"black\" points=\"376,-1274.5 311,-1274.5 311,-1244.5 376,-1244.5 376,-1274.5\"/>\n<text text-anchor=\"middle\" x=\"343.5\" y=\"-1262.5\" font-family=\"monospace\" font-size=\"10.00\">result1</text>\n<text text-anchor=\"middle\" x=\"343.5\" y=\"-1251.5\" font-family=\"monospace\" font-size=\"10.00\"> (1, 16)</text>\n</g>\n<!-- 139652280602048&#45;&gt;139652280641600 -->\n<g id=\"edge55\" class=\"edge\">\n<title>139652280602048&#45;&gt;139652280641600</title>\n<path fill=\"none\" stroke=\"black\" d=\"M468.38,-1316.43C444.51,-1305.74 403.36,-1287.31 374.85,-1274.54\"/>\n</g>\n<!-- 139652280641840 -->\n<g id=\"node58\" class=\"node\">\n<title>139652280641840</title>\n<polygon fill=\"orange\" stroke=\"black\" points=\"459,-1274.5 394,-1274.5 394,-1244.5 459,-1244.5 459,-1274.5\"/>\n<text text-anchor=\"middle\" x=\"426.5\" y=\"-1262.5\" font-family=\"monospace\" font-size=\"10.00\">result2</text>\n<text text-anchor=\"middle\" x=\"426.5\" y=\"-1251.5\" font-family=\"monospace\" font-size=\"10.00\"> (1, 16)</text>\n</g>\n<!-- 139652280602048&#45;&gt;139652280641840 -->\n<g id=\"edge56\" class=\"edge\">\n<title>139652280602048&#45;&gt;139652280641840</title>\n<path fill=\"none\" stroke=\"black\" d=\"M479.27,-1316.3C469.26,-1305.71 452.19,-1287.67 440.19,-1274.97\"/>\n</g>\n<!-- 139652280635280 -->\n<g id=\"node59\" class=\"node\">\n<title>139652280635280</title>\n<polygon fill=\"lightblue\" stroke=\"black\" points=\"569.5,-1275 515.5,-1275 515.5,-1244 569.5,-1244 569.5,-1275\"/>\n<text text-anchor=\"middle\" x=\"542.5\" y=\"-1251\" font-family=\"monospace\" font-size=\"10.00\"> (16)</text>\n</g>\n<!-- 139652280602048&#45;&gt;139652280635280 -->\n<g id=\"edge57\" class=\"edge\">\n<title>139652280602048&#45;&gt;139652280635280</title>\n<path fill=\"none\" stroke=\"black\" d=\"M494.92,-1316.3C503.83,-1305.85 518.93,-1288.14 529.73,-1275.47\"/>\n</g>\n<!-- 139652280601856 -->\n<g id=\"node154\" class=\"node\">\n<title>139652280601856</title>\n<polygon fill=\"lightgrey\" stroke=\"black\" points=\"538,-1202 437,-1202 437,-1183 538,-1183 538,-1202\"/>\n<text text-anchor=\"middle\" x=\"487.5\" y=\"-1190\" font-family=\"monospace\" font-size=\"10.00\">AccumulateGrad</text>\n</g>\n<!-- 139652280635280&#45;&gt;139652280601856 -->\n<g id=\"edge168\" class=\"edge\">\n<title>139652280635280&#45;&gt;139652280601856</title>\n<path fill=\"none\" stroke=\"black\" d=\"M530.02,-1243.75C521.5,-1233.68 510.21,-1220.34 501.41,-1209.93\"/>\n<polygon fill=\"black\" stroke=\"black\" points=\"503.84,-1207.39 494.71,-1202.02 498.5,-1211.91 503.84,-1207.39\"/>\n</g>\n<!-- 139652280601808 -->\n<g id=\"node60\" class=\"node\">\n<title>139652280601808</title>\n<polygon fill=\"lightgrey\" stroke=\"black\" points=\"390,-1402 295,-1402 295,-1383 390,-1383 390,-1402\"/>\n<text text-anchor=\"middle\" x=\"342.5\" y=\"-1390\" font-family=\"monospace\" font-size=\"10.00\">ReluBackward0</text>\n</g>\n<!-- 139652280601808&#45;&gt;139652280602048 -->\n<g id=\"edge58\" class=\"edge\">\n<title>139652280601808&#45;&gt;139652280602048</title>\n<path fill=\"none\" stroke=\"black\" d=\"M361.75,-1382.93C386.56,-1371.9 429.91,-1352.62 458.66,-1339.83\"/>\n<polygon fill=\"black\" stroke=\"black\" points=\"460.45,-1342.86 468.17,-1335.6 457.61,-1336.47 460.45,-1342.86\"/>\n</g>\n<!-- 139652280641360 -->\n<g id=\"node61\" class=\"node\">\n<title>139652280641360</title>\n<polygon fill=\"orange\" stroke=\"black\" points=\"389,-1341 276,-1341 276,-1311 389,-1311 389,-1341\"/>\n<text text-anchor=\"middle\" x=\"332.5\" y=\"-1329\" font-family=\"monospace\" font-size=\"10.00\">result</text>\n<text text-anchor=\"middle\" x=\"332.5\" y=\"-1318\" font-family=\"monospace\" font-size=\"10.00\"> (1, 16, 16, 16)</text>\n</g>\n<!-- 139652280601808&#45;&gt;139652280641360 -->\n<g id=\"edge59\" class=\"edge\">\n<title>139652280601808&#45;&gt;139652280641360</title>\n<path fill=\"none\" stroke=\"black\" d=\"M341.15,-1382.8C339.51,-1372.21 336.71,-1354.17 334.74,-1341.47\"/>\n</g>\n<!-- 139652280602672 -->\n<g id=\"node62\" class=\"node\">\n<title>139652280602672</title>\n<polygon fill=\"lightgrey\" stroke=\"black\" points=\"246,-1469 109,-1469 109,-1450 246,-1450 246,-1469\"/>\n<text text-anchor=\"middle\" x=\"177.5\" y=\"-1457\" font-family=\"monospace\" font-size=\"10.00\">ConvolutionBackward0</text>\n</g>\n<!-- 139652280602672&#45;&gt;139652280601808 -->\n<g id=\"edge60\" class=\"edge\">\n<title>139652280602672&#45;&gt;139652280601808</title>\n<path fill=\"none\" stroke=\"black\" d=\"M199.41,-1449.87C228.09,-1438.57 278.54,-1418.7 311.23,-1405.82\"/>\n<polygon fill=\"black\" stroke=\"black\" points=\"312.74,-1408.99 320.76,-1402.06 310.17,-1402.47 312.74,-1408.99\"/>\n</g>\n<!-- 139652280640000 -->\n<g id=\"node63\" class=\"node\">\n<title>139652280640000</title>\n<polygon fill=\"orange\" stroke=\"black\" points=\"277,-1407.5 164,-1407.5 164,-1377.5 277,-1377.5 277,-1407.5\"/>\n<text text-anchor=\"middle\" x=\"220.5\" y=\"-1395.5\" font-family=\"monospace\" font-size=\"10.00\">input</text>\n<text text-anchor=\"middle\" x=\"220.5\" y=\"-1384.5\" font-family=\"monospace\" font-size=\"10.00\"> (1, 16, 16, 16)</text>\n</g>\n<!-- 139652280602672&#45;&gt;139652280640000 -->\n<g id=\"edge61\" class=\"edge\">\n<title>139652280602672&#45;&gt;139652280640000</title>\n<path fill=\"none\" stroke=\"black\" d=\"M183.3,-1449.73C190.45,-1438.92 202.7,-1420.41 211.18,-1407.59\"/>\n</g>\n<!-- 139652280635200 -->\n<g id=\"node64\" class=\"node\">\n<title>139652280635200</title>\n<polygon fill=\"lightblue\" stroke=\"black\" points=\"107,-1408 0,-1408 0,-1377 107,-1377 107,-1408\"/>\n<text text-anchor=\"middle\" x=\"53.5\" y=\"-1384\" font-family=\"monospace\" font-size=\"10.00\"> (16, 16, 3, 3)</text>\n</g>\n<!-- 139652280602672&#45;&gt;139652280635200 -->\n<g id=\"edge62\" class=\"edge\">\n<title>139652280602672&#45;&gt;139652280635200</title>\n<path fill=\"none\" stroke=\"black\" d=\"M161.03,-1449.87C140.74,-1439.23 105.95,-1420.99 81.45,-1408.15\"/>\n</g>\n<!-- 139652280604112 -->\n<g id=\"node153\" class=\"node\">\n<title>139652280604112</title>\n<polygon fill=\"lightgrey\" stroke=\"black\" points=\"145,-1335.5 44,-1335.5 44,-1316.5 145,-1316.5 145,-1335.5\"/>\n<text text-anchor=\"middle\" x=\"94.5\" y=\"-1323.5\" font-family=\"monospace\" font-size=\"10.00\">AccumulateGrad</text>\n</g>\n<!-- 139652280635200&#45;&gt;139652280604112 -->\n<g id=\"edge166\" class=\"edge\">\n<title>139652280635200&#45;&gt;139652280604112</title>\n<path fill=\"none\" stroke=\"black\" d=\"M62.8,-1376.86C68.95,-1367.19 77.04,-1354.46 83.51,-1344.29\"/>\n<polygon fill=\"black\" stroke=\"black\" points=\"86.48,-1346.14 88.89,-1335.82 80.57,-1342.38 86.48,-1346.14\"/>\n</g>\n<!-- 139652280602864 -->\n<g id=\"node65\" class=\"node\">\n<title>139652280602864</title>\n<polygon fill=\"lightgrey\" stroke=\"black\" points=\"512,-1535.5 351,-1535.5 351,-1516.5 512,-1516.5 512,-1535.5\"/>\n<text text-anchor=\"middle\" x=\"431.5\" y=\"-1523.5\" font-family=\"monospace\" font-size=\"10.00\">NativeGroupNormBackward0</text>\n</g>\n<!-- 139652280602864&#45;&gt;139652280602672 -->\n<g id=\"edge63\" class=\"edge\">\n<title>139652280602864&#45;&gt;139652280602672</title>\n<path fill=\"none\" stroke=\"black\" d=\"M397.77,-1516.43C352.32,-1504.89 271.35,-1484.33 221.26,-1471.61\"/>\n<polygon fill=\"black\" stroke=\"black\" points=\"221.92,-1468.17 211.37,-1469.1 220.2,-1474.95 221.92,-1468.17\"/>\n</g>\n<!-- 139652280639760 -->\n<g id=\"node66\" class=\"node\">\n<title>139652280639760</title>\n<polygon fill=\"orange\" stroke=\"black\" points=\"488,-1474.5 375,-1474.5 375,-1444.5 488,-1444.5 488,-1474.5\"/>\n<text text-anchor=\"middle\" x=\"431.5\" y=\"-1462.5\" font-family=\"monospace\" font-size=\"10.00\">input</text>\n<text text-anchor=\"middle\" x=\"431.5\" y=\"-1451.5\" font-family=\"monospace\" font-size=\"10.00\"> (1, 16, 16, 16)</text>\n</g>\n<!-- 139652280602864&#45;&gt;139652280639760 -->\n<g id=\"edge64\" class=\"edge\">\n<title>139652280602864&#45;&gt;139652280639760</title>\n<path fill=\"none\" stroke=\"black\" d=\"M431.5,-1516.3C431.5,-1505.71 431.5,-1487.67 431.5,-1474.97\"/>\n</g>\n<!-- 139652280641120 -->\n<g id=\"node67\" class=\"node\">\n<title>139652280641120</title>\n<polygon fill=\"orange\" stroke=\"black\" points=\"571,-1474.5 506,-1474.5 506,-1444.5 571,-1444.5 571,-1474.5\"/>\n<text text-anchor=\"middle\" x=\"538.5\" y=\"-1462.5\" font-family=\"monospace\" font-size=\"10.00\">result1</text>\n<text text-anchor=\"middle\" x=\"538.5\" y=\"-1451.5\" font-family=\"monospace\" font-size=\"10.00\"> (1, 16)</text>\n</g>\n<!-- 139652280602864&#45;&gt;139652280641120 -->\n<g id=\"edge65\" class=\"edge\">\n<title>139652280602864&#45;&gt;139652280641120</title>\n<path fill=\"none\" stroke=\"black\" d=\"M445.93,-1516.3C463.61,-1505.64 493.82,-1487.43 514.9,-1474.73\"/>\n</g>\n<!-- 139652280641440 -->\n<g id=\"node68\" class=\"node\">\n<title>139652280641440</title>\n<polygon fill=\"orange\" stroke=\"black\" points=\"654,-1474.5 589,-1474.5 589,-1444.5 654,-1444.5 654,-1474.5\"/>\n<text text-anchor=\"middle\" x=\"621.5\" y=\"-1462.5\" font-family=\"monospace\" font-size=\"10.00\">result2</text>\n<text text-anchor=\"middle\" x=\"621.5\" y=\"-1451.5\" font-family=\"monospace\" font-size=\"10.00\"> (1, 16)</text>\n</g>\n<!-- 139652280602864&#45;&gt;139652280641440 -->\n<g id=\"edge66\" class=\"edge\">\n<title>139652280602864&#45;&gt;139652280641440</title>\n<path fill=\"none\" stroke=\"black\" d=\"M456.92,-1516.47C486.42,-1506.56 536.51,-1489.68 579.5,-1475 582.57,-1473.95 585.76,-1472.86 588.95,-1471.76\"/>\n</g>\n<!-- 139652280634800 -->\n<g id=\"node69\" class=\"node\">\n<title>139652280634800</title>\n<polygon fill=\"lightblue\" stroke=\"black\" points=\"726.5,-1475 672.5,-1475 672.5,-1444 726.5,-1444 726.5,-1475\"/>\n<text text-anchor=\"middle\" x=\"699.5\" y=\"-1451\" font-family=\"monospace\" font-size=\"10.00\"> (16)</text>\n</g>\n<!-- 139652280602864&#45;&gt;139652280634800 -->\n<g id=\"edge67\" class=\"edge\">\n<title>139652280602864&#45;&gt;139652280634800</title>\n<path fill=\"none\" stroke=\"black\" d=\"M482.11,-1516.46C529.31,-1507.93 601.42,-1493.45 662.5,-1475 665.67,-1474.04 668.95,-1472.93 672.19,-1471.77\"/>\n</g>\n<!-- 139652280603920 -->\n<g id=\"node150\" class=\"node\">\n<title>139652280603920</title>\n<polygon fill=\"lightgrey\" stroke=\"black\" points=\"699,-1402 598,-1402 598,-1383 699,-1383 699,-1402\"/>\n<text text-anchor=\"middle\" x=\"648.5\" y=\"-1390\" font-family=\"monospace\" font-size=\"10.00\">AccumulateGrad</text>\n</g>\n<!-- 139652280634800&#45;&gt;139652280603920 -->\n<g id=\"edge162\" class=\"edge\">\n<title>139652280634800&#45;&gt;139652280603920</title>\n<path fill=\"none\" stroke=\"black\" d=\"M687.93,-1443.75C680.03,-1433.68 669.56,-1420.34 661.39,-1409.93\"/>\n<polygon fill=\"black\" stroke=\"black\" points=\"664.11,-1407.73 655.18,-1402.02 658.6,-1412.05 664.11,-1407.73\"/>\n</g>\n<!-- 139652280603776 -->\n<g id=\"node70\" class=\"node\">\n<title>139652280603776</title>\n<polygon fill=\"lightgrey\" stroke=\"black\" points=\"598,-1602 503,-1602 503,-1583 598,-1583 598,-1602\"/>\n<text text-anchor=\"middle\" x=\"550.5\" y=\"-1590\" font-family=\"monospace\" font-size=\"10.00\">ReluBackward0</text>\n</g>\n<!-- 139652280603776&#45;&gt;139652280602864 -->\n<g id=\"edge68\" class=\"edge\">\n<title>139652280603776&#45;&gt;139652280602864</title>\n<path fill=\"none\" stroke=\"black\" d=\"M534.45,-1582.8C514.38,-1571.92 479.8,-1553.18 456.31,-1540.45\"/>\n<polygon fill=\"black\" stroke=\"black\" points=\"457.75,-1537.25 447.29,-1535.56 454.42,-1543.4 457.75,-1537.25\"/>\n</g>\n<!-- 139652280641200 -->\n<g id=\"node71\" class=\"node\">\n<title>139652280641200</title>\n<polygon fill=\"orange\" stroke=\"black\" points=\"643,-1541 530,-1541 530,-1511 643,-1511 643,-1541\"/>\n<text text-anchor=\"middle\" x=\"586.5\" y=\"-1529\" font-family=\"monospace\" font-size=\"10.00\">result</text>\n<text text-anchor=\"middle\" x=\"586.5\" y=\"-1518\" font-family=\"monospace\" font-size=\"10.00\"> (1, 16, 16, 16)</text>\n</g>\n<!-- 139652280603776&#45;&gt;139652280641200 -->\n<g id=\"edge69\" class=\"edge\">\n<title>139652280603776&#45;&gt;139652280641200</title>\n<path fill=\"none\" stroke=\"black\" d=\"M555.36,-1582.8C561.27,-1572.21 571.34,-1554.17 578.42,-1541.47\"/>\n</g>\n<!-- 139652280603584 -->\n<g id=\"node72\" class=\"node\">\n<title>139652280603584</title>\n<polygon fill=\"lightgrey\" stroke=\"black\" points=\"689,-1669 552,-1669 552,-1650 689,-1650 689,-1669\"/>\n<text text-anchor=\"middle\" x=\"620.5\" y=\"-1657\" font-family=\"monospace\" font-size=\"10.00\">ConvolutionBackward0</text>\n</g>\n<!-- 139652280603584&#45;&gt;139652280603776 -->\n<g id=\"edge70\" class=\"edge\">\n<title>139652280603584&#45;&gt;139652280603776</title>\n<path fill=\"none\" stroke=\"black\" d=\"M611.06,-1649.73C599.83,-1639.31 580.88,-1621.71 567.16,-1608.97\"/>\n<polygon fill=\"black\" stroke=\"black\" points=\"569.5,-1606.37 559.79,-1602.13 564.74,-1611.5 569.5,-1606.37\"/>\n</g>\n<!-- 139652280639520 -->\n<g id=\"node73\" class=\"node\">\n<title>139652280639520</title>\n<polygon fill=\"orange\" stroke=\"black\" points=\"768,-1607.5 655,-1607.5 655,-1577.5 768,-1577.5 768,-1607.5\"/>\n<text text-anchor=\"middle\" x=\"711.5\" y=\"-1595.5\" font-family=\"monospace\" font-size=\"10.00\">input</text>\n<text text-anchor=\"middle\" x=\"711.5\" y=\"-1584.5\" font-family=\"monospace\" font-size=\"10.00\"> (1, 16, 16, 16)</text>\n</g>\n<!-- 139652280603584&#45;&gt;139652280639520 -->\n<g id=\"edge71\" class=\"edge\">\n<title>139652280603584&#45;&gt;139652280639520</title>\n<path fill=\"none\" stroke=\"black\" d=\"M632.77,-1649.73C647.91,-1638.92 673.83,-1620.41 691.78,-1607.59\"/>\n</g>\n<!-- 139652280634560 -->\n<g id=\"node74\" class=\"node\">\n<title>139652280634560</title>\n<polygon fill=\"lightblue\" stroke=\"black\" points=\"893,-1608 786,-1608 786,-1577 893,-1577 893,-1608\"/>\n<text text-anchor=\"middle\" x=\"839.5\" y=\"-1584\" font-family=\"monospace\" font-size=\"10.00\"> (16, 16, 3, 3)</text>\n</g>\n<!-- 139652280603584&#45;&gt;139652280634560 -->\n<g id=\"edge72\" class=\"edge\">\n<title>139652280603584&#45;&gt;139652280634560</title>\n<path fill=\"none\" stroke=\"black\" d=\"M649.58,-1649.87C685.53,-1639.2 747.27,-1620.88 790.56,-1608.02\"/>\n</g>\n<!-- 139652280603536 -->\n<g id=\"node149\" class=\"node\">\n<title>139652280603536</title>\n<polygon fill=\"lightgrey\" stroke=\"black\" points=\"808,-1535.5 707,-1535.5 707,-1516.5 808,-1516.5 808,-1535.5\"/>\n<text text-anchor=\"middle\" x=\"757.5\" y=\"-1523.5\" font-family=\"monospace\" font-size=\"10.00\">AccumulateGrad</text>\n</g>\n<!-- 139652280634560&#45;&gt;139652280603536 -->\n<g id=\"edge160\" class=\"edge\">\n<title>139652280634560&#45;&gt;139652280603536</title>\n<path fill=\"none\" stroke=\"black\" d=\"M820.89,-1576.86C807.71,-1566.5 790.08,-1552.63 776.76,-1542.15\"/>\n<polygon fill=\"black\" stroke=\"black\" points=\"778.74,-1539.25 768.72,-1535.82 774.41,-1544.76 778.74,-1539.25\"/>\n</g>\n<!-- 139652280603488 -->\n<g id=\"node75\" class=\"node\">\n<title>139652280603488</title>\n<polygon fill=\"lightgrey\" stroke=\"black\" points=\"526,-1735.5 365,-1735.5 365,-1716.5 526,-1716.5 526,-1735.5\"/>\n<text text-anchor=\"middle\" x=\"445.5\" y=\"-1723.5\" font-family=\"monospace\" font-size=\"10.00\">NativeGroupNormBackward0</text>\n</g>\n<!-- 139652280603488&#45;&gt;139652280603584 -->\n<g id=\"edge73\" class=\"edge\">\n<title>139652280603488&#45;&gt;139652280603584</title>\n<path fill=\"none\" stroke=\"black\" d=\"M468.74,-1716.43C499.2,-1705.21 552.83,-1685.44 587.49,-1672.67\"/>\n<polygon fill=\"black\" stroke=\"black\" points=\"588.99,-1675.84 597.17,-1669.1 586.57,-1669.27 588.99,-1675.84\"/>\n</g>\n<!-- 139652280638560 -->\n<g id=\"node76\" class=\"node\">\n<title>139652280638560</title>\n<polygon fill=\"orange\" stroke=\"black\" points=\"820,-1674.5 707,-1674.5 707,-1644.5 820,-1644.5 820,-1674.5\"/>\n<text text-anchor=\"middle\" x=\"763.5\" y=\"-1662.5\" font-family=\"monospace\" font-size=\"10.00\">input</text>\n<text text-anchor=\"middle\" x=\"763.5\" y=\"-1651.5\" font-family=\"monospace\" font-size=\"10.00\"> (1, 16, 16, 16)</text>\n</g>\n<!-- 139652280603488&#45;&gt;139652280638560 -->\n<g id=\"edge74\" class=\"edge\">\n<title>139652280603488&#45;&gt;139652280638560</title>\n<path fill=\"none\" stroke=\"black\" d=\"M490.17,-1716.42C540.58,-1706.68 625.03,-1690.15 697.5,-1675 700.6,-1674.35 703.78,-1673.68 706.99,-1672.99\"/>\n</g>\n<!-- 139652280642080 -->\n<g id=\"node77\" class=\"node\">\n<title>139652280642080</title>\n<polygon fill=\"orange\" stroke=\"black\" points=\"334,-1674.5 269,-1674.5 269,-1644.5 334,-1644.5 334,-1674.5\"/>\n<text text-anchor=\"middle\" x=\"301.5\" y=\"-1662.5\" font-family=\"monospace\" font-size=\"10.00\">result1</text>\n<text text-anchor=\"middle\" x=\"301.5\" y=\"-1651.5\" font-family=\"monospace\" font-size=\"10.00\"> (1, 16)</text>\n</g>\n<!-- 139652280603488&#45;&gt;139652280642080 -->\n<g id=\"edge75\" class=\"edge\">\n<title>139652280603488&#45;&gt;139652280642080</title>\n<path fill=\"none\" stroke=\"black\" d=\"M426.38,-1716.43C402.51,-1705.74 361.36,-1687.31 332.85,-1674.54\"/>\n</g>\n<!-- 139652280642320 -->\n<g id=\"node78\" class=\"node\">\n<title>139652280642320</title>\n<polygon fill=\"orange\" stroke=\"black\" points=\"417,-1674.5 352,-1674.5 352,-1644.5 417,-1644.5 417,-1674.5\"/>\n<text text-anchor=\"middle\" x=\"384.5\" y=\"-1662.5\" font-family=\"monospace\" font-size=\"10.00\">result2</text>\n<text text-anchor=\"middle\" x=\"384.5\" y=\"-1651.5\" font-family=\"monospace\" font-size=\"10.00\"> (1, 16)</text>\n</g>\n<!-- 139652280603488&#45;&gt;139652280642320 -->\n<g id=\"edge76\" class=\"edge\">\n<title>139652280603488&#45;&gt;139652280642320</title>\n<path fill=\"none\" stroke=\"black\" d=\"M437.27,-1716.3C427.26,-1705.71 410.19,-1687.67 398.19,-1674.97\"/>\n</g>\n<!-- 139652280633840 -->\n<g id=\"node79\" class=\"node\">\n<title>139652280633840</title>\n<polygon fill=\"lightblue\" stroke=\"black\" points=\"527.5,-1675 473.5,-1675 473.5,-1644 527.5,-1644 527.5,-1675\"/>\n<text text-anchor=\"middle\" x=\"500.5\" y=\"-1651\" font-family=\"monospace\" font-size=\"10.00\"> (16)</text>\n</g>\n<!-- 139652280603488&#45;&gt;139652280633840 -->\n<g id=\"edge77\" class=\"edge\">\n<title>139652280603488&#45;&gt;139652280633840</title>\n<path fill=\"none\" stroke=\"black\" d=\"M452.92,-1716.3C461.83,-1705.85 476.93,-1688.14 487.73,-1675.47\"/>\n</g>\n<!-- 139652280609584 -->\n<g id=\"node146\" class=\"node\">\n<title>139652280609584</title>\n<polygon fill=\"lightgrey\" stroke=\"black\" points=\"485,-1602 384,-1602 384,-1583 485,-1583 485,-1602\"/>\n<text text-anchor=\"middle\" x=\"434.5\" y=\"-1590\" font-family=\"monospace\" font-size=\"10.00\">AccumulateGrad</text>\n</g>\n<!-- 139652280633840&#45;&gt;139652280609584 -->\n<g id=\"edge156\" class=\"edge\">\n<title>139652280633840&#45;&gt;139652280609584</title>\n<path fill=\"none\" stroke=\"black\" d=\"M485.52,-1643.75C475.1,-1633.48 461.21,-1619.81 450.56,-1609.31\"/>\n<polygon fill=\"black\" stroke=\"black\" points=\"452.73,-1606.54 443.15,-1602.02 447.82,-1611.53 452.73,-1606.54\"/>\n</g>\n<!-- 139652280604784 -->\n<g id=\"node80\" class=\"node\">\n<title>139652280604784</title>\n<polygon fill=\"lightgrey\" stroke=\"black\" points=\"615,-1802 520,-1802 520,-1783 615,-1783 615,-1802\"/>\n<text text-anchor=\"middle\" x=\"567.5\" y=\"-1790\" font-family=\"monospace\" font-size=\"10.00\">ReluBackward0</text>\n</g>\n<!-- 139652280604784&#45;&gt;139652280603488 -->\n<g id=\"edge78\" class=\"edge\">\n<title>139652280604784&#45;&gt;139652280603488</title>\n<path fill=\"none\" stroke=\"black\" d=\"M551.3,-1782.93C530.7,-1772.04 494.91,-1753.12 470.72,-1740.34\"/>\n<polygon fill=\"black\" stroke=\"black\" points=\"472.24,-1737.18 461.77,-1735.6 468.97,-1743.37 472.24,-1737.18\"/>\n</g>\n<!-- 139652281586112 -->\n<g id=\"node81\" class=\"node\">\n<title>139652281586112</title>\n<polygon fill=\"orange\" stroke=\"black\" points=\"657,-1741 544,-1741 544,-1711 657,-1711 657,-1741\"/>\n<text text-anchor=\"middle\" x=\"600.5\" y=\"-1729\" font-family=\"monospace\" font-size=\"10.00\">result</text>\n<text text-anchor=\"middle\" x=\"600.5\" y=\"-1718\" font-family=\"monospace\" font-size=\"10.00\"> (1, 16, 16, 16)</text>\n</g>\n<!-- 139652280604784&#45;&gt;139652281586112 -->\n<g id=\"edge79\" class=\"edge\">\n<title>139652280604784&#45;&gt;139652281586112</title>\n<path fill=\"none\" stroke=\"black\" d=\"M571.95,-1782.8C577.37,-1772.21 586.6,-1754.17 593.1,-1741.47\"/>\n</g>\n<!-- 139652280604880 -->\n<g id=\"node82\" class=\"node\">\n<title>139652280604880</title>\n<polygon fill=\"lightgrey\" stroke=\"black\" points=\"794,-1869 657,-1869 657,-1850 794,-1850 794,-1869\"/>\n<text text-anchor=\"middle\" x=\"725.5\" y=\"-1857\" font-family=\"monospace\" font-size=\"10.00\">ConvolutionBackward0</text>\n</g>\n<!-- 139652280604880&#45;&gt;139652280604784 -->\n<g id=\"edge80\" class=\"edge\">\n<title>139652280604880&#45;&gt;139652280604784</title>\n<path fill=\"none\" stroke=\"black\" d=\"M704.52,-1849.87C677.25,-1838.65 629.43,-1818.98 598.11,-1806.09\"/>\n<polygon fill=\"black\" stroke=\"black\" points=\"599.15,-1802.74 588.57,-1802.17 596.48,-1809.21 599.15,-1802.74\"/>\n</g>\n<!-- 139652280639040 -->\n<g id=\"node83\" class=\"node\">\n<title>139652280639040</title>\n<polygon fill=\"orange\" stroke=\"black\" points=\"910,-1807.5 797,-1807.5 797,-1777.5 910,-1777.5 910,-1807.5\"/>\n<text text-anchor=\"middle\" x=\"853.5\" y=\"-1795.5\" font-family=\"monospace\" font-size=\"10.00\">input</text>\n<text text-anchor=\"middle\" x=\"853.5\" y=\"-1784.5\" font-family=\"monospace\" font-size=\"10.00\"> (1, 16, 16, 16)</text>\n</g>\n<!-- 139652280604880&#45;&gt;139652280639040 -->\n<g id=\"edge81\" class=\"edge\">\n<title>139652280604880&#45;&gt;139652280639040</title>\n<path fill=\"none\" stroke=\"black\" d=\"M742.5,-1849.87C763.71,-1839.09 800.29,-1820.52 825.63,-1807.65\"/>\n</g>\n<!-- 139652280633920 -->\n<g id=\"node84\" class=\"node\">\n<title>139652280633920</title>\n<polygon fill=\"lightblue\" stroke=\"black\" points=\"779,-1808 672,-1808 672,-1777 779,-1777 779,-1808\"/>\n<text text-anchor=\"middle\" x=\"725.5\" y=\"-1784\" font-family=\"monospace\" font-size=\"10.00\"> (16, 16, 3, 3)</text>\n</g>\n<!-- 139652280604880&#45;&gt;139652280633920 -->\n<g id=\"edge82\" class=\"edge\">\n<title>139652280604880&#45;&gt;139652280633920</title>\n<path fill=\"none\" stroke=\"black\" d=\"M725.5,-1849.73C725.5,-1839.06 725.5,-1820.88 725.5,-1808.08\"/>\n</g>\n<!-- 139652280604832 -->\n<g id=\"node145\" class=\"node\">\n<title>139652280604832</title>\n<polygon fill=\"lightgrey\" stroke=\"black\" points=\"776,-1735.5 675,-1735.5 675,-1716.5 776,-1716.5 776,-1735.5\"/>\n<text text-anchor=\"middle\" x=\"725.5\" y=\"-1723.5\" font-family=\"monospace\" font-size=\"10.00\">AccumulateGrad</text>\n</g>\n<!-- 139652280633920&#45;&gt;139652280604832 -->\n<g id=\"edge154\" class=\"edge\">\n<title>139652280633920&#45;&gt;139652280604832</title>\n<path fill=\"none\" stroke=\"black\" d=\"M725.5,-1776.86C725.5,-1767.68 725.5,-1755.75 725.5,-1745.86\"/>\n<polygon fill=\"black\" stroke=\"black\" points=\"729,-1745.82 725.5,-1735.82 722,-1745.82 729,-1745.82\"/>\n</g>\n<!-- 139652280604304 -->\n<g id=\"node85\" class=\"node\">\n<title>139652280604304</title>\n<polygon fill=\"lightgrey\" stroke=\"black\" points=\"1067,-1936 978,-1936 978,-1917 1067,-1917 1067,-1936\"/>\n<text text-anchor=\"middle\" x=\"1022.5\" y=\"-1924\" font-family=\"monospace\" font-size=\"10.00\">AddBackward0</text>\n</g>\n<!-- 139652280604304&#45;&gt;139652280604880 -->\n<g id=\"edge83\" class=\"edge\">\n<title>139652280604304&#45;&gt;139652280604880</title>\n<path fill=\"none\" stroke=\"black\" d=\"M983.37,-1916.94C929.72,-1905.2 833.36,-1884.11 774.83,-1871.3\"/>\n<polygon fill=\"black\" stroke=\"black\" points=\"775.24,-1867.8 764.72,-1869.08 773.74,-1874.64 775.24,-1867.8\"/>\n</g>\n<!-- 139652280601952 -->\n<g id=\"node169\" class=\"node\">\n<title>139652280601952</title>\n<polygon fill=\"lightgrey\" stroke=\"black\" points=\"1091,-1869 954,-1869 954,-1850 1091,-1850 1091,-1869\"/>\n<text text-anchor=\"middle\" x=\"1022.5\" y=\"-1857\" font-family=\"monospace\" font-size=\"10.00\">ConvolutionBackward0</text>\n</g>\n<!-- 139652280604304&#45;&gt;139652280601952 -->\n<g id=\"edge189\" class=\"edge\">\n<title>139652280604304&#45;&gt;139652280601952</title>\n<path fill=\"none\" stroke=\"black\" d=\"M1022.5,-1916.73C1022.5,-1907.18 1022.5,-1891.62 1022.5,-1879.28\"/>\n<polygon fill=\"black\" stroke=\"black\" points=\"1026,-1879.13 1022.5,-1869.13 1019,-1879.13 1026,-1879.13\"/>\n</g>\n<!-- 139652280604352 -->\n<g id=\"node86\" class=\"node\">\n<title>139652280604352</title>\n<polygon fill=\"lightgrey\" stroke=\"black\" points=\"1317,-2002.5 1156,-2002.5 1156,-1983.5 1317,-1983.5 1317,-2002.5\"/>\n<text text-anchor=\"middle\" x=\"1236.5\" y=\"-1990.5\" font-family=\"monospace\" font-size=\"10.00\">NativeGroupNormBackward0</text>\n</g>\n<!-- 139652280604352&#45;&gt;139652280604304 -->\n<g id=\"edge84\" class=\"edge\">\n<title>139652280604352&#45;&gt;139652280604304</title>\n<path fill=\"none\" stroke=\"black\" d=\"M1208.08,-1983.43C1170.19,-1972.01 1102.99,-1951.76 1060.7,-1939.01\"/>\n<polygon fill=\"black\" stroke=\"black\" points=\"1061.62,-1935.64 1051.04,-1936.1 1059.6,-1942.34 1061.62,-1935.64\"/>\n</g>\n<!-- 139652280638880 -->\n<g id=\"node87\" class=\"node\">\n<title>139652280638880</title>\n<polygon fill=\"orange\" stroke=\"black\" points=\"1376,-1941.5 1263,-1941.5 1263,-1911.5 1376,-1911.5 1376,-1941.5\"/>\n<text text-anchor=\"middle\" x=\"1319.5\" y=\"-1929.5\" font-family=\"monospace\" font-size=\"10.00\">input</text>\n<text text-anchor=\"middle\" x=\"1319.5\" y=\"-1918.5\" font-family=\"monospace\" font-size=\"10.00\"> (1, 16, 16, 16)</text>\n</g>\n<!-- 139652280604352&#45;&gt;139652280638880 -->\n<g id=\"edge85\" class=\"edge\">\n<title>139652280604352&#45;&gt;139652280638880</title>\n<path fill=\"none\" stroke=\"black\" d=\"M1247.69,-1983.3C1261.41,-1972.64 1284.84,-1954.43 1301.19,-1941.73\"/>\n</g>\n<!-- 139652280642640 -->\n<g id=\"node88\" class=\"node\">\n<title>139652280642640</title>\n<polygon fill=\"orange\" stroke=\"black\" points=\"1459,-1941.5 1394,-1941.5 1394,-1911.5 1459,-1911.5 1459,-1941.5\"/>\n<text text-anchor=\"middle\" x=\"1426.5\" y=\"-1929.5\" font-family=\"monospace\" font-size=\"10.00\">result1</text>\n<text text-anchor=\"middle\" x=\"1426.5\" y=\"-1918.5\" font-family=\"monospace\" font-size=\"10.00\"> (1, 16)</text>\n</g>\n<!-- 139652280604352&#45;&gt;139652280642640 -->\n<g id=\"edge86\" class=\"edge\">\n<title>139652280604352&#45;&gt;139652280642640</title>\n<path fill=\"none\" stroke=\"black\" d=\"M1262.38,-1983.46C1292.14,-1973.6 1342.42,-1956.85 1385.5,-1942 1388.21,-1941.07 1391.02,-1940.09 1393.84,-1939.1\"/>\n</g>\n<!-- 139652280642560 -->\n<g id=\"node89\" class=\"node\">\n<title>139652280642560</title>\n<polygon fill=\"orange\" stroke=\"black\" points=\"1542,-1941.5 1477,-1941.5 1477,-1911.5 1542,-1911.5 1542,-1941.5\"/>\n<text text-anchor=\"middle\" x=\"1509.5\" y=\"-1929.5\" font-family=\"monospace\" font-size=\"10.00\">result2</text>\n<text text-anchor=\"middle\" x=\"1509.5\" y=\"-1918.5\" font-family=\"monospace\" font-size=\"10.00\"> (1, 16)</text>\n</g>\n<!-- 139652280604352&#45;&gt;139652280642560 -->\n<g id=\"edge87\" class=\"edge\">\n<title>139652280604352&#45;&gt;139652280642560</title>\n<path fill=\"none\" stroke=\"black\" d=\"M1284.93,-1983.43C1332.17,-1974.63 1405.87,-1959.75 1468.5,-1942 1471.26,-1941.22 1474.1,-1940.35 1476.95,-1939.43\"/>\n</g>\n<!-- 139652575178608 -->\n<g id=\"node90\" class=\"node\">\n<title>139652575178608</title>\n<polygon fill=\"lightblue\" stroke=\"black\" points=\"1206.5,-1942 1152.5,-1942 1152.5,-1911 1206.5,-1911 1206.5,-1942\"/>\n<text text-anchor=\"middle\" x=\"1179.5\" y=\"-1918\" font-family=\"monospace\" font-size=\"10.00\"> (16)</text>\n</g>\n<!-- 139652280604352&#45;&gt;139652575178608 -->\n<g id=\"edge88\" class=\"edge\">\n<title>139652280604352&#45;&gt;139652575178608</title>\n<path fill=\"none\" stroke=\"black\" d=\"M1228.81,-1983.3C1219.57,-1972.85 1203.92,-1955.14 1192.73,-1942.47\"/>\n</g>\n<!-- 139652280604448 -->\n<g id=\"node129\" class=\"node\">\n<title>139652280604448</title>\n<polygon fill=\"lightgrey\" stroke=\"black\" points=\"1285,-1869 1184,-1869 1184,-1850 1285,-1850 1285,-1869\"/>\n<text text-anchor=\"middle\" x=\"1234.5\" y=\"-1857\" font-family=\"monospace\" font-size=\"10.00\">AccumulateGrad</text>\n</g>\n<!-- 139652575178608&#45;&gt;139652280604448 -->\n<g id=\"edge134\" class=\"edge\">\n<title>139652575178608&#45;&gt;139652280604448</title>\n<path fill=\"none\" stroke=\"black\" d=\"M1191.98,-1910.75C1200.5,-1900.68 1211.79,-1887.34 1220.59,-1876.93\"/>\n<polygon fill=\"black\" stroke=\"black\" points=\"1223.5,-1878.91 1227.29,-1869.02 1218.16,-1874.39 1223.5,-1878.91\"/>\n</g>\n<!-- 139652280603392 -->\n<g id=\"node91\" class=\"node\">\n<title>139652280603392</title>\n<polygon fill=\"lightgrey\" stroke=\"black\" points=\"1420,-2069 1325,-2069 1325,-2050 1420,-2050 1420,-2069\"/>\n<text text-anchor=\"middle\" x=\"1372.5\" y=\"-2057\" font-family=\"monospace\" font-size=\"10.00\">ReluBackward0</text>\n</g>\n<!-- 139652280603392&#45;&gt;139652280604352 -->\n<g id=\"edge89\" class=\"edge\">\n<title>139652280603392&#45;&gt;139652280604352</title>\n<path fill=\"none\" stroke=\"black\" d=\"M1354.44,-2049.93C1331.27,-2038.95 1290.87,-2019.79 1263.9,-2007\"/>\n<polygon fill=\"black\" stroke=\"black\" points=\"1265.17,-2003.72 1254.63,-2002.6 1262.17,-2010.05 1265.17,-2003.72\"/>\n</g>\n<!-- 139652280642480 -->\n<g id=\"node92\" class=\"node\">\n<title>139652280642480</title>\n<polygon fill=\"orange\" stroke=\"black\" points=\"1448,-2008 1335,-2008 1335,-1978 1448,-1978 1448,-2008\"/>\n<text text-anchor=\"middle\" x=\"1391.5\" y=\"-1996\" font-family=\"monospace\" font-size=\"10.00\">result</text>\n<text text-anchor=\"middle\" x=\"1391.5\" y=\"-1985\" font-family=\"monospace\" font-size=\"10.00\"> (1, 16, 16, 16)</text>\n</g>\n<!-- 139652280603392&#45;&gt;139652280642480 -->\n<g id=\"edge90\" class=\"edge\">\n<title>139652280603392&#45;&gt;139652280642480</title>\n<path fill=\"none\" stroke=\"black\" d=\"M1375.06,-2049.8C1378.18,-2039.21 1383.5,-2021.17 1387.24,-2008.47\"/>\n</g>\n<!-- 139652280603296 -->\n<g id=\"node93\" class=\"node\">\n<title>139652280603296</title>\n<polygon fill=\"lightgrey\" stroke=\"black\" points=\"1675,-2136 1538,-2136 1538,-2117 1675,-2117 1675,-2136\"/>\n<text text-anchor=\"middle\" x=\"1606.5\" y=\"-2124\" font-family=\"monospace\" font-size=\"10.00\">ConvolutionBackward0</text>\n</g>\n<!-- 139652280603296&#45;&gt;139652280603392 -->\n<g id=\"edge91\" class=\"edge\">\n<title>139652280603296&#45;&gt;139652280603392</title>\n<path fill=\"none\" stroke=\"black\" d=\"M1575.43,-2116.87C1533.61,-2105.25 1459.17,-2084.58 1413.01,-2071.75\"/>\n<polygon fill=\"black\" stroke=\"black\" points=\"1413.9,-2068.37 1403.33,-2069.06 1412.03,-2075.11 1413.9,-2068.37\"/>\n</g>\n<!-- 139652280644960 -->\n<g id=\"node94\" class=\"node\">\n<title>139652280644960</title>\n<polygon fill=\"orange\" stroke=\"black\" points=\"1545,-2074.5 1438,-2074.5 1438,-2044.5 1545,-2044.5 1545,-2074.5\"/>\n<text text-anchor=\"middle\" x=\"1491.5\" y=\"-2062.5\" font-family=\"monospace\" font-size=\"10.00\">input</text>\n<text text-anchor=\"middle\" x=\"1491.5\" y=\"-2051.5\" font-family=\"monospace\" font-size=\"10.00\"> (1, 8, 34, 34)</text>\n</g>\n<!-- 139652280603296&#45;&gt;139652280644960 -->\n<g id=\"edge92\" class=\"edge\">\n<title>139652280603296&#45;&gt;139652280644960</title>\n<path fill=\"none\" stroke=\"black\" d=\"M1590.99,-2116.73C1571.86,-2105.92 1539.1,-2087.41 1516.43,-2074.59\"/>\n</g>\n<!-- 139652281906768 -->\n<g id=\"node95\" class=\"node\">\n<title>139652281906768</title>\n<polygon fill=\"lightblue\" stroke=\"black\" points=\"1664,-2075 1563,-2075 1563,-2044 1664,-2044 1664,-2075\"/>\n<text text-anchor=\"middle\" x=\"1613.5\" y=\"-2051\" font-family=\"monospace\" font-size=\"10.00\"> (16, 8, 3, 3)</text>\n</g>\n<!-- 139652280603296&#45;&gt;139652281906768 -->\n<g id=\"edge93\" class=\"edge\">\n<title>139652280603296&#45;&gt;139652281906768</title>\n<path fill=\"none\" stroke=\"black\" d=\"M1607.44,-2116.73C1608.59,-2106.06 1610.55,-2087.88 1611.93,-2075.08\"/>\n</g>\n<!-- 139652280603056 -->\n<g id=\"node128\" class=\"node\">\n<title>139652280603056</title>\n<polygon fill=\"lightgrey\" stroke=\"black\" points=\"1703,-2002.5 1602,-2002.5 1602,-1983.5 1703,-1983.5 1703,-2002.5\"/>\n<text text-anchor=\"middle\" x=\"1652.5\" y=\"-1990.5\" font-family=\"monospace\" font-size=\"10.00\">AccumulateGrad</text>\n</g>\n<!-- 139652281906768&#45;&gt;139652280603056 -->\n<g id=\"edge132\" class=\"edge\">\n<title>139652281906768&#45;&gt;139652280603056</title>\n<path fill=\"none\" stroke=\"black\" d=\"M1622.35,-2043.86C1628.14,-2034.29 1635.74,-2021.72 1641.86,-2011.6\"/>\n<polygon fill=\"black\" stroke=\"black\" points=\"1644.99,-2013.19 1647.17,-2002.82 1639,-2009.57 1644.99,-2013.19\"/>\n</g>\n<!-- 139652280603248 -->\n<g id=\"node96\" class=\"node\">\n<title>139652280603248</title>\n<polygon fill=\"lightgrey\" stroke=\"black\" points=\"1582,-2203 1445,-2203 1445,-2184 1582,-2184 1582,-2203\"/>\n<text text-anchor=\"middle\" x=\"1513.5\" y=\"-2191\" font-family=\"monospace\" font-size=\"10.00\">ConvolutionBackward0</text>\n</g>\n<!-- 139652280603248&#45;&gt;139652280603296 -->\n<g id=\"edge94\" class=\"edge\">\n<title>139652280603248&#45;&gt;139652280603296</title>\n<path fill=\"none\" stroke=\"black\" d=\"M1526.04,-2183.73C1541.38,-2173.01 1567.56,-2154.72 1585.88,-2141.91\"/>\n<polygon fill=\"black\" stroke=\"black\" points=\"1587.96,-2144.72 1594.16,-2136.13 1583.95,-2138.99 1587.96,-2144.72\"/>\n</g>\n<!-- 139652280633440 -->\n<g id=\"node97\" class=\"node\">\n<title>139652280633440</title>\n<polygon fill=\"orange\" stroke=\"black\" points=\"1520,-2141.5 1413,-2141.5 1413,-2111.5 1520,-2111.5 1520,-2141.5\"/>\n<text text-anchor=\"middle\" x=\"1466.5\" y=\"-2129.5\" font-family=\"monospace\" font-size=\"10.00\">input</text>\n<text text-anchor=\"middle\" x=\"1466.5\" y=\"-2118.5\" font-family=\"monospace\" font-size=\"10.00\"> (1, 8, 32, 32)</text>\n</g>\n<!-- 139652280603248&#45;&gt;139652280633440 -->\n<g id=\"edge95\" class=\"edge\">\n<title>139652280603248&#45;&gt;139652280633440</title>\n<path fill=\"none\" stroke=\"black\" d=\"M1507.16,-2183.73C1499.34,-2172.92 1485.95,-2154.41 1476.69,-2141.59\"/>\n</g>\n<!-- 139652314212976 -->\n<g id=\"node98\" class=\"node\">\n<title>139652314212976</title>\n<polygon fill=\"lightblue\" stroke=\"black\" points=\"1827,-2142 1732,-2142 1732,-2111 1827,-2111 1827,-2142\"/>\n<text text-anchor=\"middle\" x=\"1779.5\" y=\"-2118\" font-family=\"monospace\" font-size=\"10.00\"> (8, 8, 1, 1)</text>\n</g>\n<!-- 139652280603248&#45;&gt;139652314212976 -->\n<g id=\"edge96\" class=\"edge\">\n<title>139652280603248&#45;&gt;139652314212976</title>\n<path fill=\"none\" stroke=\"black\" d=\"M1548.55,-2183.94C1595.53,-2172.46 1679.09,-2152.04 1731.78,-2139.16\"/>\n</g>\n<!-- 139652280603440 -->\n<g id=\"node127\" class=\"node\">\n<title>139652280603440</title>\n<polygon fill=\"lightgrey\" stroke=\"black\" points=\"1826,-2069 1725,-2069 1725,-2050 1826,-2050 1826,-2069\"/>\n<text text-anchor=\"middle\" x=\"1775.5\" y=\"-2057\" font-family=\"monospace\" font-size=\"10.00\">AccumulateGrad</text>\n</g>\n<!-- 139652314212976&#45;&gt;139652280603440 -->\n<g id=\"edge130\" class=\"edge\">\n<title>139652314212976&#45;&gt;139652280603440</title>\n<path fill=\"none\" stroke=\"black\" d=\"M1778.59,-2110.75C1778.02,-2101.39 1777.27,-2089.19 1776.65,-2079.16\"/>\n<polygon fill=\"black\" stroke=\"black\" points=\"1780.13,-2078.78 1776.02,-2069.02 1773.15,-2079.21 1780.13,-2078.78\"/>\n</g>\n<!-- 139652280603824 -->\n<g id=\"node99\" class=\"node\">\n<title>139652280603824</title>\n<polygon fill=\"lightgrey\" stroke=\"black\" points=\"1481,-2269.5 1320,-2269.5 1320,-2250.5 1481,-2250.5 1481,-2269.5\"/>\n<text text-anchor=\"middle\" x=\"1400.5\" y=\"-2257.5\" font-family=\"monospace\" font-size=\"10.00\">NativeGroupNormBackward0</text>\n</g>\n<!-- 139652280603824&#45;&gt;139652280603248 -->\n<g id=\"edge97\" class=\"edge\">\n<title>139652280603824&#45;&gt;139652280603248</title>\n<path fill=\"none\" stroke=\"black\" d=\"M1415.74,-2250.3C1434.72,-2239.47 1467.35,-2220.84 1489.65,-2208.12\"/>\n<polygon fill=\"black\" stroke=\"black\" points=\"1491.55,-2211.06 1498.5,-2203.06 1488.08,-2204.98 1491.55,-2211.06\"/>\n</g>\n<!-- 139652280639120 -->\n<g id=\"node100\" class=\"node\">\n<title>139652280639120</title>\n<polygon fill=\"orange\" stroke=\"black\" points=\"1707,-2208.5 1600,-2208.5 1600,-2178.5 1707,-2178.5 1707,-2208.5\"/>\n<text text-anchor=\"middle\" x=\"1653.5\" y=\"-2196.5\" font-family=\"monospace\" font-size=\"10.00\">input</text>\n<text text-anchor=\"middle\" x=\"1653.5\" y=\"-2185.5\" font-family=\"monospace\" font-size=\"10.00\"> (1, 8, 32, 32)</text>\n</g>\n<!-- 139652280603824&#45;&gt;139652280639120 -->\n<g id=\"edge98\" class=\"edge\">\n<title>139652280603824&#45;&gt;139652280639120</title>\n<path fill=\"none\" stroke=\"black\" d=\"M1434.1,-2250.43C1476.44,-2239.64 1549.73,-2220.96 1599.86,-2208.18\"/>\n</g>\n<!-- 139652282335296 -->\n<g id=\"node101\" class=\"node\">\n<title>139652282335296</title>\n<polygon fill=\"orange\" stroke=\"black\" points=\"1784,-2208.5 1725,-2208.5 1725,-2178.5 1784,-2178.5 1784,-2208.5\"/>\n<text text-anchor=\"middle\" x=\"1754.5\" y=\"-2196.5\" font-family=\"monospace\" font-size=\"10.00\">result1</text>\n<text text-anchor=\"middle\" x=\"1754.5\" y=\"-2185.5\" font-family=\"monospace\" font-size=\"10.00\"> (1, 8)</text>\n</g>\n<!-- 139652280603824&#45;&gt;139652282335296 -->\n<g id=\"edge99\" class=\"edge\">\n<title>139652280603824&#45;&gt;139652282335296</title>\n<path fill=\"none\" stroke=\"black\" d=\"M1458.67,-2250.46C1543.08,-2237.98 1692.12,-2215.51 1716.5,-2209 1719.23,-2208.27 1722.03,-2207.42 1724.82,-2206.49\"/>\n</g>\n<!-- 139652280642400 -->\n<g id=\"node102\" class=\"node\">\n<title>139652280642400</title>\n<polygon fill=\"orange\" stroke=\"black\" points=\"1316,-2208.5 1257,-2208.5 1257,-2178.5 1316,-2178.5 1316,-2208.5\"/>\n<text text-anchor=\"middle\" x=\"1286.5\" y=\"-2196.5\" font-family=\"monospace\" font-size=\"10.00\">result2</text>\n<text text-anchor=\"middle\" x=\"1286.5\" y=\"-2185.5\" font-family=\"monospace\" font-size=\"10.00\"> (1, 8)</text>\n</g>\n<!-- 139652280603824&#45;&gt;139652280642400 -->\n<g id=\"edge100\" class=\"edge\">\n<title>139652280603824&#45;&gt;139652280642400</title>\n<path fill=\"none\" stroke=\"black\" d=\"M1385.13,-2250.3C1366.29,-2239.64 1334.1,-2221.43 1311.64,-2208.73\"/>\n</g>\n<!-- 139652281750352 -->\n<g id=\"node103\" class=\"node\">\n<title>139652281750352</title>\n<polygon fill=\"lightblue\" stroke=\"black\" points=\"1426.5,-2209 1372.5,-2209 1372.5,-2178 1426.5,-2178 1426.5,-2209\"/>\n<text text-anchor=\"middle\" x=\"1399.5\" y=\"-2185\" font-family=\"monospace\" font-size=\"10.00\"> (8)</text>\n</g>\n<!-- 139652280603824&#45;&gt;139652281750352 -->\n<g id=\"edge101\" class=\"edge\">\n<title>139652280603824&#45;&gt;139652281750352</title>\n<path fill=\"none\" stroke=\"black\" d=\"M1400.37,-2250.3C1400.2,-2239.85 1399.93,-2222.14 1399.73,-2209.47\"/>\n</g>\n<!-- 139652280602912 -->\n<g id=\"node124\" class=\"node\">\n<title>139652280602912</title>\n<polygon fill=\"lightgrey\" stroke=\"black\" points=\"1395,-2136 1294,-2136 1294,-2117 1395,-2117 1395,-2136\"/>\n<text text-anchor=\"middle\" x=\"1344.5\" y=\"-2124\" font-family=\"monospace\" font-size=\"10.00\">AccumulateGrad</text>\n</g>\n<!-- 139652281750352&#45;&gt;139652280602912 -->\n<g id=\"edge126\" class=\"edge\">\n<title>139652281750352&#45;&gt;139652280602912</title>\n<path fill=\"none\" stroke=\"black\" d=\"M1387.02,-2177.75C1378.5,-2167.68 1367.21,-2154.34 1358.41,-2143.93\"/>\n<polygon fill=\"black\" stroke=\"black\" points=\"1360.84,-2141.39 1351.71,-2136.02 1355.5,-2145.91 1360.84,-2141.39\"/>\n</g>\n<!-- 139652280603008 -->\n<g id=\"node104\" class=\"node\">\n<title>139652280603008</title>\n<polygon fill=\"lightgrey\" stroke=\"black\" points=\"1606,-2336 1511,-2336 1511,-2317 1606,-2317 1606,-2336\"/>\n<text text-anchor=\"middle\" x=\"1558.5\" y=\"-2324\" font-family=\"monospace\" font-size=\"10.00\">ReluBackward0</text>\n</g>\n<!-- 139652280603008&#45;&gt;139652280603824 -->\n<g id=\"edge102\" class=\"edge\">\n<title>139652280603008&#45;&gt;139652280603824</title>\n<path fill=\"none\" stroke=\"black\" d=\"M1537.52,-2316.93C1510.25,-2305.8 1462.43,-2286.28 1431.11,-2273.5\"/>\n<polygon fill=\"black\" stroke=\"black\" points=\"1432.15,-2270.14 1421.57,-2269.6 1429.5,-2276.62 1432.15,-2270.14\"/>\n</g>\n<!-- 139652280641680 -->\n<g id=\"node105\" class=\"node\">\n<title>139652280641680</title>\n<polygon fill=\"orange\" stroke=\"black\" points=\"1612,-2275 1505,-2275 1505,-2245 1612,-2245 1612,-2275\"/>\n<text text-anchor=\"middle\" x=\"1558.5\" y=\"-2263\" font-family=\"monospace\" font-size=\"10.00\">result</text>\n<text text-anchor=\"middle\" x=\"1558.5\" y=\"-2252\" font-family=\"monospace\" font-size=\"10.00\"> (1, 8, 32, 32)</text>\n</g>\n<!-- 139652280603008&#45;&gt;139652280641680 -->\n<g id=\"edge103\" class=\"edge\">\n<title>139652280603008&#45;&gt;139652280641680</title>\n<path fill=\"none\" stroke=\"black\" d=\"M1558.5,-2316.8C1558.5,-2306.21 1558.5,-2288.17 1558.5,-2275.47\"/>\n</g>\n<!-- 139652280604016 -->\n<g id=\"node106\" class=\"node\">\n<title>139652280604016</title>\n<polygon fill=\"lightgrey\" stroke=\"black\" points=\"1695,-2403 1558,-2403 1558,-2384 1695,-2384 1695,-2403\"/>\n<text text-anchor=\"middle\" x=\"1626.5\" y=\"-2391\" font-family=\"monospace\" font-size=\"10.00\">ConvolutionBackward0</text>\n</g>\n<!-- 139652280604016&#45;&gt;139652280603008 -->\n<g id=\"edge104\" class=\"edge\">\n<title>139652280604016&#45;&gt;139652280603008</title>\n<path fill=\"none\" stroke=\"black\" d=\"M1617.33,-2383.73C1606.52,-2373.4 1588.35,-2356.04 1575.06,-2343.33\"/>\n<polygon fill=\"black\" stroke=\"black\" points=\"1577.17,-2340.51 1567.53,-2336.13 1572.34,-2345.57 1577.17,-2340.51\"/>\n</g>\n<!-- 139652280564880 -->\n<g id=\"node107\" class=\"node\">\n<title>139652280564880</title>\n<polygon fill=\"orange\" stroke=\"black\" points=\"1731,-2341.5 1624,-2341.5 1624,-2311.5 1731,-2311.5 1731,-2341.5\"/>\n<text text-anchor=\"middle\" x=\"1677.5\" y=\"-2329.5\" font-family=\"monospace\" font-size=\"10.00\">input</text>\n<text text-anchor=\"middle\" x=\"1677.5\" y=\"-2318.5\" font-family=\"monospace\" font-size=\"10.00\"> (1, 8, 32, 32)</text>\n</g>\n<!-- 139652280604016&#45;&gt;139652280564880 -->\n<g id=\"edge105\" class=\"edge\">\n<title>139652280604016&#45;&gt;139652280564880</title>\n<path fill=\"none\" stroke=\"black\" d=\"M1633.38,-2383.73C1641.86,-2372.92 1656.39,-2354.41 1666.45,-2341.59\"/>\n</g>\n<!-- 139652314141920 -->\n<g id=\"node108\" class=\"node\">\n<title>139652314141920</title>\n<polygon fill=\"lightblue\" stroke=\"black\" points=\"1844,-2342 1749,-2342 1749,-2311 1844,-2311 1844,-2342\"/>\n<text text-anchor=\"middle\" x=\"1796.5\" y=\"-2318\" font-family=\"monospace\" font-size=\"10.00\"> (8, 8, 3, 3)</text>\n</g>\n<!-- 139652280604016&#45;&gt;139652314141920 -->\n<g id=\"edge106\" class=\"edge\">\n<title>139652280604016&#45;&gt;139652314141920</title>\n<path fill=\"none\" stroke=\"black\" d=\"M1649.07,-2383.87C1676.98,-2373.2 1724.9,-2354.88 1758.51,-2342.02\"/>\n</g>\n<!-- 139652280604160 -->\n<g id=\"node123\" class=\"node\">\n<title>139652280604160</title>\n<polygon fill=\"lightgrey\" stroke=\"black\" points=\"1885,-2269.5 1784,-2269.5 1784,-2250.5 1885,-2250.5 1885,-2269.5\"/>\n<text text-anchor=\"middle\" x=\"1834.5\" y=\"-2257.5\" font-family=\"monospace\" font-size=\"10.00\">AccumulateGrad</text>\n</g>\n<!-- 139652314141920&#45;&gt;139652280604160 -->\n<g id=\"edge124\" class=\"edge\">\n<title>139652314141920&#45;&gt;139652280604160</title>\n<path fill=\"none\" stroke=\"black\" d=\"M1805.12,-2310.86C1810.76,-2301.29 1818.17,-2288.72 1824.13,-2278.6\"/>\n<polygon fill=\"black\" stroke=\"black\" points=\"1827.24,-2280.22 1829.3,-2269.82 1821.21,-2276.66 1827.24,-2280.22\"/>\n</g>\n<!-- 139652280604592 -->\n<g id=\"node109\" class=\"node\">\n<title>139652280604592</title>\n<polygon fill=\"lightgrey\" stroke=\"black\" points=\"1593,-2469.5 1432,-2469.5 1432,-2450.5 1593,-2450.5 1593,-2469.5\"/>\n<text text-anchor=\"middle\" x=\"1512.5\" y=\"-2457.5\" font-family=\"monospace\" font-size=\"10.00\">NativeGroupNormBackward0</text>\n</g>\n<!-- 139652280604592&#45;&gt;139652280604016 -->\n<g id=\"edge107\" class=\"edge\">\n<title>139652280604592&#45;&gt;139652280604016</title>\n<path fill=\"none\" stroke=\"black\" d=\"M1527.87,-2450.3C1547.02,-2439.47 1579.94,-2420.84 1602.44,-2408.12\"/>\n<polygon fill=\"black\" stroke=\"black\" points=\"1604.39,-2411.03 1611.37,-2403.06 1600.94,-2404.94 1604.39,-2411.03\"/>\n</g>\n<!-- 139652280646000 -->\n<g id=\"node110\" class=\"node\">\n<title>139652280646000</title>\n<polygon fill=\"orange\" stroke=\"black\" points=\"1820,-2408.5 1713,-2408.5 1713,-2378.5 1820,-2378.5 1820,-2408.5\"/>\n<text text-anchor=\"middle\" x=\"1766.5\" y=\"-2396.5\" font-family=\"monospace\" font-size=\"10.00\">input</text>\n<text text-anchor=\"middle\" x=\"1766.5\" y=\"-2385.5\" font-family=\"monospace\" font-size=\"10.00\"> (1, 8, 32, 32)</text>\n</g>\n<!-- 139652280604592&#45;&gt;139652280646000 -->\n<g id=\"edge108\" class=\"edge\">\n<title>139652280604592&#45;&gt;139652280646000</title>\n<path fill=\"none\" stroke=\"black\" d=\"M1546.23,-2450.43C1588.74,-2439.64 1662.32,-2420.96 1712.64,-2408.18\"/>\n</g>\n<!-- 139652280641920 -->\n<g id=\"node111\" class=\"node\">\n<title>139652280641920</title>\n<polygon fill=\"orange\" stroke=\"black\" points=\"1897,-2408.5 1838,-2408.5 1838,-2378.5 1897,-2378.5 1897,-2408.5\"/>\n<text text-anchor=\"middle\" x=\"1867.5\" y=\"-2396.5\" font-family=\"monospace\" font-size=\"10.00\">result1</text>\n<text text-anchor=\"middle\" x=\"1867.5\" y=\"-2385.5\" font-family=\"monospace\" font-size=\"10.00\"> (1, 8)</text>\n</g>\n<!-- 139652280604592&#45;&gt;139652280641920 -->\n<g id=\"edge109\" class=\"edge\">\n<title>139652280604592&#45;&gt;139652280641920</title>\n<path fill=\"none\" stroke=\"black\" d=\"M1567.05,-2450.47C1656.86,-2436.41 1826.34,-2409.84 1829.5,-2409 1832.23,-2408.27 1835.03,-2407.42 1837.82,-2406.49\"/>\n</g>\n<!-- 139652280642240 -->\n<g id=\"node112\" class=\"node\">\n<title>139652280642240</title>\n<polygon fill=\"orange\" stroke=\"black\" points=\"1429,-2408.5 1370,-2408.5 1370,-2378.5 1429,-2378.5 1429,-2408.5\"/>\n<text text-anchor=\"middle\" x=\"1399.5\" y=\"-2396.5\" font-family=\"monospace\" font-size=\"10.00\">result2</text>\n<text text-anchor=\"middle\" x=\"1399.5\" y=\"-2385.5\" font-family=\"monospace\" font-size=\"10.00\"> (1, 8)</text>\n</g>\n<!-- 139652280604592&#45;&gt;139652280642240 -->\n<g id=\"edge110\" class=\"edge\">\n<title>139652280604592&#45;&gt;139652280642240</title>\n<path fill=\"none\" stroke=\"black\" d=\"M1497.26,-2450.3C1478.59,-2439.64 1446.69,-2421.43 1424.42,-2408.73\"/>\n</g>\n<!-- 139652281755632 -->\n<g id=\"node113\" class=\"node\">\n<title>139652281755632</title>\n<polygon fill=\"lightblue\" stroke=\"black\" points=\"1539.5,-2409 1485.5,-2409 1485.5,-2378 1539.5,-2378 1539.5,-2409\"/>\n<text text-anchor=\"middle\" x=\"1512.5\" y=\"-2385\" font-family=\"monospace\" font-size=\"10.00\"> (8)</text>\n</g>\n<!-- 139652280604592&#45;&gt;139652281755632 -->\n<g id=\"edge111\" class=\"edge\">\n<title>139652280604592&#45;&gt;139652281755632</title>\n<path fill=\"none\" stroke=\"black\" d=\"M1512.5,-2450.3C1512.5,-2439.85 1512.5,-2422.14 1512.5,-2409.47\"/>\n</g>\n<!-- 139652280601712 -->\n<g id=\"node120\" class=\"node\">\n<title>139652280601712</title>\n<polygon fill=\"lightgrey\" stroke=\"black\" points=\"1493,-2336 1392,-2336 1392,-2317 1493,-2317 1493,-2336\"/>\n<text text-anchor=\"middle\" x=\"1442.5\" y=\"-2324\" font-family=\"monospace\" font-size=\"10.00\">AccumulateGrad</text>\n</g>\n<!-- 139652281755632&#45;&gt;139652280601712 -->\n<g id=\"edge120\" class=\"edge\">\n<title>139652281755632&#45;&gt;139652280601712</title>\n<path fill=\"none\" stroke=\"black\" d=\"M1496.62,-2377.75C1485.45,-2367.38 1470.54,-2353.54 1459.2,-2343\"/>\n<polygon fill=\"black\" stroke=\"black\" points=\"1461.38,-2340.26 1451.67,-2336.02 1456.62,-2345.39 1461.38,-2340.26\"/>\n</g>\n<!-- 139652280601088 -->\n<g id=\"node114\" class=\"node\">\n<title>139652280601088</title>\n<polygon fill=\"lightgrey\" stroke=\"black\" points=\"1682,-2536 1587,-2536 1587,-2517 1682,-2517 1682,-2536\"/>\n<text text-anchor=\"middle\" x=\"1634.5\" y=\"-2524\" font-family=\"monospace\" font-size=\"10.00\">ReluBackward0</text>\n</g>\n<!-- 139652280601088&#45;&gt;139652280604592 -->\n<g id=\"edge112\" class=\"edge\">\n<title>139652280601088&#45;&gt;139652280604592</title>\n<path fill=\"none\" stroke=\"black\" d=\"M1618.3,-2516.93C1597.7,-2506.04 1561.91,-2487.12 1537.72,-2474.34\"/>\n<polygon fill=\"black\" stroke=\"black\" points=\"1539.24,-2471.18 1528.77,-2469.6 1535.97,-2477.37 1539.24,-2471.18\"/>\n</g>\n<!-- 139652280642000 -->\n<g id=\"node115\" class=\"node\">\n<title>139652280642000</title>\n<polygon fill=\"orange\" stroke=\"black\" points=\"1718,-2475 1611,-2475 1611,-2445 1718,-2445 1718,-2475\"/>\n<text text-anchor=\"middle\" x=\"1664.5\" y=\"-2463\" font-family=\"monospace\" font-size=\"10.00\">result</text>\n<text text-anchor=\"middle\" x=\"1664.5\" y=\"-2452\" font-family=\"monospace\" font-size=\"10.00\"> (1, 8, 32, 32)</text>\n</g>\n<!-- 139652280601088&#45;&gt;139652280642000 -->\n<g id=\"edge113\" class=\"edge\">\n<title>139652280601088&#45;&gt;139652280642000</title>\n<path fill=\"none\" stroke=\"black\" d=\"M1638.55,-2516.8C1643.47,-2506.21 1651.86,-2488.17 1657.77,-2475.47\"/>\n</g>\n<!-- 139652280600752 -->\n<g id=\"node116\" class=\"node\">\n<title>139652280600752</title>\n<polygon fill=\"lightgrey\" stroke=\"black\" points=\"1741,-2603 1604,-2603 1604,-2584 1741,-2584 1741,-2603\"/>\n<text text-anchor=\"middle\" x=\"1672.5\" y=\"-2591\" font-family=\"monospace\" font-size=\"10.00\">ConvolutionBackward0</text>\n</g>\n<!-- 139652280600752&#45;&gt;139652280601088 -->\n<g id=\"edge114\" class=\"edge\">\n<title>139652280600752&#45;&gt;139652280601088</title>\n<path fill=\"none\" stroke=\"black\" d=\"M1667.38,-2583.73C1661.56,-2573.79 1651.94,-2557.34 1644.61,-2544.79\"/>\n<polygon fill=\"black\" stroke=\"black\" points=\"1647.61,-2542.99 1639.54,-2536.13 1641.57,-2546.53 1647.61,-2542.99\"/>\n</g>\n<!-- 139652280639200 -->\n<g id=\"node117\" class=\"node\">\n<title>139652280639200</title>\n<polygon fill=\"orange\" stroke=\"black\" points=\"1447,-2541.5 1340,-2541.5 1340,-2511.5 1447,-2511.5 1447,-2541.5\"/>\n<text text-anchor=\"middle\" x=\"1393.5\" y=\"-2529.5\" font-family=\"monospace\" font-size=\"10.00\">input</text>\n<text text-anchor=\"middle\" x=\"1393.5\" y=\"-2518.5\" font-family=\"monospace\" font-size=\"10.00\"> (1, 3, 32, 32)</text>\n</g>\n<!-- 139652280600752&#45;&gt;139652280639200 -->\n<g id=\"edge115\" class=\"edge\">\n<title>139652280600752&#45;&gt;139652280639200</title>\n<path fill=\"none\" stroke=\"black\" d=\"M1635.74,-2583.94C1587.5,-2572.7 1502.48,-2552.89 1447.08,-2539.98\"/>\n</g>\n<!-- 139652314938032 -->\n<g id=\"node118\" class=\"node\">\n<title>139652314938032</title>\n<polygon fill=\"lightblue\" stroke=\"black\" points=\"1834,-2542 1739,-2542 1739,-2511 1834,-2511 1834,-2542\"/>\n<text text-anchor=\"middle\" x=\"1786.5\" y=\"-2518\" font-family=\"monospace\" font-size=\"10.00\"> (8, 3, 3, 3)</text>\n</g>\n<!-- 139652280600752&#45;&gt;139652314938032 -->\n<g id=\"edge116\" class=\"edge\">\n<title>139652280600752&#45;&gt;139652314938032</title>\n<path fill=\"none\" stroke=\"black\" d=\"M1687.87,-2583.73C1706.59,-2573.06 1738.48,-2554.88 1760.92,-2542.08\"/>\n</g>\n<!-- 139652280600656 -->\n<g id=\"node119\" class=\"node\">\n<title>139652280600656</title>\n<polygon fill=\"lightgrey\" stroke=\"black\" points=\"1837,-2469.5 1736,-2469.5 1736,-2450.5 1837,-2450.5 1837,-2469.5\"/>\n<text text-anchor=\"middle\" x=\"1786.5\" y=\"-2457.5\" font-family=\"monospace\" font-size=\"10.00\">AccumulateGrad</text>\n</g>\n<!-- 139652314938032&#45;&gt;139652280600656 -->\n<g id=\"edge118\" class=\"edge\">\n<title>139652314938032&#45;&gt;139652280600656</title>\n<path fill=\"none\" stroke=\"black\" d=\"M1786.5,-2510.86C1786.5,-2501.68 1786.5,-2489.75 1786.5,-2479.86\"/>\n<polygon fill=\"black\" stroke=\"black\" points=\"1790,-2479.82 1786.5,-2469.82 1783,-2479.82 1790,-2479.82\"/>\n</g>\n<!-- 139652280600656&#45;&gt;139652280600752 -->\n<g id=\"edge117\" class=\"edge\">\n<title>139652280600656&#45;&gt;139652280600752</title>\n<path fill=\"none\" stroke=\"black\" d=\"M1775.53,-2469.56C1763.73,-2479.03 1744.76,-2495.08 1730.5,-2511 1712.1,-2531.55 1694.21,-2557.97 1683.27,-2575.07\"/>\n<polygon fill=\"black\" stroke=\"black\" points=\"1680.05,-2573.62 1677.69,-2583.94 1685.98,-2577.34 1680.05,-2573.62\"/>\n</g>\n<!-- 139652280601712&#45;&gt;139652280604592 -->\n<g id=\"edge119\" class=\"edge\">\n<title>139652280601712&#45;&gt;139652280604592</title>\n<path fill=\"none\" stroke=\"black\" d=\"M1445.45,-2336.37C1450.69,-2351.68 1462.44,-2383.84 1476.5,-2409 1482.99,-2420.6 1491.66,-2432.73 1498.87,-2442.13\"/>\n<polygon fill=\"black\" stroke=\"black\" points=\"1496.28,-2444.5 1505.21,-2450.2 1501.78,-2440.18 1496.28,-2444.5\"/>\n</g>\n<!-- 139652280604544 -->\n<g id=\"node121\" class=\"node\">\n<title>139652280604544</title>\n<polygon fill=\"lightgrey\" stroke=\"black\" points=\"1566,-2536 1465,-2536 1465,-2517 1566,-2517 1566,-2536\"/>\n<text text-anchor=\"middle\" x=\"1515.5\" y=\"-2524\" font-family=\"monospace\" font-size=\"10.00\">AccumulateGrad</text>\n</g>\n<!-- 139652280604544&#45;&gt;139652280604592 -->\n<g id=\"edge121\" class=\"edge\">\n<title>139652280604544&#45;&gt;139652280604592</title>\n<path fill=\"none\" stroke=\"black\" d=\"M1515.1,-2516.8C1514.65,-2507.32 1513.94,-2491.88 1513.37,-2479.64\"/>\n<polygon fill=\"black\" stroke=\"black\" points=\"1516.86,-2479.39 1512.9,-2469.56 1509.87,-2479.71 1516.86,-2479.39\"/>\n</g>\n<!-- 139652282336736 -->\n<g id=\"node122\" class=\"node\">\n<title>139652282336736</title>\n<polygon fill=\"lightblue\" stroke=\"black\" points=\"1542.5,-2609 1488.5,-2609 1488.5,-2578 1542.5,-2578 1542.5,-2609\"/>\n<text text-anchor=\"middle\" x=\"1515.5\" y=\"-2585\" font-family=\"monospace\" font-size=\"10.00\"> (8)</text>\n</g>\n<!-- 139652282336736&#45;&gt;139652280604544 -->\n<g id=\"edge122\" class=\"edge\">\n<title>139652282336736&#45;&gt;139652280604544</title>\n<path fill=\"none\" stroke=\"black\" d=\"M1515.5,-2577.75C1515.5,-2568.39 1515.5,-2556.19 1515.5,-2546.16\"/>\n<polygon fill=\"black\" stroke=\"black\" points=\"1519,-2546.02 1515.5,-2536.02 1512,-2546.02 1519,-2546.02\"/>\n</g>\n<!-- 139652280604160&#45;&gt;139652280604016 -->\n<g id=\"edge123\" class=\"edge\">\n<title>139652280604160&#45;&gt;139652280604016</title>\n<path fill=\"none\" stroke=\"black\" d=\"M1840.72,-2269.6C1851.49,-2285.62 1870.85,-2320.37 1853.5,-2342 1848.06,-2348.78 1747.13,-2369.31 1681.7,-2382.01\"/>\n<polygon fill=\"black\" stroke=\"black\" points=\"1680.68,-2378.64 1671.53,-2383.97 1682.01,-2385.51 1680.68,-2378.64\"/>\n</g>\n<!-- 139652280602912&#45;&gt;139652280603824 -->\n<g id=\"edge125\" class=\"edge\">\n<title>139652280602912&#45;&gt;139652280603824</title>\n<path fill=\"none\" stroke=\"black\" d=\"M1345.38,-2136.45C1347.16,-2151.88 1352.04,-2184.21 1363.5,-2209 1369.19,-2221.31 1378.2,-2233.57 1385.9,-2242.87\"/>\n<polygon fill=\"black\" stroke=\"black\" points=\"1383.3,-2245.21 1392.48,-2250.5 1388.6,-2240.64 1383.3,-2245.21\"/>\n</g>\n<!-- 139652280603872 -->\n<g id=\"node125\" class=\"node\">\n<title>139652280603872</title>\n<polygon fill=\"lightgrey\" stroke=\"black\" points=\"1374,-2336 1273,-2336 1273,-2317 1374,-2317 1374,-2336\"/>\n<text text-anchor=\"middle\" x=\"1323.5\" y=\"-2324\" font-family=\"monospace\" font-size=\"10.00\">AccumulateGrad</text>\n</g>\n<!-- 139652280603872&#45;&gt;139652280603824 -->\n<g id=\"edge127\" class=\"edge\">\n<title>139652280603872&#45;&gt;139652280603824</title>\n<path fill=\"none\" stroke=\"black\" d=\"M1333.88,-2316.8C1346.35,-2306.36 1367.47,-2288.66 1382.59,-2276\"/>\n<polygon fill=\"black\" stroke=\"black\" points=\"1384.86,-2278.67 1390.28,-2269.56 1380.37,-2273.3 1384.86,-2278.67\"/>\n</g>\n<!-- 139652282337216 -->\n<g id=\"node126\" class=\"node\">\n<title>139652282337216</title>\n<polygon fill=\"lightblue\" stroke=\"black\" points=\"1350.5,-2409 1296.5,-2409 1296.5,-2378 1350.5,-2378 1350.5,-2409\"/>\n<text text-anchor=\"middle\" x=\"1323.5\" y=\"-2385\" font-family=\"monospace\" font-size=\"10.00\"> (8)</text>\n</g>\n<!-- 139652282337216&#45;&gt;139652280603872 -->\n<g id=\"edge128\" class=\"edge\">\n<title>139652282337216&#45;&gt;139652280603872</title>\n<path fill=\"none\" stroke=\"black\" d=\"M1323.5,-2377.75C1323.5,-2368.39 1323.5,-2356.19 1323.5,-2346.16\"/>\n<polygon fill=\"black\" stroke=\"black\" points=\"1327,-2346.02 1323.5,-2336.02 1320,-2346.02 1327,-2346.02\"/>\n</g>\n<!-- 139652280603440&#45;&gt;139652280603248 -->\n<g id=\"edge129\" class=\"edge\">\n<title>139652280603440&#45;&gt;139652280603248</title>\n<path fill=\"none\" stroke=\"black\" d=\"M1767,-2069.01C1748.15,-2087.74 1703.02,-2131.67 1684.5,-2142 1649.81,-2161.35 1606.92,-2173.99 1572.78,-2181.79\"/>\n<polygon fill=\"black\" stroke=\"black\" points=\"1571.95,-2178.38 1562.94,-2183.95 1573.46,-2185.22 1571.95,-2178.38\"/>\n</g>\n<!-- 139652280603056&#45;&gt;139652280603296 -->\n<g id=\"edge131\" class=\"edge\">\n<title>139652280603056&#45;&gt;139652280603296</title>\n<path fill=\"none\" stroke=\"black\" d=\"M1658.74,-2002.94C1668.65,-2018.33 1685.68,-2050.56 1673.5,-2075 1665.45,-2091.15 1649.5,-2103.49 1635.19,-2111.93\"/>\n<polygon fill=\"black\" stroke=\"black\" points=\"1633.19,-2109.03 1626.12,-2116.92 1636.57,-2115.17 1633.19,-2109.03\"/>\n</g>\n<!-- 139652280604448&#45;&gt;139652280604352 -->\n<g id=\"edge133\" class=\"edge\">\n<title>139652280604448&#45;&gt;139652280604352</title>\n<path fill=\"none\" stroke=\"black\" d=\"M1234.63,-1869.33C1234.96,-1890.44 1235.77,-1944.17 1236.21,-1973.02\"/>\n<polygon fill=\"black\" stroke=\"black\" points=\"1232.72,-1973.43 1236.37,-1983.37 1239.72,-1973.32 1232.72,-1973.43\"/>\n</g>\n<!-- 139652280604496 -->\n<g id=\"node130\" class=\"node\">\n<title>139652280604496</title>\n<polygon fill=\"lightgrey\" stroke=\"black\" points=\"1287,-2069 1186,-2069 1186,-2050 1287,-2050 1287,-2069\"/>\n<text text-anchor=\"middle\" x=\"1236.5\" y=\"-2057\" font-family=\"monospace\" font-size=\"10.00\">AccumulateGrad</text>\n</g>\n<!-- 139652280604496&#45;&gt;139652280604352 -->\n<g id=\"edge135\" class=\"edge\">\n<title>139652280604496&#45;&gt;139652280604352</title>\n<path fill=\"none\" stroke=\"black\" d=\"M1236.5,-2049.8C1236.5,-2040.32 1236.5,-2024.88 1236.5,-2012.64\"/>\n<polygon fill=\"black\" stroke=\"black\" points=\"1240,-2012.56 1236.5,-2002.56 1233,-2012.56 1240,-2012.56\"/>\n</g>\n<!-- 139652280562880 -->\n<g id=\"node131\" class=\"node\">\n<title>139652280562880</title>\n<polygon fill=\"lightblue\" stroke=\"black\" points=\"1263.5,-2142 1209.5,-2142 1209.5,-2111 1263.5,-2111 1263.5,-2142\"/>\n<text text-anchor=\"middle\" x=\"1236.5\" y=\"-2118\" font-family=\"monospace\" font-size=\"10.00\"> (16)</text>\n</g>\n<!-- 139652280562880&#45;&gt;139652280604496 -->\n<g id=\"edge136\" class=\"edge\">\n<title>139652280562880&#45;&gt;139652280604496</title>\n<path fill=\"none\" stroke=\"black\" d=\"M1236.5,-2110.75C1236.5,-2101.39 1236.5,-2089.19 1236.5,-2079.16\"/>\n<polygon fill=\"black\" stroke=\"black\" points=\"1240,-2079.02 1236.5,-2069.02 1233,-2079.02 1240,-2079.02\"/>\n</g>\n<!-- 139652280604400 -->\n<g id=\"node132\" class=\"node\">\n<title>139652280604400</title>\n<polygon fill=\"lightgrey\" stroke=\"black\" points=\"1062,-2469.5 901,-2469.5 901,-2450.5 1062,-2450.5 1062,-2469.5\"/>\n<text text-anchor=\"middle\" x=\"981.5\" y=\"-2457.5\" font-family=\"monospace\" font-size=\"10.00\">NativeGroupNormBackward0</text>\n</g>\n<!-- 139652280604400&#45;&gt;139652280604304 -->\n<g id=\"edge137\" class=\"edge\">\n<title>139652280604400&#45;&gt;139652280604304</title>\n<path fill=\"none\" stroke=\"black\" d=\"M986.2,-2450.36C996.97,-2429.75 1022.5,-2375.81 1022.5,-2327.5 1022.5,-2327.5 1022.5,-2327.5 1022.5,-2058.5 1022.5,-2018.46 1022.5,-1971.54 1022.5,-1946.14\"/>\n<polygon fill=\"black\" stroke=\"black\" points=\"1026,-1946.08 1022.5,-1936.08 1019,-1946.08 1026,-1946.08\"/>\n</g>\n<!-- 139652280638800 -->\n<g id=\"node133\" class=\"node\">\n<title>139652280638800</title>\n<polygon fill=\"orange\" stroke=\"black\" points=\"1164,-2408.5 1051,-2408.5 1051,-2378.5 1164,-2378.5 1164,-2408.5\"/>\n<text text-anchor=\"middle\" x=\"1107.5\" y=\"-2396.5\" font-family=\"monospace\" font-size=\"10.00\">input</text>\n<text text-anchor=\"middle\" x=\"1107.5\" y=\"-2385.5\" font-family=\"monospace\" font-size=\"10.00\"> (1, 16, 16, 16)</text>\n</g>\n<!-- 139652280604400&#45;&gt;139652280638800 -->\n<g id=\"edge138\" class=\"edge\">\n<title>139652280604400&#45;&gt;139652280638800</title>\n<path fill=\"none\" stroke=\"black\" d=\"M998.23,-2450.43C1019.12,-2439.74 1055.12,-2421.31 1080.07,-2408.54\"/>\n</g>\n<!-- 139652280642880 -->\n<g id=\"node134\" class=\"node\">\n<title>139652280642880</title>\n<polygon fill=\"orange\" stroke=\"black\" points=\"801,-2408.5 736,-2408.5 736,-2378.5 801,-2378.5 801,-2408.5\"/>\n<text text-anchor=\"middle\" x=\"768.5\" y=\"-2396.5\" font-family=\"monospace\" font-size=\"10.00\">result1</text>\n<text text-anchor=\"middle\" x=\"768.5\" y=\"-2385.5\" font-family=\"monospace\" font-size=\"10.00\"> (1, 16)</text>\n</g>\n<!-- 139652280604400&#45;&gt;139652280642880 -->\n<g id=\"edge139\" class=\"edge\">\n<title>139652280604400&#45;&gt;139652280642880</title>\n<path fill=\"none\" stroke=\"black\" d=\"M950.27,-2450.5C915.68,-2440.95 858.34,-2424.72 809.5,-2409 806.77,-2408.12 803.95,-2407.18 801.12,-2406.22\"/>\n</g>\n<!-- 139652280642160 -->\n<g id=\"node135\" class=\"node\">\n<title>139652280642160</title>\n<polygon fill=\"orange\" stroke=\"black\" points=\"884,-2408.5 819,-2408.5 819,-2378.5 884,-2378.5 884,-2408.5\"/>\n<text text-anchor=\"middle\" x=\"851.5\" y=\"-2396.5\" font-family=\"monospace\" font-size=\"10.00\">result2</text>\n<text text-anchor=\"middle\" x=\"851.5\" y=\"-2385.5\" font-family=\"monospace\" font-size=\"10.00\"> (1, 16)</text>\n</g>\n<!-- 139652280604400&#45;&gt;139652280642160 -->\n<g id=\"edge140\" class=\"edge\">\n<title>139652280604400&#45;&gt;139652280642160</title>\n<path fill=\"none\" stroke=\"black\" d=\"M964.24,-2450.43C942.69,-2439.74 905.54,-2421.31 879.8,-2408.54\"/>\n</g>\n<!-- 139652280561360 -->\n<g id=\"node136\" class=\"node\">\n<title>139652280561360</title>\n<polygon fill=\"lightblue\" stroke=\"black\" points=\"956.5,-2409 902.5,-2409 902.5,-2378 956.5,-2378 956.5,-2409\"/>\n<text text-anchor=\"middle\" x=\"929.5\" y=\"-2385\" font-family=\"monospace\" font-size=\"10.00\"> (16)</text>\n</g>\n<!-- 139652280604400&#45;&gt;139652280561360 -->\n<g id=\"edge141\" class=\"edge\">\n<title>139652280604400&#45;&gt;139652280561360</title>\n<path fill=\"none\" stroke=\"black\" d=\"M974.49,-2450.3C966.06,-2439.85 951.78,-2422.14 941.57,-2409.47\"/>\n</g>\n<!-- 139652280603344 -->\n<g id=\"node142\" class=\"node\">\n<title>139652280603344</title>\n<polygon fill=\"lightgrey\" stroke=\"black\" points=\"987,-2336 886,-2336 886,-2317 987,-2317 987,-2336\"/>\n<text text-anchor=\"middle\" x=\"936.5\" y=\"-2324\" font-family=\"monospace\" font-size=\"10.00\">AccumulateGrad</text>\n</g>\n<!-- 139652280561360&#45;&gt;139652280603344 -->\n<g id=\"edge150\" class=\"edge\">\n<title>139652280561360&#45;&gt;139652280603344</title>\n<path fill=\"none\" stroke=\"black\" d=\"M931.09,-2377.75C932.1,-2368.39 933.41,-2356.19 934.49,-2346.16\"/>\n<polygon fill=\"black\" stroke=\"black\" points=\"937.99,-2346.34 935.58,-2336.02 931.03,-2345.59 937.99,-2346.34\"/>\n</g>\n<!-- 139652280603152 -->\n<g id=\"node137\" class=\"node\">\n<title>139652280603152</title>\n<polygon fill=\"lightgrey\" stroke=\"black\" points=\"1164,-2536 1069,-2536 1069,-2517 1164,-2517 1164,-2536\"/>\n<text text-anchor=\"middle\" x=\"1116.5\" y=\"-2524\" font-family=\"monospace\" font-size=\"10.00\">ReluBackward0</text>\n</g>\n<!-- 139652280603152&#45;&gt;139652280604400 -->\n<g id=\"edge142\" class=\"edge\">\n<title>139652280603152&#45;&gt;139652280604400</title>\n<path fill=\"none\" stroke=\"black\" d=\"M1098.57,-2516.93C1075.58,-2505.95 1035.47,-2486.79 1008.7,-2474\"/>\n<polygon fill=\"black\" stroke=\"black\" points=\"1010.03,-2470.75 999.5,-2469.6 1007.02,-2477.07 1010.03,-2470.75\"/>\n</g>\n<!-- 139652280643040 -->\n<g id=\"node138\" class=\"node\">\n<title>139652280643040</title>\n<polygon fill=\"orange\" stroke=\"black\" points=\"1193,-2475 1080,-2475 1080,-2445 1193,-2445 1193,-2475\"/>\n<text text-anchor=\"middle\" x=\"1136.5\" y=\"-2463\" font-family=\"monospace\" font-size=\"10.00\">result</text>\n<text text-anchor=\"middle\" x=\"1136.5\" y=\"-2452\" font-family=\"monospace\" font-size=\"10.00\"> (1, 16, 16, 16)</text>\n</g>\n<!-- 139652280603152&#45;&gt;139652280643040 -->\n<g id=\"edge143\" class=\"edge\">\n<title>139652280603152&#45;&gt;139652280643040</title>\n<path fill=\"none\" stroke=\"black\" d=\"M1119.2,-2516.8C1122.48,-2506.21 1128.08,-2488.17 1132.01,-2475.47\"/>\n</g>\n<!-- 139652280602960 -->\n<g id=\"node139\" class=\"node\">\n<title>139652280602960</title>\n<polygon fill=\"lightgrey\" stroke=\"black\" points=\"1340,-2603 1203,-2603 1203,-2584 1340,-2584 1340,-2603\"/>\n<text text-anchor=\"middle\" x=\"1271.5\" y=\"-2591\" font-family=\"monospace\" font-size=\"10.00\">ConvolutionBackward0</text>\n</g>\n<!-- 139652280602960&#45;&gt;139652280639200 -->\n<g id=\"edge145\" class=\"edge\">\n<title>139652280602960&#45;&gt;139652280639200</title>\n<path fill=\"none\" stroke=\"black\" d=\"M1287.7,-2583.87C1307.92,-2573.09 1342.79,-2554.52 1366.94,-2541.65\"/>\n</g>\n<!-- 139652280602960&#45;&gt;139652280603152 -->\n<g id=\"edge144\" class=\"edge\">\n<title>139652280602960&#45;&gt;139652280603152</title>\n<path fill=\"none\" stroke=\"black\" d=\"M1250.92,-2583.87C1224.17,-2572.65 1177.25,-2552.98 1146.53,-2540.09\"/>\n<polygon fill=\"black\" stroke=\"black\" points=\"1147.74,-2536.81 1137.17,-2536.17 1145.04,-2543.26 1147.74,-2536.81\"/>\n</g>\n<!-- 139652280561520 -->\n<g id=\"node140\" class=\"node\">\n<title>139652280561520</title>\n<polygon fill=\"lightblue\" stroke=\"black\" points=\"1283,-2542 1182,-2542 1182,-2511 1283,-2511 1283,-2542\"/>\n<text text-anchor=\"middle\" x=\"1232.5\" y=\"-2518\" font-family=\"monospace\" font-size=\"10.00\"> (16, 3, 3, 3)</text>\n</g>\n<!-- 139652280602960&#45;&gt;139652280561520 -->\n<g id=\"edge146\" class=\"edge\">\n<title>139652280602960&#45;&gt;139652280561520</title>\n<path fill=\"none\" stroke=\"black\" d=\"M1266.24,-2583.73C1259.84,-2573.06 1248.93,-2554.88 1241.25,-2542.08\"/>\n</g>\n<!-- 139652280600800 -->\n<g id=\"node141\" class=\"node\">\n<title>139652280600800</title>\n<polygon fill=\"lightgrey\" stroke=\"black\" points=\"1337,-2469.5 1236,-2469.5 1236,-2450.5 1337,-2450.5 1337,-2469.5\"/>\n<text text-anchor=\"middle\" x=\"1286.5\" y=\"-2457.5\" font-family=\"monospace\" font-size=\"10.00\">AccumulateGrad</text>\n</g>\n<!-- 139652280561520&#45;&gt;139652280600800 -->\n<g id=\"edge148\" class=\"edge\">\n<title>139652280561520&#45;&gt;139652280600800</title>\n<path fill=\"none\" stroke=\"black\" d=\"M1244.75,-2510.86C1253.02,-2500.99 1263.94,-2487.94 1272.55,-2477.67\"/>\n<polygon fill=\"black\" stroke=\"black\" points=\"1275.38,-2479.74 1279.11,-2469.82 1270.01,-2475.24 1275.38,-2479.74\"/>\n</g>\n<!-- 139652280600800&#45;&gt;139652280602960 -->\n<g id=\"edge147\" class=\"edge\">\n<title>139652280600800&#45;&gt;139652280602960</title>\n<path fill=\"none\" stroke=\"black\" d=\"M1288.64,-2469.61C1292.02,-2484.51 1297.69,-2516 1292.5,-2542 1290.23,-2553.35 1285.36,-2565.34 1280.88,-2574.79\"/>\n<polygon fill=\"black\" stroke=\"black\" points=\"1277.67,-2573.39 1276.32,-2583.9 1283.93,-2576.53 1277.67,-2573.39\"/>\n</g>\n<!-- 139652280603344&#45;&gt;139652280604400 -->\n<g id=\"edge149\" class=\"edge\">\n<title>139652280603344&#45;&gt;139652280604400</title>\n<path fill=\"none\" stroke=\"black\" d=\"M942.55,-2336.01C949.17,-2345.71 959.62,-2362.28 965.5,-2378 973.18,-2398.51 977.39,-2423.38 979.54,-2440.11\"/>\n<polygon fill=\"black\" stroke=\"black\" points=\"976.08,-2440.7 980.71,-2450.23 983.04,-2439.9 976.08,-2440.7\"/>\n</g>\n<!-- 139652280603200 -->\n<g id=\"node143\" class=\"node\">\n<title>139652280603200</title>\n<polygon fill=\"lightgrey\" stroke=\"black\" points=\"1032,-2536 931,-2536 931,-2517 1032,-2517 1032,-2536\"/>\n<text text-anchor=\"middle\" x=\"981.5\" y=\"-2524\" font-family=\"monospace\" font-size=\"10.00\">AccumulateGrad</text>\n</g>\n<!-- 139652280603200&#45;&gt;139652280604400 -->\n<g id=\"edge151\" class=\"edge\">\n<title>139652280603200&#45;&gt;139652280604400</title>\n<path fill=\"none\" stroke=\"black\" d=\"M981.5,-2516.8C981.5,-2507.32 981.5,-2491.88 981.5,-2479.64\"/>\n<polygon fill=\"black\" stroke=\"black\" points=\"985,-2479.56 981.5,-2469.56 978,-2479.56 985,-2479.56\"/>\n</g>\n<!-- 139652280560800 -->\n<g id=\"node144\" class=\"node\">\n<title>139652280560800</title>\n<polygon fill=\"lightblue\" stroke=\"black\" points=\"1008.5,-2609 954.5,-2609 954.5,-2578 1008.5,-2578 1008.5,-2609\"/>\n<text text-anchor=\"middle\" x=\"981.5\" y=\"-2585\" font-family=\"monospace\" font-size=\"10.00\"> (16)</text>\n</g>\n<!-- 139652280560800&#45;&gt;139652280603200 -->\n<g id=\"edge152\" class=\"edge\">\n<title>139652280560800&#45;&gt;139652280603200</title>\n<path fill=\"none\" stroke=\"black\" d=\"M981.5,-2577.75C981.5,-2568.39 981.5,-2556.19 981.5,-2546.16\"/>\n<polygon fill=\"black\" stroke=\"black\" points=\"985,-2546.02 981.5,-2536.02 978,-2546.02 985,-2546.02\"/>\n</g>\n<!-- 139652280604832&#45;&gt;139652280604880 -->\n<g id=\"edge153\" class=\"edge\">\n<title>139652280604832&#45;&gt;139652280604880</title>\n<path fill=\"none\" stroke=\"black\" d=\"M707.33,-1735.59C692.21,-1743.84 671.73,-1757.89 662.5,-1777 656.51,-1789.41 656.54,-1795.58 662.5,-1808 670.04,-1823.71 685.11,-1836.07 698.63,-1844.63\"/>\n<polygon fill=\"black\" stroke=\"black\" points=\"697.23,-1847.87 707.62,-1849.94 700.79,-1841.84 697.23,-1847.87\"/>\n</g>\n<!-- 139652280609584&#45;&gt;139652280603488 -->\n<g id=\"edge155\" class=\"edge\">\n<title>139652280609584&#45;&gt;139652280603488</title>\n<path fill=\"none\" stroke=\"black\" d=\"M435.24,-1602.33C437.01,-1623.53 441.54,-1677.65 443.94,-1706.4\"/>\n<polygon fill=\"black\" stroke=\"black\" points=\"440.46,-1706.7 444.78,-1716.37 447.43,-1706.11 440.46,-1706.7\"/>\n</g>\n<!-- 139652280613088 -->\n<g id=\"node147\" class=\"node\">\n<title>139652280613088</title>\n<polygon fill=\"lightgrey\" stroke=\"black\" points=\"496,-1802 395,-1802 395,-1783 496,-1783 496,-1802\"/>\n<text text-anchor=\"middle\" x=\"445.5\" y=\"-1790\" font-family=\"monospace\" font-size=\"10.00\">AccumulateGrad</text>\n</g>\n<!-- 139652280613088&#45;&gt;139652280603488 -->\n<g id=\"edge157\" class=\"edge\">\n<title>139652280613088&#45;&gt;139652280603488</title>\n<path fill=\"none\" stroke=\"black\" d=\"M445.5,-1782.8C445.5,-1773.32 445.5,-1757.88 445.5,-1745.64\"/>\n<polygon fill=\"black\" stroke=\"black\" points=\"449,-1745.56 445.5,-1735.56 442,-1745.56 449,-1745.56\"/>\n</g>\n<!-- 139652280633680 -->\n<g id=\"node148\" class=\"node\">\n<title>139652280633680</title>\n<polygon fill=\"lightblue\" stroke=\"black\" points=\"472.5,-1875 418.5,-1875 418.5,-1844 472.5,-1844 472.5,-1875\"/>\n<text text-anchor=\"middle\" x=\"445.5\" y=\"-1851\" font-family=\"monospace\" font-size=\"10.00\"> (16)</text>\n</g>\n<!-- 139652280633680&#45;&gt;139652280613088 -->\n<g id=\"edge158\" class=\"edge\">\n<title>139652280633680&#45;&gt;139652280613088</title>\n<path fill=\"none\" stroke=\"black\" d=\"M445.5,-1843.75C445.5,-1834.39 445.5,-1822.19 445.5,-1812.16\"/>\n<polygon fill=\"black\" stroke=\"black\" points=\"449,-1812.02 445.5,-1802.02 442,-1812.02 449,-1812.02\"/>\n</g>\n<!-- 139652280603536&#45;&gt;139652280603584 -->\n<g id=\"edge159\" class=\"edge\">\n<title>139652280603536&#45;&gt;139652280603584</title>\n<path fill=\"none\" stroke=\"black\" d=\"M718.86,-1535.52C694.65,-1542.74 664.55,-1555.47 645.5,-1577 629.98,-1594.54 624.1,-1621.54 621.86,-1639.6\"/>\n<polygon fill=\"black\" stroke=\"black\" points=\"618.36,-1639.46 620.88,-1649.76 625.33,-1640.14 618.36,-1639.46\"/>\n</g>\n<!-- 139652280603920&#45;&gt;139652280602864 -->\n<g id=\"edge161\" class=\"edge\">\n<title>139652280603920&#45;&gt;139652280602864</title>\n<path fill=\"none\" stroke=\"black\" d=\"M597.94,-1400.81C518.58,-1412.54 372.94,-1435.12 365.5,-1444 345.92,-1467.39 380.54,-1495 406.61,-1511.2\"/>\n<polygon fill=\"black\" stroke=\"black\" points=\"404.99,-1514.31 415.37,-1516.43 408.58,-1508.3 404.99,-1514.31\"/>\n</g>\n<!-- 139652280604064 -->\n<g id=\"node151\" class=\"node\">\n<title>139652280604064</title>\n<polygon fill=\"lightgrey\" stroke=\"black\" points=\"320,-1602 219,-1602 219,-1583 320,-1583 320,-1602\"/>\n<text text-anchor=\"middle\" x=\"269.5\" y=\"-1590\" font-family=\"monospace\" font-size=\"10.00\">AccumulateGrad</text>\n</g>\n<!-- 139652280604064&#45;&gt;139652280602864 -->\n<g id=\"edge163\" class=\"edge\">\n<title>139652280604064&#45;&gt;139652280602864</title>\n<path fill=\"none\" stroke=\"black\" d=\"M291.01,-1582.93C319.09,-1571.75 368.43,-1552.11 400.53,-1539.33\"/>\n<polygon fill=\"black\" stroke=\"black\" points=\"401.9,-1542.55 409.9,-1535.6 399.31,-1536.05 401.9,-1542.55\"/>\n</g>\n<!-- 139652280635040 -->\n<g id=\"node152\" class=\"node\">\n<title>139652280635040</title>\n<polygon fill=\"lightblue\" stroke=\"black\" points=\"250.5,-1675 196.5,-1675 196.5,-1644 250.5,-1644 250.5,-1675\"/>\n<text text-anchor=\"middle\" x=\"223.5\" y=\"-1651\" font-family=\"monospace\" font-size=\"10.00\"> (16)</text>\n</g>\n<!-- 139652280635040&#45;&gt;139652280604064 -->\n<g id=\"edge164\" class=\"edge\">\n<title>139652280635040&#45;&gt;139652280604064</title>\n<path fill=\"none\" stroke=\"black\" d=\"M233.94,-1643.75C240.99,-1633.78 250.32,-1620.61 257.65,-1610.25\"/>\n<polygon fill=\"black\" stroke=\"black\" points=\"260.55,-1612.2 263.47,-1602.02 254.84,-1608.16 260.55,-1612.2\"/>\n</g>\n<!-- 139652280604112&#45;&gt;139652280602672 -->\n<g id=\"edge165\" class=\"edge\">\n<title>139652280604112&#45;&gt;139652280602672</title>\n<path fill=\"none\" stroke=\"black\" d=\"M100.07,-1335.83C113.69,-1357.4 148.83,-1413.08 166.71,-1441.4\"/>\n<polygon fill=\"black\" stroke=\"black\" points=\"163.76,-1443.28 172.05,-1449.87 169.68,-1439.55 163.76,-1443.28\"/>\n</g>\n<!-- 139652280601856&#45;&gt;139652280602048 -->\n<g id=\"edge167\" class=\"edge\">\n<title>139652280601856&#45;&gt;139652280602048</title>\n<path fill=\"none\" stroke=\"black\" d=\"M487.5,-1202.33C487.5,-1223.44 487.5,-1277.17 487.5,-1306.02\"/>\n<polygon fill=\"black\" stroke=\"black\" points=\"484,-1306.37 487.5,-1316.37 491,-1306.37 484,-1306.37\"/>\n</g>\n<!-- 139652280602000 -->\n<g id=\"node155\" class=\"node\">\n<title>139652280602000</title>\n<polygon fill=\"lightgrey\" stroke=\"black\" points=\"528,-1402 427,-1402 427,-1383 528,-1383 528,-1402\"/>\n<text text-anchor=\"middle\" x=\"477.5\" y=\"-1390\" font-family=\"monospace\" font-size=\"10.00\">AccumulateGrad</text>\n</g>\n<!-- 139652280602000&#45;&gt;139652280602048 -->\n<g id=\"edge169\" class=\"edge\">\n<title>139652280602000&#45;&gt;139652280602048</title>\n<path fill=\"none\" stroke=\"black\" d=\"M478.85,-1382.8C480.32,-1373.32 482.71,-1357.88 484.61,-1345.64\"/>\n<polygon fill=\"black\" stroke=\"black\" points=\"488.1,-1345.98 486.17,-1335.56 481.18,-1344.91 488.1,-1345.98\"/>\n</g>\n<!-- 139652280634880 -->\n<g id=\"node156\" class=\"node\">\n<title>139652280634880</title>\n<polygon fill=\"lightblue\" stroke=\"black\" points=\"318.5,-1475 264.5,-1475 264.5,-1444 318.5,-1444 318.5,-1475\"/>\n<text text-anchor=\"middle\" x=\"291.5\" y=\"-1451\" font-family=\"monospace\" font-size=\"10.00\"> (16)</text>\n</g>\n<!-- 139652280634880&#45;&gt;139652280602000 -->\n<g id=\"edge170\" class=\"edge\">\n<title>139652280634880&#45;&gt;139652280602000</title>\n<path fill=\"none\" stroke=\"black\" d=\"M318.84,-1448.81C323.4,-1447.2 328.08,-1445.55 332.5,-1444 370.3,-1430.73 413.69,-1415.64 443.08,-1405.44\"/>\n<polygon fill=\"black\" stroke=\"black\" points=\"444.56,-1408.63 452.86,-1402.04 442.26,-1402.01 444.56,-1408.63\"/>\n</g>\n<!-- 139652280602096&#45;&gt;139652280602528 -->\n<g id=\"edge171\" class=\"edge\">\n<title>139652280602096&#45;&gt;139652280602528</title>\n<path fill=\"none\" stroke=\"black\" d=\"M985.91,-1135.26C967.31,-1154.09 923.53,-1197.53 905.5,-1208 873.22,-1226.75 833.09,-1239.51 801.49,-1247.5\"/>\n<polygon fill=\"black\" stroke=\"black\" points=\"800.43,-1244.16 791.55,-1249.93 802.09,-1250.96 800.43,-1244.16\"/>\n</g>\n<!-- 139652280602576&#45;&gt;139652280602192 -->\n<g id=\"edge173\" class=\"edge\">\n<title>139652280602576&#45;&gt;139652280602192</title>\n<path fill=\"none\" stroke=\"black\" d=\"M506.81,-1068.6C516.56,-1084.03 538.44,-1117.04 561.5,-1141 574.3,-1154.29 590.59,-1167.27 603.4,-1176.74\"/>\n<polygon fill=\"black\" stroke=\"black\" points=\"601.47,-1179.66 611.63,-1182.69 605.58,-1173.99 601.47,-1179.66\"/>\n</g>\n<!-- 139652280602432&#45;&gt;139652280602624 -->\n<g id=\"edge175\" class=\"edge\">\n<title>139652280602432&#45;&gt;139652280602624</title>\n<path fill=\"none\" stroke=\"black\" d=\"M857.38,-935.33C861.89,-956.53 873.42,-1010.65 879.54,-1039.4\"/>\n<polygon fill=\"black\" stroke=\"black\" points=\"876.16,-1040.32 881.66,-1049.37 883,-1038.86 876.16,-1040.32\"/>\n</g>\n<!-- 139652280602480 -->\n<g id=\"node160\" class=\"node\">\n<title>139652280602480</title>\n<polygon fill=\"lightgrey\" stroke=\"black\" points=\"920,-1135 819,-1135 819,-1116 920,-1116 920,-1135\"/>\n<text text-anchor=\"middle\" x=\"869.5\" y=\"-1123\" font-family=\"monospace\" font-size=\"10.00\">AccumulateGrad</text>\n</g>\n<!-- 139652280602480&#45;&gt;139652280602624 -->\n<g id=\"edge177\" class=\"edge\">\n<title>139652280602480&#45;&gt;139652280602624</title>\n<path fill=\"none\" stroke=\"black\" d=\"M871.39,-1115.8C873.45,-1106.32 876.8,-1090.88 879.45,-1078.64\"/>\n<polygon fill=\"black\" stroke=\"black\" points=\"882.94,-1079.08 881.64,-1068.56 876.1,-1077.59 882.94,-1079.08\"/>\n</g>\n<!-- 139652280635520 -->\n<g id=\"node161\" class=\"node\">\n<title>139652280635520</title>\n<polygon fill=\"lightblue\" stroke=\"black\" points=\"765.5,-1208 711.5,-1208 711.5,-1177 765.5,-1177 765.5,-1208\"/>\n<text text-anchor=\"middle\" x=\"738.5\" y=\"-1184\" font-family=\"monospace\" font-size=\"10.00\"> (32)</text>\n</g>\n<!-- 139652280635520&#45;&gt;139652280602480 -->\n<g id=\"edge178\" class=\"edge\">\n<title>139652280635520&#45;&gt;139652280602480</title>\n<path fill=\"none\" stroke=\"black\" d=\"M765.64,-1178.03C788.33,-1166.77 820.5,-1150.81 843.01,-1139.65\"/>\n<polygon fill=\"black\" stroke=\"black\" points=\"844.6,-1142.76 852,-1135.18 841.49,-1136.49 844.6,-1142.76\"/>\n</g>\n<!-- 139652280602768 -->\n<g id=\"node162\" class=\"node\">\n<title>139652280602768</title>\n<polygon fill=\"lightgrey\" stroke=\"black\" points=\"1334,-1735.5 1173,-1735.5 1173,-1716.5 1334,-1716.5 1334,-1735.5\"/>\n<text text-anchor=\"middle\" x=\"1253.5\" y=\"-1723.5\" font-family=\"monospace\" font-size=\"10.00\">NativeGroupNormBackward0</text>\n</g>\n<!-- 139652280602768&#45;&gt;139652280607088 -->\n<g id=\"edge179\" class=\"edge\">\n<title>139652280602768&#45;&gt;139652280607088</title>\n<path fill=\"none\" stroke=\"black\" d=\"M1253.5,-1716.38C1253.5,-1695.38 1253.5,-1639.84 1253.5,-1593.5 1253.5,-1593.5 1253.5,-1593.5 1253.5,-1124.5 1253.5,-1083.87 1242.63,-1037.2 1235.84,-1011.99\"/>\n<polygon fill=\"black\" stroke=\"black\" points=\"1239.19,-1010.99 1233.14,-1002.3 1232.45,-1012.87 1239.19,-1010.99\"/>\n</g>\n<!-- 139652280639440 -->\n<g id=\"node163\" class=\"node\">\n<title>139652280639440</title>\n<polygon fill=\"orange\" stroke=\"black\" points=\"1383,-1674.5 1282,-1674.5 1282,-1644.5 1383,-1644.5 1383,-1674.5\"/>\n<text text-anchor=\"middle\" x=\"1332.5\" y=\"-1662.5\" font-family=\"monospace\" font-size=\"10.00\">input</text>\n<text text-anchor=\"middle\" x=\"1332.5\" y=\"-1651.5\" font-family=\"monospace\" font-size=\"10.00\"> (1, 32, 8, 8)</text>\n</g>\n<!-- 139652280602768&#45;&gt;139652280639440 -->\n<g id=\"edge180\" class=\"edge\">\n<title>139652280602768&#45;&gt;139652280639440</title>\n<path fill=\"none\" stroke=\"black\" d=\"M1264.15,-1716.3C1277.21,-1705.64 1299.51,-1687.43 1315.08,-1674.73\"/>\n</g>\n<!-- 139652280643120 -->\n<g id=\"node164\" class=\"node\">\n<title>139652280643120</title>\n<polygon fill=\"orange\" stroke=\"black\" points=\"1466,-1674.5 1401,-1674.5 1401,-1644.5 1466,-1644.5 1466,-1674.5\"/>\n<text text-anchor=\"middle\" x=\"1433.5\" y=\"-1662.5\" font-family=\"monospace\" font-size=\"10.00\">result1</text>\n<text text-anchor=\"middle\" x=\"1433.5\" y=\"-1651.5\" font-family=\"monospace\" font-size=\"10.00\"> (1, 32)</text>\n</g>\n<!-- 139652280602768&#45;&gt;139652280643120 -->\n<g id=\"edge181\" class=\"edge\">\n<title>139652280602768&#45;&gt;139652280643120</title>\n<path fill=\"none\" stroke=\"black\" d=\"M1277.4,-1716.43C1309.15,-1705.06 1365.36,-1684.92 1400.96,-1672.16\"/>\n</g>\n<!-- 139652280642800 -->\n<g id=\"node165\" class=\"node\">\n<title>139652280642800</title>\n<polygon fill=\"orange\" stroke=\"black\" points=\"1115,-1674.5 1050,-1674.5 1050,-1644.5 1115,-1644.5 1115,-1674.5\"/>\n<text text-anchor=\"middle\" x=\"1082.5\" y=\"-1662.5\" font-family=\"monospace\" font-size=\"10.00\">result2</text>\n<text text-anchor=\"middle\" x=\"1082.5\" y=\"-1651.5\" font-family=\"monospace\" font-size=\"10.00\"> (1, 32)</text>\n</g>\n<!-- 139652280602768&#45;&gt;139652280642800 -->\n<g id=\"edge182\" class=\"edge\">\n<title>139652280602768&#45;&gt;139652280642800</title>\n<path fill=\"none\" stroke=\"black\" d=\"M1230.79,-1716.43C1201.18,-1705.26 1149.15,-1685.64 1115.27,-1672.86\"/>\n</g>\n<!-- 139652280636080 -->\n<g id=\"node166\" class=\"node\">\n<title>139652280636080</title>\n<polygon fill=\"lightblue\" stroke=\"black\" points=\"1225.5,-1675 1171.5,-1675 1171.5,-1644 1225.5,-1644 1225.5,-1675\"/>\n<text text-anchor=\"middle\" x=\"1198.5\" y=\"-1651\" font-family=\"monospace\" font-size=\"10.00\"> (32)</text>\n</g>\n<!-- 139652280602768&#45;&gt;139652280636080 -->\n<g id=\"edge183\" class=\"edge\">\n<title>139652280602768&#45;&gt;139652280636080</title>\n<path fill=\"none\" stroke=\"black\" d=\"M1246.08,-1716.3C1237.17,-1705.85 1222.07,-1688.14 1211.27,-1675.47\"/>\n</g>\n<!-- 139652280602240 -->\n<g id=\"node172\" class=\"node\">\n<title>139652280602240</title>\n<polygon fill=\"lightgrey\" stroke=\"black\" points=\"1210,-1602 1109,-1602 1109,-1583 1210,-1583 1210,-1602\"/>\n<text text-anchor=\"middle\" x=\"1159.5\" y=\"-1590\" font-family=\"monospace\" font-size=\"10.00\">AccumulateGrad</text>\n</g>\n<!-- 139652280636080&#45;&gt;139652280602240 -->\n<g id=\"edge193\" class=\"edge\">\n<title>139652280636080&#45;&gt;139652280602240</title>\n<path fill=\"none\" stroke=\"black\" d=\"M1189.65,-1643.75C1183.79,-1633.99 1176.08,-1621.14 1169.93,-1610.88\"/>\n<polygon fill=\"black\" stroke=\"black\" points=\"1172.76,-1608.79 1164.61,-1602.02 1166.75,-1612.39 1172.76,-1608.79\"/>\n</g>\n<!-- 139652280602288 -->\n<g id=\"node167\" class=\"node\">\n<title>139652280602288</title>\n<polygon fill=\"lightgrey\" stroke=\"black\" points=\"1187,-1802 1092,-1802 1092,-1783 1187,-1783 1187,-1802\"/>\n<text text-anchor=\"middle\" x=\"1139.5\" y=\"-1790\" font-family=\"monospace\" font-size=\"10.00\">ReluBackward0</text>\n</g>\n<!-- 139652280602288&#45;&gt;139652280602768 -->\n<g id=\"edge184\" class=\"edge\">\n<title>139652280602288&#45;&gt;139652280602768</title>\n<path fill=\"none\" stroke=\"black\" d=\"M1154.87,-1782.8C1174.02,-1771.97 1206.94,-1753.34 1229.44,-1740.62\"/>\n<polygon fill=\"black\" stroke=\"black\" points=\"1231.39,-1743.53 1238.37,-1735.56 1227.94,-1737.44 1231.39,-1743.53\"/>\n</g>\n<!-- 139652280642960 -->\n<g id=\"node168\" class=\"node\">\n<title>139652280642960</title>\n<polygon fill=\"orange\" stroke=\"black\" points=\"1155,-1741 1054,-1741 1054,-1711 1155,-1711 1155,-1741\"/>\n<text text-anchor=\"middle\" x=\"1104.5\" y=\"-1729\" font-family=\"monospace\" font-size=\"10.00\">result</text>\n<text text-anchor=\"middle\" x=\"1104.5\" y=\"-1718\" font-family=\"monospace\" font-size=\"10.00\"> (1, 32, 8, 8)</text>\n</g>\n<!-- 139652280602288&#45;&gt;139652280642960 -->\n<g id=\"edge185\" class=\"edge\">\n<title>139652280602288&#45;&gt;139652280642960</title>\n<path fill=\"none\" stroke=\"black\" d=\"M1134.78,-1782.8C1129.03,-1772.21 1119.24,-1754.17 1112.35,-1741.47\"/>\n</g>\n<!-- 139652280601952&#45;&gt;139652280639040 -->\n<g id=\"edge187\" class=\"edge\">\n<title>139652280601952&#45;&gt;139652280639040</title>\n<path fill=\"none\" stroke=\"black\" d=\"M1000.06,-1849.87C971.95,-1839.06 923.44,-1820.4 889.97,-1807.53\"/>\n</g>\n<!-- 139652280601952&#45;&gt;139652280602288 -->\n<g id=\"edge186\" class=\"edge\">\n<title>139652280601952&#45;&gt;139652280602288</title>\n<path fill=\"none\" stroke=\"black\" d=\"M1038.28,-1849.73C1058.01,-1838.77 1092.01,-1819.88 1115.11,-1807.05\"/>\n<polygon fill=\"black\" stroke=\"black\" points=\"1116.93,-1810.04 1123.97,-1802.13 1113.53,-1803.92 1116.93,-1810.04\"/>\n</g>\n<!-- 139652280636000 -->\n<g id=\"node170\" class=\"node\">\n<title>139652280636000</title>\n<polygon fill=\"lightblue\" stroke=\"black\" points=\"1035,-1808 928,-1808 928,-1777 1035,-1777 1035,-1808\"/>\n<text text-anchor=\"middle\" x=\"981.5\" y=\"-1784\" font-family=\"monospace\" font-size=\"10.00\"> (32, 16, 3, 3)</text>\n</g>\n<!-- 139652280601952&#45;&gt;139652280636000 -->\n<g id=\"edge188\" class=\"edge\">\n<title>139652280601952&#45;&gt;139652280636000</title>\n<path fill=\"none\" stroke=\"black\" d=\"M1016.97,-1849.73C1010.24,-1839.06 998.77,-1820.88 990.7,-1808.08\"/>\n</g>\n<!-- 139652280603632 -->\n<g id=\"node171\" class=\"node\">\n<title>139652280603632</title>\n<polygon fill=\"lightgrey\" stroke=\"black\" points=\"1033,-1735.5 932,-1735.5 932,-1716.5 1033,-1716.5 1033,-1735.5\"/>\n<text text-anchor=\"middle\" x=\"982.5\" y=\"-1723.5\" font-family=\"monospace\" font-size=\"10.00\">AccumulateGrad</text>\n</g>\n<!-- 139652280636000&#45;&gt;139652280603632 -->\n<g id=\"edge191\" class=\"edge\">\n<title>139652280636000&#45;&gt;139652280603632</title>\n<path fill=\"none\" stroke=\"black\" d=\"M981.73,-1776.86C981.87,-1767.68 982.05,-1755.75 982.21,-1745.86\"/>\n<polygon fill=\"black\" stroke=\"black\" points=\"985.71,-1745.88 982.36,-1735.82 978.71,-1745.77 985.71,-1745.88\"/>\n</g>\n<!-- 139652280603632&#45;&gt;139652280601952 -->\n<g id=\"edge190\" class=\"edge\">\n<title>139652280603632&#45;&gt;139652280601952</title>\n<path fill=\"none\" stroke=\"black\" d=\"M999.83,-1735.57C1014.5,-1743.9 1034.54,-1758.06 1043.5,-1777 1053.32,-1797.76 1043.17,-1823.74 1033.87,-1840.71\"/>\n<polygon fill=\"black\" stroke=\"black\" points=\"1030.72,-1839.17 1028.65,-1849.56 1036.74,-1842.73 1030.72,-1839.17\"/>\n</g>\n<!-- 139652280602240&#45;&gt;139652280602768 -->\n<g id=\"edge192\" class=\"edge\">\n<title>139652280602240&#45;&gt;139652280602768</title>\n<path fill=\"none\" stroke=\"black\" d=\"M1157.24,-1602.14C1153.62,-1617.94 1148.31,-1651.98 1162.5,-1675 1173.62,-1693.03 1193.71,-1705.04 1212.18,-1712.76\"/>\n<polygon fill=\"black\" stroke=\"black\" points=\"1211.05,-1716.08 1221.64,-1716.42 1213.58,-1709.55 1211.05,-1716.08\"/>\n</g>\n<!-- 139652280602336 -->\n<g id=\"node173\" class=\"node\">\n<title>139652280602336</title>\n<polygon fill=\"lightgrey\" stroke=\"black\" points=\"1306,-1802 1205,-1802 1205,-1783 1306,-1783 1306,-1802\"/>\n<text text-anchor=\"middle\" x=\"1255.5\" y=\"-1790\" font-family=\"monospace\" font-size=\"10.00\">AccumulateGrad</text>\n</g>\n<!-- 139652280602336&#45;&gt;139652280602768 -->\n<g id=\"edge194\" class=\"edge\">\n<title>139652280602336&#45;&gt;139652280602768</title>\n<path fill=\"none\" stroke=\"black\" d=\"M1255.23,-1782.8C1254.94,-1773.32 1254.46,-1757.88 1254.08,-1745.64\"/>\n<polygon fill=\"black\" stroke=\"black\" points=\"1257.57,-1745.45 1253.77,-1735.56 1250.58,-1745.66 1257.57,-1745.45\"/>\n</g>\n<!-- 139652280635840 -->\n<g id=\"node174\" class=\"node\">\n<title>139652280635840</title>\n<polygon fill=\"lightblue\" stroke=\"black\" points=\"1165.5,-1875 1111.5,-1875 1111.5,-1844 1165.5,-1844 1165.5,-1875\"/>\n<text text-anchor=\"middle\" x=\"1138.5\" y=\"-1851\" font-family=\"monospace\" font-size=\"10.00\"> (32)</text>\n</g>\n<!-- 139652280635840&#45;&gt;139652280602336 -->\n<g id=\"edge195\" class=\"edge\">\n<title>139652280635840&#45;&gt;139652280602336</title>\n<path fill=\"none\" stroke=\"black\" d=\"M1164.76,-1843.91C1184.67,-1832.85 1211.84,-1817.75 1231.25,-1806.97\"/>\n<polygon fill=\"black\" stroke=\"black\" points=\"1233.05,-1809.98 1240.09,-1802.06 1229.65,-1803.86 1233.05,-1809.98\"/>\n</g>\n<!-- 139652280601760&#45;&gt;139652280604208 -->\n<g id=\"edge196\" class=\"edge\">\n<title>139652280601760&#45;&gt;139652280604208</title>\n<path fill=\"none\" stroke=\"black\" d=\"M1365.36,-801.69C1360.78,-811.54 1353.4,-828.16 1348.5,-843 1341.52,-864.13 1335.75,-889.06 1332.23,-905.73\"/>\n<polygon fill=\"black\" stroke=\"black\" points=\"1328.74,-905.31 1330.16,-915.81 1335.6,-906.71 1328.74,-905.31\"/>\n</g>\n<!-- 139652280605456&#45;&gt;139652280605312 -->\n<g id=\"edge198\" class=\"edge\">\n<title>139652280605456&#45;&gt;139652280605312</title>\n<path fill=\"none\" stroke=\"black\" d=\"M2115.05,-668.19C2122.83,-684.37 2136.28,-719.43 2119.5,-741 2104.76,-759.95 2050.03,-772.88 2001.99,-780.84\"/>\n<polygon fill=\"black\" stroke=\"black\" points=\"2001.18,-777.42 1991.86,-782.46 2002.29,-784.33 2001.18,-777.42\"/>\n</g>\n<!-- 139652280605264 -->\n<g id=\"node177\" class=\"node\">\n<title>139652280605264</title>\n<polygon fill=\"lightgrey\" stroke=\"black\" points=\"1973,-868 1872,-868 1872,-849 1973,-849 1973,-868\"/>\n<text text-anchor=\"middle\" x=\"1922.5\" y=\"-856\" font-family=\"monospace\" font-size=\"10.00\">AccumulateGrad</text>\n</g>\n<!-- 139652280605264&#45;&gt;139652280605312 -->\n<g id=\"edge200\" class=\"edge\">\n<title>139652280605264&#45;&gt;139652280605312</title>\n<path fill=\"none\" stroke=\"black\" d=\"M1922.5,-848.8C1922.5,-839.32 1922.5,-823.88 1922.5,-811.64\"/>\n<polygon fill=\"black\" stroke=\"black\" points=\"1926,-811.56 1922.5,-801.56 1919,-811.56 1926,-811.56\"/>\n</g>\n<!-- 139652280635440 -->\n<g id=\"node178\" class=\"node\">\n<title>139652280635440</title>\n<polygon fill=\"lightblue\" stroke=\"black\" points=\"1949.5,-941 1895.5,-941 1895.5,-910 1949.5,-910 1949.5,-941\"/>\n<text text-anchor=\"middle\" x=\"1922.5\" y=\"-917\" font-family=\"monospace\" font-size=\"10.00\"> (32)</text>\n</g>\n<!-- 139652280635440&#45;&gt;139652280605264 -->\n<g id=\"edge201\" class=\"edge\">\n<title>139652280635440&#45;&gt;139652280605264</title>\n<path fill=\"none\" stroke=\"black\" d=\"M1922.5,-909.75C1922.5,-900.39 1922.5,-888.19 1922.5,-878.16\"/>\n<polygon fill=\"black\" stroke=\"black\" points=\"1926,-878.02 1922.5,-868.02 1919,-878.02 1926,-878.02\"/>\n</g>\n<!-- 139652280605120&#45;&gt;139652280605168 -->\n<g id=\"edge202\" class=\"edge\">\n<title>139652280605120&#45;&gt;139652280605168</title>\n<path fill=\"none\" stroke=\"black\" d=\"M1843.56,-601.52C1859.03,-617.1 1887.26,-650.75 1869.5,-674 1861.24,-684.82 1787.99,-702.44 1736.18,-713.74\"/>\n<polygon fill=\"black\" stroke=\"black\" points=\"1735.17,-710.38 1726.13,-715.91 1736.65,-717.22 1735.17,-710.38\"/>\n</g>\n<!-- 139652280606128&#45;&gt;139652280609488 -->\n<g id=\"edge204\" class=\"edge\">\n<title>139652280606128&#45;&gt;139652280609488</title>\n<path fill=\"none\" stroke=\"black\" d=\"M1733.05,-468.19C1740.83,-484.37 1754.28,-519.43 1737.5,-541 1728.68,-552.34 1651.35,-569.49 1596.25,-580.46\"/>\n<polygon fill=\"black\" stroke=\"black\" points=\"1595.37,-577.07 1586.24,-582.44 1596.73,-583.94 1595.37,-577.07\"/>\n</g>\n<!-- 139652280605984 -->\n<g id=\"node181\" class=\"node\">\n<title>139652280605984</title>\n<polygon fill=\"lightgrey\" stroke=\"black\" points=\"1503,-668 1402,-668 1402,-649 1503,-649 1503,-668\"/>\n<text text-anchor=\"middle\" x=\"1452.5\" y=\"-656\" font-family=\"monospace\" font-size=\"10.00\">AccumulateGrad</text>\n</g>\n<!-- 139652280605984&#45;&gt;139652280609488 -->\n<g id=\"edge206\" class=\"edge\">\n<title>139652280605984&#45;&gt;139652280609488</title>\n<path fill=\"none\" stroke=\"black\" d=\"M1464.37,-648.8C1478.75,-638.26 1503.2,-620.34 1520.51,-607.65\"/>\n<polygon fill=\"black\" stroke=\"black\" points=\"1522.82,-610.3 1528.82,-601.56 1518.69,-604.65 1522.82,-610.3\"/>\n</g>\n<!-- 139652280636800 -->\n<g id=\"node182\" class=\"node\">\n<title>139652280636800</title>\n<polygon fill=\"lightblue\" stroke=\"black\" points=\"1479.5,-741 1425.5,-741 1425.5,-710 1479.5,-710 1479.5,-741\"/>\n<text text-anchor=\"middle\" x=\"1452.5\" y=\"-717\" font-family=\"monospace\" font-size=\"10.00\"> (32)</text>\n</g>\n<!-- 139652280636800&#45;&gt;139652280605984 -->\n<g id=\"edge207\" class=\"edge\">\n<title>139652280636800&#45;&gt;139652280605984</title>\n<path fill=\"none\" stroke=\"black\" d=\"M1452.5,-709.75C1452.5,-700.39 1452.5,-688.19 1452.5,-678.16\"/>\n<polygon fill=\"black\" stroke=\"black\" points=\"1456,-678.02 1452.5,-668.02 1449,-678.02 1456,-678.02\"/>\n</g>\n<!-- 139652280609296&#45;&gt;139652280613280 -->\n<g id=\"edge208\" class=\"edge\">\n<title>139652280609296&#45;&gt;139652280613280</title>\n<path fill=\"none\" stroke=\"black\" d=\"M1472.3,-401.74C1483.83,-417.68 1504.39,-451.88 1487.5,-474 1479.24,-484.82 1405.99,-502.44 1354.18,-513.74\"/>\n<polygon fill=\"black\" stroke=\"black\" points=\"1353.17,-510.38 1344.13,-515.91 1354.65,-517.22 1353.17,-510.38\"/>\n</g>\n<!-- 139652280609776&#45;&gt;139652280606944 -->\n<g id=\"edge210\" class=\"edge\">\n<title>139652280609776&#45;&gt;139652280606944</title>\n<path fill=\"none\" stroke=\"black\" d=\"M1087.98,-274.19C1089.11,-294.31 1091.91,-344.49 1093.45,-372.09\"/>\n<polygon fill=\"black\" stroke=\"black\" points=\"1089.97,-372.58 1094.02,-382.37 1096.96,-372.19 1089.97,-372.58\"/>\n</g>\n<!-- 139652280606992 -->\n<g id=\"node185\" class=\"node\">\n<title>139652280606992</title>\n<polygon fill=\"lightgrey\" stroke=\"black\" points=\"1121,-468 1020,-468 1020,-449 1121,-449 1121,-468\"/>\n<text text-anchor=\"middle\" x=\"1070.5\" y=\"-456\" font-family=\"monospace\" font-size=\"10.00\">AccumulateGrad</text>\n</g>\n<!-- 139652280606992&#45;&gt;139652280606944 -->\n<g id=\"edge212\" class=\"edge\">\n<title>139652280606992&#45;&gt;139652280606944</title>\n<path fill=\"none\" stroke=\"black\" d=\"M1073.74,-448.8C1077.3,-439.23 1083.13,-423.56 1087.7,-411.26\"/>\n<polygon fill=\"black\" stroke=\"black\" points=\"1091.11,-412.15 1091.31,-401.56 1084.55,-409.71 1091.11,-412.15\"/>\n</g>\n<!-- 139652280636480 -->\n<g id=\"node186\" class=\"node\">\n<title>139652280636480</title>\n<polygon fill=\"lightblue\" stroke=\"black\" points=\"1097.5,-541 1043.5,-541 1043.5,-510 1097.5,-510 1097.5,-541\"/>\n<text text-anchor=\"middle\" x=\"1070.5\" y=\"-517\" font-family=\"monospace\" font-size=\"10.00\"> (32)</text>\n</g>\n<!-- 139652280636480&#45;&gt;139652280606992 -->\n<g id=\"edge213\" class=\"edge\">\n<title>139652280636480&#45;&gt;139652280606992</title>\n<path fill=\"none\" stroke=\"black\" d=\"M1070.5,-509.75C1070.5,-500.39 1070.5,-488.19 1070.5,-478.16\"/>\n<polygon fill=\"black\" stroke=\"black\" points=\"1074,-478.02 1070.5,-468.02 1067,-478.02 1074,-478.02\"/>\n</g>\n<!-- 139652280605696&#45;&gt;139652280607568 -->\n<g id=\"edge215\" class=\"edge\">\n<title>139652280605696&#45;&gt;139652280607568</title>\n<path fill=\"none\" stroke=\"black\" d=\"M990.18,-86.16C1000.76,-101.01 1018.78,-131.78 1004.5,-153 991.44,-172.41 969.4,-184.29 947.56,-191.55\"/>\n<polygon fill=\"black\" stroke=\"black\" points=\"946.46,-188.23 937.91,-194.49 948.5,-194.93 946.46,-188.23\"/>\n</g>\n</g>\n</svg>\n",
            "text/plain": [
              "<graphviz.graphs.Digraph at 0x7f035493de40>"
            ]
          },
          "metadata": {},
          "execution_count": 33
        }
      ]
    },
    {
      "cell_type": "markdown",
      "source": [
        "## Training"
      ],
      "metadata": {
        "id": "uiDNSZ6HqPQ4"
      }
    },
    {
      "cell_type": "code",
      "source": [
        "model = Net().to(device)"
      ],
      "metadata": {
        "id": "CfTTgd_zqfpX"
      },
      "execution_count": 48,
      "outputs": []
    },
    {
      "cell_type": "code",
      "source": [
        "import torch.optim as optim"
      ],
      "metadata": {
        "id": "4J9i_cYaqYXR"
      },
      "execution_count": 49,
      "outputs": []
    },
    {
      "cell_type": "code",
      "source": [
        "labels = {0: 'airplane',\n",
        "          1: 'automobile',\n",
        "          2: 'bird',\n",
        "          3: 'cat',\n",
        "          4: 'deer',\n",
        "          5: 'dog',\n",
        "          6: 'frog',\n",
        "          7: 'horse',\n",
        "          8: 'ship',\n",
        "          9: 'truck'}"
      ],
      "metadata": {
        "id": "ZlMOi9qKmU-1"
      },
      "execution_count": 50,
      "outputs": []
    },
    {
      "cell_type": "code",
      "source": [
        "optimizer = optim.SGD(model.parameters(), lr=0.1, momentum=0.9)\n",
        "scheduler = optim.lr_scheduler.StepLR(optimizer, step_size=6, gamma=0.1, verbose=True)\n",
        "num_epochs = 20\n",
        "\n",
        "metrics = { 'train_acc': [], 'train_losses': [],\n",
        "            'test_acc': [], 'test_losses': [] }\n",
        "\n",
        "for epoch in range(1, num_epochs + 1):\n",
        "    print(f'Epoch {epoch}')\n",
        "    U.train(model, device, train_dataloader, optimizer, metrics)\n",
        "    U.test(model, device, test_dataloader, metrics, labels, get_misclassified=(epoch == num_epochs))\n",
        "    # break\n",
        "    scheduler.step()"
      ],
      "metadata": {
        "colab": {
          "base_uri": "https://localhost:8080/"
        },
        "id": "ffqkmOOrqRzH",
        "outputId": "ec195a78-abd7-4dc0-a989-08002d767676"
      },
      "execution_count": 51,
      "outputs": [
        {
          "output_type": "stream",
          "name": "stdout",
          "text": [
            "Adjusting learning rate of group 0 to 1.0000e-01.\n",
            "Epoch 1\n"
          ]
        },
        {
          "output_type": "stream",
          "name": "stderr",
          "text": [
            "Train: Loss=1.5831 Batch_id=390 Accuracy=34.52: 100%|██████████| 391/391 [00:19<00:00, 19.61it/s]\n"
          ]
        },
        {
          "output_type": "stream",
          "name": "stdout",
          "text": [
            "              precision    recall  f1-score   support\n",
            "\n",
            "    airplane       0.54      0.37      0.44      1000\n",
            "  automobile       0.42      0.74      0.54      1000\n",
            "        bird       0.49      0.13      0.21      1000\n",
            "         cat       0.34      0.31      0.33      1000\n",
            "        deer       0.41      0.32      0.36      1000\n",
            "         dog       0.42      0.31      0.36      1000\n",
            "        frog       0.44      0.57      0.50      1000\n",
            "       horse       0.50      0.58      0.54      1000\n",
            "        ship       0.47      0.75      0.58      1000\n",
            "       truck       0.48      0.40      0.44      1000\n",
            "\n",
            "    accuracy                           0.45     10000\n",
            "   macro avg       0.45      0.45      0.43     10000\n",
            "weighted avg       0.45      0.45      0.43     10000\n",
            "\n",
            "Test set: Average loss: 1.5091, Accuracy: 4486/10000 (44.86%)\n",
            "\n",
            "Adjusting learning rate of group 0 to 1.0000e-01.\n",
            "Epoch 2\n"
          ]
        },
        {
          "output_type": "stream",
          "name": "stderr",
          "text": [
            "Train: Loss=1.4112 Batch_id=390 Accuracy=45.70: 100%|██████████| 391/391 [00:20<00:00, 19.44it/s]\n"
          ]
        },
        {
          "output_type": "stream",
          "name": "stdout",
          "text": [
            "              precision    recall  f1-score   support\n",
            "\n",
            "    airplane       0.57      0.60      0.59      1000\n",
            "  automobile       0.65      0.71      0.68      1000\n",
            "        bird       0.45      0.37      0.40      1000\n",
            "         cat       0.36      0.22      0.27      1000\n",
            "        deer       0.44      0.39      0.41      1000\n",
            "         dog       0.38      0.57      0.46      1000\n",
            "        frog       0.47      0.76      0.58      1000\n",
            "       horse       0.71      0.52      0.60      1000\n",
            "        ship       0.59      0.72      0.65      1000\n",
            "       truck       0.75      0.37      0.49      1000\n",
            "\n",
            "    accuracy                           0.52     10000\n",
            "   macro avg       0.54      0.52      0.51     10000\n",
            "weighted avg       0.54      0.52      0.51     10000\n",
            "\n",
            "Test set: Average loss: 1.2970, Accuracy: 5229/10000 (52.29%)\n",
            "\n",
            "Adjusting learning rate of group 0 to 1.0000e-01.\n",
            "Epoch 3\n"
          ]
        },
        {
          "output_type": "stream",
          "name": "stderr",
          "text": [
            "Train: Loss=1.1579 Batch_id=390 Accuracy=51.14: 100%|██████████| 391/391 [00:19<00:00, 20.56it/s]\n"
          ]
        },
        {
          "output_type": "stream",
          "name": "stdout",
          "text": [
            "              precision    recall  f1-score   support\n",
            "\n",
            "    airplane       0.70      0.51      0.59      1000\n",
            "  automobile       0.78      0.62      0.69      1000\n",
            "        bird       0.51      0.45      0.48      1000\n",
            "         cat       0.51      0.21      0.30      1000\n",
            "        deer       0.50      0.46      0.48      1000\n",
            "         dog       0.52      0.56      0.54      1000\n",
            "        frog       0.48      0.85      0.61      1000\n",
            "       horse       0.69      0.64      0.67      1000\n",
            "        ship       0.64      0.79      0.71      1000\n",
            "       truck       0.60      0.74      0.66      1000\n",
            "\n",
            "    accuracy                           0.58     10000\n",
            "   macro avg       0.59      0.58      0.57     10000\n",
            "weighted avg       0.59      0.58      0.57     10000\n",
            "\n",
            "Test set: Average loss: 1.1574, Accuracy: 5834/10000 (58.34%)\n",
            "\n",
            "Adjusting learning rate of group 0 to 1.0000e-01.\n",
            "Epoch 4\n"
          ]
        },
        {
          "output_type": "stream",
          "name": "stderr",
          "text": [
            "Train: Loss=1.1086 Batch_id=390 Accuracy=54.95: 100%|██████████| 391/391 [00:20<00:00, 19.02it/s]\n"
          ]
        },
        {
          "output_type": "stream",
          "name": "stdout",
          "text": [
            "              precision    recall  f1-score   support\n",
            "\n",
            "    airplane       0.65      0.68      0.66      1000\n",
            "  automobile       0.72      0.81      0.76      1000\n",
            "        bird       0.57      0.41      0.48      1000\n",
            "         cat       0.40      0.55      0.46      1000\n",
            "        deer       0.63      0.43      0.51      1000\n",
            "         dog       0.53      0.43      0.47      1000\n",
            "        frog       0.52      0.82      0.64      1000\n",
            "       horse       0.67      0.69      0.68      1000\n",
            "        ship       0.77      0.68      0.72      1000\n",
            "       truck       0.78      0.61      0.69      1000\n",
            "\n",
            "    accuracy                           0.61     10000\n",
            "   macro avg       0.63      0.61      0.61     10000\n",
            "weighted avg       0.63      0.61      0.61     10000\n",
            "\n",
            "Test set: Average loss: 1.0917, Accuracy: 6107/10000 (61.07%)\n",
            "\n",
            "Adjusting learning rate of group 0 to 1.0000e-01.\n",
            "Epoch 5\n"
          ]
        },
        {
          "output_type": "stream",
          "name": "stderr",
          "text": [
            "Train: Loss=1.0333 Batch_id=390 Accuracy=57.13: 100%|██████████| 391/391 [00:20<00:00, 19.08it/s]\n"
          ]
        },
        {
          "output_type": "stream",
          "name": "stdout",
          "text": [
            "              precision    recall  f1-score   support\n",
            "\n",
            "    airplane       0.67      0.66      0.66      1000\n",
            "  automobile       0.75      0.84      0.79      1000\n",
            "        bird       0.61      0.49      0.54      1000\n",
            "         cat       0.45      0.42      0.43      1000\n",
            "        deer       0.64      0.58      0.61      1000\n",
            "         dog       0.50      0.67      0.57      1000\n",
            "        frog       0.70      0.71      0.70      1000\n",
            "       horse       0.75      0.67      0.71      1000\n",
            "        ship       0.73      0.80      0.76      1000\n",
            "       truck       0.76      0.70      0.73      1000\n",
            "\n",
            "    accuracy                           0.65     10000\n",
            "   macro avg       0.66      0.65      0.65     10000\n",
            "weighted avg       0.66      0.65      0.65     10000\n",
            "\n",
            "Test set: Average loss: 0.9929, Accuracy: 6536/10000 (65.36%)\n",
            "\n",
            "Adjusting learning rate of group 0 to 1.0000e-01.\n",
            "Epoch 6\n"
          ]
        },
        {
          "output_type": "stream",
          "name": "stderr",
          "text": [
            "Train: Loss=1.3768 Batch_id=390 Accuracy=59.08: 100%|██████████| 391/391 [00:20<00:00, 19.43it/s]\n"
          ]
        },
        {
          "output_type": "stream",
          "name": "stdout",
          "text": [
            "              precision    recall  f1-score   support\n",
            "\n",
            "    airplane       0.78      0.58      0.67      1000\n",
            "  automobile       0.84      0.73      0.78      1000\n",
            "        bird       0.47      0.61      0.53      1000\n",
            "         cat       0.48      0.36      0.41      1000\n",
            "        deer       0.70      0.43      0.53      1000\n",
            "         dog       0.56      0.61      0.58      1000\n",
            "        frog       0.52      0.88      0.65      1000\n",
            "       horse       0.83      0.62      0.71      1000\n",
            "        ship       0.78      0.79      0.78      1000\n",
            "       truck       0.67      0.82      0.74      1000\n",
            "\n",
            "    accuracy                           0.64     10000\n",
            "   macro avg       0.66      0.64      0.64     10000\n",
            "weighted avg       0.66      0.64      0.64     10000\n",
            "\n",
            "Test set: Average loss: 1.0060, Accuracy: 6417/10000 (64.17%)\n",
            "\n",
            "Adjusting learning rate of group 0 to 1.0000e-02.\n",
            "Epoch 7\n"
          ]
        },
        {
          "output_type": "stream",
          "name": "stderr",
          "text": [
            "Train: Loss=0.9245 Batch_id=390 Accuracy=64.04: 100%|██████████| 391/391 [00:19<00:00, 20.09it/s]\n"
          ]
        },
        {
          "output_type": "stream",
          "name": "stdout",
          "text": [
            "              precision    recall  f1-score   support\n",
            "\n",
            "    airplane       0.68      0.76      0.71      1000\n",
            "  automobile       0.80      0.86      0.83      1000\n",
            "        bird       0.58      0.58      0.58      1000\n",
            "         cat       0.51      0.44      0.47      1000\n",
            "        deer       0.70      0.59      0.64      1000\n",
            "         dog       0.56      0.62      0.59      1000\n",
            "        frog       0.75      0.76      0.76      1000\n",
            "       horse       0.73      0.75      0.74      1000\n",
            "        ship       0.80      0.79      0.79      1000\n",
            "       truck       0.78      0.76      0.77      1000\n",
            "\n",
            "    accuracy                           0.69     10000\n",
            "   macro avg       0.69      0.69      0.69     10000\n",
            "weighted avg       0.69      0.69      0.69     10000\n",
            "\n",
            "Test set: Average loss: 0.8701, Accuracy: 6895/10000 (68.95%)\n",
            "\n",
            "Adjusting learning rate of group 0 to 1.0000e-02.\n",
            "Epoch 8\n"
          ]
        },
        {
          "output_type": "stream",
          "name": "stderr",
          "text": [
            "Train: Loss=0.9433 Batch_id=390 Accuracy=64.71: 100%|██████████| 391/391 [00:20<00:00, 19.53it/s]\n"
          ]
        },
        {
          "output_type": "stream",
          "name": "stdout",
          "text": [
            "              precision    recall  f1-score   support\n",
            "\n",
            "    airplane       0.71      0.70      0.71      1000\n",
            "  automobile       0.83      0.81      0.82      1000\n",
            "        bird       0.64      0.54      0.59      1000\n",
            "         cat       0.48      0.50      0.49      1000\n",
            "        deer       0.69      0.63      0.66      1000\n",
            "         dog       0.57      0.60      0.59      1000\n",
            "        frog       0.72      0.78      0.75      1000\n",
            "       horse       0.76      0.73      0.75      1000\n",
            "        ship       0.78      0.81      0.80      1000\n",
            "       truck       0.73      0.82      0.77      1000\n",
            "\n",
            "    accuracy                           0.69     10000\n",
            "   macro avg       0.69      0.69      0.69     10000\n",
            "weighted avg       0.69      0.69      0.69     10000\n",
            "\n",
            "Test set: Average loss: 0.8557, Accuracy: 6924/10000 (69.24%)\n",
            "\n",
            "Adjusting learning rate of group 0 to 1.0000e-02.\n",
            "Epoch 9\n"
          ]
        },
        {
          "output_type": "stream",
          "name": "stderr",
          "text": [
            "Train: Loss=0.7612 Batch_id=390 Accuracy=65.83: 100%|██████████| 391/391 [00:20<00:00, 19.12it/s]\n"
          ]
        },
        {
          "output_type": "stream",
          "name": "stdout",
          "text": [
            "              precision    recall  f1-score   support\n",
            "\n",
            "    airplane       0.68      0.74      0.71      1000\n",
            "  automobile       0.82      0.83      0.83      1000\n",
            "        bird       0.66      0.54      0.59      1000\n",
            "         cat       0.53      0.42      0.47      1000\n",
            "        deer       0.72      0.58      0.64      1000\n",
            "         dog       0.54      0.67      0.60      1000\n",
            "        frog       0.70      0.80      0.75      1000\n",
            "       horse       0.72      0.76      0.74      1000\n",
            "        ship       0.81      0.78      0.80      1000\n",
            "       truck       0.74      0.81      0.77      1000\n",
            "\n",
            "    accuracy                           0.69     10000\n",
            "   macro avg       0.69      0.69      0.69     10000\n",
            "weighted avg       0.69      0.69      0.69     10000\n",
            "\n",
            "Test set: Average loss: 0.8480, Accuracy: 6924/10000 (69.24%)\n",
            "\n",
            "Adjusting learning rate of group 0 to 1.0000e-02.\n",
            "Epoch 10\n"
          ]
        },
        {
          "output_type": "stream",
          "name": "stderr",
          "text": [
            "Train: Loss=1.1830 Batch_id=390 Accuracy=65.93: 100%|██████████| 391/391 [00:20<00:00, 18.95it/s]\n"
          ]
        },
        {
          "output_type": "stream",
          "name": "stdout",
          "text": [
            "              precision    recall  f1-score   support\n",
            "\n",
            "    airplane       0.72      0.72      0.72      1000\n",
            "  automobile       0.79      0.87      0.83      1000\n",
            "        bird       0.63      0.57      0.60      1000\n",
            "         cat       0.53      0.47      0.50      1000\n",
            "        deer       0.67      0.64      0.66      1000\n",
            "         dog       0.61      0.56      0.58      1000\n",
            "        frog       0.73      0.79      0.76      1000\n",
            "       horse       0.69      0.79      0.74      1000\n",
            "        ship       0.80      0.80      0.80      1000\n",
            "       truck       0.77      0.79      0.78      1000\n",
            "\n",
            "    accuracy                           0.70     10000\n",
            "   macro avg       0.69      0.70      0.70     10000\n",
            "weighted avg       0.69      0.70      0.70     10000\n",
            "\n",
            "Test set: Average loss: 0.8364, Accuracy: 6990/10000 (69.90%)\n",
            "\n",
            "Adjusting learning rate of group 0 to 1.0000e-02.\n",
            "Epoch 11\n"
          ]
        },
        {
          "output_type": "stream",
          "name": "stderr",
          "text": [
            "Train: Loss=0.9397 Batch_id=390 Accuracy=66.26: 100%|██████████| 391/391 [00:20<00:00, 18.65it/s]\n"
          ]
        },
        {
          "output_type": "stream",
          "name": "stdout",
          "text": [
            "              precision    recall  f1-score   support\n",
            "\n",
            "    airplane       0.76      0.69      0.72      1000\n",
            "  automobile       0.80      0.85      0.82      1000\n",
            "        bird       0.69      0.52      0.59      1000\n",
            "         cat       0.54      0.39      0.46      1000\n",
            "        deer       0.69      0.62      0.65      1000\n",
            "         dog       0.52      0.73      0.61      1000\n",
            "        frog       0.73      0.79      0.76      1000\n",
            "       horse       0.71      0.78      0.74      1000\n",
            "        ship       0.81      0.79      0.80      1000\n",
            "       truck       0.74      0.82      0.78      1000\n",
            "\n",
            "    accuracy                           0.70     10000\n",
            "   macro avg       0.70      0.70      0.69     10000\n",
            "weighted avg       0.70      0.70      0.69     10000\n",
            "\n",
            "Test set: Average loss: 0.8397, Accuracy: 6981/10000 (69.81%)\n",
            "\n",
            "Adjusting learning rate of group 0 to 1.0000e-02.\n",
            "Epoch 12\n"
          ]
        },
        {
          "output_type": "stream",
          "name": "stderr",
          "text": [
            "Train: Loss=1.1563 Batch_id=390 Accuracy=66.38: 100%|██████████| 391/391 [00:19<00:00, 20.07it/s]\n"
          ]
        },
        {
          "output_type": "stream",
          "name": "stdout",
          "text": [
            "              precision    recall  f1-score   support\n",
            "\n",
            "    airplane       0.73      0.71      0.72      1000\n",
            "  automobile       0.78      0.89      0.83      1000\n",
            "        bird       0.64      0.57      0.60      1000\n",
            "         cat       0.52      0.49      0.50      1000\n",
            "        deer       0.68      0.69      0.68      1000\n",
            "         dog       0.59      0.60      0.60      1000\n",
            "        frog       0.73      0.80      0.76      1000\n",
            "       horse       0.78      0.74      0.76      1000\n",
            "        ship       0.81      0.80      0.80      1000\n",
            "       truck       0.80      0.78      0.79      1000\n",
            "\n",
            "    accuracy                           0.71     10000\n",
            "   macro avg       0.70      0.71      0.70     10000\n",
            "weighted avg       0.70      0.71      0.70     10000\n",
            "\n",
            "Test set: Average loss: 0.8199, Accuracy: 7061/10000 (70.61%)\n",
            "\n",
            "Adjusting learning rate of group 0 to 1.0000e-03.\n",
            "Epoch 13\n"
          ]
        },
        {
          "output_type": "stream",
          "name": "stderr",
          "text": [
            "Train: Loss=1.0527 Batch_id=390 Accuracy=66.84: 100%|██████████| 391/391 [00:19<00:00, 20.17it/s]\n"
          ]
        },
        {
          "output_type": "stream",
          "name": "stdout",
          "text": [
            "              precision    recall  f1-score   support\n",
            "\n",
            "    airplane       0.72      0.74      0.73      1000\n",
            "  automobile       0.80      0.86      0.83      1000\n",
            "        bird       0.63      0.58      0.61      1000\n",
            "         cat       0.52      0.45      0.49      1000\n",
            "        deer       0.72      0.62      0.66      1000\n",
            "         dog       0.57      0.65      0.60      1000\n",
            "        frog       0.73      0.79      0.76      1000\n",
            "       horse       0.77      0.76      0.76      1000\n",
            "        ship       0.80      0.80      0.80      1000\n",
            "       truck       0.78      0.80      0.79      1000\n",
            "\n",
            "    accuracy                           0.71     10000\n",
            "   macro avg       0.70      0.71      0.70     10000\n",
            "weighted avg       0.70      0.71      0.70     10000\n",
            "\n",
            "Test set: Average loss: 0.8151, Accuracy: 7064/10000 (70.64%)\n",
            "\n",
            "Adjusting learning rate of group 0 to 1.0000e-03.\n",
            "Epoch 14\n"
          ]
        },
        {
          "output_type": "stream",
          "name": "stderr",
          "text": [
            "Train: Loss=0.9711 Batch_id=390 Accuracy=67.14: 100%|██████████| 391/391 [00:20<00:00, 19.49it/s]\n"
          ]
        },
        {
          "output_type": "stream",
          "name": "stdout",
          "text": [
            "              precision    recall  f1-score   support\n",
            "\n",
            "    airplane       0.72      0.74      0.73      1000\n",
            "  automobile       0.81      0.85      0.83      1000\n",
            "        bird       0.64      0.58      0.61      1000\n",
            "         cat       0.52      0.46      0.49      1000\n",
            "        deer       0.71      0.62      0.66      1000\n",
            "         dog       0.56      0.64      0.60      1000\n",
            "        frog       0.74      0.80      0.76      1000\n",
            "       horse       0.76      0.76      0.76      1000\n",
            "        ship       0.81      0.79      0.80      1000\n",
            "       truck       0.77      0.81      0.79      1000\n",
            "\n",
            "    accuracy                           0.71     10000\n",
            "   macro avg       0.70      0.71      0.70     10000\n",
            "weighted avg       0.70      0.71      0.70     10000\n",
            "\n",
            "Test set: Average loss: 0.8142, Accuracy: 7058/10000 (70.58%)\n",
            "\n",
            "Adjusting learning rate of group 0 to 1.0000e-03.\n",
            "Epoch 15\n"
          ]
        },
        {
          "output_type": "stream",
          "name": "stderr",
          "text": [
            "Train: Loss=0.8025 Batch_id=390 Accuracy=67.17: 100%|██████████| 391/391 [00:18<00:00, 20.59it/s]\n"
          ]
        },
        {
          "output_type": "stream",
          "name": "stdout",
          "text": [
            "              precision    recall  f1-score   support\n",
            "\n",
            "    airplane       0.72      0.74      0.73      1000\n",
            "  automobile       0.80      0.87      0.83      1000\n",
            "        bird       0.63      0.59      0.61      1000\n",
            "         cat       0.53      0.47      0.50      1000\n",
            "        deer       0.72      0.61      0.66      1000\n",
            "         dog       0.57      0.64      0.60      1000\n",
            "        frog       0.74      0.79      0.76      1000\n",
            "       horse       0.75      0.77      0.76      1000\n",
            "        ship       0.81      0.80      0.80      1000\n",
            "       truck       0.78      0.80      0.79      1000\n",
            "\n",
            "    accuracy                           0.71     10000\n",
            "   macro avg       0.70      0.71      0.70     10000\n",
            "weighted avg       0.70      0.71      0.70     10000\n",
            "\n",
            "Test set: Average loss: 0.8134, Accuracy: 7063/10000 (70.63%)\n",
            "\n",
            "Adjusting learning rate of group 0 to 1.0000e-03.\n",
            "Epoch 16\n"
          ]
        },
        {
          "output_type": "stream",
          "name": "stderr",
          "text": [
            "Train: Loss=0.9493 Batch_id=390 Accuracy=67.32: 100%|██████████| 391/391 [00:18<00:00, 20.85it/s]\n"
          ]
        },
        {
          "output_type": "stream",
          "name": "stdout",
          "text": [
            "              precision    recall  f1-score   support\n",
            "\n",
            "    airplane       0.73      0.73      0.73      1000\n",
            "  automobile       0.81      0.85      0.83      1000\n",
            "        bird       0.64      0.57      0.60      1000\n",
            "         cat       0.52      0.47      0.49      1000\n",
            "        deer       0.71      0.62      0.66      1000\n",
            "         dog       0.57      0.64      0.60      1000\n",
            "        frog       0.73      0.80      0.76      1000\n",
            "       horse       0.75      0.77      0.76      1000\n",
            "        ship       0.81      0.80      0.80      1000\n",
            "       truck       0.77      0.81      0.79      1000\n",
            "\n",
            "    accuracy                           0.71     10000\n",
            "   macro avg       0.70      0.71      0.70     10000\n",
            "weighted avg       0.70      0.71      0.70     10000\n",
            "\n",
            "Test set: Average loss: 0.8125, Accuracy: 7059/10000 (70.59%)\n",
            "\n",
            "Adjusting learning rate of group 0 to 1.0000e-03.\n",
            "Epoch 17\n"
          ]
        },
        {
          "output_type": "stream",
          "name": "stderr",
          "text": [
            "Train: Loss=0.9236 Batch_id=390 Accuracy=67.00: 100%|██████████| 391/391 [00:19<00:00, 20.07it/s]\n"
          ]
        },
        {
          "output_type": "stream",
          "name": "stdout",
          "text": [
            "              precision    recall  f1-score   support\n",
            "\n",
            "    airplane       0.73      0.73      0.73      1000\n",
            "  automobile       0.82      0.85      0.83      1000\n",
            "        bird       0.65      0.56      0.60      1000\n",
            "         cat       0.52      0.46      0.49      1000\n",
            "        deer       0.70      0.64      0.67      1000\n",
            "         dog       0.57      0.62      0.60      1000\n",
            "        frog       0.73      0.80      0.76      1000\n",
            "       horse       0.75      0.77      0.76      1000\n",
            "        ship       0.80      0.80      0.80      1000\n",
            "       truck       0.76      0.82      0.79      1000\n",
            "\n",
            "    accuracy                           0.71     10000\n",
            "   macro avg       0.70      0.71      0.70     10000\n",
            "weighted avg       0.70      0.71      0.70     10000\n",
            "\n",
            "Test set: Average loss: 0.8101, Accuracy: 7070/10000 (70.70%)\n",
            "\n",
            "Adjusting learning rate of group 0 to 1.0000e-03.\n",
            "Epoch 18\n"
          ]
        },
        {
          "output_type": "stream",
          "name": "stderr",
          "text": [
            "Train: Loss=0.9608 Batch_id=390 Accuracy=67.46: 100%|██████████| 391/391 [00:20<00:00, 19.47it/s]\n"
          ]
        },
        {
          "output_type": "stream",
          "name": "stdout",
          "text": [
            "              precision    recall  f1-score   support\n",
            "\n",
            "    airplane       0.73      0.73      0.73      1000\n",
            "  automobile       0.81      0.85      0.83      1000\n",
            "        bird       0.64      0.56      0.60      1000\n",
            "         cat       0.52      0.48      0.50      1000\n",
            "        deer       0.70      0.64      0.67      1000\n",
            "         dog       0.58      0.64      0.61      1000\n",
            "        frog       0.73      0.80      0.76      1000\n",
            "       horse       0.76      0.76      0.76      1000\n",
            "        ship       0.80      0.81      0.81      1000\n",
            "       truck       0.79      0.80      0.79      1000\n",
            "\n",
            "    accuracy                           0.71     10000\n",
            "   macro avg       0.71      0.71      0.71     10000\n",
            "weighted avg       0.71      0.71      0.71     10000\n",
            "\n",
            "Test set: Average loss: 0.8087, Accuracy: 7083/10000 (70.83%)\n",
            "\n",
            "Adjusting learning rate of group 0 to 1.0000e-04.\n",
            "Epoch 19\n"
          ]
        },
        {
          "output_type": "stream",
          "name": "stderr",
          "text": [
            "Train: Loss=1.0115 Batch_id=390 Accuracy=67.53: 100%|██████████| 391/391 [00:18<00:00, 20.75it/s]\n"
          ]
        },
        {
          "output_type": "stream",
          "name": "stdout",
          "text": [
            "              precision    recall  f1-score   support\n",
            "\n",
            "    airplane       0.73      0.74      0.73      1000\n",
            "  automobile       0.81      0.85      0.83      1000\n",
            "        bird       0.64      0.56      0.60      1000\n",
            "         cat       0.53      0.47      0.49      1000\n",
            "        deer       0.71      0.64      0.67      1000\n",
            "         dog       0.58      0.63      0.60      1000\n",
            "        frog       0.73      0.80      0.76      1000\n",
            "       horse       0.75      0.77      0.76      1000\n",
            "        ship       0.81      0.80      0.80      1000\n",
            "       truck       0.77      0.81      0.79      1000\n",
            "\n",
            "    accuracy                           0.71     10000\n",
            "   macro avg       0.70      0.71      0.70     10000\n",
            "weighted avg       0.70      0.71      0.70     10000\n",
            "\n",
            "Test set: Average loss: 0.8096, Accuracy: 7074/10000 (70.74%)\n",
            "\n",
            "Adjusting learning rate of group 0 to 1.0000e-04.\n",
            "Epoch 20\n"
          ]
        },
        {
          "output_type": "stream",
          "name": "stderr",
          "text": [
            "Train: Loss=0.9450 Batch_id=390 Accuracy=67.36: 100%|██████████| 391/391 [00:18<00:00, 20.81it/s]\n"
          ]
        },
        {
          "output_type": "stream",
          "name": "stdout",
          "text": [
            "              precision    recall  f1-score   support\n",
            "\n",
            "    airplane       0.72      0.74      0.73      1000\n",
            "  automobile       0.81      0.85      0.83      1000\n",
            "        bird       0.64      0.57      0.60      1000\n",
            "         cat       0.53      0.47      0.50      1000\n",
            "        deer       0.71      0.64      0.67      1000\n",
            "         dog       0.57      0.63      0.60      1000\n",
            "        frog       0.73      0.80      0.76      1000\n",
            "       horse       0.75      0.77      0.76      1000\n",
            "        ship       0.81      0.80      0.80      1000\n",
            "       truck       0.77      0.81      0.79      1000\n",
            "\n",
            "    accuracy                           0.71     10000\n",
            "   macro avg       0.70      0.71      0.71     10000\n",
            "weighted avg       0.70      0.71      0.71     10000\n",
            "\n",
            "Test set: Average loss: 0.8093, Accuracy: 7078/10000 (70.78%)\n",
            "\n",
            "Adjusting learning rate of group 0 to 1.0000e-04.\n"
          ]
        }
      ]
    },
    {
      "cell_type": "code",
      "source": [
        "df_misclassified = pd.DataFrame(metrics['misclassified_data'])"
      ],
      "metadata": {
        "id": "NkQiWbSSxH_M"
      },
      "execution_count": 52,
      "outputs": []
    },
    {
      "cell_type": "code",
      "source": [
        "df_misclassified.sample(n=10)"
      ],
      "metadata": {
        "colab": {
          "base_uri": "https://localhost:8080/",
          "height": 363
        },
        "id": "0JT6sDOYl8cz",
        "outputId": "59805f87-b3e3-4327-9bdd-884bdab7ad8c"
      },
      "execution_count": 53,
      "outputs": [
        {
          "output_type": "execute_result",
          "data": {
            "text/plain": [
              "      pred  actual                                               data\n",
              "1721     0       8  [[[-1.9098394, -1.8780899, -1.8463404, -1.7669...\n",
              "1826     0       8  [[[0.50311863, 0.45549446, 0.43961975, 0.47136...\n",
              "2201     3       8  [[[2.027092, 2.0429666, 2.0588415, 2.0429666, ...\n",
              "1695     5       7  [[[-1.989213, -1.989213, -1.9733382, -1.973338...\n",
              "593      7       2  [[[1.9635931, 1.9794677, 1.9953425, 2.0112174,...\n",
              "991      5       7  [[[0.12212531, 0.12212531, 0.15387475, 0.16974...\n",
              "2904     0       8  [[[1.3127295, 1.2651052, 1.28098, 1.2968547, 1...\n",
              "1492     1       6  [[[-0.8621076, -0.8621076, -0.83035815, -0.782...\n",
              "180      7       4  [[[-1.2113516, -1.3859736, -1.3383493, -1.0843...\n",
              "2548     5       3  [[[-0.33824176, -0.36999118, -0.35411647, -0.3..."
            ],
            "text/html": [
              "\n",
              "  <div id=\"df-6e037b10-58e9-468e-8313-7ee9bd9cf53a\">\n",
              "    <div class=\"colab-df-container\">\n",
              "      <div>\n",
              "<style scoped>\n",
              "    .dataframe tbody tr th:only-of-type {\n",
              "        vertical-align: middle;\n",
              "    }\n",
              "\n",
              "    .dataframe tbody tr th {\n",
              "        vertical-align: top;\n",
              "    }\n",
              "\n",
              "    .dataframe thead th {\n",
              "        text-align: right;\n",
              "    }\n",
              "</style>\n",
              "<table border=\"1\" class=\"dataframe\">\n",
              "  <thead>\n",
              "    <tr style=\"text-align: right;\">\n",
              "      <th></th>\n",
              "      <th>pred</th>\n",
              "      <th>actual</th>\n",
              "      <th>data</th>\n",
              "    </tr>\n",
              "  </thead>\n",
              "  <tbody>\n",
              "    <tr>\n",
              "      <th>1721</th>\n",
              "      <td>0</td>\n",
              "      <td>8</td>\n",
              "      <td>[[[-1.9098394, -1.8780899, -1.8463404, -1.7669...</td>\n",
              "    </tr>\n",
              "    <tr>\n",
              "      <th>1826</th>\n",
              "      <td>0</td>\n",
              "      <td>8</td>\n",
              "      <td>[[[0.50311863, 0.45549446, 0.43961975, 0.47136...</td>\n",
              "    </tr>\n",
              "    <tr>\n",
              "      <th>2201</th>\n",
              "      <td>3</td>\n",
              "      <td>8</td>\n",
              "      <td>[[[2.027092, 2.0429666, 2.0588415, 2.0429666, ...</td>\n",
              "    </tr>\n",
              "    <tr>\n",
              "      <th>1695</th>\n",
              "      <td>5</td>\n",
              "      <td>7</td>\n",
              "      <td>[[[-1.989213, -1.989213, -1.9733382, -1.973338...</td>\n",
              "    </tr>\n",
              "    <tr>\n",
              "      <th>593</th>\n",
              "      <td>7</td>\n",
              "      <td>2</td>\n",
              "      <td>[[[1.9635931, 1.9794677, 1.9953425, 2.0112174,...</td>\n",
              "    </tr>\n",
              "    <tr>\n",
              "      <th>991</th>\n",
              "      <td>5</td>\n",
              "      <td>7</td>\n",
              "      <td>[[[0.12212531, 0.12212531, 0.15387475, 0.16974...</td>\n",
              "    </tr>\n",
              "    <tr>\n",
              "      <th>2904</th>\n",
              "      <td>0</td>\n",
              "      <td>8</td>\n",
              "      <td>[[[1.3127295, 1.2651052, 1.28098, 1.2968547, 1...</td>\n",
              "    </tr>\n",
              "    <tr>\n",
              "      <th>1492</th>\n",
              "      <td>1</td>\n",
              "      <td>6</td>\n",
              "      <td>[[[-0.8621076, -0.8621076, -0.83035815, -0.782...</td>\n",
              "    </tr>\n",
              "    <tr>\n",
              "      <th>180</th>\n",
              "      <td>7</td>\n",
              "      <td>4</td>\n",
              "      <td>[[[-1.2113516, -1.3859736, -1.3383493, -1.0843...</td>\n",
              "    </tr>\n",
              "    <tr>\n",
              "      <th>2548</th>\n",
              "      <td>5</td>\n",
              "      <td>3</td>\n",
              "      <td>[[[-0.33824176, -0.36999118, -0.35411647, -0.3...</td>\n",
              "    </tr>\n",
              "  </tbody>\n",
              "</table>\n",
              "</div>\n",
              "      <button class=\"colab-df-convert\" onclick=\"convertToInteractive('df-6e037b10-58e9-468e-8313-7ee9bd9cf53a')\"\n",
              "              title=\"Convert this dataframe to an interactive table.\"\n",
              "              style=\"display:none;\">\n",
              "        \n",
              "  <svg xmlns=\"http://www.w3.org/2000/svg\" height=\"24px\"viewBox=\"0 0 24 24\"\n",
              "       width=\"24px\">\n",
              "    <path d=\"M0 0h24v24H0V0z\" fill=\"none\"/>\n",
              "    <path d=\"M18.56 5.44l.94 2.06.94-2.06 2.06-.94-2.06-.94-.94-2.06-.94 2.06-2.06.94zm-11 1L8.5 8.5l.94-2.06 2.06-.94-2.06-.94L8.5 2.5l-.94 2.06-2.06.94zm10 10l.94 2.06.94-2.06 2.06-.94-2.06-.94-.94-2.06-.94 2.06-2.06.94z\"/><path d=\"M17.41 7.96l-1.37-1.37c-.4-.4-.92-.59-1.43-.59-.52 0-1.04.2-1.43.59L10.3 9.45l-7.72 7.72c-.78.78-.78 2.05 0 2.83L4 21.41c.39.39.9.59 1.41.59.51 0 1.02-.2 1.41-.59l7.78-7.78 2.81-2.81c.8-.78.8-2.07 0-2.86zM5.41 20L4 18.59l7.72-7.72 1.47 1.35L5.41 20z\"/>\n",
              "  </svg>\n",
              "      </button>\n",
              "      \n",
              "  <style>\n",
              "    .colab-df-container {\n",
              "      display:flex;\n",
              "      flex-wrap:wrap;\n",
              "      gap: 12px;\n",
              "    }\n",
              "\n",
              "    .colab-df-convert {\n",
              "      background-color: #E8F0FE;\n",
              "      border: none;\n",
              "      border-radius: 50%;\n",
              "      cursor: pointer;\n",
              "      display: none;\n",
              "      fill: #1967D2;\n",
              "      height: 32px;\n",
              "      padding: 0 0 0 0;\n",
              "      width: 32px;\n",
              "    }\n",
              "\n",
              "    .colab-df-convert:hover {\n",
              "      background-color: #E2EBFA;\n",
              "      box-shadow: 0px 1px 2px rgba(60, 64, 67, 0.3), 0px 1px 3px 1px rgba(60, 64, 67, 0.15);\n",
              "      fill: #174EA6;\n",
              "    }\n",
              "\n",
              "    [theme=dark] .colab-df-convert {\n",
              "      background-color: #3B4455;\n",
              "      fill: #D2E3FC;\n",
              "    }\n",
              "\n",
              "    [theme=dark] .colab-df-convert:hover {\n",
              "      background-color: #434B5C;\n",
              "      box-shadow: 0px 1px 3px 1px rgba(0, 0, 0, 0.15);\n",
              "      filter: drop-shadow(0px 1px 2px rgba(0, 0, 0, 0.3));\n",
              "      fill: #FFFFFF;\n",
              "    }\n",
              "  </style>\n",
              "\n",
              "      <script>\n",
              "        const buttonEl =\n",
              "          document.querySelector('#df-6e037b10-58e9-468e-8313-7ee9bd9cf53a button.colab-df-convert');\n",
              "        buttonEl.style.display =\n",
              "          google.colab.kernel.accessAllowed ? 'block' : 'none';\n",
              "\n",
              "        async function convertToInteractive(key) {\n",
              "          const element = document.querySelector('#df-6e037b10-58e9-468e-8313-7ee9bd9cf53a');\n",
              "          const dataTable =\n",
              "            await google.colab.kernel.invokeFunction('convertToInteractive',\n",
              "                                                     [key], {});\n",
              "          if (!dataTable) return;\n",
              "\n",
              "          const docLinkHtml = 'Like what you see? Visit the ' +\n",
              "            '<a target=\"_blank\" href=https://colab.research.google.com/notebooks/data_table.ipynb>data table notebook</a>'\n",
              "            + ' to learn more about interactive tables.';\n",
              "          element.innerHTML = '';\n",
              "          dataTable['output_type'] = 'display_data';\n",
              "          await google.colab.output.renderOutput(dataTable, element);\n",
              "          const docLink = document.createElement('div');\n",
              "          docLink.innerHTML = docLinkHtml;\n",
              "          element.appendChild(docLink);\n",
              "        }\n",
              "      </script>\n",
              "    </div>\n",
              "  </div>\n",
              "  "
            ]
          },
          "metadata": {},
          "execution_count": 53
        }
      ]
    },
    {
      "cell_type": "code",
      "source": [
        "import matplotlib.pyplot as plt\n",
        "\n",
        "fig = plt.figure(figsize=(12, 5))\n",
        "\n",
        "for i, row in df_misclassified.sample(n=10).reset_index(drop=True).iterrows():\n",
        "    ax = plt.subplot(2, 5, i+1)\n",
        "    plt.axis('off')\n",
        "\n",
        "    img = row['data']\n",
        "    img = (img - img.min()) / (img.max() - img.min())\n",
        "    img = np.moveaxis(img * 255, [0, 1, 2], [2, 0, 1])\n",
        "    plt.imshow(img.astype(int), cmap='jet')\n",
        "\n",
        "    ax.set_title(f\"actual: {labels[row['actual']]} \\n predicted: {labels[row['pred']]}\")\n",
        "\n",
        "plt.show()\n",
        "plt.savefig('failed_gn.jpg')"
      ],
      "metadata": {
        "colab": {
          "base_uri": "https://localhost:8080/",
          "height": 467
        },
        "id": "DWhMj9tcmuG-",
        "outputId": "50489a9e-ee67-4819-8b21-4bf9e5d84232"
      },
      "execution_count": 55,
      "outputs": [
        {
          "output_type": "display_data",
          "data": {
            "text/plain": [
              "<Figure size 1200x500 with 10 Axes>"
            ],
            "image/png": "[encoded data removed]"
          },
          "metadata": {}
        },
        {
          "output_type": "display_data",
          "data": {
            "text/plain": [
              "<Figure size 640x480 with 0 Axes>"
            ]
          },
          "metadata": {}
        }
      ]
    },
    {
      "cell_type": "markdown",
      "source": [
        "## Display Results"
      ],
      "metadata": {
        "id": "xVXP0fKFzj1Z"
      }
    },
    {
      "cell_type": "code",
      "source": [
        "df = pd.DataFrame({'train_losses': metrics['train_losses'], 'test_losses': metrics['test_losses']})"
      ],
      "metadata": {
        "id": "qBXxW_lx4rM6"
      },
      "execution_count": null,
      "outputs": []
    },
    {
      "cell_type": "code",
      "source": [
        "df.plot()"
      ],
      "metadata": {
        "colab": {
          "base_uri": "https://localhost:8080/",
          "height": 542
        },
        "id": "wEXQxw4wTjHN",
        "outputId": "33fd5478-ed98-4d90-9896-7bce87195b18"
      },
      "execution_count": null,
      "outputs": [
        {
          "output_type": "display_data",
          "data": {
            "text/html": [
              "<html>\n",
              "<head><meta charset=\"utf-8\" /></head>\n",
              "<body>\n",
              "    <div>            <script src=\"https://cdnjs.cloudflare.com/ajax/libs/mathjax/2.7.5/MathJax.js?config=TeX-AMS-MML_SVG\"></script><script type=\"text/javascript\">if (window.MathJax && window.MathJax.Hub && window.MathJax.Hub.Config) {window.MathJax.Hub.Config({SVG: {font: \"STIX-Web\"}});}</script>                <script type=\"text/javascript\">window.PlotlyConfig = {MathJaxConfig: 'local'};</script>\n",
              "        <script src=\"https://cdn.plot.ly/plotly-2.18.2.min.js\"></script>                <div id=\"58128bc1-f5a7-4b69-9f60-c91f8c572dfd\" class=\"plotly-graph-div\" style=\"height:525px; width:100%;\"></div>            <script type=\"text/javascript\">                                    window.PLOTLYENV=window.PLOTLYENV || {};                                    if (document.getElementById(\"58128bc1-f5a7-4b69-9f60-c91f8c572dfd\")) {                    Plotly.newPlot(                        \"58128bc1-f5a7-4b69-9f60-c91f8c572dfd\",                        [{\"hovertemplate\":\"variable=train_losses<br>index=%{x}<br>value=%{y}<extra></extra>\",\"legendgroup\":\"train_losses\",\"line\":{\"color\":\"#636efa\",\"dash\":\"solid\"},\"marker\":{\"symbol\":\"circle\"},\"mode\":\"lines\",\"name\":\"train_losses\",\"orientation\":\"v\",\"showlegend\":true,\"x\":[0,1,2,3,4,5,6,7,8,9,10,11,12,13,14,15,16,17,18,19],\"xaxis\":\"x\",\"y\":[1.6434335751301796,1.3578754111629008,1.2274509287246353,1.1514684827736272,1.0876901011027948,1.0403729681773564,0.9354497409232742,0.9049104325606695,0.8926246840020885,0.8894366320136868,0.8811506776858473,0.873475601910935,0.8612447376446346,0.8550105715346763,0.8569143214798949,0.8547121755912176,0.8512579705709081,0.859138502641712,0.8514295686846194,0.8489967612049464],\"yaxis\":\"y\",\"type\":\"scatter\"},{\"hovertemplate\":\"variable=test_losses<br>index=%{x}<br>value=%{y}<extra></extra>\",\"legendgroup\":\"test_losses\",\"line\":{\"color\":\"#EF553B\",\"dash\":\"solid\"},\"marker\":{\"symbol\":\"circle\"},\"mode\":\"lines\",\"name\":\"test_losses\",\"orientation\":\"v\",\"showlegend\":true,\"x\":[0,1,2,3,4,5,6,7,8,9,10,11,12,13,14,15,16,17,18,19],\"xaxis\":\"x\",\"y\":[1.3515227544784545,1.2057645065307616,1.0332171976089477,0.9600648771286011,0.9270186731338501,0.8829951082229615,0.7764384197235108,0.7640623193740844,0.7645481392860413,0.7570631937980652,0.7541838478088378,0.7374366142272949,0.7339591074943542,0.7281677883148193,0.7298151793479919,0.7296991857528686,0.7308237671852111,0.732052363204956,0.7308029216766357,0.7295864608764648],\"yaxis\":\"y\",\"type\":\"scatter\"}],                        {\"template\":{\"data\":{\"histogram2dcontour\":[{\"type\":\"histogram2dcontour\",\"colorbar\":{\"outlinewidth\":0,\"ticks\":\"\"},\"colorscale\":[[0.0,\"#0d0887\"],[0.1111111111111111,\"#46039f\"],[0.2222222222222222,\"#7201a8\"],[0.3333333333333333,\"#9c179e\"],[0.4444444444444444,\"#bd3786\"],[0.5555555555555556,\"#d8576b\"],[0.6666666666666666,\"#ed7953\"],[0.7777777777777778,\"#fb9f3a\"],[0.8888888888888888,\"#fdca26\"],[1.0,\"#f0f921\"]]}],\"choropleth\":[{\"type\":\"choropleth\",\"colorbar\":{\"outlinewidth\":0,\"ticks\":\"\"}}],\"histogram2d\":[{\"type\":\"histogram2d\",\"colorbar\":{\"outlinewidth\":0,\"ticks\":\"\"},\"colorscale\":[[0.0,\"#0d0887\"],[0.1111111111111111,\"#46039f\"],[0.2222222222222222,\"#7201a8\"],[0.3333333333333333,\"#9c179e\"],[0.4444444444444444,\"#bd3786\"],[0.5555555555555556,\"#d8576b\"],[0.6666666666666666,\"#ed7953\"],[0.7777777777777778,\"#fb9f3a\"],[0.8888888888888888,\"#fdca26\"],[1.0,\"#f0f921\"]]}],\"heatmap\":[{\"type\":\"heatmap\",\"colorbar\":{\"outlinewidth\":0,\"ticks\":\"\"},\"colorscale\":[[0.0,\"#0d0887\"],[0.1111111111111111,\"#46039f\"],[0.2222222222222222,\"#7201a8\"],[0.3333333333333333,\"#9c179e\"],[0.4444444444444444,\"#bd3786\"],[0.5555555555555556,\"#d8576b\"],[0.6666666666666666,\"#ed7953\"],[0.7777777777777778,\"#fb9f3a\"],[0.8888888888888888,\"#fdca26\"],[1.0,\"#f0f921\"]]}],\"heatmapgl\":[{\"type\":\"heatmapgl\",\"colorbar\":{\"outlinewidth\":0,\"ticks\":\"\"},\"colorscale\":[[0.0,\"#0d0887\"],[0.1111111111111111,\"#46039f\"],[0.2222222222222222,\"#7201a8\"],[0.3333333333333333,\"#9c179e\"],[0.4444444444444444,\"#bd3786\"],[0.5555555555555556,\"#d8576b\"],[0.6666666666666666,\"#ed7953\"],[0.7777777777777778,\"#fb9f3a\"],[0.8888888888888888,\"#fdca26\"],[1.0,\"#f0f921\"]]}],\"contourcarpet\":[{\"type\":\"contourcarpet\",\"colorbar\":{\"outlinewidth\":0,\"ticks\":\"\"}}],\"contour\":[{\"type\":\"contour\",\"colorbar\":{\"outlinewidth\":0,\"ticks\":\"\"},\"colorscale\":[[0.0,\"#0d0887\"],[0.1111111111111111,\"#46039f\"],[0.2222222222222222,\"#7201a8\"],[0.3333333333333333,\"#9c179e\"],[0.4444444444444444,\"#bd3786\"],[0.5555555555555556,\"#d8576b\"],[0.6666666666666666,\"#ed7953\"],[0.7777777777777778,\"#fb9f3a\"],[0.8888888888888888,\"#fdca26\"],[1.0,\"#f0f921\"]]}],\"surface\":[{\"type\":\"surface\",\"colorbar\":{\"outlinewidth\":0,\"ticks\":\"\"},\"colorscale\":[[0.0,\"#0d0887\"],[0.1111111111111111,\"#46039f\"],[0.2222222222222222,\"#7201a8\"],[0.3333333333333333,\"#9c179e\"],[0.4444444444444444,\"#bd3786\"],[0.5555555555555556,\"#d8576b\"],[0.6666666666666666,\"#ed7953\"],[0.7777777777777778,\"#fb9f3a\"],[0.8888888888888888,\"#fdca26\"],[1.0,\"#f0f921\"]]}],\"mesh3d\":[{\"type\":\"mesh3d\",\"colorbar\":{\"outlinewidth\":0,\"ticks\":\"\"}}],\"scatter\":[{\"fillpattern\":{\"fillmode\":\"overlay\",\"size\":10,\"solidity\":0.2},\"type\":\"scatter\"}],\"parcoords\":[{\"type\":\"parcoords\",\"line\":{\"colorbar\":{\"outlinewidth\":0,\"ticks\":\"\"}}}],\"scatterpolargl\":[{\"type\":\"scatterpolargl\",\"marker\":{\"colorbar\":{\"outlinewidth\":0,\"ticks\":\"\"}}}],\"bar\":[{\"error_x\":{\"color\":\"#2a3f5f\"},\"error_y\":{\"color\":\"#2a3f5f\"},\"marker\":{\"line\":{\"color\":\"#E5ECF6\",\"width\":0.5},\"pattern\":{\"fillmode\":\"overlay\",\"size\":10,\"solidity\":0.2}},\"type\":\"bar\"}],\"scattergeo\":[{\"type\":\"scattergeo\",\"marker\":{\"colorbar\":{\"outlinewidth\":0,\"ticks\":\"\"}}}],\"scatterpolar\":[{\"type\":\"scatterpolar\",\"marker\":{\"colorbar\":{\"outlinewidth\":0,\"ticks\":\"\"}}}],\"histogram\":[{\"marker\":{\"pattern\":{\"fillmode\":\"overlay\",\"size\":10,\"solidity\":0.2}},\"type\":\"histogram\"}],\"scattergl\":[{\"type\":\"scattergl\",\"marker\":{\"colorbar\":{\"outlinewidth\":0,\"ticks\":\"\"}}}],\"scatter3d\":[{\"type\":\"scatter3d\",\"line\":{\"colorbar\":{\"outlinewidth\":0,\"ticks\":\"\"}},\"marker\":{\"colorbar\":{\"outlinewidth\":0,\"ticks\":\"\"}}}],\"scattermapbox\":[{\"type\":\"scattermapbox\",\"marker\":{\"colorbar\":{\"outlinewidth\":0,\"ticks\":\"\"}}}],\"scatterternary\":[{\"type\":\"scatterternary\",\"marker\":{\"colorbar\":{\"outlinewidth\":0,\"ticks\":\"\"}}}],\"scattercarpet\":[{\"type\":\"scattercarpet\",\"marker\":{\"colorbar\":{\"outlinewidth\":0,\"ticks\":\"\"}}}],\"carpet\":[{\"aaxis\":{\"endlinecolor\":\"#2a3f5f\",\"gridcolor\":\"white\",\"linecolor\":\"white\",\"minorgridcolor\":\"white\",\"startlinecolor\":\"#2a3f5f\"},\"baxis\":{\"endlinecolor\":\"#2a3f5f\",\"gridcolor\":\"white\",\"linecolor\":\"white\",\"minorgridcolor\":\"white\",\"startlinecolor\":\"#2a3f5f\"},\"type\":\"carpet\"}],\"table\":[{\"cells\":{\"fill\":{\"color\":\"#EBF0F8\"},\"line\":{\"color\":\"white\"}},\"header\":{\"fill\":{\"color\":\"#C8D4E3\"},\"line\":{\"color\":\"white\"}},\"type\":\"table\"}],\"barpolar\":[{\"marker\":{\"line\":{\"color\":\"#E5ECF6\",\"width\":0.5},\"pattern\":{\"fillmode\":\"overlay\",\"size\":10,\"solidity\":0.2}},\"type\":\"barpolar\"}],\"pie\":[{\"automargin\":true,\"type\":\"pie\"}]},\"layout\":{\"autotypenumbers\":\"strict\",\"colorway\":[\"#636efa\",\"#EF553B\",\"#00cc96\",\"#ab63fa\",\"#FFA15A\",\"#19d3f3\",\"#FF6692\",\"#B6E880\",\"#FF97FF\",\"#FECB52\"],\"font\":{\"color\":\"#2a3f5f\"},\"hovermode\":\"closest\",\"hoverlabel\":{\"align\":\"left\"},\"paper_bgcolor\":\"white\",\"plot_bgcolor\":\"#E5ECF6\",\"polar\":{\"bgcolor\":\"#E5ECF6\",\"angularaxis\":{\"gridcolor\":\"white\",\"linecolor\":\"white\",\"ticks\":\"\"},\"radialaxis\":{\"gridcolor\":\"white\",\"linecolor\":\"white\",\"ticks\":\"\"}},\"ternary\":{\"bgcolor\":\"#E5ECF6\",\"aaxis\":{\"gridcolor\":\"white\",\"linecolor\":\"white\",\"ticks\":\"\"},\"baxis\":{\"gridcolor\":\"white\",\"linecolor\":\"white\",\"ticks\":\"\"},\"caxis\":{\"gridcolor\":\"white\",\"linecolor\":\"white\",\"ticks\":\"\"}},\"coloraxis\":{\"colorbar\":{\"outlinewidth\":0,\"ticks\":\"\"}},\"colorscale\":{\"sequential\":[[0.0,\"#0d0887\"],[0.1111111111111111,\"#46039f\"],[0.2222222222222222,\"#7201a8\"],[0.3333333333333333,\"#9c179e\"],[0.4444444444444444,\"#bd3786\"],[0.5555555555555556,\"#d8576b\"],[0.6666666666666666,\"#ed7953\"],[0.7777777777777778,\"#fb9f3a\"],[0.8888888888888888,\"#fdca26\"],[1.0,\"#f0f921\"]],\"sequentialminus\":[[0.0,\"#0d0887\"],[0.1111111111111111,\"#46039f\"],[0.2222222222222222,\"#7201a8\"],[0.3333333333333333,\"#9c179e\"],[0.4444444444444444,\"#bd3786\"],[0.5555555555555556,\"#d8576b\"],[0.6666666666666666,\"#ed7953\"],[0.7777777777777778,\"#fb9f3a\"],[0.8888888888888888,\"#fdca26\"],[1.0,\"#f0f921\"]],\"diverging\":[[0,\"#8e0152\"],[0.1,\"#c51b7d\"],[0.2,\"#de77ae\"],[0.3,\"#f1b6da\"],[0.4,\"#fde0ef\"],[0.5,\"#f7f7f7\"],[0.6,\"#e6f5d0\"],[0.7,\"#b8e186\"],[0.8,\"#7fbc41\"],[0.9,\"#4d9221\"],[1,\"#276419\"]]},\"xaxis\":{\"gridcolor\":\"white\",\"linecolor\":\"white\",\"ticks\":\"\",\"title\":{\"standoff\":15},\"zerolinecolor\":\"white\",\"automargin\":true,\"zerolinewidth\":2},\"yaxis\":{\"gridcolor\":\"white\",\"linecolor\":\"white\",\"ticks\":\"\",\"title\":{\"standoff\":15},\"zerolinecolor\":\"white\",\"automargin\":true,\"zerolinewidth\":2},\"scene\":{\"xaxis\":{\"backgroundcolor\":\"#E5ECF6\",\"gridcolor\":\"white\",\"linecolor\":\"white\",\"showbackground\":true,\"ticks\":\"\",\"zerolinecolor\":\"white\",\"gridwidth\":2},\"yaxis\":{\"backgroundcolor\":\"#E5ECF6\",\"gridcolor\":\"white\",\"linecolor\":\"white\",\"showbackground\":true,\"ticks\":\"\",\"zerolinecolor\":\"white\",\"gridwidth\":2},\"zaxis\":{\"backgroundcolor\":\"#E5ECF6\",\"gridcolor\":\"white\",\"linecolor\":\"white\",\"showbackground\":true,\"ticks\":\"\",\"zerolinecolor\":\"white\",\"gridwidth\":2}},\"shapedefaults\":{\"line\":{\"color\":\"#2a3f5f\"}},\"annotationdefaults\":{\"arrowcolor\":\"#2a3f5f\",\"arrowhead\":0,\"arrowwidth\":1},\"geo\":{\"bgcolor\":\"white\",\"landcolor\":\"#E5ECF6\",\"subunitcolor\":\"white\",\"showland\":true,\"showlakes\":true,\"lakecolor\":\"white\"},\"title\":{\"x\":0.05},\"mapbox\":{\"style\":\"light\"}}},\"xaxis\":{\"anchor\":\"y\",\"domain\":[0.0,1.0],\"title\":{\"text\":\"index\"}},\"yaxis\":{\"anchor\":\"x\",\"domain\":[0.0,1.0],\"title\":{\"text\":\"value\"}},\"legend\":{\"title\":{\"text\":\"variable\"},\"tracegroupgap\":0},\"margin\":{\"t\":60}},                        {\"responsive\": true}                    ).then(function(){\n",
              "                            \n",
              "var gd = document.getElementById('58128bc1-f5a7-4b69-9f60-c91f8c572dfd');\n",
              "var x = new MutationObserver(function (mutations, observer) {{\n",
              "        var display = window.getComputedStyle(gd).display;\n",
              "        if (!display || display === 'none') {{\n",
              "            console.log([gd, 'removed!']);\n",
              "            Plotly.purge(gd);\n",
              "            observer.disconnect();\n",
              "        }}\n",
              "}});\n",
              "\n",
              "// Listen for the removal of the full notebook cells\n",
              "var notebookContainer = gd.closest('#notebook-container');\n",
              "if (notebookContainer) {{\n",
              "    x.observe(notebookContainer, {childList: true});\n",
              "}}\n",
              "\n",
              "// Listen for the clearing of the current output cell\n",
              "var outputEl = gd.closest('.output');\n",
              "if (outputEl) {{\n",
              "    x.observe(outputEl, {childList: true});\n",
              "}}\n",
              "\n",
              "                        })                };                            </script>        </div>\n",
              "</body>\n",
              "</html>"
            ]
          },
          "metadata": {}
        }
      ]
    },
    {
      "cell_type": "code",
      "source": [
        "df = pd.DataFrame({'train_acc': metrics['train_acc'], 'test_acc': metrics['test_acc']})\n",
        "df.plot()"
      ],
      "metadata": {
        "colab": {
          "base_uri": "https://localhost:8080/",
          "height": 542
        },
        "id": "If8i_k7bTuWo",
        "outputId": "01c201cf-c0f7-49f1-ad90-c00dc3bfe049"
      },
      "execution_count": null,
      "outputs": [
        {
          "output_type": "display_data",
          "data": {
            "text/html": [
              "<html>\n",
              "<head><meta charset=\"utf-8\" /></head>\n",
              "<body>\n",
              "    <div>            <script src=\"https://cdnjs.cloudflare.com/ajax/libs/mathjax/2.7.5/MathJax.js?config=TeX-AMS-MML_SVG\"></script><script type=\"text/javascript\">if (window.MathJax && window.MathJax.Hub && window.MathJax.Hub.Config) {window.MathJax.Hub.Config({SVG: {font: \"STIX-Web\"}});}</script>                <script type=\"text/javascript\">window.PlotlyConfig = {MathJaxConfig: 'local'};</script>\n",
              "        <script src=\"https://cdn.plot.ly/plotly-2.18.2.min.js\"></script>                <div id=\"dea761f6-2caf-4339-8ca4-8f1435f9db60\" class=\"plotly-graph-div\" style=\"height:525px; width:100%;\"></div>            <script type=\"text/javascript\">                                    window.PLOTLYENV=window.PLOTLYENV || {};                                    if (document.getElementById(\"dea761f6-2caf-4339-8ca4-8f1435f9db60\")) {                    Plotly.newPlot(                        \"dea761f6-2caf-4339-8ca4-8f1435f9db60\",                        [{\"hovertemplate\":\"variable=train_acc<br>index=%{x}<br>value=%{y}<extra></extra>\",\"legendgroup\":\"train_acc\",\"line\":{\"color\":\"#636efa\",\"dash\":\"solid\"},\"marker\":{\"symbol\":\"circle\"},\"mode\":\"lines\",\"name\":\"train_acc\",\"orientation\":\"v\",\"showlegend\":true,\"x\":[0,1,2,3,4,5,6,7,8,9,10,11,12,13,14,15,16,17,18,19],\"xaxis\":\"x\",\"y\":[39.642,50.452,55.576,58.582,60.842,62.816,66.926,67.622,68.146,68.446,68.534,68.97,69.428,69.562,69.604,69.53,69.918,69.524,69.592,70.024],\"yaxis\":\"y\",\"type\":\"scatter\"},{\"hovertemplate\":\"variable=test_acc<br>index=%{x}<br>value=%{y}<extra></extra>\",\"legendgroup\":\"test_acc\",\"line\":{\"color\":\"#EF553B\",\"dash\":\"solid\"},\"marker\":{\"symbol\":\"circle\"},\"mode\":\"lines\",\"name\":\"test_acc\",\"orientation\":\"v\",\"showlegend\":true,\"x\":[0,1,2,3,4,5,6,7,8,9,10,11,12,13,14,15,16,17,18,19],\"xaxis\":\"x\",\"y\":[48.86,56.02,63.32,65.79,66.95,68.7,72.69,72.95,72.97,73.33,73.27,73.87,73.94,74.22,73.98,74.1,73.96,74.1,73.91,74.08],\"yaxis\":\"y\",\"type\":\"scatter\"}],                        {\"template\":{\"data\":{\"histogram2dcontour\":[{\"type\":\"histogram2dcontour\",\"colorbar\":{\"outlinewidth\":0,\"ticks\":\"\"},\"colorscale\":[[0.0,\"#0d0887\"],[0.1111111111111111,\"#46039f\"],[0.2222222222222222,\"#7201a8\"],[0.3333333333333333,\"#9c179e\"],[0.4444444444444444,\"#bd3786\"],[0.5555555555555556,\"#d8576b\"],[0.6666666666666666,\"#ed7953\"],[0.7777777777777778,\"#fb9f3a\"],[0.8888888888888888,\"#fdca26\"],[1.0,\"#f0f921\"]]}],\"choropleth\":[{\"type\":\"choropleth\",\"colorbar\":{\"outlinewidth\":0,\"ticks\":\"\"}}],\"histogram2d\":[{\"type\":\"histogram2d\",\"colorbar\":{\"outlinewidth\":0,\"ticks\":\"\"},\"colorscale\":[[0.0,\"#0d0887\"],[0.1111111111111111,\"#46039f\"],[0.2222222222222222,\"#7201a8\"],[0.3333333333333333,\"#9c179e\"],[0.4444444444444444,\"#bd3786\"],[0.5555555555555556,\"#d8576b\"],[0.6666666666666666,\"#ed7953\"],[0.7777777777777778,\"#fb9f3a\"],[0.8888888888888888,\"#fdca26\"],[1.0,\"#f0f921\"]]}],\"heatmap\":[{\"type\":\"heatmap\",\"colorbar\":{\"outlinewidth\":0,\"ticks\":\"\"},\"colorscale\":[[0.0,\"#0d0887\"],[0.1111111111111111,\"#46039f\"],[0.2222222222222222,\"#7201a8\"],[0.3333333333333333,\"#9c179e\"],[0.4444444444444444,\"#bd3786\"],[0.5555555555555556,\"#d8576b\"],[0.6666666666666666,\"#ed7953\"],[0.7777777777777778,\"#fb9f3a\"],[0.8888888888888888,\"#fdca26\"],[1.0,\"#f0f921\"]]}],\"heatmapgl\":[{\"type\":\"heatmapgl\",\"colorbar\":{\"outlinewidth\":0,\"ticks\":\"\"},\"colorscale\":[[0.0,\"#0d0887\"],[0.1111111111111111,\"#46039f\"],[0.2222222222222222,\"#7201a8\"],[0.3333333333333333,\"#9c179e\"],[0.4444444444444444,\"#bd3786\"],[0.5555555555555556,\"#d8576b\"],[0.6666666666666666,\"#ed7953\"],[0.7777777777777778,\"#fb9f3a\"],[0.8888888888888888,\"#fdca26\"],[1.0,\"#f0f921\"]]}],\"contourcarpet\":[{\"type\":\"contourcarpet\",\"colorbar\":{\"outlinewidth\":0,\"ticks\":\"\"}}],\"contour\":[{\"type\":\"contour\",\"colorbar\":{\"outlinewidth\":0,\"ticks\":\"\"},\"colorscale\":[[0.0,\"#0d0887\"],[0.1111111111111111,\"#46039f\"],[0.2222222222222222,\"#7201a8\"],[0.3333333333333333,\"#9c179e\"],[0.4444444444444444,\"#bd3786\"],[0.5555555555555556,\"#d8576b\"],[0.6666666666666666,\"#ed7953\"],[0.7777777777777778,\"#fb9f3a\"],[0.8888888888888888,\"#fdca26\"],[1.0,\"#f0f921\"]]}],\"surface\":[{\"type\":\"surface\",\"colorbar\":{\"outlinewidth\":0,\"ticks\":\"\"},\"colorscale\":[[0.0,\"#0d0887\"],[0.1111111111111111,\"#46039f\"],[0.2222222222222222,\"#7201a8\"],[0.3333333333333333,\"#9c179e\"],[0.4444444444444444,\"#bd3786\"],[0.5555555555555556,\"#d8576b\"],[0.6666666666666666,\"#ed7953\"],[0.7777777777777778,\"#fb9f3a\"],[0.8888888888888888,\"#fdca26\"],[1.0,\"#f0f921\"]]}],\"mesh3d\":[{\"type\":\"mesh3d\",\"colorbar\":{\"outlinewidth\":0,\"ticks\":\"\"}}],\"scatter\":[{\"fillpattern\":{\"fillmode\":\"overlay\",\"size\":10,\"solidity\":0.2},\"type\":\"scatter\"}],\"parcoords\":[{\"type\":\"parcoords\",\"line\":{\"colorbar\":{\"outlinewidth\":0,\"ticks\":\"\"}}}],\"scatterpolargl\":[{\"type\":\"scatterpolargl\",\"marker\":{\"colorbar\":{\"outlinewidth\":0,\"ticks\":\"\"}}}],\"bar\":[{\"error_x\":{\"color\":\"#2a3f5f\"},\"error_y\":{\"color\":\"#2a3f5f\"},\"marker\":{\"line\":{\"color\":\"#E5ECF6\",\"width\":0.5},\"pattern\":{\"fillmode\":\"overlay\",\"size\":10,\"solidity\":0.2}},\"type\":\"bar\"}],\"scattergeo\":[{\"type\":\"scattergeo\",\"marker\":{\"colorbar\":{\"outlinewidth\":0,\"ticks\":\"\"}}}],\"scatterpolar\":[{\"type\":\"scatterpolar\",\"marker\":{\"colorbar\":{\"outlinewidth\":0,\"ticks\":\"\"}}}],\"histogram\":[{\"marker\":{\"pattern\":{\"fillmode\":\"overlay\",\"size\":10,\"solidity\":0.2}},\"type\":\"histogram\"}],\"scattergl\":[{\"type\":\"scattergl\",\"marker\":{\"colorbar\":{\"outlinewidth\":0,\"ticks\":\"\"}}}],\"scatter3d\":[{\"type\":\"scatter3d\",\"line\":{\"colorbar\":{\"outlinewidth\":0,\"ticks\":\"\"}},\"marker\":{\"colorbar\":{\"outlinewidth\":0,\"ticks\":\"\"}}}],\"scattermapbox\":[{\"type\":\"scattermapbox\",\"marker\":{\"colorbar\":{\"outlinewidth\":0,\"ticks\":\"\"}}}],\"scatterternary\":[{\"type\":\"scatterternary\",\"marker\":{\"colorbar\":{\"outlinewidth\":0,\"ticks\":\"\"}}}],\"scattercarpet\":[{\"type\":\"scattercarpet\",\"marker\":{\"colorbar\":{\"outlinewidth\":0,\"ticks\":\"\"}}}],\"carpet\":[{\"aaxis\":{\"endlinecolor\":\"#2a3f5f\",\"gridcolor\":\"white\",\"linecolor\":\"white\",\"minorgridcolor\":\"white\",\"startlinecolor\":\"#2a3f5f\"},\"baxis\":{\"endlinecolor\":\"#2a3f5f\",\"gridcolor\":\"white\",\"linecolor\":\"white\",\"minorgridcolor\":\"white\",\"startlinecolor\":\"#2a3f5f\"},\"type\":\"carpet\"}],\"table\":[{\"cells\":{\"fill\":{\"color\":\"#EBF0F8\"},\"line\":{\"color\":\"white\"}},\"header\":{\"fill\":{\"color\":\"#C8D4E3\"},\"line\":{\"color\":\"white\"}},\"type\":\"table\"}],\"barpolar\":[{\"marker\":{\"line\":{\"color\":\"#E5ECF6\",\"width\":0.5},\"pattern\":{\"fillmode\":\"overlay\",\"size\":10,\"solidity\":0.2}},\"type\":\"barpolar\"}],\"pie\":[{\"automargin\":true,\"type\":\"pie\"}]},\"layout\":{\"autotypenumbers\":\"strict\",\"colorway\":[\"#636efa\",\"#EF553B\",\"#00cc96\",\"#ab63fa\",\"#FFA15A\",\"#19d3f3\",\"#FF6692\",\"#B6E880\",\"#FF97FF\",\"#FECB52\"],\"font\":{\"color\":\"#2a3f5f\"},\"hovermode\":\"closest\",\"hoverlabel\":{\"align\":\"left\"},\"paper_bgcolor\":\"white\",\"plot_bgcolor\":\"#E5ECF6\",\"polar\":{\"bgcolor\":\"#E5ECF6\",\"angularaxis\":{\"gridcolor\":\"white\",\"linecolor\":\"white\",\"ticks\":\"\"},\"radialaxis\":{\"gridcolor\":\"white\",\"linecolor\":\"white\",\"ticks\":\"\"}},\"ternary\":{\"bgcolor\":\"#E5ECF6\",\"aaxis\":{\"gridcolor\":\"white\",\"linecolor\":\"white\",\"ticks\":\"\"},\"baxis\":{\"gridcolor\":\"white\",\"linecolor\":\"white\",\"ticks\":\"\"},\"caxis\":{\"gridcolor\":\"white\",\"linecolor\":\"white\",\"ticks\":\"\"}},\"coloraxis\":{\"colorbar\":{\"outlinewidth\":0,\"ticks\":\"\"}},\"colorscale\":{\"sequential\":[[0.0,\"#0d0887\"],[0.1111111111111111,\"#46039f\"],[0.2222222222222222,\"#7201a8\"],[0.3333333333333333,\"#9c179e\"],[0.4444444444444444,\"#bd3786\"],[0.5555555555555556,\"#d8576b\"],[0.6666666666666666,\"#ed7953\"],[0.7777777777777778,\"#fb9f3a\"],[0.8888888888888888,\"#fdca26\"],[1.0,\"#f0f921\"]],\"sequentialminus\":[[0.0,\"#0d0887\"],[0.1111111111111111,\"#46039f\"],[0.2222222222222222,\"#7201a8\"],[0.3333333333333333,\"#9c179e\"],[0.4444444444444444,\"#bd3786\"],[0.5555555555555556,\"#d8576b\"],[0.6666666666666666,\"#ed7953\"],[0.7777777777777778,\"#fb9f3a\"],[0.8888888888888888,\"#fdca26\"],[1.0,\"#f0f921\"]],\"diverging\":[[0,\"#8e0152\"],[0.1,\"#c51b7d\"],[0.2,\"#de77ae\"],[0.3,\"#f1b6da\"],[0.4,\"#fde0ef\"],[0.5,\"#f7f7f7\"],[0.6,\"#e6f5d0\"],[0.7,\"#b8e186\"],[0.8,\"#7fbc41\"],[0.9,\"#4d9221\"],[1,\"#276419\"]]},\"xaxis\":{\"gridcolor\":\"white\",\"linecolor\":\"white\",\"ticks\":\"\",\"title\":{\"standoff\":15},\"zerolinecolor\":\"white\",\"automargin\":true,\"zerolinewidth\":2},\"yaxis\":{\"gridcolor\":\"white\",\"linecolor\":\"white\",\"ticks\":\"\",\"title\":{\"standoff\":15},\"zerolinecolor\":\"white\",\"automargin\":true,\"zerolinewidth\":2},\"scene\":{\"xaxis\":{\"backgroundcolor\":\"#E5ECF6\",\"gridcolor\":\"white\",\"linecolor\":\"white\",\"showbackground\":true,\"ticks\":\"\",\"zerolinecolor\":\"white\",\"gridwidth\":2},\"yaxis\":{\"backgroundcolor\":\"#E5ECF6\",\"gridcolor\":\"white\",\"linecolor\":\"white\",\"showbackground\":true,\"ticks\":\"\",\"zerolinecolor\":\"white\",\"gridwidth\":2},\"zaxis\":{\"backgroundcolor\":\"#E5ECF6\",\"gridcolor\":\"white\",\"linecolor\":\"white\",\"showbackground\":true,\"ticks\":\"\",\"zerolinecolor\":\"white\",\"gridwidth\":2}},\"shapedefaults\":{\"line\":{\"color\":\"#2a3f5f\"}},\"annotationdefaults\":{\"arrowcolor\":\"#2a3f5f\",\"arrowhead\":0,\"arrowwidth\":1},\"geo\":{\"bgcolor\":\"white\",\"landcolor\":\"#E5ECF6\",\"subunitcolor\":\"white\",\"showland\":true,\"showlakes\":true,\"lakecolor\":\"white\"},\"title\":{\"x\":0.05},\"mapbox\":{\"style\":\"light\"}}},\"xaxis\":{\"anchor\":\"y\",\"domain\":[0.0,1.0],\"title\":{\"text\":\"index\"}},\"yaxis\":{\"anchor\":\"x\",\"domain\":[0.0,1.0],\"title\":{\"text\":\"value\"}},\"legend\":{\"title\":{\"text\":\"variable\"},\"tracegroupgap\":0},\"margin\":{\"t\":60}},                        {\"responsive\": true}                    ).then(function(){\n",
              "                            \n",
              "var gd = document.getElementById('dea761f6-2caf-4339-8ca4-8f1435f9db60');\n",
              "var x = new MutationObserver(function (mutations, observer) {{\n",
              "        var display = window.getComputedStyle(gd).display;\n",
              "        if (!display || display === 'none') {{\n",
              "            console.log([gd, 'removed!']);\n",
              "            Plotly.purge(gd);\n",
              "            observer.disconnect();\n",
              "        }}\n",
              "}});\n",
              "\n",
              "// Listen for the removal of the full notebook cells\n",
              "var notebookContainer = gd.closest('#notebook-container');\n",
              "if (notebookContainer) {{\n",
              "    x.observe(notebookContainer, {childList: true});\n",
              "}}\n",
              "\n",
              "// Listen for the clearing of the current output cell\n",
              "var outputEl = gd.closest('.output');\n",
              "if (outputEl) {{\n",
              "    x.observe(outputEl, {childList: true});\n",
              "}}\n",
              "\n",
              "                        })                };                            </script>        </div>\n",
              "</body>\n",
              "</html>"
            ]
          },
          "metadata": {}
        }
      ]
    }
  ]
}