{
  "nbformat": 4,
  "nbformat_minor": 0,
  "metadata": {
    "colab": {
      "provenance": [],
      "gpuType": "T4",
      "include_colab_link": true
    },
    "kernelspec": {
      "name": "python3",
      "display_name": "Python 3"
    },
    "language_info": {
      "name": "python"
    },
    "accelerator": "GPU",
    "gpuClass": "standard"
  },
  "cells": [
    {
      "cell_type": "markdown",
      "metadata": {
        "id": "view-in-github",
        "colab_type": "text"
      },
      "source": [
        "<a href=\"https://colab.research.google.com/github/siva-sankar-a/erav1/blob/main/session_8_cifar_10_50k_20_epochs_regularization/Session_8_CIFAR10_layer_normalization.ipynb\" target=\"_parent\"><img src=\"https://colab.research.google.com/assets/colab-badge.svg\" alt=\"Open In Colab\"/></a>"
      ]
    },
    {
      "cell_type": "markdown",
      "source": [
        "# ERA V1 Session 8\n",
        "## Refer [link](https://github.com/siva-sankar-a/erav1/tree/session/session-6-multiple-architecture-check/session_6_multiple_architectures_mnist#readme) for further documentation"
      ],
      "metadata": {
        "id": "vxvrP2Onom0u"
      }
    },
    {
      "cell_type": "markdown",
      "source": [
        "## Cloning the Github repository\n",
        "## [Session 8](https://github.com/siva-sankar-a/erav1.git)"
      ],
      "metadata": {
        "id": "0D7qh1EynkZJ"
      }
    },
    {
      "cell_type": "code",
      "source": [
        "!pip install torchviz"
      ],
      "metadata": {
        "colab": {
          "base_uri": "https://localhost:8080/"
        },
        "id": "wM7bEw9vZnNQ",
        "outputId": "43385916-9ab4-454a-c7e3-979716a000d2"
      },
      "execution_count": 1,
      "outputs": [
        {
          "output_type": "stream",
          "name": "stdout",
          "text": [
            "Looking in indexes: https://pypi.org/simple, https://us-python.pkg.dev/colab-wheels/public/simple/\n",
            "Collecting torchviz\n",
            "  Downloading torchviz-0.0.2.tar.gz (4.9 kB)\n",
            "  Preparing metadata (setup.py) ... \u001b[?25l\u001b[?25hdone\n",
            "Requirement already satisfied: torch in /usr/local/lib/python3.10/dist-packages (from torchviz) (2.0.1+cu118)\n",
            "Requirement already satisfied: graphviz in /usr/local/lib/python3.10/dist-packages (from torchviz) (0.20.1)\n",
            "Requirement already satisfied: filelock in /usr/local/lib/python3.10/dist-packages (from torch->torchviz) (3.12.2)\n",
            "Requirement already satisfied: typing-extensions in /usr/local/lib/python3.10/dist-packages (from torch->torchviz) (4.6.3)\n",
            "Requirement already satisfied: sympy in /usr/local/lib/python3.10/dist-packages (from torch->torchviz) (1.11.1)\n",
            "Requirement already satisfied: networkx in /usr/local/lib/python3.10/dist-packages (from torch->torchviz) (3.1)\n",
            "Requirement already satisfied: jinja2 in /usr/local/lib/python3.10/dist-packages (from torch->torchviz) (3.1.2)\n",
            "Requirement already satisfied: triton==2.0.0 in /usr/local/lib/python3.10/dist-packages (from torch->torchviz) (2.0.0)\n",
            "Requirement already satisfied: cmake in /usr/local/lib/python3.10/dist-packages (from triton==2.0.0->torch->torchviz) (3.25.2)\n",
            "Requirement already satisfied: lit in /usr/local/lib/python3.10/dist-packages (from triton==2.0.0->torch->torchviz) (16.0.6)\n",
            "Requirement already satisfied: MarkupSafe>=2.0 in /usr/local/lib/python3.10/dist-packages (from jinja2->torch->torchviz) (2.1.3)\n",
            "Requirement already satisfied: mpmath>=0.19 in /usr/local/lib/python3.10/dist-packages (from sympy->torch->torchviz) (1.3.0)\n",
            "Building wheels for collected packages: torchviz\n",
            "  Building wheel for torchviz (setup.py) ... \u001b[?25l\u001b[?25hdone\n",
            "  Created wheel for torchviz: filename=torchviz-0.0.2-py3-none-any.whl size=4131 sha256=d3e91ca58172e84e79acc32028f39da8a52968dd2866ae5beaeddd0fa8ce5edb\n",
            "  Stored in directory: /root/.cache/pip/wheels/4c/97/88/a02973217949e0db0c9f4346d154085f4725f99c4f15a87094\n",
            "Successfully built torchviz\n",
            "Installing collected packages: torchviz\n",
            "Successfully installed torchviz-0.0.2\n"
          ]
        }
      ]
    },
    {
      "cell_type": "code",
      "source": [
        "!git clone https://github.com/siva-sankar-a/erav1.git"
      ],
      "metadata": {
        "colab": {
          "base_uri": "https://localhost:8080/"
        },
        "id": "c75NRuJHmxzV",
        "outputId": "9e19374c-4969-4b3d-b4c0-7b6050a7d3b3"
      },
      "execution_count": 2,
      "outputs": [
        {
          "output_type": "stream",
          "name": "stdout",
          "text": [
            "Cloning into 'erav1'...\n",
            "remote: Enumerating objects: 219, done.\u001b[K\n",
            "remote: Counting objects: 100% (79/79), done.\u001b[K\n",
            "remote: Compressing objects: 100% (70/70), done.\u001b[K\n",
            "remote: Total 219 (delta 39), reused 20 (delta 8), pack-reused 140\u001b[K\n",
            "Receiving objects: 100% (219/219), 622.47 KiB | 5.87 MiB/s, done.\n",
            "Resolving deltas: 100% (110/110), done.\n"
          ]
        }
      ]
    },
    {
      "cell_type": "code",
      "source": [
        "%cd /content/erav1"
      ],
      "metadata": {
        "colab": {
          "base_uri": "https://localhost:8080/"
        },
        "id": "_TcPvRRLzL8m",
        "outputId": "db00639c-1204-4683-f957-51910e3071e1"
      },
      "execution_count": 3,
      "outputs": [
        {
          "output_type": "stream",
          "name": "stdout",
          "text": [
            "/content/erav1\n"
          ]
        }
      ]
    },
    {
      "cell_type": "code",
      "source": [
        "!git pull"
      ],
      "metadata": {
        "colab": {
          "base_uri": "https://localhost:8080/"
        },
        "id": "rl5OraqvzON6",
        "outputId": "2da904eb-f184-4b2e-8276-64ba4a7b5ab6"
      },
      "execution_count": 4,
      "outputs": [
        {
          "output_type": "stream",
          "name": "stdout",
          "text": [
            "Already up to date.\n"
          ]
        }
      ]
    },
    {
      "cell_type": "markdown",
      "source": [
        "## Adding the session folder to path in order to access the functions defined"
      ],
      "metadata": {
        "id": "kn9Duybtn916"
      }
    },
    {
      "cell_type": "code",
      "source": [
        "%load_ext autoreload\n",
        "%autoreload 2"
      ],
      "metadata": {
        "id": "VZHmptkFtQLs"
      },
      "execution_count": 5,
      "outputs": []
    },
    {
      "cell_type": "code",
      "source": [
        "import os\n",
        "import sys"
      ],
      "metadata": {
        "id": "etBGZdEBnLgi"
      },
      "execution_count": 6,
      "outputs": []
    },
    {
      "cell_type": "code",
      "source": [
        "sys.path.append('/content/erav1/session_8_cifar_10_50k_20_epochs_regularization')"
      ],
      "metadata": {
        "id": "dmlfbkJ5nQF0"
      },
      "execution_count": 7,
      "outputs": []
    },
    {
      "cell_type": "code",
      "source": [
        "import importlib"
      ],
      "metadata": {
        "id": "hYq-JprOx5C5"
      },
      "execution_count": 8,
      "outputs": []
    },
    {
      "cell_type": "code",
      "source": [
        "import utils as U\n",
        "import datasets as ds\n",
        "import transforms as tf"
      ],
      "metadata": {
        "id": "fcdNScH6ndwQ"
      },
      "execution_count": 9,
      "outputs": []
    },
    {
      "cell_type": "code",
      "source": [
        "U = importlib.reload(U)\n",
        "ds = importlib.reload(ds)\n",
        "tf = importlib.reload(tf)"
      ],
      "metadata": {
        "id": "1eZpnItfx7Ua"
      },
      "execution_count": null,
      "outputs": []
    },
    {
      "cell_type": "markdown",
      "source": [
        "## Get device"
      ],
      "metadata": {
        "id": "JXU1Lk2JoQTu"
      }
    },
    {
      "cell_type": "code",
      "source": [
        "device = U.get_device()\n",
        "print(device)"
      ],
      "metadata": {
        "colab": {
          "base_uri": "https://localhost:8080/"
        },
        "id": "82LKarofoL7z",
        "outputId": "779137eb-9e84-4649-a42d-e412bfc755eb"
      },
      "execution_count": 10,
      "outputs": [
        {
          "output_type": "stream",
          "name": "stdout",
          "text": [
            "CUDA Available? True\n",
            "cuda\n"
          ]
        }
      ]
    },
    {
      "cell_type": "code",
      "source": [
        "import pandas as pd"
      ],
      "metadata": {
        "id": "AS8QFBG24Saq"
      },
      "execution_count": 11,
      "outputs": []
    },
    {
      "cell_type": "code",
      "source": [
        "pd.options.plotting.backend = \"plotly\""
      ],
      "metadata": {
        "id": "wx6n36Hk4WSb"
      },
      "execution_count": 12,
      "outputs": []
    },
    {
      "cell_type": "markdown",
      "source": [
        "## Get train and test transforms"
      ],
      "metadata": {
        "id": "0Lvm6vCjoXrw"
      }
    },
    {
      "cell_type": "code",
      "source": [
        "train_transforms = tf.get_train_transforms()\n",
        "test_transforms = tf.get_test_transforms()"
      ],
      "metadata": {
        "id": "TCqAEH39oiVI"
      },
      "execution_count": 13,
      "outputs": []
    },
    {
      "cell_type": "code",
      "source": [
        "from torchvision import datasets, transforms\n",
        "import numpy as np"
      ],
      "metadata": {
        "id": "5jmS0cIh0I2-"
      },
      "execution_count": 14,
      "outputs": []
    },
    {
      "cell_type": "code",
      "source": [
        "from torch.utils.data import WeightedRandomSampler"
      ],
      "metadata": {
        "id": "mFN3lZviTZ53"
      },
      "execution_count": 15,
      "outputs": []
    },
    {
      "cell_type": "code",
      "source": [
        "def cutout(mask_size, p, cutout_inside, mask_color=(0, 0, 0)):\n",
        "    mask_size_half = mask_size // 2\n",
        "    offset = 1 if mask_size % 2 == 0 else 0\n",
        "\n",
        "    def _cutout(image):\n",
        "        image = np.asarray(image).copy()\n",
        "\n",
        "        if np.random.random() > p:\n",
        "            return image\n",
        "\n",
        "        h, w = image.shape[:2]\n",
        "\n",
        "        if cutout_inside:\n",
        "            cxmin, cxmax = mask_size_half, w + offset - mask_size_half\n",
        "            cymin, cymax = mask_size_half, h + offset - mask_size_half\n",
        "        else:\n",
        "            cxmin, cxmax = 0, w + offset\n",
        "            cymin, cymax = 0, h + offset\n",
        "\n",
        "        cx = np.random.randint(cxmin, cxmax)\n",
        "        cy = np.random.randint(cymin, cymax)\n",
        "        xmin = cx - mask_size_half\n",
        "        ymin = cy - mask_size_half\n",
        "        xmax = xmin + mask_size\n",
        "        ymax = ymin + mask_size\n",
        "        xmin = max(0, xmin)\n",
        "        ymin = max(0, ymin)\n",
        "        xmax = min(w, xmax)\n",
        "        ymax = min(h, ymax)\n",
        "        image[ymin:ymax, xmin:xmax] = mask_color\n",
        "        return image\n",
        "\n",
        "    return _cutout"
      ],
      "metadata": {
        "id": "g1UqTI2I8Hbh"
      },
      "execution_count": 16,
      "outputs": []
    },
    {
      "cell_type": "code",
      "source": [
        "train_transforms = transforms.Compose([\n",
        "                                    # transforms.RandomRotation((-5.0, 5.0), fill=(1,)),\n",
        "                                    # transforms.ElasticTransform(alpha=100.0, sigma=5.0, interpolation=transforms.InterpolationMode.NEAREST),\n",
        "                                    # transforms.RandomInvert(p=0.5),\n",
        "                                    cutout(16, 0.5, True),\n",
        "                                    transforms.ToTensor(),\n",
        "                                    transforms.Normalize((0.4913997551666284, 0.48215855929893703, 0.4465309133731618),\n",
        "                                                          (0.24703225141799082, 0.24348516474564, 0.26158783926049628))\n",
        "                                    ])"
      ],
      "metadata": {
        "id": "iGqHDZLL0A_u"
      },
      "execution_count": 17,
      "outputs": []
    },
    {
      "cell_type": "code",
      "source": [
        "test_transforms = transforms.Compose([\n",
        "                                    # transforms.RandomRotation((-7.0, 7.0), fill=(1,)),\n",
        "                                    transforms.ToTensor(),\n",
        "                                    transforms.Normalize((0.4913997551666284, 0.48215855929893703, 0.4465309133731618),\n",
        "                                                          (0.24703225141799082, 0.24348516474564, 0.26158783926049628))\n",
        "                                    ])"
      ],
      "metadata": {
        "id": "jTFC19j50DBx"
      },
      "execution_count": 18,
      "outputs": []
    },
    {
      "cell_type": "markdown",
      "source": [
        "## Get dataset"
      ],
      "metadata": {
        "id": "l-tMVwqzpDD4"
      }
    },
    {
      "cell_type": "code",
      "source": [
        "train_dataset = ds.get_train_dataset(train_transforms)\n",
        "test_dataset = ds.get_test_dataset(test_transforms)"
      ],
      "metadata": {
        "id": "x0EKJeSvpHMc",
        "colab": {
          "base_uri": "https://localhost:8080/"
        },
        "outputId": "df600ca9-a3e9-483c-863b-4ac0b71e2d07"
      },
      "execution_count": 19,
      "outputs": [
        {
          "output_type": "stream",
          "name": "stdout",
          "text": [
            "Downloading https://www.cs.toronto.edu/~kriz/cifar-10-python.tar.gz to ../data/cifar-10-python.tar.gz\n"
          ]
        },
        {
          "output_type": "stream",
          "name": "stderr",
          "text": [
            "100%|██████████| 170498071/170498071 [00:01<00:00, 86947191.74it/s]\n"
          ]
        },
        {
          "output_type": "stream",
          "name": "stdout",
          "text": [
            "Extracting ../data/cifar-10-python.tar.gz to ../data\n",
            "Files already downloaded and verified\n"
          ]
        }
      ]
    },
    {
      "cell_type": "markdown",
      "source": [
        "## Get train and test dataloader"
      ],
      "metadata": {
        "id": "mHGXKHJHpMpD"
      }
    },
    {
      "cell_type": "code",
      "source": [
        "import torch"
      ],
      "metadata": {
        "id": "M5O00LkyUIJl"
      },
      "execution_count": 20,
      "outputs": []
    },
    {
      "cell_type": "code",
      "source": [
        "label_weights = { 0: 1.0, 1: 1.0, 2: 1.0, 3: 1.0, 4: 1.0, 5: 1.0, 6: 1.0, 7: 1.0, 8: 1.0, 9: 1.0}"
      ],
      "metadata": {
        "id": "wdcA84QPYMvD"
      },
      "execution_count": 21,
      "outputs": []
    },
    {
      "cell_type": "code",
      "source": [
        "_weights = [label_weights[label] for label in train_dataset.targets]"
      ],
      "metadata": {
        "id": "alTROWJwX_Kl"
      },
      "execution_count": 22,
      "outputs": []
    },
    {
      "cell_type": "code",
      "source": [
        "batch_size = 128\n",
        "sampler = torch.utils.data.sampler.WeightedRandomSampler(_weights, len(train_dataset), replacement=False)"
      ],
      "metadata": {
        "id": "5Du_OfgxT8vj"
      },
      "execution_count": 23,
      "outputs": []
    },
    {
      "cell_type": "code",
      "source": [
        "kwargs = {'batch_size': batch_size, 'shuffle': False, 'num_workers': 2, 'pin_memory': True}\n",
        "\n",
        "train_dataloader = ds.get_train_dataloader(train_dataset, sampler=sampler, **kwargs)\n",
        "test_dataloader = ds.get_test_dataloader(test_dataset, **kwargs)"
      ],
      "metadata": {
        "id": "bKV3bOKbpKpQ"
      },
      "execution_count": 24,
      "outputs": []
    },
    {
      "cell_type": "markdown",
      "source": [
        "## Display image grid"
      ],
      "metadata": {
        "id": "41RCssjDpaJg"
      }
    },
    {
      "cell_type": "code",
      "source": [
        "U.show_image_grid(train_dataloader)"
      ],
      "metadata": {
        "colab": {
          "base_uri": "https://localhost:8080/",
          "height": 671
        },
        "id": "VbQ_ujZnpfnA",
        "outputId": "782a9a46-1cd5-4de8-e58f-0ebf6c0cd46c"
      },
      "execution_count": null,
      "outputs": [
        {
          "output_type": "stream",
          "name": "stderr",
          "text": [
            "WARNING:matplotlib.image:Clipping input data to the valid range for imshow with RGB data ([0..1] for floats or [0..255] for integers).\n",
            "WARNING:matplotlib.image:Clipping input data to the valid range for imshow with RGB data ([0..1] for floats or [0..255] for integers).\n",
            "WARNING:matplotlib.image:Clipping input data to the valid range for imshow with RGB data ([0..1] for floats or [0..255] for integers).\n",
            "WARNING:matplotlib.image:Clipping input data to the valid range for imshow with RGB data ([0..1] for floats or [0..255] for integers).\n",
            "WARNING:matplotlib.image:Clipping input data to the valid range for imshow with RGB data ([0..1] for floats or [0..255] for integers).\n",
            "WARNING:matplotlib.image:Clipping input data to the valid range for imshow with RGB data ([0..1] for floats or [0..255] for integers).\n",
            "WARNING:matplotlib.image:Clipping input data to the valid range for imshow with RGB data ([0..1] for floats or [0..255] for integers).\n",
            "WARNING:matplotlib.image:Clipping input data to the valid range for imshow with RGB data ([0..1] for floats or [0..255] for integers).\n",
            "WARNING:matplotlib.image:Clipping input data to the valid range for imshow with RGB data ([0..1] for floats or [0..255] for integers).\n",
            "WARNING:matplotlib.image:Clipping input data to the valid range for imshow with RGB data ([0..1] for floats or [0..255] for integers).\n",
            "WARNING:matplotlib.image:Clipping input data to the valid range for imshow with RGB data ([0..1] for floats or [0..255] for integers).\n",
            "WARNING:matplotlib.image:Clipping input data to the valid range for imshow with RGB data ([0..1] for floats or [0..255] for integers).\n"
          ]
        },
        {
          "output_type": "display_data",
          "data": {
            "text/plain": [
              "<Figure size 640x480 with 12 Axes>"
            ],
            "image/png": "[encoded data removed]"
          },
          "metadata": {}
        }
      ]
    },
    {
      "cell_type": "code",
      "source": [
        "!git clone https://github.com/Fangyh09/pytorch-receptive-field.git"
      ],
      "metadata": {
        "colab": {
          "base_uri": "https://localhost:8080/"
        },
        "id": "Vcg388r_mioi",
        "outputId": "d47755e0-5015-4c6d-8dcf-c7e71502611c"
      },
      "execution_count": 25,
      "outputs": [
        {
          "output_type": "stream",
          "name": "stdout",
          "text": [
            "Cloning into 'pytorch-receptive-field'...\n",
            "remote: Enumerating objects: 111, done.\u001b[K\n",
            "remote: Counting objects:   2% (1/44)\u001b[K\rremote: Counting objects:   4% (2/44)\u001b[K\rremote: Counting objects:   6% (3/44)\u001b[K\rremote: Counting objects:   9% (4/44)\u001b[K\rremote: Counting objects:  11% (5/44)\u001b[K\rremote: Counting objects:  13% (6/44)\u001b[K\rremote: Counting objects:  15% (7/44)\u001b[K\rremote: Counting objects:  18% (8/44)\u001b[K\rremote: Counting objects:  20% (9/44)\u001b[K\rremote: Counting objects:  22% (10/44)\u001b[K\rremote: Counting objects:  25% (11/44)\u001b[K\rremote: Counting objects:  27% (12/44)\u001b[K\rremote: Counting objects:  29% (13/44)\u001b[K\rremote: Counting objects:  31% (14/44)\u001b[K\rremote: Counting objects:  34% (15/44)\u001b[K\rremote: Counting objects:  36% (16/44)\u001b[K\rremote: Counting objects:  38% (17/44)\u001b[K\rremote: Counting objects:  40% (18/44)\u001b[K\rremote: Counting objects:  43% (19/44)\u001b[K\rremote: Counting objects:  45% (20/44)\u001b[K\rremote: Counting objects:  47% (21/44)\u001b[K\rremote: Counting objects:  50% (22/44)\u001b[K\rremote: Counting objects:  52% (23/44)\u001b[K\rremote: Counting objects:  54% (24/44)\u001b[K\rremote: Counting objects:  56% (25/44)\u001b[K\rremote: Counting objects:  59% (26/44)\u001b[K\rremote: Counting objects:  61% (27/44)\u001b[K\rremote: Counting objects:  63% (28/44)\u001b[K\rremote: Counting objects:  65% (29/44)\u001b[K\rremote: Counting objects:  68% (30/44)\u001b[K\rremote: Counting objects:  70% (31/44)\u001b[K\rremote: Counting objects:  72% (32/44)\u001b[K\rremote: Counting objects:  75% (33/44)\u001b[K\rremote: Counting objects:  77% (34/44)\u001b[K\rremote: Counting objects:  79% (35/44)\u001b[K\rremote: Counting objects:  81% (36/44)\u001b[K\rremote: Counting objects:  84% (37/44)\u001b[K\rremote: Counting objects:  86% (38/44)\u001b[K\rremote: Counting objects:  88% (39/44)\u001b[K\rremote: Counting objects:  90% (40/44)\u001b[K\rremote: Counting objects:  93% (41/44)\u001b[K\rremote: Counting objects:  95% (42/44)\u001b[K\rremote: Counting objects:  97% (43/44)\u001b[K\rremote: Counting objects: 100% (44/44)\u001b[K\rremote: Counting objects: 100% (44/44), done.\u001b[K\n",
            "remote: Compressing objects: 100% (21/21), done.\u001b[K\n",
            "remote: Total 111 (delta 37), reused 23 (delta 23), pack-reused 67\u001b[K\n",
            "Receiving objects: 100% (111/111), 27.59 KiB | 1.72 MiB/s, done.\n",
            "Resolving deltas: 100% (51/51), done.\n"
          ]
        }
      ]
    },
    {
      "cell_type": "code",
      "source": [
        "sys.path.append('/content/erav1/pytorch-receptive-field')"
      ],
      "metadata": {
        "id": "zaXzqni1myi-"
      },
      "execution_count": 26,
      "outputs": []
    },
    {
      "cell_type": "code",
      "source": [
        "from torch_receptive_field import receptive_field"
      ],
      "metadata": {
        "id": "do7ut0I9mnn2"
      },
      "execution_count": null,
      "outputs": []
    },
    {
      "cell_type": "code",
      "source": [
        "import torch.nn as nn\n",
        "from torchviz import make_dot\n",
        "import torch.nn.functional as F"
      ],
      "metadata": {
        "id": "VqjxT94yNzGW"
      },
      "execution_count": 27,
      "outputs": []
    },
    {
      "cell_type": "code",
      "source": [
        "class Net(nn.Module):\n",
        "\n",
        "    '''\n",
        "    This class implements the neural network model\n",
        "\n",
        "    Usage:\n",
        "    >>> device = ...\n",
        "    >>> model = Net().to('cpu')\n",
        "    '''\n",
        "\n",
        "    #This defines the structure of the NN.\n",
        "    def __init__(self):\n",
        "        super(Net, self).__init__()\n",
        "        self.conv1 = self.conv3x3_bn_dropout(3, 8, padding=1)\n",
        "        self.conv2 = self.conv3x3_bn_dropout(8, 8, padding=1)\n",
        "        self.conv3 = self.conv1x1(8, 8, padding=1)\n",
        "\n",
        "        self.pool1 = self.conv3x3_bn_dropout(8, 16, stride=2)\n",
        "        self.downsample1 = self.conv3x3_bn_dropout(3, 16, padding=1, stride=2)\n",
        "\n",
        "        self.conv4 = self.conv3x3_bn_dropout(16, 16, padding=1)\n",
        "        self.conv5 = self.conv3x3_bn_dropout(16, 16, padding=1)\n",
        "        self.conv6 = self.conv3x3_bn_dropout(16, 16, padding=1)\n",
        "        self.conv7 = self.conv1x1(16, 16, padding=1)\n",
        "\n",
        "        self.pool2 = self.conv3x3_bn_dropout(16, 32, stride=2)\n",
        "        self.downsample2 = self.conv3x3_bn_dropout(16, 32, padding=1, stride=2)\n",
        "\n",
        "        self.conv8 = self.conv3x3_bn_dropout(32, 32, padding=1)\n",
        "        self.conv9 = self.conv3x3_bn_dropout(32, 32, padding=1)\n",
        "        self.conv10 = self.conv3x3_bn_dropout(32, 32, padding=1)\n",
        "\n",
        "        self.gap = nn.AvgPool2d(8)\n",
        "        self.mixer = nn.Sequential(\n",
        "            self.conv1x1(32, 10),\n",
        "        )\n",
        "\n",
        "\n",
        "    def conv3x3_bn_dropout(self, in_channels, out_channels, kernel_size=3, stride=1, padding=0, bias=False, dropout=0.0):\n",
        "          if dropout:\n",
        "            return nn.Sequential(\n",
        "                self.conv3x3(in_channels, out_channels, kernel_size, stride, padding, bias),\n",
        "                nn.ReLU(),\n",
        "                nn.GroupNorm(1, out_channels),\n",
        "                nn.Dropout(dropout),\n",
        "                )\n",
        "          else:\n",
        "            return nn.Sequential(\n",
        "                self.conv3x3(in_channels, out_channels, kernel_size, stride, padding, bias),\n",
        "                nn.ReLU(),\n",
        "                 nn.GroupNorm(1, out_channels),\n",
        "                )\n",
        "\n",
        "    def conv3x3(self, in_channels, out_channels, kernel_size=3, stride=1, padding=0, bias=False):\n",
        "          return nn.Conv2d(in_channels,\n",
        "                    out_channels,\n",
        "                    kernel_size=kernel_size,\n",
        "                    stride=stride,\n",
        "                    padding=padding,\n",
        "                    bias=bias)\n",
        "\n",
        "    def conv1x1(self, in_channels, out_channels, kernel_size=1, stride=1, padding=0, bias=False):\n",
        "          return nn.Conv2d(in_channels,\n",
        "                    out_channels,\n",
        "                    kernel_size=kernel_size,\n",
        "                    stride=stride,\n",
        "                    padding=padding,\n",
        "                    bias=bias)\n",
        "\n",
        "\n",
        "    def forward(self, x):\n",
        "\n",
        "        # Block 1\n",
        "        i1 = x\n",
        "\n",
        "        x = self.conv1(x)\n",
        "        x = self.conv2(x)\n",
        "        x = self.conv3(x)\n",
        "        # pooling\n",
        "        x = self.pool1(x)\n",
        "\n",
        "        # residual connection\n",
        "        i1 = self.downsample1(i1)\n",
        "        x = x + i1\n",
        "\n",
        "        # Block 2\n",
        "        i2 = x\n",
        "        x = self.conv4(x)\n",
        "        x = self.conv5(x)\n",
        "        x = self.conv6(x)\n",
        "        x = self.conv7(x)\n",
        "        # pooling\n",
        "        x = self.pool2(x)\n",
        "\n",
        "        # residual connection\n",
        "        i2 = self.downsample2(i2)\n",
        "        x = x + i2\n",
        "\n",
        "        # Block 3\n",
        "        i3 = x\n",
        "        x = self.conv8(x)\n",
        "        x = self.conv9(x)\n",
        "        x = self.conv10(x)\n",
        "        # residual connection\n",
        "        x = x + i3\n",
        "\n",
        "        x = self.gap(x)\n",
        "        x = self.mixer(x)\n",
        "        x = x.view(-1, 10)\n",
        "\n",
        "        return F.log_softmax(x, dim=1)"
      ],
      "metadata": {
        "id": "C1pLoj7rNhzO"
      },
      "execution_count": 53,
      "outputs": []
    },
    {
      "cell_type": "markdown",
      "source": [
        "## Generate model summary"
      ],
      "metadata": {
        "id": "m242rqKopkPU"
      }
    },
    {
      "cell_type": "code",
      "source": [
        "from torchsummary import summary"
      ],
      "metadata": {
        "id": "pw9lTuzcbKCV"
      },
      "execution_count": 54,
      "outputs": []
    },
    {
      "cell_type": "code",
      "source": [
        "model = Net().to('cpu')\n",
        "summary(model, input_size=(3, 32, 32), batch_size=batch_size, device='cpu')"
      ],
      "metadata": {
        "colab": {
          "base_uri": "https://localhost:8080/"
        },
        "id": "2W39NavppocP",
        "outputId": "9c6ccd39-419b-4980-a0bc-98519bb3c833"
      },
      "execution_count": 55,
      "outputs": [
        {
          "output_type": "stream",
          "name": "stdout",
          "text": [
            "----------------------------------------------------------------\n",
            "        Layer (type)               Output Shape         Param #\n",
            "================================================================\n",
            "            Conv2d-1           [128, 8, 32, 32]             216\n",
            "              ReLU-2           [128, 8, 32, 32]               0\n",
            "         GroupNorm-3           [128, 8, 32, 32]              16\n",
            "            Conv2d-4           [128, 8, 32, 32]             576\n",
            "              ReLU-5           [128, 8, 32, 32]               0\n",
            "         GroupNorm-6           [128, 8, 32, 32]              16\n",
            "            Conv2d-7           [128, 8, 34, 34]              64\n",
            "            Conv2d-8          [128, 16, 16, 16]           1,152\n",
            "              ReLU-9          [128, 16, 16, 16]               0\n",
            "        GroupNorm-10          [128, 16, 16, 16]              32\n",
            "           Conv2d-11          [128, 16, 16, 16]             432\n",
            "             ReLU-12          [128, 16, 16, 16]               0\n",
            "        GroupNorm-13          [128, 16, 16, 16]              32\n",
            "           Conv2d-14          [128, 16, 16, 16]           2,304\n",
            "             ReLU-15          [128, 16, 16, 16]               0\n",
            "        GroupNorm-16          [128, 16, 16, 16]              32\n",
            "           Conv2d-17          [128, 16, 16, 16]           2,304\n",
            "             ReLU-18          [128, 16, 16, 16]               0\n",
            "        GroupNorm-19          [128, 16, 16, 16]              32\n",
            "           Conv2d-20          [128, 16, 16, 16]           2,304\n",
            "             ReLU-21          [128, 16, 16, 16]               0\n",
            "        GroupNorm-22          [128, 16, 16, 16]              32\n",
            "           Conv2d-23          [128, 16, 18, 18]             256\n",
            "           Conv2d-24            [128, 32, 8, 8]           4,608\n",
            "             ReLU-25            [128, 32, 8, 8]               0\n",
            "        GroupNorm-26            [128, 32, 8, 8]              64\n",
            "           Conv2d-27            [128, 32, 8, 8]           4,608\n",
            "             ReLU-28            [128, 32, 8, 8]               0\n",
            "        GroupNorm-29            [128, 32, 8, 8]              64\n",
            "           Conv2d-30            [128, 32, 8, 8]           9,216\n",
            "             ReLU-31            [128, 32, 8, 8]               0\n",
            "        GroupNorm-32            [128, 32, 8, 8]              64\n",
            "           Conv2d-33            [128, 32, 8, 8]           9,216\n",
            "             ReLU-34            [128, 32, 8, 8]               0\n",
            "        GroupNorm-35            [128, 32, 8, 8]              64\n",
            "           Conv2d-36            [128, 32, 8, 8]           9,216\n",
            "             ReLU-37            [128, 32, 8, 8]               0\n",
            "        GroupNorm-38            [128, 32, 8, 8]              64\n",
            "        AvgPool2d-39            [128, 32, 1, 1]               0\n",
            "           Conv2d-40            [128, 10, 1, 1]             320\n",
            "================================================================\n",
            "Total params: 47,304\n",
            "Trainable params: 47,304\n",
            "Non-trainable params: 0\n",
            "----------------------------------------------------------------\n",
            "Input size (MB): 1.50\n",
            "Forward/backward pass size (MB): 152.13\n",
            "Params size (MB): 0.18\n",
            "Estimated Total Size (MB): 153.82\n",
            "----------------------------------------------------------------\n"
          ]
        }
      ]
    },
    {
      "cell_type": "code",
      "source": [
        "receptive_field(model.cpu(), input_size=(3, 32, 32), device='cpu')"
      ],
      "metadata": {
        "id": "GSp_eyvLnCTc"
      },
      "execution_count": null,
      "outputs": []
    },
    {
      "cell_type": "code",
      "source": [
        "random_input = torch.randn(1, 3, 32, 32)\n",
        "model.eval()\n",
        "y = model(random_input)\n",
        "dot_graph = make_dot(y, show_attrs=False, show_saved=True)\n",
        "dot_graph.format = 'svg'\n",
        "dot_graph.render(f'net')\n",
        "dot_graph"
      ],
      "metadata": {
        "colab": {
          "base_uri": "https://localhost:8080/",
          "height": 1000
        },
        "id": "VpAYvuxehJL7",
        "outputId": "52c8d394-8215-404d-ff01-d117baca2468"
      },
      "execution_count": 42,
      "outputs": [
        {
          "output_type": "execute_result",
          "data": {
            "image/svg+xml": "<?xml version=\"1.0\" encoding=\"UTF-8\" standalone=\"no\"?>\n<!DOCTYPE svg PUBLIC \"-//W3C//DTD SVG 1.1//EN\"\n \"http://www.w3.org/Graphics/SVG/1.1/DTD/svg11.dtd\">\n<!-- Generated by graphviz version 2.43.0 (0)\n -->\n<!-- Title: %3 Pages: 1 -->\n<svg width=\"2215pt\" height=\"2617pt\"\n viewBox=\"0.00 0.00 2215.00 2617.00\" xmlns=\"http://www.w3.org/2000/svg\" xmlns:xlink=\"http://www.w3.org/1999/xlink\">\n<g id=\"graph0\" class=\"graph\" transform=\"scale(1 1) rotate(0) translate(4 2613)\">\n<title>%3</title>\n<polygon fill=\"white\" stroke=\"transparent\" points=\"-4,4 -4,-2613 2211,-2613 2211,4 -4,4\"/>\n<!-- 140215205078224 -->\n<g id=\"node1\" class=\"node\">\n<title>140215205078224</title>\n<polygon fill=\"#caff70\" stroke=\"black\" points=\"757,-31 692,-31 692,0 757,0 757,-31\"/>\n<text text-anchor=\"middle\" x=\"724.5\" y=\"-7\" font-family=\"monospace\" font-size=\"10.00\"> (1, 10)</text>\n</g>\n<!-- 140215227195088 -->\n<g id=\"node2\" class=\"node\">\n<title>140215227195088</title>\n<polygon fill=\"lightgrey\" stroke=\"black\" points=\"831,-86 700,-86 700,-67 831,-67 831,-86\"/>\n<text text-anchor=\"middle\" x=\"765.5\" y=\"-74\" font-family=\"monospace\" font-size=\"10.00\">LogSoftmaxBackward0</text>\n</g>\n<!-- 140215227195088&#45;&gt;140215205078224 -->\n<g id=\"edge217\" class=\"edge\">\n<title>140215227195088&#45;&gt;140215205078224</title>\n<path fill=\"none\" stroke=\"black\" d=\"M759.45,-66.79C754.47,-59.63 747.18,-49.13 740.54,-39.58\"/>\n<polygon fill=\"black\" stroke=\"black\" points=\"743.29,-37.41 734.71,-31.19 737.54,-41.4 743.29,-37.41\"/>\n</g>\n<!-- 140215205078144 -->\n<g id=\"node3\" class=\"node\">\n<title>140215205078144</title>\n<polygon fill=\"orange\" stroke=\"black\" points=\"840,-30.5 775,-30.5 775,-0.5 840,-0.5 840,-30.5\"/>\n<text text-anchor=\"middle\" x=\"807.5\" y=\"-18.5\" font-family=\"monospace\" font-size=\"10.00\">result</text>\n<text text-anchor=\"middle\" x=\"807.5\" y=\"-7.5\" font-family=\"monospace\" font-size=\"10.00\"> (1, 10)</text>\n</g>\n<!-- 140215227195088&#45;&gt;140215205078144 -->\n<g id=\"edge1\" class=\"edge\">\n<title>140215227195088&#45;&gt;140215205078144</title>\n<path fill=\"none\" stroke=\"black\" d=\"M771.7,-66.79C778.45,-57.31 789.36,-41.98 797.37,-30.74\"/>\n</g>\n<!-- 140215227200224 -->\n<g id=\"node4\" class=\"node\">\n<title>140215227200224</title>\n<polygon fill=\"lightgrey\" stroke=\"black\" points=\"813,-147 718,-147 718,-128 813,-128 813,-147\"/>\n<text text-anchor=\"middle\" x=\"765.5\" y=\"-135\" font-family=\"monospace\" font-size=\"10.00\">ViewBackward0</text>\n</g>\n<!-- 140215227200224&#45;&gt;140215227195088 -->\n<g id=\"edge2\" class=\"edge\">\n<title>140215227200224&#45;&gt;140215227195088</title>\n<path fill=\"none\" stroke=\"black\" d=\"M765.5,-127.79C765.5,-119.6 765.5,-107.06 765.5,-96.55\"/>\n<polygon fill=\"black\" stroke=\"black\" points=\"769,-96.24 765.5,-86.24 762,-96.24 769,-96.24\"/>\n</g>\n<!-- 140215227193984 -->\n<g id=\"node5\" class=\"node\">\n<title>140215227193984</title>\n<polygon fill=\"lightgrey\" stroke=\"black\" points=\"1011,-213.5 874,-213.5 874,-194.5 1011,-194.5 1011,-213.5\"/>\n<text text-anchor=\"middle\" x=\"942.5\" y=\"-201.5\" font-family=\"monospace\" font-size=\"10.00\">ConvolutionBackward0</text>\n</g>\n<!-- 140215227193984&#45;&gt;140215227200224 -->\n<g id=\"edge3\" class=\"edge\">\n<title>140215227193984&#45;&gt;140215227200224</title>\n<path fill=\"none\" stroke=\"black\" d=\"M919,-194.43C888.18,-183.21 833.95,-163.44 798.88,-150.67\"/>\n<polygon fill=\"black\" stroke=\"black\" points=\"799.7,-147.24 789.1,-147.1 797.3,-153.81 799.7,-147.24\"/>\n</g>\n<!-- 140215205077264 -->\n<g id=\"node6\" class=\"node\">\n<title>140215205077264</title>\n<polygon fill=\"orange\" stroke=\"black\" points=\"932,-152.5 831,-152.5 831,-122.5 932,-122.5 932,-152.5\"/>\n<text text-anchor=\"middle\" x=\"881.5\" y=\"-140.5\" font-family=\"monospace\" font-size=\"10.00\">input</text>\n<text text-anchor=\"middle\" x=\"881.5\" y=\"-129.5\" font-family=\"monospace\" font-size=\"10.00\"> (1, 32, 1, 1)</text>\n</g>\n<!-- 140215227193984&#45;&gt;140215205077264 -->\n<g id=\"edge4\" class=\"edge\">\n<title>140215227193984&#45;&gt;140215205077264</title>\n<path fill=\"none\" stroke=\"black\" d=\"M934.27,-194.3C924.26,-183.71 907.19,-165.67 895.19,-152.97\"/>\n</g>\n<!-- 140215205083504 -->\n<g id=\"node7\" class=\"node\">\n<title>140215205083504</title>\n<polygon fill=\"lightblue\" stroke=\"black\" points=\"1057,-153 950,-153 950,-122 1057,-122 1057,-153\"/>\n<text text-anchor=\"middle\" x=\"1003.5\" y=\"-129\" font-family=\"monospace\" font-size=\"10.00\"> (10, 32, 1, 1)</text>\n</g>\n<!-- 140215227193984&#45;&gt;140215205083504 -->\n<g id=\"edge5\" class=\"edge\">\n<title>140215227193984&#45;&gt;140215205083504</title>\n<path fill=\"none\" stroke=\"black\" d=\"M950.73,-194.3C960.61,-183.85 977.36,-166.14 989.34,-153.47\"/>\n</g>\n<!-- 140215227203488 -->\n<g id=\"node187\" class=\"node\">\n<title>140215227203488</title>\n<polygon fill=\"lightgrey\" stroke=\"black\" points=\"1095,-86 994,-86 994,-67 1095,-67 1095,-86\"/>\n<text text-anchor=\"middle\" x=\"1044.5\" y=\"-74\" font-family=\"monospace\" font-size=\"10.00\">AccumulateGrad</text>\n</g>\n<!-- 140215205083504&#45;&gt;140215227203488 -->\n<g id=\"edge216\" class=\"edge\">\n<title>140215205083504&#45;&gt;140215227203488</title>\n<path fill=\"none\" stroke=\"black\" d=\"M1013.63,-121.92C1019.41,-113.61 1026.67,-103.16 1032.7,-94.48\"/>\n<polygon fill=\"black\" stroke=\"black\" points=\"1035.59,-96.46 1038.42,-86.25 1029.84,-92.46 1035.59,-96.46\"/>\n</g>\n<!-- 140215227202144 -->\n<g id=\"node8\" class=\"node\">\n<title>140215227202144</title>\n<polygon fill=\"lightgrey\" stroke=\"black\" points=\"1073,-274 948,-274 948,-255 1073,-255 1073,-274\"/>\n<text text-anchor=\"middle\" x=\"1010.5\" y=\"-262\" font-family=\"monospace\" font-size=\"10.00\">AvgPool2DBackward0</text>\n</g>\n<!-- 140215227202144&#45;&gt;140215227193984 -->\n<g id=\"edge6\" class=\"edge\">\n<title>140215227202144&#45;&gt;140215227193984</title>\n<path fill=\"none\" stroke=\"black\" d=\"M1000.47,-254.87C989.92,-245.8 973.11,-231.34 960.31,-220.32\"/>\n<polygon fill=\"black\" stroke=\"black\" points=\"962.44,-217.54 952.57,-213.67 957.87,-222.84 962.44,-217.54\"/>\n</g>\n<!-- 140215205085104 -->\n<g id=\"node9\" class=\"node\">\n<title>140215205085104</title>\n<polygon fill=\"orange\" stroke=\"black\" points=\"1130,-219 1029,-219 1029,-189 1130,-189 1130,-219\"/>\n<text text-anchor=\"middle\" x=\"1079.5\" y=\"-207\" font-family=\"monospace\" font-size=\"10.00\">self</text>\n<text text-anchor=\"middle\" x=\"1079.5\" y=\"-196\" font-family=\"monospace\" font-size=\"10.00\"> (1, 32, 8, 8)</text>\n</g>\n<!-- 140215227202144&#45;&gt;140215205085104 -->\n<g id=\"edge7\" class=\"edge\">\n<title>140215227202144&#45;&gt;140215205085104</title>\n<path fill=\"none\" stroke=\"black\" d=\"M1020.68,-254.87C1031.78,-245.46 1049.7,-230.26 1062.85,-219.11\"/>\n</g>\n<!-- 140215227198784 -->\n<g id=\"node10\" class=\"node\">\n<title>140215227198784</title>\n<polygon fill=\"lightgrey\" stroke=\"black\" points=\"1055,-335 966,-335 966,-316 1055,-316 1055,-335\"/>\n<text text-anchor=\"middle\" x=\"1010.5\" y=\"-323\" font-family=\"monospace\" font-size=\"10.00\">AddBackward0</text>\n</g>\n<!-- 140215227198784&#45;&gt;140215227202144 -->\n<g id=\"edge8\" class=\"edge\">\n<title>140215227198784&#45;&gt;140215227202144</title>\n<path fill=\"none\" stroke=\"black\" d=\"M1010.5,-315.79C1010.5,-307.6 1010.5,-295.06 1010.5,-284.55\"/>\n<polygon fill=\"black\" stroke=\"black\" points=\"1014,-284.24 1010.5,-274.24 1007,-284.24 1014,-284.24\"/>\n</g>\n<!-- 140215227198304 -->\n<g id=\"node11\" class=\"node\">\n<title>140215227198304</title>\n<polygon fill=\"lightgrey\" stroke=\"black\" points=\"1236,-401.5 1075,-401.5 1075,-382.5 1236,-382.5 1236,-401.5\"/>\n<text text-anchor=\"middle\" x=\"1155.5\" y=\"-389.5\" font-family=\"monospace\" font-size=\"10.00\">NativeGroupNormBackward0</text>\n</g>\n<!-- 140215227198304&#45;&gt;140215227198784 -->\n<g id=\"edge9\" class=\"edge\">\n<title>140215227198304&#45;&gt;140215227198784</title>\n<path fill=\"none\" stroke=\"black\" d=\"M1136.25,-382.43C1111.44,-371.4 1068.09,-352.12 1039.34,-339.33\"/>\n<polygon fill=\"black\" stroke=\"black\" points=\"1040.39,-335.97 1029.83,-335.1 1037.55,-342.36 1040.39,-335.97\"/>\n</g>\n<!-- 140215205077664 -->\n<g id=\"node12\" class=\"node\">\n<title>140215205077664</title>\n<polygon fill=\"orange\" stroke=\"black\" points=\"1285,-340.5 1184,-340.5 1184,-310.5 1285,-310.5 1285,-340.5\"/>\n<text text-anchor=\"middle\" x=\"1234.5\" y=\"-328.5\" font-family=\"monospace\" font-size=\"10.00\">input</text>\n<text text-anchor=\"middle\" x=\"1234.5\" y=\"-317.5\" font-family=\"monospace\" font-size=\"10.00\"> (1, 32, 8, 8)</text>\n</g>\n<!-- 140215227198304&#45;&gt;140215205077664 -->\n<g id=\"edge10\" class=\"edge\">\n<title>140215227198304&#45;&gt;140215205077664</title>\n<path fill=\"none\" stroke=\"black\" d=\"M1166.15,-382.3C1179.21,-371.64 1201.51,-353.43 1217.08,-340.73\"/>\n</g>\n<!-- 140215206554144 -->\n<g id=\"node13\" class=\"node\">\n<title>140215206554144</title>\n<polygon fill=\"orange\" stroke=\"black\" points=\"1362,-340.5 1303,-340.5 1303,-310.5 1362,-310.5 1362,-340.5\"/>\n<text text-anchor=\"middle\" x=\"1332.5\" y=\"-328.5\" font-family=\"monospace\" font-size=\"10.00\">result1</text>\n<text text-anchor=\"middle\" x=\"1332.5\" y=\"-317.5\" font-family=\"monospace\" font-size=\"10.00\"> (1, 1)</text>\n</g>\n<!-- 140215227198304&#45;&gt;140215206554144 -->\n<g id=\"edge11\" class=\"edge\">\n<title>140215227198304&#45;&gt;140215206554144</title>\n<path fill=\"none\" stroke=\"black\" d=\"M1179.66,-382.47C1207.43,-372.63 1254.34,-355.88 1294.5,-341 1297.15,-340.02 1299.9,-338.99 1302.65,-337.95\"/>\n</g>\n<!-- 140219346591136 -->\n<g id=\"node14\" class=\"node\">\n<title>140219346591136</title>\n<polygon fill=\"orange\" stroke=\"black\" points=\"1439,-340.5 1380,-340.5 1380,-310.5 1439,-310.5 1439,-340.5\"/>\n<text text-anchor=\"middle\" x=\"1409.5\" y=\"-328.5\" font-family=\"monospace\" font-size=\"10.00\">result2</text>\n<text text-anchor=\"middle\" x=\"1409.5\" y=\"-317.5\" font-family=\"monospace\" font-size=\"10.00\"> (1, 1)</text>\n</g>\n<!-- 140215227198304&#45;&gt;140219346591136 -->\n<g id=\"edge12\" class=\"edge\">\n<title>140215227198304&#45;&gt;140219346591136</title>\n<path fill=\"none\" stroke=\"black\" d=\"M1200.65,-382.43C1244.68,-373.63 1313.33,-358.74 1371.5,-341 1374.2,-340.18 1376.99,-339.26 1379.76,-338.29\"/>\n</g>\n<!-- 140215205080464 -->\n<g id=\"node15\" class=\"node\">\n<title>140215205080464</title>\n<polygon fill=\"lightblue\" stroke=\"black\" points=\"1127.5,-341 1073.5,-341 1073.5,-310 1127.5,-310 1127.5,-341\"/>\n<text text-anchor=\"middle\" x=\"1100.5\" y=\"-317\" font-family=\"monospace\" font-size=\"10.00\"> (32)</text>\n</g>\n<!-- 140215227198304&#45;&gt;140215205080464 -->\n<g id=\"edge13\" class=\"edge\">\n<title>140215227198304&#45;&gt;140215205080464</title>\n<path fill=\"none\" stroke=\"black\" d=\"M1148.08,-382.3C1139.17,-371.85 1124.07,-354.14 1113.27,-341.47\"/>\n</g>\n<!-- 140215227195712 -->\n<g id=\"node184\" class=\"node\">\n<title>140215227195712</title>\n<polygon fill=\"lightgrey\" stroke=\"black\" points=\"1199,-274 1098,-274 1098,-255 1199,-255 1199,-274\"/>\n<text text-anchor=\"middle\" x=\"1148.5\" y=\"-262\" font-family=\"monospace\" font-size=\"10.00\">AccumulateGrad</text>\n</g>\n<!-- 140215205080464&#45;&gt;140215227195712 -->\n<g id=\"edge211\" class=\"edge\">\n<title>140215205080464&#45;&gt;140215227195712</title>\n<path fill=\"none\" stroke=\"black\" d=\"M1112.37,-309.92C1119.19,-301.52 1127.8,-290.94 1134.9,-282.21\"/>\n<polygon fill=\"black\" stroke=\"black\" points=\"1137.79,-284.22 1141.38,-274.25 1132.36,-279.8 1137.79,-284.22\"/>\n</g>\n<!-- 140215227201136 -->\n<g id=\"node16\" class=\"node\">\n<title>140215227201136</title>\n<polygon fill=\"lightgrey\" stroke=\"black\" points=\"1295,-468 1200,-468 1200,-449 1295,-449 1295,-468\"/>\n<text text-anchor=\"middle\" x=\"1247.5\" y=\"-456\" font-family=\"monospace\" font-size=\"10.00\">ReluBackward0</text>\n</g>\n<!-- 140215227201136&#45;&gt;140215227198304 -->\n<g id=\"edge14\" class=\"edge\">\n<title>140215227201136&#45;&gt;140215227198304</title>\n<path fill=\"none\" stroke=\"black\" d=\"M1235.09,-448.8C1219.92,-438.16 1194.02,-420.01 1175.9,-407.3\"/>\n<polygon fill=\"black\" stroke=\"black\" points=\"1177.91,-404.44 1167.71,-401.56 1173.89,-410.17 1177.91,-404.44\"/>\n</g>\n<!-- 140215228625472 -->\n<g id=\"node17\" class=\"node\">\n<title>140215228625472</title>\n<polygon fill=\"orange\" stroke=\"black\" points=\"1355,-407 1254,-407 1254,-377 1355,-377 1355,-407\"/>\n<text text-anchor=\"middle\" x=\"1304.5\" y=\"-395\" font-family=\"monospace\" font-size=\"10.00\">result</text>\n<text text-anchor=\"middle\" x=\"1304.5\" y=\"-384\" font-family=\"monospace\" font-size=\"10.00\"> (1, 32, 8, 8)</text>\n</g>\n<!-- 140215227201136&#45;&gt;140215228625472 -->\n<g id=\"edge15\" class=\"edge\">\n<title>140215227201136&#45;&gt;140215228625472</title>\n<path fill=\"none\" stroke=\"black\" d=\"M1255.19,-448.8C1264.55,-438.21 1280.49,-420.17 1291.71,-407.47\"/>\n</g>\n<!-- 140215227194368 -->\n<g id=\"node18\" class=\"node\">\n<title>140215227194368</title>\n<polygon fill=\"lightgrey\" stroke=\"black\" points=\"1432,-535 1295,-535 1295,-516 1432,-516 1432,-535\"/>\n<text text-anchor=\"middle\" x=\"1363.5\" y=\"-523\" font-family=\"monospace\" font-size=\"10.00\">ConvolutionBackward0</text>\n</g>\n<!-- 140215227194368&#45;&gt;140215227201136 -->\n<g id=\"edge16\" class=\"edge\">\n<title>140215227194368&#45;&gt;140215227201136</title>\n<path fill=\"none\" stroke=\"black\" d=\"M1347.86,-515.73C1328.29,-504.77 1294.58,-485.88 1271.68,-473.05\"/>\n<polygon fill=\"black\" stroke=\"black\" points=\"1273.33,-469.96 1262.9,-468.13 1269.91,-476.07 1273.33,-469.96\"/>\n</g>\n<!-- 140215205077984 -->\n<g id=\"node19\" class=\"node\">\n<title>140215205077984</title>\n<polygon fill=\"orange\" stroke=\"black\" points=\"1414,-473.5 1313,-473.5 1313,-443.5 1414,-443.5 1414,-473.5\"/>\n<text text-anchor=\"middle\" x=\"1363.5\" y=\"-461.5\" font-family=\"monospace\" font-size=\"10.00\">input</text>\n<text text-anchor=\"middle\" x=\"1363.5\" y=\"-450.5\" font-family=\"monospace\" font-size=\"10.00\"> (1, 32, 8, 8)</text>\n</g>\n<!-- 140215227194368&#45;&gt;140215205077984 -->\n<g id=\"edge17\" class=\"edge\">\n<title>140215227194368&#45;&gt;140215205077984</title>\n<path fill=\"none\" stroke=\"black\" d=\"M1363.5,-515.73C1363.5,-504.92 1363.5,-486.41 1363.5,-473.59\"/>\n</g>\n<!-- 140215205079664 -->\n<g id=\"node20\" class=\"node\">\n<title>140215205079664</title>\n<polygon fill=\"lightblue\" stroke=\"black\" points=\"1539,-474 1432,-474 1432,-443 1539,-443 1539,-474\"/>\n<text text-anchor=\"middle\" x=\"1485.5\" y=\"-450\" font-family=\"monospace\" font-size=\"10.00\"> (32, 32, 3, 3)</text>\n</g>\n<!-- 140215227194368&#45;&gt;140215205079664 -->\n<g id=\"edge18\" class=\"edge\">\n<title>140215227194368&#45;&gt;140215205079664</title>\n<path fill=\"none\" stroke=\"black\" d=\"M1379.7,-515.87C1399.66,-505.23 1433.9,-486.99 1458,-474.15\"/>\n</g>\n<!-- 140215227194752 -->\n<g id=\"node183\" class=\"node\">\n<title>140215227194752</title>\n<polygon fill=\"lightgrey\" stroke=\"black\" points=\"1577,-401.5 1476,-401.5 1476,-382.5 1577,-382.5 1577,-401.5\"/>\n<text text-anchor=\"middle\" x=\"1526.5\" y=\"-389.5\" font-family=\"monospace\" font-size=\"10.00\">AccumulateGrad</text>\n</g>\n<!-- 140215205079664&#45;&gt;140215227194752 -->\n<g id=\"edge209\" class=\"edge\">\n<title>140215205079664&#45;&gt;140215227194752</title>\n<path fill=\"none\" stroke=\"black\" d=\"M1494.8,-442.86C1500.95,-433.19 1509.04,-420.46 1515.51,-410.29\"/>\n<polygon fill=\"black\" stroke=\"black\" points=\"1518.48,-412.14 1520.89,-401.82 1512.57,-408.38 1518.48,-412.14\"/>\n</g>\n<!-- 140215227201328 -->\n<g id=\"node21\" class=\"node\">\n<title>140215227201328</title>\n<polygon fill=\"lightgrey\" stroke=\"black\" points=\"1679,-601.5 1518,-601.5 1518,-582.5 1679,-582.5 1679,-601.5\"/>\n<text text-anchor=\"middle\" x=\"1598.5\" y=\"-589.5\" font-family=\"monospace\" font-size=\"10.00\">NativeGroupNormBackward0</text>\n</g>\n<!-- 140215227201328&#45;&gt;140215227194368 -->\n<g id=\"edge19\" class=\"edge\">\n<title>140215227201328&#45;&gt;140215227194368</title>\n<path fill=\"none\" stroke=\"black\" d=\"M1567.29,-582.43C1525.42,-570.94 1450.96,-550.5 1404.57,-537.77\"/>\n<polygon fill=\"black\" stroke=\"black\" points=\"1405.41,-534.37 1394.84,-535.1 1403.55,-541.12 1405.41,-534.37\"/>\n</g>\n<!-- 140215205078784 -->\n<g id=\"node22\" class=\"node\">\n<title>140215205078784</title>\n<polygon fill=\"orange\" stroke=\"black\" points=\"1551,-540.5 1450,-540.5 1450,-510.5 1551,-510.5 1551,-540.5\"/>\n<text text-anchor=\"middle\" x=\"1500.5\" y=\"-528.5\" font-family=\"monospace\" font-size=\"10.00\">input</text>\n<text text-anchor=\"middle\" x=\"1500.5\" y=\"-517.5\" font-family=\"monospace\" font-size=\"10.00\"> (1, 32, 8, 8)</text>\n</g>\n<!-- 140215227201328&#45;&gt;140215205078784 -->\n<g id=\"edge20\" class=\"edge\">\n<title>140215227201328&#45;&gt;140215205078784</title>\n<path fill=\"none\" stroke=\"black\" d=\"M1585.28,-582.3C1569.09,-571.64 1541.42,-553.43 1522.11,-540.73\"/>\n</g>\n<!-- 140215205077424 -->\n<g id=\"node23\" class=\"node\">\n<title>140215205077424</title>\n<polygon fill=\"orange\" stroke=\"black\" points=\"1628,-540.5 1569,-540.5 1569,-510.5 1628,-510.5 1628,-540.5\"/>\n<text text-anchor=\"middle\" x=\"1598.5\" y=\"-528.5\" font-family=\"monospace\" font-size=\"10.00\">result1</text>\n<text text-anchor=\"middle\" x=\"1598.5\" y=\"-517.5\" font-family=\"monospace\" font-size=\"10.00\"> (1, 1)</text>\n</g>\n<!-- 140215227201328&#45;&gt;140215205077424 -->\n<g id=\"edge21\" class=\"edge\">\n<title>140215227201328&#45;&gt;140215205077424</title>\n<path fill=\"none\" stroke=\"black\" d=\"M1598.5,-582.3C1598.5,-571.71 1598.5,-553.67 1598.5,-540.97\"/>\n</g>\n<!-- 140215205084144 -->\n<g id=\"node24\" class=\"node\">\n<title>140215205084144</title>\n<polygon fill=\"orange\" stroke=\"black\" points=\"1705,-540.5 1646,-540.5 1646,-510.5 1705,-510.5 1705,-540.5\"/>\n<text text-anchor=\"middle\" x=\"1675.5\" y=\"-528.5\" font-family=\"monospace\" font-size=\"10.00\">result2</text>\n<text text-anchor=\"middle\" x=\"1675.5\" y=\"-517.5\" font-family=\"monospace\" font-size=\"10.00\"> (1, 1)</text>\n</g>\n<!-- 140215227201328&#45;&gt;140215205084144 -->\n<g id=\"edge22\" class=\"edge\">\n<title>140215227201328&#45;&gt;140215205084144</title>\n<path fill=\"none\" stroke=\"black\" d=\"M1608.88,-582.3C1621.61,-571.64 1643.35,-553.43 1658.52,-540.73\"/>\n</g>\n<!-- 140215205084704 -->\n<g id=\"node25\" class=\"node\">\n<title>140215205084704</title>\n<polygon fill=\"lightblue\" stroke=\"black\" points=\"1777.5,-541 1723.5,-541 1723.5,-510 1777.5,-510 1777.5,-541\"/>\n<text text-anchor=\"middle\" x=\"1750.5\" y=\"-517\" font-family=\"monospace\" font-size=\"10.00\"> (32)</text>\n</g>\n<!-- 140215227201328&#45;&gt;140215205084704 -->\n<g id=\"edge23\" class=\"edge\">\n<title>140215227201328&#45;&gt;140215205084704</title>\n<path fill=\"none\" stroke=\"black\" d=\"M1618.68,-582.43C1645.58,-571.02 1693.25,-550.8 1723.29,-538.05\"/>\n</g>\n<!-- 140215227193504 -->\n<g id=\"node180\" class=\"node\">\n<title>140215227193504</title>\n<polygon fill=\"lightgrey\" stroke=\"black\" points=\"1828,-468 1727,-468 1727,-449 1828,-449 1828,-468\"/>\n<text text-anchor=\"middle\" x=\"1777.5\" y=\"-456\" font-family=\"monospace\" font-size=\"10.00\">AccumulateGrad</text>\n</g>\n<!-- 140215205084704&#45;&gt;140215227193504 -->\n<g id=\"edge205\" class=\"edge\">\n<title>140215205084704&#45;&gt;140215227193504</title>\n<path fill=\"none\" stroke=\"black\" d=\"M1756.63,-509.75C1760.6,-500.19 1765.8,-487.67 1770.02,-477.52\"/>\n<polygon fill=\"black\" stroke=\"black\" points=\"1773.36,-478.6 1773.96,-468.02 1766.89,-475.91 1773.36,-478.6\"/>\n</g>\n<!-- 140215227194176 -->\n<g id=\"node26\" class=\"node\">\n<title>140215227194176</title>\n<polygon fill=\"lightgrey\" stroke=\"black\" points=\"1674,-668 1579,-668 1579,-649 1674,-649 1674,-668\"/>\n<text text-anchor=\"middle\" x=\"1626.5\" y=\"-656\" font-family=\"monospace\" font-size=\"10.00\">ReluBackward0</text>\n</g>\n<!-- 140215227194176&#45;&gt;140215227201328 -->\n<g id=\"edge24\" class=\"edge\">\n<title>140215227194176&#45;&gt;140215227201328</title>\n<path fill=\"none\" stroke=\"black\" d=\"M1622.72,-648.8C1618.53,-639.13 1611.63,-623.25 1606.27,-610.89\"/>\n<polygon fill=\"black\" stroke=\"black\" points=\"1609.41,-609.34 1602.22,-601.56 1602.99,-612.13 1609.41,-609.34\"/>\n</g>\n<!-- 140215232919520 -->\n<g id=\"node27\" class=\"node\">\n<title>140215232919520</title>\n<polygon fill=\"orange\" stroke=\"black\" points=\"1798,-607 1697,-607 1697,-577 1798,-577 1798,-607\"/>\n<text text-anchor=\"middle\" x=\"1747.5\" y=\"-595\" font-family=\"monospace\" font-size=\"10.00\">result</text>\n<text text-anchor=\"middle\" x=\"1747.5\" y=\"-584\" font-family=\"monospace\" font-size=\"10.00\"> (1, 32, 8, 8)</text>\n</g>\n<!-- 140215227194176&#45;&gt;140215232919520 -->\n<g id=\"edge25\" class=\"edge\">\n<title>140215227194176&#45;&gt;140215232919520</title>\n<path fill=\"none\" stroke=\"black\" d=\"M1642.82,-648.8C1662.82,-638.14 1696.97,-619.93 1720.81,-607.23\"/>\n</g>\n<!-- 140215227194800 -->\n<g id=\"node28\" class=\"node\">\n<title>140215227194800</title>\n<polygon fill=\"lightgrey\" stroke=\"black\" points=\"1811,-735 1674,-735 1674,-716 1811,-716 1811,-735\"/>\n<text text-anchor=\"middle\" x=\"1742.5\" y=\"-723\" font-family=\"monospace\" font-size=\"10.00\">ConvolutionBackward0</text>\n</g>\n<!-- 140215227194800&#45;&gt;140215227194176 -->\n<g id=\"edge26\" class=\"edge\">\n<title>140215227194800&#45;&gt;140215227194176</title>\n<path fill=\"none\" stroke=\"black\" d=\"M1726.86,-715.73C1707.29,-704.77 1673.58,-685.88 1650.68,-673.05\"/>\n<polygon fill=\"black\" stroke=\"black\" points=\"1652.33,-669.96 1641.9,-668.13 1648.91,-676.07 1652.33,-669.96\"/>\n</g>\n<!-- 140215205078064 -->\n<g id=\"node29\" class=\"node\">\n<title>140215205078064</title>\n<polygon fill=\"orange\" stroke=\"black\" points=\"1793,-673.5 1692,-673.5 1692,-643.5 1793,-643.5 1793,-673.5\"/>\n<text text-anchor=\"middle\" x=\"1742.5\" y=\"-661.5\" font-family=\"monospace\" font-size=\"10.00\">input</text>\n<text text-anchor=\"middle\" x=\"1742.5\" y=\"-650.5\" font-family=\"monospace\" font-size=\"10.00\"> (1, 32, 8, 8)</text>\n</g>\n<!-- 140215227194800&#45;&gt;140215205078064 -->\n<g id=\"edge27\" class=\"edge\">\n<title>140215227194800&#45;&gt;140215205078064</title>\n<path fill=\"none\" stroke=\"black\" d=\"M1742.5,-715.73C1742.5,-704.92 1742.5,-686.41 1742.5,-673.59\"/>\n</g>\n<!-- 140215205078944 -->\n<g id=\"node30\" class=\"node\">\n<title>140215205078944</title>\n<polygon fill=\"lightblue\" stroke=\"black\" points=\"1918,-674 1811,-674 1811,-643 1918,-643 1918,-674\"/>\n<text text-anchor=\"middle\" x=\"1864.5\" y=\"-650\" font-family=\"monospace\" font-size=\"10.00\"> (32, 32, 3, 3)</text>\n</g>\n<!-- 140215227194800&#45;&gt;140215205078944 -->\n<g id=\"edge28\" class=\"edge\">\n<title>140215227194800&#45;&gt;140215205078944</title>\n<path fill=\"none\" stroke=\"black\" d=\"M1758.7,-715.87C1778.66,-705.23 1812.9,-686.99 1837,-674.15\"/>\n</g>\n<!-- 140215227197296 -->\n<g id=\"node179\" class=\"node\">\n<title>140215227197296</title>\n<polygon fill=\"lightgrey\" stroke=\"black\" points=\"1943,-601.5 1842,-601.5 1842,-582.5 1943,-582.5 1943,-601.5\"/>\n<text text-anchor=\"middle\" x=\"1892.5\" y=\"-589.5\" font-family=\"monospace\" font-size=\"10.00\">AccumulateGrad</text>\n</g>\n<!-- 140215205078944&#45;&gt;140215227197296 -->\n<g id=\"edge203\" class=\"edge\">\n<title>140215205078944&#45;&gt;140215227197296</title>\n<path fill=\"none\" stroke=\"black\" d=\"M1870.85,-642.86C1874.93,-633.48 1880.24,-621.24 1884.59,-611.23\"/>\n<polygon fill=\"black\" stroke=\"black\" points=\"1887.9,-612.39 1888.67,-601.82 1881.48,-609.6 1887.9,-612.39\"/>\n</g>\n<!-- 140215227198256 -->\n<g id=\"node31\" class=\"node\">\n<title>140215227198256</title>\n<polygon fill=\"lightgrey\" stroke=\"black\" points=\"2058,-801.5 1897,-801.5 1897,-782.5 2058,-782.5 2058,-801.5\"/>\n<text text-anchor=\"middle\" x=\"1977.5\" y=\"-789.5\" font-family=\"monospace\" font-size=\"10.00\">NativeGroupNormBackward0</text>\n</g>\n<!-- 140215227198256&#45;&gt;140215227194800 -->\n<g id=\"edge29\" class=\"edge\">\n<title>140215227198256&#45;&gt;140215227194800</title>\n<path fill=\"none\" stroke=\"black\" d=\"M1946.29,-782.43C1904.42,-770.94 1829.96,-750.5 1783.57,-737.77\"/>\n<polygon fill=\"black\" stroke=\"black\" points=\"1784.41,-734.37 1773.84,-735.1 1782.55,-741.12 1784.41,-734.37\"/>\n</g>\n<!-- 140215205077184 -->\n<g id=\"node32\" class=\"node\">\n<title>140215205077184</title>\n<polygon fill=\"orange\" stroke=\"black\" points=\"1930,-740.5 1829,-740.5 1829,-710.5 1930,-710.5 1930,-740.5\"/>\n<text text-anchor=\"middle\" x=\"1879.5\" y=\"-728.5\" font-family=\"monospace\" font-size=\"10.00\">input</text>\n<text text-anchor=\"middle\" x=\"1879.5\" y=\"-717.5\" font-family=\"monospace\" font-size=\"10.00\"> (1, 32, 8, 8)</text>\n</g>\n<!-- 140215227198256&#45;&gt;140215205077184 -->\n<g id=\"edge30\" class=\"edge\">\n<title>140215227198256&#45;&gt;140215205077184</title>\n<path fill=\"none\" stroke=\"black\" d=\"M1964.28,-782.3C1948.09,-771.64 1920.42,-753.43 1901.11,-740.73\"/>\n</g>\n<!-- 140215205080384 -->\n<g id=\"node33\" class=\"node\">\n<title>140215205080384</title>\n<polygon fill=\"orange\" stroke=\"black\" points=\"2007,-740.5 1948,-740.5 1948,-710.5 2007,-710.5 2007,-740.5\"/>\n<text text-anchor=\"middle\" x=\"1977.5\" y=\"-728.5\" font-family=\"monospace\" font-size=\"10.00\">result1</text>\n<text text-anchor=\"middle\" x=\"1977.5\" y=\"-717.5\" font-family=\"monospace\" font-size=\"10.00\"> (1, 1)</text>\n</g>\n<!-- 140215227198256&#45;&gt;140215205080384 -->\n<g id=\"edge31\" class=\"edge\">\n<title>140215227198256&#45;&gt;140215205080384</title>\n<path fill=\"none\" stroke=\"black\" d=\"M1977.5,-782.3C1977.5,-771.71 1977.5,-753.67 1977.5,-740.97\"/>\n</g>\n<!-- 140215205078544 -->\n<g id=\"node34\" class=\"node\">\n<title>140215205078544</title>\n<polygon fill=\"orange\" stroke=\"black\" points=\"2084,-740.5 2025,-740.5 2025,-710.5 2084,-710.5 2084,-740.5\"/>\n<text text-anchor=\"middle\" x=\"2054.5\" y=\"-728.5\" font-family=\"monospace\" font-size=\"10.00\">result2</text>\n<text text-anchor=\"middle\" x=\"2054.5\" y=\"-717.5\" font-family=\"monospace\" font-size=\"10.00\"> (1, 1)</text>\n</g>\n<!-- 140215227198256&#45;&gt;140215205078544 -->\n<g id=\"edge32\" class=\"edge\">\n<title>140215227198256&#45;&gt;140215205078544</title>\n<path fill=\"none\" stroke=\"black\" d=\"M1987.88,-782.3C2000.61,-771.64 2022.35,-753.43 2037.52,-740.73\"/>\n</g>\n<!-- 140215205074784 -->\n<g id=\"node35\" class=\"node\">\n<title>140215205074784</title>\n<polygon fill=\"lightblue\" stroke=\"black\" points=\"2156.5,-741 2102.5,-741 2102.5,-710 2156.5,-710 2156.5,-741\"/>\n<text text-anchor=\"middle\" x=\"2129.5\" y=\"-717\" font-family=\"monospace\" font-size=\"10.00\"> (32)</text>\n</g>\n<!-- 140215227198256&#45;&gt;140215205074784 -->\n<g id=\"edge33\" class=\"edge\">\n<title>140215227198256&#45;&gt;140215205074784</title>\n<path fill=\"none\" stroke=\"black\" d=\"M1997.68,-782.43C2024.58,-771.02 2072.25,-750.8 2102.29,-738.05\"/>\n</g>\n<!-- 140215227199648 -->\n<g id=\"node176\" class=\"node\">\n<title>140215227199648</title>\n<polygon fill=\"lightgrey\" stroke=\"black\" points=\"2207,-668 2106,-668 2106,-649 2207,-649 2207,-668\"/>\n<text text-anchor=\"middle\" x=\"2156.5\" y=\"-656\" font-family=\"monospace\" font-size=\"10.00\">AccumulateGrad</text>\n</g>\n<!-- 140215205074784&#45;&gt;140215227199648 -->\n<g id=\"edge199\" class=\"edge\">\n<title>140215205074784&#45;&gt;140215227199648</title>\n<path fill=\"none\" stroke=\"black\" d=\"M2135.63,-709.75C2139.6,-700.19 2144.8,-687.67 2149.02,-677.52\"/>\n<polygon fill=\"black\" stroke=\"black\" points=\"2152.36,-678.6 2152.96,-668.02 2145.89,-675.91 2152.36,-678.6\"/>\n</g>\n<!-- 140215227196096 -->\n<g id=\"node36\" class=\"node\">\n<title>140215227196096</title>\n<polygon fill=\"lightgrey\" stroke=\"black\" points=\"1779,-868 1684,-868 1684,-849 1779,-849 1779,-868\"/>\n<text text-anchor=\"middle\" x=\"1731.5\" y=\"-856\" font-family=\"monospace\" font-size=\"10.00\">ReluBackward0</text>\n</g>\n<!-- 140215227196096&#45;&gt;140215227198256 -->\n<g id=\"edge34\" class=\"edge\">\n<title>140215227196096&#45;&gt;140215227198256</title>\n<path fill=\"none\" stroke=\"black\" d=\"M1764.17,-848.93C1808.09,-837.42 1886.28,-816.92 1934.81,-804.19\"/>\n<polygon fill=\"black\" stroke=\"black\" points=\"1935.91,-807.52 1944.7,-801.6 1934.14,-800.75 1935.91,-807.52\"/>\n</g>\n<!-- 140215205077024 -->\n<g id=\"node37\" class=\"node\">\n<title>140215205077024</title>\n<polygon fill=\"orange\" stroke=\"black\" points=\"1782,-807 1681,-807 1681,-777 1782,-777 1782,-807\"/>\n<text text-anchor=\"middle\" x=\"1731.5\" y=\"-795\" font-family=\"monospace\" font-size=\"10.00\">result</text>\n<text text-anchor=\"middle\" x=\"1731.5\" y=\"-784\" font-family=\"monospace\" font-size=\"10.00\"> (1, 32, 8, 8)</text>\n</g>\n<!-- 140215227196096&#45;&gt;140215205077024 -->\n<g id=\"edge35\" class=\"edge\">\n<title>140215227196096&#45;&gt;140215205077024</title>\n<path fill=\"none\" stroke=\"black\" d=\"M1731.5,-848.8C1731.5,-838.21 1731.5,-820.17 1731.5,-807.47\"/>\n</g>\n<!-- 140215227202432 -->\n<g id=\"node38\" class=\"node\">\n<title>140215227202432</title>\n<polygon fill=\"lightgrey\" stroke=\"black\" points=\"1405,-935 1268,-935 1268,-916 1405,-916 1405,-935\"/>\n<text text-anchor=\"middle\" x=\"1336.5\" y=\"-923\" font-family=\"monospace\" font-size=\"10.00\">ConvolutionBackward0</text>\n</g>\n<!-- 140215227202432&#45;&gt;140215227196096 -->\n<g id=\"edge36\" class=\"edge\">\n<title>140215227202432&#45;&gt;140215227196096</title>\n<path fill=\"none\" stroke=\"black\" d=\"M1388.55,-915.94C1462.43,-903.78 1597.24,-881.59 1674,-868.96\"/>\n<polygon fill=\"black\" stroke=\"black\" points=\"1674.67,-872.4 1683.97,-867.32 1673.54,-865.49 1674.67,-872.4\"/>\n</g>\n<!-- 140215205069264 -->\n<g id=\"node39\" class=\"node\">\n<title>140215205069264</title>\n<polygon fill=\"orange\" stroke=\"black\" points=\"1308,-873.5 1207,-873.5 1207,-843.5 1308,-843.5 1308,-873.5\"/>\n<text text-anchor=\"middle\" x=\"1257.5\" y=\"-861.5\" font-family=\"monospace\" font-size=\"10.00\">input</text>\n<text text-anchor=\"middle\" x=\"1257.5\" y=\"-850.5\" font-family=\"monospace\" font-size=\"10.00\"> (1, 32, 8, 8)</text>\n</g>\n<!-- 140215227202432&#45;&gt;140215205069264 -->\n<g id=\"edge37\" class=\"edge\">\n<title>140215227202432&#45;&gt;140215205069264</title>\n<path fill=\"none\" stroke=\"black\" d=\"M1325.85,-915.73C1312.71,-904.92 1290.2,-886.41 1274.62,-873.59\"/>\n</g>\n<!-- 140215205074944 -->\n<g id=\"node40\" class=\"node\">\n<title>140215205074944</title>\n<polygon fill=\"lightblue\" stroke=\"black\" points=\"1472,-874 1365,-874 1365,-843 1472,-843 1472,-874\"/>\n<text text-anchor=\"middle\" x=\"1418.5\" y=\"-850\" font-family=\"monospace\" font-size=\"10.00\"> (32, 32, 3, 3)</text>\n</g>\n<!-- 140215227202432&#45;&gt;140215205074944 -->\n<g id=\"edge38\" class=\"edge\">\n<title>140215227202432&#45;&gt;140215205074944</title>\n<path fill=\"none\" stroke=\"black\" d=\"M1347.56,-915.73C1361.02,-905.06 1383.96,-886.88 1400.1,-874.08\"/>\n</g>\n<!-- 140215227199024 -->\n<g id=\"node175\" class=\"node\">\n<title>140215227199024</title>\n<polygon fill=\"lightgrey\" stroke=\"black\" points=\"1428,-801.5 1327,-801.5 1327,-782.5 1428,-782.5 1428,-801.5\"/>\n<text text-anchor=\"middle\" x=\"1377.5\" y=\"-789.5\" font-family=\"monospace\" font-size=\"10.00\">AccumulateGrad</text>\n</g>\n<!-- 140215205074944&#45;&gt;140215227199024 -->\n<g id=\"edge197\" class=\"edge\">\n<title>140215205074944&#45;&gt;140215227199024</title>\n<path fill=\"none\" stroke=\"black\" d=\"M1409.2,-842.86C1403.05,-833.19 1394.96,-820.46 1388.49,-810.29\"/>\n<polygon fill=\"black\" stroke=\"black\" points=\"1391.43,-808.38 1383.11,-801.82 1385.52,-812.14 1391.43,-808.38\"/>\n</g>\n<!-- 140215227195616 -->\n<g id=\"node41\" class=\"node\">\n<title>140215227195616</title>\n<polygon fill=\"lightgrey\" stroke=\"black\" points=\"1221,-1002 1132,-1002 1132,-983 1221,-983 1221,-1002\"/>\n<text text-anchor=\"middle\" x=\"1176.5\" y=\"-990\" font-family=\"monospace\" font-size=\"10.00\">AddBackward0</text>\n</g>\n<!-- 140215227195616&#45;&gt;140215227198784 -->\n<g id=\"edge214\" class=\"edge\">\n<title>140215227195616&#45;&gt;140215227198784</title>\n<path fill=\"none\" stroke=\"black\" d=\"M1152.39,-982.88C1110.45,-966.16 1028.5,-925.09 1028.5,-859.5 1028.5,-859.5 1028.5,-859.5 1028.5,-457.5 1028.5,-417.09 1019.99,-370.31 1014.67,-345.03\"/>\n<polygon fill=\"black\" stroke=\"black\" points=\"1018.04,-344.05 1012.5,-335.03 1011.2,-345.54 1018.04,-344.05\"/>\n</g>\n<!-- 140215227195616&#45;&gt;140215227202432 -->\n<g id=\"edge39\" class=\"edge\">\n<title>140215227195616&#45;&gt;140215227202432</title>\n<path fill=\"none\" stroke=\"black\" d=\"M1197.75,-982.87C1225.44,-971.62 1274.06,-951.87 1305.77,-938.99\"/>\n<polygon fill=\"black\" stroke=\"black\" points=\"1307.47,-942.07 1315.42,-935.06 1304.84,-935.58 1307.47,-942.07\"/>\n</g>\n<!-- 140215227192928 -->\n<g id=\"node42\" class=\"node\">\n<title>140215227192928</title>\n<polygon fill=\"lightgrey\" stroke=\"black\" points=\"949,-1068.5 788,-1068.5 788,-1049.5 949,-1049.5 949,-1068.5\"/>\n<text text-anchor=\"middle\" x=\"868.5\" y=\"-1056.5\" font-family=\"monospace\" font-size=\"10.00\">NativeGroupNormBackward0</text>\n</g>\n<!-- 140215227192928&#45;&gt;140215227195616 -->\n<g id=\"edge40\" class=\"edge\">\n<title>140215227192928&#45;&gt;140215227195616</title>\n<path fill=\"none\" stroke=\"black\" d=\"M909.4,-1049.43C965.09,-1037.77 1064.75,-1016.9 1125.33,-1004.22\"/>\n<polygon fill=\"black\" stroke=\"black\" points=\"1126.36,-1007.58 1135.43,-1002.1 1124.93,-1000.72 1126.36,-1007.58\"/>\n</g>\n<!-- 140215205075104 -->\n<g id=\"node43\" class=\"node\">\n<title>140215205075104</title>\n<polygon fill=\"orange\" stroke=\"black\" points=\"998,-1007.5 897,-1007.5 897,-977.5 998,-977.5 998,-1007.5\"/>\n<text text-anchor=\"middle\" x=\"947.5\" y=\"-995.5\" font-family=\"monospace\" font-size=\"10.00\">input</text>\n<text text-anchor=\"middle\" x=\"947.5\" y=\"-984.5\" font-family=\"monospace\" font-size=\"10.00\"> (1, 32, 8, 8)</text>\n</g>\n<!-- 140215227192928&#45;&gt;140215205075104 -->\n<g id=\"edge41\" class=\"edge\">\n<title>140215227192928&#45;&gt;140215205075104</title>\n<path fill=\"none\" stroke=\"black\" d=\"M879.15,-1049.3C892.21,-1038.64 914.51,-1020.43 930.08,-1007.73\"/>\n</g>\n<!-- 140215205077744 -->\n<g id=\"node44\" class=\"node\">\n<title>140215205077744</title>\n<polygon fill=\"orange\" stroke=\"black\" points=\"1075,-1007.5 1016,-1007.5 1016,-977.5 1075,-977.5 1075,-1007.5\"/>\n<text text-anchor=\"middle\" x=\"1045.5\" y=\"-995.5\" font-family=\"monospace\" font-size=\"10.00\">result1</text>\n<text text-anchor=\"middle\" x=\"1045.5\" y=\"-984.5\" font-family=\"monospace\" font-size=\"10.00\"> (1, 1)</text>\n</g>\n<!-- 140215227192928&#45;&gt;140215205077744 -->\n<g id=\"edge42\" class=\"edge\">\n<title>140215227192928&#45;&gt;140215205077744</title>\n<path fill=\"none\" stroke=\"black\" d=\"M892.46,-1049.39C920,-1039.47 966.55,-1022.66 1006.5,-1008 1009.48,-1006.9 1012.59,-1005.76 1015.7,-1004.61\"/>\n</g>\n<!-- 140215205080624 -->\n<g id=\"node45\" class=\"node\">\n<title>140215205080624</title>\n<polygon fill=\"orange\" stroke=\"black\" points=\"768,-1007.5 709,-1007.5 709,-977.5 768,-977.5 768,-1007.5\"/>\n<text text-anchor=\"middle\" x=\"738.5\" y=\"-995.5\" font-family=\"monospace\" font-size=\"10.00\">result2</text>\n<text text-anchor=\"middle\" x=\"738.5\" y=\"-984.5\" font-family=\"monospace\" font-size=\"10.00\"> (1, 1)</text>\n</g>\n<!-- 140215227192928&#45;&gt;140215205080624 -->\n<g id=\"edge43\" class=\"edge\">\n<title>140215227192928&#45;&gt;140215205080624</title>\n<path fill=\"none\" stroke=\"black\" d=\"M851.24,-1049.43C829.69,-1038.74 792.54,-1020.31 766.8,-1007.54\"/>\n</g>\n<!-- 140215205081664 -->\n<g id=\"node46\" class=\"node\">\n<title>140215205081664</title>\n<polygon fill=\"lightblue\" stroke=\"black\" points=\"840.5,-1008 786.5,-1008 786.5,-977 840.5,-977 840.5,-1008\"/>\n<text text-anchor=\"middle\" x=\"813.5\" y=\"-984\" font-family=\"monospace\" font-size=\"10.00\"> (32)</text>\n</g>\n<!-- 140215227192928&#45;&gt;140215205081664 -->\n<g id=\"edge44\" class=\"edge\">\n<title>140215227192928&#45;&gt;140215205081664</title>\n<path fill=\"none\" stroke=\"black\" d=\"M861.08,-1049.3C852.17,-1038.85 837.07,-1021.14 826.27,-1008.47\"/>\n</g>\n<!-- 140215227199168 -->\n<g id=\"node159\" class=\"node\">\n<title>140215227199168</title>\n<polygon fill=\"lightgrey\" stroke=\"black\" points=\"891,-935 790,-935 790,-916 891,-916 891,-935\"/>\n<text text-anchor=\"middle\" x=\"840.5\" y=\"-923\" font-family=\"monospace\" font-size=\"10.00\">AccumulateGrad</text>\n</g>\n<!-- 140215205081664&#45;&gt;140215227199168 -->\n<g id=\"edge176\" class=\"edge\">\n<title>140215205081664&#45;&gt;140215227199168</title>\n<path fill=\"none\" stroke=\"black\" d=\"M819.63,-976.75C823.6,-967.19 828.8,-954.67 833.02,-944.52\"/>\n<polygon fill=\"black\" stroke=\"black\" points=\"836.36,-945.6 836.96,-935.02 829.89,-942.91 836.36,-945.6\"/>\n</g>\n<!-- 140215227196672 -->\n<g id=\"node47\" class=\"node\">\n<title>140215227196672</title>\n<polygon fill=\"lightgrey\" stroke=\"black\" points=\"793,-1135 698,-1135 698,-1116 793,-1116 793,-1135\"/>\n<text text-anchor=\"middle\" x=\"745.5\" y=\"-1123\" font-family=\"monospace\" font-size=\"10.00\">ReluBackward0</text>\n</g>\n<!-- 140215227196672&#45;&gt;140215227192928 -->\n<g id=\"edge45\" class=\"edge\">\n<title>140215227196672&#45;&gt;140215227192928</title>\n<path fill=\"none\" stroke=\"black\" d=\"M761.83,-1115.93C782.6,-1105.04 818.69,-1086.12 843.07,-1073.34\"/>\n<polygon fill=\"black\" stroke=\"black\" points=\"844.87,-1076.34 852.1,-1068.6 841.62,-1070.15 844.87,-1076.34\"/>\n</g>\n<!-- 140215205077104 -->\n<g id=\"node48\" class=\"node\">\n<title>140215205077104</title>\n<polygon fill=\"orange\" stroke=\"black\" points=\"770,-1074 669,-1074 669,-1044 770,-1044 770,-1074\"/>\n<text text-anchor=\"middle\" x=\"719.5\" y=\"-1062\" font-family=\"monospace\" font-size=\"10.00\">result</text>\n<text text-anchor=\"middle\" x=\"719.5\" y=\"-1051\" font-family=\"monospace\" font-size=\"10.00\"> (1, 32, 8, 8)</text>\n</g>\n<!-- 140215227196672&#45;&gt;140215205077104 -->\n<g id=\"edge46\" class=\"edge\">\n<title>140215227196672&#45;&gt;140215205077104</title>\n<path fill=\"none\" stroke=\"black\" d=\"M741.99,-1115.8C737.72,-1105.21 730.45,-1087.17 725.33,-1074.47\"/>\n</g>\n<!-- 140215227193264 -->\n<g id=\"node49\" class=\"node\">\n<title>140215227193264</title>\n<polygon fill=\"lightgrey\" stroke=\"black\" points=\"689,-1202 552,-1202 552,-1183 689,-1183 689,-1202\"/>\n<text text-anchor=\"middle\" x=\"620.5\" y=\"-1190\" font-family=\"monospace\" font-size=\"10.00\">ConvolutionBackward0</text>\n</g>\n<!-- 140215227193264&#45;&gt;140215227196672 -->\n<g id=\"edge47\" class=\"edge\">\n<title>140215227193264&#45;&gt;140215227196672</title>\n<path fill=\"none\" stroke=\"black\" d=\"M637.1,-1182.87C658.21,-1171.89 694.88,-1152.82 719.66,-1139.94\"/>\n<polygon fill=\"black\" stroke=\"black\" points=\"721.57,-1142.89 728.83,-1135.17 718.35,-1136.68 721.57,-1142.89\"/>\n</g>\n<!-- 140215205070624 -->\n<g id=\"node50\" class=\"node\">\n<title>140215205070624</title>\n<polygon fill=\"orange\" stroke=\"black\" points=\"680,-1140.5 567,-1140.5 567,-1110.5 680,-1110.5 680,-1140.5\"/>\n<text text-anchor=\"middle\" x=\"623.5\" y=\"-1128.5\" font-family=\"monospace\" font-size=\"10.00\">input</text>\n<text text-anchor=\"middle\" x=\"623.5\" y=\"-1117.5\" font-family=\"monospace\" font-size=\"10.00\"> (1, 16, 18, 18)</text>\n</g>\n<!-- 140215227193264&#45;&gt;140215205070624 -->\n<g id=\"edge48\" class=\"edge\">\n<title>140215227193264&#45;&gt;140215205070624</title>\n<path fill=\"none\" stroke=\"black\" d=\"M620.9,-1182.73C621.4,-1171.92 622.26,-1153.41 622.85,-1140.59\"/>\n</g>\n<!-- 140215205083904 -->\n<g id=\"node51\" class=\"node\">\n<title>140215205083904</title>\n<polygon fill=\"lightblue\" stroke=\"black\" points=\"510,-1141 403,-1141 403,-1110 510,-1110 510,-1141\"/>\n<text text-anchor=\"middle\" x=\"456.5\" y=\"-1117\" font-family=\"monospace\" font-size=\"10.00\"> (32, 16, 3, 3)</text>\n</g>\n<!-- 140215227193264&#45;&gt;140215205083904 -->\n<g id=\"edge49\" class=\"edge\">\n<title>140215227193264&#45;&gt;140215205083904</title>\n<path fill=\"none\" stroke=\"black\" d=\"M598.72,-1182.87C571.8,-1172.2 525.57,-1153.88 493.15,-1141.02\"/>\n</g>\n<!-- 140215227200512 -->\n<g id=\"node158\" class=\"node\">\n<title>140215227200512</title>\n<polygon fill=\"lightgrey\" stroke=\"black\" points=\"548,-1068.5 447,-1068.5 447,-1049.5 548,-1049.5 548,-1068.5\"/>\n<text text-anchor=\"middle\" x=\"497.5\" y=\"-1056.5\" font-family=\"monospace\" font-size=\"10.00\">AccumulateGrad</text>\n</g>\n<!-- 140215205083904&#45;&gt;140215227200512 -->\n<g id=\"edge174\" class=\"edge\">\n<title>140215205083904&#45;&gt;140215227200512</title>\n<path fill=\"none\" stroke=\"black\" d=\"M465.8,-1109.86C471.95,-1100.19 480.04,-1087.46 486.51,-1077.29\"/>\n<polygon fill=\"black\" stroke=\"black\" points=\"489.48,-1079.14 491.89,-1068.82 483.57,-1075.38 489.48,-1079.14\"/>\n</g>\n<!-- 140215227192448 -->\n<g id=\"node52\" class=\"node\">\n<title>140215227192448</title>\n<polygon fill=\"lightgrey\" stroke=\"black\" points=\"813,-1269 676,-1269 676,-1250 813,-1250 813,-1269\"/>\n<text text-anchor=\"middle\" x=\"744.5\" y=\"-1257\" font-family=\"monospace\" font-size=\"10.00\">ConvolutionBackward0</text>\n</g>\n<!-- 140215227192448&#45;&gt;140215227193264 -->\n<g id=\"edge50\" class=\"edge\">\n<title>140215227192448&#45;&gt;140215227193264</title>\n<path fill=\"none\" stroke=\"black\" d=\"M728.03,-1249.87C707.1,-1238.89 670.72,-1219.82 646.14,-1206.94\"/>\n<polygon fill=\"black\" stroke=\"black\" points=\"647.52,-1203.71 637.03,-1202.17 644.27,-1209.91 647.52,-1203.71\"/>\n</g>\n<!-- 140215205071824 -->\n<g id=\"node53\" class=\"node\">\n<title>140215205071824</title>\n<polygon fill=\"orange\" stroke=\"black\" points=\"893,-1207.5 780,-1207.5 780,-1177.5 893,-1177.5 893,-1207.5\"/>\n<text text-anchor=\"middle\" x=\"836.5\" y=\"-1195.5\" font-family=\"monospace\" font-size=\"10.00\">input</text>\n<text text-anchor=\"middle\" x=\"836.5\" y=\"-1184.5\" font-family=\"monospace\" font-size=\"10.00\"> (1, 16, 16, 16)</text>\n</g>\n<!-- 140215227192448&#45;&gt;140215205071824 -->\n<g id=\"edge51\" class=\"edge\">\n<title>140215227192448&#45;&gt;140215205071824</title>\n<path fill=\"none\" stroke=\"black\" d=\"M756.91,-1249.73C772.21,-1238.92 798.42,-1220.41 816.56,-1207.59\"/>\n</g>\n<!-- 140215205084304 -->\n<g id=\"node54\" class=\"node\">\n<title>140215205084304</title>\n<polygon fill=\"lightblue\" stroke=\"black\" points=\"1057,-1208 950,-1208 950,-1177 1057,-1177 1057,-1208\"/>\n<text text-anchor=\"middle\" x=\"1003.5\" y=\"-1184\" font-family=\"monospace\" font-size=\"10.00\"> (16, 16, 1, 1)</text>\n</g>\n<!-- 140215227192448&#45;&gt;140215205084304 -->\n<g id=\"edge52\" class=\"edge\">\n<title>140215227192448&#45;&gt;140215205084304</title>\n<path fill=\"none\" stroke=\"black\" d=\"M778.63,-1249.94C822.31,-1238.97 898.48,-1219.86 949.92,-1206.95\"/>\n</g>\n<!-- 140215227197824 -->\n<g id=\"node157\" class=\"node\">\n<title>140215227197824</title>\n<polygon fill=\"lightgrey\" stroke=\"black\" points=\"1041,-1135 940,-1135 940,-1116 1041,-1116 1041,-1135\"/>\n<text text-anchor=\"middle\" x=\"990.5\" y=\"-1123\" font-family=\"monospace\" font-size=\"10.00\">AccumulateGrad</text>\n</g>\n<!-- 140215205084304&#45;&gt;140215227197824 -->\n<g id=\"edge172\" class=\"edge\">\n<title>140215205084304&#45;&gt;140215227197824</title>\n<path fill=\"none\" stroke=\"black\" d=\"M1000.55,-1176.75C998.66,-1167.29 996.19,-1154.93 994.17,-1144.84\"/>\n<polygon fill=\"black\" stroke=\"black\" points=\"997.6,-1144.14 992.2,-1135.02 990.73,-1145.51 997.6,-1144.14\"/>\n</g>\n<!-- 140215227201520 -->\n<g id=\"node55\" class=\"node\">\n<title>140215227201520</title>\n<polygon fill=\"lightgrey\" stroke=\"black\" points=\"564,-1335.5 403,-1335.5 403,-1316.5 564,-1316.5 564,-1335.5\"/>\n<text text-anchor=\"middle\" x=\"483.5\" y=\"-1323.5\" font-family=\"monospace\" font-size=\"10.00\">NativeGroupNormBackward0</text>\n</g>\n<!-- 140215227201520&#45;&gt;140215227192448 -->\n<g id=\"edge53\" class=\"edge\">\n<title>140215227201520&#45;&gt;140215227192448</title>\n<path fill=\"none\" stroke=\"black\" d=\"M518.16,-1316.43C564.96,-1304.87 648.41,-1284.25 699.86,-1271.53\"/>\n<polygon fill=\"black\" stroke=\"black\" points=\"700.83,-1274.9 709.7,-1269.1 699.15,-1268.1 700.83,-1274.9\"/>\n</g>\n<!-- 140215205069424 -->\n<g id=\"node56\" class=\"node\">\n<title>140215205069424</title>\n<polygon fill=\"orange\" stroke=\"black\" points=\"944,-1274.5 831,-1274.5 831,-1244.5 944,-1244.5 944,-1274.5\"/>\n<text text-anchor=\"middle\" x=\"887.5\" y=\"-1262.5\" font-family=\"monospace\" font-size=\"10.00\">input</text>\n<text text-anchor=\"middle\" x=\"887.5\" y=\"-1251.5\" font-family=\"monospace\" font-size=\"10.00\"> (1, 16, 16, 16)</text>\n</g>\n<!-- 140215227201520&#45;&gt;140215205069424 -->\n<g id=\"edge54\" class=\"edge\">\n<title>140215227201520&#45;&gt;140215205069424</title>\n<path fill=\"none\" stroke=\"black\" d=\"M550.42,-1316.49C618.78,-1307.48 727.86,-1292.19 821.5,-1275 824.5,-1274.45 827.57,-1273.86 830.67,-1273.25\"/>\n</g>\n<!-- 140215205078704 -->\n<g id=\"node57\" class=\"node\">\n<title>140215205078704</title>\n<polygon fill=\"orange\" stroke=\"black\" points=\"378,-1274.5 319,-1274.5 319,-1244.5 378,-1244.5 378,-1274.5\"/>\n<text text-anchor=\"middle\" x=\"348.5\" y=\"-1262.5\" font-family=\"monospace\" font-size=\"10.00\">result1</text>\n<text text-anchor=\"middle\" x=\"348.5\" y=\"-1251.5\" font-family=\"monospace\" font-size=\"10.00\"> (1, 1)</text>\n</g>\n<!-- 140215227201520&#45;&gt;140215205078704 -->\n<g id=\"edge55\" class=\"edge\">\n<title>140215227201520&#45;&gt;140215205078704</title>\n<path fill=\"none\" stroke=\"black\" d=\"M465.57,-1316.43C443.2,-1305.74 404.62,-1287.31 377.89,-1274.54\"/>\n</g>\n<!-- 140215205077824 -->\n<g id=\"node58\" class=\"node\">\n<title>140215205077824</title>\n<polygon fill=\"orange\" stroke=\"black\" points=\"455,-1274.5 396,-1274.5 396,-1244.5 455,-1244.5 455,-1274.5\"/>\n<text text-anchor=\"middle\" x=\"425.5\" y=\"-1262.5\" font-family=\"monospace\" font-size=\"10.00\">result2</text>\n<text text-anchor=\"middle\" x=\"425.5\" y=\"-1251.5\" font-family=\"monospace\" font-size=\"10.00\"> (1, 1)</text>\n</g>\n<!-- 140215227201520&#45;&gt;140215205077824 -->\n<g id=\"edge56\" class=\"edge\">\n<title>140215227201520&#45;&gt;140215205077824</title>\n<path fill=\"none\" stroke=\"black\" d=\"M475.68,-1316.3C466.15,-1305.71 449.93,-1287.67 438.51,-1274.97\"/>\n</g>\n<!-- 140215205072784 -->\n<g id=\"node59\" class=\"node\">\n<title>140215205072784</title>\n<polygon fill=\"lightblue\" stroke=\"black\" points=\"565.5,-1275 511.5,-1275 511.5,-1244 565.5,-1244 565.5,-1275\"/>\n<text text-anchor=\"middle\" x=\"538.5\" y=\"-1251\" font-family=\"monospace\" font-size=\"10.00\"> (16)</text>\n</g>\n<!-- 140215227201520&#45;&gt;140215205072784 -->\n<g id=\"edge57\" class=\"edge\">\n<title>140215227201520&#45;&gt;140215205072784</title>\n<path fill=\"none\" stroke=\"black\" d=\"M490.92,-1316.3C499.83,-1305.85 514.93,-1288.14 525.73,-1275.47\"/>\n</g>\n<!-- 140215227192592 -->\n<g id=\"node154\" class=\"node\">\n<title>140215227192592</title>\n<polygon fill=\"lightgrey\" stroke=\"black\" points=\"534,-1202 433,-1202 433,-1183 534,-1183 534,-1202\"/>\n<text text-anchor=\"middle\" x=\"483.5\" y=\"-1190\" font-family=\"monospace\" font-size=\"10.00\">AccumulateGrad</text>\n</g>\n<!-- 140215205072784&#45;&gt;140215227192592 -->\n<g id=\"edge168\" class=\"edge\">\n<title>140215205072784&#45;&gt;140215227192592</title>\n<path fill=\"none\" stroke=\"black\" d=\"M526.02,-1243.75C517.5,-1233.68 506.21,-1220.34 497.41,-1209.93\"/>\n<polygon fill=\"black\" stroke=\"black\" points=\"499.84,-1207.39 490.71,-1202.02 494.5,-1211.91 499.84,-1207.39\"/>\n</g>\n<!-- 140215227199552 -->\n<g id=\"node60\" class=\"node\">\n<title>140215227199552</title>\n<polygon fill=\"lightgrey\" stroke=\"black\" points=\"390,-1402 295,-1402 295,-1383 390,-1383 390,-1402\"/>\n<text text-anchor=\"middle\" x=\"342.5\" y=\"-1390\" font-family=\"monospace\" font-size=\"10.00\">ReluBackward0</text>\n</g>\n<!-- 140215227199552&#45;&gt;140215227201520 -->\n<g id=\"edge58\" class=\"edge\">\n<title>140215227199552&#45;&gt;140215227201520</title>\n<path fill=\"none\" stroke=\"black\" d=\"M361.22,-1382.93C385.35,-1371.9 427.5,-1352.62 455.45,-1339.83\"/>\n<polygon fill=\"black\" stroke=\"black\" points=\"457.06,-1342.94 464.7,-1335.6 454.15,-1336.58 457.06,-1342.94\"/>\n</g>\n<!-- 140215205078864 -->\n<g id=\"node61\" class=\"node\">\n<title>140215205078864</title>\n<polygon fill=\"orange\" stroke=\"black\" points=\"385,-1341 272,-1341 272,-1311 385,-1311 385,-1341\"/>\n<text text-anchor=\"middle\" x=\"328.5\" y=\"-1329\" font-family=\"monospace\" font-size=\"10.00\">result</text>\n<text text-anchor=\"middle\" x=\"328.5\" y=\"-1318\" font-family=\"monospace\" font-size=\"10.00\"> (1, 16, 16, 16)</text>\n</g>\n<!-- 140215227199552&#45;&gt;140215205078864 -->\n<g id=\"edge59\" class=\"edge\">\n<title>140215227199552&#45;&gt;140215205078864</title>\n<path fill=\"none\" stroke=\"black\" d=\"M340.61,-1382.8C338.31,-1372.21 334.4,-1354.17 331.64,-1341.47\"/>\n</g>\n<!-- 140215205258496 -->\n<g id=\"node62\" class=\"node\">\n<title>140215205258496</title>\n<polygon fill=\"lightgrey\" stroke=\"black\" points=\"285,-1469 148,-1469 148,-1450 285,-1450 285,-1469\"/>\n<text text-anchor=\"middle\" x=\"216.5\" y=\"-1457\" font-family=\"monospace\" font-size=\"10.00\">ConvolutionBackward0</text>\n</g>\n<!-- 140215205258496&#45;&gt;140215227199552 -->\n<g id=\"edge60\" class=\"edge\">\n<title>140215205258496&#45;&gt;140215227199552</title>\n<path fill=\"none\" stroke=\"black\" d=\"M233.23,-1449.87C254.6,-1438.84 291.8,-1419.66 316.78,-1406.77\"/>\n<polygon fill=\"black\" stroke=\"black\" points=\"318.42,-1409.86 325.7,-1402.17 315.21,-1403.64 318.42,-1409.86\"/>\n</g>\n<!-- 140215205069984 -->\n<g id=\"node63\" class=\"node\">\n<title>140215205069984</title>\n<polygon fill=\"orange\" stroke=\"black\" points=\"277,-1407.5 164,-1407.5 164,-1377.5 277,-1377.5 277,-1407.5\"/>\n<text text-anchor=\"middle\" x=\"220.5\" y=\"-1395.5\" font-family=\"monospace\" font-size=\"10.00\">input</text>\n<text text-anchor=\"middle\" x=\"220.5\" y=\"-1384.5\" font-family=\"monospace\" font-size=\"10.00\"> (1, 16, 16, 16)</text>\n</g>\n<!-- 140215205258496&#45;&gt;140215205069984 -->\n<g id=\"edge61\" class=\"edge\">\n<title>140215205258496&#45;&gt;140215205069984</title>\n<path fill=\"none\" stroke=\"black\" d=\"M217.04,-1449.73C217.7,-1438.92 218.84,-1420.41 219.63,-1407.59\"/>\n</g>\n<!-- 140215205082944 -->\n<g id=\"node64\" class=\"node\">\n<title>140215205082944</title>\n<polygon fill=\"lightblue\" stroke=\"black\" points=\"107,-1408 0,-1408 0,-1377 107,-1377 107,-1408\"/>\n<text text-anchor=\"middle\" x=\"53.5\" y=\"-1384\" font-family=\"monospace\" font-size=\"10.00\"> (16, 16, 3, 3)</text>\n</g>\n<!-- 140215205258496&#45;&gt;140215205082944 -->\n<g id=\"edge62\" class=\"edge\">\n<title>140215205258496&#45;&gt;140215205082944</title>\n<path fill=\"none\" stroke=\"black\" d=\"M194.85,-1449.87C168.1,-1439.2 122.15,-1420.88 89.92,-1408.02\"/>\n</g>\n<!-- 140215205258544 -->\n<g id=\"node153\" class=\"node\">\n<title>140215205258544</title>\n<polygon fill=\"lightgrey\" stroke=\"black\" points=\"145,-1335.5 44,-1335.5 44,-1316.5 145,-1316.5 145,-1335.5\"/>\n<text text-anchor=\"middle\" x=\"94.5\" y=\"-1323.5\" font-family=\"monospace\" font-size=\"10.00\">AccumulateGrad</text>\n</g>\n<!-- 140215205082944&#45;&gt;140215205258544 -->\n<g id=\"edge166\" class=\"edge\">\n<title>140215205082944&#45;&gt;140215205258544</title>\n<path fill=\"none\" stroke=\"black\" d=\"M62.8,-1376.86C68.95,-1367.19 77.04,-1354.46 83.51,-1344.29\"/>\n<polygon fill=\"black\" stroke=\"black\" points=\"86.48,-1346.14 88.89,-1335.82 80.57,-1342.38 86.48,-1346.14\"/>\n</g>\n<!-- 140215205258784 -->\n<g id=\"node65\" class=\"node\">\n<title>140215205258784</title>\n<polygon fill=\"lightgrey\" stroke=\"black\" points=\"551,-1535.5 390,-1535.5 390,-1516.5 551,-1516.5 551,-1535.5\"/>\n<text text-anchor=\"middle\" x=\"470.5\" y=\"-1523.5\" font-family=\"monospace\" font-size=\"10.00\">NativeGroupNormBackward0</text>\n</g>\n<!-- 140215205258784&#45;&gt;140215205258496 -->\n<g id=\"edge63\" class=\"edge\">\n<title>140215205258784&#45;&gt;140215205258496</title>\n<path fill=\"none\" stroke=\"black\" d=\"M436.77,-1516.43C391.32,-1504.89 310.35,-1484.33 260.26,-1471.61\"/>\n<polygon fill=\"black\" stroke=\"black\" points=\"260.92,-1468.17 250.37,-1469.1 259.2,-1474.95 260.92,-1468.17\"/>\n</g>\n<!-- 140215205069184 -->\n<g id=\"node66\" class=\"node\">\n<title>140215205069184</title>\n<polygon fill=\"orange\" stroke=\"black\" points=\"527,-1474.5 414,-1474.5 414,-1444.5 527,-1444.5 527,-1474.5\"/>\n<text text-anchor=\"middle\" x=\"470.5\" y=\"-1462.5\" font-family=\"monospace\" font-size=\"10.00\">input</text>\n<text text-anchor=\"middle\" x=\"470.5\" y=\"-1451.5\" font-family=\"monospace\" font-size=\"10.00\"> (1, 16, 16, 16)</text>\n</g>\n<!-- 140215205258784&#45;&gt;140215205069184 -->\n<g id=\"edge64\" class=\"edge\">\n<title>140215205258784&#45;&gt;140215205069184</title>\n<path fill=\"none\" stroke=\"black\" d=\"M470.5,-1516.3C470.5,-1505.71 470.5,-1487.67 470.5,-1474.97\"/>\n</g>\n<!-- 140215205078304 -->\n<g id=\"node67\" class=\"node\">\n<title>140215205078304</title>\n<polygon fill=\"orange\" stroke=\"black\" points=\"604,-1474.5 545,-1474.5 545,-1444.5 604,-1444.5 604,-1474.5\"/>\n<text text-anchor=\"middle\" x=\"574.5\" y=\"-1462.5\" font-family=\"monospace\" font-size=\"10.00\">result1</text>\n<text text-anchor=\"middle\" x=\"574.5\" y=\"-1451.5\" font-family=\"monospace\" font-size=\"10.00\"> (1, 1)</text>\n</g>\n<!-- 140215205258784&#45;&gt;140215205078304 -->\n<g id=\"edge65\" class=\"edge\">\n<title>140215205258784&#45;&gt;140215205078304</title>\n<path fill=\"none\" stroke=\"black\" d=\"M484.53,-1516.3C501.71,-1505.64 531.07,-1487.43 551.56,-1474.73\"/>\n</g>\n<!-- 140215205080704 -->\n<g id=\"node68\" class=\"node\">\n<title>140215205080704</title>\n<polygon fill=\"orange\" stroke=\"black\" points=\"681,-1474.5 622,-1474.5 622,-1444.5 681,-1444.5 681,-1474.5\"/>\n<text text-anchor=\"middle\" x=\"651.5\" y=\"-1462.5\" font-family=\"monospace\" font-size=\"10.00\">result2</text>\n<text text-anchor=\"middle\" x=\"651.5\" y=\"-1451.5\" font-family=\"monospace\" font-size=\"10.00\"> (1, 1)</text>\n</g>\n<!-- 140215205258784&#45;&gt;140215205080704 -->\n<g id=\"edge66\" class=\"edge\">\n<title>140215205258784&#45;&gt;140215205080704</title>\n<path fill=\"none\" stroke=\"black\" d=\"M495.17,-1516.46C523.53,-1506.61 571.46,-1489.85 612.5,-1475 615.49,-1473.92 618.6,-1472.78 621.71,-1471.64\"/>\n</g>\n<!-- 140215205073744 -->\n<g id=\"node69\" class=\"node\">\n<title>140215205073744</title>\n<polygon fill=\"lightblue\" stroke=\"black\" points=\"753.5,-1475 699.5,-1475 699.5,-1444 753.5,-1444 753.5,-1475\"/>\n<text text-anchor=\"middle\" x=\"726.5\" y=\"-1451\" font-family=\"monospace\" font-size=\"10.00\"> (16)</text>\n</g>\n<!-- 140215205258784&#45;&gt;140215205073744 -->\n<g id=\"edge67\" class=\"edge\">\n<title>140215205258784&#45;&gt;140215205073744</title>\n<path fill=\"none\" stroke=\"black\" d=\"M517.17,-1516.44C561.88,-1507.75 630.99,-1493.03 689.5,-1475 692.66,-1474.02 695.94,-1472.91 699.18,-1471.73\"/>\n</g>\n<!-- 140215205259504 -->\n<g id=\"node150\" class=\"node\">\n<title>140215205259504</title>\n<polygon fill=\"lightgrey\" stroke=\"black\" points=\"720,-1402 619,-1402 619,-1383 720,-1383 720,-1402\"/>\n<text text-anchor=\"middle\" x=\"669.5\" y=\"-1390\" font-family=\"monospace\" font-size=\"10.00\">AccumulateGrad</text>\n</g>\n<!-- 140215205073744&#45;&gt;140215205259504 -->\n<g id=\"edge162\" class=\"edge\">\n<title>140215205073744&#45;&gt;140215205259504</title>\n<path fill=\"none\" stroke=\"black\" d=\"M713.57,-1443.75C704.65,-1433.58 692.8,-1420.07 683.64,-1409.62\"/>\n<polygon fill=\"black\" stroke=\"black\" points=\"686.19,-1407.23 676.97,-1402.02 680.93,-1411.84 686.19,-1407.23\"/>\n</g>\n<!-- 140215205259552 -->\n<g id=\"node70\" class=\"node\">\n<title>140215205259552</title>\n<polygon fill=\"lightgrey\" stroke=\"black\" points=\"544,-1602 449,-1602 449,-1583 544,-1583 544,-1602\"/>\n<text text-anchor=\"middle\" x=\"496.5\" y=\"-1590\" font-family=\"monospace\" font-size=\"10.00\">ReluBackward0</text>\n</g>\n<!-- 140215205259552&#45;&gt;140215205258784 -->\n<g id=\"edge68\" class=\"edge\">\n<title>140215205259552&#45;&gt;140215205258784</title>\n<path fill=\"none\" stroke=\"black\" d=\"M492.99,-1582.8C489.1,-1573.13 482.69,-1557.25 477.71,-1544.89\"/>\n<polygon fill=\"black\" stroke=\"black\" points=\"480.94,-1543.53 473.95,-1535.56 474.44,-1546.14 480.94,-1543.53\"/>\n</g>\n<!-- 140215205080784 -->\n<g id=\"node71\" class=\"node\">\n<title>140215205080784</title>\n<polygon fill=\"orange\" stroke=\"black\" points=\"682,-1541 569,-1541 569,-1511 682,-1511 682,-1541\"/>\n<text text-anchor=\"middle\" x=\"625.5\" y=\"-1529\" font-family=\"monospace\" font-size=\"10.00\">result</text>\n<text text-anchor=\"middle\" x=\"625.5\" y=\"-1518\" font-family=\"monospace\" font-size=\"10.00\"> (1, 16, 16, 16)</text>\n</g>\n<!-- 140215205259552&#45;&gt;140215205080784 -->\n<g id=\"edge69\" class=\"edge\">\n<title>140215205259552&#45;&gt;140215205080784</title>\n<path fill=\"none\" stroke=\"black\" d=\"M513.63,-1582.93C535.01,-1572.24 571.88,-1553.81 597.41,-1541.04\"/>\n</g>\n<!-- 140215205259312 -->\n<g id=\"node72\" class=\"node\">\n<title>140215205259312</title>\n<polygon fill=\"lightgrey\" stroke=\"black\" points=\"635,-1669 498,-1669 498,-1650 635,-1650 635,-1669\"/>\n<text text-anchor=\"middle\" x=\"566.5\" y=\"-1657\" font-family=\"monospace\" font-size=\"10.00\">ConvolutionBackward0</text>\n</g>\n<!-- 140215205259312&#45;&gt;140215205259552 -->\n<g id=\"edge70\" class=\"edge\">\n<title>140215205259312&#45;&gt;140215205259552</title>\n<path fill=\"none\" stroke=\"black\" d=\"M557.06,-1649.73C545.83,-1639.31 526.88,-1621.71 513.16,-1608.97\"/>\n<polygon fill=\"black\" stroke=\"black\" points=\"515.5,-1606.37 505.79,-1602.13 510.74,-1611.5 515.5,-1606.37\"/>\n</g>\n<!-- 140215205069664 -->\n<g id=\"node73\" class=\"node\">\n<title>140215205069664</title>\n<polygon fill=\"orange\" stroke=\"black\" points=\"714,-1607.5 601,-1607.5 601,-1577.5 714,-1577.5 714,-1607.5\"/>\n<text text-anchor=\"middle\" x=\"657.5\" y=\"-1595.5\" font-family=\"monospace\" font-size=\"10.00\">input</text>\n<text text-anchor=\"middle\" x=\"657.5\" y=\"-1584.5\" font-family=\"monospace\" font-size=\"10.00\"> (1, 16, 16, 16)</text>\n</g>\n<!-- 140215205259312&#45;&gt;140215205069664 -->\n<g id=\"edge71\" class=\"edge\">\n<title>140215205259312&#45;&gt;140215205069664</title>\n<path fill=\"none\" stroke=\"black\" d=\"M578.77,-1649.73C593.91,-1638.92 619.83,-1620.41 637.78,-1607.59\"/>\n</g>\n<!-- 140215205073664 -->\n<g id=\"node74\" class=\"node\">\n<title>140215205073664</title>\n<polygon fill=\"lightblue\" stroke=\"black\" points=\"839,-1608 732,-1608 732,-1577 839,-1577 839,-1608\"/>\n<text text-anchor=\"middle\" x=\"785.5\" y=\"-1584\" font-family=\"monospace\" font-size=\"10.00\"> (16, 16, 3, 3)</text>\n</g>\n<!-- 140215205259312&#45;&gt;140215205073664 -->\n<g id=\"edge72\" class=\"edge\">\n<title>140215205259312&#45;&gt;140215205073664</title>\n<path fill=\"none\" stroke=\"black\" d=\"M595.58,-1649.87C631.53,-1639.2 693.27,-1620.88 736.56,-1608.02\"/>\n</g>\n<!-- 140215205258976 -->\n<g id=\"node149\" class=\"node\">\n<title>140215205258976</title>\n<polygon fill=\"lightgrey\" stroke=\"black\" points=\"819,-1535.5 718,-1535.5 718,-1516.5 819,-1516.5 819,-1535.5\"/>\n<text text-anchor=\"middle\" x=\"768.5\" y=\"-1523.5\" font-family=\"monospace\" font-size=\"10.00\">AccumulateGrad</text>\n</g>\n<!-- 140215205073664&#45;&gt;140215205258976 -->\n<g id=\"edge160\" class=\"edge\">\n<title>140215205073664&#45;&gt;140215205258976</title>\n<path fill=\"none\" stroke=\"black\" d=\"M781.64,-1576.86C779.2,-1567.58 776.01,-1555.5 773.39,-1545.55\"/>\n<polygon fill=\"black\" stroke=\"black\" points=\"776.76,-1544.6 770.83,-1535.82 769.99,-1546.38 776.76,-1544.6\"/>\n</g>\n<!-- 140215205263632 -->\n<g id=\"node75\" class=\"node\">\n<title>140215205263632</title>\n<polygon fill=\"lightgrey\" stroke=\"black\" points=\"467,-1735.5 306,-1735.5 306,-1716.5 467,-1716.5 467,-1735.5\"/>\n<text text-anchor=\"middle\" x=\"386.5\" y=\"-1723.5\" font-family=\"monospace\" font-size=\"10.00\">NativeGroupNormBackward0</text>\n</g>\n<!-- 140215205263632&#45;&gt;140215205259312 -->\n<g id=\"edge73\" class=\"edge\">\n<title>140215205263632&#45;&gt;140215205259312</title>\n<path fill=\"none\" stroke=\"black\" d=\"M410.4,-1716.43C441.87,-1705.16 497.37,-1685.27 533.01,-1672.5\"/>\n<polygon fill=\"black\" stroke=\"black\" points=\"534.27,-1675.77 542.5,-1669.1 531.9,-1669.18 534.27,-1675.77\"/>\n</g>\n<!-- 140215205069824 -->\n<g id=\"node76\" class=\"node\">\n<title>140215205069824</title>\n<polygon fill=\"orange\" stroke=\"black\" points=\"766,-1674.5 653,-1674.5 653,-1644.5 766,-1644.5 766,-1674.5\"/>\n<text text-anchor=\"middle\" x=\"709.5\" y=\"-1662.5\" font-family=\"monospace\" font-size=\"10.00\">input</text>\n<text text-anchor=\"middle\" x=\"709.5\" y=\"-1651.5\" font-family=\"monospace\" font-size=\"10.00\"> (1, 16, 16, 16)</text>\n</g>\n<!-- 140215205263632&#45;&gt;140215205069824 -->\n<g id=\"edge74\" class=\"edge\">\n<title>140215205263632&#45;&gt;140215205069824</title>\n<path fill=\"none\" stroke=\"black\" d=\"M432.06,-1716.48C483.49,-1706.78 569.61,-1690.3 643.5,-1675 646.6,-1674.36 649.78,-1673.69 652.99,-1673.01\"/>\n</g>\n<!-- 140215205077904 -->\n<g id=\"node77\" class=\"node\">\n<title>140215205077904</title>\n<polygon fill=\"orange\" stroke=\"black\" points=\"281,-1674.5 222,-1674.5 222,-1644.5 281,-1644.5 281,-1674.5\"/>\n<text text-anchor=\"middle\" x=\"251.5\" y=\"-1662.5\" font-family=\"monospace\" font-size=\"10.00\">result1</text>\n<text text-anchor=\"middle\" x=\"251.5\" y=\"-1651.5\" font-family=\"monospace\" font-size=\"10.00\"> (1, 1)</text>\n</g>\n<!-- 140215205263632&#45;&gt;140215205077904 -->\n<g id=\"edge75\" class=\"edge\">\n<title>140215205263632&#45;&gt;140215205077904</title>\n<path fill=\"none\" stroke=\"black\" d=\"M368.57,-1716.43C346.2,-1705.74 307.62,-1687.31 280.89,-1674.54\"/>\n</g>\n<!-- 140215205083024 -->\n<g id=\"node78\" class=\"node\">\n<title>140215205083024</title>\n<polygon fill=\"orange\" stroke=\"black\" points=\"358,-1674.5 299,-1674.5 299,-1644.5 358,-1644.5 358,-1674.5\"/>\n<text text-anchor=\"middle\" x=\"328.5\" y=\"-1662.5\" font-family=\"monospace\" font-size=\"10.00\">result2</text>\n<text text-anchor=\"middle\" x=\"328.5\" y=\"-1651.5\" font-family=\"monospace\" font-size=\"10.00\"> (1, 1)</text>\n</g>\n<!-- 140215205263632&#45;&gt;140215205083024 -->\n<g id=\"edge76\" class=\"edge\">\n<title>140215205263632&#45;&gt;140215205083024</title>\n<path fill=\"none\" stroke=\"black\" d=\"M378.68,-1716.3C369.15,-1705.71 352.93,-1687.67 341.51,-1674.97\"/>\n</g>\n<!-- 140215205082384 -->\n<g id=\"node79\" class=\"node\">\n<title>140215205082384</title>\n<polygon fill=\"lightblue\" stroke=\"black\" points=\"468.5,-1675 414.5,-1675 414.5,-1644 468.5,-1644 468.5,-1675\"/>\n<text text-anchor=\"middle\" x=\"441.5\" y=\"-1651\" font-family=\"monospace\" font-size=\"10.00\"> (16)</text>\n</g>\n<!-- 140215205263632&#45;&gt;140215205082384 -->\n<g id=\"edge77\" class=\"edge\">\n<title>140215205263632&#45;&gt;140215205082384</title>\n<path fill=\"none\" stroke=\"black\" d=\"M393.92,-1716.3C402.83,-1705.85 417.93,-1688.14 428.73,-1675.47\"/>\n</g>\n<!-- 140215205261808 -->\n<g id=\"node146\" class=\"node\">\n<title>140215205261808</title>\n<polygon fill=\"lightgrey\" stroke=\"black\" points=\"431,-1602 330,-1602 330,-1583 431,-1583 431,-1602\"/>\n<text text-anchor=\"middle\" x=\"380.5\" y=\"-1590\" font-family=\"monospace\" font-size=\"10.00\">AccumulateGrad</text>\n</g>\n<!-- 140215205082384&#45;&gt;140215205261808 -->\n<g id=\"edge156\" class=\"edge\">\n<title>140215205082384&#45;&gt;140215205261808</title>\n<path fill=\"none\" stroke=\"black\" d=\"M427.66,-1643.75C418.02,-1633.48 405.19,-1619.81 395.34,-1609.31\"/>\n<polygon fill=\"black\" stroke=\"black\" points=\"397.89,-1606.92 388.49,-1602.02 392.79,-1611.71 397.89,-1606.92\"/>\n</g>\n<!-- 140215205261760 -->\n<g id=\"node80\" class=\"node\">\n<title>140215205261760</title>\n<polygon fill=\"lightgrey\" stroke=\"black\" points=\"556,-1802 461,-1802 461,-1783 556,-1783 556,-1802\"/>\n<text text-anchor=\"middle\" x=\"508.5\" y=\"-1790\" font-family=\"monospace\" font-size=\"10.00\">ReluBackward0</text>\n</g>\n<!-- 140215205261760&#45;&gt;140215205263632 -->\n<g id=\"edge78\" class=\"edge\">\n<title>140215205261760&#45;&gt;140215205263632</title>\n<path fill=\"none\" stroke=\"black\" d=\"M492.3,-1782.93C471.7,-1772.04 435.91,-1753.12 411.72,-1740.34\"/>\n<polygon fill=\"black\" stroke=\"black\" points=\"413.24,-1737.18 402.77,-1735.6 409.97,-1743.37 413.24,-1737.18\"/>\n</g>\n<!-- 140215205076864 -->\n<g id=\"node81\" class=\"node\">\n<title>140215205076864</title>\n<polygon fill=\"orange\" stroke=\"black\" points=\"598,-1741 485,-1741 485,-1711 598,-1711 598,-1741\"/>\n<text text-anchor=\"middle\" x=\"541.5\" y=\"-1729\" font-family=\"monospace\" font-size=\"10.00\">result</text>\n<text text-anchor=\"middle\" x=\"541.5\" y=\"-1718\" font-family=\"monospace\" font-size=\"10.00\"> (1, 16, 16, 16)</text>\n</g>\n<!-- 140215205261760&#45;&gt;140215205076864 -->\n<g id=\"edge79\" class=\"edge\">\n<title>140215205261760&#45;&gt;140215205076864</title>\n<path fill=\"none\" stroke=\"black\" d=\"M512.95,-1782.8C518.37,-1772.21 527.6,-1754.17 534.1,-1741.47\"/>\n</g>\n<!-- 140215205263920 -->\n<g id=\"node82\" class=\"node\">\n<title>140215205263920</title>\n<polygon fill=\"lightgrey\" stroke=\"black\" points=\"735,-1869 598,-1869 598,-1850 735,-1850 735,-1869\"/>\n<text text-anchor=\"middle\" x=\"666.5\" y=\"-1857\" font-family=\"monospace\" font-size=\"10.00\">ConvolutionBackward0</text>\n</g>\n<!-- 140215205263920&#45;&gt;140215205261760 -->\n<g id=\"edge80\" class=\"edge\">\n<title>140215205263920&#45;&gt;140215205261760</title>\n<path fill=\"none\" stroke=\"black\" d=\"M645.52,-1849.87C618.25,-1838.65 570.43,-1818.98 539.11,-1806.09\"/>\n<polygon fill=\"black\" stroke=\"black\" points=\"540.15,-1802.74 529.57,-1802.17 537.48,-1809.21 540.15,-1802.74\"/>\n</g>\n<!-- 140215205070864 -->\n<g id=\"node83\" class=\"node\">\n<title>140215205070864</title>\n<polygon fill=\"orange\" stroke=\"black\" points=\"851,-1807.5 738,-1807.5 738,-1777.5 851,-1777.5 851,-1807.5\"/>\n<text text-anchor=\"middle\" x=\"794.5\" y=\"-1795.5\" font-family=\"monospace\" font-size=\"10.00\">input</text>\n<text text-anchor=\"middle\" x=\"794.5\" y=\"-1784.5\" font-family=\"monospace\" font-size=\"10.00\"> (1, 16, 16, 16)</text>\n</g>\n<!-- 140215205263920&#45;&gt;140215205070864 -->\n<g id=\"edge81\" class=\"edge\">\n<title>140215205263920&#45;&gt;140215205070864</title>\n<path fill=\"none\" stroke=\"black\" d=\"M683.5,-1849.87C704.71,-1839.09 741.29,-1820.52 766.63,-1807.65\"/>\n</g>\n<!-- 140215205082064 -->\n<g id=\"node84\" class=\"node\">\n<title>140215205082064</title>\n<polygon fill=\"lightblue\" stroke=\"black\" points=\"720,-1808 613,-1808 613,-1777 720,-1777 720,-1808\"/>\n<text text-anchor=\"middle\" x=\"666.5\" y=\"-1784\" font-family=\"monospace\" font-size=\"10.00\"> (16, 16, 3, 3)</text>\n</g>\n<!-- 140215205263920&#45;&gt;140215205082064 -->\n<g id=\"edge82\" class=\"edge\">\n<title>140215205263920&#45;&gt;140215205082064</title>\n<path fill=\"none\" stroke=\"black\" d=\"M666.5,-1849.73C666.5,-1839.06 666.5,-1820.88 666.5,-1808.08\"/>\n</g>\n<!-- 140215205263056 -->\n<g id=\"node145\" class=\"node\">\n<title>140215205263056</title>\n<polygon fill=\"lightgrey\" stroke=\"black\" points=\"717,-1735.5 616,-1735.5 616,-1716.5 717,-1716.5 717,-1735.5\"/>\n<text text-anchor=\"middle\" x=\"666.5\" y=\"-1723.5\" font-family=\"monospace\" font-size=\"10.00\">AccumulateGrad</text>\n</g>\n<!-- 140215205082064&#45;&gt;140215205263056 -->\n<g id=\"edge154\" class=\"edge\">\n<title>140215205082064&#45;&gt;140215205263056</title>\n<path fill=\"none\" stroke=\"black\" d=\"M666.5,-1776.86C666.5,-1767.68 666.5,-1755.75 666.5,-1745.86\"/>\n<polygon fill=\"black\" stroke=\"black\" points=\"670,-1745.82 666.5,-1735.82 663,-1745.82 670,-1745.82\"/>\n</g>\n<!-- 140215205262240 -->\n<g id=\"node85\" class=\"node\">\n<title>140215205262240</title>\n<polygon fill=\"lightgrey\" stroke=\"black\" points=\"1008,-1936 919,-1936 919,-1917 1008,-1917 1008,-1936\"/>\n<text text-anchor=\"middle\" x=\"963.5\" y=\"-1924\" font-family=\"monospace\" font-size=\"10.00\">AddBackward0</text>\n</g>\n<!-- 140215205262240&#45;&gt;140215205263920 -->\n<g id=\"edge83\" class=\"edge\">\n<title>140215205262240&#45;&gt;140215205263920</title>\n<path fill=\"none\" stroke=\"black\" d=\"M924.37,-1916.94C870.72,-1905.2 774.36,-1884.11 715.83,-1871.3\"/>\n<polygon fill=\"black\" stroke=\"black\" points=\"716.24,-1867.8 705.72,-1869.08 714.74,-1874.64 716.24,-1867.8\"/>\n</g>\n<!-- 140215227199312 -->\n<g id=\"node169\" class=\"node\">\n<title>140215227199312</title>\n<polygon fill=\"lightgrey\" stroke=\"black\" points=\"1032,-1869 895,-1869 895,-1850 1032,-1850 1032,-1869\"/>\n<text text-anchor=\"middle\" x=\"963.5\" y=\"-1857\" font-family=\"monospace\" font-size=\"10.00\">ConvolutionBackward0</text>\n</g>\n<!-- 140215205262240&#45;&gt;140215227199312 -->\n<g id=\"edge189\" class=\"edge\">\n<title>140215205262240&#45;&gt;140215227199312</title>\n<path fill=\"none\" stroke=\"black\" d=\"M963.5,-1916.73C963.5,-1907.18 963.5,-1891.62 963.5,-1879.28\"/>\n<polygon fill=\"black\" stroke=\"black\" points=\"967,-1879.13 963.5,-1869.13 960,-1879.13 967,-1879.13\"/>\n</g>\n<!-- 140215205263008 -->\n<g id=\"node86\" class=\"node\">\n<title>140215205263008</title>\n<polygon fill=\"lightgrey\" stroke=\"black\" points=\"1258,-2002.5 1097,-2002.5 1097,-1983.5 1258,-1983.5 1258,-2002.5\"/>\n<text text-anchor=\"middle\" x=\"1177.5\" y=\"-1990.5\" font-family=\"monospace\" font-size=\"10.00\">NativeGroupNormBackward0</text>\n</g>\n<!-- 140215205263008&#45;&gt;140215205262240 -->\n<g id=\"edge84\" class=\"edge\">\n<title>140215205263008&#45;&gt;140215205262240</title>\n<path fill=\"none\" stroke=\"black\" d=\"M1149.08,-1983.43C1111.19,-1972.01 1043.99,-1951.76 1001.7,-1939.01\"/>\n<polygon fill=\"black\" stroke=\"black\" points=\"1002.62,-1935.64 992.04,-1936.1 1000.6,-1942.34 1002.62,-1935.64\"/>\n</g>\n<!-- 140215205070304 -->\n<g id=\"node87\" class=\"node\">\n<title>140215205070304</title>\n<polygon fill=\"orange\" stroke=\"black\" points=\"1317,-1941.5 1204,-1941.5 1204,-1911.5 1317,-1911.5 1317,-1941.5\"/>\n<text text-anchor=\"middle\" x=\"1260.5\" y=\"-1929.5\" font-family=\"monospace\" font-size=\"10.00\">input</text>\n<text text-anchor=\"middle\" x=\"1260.5\" y=\"-1918.5\" font-family=\"monospace\" font-size=\"10.00\"> (1, 16, 16, 16)</text>\n</g>\n<!-- 140215205263008&#45;&gt;140215205070304 -->\n<g id=\"edge85\" class=\"edge\">\n<title>140215205263008&#45;&gt;140215205070304</title>\n<path fill=\"none\" stroke=\"black\" d=\"M1188.69,-1983.3C1202.41,-1972.64 1225.84,-1954.43 1242.19,-1941.73\"/>\n</g>\n<!-- 140215205077584 -->\n<g id=\"node88\" class=\"node\">\n<title>140215205077584</title>\n<polygon fill=\"orange\" stroke=\"black\" points=\"1394,-1941.5 1335,-1941.5 1335,-1911.5 1394,-1911.5 1394,-1941.5\"/>\n<text text-anchor=\"middle\" x=\"1364.5\" y=\"-1929.5\" font-family=\"monospace\" font-size=\"10.00\">result1</text>\n<text text-anchor=\"middle\" x=\"1364.5\" y=\"-1918.5\" font-family=\"monospace\" font-size=\"10.00\"> (1, 1)</text>\n</g>\n<!-- 140215205263008&#45;&gt;140215205077584 -->\n<g id=\"edge86\" class=\"edge\">\n<title>140215205263008&#45;&gt;140215205077584</title>\n<path fill=\"none\" stroke=\"black\" d=\"M1203.99,-1983.47C1233.87,-1973.77 1283.86,-1957.28 1326.5,-1942 1329.16,-1941.05 1331.91,-1940.04 1334.67,-1939.01\"/>\n</g>\n<!-- 140215205078384 -->\n<g id=\"node89\" class=\"node\">\n<title>140215205078384</title>\n<polygon fill=\"orange\" stroke=\"black\" points=\"1471,-1941.5 1412,-1941.5 1412,-1911.5 1471,-1911.5 1471,-1941.5\"/>\n<text text-anchor=\"middle\" x=\"1441.5\" y=\"-1929.5\" font-family=\"monospace\" font-size=\"10.00\">result2</text>\n<text text-anchor=\"middle\" x=\"1441.5\" y=\"-1918.5\" font-family=\"monospace\" font-size=\"10.00\"> (1, 1)</text>\n</g>\n<!-- 140215205263008&#45;&gt;140215205078384 -->\n<g id=\"edge87\" class=\"edge\">\n<title>140215205263008&#45;&gt;140215205078384</title>\n<path fill=\"none\" stroke=\"black\" d=\"M1225.64,-1983.48C1271.76,-1974.81 1343.06,-1960.11 1403.5,-1942 1406.21,-1941.19 1408.99,-1940.28 1411.77,-1939.32\"/>\n</g>\n<!-- 140215205068944 -->\n<g id=\"node90\" class=\"node\">\n<title>140215205068944</title>\n<polygon fill=\"lightblue\" stroke=\"black\" points=\"1147.5,-1942 1093.5,-1942 1093.5,-1911 1147.5,-1911 1147.5,-1942\"/>\n<text text-anchor=\"middle\" x=\"1120.5\" y=\"-1918\" font-family=\"monospace\" font-size=\"10.00\"> (16)</text>\n</g>\n<!-- 140215205263008&#45;&gt;140215205068944 -->\n<g id=\"edge88\" class=\"edge\">\n<title>140215205263008&#45;&gt;140215205068944</title>\n<path fill=\"none\" stroke=\"black\" d=\"M1169.81,-1983.3C1160.57,-1972.85 1144.92,-1955.14 1133.73,-1942.47\"/>\n</g>\n<!-- 140215205259744 -->\n<g id=\"node129\" class=\"node\">\n<title>140215205259744</title>\n<polygon fill=\"lightgrey\" stroke=\"black\" points=\"1226,-1869 1125,-1869 1125,-1850 1226,-1850 1226,-1869\"/>\n<text text-anchor=\"middle\" x=\"1175.5\" y=\"-1857\" font-family=\"monospace\" font-size=\"10.00\">AccumulateGrad</text>\n</g>\n<!-- 140215205068944&#45;&gt;140215205259744 -->\n<g id=\"edge134\" class=\"edge\">\n<title>140215205068944&#45;&gt;140215205259744</title>\n<path fill=\"none\" stroke=\"black\" d=\"M1132.98,-1910.75C1141.5,-1900.68 1152.79,-1887.34 1161.59,-1876.93\"/>\n<polygon fill=\"black\" stroke=\"black\" points=\"1164.5,-1878.91 1168.29,-1869.02 1159.16,-1874.39 1164.5,-1878.91\"/>\n</g>\n<!-- 140215205260560 -->\n<g id=\"node91\" class=\"node\">\n<title>140215205260560</title>\n<polygon fill=\"lightgrey\" stroke=\"black\" points=\"1358,-2069 1263,-2069 1263,-2050 1358,-2050 1358,-2069\"/>\n<text text-anchor=\"middle\" x=\"1310.5\" y=\"-2057\" font-family=\"monospace\" font-size=\"10.00\">ReluBackward0</text>\n</g>\n<!-- 140215205260560&#45;&gt;140215205263008 -->\n<g id=\"edge89\" class=\"edge\">\n<title>140215205260560&#45;&gt;140215205263008</title>\n<path fill=\"none\" stroke=\"black\" d=\"M1292.84,-2049.93C1270.18,-2038.95 1230.67,-2019.79 1204.3,-2007\"/>\n<polygon fill=\"black\" stroke=\"black\" points=\"1205.76,-2003.81 1195.23,-2002.6 1202.7,-2010.11 1205.76,-2003.81\"/>\n</g>\n<!-- 140215205074144 -->\n<g id=\"node92\" class=\"node\">\n<title>140215205074144</title>\n<polygon fill=\"orange\" stroke=\"black\" points=\"1389,-2008 1276,-2008 1276,-1978 1389,-1978 1389,-2008\"/>\n<text text-anchor=\"middle\" x=\"1332.5\" y=\"-1996\" font-family=\"monospace\" font-size=\"10.00\">result</text>\n<text text-anchor=\"middle\" x=\"1332.5\" y=\"-1985\" font-family=\"monospace\" font-size=\"10.00\"> (1, 16, 16, 16)</text>\n</g>\n<!-- 140215205260560&#45;&gt;140215205074144 -->\n<g id=\"edge90\" class=\"edge\">\n<title>140215205260560&#45;&gt;140215205074144</title>\n<path fill=\"none\" stroke=\"black\" d=\"M1313.47,-2049.8C1317.08,-2039.21 1323.23,-2021.17 1327.56,-2008.47\"/>\n</g>\n<!-- 140215205261424 -->\n<g id=\"node93\" class=\"node\">\n<title>140215205261424</title>\n<polygon fill=\"lightgrey\" stroke=\"black\" points=\"1616,-2136 1479,-2136 1479,-2117 1616,-2117 1616,-2136\"/>\n<text text-anchor=\"middle\" x=\"1547.5\" y=\"-2124\" font-family=\"monospace\" font-size=\"10.00\">ConvolutionBackward0</text>\n</g>\n<!-- 140215205261424&#45;&gt;140215205260560 -->\n<g id=\"edge91\" class=\"edge\">\n<title>140215205261424&#45;&gt;140215205260560</title>\n<path fill=\"none\" stroke=\"black\" d=\"M1516.03,-2116.87C1473.68,-2105.25 1398.28,-2084.58 1351.53,-2071.75\"/>\n<polygon fill=\"black\" stroke=\"black\" points=\"1352.29,-2068.33 1341.72,-2069.06 1350.44,-2075.08 1352.29,-2068.33\"/>\n</g>\n<!-- 140215205070384 -->\n<g id=\"node94\" class=\"node\">\n<title>140215205070384</title>\n<polygon fill=\"orange\" stroke=\"black\" points=\"1483,-2074.5 1376,-2074.5 1376,-2044.5 1483,-2044.5 1483,-2074.5\"/>\n<text text-anchor=\"middle\" x=\"1429.5\" y=\"-2062.5\" font-family=\"monospace\" font-size=\"10.00\">input</text>\n<text text-anchor=\"middle\" x=\"1429.5\" y=\"-2051.5\" font-family=\"monospace\" font-size=\"10.00\"> (1, 8, 34, 34)</text>\n</g>\n<!-- 140215205261424&#45;&gt;140215205070384 -->\n<g id=\"edge92\" class=\"edge\">\n<title>140215205261424&#45;&gt;140215205070384</title>\n<path fill=\"none\" stroke=\"black\" d=\"M1531.59,-2116.73C1511.96,-2105.92 1478.34,-2087.41 1455.08,-2074.59\"/>\n</g>\n<!-- 140215205073184 -->\n<g id=\"node95\" class=\"node\">\n<title>140215205073184</title>\n<polygon fill=\"lightblue\" stroke=\"black\" points=\"1602,-2075 1501,-2075 1501,-2044 1602,-2044 1602,-2075\"/>\n<text text-anchor=\"middle\" x=\"1551.5\" y=\"-2051\" font-family=\"monospace\" font-size=\"10.00\"> (16, 8, 3, 3)</text>\n</g>\n<!-- 140215205261424&#45;&gt;140215205073184 -->\n<g id=\"edge93\" class=\"edge\">\n<title>140215205261424&#45;&gt;140215205073184</title>\n<path fill=\"none\" stroke=\"black\" d=\"M1548.04,-2116.73C1548.7,-2106.06 1549.82,-2087.88 1550.6,-2075.08\"/>\n</g>\n<!-- 140215205261088 -->\n<g id=\"node128\" class=\"node\">\n<title>140215205261088</title>\n<polygon fill=\"lightgrey\" stroke=\"black\" points=\"1641,-2002.5 1540,-2002.5 1540,-1983.5 1641,-1983.5 1641,-2002.5\"/>\n<text text-anchor=\"middle\" x=\"1590.5\" y=\"-1990.5\" font-family=\"monospace\" font-size=\"10.00\">AccumulateGrad</text>\n</g>\n<!-- 140215205073184&#45;&gt;140215205261088 -->\n<g id=\"edge132\" class=\"edge\">\n<title>140215205073184&#45;&gt;140215205261088</title>\n<path fill=\"none\" stroke=\"black\" d=\"M1560.35,-2043.86C1566.14,-2034.29 1573.74,-2021.72 1579.86,-2011.6\"/>\n<polygon fill=\"black\" stroke=\"black\" points=\"1582.99,-2013.19 1585.17,-2002.82 1577,-2009.57 1582.99,-2013.19\"/>\n</g>\n<!-- 140215205264112 -->\n<g id=\"node96\" class=\"node\">\n<title>140215205264112</title>\n<polygon fill=\"lightgrey\" stroke=\"black\" points=\"1523,-2203 1386,-2203 1386,-2184 1523,-2184 1523,-2203\"/>\n<text text-anchor=\"middle\" x=\"1454.5\" y=\"-2191\" font-family=\"monospace\" font-size=\"10.00\">ConvolutionBackward0</text>\n</g>\n<!-- 140215205264112&#45;&gt;140215205261424 -->\n<g id=\"edge94\" class=\"edge\">\n<title>140215205264112&#45;&gt;140215205261424</title>\n<path fill=\"none\" stroke=\"black\" d=\"M1467.04,-2183.73C1482.38,-2173.01 1508.56,-2154.72 1526.88,-2141.91\"/>\n<polygon fill=\"black\" stroke=\"black\" points=\"1528.96,-2144.72 1535.16,-2136.13 1524.95,-2138.99 1528.96,-2144.72\"/>\n</g>\n<!-- 140215205070224 -->\n<g id=\"node97\" class=\"node\">\n<title>140215205070224</title>\n<polygon fill=\"orange\" stroke=\"black\" points=\"1461,-2141.5 1354,-2141.5 1354,-2111.5 1461,-2111.5 1461,-2141.5\"/>\n<text text-anchor=\"middle\" x=\"1407.5\" y=\"-2129.5\" font-family=\"monospace\" font-size=\"10.00\">input</text>\n<text text-anchor=\"middle\" x=\"1407.5\" y=\"-2118.5\" font-family=\"monospace\" font-size=\"10.00\"> (1, 8, 32, 32)</text>\n</g>\n<!-- 140215205264112&#45;&gt;140215205070224 -->\n<g id=\"edge95\" class=\"edge\">\n<title>140215205264112&#45;&gt;140215205070224</title>\n<path fill=\"none\" stroke=\"black\" d=\"M1448.16,-2183.73C1440.34,-2172.92 1426.95,-2154.41 1417.69,-2141.59\"/>\n</g>\n<!-- 140215205073904 -->\n<g id=\"node98\" class=\"node\">\n<title>140215205073904</title>\n<polygon fill=\"lightblue\" stroke=\"black\" points=\"1768,-2142 1673,-2142 1673,-2111 1768,-2111 1768,-2142\"/>\n<text text-anchor=\"middle\" x=\"1720.5\" y=\"-2118\" font-family=\"monospace\" font-size=\"10.00\"> (8, 8, 1, 1)</text>\n</g>\n<!-- 140215205264112&#45;&gt;140215205073904 -->\n<g id=\"edge96\" class=\"edge\">\n<title>140215205264112&#45;&gt;140215205073904</title>\n<path fill=\"none\" stroke=\"black\" d=\"M1489.55,-2183.94C1536.53,-2172.46 1620.09,-2152.04 1672.78,-2139.16\"/>\n</g>\n<!-- 140215205263824 -->\n<g id=\"node127\" class=\"node\">\n<title>140215205263824</title>\n<polygon fill=\"lightgrey\" stroke=\"black\" points=\"1764,-2069 1663,-2069 1663,-2050 1764,-2050 1764,-2069\"/>\n<text text-anchor=\"middle\" x=\"1713.5\" y=\"-2057\" font-family=\"monospace\" font-size=\"10.00\">AccumulateGrad</text>\n</g>\n<!-- 140215205073904&#45;&gt;140215205263824 -->\n<g id=\"edge130\" class=\"edge\">\n<title>140215205073904&#45;&gt;140215205263824</title>\n<path fill=\"none\" stroke=\"black\" d=\"M1718.91,-2110.75C1717.9,-2101.39 1716.59,-2089.19 1715.51,-2079.16\"/>\n<polygon fill=\"black\" stroke=\"black\" points=\"1718.97,-2078.59 1714.42,-2069.02 1712.01,-2079.34 1718.97,-2078.59\"/>\n</g>\n<!-- 140215205263488 -->\n<g id=\"node99\" class=\"node\">\n<title>140215205263488</title>\n<polygon fill=\"lightgrey\" stroke=\"black\" points=\"1422,-2269.5 1261,-2269.5 1261,-2250.5 1422,-2250.5 1422,-2269.5\"/>\n<text text-anchor=\"middle\" x=\"1341.5\" y=\"-2257.5\" font-family=\"monospace\" font-size=\"10.00\">NativeGroupNormBackward0</text>\n</g>\n<!-- 140215205263488&#45;&gt;140215205264112 -->\n<g id=\"edge97\" class=\"edge\">\n<title>140215205263488&#45;&gt;140215205264112</title>\n<path fill=\"none\" stroke=\"black\" d=\"M1356.74,-2250.3C1375.72,-2239.47 1408.35,-2220.84 1430.65,-2208.12\"/>\n<polygon fill=\"black\" stroke=\"black\" points=\"1432.55,-2211.06 1439.5,-2203.06 1429.08,-2204.98 1432.55,-2211.06\"/>\n</g>\n<!-- 140215205070064 -->\n<g id=\"node100\" class=\"node\">\n<title>140215205070064</title>\n<polygon fill=\"orange\" stroke=\"black\" points=\"1648,-2208.5 1541,-2208.5 1541,-2178.5 1648,-2178.5 1648,-2208.5\"/>\n<text text-anchor=\"middle\" x=\"1594.5\" y=\"-2196.5\" font-family=\"monospace\" font-size=\"10.00\">input</text>\n<text text-anchor=\"middle\" x=\"1594.5\" y=\"-2185.5\" font-family=\"monospace\" font-size=\"10.00\"> (1, 8, 32, 32)</text>\n</g>\n<!-- 140215205263488&#45;&gt;140215205070064 -->\n<g id=\"edge98\" class=\"edge\">\n<title>140215205263488&#45;&gt;140215205070064</title>\n<path fill=\"none\" stroke=\"black\" d=\"M1375.1,-2250.43C1417.44,-2239.64 1490.73,-2220.96 1540.86,-2208.18\"/>\n</g>\n<!-- 140215205078464 -->\n<g id=\"node101\" class=\"node\">\n<title>140215205078464</title>\n<polygon fill=\"orange\" stroke=\"black\" points=\"1725,-2208.5 1666,-2208.5 1666,-2178.5 1725,-2178.5 1725,-2208.5\"/>\n<text text-anchor=\"middle\" x=\"1695.5\" y=\"-2196.5\" font-family=\"monospace\" font-size=\"10.00\">result1</text>\n<text text-anchor=\"middle\" x=\"1695.5\" y=\"-2185.5\" font-family=\"monospace\" font-size=\"10.00\"> (1, 1)</text>\n</g>\n<!-- 140215205263488&#45;&gt;140215205078464 -->\n<g id=\"edge99\" class=\"edge\">\n<title>140215205263488&#45;&gt;140215205078464</title>\n<path fill=\"none\" stroke=\"black\" d=\"M1399.67,-2250.46C1484.08,-2237.98 1633.12,-2215.51 1657.5,-2209 1660.23,-2208.27 1663.03,-2207.42 1665.82,-2206.49\"/>\n</g>\n<!-- 140215205072224 -->\n<g id=\"node102\" class=\"node\">\n<title>140215205072224</title>\n<polygon fill=\"orange\" stroke=\"black\" points=\"1257,-2208.5 1198,-2208.5 1198,-2178.5 1257,-2178.5 1257,-2208.5\"/>\n<text text-anchor=\"middle\" x=\"1227.5\" y=\"-2196.5\" font-family=\"monospace\" font-size=\"10.00\">result2</text>\n<text text-anchor=\"middle\" x=\"1227.5\" y=\"-2185.5\" font-family=\"monospace\" font-size=\"10.00\"> (1, 1)</text>\n</g>\n<!-- 140215205263488&#45;&gt;140215205072224 -->\n<g id=\"edge100\" class=\"edge\">\n<title>140215205263488&#45;&gt;140215205072224</title>\n<path fill=\"none\" stroke=\"black\" d=\"M1326.13,-2250.3C1307.29,-2239.64 1275.1,-2221.43 1252.64,-2208.73\"/>\n</g>\n<!-- 140215205079024 -->\n<g id=\"node103\" class=\"node\">\n<title>140215205079024</title>\n<polygon fill=\"lightblue\" stroke=\"black\" points=\"1367.5,-2209 1313.5,-2209 1313.5,-2178 1367.5,-2178 1367.5,-2209\"/>\n<text text-anchor=\"middle\" x=\"1340.5\" y=\"-2185\" font-family=\"monospace\" font-size=\"10.00\"> (8)</text>\n</g>\n<!-- 140215205263488&#45;&gt;140215205079024 -->\n<g id=\"edge101\" class=\"edge\">\n<title>140215205263488&#45;&gt;140215205079024</title>\n<path fill=\"none\" stroke=\"black\" d=\"M1341.37,-2250.3C1341.2,-2239.85 1340.93,-2222.14 1340.73,-2209.47\"/>\n</g>\n<!-- 140215205262288 -->\n<g id=\"node124\" class=\"node\">\n<title>140215205262288</title>\n<polygon fill=\"lightgrey\" stroke=\"black\" points=\"1336,-2136 1235,-2136 1235,-2117 1336,-2117 1336,-2136\"/>\n<text text-anchor=\"middle\" x=\"1285.5\" y=\"-2124\" font-family=\"monospace\" font-size=\"10.00\">AccumulateGrad</text>\n</g>\n<!-- 140215205079024&#45;&gt;140215205262288 -->\n<g id=\"edge126\" class=\"edge\">\n<title>140215205079024&#45;&gt;140215205262288</title>\n<path fill=\"none\" stroke=\"black\" d=\"M1328.02,-2177.75C1319.5,-2167.68 1308.21,-2154.34 1299.41,-2143.93\"/>\n<polygon fill=\"black\" stroke=\"black\" points=\"1301.84,-2141.39 1292.71,-2136.02 1296.5,-2145.91 1301.84,-2141.39\"/>\n</g>\n<!-- 140215205262432 -->\n<g id=\"node104\" class=\"node\">\n<title>140215205262432</title>\n<polygon fill=\"lightgrey\" stroke=\"black\" points=\"1547,-2336 1452,-2336 1452,-2317 1547,-2317 1547,-2336\"/>\n<text text-anchor=\"middle\" x=\"1499.5\" y=\"-2324\" font-family=\"monospace\" font-size=\"10.00\">ReluBackward0</text>\n</g>\n<!-- 140215205262432&#45;&gt;140215205263488 -->\n<g id=\"edge102\" class=\"edge\">\n<title>140215205262432&#45;&gt;140215205263488</title>\n<path fill=\"none\" stroke=\"black\" d=\"M1478.52,-2316.93C1451.25,-2305.8 1403.43,-2286.28 1372.11,-2273.5\"/>\n<polygon fill=\"black\" stroke=\"black\" points=\"1373.15,-2270.14 1362.57,-2269.6 1370.5,-2276.62 1373.15,-2270.14\"/>\n</g>\n<!-- 140215205083104 -->\n<g id=\"node105\" class=\"node\">\n<title>140215205083104</title>\n<polygon fill=\"orange\" stroke=\"black\" points=\"1553,-2275 1446,-2275 1446,-2245 1553,-2245 1553,-2275\"/>\n<text text-anchor=\"middle\" x=\"1499.5\" y=\"-2263\" font-family=\"monospace\" font-size=\"10.00\">result</text>\n<text text-anchor=\"middle\" x=\"1499.5\" y=\"-2252\" font-family=\"monospace\" font-size=\"10.00\"> (1, 8, 32, 32)</text>\n</g>\n<!-- 140215205262432&#45;&gt;140215205083104 -->\n<g id=\"edge103\" class=\"edge\">\n<title>140215205262432&#45;&gt;140215205083104</title>\n<path fill=\"none\" stroke=\"black\" d=\"M1499.5,-2316.8C1499.5,-2306.21 1499.5,-2288.17 1499.5,-2275.47\"/>\n</g>\n<!-- 140215205262672 -->\n<g id=\"node106\" class=\"node\">\n<title>140215205262672</title>\n<polygon fill=\"lightgrey\" stroke=\"black\" points=\"1638,-2403 1501,-2403 1501,-2384 1638,-2384 1638,-2403\"/>\n<text text-anchor=\"middle\" x=\"1569.5\" y=\"-2391\" font-family=\"monospace\" font-size=\"10.00\">ConvolutionBackward0</text>\n</g>\n<!-- 140215205262672&#45;&gt;140215205262432 -->\n<g id=\"edge104\" class=\"edge\">\n<title>140215205262672&#45;&gt;140215205262432</title>\n<path fill=\"none\" stroke=\"black\" d=\"M1560.06,-2383.73C1548.83,-2373.31 1529.88,-2355.71 1516.16,-2342.97\"/>\n<polygon fill=\"black\" stroke=\"black\" points=\"1518.5,-2340.37 1508.79,-2336.13 1513.74,-2345.5 1518.5,-2340.37\"/>\n</g>\n<!-- 140215205070944 -->\n<g id=\"node107\" class=\"node\">\n<title>140215205070944</title>\n<polygon fill=\"orange\" stroke=\"black\" points=\"1672,-2341.5 1565,-2341.5 1565,-2311.5 1672,-2311.5 1672,-2341.5\"/>\n<text text-anchor=\"middle\" x=\"1618.5\" y=\"-2329.5\" font-family=\"monospace\" font-size=\"10.00\">input</text>\n<text text-anchor=\"middle\" x=\"1618.5\" y=\"-2318.5\" font-family=\"monospace\" font-size=\"10.00\"> (1, 8, 32, 32)</text>\n</g>\n<!-- 140215205262672&#45;&gt;140215205070944 -->\n<g id=\"edge105\" class=\"edge\">\n<title>140215205262672&#45;&gt;140215205070944</title>\n<path fill=\"none\" stroke=\"black\" d=\"M1576.11,-2383.73C1584.26,-2372.92 1598.22,-2354.41 1607.88,-2341.59\"/>\n</g>\n<!-- 140215205079824 -->\n<g id=\"node108\" class=\"node\">\n<title>140215205079824</title>\n<polygon fill=\"lightblue\" stroke=\"black\" points=\"1785,-2342 1690,-2342 1690,-2311 1785,-2311 1785,-2342\"/>\n<text text-anchor=\"middle\" x=\"1737.5\" y=\"-2318\" font-family=\"monospace\" font-size=\"10.00\"> (8, 8, 3, 3)</text>\n</g>\n<!-- 140215205262672&#45;&gt;140215205079824 -->\n<g id=\"edge106\" class=\"edge\">\n<title>140215205262672&#45;&gt;140215205079824</title>\n<path fill=\"none\" stroke=\"black\" d=\"M1591.81,-2383.87C1619.39,-2373.2 1666.74,-2354.88 1699.96,-2342.02\"/>\n</g>\n<!-- 140215205262624 -->\n<g id=\"node123\" class=\"node\">\n<title>140215205262624</title>\n<polygon fill=\"lightgrey\" stroke=\"black\" points=\"1826,-2269.5 1725,-2269.5 1725,-2250.5 1826,-2250.5 1826,-2269.5\"/>\n<text text-anchor=\"middle\" x=\"1775.5\" y=\"-2257.5\" font-family=\"monospace\" font-size=\"10.00\">AccumulateGrad</text>\n</g>\n<!-- 140215205079824&#45;&gt;140215205262624 -->\n<g id=\"edge124\" class=\"edge\">\n<title>140215205079824&#45;&gt;140215205262624</title>\n<path fill=\"none\" stroke=\"black\" d=\"M1746.12,-2310.86C1751.76,-2301.29 1759.17,-2288.72 1765.13,-2278.6\"/>\n<polygon fill=\"black\" stroke=\"black\" points=\"1768.24,-2280.22 1770.3,-2269.82 1762.21,-2276.66 1768.24,-2280.22\"/>\n</g>\n<!-- 140215205262816 -->\n<g id=\"node109\" class=\"node\">\n<title>140215205262816</title>\n<polygon fill=\"lightgrey\" stroke=\"black\" points=\"1536,-2469.5 1375,-2469.5 1375,-2450.5 1536,-2450.5 1536,-2469.5\"/>\n<text text-anchor=\"middle\" x=\"1455.5\" y=\"-2457.5\" font-family=\"monospace\" font-size=\"10.00\">NativeGroupNormBackward0</text>\n</g>\n<!-- 140215205262816&#45;&gt;140215205262672 -->\n<g id=\"edge107\" class=\"edge\">\n<title>140215205262816&#45;&gt;140215205262672</title>\n<path fill=\"none\" stroke=\"black\" d=\"M1470.87,-2450.3C1490.02,-2439.47 1522.94,-2420.84 1545.44,-2408.12\"/>\n<polygon fill=\"black\" stroke=\"black\" points=\"1547.39,-2411.03 1554.37,-2403.06 1543.94,-2404.94 1547.39,-2411.03\"/>\n</g>\n<!-- 140215205070464 -->\n<g id=\"node110\" class=\"node\">\n<title>140215205070464</title>\n<polygon fill=\"orange\" stroke=\"black\" points=\"1763,-2408.5 1656,-2408.5 1656,-2378.5 1763,-2378.5 1763,-2408.5\"/>\n<text text-anchor=\"middle\" x=\"1709.5\" y=\"-2396.5\" font-family=\"monospace\" font-size=\"10.00\">input</text>\n<text text-anchor=\"middle\" x=\"1709.5\" y=\"-2385.5\" font-family=\"monospace\" font-size=\"10.00\"> (1, 8, 32, 32)</text>\n</g>\n<!-- 140215205262816&#45;&gt;140215205070464 -->\n<g id=\"edge108\" class=\"edge\">\n<title>140215205262816&#45;&gt;140215205070464</title>\n<path fill=\"none\" stroke=\"black\" d=\"M1489.23,-2450.43C1531.74,-2439.64 1605.32,-2420.96 1655.64,-2408.18\"/>\n</g>\n<!-- 140215205084544 -->\n<g id=\"node111\" class=\"node\">\n<title>140215205084544</title>\n<polygon fill=\"orange\" stroke=\"black\" points=\"1840,-2408.5 1781,-2408.5 1781,-2378.5 1840,-2378.5 1840,-2408.5\"/>\n<text text-anchor=\"middle\" x=\"1810.5\" y=\"-2396.5\" font-family=\"monospace\" font-size=\"10.00\">result1</text>\n<text text-anchor=\"middle\" x=\"1810.5\" y=\"-2385.5\" font-family=\"monospace\" font-size=\"10.00\"> (1, 1)</text>\n</g>\n<!-- 140215205262816&#45;&gt;140215205084544 -->\n<g id=\"edge109\" class=\"edge\">\n<title>140215205262816&#45;&gt;140215205084544</title>\n<path fill=\"none\" stroke=\"black\" d=\"M1510.05,-2450.47C1599.86,-2436.41 1769.34,-2409.84 1772.5,-2409 1775.23,-2408.27 1778.03,-2407.42 1780.82,-2406.49\"/>\n</g>\n<!-- 140215205083344 -->\n<g id=\"node112\" class=\"node\">\n<title>140215205083344</title>\n<polygon fill=\"orange\" stroke=\"black\" points=\"1372,-2408.5 1313,-2408.5 1313,-2378.5 1372,-2378.5 1372,-2408.5\"/>\n<text text-anchor=\"middle\" x=\"1342.5\" y=\"-2396.5\" font-family=\"monospace\" font-size=\"10.00\">result2</text>\n<text text-anchor=\"middle\" x=\"1342.5\" y=\"-2385.5\" font-family=\"monospace\" font-size=\"10.00\"> (1, 1)</text>\n</g>\n<!-- 140215205262816&#45;&gt;140215205083344 -->\n<g id=\"edge110\" class=\"edge\">\n<title>140215205262816&#45;&gt;140215205083344</title>\n<path fill=\"none\" stroke=\"black\" d=\"M1440.26,-2450.3C1421.59,-2439.64 1389.69,-2421.43 1367.42,-2408.73\"/>\n</g>\n<!-- 140215217085216 -->\n<g id=\"node113\" class=\"node\">\n<title>140215217085216</title>\n<polygon fill=\"lightblue\" stroke=\"black\" points=\"1482.5,-2409 1428.5,-2409 1428.5,-2378 1482.5,-2378 1482.5,-2409\"/>\n<text text-anchor=\"middle\" x=\"1455.5\" y=\"-2385\" font-family=\"monospace\" font-size=\"10.00\"> (8)</text>\n</g>\n<!-- 140215205262816&#45;&gt;140215217085216 -->\n<g id=\"edge111\" class=\"edge\">\n<title>140215205262816&#45;&gt;140215217085216</title>\n<path fill=\"none\" stroke=\"black\" d=\"M1455.5,-2450.3C1455.5,-2439.85 1455.5,-2422.14 1455.5,-2409.47\"/>\n</g>\n<!-- 140215205261904 -->\n<g id=\"node120\" class=\"node\">\n<title>140215205261904</title>\n<polygon fill=\"lightgrey\" stroke=\"black\" points=\"1434,-2336 1333,-2336 1333,-2317 1434,-2317 1434,-2336\"/>\n<text text-anchor=\"middle\" x=\"1383.5\" y=\"-2324\" font-family=\"monospace\" font-size=\"10.00\">AccumulateGrad</text>\n</g>\n<!-- 140215217085216&#45;&gt;140215205261904 -->\n<g id=\"edge120\" class=\"edge\">\n<title>140215217085216&#45;&gt;140215205261904</title>\n<path fill=\"none\" stroke=\"black\" d=\"M1439.16,-2377.75C1427.68,-2367.38 1412.34,-2353.54 1400.67,-2343\"/>\n<polygon fill=\"black\" stroke=\"black\" points=\"1402.7,-2340.12 1392.94,-2336.02 1398.01,-2345.32 1402.7,-2340.12\"/>\n</g>\n<!-- 140215205261856 -->\n<g id=\"node114\" class=\"node\">\n<title>140215205261856</title>\n<polygon fill=\"lightgrey\" stroke=\"black\" points=\"1625,-2536 1530,-2536 1530,-2517 1625,-2517 1625,-2536\"/>\n<text text-anchor=\"middle\" x=\"1577.5\" y=\"-2524\" font-family=\"monospace\" font-size=\"10.00\">ReluBackward0</text>\n</g>\n<!-- 140215205261856&#45;&gt;140215205262816 -->\n<g id=\"edge112\" class=\"edge\">\n<title>140215205261856&#45;&gt;140215205262816</title>\n<path fill=\"none\" stroke=\"black\" d=\"M1561.3,-2516.93C1540.7,-2506.04 1504.91,-2487.12 1480.72,-2474.34\"/>\n<polygon fill=\"black\" stroke=\"black\" points=\"1482.24,-2471.18 1471.77,-2469.6 1478.97,-2477.37 1482.24,-2471.18\"/>\n</g>\n<!-- 140215205082624 -->\n<g id=\"node115\" class=\"node\">\n<title>140215205082624</title>\n<polygon fill=\"orange\" stroke=\"black\" points=\"1661,-2475 1554,-2475 1554,-2445 1661,-2445 1661,-2475\"/>\n<text text-anchor=\"middle\" x=\"1607.5\" y=\"-2463\" font-family=\"monospace\" font-size=\"10.00\">result</text>\n<text text-anchor=\"middle\" x=\"1607.5\" y=\"-2452\" font-family=\"monospace\" font-size=\"10.00\"> (1, 8, 32, 32)</text>\n</g>\n<!-- 140215205261856&#45;&gt;140215205082624 -->\n<g id=\"edge113\" class=\"edge\">\n<title>140215205261856&#45;&gt;140215205082624</title>\n<path fill=\"none\" stroke=\"black\" d=\"M1581.55,-2516.8C1586.47,-2506.21 1594.86,-2488.17 1600.77,-2475.47\"/>\n</g>\n<!-- 140215205261184 -->\n<g id=\"node116\" class=\"node\">\n<title>140215205261184</title>\n<polygon fill=\"lightgrey\" stroke=\"black\" points=\"1684,-2603 1547,-2603 1547,-2584 1684,-2584 1684,-2603\"/>\n<text text-anchor=\"middle\" x=\"1615.5\" y=\"-2591\" font-family=\"monospace\" font-size=\"10.00\">ConvolutionBackward0</text>\n</g>\n<!-- 140215205261184&#45;&gt;140215205261856 -->\n<g id=\"edge114\" class=\"edge\">\n<title>140215205261184&#45;&gt;140215205261856</title>\n<path fill=\"none\" stroke=\"black\" d=\"M1610.38,-2583.73C1604.56,-2573.79 1594.94,-2557.34 1587.61,-2544.79\"/>\n<polygon fill=\"black\" stroke=\"black\" points=\"1590.61,-2542.99 1582.54,-2536.13 1584.57,-2546.53 1590.61,-2542.99\"/>\n</g>\n<!-- 140215205071024 -->\n<g id=\"node117\" class=\"node\">\n<title>140215205071024</title>\n<polygon fill=\"orange\" stroke=\"black\" points=\"1390,-2541.5 1283,-2541.5 1283,-2511.5 1390,-2511.5 1390,-2541.5\"/>\n<text text-anchor=\"middle\" x=\"1336.5\" y=\"-2529.5\" font-family=\"monospace\" font-size=\"10.00\">input</text>\n<text text-anchor=\"middle\" x=\"1336.5\" y=\"-2518.5\" font-family=\"monospace\" font-size=\"10.00\"> (1, 3, 32, 32)</text>\n</g>\n<!-- 140215205261184&#45;&gt;140215205071024 -->\n<g id=\"edge115\" class=\"edge\">\n<title>140215205261184&#45;&gt;140215205071024</title>\n<path fill=\"none\" stroke=\"black\" d=\"M1578.74,-2583.94C1530.5,-2572.7 1445.48,-2552.89 1390.08,-2539.98\"/>\n</g>\n<!-- 140215205081184 -->\n<g id=\"node118\" class=\"node\">\n<title>140215205081184</title>\n<polygon fill=\"lightblue\" stroke=\"black\" points=\"1777,-2542 1682,-2542 1682,-2511 1777,-2511 1777,-2542\"/>\n<text text-anchor=\"middle\" x=\"1729.5\" y=\"-2518\" font-family=\"monospace\" font-size=\"10.00\"> (8, 3, 3, 3)</text>\n</g>\n<!-- 140215205261184&#45;&gt;140215205081184 -->\n<g id=\"edge116\" class=\"edge\">\n<title>140215205261184&#45;&gt;140215205081184</title>\n<path fill=\"none\" stroke=\"black\" d=\"M1630.87,-2583.73C1649.59,-2573.06 1681.48,-2554.88 1703.92,-2542.08\"/>\n</g>\n<!-- 140215205260464 -->\n<g id=\"node119\" class=\"node\">\n<title>140215205260464</title>\n<polygon fill=\"lightgrey\" stroke=\"black\" points=\"1780,-2469.5 1679,-2469.5 1679,-2450.5 1780,-2450.5 1780,-2469.5\"/>\n<text text-anchor=\"middle\" x=\"1729.5\" y=\"-2457.5\" font-family=\"monospace\" font-size=\"10.00\">AccumulateGrad</text>\n</g>\n<!-- 140215205081184&#45;&gt;140215205260464 -->\n<g id=\"edge118\" class=\"edge\">\n<title>140215205081184&#45;&gt;140215205260464</title>\n<path fill=\"none\" stroke=\"black\" d=\"M1729.5,-2510.86C1729.5,-2501.68 1729.5,-2489.75 1729.5,-2479.86\"/>\n<polygon fill=\"black\" stroke=\"black\" points=\"1733,-2479.82 1729.5,-2469.82 1726,-2479.82 1733,-2479.82\"/>\n</g>\n<!-- 140215205260464&#45;&gt;140215205261184 -->\n<g id=\"edge117\" class=\"edge\">\n<title>140215205260464&#45;&gt;140215205261184</title>\n<path fill=\"none\" stroke=\"black\" d=\"M1718.53,-2469.56C1706.73,-2479.03 1687.76,-2495.08 1673.5,-2511 1655.1,-2531.55 1637.21,-2557.97 1626.27,-2575.07\"/>\n<polygon fill=\"black\" stroke=\"black\" points=\"1623.05,-2573.62 1620.69,-2583.94 1628.98,-2577.34 1623.05,-2573.62\"/>\n</g>\n<!-- 140215205261904&#45;&gt;140215205262816 -->\n<g id=\"edge119\" class=\"edge\">\n<title>140215205261904&#45;&gt;140215205262816</title>\n<path fill=\"none\" stroke=\"black\" d=\"M1386.71,-2336.35C1392.41,-2351.64 1405.05,-2383.76 1419.5,-2409 1426.11,-2420.54 1434.78,-2432.66 1441.96,-2442.07\"/>\n<polygon fill=\"black\" stroke=\"black\" points=\"1439.36,-2444.43 1448.27,-2450.17 1444.88,-2440.13 1439.36,-2444.43\"/>\n</g>\n<!-- 140215205262768 -->\n<g id=\"node121\" class=\"node\">\n<title>140215205262768</title>\n<polygon fill=\"lightgrey\" stroke=\"black\" points=\"1509,-2536 1408,-2536 1408,-2517 1509,-2517 1509,-2536\"/>\n<text text-anchor=\"middle\" x=\"1458.5\" y=\"-2524\" font-family=\"monospace\" font-size=\"10.00\">AccumulateGrad</text>\n</g>\n<!-- 140215205262768&#45;&gt;140215205262816 -->\n<g id=\"edge121\" class=\"edge\">\n<title>140215205262768&#45;&gt;140215205262816</title>\n<path fill=\"none\" stroke=\"black\" d=\"M1458.1,-2516.8C1457.65,-2507.32 1456.94,-2491.88 1456.37,-2479.64\"/>\n<polygon fill=\"black\" stroke=\"black\" points=\"1459.86,-2479.39 1455.9,-2469.56 1452.87,-2479.71 1459.86,-2479.39\"/>\n</g>\n<!-- 140215204723936 -->\n<g id=\"node122\" class=\"node\">\n<title>140215204723936</title>\n<polygon fill=\"lightblue\" stroke=\"black\" points=\"1485.5,-2609 1431.5,-2609 1431.5,-2578 1485.5,-2578 1485.5,-2609\"/>\n<text text-anchor=\"middle\" x=\"1458.5\" y=\"-2585\" font-family=\"monospace\" font-size=\"10.00\"> (8)</text>\n</g>\n<!-- 140215204723936&#45;&gt;140215205262768 -->\n<g id=\"edge122\" class=\"edge\">\n<title>140215204723936&#45;&gt;140215205262768</title>\n<path fill=\"none\" stroke=\"black\" d=\"M1458.5,-2577.75C1458.5,-2568.39 1458.5,-2556.19 1458.5,-2546.16\"/>\n<polygon fill=\"black\" stroke=\"black\" points=\"1462,-2546.02 1458.5,-2536.02 1455,-2546.02 1462,-2546.02\"/>\n</g>\n<!-- 140215205262624&#45;&gt;140215205262672 -->\n<g id=\"edge123\" class=\"edge\">\n<title>140215205262624&#45;&gt;140215205262672</title>\n<path fill=\"none\" stroke=\"black\" d=\"M1781.72,-2269.6C1792.48,-2285.61 1811.83,-2320.35 1794.5,-2342 1789.11,-2348.73 1689.07,-2369.27 1624.22,-2381.99\"/>\n<polygon fill=\"black\" stroke=\"black\" points=\"1623.28,-2378.61 1614.13,-2383.96 1624.62,-2385.48 1623.28,-2378.61\"/>\n</g>\n<!-- 140215205262288&#45;&gt;140215205263488 -->\n<g id=\"edge125\" class=\"edge\">\n<title>140215205262288&#45;&gt;140215205263488</title>\n<path fill=\"none\" stroke=\"black\" d=\"M1286.38,-2136.45C1288.16,-2151.88 1293.04,-2184.21 1304.5,-2209 1310.19,-2221.31 1319.2,-2233.57 1326.9,-2242.87\"/>\n<polygon fill=\"black\" stroke=\"black\" points=\"1324.3,-2245.21 1333.48,-2250.5 1329.6,-2240.64 1324.3,-2245.21\"/>\n</g>\n<!-- 140215205264400 -->\n<g id=\"node125\" class=\"node\">\n<title>140215205264400</title>\n<polygon fill=\"lightgrey\" stroke=\"black\" points=\"1315,-2336 1214,-2336 1214,-2317 1315,-2317 1315,-2336\"/>\n<text text-anchor=\"middle\" x=\"1264.5\" y=\"-2324\" font-family=\"monospace\" font-size=\"10.00\">AccumulateGrad</text>\n</g>\n<!-- 140215205264400&#45;&gt;140215205263488 -->\n<g id=\"edge127\" class=\"edge\">\n<title>140215205264400&#45;&gt;140215205263488</title>\n<path fill=\"none\" stroke=\"black\" d=\"M1274.88,-2316.8C1287.35,-2306.36 1308.47,-2288.66 1323.59,-2276\"/>\n<polygon fill=\"black\" stroke=\"black\" points=\"1325.86,-2278.67 1331.28,-2269.56 1321.37,-2273.3 1325.86,-2278.67\"/>\n</g>\n<!-- 140215205082784 -->\n<g id=\"node126\" class=\"node\">\n<title>140215205082784</title>\n<polygon fill=\"lightblue\" stroke=\"black\" points=\"1291.5,-2409 1237.5,-2409 1237.5,-2378 1291.5,-2378 1291.5,-2409\"/>\n<text text-anchor=\"middle\" x=\"1264.5\" y=\"-2385\" font-family=\"monospace\" font-size=\"10.00\"> (8)</text>\n</g>\n<!-- 140215205082784&#45;&gt;140215205264400 -->\n<g id=\"edge128\" class=\"edge\">\n<title>140215205082784&#45;&gt;140215205264400</title>\n<path fill=\"none\" stroke=\"black\" d=\"M1264.5,-2377.75C1264.5,-2368.39 1264.5,-2356.19 1264.5,-2346.16\"/>\n<polygon fill=\"black\" stroke=\"black\" points=\"1268,-2346.02 1264.5,-2336.02 1261,-2346.02 1268,-2346.02\"/>\n</g>\n<!-- 140215205263824&#45;&gt;140215205264112 -->\n<g id=\"edge129\" class=\"edge\">\n<title>140215205263824&#45;&gt;140215205264112</title>\n<path fill=\"none\" stroke=\"black\" d=\"M1705.31,-2069.02C1687.13,-2087.75 1643.6,-2131.71 1625.5,-2142 1591.21,-2161.5 1548.69,-2174.1 1514.63,-2181.84\"/>\n<polygon fill=\"black\" stroke=\"black\" points=\"1513.83,-2178.43 1504.81,-2183.99 1515.33,-2185.27 1513.83,-2178.43\"/>\n</g>\n<!-- 140215205261088&#45;&gt;140215205261424 -->\n<g id=\"edge131\" class=\"edge\">\n<title>140215205261088&#45;&gt;140215205261424</title>\n<path fill=\"none\" stroke=\"black\" d=\"M1596.68,-2002.91C1606.5,-2018.26 1623.41,-2050.42 1611.5,-2075 1603.8,-2090.88 1588.42,-2103.27 1574.67,-2111.8\"/>\n<polygon fill=\"black\" stroke=\"black\" points=\"1572.85,-2108.81 1565.96,-2116.85 1576.37,-2114.86 1572.85,-2108.81\"/>\n</g>\n<!-- 140215205259744&#45;&gt;140215205263008 -->\n<g id=\"edge133\" class=\"edge\">\n<title>140215205259744&#45;&gt;140215205263008</title>\n<path fill=\"none\" stroke=\"black\" d=\"M1175.63,-1869.33C1175.96,-1890.44 1176.77,-1944.17 1177.21,-1973.02\"/>\n<polygon fill=\"black\" stroke=\"black\" points=\"1173.72,-1973.43 1177.37,-1983.37 1180.72,-1973.32 1173.72,-1973.43\"/>\n</g>\n<!-- 140215205259696 -->\n<g id=\"node130\" class=\"node\">\n<title>140215205259696</title>\n<polygon fill=\"lightgrey\" stroke=\"black\" points=\"1228,-2069 1127,-2069 1127,-2050 1228,-2050 1228,-2069\"/>\n<text text-anchor=\"middle\" x=\"1177.5\" y=\"-2057\" font-family=\"monospace\" font-size=\"10.00\">AccumulateGrad</text>\n</g>\n<!-- 140215205259696&#45;&gt;140215205263008 -->\n<g id=\"edge135\" class=\"edge\">\n<title>140215205259696&#45;&gt;140215205263008</title>\n<path fill=\"none\" stroke=\"black\" d=\"M1177.5,-2049.8C1177.5,-2040.32 1177.5,-2024.88 1177.5,-2012.64\"/>\n<polygon fill=\"black\" stroke=\"black\" points=\"1181,-2012.56 1177.5,-2002.56 1174,-2012.56 1181,-2012.56\"/>\n</g>\n<!-- 140215205079264 -->\n<g id=\"node131\" class=\"node\">\n<title>140215205079264</title>\n<polygon fill=\"lightblue\" stroke=\"black\" points=\"1204.5,-2142 1150.5,-2142 1150.5,-2111 1204.5,-2111 1204.5,-2142\"/>\n<text text-anchor=\"middle\" x=\"1177.5\" y=\"-2118\" font-family=\"monospace\" font-size=\"10.00\"> (16)</text>\n</g>\n<!-- 140215205079264&#45;&gt;140215205259696 -->\n<g id=\"edge136\" class=\"edge\">\n<title>140215205079264&#45;&gt;140215205259696</title>\n<path fill=\"none\" stroke=\"black\" d=\"M1177.5,-2110.75C1177.5,-2101.39 1177.5,-2089.19 1177.5,-2079.16\"/>\n<polygon fill=\"black\" stroke=\"black\" points=\"1181,-2079.02 1177.5,-2069.02 1174,-2079.02 1181,-2079.02\"/>\n</g>\n<!-- 140215205264448 -->\n<g id=\"node132\" class=\"node\">\n<title>140215205264448</title>\n<polygon fill=\"lightgrey\" stroke=\"black\" points=\"1005,-2469.5 844,-2469.5 844,-2450.5 1005,-2450.5 1005,-2469.5\"/>\n<text text-anchor=\"middle\" x=\"924.5\" y=\"-2457.5\" font-family=\"monospace\" font-size=\"10.00\">NativeGroupNormBackward0</text>\n</g>\n<!-- 140215205264448&#45;&gt;140215205262240 -->\n<g id=\"edge137\" class=\"edge\">\n<title>140215205264448&#45;&gt;140215205262240</title>\n<path fill=\"none\" stroke=\"black\" d=\"M928.97,-2450.34C939.22,-2429.67 963.5,-2375.6 963.5,-2327.5 963.5,-2327.5 963.5,-2327.5 963.5,-2058.5 963.5,-2018.46 963.5,-1971.54 963.5,-1946.14\"/>\n<polygon fill=\"black\" stroke=\"black\" points=\"967,-1946.08 963.5,-1936.08 960,-1946.08 967,-1946.08\"/>\n</g>\n<!-- 140215205069344 -->\n<g id=\"node133\" class=\"node\">\n<title>140215205069344</title>\n<polygon fill=\"orange\" stroke=\"black\" points=\"1105,-2408.5 992,-2408.5 992,-2378.5 1105,-2378.5 1105,-2408.5\"/>\n<text text-anchor=\"middle\" x=\"1048.5\" y=\"-2396.5\" font-family=\"monospace\" font-size=\"10.00\">input</text>\n<text text-anchor=\"middle\" x=\"1048.5\" y=\"-2385.5\" font-family=\"monospace\" font-size=\"10.00\"> (1, 16, 16, 16)</text>\n</g>\n<!-- 140215205264448&#45;&gt;140215205069344 -->\n<g id=\"edge138\" class=\"edge\">\n<title>140215205264448&#45;&gt;140215205069344</title>\n<path fill=\"none\" stroke=\"black\" d=\"M940.97,-2450.43C961.52,-2439.74 996.96,-2421.31 1021.5,-2408.54\"/>\n</g>\n<!-- 140215205082704 -->\n<g id=\"node134\" class=\"node\">\n<title>140215205082704</title>\n<polygon fill=\"orange\" stroke=\"black\" points=\"748,-2408.5 689,-2408.5 689,-2378.5 748,-2378.5 748,-2408.5\"/>\n<text text-anchor=\"middle\" x=\"718.5\" y=\"-2396.5\" font-family=\"monospace\" font-size=\"10.00\">result1</text>\n<text text-anchor=\"middle\" x=\"718.5\" y=\"-2385.5\" font-family=\"monospace\" font-size=\"10.00\"> (1, 1)</text>\n</g>\n<!-- 140215205264448&#45;&gt;140215205082704 -->\n<g id=\"edge139\" class=\"edge\">\n<title>140215205264448&#45;&gt;140215205082704</title>\n<path fill=\"none\" stroke=\"black\" d=\"M893.32,-2450.48C859.42,-2441.04 803.76,-2425.03 756.5,-2409 753.83,-2408.09 751.06,-2407.12 748.29,-2406.11\"/>\n</g>\n<!-- 140215205080064 -->\n<g id=\"node135\" class=\"node\">\n<title>140215205080064</title>\n<polygon fill=\"orange\" stroke=\"black\" points=\"825,-2408.5 766,-2408.5 766,-2378.5 825,-2378.5 825,-2408.5\"/>\n<text text-anchor=\"middle\" x=\"795.5\" y=\"-2396.5\" font-family=\"monospace\" font-size=\"10.00\">result2</text>\n<text text-anchor=\"middle\" x=\"795.5\" y=\"-2385.5\" font-family=\"monospace\" font-size=\"10.00\"> (1, 1)</text>\n</g>\n<!-- 140215205264448&#45;&gt;140215205080064 -->\n<g id=\"edge140\" class=\"edge\">\n<title>140215205264448&#45;&gt;140215205080064</title>\n<path fill=\"none\" stroke=\"black\" d=\"M907.37,-2450.43C885.99,-2439.74 849.12,-2421.31 823.59,-2408.54\"/>\n</g>\n<!-- 140215205073504 -->\n<g id=\"node136\" class=\"node\">\n<title>140215205073504</title>\n<polygon fill=\"lightblue\" stroke=\"black\" points=\"897.5,-2409 843.5,-2409 843.5,-2378 897.5,-2378 897.5,-2409\"/>\n<text text-anchor=\"middle\" x=\"870.5\" y=\"-2385\" font-family=\"monospace\" font-size=\"10.00\"> (16)</text>\n</g>\n<!-- 140215205264448&#45;&gt;140215205073504 -->\n<g id=\"edge141\" class=\"edge\">\n<title>140215205264448&#45;&gt;140215205073504</title>\n<path fill=\"none\" stroke=\"black\" d=\"M917.22,-2450.3C908.47,-2439.85 893.64,-2422.14 883.03,-2409.47\"/>\n</g>\n<!-- 140215205261376 -->\n<g id=\"node142\" class=\"node\">\n<title>140215205261376</title>\n<polygon fill=\"lightgrey\" stroke=\"black\" points=\"928,-2336 827,-2336 827,-2317 928,-2317 928,-2336\"/>\n<text text-anchor=\"middle\" x=\"877.5\" y=\"-2324\" font-family=\"monospace\" font-size=\"10.00\">AccumulateGrad</text>\n</g>\n<!-- 140215205073504&#45;&gt;140215205261376 -->\n<g id=\"edge150\" class=\"edge\">\n<title>140215205073504&#45;&gt;140215205261376</title>\n<path fill=\"none\" stroke=\"black\" d=\"M872.09,-2377.75C873.1,-2368.39 874.41,-2356.19 875.49,-2346.16\"/>\n<polygon fill=\"black\" stroke=\"black\" points=\"878.99,-2346.34 876.58,-2336.02 872.03,-2345.59 878.99,-2346.34\"/>\n</g>\n<!-- 140215205260656 -->\n<g id=\"node137\" class=\"node\">\n<title>140215205260656</title>\n<polygon fill=\"lightgrey\" stroke=\"black\" points=\"1107,-2536 1012,-2536 1012,-2517 1107,-2517 1107,-2536\"/>\n<text text-anchor=\"middle\" x=\"1059.5\" y=\"-2524\" font-family=\"monospace\" font-size=\"10.00\">ReluBackward0</text>\n</g>\n<!-- 140215205260656&#45;&gt;140215205264448 -->\n<g id=\"edge142\" class=\"edge\">\n<title>140215205260656&#45;&gt;140215205264448</title>\n<path fill=\"none\" stroke=\"black\" d=\"M1041.57,-2516.93C1018.58,-2505.95 978.47,-2486.79 951.7,-2474\"/>\n<polygon fill=\"black\" stroke=\"black\" points=\"953.03,-2470.75 942.5,-2469.6 950.02,-2477.07 953.03,-2470.75\"/>\n</g>\n<!-- 140215205080944 -->\n<g id=\"node138\" class=\"node\">\n<title>140215205080944</title>\n<polygon fill=\"orange\" stroke=\"black\" points=\"1136,-2475 1023,-2475 1023,-2445 1136,-2445 1136,-2475\"/>\n<text text-anchor=\"middle\" x=\"1079.5\" y=\"-2463\" font-family=\"monospace\" font-size=\"10.00\">result</text>\n<text text-anchor=\"middle\" x=\"1079.5\" y=\"-2452\" font-family=\"monospace\" font-size=\"10.00\"> (1, 16, 16, 16)</text>\n</g>\n<!-- 140215205260656&#45;&gt;140215205080944 -->\n<g id=\"edge143\" class=\"edge\">\n<title>140215205260656&#45;&gt;140215205080944</title>\n<path fill=\"none\" stroke=\"black\" d=\"M1062.2,-2516.8C1065.48,-2506.21 1071.08,-2488.17 1075.01,-2475.47\"/>\n</g>\n<!-- 140215205263344 -->\n<g id=\"node139\" class=\"node\">\n<title>140215205263344</title>\n<polygon fill=\"lightgrey\" stroke=\"black\" points=\"1283,-2603 1146,-2603 1146,-2584 1283,-2584 1283,-2603\"/>\n<text text-anchor=\"middle\" x=\"1214.5\" y=\"-2591\" font-family=\"monospace\" font-size=\"10.00\">ConvolutionBackward0</text>\n</g>\n<!-- 140215205263344&#45;&gt;140215205071024 -->\n<g id=\"edge145\" class=\"edge\">\n<title>140215205263344&#45;&gt;140215205071024</title>\n<path fill=\"none\" stroke=\"black\" d=\"M1230.7,-2583.87C1250.92,-2573.09 1285.79,-2554.52 1309.94,-2541.65\"/>\n</g>\n<!-- 140215205263344&#45;&gt;140215205260656 -->\n<g id=\"edge144\" class=\"edge\">\n<title>140215205263344&#45;&gt;140215205260656</title>\n<path fill=\"none\" stroke=\"black\" d=\"M1193.92,-2583.87C1167.17,-2572.65 1120.25,-2552.98 1089.53,-2540.09\"/>\n<polygon fill=\"black\" stroke=\"black\" points=\"1090.74,-2536.81 1080.17,-2536.17 1088.04,-2543.26 1090.74,-2536.81\"/>\n</g>\n<!-- 140215205073424 -->\n<g id=\"node140\" class=\"node\">\n<title>140215205073424</title>\n<polygon fill=\"lightblue\" stroke=\"black\" points=\"1226,-2542 1125,-2542 1125,-2511 1226,-2511 1226,-2542\"/>\n<text text-anchor=\"middle\" x=\"1175.5\" y=\"-2518\" font-family=\"monospace\" font-size=\"10.00\"> (16, 3, 3, 3)</text>\n</g>\n<!-- 140215205263344&#45;&gt;140215205073424 -->\n<g id=\"edge146\" class=\"edge\">\n<title>140215205263344&#45;&gt;140215205073424</title>\n<path fill=\"none\" stroke=\"black\" d=\"M1209.24,-2583.73C1202.84,-2573.06 1191.93,-2554.88 1184.25,-2542.08\"/>\n</g>\n<!-- 140215205261232 -->\n<g id=\"node141\" class=\"node\">\n<title>140215205261232</title>\n<polygon fill=\"lightgrey\" stroke=\"black\" points=\"1280,-2469.5 1179,-2469.5 1179,-2450.5 1280,-2450.5 1280,-2469.5\"/>\n<text text-anchor=\"middle\" x=\"1229.5\" y=\"-2457.5\" font-family=\"monospace\" font-size=\"10.00\">AccumulateGrad</text>\n</g>\n<!-- 140215205073424&#45;&gt;140215205261232 -->\n<g id=\"edge148\" class=\"edge\">\n<title>140215205073424&#45;&gt;140215205261232</title>\n<path fill=\"none\" stroke=\"black\" d=\"M1187.75,-2510.86C1196.02,-2500.99 1206.94,-2487.94 1215.55,-2477.67\"/>\n<polygon fill=\"black\" stroke=\"black\" points=\"1218.38,-2479.74 1222.11,-2469.82 1213.01,-2475.24 1218.38,-2479.74\"/>\n</g>\n<!-- 140215205261232&#45;&gt;140215205263344 -->\n<g id=\"edge147\" class=\"edge\">\n<title>140215205261232&#45;&gt;140215205263344</title>\n<path fill=\"none\" stroke=\"black\" d=\"M1231.64,-2469.61C1235.02,-2484.51 1240.69,-2516 1235.5,-2542 1233.23,-2553.35 1228.36,-2565.34 1223.88,-2574.79\"/>\n<polygon fill=\"black\" stroke=\"black\" points=\"1220.67,-2573.39 1219.32,-2583.9 1226.93,-2576.53 1220.67,-2573.39\"/>\n</g>\n<!-- 140215205261376&#45;&gt;140215205264448 -->\n<g id=\"edge149\" class=\"edge\">\n<title>140215205261376&#45;&gt;140215205264448</title>\n<path fill=\"none\" stroke=\"black\" d=\"M883.48,-2336.03C890.04,-2345.76 900.43,-2362.35 906.5,-2378 914.46,-2398.52 919.33,-2423.39 921.96,-2440.11\"/>\n<polygon fill=\"black\" stroke=\"black\" points=\"918.53,-2440.85 923.44,-2450.24 925.46,-2439.84 918.53,-2440.85\"/>\n</g>\n<!-- 140215205260608 -->\n<g id=\"node143\" class=\"node\">\n<title>140215205260608</title>\n<polygon fill=\"lightgrey\" stroke=\"black\" points=\"975,-2536 874,-2536 874,-2517 975,-2517 975,-2536\"/>\n<text text-anchor=\"middle\" x=\"924.5\" y=\"-2524\" font-family=\"monospace\" font-size=\"10.00\">AccumulateGrad</text>\n</g>\n<!-- 140215205260608&#45;&gt;140215205264448 -->\n<g id=\"edge151\" class=\"edge\">\n<title>140215205260608&#45;&gt;140215205264448</title>\n<path fill=\"none\" stroke=\"black\" d=\"M924.5,-2516.8C924.5,-2507.32 924.5,-2491.88 924.5,-2479.64\"/>\n<polygon fill=\"black\" stroke=\"black\" points=\"928,-2479.56 924.5,-2469.56 921,-2479.56 928,-2479.56\"/>\n</g>\n<!-- 140215205081744 -->\n<g id=\"node144\" class=\"node\">\n<title>140215205081744</title>\n<polygon fill=\"lightblue\" stroke=\"black\" points=\"951.5,-2609 897.5,-2609 897.5,-2578 951.5,-2578 951.5,-2609\"/>\n<text text-anchor=\"middle\" x=\"924.5\" y=\"-2585\" font-family=\"monospace\" font-size=\"10.00\"> (16)</text>\n</g>\n<!-- 140215205081744&#45;&gt;140215205260608 -->\n<g id=\"edge152\" class=\"edge\">\n<title>140215205081744&#45;&gt;140215205260608</title>\n<path fill=\"none\" stroke=\"black\" d=\"M924.5,-2577.75C924.5,-2568.39 924.5,-2556.19 924.5,-2546.16\"/>\n<polygon fill=\"black\" stroke=\"black\" points=\"928,-2546.02 924.5,-2536.02 921,-2546.02 928,-2546.02\"/>\n</g>\n<!-- 140215205263056&#45;&gt;140215205263920 -->\n<g id=\"edge153\" class=\"edge\">\n<title>140215205263056&#45;&gt;140215205263920</title>\n<path fill=\"none\" stroke=\"black\" d=\"M648.33,-1735.59C633.21,-1743.84 612.73,-1757.89 603.5,-1777 597.51,-1789.41 597.54,-1795.58 603.5,-1808 611.04,-1823.71 626.11,-1836.07 639.63,-1844.63\"/>\n<polygon fill=\"black\" stroke=\"black\" points=\"638.23,-1847.87 648.62,-1849.94 641.79,-1841.84 638.23,-1847.87\"/>\n</g>\n<!-- 140215205261808&#45;&gt;140215205263632 -->\n<g id=\"edge155\" class=\"edge\">\n<title>140215205261808&#45;&gt;140215205263632</title>\n<path fill=\"none\" stroke=\"black\" d=\"M380.9,-1602.33C381.87,-1623.44 384.32,-1677.17 385.63,-1706.02\"/>\n<polygon fill=\"black\" stroke=\"black\" points=\"382.15,-1706.54 386.11,-1716.37 389.15,-1706.22 382.15,-1706.54\"/>\n</g>\n<!-- 140215205262048 -->\n<g id=\"node147\" class=\"node\">\n<title>140215205262048</title>\n<polygon fill=\"lightgrey\" stroke=\"black\" points=\"437,-1802 336,-1802 336,-1783 437,-1783 437,-1802\"/>\n<text text-anchor=\"middle\" x=\"386.5\" y=\"-1790\" font-family=\"monospace\" font-size=\"10.00\">AccumulateGrad</text>\n</g>\n<!-- 140215205262048&#45;&gt;140215205263632 -->\n<g id=\"edge157\" class=\"edge\">\n<title>140215205262048&#45;&gt;140215205263632</title>\n<path fill=\"none\" stroke=\"black\" d=\"M386.5,-1782.8C386.5,-1773.32 386.5,-1757.88 386.5,-1745.64\"/>\n<polygon fill=\"black\" stroke=\"black\" points=\"390,-1745.56 386.5,-1735.56 383,-1745.56 390,-1745.56\"/>\n</g>\n<!-- 140215205079104 -->\n<g id=\"node148\" class=\"node\">\n<title>140215205079104</title>\n<polygon fill=\"lightblue\" stroke=\"black\" points=\"413.5,-1875 359.5,-1875 359.5,-1844 413.5,-1844 413.5,-1875\"/>\n<text text-anchor=\"middle\" x=\"386.5\" y=\"-1851\" font-family=\"monospace\" font-size=\"10.00\"> (16)</text>\n</g>\n<!-- 140215205079104&#45;&gt;140215205262048 -->\n<g id=\"edge158\" class=\"edge\">\n<title>140215205079104&#45;&gt;140215205262048</title>\n<path fill=\"none\" stroke=\"black\" d=\"M386.5,-1843.75C386.5,-1834.39 386.5,-1822.19 386.5,-1812.16\"/>\n<polygon fill=\"black\" stroke=\"black\" points=\"390,-1812.02 386.5,-1802.02 383,-1812.02 390,-1812.02\"/>\n</g>\n<!-- 140215205258976&#45;&gt;140215205259312 -->\n<g id=\"edge159\" class=\"edge\">\n<title>140215205258976&#45;&gt;140215205259312</title>\n<path fill=\"none\" stroke=\"black\" d=\"M718.91,-1535.53C673.13,-1544.36 609.59,-1559.31 591.5,-1577 574.59,-1593.54 569.05,-1621.19 567.27,-1639.64\"/>\n<polygon fill=\"black\" stroke=\"black\" points=\"563.77,-1639.54 566.59,-1649.75 570.76,-1640.01 563.77,-1639.54\"/>\n</g>\n<!-- 140215205259504&#45;&gt;140215205258784 -->\n<g id=\"edge161\" class=\"edge\">\n<title>140215205259504&#45;&gt;140215205258784</title>\n<path fill=\"none\" stroke=\"black\" d=\"M618.98,-1399.64C545.94,-1409.03 418.07,-1427.6 404.5,-1444 385.05,-1467.5 419.64,-1495.08 445.66,-1511.24\"/>\n<polygon fill=\"black\" stroke=\"black\" points=\"444.02,-1514.34 454.4,-1516.45 447.61,-1508.33 444.02,-1514.34\"/>\n</g>\n<!-- 140215205258928 -->\n<g id=\"node151\" class=\"node\">\n<title>140215205258928</title>\n<polygon fill=\"lightgrey\" stroke=\"black\" points=\"270,-1602 169,-1602 169,-1583 270,-1583 270,-1602\"/>\n<text text-anchor=\"middle\" x=\"219.5\" y=\"-1590\" font-family=\"monospace\" font-size=\"10.00\">AccumulateGrad</text>\n</g>\n<!-- 140215205258928&#45;&gt;140215205258784 -->\n<g id=\"edge163\" class=\"edge\">\n<title>140215205258928&#45;&gt;140215205258784</title>\n<path fill=\"none\" stroke=\"black\" d=\"M252.83,-1582.93C297.74,-1571.39 377.76,-1550.83 427.26,-1538.11\"/>\n<polygon fill=\"black\" stroke=\"black\" points=\"428.22,-1541.48 437.03,-1535.6 426.47,-1534.7 428.22,-1541.48\"/>\n</g>\n<!-- 140215205084464 -->\n<g id=\"node152\" class=\"node\">\n<title>140215205084464</title>\n<polygon fill=\"lightblue\" stroke=\"black\" points=\"203.5,-1675 149.5,-1675 149.5,-1644 203.5,-1644 203.5,-1675\"/>\n<text text-anchor=\"middle\" x=\"176.5\" y=\"-1651\" font-family=\"monospace\" font-size=\"10.00\"> (16)</text>\n</g>\n<!-- 140215205084464&#45;&gt;140215205258928 -->\n<g id=\"edge164\" class=\"edge\">\n<title>140215205084464&#45;&gt;140215205258928</title>\n<path fill=\"none\" stroke=\"black\" d=\"M186.26,-1643.75C192.78,-1633.89 201.39,-1620.87 208.21,-1610.56\"/>\n<polygon fill=\"black\" stroke=\"black\" points=\"211.27,-1612.29 213.86,-1602.02 205.43,-1608.43 211.27,-1612.29\"/>\n</g>\n<!-- 140215205258544&#45;&gt;140215205258496 -->\n<g id=\"edge165\" class=\"edge\">\n<title>140215205258544&#45;&gt;140215205258496</title>\n<path fill=\"none\" stroke=\"black\" d=\"M99.83,-1335.58C109.61,-1350.98 131.53,-1383.95 154.5,-1408 167.12,-1421.21 183.15,-1434.19 195.75,-1443.68\"/>\n<polygon fill=\"black\" stroke=\"black\" points=\"193.72,-1446.53 203.84,-1449.65 197.88,-1440.9 193.72,-1446.53\"/>\n</g>\n<!-- 140215227192592&#45;&gt;140215227201520 -->\n<g id=\"edge167\" class=\"edge\">\n<title>140215227192592&#45;&gt;140215227201520</title>\n<path fill=\"none\" stroke=\"black\" d=\"M483.5,-1202.33C483.5,-1223.44 483.5,-1277.17 483.5,-1306.02\"/>\n<polygon fill=\"black\" stroke=\"black\" points=\"480,-1306.37 483.5,-1316.37 487,-1306.37 480,-1306.37\"/>\n</g>\n<!-- 140215227201616 -->\n<g id=\"node155\" class=\"node\">\n<title>140215227201616</title>\n<polygon fill=\"lightgrey\" stroke=\"black\" points=\"528,-1402 427,-1402 427,-1383 528,-1383 528,-1402\"/>\n<text text-anchor=\"middle\" x=\"477.5\" y=\"-1390\" font-family=\"monospace\" font-size=\"10.00\">AccumulateGrad</text>\n</g>\n<!-- 140215227201616&#45;&gt;140215227201520 -->\n<g id=\"edge169\" class=\"edge\">\n<title>140215227201616&#45;&gt;140215227201520</title>\n<path fill=\"none\" stroke=\"black\" d=\"M478.31,-1382.8C479.19,-1373.32 480.63,-1357.88 481.77,-1345.64\"/>\n<polygon fill=\"black\" stroke=\"black\" points=\"485.26,-1345.84 482.7,-1335.56 478.29,-1345.19 485.26,-1345.84\"/>\n</g>\n<!-- 140215205082544 -->\n<g id=\"node156\" class=\"node\">\n<title>140215205082544</title>\n<polygon fill=\"lightblue\" stroke=\"black\" points=\"357.5,-1475 303.5,-1475 303.5,-1444 357.5,-1444 357.5,-1475\"/>\n<text text-anchor=\"middle\" x=\"330.5\" y=\"-1451\" font-family=\"monospace\" font-size=\"10.00\"> (16)</text>\n</g>\n<!-- 140215205082544&#45;&gt;140215227201616 -->\n<g id=\"edge170\" class=\"edge\">\n<title>140215205082544&#45;&gt;140215227201616</title>\n<path fill=\"none\" stroke=\"black\" d=\"M357.81,-1446.43C383.57,-1435.03 422.08,-1418 448.42,-1406.36\"/>\n<polygon fill=\"black\" stroke=\"black\" points=\"450.13,-1409.43 457.86,-1402.18 447.3,-1403.03 450.13,-1409.43\"/>\n</g>\n<!-- 140215227197824&#45;&gt;140215227192448 -->\n<g id=\"edge171\" class=\"edge\">\n<title>140215227197824&#45;&gt;140215227192448</title>\n<path fill=\"none\" stroke=\"black\" d=\"M981.91,-1135.26C963.31,-1154.09 919.53,-1197.53 901.5,-1208 869.22,-1226.75 829.09,-1239.51 797.49,-1247.5\"/>\n<polygon fill=\"black\" stroke=\"black\" points=\"796.43,-1244.16 787.55,-1249.93 798.09,-1250.96 796.43,-1244.16\"/>\n</g>\n<!-- 140215227200512&#45;&gt;140215227193264 -->\n<g id=\"edge173\" class=\"edge\">\n<title>140215227200512&#45;&gt;140215227193264</title>\n<path fill=\"none\" stroke=\"black\" d=\"M502.81,-1068.6C512.56,-1084.03 534.44,-1117.04 557.5,-1141 570.3,-1154.29 586.59,-1167.27 599.4,-1176.74\"/>\n<polygon fill=\"black\" stroke=\"black\" points=\"597.47,-1179.66 607.63,-1182.69 601.58,-1173.99 597.47,-1179.66\"/>\n</g>\n<!-- 140215227199168&#45;&gt;140215227192928 -->\n<g id=\"edge175\" class=\"edge\">\n<title>140215227199168&#45;&gt;140215227192928</title>\n<path fill=\"none\" stroke=\"black\" d=\"M842.38,-935.33C846.89,-956.53 858.42,-1010.65 864.54,-1039.4\"/>\n<polygon fill=\"black\" stroke=\"black\" points=\"861.16,-1040.32 866.66,-1049.37 868,-1038.86 861.16,-1040.32\"/>\n</g>\n<!-- 140215227195472 -->\n<g id=\"node160\" class=\"node\">\n<title>140215227195472</title>\n<polygon fill=\"lightgrey\" stroke=\"black\" points=\"916,-1135 815,-1135 815,-1116 916,-1116 916,-1135\"/>\n<text text-anchor=\"middle\" x=\"865.5\" y=\"-1123\" font-family=\"monospace\" font-size=\"10.00\">AccumulateGrad</text>\n</g>\n<!-- 140215227195472&#45;&gt;140215227192928 -->\n<g id=\"edge177\" class=\"edge\">\n<title>140215227195472&#45;&gt;140215227192928</title>\n<path fill=\"none\" stroke=\"black\" d=\"M865.9,-1115.8C866.35,-1106.32 867.06,-1090.88 867.63,-1078.64\"/>\n<polygon fill=\"black\" stroke=\"black\" points=\"871.13,-1078.71 868.1,-1068.56 864.14,-1078.39 871.13,-1078.71\"/>\n</g>\n<!-- 140215205074304 -->\n<g id=\"node161\" class=\"node\">\n<title>140215205074304</title>\n<polygon fill=\"lightblue\" stroke=\"black\" points=\"761.5,-1208 707.5,-1208 707.5,-1177 761.5,-1177 761.5,-1208\"/>\n<text text-anchor=\"middle\" x=\"734.5\" y=\"-1184\" font-family=\"monospace\" font-size=\"10.00\"> (32)</text>\n</g>\n<!-- 140215205074304&#45;&gt;140215227195472 -->\n<g id=\"edge178\" class=\"edge\">\n<title>140215205074304&#45;&gt;140215227195472</title>\n<path fill=\"none\" stroke=\"black\" d=\"M761.64,-1178.03C784.33,-1166.77 816.5,-1150.81 839.01,-1139.65\"/>\n<polygon fill=\"black\" stroke=\"black\" points=\"840.6,-1142.76 848,-1135.18 837.49,-1136.49 840.6,-1142.76\"/>\n</g>\n<!-- 140215227193024 -->\n<g id=\"node162\" class=\"node\">\n<title>140215227193024</title>\n<polygon fill=\"lightgrey\" stroke=\"black\" points=\"1276,-1735.5 1115,-1735.5 1115,-1716.5 1276,-1716.5 1276,-1735.5\"/>\n<text text-anchor=\"middle\" x=\"1195.5\" y=\"-1723.5\" font-family=\"monospace\" font-size=\"10.00\">NativeGroupNormBackward0</text>\n</g>\n<!-- 140215227193024&#45;&gt;140215227195616 -->\n<g id=\"edge179\" class=\"edge\">\n<title>140215227193024&#45;&gt;140215227195616</title>\n<path fill=\"none\" stroke=\"black\" d=\"M1195.5,-1716.38C1195.5,-1695.38 1195.5,-1639.84 1195.5,-1593.5 1195.5,-1593.5 1195.5,-1593.5 1195.5,-1124.5 1195.5,-1084.04 1186.52,-1037.28 1180.9,-1012.02\"/>\n<polygon fill=\"black\" stroke=\"black\" points=\"1184.26,-1010.98 1178.61,-1002.02 1177.43,-1012.55 1184.26,-1010.98\"/>\n</g>\n<!-- 140215205076944 -->\n<g id=\"node163\" class=\"node\">\n<title>140215205076944</title>\n<polygon fill=\"orange\" stroke=\"black\" points=\"1325,-1674.5 1224,-1674.5 1224,-1644.5 1325,-1644.5 1325,-1674.5\"/>\n<text text-anchor=\"middle\" x=\"1274.5\" y=\"-1662.5\" font-family=\"monospace\" font-size=\"10.00\">input</text>\n<text text-anchor=\"middle\" x=\"1274.5\" y=\"-1651.5\" font-family=\"monospace\" font-size=\"10.00\"> (1, 32, 8, 8)</text>\n</g>\n<!-- 140215227193024&#45;&gt;140215205076944 -->\n<g id=\"edge180\" class=\"edge\">\n<title>140215227193024&#45;&gt;140215205076944</title>\n<path fill=\"none\" stroke=\"black\" d=\"M1206.15,-1716.3C1219.21,-1705.64 1241.51,-1687.43 1257.08,-1674.73\"/>\n</g>\n<!-- 140215205072144 -->\n<g id=\"node164\" class=\"node\">\n<title>140215205072144</title>\n<polygon fill=\"orange\" stroke=\"black\" points=\"1402,-1674.5 1343,-1674.5 1343,-1644.5 1402,-1644.5 1402,-1674.5\"/>\n<text text-anchor=\"middle\" x=\"1372.5\" y=\"-1662.5\" font-family=\"monospace\" font-size=\"10.00\">result1</text>\n<text text-anchor=\"middle\" x=\"1372.5\" y=\"-1651.5\" font-family=\"monospace\" font-size=\"10.00\"> (1, 1)</text>\n</g>\n<!-- 140215227193024&#45;&gt;140215205072144 -->\n<g id=\"edge181\" class=\"edge\">\n<title>140215227193024&#45;&gt;140215205072144</title>\n<path fill=\"none\" stroke=\"black\" d=\"M1219.66,-1716.47C1247.43,-1706.63 1294.34,-1689.88 1334.5,-1675 1337.15,-1674.02 1339.9,-1672.99 1342.65,-1671.95\"/>\n</g>\n<!-- 140215205080224 -->\n<g id=\"node165\" class=\"node\">\n<title>140215205080224</title>\n<polygon fill=\"orange\" stroke=\"black\" points=\"1057,-1674.5 998,-1674.5 998,-1644.5 1057,-1644.5 1057,-1674.5\"/>\n<text text-anchor=\"middle\" x=\"1027.5\" y=\"-1662.5\" font-family=\"monospace\" font-size=\"10.00\">result2</text>\n<text text-anchor=\"middle\" x=\"1027.5\" y=\"-1651.5\" font-family=\"monospace\" font-size=\"10.00\"> (1, 1)</text>\n</g>\n<!-- 140215227193024&#45;&gt;140215205080224 -->\n<g id=\"edge182\" class=\"edge\">\n<title>140215227193024&#45;&gt;140215205080224</title>\n<path fill=\"none\" stroke=\"black\" d=\"M1173.19,-1716.43C1143.38,-1704.99 1090.46,-1684.67 1057.27,-1671.93\"/>\n</g>\n<!-- 140215205083584 -->\n<g id=\"node166\" class=\"node\">\n<title>140215205083584</title>\n<polygon fill=\"lightblue\" stroke=\"black\" points=\"1167.5,-1675 1113.5,-1675 1113.5,-1644 1167.5,-1644 1167.5,-1675\"/>\n<text text-anchor=\"middle\" x=\"1140.5\" y=\"-1651\" font-family=\"monospace\" font-size=\"10.00\"> (32)</text>\n</g>\n<!-- 140215227193024&#45;&gt;140215205083584 -->\n<g id=\"edge183\" class=\"edge\">\n<title>140215227193024&#45;&gt;140215205083584</title>\n<path fill=\"none\" stroke=\"black\" d=\"M1188.08,-1716.3C1179.17,-1705.85 1164.07,-1688.14 1153.27,-1675.47\"/>\n</g>\n<!-- 140215227196912 -->\n<g id=\"node172\" class=\"node\">\n<title>140215227196912</title>\n<polygon fill=\"lightgrey\" stroke=\"black\" points=\"1152,-1602 1051,-1602 1051,-1583 1152,-1583 1152,-1602\"/>\n<text text-anchor=\"middle\" x=\"1101.5\" y=\"-1590\" font-family=\"monospace\" font-size=\"10.00\">AccumulateGrad</text>\n</g>\n<!-- 140215205083584&#45;&gt;140215227196912 -->\n<g id=\"edge193\" class=\"edge\">\n<title>140215205083584&#45;&gt;140215227196912</title>\n<path fill=\"none\" stroke=\"black\" d=\"M1131.65,-1643.75C1125.79,-1633.99 1118.08,-1621.14 1111.93,-1610.88\"/>\n<polygon fill=\"black\" stroke=\"black\" points=\"1114.76,-1608.79 1106.61,-1602.02 1108.75,-1612.39 1114.76,-1608.79\"/>\n</g>\n<!-- 140215227195664 -->\n<g id=\"node167\" class=\"node\">\n<title>140215227195664</title>\n<polygon fill=\"lightgrey\" stroke=\"black\" points=\"1128,-1802 1033,-1802 1033,-1783 1128,-1783 1128,-1802\"/>\n<text text-anchor=\"middle\" x=\"1080.5\" y=\"-1790\" font-family=\"monospace\" font-size=\"10.00\">ReluBackward0</text>\n</g>\n<!-- 140215227195664&#45;&gt;140215227193024 -->\n<g id=\"edge184\" class=\"edge\">\n<title>140215227195664&#45;&gt;140215227193024</title>\n<path fill=\"none\" stroke=\"black\" d=\"M1096.01,-1782.8C1115.32,-1771.97 1148.53,-1753.34 1171.22,-1740.62\"/>\n<polygon fill=\"black\" stroke=\"black\" points=\"1173.23,-1743.51 1180.24,-1735.56 1169.8,-1737.4 1173.23,-1743.51\"/>\n</g>\n<!-- 140215205079984 -->\n<g id=\"node168\" class=\"node\">\n<title>140215205079984</title>\n<polygon fill=\"orange\" stroke=\"black\" points=\"1097,-1741 996,-1741 996,-1711 1097,-1711 1097,-1741\"/>\n<text text-anchor=\"middle\" x=\"1046.5\" y=\"-1729\" font-family=\"monospace\" font-size=\"10.00\">result</text>\n<text text-anchor=\"middle\" x=\"1046.5\" y=\"-1718\" font-family=\"monospace\" font-size=\"10.00\"> (1, 32, 8, 8)</text>\n</g>\n<!-- 140215227195664&#45;&gt;140215205079984 -->\n<g id=\"edge185\" class=\"edge\">\n<title>140215227195664&#45;&gt;140215205079984</title>\n<path fill=\"none\" stroke=\"black\" d=\"M1075.91,-1782.8C1070.33,-1772.21 1060.82,-1754.17 1054.13,-1741.47\"/>\n</g>\n<!-- 140215227199312&#45;&gt;140215205070864 -->\n<g id=\"edge187\" class=\"edge\">\n<title>140215227199312&#45;&gt;140215205070864</title>\n<path fill=\"none\" stroke=\"black\" d=\"M941.06,-1849.87C912.95,-1839.06 864.44,-1820.4 830.97,-1807.53\"/>\n</g>\n<!-- 140215227199312&#45;&gt;140215227195664 -->\n<g id=\"edge186\" class=\"edge\">\n<title>140215227199312&#45;&gt;140215227195664</title>\n<path fill=\"none\" stroke=\"black\" d=\"M979.28,-1849.73C999.01,-1838.77 1033.01,-1819.88 1056.11,-1807.05\"/>\n<polygon fill=\"black\" stroke=\"black\" points=\"1057.93,-1810.04 1064.97,-1802.13 1054.53,-1803.92 1057.93,-1810.04\"/>\n</g>\n<!-- 140215205071904 -->\n<g id=\"node170\" class=\"node\">\n<title>140215205071904</title>\n<polygon fill=\"lightblue\" stroke=\"black\" points=\"976,-1808 869,-1808 869,-1777 976,-1777 976,-1808\"/>\n<text text-anchor=\"middle\" x=\"922.5\" y=\"-1784\" font-family=\"monospace\" font-size=\"10.00\"> (32, 16, 3, 3)</text>\n</g>\n<!-- 140215227199312&#45;&gt;140215205071904 -->\n<g id=\"edge188\" class=\"edge\">\n<title>140215227199312&#45;&gt;140215205071904</title>\n<path fill=\"none\" stroke=\"black\" d=\"M957.97,-1849.73C951.24,-1839.06 939.77,-1820.88 931.7,-1808.08\"/>\n</g>\n<!-- 140215205259264 -->\n<g id=\"node171\" class=\"node\">\n<title>140215205259264</title>\n<polygon fill=\"lightgrey\" stroke=\"black\" points=\"975,-1735.5 874,-1735.5 874,-1716.5 975,-1716.5 975,-1735.5\"/>\n<text text-anchor=\"middle\" x=\"924.5\" y=\"-1723.5\" font-family=\"monospace\" font-size=\"10.00\">AccumulateGrad</text>\n</g>\n<!-- 140215205071904&#45;&gt;140215205259264 -->\n<g id=\"edge191\" class=\"edge\">\n<title>140215205071904&#45;&gt;140215205259264</title>\n<path fill=\"none\" stroke=\"black\" d=\"M922.95,-1776.86C923.24,-1767.68 923.61,-1755.75 923.92,-1745.86\"/>\n<polygon fill=\"black\" stroke=\"black\" points=\"927.41,-1745.93 924.23,-1735.82 920.42,-1745.71 927.41,-1745.93\"/>\n</g>\n<!-- 140215205259264&#45;&gt;140215227199312 -->\n<g id=\"edge190\" class=\"edge\">\n<title>140215205259264&#45;&gt;140215227199312</title>\n<path fill=\"none\" stroke=\"black\" d=\"M941.55,-1735.65C955.99,-1744.02 975.7,-1758.21 984.5,-1777 994.24,-1797.79 984.11,-1823.77 974.83,-1840.73\"/>\n<polygon fill=\"black\" stroke=\"black\" points=\"971.68,-1839.18 969.62,-1849.57 977.72,-1842.73 971.68,-1839.18\"/>\n</g>\n<!-- 140215227196912&#45;&gt;140215227193024 -->\n<g id=\"edge192\" class=\"edge\">\n<title>140215227196912&#45;&gt;140215227193024</title>\n<path fill=\"none\" stroke=\"black\" d=\"M1099.24,-1602.14C1095.62,-1617.94 1090.31,-1651.98 1104.5,-1675 1115.62,-1693.03 1135.71,-1705.04 1154.18,-1712.76\"/>\n<polygon fill=\"black\" stroke=\"black\" points=\"1153.05,-1716.08 1163.64,-1716.42 1155.58,-1709.55 1153.05,-1716.08\"/>\n</g>\n<!-- 140215227195424 -->\n<g id=\"node173\" class=\"node\">\n<title>140215227195424</title>\n<polygon fill=\"lightgrey\" stroke=\"black\" points=\"1247,-1802 1146,-1802 1146,-1783 1247,-1783 1247,-1802\"/>\n<text text-anchor=\"middle\" x=\"1196.5\" y=\"-1790\" font-family=\"monospace\" font-size=\"10.00\">AccumulateGrad</text>\n</g>\n<!-- 140215227195424&#45;&gt;140215227193024 -->\n<g id=\"edge194\" class=\"edge\">\n<title>140215227195424&#45;&gt;140215227193024</title>\n<path fill=\"none\" stroke=\"black\" d=\"M1196.37,-1782.8C1196.22,-1773.32 1195.98,-1757.88 1195.79,-1745.64\"/>\n<polygon fill=\"black\" stroke=\"black\" points=\"1199.29,-1745.51 1195.63,-1735.56 1192.29,-1745.61 1199.29,-1745.51\"/>\n</g>\n<!-- 140215205072624 -->\n<g id=\"node174\" class=\"node\">\n<title>140215205072624</title>\n<polygon fill=\"lightblue\" stroke=\"black\" points=\"1106.5,-1875 1052.5,-1875 1052.5,-1844 1106.5,-1844 1106.5,-1875\"/>\n<text text-anchor=\"middle\" x=\"1079.5\" y=\"-1851\" font-family=\"monospace\" font-size=\"10.00\"> (32)</text>\n</g>\n<!-- 140215205072624&#45;&gt;140215227195424 -->\n<g id=\"edge195\" class=\"edge\">\n<title>140215205072624&#45;&gt;140215227195424</title>\n<path fill=\"none\" stroke=\"black\" d=\"M1105.76,-1843.91C1125.67,-1832.85 1152.84,-1817.75 1172.25,-1806.97\"/>\n<polygon fill=\"black\" stroke=\"black\" points=\"1174.05,-1809.98 1181.09,-1802.06 1170.65,-1803.86 1174.05,-1809.98\"/>\n</g>\n<!-- 140215227199024&#45;&gt;140215227202432 -->\n<g id=\"edge196\" class=\"edge\">\n<title>140215227199024&#45;&gt;140215227202432</title>\n<path fill=\"none\" stroke=\"black\" d=\"M1373.36,-801.69C1368.78,-811.54 1361.4,-828.16 1356.5,-843 1349.52,-864.13 1343.75,-889.06 1340.23,-905.73\"/>\n<polygon fill=\"black\" stroke=\"black\" points=\"1336.74,-905.31 1338.16,-915.81 1343.6,-906.71 1336.74,-905.31\"/>\n</g>\n<!-- 140215227199648&#45;&gt;140215227198256 -->\n<g id=\"edge198\" class=\"edge\">\n<title>140215227199648&#45;&gt;140215227198256</title>\n<path fill=\"none\" stroke=\"black\" d=\"M2161.03,-668.17C2168.77,-684.32 2182.16,-719.33 2165.5,-741 2151.26,-759.52 2097.5,-772.63 2051.1,-780.76\"/>\n<polygon fill=\"black\" stroke=\"black\" points=\"2050.3,-777.35 2041.03,-782.47 2051.47,-784.25 2050.3,-777.35\"/>\n</g>\n<!-- 140215227198640 -->\n<g id=\"node177\" class=\"node\">\n<title>140215227198640</title>\n<polygon fill=\"lightgrey\" stroke=\"black\" points=\"2028,-868 1927,-868 1927,-849 2028,-849 2028,-868\"/>\n<text text-anchor=\"middle\" x=\"1977.5\" y=\"-856\" font-family=\"monospace\" font-size=\"10.00\">AccumulateGrad</text>\n</g>\n<!-- 140215227198640&#45;&gt;140215227198256 -->\n<g id=\"edge200\" class=\"edge\">\n<title>140215227198640&#45;&gt;140215227198256</title>\n<path fill=\"none\" stroke=\"black\" d=\"M1977.5,-848.8C1977.5,-839.32 1977.5,-823.88 1977.5,-811.64\"/>\n<polygon fill=\"black\" stroke=\"black\" points=\"1981,-811.56 1977.5,-801.56 1974,-811.56 1981,-811.56\"/>\n</g>\n<!-- 140215205075024 -->\n<g id=\"node178\" class=\"node\">\n<title>140215205075024</title>\n<polygon fill=\"lightblue\" stroke=\"black\" points=\"2004.5,-941 1950.5,-941 1950.5,-910 2004.5,-910 2004.5,-941\"/>\n<text text-anchor=\"middle\" x=\"1977.5\" y=\"-917\" font-family=\"monospace\" font-size=\"10.00\"> (32)</text>\n</g>\n<!-- 140215205075024&#45;&gt;140215227198640 -->\n<g id=\"edge201\" class=\"edge\">\n<title>140215205075024&#45;&gt;140215227198640</title>\n<path fill=\"none\" stroke=\"black\" d=\"M1977.5,-909.75C1977.5,-900.39 1977.5,-888.19 1977.5,-878.16\"/>\n<polygon fill=\"black\" stroke=\"black\" points=\"1981,-878.02 1977.5,-868.02 1974,-878.02 1981,-878.02\"/>\n</g>\n<!-- 140215227197296&#45;&gt;140215227194800 -->\n<g id=\"edge202\" class=\"edge\">\n<title>140215227197296&#45;&gt;140215227194800</title>\n<path fill=\"none\" stroke=\"black\" d=\"M1901.56,-601.52C1917.03,-617.1 1945.26,-650.75 1927.5,-674 1919.24,-684.82 1845.99,-702.44 1794.18,-713.74\"/>\n<polygon fill=\"black\" stroke=\"black\" points=\"1793.17,-710.38 1784.13,-715.91 1794.65,-717.22 1793.17,-710.38\"/>\n</g>\n<!-- 140215227193504&#45;&gt;140215227201328 -->\n<g id=\"edge204\" class=\"edge\">\n<title>140215227193504&#45;&gt;140215227201328</title>\n<path fill=\"none\" stroke=\"black\" d=\"M1782.03,-468.17C1789.77,-484.32 1803.16,-519.33 1786.5,-541 1778.09,-551.94 1703.77,-569.3 1651.14,-580.41\"/>\n<polygon fill=\"black\" stroke=\"black\" points=\"1650.32,-577.01 1641.25,-582.48 1651.76,-583.86 1650.32,-577.01\"/>\n</g>\n<!-- 140215227197920 -->\n<g id=\"node181\" class=\"node\">\n<title>140215227197920</title>\n<polygon fill=\"lightgrey\" stroke=\"black\" points=\"1561,-668 1460,-668 1460,-649 1561,-649 1561,-668\"/>\n<text text-anchor=\"middle\" x=\"1510.5\" y=\"-656\" font-family=\"monospace\" font-size=\"10.00\">AccumulateGrad</text>\n</g>\n<!-- 140215227197920&#45;&gt;140215227201328 -->\n<g id=\"edge206\" class=\"edge\">\n<title>140215227197920&#45;&gt;140215227201328</title>\n<path fill=\"none\" stroke=\"black\" d=\"M1522.37,-648.8C1536.75,-638.26 1561.2,-620.34 1578.51,-607.65\"/>\n<polygon fill=\"black\" stroke=\"black\" points=\"1580.82,-610.3 1586.82,-601.56 1576.69,-604.65 1580.82,-610.3\"/>\n</g>\n<!-- 140215205079504 -->\n<g id=\"node182\" class=\"node\">\n<title>140215205079504</title>\n<polygon fill=\"lightblue\" stroke=\"black\" points=\"1537.5,-741 1483.5,-741 1483.5,-710 1537.5,-710 1537.5,-741\"/>\n<text text-anchor=\"middle\" x=\"1510.5\" y=\"-717\" font-family=\"monospace\" font-size=\"10.00\"> (32)</text>\n</g>\n<!-- 140215205079504&#45;&gt;140215227197920 -->\n<g id=\"edge207\" class=\"edge\">\n<title>140215205079504&#45;&gt;140215227197920</title>\n<path fill=\"none\" stroke=\"black\" d=\"M1510.5,-709.75C1510.5,-700.39 1510.5,-688.19 1510.5,-678.16\"/>\n<polygon fill=\"black\" stroke=\"black\" points=\"1514,-678.02 1510.5,-668.02 1507,-678.02 1514,-678.02\"/>\n</g>\n<!-- 140215227194752&#45;&gt;140215227194368 -->\n<g id=\"edge208\" class=\"edge\">\n<title>140215227194752&#45;&gt;140215227194368</title>\n<path fill=\"none\" stroke=\"black\" d=\"M1533.3,-401.74C1544.83,-417.68 1565.39,-451.88 1548.5,-474 1540.24,-484.82 1466.99,-502.44 1415.18,-513.74\"/>\n<polygon fill=\"black\" stroke=\"black\" points=\"1414.17,-510.38 1405.13,-515.91 1415.65,-517.22 1414.17,-510.38\"/>\n</g>\n<!-- 140215227195712&#45;&gt;140215227198304 -->\n<g id=\"edge210\" class=\"edge\">\n<title>140215227195712&#45;&gt;140215227198304</title>\n<path fill=\"none\" stroke=\"black\" d=\"M1148.98,-274.19C1150.11,-294.31 1152.91,-344.49 1154.45,-372.09\"/>\n<polygon fill=\"black\" stroke=\"black\" points=\"1150.97,-372.58 1155.02,-382.37 1157.96,-372.19 1150.97,-372.58\"/>\n</g>\n<!-- 140215227193072 -->\n<g id=\"node185\" class=\"node\">\n<title>140215227193072</title>\n<polygon fill=\"lightgrey\" stroke=\"black\" points=\"1182,-468 1081,-468 1081,-449 1182,-449 1182,-468\"/>\n<text text-anchor=\"middle\" x=\"1131.5\" y=\"-456\" font-family=\"monospace\" font-size=\"10.00\">AccumulateGrad</text>\n</g>\n<!-- 140215227193072&#45;&gt;140215227198304 -->\n<g id=\"edge212\" class=\"edge\">\n<title>140215227193072&#45;&gt;140215227198304</title>\n<path fill=\"none\" stroke=\"black\" d=\"M1134.74,-448.8C1138.3,-439.23 1144.13,-423.56 1148.7,-411.26\"/>\n<polygon fill=\"black\" stroke=\"black\" points=\"1152.11,-412.15 1152.31,-401.56 1145.55,-409.71 1152.11,-412.15\"/>\n</g>\n<!-- 140215205085024 -->\n<g id=\"node186\" class=\"node\">\n<title>140215205085024</title>\n<polygon fill=\"lightblue\" stroke=\"black\" points=\"1158.5,-541 1104.5,-541 1104.5,-510 1158.5,-510 1158.5,-541\"/>\n<text text-anchor=\"middle\" x=\"1131.5\" y=\"-517\" font-family=\"monospace\" font-size=\"10.00\"> (32)</text>\n</g>\n<!-- 140215205085024&#45;&gt;140215227193072 -->\n<g id=\"edge213\" class=\"edge\">\n<title>140215205085024&#45;&gt;140215227193072</title>\n<path fill=\"none\" stroke=\"black\" d=\"M1131.5,-509.75C1131.5,-500.39 1131.5,-488.19 1131.5,-478.16\"/>\n<polygon fill=\"black\" stroke=\"black\" points=\"1135,-478.02 1131.5,-468.02 1128,-478.02 1135,-478.02\"/>\n</g>\n<!-- 140215227203488&#45;&gt;140215227193984 -->\n<g id=\"edge215\" class=\"edge\">\n<title>140215227203488&#45;&gt;140215227193984</title>\n<path fill=\"none\" stroke=\"black\" d=\"M1051.18,-86.16C1061.76,-101.01 1079.78,-131.78 1065.5,-153 1052.44,-172.41 1030.4,-184.29 1008.56,-191.55\"/>\n<polygon fill=\"black\" stroke=\"black\" points=\"1007.46,-188.23 998.91,-194.49 1009.5,-194.93 1007.46,-188.23\"/>\n</g>\n</g>\n</svg>\n",
            "text/plain": [
              "<graphviz.graphs.Digraph at 0x7f8666cf3430>"
            ]
          },
          "metadata": {},
          "execution_count": 42
        }
      ]
    },
    {
      "cell_type": "markdown",
      "source": [
        "## Training"
      ],
      "metadata": {
        "id": "uiDNSZ6HqPQ4"
      }
    },
    {
      "cell_type": "code",
      "source": [
        "model = Net().to(device)"
      ],
      "metadata": {
        "id": "CfTTgd_zqfpX"
      },
      "execution_count": 56,
      "outputs": []
    },
    {
      "cell_type": "code",
      "source": [
        "import torch.optim as optim"
      ],
      "metadata": {
        "id": "4J9i_cYaqYXR"
      },
      "execution_count": 57,
      "outputs": []
    },
    {
      "cell_type": "code",
      "source": [
        "labels = {0: 'airplane',\n",
        "          1: 'automobile',\n",
        "          2: 'bird',\n",
        "          3: 'cat',\n",
        "          4: 'deer',\n",
        "          5: 'dog',\n",
        "          6: 'frog',\n",
        "          7: 'horse',\n",
        "          8: 'ship',\n",
        "          9: 'truck'}"
      ],
      "metadata": {
        "id": "ZlMOi9qKmU-1"
      },
      "execution_count": 58,
      "outputs": []
    },
    {
      "cell_type": "code",
      "source": [
        "optimizer = optim.SGD(model.parameters(), lr=0.1, momentum=0.9)\n",
        "scheduler = optim.lr_scheduler.StepLR(optimizer, step_size=6, gamma=0.1, verbose=True)\n",
        "num_epochs = 20\n",
        "\n",
        "metrics = { 'train_acc': [], 'train_losses': [],\n",
        "            'test_acc': [], 'test_losses': [] }\n",
        "\n",
        "for epoch in range(1, num_epochs + 1):\n",
        "    print(f'Epoch {epoch}')\n",
        "    U.train(model, device, train_dataloader, optimizer, metrics)\n",
        "    U.test(model, device, test_dataloader, metrics, labels, get_misclassified=(epoch == num_epochs))\n",
        "    # break\n",
        "    scheduler.step()"
      ],
      "metadata": {
        "colab": {
          "base_uri": "https://localhost:8080/"
        },
        "id": "ffqkmOOrqRzH",
        "outputId": "3eb57278-2715-4a7f-ed7d-cd8431248942"
      },
      "execution_count": 59,
      "outputs": [
        {
          "output_type": "stream",
          "name": "stdout",
          "text": [
            "Adjusting learning rate of group 0 to 1.0000e-01.\n",
            "Epoch 1\n"
          ]
        },
        {
          "output_type": "stream",
          "name": "stderr",
          "text": [
            "Train: Loss=1.5845 Batch_id=390 Accuracy=32.79: 100%|██████████| 391/391 [00:17<00:00, 22.32it/s]\n"
          ]
        },
        {
          "output_type": "stream",
          "name": "stdout",
          "text": [
            "              precision    recall  f1-score   support\n",
            "\n",
            "    airplane       0.60      0.42      0.49      1000\n",
            "  automobile       0.54      0.49      0.52      1000\n",
            "        bird       0.36      0.26      0.30      1000\n",
            "         cat       0.32      0.24      0.27      1000\n",
            "        deer       0.39      0.30      0.34      1000\n",
            "         dog       0.37      0.42      0.39      1000\n",
            "        frog       0.39      0.62      0.48      1000\n",
            "       horse       0.60      0.44      0.51      1000\n",
            "        ship       0.50      0.69      0.58      1000\n",
            "       truck       0.43      0.58      0.49      1000\n",
            "\n",
            "    accuracy                           0.45     10000\n",
            "   macro avg       0.45      0.45      0.44     10000\n",
            "weighted avg       0.45      0.45      0.44     10000\n",
            "\n",
            "Test set: Average loss: 1.5404, Accuracy: 4456/10000 (44.56%)\n",
            "\n",
            "Adjusting learning rate of group 0 to 1.0000e-01.\n",
            "Epoch 2\n"
          ]
        },
        {
          "output_type": "stream",
          "name": "stderr",
          "text": [
            "Train: Loss=1.3941 Batch_id=390 Accuracy=44.32: 100%|██████████| 391/391 [00:19<00:00, 20.41it/s]\n"
          ]
        },
        {
          "output_type": "stream",
          "name": "stdout",
          "text": [
            "              precision    recall  f1-score   support\n",
            "\n",
            "    airplane       0.61      0.57      0.59      1000\n",
            "  automobile       0.50      0.82      0.63      1000\n",
            "        bird       0.52      0.19      0.27      1000\n",
            "         cat       0.30      0.07      0.11      1000\n",
            "        deer       0.44      0.45      0.45      1000\n",
            "         dog       0.35      0.55      0.43      1000\n",
            "        frog       0.57      0.54      0.55      1000\n",
            "       horse       0.44      0.70      0.54      1000\n",
            "        ship       0.71      0.58      0.64      1000\n",
            "       truck       0.53      0.51      0.52      1000\n",
            "\n",
            "    accuracy                           0.50     10000\n",
            "   macro avg       0.50      0.50      0.47     10000\n",
            "weighted avg       0.50      0.50      0.47     10000\n",
            "\n",
            "Test set: Average loss: 1.3709, Accuracy: 4965/10000 (49.65%)\n",
            "\n",
            "Adjusting learning rate of group 0 to 1.0000e-01.\n",
            "Epoch 3\n"
          ]
        },
        {
          "output_type": "stream",
          "name": "stderr",
          "text": [
            "Train: Loss=1.3827 Batch_id=390 Accuracy=49.59: 100%|██████████| 391/391 [00:18<00:00, 20.71it/s]\n"
          ]
        },
        {
          "output_type": "stream",
          "name": "stdout",
          "text": [
            "              precision    recall  f1-score   support\n",
            "\n",
            "    airplane       0.64      0.46      0.53      1000\n",
            "  automobile       0.65      0.70      0.67      1000\n",
            "        bird       0.54      0.32      0.41      1000\n",
            "         cat       0.33      0.09      0.14      1000\n",
            "        deer       0.53      0.30      0.39      1000\n",
            "         dog       0.32      0.63      0.42      1000\n",
            "        frog       0.87      0.28      0.42      1000\n",
            "       horse       0.46      0.77      0.57      1000\n",
            "        ship       0.60      0.78      0.68      1000\n",
            "       truck       0.49      0.73      0.58      1000\n",
            "\n",
            "    accuracy                           0.51     10000\n",
            "   macro avg       0.54      0.51      0.48     10000\n",
            "weighted avg       0.54      0.51      0.48     10000\n",
            "\n",
            "Test set: Average loss: 1.3648, Accuracy: 5054/10000 (50.54%)\n",
            "\n",
            "Adjusting learning rate of group 0 to 1.0000e-01.\n",
            "Epoch 4\n"
          ]
        },
        {
          "output_type": "stream",
          "name": "stderr",
          "text": [
            "Train: Loss=1.1433 Batch_id=390 Accuracy=53.74: 100%|██████████| 391/391 [00:17<00:00, 21.95it/s]\n"
          ]
        },
        {
          "output_type": "stream",
          "name": "stdout",
          "text": [
            "              precision    recall  f1-score   support\n",
            "\n",
            "    airplane       0.70      0.53      0.61      1000\n",
            "  automobile       0.62      0.82      0.71      1000\n",
            "        bird       0.51      0.46      0.48      1000\n",
            "         cat       0.39      0.42      0.41      1000\n",
            "        deer       0.68      0.33      0.44      1000\n",
            "         dog       0.50      0.47      0.48      1000\n",
            "        frog       0.66      0.71      0.69      1000\n",
            "       horse       0.59      0.69      0.64      1000\n",
            "        ship       0.68      0.79      0.73      1000\n",
            "       truck       0.61      0.69      0.65      1000\n",
            "\n",
            "    accuracy                           0.59     10000\n",
            "   macro avg       0.60      0.59      0.58     10000\n",
            "weighted avg       0.60      0.59      0.58     10000\n",
            "\n",
            "Test set: Average loss: 1.1356, Accuracy: 5911/10000 (59.11%)\n",
            "\n",
            "Adjusting learning rate of group 0 to 1.0000e-01.\n",
            "Epoch 5\n"
          ]
        },
        {
          "output_type": "stream",
          "name": "stderr",
          "text": [
            "Train: Loss=1.1095 Batch_id=390 Accuracy=56.66: 100%|██████████| 391/391 [00:19<00:00, 20.52it/s]\n"
          ]
        },
        {
          "output_type": "stream",
          "name": "stdout",
          "text": [
            "              precision    recall  f1-score   support\n",
            "\n",
            "    airplane       0.59      0.71      0.64      1000\n",
            "  automobile       0.56      0.89      0.69      1000\n",
            "        bird       0.53      0.44      0.48      1000\n",
            "         cat       0.39      0.54      0.45      1000\n",
            "        deer       0.63      0.46      0.53      1000\n",
            "         dog       0.59      0.34      0.43      1000\n",
            "        frog       0.79      0.58      0.67      1000\n",
            "       horse       0.64      0.70      0.67      1000\n",
            "        ship       0.82      0.68      0.74      1000\n",
            "       truck       0.62      0.62      0.62      1000\n",
            "\n",
            "    accuracy                           0.60     10000\n",
            "   macro avg       0.62      0.60      0.59     10000\n",
            "weighted avg       0.62      0.60      0.59     10000\n",
            "\n",
            "Test set: Average loss: 1.1276, Accuracy: 5965/10000 (59.65%)\n",
            "\n",
            "Adjusting learning rate of group 0 to 1.0000e-01.\n",
            "Epoch 6\n"
          ]
        },
        {
          "output_type": "stream",
          "name": "stderr",
          "text": [
            "Train: Loss=1.2020 Batch_id=390 Accuracy=59.14: 100%|██████████| 391/391 [00:17<00:00, 21.95it/s]\n"
          ]
        },
        {
          "output_type": "stream",
          "name": "stdout",
          "text": [
            "              precision    recall  f1-score   support\n",
            "\n",
            "    airplane       0.62      0.67      0.64      1000\n",
            "  automobile       0.84      0.70      0.76      1000\n",
            "        bird       0.48      0.57      0.52      1000\n",
            "         cat       0.48      0.32      0.38      1000\n",
            "        deer       0.62      0.49      0.55      1000\n",
            "         dog       0.45      0.67      0.53      1000\n",
            "        frog       0.76      0.63      0.69      1000\n",
            "       horse       0.66      0.70      0.68      1000\n",
            "        ship       0.64      0.86      0.73      1000\n",
            "       truck       0.82      0.59      0.69      1000\n",
            "\n",
            "    accuracy                           0.62     10000\n",
            "   macro avg       0.64      0.62      0.62     10000\n",
            "weighted avg       0.64      0.62      0.62     10000\n",
            "\n",
            "Test set: Average loss: 1.0692, Accuracy: 6195/10000 (61.95%)\n",
            "\n",
            "Adjusting learning rate of group 0 to 1.0000e-02.\n",
            "Epoch 7\n"
          ]
        },
        {
          "output_type": "stream",
          "name": "stderr",
          "text": [
            "Train: Loss=0.8948 Batch_id=390 Accuracy=65.12: 100%|██████████| 391/391 [00:17<00:00, 21.94it/s]\n"
          ]
        },
        {
          "output_type": "stream",
          "name": "stdout",
          "text": [
            "              precision    recall  f1-score   support\n",
            "\n",
            "    airplane       0.74      0.72      0.73      1000\n",
            "  automobile       0.79      0.85      0.82      1000\n",
            "        bird       0.63      0.51      0.56      1000\n",
            "         cat       0.49      0.46      0.47      1000\n",
            "        deer       0.66      0.57      0.61      1000\n",
            "         dog       0.53      0.61      0.57      1000\n",
            "        frog       0.68      0.81      0.74      1000\n",
            "       horse       0.73      0.73      0.73      1000\n",
            "        ship       0.78      0.83      0.81      1000\n",
            "       truck       0.79      0.74      0.76      1000\n",
            "\n",
            "    accuracy                           0.68     10000\n",
            "   macro avg       0.68      0.68      0.68     10000\n",
            "weighted avg       0.68      0.68      0.68     10000\n",
            "\n",
            "Test set: Average loss: 0.8975, Accuracy: 6832/10000 (68.32%)\n",
            "\n",
            "Adjusting learning rate of group 0 to 1.0000e-02.\n",
            "Epoch 8\n"
          ]
        },
        {
          "output_type": "stream",
          "name": "stderr",
          "text": [
            "Train: Loss=0.9551 Batch_id=390 Accuracy=66.20: 100%|██████████| 391/391 [00:18<00:00, 20.67it/s]\n"
          ]
        },
        {
          "output_type": "stream",
          "name": "stdout",
          "text": [
            "              precision    recall  f1-score   support\n",
            "\n",
            "    airplane       0.77      0.70      0.73      1000\n",
            "  automobile       0.83      0.82      0.83      1000\n",
            "        bird       0.59      0.55      0.57      1000\n",
            "         cat       0.49      0.51      0.50      1000\n",
            "        deer       0.58      0.69      0.63      1000\n",
            "         dog       0.58      0.51      0.54      1000\n",
            "        frog       0.72      0.77      0.74      1000\n",
            "       horse       0.77      0.71      0.74      1000\n",
            "        ship       0.78      0.83      0.80      1000\n",
            "       truck       0.76      0.78      0.77      1000\n",
            "\n",
            "    accuracy                           0.68     10000\n",
            "   macro avg       0.69      0.68      0.68     10000\n",
            "weighted avg       0.69      0.68      0.68     10000\n",
            "\n",
            "Test set: Average loss: 0.8826, Accuracy: 6849/10000 (68.49%)\n",
            "\n",
            "Adjusting learning rate of group 0 to 1.0000e-02.\n",
            "Epoch 9\n"
          ]
        },
        {
          "output_type": "stream",
          "name": "stderr",
          "text": [
            "Train: Loss=1.0364 Batch_id=390 Accuracy=66.93: 100%|██████████| 391/391 [00:17<00:00, 22.10it/s]\n"
          ]
        },
        {
          "output_type": "stream",
          "name": "stdout",
          "text": [
            "              precision    recall  f1-score   support\n",
            "\n",
            "    airplane       0.69      0.79      0.74      1000\n",
            "  automobile       0.82      0.84      0.83      1000\n",
            "        bird       0.59      0.55      0.57      1000\n",
            "         cat       0.50      0.48      0.49      1000\n",
            "        deer       0.68      0.58      0.62      1000\n",
            "         dog       0.53      0.63      0.57      1000\n",
            "        frog       0.74      0.77      0.76      1000\n",
            "       horse       0.78      0.72      0.75      1000\n",
            "        ship       0.84      0.79      0.81      1000\n",
            "       truck       0.77      0.78      0.78      1000\n",
            "\n",
            "    accuracy                           0.69     10000\n",
            "   macro avg       0.69      0.69      0.69     10000\n",
            "weighted avg       0.69      0.69      0.69     10000\n",
            "\n",
            "Test set: Average loss: 0.8756, Accuracy: 6913/10000 (69.13%)\n",
            "\n",
            "Adjusting learning rate of group 0 to 1.0000e-02.\n",
            "Epoch 10\n"
          ]
        },
        {
          "output_type": "stream",
          "name": "stderr",
          "text": [
            "Train: Loss=0.9173 Batch_id=390 Accuracy=67.53: 100%|██████████| 391/391 [00:17<00:00, 22.26it/s]\n"
          ]
        },
        {
          "output_type": "stream",
          "name": "stdout",
          "text": [
            "              precision    recall  f1-score   support\n",
            "\n",
            "    airplane       0.78      0.71      0.74      1000\n",
            "  automobile       0.82      0.84      0.83      1000\n",
            "        bird       0.63      0.53      0.57      1000\n",
            "         cat       0.48      0.53      0.50      1000\n",
            "        deer       0.63      0.62      0.63      1000\n",
            "         dog       0.53      0.62      0.57      1000\n",
            "        frog       0.77      0.73      0.75      1000\n",
            "       horse       0.74      0.74      0.74      1000\n",
            "        ship       0.83      0.81      0.82      1000\n",
            "       truck       0.77      0.80      0.78      1000\n",
            "\n",
            "    accuracy                           0.69     10000\n",
            "   macro avg       0.70      0.69      0.69     10000\n",
            "weighted avg       0.70      0.69      0.69     10000\n",
            "\n",
            "Test set: Average loss: 0.8675, Accuracy: 6928/10000 (69.28%)\n",
            "\n",
            "Adjusting learning rate of group 0 to 1.0000e-02.\n",
            "Epoch 11\n"
          ]
        },
        {
          "output_type": "stream",
          "name": "stderr",
          "text": [
            "Train: Loss=0.9340 Batch_id=390 Accuracy=67.64: 100%|██████████| 391/391 [00:18<00:00, 20.80it/s]\n"
          ]
        },
        {
          "output_type": "stream",
          "name": "stdout",
          "text": [
            "              precision    recall  f1-score   support\n",
            "\n",
            "    airplane       0.74      0.75      0.75      1000\n",
            "  automobile       0.87      0.81      0.84      1000\n",
            "        bird       0.60      0.56      0.58      1000\n",
            "         cat       0.52      0.47      0.49      1000\n",
            "        deer       0.62      0.64      0.63      1000\n",
            "         dog       0.56      0.58      0.57      1000\n",
            "        frog       0.71      0.82      0.76      1000\n",
            "       horse       0.78      0.71      0.74      1000\n",
            "        ship       0.77      0.86      0.81      1000\n",
            "       truck       0.80      0.77      0.79      1000\n",
            "\n",
            "    accuracy                           0.70     10000\n",
            "   macro avg       0.70      0.70      0.70     10000\n",
            "weighted avg       0.70      0.70      0.70     10000\n",
            "\n",
            "Test set: Average loss: 0.8587, Accuracy: 6967/10000 (69.67%)\n",
            "\n",
            "Adjusting learning rate of group 0 to 1.0000e-02.\n",
            "Epoch 12\n"
          ]
        },
        {
          "output_type": "stream",
          "name": "stderr",
          "text": [
            "Train: Loss=1.0740 Batch_id=390 Accuracy=68.23: 100%|██████████| 391/391 [00:17<00:00, 22.04it/s]\n"
          ]
        },
        {
          "output_type": "stream",
          "name": "stdout",
          "text": [
            "              precision    recall  f1-score   support\n",
            "\n",
            "    airplane       0.76      0.76      0.76      1000\n",
            "  automobile       0.81      0.87      0.84      1000\n",
            "        bird       0.62      0.56      0.59      1000\n",
            "         cat       0.53      0.42      0.47      1000\n",
            "        deer       0.64      0.64      0.64      1000\n",
            "         dog       0.56      0.61      0.58      1000\n",
            "        frog       0.69      0.83      0.76      1000\n",
            "       horse       0.79      0.72      0.75      1000\n",
            "        ship       0.82      0.81      0.82      1000\n",
            "       truck       0.76      0.79      0.78      1000\n",
            "\n",
            "    accuracy                           0.70     10000\n",
            "   macro avg       0.70      0.70      0.70     10000\n",
            "weighted avg       0.70      0.70      0.70     10000\n",
            "\n",
            "Test set: Average loss: 0.8490, Accuracy: 7014/10000 (70.14%)\n",
            "\n",
            "Adjusting learning rate of group 0 to 1.0000e-03.\n",
            "Epoch 13\n"
          ]
        },
        {
          "output_type": "stream",
          "name": "stderr",
          "text": [
            "Train: Loss=0.7890 Batch_id=390 Accuracy=69.20: 100%|██████████| 391/391 [00:17<00:00, 22.02it/s]\n"
          ]
        },
        {
          "output_type": "stream",
          "name": "stdout",
          "text": [
            "              precision    recall  f1-score   support\n",
            "\n",
            "    airplane       0.75      0.76      0.75      1000\n",
            "  automobile       0.83      0.85      0.84      1000\n",
            "        bird       0.61      0.57      0.59      1000\n",
            "         cat       0.50      0.51      0.50      1000\n",
            "        deer       0.65      0.63      0.64      1000\n",
            "         dog       0.57      0.57      0.57      1000\n",
            "        frog       0.74      0.79      0.77      1000\n",
            "       horse       0.78      0.73      0.75      1000\n",
            "        ship       0.81      0.82      0.81      1000\n",
            "       truck       0.78      0.78      0.78      1000\n",
            "\n",
            "    accuracy                           0.70     10000\n",
            "   macro avg       0.70      0.70      0.70     10000\n",
            "weighted avg       0.70      0.70      0.70     10000\n",
            "\n",
            "Test set: Average loss: 0.8389, Accuracy: 7020/10000 (70.20%)\n",
            "\n",
            "Adjusting learning rate of group 0 to 1.0000e-03.\n",
            "Epoch 14\n"
          ]
        },
        {
          "output_type": "stream",
          "name": "stderr",
          "text": [
            "Train: Loss=0.8280 Batch_id=390 Accuracy=69.21: 100%|██████████| 391/391 [00:19<00:00, 20.54it/s]\n"
          ]
        },
        {
          "output_type": "stream",
          "name": "stdout",
          "text": [
            "              precision    recall  f1-score   support\n",
            "\n",
            "    airplane       0.75      0.76      0.75      1000\n",
            "  automobile       0.83      0.85      0.84      1000\n",
            "        bird       0.61      0.58      0.59      1000\n",
            "         cat       0.51      0.49      0.50      1000\n",
            "        deer       0.67      0.62      0.64      1000\n",
            "         dog       0.57      0.59      0.58      1000\n",
            "        frog       0.74      0.79      0.77      1000\n",
            "       horse       0.75      0.75      0.75      1000\n",
            "        ship       0.82      0.82      0.82      1000\n",
            "       truck       0.77      0.78      0.78      1000\n",
            "\n",
            "    accuracy                           0.70     10000\n",
            "   macro avg       0.70      0.70      0.70     10000\n",
            "weighted avg       0.70      0.70      0.70     10000\n",
            "\n",
            "Test set: Average loss: 0.8367, Accuracy: 7024/10000 (70.24%)\n",
            "\n",
            "Adjusting learning rate of group 0 to 1.0000e-03.\n",
            "Epoch 15\n"
          ]
        },
        {
          "output_type": "stream",
          "name": "stderr",
          "text": [
            "Train: Loss=0.8635 Batch_id=390 Accuracy=69.20: 100%|██████████| 391/391 [00:18<00:00, 20.70it/s]\n"
          ]
        },
        {
          "output_type": "stream",
          "name": "stdout",
          "text": [
            "              precision    recall  f1-score   support\n",
            "\n",
            "    airplane       0.75      0.76      0.75      1000\n",
            "  automobile       0.83      0.84      0.84      1000\n",
            "        bird       0.62      0.57      0.60      1000\n",
            "         cat       0.51      0.51      0.51      1000\n",
            "        deer       0.66      0.65      0.65      1000\n",
            "         dog       0.58      0.56      0.57      1000\n",
            "        frog       0.73      0.81      0.77      1000\n",
            "       horse       0.78      0.73      0.75      1000\n",
            "        ship       0.81      0.82      0.82      1000\n",
            "       truck       0.76      0.80      0.78      1000\n",
            "\n",
            "    accuracy                           0.70     10000\n",
            "   macro avg       0.70      0.70      0.70     10000\n",
            "weighted avg       0.70      0.70      0.70     10000\n",
            "\n",
            "Test set: Average loss: 0.8361, Accuracy: 7048/10000 (70.48%)\n",
            "\n",
            "Adjusting learning rate of group 0 to 1.0000e-03.\n",
            "Epoch 16\n"
          ]
        },
        {
          "output_type": "stream",
          "name": "stderr",
          "text": [
            "Train: Loss=0.8748 Batch_id=390 Accuracy=69.38: 100%|██████████| 391/391 [00:18<00:00, 20.72it/s]\n"
          ]
        },
        {
          "output_type": "stream",
          "name": "stdout",
          "text": [
            "              precision    recall  f1-score   support\n",
            "\n",
            "    airplane       0.75      0.76      0.76      1000\n",
            "  automobile       0.84      0.84      0.84      1000\n",
            "        bird       0.62      0.58      0.60      1000\n",
            "         cat       0.51      0.50      0.50      1000\n",
            "        deer       0.65      0.64      0.65      1000\n",
            "         dog       0.57      0.58      0.58      1000\n",
            "        frog       0.75      0.80      0.77      1000\n",
            "       horse       0.78      0.73      0.75      1000\n",
            "        ship       0.81      0.82      0.82      1000\n",
            "       truck       0.77      0.81      0.79      1000\n",
            "\n",
            "    accuracy                           0.71     10000\n",
            "   macro avg       0.71      0.71      0.71     10000\n",
            "weighted avg       0.71      0.71      0.71     10000\n",
            "\n",
            "Test set: Average loss: 0.8350, Accuracy: 7060/10000 (70.60%)\n",
            "\n",
            "Adjusting learning rate of group 0 to 1.0000e-03.\n",
            "Epoch 17\n"
          ]
        },
        {
          "output_type": "stream",
          "name": "stderr",
          "text": [
            "Train: Loss=0.7805 Batch_id=390 Accuracy=69.60: 100%|██████████| 391/391 [00:18<00:00, 21.52it/s]\n"
          ]
        },
        {
          "output_type": "stream",
          "name": "stdout",
          "text": [
            "              precision    recall  f1-score   support\n",
            "\n",
            "    airplane       0.75      0.76      0.76      1000\n",
            "  automobile       0.83      0.86      0.84      1000\n",
            "        bird       0.64      0.55      0.59      1000\n",
            "         cat       0.51      0.50      0.51      1000\n",
            "        deer       0.66      0.63      0.64      1000\n",
            "         dog       0.57      0.58      0.57      1000\n",
            "        frog       0.72      0.81      0.76      1000\n",
            "       horse       0.76      0.74      0.75      1000\n",
            "        ship       0.81      0.82      0.82      1000\n",
            "       truck       0.78      0.79      0.78      1000\n",
            "\n",
            "    accuracy                           0.70     10000\n",
            "   macro avg       0.70      0.70      0.70     10000\n",
            "weighted avg       0.70      0.70      0.70     10000\n",
            "\n",
            "Test set: Average loss: 0.8360, Accuracy: 7045/10000 (70.45%)\n",
            "\n",
            "Adjusting learning rate of group 0 to 1.0000e-03.\n",
            "Epoch 18\n"
          ]
        },
        {
          "output_type": "stream",
          "name": "stderr",
          "text": [
            "Train: Loss=0.9480 Batch_id=390 Accuracy=69.50: 100%|██████████| 391/391 [00:17<00:00, 22.09it/s]\n"
          ]
        },
        {
          "output_type": "stream",
          "name": "stdout",
          "text": [
            "              precision    recall  f1-score   support\n",
            "\n",
            "    airplane       0.75      0.76      0.75      1000\n",
            "  automobile       0.84      0.84      0.84      1000\n",
            "        bird       0.62      0.57      0.59      1000\n",
            "         cat       0.52      0.51      0.51      1000\n",
            "        deer       0.66      0.62      0.64      1000\n",
            "         dog       0.56      0.59      0.58      1000\n",
            "        frog       0.73      0.81      0.77      1000\n",
            "       horse       0.78      0.73      0.75      1000\n",
            "        ship       0.82      0.82      0.82      1000\n",
            "       truck       0.77      0.80      0.79      1000\n",
            "\n",
            "    accuracy                           0.71     10000\n",
            "   macro avg       0.71      0.71      0.71     10000\n",
            "weighted avg       0.71      0.71      0.71     10000\n",
            "\n",
            "Test set: Average loss: 0.8337, Accuracy: 7059/10000 (70.59%)\n",
            "\n",
            "Adjusting learning rate of group 0 to 1.0000e-04.\n",
            "Epoch 19\n"
          ]
        },
        {
          "output_type": "stream",
          "name": "stderr",
          "text": [
            "Train: Loss=0.7629 Batch_id=390 Accuracy=69.40: 100%|██████████| 391/391 [00:18<00:00, 20.79it/s]\n"
          ]
        },
        {
          "output_type": "stream",
          "name": "stdout",
          "text": [
            "              precision    recall  f1-score   support\n",
            "\n",
            "    airplane       0.74      0.77      0.75      1000\n",
            "  automobile       0.84      0.85      0.84      1000\n",
            "        bird       0.62      0.57      0.59      1000\n",
            "         cat       0.52      0.50      0.51      1000\n",
            "        deer       0.66      0.63      0.65      1000\n",
            "         dog       0.57      0.59      0.58      1000\n",
            "        frog       0.74      0.81      0.77      1000\n",
            "       horse       0.77      0.73      0.75      1000\n",
            "        ship       0.82      0.82      0.82      1000\n",
            "       truck       0.78      0.80      0.79      1000\n",
            "\n",
            "    accuracy                           0.71     10000\n",
            "   macro avg       0.71      0.71      0.71     10000\n",
            "weighted avg       0.71      0.71      0.71     10000\n",
            "\n",
            "Test set: Average loss: 0.8328, Accuracy: 7064/10000 (70.64%)\n",
            "\n",
            "Adjusting learning rate of group 0 to 1.0000e-04.\n",
            "Epoch 20\n"
          ]
        },
        {
          "output_type": "stream",
          "name": "stderr",
          "text": [
            "Train: Loss=0.7128 Batch_id=390 Accuracy=69.76: 100%|██████████| 391/391 [00:17<00:00, 22.04it/s]\n"
          ]
        },
        {
          "output_type": "stream",
          "name": "stdout",
          "text": [
            "              precision    recall  f1-score   support\n",
            "\n",
            "    airplane       0.74      0.77      0.75      1000\n",
            "  automobile       0.84      0.85      0.84      1000\n",
            "        bird       0.62      0.57      0.59      1000\n",
            "         cat       0.52      0.50      0.51      1000\n",
            "        deer       0.66      0.63      0.64      1000\n",
            "         dog       0.57      0.59      0.58      1000\n",
            "        frog       0.74      0.81      0.77      1000\n",
            "       horse       0.77      0.73      0.75      1000\n",
            "        ship       0.82      0.82      0.82      1000\n",
            "       truck       0.78      0.80      0.79      1000\n",
            "\n",
            "    accuracy                           0.71     10000\n",
            "   macro avg       0.70      0.71      0.71     10000\n",
            "weighted avg       0.70      0.71      0.71     10000\n",
            "\n",
            "Test set: Average loss: 0.8327, Accuracy: 7064/10000 (70.64%)\n",
            "\n",
            "Adjusting learning rate of group 0 to 1.0000e-04.\n"
          ]
        }
      ]
    },
    {
      "cell_type": "code",
      "source": [
        "df_misclassified = pd.DataFrame(metrics['misclassified_data'])"
      ],
      "metadata": {
        "id": "NkQiWbSSxH_M"
      },
      "execution_count": 60,
      "outputs": []
    },
    {
      "cell_type": "code",
      "source": [
        "df_misclassified.sample(n=10)"
      ],
      "metadata": {
        "colab": {
          "base_uri": "https://localhost:8080/",
          "height": 363
        },
        "id": "0JT6sDOYl8cz",
        "outputId": "88d86ba1-810d-4ae5-c847-96644b44a6ea"
      },
      "execution_count": 63,
      "outputs": [
        {
          "output_type": "execute_result",
          "data": {
            "text/plain": [
              "      pred  actual                                               data\n",
              "2752     9       7  [[[-1.7669668, -1.6399691, -1.3859736, -1.2907...\n",
              "1867     8       0  [[[0.5507428, 0.5507428, 0.6301164, 0.70949, 0...\n",
              "1956     9       0  [[[-1.0684791, -1.020855, -0.9891054, -0.97323...\n",
              "1492     6       4  [[[-1.1637274, -0.90973175, -0.71923506, -0.43...\n",
              "2931     4       2  [[[0.16974948, 0.16974948, -0.0048725866, -0.0...\n",
              "477      1       9  [[[-0.3064923, -0.40174064, -0.7033604, -0.512...\n",
              "2589     2       6  [[[-0.8779823, -0.83035815, -0.893857, -0.9097...\n",
              "1922     3       2  [[[-0.25886813, -0.1636198, -0.41761535, -0.81...\n",
              "388      3       4  [[[-0.8779823, -0.4334901, -0.068371475, 0.169...\n",
              "2919     0       8  [[[1.2174811, 0.94761086, 0.884112, 0.70949, 0..."
            ],
            "text/html": [
              "\n",
              "  <div id=\"df-7375d936-c7a4-4cd8-bb4c-44a9ed5c5122\">\n",
              "    <div class=\"colab-df-container\">\n",
              "      <div>\n",
              "<style scoped>\n",
              "    .dataframe tbody tr th:only-of-type {\n",
              "        vertical-align: middle;\n",
              "    }\n",
              "\n",
              "    .dataframe tbody tr th {\n",
              "        vertical-align: top;\n",
              "    }\n",
              "\n",
              "    .dataframe thead th {\n",
              "        text-align: right;\n",
              "    }\n",
              "</style>\n",
              "<table border=\"1\" class=\"dataframe\">\n",
              "  <thead>\n",
              "    <tr style=\"text-align: right;\">\n",
              "      <th></th>\n",
              "      <th>pred</th>\n",
              "      <th>actual</th>\n",
              "      <th>data</th>\n",
              "    </tr>\n",
              "  </thead>\n",
              "  <tbody>\n",
              "    <tr>\n",
              "      <th>2752</th>\n",
              "      <td>9</td>\n",
              "      <td>7</td>\n",
              "      <td>[[[-1.7669668, -1.6399691, -1.3859736, -1.2907...</td>\n",
              "    </tr>\n",
              "    <tr>\n",
              "      <th>1867</th>\n",
              "      <td>8</td>\n",
              "      <td>0</td>\n",
              "      <td>[[[0.5507428, 0.5507428, 0.6301164, 0.70949, 0...</td>\n",
              "    </tr>\n",
              "    <tr>\n",
              "      <th>1956</th>\n",
              "      <td>9</td>\n",
              "      <td>0</td>\n",
              "      <td>[[[-1.0684791, -1.020855, -0.9891054, -0.97323...</td>\n",
              "    </tr>\n",
              "    <tr>\n",
              "      <th>1492</th>\n",
              "      <td>6</td>\n",
              "      <td>4</td>\n",
              "      <td>[[[-1.1637274, -0.90973175, -0.71923506, -0.43...</td>\n",
              "    </tr>\n",
              "    <tr>\n",
              "      <th>2931</th>\n",
              "      <td>4</td>\n",
              "      <td>2</td>\n",
              "      <td>[[[0.16974948, 0.16974948, -0.0048725866, -0.0...</td>\n",
              "    </tr>\n",
              "    <tr>\n",
              "      <th>477</th>\n",
              "      <td>1</td>\n",
              "      <td>9</td>\n",
              "      <td>[[[-0.3064923, -0.40174064, -0.7033604, -0.512...</td>\n",
              "    </tr>\n",
              "    <tr>\n",
              "      <th>2589</th>\n",
              "      <td>2</td>\n",
              "      <td>6</td>\n",
              "      <td>[[[-0.8779823, -0.83035815, -0.893857, -0.9097...</td>\n",
              "    </tr>\n",
              "    <tr>\n",
              "      <th>1922</th>\n",
              "      <td>3</td>\n",
              "      <td>2</td>\n",
              "      <td>[[[-0.25886813, -0.1636198, -0.41761535, -0.81...</td>\n",
              "    </tr>\n",
              "    <tr>\n",
              "      <th>388</th>\n",
              "      <td>3</td>\n",
              "      <td>4</td>\n",
              "      <td>[[[-0.8779823, -0.4334901, -0.068371475, 0.169...</td>\n",
              "    </tr>\n",
              "    <tr>\n",
              "      <th>2919</th>\n",
              "      <td>0</td>\n",
              "      <td>8</td>\n",
              "      <td>[[[1.2174811, 0.94761086, 0.884112, 0.70949, 0...</td>\n",
              "    </tr>\n",
              "  </tbody>\n",
              "</table>\n",
              "</div>\n",
              "      <button class=\"colab-df-convert\" onclick=\"convertToInteractive('df-7375d936-c7a4-4cd8-bb4c-44a9ed5c5122')\"\n",
              "              title=\"Convert this dataframe to an interactive table.\"\n",
              "              style=\"display:none;\">\n",
              "        \n",
              "  <svg xmlns=\"http://www.w3.org/2000/svg\" height=\"24px\"viewBox=\"0 0 24 24\"\n",
              "       width=\"24px\">\n",
              "    <path d=\"M0 0h24v24H0V0z\" fill=\"none\"/>\n",
              "    <path d=\"M18.56 5.44l.94 2.06.94-2.06 2.06-.94-2.06-.94-.94-2.06-.94 2.06-2.06.94zm-11 1L8.5 8.5l.94-2.06 2.06-.94-2.06-.94L8.5 2.5l-.94 2.06-2.06.94zm10 10l.94 2.06.94-2.06 2.06-.94-2.06-.94-.94-2.06-.94 2.06-2.06.94z\"/><path d=\"M17.41 7.96l-1.37-1.37c-.4-.4-.92-.59-1.43-.59-.52 0-1.04.2-1.43.59L10.3 9.45l-7.72 7.72c-.78.78-.78 2.05 0 2.83L4 21.41c.39.39.9.59 1.41.59.51 0 1.02-.2 1.41-.59l7.78-7.78 2.81-2.81c.8-.78.8-2.07 0-2.86zM5.41 20L4 18.59l7.72-7.72 1.47 1.35L5.41 20z\"/>\n",
              "  </svg>\n",
              "      </button>\n",
              "      \n",
              "  <style>\n",
              "    .colab-df-container {\n",
              "      display:flex;\n",
              "      flex-wrap:wrap;\n",
              "      gap: 12px;\n",
              "    }\n",
              "\n",
              "    .colab-df-convert {\n",
              "      background-color: #E8F0FE;\n",
              "      border: none;\n",
              "      border-radius: 50%;\n",
              "      cursor: pointer;\n",
              "      display: none;\n",
              "      fill: #1967D2;\n",
              "      height: 32px;\n",
              "      padding: 0 0 0 0;\n",
              "      width: 32px;\n",
              "    }\n",
              "\n",
              "    .colab-df-convert:hover {\n",
              "      background-color: #E2EBFA;\n",
              "      box-shadow: 0px 1px 2px rgba(60, 64, 67, 0.3), 0px 1px 3px 1px rgba(60, 64, 67, 0.15);\n",
              "      fill: #174EA6;\n",
              "    }\n",
              "\n",
              "    [theme=dark] .colab-df-convert {\n",
              "      background-color: #3B4455;\n",
              "      fill: #D2E3FC;\n",
              "    }\n",
              "\n",
              "    [theme=dark] .colab-df-convert:hover {\n",
              "      background-color: #434B5C;\n",
              "      box-shadow: 0px 1px 3px 1px rgba(0, 0, 0, 0.15);\n",
              "      filter: drop-shadow(0px 1px 2px rgba(0, 0, 0, 0.3));\n",
              "      fill: #FFFFFF;\n",
              "    }\n",
              "  </style>\n",
              "\n",
              "      <script>\n",
              "        const buttonEl =\n",
              "          document.querySelector('#df-7375d936-c7a4-4cd8-bb4c-44a9ed5c5122 button.colab-df-convert');\n",
              "        buttonEl.style.display =\n",
              "          google.colab.kernel.accessAllowed ? 'block' : 'none';\n",
              "\n",
              "        async function convertToInteractive(key) {\n",
              "          const element = document.querySelector('#df-7375d936-c7a4-4cd8-bb4c-44a9ed5c5122');\n",
              "          const dataTable =\n",
              "            await google.colab.kernel.invokeFunction('convertToInteractive',\n",
              "                                                     [key], {});\n",
              "          if (!dataTable) return;\n",
              "\n",
              "          const docLinkHtml = 'Like what you see? Visit the ' +\n",
              "            '<a target=\"_blank\" href=https://colab.research.google.com/notebooks/data_table.ipynb>data table notebook</a>'\n",
              "            + ' to learn more about interactive tables.';\n",
              "          element.innerHTML = '';\n",
              "          dataTable['output_type'] = 'display_data';\n",
              "          await google.colab.output.renderOutput(dataTable, element);\n",
              "          const docLink = document.createElement('div');\n",
              "          docLink.innerHTML = docLinkHtml;\n",
              "          element.appendChild(docLink);\n",
              "        }\n",
              "      </script>\n",
              "    </div>\n",
              "  </div>\n",
              "  "
            ]
          },
          "metadata": {},
          "execution_count": 63
        }
      ]
    },
    {
      "cell_type": "code",
      "source": [
        "import matplotlib.pyplot as plt\n",
        "\n",
        "fig = plt.figure(figsize=(12, 5))\n",
        "\n",
        "for i, row in df_misclassified.sample(n=10).reset_index(drop=True).iterrows():\n",
        "    ax = plt.subplot(2, 5, i+1)\n",
        "    plt.axis('off')\n",
        "\n",
        "    img = row['data']\n",
        "    img = (img - img.min()) / (img.max() - img.min())\n",
        "    img = np.moveaxis(img * 255, [0, 1, 2], [2, 0, 1])\n",
        "    plt.imshow(img.astype(int), cmap='jet')\n",
        "\n",
        "    ax.set_title(f\"actual: {labels[row['actual']]} \\n predicted: {labels[row['pred']]}\")\n",
        "\n",
        "plt.show()\n",
        "plt.savefig('failed_ln.jpg')"
      ],
      "metadata": {
        "colab": {
          "base_uri": "https://localhost:8080/",
          "height": 467
        },
        "id": "DWhMj9tcmuG-",
        "outputId": "a0ed784c-2928-4216-f8e8-987e50a286eb"
      },
      "execution_count": 65,
      "outputs": [
        {
          "output_type": "display_data",
          "data": {
            "text/plain": [
              "<Figure size 1200x500 with 10 Axes>"
            ],
            "image/png": "[encoded data removed]"
          },
          "metadata": {}
        },
        {
          "output_type": "display_data",
          "data": {
            "text/plain": [
              "<Figure size 640x480 with 0 Axes>"
            ]
          },
          "metadata": {}
        }
      ]
    },
    {
      "cell_type": "markdown",
      "source": [
        "## Display Results"
      ],
      "metadata": {
        "id": "xVXP0fKFzj1Z"
      }
    },
    {
      "cell_type": "code",
      "source": [
        "df = pd.DataFrame({'train_losses': metrics['train_losses'], 'test_losses': metrics['test_losses']})"
      ],
      "metadata": {
        "id": "qBXxW_lx4rM6"
      },
      "execution_count": 50,
      "outputs": []
    },
    {
      "cell_type": "code",
      "source": [
        "df.plot()"
      ],
      "metadata": {
        "colab": {
          "base_uri": "https://localhost:8080/",
          "height": 542
        },
        "id": "wEXQxw4wTjHN",
        "outputId": "fdfe6efe-20ab-4b51-ac13-ed27bd730622"
      },
      "execution_count": 51,
      "outputs": [
        {
          "output_type": "display_data",
          "data": {
            "text/html": [
              "<html>\n",
              "<head><meta charset=\"utf-8\" /></head>\n",
              "<body>\n",
              "    <div>            <script src=\"https://cdnjs.cloudflare.com/ajax/libs/mathjax/2.7.5/MathJax.js?config=TeX-AMS-MML_SVG\"></script><script type=\"text/javascript\">if (window.MathJax && window.MathJax.Hub && window.MathJax.Hub.Config) {window.MathJax.Hub.Config({SVG: {font: \"STIX-Web\"}});}</script>                <script type=\"text/javascript\">window.PlotlyConfig = {MathJaxConfig: 'local'};</script>\n",
              "        <script src=\"https://cdn.plot.ly/plotly-2.18.2.min.js\"></script>                <div id=\"566cb0ae-07ba-46f0-9363-9d297609ab0a\" class=\"plotly-graph-div\" style=\"height:525px; width:100%;\"></div>            <script type=\"text/javascript\">                                    window.PLOTLYENV=window.PLOTLYENV || {};                                    if (document.getElementById(\"566cb0ae-07ba-46f0-9363-9d297609ab0a\")) {                    Plotly.newPlot(                        \"566cb0ae-07ba-46f0-9363-9d297609ab0a\",                        [{\"hovertemplate\":\"variable=train_losses<br>index=%{x}<br>value=%{y}<extra></extra>\",\"legendgroup\":\"train_losses\",\"line\":{\"color\":\"#636efa\",\"dash\":\"solid\"},\"marker\":{\"symbol\":\"circle\"},\"mode\":\"lines\",\"name\":\"train_losses\",\"orientation\":\"v\",\"showlegend\":true,\"x\":[0,1,2,3,4,5,6,7,8,9,10,11,12,13,14,15,16,17,18,19],\"xaxis\":\"x\",\"y\":[1.8066732999308945,1.5383404060397916,1.4178531715632094,1.3229452804531283,1.2633022229994655,1.1997867507093094,1.0826396672317133,1.0513174361585047,1.0390124417022062,1.031916350354929,1.022347185465381,1.0123033829967079,0.9948051302024471,0.9868319871480508,0.9911830379529987,0.9860998895162206,0.9867585834944644,0.9802895816390776,0.9804749165654487,0.9823928207082822],\"yaxis\":\"y\",\"type\":\"scatter\"},{\"hovertemplate\":\"variable=test_losses<br>index=%{x}<br>value=%{y}<extra></extra>\",\"legendgroup\":\"test_losses\",\"line\":{\"color\":\"#EF553B\",\"dash\":\"solid\"},\"marker\":{\"symbol\":\"circle\"},\"mode\":\"lines\",\"name\":\"test_losses\",\"orientation\":\"v\",\"showlegend\":true,\"x\":[0,1,2,3,4,5,6,7,8,9,10,11,12,13,14,15,16,17,18,19],\"xaxis\":\"x\",\"y\":[1.5190672941207886,1.3806707733154298,1.2071826328277588,1.172049411392212,1.108406374168396,1.0546864727020264,0.9345724020004272,0.9353343063354492,0.907729927444458,0.897713607788086,0.8858849631309509,0.886601593208313,0.872822587776184,0.8711137543678283,0.8691565922737121,0.8694888231277466,0.865956405544281,0.8654804627418518,0.8643899971961975,0.8646349946975708],\"yaxis\":\"y\",\"type\":\"scatter\"}],                        {\"template\":{\"data\":{\"histogram2dcontour\":[{\"type\":\"histogram2dcontour\",\"colorbar\":{\"outlinewidth\":0,\"ticks\":\"\"},\"colorscale\":[[0.0,\"#0d0887\"],[0.1111111111111111,\"#46039f\"],[0.2222222222222222,\"#7201a8\"],[0.3333333333333333,\"#9c179e\"],[0.4444444444444444,\"#bd3786\"],[0.5555555555555556,\"#d8576b\"],[0.6666666666666666,\"#ed7953\"],[0.7777777777777778,\"#fb9f3a\"],[0.8888888888888888,\"#fdca26\"],[1.0,\"#f0f921\"]]}],\"choropleth\":[{\"type\":\"choropleth\",\"colorbar\":{\"outlinewidth\":0,\"ticks\":\"\"}}],\"histogram2d\":[{\"type\":\"histogram2d\",\"colorbar\":{\"outlinewidth\":0,\"ticks\":\"\"},\"colorscale\":[[0.0,\"#0d0887\"],[0.1111111111111111,\"#46039f\"],[0.2222222222222222,\"#7201a8\"],[0.3333333333333333,\"#9c179e\"],[0.4444444444444444,\"#bd3786\"],[0.5555555555555556,\"#d8576b\"],[0.6666666666666666,\"#ed7953\"],[0.7777777777777778,\"#fb9f3a\"],[0.8888888888888888,\"#fdca26\"],[1.0,\"#f0f921\"]]}],\"heatmap\":[{\"type\":\"heatmap\",\"colorbar\":{\"outlinewidth\":0,\"ticks\":\"\"},\"colorscale\":[[0.0,\"#0d0887\"],[0.1111111111111111,\"#46039f\"],[0.2222222222222222,\"#7201a8\"],[0.3333333333333333,\"#9c179e\"],[0.4444444444444444,\"#bd3786\"],[0.5555555555555556,\"#d8576b\"],[0.6666666666666666,\"#ed7953\"],[0.7777777777777778,\"#fb9f3a\"],[0.8888888888888888,\"#fdca26\"],[1.0,\"#f0f921\"]]}],\"heatmapgl\":[{\"type\":\"heatmapgl\",\"colorbar\":{\"outlinewidth\":0,\"ticks\":\"\"},\"colorscale\":[[0.0,\"#0d0887\"],[0.1111111111111111,\"#46039f\"],[0.2222222222222222,\"#7201a8\"],[0.3333333333333333,\"#9c179e\"],[0.4444444444444444,\"#bd3786\"],[0.5555555555555556,\"#d8576b\"],[0.6666666666666666,\"#ed7953\"],[0.7777777777777778,\"#fb9f3a\"],[0.8888888888888888,\"#fdca26\"],[1.0,\"#f0f921\"]]}],\"contourcarpet\":[{\"type\":\"contourcarpet\",\"colorbar\":{\"outlinewidth\":0,\"ticks\":\"\"}}],\"contour\":[{\"type\":\"contour\",\"colorbar\":{\"outlinewidth\":0,\"ticks\":\"\"},\"colorscale\":[[0.0,\"#0d0887\"],[0.1111111111111111,\"#46039f\"],[0.2222222222222222,\"#7201a8\"],[0.3333333333333333,\"#9c179e\"],[0.4444444444444444,\"#bd3786\"],[0.5555555555555556,\"#d8576b\"],[0.6666666666666666,\"#ed7953\"],[0.7777777777777778,\"#fb9f3a\"],[0.8888888888888888,\"#fdca26\"],[1.0,\"#f0f921\"]]}],\"surface\":[{\"type\":\"surface\",\"colorbar\":{\"outlinewidth\":0,\"ticks\":\"\"},\"colorscale\":[[0.0,\"#0d0887\"],[0.1111111111111111,\"#46039f\"],[0.2222222222222222,\"#7201a8\"],[0.3333333333333333,\"#9c179e\"],[0.4444444444444444,\"#bd3786\"],[0.5555555555555556,\"#d8576b\"],[0.6666666666666666,\"#ed7953\"],[0.7777777777777778,\"#fb9f3a\"],[0.8888888888888888,\"#fdca26\"],[1.0,\"#f0f921\"]]}],\"mesh3d\":[{\"type\":\"mesh3d\",\"colorbar\":{\"outlinewidth\":0,\"ticks\":\"\"}}],\"scatter\":[{\"fillpattern\":{\"fillmode\":\"overlay\",\"size\":10,\"solidity\":0.2},\"type\":\"scatter\"}],\"parcoords\":[{\"type\":\"parcoords\",\"line\":{\"colorbar\":{\"outlinewidth\":0,\"ticks\":\"\"}}}],\"scatterpolargl\":[{\"type\":\"scatterpolargl\",\"marker\":{\"colorbar\":{\"outlinewidth\":0,\"ticks\":\"\"}}}],\"bar\":[{\"error_x\":{\"color\":\"#2a3f5f\"},\"error_y\":{\"color\":\"#2a3f5f\"},\"marker\":{\"line\":{\"color\":\"#E5ECF6\",\"width\":0.5},\"pattern\":{\"fillmode\":\"overlay\",\"size\":10,\"solidity\":0.2}},\"type\":\"bar\"}],\"scattergeo\":[{\"type\":\"scattergeo\",\"marker\":{\"colorbar\":{\"outlinewidth\":0,\"ticks\":\"\"}}}],\"scatterpolar\":[{\"type\":\"scatterpolar\",\"marker\":{\"colorbar\":{\"outlinewidth\":0,\"ticks\":\"\"}}}],\"histogram\":[{\"marker\":{\"pattern\":{\"fillmode\":\"overlay\",\"size\":10,\"solidity\":0.2}},\"type\":\"histogram\"}],\"scattergl\":[{\"type\":\"scattergl\",\"marker\":{\"colorbar\":{\"outlinewidth\":0,\"ticks\":\"\"}}}],\"scatter3d\":[{\"type\":\"scatter3d\",\"line\":{\"colorbar\":{\"outlinewidth\":0,\"ticks\":\"\"}},\"marker\":{\"colorbar\":{\"outlinewidth\":0,\"ticks\":\"\"}}}],\"scattermapbox\":[{\"type\":\"scattermapbox\",\"marker\":{\"colorbar\":{\"outlinewidth\":0,\"ticks\":\"\"}}}],\"scatterternary\":[{\"type\":\"scatterternary\",\"marker\":{\"colorbar\":{\"outlinewidth\":0,\"ticks\":\"\"}}}],\"scattercarpet\":[{\"type\":\"scattercarpet\",\"marker\":{\"colorbar\":{\"outlinewidth\":0,\"ticks\":\"\"}}}],\"carpet\":[{\"aaxis\":{\"endlinecolor\":\"#2a3f5f\",\"gridcolor\":\"white\",\"linecolor\":\"white\",\"minorgridcolor\":\"white\",\"startlinecolor\":\"#2a3f5f\"},\"baxis\":{\"endlinecolor\":\"#2a3f5f\",\"gridcolor\":\"white\",\"linecolor\":\"white\",\"minorgridcolor\":\"white\",\"startlinecolor\":\"#2a3f5f\"},\"type\":\"carpet\"}],\"table\":[{\"cells\":{\"fill\":{\"color\":\"#EBF0F8\"},\"line\":{\"color\":\"white\"}},\"header\":{\"fill\":{\"color\":\"#C8D4E3\"},\"line\":{\"color\":\"white\"}},\"type\":\"table\"}],\"barpolar\":[{\"marker\":{\"line\":{\"color\":\"#E5ECF6\",\"width\":0.5},\"pattern\":{\"fillmode\":\"overlay\",\"size\":10,\"solidity\":0.2}},\"type\":\"barpolar\"}],\"pie\":[{\"automargin\":true,\"type\":\"pie\"}]},\"layout\":{\"autotypenumbers\":\"strict\",\"colorway\":[\"#636efa\",\"#EF553B\",\"#00cc96\",\"#ab63fa\",\"#FFA15A\",\"#19d3f3\",\"#FF6692\",\"#B6E880\",\"#FF97FF\",\"#FECB52\"],\"font\":{\"color\":\"#2a3f5f\"},\"hovermode\":\"closest\",\"hoverlabel\":{\"align\":\"left\"},\"paper_bgcolor\":\"white\",\"plot_bgcolor\":\"#E5ECF6\",\"polar\":{\"bgcolor\":\"#E5ECF6\",\"angularaxis\":{\"gridcolor\":\"white\",\"linecolor\":\"white\",\"ticks\":\"\"},\"radialaxis\":{\"gridcolor\":\"white\",\"linecolor\":\"white\",\"ticks\":\"\"}},\"ternary\":{\"bgcolor\":\"#E5ECF6\",\"aaxis\":{\"gridcolor\":\"white\",\"linecolor\":\"white\",\"ticks\":\"\"},\"baxis\":{\"gridcolor\":\"white\",\"linecolor\":\"white\",\"ticks\":\"\"},\"caxis\":{\"gridcolor\":\"white\",\"linecolor\":\"white\",\"ticks\":\"\"}},\"coloraxis\":{\"colorbar\":{\"outlinewidth\":0,\"ticks\":\"\"}},\"colorscale\":{\"sequential\":[[0.0,\"#0d0887\"],[0.1111111111111111,\"#46039f\"],[0.2222222222222222,\"#7201a8\"],[0.3333333333333333,\"#9c179e\"],[0.4444444444444444,\"#bd3786\"],[0.5555555555555556,\"#d8576b\"],[0.6666666666666666,\"#ed7953\"],[0.7777777777777778,\"#fb9f3a\"],[0.8888888888888888,\"#fdca26\"],[1.0,\"#f0f921\"]],\"sequentialminus\":[[0.0,\"#0d0887\"],[0.1111111111111111,\"#46039f\"],[0.2222222222222222,\"#7201a8\"],[0.3333333333333333,\"#9c179e\"],[0.4444444444444444,\"#bd3786\"],[0.5555555555555556,\"#d8576b\"],[0.6666666666666666,\"#ed7953\"],[0.7777777777777778,\"#fb9f3a\"],[0.8888888888888888,\"#fdca26\"],[1.0,\"#f0f921\"]],\"diverging\":[[0,\"#8e0152\"],[0.1,\"#c51b7d\"],[0.2,\"#de77ae\"],[0.3,\"#f1b6da\"],[0.4,\"#fde0ef\"],[0.5,\"#f7f7f7\"],[0.6,\"#e6f5d0\"],[0.7,\"#b8e186\"],[0.8,\"#7fbc41\"],[0.9,\"#4d9221\"],[1,\"#276419\"]]},\"xaxis\":{\"gridcolor\":\"white\",\"linecolor\":\"white\",\"ticks\":\"\",\"title\":{\"standoff\":15},\"zerolinecolor\":\"white\",\"automargin\":true,\"zerolinewidth\":2},\"yaxis\":{\"gridcolor\":\"white\",\"linecolor\":\"white\",\"ticks\":\"\",\"title\":{\"standoff\":15},\"zerolinecolor\":\"white\",\"automargin\":true,\"zerolinewidth\":2},\"scene\":{\"xaxis\":{\"backgroundcolor\":\"#E5ECF6\",\"gridcolor\":\"white\",\"linecolor\":\"white\",\"showbackground\":true,\"ticks\":\"\",\"zerolinecolor\":\"white\",\"gridwidth\":2},\"yaxis\":{\"backgroundcolor\":\"#E5ECF6\",\"gridcolor\":\"white\",\"linecolor\":\"white\",\"showbackground\":true,\"ticks\":\"\",\"zerolinecolor\":\"white\",\"gridwidth\":2},\"zaxis\":{\"backgroundcolor\":\"#E5ECF6\",\"gridcolor\":\"white\",\"linecolor\":\"white\",\"showbackground\":true,\"ticks\":\"\",\"zerolinecolor\":\"white\",\"gridwidth\":2}},\"shapedefaults\":{\"line\":{\"color\":\"#2a3f5f\"}},\"annotationdefaults\":{\"arrowcolor\":\"#2a3f5f\",\"arrowhead\":0,\"arrowwidth\":1},\"geo\":{\"bgcolor\":\"white\",\"landcolor\":\"#E5ECF6\",\"subunitcolor\":\"white\",\"showland\":true,\"showlakes\":true,\"lakecolor\":\"white\"},\"title\":{\"x\":0.05},\"mapbox\":{\"style\":\"light\"}}},\"xaxis\":{\"anchor\":\"y\",\"domain\":[0.0,1.0],\"title\":{\"text\":\"index\"}},\"yaxis\":{\"anchor\":\"x\",\"domain\":[0.0,1.0],\"title\":{\"text\":\"value\"}},\"legend\":{\"title\":{\"text\":\"variable\"},\"tracegroupgap\":0},\"margin\":{\"t\":60}},                        {\"responsive\": true}                    ).then(function(){\n",
              "                            \n",
              "var gd = document.getElementById('566cb0ae-07ba-46f0-9363-9d297609ab0a');\n",
              "var x = new MutationObserver(function (mutations, observer) {{\n",
              "        var display = window.getComputedStyle(gd).display;\n",
              "        if (!display || display === 'none') {{\n",
              "            console.log([gd, 'removed!']);\n",
              "            Plotly.purge(gd);\n",
              "            observer.disconnect();\n",
              "        }}\n",
              "}});\n",
              "\n",
              "// Listen for the removal of the full notebook cells\n",
              "var notebookContainer = gd.closest('#notebook-container');\n",
              "if (notebookContainer) {{\n",
              "    x.observe(notebookContainer, {childList: true});\n",
              "}}\n",
              "\n",
              "// Listen for the clearing of the current output cell\n",
              "var outputEl = gd.closest('.output');\n",
              "if (outputEl) {{\n",
              "    x.observe(outputEl, {childList: true});\n",
              "}}\n",
              "\n",
              "                        })                };                            </script>        </div>\n",
              "</body>\n",
              "</html>"
            ]
          },
          "metadata": {}
        }
      ]
    },
    {
      "cell_type": "code",
      "source": [
        "df = pd.DataFrame({'train_acc': metrics['train_acc'], 'test_acc': metrics['test_acc']})\n",
        "df.plot()"
      ],
      "metadata": {
        "colab": {
          "base_uri": "https://localhost:8080/",
          "height": 542
        },
        "id": "If8i_k7bTuWo",
        "outputId": "6d0e16c6-7c49-4d0b-a4b6-12c5e6572de2"
      },
      "execution_count": 52,
      "outputs": [
        {
          "output_type": "display_data",
          "data": {
            "text/html": [
              "<html>\n",
              "<head><meta charset=\"utf-8\" /></head>\n",
              "<body>\n",
              "    <div>            <script src=\"https://cdnjs.cloudflare.com/ajax/libs/mathjax/2.7.5/MathJax.js?config=TeX-AMS-MML_SVG\"></script><script type=\"text/javascript\">if (window.MathJax && window.MathJax.Hub && window.MathJax.Hub.Config) {window.MathJax.Hub.Config({SVG: {font: \"STIX-Web\"}});}</script>                <script type=\"text/javascript\">window.PlotlyConfig = {MathJaxConfig: 'local'};</script>\n",
              "        <script src=\"https://cdn.plot.ly/plotly-2.18.2.min.js\"></script>                <div id=\"a6089384-a689-48ee-8c7f-d7f4533e0ab2\" class=\"plotly-graph-div\" style=\"height:525px; width:100%;\"></div>            <script type=\"text/javascript\">                                    window.PLOTLYENV=window.PLOTLYENV || {};                                    if (document.getElementById(\"a6089384-a689-48ee-8c7f-d7f4533e0ab2\")) {                    Plotly.newPlot(                        \"a6089384-a689-48ee-8c7f-d7f4533e0ab2\",                        [{\"hovertemplate\":\"variable=train_acc<br>index=%{x}<br>value=%{y}<extra></extra>\",\"legendgroup\":\"train_acc\",\"line\":{\"color\":\"#636efa\",\"dash\":\"solid\"},\"marker\":{\"symbol\":\"circle\"},\"mode\":\"lines\",\"name\":\"train_acc\",\"orientation\":\"v\",\"showlegend\":true,\"x\":[0,1,2,3,4,5,6,7,8,9,10,11,12,13,14,15,16,17,18,19],\"xaxis\":\"x\",\"y\":[33.55,43.998,48.34,52.286,54.738,56.894,61.256,62.218,62.734,62.938,63.424,63.69,64.43,64.504,64.532,64.658,64.754,64.642,64.892,64.8],\"yaxis\":\"y\",\"type\":\"scatter\"},{\"hovertemplate\":\"variable=test_acc<br>index=%{x}<br>value=%{y}<extra></extra>\",\"legendgroup\":\"test_acc\",\"line\":{\"color\":\"#EF553B\",\"dash\":\"solid\"},\"marker\":{\"symbol\":\"circle\"},\"mode\":\"lines\",\"name\":\"test_acc\",\"orientation\":\"v\",\"showlegend\":true,\"x\":[0,1,2,3,4,5,6,7,8,9,10,11,12,13,14,15,16,17,18,19],\"xaxis\":\"x\",\"y\":[44.87,49.93,56.25,58.29,60.02,61.27,66.0,65.84,67.26,67.38,67.85,67.75,68.29,68.48,68.55,68.47,68.56,68.63,68.67,68.69],\"yaxis\":\"y\",\"type\":\"scatter\"}],                        {\"template\":{\"data\":{\"histogram2dcontour\":[{\"type\":\"histogram2dcontour\",\"colorbar\":{\"outlinewidth\":0,\"ticks\":\"\"},\"colorscale\":[[0.0,\"#0d0887\"],[0.1111111111111111,\"#46039f\"],[0.2222222222222222,\"#7201a8\"],[0.3333333333333333,\"#9c179e\"],[0.4444444444444444,\"#bd3786\"],[0.5555555555555556,\"#d8576b\"],[0.6666666666666666,\"#ed7953\"],[0.7777777777777778,\"#fb9f3a\"],[0.8888888888888888,\"#fdca26\"],[1.0,\"#f0f921\"]]}],\"choropleth\":[{\"type\":\"choropleth\",\"colorbar\":{\"outlinewidth\":0,\"ticks\":\"\"}}],\"histogram2d\":[{\"type\":\"histogram2d\",\"colorbar\":{\"outlinewidth\":0,\"ticks\":\"\"},\"colorscale\":[[0.0,\"#0d0887\"],[0.1111111111111111,\"#46039f\"],[0.2222222222222222,\"#7201a8\"],[0.3333333333333333,\"#9c179e\"],[0.4444444444444444,\"#bd3786\"],[0.5555555555555556,\"#d8576b\"],[0.6666666666666666,\"#ed7953\"],[0.7777777777777778,\"#fb9f3a\"],[0.8888888888888888,\"#fdca26\"],[1.0,\"#f0f921\"]]}],\"heatmap\":[{\"type\":\"heatmap\",\"colorbar\":{\"outlinewidth\":0,\"ticks\":\"\"},\"colorscale\":[[0.0,\"#0d0887\"],[0.1111111111111111,\"#46039f\"],[0.2222222222222222,\"#7201a8\"],[0.3333333333333333,\"#9c179e\"],[0.4444444444444444,\"#bd3786\"],[0.5555555555555556,\"#d8576b\"],[0.6666666666666666,\"#ed7953\"],[0.7777777777777778,\"#fb9f3a\"],[0.8888888888888888,\"#fdca26\"],[1.0,\"#f0f921\"]]}],\"heatmapgl\":[{\"type\":\"heatmapgl\",\"colorbar\":{\"outlinewidth\":0,\"ticks\":\"\"},\"colorscale\":[[0.0,\"#0d0887\"],[0.1111111111111111,\"#46039f\"],[0.2222222222222222,\"#7201a8\"],[0.3333333333333333,\"#9c179e\"],[0.4444444444444444,\"#bd3786\"],[0.5555555555555556,\"#d8576b\"],[0.6666666666666666,\"#ed7953\"],[0.7777777777777778,\"#fb9f3a\"],[0.8888888888888888,\"#fdca26\"],[1.0,\"#f0f921\"]]}],\"contourcarpet\":[{\"type\":\"contourcarpet\",\"colorbar\":{\"outlinewidth\":0,\"ticks\":\"\"}}],\"contour\":[{\"type\":\"contour\",\"colorbar\":{\"outlinewidth\":0,\"ticks\":\"\"},\"colorscale\":[[0.0,\"#0d0887\"],[0.1111111111111111,\"#46039f\"],[0.2222222222222222,\"#7201a8\"],[0.3333333333333333,\"#9c179e\"],[0.4444444444444444,\"#bd3786\"],[0.5555555555555556,\"#d8576b\"],[0.6666666666666666,\"#ed7953\"],[0.7777777777777778,\"#fb9f3a\"],[0.8888888888888888,\"#fdca26\"],[1.0,\"#f0f921\"]]}],\"surface\":[{\"type\":\"surface\",\"colorbar\":{\"outlinewidth\":0,\"ticks\":\"\"},\"colorscale\":[[0.0,\"#0d0887\"],[0.1111111111111111,\"#46039f\"],[0.2222222222222222,\"#7201a8\"],[0.3333333333333333,\"#9c179e\"],[0.4444444444444444,\"#bd3786\"],[0.5555555555555556,\"#d8576b\"],[0.6666666666666666,\"#ed7953\"],[0.7777777777777778,\"#fb9f3a\"],[0.8888888888888888,\"#fdca26\"],[1.0,\"#f0f921\"]]}],\"mesh3d\":[{\"type\":\"mesh3d\",\"colorbar\":{\"outlinewidth\":0,\"ticks\":\"\"}}],\"scatter\":[{\"fillpattern\":{\"fillmode\":\"overlay\",\"size\":10,\"solidity\":0.2},\"type\":\"scatter\"}],\"parcoords\":[{\"type\":\"parcoords\",\"line\":{\"colorbar\":{\"outlinewidth\":0,\"ticks\":\"\"}}}],\"scatterpolargl\":[{\"type\":\"scatterpolargl\",\"marker\":{\"colorbar\":{\"outlinewidth\":0,\"ticks\":\"\"}}}],\"bar\":[{\"error_x\":{\"color\":\"#2a3f5f\"},\"error_y\":{\"color\":\"#2a3f5f\"},\"marker\":{\"line\":{\"color\":\"#E5ECF6\",\"width\":0.5},\"pattern\":{\"fillmode\":\"overlay\",\"size\":10,\"solidity\":0.2}},\"type\":\"bar\"}],\"scattergeo\":[{\"type\":\"scattergeo\",\"marker\":{\"colorbar\":{\"outlinewidth\":0,\"ticks\":\"\"}}}],\"scatterpolar\":[{\"type\":\"scatterpolar\",\"marker\":{\"colorbar\":{\"outlinewidth\":0,\"ticks\":\"\"}}}],\"histogram\":[{\"marker\":{\"pattern\":{\"fillmode\":\"overlay\",\"size\":10,\"solidity\":0.2}},\"type\":\"histogram\"}],\"scattergl\":[{\"type\":\"scattergl\",\"marker\":{\"colorbar\":{\"outlinewidth\":0,\"ticks\":\"\"}}}],\"scatter3d\":[{\"type\":\"scatter3d\",\"line\":{\"colorbar\":{\"outlinewidth\":0,\"ticks\":\"\"}},\"marker\":{\"colorbar\":{\"outlinewidth\":0,\"ticks\":\"\"}}}],\"scattermapbox\":[{\"type\":\"scattermapbox\",\"marker\":{\"colorbar\":{\"outlinewidth\":0,\"ticks\":\"\"}}}],\"scatterternary\":[{\"type\":\"scatterternary\",\"marker\":{\"colorbar\":{\"outlinewidth\":0,\"ticks\":\"\"}}}],\"scattercarpet\":[{\"type\":\"scattercarpet\",\"marker\":{\"colorbar\":{\"outlinewidth\":0,\"ticks\":\"\"}}}],\"carpet\":[{\"aaxis\":{\"endlinecolor\":\"#2a3f5f\",\"gridcolor\":\"white\",\"linecolor\":\"white\",\"minorgridcolor\":\"white\",\"startlinecolor\":\"#2a3f5f\"},\"baxis\":{\"endlinecolor\":\"#2a3f5f\",\"gridcolor\":\"white\",\"linecolor\":\"white\",\"minorgridcolor\":\"white\",\"startlinecolor\":\"#2a3f5f\"},\"type\":\"carpet\"}],\"table\":[{\"cells\":{\"fill\":{\"color\":\"#EBF0F8\"},\"line\":{\"color\":\"white\"}},\"header\":{\"fill\":{\"color\":\"#C8D4E3\"},\"line\":{\"color\":\"white\"}},\"type\":\"table\"}],\"barpolar\":[{\"marker\":{\"line\":{\"color\":\"#E5ECF6\",\"width\":0.5},\"pattern\":{\"fillmode\":\"overlay\",\"size\":10,\"solidity\":0.2}},\"type\":\"barpolar\"}],\"pie\":[{\"automargin\":true,\"type\":\"pie\"}]},\"layout\":{\"autotypenumbers\":\"strict\",\"colorway\":[\"#636efa\",\"#EF553B\",\"#00cc96\",\"#ab63fa\",\"#FFA15A\",\"#19d3f3\",\"#FF6692\",\"#B6E880\",\"#FF97FF\",\"#FECB52\"],\"font\":{\"color\":\"#2a3f5f\"},\"hovermode\":\"closest\",\"hoverlabel\":{\"align\":\"left\"},\"paper_bgcolor\":\"white\",\"plot_bgcolor\":\"#E5ECF6\",\"polar\":{\"bgcolor\":\"#E5ECF6\",\"angularaxis\":{\"gridcolor\":\"white\",\"linecolor\":\"white\",\"ticks\":\"\"},\"radialaxis\":{\"gridcolor\":\"white\",\"linecolor\":\"white\",\"ticks\":\"\"}},\"ternary\":{\"bgcolor\":\"#E5ECF6\",\"aaxis\":{\"gridcolor\":\"white\",\"linecolor\":\"white\",\"ticks\":\"\"},\"baxis\":{\"gridcolor\":\"white\",\"linecolor\":\"white\",\"ticks\":\"\"},\"caxis\":{\"gridcolor\":\"white\",\"linecolor\":\"white\",\"ticks\":\"\"}},\"coloraxis\":{\"colorbar\":{\"outlinewidth\":0,\"ticks\":\"\"}},\"colorscale\":{\"sequential\":[[0.0,\"#0d0887\"],[0.1111111111111111,\"#46039f\"],[0.2222222222222222,\"#7201a8\"],[0.3333333333333333,\"#9c179e\"],[0.4444444444444444,\"#bd3786\"],[0.5555555555555556,\"#d8576b\"],[0.6666666666666666,\"#ed7953\"],[0.7777777777777778,\"#fb9f3a\"],[0.8888888888888888,\"#fdca26\"],[1.0,\"#f0f921\"]],\"sequentialminus\":[[0.0,\"#0d0887\"],[0.1111111111111111,\"#46039f\"],[0.2222222222222222,\"#7201a8\"],[0.3333333333333333,\"#9c179e\"],[0.4444444444444444,\"#bd3786\"],[0.5555555555555556,\"#d8576b\"],[0.6666666666666666,\"#ed7953\"],[0.7777777777777778,\"#fb9f3a\"],[0.8888888888888888,\"#fdca26\"],[1.0,\"#f0f921\"]],\"diverging\":[[0,\"#8e0152\"],[0.1,\"#c51b7d\"],[0.2,\"#de77ae\"],[0.3,\"#f1b6da\"],[0.4,\"#fde0ef\"],[0.5,\"#f7f7f7\"],[0.6,\"#e6f5d0\"],[0.7,\"#b8e186\"],[0.8,\"#7fbc41\"],[0.9,\"#4d9221\"],[1,\"#276419\"]]},\"xaxis\":{\"gridcolor\":\"white\",\"linecolor\":\"white\",\"ticks\":\"\",\"title\":{\"standoff\":15},\"zerolinecolor\":\"white\",\"automargin\":true,\"zerolinewidth\":2},\"yaxis\":{\"gridcolor\":\"white\",\"linecolor\":\"white\",\"ticks\":\"\",\"title\":{\"standoff\":15},\"zerolinecolor\":\"white\",\"automargin\":true,\"zerolinewidth\":2},\"scene\":{\"xaxis\":{\"backgroundcolor\":\"#E5ECF6\",\"gridcolor\":\"white\",\"linecolor\":\"white\",\"showbackground\":true,\"ticks\":\"\",\"zerolinecolor\":\"white\",\"gridwidth\":2},\"yaxis\":{\"backgroundcolor\":\"#E5ECF6\",\"gridcolor\":\"white\",\"linecolor\":\"white\",\"showbackground\":true,\"ticks\":\"\",\"zerolinecolor\":\"white\",\"gridwidth\":2},\"zaxis\":{\"backgroundcolor\":\"#E5ECF6\",\"gridcolor\":\"white\",\"linecolor\":\"white\",\"showbackground\":true,\"ticks\":\"\",\"zerolinecolor\":\"white\",\"gridwidth\":2}},\"shapedefaults\":{\"line\":{\"color\":\"#2a3f5f\"}},\"annotationdefaults\":{\"arrowcolor\":\"#2a3f5f\",\"arrowhead\":0,\"arrowwidth\":1},\"geo\":{\"bgcolor\":\"white\",\"landcolor\":\"#E5ECF6\",\"subunitcolor\":\"white\",\"showland\":true,\"showlakes\":true,\"lakecolor\":\"white\"},\"title\":{\"x\":0.05},\"mapbox\":{\"style\":\"light\"}}},\"xaxis\":{\"anchor\":\"y\",\"domain\":[0.0,1.0],\"title\":{\"text\":\"index\"}},\"yaxis\":{\"anchor\":\"x\",\"domain\":[0.0,1.0],\"title\":{\"text\":\"value\"}},\"legend\":{\"title\":{\"text\":\"variable\"},\"tracegroupgap\":0},\"margin\":{\"t\":60}},                        {\"responsive\": true}                    ).then(function(){\n",
              "                            \n",
              "var gd = document.getElementById('a6089384-a689-48ee-8c7f-d7f4533e0ab2');\n",
              "var x = new MutationObserver(function (mutations, observer) {{\n",
              "        var display = window.getComputedStyle(gd).display;\n",
              "        if (!display || display === 'none') {{\n",
              "            console.log([gd, 'removed!']);\n",
              "            Plotly.purge(gd);\n",
              "            observer.disconnect();\n",
              "        }}\n",
              "}});\n",
              "\n",
              "// Listen for the removal of the full notebook cells\n",
              "var notebookContainer = gd.closest('#notebook-container');\n",
              "if (notebookContainer) {{\n",
              "    x.observe(notebookContainer, {childList: true});\n",
              "}}\n",
              "\n",
              "// Listen for the clearing of the current output cell\n",
              "var outputEl = gd.closest('.output');\n",
              "if (outputEl) {{\n",
              "    x.observe(outputEl, {childList: true});\n",
              "}}\n",
              "\n",
              "                        })                };                            </script>        </div>\n",
              "</body>\n",
              "</html>"
            ]
          },
          "metadata": {}
        }
      ]
    }
  ]
}