{
  "nbformat": 4,
  "nbformat_minor": 0,
  "metadata": {
    "colab": {
      "provenance": [],
      "gpuType": "T4",
      "include_colab_link": true
    },
    "kernelspec": {
      "name": "python3",
      "display_name": "Python 3"
    },
    "language_info": {
      "name": "python"
    },
    "accelerator": "GPU",
    "gpuClass": "standard"
  },
  "cells": [
    {
      "cell_type": "markdown",
      "metadata": {
        "id": "view-in-github",
        "colab_type": "text"
      },
      "source": [
        "<a href=\"https://colab.research.google.com/github/siva-sankar-a/erav1/blob/main/session_8_cifar_10_50k_20_epochs_regularization/Session_8_CIFAR10_batch_normalization.ipynb\" target=\"_parent\"><img src=\"https://colab.research.google.com/assets/colab-badge.svg\" alt=\"Open In Colab\"/></a>"
      ]
    },
    {
      "cell_type": "markdown",
      "source": [
        "# ERA V1 Session 8\n",
        "## Refer [link](https://github.com/siva-sankar-a/erav1/tree/session/session-6-multiple-architecture-check/session_6_multiple_architectures_mnist#readme) for further documentation"
      ],
      "metadata": {
        "id": "vxvrP2Onom0u"
      }
    },
    {
      "cell_type": "markdown",
      "source": [
        "## Cloning the Github repository\n",
        "## [Session 8](https://github.com/siva-sankar-a/erav1.git)"
      ],
      "metadata": {
        "id": "0D7qh1EynkZJ"
      }
    },
    {
      "cell_type": "code",
      "source": [
        "!pip install torchviz"
      ],
      "metadata": {
        "colab": {
          "base_uri": "https://localhost:8080/"
        },
        "id": "wM7bEw9vZnNQ",
        "outputId": "85571341-4759-4137-a2f6-694d9191547c"
      },
      "execution_count": 1,
      "outputs": [
        {
          "output_type": "stream",
          "name": "stdout",
          "text": [
            "Looking in indexes: https://pypi.org/simple, https://us-python.pkg.dev/colab-wheels/public/simple/\n",
            "Collecting torchviz\n",
            "  Downloading torchviz-0.0.2.tar.gz (4.9 kB)\n",
            "  Preparing metadata (setup.py) ... \u001b[?25l\u001b[?25hdone\n",
            "Requirement already satisfied: torch in /usr/local/lib/python3.10/dist-packages (from torchviz) (2.0.1+cu118)\n",
            "Requirement already satisfied: graphviz in /usr/local/lib/python3.10/dist-packages (from torchviz) (0.20.1)\n",
            "Requirement already satisfied: filelock in /usr/local/lib/python3.10/dist-packages (from torch->torchviz) (3.12.2)\n",
            "Requirement already satisfied: typing-extensions in /usr/local/lib/python3.10/dist-packages (from torch->torchviz) (4.6.3)\n",
            "Requirement already satisfied: sympy in /usr/local/lib/python3.10/dist-packages (from torch->torchviz) (1.11.1)\n",
            "Requirement already satisfied: networkx in /usr/local/lib/python3.10/dist-packages (from torch->torchviz) (3.1)\n",
            "Requirement already satisfied: jinja2 in /usr/local/lib/python3.10/dist-packages (from torch->torchviz) (3.1.2)\n",
            "Requirement already satisfied: triton==2.0.0 in /usr/local/lib/python3.10/dist-packages (from torch->torchviz) (2.0.0)\n",
            "Requirement already satisfied: cmake in /usr/local/lib/python3.10/dist-packages (from triton==2.0.0->torch->torchviz) (3.25.2)\n",
            "Requirement already satisfied: lit in /usr/local/lib/python3.10/dist-packages (from triton==2.0.0->torch->torchviz) (16.0.6)\n",
            "Requirement already satisfied: MarkupSafe>=2.0 in /usr/local/lib/python3.10/dist-packages (from jinja2->torch->torchviz) (2.1.3)\n",
            "Requirement already satisfied: mpmath>=0.19 in /usr/local/lib/python3.10/dist-packages (from sympy->torch->torchviz) (1.3.0)\n",
            "Building wheels for collected packages: torchviz\n",
            "  Building wheel for torchviz (setup.py) ... \u001b[?25l\u001b[?25hdone\n",
            "  Created wheel for torchviz: filename=torchviz-0.0.2-py3-none-any.whl size=4131 sha256=344d849fbbb602306aa6402e866e08095be9ee41189788699c510f3844539282\n",
            "  Stored in directory: /root/.cache/pip/wheels/4c/97/88/a02973217949e0db0c9f4346d154085f4725f99c4f15a87094\n",
            "Successfully built torchviz\n",
            "Installing collected packages: torchviz\n",
            "Successfully installed torchviz-0.0.2\n"
          ]
        }
      ]
    },
    {
      "cell_type": "code",
      "source": [
        "!git clone https://github.com/siva-sankar-a/erav1.git"
      ],
      "metadata": {
        "colab": {
          "base_uri": "https://localhost:8080/"
        },
        "id": "c75NRuJHmxzV",
        "outputId": "9896a288-192a-4c48-8120-d64194f23451"
      },
      "execution_count": 2,
      "outputs": [
        {
          "output_type": "stream",
          "name": "stdout",
          "text": [
            "Cloning into 'erav1'...\n",
            "remote: Enumerating objects: 219, done.\u001b[K\n",
            "remote: Counting objects: 100% (79/79), done.\u001b[K\n",
            "remote: Compressing objects: 100% (70/70), done.\u001b[K\n",
            "remote: Total 219 (delta 39), reused 20 (delta 8), pack-reused 140\u001b[K\n",
            "Receiving objects: 100% (219/219), 622.47 KiB | 7.32 MiB/s, done.\n",
            "Resolving deltas: 100% (110/110), done.\n"
          ]
        }
      ]
    },
    {
      "cell_type": "code",
      "source": [
        "%cd /content/erav1"
      ],
      "metadata": {
        "colab": {
          "base_uri": "https://localhost:8080/"
        },
        "id": "_TcPvRRLzL8m",
        "outputId": "794276a7-ea87-4944-c910-42882cd7a7b7"
      },
      "execution_count": 3,
      "outputs": [
        {
          "output_type": "stream",
          "name": "stdout",
          "text": [
            "/content/erav1\n"
          ]
        }
      ]
    },
    {
      "cell_type": "code",
      "source": [
        "!git pull"
      ],
      "metadata": {
        "colab": {
          "base_uri": "https://localhost:8080/"
        },
        "id": "rl5OraqvzON6",
        "outputId": "782c931c-00e9-4e4c-fd0f-4fa62ec5a9c9"
      },
      "execution_count": 4,
      "outputs": [
        {
          "output_type": "stream",
          "name": "stdout",
          "text": [
            "Already up to date.\n"
          ]
        }
      ]
    },
    {
      "cell_type": "markdown",
      "source": [
        "## Adding the session folder to path in order to access the functions defined"
      ],
      "metadata": {
        "id": "kn9Duybtn916"
      }
    },
    {
      "cell_type": "code",
      "source": [
        "%load_ext autoreload\n",
        "%autoreload 2"
      ],
      "metadata": {
        "id": "VZHmptkFtQLs"
      },
      "execution_count": 5,
      "outputs": []
    },
    {
      "cell_type": "code",
      "source": [
        "import os\n",
        "import sys"
      ],
      "metadata": {
        "id": "etBGZdEBnLgi"
      },
      "execution_count": 6,
      "outputs": []
    },
    {
      "cell_type": "code",
      "source": [
        "sys.path.append('/content/erav1/session_8_cifar_10_50k_20_epochs_regularization')"
      ],
      "metadata": {
        "id": "dmlfbkJ5nQF0"
      },
      "execution_count": 7,
      "outputs": []
    },
    {
      "cell_type": "code",
      "source": [
        "import importlib"
      ],
      "metadata": {
        "id": "hYq-JprOx5C5"
      },
      "execution_count": 8,
      "outputs": []
    },
    {
      "cell_type": "code",
      "source": [
        "import utils as U\n",
        "import datasets as ds\n",
        "import transforms as tf"
      ],
      "metadata": {
        "id": "fcdNScH6ndwQ"
      },
      "execution_count": 9,
      "outputs": []
    },
    {
      "cell_type": "code",
      "source": [
        "U = importlib.reload(U)\n",
        "ds = importlib.reload(ds)\n",
        "tf = importlib.reload(tf)"
      ],
      "metadata": {
        "id": "1eZpnItfx7Ua"
      },
      "execution_count": 137,
      "outputs": []
    },
    {
      "cell_type": "markdown",
      "source": [
        "## Get device"
      ],
      "metadata": {
        "id": "JXU1Lk2JoQTu"
      }
    },
    {
      "cell_type": "code",
      "source": [
        "device = U.get_device()\n",
        "print(device)"
      ],
      "metadata": {
        "colab": {
          "base_uri": "https://localhost:8080/"
        },
        "id": "82LKarofoL7z",
        "outputId": "350fe1ad-eb7c-484d-836b-c87d1d97f4bc"
      },
      "execution_count": 10,
      "outputs": [
        {
          "output_type": "stream",
          "name": "stdout",
          "text": [
            "CUDA Available? True\n",
            "cuda\n"
          ]
        }
      ]
    },
    {
      "cell_type": "code",
      "source": [
        "import pandas as pd"
      ],
      "metadata": {
        "id": "AS8QFBG24Saq"
      },
      "execution_count": 11,
      "outputs": []
    },
    {
      "cell_type": "code",
      "source": [
        "pd.options.plotting.backend = \"plotly\""
      ],
      "metadata": {
        "id": "wx6n36Hk4WSb"
      },
      "execution_count": 12,
      "outputs": []
    },
    {
      "cell_type": "markdown",
      "source": [
        "## Get train and test transforms"
      ],
      "metadata": {
        "id": "0Lvm6vCjoXrw"
      }
    },
    {
      "cell_type": "code",
      "source": [
        "train_transforms = tf.get_train_transforms()\n",
        "test_transforms = tf.get_test_transforms()"
      ],
      "metadata": {
        "id": "TCqAEH39oiVI"
      },
      "execution_count": 13,
      "outputs": []
    },
    {
      "cell_type": "code",
      "source": [
        "from torchvision import datasets, transforms\n",
        "import numpy as np"
      ],
      "metadata": {
        "id": "5jmS0cIh0I2-"
      },
      "execution_count": 14,
      "outputs": []
    },
    {
      "cell_type": "code",
      "source": [
        "from torch.utils.data import WeightedRandomSampler"
      ],
      "metadata": {
        "id": "mFN3lZviTZ53"
      },
      "execution_count": 15,
      "outputs": []
    },
    {
      "cell_type": "code",
      "source": [
        "def cutout(mask_size, p, cutout_inside, mask_color=(0, 0, 0)):\n",
        "    mask_size_half = mask_size // 2\n",
        "    offset = 1 if mask_size % 2 == 0 else 0\n",
        "\n",
        "    def _cutout(image):\n",
        "        image = np.asarray(image).copy()\n",
        "\n",
        "        if np.random.random() > p:\n",
        "            return image\n",
        "\n",
        "        h, w = image.shape[:2]\n",
        "\n",
        "        if cutout_inside:\n",
        "            cxmin, cxmax = mask_size_half, w + offset - mask_size_half\n",
        "            cymin, cymax = mask_size_half, h + offset - mask_size_half\n",
        "        else:\n",
        "            cxmin, cxmax = 0, w + offset\n",
        "            cymin, cymax = 0, h + offset\n",
        "\n",
        "        cx = np.random.randint(cxmin, cxmax)\n",
        "        cy = np.random.randint(cymin, cymax)\n",
        "        xmin = cx - mask_size_half\n",
        "        ymin = cy - mask_size_half\n",
        "        xmax = xmin + mask_size\n",
        "        ymax = ymin + mask_size\n",
        "        xmin = max(0, xmin)\n",
        "        ymin = max(0, ymin)\n",
        "        xmax = min(w, xmax)\n",
        "        ymax = min(h, ymax)\n",
        "        image[ymin:ymax, xmin:xmax] = mask_color\n",
        "        return image\n",
        "\n",
        "    return _cutout"
      ],
      "metadata": {
        "id": "g1UqTI2I8Hbh"
      },
      "execution_count": 16,
      "outputs": []
    },
    {
      "cell_type": "code",
      "source": [
        "train_transforms = transforms.Compose([\n",
        "                                    # transforms.RandomRotation((-5.0, 5.0), fill=(1,)),\n",
        "                                    # transforms.ElasticTransform(alpha=100.0, sigma=5.0, interpolation=transforms.InterpolationMode.NEAREST),\n",
        "                                    # transforms.RandomInvert(p=0.5),\n",
        "                                    cutout(16, 0.5, True),\n",
        "                                    transforms.ToTensor(),\n",
        "                                    transforms.Normalize((0.4913997551666284, 0.48215855929893703, 0.4465309133731618),\n",
        "                                                          (0.24703225141799082, 0.24348516474564, 0.26158783926049628))\n",
        "                                    ])"
      ],
      "metadata": {
        "id": "iGqHDZLL0A_u"
      },
      "execution_count": 17,
      "outputs": []
    },
    {
      "cell_type": "code",
      "source": [
        "test_transforms = transforms.Compose([\n",
        "                                    # transforms.RandomRotation((-7.0, 7.0), fill=(1,)),\n",
        "                                    transforms.ToTensor(),\n",
        "                                    transforms.Normalize((0.4913997551666284, 0.48215855929893703, 0.4465309133731618),\n",
        "                                                          (0.24703225141799082, 0.24348516474564, 0.26158783926049628))\n",
        "                                    ])"
      ],
      "metadata": {
        "id": "jTFC19j50DBx"
      },
      "execution_count": 18,
      "outputs": []
    },
    {
      "cell_type": "markdown",
      "source": [
        "## Get dataset"
      ],
      "metadata": {
        "id": "l-tMVwqzpDD4"
      }
    },
    {
      "cell_type": "code",
      "source": [
        "train_dataset = ds.get_train_dataset(train_transforms)\n",
        "test_dataset = ds.get_test_dataset(test_transforms)"
      ],
      "metadata": {
        "id": "x0EKJeSvpHMc",
        "colab": {
          "base_uri": "https://localhost:8080/"
        },
        "outputId": "0e70885f-d596-40f7-8531-f84ae99d0455"
      },
      "execution_count": 19,
      "outputs": [
        {
          "output_type": "stream",
          "name": "stdout",
          "text": [
            "Downloading https://www.cs.toronto.edu/~kriz/cifar-10-python.tar.gz to ../data/cifar-10-python.tar.gz\n"
          ]
        },
        {
          "output_type": "stream",
          "name": "stderr",
          "text": [
            "100%|██████████| 170498071/170498071 [00:03<00:00, 49052957.01it/s]\n"
          ]
        },
        {
          "output_type": "stream",
          "name": "stdout",
          "text": [
            "Extracting ../data/cifar-10-python.tar.gz to ../data\n",
            "Files already downloaded and verified\n"
          ]
        }
      ]
    },
    {
      "cell_type": "markdown",
      "source": [
        "## Get train and test dataloader"
      ],
      "metadata": {
        "id": "mHGXKHJHpMpD"
      }
    },
    {
      "cell_type": "code",
      "source": [
        "import torch"
      ],
      "metadata": {
        "id": "M5O00LkyUIJl"
      },
      "execution_count": 20,
      "outputs": []
    },
    {
      "cell_type": "code",
      "source": [
        "label_weights = { 0: 1.0, 1: 1.0, 2: 1.0, 3: 1.0, 4: 1.0, 5: 1.0, 6: 1.0, 7: 1.0, 8: 1.0, 9: 1.0}"
      ],
      "metadata": {
        "id": "wdcA84QPYMvD"
      },
      "execution_count": 21,
      "outputs": []
    },
    {
      "cell_type": "code",
      "source": [
        "_weights = [label_weights[label] for label in train_dataset.targets]"
      ],
      "metadata": {
        "id": "alTROWJwX_Kl"
      },
      "execution_count": 22,
      "outputs": []
    },
    {
      "cell_type": "code",
      "source": [
        "batch_size = 128\n",
        "sampler = torch.utils.data.sampler.WeightedRandomSampler(_weights, len(train_dataset), replacement=False)"
      ],
      "metadata": {
        "id": "5Du_OfgxT8vj"
      },
      "execution_count": 23,
      "outputs": []
    },
    {
      "cell_type": "code",
      "source": [
        "kwargs = {'batch_size': batch_size, 'shuffle': False, 'num_workers': 2, 'pin_memory': True}\n",
        "\n",
        "train_dataloader = ds.get_train_dataloader(train_dataset, sampler=sampler, **kwargs)\n",
        "test_dataloader = ds.get_test_dataloader(test_dataset, **kwargs)"
      ],
      "metadata": {
        "id": "bKV3bOKbpKpQ"
      },
      "execution_count": 24,
      "outputs": []
    },
    {
      "cell_type": "markdown",
      "source": [
        "## Display image grid"
      ],
      "metadata": {
        "id": "41RCssjDpaJg"
      }
    },
    {
      "cell_type": "code",
      "source": [
        "U.show_image_grid(train_dataloader)"
      ],
      "metadata": {
        "colab": {
          "base_uri": "https://localhost:8080/",
          "height": 671
        },
        "id": "VbQ_ujZnpfnA",
        "outputId": "782a9a46-1cd5-4de8-e58f-0ebf6c0cd46c"
      },
      "execution_count": 25,
      "outputs": [
        {
          "output_type": "stream",
          "name": "stderr",
          "text": [
            "WARNING:matplotlib.image:Clipping input data to the valid range for imshow with RGB data ([0..1] for floats or [0..255] for integers).\n",
            "WARNING:matplotlib.image:Clipping input data to the valid range for imshow with RGB data ([0..1] for floats or [0..255] for integers).\n",
            "WARNING:matplotlib.image:Clipping input data to the valid range for imshow with RGB data ([0..1] for floats or [0..255] for integers).\n",
            "WARNING:matplotlib.image:Clipping input data to the valid range for imshow with RGB data ([0..1] for floats or [0..255] for integers).\n",
            "WARNING:matplotlib.image:Clipping input data to the valid range for imshow with RGB data ([0..1] for floats or [0..255] for integers).\n",
            "WARNING:matplotlib.image:Clipping input data to the valid range for imshow with RGB data ([0..1] for floats or [0..255] for integers).\n",
            "WARNING:matplotlib.image:Clipping input data to the valid range for imshow with RGB data ([0..1] for floats or [0..255] for integers).\n",
            "WARNING:matplotlib.image:Clipping input data to the valid range for imshow with RGB data ([0..1] for floats or [0..255] for integers).\n",
            "WARNING:matplotlib.image:Clipping input data to the valid range for imshow with RGB data ([0..1] for floats or [0..255] for integers).\n",
            "WARNING:matplotlib.image:Clipping input data to the valid range for imshow with RGB data ([0..1] for floats or [0..255] for integers).\n",
            "WARNING:matplotlib.image:Clipping input data to the valid range for imshow with RGB data ([0..1] for floats or [0..255] for integers).\n",
            "WARNING:matplotlib.image:Clipping input data to the valid range for imshow with RGB data ([0..1] for floats or [0..255] for integers).\n"
          ]
        },
        {
          "output_type": "display_data",
          "data": {
            "text/plain": [
              "<Figure size 640x480 with 12 Axes>"
            ],
            "image/png": "[encoded data removed]"
          },
          "metadata": {}
        }
      ]
    },
    {
      "cell_type": "code",
      "source": [
        "!git clone https://github.com/Fangyh09/pytorch-receptive-field.git"
      ],
      "metadata": {
        "colab": {
          "base_uri": "https://localhost:8080/"
        },
        "id": "Vcg388r_mioi",
        "outputId": "aad13f34-d696-4a77-a882-b64ae5f6824d"
      },
      "execution_count": 26,
      "outputs": [
        {
          "output_type": "stream",
          "name": "stdout",
          "text": [
            "Cloning into 'pytorch-receptive-field'...\n",
            "remote: Enumerating objects: 111, done.\u001b[K\n",
            "remote: Counting objects:   2% (1/44)\u001b[K\rremote: Counting objects:   4% (2/44)\u001b[K\rremote: Counting objects:   6% (3/44)\u001b[K\rremote: Counting objects:   9% (4/44)\u001b[K\rremote: Counting objects:  11% (5/44)\u001b[K\rremote: Counting objects:  13% (6/44)\u001b[K\rremote: Counting objects:  15% (7/44)\u001b[K\rremote: Counting objects:  18% (8/44)\u001b[K\rremote: Counting objects:  20% (9/44)\u001b[K\rremote: Counting objects:  22% (10/44)\u001b[K\rremote: Counting objects:  25% (11/44)\u001b[K\rremote: Counting objects:  27% (12/44)\u001b[K\rremote: Counting objects:  29% (13/44)\u001b[K\rremote: Counting objects:  31% (14/44)\u001b[K\rremote: Counting objects:  34% (15/44)\u001b[K\rremote: Counting objects:  36% (16/44)\u001b[K\rremote: Counting objects:  38% (17/44)\u001b[K\rremote: Counting objects:  40% (18/44)\u001b[K\rremote: Counting objects:  43% (19/44)\u001b[K\rremote: Counting objects:  45% (20/44)\u001b[K\rremote: Counting objects:  47% (21/44)\u001b[K\rremote: Counting objects:  50% (22/44)\u001b[K\rremote: Counting objects:  52% (23/44)\u001b[K\rremote: Counting objects:  54% (24/44)\u001b[K\rremote: Counting objects:  56% (25/44)\u001b[K\rremote: Counting objects:  59% (26/44)\u001b[K\rremote: Counting objects:  61% (27/44)\u001b[K\rremote: Counting objects:  63% (28/44)\u001b[K\rremote: Counting objects:  65% (29/44)\u001b[K\rremote: Counting objects:  68% (30/44)\u001b[K\rremote: Counting objects:  70% (31/44)\u001b[K\rremote: Counting objects:  72% (32/44)\u001b[K\rremote: Counting objects:  75% (33/44)\u001b[K\rremote: Counting objects:  77% (34/44)\u001b[K\rremote: Counting objects:  79% (35/44)\u001b[K\rremote: Counting objects:  81% (36/44)\u001b[K\rremote: Counting objects:  84% (37/44)\u001b[K\rremote: Counting objects:  86% (38/44)\u001b[K\rremote: Counting objects:  88% (39/44)\u001b[K\rremote: Counting objects:  90% (40/44)\u001b[K\rremote: Counting objects:  93% (41/44)\u001b[K\rremote: Counting objects:  95% (42/44)\u001b[K\rremote: Counting objects:  97% (43/44)\u001b[K\rremote: Counting objects: 100% (44/44)\u001b[K\rremote: Counting objects: 100% (44/44), done.\u001b[K\n",
            "remote: Compressing objects:   4% (1/21)\u001b[K\rremote: Compressing objects:   9% (2/21)\u001b[K\rremote: Compressing objects:  14% (3/21)\u001b[K\rremote: Compressing objects:  19% (4/21)\u001b[K\rremote: Compressing objects:  23% (5/21)\u001b[K\rremote: Compressing objects:  28% (6/21)\u001b[K\rremote: Compressing objects:  33% (7/21)\u001b[K\rremote: Compressing objects:  38% (8/21)\u001b[K\rremote: Compressing objects:  42% (9/21)\u001b[K\rremote: Compressing objects:  47% (10/21)\u001b[K\rremote: Compressing objects:  52% (11/21)\u001b[K\rremote: Compressing objects:  57% (12/21)\u001b[K\rremote: Compressing objects:  61% (13/21)\u001b[K\rremote: Compressing objects:  66% (14/21)\u001b[K\rremote: Compressing objects:  71% (15/21)\u001b[K\rremote: Compressing objects:  76% (16/21)\u001b[K\rremote: Compressing objects:  80% (17/21)\u001b[K\rremote: Compressing objects:  85% (18/21)\u001b[K\rremote: Compressing objects:  90% (19/21)\u001b[K\rremote: Compressing objects:  95% (20/21)\u001b[K\rremote: Compressing objects: 100% (21/21)\u001b[K\rremote: Compressing objects: 100% (21/21), done.\u001b[K\n",
            "remote: Total 111 (delta 37), reused 23 (delta 23), pack-reused 67\u001b[K\n",
            "Receiving objects: 100% (111/111), 27.59 KiB | 13.80 MiB/s, done.\n",
            "Resolving deltas: 100% (51/51), done.\n"
          ]
        }
      ]
    },
    {
      "cell_type": "code",
      "source": [
        "sys.path.append('/content/erav1/pytorch-receptive-field')"
      ],
      "metadata": {
        "id": "zaXzqni1myi-"
      },
      "execution_count": 27,
      "outputs": []
    },
    {
      "cell_type": "code",
      "source": [
        "from torch_receptive_field import receptive_field"
      ],
      "metadata": {
        "id": "do7ut0I9mnn2"
      },
      "execution_count": 28,
      "outputs": []
    },
    {
      "cell_type": "code",
      "source": [
        "import torch.nn as nn\n",
        "from torchviz import make_dot\n",
        "import torch.nn.functional as F"
      ],
      "metadata": {
        "id": "VqjxT94yNzGW"
      },
      "execution_count": 29,
      "outputs": []
    },
    {
      "cell_type": "code",
      "source": [
        "class Net(nn.Module):\n",
        "\n",
        "    '''\n",
        "    This class implements the neural network model\n",
        "\n",
        "    Usage:\n",
        "    >>> device = ...\n",
        "    >>> model = Net().to('cpu')\n",
        "    '''\n",
        "\n",
        "    #This defines the structure of the NN.\n",
        "    def __init__(self):\n",
        "        super(Net, self).__init__()\n",
        "        self.conv1 = self.conv3x3_bn_dropout(3, 8, padding=1)\n",
        "        self.conv2 = self.conv3x3_bn_dropout(8, 8, padding=1)\n",
        "        self.conv3 = self.conv1x1(8, 8, padding=1)\n",
        "\n",
        "        self.pool1 = self.conv3x3_bn_dropout(8, 16, stride=2)\n",
        "        self.downsample1 = self.conv3x3_bn_dropout(3, 16, padding=1, stride=2)\n",
        "\n",
        "        self.conv4 = self.conv3x3_bn_dropout(16, 16, padding=1)\n",
        "        self.conv5 = self.conv3x3_bn_dropout(16, 16, padding=1)\n",
        "        self.conv6 = self.conv3x3_bn_dropout(16, 16, padding=1)\n",
        "        self.conv7 = self.conv1x1(16, 16, padding=1)\n",
        "\n",
        "        self.pool2 = self.conv3x3_bn_dropout(16, 32, stride=2)\n",
        "        self.downsample2 = self.conv3x3_bn_dropout(16, 32, padding=1, stride=2)\n",
        "\n",
        "        self.conv8 = self.conv3x3_bn_dropout(32, 32, padding=1)\n",
        "        self.conv9 = self.conv3x3_bn_dropout(32, 32, padding=1)\n",
        "        self.conv10 = self.conv3x3_bn_dropout(32, 32, padding=1)\n",
        "\n",
        "        self.gap = nn.AvgPool2d(8)\n",
        "        self.mixer = nn.Sequential(\n",
        "            self.conv1x1(32, 10),\n",
        "        )\n",
        "\n",
        "\n",
        "    def conv3x3_bn_dropout(self, in_channels, out_channels, kernel_size=3, stride=1, padding=0, bias=False, dropout=0.1):\n",
        "          if dropout:\n",
        "            return nn.Sequential(\n",
        "                self.conv3x3(in_channels, out_channels, kernel_size, stride, padding, bias),\n",
        "                nn.ReLU(),\n",
        "                nn.BatchNorm2d(out_channels),\n",
        "                nn.Dropout(dropout),\n",
        "                )\n",
        "          else:\n",
        "            return nn.Sequential(\n",
        "                self.conv3x3(in_channels, out_channels, kernel_size, stride, padding, bias),\n",
        "                nn.ReLU(),\n",
        "                nn.BatchNorm2d(out_channels),\n",
        "                )\n",
        "\n",
        "    def conv3x3(self, in_channels, out_channels, kernel_size=3, stride=1, padding=0, bias=False):\n",
        "          return nn.Conv2d(in_channels,\n",
        "                    out_channels,\n",
        "                    kernel_size=kernel_size,\n",
        "                    stride=stride,\n",
        "                    padding=padding,\n",
        "                    bias=bias)\n",
        "\n",
        "    def conv1x1(self, in_channels, out_channels, kernel_size=1, stride=1, padding=0, bias=False):\n",
        "          return nn.Conv2d(in_channels,\n",
        "                    out_channels,\n",
        "                    kernel_size=kernel_size,\n",
        "                    stride=stride,\n",
        "                    padding=padding,\n",
        "                    bias=bias)\n",
        "\n",
        "\n",
        "    def forward(self, x):\n",
        "\n",
        "        # Block 1\n",
        "        i1 = x\n",
        "\n",
        "        x = self.conv1(x)\n",
        "        x = self.conv2(x)\n",
        "        x = self.conv3(x)\n",
        "        # pooling\n",
        "        x = self.pool1(x)\n",
        "\n",
        "        # residual connection\n",
        "        i1 = self.downsample1(i1)\n",
        "        x = x + i1\n",
        "\n",
        "        # Block 2\n",
        "        i2 = x\n",
        "        x = self.conv4(x)\n",
        "        x = self.conv5(x)\n",
        "        x = self.conv6(x)\n",
        "        x = self.conv7(x)\n",
        "        # pooling\n",
        "        x = self.pool2(x)\n",
        "\n",
        "        # residual connection\n",
        "        i2 = self.downsample2(i2)\n",
        "        x = x + i2\n",
        "\n",
        "        # Block 3\n",
        "        i3 = x\n",
        "        x = self.conv8(x)\n",
        "        x = self.conv9(x)\n",
        "        x = self.conv10(x)\n",
        "        # residual connection\n",
        "        x = x + i3\n",
        "\n",
        "        x = self.gap(x)\n",
        "        x = self.mixer(x)\n",
        "        x = x.view(-1, 10)\n",
        "\n",
        "        return F.log_softmax(x, dim=1)"
      ],
      "metadata": {
        "id": "C1pLoj7rNhzO"
      },
      "execution_count": 30,
      "outputs": []
    },
    {
      "cell_type": "markdown",
      "source": [
        "## Generate model summary"
      ],
      "metadata": {
        "id": "m242rqKopkPU"
      }
    },
    {
      "cell_type": "code",
      "source": [
        "from torchsummary import summary"
      ],
      "metadata": {
        "id": "pw9lTuzcbKCV"
      },
      "execution_count": 31,
      "outputs": []
    },
    {
      "cell_type": "code",
      "source": [
        "model = Net().to('cpu')\n",
        "summary(model, input_size=(3, 32, 32), batch_size=batch_size, device='cpu')"
      ],
      "metadata": {
        "colab": {
          "base_uri": "https://localhost:8080/"
        },
        "id": "2W39NavppocP",
        "outputId": "c5494dd1-30a6-43b0-af8a-ef5b60eaa983"
      },
      "execution_count": 32,
      "outputs": [
        {
          "output_type": "stream",
          "name": "stdout",
          "text": [
            "----------------------------------------------------------------\n",
            "        Layer (type)               Output Shape         Param #\n",
            "================================================================\n",
            "            Conv2d-1           [128, 8, 32, 32]             216\n",
            "              ReLU-2           [128, 8, 32, 32]               0\n",
            "       BatchNorm2d-3           [128, 8, 32, 32]              16\n",
            "           Dropout-4           [128, 8, 32, 32]               0\n",
            "            Conv2d-5           [128, 8, 32, 32]             576\n",
            "              ReLU-6           [128, 8, 32, 32]               0\n",
            "       BatchNorm2d-7           [128, 8, 32, 32]              16\n",
            "           Dropout-8           [128, 8, 32, 32]               0\n",
            "            Conv2d-9           [128, 8, 34, 34]              64\n",
            "           Conv2d-10          [128, 16, 16, 16]           1,152\n",
            "             ReLU-11          [128, 16, 16, 16]               0\n",
            "      BatchNorm2d-12          [128, 16, 16, 16]              32\n",
            "          Dropout-13          [128, 16, 16, 16]               0\n",
            "           Conv2d-14          [128, 16, 16, 16]             432\n",
            "             ReLU-15          [128, 16, 16, 16]               0\n",
            "      BatchNorm2d-16          [128, 16, 16, 16]              32\n",
            "          Dropout-17          [128, 16, 16, 16]               0\n",
            "           Conv2d-18          [128, 16, 16, 16]           2,304\n",
            "             ReLU-19          [128, 16, 16, 16]               0\n",
            "      BatchNorm2d-20          [128, 16, 16, 16]              32\n",
            "          Dropout-21          [128, 16, 16, 16]               0\n",
            "           Conv2d-22          [128, 16, 16, 16]           2,304\n",
            "             ReLU-23          [128, 16, 16, 16]               0\n",
            "      BatchNorm2d-24          [128, 16, 16, 16]              32\n",
            "          Dropout-25          [128, 16, 16, 16]               0\n",
            "           Conv2d-26          [128, 16, 16, 16]           2,304\n",
            "             ReLU-27          [128, 16, 16, 16]               0\n",
            "      BatchNorm2d-28          [128, 16, 16, 16]              32\n",
            "          Dropout-29          [128, 16, 16, 16]               0\n",
            "           Conv2d-30          [128, 16, 18, 18]             256\n",
            "           Conv2d-31            [128, 32, 8, 8]           4,608\n",
            "             ReLU-32            [128, 32, 8, 8]               0\n",
            "      BatchNorm2d-33            [128, 32, 8, 8]              64\n",
            "          Dropout-34            [128, 32, 8, 8]               0\n",
            "           Conv2d-35            [128, 32, 8, 8]           4,608\n",
            "             ReLU-36            [128, 32, 8, 8]               0\n",
            "      BatchNorm2d-37            [128, 32, 8, 8]              64\n",
            "          Dropout-38            [128, 32, 8, 8]               0\n",
            "           Conv2d-39            [128, 32, 8, 8]           9,216\n",
            "             ReLU-40            [128, 32, 8, 8]               0\n",
            "      BatchNorm2d-41            [128, 32, 8, 8]              64\n",
            "          Dropout-42            [128, 32, 8, 8]               0\n",
            "           Conv2d-43            [128, 32, 8, 8]           9,216\n",
            "             ReLU-44            [128, 32, 8, 8]               0\n",
            "      BatchNorm2d-45            [128, 32, 8, 8]              64\n",
            "          Dropout-46            [128, 32, 8, 8]               0\n",
            "           Conv2d-47            [128, 32, 8, 8]           9,216\n",
            "             ReLU-48            [128, 32, 8, 8]               0\n",
            "      BatchNorm2d-49            [128, 32, 8, 8]              64\n",
            "          Dropout-50            [128, 32, 8, 8]               0\n",
            "        AvgPool2d-51            [128, 32, 1, 1]               0\n",
            "           Conv2d-52            [128, 10, 1, 1]             320\n",
            "================================================================\n",
            "Total params: 47,304\n",
            "Trainable params: 47,304\n",
            "Non-trainable params: 0\n",
            "----------------------------------------------------------------\n",
            "Input size (MB): 1.50\n",
            "Forward/backward pass size (MB): 198.13\n",
            "Params size (MB): 0.18\n",
            "Estimated Total Size (MB): 199.82\n",
            "----------------------------------------------------------------\n"
          ]
        }
      ]
    },
    {
      "cell_type": "code",
      "source": [
        "receptive_field(model.cpu(), input_size=(3, 32, 32), device='cpu')"
      ],
      "metadata": {
        "id": "GSp_eyvLnCTc"
      },
      "execution_count": null,
      "outputs": []
    },
    {
      "cell_type": "code",
      "source": [
        "random_input = torch.randn(1, 3, 32, 32)\n",
        "model.eval()\n",
        "y = model(random_input)\n",
        "dot_graph = make_dot(y, show_attrs=False, show_saved=True)\n",
        "dot_graph.format = 'svg'\n",
        "dot_graph.render(f'net')\n",
        "dot_graph"
      ],
      "metadata": {
        "colab": {
          "base_uri": "https://localhost:8080/",
          "height": 1000
        },
        "id": "VpAYvuxehJL7",
        "outputId": "86194a51-29cb-4add-9142-a3297b1e4c69"
      },
      "execution_count": 33,
      "outputs": [
        {
          "output_type": "execute_result",
          "data": {
            "image/svg+xml": "<?xml version=\"1.0\" encoding=\"UTF-8\" standalone=\"no\"?>\n<!DOCTYPE svg PUBLIC \"-//W3C//DTD SVG 1.1//EN\"\n \"http://www.w3.org/Graphics/SVG/1.1/DTD/svg11.dtd\">\n<!-- Generated by graphviz version 2.43.0 (0)\n -->\n<!-- Title: %3 Pages: 1 -->\n<svg width=\"2018pt\" height=\"2617pt\"\n viewBox=\"0.00 0.00 2017.50 2617.00\" xmlns=\"http://www.w3.org/2000/svg\" xmlns:xlink=\"http://www.w3.org/1999/xlink\">\n<g id=\"graph0\" class=\"graph\" transform=\"scale(1 1) rotate(0) translate(4 2613)\">\n<title>%3</title>\n<polygon fill=\"white\" stroke=\"transparent\" points=\"-4,4 -4,-2613 2013.5,-2613 2013.5,4 -4,4\"/>\n<!-- 139746978261696 -->\n<g id=\"node1\" class=\"node\">\n<title>139746978261696</title>\n<polygon fill=\"#caff70\" stroke=\"black\" points=\"643.5,-31 578.5,-31 578.5,0 643.5,0 643.5,-31\"/>\n<text text-anchor=\"middle\" x=\"611\" y=\"-7\" font-family=\"monospace\" font-size=\"10.00\"> (1, 10)</text>\n</g>\n<!-- 139746978209632 -->\n<g id=\"node2\" class=\"node\">\n<title>139746978209632</title>\n<polygon fill=\"lightgrey\" stroke=\"black\" points=\"717.5,-86 586.5,-86 586.5,-67 717.5,-67 717.5,-86\"/>\n<text text-anchor=\"middle\" x=\"652\" y=\"-74\" font-family=\"monospace\" font-size=\"10.00\">LogSoftmaxBackward0</text>\n</g>\n<!-- 139746978209632&#45;&gt;139746978261696 -->\n<g id=\"edge241\" class=\"edge\">\n<title>139746978209632&#45;&gt;139746978261696</title>\n<path fill=\"none\" stroke=\"black\" d=\"M645.95,-66.79C640.97,-59.63 633.68,-49.13 627.04,-39.58\"/>\n<polygon fill=\"black\" stroke=\"black\" points=\"629.79,-37.41 621.21,-31.19 624.04,-41.4 629.79,-37.41\"/>\n</g>\n<!-- 139746978254496 -->\n<g id=\"node3\" class=\"node\">\n<title>139746978254496</title>\n<polygon fill=\"orange\" stroke=\"black\" points=\"726.5,-30.5 661.5,-30.5 661.5,-0.5 726.5,-0.5 726.5,-30.5\"/>\n<text text-anchor=\"middle\" x=\"694\" y=\"-18.5\" font-family=\"monospace\" font-size=\"10.00\">result</text>\n<text text-anchor=\"middle\" x=\"694\" y=\"-7.5\" font-family=\"monospace\" font-size=\"10.00\"> (1, 10)</text>\n</g>\n<!-- 139746978209632&#45;&gt;139746978254496 -->\n<g id=\"edge1\" class=\"edge\">\n<title>139746978209632&#45;&gt;139746978254496</title>\n<path fill=\"none\" stroke=\"black\" d=\"M658.2,-66.79C664.95,-57.31 675.86,-41.98 683.87,-30.74\"/>\n</g>\n<!-- 139746978210160 -->\n<g id=\"node4\" class=\"node\">\n<title>139746978210160</title>\n<polygon fill=\"lightgrey\" stroke=\"black\" points=\"699.5,-147 604.5,-147 604.5,-128 699.5,-128 699.5,-147\"/>\n<text text-anchor=\"middle\" x=\"652\" y=\"-135\" font-family=\"monospace\" font-size=\"10.00\">ViewBackward0</text>\n</g>\n<!-- 139746978210160&#45;&gt;139746978209632 -->\n<g id=\"edge2\" class=\"edge\">\n<title>139746978210160&#45;&gt;139746978209632</title>\n<path fill=\"none\" stroke=\"black\" d=\"M652,-127.79C652,-119.6 652,-107.06 652,-96.55\"/>\n<polygon fill=\"black\" stroke=\"black\" points=\"655.5,-96.24 652,-86.24 648.5,-96.24 655.5,-96.24\"/>\n</g>\n<!-- 139746978208912 -->\n<g id=\"node5\" class=\"node\">\n<title>139746978208912</title>\n<polygon fill=\"lightgrey\" stroke=\"black\" points=\"897.5,-213.5 760.5,-213.5 760.5,-194.5 897.5,-194.5 897.5,-213.5\"/>\n<text text-anchor=\"middle\" x=\"829\" y=\"-201.5\" font-family=\"monospace\" font-size=\"10.00\">ConvolutionBackward0</text>\n</g>\n<!-- 139746978208912&#45;&gt;139746978210160 -->\n<g id=\"edge3\" class=\"edge\">\n<title>139746978208912&#45;&gt;139746978210160</title>\n<path fill=\"none\" stroke=\"black\" d=\"M805.5,-194.43C774.68,-183.21 720.45,-163.44 685.38,-150.67\"/>\n<polygon fill=\"black\" stroke=\"black\" points=\"686.2,-147.24 675.6,-147.1 683.8,-153.81 686.2,-147.24\"/>\n</g>\n<!-- 139746978264816 -->\n<g id=\"node6\" class=\"node\">\n<title>139746978264816</title>\n<polygon fill=\"orange\" stroke=\"black\" points=\"818.5,-152.5 717.5,-152.5 717.5,-122.5 818.5,-122.5 818.5,-152.5\"/>\n<text text-anchor=\"middle\" x=\"768\" y=\"-140.5\" font-family=\"monospace\" font-size=\"10.00\">input</text>\n<text text-anchor=\"middle\" x=\"768\" y=\"-129.5\" font-family=\"monospace\" font-size=\"10.00\"> (1, 32, 1, 1)</text>\n</g>\n<!-- 139746978208912&#45;&gt;139746978264816 -->\n<g id=\"edge4\" class=\"edge\">\n<title>139746978208912&#45;&gt;139746978264816</title>\n<path fill=\"none\" stroke=\"black\" d=\"M820.77,-194.3C810.76,-183.71 793.69,-165.67 781.69,-152.97\"/>\n</g>\n<!-- 139746978168032 -->\n<g id=\"node7\" class=\"node\">\n<title>139746978168032</title>\n<polygon fill=\"lightblue\" stroke=\"black\" points=\"943.5,-153 836.5,-153 836.5,-122 943.5,-122 943.5,-153\"/>\n<text text-anchor=\"middle\" x=\"890\" y=\"-129\" font-family=\"monospace\" font-size=\"10.00\"> (10, 32, 1, 1)</text>\n</g>\n<!-- 139746978208912&#45;&gt;139746978168032 -->\n<g id=\"edge5\" class=\"edge\">\n<title>139746978208912&#45;&gt;139746978168032</title>\n<path fill=\"none\" stroke=\"black\" d=\"M837.23,-194.3C847.11,-183.85 863.86,-166.14 875.84,-153.47\"/>\n</g>\n<!-- 139746978209344 -->\n<g id=\"node211\" class=\"node\">\n<title>139746978209344</title>\n<polygon fill=\"lightgrey\" stroke=\"black\" points=\"981.5,-86 880.5,-86 880.5,-67 981.5,-67 981.5,-86\"/>\n<text text-anchor=\"middle\" x=\"931\" y=\"-74\" font-family=\"monospace\" font-size=\"10.00\">AccumulateGrad</text>\n</g>\n<!-- 139746978168032&#45;&gt;139746978209344 -->\n<g id=\"edge240\" class=\"edge\">\n<title>139746978168032&#45;&gt;139746978209344</title>\n<path fill=\"none\" stroke=\"black\" d=\"M900.13,-121.92C905.91,-113.61 913.17,-103.16 919.2,-94.48\"/>\n<polygon fill=\"black\" stroke=\"black\" points=\"922.09,-96.46 924.92,-86.25 916.34,-92.46 922.09,-96.46\"/>\n</g>\n<!-- 139746978208960 -->\n<g id=\"node8\" class=\"node\">\n<title>139746978208960</title>\n<polygon fill=\"lightgrey\" stroke=\"black\" points=\"959.5,-274 834.5,-274 834.5,-255 959.5,-255 959.5,-274\"/>\n<text text-anchor=\"middle\" x=\"897\" y=\"-262\" font-family=\"monospace\" font-size=\"10.00\">AvgPool2DBackward0</text>\n</g>\n<!-- 139746978208960&#45;&gt;139746978208912 -->\n<g id=\"edge6\" class=\"edge\">\n<title>139746978208960&#45;&gt;139746978208912</title>\n<path fill=\"none\" stroke=\"black\" d=\"M886.97,-254.87C876.42,-245.8 859.61,-231.34 846.81,-220.32\"/>\n<polygon fill=\"black\" stroke=\"black\" points=\"848.94,-217.54 839.07,-213.67 844.37,-222.84 848.94,-217.54\"/>\n</g>\n<!-- 139746978258656 -->\n<g id=\"node9\" class=\"node\">\n<title>139746978258656</title>\n<polygon fill=\"orange\" stroke=\"black\" points=\"1016.5,-219 915.5,-219 915.5,-189 1016.5,-189 1016.5,-219\"/>\n<text text-anchor=\"middle\" x=\"966\" y=\"-207\" font-family=\"monospace\" font-size=\"10.00\">self</text>\n<text text-anchor=\"middle\" x=\"966\" y=\"-196\" font-family=\"monospace\" font-size=\"10.00\"> (1, 32, 8, 8)</text>\n</g>\n<!-- 139746978208960&#45;&gt;139746978258656 -->\n<g id=\"edge7\" class=\"edge\">\n<title>139746978208960&#45;&gt;139746978258656</title>\n<path fill=\"none\" stroke=\"black\" d=\"M907.18,-254.87C918.28,-245.46 936.2,-230.26 949.35,-219.11\"/>\n</g>\n<!-- 139746978209152 -->\n<g id=\"node10\" class=\"node\">\n<title>139746978209152</title>\n<polygon fill=\"lightgrey\" stroke=\"black\" points=\"941.5,-335 852.5,-335 852.5,-316 941.5,-316 941.5,-335\"/>\n<text text-anchor=\"middle\" x=\"897\" y=\"-323\" font-family=\"monospace\" font-size=\"10.00\">AddBackward0</text>\n</g>\n<!-- 139746978209152&#45;&gt;139746978208960 -->\n<g id=\"edge8\" class=\"edge\">\n<title>139746978209152&#45;&gt;139746978208960</title>\n<path fill=\"none\" stroke=\"black\" d=\"M897,-315.79C897,-307.6 897,-295.06 897,-284.55\"/>\n<polygon fill=\"black\" stroke=\"black\" points=\"900.5,-284.24 897,-274.24 893.5,-284.24 900.5,-284.24\"/>\n</g>\n<!-- 139746978214768 -->\n<g id=\"node11\" class=\"node\">\n<title>139746978214768</title>\n<polygon fill=\"lightgrey\" stroke=\"black\" points=\"1275.5,-401.5 1114.5,-401.5 1114.5,-382.5 1275.5,-382.5 1275.5,-401.5\"/>\n<text text-anchor=\"middle\" x=\"1195\" y=\"-389.5\" font-family=\"monospace\" font-size=\"10.00\">NativeBatchNormBackward0</text>\n</g>\n<!-- 139746978214768&#45;&gt;139746978209152 -->\n<g id=\"edge9\" class=\"edge\">\n<title>139746978214768&#45;&gt;139746978209152</title>\n<path fill=\"none\" stroke=\"black\" d=\"M1148.95,-382.42C1099.76,-373.06 1019.59,-357.22 951,-341 946.58,-339.95 941.96,-338.81 937.38,-337.63\"/>\n<polygon fill=\"black\" stroke=\"black\" points=\"938.04,-334.18 927.48,-335.03 936.26,-340.95 938.04,-334.18\"/>\n</g>\n<!-- 139746978251616 -->\n<g id=\"node12\" class=\"node\">\n<title>139746978251616</title>\n<polygon fill=\"orange\" stroke=\"black\" points=\"1379.5,-340.5 1278.5,-340.5 1278.5,-310.5 1379.5,-310.5 1379.5,-340.5\"/>\n<text text-anchor=\"middle\" x=\"1329\" y=\"-328.5\" font-family=\"monospace\" font-size=\"10.00\">input</text>\n<text text-anchor=\"middle\" x=\"1329\" y=\"-317.5\" font-family=\"monospace\" font-size=\"10.00\"> (1, 32, 8, 8)</text>\n</g>\n<!-- 139746978214768&#45;&gt;139746978251616 -->\n<g id=\"edge10\" class=\"edge\">\n<title>139746978214768&#45;&gt;139746978251616</title>\n<path fill=\"none\" stroke=\"black\" d=\"M1212.79,-382.43C1235.01,-371.74 1273.3,-353.31 1299.83,-340.54\"/>\n</g>\n<!-- 139746979180240 -->\n<g id=\"node13\" class=\"node\">\n<title>139746979180240</title>\n<polygon fill=\"orange\" stroke=\"black\" points=\"1456.5,-340.5 1397.5,-340.5 1397.5,-310.5 1456.5,-310.5 1456.5,-340.5\"/>\n<text text-anchor=\"middle\" x=\"1427\" y=\"-328.5\" font-family=\"monospace\" font-size=\"10.00\">result1</text>\n<text text-anchor=\"middle\" x=\"1427\" y=\"-317.5\" font-family=\"monospace\" font-size=\"10.00\"> (0)</text>\n</g>\n<!-- 139746978214768&#45;&gt;139746979180240 -->\n<g id=\"edge11\" class=\"edge\">\n<title>139746978214768&#45;&gt;139746979180240</title>\n<path fill=\"none\" stroke=\"black\" d=\"M1233.28,-382.48C1272.67,-373.39 1335.64,-358 1389,-341 1391.69,-340.14 1394.47,-339.2 1397.24,-338.22\"/>\n</g>\n<!-- 139747002554128 -->\n<g id=\"node14\" class=\"node\">\n<title>139747002554128</title>\n<polygon fill=\"orange\" stroke=\"black\" points=\"1533.5,-340.5 1474.5,-340.5 1474.5,-310.5 1533.5,-310.5 1533.5,-340.5\"/>\n<text text-anchor=\"middle\" x=\"1504\" y=\"-328.5\" font-family=\"monospace\" font-size=\"10.00\">result2</text>\n<text text-anchor=\"middle\" x=\"1504\" y=\"-317.5\" font-family=\"monospace\" font-size=\"10.00\"> (0)</text>\n</g>\n<!-- 139746978214768&#45;&gt;139747002554128 -->\n<g id=\"edge12\" class=\"edge\">\n<title>139746978214768&#45;&gt;139747002554128</title>\n<path fill=\"none\" stroke=\"black\" d=\"M1247.4,-382.5C1314.17,-371.47 1425.75,-352.29 1466,-341 1468.72,-340.24 1471.52,-339.36 1474.3,-338.42\"/>\n</g>\n<!-- 139746978165792 -->\n<g id=\"node15\" class=\"node\">\n<title>139746978165792</title>\n<polygon fill=\"orange\" stroke=\"black\" points=\"1048.5,-340.5 959.5,-340.5 959.5,-310.5 1048.5,-310.5 1048.5,-340.5\"/>\n<text text-anchor=\"middle\" x=\"1004\" y=\"-328.5\" font-family=\"monospace\" font-size=\"10.00\">running_mean</text>\n<text text-anchor=\"middle\" x=\"1004\" y=\"-317.5\" font-family=\"monospace\" font-size=\"10.00\"> (32)</text>\n</g>\n<!-- 139746978214768&#45;&gt;139746978165792 -->\n<g id=\"edge13\" class=\"edge\">\n<title>139746978214768&#45;&gt;139746978165792</title>\n<path fill=\"none\" stroke=\"black\" d=\"M1169.64,-382.43C1137.98,-371.74 1083.39,-353.31 1045.58,-340.54\"/>\n</g>\n<!-- 139746978168272 -->\n<g id=\"node16\" class=\"node\">\n<title>139746978168272</title>\n<polygon fill=\"orange\" stroke=\"black\" points=\"1149.5,-340.5 1066.5,-340.5 1066.5,-310.5 1149.5,-310.5 1149.5,-340.5\"/>\n<text text-anchor=\"middle\" x=\"1108\" y=\"-328.5\" font-family=\"monospace\" font-size=\"10.00\">running_var</text>\n<text text-anchor=\"middle\" x=\"1108\" y=\"-317.5\" font-family=\"monospace\" font-size=\"10.00\"> (32)</text>\n</g>\n<!-- 139746978214768&#45;&gt;139746978168272 -->\n<g id=\"edge14\" class=\"edge\">\n<title>139746978214768&#45;&gt;139746978168272</title>\n<path fill=\"none\" stroke=\"black\" d=\"M1183.27,-382.3C1168.89,-371.64 1144.33,-353.43 1127.19,-340.73\"/>\n</g>\n<!-- 139746978168112 -->\n<g id=\"node17\" class=\"node\">\n<title>139746978168112</title>\n<polygon fill=\"lightblue\" stroke=\"black\" points=\"1222,-341 1168,-341 1168,-310 1222,-310 1222,-341\"/>\n<text text-anchor=\"middle\" x=\"1195\" y=\"-317\" font-family=\"monospace\" font-size=\"10.00\"> (32)</text>\n</g>\n<!-- 139746978214768&#45;&gt;139746978168112 -->\n<g id=\"edge15\" class=\"edge\">\n<title>139746978214768&#45;&gt;139746978168112</title>\n<path fill=\"none\" stroke=\"black\" d=\"M1195,-382.3C1195,-371.85 1195,-354.14 1195,-341.47\"/>\n</g>\n<!-- 139746978214576 -->\n<g id=\"node208\" class=\"node\">\n<title>139746978214576</title>\n<polygon fill=\"lightgrey\" stroke=\"black\" points=\"1272.5,-274 1171.5,-274 1171.5,-255 1272.5,-255 1272.5,-274\"/>\n<text text-anchor=\"middle\" x=\"1222\" y=\"-262\" font-family=\"monospace\" font-size=\"10.00\">AccumulateGrad</text>\n</g>\n<!-- 139746978168112&#45;&gt;139746978214576 -->\n<g id=\"edge235\" class=\"edge\">\n<title>139746978168112&#45;&gt;139746978214576</title>\n<path fill=\"none\" stroke=\"black\" d=\"M1201.67,-309.92C1205.32,-301.96 1209.86,-292.04 1213.72,-283.59\"/>\n<polygon fill=\"black\" stroke=\"black\" points=\"1217.02,-284.8 1218,-274.25 1210.65,-281.89 1217.02,-284.8\"/>\n</g>\n<!-- 139746978214720 -->\n<g id=\"node18\" class=\"node\">\n<title>139746978214720</title>\n<polygon fill=\"lightgrey\" stroke=\"black\" points=\"1388.5,-468 1293.5,-468 1293.5,-449 1388.5,-449 1388.5,-468\"/>\n<text text-anchor=\"middle\" x=\"1341\" y=\"-456\" font-family=\"monospace\" font-size=\"10.00\">ReluBackward0</text>\n</g>\n<!-- 139746978214720&#45;&gt;139746978214768 -->\n<g id=\"edge16\" class=\"edge\">\n<title>139746978214720&#45;&gt;139746978214768</title>\n<path fill=\"none\" stroke=\"black\" d=\"M1321.61,-448.93C1296.52,-437.85 1252.61,-418.45 1223.66,-405.66\"/>\n<polygon fill=\"black\" stroke=\"black\" points=\"1225.03,-402.44 1214.47,-401.6 1222.2,-408.84 1225.03,-402.44\"/>\n</g>\n<!-- 139746978253696 -->\n<g id=\"node19\" class=\"node\">\n<title>139746978253696</title>\n<polygon fill=\"orange\" stroke=\"black\" points=\"1394.5,-407 1293.5,-407 1293.5,-377 1394.5,-377 1394.5,-407\"/>\n<text text-anchor=\"middle\" x=\"1344\" y=\"-395\" font-family=\"monospace\" font-size=\"10.00\">result</text>\n<text text-anchor=\"middle\" x=\"1344\" y=\"-384\" font-family=\"monospace\" font-size=\"10.00\"> (1, 32, 8, 8)</text>\n</g>\n<!-- 139746978214720&#45;&gt;139746978253696 -->\n<g id=\"edge17\" class=\"edge\">\n<title>139746978214720&#45;&gt;139746978253696</title>\n<path fill=\"none\" stroke=\"black\" d=\"M1341.4,-448.8C1341.9,-438.21 1342.74,-420.17 1343.33,-407.47\"/>\n</g>\n<!-- 139746978209776 -->\n<g id=\"node20\" class=\"node\">\n<title>139746978209776</title>\n<polygon fill=\"lightgrey\" stroke=\"black\" points=\"1326.5,-535 1189.5,-535 1189.5,-516 1326.5,-516 1326.5,-535\"/>\n<text text-anchor=\"middle\" x=\"1258\" y=\"-523\" font-family=\"monospace\" font-size=\"10.00\">ConvolutionBackward0</text>\n</g>\n<!-- 139746978209776&#45;&gt;139746978214720 -->\n<g id=\"edge18\" class=\"edge\">\n<title>139746978209776&#45;&gt;139746978214720</title>\n<path fill=\"none\" stroke=\"black\" d=\"M1269.19,-515.73C1282.63,-505.21 1305.4,-487.38 1321.7,-474.62\"/>\n<polygon fill=\"black\" stroke=\"black\" points=\"1324.27,-477.05 1329.98,-468.13 1319.95,-471.54 1324.27,-477.05\"/>\n</g>\n<!-- 139746978264496 -->\n<g id=\"node21\" class=\"node\">\n<title>139746978264496</title>\n<polygon fill=\"orange\" stroke=\"black\" points=\"1275.5,-473.5 1174.5,-473.5 1174.5,-443.5 1275.5,-443.5 1275.5,-473.5\"/>\n<text text-anchor=\"middle\" x=\"1225\" y=\"-461.5\" font-family=\"monospace\" font-size=\"10.00\">input</text>\n<text text-anchor=\"middle\" x=\"1225\" y=\"-450.5\" font-family=\"monospace\" font-size=\"10.00\"> (1, 32, 8, 8)</text>\n</g>\n<!-- 139746978209776&#45;&gt;139746978264496 -->\n<g id=\"edge19\" class=\"edge\">\n<title>139746978209776&#45;&gt;139746978264496</title>\n<path fill=\"none\" stroke=\"black\" d=\"M1253.55,-515.73C1248.06,-504.92 1238.66,-486.41 1232.15,-473.59\"/>\n</g>\n<!-- 139746978167872 -->\n<g id=\"node22\" class=\"node\">\n<title>139746978167872</title>\n<polygon fill=\"lightblue\" stroke=\"black\" points=\"1552.5,-474 1445.5,-474 1445.5,-443 1552.5,-443 1552.5,-474\"/>\n<text text-anchor=\"middle\" x=\"1499\" y=\"-450\" font-family=\"monospace\" font-size=\"10.00\"> (32, 32, 3, 3)</text>\n</g>\n<!-- 139746978209776&#45;&gt;139746978167872 -->\n<g id=\"edge20\" class=\"edge\">\n<title>139746978209776&#45;&gt;139746978167872</title>\n<path fill=\"none\" stroke=\"black\" d=\"M1290,-515.87C1329.57,-505.2 1397.5,-486.88 1445.15,-474.02\"/>\n</g>\n<!-- 139746978213808 -->\n<g id=\"node207\" class=\"node\">\n<title>139746978213808</title>\n<polygon fill=\"lightgrey\" stroke=\"black\" points=\"1532.5,-401.5 1431.5,-401.5 1431.5,-382.5 1532.5,-382.5 1532.5,-401.5\"/>\n<text text-anchor=\"middle\" x=\"1482\" y=\"-389.5\" font-family=\"monospace\" font-size=\"10.00\">AccumulateGrad</text>\n</g>\n<!-- 139746978167872&#45;&gt;139746978213808 -->\n<g id=\"edge233\" class=\"edge\">\n<title>139746978167872&#45;&gt;139746978213808</title>\n<path fill=\"none\" stroke=\"black\" d=\"M1495.14,-442.86C1492.7,-433.58 1489.51,-421.5 1486.89,-411.55\"/>\n<polygon fill=\"black\" stroke=\"black\" points=\"1490.26,-410.6 1484.33,-401.82 1483.49,-412.38 1490.26,-410.6\"/>\n</g>\n<!-- 139746978214960 -->\n<g id=\"node23\" class=\"node\">\n<title>139746978214960</title>\n<polygon fill=\"lightgrey\" stroke=\"black\" points=\"1475.5,-601.5 1314.5,-601.5 1314.5,-582.5 1475.5,-582.5 1475.5,-601.5\"/>\n<text text-anchor=\"middle\" x=\"1395\" y=\"-589.5\" font-family=\"monospace\" font-size=\"10.00\">NativeBatchNormBackward0</text>\n</g>\n<!-- 139746978214960&#45;&gt;139746978209776 -->\n<g id=\"edge21\" class=\"edge\">\n<title>139746978214960&#45;&gt;139746978209776</title>\n<path fill=\"none\" stroke=\"black\" d=\"M1376.81,-582.43C1353.47,-571.45 1312.77,-552.29 1285.61,-539.5\"/>\n<polygon fill=\"black\" stroke=\"black\" points=\"1286.81,-536.19 1276.27,-535.1 1283.82,-542.53 1286.81,-536.19\"/>\n</g>\n<!-- 139746978266816 -->\n<g id=\"node24\" class=\"node\">\n<title>139746978266816</title>\n<polygon fill=\"orange\" stroke=\"black\" points=\"1445.5,-540.5 1344.5,-540.5 1344.5,-510.5 1445.5,-510.5 1445.5,-540.5\"/>\n<text text-anchor=\"middle\" x=\"1395\" y=\"-528.5\" font-family=\"monospace\" font-size=\"10.00\">input</text>\n<text text-anchor=\"middle\" x=\"1395\" y=\"-517.5\" font-family=\"monospace\" font-size=\"10.00\"> (1, 32, 8, 8)</text>\n</g>\n<!-- 139746978214960&#45;&gt;139746978266816 -->\n<g id=\"edge22\" class=\"edge\">\n<title>139746978214960&#45;&gt;139746978266816</title>\n<path fill=\"none\" stroke=\"black\" d=\"M1395,-582.3C1395,-571.71 1395,-553.67 1395,-540.97\"/>\n</g>\n<!-- 139746978261616 -->\n<g id=\"node25\" class=\"node\">\n<title>139746978261616</title>\n<polygon fill=\"orange\" stroke=\"black\" points=\"1522.5,-540.5 1463.5,-540.5 1463.5,-510.5 1522.5,-510.5 1522.5,-540.5\"/>\n<text text-anchor=\"middle\" x=\"1493\" y=\"-528.5\" font-family=\"monospace\" font-size=\"10.00\">result1</text>\n<text text-anchor=\"middle\" x=\"1493\" y=\"-517.5\" font-family=\"monospace\" font-size=\"10.00\"> (0)</text>\n</g>\n<!-- 139746978214960&#45;&gt;139746978261616 -->\n<g id=\"edge23\" class=\"edge\">\n<title>139746978214960&#45;&gt;139746978261616</title>\n<path fill=\"none\" stroke=\"black\" d=\"M1408.22,-582.3C1424.41,-571.64 1452.08,-553.43 1471.39,-540.73\"/>\n</g>\n<!-- 139746978262416 -->\n<g id=\"node26\" class=\"node\">\n<title>139746978262416</title>\n<polygon fill=\"orange\" stroke=\"black\" points=\"1599.5,-540.5 1540.5,-540.5 1540.5,-510.5 1599.5,-510.5 1599.5,-540.5\"/>\n<text text-anchor=\"middle\" x=\"1570\" y=\"-528.5\" font-family=\"monospace\" font-size=\"10.00\">result2</text>\n<text text-anchor=\"middle\" x=\"1570\" y=\"-517.5\" font-family=\"monospace\" font-size=\"10.00\"> (0)</text>\n</g>\n<!-- 139746978214960&#45;&gt;139746978262416 -->\n<g id=\"edge24\" class=\"edge\">\n<title>139746978214960&#45;&gt;139746978262416</title>\n<path fill=\"none\" stroke=\"black\" d=\"M1418.8,-582.43C1446.16,-572.56 1492.39,-555.79 1532,-541 1534.65,-540.01 1537.39,-538.98 1540.14,-537.94\"/>\n</g>\n<!-- 139746978164432 -->\n<g id=\"node27\" class=\"node\">\n<title>139746978164432</title>\n<polygon fill=\"orange\" stroke=\"black\" points=\"1706.5,-540.5 1617.5,-540.5 1617.5,-510.5 1706.5,-510.5 1706.5,-540.5\"/>\n<text text-anchor=\"middle\" x=\"1662\" y=\"-528.5\" font-family=\"monospace\" font-size=\"10.00\">running_mean</text>\n<text text-anchor=\"middle\" x=\"1662\" y=\"-517.5\" font-family=\"monospace\" font-size=\"10.00\"> (32)</text>\n</g>\n<!-- 139746978214960&#45;&gt;139746978164432 -->\n<g id=\"edge25\" class=\"edge\">\n<title>139746978214960&#45;&gt;139746978164432</title>\n<path fill=\"none\" stroke=\"black\" d=\"M1433.38,-582.49C1476.28,-572.87 1547.79,-556.52 1609,-541 1611.77,-540.3 1614.63,-539.56 1617.5,-538.8\"/>\n</g>\n<!-- 139746978164032 -->\n<g id=\"node28\" class=\"node\">\n<title>139746978164032</title>\n<polygon fill=\"orange\" stroke=\"black\" points=\"1807.5,-540.5 1724.5,-540.5 1724.5,-510.5 1807.5,-510.5 1807.5,-540.5\"/>\n<text text-anchor=\"middle\" x=\"1766\" y=\"-528.5\" font-family=\"monospace\" font-size=\"10.00\">running_var</text>\n<text text-anchor=\"middle\" x=\"1766\" y=\"-517.5\" font-family=\"monospace\" font-size=\"10.00\"> (32)</text>\n</g>\n<!-- 139746978214960&#45;&gt;139746978164032 -->\n<g id=\"edge26\" class=\"edge\">\n<title>139746978214960&#45;&gt;139746978164032</title>\n<path fill=\"none\" stroke=\"black\" d=\"M1449.65,-582.5C1541.07,-568.28 1715.19,-541.18 1716,-541 1718.74,-540.39 1721.54,-539.72 1724.36,-539.01\"/>\n</g>\n<!-- 139746978164272 -->\n<g id=\"node29\" class=\"node\">\n<title>139746978164272</title>\n<polygon fill=\"lightblue\" stroke=\"black\" points=\"1133,-541 1079,-541 1079,-510 1133,-510 1133,-541\"/>\n<text text-anchor=\"middle\" x=\"1106\" y=\"-517\" font-family=\"monospace\" font-size=\"10.00\"> (32)</text>\n</g>\n<!-- 139746978214960&#45;&gt;139746978164272 -->\n<g id=\"edge27\" class=\"edge\">\n<title>139746978214960&#45;&gt;139746978164272</title>\n<path fill=\"none\" stroke=\"black\" d=\"M1341.27,-582.42C1290.69,-573.82 1213.05,-559.24 1147,-541 1142.49,-539.75 1137.76,-538.26 1133.18,-536.71\"/>\n</g>\n<!-- 139746978209680 -->\n<g id=\"node204\" class=\"node\">\n<title>139746978209680</title>\n<polygon fill=\"lightgrey\" stroke=\"black\" points=\"1156.5,-468 1055.5,-468 1055.5,-449 1156.5,-449 1156.5,-468\"/>\n<text text-anchor=\"middle\" x=\"1106\" y=\"-456\" font-family=\"monospace\" font-size=\"10.00\">AccumulateGrad</text>\n</g>\n<!-- 139746978164272&#45;&gt;139746978209680 -->\n<g id=\"edge229\" class=\"edge\">\n<title>139746978164272&#45;&gt;139746978209680</title>\n<path fill=\"none\" stroke=\"black\" d=\"M1106,-509.75C1106,-500.39 1106,-488.19 1106,-478.16\"/>\n<polygon fill=\"black\" stroke=\"black\" points=\"1109.5,-478.02 1106,-468.02 1102.5,-478.02 1109.5,-478.02\"/>\n</g>\n<!-- 139746978208864 -->\n<g id=\"node30\" class=\"node\">\n<title>139746978208864</title>\n<polygon fill=\"lightgrey\" stroke=\"black\" points=\"1590.5,-668 1495.5,-668 1495.5,-649 1590.5,-649 1590.5,-668\"/>\n<text text-anchor=\"middle\" x=\"1543\" y=\"-656\" font-family=\"monospace\" font-size=\"10.00\">ReluBackward0</text>\n</g>\n<!-- 139746978208864&#45;&gt;139746978214960 -->\n<g id=\"edge28\" class=\"edge\">\n<title>139746978208864&#45;&gt;139746978214960</title>\n<path fill=\"none\" stroke=\"black\" d=\"M1523.35,-648.93C1497.91,-637.85 1453.4,-618.45 1424.05,-605.66\"/>\n<polygon fill=\"black\" stroke=\"black\" points=\"1425.3,-602.39 1414.73,-601.6 1422.5,-608.8 1425.3,-602.39\"/>\n</g>\n<!-- 139746978261776 -->\n<g id=\"node31\" class=\"node\">\n<title>139746978261776</title>\n<polygon fill=\"orange\" stroke=\"black\" points=\"1594.5,-607 1493.5,-607 1493.5,-577 1594.5,-577 1594.5,-607\"/>\n<text text-anchor=\"middle\" x=\"1544\" y=\"-595\" font-family=\"monospace\" font-size=\"10.00\">result</text>\n<text text-anchor=\"middle\" x=\"1544\" y=\"-584\" font-family=\"monospace\" font-size=\"10.00\"> (1, 32, 8, 8)</text>\n</g>\n<!-- 139746978208864&#45;&gt;139746978261776 -->\n<g id=\"edge29\" class=\"edge\">\n<title>139746978208864&#45;&gt;139746978261776</title>\n<path fill=\"none\" stroke=\"black\" d=\"M1543.13,-648.8C1543.3,-638.21 1543.58,-620.17 1543.78,-607.47\"/>\n</g>\n<!-- 139746978208624 -->\n<g id=\"node32\" class=\"node\">\n<title>139746978208624</title>\n<polygon fill=\"lightgrey\" stroke=\"black\" points=\"1528.5,-735 1391.5,-735 1391.5,-716 1528.5,-716 1528.5,-735\"/>\n<text text-anchor=\"middle\" x=\"1460\" y=\"-723\" font-family=\"monospace\" font-size=\"10.00\">ConvolutionBackward0</text>\n</g>\n<!-- 139746978208624&#45;&gt;139746978208864 -->\n<g id=\"edge30\" class=\"edge\">\n<title>139746978208624&#45;&gt;139746978208864</title>\n<path fill=\"none\" stroke=\"black\" d=\"M1471.19,-715.73C1484.63,-705.21 1507.4,-687.38 1523.7,-674.62\"/>\n<polygon fill=\"black\" stroke=\"black\" points=\"1526.27,-677.05 1531.98,-668.13 1521.95,-671.54 1526.27,-677.05\"/>\n</g>\n<!-- 139746978258336 -->\n<g id=\"node33\" class=\"node\">\n<title>139746978258336</title>\n<polygon fill=\"orange\" stroke=\"black\" points=\"1477.5,-673.5 1376.5,-673.5 1376.5,-643.5 1477.5,-643.5 1477.5,-673.5\"/>\n<text text-anchor=\"middle\" x=\"1427\" y=\"-661.5\" font-family=\"monospace\" font-size=\"10.00\">input</text>\n<text text-anchor=\"middle\" x=\"1427\" y=\"-650.5\" font-family=\"monospace\" font-size=\"10.00\"> (1, 32, 8, 8)</text>\n</g>\n<!-- 139746978208624&#45;&gt;139746978258336 -->\n<g id=\"edge31\" class=\"edge\">\n<title>139746978208624&#45;&gt;139746978258336</title>\n<path fill=\"none\" stroke=\"black\" d=\"M1455.55,-715.73C1450.06,-704.92 1440.66,-686.41 1434.15,-673.59\"/>\n</g>\n<!-- 139746978164512 -->\n<g id=\"node34\" class=\"node\">\n<title>139746978164512</title>\n<polygon fill=\"lightblue\" stroke=\"black\" points=\"1754.5,-674 1647.5,-674 1647.5,-643 1754.5,-643 1754.5,-674\"/>\n<text text-anchor=\"middle\" x=\"1701\" y=\"-650\" font-family=\"monospace\" font-size=\"10.00\"> (32, 32, 3, 3)</text>\n</g>\n<!-- 139746978208624&#45;&gt;139746978164512 -->\n<g id=\"edge32\" class=\"edge\">\n<title>139746978208624&#45;&gt;139746978164512</title>\n<path fill=\"none\" stroke=\"black\" d=\"M1492,-715.87C1531.57,-705.2 1599.5,-686.88 1647.15,-674.02\"/>\n</g>\n<!-- 139746978208768 -->\n<g id=\"node203\" class=\"node\">\n<title>139746978208768</title>\n<polygon fill=\"lightgrey\" stroke=\"black\" points=\"1732.5,-601.5 1631.5,-601.5 1631.5,-582.5 1732.5,-582.5 1732.5,-601.5\"/>\n<text text-anchor=\"middle\" x=\"1682\" y=\"-589.5\" font-family=\"monospace\" font-size=\"10.00\">AccumulateGrad</text>\n</g>\n<!-- 139746978164512&#45;&gt;139746978208768 -->\n<g id=\"edge227\" class=\"edge\">\n<title>139746978164512&#45;&gt;139746978208768</title>\n<path fill=\"none\" stroke=\"black\" d=\"M1696.69,-642.86C1693.95,-633.58 1690.39,-621.5 1687.46,-611.55\"/>\n<polygon fill=\"black\" stroke=\"black\" points=\"1690.78,-610.43 1684.6,-601.82 1684.07,-612.4 1690.78,-610.43\"/>\n</g>\n<!-- 139746978201904 -->\n<g id=\"node35\" class=\"node\">\n<title>139746978201904</title>\n<polygon fill=\"lightgrey\" stroke=\"black\" points=\"1677.5,-801.5 1516.5,-801.5 1516.5,-782.5 1677.5,-782.5 1677.5,-801.5\"/>\n<text text-anchor=\"middle\" x=\"1597\" y=\"-789.5\" font-family=\"monospace\" font-size=\"10.00\">NativeBatchNormBackward0</text>\n</g>\n<!-- 139746978201904&#45;&gt;139746978208624 -->\n<g id=\"edge33\" class=\"edge\">\n<title>139746978201904&#45;&gt;139746978208624</title>\n<path fill=\"none\" stroke=\"black\" d=\"M1578.81,-782.43C1555.47,-771.45 1514.77,-752.29 1487.61,-739.5\"/>\n<polygon fill=\"black\" stroke=\"black\" points=\"1488.81,-736.19 1478.27,-735.1 1485.82,-742.53 1488.81,-736.19\"/>\n</g>\n<!-- 139746978264896 -->\n<g id=\"node36\" class=\"node\">\n<title>139746978264896</title>\n<polygon fill=\"orange\" stroke=\"black\" points=\"1647.5,-740.5 1546.5,-740.5 1546.5,-710.5 1647.5,-710.5 1647.5,-740.5\"/>\n<text text-anchor=\"middle\" x=\"1597\" y=\"-728.5\" font-family=\"monospace\" font-size=\"10.00\">input</text>\n<text text-anchor=\"middle\" x=\"1597\" y=\"-717.5\" font-family=\"monospace\" font-size=\"10.00\"> (1, 32, 8, 8)</text>\n</g>\n<!-- 139746978201904&#45;&gt;139746978264896 -->\n<g id=\"edge34\" class=\"edge\">\n<title>139746978201904&#45;&gt;139746978264896</title>\n<path fill=\"none\" stroke=\"black\" d=\"M1597,-782.3C1597,-771.71 1597,-753.67 1597,-740.97\"/>\n</g>\n<!-- 139746978265056 -->\n<g id=\"node37\" class=\"node\">\n<title>139746978265056</title>\n<polygon fill=\"orange\" stroke=\"black\" points=\"1724.5,-740.5 1665.5,-740.5 1665.5,-710.5 1724.5,-710.5 1724.5,-740.5\"/>\n<text text-anchor=\"middle\" x=\"1695\" y=\"-728.5\" font-family=\"monospace\" font-size=\"10.00\">result1</text>\n<text text-anchor=\"middle\" x=\"1695\" y=\"-717.5\" font-family=\"monospace\" font-size=\"10.00\"> (0)</text>\n</g>\n<!-- 139746978201904&#45;&gt;139746978265056 -->\n<g id=\"edge35\" class=\"edge\">\n<title>139746978201904&#45;&gt;139746978265056</title>\n<path fill=\"none\" stroke=\"black\" d=\"M1610.22,-782.3C1626.41,-771.64 1654.08,-753.43 1673.39,-740.73\"/>\n</g>\n<!-- 139746978265136 -->\n<g id=\"node38\" class=\"node\">\n<title>139746978265136</title>\n<polygon fill=\"orange\" stroke=\"black\" points=\"1801.5,-740.5 1742.5,-740.5 1742.5,-710.5 1801.5,-710.5 1801.5,-740.5\"/>\n<text text-anchor=\"middle\" x=\"1772\" y=\"-728.5\" font-family=\"monospace\" font-size=\"10.00\">result2</text>\n<text text-anchor=\"middle\" x=\"1772\" y=\"-717.5\" font-family=\"monospace\" font-size=\"10.00\"> (0)</text>\n</g>\n<!-- 139746978201904&#45;&gt;139746978265136 -->\n<g id=\"edge36\" class=\"edge\">\n<title>139746978201904&#45;&gt;139746978265136</title>\n<path fill=\"none\" stroke=\"black\" d=\"M1620.8,-782.43C1648.16,-772.56 1694.39,-755.79 1734,-741 1736.65,-740.01 1739.39,-738.98 1742.14,-737.94\"/>\n</g>\n<!-- 139746978163632 -->\n<g id=\"node39\" class=\"node\">\n<title>139746978163632</title>\n<polygon fill=\"orange\" stroke=\"black\" points=\"1908.5,-740.5 1819.5,-740.5 1819.5,-710.5 1908.5,-710.5 1908.5,-740.5\"/>\n<text text-anchor=\"middle\" x=\"1864\" y=\"-728.5\" font-family=\"monospace\" font-size=\"10.00\">running_mean</text>\n<text text-anchor=\"middle\" x=\"1864\" y=\"-717.5\" font-family=\"monospace\" font-size=\"10.00\"> (32)</text>\n</g>\n<!-- 139746978201904&#45;&gt;139746978163632 -->\n<g id=\"edge37\" class=\"edge\">\n<title>139746978201904&#45;&gt;139746978163632</title>\n<path fill=\"none\" stroke=\"black\" d=\"M1635.38,-782.49C1678.28,-772.87 1749.79,-756.52 1811,-741 1813.77,-740.3 1816.63,-739.56 1819.5,-738.8\"/>\n</g>\n<!-- 139746978163152 -->\n<g id=\"node40\" class=\"node\">\n<title>139746978163152</title>\n<polygon fill=\"orange\" stroke=\"black\" points=\"2009.5,-740.5 1926.5,-740.5 1926.5,-710.5 2009.5,-710.5 2009.5,-740.5\"/>\n<text text-anchor=\"middle\" x=\"1968\" y=\"-728.5\" font-family=\"monospace\" font-size=\"10.00\">running_var</text>\n<text text-anchor=\"middle\" x=\"1968\" y=\"-717.5\" font-family=\"monospace\" font-size=\"10.00\"> (32)</text>\n</g>\n<!-- 139746978201904&#45;&gt;139746978163152 -->\n<g id=\"edge38\" class=\"edge\">\n<title>139746978201904&#45;&gt;139746978163152</title>\n<path fill=\"none\" stroke=\"black\" d=\"M1668.89,-782.47C1734.27,-774.09 1833.21,-759.82 1918,-741 1920.74,-740.39 1923.54,-739.72 1926.36,-739.01\"/>\n</g>\n<!-- 139746978163392 -->\n<g id=\"node41\" class=\"node\">\n<title>139746978163392</title>\n<polygon fill=\"lightblue\" stroke=\"black\" points=\"1335,-741 1281,-741 1281,-710 1335,-710 1335,-741\"/>\n<text text-anchor=\"middle\" x=\"1308\" y=\"-717\" font-family=\"monospace\" font-size=\"10.00\"> (32)</text>\n</g>\n<!-- 139746978201904&#45;&gt;139746978163392 -->\n<g id=\"edge39\" class=\"edge\">\n<title>139746978201904&#45;&gt;139746978163392</title>\n<path fill=\"none\" stroke=\"black\" d=\"M1543.27,-782.42C1492.69,-773.82 1415.05,-759.24 1349,-741 1344.49,-739.75 1339.76,-738.26 1335.18,-736.71\"/>\n</g>\n<!-- 139746978202144 -->\n<g id=\"node200\" class=\"node\">\n<title>139746978202144</title>\n<polygon fill=\"lightgrey\" stroke=\"black\" points=\"1358.5,-668 1257.5,-668 1257.5,-649 1358.5,-649 1358.5,-668\"/>\n<text text-anchor=\"middle\" x=\"1308\" y=\"-656\" font-family=\"monospace\" font-size=\"10.00\">AccumulateGrad</text>\n</g>\n<!-- 139746978163392&#45;&gt;139746978202144 -->\n<g id=\"edge223\" class=\"edge\">\n<title>139746978163392&#45;&gt;139746978202144</title>\n<path fill=\"none\" stroke=\"black\" d=\"M1308,-709.75C1308,-700.39 1308,-688.19 1308,-678.16\"/>\n<polygon fill=\"black\" stroke=\"black\" points=\"1311.5,-678.02 1308,-668.02 1304.5,-678.02 1311.5,-678.02\"/>\n</g>\n<!-- 139746978202048 -->\n<g id=\"node42\" class=\"node\">\n<title>139746978202048</title>\n<polygon fill=\"lightgrey\" stroke=\"black\" points=\"1488.5,-868 1393.5,-868 1393.5,-849 1488.5,-849 1488.5,-868\"/>\n<text text-anchor=\"middle\" x=\"1441\" y=\"-856\" font-family=\"monospace\" font-size=\"10.00\">ReluBackward0</text>\n</g>\n<!-- 139746978202048&#45;&gt;139746978201904 -->\n<g id=\"edge40\" class=\"edge\">\n<title>139746978202048&#45;&gt;139746978201904</title>\n<path fill=\"none\" stroke=\"black\" d=\"M1461.72,-848.93C1488.64,-837.8 1535.86,-818.28 1566.78,-805.5\"/>\n<polygon fill=\"black\" stroke=\"black\" points=\"1568.29,-808.66 1576.2,-801.6 1565.62,-802.19 1568.29,-808.66\"/>\n</g>\n<!-- 139746978264976 -->\n<g id=\"node43\" class=\"node\">\n<title>139746978264976</title>\n<polygon fill=\"orange\" stroke=\"black\" points=\"1491.5,-807 1390.5,-807 1390.5,-777 1491.5,-777 1491.5,-807\"/>\n<text text-anchor=\"middle\" x=\"1441\" y=\"-795\" font-family=\"monospace\" font-size=\"10.00\">result</text>\n<text text-anchor=\"middle\" x=\"1441\" y=\"-784\" font-family=\"monospace\" font-size=\"10.00\"> (1, 32, 8, 8)</text>\n</g>\n<!-- 139746978202048&#45;&gt;139746978264976 -->\n<g id=\"edge41\" class=\"edge\">\n<title>139746978202048&#45;&gt;139746978264976</title>\n<path fill=\"none\" stroke=\"black\" d=\"M1441,-848.8C1441,-838.21 1441,-820.17 1441,-807.47\"/>\n</g>\n<!-- 139746978201712 -->\n<g id=\"node44\" class=\"node\">\n<title>139746978201712</title>\n<polygon fill=\"lightgrey\" stroke=\"black\" points=\"1289.5,-935 1152.5,-935 1152.5,-916 1289.5,-916 1289.5,-935\"/>\n<text text-anchor=\"middle\" x=\"1221\" y=\"-923\" font-family=\"monospace\" font-size=\"10.00\">ConvolutionBackward0</text>\n</g>\n<!-- 139746978201712&#45;&gt;139746978202048 -->\n<g id=\"edge42\" class=\"edge\">\n<title>139746978201712&#45;&gt;139746978202048</title>\n<path fill=\"none\" stroke=\"black\" d=\"M1250.21,-915.87C1289.36,-904.3 1358.93,-883.75 1402.37,-870.91\"/>\n<polygon fill=\"black\" stroke=\"black\" points=\"1403.42,-874.25 1412.02,-868.06 1401.43,-867.54 1403.42,-874.25\"/>\n</g>\n<!-- 139746978259136 -->\n<g id=\"node45\" class=\"node\">\n<title>139746978259136</title>\n<polygon fill=\"orange\" stroke=\"black\" points=\"1192.5,-873.5 1091.5,-873.5 1091.5,-843.5 1192.5,-843.5 1192.5,-873.5\"/>\n<text text-anchor=\"middle\" x=\"1142\" y=\"-861.5\" font-family=\"monospace\" font-size=\"10.00\">input</text>\n<text text-anchor=\"middle\" x=\"1142\" y=\"-850.5\" font-family=\"monospace\" font-size=\"10.00\"> (1, 32, 8, 8)</text>\n</g>\n<!-- 139746978201712&#45;&gt;139746978259136 -->\n<g id=\"edge43\" class=\"edge\">\n<title>139746978201712&#45;&gt;139746978259136</title>\n<path fill=\"none\" stroke=\"black\" d=\"M1210.35,-915.73C1197.21,-904.92 1174.7,-886.41 1159.12,-873.59\"/>\n</g>\n<!-- 139746978163472 -->\n<g id=\"node46\" class=\"node\">\n<title>139746978163472</title>\n<polygon fill=\"lightblue\" stroke=\"black\" points=\"1356.5,-874 1249.5,-874 1249.5,-843 1356.5,-843 1356.5,-874\"/>\n<text text-anchor=\"middle\" x=\"1303\" y=\"-850\" font-family=\"monospace\" font-size=\"10.00\"> (32, 32, 3, 3)</text>\n</g>\n<!-- 139746978201712&#45;&gt;139746978163472 -->\n<g id=\"edge44\" class=\"edge\">\n<title>139746978201712&#45;&gt;139746978163472</title>\n<path fill=\"none\" stroke=\"black\" d=\"M1232.06,-915.73C1245.52,-905.06 1268.46,-886.88 1284.6,-874.08\"/>\n</g>\n<!-- 139746978211408 -->\n<g id=\"node199\" class=\"node\">\n<title>139746978211408</title>\n<polygon fill=\"lightgrey\" stroke=\"black\" points=\"1312.5,-801.5 1211.5,-801.5 1211.5,-782.5 1312.5,-782.5 1312.5,-801.5\"/>\n<text text-anchor=\"middle\" x=\"1262\" y=\"-789.5\" font-family=\"monospace\" font-size=\"10.00\">AccumulateGrad</text>\n</g>\n<!-- 139746978163472&#45;&gt;139746978211408 -->\n<g id=\"edge221\" class=\"edge\">\n<title>139746978163472&#45;&gt;139746978211408</title>\n<path fill=\"none\" stroke=\"black\" d=\"M1293.7,-842.86C1287.55,-833.19 1279.46,-820.46 1272.99,-810.29\"/>\n<polygon fill=\"black\" stroke=\"black\" points=\"1275.93,-808.38 1267.61,-801.82 1270.02,-812.14 1275.93,-808.38\"/>\n</g>\n<!-- 139746978209200 -->\n<g id=\"node47\" class=\"node\">\n<title>139746978209200</title>\n<polygon fill=\"lightgrey\" stroke=\"black\" points=\"1264.5,-1002 1175.5,-1002 1175.5,-983 1264.5,-983 1264.5,-1002\"/>\n<text text-anchor=\"middle\" x=\"1220\" y=\"-990\" font-family=\"monospace\" font-size=\"10.00\">AddBackward0</text>\n</g>\n<!-- 139746978209200&#45;&gt;139746978209152 -->\n<g id=\"edge238\" class=\"edge\">\n<title>139746978209200&#45;&gt;139746978209152</title>\n<path fill=\"none\" stroke=\"black\" d=\"M1177.05,-982.96C1090.65,-964.54 904,-917.99 904,-859.5 904,-859.5 904,-859.5 904,-457.5 904,-417.41 900.69,-370.51 898.62,-345.12\"/>\n<polygon fill=\"black\" stroke=\"black\" points=\"902.1,-344.75 897.78,-335.07 895.13,-345.33 902.1,-344.75\"/>\n</g>\n<!-- 139746978209200&#45;&gt;139746978201712 -->\n<g id=\"edge45\" class=\"edge\">\n<title>139746978209200&#45;&gt;139746978201712</title>\n<path fill=\"none\" stroke=\"black\" d=\"M1220.13,-982.73C1220.28,-973.18 1220.52,-957.62 1220.71,-945.28\"/>\n<polygon fill=\"black\" stroke=\"black\" points=\"1224.21,-945.18 1220.87,-935.13 1217.21,-945.07 1224.21,-945.18\"/>\n</g>\n<!-- 139746978210736 -->\n<g id=\"node48\" class=\"node\">\n<title>139746978210736</title>\n<polygon fill=\"lightgrey\" stroke=\"black\" points=\"886.5,-1068.5 725.5,-1068.5 725.5,-1049.5 886.5,-1049.5 886.5,-1068.5\"/>\n<text text-anchor=\"middle\" x=\"806\" y=\"-1056.5\" font-family=\"monospace\" font-size=\"10.00\">NativeBatchNormBackward0</text>\n</g>\n<!-- 139746978210736&#45;&gt;139746978209200 -->\n<g id=\"edge46\" class=\"edge\">\n<title>139746978210736&#45;&gt;139746978209200</title>\n<path fill=\"none\" stroke=\"black\" d=\"M860.98,-1049.43C940.23,-1037.09 1085.75,-1014.42 1165.01,-1002.07\"/>\n<polygon fill=\"black\" stroke=\"black\" points=\"1165.93,-1005.47 1175.27,-1000.47 1164.85,-998.55 1165.93,-1005.47\"/>\n</g>\n<!-- 139746978263696 -->\n<g id=\"node49\" class=\"node\">\n<title>139746978263696</title>\n<polygon fill=\"orange\" stroke=\"black\" points=\"990.5,-1007.5 889.5,-1007.5 889.5,-977.5 990.5,-977.5 990.5,-1007.5\"/>\n<text text-anchor=\"middle\" x=\"940\" y=\"-995.5\" font-family=\"monospace\" font-size=\"10.00\">input</text>\n<text text-anchor=\"middle\" x=\"940\" y=\"-984.5\" font-family=\"monospace\" font-size=\"10.00\"> (1, 32, 8, 8)</text>\n</g>\n<!-- 139746978210736&#45;&gt;139746978263696 -->\n<g id=\"edge47\" class=\"edge\">\n<title>139746978210736&#45;&gt;139746978263696</title>\n<path fill=\"none\" stroke=\"black\" d=\"M823.79,-1049.43C846.01,-1038.74 884.3,-1020.31 910.83,-1007.54\"/>\n</g>\n<!-- 139746978264656 -->\n<g id=\"node50\" class=\"node\">\n<title>139746978264656</title>\n<polygon fill=\"orange\" stroke=\"black\" points=\"1067.5,-1007.5 1008.5,-1007.5 1008.5,-977.5 1067.5,-977.5 1067.5,-1007.5\"/>\n<text text-anchor=\"middle\" x=\"1038\" y=\"-995.5\" font-family=\"monospace\" font-size=\"10.00\">result1</text>\n<text text-anchor=\"middle\" x=\"1038\" y=\"-984.5\" font-family=\"monospace\" font-size=\"10.00\"> (0)</text>\n</g>\n<!-- 139746978210736&#45;&gt;139746978264656 -->\n<g id=\"edge48\" class=\"edge\">\n<title>139746978210736&#45;&gt;139746978264656</title>\n<path fill=\"none\" stroke=\"black\" d=\"M843.68,-1049.45C882.82,-1040.28 945.68,-1024.77 999,-1008 1002.03,-1007.05 1005.17,-1005.99 1008.3,-1004.9\"/>\n</g>\n<!-- 139746978264256 -->\n<g id=\"node51\" class=\"node\">\n<title>139746978264256</title>\n<polygon fill=\"orange\" stroke=\"black\" points=\"552.5,-1007.5 493.5,-1007.5 493.5,-977.5 552.5,-977.5 552.5,-1007.5\"/>\n<text text-anchor=\"middle\" x=\"523\" y=\"-995.5\" font-family=\"monospace\" font-size=\"10.00\">result2</text>\n<text text-anchor=\"middle\" x=\"523\" y=\"-984.5\" font-family=\"monospace\" font-size=\"10.00\"> (0)</text>\n</g>\n<!-- 139746978210736&#45;&gt;139746978264256 -->\n<g id=\"edge49\" class=\"edge\">\n<title>139746978210736&#45;&gt;139746978264256</title>\n<path fill=\"none\" stroke=\"black\" d=\"M751.37,-1049.48C701.31,-1041.06 625.4,-1026.72 561,-1008 558.29,-1007.21 555.5,-1006.32 552.71,-1005.36\"/>\n</g>\n<!-- 139746978161792 -->\n<g id=\"node52\" class=\"node\">\n<title>139746978161792</title>\n<polygon fill=\"orange\" stroke=\"black\" points=\"659.5,-1007.5 570.5,-1007.5 570.5,-977.5 659.5,-977.5 659.5,-1007.5\"/>\n<text text-anchor=\"middle\" x=\"615\" y=\"-995.5\" font-family=\"monospace\" font-size=\"10.00\">running_mean</text>\n<text text-anchor=\"middle\" x=\"615\" y=\"-984.5\" font-family=\"monospace\" font-size=\"10.00\"> (32)</text>\n</g>\n<!-- 139746978210736&#45;&gt;139746978161792 -->\n<g id=\"edge50\" class=\"edge\">\n<title>139746978210736&#45;&gt;139746978161792</title>\n<path fill=\"none\" stroke=\"black\" d=\"M780.64,-1049.43C748.98,-1038.74 694.39,-1020.31 656.58,-1007.54\"/>\n</g>\n<!-- 139746978162752 -->\n<g id=\"node53\" class=\"node\">\n<title>139746978162752</title>\n<polygon fill=\"orange\" stroke=\"black\" points=\"760.5,-1007.5 677.5,-1007.5 677.5,-977.5 760.5,-977.5 760.5,-1007.5\"/>\n<text text-anchor=\"middle\" x=\"719\" y=\"-995.5\" font-family=\"monospace\" font-size=\"10.00\">running_var</text>\n<text text-anchor=\"middle\" x=\"719\" y=\"-984.5\" font-family=\"monospace\" font-size=\"10.00\"> (32)</text>\n</g>\n<!-- 139746978210736&#45;&gt;139746978162752 -->\n<g id=\"edge51\" class=\"edge\">\n<title>139746978210736&#45;&gt;139746978162752</title>\n<path fill=\"none\" stroke=\"black\" d=\"M794.27,-1049.3C779.89,-1038.64 755.33,-1020.43 738.19,-1007.73\"/>\n</g>\n<!-- 139746978161552 -->\n<g id=\"node54\" class=\"node\">\n<title>139746978161552</title>\n<polygon fill=\"lightblue\" stroke=\"black\" points=\"833,-1008 779,-1008 779,-977 833,-977 833,-1008\"/>\n<text text-anchor=\"middle\" x=\"806\" y=\"-984\" font-family=\"monospace\" font-size=\"10.00\"> (32)</text>\n</g>\n<!-- 139746978210736&#45;&gt;139746978161552 -->\n<g id=\"edge52\" class=\"edge\">\n<title>139746978210736&#45;&gt;139746978161552</title>\n<path fill=\"none\" stroke=\"black\" d=\"M806,-1049.3C806,-1038.85 806,-1021.14 806,-1008.47\"/>\n</g>\n<!-- 139746978214384 -->\n<g id=\"node181\" class=\"node\">\n<title>139746978214384</title>\n<polygon fill=\"lightgrey\" stroke=\"black\" points=\"866.5,-935 765.5,-935 765.5,-916 866.5,-916 866.5,-935\"/>\n<text text-anchor=\"middle\" x=\"816\" y=\"-923\" font-family=\"monospace\" font-size=\"10.00\">AccumulateGrad</text>\n</g>\n<!-- 139746978161552&#45;&gt;139746978214384 -->\n<g id=\"edge198\" class=\"edge\">\n<title>139746978161552&#45;&gt;139746978214384</title>\n<path fill=\"none\" stroke=\"black\" d=\"M808.27,-976.75C809.71,-967.39 811.59,-955.19 813.13,-945.16\"/>\n<polygon fill=\"black\" stroke=\"black\" points=\"816.63,-945.43 814.69,-935.02 809.71,-944.37 816.63,-945.43\"/>\n</g>\n<!-- 139746978210832 -->\n<g id=\"node55\" class=\"node\">\n<title>139746978210832</title>\n<polygon fill=\"lightgrey\" stroke=\"black\" points=\"723.5,-1135 628.5,-1135 628.5,-1116 723.5,-1116 723.5,-1135\"/>\n<text text-anchor=\"middle\" x=\"676\" y=\"-1123\" font-family=\"monospace\" font-size=\"10.00\">ReluBackward0</text>\n</g>\n<!-- 139746978210832&#45;&gt;139746978210736 -->\n<g id=\"edge53\" class=\"edge\">\n<title>139746978210832&#45;&gt;139746978210736</title>\n<path fill=\"none\" stroke=\"black\" d=\"M693.26,-1115.93C715.31,-1105 753.69,-1085.95 779.46,-1073.17\"/>\n<polygon fill=\"black\" stroke=\"black\" points=\"781.26,-1076.18 788.67,-1068.6 778.15,-1069.91 781.26,-1076.18\"/>\n</g>\n<!-- 139746978264096 -->\n<g id=\"node56\" class=\"node\">\n<title>139746978264096</title>\n<polygon fill=\"orange\" stroke=\"black\" points=\"707.5,-1074 606.5,-1074 606.5,-1044 707.5,-1044 707.5,-1074\"/>\n<text text-anchor=\"middle\" x=\"657\" y=\"-1062\" font-family=\"monospace\" font-size=\"10.00\">result</text>\n<text text-anchor=\"middle\" x=\"657\" y=\"-1051\" font-family=\"monospace\" font-size=\"10.00\"> (1, 32, 8, 8)</text>\n</g>\n<!-- 139746978210832&#45;&gt;139746978264096 -->\n<g id=\"edge54\" class=\"edge\">\n<title>139746978210832&#45;&gt;139746978264096</title>\n<path fill=\"none\" stroke=\"black\" d=\"M673.44,-1115.8C670.32,-1105.21 665,-1087.17 661.26,-1074.47\"/>\n</g>\n<!-- 139746978214144 -->\n<g id=\"node57\" class=\"node\">\n<title>139746978214144</title>\n<polygon fill=\"lightgrey\" stroke=\"black\" points=\"619.5,-1202 482.5,-1202 482.5,-1183 619.5,-1183 619.5,-1202\"/>\n<text text-anchor=\"middle\" x=\"551\" y=\"-1190\" font-family=\"monospace\" font-size=\"10.00\">ConvolutionBackward0</text>\n</g>\n<!-- 139746978214144&#45;&gt;139746978210832 -->\n<g id=\"edge55\" class=\"edge\">\n<title>139746978214144&#45;&gt;139746978210832</title>\n<path fill=\"none\" stroke=\"black\" d=\"M567.6,-1182.87C588.71,-1171.89 625.38,-1152.82 650.16,-1139.94\"/>\n<polygon fill=\"black\" stroke=\"black\" points=\"652.07,-1142.89 659.33,-1135.17 648.85,-1136.68 652.07,-1142.89\"/>\n</g>\n<!-- 139746978265536 -->\n<g id=\"node58\" class=\"node\">\n<title>139746978265536</title>\n<polygon fill=\"orange\" stroke=\"black\" points=\"610.5,-1140.5 497.5,-1140.5 497.5,-1110.5 610.5,-1110.5 610.5,-1140.5\"/>\n<text text-anchor=\"middle\" x=\"554\" y=\"-1128.5\" font-family=\"monospace\" font-size=\"10.00\">input</text>\n<text text-anchor=\"middle\" x=\"554\" y=\"-1117.5\" font-family=\"monospace\" font-size=\"10.00\"> (1, 16, 18, 18)</text>\n</g>\n<!-- 139746978214144&#45;&gt;139746978265536 -->\n<g id=\"edge56\" class=\"edge\">\n<title>139746978214144&#45;&gt;139746978265536</title>\n<path fill=\"none\" stroke=\"black\" d=\"M551.4,-1182.73C551.9,-1171.92 552.76,-1153.41 553.35,-1140.59\"/>\n</g>\n<!-- 139746978161632 -->\n<g id=\"node59\" class=\"node\">\n<title>139746978161632</title>\n<polygon fill=\"lightblue\" stroke=\"black\" points=\"440.5,-1141 333.5,-1141 333.5,-1110 440.5,-1110 440.5,-1141\"/>\n<text text-anchor=\"middle\" x=\"387\" y=\"-1117\" font-family=\"monospace\" font-size=\"10.00\"> (32, 16, 3, 3)</text>\n</g>\n<!-- 139746978214144&#45;&gt;139746978161632 -->\n<g id=\"edge57\" class=\"edge\">\n<title>139746978214144&#45;&gt;139746978161632</title>\n<path fill=\"none\" stroke=\"black\" d=\"M529.22,-1182.87C502.3,-1172.2 456.07,-1153.88 423.65,-1141.02\"/>\n</g>\n<!-- 139746978214192 -->\n<g id=\"node180\" class=\"node\">\n<title>139746978214192</title>\n<polygon fill=\"lightgrey\" stroke=\"black\" points=\"478.5,-1068.5 377.5,-1068.5 377.5,-1049.5 478.5,-1049.5 478.5,-1068.5\"/>\n<text text-anchor=\"middle\" x=\"428\" y=\"-1056.5\" font-family=\"monospace\" font-size=\"10.00\">AccumulateGrad</text>\n</g>\n<!-- 139746978161632&#45;&gt;139746978214192 -->\n<g id=\"edge196\" class=\"edge\">\n<title>139746978161632&#45;&gt;139746978214192</title>\n<path fill=\"none\" stroke=\"black\" d=\"M396.3,-1109.86C402.45,-1100.19 410.54,-1087.46 417.01,-1077.29\"/>\n<polygon fill=\"black\" stroke=\"black\" points=\"419.98,-1079.14 422.39,-1068.82 414.07,-1075.38 419.98,-1079.14\"/>\n</g>\n<!-- 139746978213328 -->\n<g id=\"node60\" class=\"node\">\n<title>139746978213328</title>\n<polygon fill=\"lightgrey\" stroke=\"black\" points=\"743.5,-1269 606.5,-1269 606.5,-1250 743.5,-1250 743.5,-1269\"/>\n<text text-anchor=\"middle\" x=\"675\" y=\"-1257\" font-family=\"monospace\" font-size=\"10.00\">ConvolutionBackward0</text>\n</g>\n<!-- 139746978213328&#45;&gt;139746978214144 -->\n<g id=\"edge58\" class=\"edge\">\n<title>139746978213328&#45;&gt;139746978214144</title>\n<path fill=\"none\" stroke=\"black\" d=\"M658.53,-1249.87C637.6,-1238.89 601.22,-1219.82 576.64,-1206.94\"/>\n<polygon fill=\"black\" stroke=\"black\" points=\"578.02,-1203.71 567.53,-1202.17 574.77,-1209.91 578.02,-1203.71\"/>\n</g>\n<!-- 139746978264416 -->\n<g id=\"node61\" class=\"node\">\n<title>139746978264416</title>\n<polygon fill=\"orange\" stroke=\"black\" points=\"823.5,-1207.5 710.5,-1207.5 710.5,-1177.5 823.5,-1177.5 823.5,-1207.5\"/>\n<text text-anchor=\"middle\" x=\"767\" y=\"-1195.5\" font-family=\"monospace\" font-size=\"10.00\">input</text>\n<text text-anchor=\"middle\" x=\"767\" y=\"-1184.5\" font-family=\"monospace\" font-size=\"10.00\"> (1, 16, 16, 16)</text>\n</g>\n<!-- 139746978213328&#45;&gt;139746978264416 -->\n<g id=\"edge59\" class=\"edge\">\n<title>139746978213328&#45;&gt;139746978264416</title>\n<path fill=\"none\" stroke=\"black\" d=\"M687.41,-1249.73C702.71,-1238.92 728.92,-1220.41 747.06,-1207.59\"/>\n</g>\n<!-- 139746978161872 -->\n<g id=\"node62\" class=\"node\">\n<title>139746978161872</title>\n<polygon fill=\"lightblue\" stroke=\"black\" points=\"987.5,-1208 880.5,-1208 880.5,-1177 987.5,-1177 987.5,-1208\"/>\n<text text-anchor=\"middle\" x=\"934\" y=\"-1184\" font-family=\"monospace\" font-size=\"10.00\"> (16, 16, 1, 1)</text>\n</g>\n<!-- 139746978213328&#45;&gt;139746978161872 -->\n<g id=\"edge60\" class=\"edge\">\n<title>139746978213328&#45;&gt;139746978161872</title>\n<path fill=\"none\" stroke=\"black\" d=\"M709.13,-1249.94C752.81,-1238.97 828.98,-1219.86 880.42,-1206.95\"/>\n</g>\n<!-- 139746978208576 -->\n<g id=\"node179\" class=\"node\">\n<title>139746978208576</title>\n<polygon fill=\"lightgrey\" stroke=\"black\" points=\"971.5,-1135 870.5,-1135 870.5,-1116 971.5,-1116 971.5,-1135\"/>\n<text text-anchor=\"middle\" x=\"921\" y=\"-1123\" font-family=\"monospace\" font-size=\"10.00\">AccumulateGrad</text>\n</g>\n<!-- 139746978161872&#45;&gt;139746978208576 -->\n<g id=\"edge194\" class=\"edge\">\n<title>139746978161872&#45;&gt;139746978208576</title>\n<path fill=\"none\" stroke=\"black\" d=\"M931.05,-1176.75C929.16,-1167.29 926.69,-1154.93 924.67,-1144.84\"/>\n<polygon fill=\"black\" stroke=\"black\" points=\"928.1,-1144.14 922.7,-1135.02 921.23,-1145.51 928.1,-1144.14\"/>\n</g>\n<!-- 139746978207232 -->\n<g id=\"node63\" class=\"node\">\n<title>139746978207232</title>\n<polygon fill=\"lightgrey\" stroke=\"black\" points=\"424.5,-1335.5 263.5,-1335.5 263.5,-1316.5 424.5,-1316.5 424.5,-1335.5\"/>\n<text text-anchor=\"middle\" x=\"344\" y=\"-1323.5\" font-family=\"monospace\" font-size=\"10.00\">NativeBatchNormBackward0</text>\n</g>\n<!-- 139746978207232&#45;&gt;139746978213328 -->\n<g id=\"edge61\" class=\"edge\">\n<title>139746978207232&#45;&gt;139746978213328</title>\n<path fill=\"none\" stroke=\"black\" d=\"M387.95,-1316.43C448.13,-1304.71 556.09,-1283.67 621.08,-1271.01\"/>\n<polygon fill=\"black\" stroke=\"black\" points=\"621.98,-1274.4 631.13,-1269.05 620.64,-1267.53 621.98,-1274.4\"/>\n</g>\n<!-- 139746978255216 -->\n<g id=\"node64\" class=\"node\">\n<title>139746978255216</title>\n<polygon fill=\"orange\" stroke=\"black\" points=\"874.5,-1274.5 761.5,-1274.5 761.5,-1244.5 874.5,-1244.5 874.5,-1274.5\"/>\n<text text-anchor=\"middle\" x=\"818\" y=\"-1262.5\" font-family=\"monospace\" font-size=\"10.00\">input</text>\n<text text-anchor=\"middle\" x=\"818\" y=\"-1251.5\" font-family=\"monospace\" font-size=\"10.00\"> (1, 16, 16, 16)</text>\n</g>\n<!-- 139746978207232&#45;&gt;139746978255216 -->\n<g id=\"edge62\" class=\"edge\">\n<title>139746978207232&#45;&gt;139746978255216</title>\n<path fill=\"none\" stroke=\"black\" d=\"M395.71,-1316.47C407.92,-1314.57 420.91,-1312.63 433,-1311 574.39,-1291.91 611.24,-1298.34 752,-1275 755.01,-1274.5 758.09,-1273.95 761.19,-1273.37\"/>\n</g>\n<!-- 139746978264016 -->\n<g id=\"node65\" class=\"node\">\n<title>139746978264016</title>\n<polygon fill=\"orange\" stroke=\"black\" points=\"100.5,-1274.5 41.5,-1274.5 41.5,-1244.5 100.5,-1244.5 100.5,-1274.5\"/>\n<text text-anchor=\"middle\" x=\"71\" y=\"-1262.5\" font-family=\"monospace\" font-size=\"10.00\">result1</text>\n<text text-anchor=\"middle\" x=\"71\" y=\"-1251.5\" font-family=\"monospace\" font-size=\"10.00\"> (0)</text>\n</g>\n<!-- 139746978207232&#45;&gt;139746978264016 -->\n<g id=\"edge63\" class=\"edge\">\n<title>139746978207232&#45;&gt;139746978264016</title>\n<path fill=\"none\" stroke=\"black\" d=\"M292.55,-1316.42C244.55,-1307.87 171.21,-1293.37 109,-1275 106.29,-1274.2 103.5,-1273.3 100.72,-1272.34\"/>\n</g>\n<!-- 139746978263456 -->\n<g id=\"node66\" class=\"node\">\n<title>139746978263456</title>\n<polygon fill=\"orange\" stroke=\"black\" points=\"177.5,-1274.5 118.5,-1274.5 118.5,-1244.5 177.5,-1244.5 177.5,-1274.5\"/>\n<text text-anchor=\"middle\" x=\"148\" y=\"-1262.5\" font-family=\"monospace\" font-size=\"10.00\">result2</text>\n<text text-anchor=\"middle\" x=\"148\" y=\"-1251.5\" font-family=\"monospace\" font-size=\"10.00\"> (0)</text>\n</g>\n<!-- 139746978207232&#45;&gt;139746978263456 -->\n<g id=\"edge64\" class=\"edge\">\n<title>139746978207232&#45;&gt;139746978263456</title>\n<path fill=\"none\" stroke=\"black\" d=\"M315.29,-1316.46C283.5,-1306.88 230.83,-1290.63 186,-1275 183.33,-1274.07 180.57,-1273.08 177.81,-1272.06\"/>\n</g>\n<!-- 139746978160832 -->\n<g id=\"node67\" class=\"node\">\n<title>139746978160832</title>\n<polygon fill=\"orange\" stroke=\"black\" points=\"284.5,-1274.5 195.5,-1274.5 195.5,-1244.5 284.5,-1244.5 284.5,-1274.5\"/>\n<text text-anchor=\"middle\" x=\"240\" y=\"-1262.5\" font-family=\"monospace\" font-size=\"10.00\">running_mean</text>\n<text text-anchor=\"middle\" x=\"240\" y=\"-1251.5\" font-family=\"monospace\" font-size=\"10.00\"> (16)</text>\n</g>\n<!-- 139746978207232&#45;&gt;139746978160832 -->\n<g id=\"edge65\" class=\"edge\">\n<title>139746978207232&#45;&gt;139746978160832</title>\n<path fill=\"none\" stroke=\"black\" d=\"M329.97,-1316.3C312.79,-1305.64 283.43,-1287.43 262.94,-1274.73\"/>\n</g>\n<!-- 139746978162192 -->\n<g id=\"node68\" class=\"node\">\n<title>139746978162192</title>\n<polygon fill=\"orange\" stroke=\"black\" points=\"385.5,-1274.5 302.5,-1274.5 302.5,-1244.5 385.5,-1244.5 385.5,-1274.5\"/>\n<text text-anchor=\"middle\" x=\"344\" y=\"-1262.5\" font-family=\"monospace\" font-size=\"10.00\">running_var</text>\n<text text-anchor=\"middle\" x=\"344\" y=\"-1251.5\" font-family=\"monospace\" font-size=\"10.00\"> (16)</text>\n</g>\n<!-- 139746978207232&#45;&gt;139746978162192 -->\n<g id=\"edge66\" class=\"edge\">\n<title>139746978207232&#45;&gt;139746978162192</title>\n<path fill=\"none\" stroke=\"black\" d=\"M344,-1316.3C344,-1305.71 344,-1287.67 344,-1274.97\"/>\n</g>\n<!-- 139746978161712 -->\n<g id=\"node69\" class=\"node\">\n<title>139746978161712</title>\n<polygon fill=\"lightblue\" stroke=\"black\" points=\"496,-1275 442,-1275 442,-1244 496,-1244 496,-1275\"/>\n<text text-anchor=\"middle\" x=\"469\" y=\"-1251\" font-family=\"monospace\" font-size=\"10.00\"> (16)</text>\n</g>\n<!-- 139746978207232&#45;&gt;139746978161712 -->\n<g id=\"edge67\" class=\"edge\">\n<title>139746978207232&#45;&gt;139746978161712</title>\n<path fill=\"none\" stroke=\"black\" d=\"M360.6,-1316.43C381.32,-1305.74 417.04,-1287.31 441.79,-1274.54\"/>\n</g>\n<!-- 139746978207088 -->\n<g id=\"node176\" class=\"node\">\n<title>139746978207088</title>\n<polygon fill=\"lightgrey\" stroke=\"black\" points=\"464.5,-1202 363.5,-1202 363.5,-1183 464.5,-1183 464.5,-1202\"/>\n<text text-anchor=\"middle\" x=\"414\" y=\"-1190\" font-family=\"monospace\" font-size=\"10.00\">AccumulateGrad</text>\n</g>\n<!-- 139746978161712&#45;&gt;139746978207088 -->\n<g id=\"edge190\" class=\"edge\">\n<title>139746978161712&#45;&gt;139746978207088</title>\n<path fill=\"none\" stroke=\"black\" d=\"M456.52,-1243.75C448,-1233.68 436.71,-1220.34 427.91,-1209.93\"/>\n<polygon fill=\"black\" stroke=\"black\" points=\"430.34,-1207.39 421.21,-1202.02 425,-1211.91 430.34,-1207.39\"/>\n</g>\n<!-- 139746978207424 -->\n<g id=\"node70\" class=\"node\">\n<title>139746978207424</title>\n<polygon fill=\"lightgrey\" stroke=\"black\" points=\"391.5,-1402 296.5,-1402 296.5,-1383 391.5,-1383 391.5,-1402\"/>\n<text text-anchor=\"middle\" x=\"344\" y=\"-1390\" font-family=\"monospace\" font-size=\"10.00\">ReluBackward0</text>\n</g>\n<!-- 139746978207424&#45;&gt;139746978207232 -->\n<g id=\"edge68\" class=\"edge\">\n<title>139746978207424&#45;&gt;139746978207232</title>\n<path fill=\"none\" stroke=\"black\" d=\"M344,-1382.8C344,-1373.32 344,-1357.88 344,-1345.64\"/>\n<polygon fill=\"black\" stroke=\"black\" points=\"347.5,-1345.56 344,-1335.56 340.5,-1345.56 347.5,-1345.56\"/>\n</g>\n<!-- 139746978264176 -->\n<g id=\"node71\" class=\"node\">\n<title>139746978264176</title>\n<polygon fill=\"orange\" stroke=\"black\" points=\"555.5,-1341 442.5,-1341 442.5,-1311 555.5,-1311 555.5,-1341\"/>\n<text text-anchor=\"middle\" x=\"499\" y=\"-1329\" font-family=\"monospace\" font-size=\"10.00\">result</text>\n<text text-anchor=\"middle\" x=\"499\" y=\"-1318\" font-family=\"monospace\" font-size=\"10.00\"> (1, 16, 16, 16)</text>\n</g>\n<!-- 139746978207424&#45;&gt;139746978264176 -->\n<g id=\"edge69\" class=\"edge\">\n<title>139746978207424&#45;&gt;139746978264176</title>\n<path fill=\"none\" stroke=\"black\" d=\"M364.58,-1382.93C390.28,-1372.24 434.57,-1353.81 465.25,-1341.04\"/>\n</g>\n<!-- 139746978208192 -->\n<g id=\"node72\" class=\"node\">\n<title>139746978208192</title>\n<polygon fill=\"lightgrey\" stroke=\"black\" points=\"490.5,-1469 353.5,-1469 353.5,-1450 490.5,-1450 490.5,-1469\"/>\n<text text-anchor=\"middle\" x=\"422\" y=\"-1457\" font-family=\"monospace\" font-size=\"10.00\">ConvolutionBackward0</text>\n</g>\n<!-- 139746978208192&#45;&gt;139746978207424 -->\n<g id=\"edge70\" class=\"edge\">\n<title>139746978208192&#45;&gt;139746978207424</title>\n<path fill=\"none\" stroke=\"black\" d=\"M411.48,-1449.73C398.85,-1439.21 377.46,-1421.38 362.14,-1408.62\"/>\n<polygon fill=\"black\" stroke=\"black\" points=\"364.28,-1405.84 354.35,-1402.13 359.79,-1411.22 364.28,-1405.84\"/>\n</g>\n<!-- 139746978256176 -->\n<g id=\"node73\" class=\"node\">\n<title>139746978256176</title>\n<polygon fill=\"orange\" stroke=\"black\" points=\"522.5,-1407.5 409.5,-1407.5 409.5,-1377.5 522.5,-1377.5 522.5,-1407.5\"/>\n<text text-anchor=\"middle\" x=\"466\" y=\"-1395.5\" font-family=\"monospace\" font-size=\"10.00\">input</text>\n<text text-anchor=\"middle\" x=\"466\" y=\"-1384.5\" font-family=\"monospace\" font-size=\"10.00\"> (1, 16, 16, 16)</text>\n</g>\n<!-- 139746978208192&#45;&gt;139746978256176 -->\n<g id=\"edge71\" class=\"edge\">\n<title>139746978208192&#45;&gt;139746978256176</title>\n<path fill=\"none\" stroke=\"black\" d=\"M427.93,-1449.73C435.25,-1438.92 447.79,-1420.41 456.46,-1407.59\"/>\n</g>\n<!-- 139746978160752 -->\n<g id=\"node74\" class=\"node\">\n<title>139746978160752</title>\n<polygon fill=\"lightblue\" stroke=\"black\" points=\"647.5,-1408 540.5,-1408 540.5,-1377 647.5,-1377 647.5,-1408\"/>\n<text text-anchor=\"middle\" x=\"594\" y=\"-1384\" font-family=\"monospace\" font-size=\"10.00\"> (16, 16, 3, 3)</text>\n</g>\n<!-- 139746978208192&#45;&gt;139746978160752 -->\n<g id=\"edge72\" class=\"edge\">\n<title>139746978208192&#45;&gt;139746978160752</title>\n<path fill=\"none\" stroke=\"black\" d=\"M444.84,-1449.87C473.08,-1439.2 521.56,-1420.88 555.57,-1408.02\"/>\n</g>\n<!-- 139746978207904 -->\n<g id=\"node175\" class=\"node\">\n<title>139746978207904</title>\n<polygon fill=\"lightgrey\" stroke=\"black\" points=\"700.5,-1335.5 599.5,-1335.5 599.5,-1316.5 700.5,-1316.5 700.5,-1335.5\"/>\n<text text-anchor=\"middle\" x=\"650\" y=\"-1323.5\" font-family=\"monospace\" font-size=\"10.00\">AccumulateGrad</text>\n</g>\n<!-- 139746978160752&#45;&gt;139746978207904 -->\n<g id=\"edge188\" class=\"edge\">\n<title>139746978160752&#45;&gt;139746978207904</title>\n<path fill=\"none\" stroke=\"black\" d=\"M606.71,-1376.86C615.28,-1366.99 626.61,-1353.94 635.53,-1343.67\"/>\n<polygon fill=\"black\" stroke=\"black\" points=\"638.43,-1345.67 642.34,-1335.82 633.14,-1341.08 638.43,-1345.67\"/>\n</g>\n<!-- 139746978208480 -->\n<g id=\"node75\" class=\"node\">\n<title>139746978208480</title>\n<polygon fill=\"lightgrey\" stroke=\"black\" points=\"502.5,-1535.5 341.5,-1535.5 341.5,-1516.5 502.5,-1516.5 502.5,-1535.5\"/>\n<text text-anchor=\"middle\" x=\"422\" y=\"-1523.5\" font-family=\"monospace\" font-size=\"10.00\">NativeBatchNormBackward0</text>\n</g>\n<!-- 139746978208480&#45;&gt;139746978208192 -->\n<g id=\"edge73\" class=\"edge\">\n<title>139746978208480&#45;&gt;139746978208192</title>\n<path fill=\"none\" stroke=\"black\" d=\"M422,-1516.3C422,-1506.82 422,-1491.38 422,-1479.14\"/>\n<polygon fill=\"black\" stroke=\"black\" points=\"425.5,-1479.06 422,-1469.06 418.5,-1479.06 425.5,-1479.06\"/>\n</g>\n<!-- 139746978257776 -->\n<g id=\"node76\" class=\"node\">\n<title>139746978257776</title>\n<polygon fill=\"orange\" stroke=\"black\" points=\"621.5,-1474.5 508.5,-1474.5 508.5,-1444.5 621.5,-1444.5 621.5,-1474.5\"/>\n<text text-anchor=\"middle\" x=\"565\" y=\"-1462.5\" font-family=\"monospace\" font-size=\"10.00\">input</text>\n<text text-anchor=\"middle\" x=\"565\" y=\"-1451.5\" font-family=\"monospace\" font-size=\"10.00\"> (1, 16, 16, 16)</text>\n</g>\n<!-- 139746978208480&#45;&gt;139746978257776 -->\n<g id=\"edge74\" class=\"edge\">\n<title>139746978208480&#45;&gt;139746978257776</title>\n<path fill=\"none\" stroke=\"black\" d=\"M440.99,-1516.43C464.69,-1505.74 505.56,-1487.31 533.87,-1474.54\"/>\n</g>\n<!-- 139746978262656 -->\n<g id=\"node77\" class=\"node\">\n<title>139746978262656</title>\n<polygon fill=\"orange\" stroke=\"black\" points=\"698.5,-1474.5 639.5,-1474.5 639.5,-1444.5 698.5,-1444.5 698.5,-1474.5\"/>\n<text text-anchor=\"middle\" x=\"669\" y=\"-1462.5\" font-family=\"monospace\" font-size=\"10.00\">result1</text>\n<text text-anchor=\"middle\" x=\"669\" y=\"-1451.5\" font-family=\"monospace\" font-size=\"10.00\"> (0)</text>\n</g>\n<!-- 139746978208480&#45;&gt;139746978262656 -->\n<g id=\"edge75\" class=\"edge\">\n<title>139746978208480&#45;&gt;139746978262656</title>\n<path fill=\"none\" stroke=\"black\" d=\"M463.83,-1516.49C506.12,-1507.53 573.16,-1492.33 630,-1475 633.04,-1474.07 636.19,-1473.04 639.32,-1471.96\"/>\n</g>\n<!-- 139746978261376 -->\n<g id=\"node78\" class=\"node\">\n<title>139746978261376</title>\n<polygon fill=\"orange\" stroke=\"black\" points=\"775.5,-1474.5 716.5,-1474.5 716.5,-1444.5 775.5,-1444.5 775.5,-1474.5\"/>\n<text text-anchor=\"middle\" x=\"746\" y=\"-1462.5\" font-family=\"monospace\" font-size=\"10.00\">result2</text>\n<text text-anchor=\"middle\" x=\"746\" y=\"-1451.5\" font-family=\"monospace\" font-size=\"10.00\"> (0)</text>\n</g>\n<!-- 139746978208480&#45;&gt;139746978261376 -->\n<g id=\"edge76\" class=\"edge\">\n<title>139746978208480&#45;&gt;139746978261376</title>\n<path fill=\"none\" stroke=\"black\" d=\"M473.52,-1516.49C549.46,-1503.86 684.88,-1481 707,-1475 710.07,-1474.17 713.23,-1473.19 716.37,-1472.15\"/>\n</g>\n<!-- 139746978160912 -->\n<g id=\"node79\" class=\"node\">\n<title>139746978160912</title>\n<polygon fill=\"orange\" stroke=\"black\" points=\"882.5,-1474.5 793.5,-1474.5 793.5,-1444.5 882.5,-1444.5 882.5,-1474.5\"/>\n<text text-anchor=\"middle\" x=\"838\" y=\"-1462.5\" font-family=\"monospace\" font-size=\"10.00\">running_mean</text>\n<text text-anchor=\"middle\" x=\"838\" y=\"-1451.5\" font-family=\"monospace\" font-size=\"10.00\"> (16)</text>\n</g>\n<!-- 139746978208480&#45;&gt;139746978160912 -->\n<g id=\"edge77\" class=\"edge\">\n<title>139746978208480&#45;&gt;139746978160912</title>\n<path fill=\"none\" stroke=\"black\" d=\"M474.68,-1516.49C486.61,-1514.63 499.23,-1512.7 511,-1511 632.12,-1493.49 663.98,-1498.92 784,-1475 787.05,-1474.39 790.17,-1473.71 793.32,-1472.98\"/>\n</g>\n<!-- 139746978161232 -->\n<g id=\"node80\" class=\"node\">\n<title>139746978161232</title>\n<polygon fill=\"orange\" stroke=\"black\" points=\"224.5,-1474.5 141.5,-1474.5 141.5,-1444.5 224.5,-1444.5 224.5,-1474.5\"/>\n<text text-anchor=\"middle\" x=\"183\" y=\"-1462.5\" font-family=\"monospace\" font-size=\"10.00\">running_var</text>\n<text text-anchor=\"middle\" x=\"183\" y=\"-1451.5\" font-family=\"monospace\" font-size=\"10.00\"> (16)</text>\n</g>\n<!-- 139746978208480&#45;&gt;139746978161232 -->\n<g id=\"edge78\" class=\"edge\">\n<title>139746978208480&#45;&gt;139746978161232</title>\n<path fill=\"none\" stroke=\"black\" d=\"M389.35,-1516.5C351.82,-1506.68 288.38,-1489.96 234,-1475 230.98,-1474.17 227.87,-1473.3 224.73,-1472.43\"/>\n</g>\n<!-- 139746978161392 -->\n<g id=\"node81\" class=\"node\">\n<title>139746978161392</title>\n<polygon fill=\"lightblue\" stroke=\"black\" points=\"297,-1475 243,-1475 243,-1444 297,-1444 297,-1475\"/>\n<text text-anchor=\"middle\" x=\"270\" y=\"-1451\" font-family=\"monospace\" font-size=\"10.00\"> (16)</text>\n</g>\n<!-- 139746978208480&#45;&gt;139746978161392 -->\n<g id=\"edge79\" class=\"edge\">\n<title>139746978208480&#45;&gt;139746978161392</title>\n<path fill=\"none\" stroke=\"black\" d=\"M401.82,-1516.43C374.92,-1505.02 327.25,-1484.8 297.21,-1472.05\"/>\n</g>\n<!-- 139746978208336 -->\n<g id=\"node172\" class=\"node\">\n<title>139746978208336</title>\n<polygon fill=\"lightgrey\" stroke=\"black\" points=\"278.5,-1402 177.5,-1402 177.5,-1383 278.5,-1383 278.5,-1402\"/>\n<text text-anchor=\"middle\" x=\"228\" y=\"-1390\" font-family=\"monospace\" font-size=\"10.00\">AccumulateGrad</text>\n</g>\n<!-- 139746978161392&#45;&gt;139746978208336 -->\n<g id=\"edge184\" class=\"edge\">\n<title>139746978161392&#45;&gt;139746978208336</title>\n<path fill=\"none\" stroke=\"black\" d=\"M260.47,-1443.75C254.1,-1433.89 245.69,-1420.87 239.02,-1410.56\"/>\n<polygon fill=\"black\" stroke=\"black\" points=\"241.87,-1408.52 233.5,-1402.02 235.99,-1412.32 241.87,-1408.52\"/>\n</g>\n<!-- 139746978208432 -->\n<g id=\"node82\" class=\"node\">\n<title>139746978208432</title>\n<polygon fill=\"lightgrey\" stroke=\"black\" points=\"597.5,-1602 502.5,-1602 502.5,-1583 597.5,-1583 597.5,-1602\"/>\n<text text-anchor=\"middle\" x=\"550\" y=\"-1590\" font-family=\"monospace\" font-size=\"10.00\">ReluBackward0</text>\n</g>\n<!-- 139746978208432&#45;&gt;139746978208480 -->\n<g id=\"edge80\" class=\"edge\">\n<title>139746978208432&#45;&gt;139746978208480</title>\n<path fill=\"none\" stroke=\"black\" d=\"M533,-1582.93C511.29,-1572 473.51,-1552.95 448.13,-1540.17\"/>\n<polygon fill=\"black\" stroke=\"black\" points=\"449.57,-1536.98 439.07,-1535.6 446.42,-1543.23 449.57,-1536.98\"/>\n</g>\n<!-- 139746978262576 -->\n<g id=\"node83\" class=\"node\">\n<title>139746978262576</title>\n<polygon fill=\"orange\" stroke=\"black\" points=\"633.5,-1541 520.5,-1541 520.5,-1511 633.5,-1511 633.5,-1541\"/>\n<text text-anchor=\"middle\" x=\"577\" y=\"-1529\" font-family=\"monospace\" font-size=\"10.00\">result</text>\n<text text-anchor=\"middle\" x=\"577\" y=\"-1518\" font-family=\"monospace\" font-size=\"10.00\"> (1, 16, 16, 16)</text>\n</g>\n<!-- 139746978208432&#45;&gt;139746978262576 -->\n<g id=\"edge81\" class=\"edge\">\n<title>139746978208432&#45;&gt;139746978262576</title>\n<path fill=\"none\" stroke=\"black\" d=\"M553.64,-1582.8C558.07,-1572.21 565.63,-1554.17 570.94,-1541.47\"/>\n</g>\n<!-- 139746978208096 -->\n<g id=\"node84\" class=\"node\">\n<title>139746978208096</title>\n<polygon fill=\"lightgrey\" stroke=\"black\" points=\"683.5,-1669 546.5,-1669 546.5,-1650 683.5,-1650 683.5,-1669\"/>\n<text text-anchor=\"middle\" x=\"615\" y=\"-1657\" font-family=\"monospace\" font-size=\"10.00\">ConvolutionBackward0</text>\n</g>\n<!-- 139746978208096&#45;&gt;139746978208432 -->\n<g id=\"edge82\" class=\"edge\">\n<title>139746978208096&#45;&gt;139746978208432</title>\n<path fill=\"none\" stroke=\"black\" d=\"M606.23,-1649.73C595.9,-1639.4 578.54,-1622.04 565.83,-1609.33\"/>\n<polygon fill=\"black\" stroke=\"black\" points=\"568.17,-1606.72 558.63,-1602.13 563.22,-1611.67 568.17,-1606.72\"/>\n</g>\n<!-- 139746978260736 -->\n<g id=\"node85\" class=\"node\">\n<title>139746978260736</title>\n<polygon fill=\"orange\" stroke=\"black\" points=\"767.5,-1607.5 654.5,-1607.5 654.5,-1577.5 767.5,-1577.5 767.5,-1607.5\"/>\n<text text-anchor=\"middle\" x=\"711\" y=\"-1595.5\" font-family=\"monospace\" font-size=\"10.00\">input</text>\n<text text-anchor=\"middle\" x=\"711\" y=\"-1584.5\" font-family=\"monospace\" font-size=\"10.00\"> (1, 16, 16, 16)</text>\n</g>\n<!-- 139746978208096&#45;&gt;139746978260736 -->\n<g id=\"edge83\" class=\"edge\">\n<title>139746978208096&#45;&gt;139746978260736</title>\n<path fill=\"none\" stroke=\"black\" d=\"M627.95,-1649.73C643.91,-1638.92 671.26,-1620.41 690.19,-1607.59\"/>\n</g>\n<!-- 139746978161152 -->\n<g id=\"node86\" class=\"node\">\n<title>139746978161152</title>\n<polygon fill=\"lightblue\" stroke=\"black\" points=\"892.5,-1608 785.5,-1608 785.5,-1577 892.5,-1577 892.5,-1608\"/>\n<text text-anchor=\"middle\" x=\"839\" y=\"-1584\" font-family=\"monospace\" font-size=\"10.00\"> (16, 16, 3, 3)</text>\n</g>\n<!-- 139746978208096&#45;&gt;139746978161152 -->\n<g id=\"edge84\" class=\"edge\">\n<title>139746978208096&#45;&gt;139746978161152</title>\n<path fill=\"none\" stroke=\"black\" d=\"M644.75,-1649.87C681.52,-1639.2 744.66,-1620.88 788.95,-1608.02\"/>\n</g>\n<!-- 139746978207136 -->\n<g id=\"node171\" class=\"node\">\n<title>139746978207136</title>\n<polygon fill=\"lightgrey\" stroke=\"black\" points=\"807.5,-1535.5 706.5,-1535.5 706.5,-1516.5 807.5,-1516.5 807.5,-1535.5\"/>\n<text text-anchor=\"middle\" x=\"757\" y=\"-1523.5\" font-family=\"monospace\" font-size=\"10.00\">AccumulateGrad</text>\n</g>\n<!-- 139746978161152&#45;&gt;139746978207136 -->\n<g id=\"edge182\" class=\"edge\">\n<title>139746978161152&#45;&gt;139746978207136</title>\n<path fill=\"none\" stroke=\"black\" d=\"M820.39,-1576.86C807.21,-1566.5 789.58,-1552.63 776.26,-1542.15\"/>\n<polygon fill=\"black\" stroke=\"black\" points=\"778.24,-1539.25 768.22,-1535.82 773.91,-1544.76 778.24,-1539.25\"/>\n</g>\n<!-- 139746978207520 -->\n<g id=\"node87\" class=\"node\">\n<title>139746978207520</title>\n<polygon fill=\"lightgrey\" stroke=\"black\" points=\"455.5,-1735.5 294.5,-1735.5 294.5,-1716.5 455.5,-1716.5 455.5,-1735.5\"/>\n<text text-anchor=\"middle\" x=\"375\" y=\"-1723.5\" font-family=\"monospace\" font-size=\"10.00\">NativeBatchNormBackward0</text>\n</g>\n<!-- 139746978207520&#45;&gt;139746978208096 -->\n<g id=\"edge85\" class=\"edge\">\n<title>139746978207520&#45;&gt;139746978208096</title>\n<path fill=\"none\" stroke=\"black\" d=\"M406.87,-1716.43C449.64,-1704.94 525.68,-1684.5 573.06,-1671.77\"/>\n<polygon fill=\"black\" stroke=\"black\" points=\"574.25,-1675.08 583,-1669.1 572.43,-1668.32 574.25,-1675.08\"/>\n</g>\n<!-- 139746978261536 -->\n<g id=\"node88\" class=\"node\">\n<title>139746978261536</title>\n<polygon fill=\"orange\" stroke=\"black\" points=\"814.5,-1674.5 701.5,-1674.5 701.5,-1644.5 814.5,-1644.5 814.5,-1674.5\"/>\n<text text-anchor=\"middle\" x=\"758\" y=\"-1662.5\" font-family=\"monospace\" font-size=\"10.00\">input</text>\n<text text-anchor=\"middle\" x=\"758\" y=\"-1651.5\" font-family=\"monospace\" font-size=\"10.00\"> (1, 16, 16, 16)</text>\n</g>\n<!-- 139746978207520&#45;&gt;139746978261536 -->\n<g id=\"edge86\" class=\"edge\">\n<title>139746978207520&#45;&gt;139746978261536</title>\n<path fill=\"none\" stroke=\"black\" d=\"M429.18,-1716.48C518.88,-1702.36 688.78,-1675.61 692,-1675 695,-1674.43 698.07,-1673.83 701.16,-1673.21\"/>\n</g>\n<!-- 139746978260976 -->\n<g id=\"node89\" class=\"node\">\n<title>139746978260976</title>\n<polygon fill=\"orange\" stroke=\"black\" points=\"131.5,-1674.5 72.5,-1674.5 72.5,-1644.5 131.5,-1644.5 131.5,-1674.5\"/>\n<text text-anchor=\"middle\" x=\"102\" y=\"-1662.5\" font-family=\"monospace\" font-size=\"10.00\">result1</text>\n<text text-anchor=\"middle\" x=\"102\" y=\"-1651.5\" font-family=\"monospace\" font-size=\"10.00\"> (0)</text>\n</g>\n<!-- 139746978207520&#45;&gt;139746978260976 -->\n<g id=\"edge87\" class=\"edge\">\n<title>139746978207520&#45;&gt;139746978260976</title>\n<path fill=\"none\" stroke=\"black\" d=\"M323.55,-1716.42C275.55,-1707.87 202.21,-1693.37 140,-1675 137.29,-1674.2 134.5,-1673.3 131.72,-1672.34\"/>\n</g>\n<!-- 139746978263216 -->\n<g id=\"node90\" class=\"node\">\n<title>139746978263216</title>\n<polygon fill=\"orange\" stroke=\"black\" points=\"208.5,-1674.5 149.5,-1674.5 149.5,-1644.5 208.5,-1644.5 208.5,-1674.5\"/>\n<text text-anchor=\"middle\" x=\"179\" y=\"-1662.5\" font-family=\"monospace\" font-size=\"10.00\">result2</text>\n<text text-anchor=\"middle\" x=\"179\" y=\"-1651.5\" font-family=\"monospace\" font-size=\"10.00\"> (0)</text>\n</g>\n<!-- 139746978207520&#45;&gt;139746978263216 -->\n<g id=\"edge88\" class=\"edge\">\n<title>139746978207520&#45;&gt;139746978263216</title>\n<path fill=\"none\" stroke=\"black\" d=\"M346.29,-1716.46C314.5,-1706.88 261.83,-1690.63 217,-1675 214.33,-1674.07 211.57,-1673.08 208.81,-1672.06\"/>\n</g>\n<!-- 139746978160592 -->\n<g id=\"node91\" class=\"node\">\n<title>139746978160592</title>\n<polygon fill=\"orange\" stroke=\"black\" points=\"315.5,-1674.5 226.5,-1674.5 226.5,-1644.5 315.5,-1644.5 315.5,-1674.5\"/>\n<text text-anchor=\"middle\" x=\"271\" y=\"-1662.5\" font-family=\"monospace\" font-size=\"10.00\">running_mean</text>\n<text text-anchor=\"middle\" x=\"271\" y=\"-1651.5\" font-family=\"monospace\" font-size=\"10.00\"> (16)</text>\n</g>\n<!-- 139746978207520&#45;&gt;139746978160592 -->\n<g id=\"edge89\" class=\"edge\">\n<title>139746978207520&#45;&gt;139746978160592</title>\n<path fill=\"none\" stroke=\"black\" d=\"M360.97,-1716.3C343.79,-1705.64 314.43,-1687.43 293.94,-1674.73\"/>\n</g>\n<!-- 139746978160112 -->\n<g id=\"node92\" class=\"node\">\n<title>139746978160112</title>\n<polygon fill=\"orange\" stroke=\"black\" points=\"416.5,-1674.5 333.5,-1674.5 333.5,-1644.5 416.5,-1644.5 416.5,-1674.5\"/>\n<text text-anchor=\"middle\" x=\"375\" y=\"-1662.5\" font-family=\"monospace\" font-size=\"10.00\">running_var</text>\n<text text-anchor=\"middle\" x=\"375\" y=\"-1651.5\" font-family=\"monospace\" font-size=\"10.00\"> (16)</text>\n</g>\n<!-- 139746978207520&#45;&gt;139746978160112 -->\n<g id=\"edge90\" class=\"edge\">\n<title>139746978207520&#45;&gt;139746978160112</title>\n<path fill=\"none\" stroke=\"black\" d=\"M375,-1716.3C375,-1705.71 375,-1687.67 375,-1674.97\"/>\n</g>\n<!-- 139746978160272 -->\n<g id=\"node93\" class=\"node\">\n<title>139746978160272</title>\n<polygon fill=\"lightblue\" stroke=\"black\" points=\"527,-1675 473,-1675 473,-1644 527,-1644 527,-1675\"/>\n<text text-anchor=\"middle\" x=\"500\" y=\"-1651\" font-family=\"monospace\" font-size=\"10.00\"> (16)</text>\n</g>\n<!-- 139746978207520&#45;&gt;139746978160272 -->\n<g id=\"edge91\" class=\"edge\">\n<title>139746978207520&#45;&gt;139746978160272</title>\n<path fill=\"none\" stroke=\"black\" d=\"M391.6,-1716.43C412.32,-1705.74 448.04,-1687.31 472.79,-1674.54\"/>\n</g>\n<!-- 139746978203824 -->\n<g id=\"node168\" class=\"node\">\n<title>139746978203824</title>\n<polygon fill=\"lightgrey\" stroke=\"black\" points=\"484.5,-1602 383.5,-1602 383.5,-1583 484.5,-1583 484.5,-1602\"/>\n<text text-anchor=\"middle\" x=\"434\" y=\"-1590\" font-family=\"monospace\" font-size=\"10.00\">AccumulateGrad</text>\n</g>\n<!-- 139746978160272&#45;&gt;139746978203824 -->\n<g id=\"edge178\" class=\"edge\">\n<title>139746978160272&#45;&gt;139746978203824</title>\n<path fill=\"none\" stroke=\"black\" d=\"M485.02,-1643.75C474.6,-1633.48 460.71,-1619.81 450.06,-1609.31\"/>\n<polygon fill=\"black\" stroke=\"black\" points=\"452.23,-1606.54 442.65,-1602.02 447.32,-1611.53 452.23,-1606.54\"/>\n</g>\n<!-- 139746978204352 -->\n<g id=\"node94\" class=\"node\">\n<title>139746978204352</title>\n<polygon fill=\"lightgrey\" stroke=\"black\" points=\"544.5,-1802 449.5,-1802 449.5,-1783 544.5,-1783 544.5,-1802\"/>\n<text text-anchor=\"middle\" x=\"497\" y=\"-1790\" font-family=\"monospace\" font-size=\"10.00\">ReluBackward0</text>\n</g>\n<!-- 139746978204352&#45;&gt;139746978207520 -->\n<g id=\"edge92\" class=\"edge\">\n<title>139746978204352&#45;&gt;139746978207520</title>\n<path fill=\"none\" stroke=\"black\" d=\"M480.8,-1782.93C460.2,-1772.04 424.41,-1753.12 400.22,-1740.34\"/>\n<polygon fill=\"black\" stroke=\"black\" points=\"401.74,-1737.18 391.27,-1735.6 398.47,-1743.37 401.74,-1737.18\"/>\n</g>\n<!-- 139746978261296 -->\n<g id=\"node95\" class=\"node\">\n<title>139746978261296</title>\n<polygon fill=\"orange\" stroke=\"black\" points=\"586.5,-1741 473.5,-1741 473.5,-1711 586.5,-1711 586.5,-1741\"/>\n<text text-anchor=\"middle\" x=\"530\" y=\"-1729\" font-family=\"monospace\" font-size=\"10.00\">result</text>\n<text text-anchor=\"middle\" x=\"530\" y=\"-1718\" font-family=\"monospace\" font-size=\"10.00\"> (1, 16, 16, 16)</text>\n</g>\n<!-- 139746978204352&#45;&gt;139746978261296 -->\n<g id=\"edge93\" class=\"edge\">\n<title>139746978204352&#45;&gt;139746978261296</title>\n<path fill=\"none\" stroke=\"black\" d=\"M501.45,-1782.8C506.87,-1772.21 516.1,-1754.17 522.6,-1741.47\"/>\n</g>\n<!-- 139746978203728 -->\n<g id=\"node96\" class=\"node\">\n<title>139746978203728</title>\n<polygon fill=\"lightgrey\" stroke=\"black\" points=\"723.5,-1869 586.5,-1869 586.5,-1850 723.5,-1850 723.5,-1869\"/>\n<text text-anchor=\"middle\" x=\"655\" y=\"-1857\" font-family=\"monospace\" font-size=\"10.00\">ConvolutionBackward0</text>\n</g>\n<!-- 139746978203728&#45;&gt;139746978204352 -->\n<g id=\"edge94\" class=\"edge\">\n<title>139746978203728&#45;&gt;139746978204352</title>\n<path fill=\"none\" stroke=\"black\" d=\"M634.02,-1849.87C606.75,-1838.65 558.93,-1818.98 527.61,-1806.09\"/>\n<polygon fill=\"black\" stroke=\"black\" points=\"528.65,-1802.74 518.07,-1802.17 525.98,-1809.21 528.65,-1802.74\"/>\n</g>\n<!-- 139746978265456 -->\n<g id=\"node97\" class=\"node\">\n<title>139746978265456</title>\n<polygon fill=\"orange\" stroke=\"black\" points=\"839.5,-1807.5 726.5,-1807.5 726.5,-1777.5 839.5,-1777.5 839.5,-1807.5\"/>\n<text text-anchor=\"middle\" x=\"783\" y=\"-1795.5\" font-family=\"monospace\" font-size=\"10.00\">input</text>\n<text text-anchor=\"middle\" x=\"783\" y=\"-1784.5\" font-family=\"monospace\" font-size=\"10.00\"> (1, 16, 16, 16)</text>\n</g>\n<!-- 139746978203728&#45;&gt;139746978265456 -->\n<g id=\"edge95\" class=\"edge\">\n<title>139746978203728&#45;&gt;139746978265456</title>\n<path fill=\"none\" stroke=\"black\" d=\"M672,-1849.87C693.21,-1839.09 729.79,-1820.52 755.13,-1807.65\"/>\n</g>\n<!-- 139746978160672 -->\n<g id=\"node98\" class=\"node\">\n<title>139746978160672</title>\n<polygon fill=\"lightblue\" stroke=\"black\" points=\"708.5,-1808 601.5,-1808 601.5,-1777 708.5,-1777 708.5,-1808\"/>\n<text text-anchor=\"middle\" x=\"655\" y=\"-1784\" font-family=\"monospace\" font-size=\"10.00\"> (16, 16, 3, 3)</text>\n</g>\n<!-- 139746978203728&#45;&gt;139746978160672 -->\n<g id=\"edge96\" class=\"edge\">\n<title>139746978203728&#45;&gt;139746978160672</title>\n<path fill=\"none\" stroke=\"black\" d=\"M655,-1849.73C655,-1839.06 655,-1820.88 655,-1808.08\"/>\n</g>\n<!-- 139746978203536 -->\n<g id=\"node167\" class=\"node\">\n<title>139746978203536</title>\n<polygon fill=\"lightgrey\" stroke=\"black\" points=\"705.5,-1735.5 604.5,-1735.5 604.5,-1716.5 705.5,-1716.5 705.5,-1735.5\"/>\n<text text-anchor=\"middle\" x=\"655\" y=\"-1723.5\" font-family=\"monospace\" font-size=\"10.00\">AccumulateGrad</text>\n</g>\n<!-- 139746978160672&#45;&gt;139746978203536 -->\n<g id=\"edge176\" class=\"edge\">\n<title>139746978160672&#45;&gt;139746978203536</title>\n<path fill=\"none\" stroke=\"black\" d=\"M655,-1776.86C655,-1767.68 655,-1755.75 655,-1745.86\"/>\n<polygon fill=\"black\" stroke=\"black\" points=\"658.5,-1745.82 655,-1735.82 651.5,-1745.82 658.5,-1745.82\"/>\n</g>\n<!-- 139746978204016 -->\n<g id=\"node99\" class=\"node\">\n<title>139746978204016</title>\n<polygon fill=\"lightgrey\" stroke=\"black\" points=\"959.5,-1936 870.5,-1936 870.5,-1917 959.5,-1917 959.5,-1936\"/>\n<text text-anchor=\"middle\" x=\"915\" y=\"-1924\" font-family=\"monospace\" font-size=\"10.00\">AddBackward0</text>\n</g>\n<!-- 139746978204016&#45;&gt;139746978203728 -->\n<g id=\"edge97\" class=\"edge\">\n<title>139746978204016&#45;&gt;139746978203728</title>\n<path fill=\"none\" stroke=\"black\" d=\"M880.74,-1916.94C834.07,-1905.27 750.47,-1884.37 699.15,-1871.54\"/>\n<polygon fill=\"black\" stroke=\"black\" points=\"699.88,-1868.11 689.33,-1869.08 698.19,-1874.9 699.88,-1868.11\"/>\n</g>\n<!-- 139746978208000 -->\n<g id=\"node193\" class=\"node\">\n<title>139746978208000</title>\n<polygon fill=\"lightgrey\" stroke=\"black\" points=\"983.5,-1869 846.5,-1869 846.5,-1850 983.5,-1850 983.5,-1869\"/>\n<text text-anchor=\"middle\" x=\"915\" y=\"-1857\" font-family=\"monospace\" font-size=\"10.00\">ConvolutionBackward0</text>\n</g>\n<!-- 139746978204016&#45;&gt;139746978208000 -->\n<g id=\"edge213\" class=\"edge\">\n<title>139746978204016&#45;&gt;139746978208000</title>\n<path fill=\"none\" stroke=\"black\" d=\"M915,-1916.73C915,-1907.18 915,-1891.62 915,-1879.28\"/>\n<polygon fill=\"black\" stroke=\"black\" points=\"918.5,-1879.13 915,-1869.13 911.5,-1879.13 918.5,-1879.13\"/>\n</g>\n<!-- 139746978206512 -->\n<g id=\"node100\" class=\"node\">\n<title>139746978206512</title>\n<polygon fill=\"lightgrey\" stroke=\"black\" points=\"1305.5,-2002.5 1144.5,-2002.5 1144.5,-1983.5 1305.5,-1983.5 1305.5,-2002.5\"/>\n<text text-anchor=\"middle\" x=\"1225\" y=\"-1990.5\" font-family=\"monospace\" font-size=\"10.00\">NativeBatchNormBackward0</text>\n</g>\n<!-- 139746978206512&#45;&gt;139746978204016 -->\n<g id=\"edge98\" class=\"edge\">\n<title>139746978206512&#45;&gt;139746978204016</title>\n<path fill=\"none\" stroke=\"black\" d=\"M1180.56,-1983.47C1130.87,-1973.83 1048.03,-1957.46 977,-1942 971.67,-1940.84 966.08,-1939.59 960.55,-1938.32\"/>\n<polygon fill=\"black\" stroke=\"black\" points=\"961.22,-1934.89 950.69,-1936.05 959.65,-1941.71 961.22,-1934.89\"/>\n</g>\n<!-- 139746978263616 -->\n<g id=\"node101\" class=\"node\">\n<title>139746978263616</title>\n<polygon fill=\"orange\" stroke=\"black\" points=\"1417.5,-1941.5 1304.5,-1941.5 1304.5,-1911.5 1417.5,-1911.5 1417.5,-1941.5\"/>\n<text text-anchor=\"middle\" x=\"1361\" y=\"-1929.5\" font-family=\"monospace\" font-size=\"10.00\">input</text>\n<text text-anchor=\"middle\" x=\"1361\" y=\"-1918.5\" font-family=\"monospace\" font-size=\"10.00\"> (1, 16, 16, 16)</text>\n</g>\n<!-- 139746978206512&#45;&gt;139746978263616 -->\n<g id=\"edge99\" class=\"edge\">\n<title>139746978206512&#45;&gt;139746978263616</title>\n<path fill=\"none\" stroke=\"black\" d=\"M1243.06,-1983.43C1265.6,-1972.74 1304.47,-1954.31 1331.39,-1941.54\"/>\n</g>\n<!-- 139746979479392 -->\n<g id=\"node102\" class=\"node\">\n<title>139746979479392</title>\n<polygon fill=\"orange\" stroke=\"black\" points=\"1494.5,-1941.5 1435.5,-1941.5 1435.5,-1911.5 1494.5,-1911.5 1494.5,-1941.5\"/>\n<text text-anchor=\"middle\" x=\"1465\" y=\"-1929.5\" font-family=\"monospace\" font-size=\"10.00\">result1</text>\n<text text-anchor=\"middle\" x=\"1465\" y=\"-1918.5\" font-family=\"monospace\" font-size=\"10.00\"> (0)</text>\n</g>\n<!-- 139746978206512&#45;&gt;139746979479392 -->\n<g id=\"edge100\" class=\"edge\">\n<title>139746978206512&#45;&gt;139746979479392</title>\n<path fill=\"none\" stroke=\"black\" d=\"M1265.64,-1983.47C1306.72,-1974.49 1371.84,-1959.28 1427,-1942 1429.7,-1941.16 1432.48,-1940.22 1435.25,-1939.25\"/>\n</g>\n<!-- 139746979470912 -->\n<g id=\"node103\" class=\"node\">\n<title>139746979470912</title>\n<polygon fill=\"orange\" stroke=\"black\" points=\"1571.5,-1941.5 1512.5,-1941.5 1512.5,-1911.5 1571.5,-1911.5 1571.5,-1941.5\"/>\n<text text-anchor=\"middle\" x=\"1542\" y=\"-1929.5\" font-family=\"monospace\" font-size=\"10.00\">result2</text>\n<text text-anchor=\"middle\" x=\"1542\" y=\"-1918.5\" font-family=\"monospace\" font-size=\"10.00\"> (0)</text>\n</g>\n<!-- 139746978206512&#45;&gt;139746979470912 -->\n<g id=\"edge101\" class=\"edge\">\n<title>139746978206512&#45;&gt;139746979470912</title>\n<path fill=\"none\" stroke=\"black\" d=\"M1279.54,-1983.47C1348.36,-1972.49 1462.69,-1953.47 1504,-1942 1506.72,-1941.24 1509.52,-1940.37 1512.31,-1939.43\"/>\n</g>\n<!-- 139746978158272 -->\n<g id=\"node104\" class=\"node\">\n<title>139746978158272</title>\n<polygon fill=\"orange\" stroke=\"black\" points=\"1074.5,-1941.5 985.5,-1941.5 985.5,-1911.5 1074.5,-1911.5 1074.5,-1941.5\"/>\n<text text-anchor=\"middle\" x=\"1030\" y=\"-1929.5\" font-family=\"monospace\" font-size=\"10.00\">running_mean</text>\n<text text-anchor=\"middle\" x=\"1030\" y=\"-1918.5\" font-family=\"monospace\" font-size=\"10.00\"> (16)</text>\n</g>\n<!-- 139746978206512&#45;&gt;139746978158272 -->\n<g id=\"edge102\" class=\"edge\">\n<title>139746978206512&#45;&gt;139746978158272</title>\n<path fill=\"none\" stroke=\"black\" d=\"M1199.11,-1983.43C1166.78,-1972.74 1111.06,-1954.31 1072.45,-1941.54\"/>\n</g>\n<!-- 139746978159632 -->\n<g id=\"node105\" class=\"node\">\n<title>139746978159632</title>\n<polygon fill=\"orange\" stroke=\"black\" points=\"1175.5,-1941.5 1092.5,-1941.5 1092.5,-1911.5 1175.5,-1911.5 1175.5,-1941.5\"/>\n<text text-anchor=\"middle\" x=\"1134\" y=\"-1929.5\" font-family=\"monospace\" font-size=\"10.00\">running_var</text>\n<text text-anchor=\"middle\" x=\"1134\" y=\"-1918.5\" font-family=\"monospace\" font-size=\"10.00\"> (16)</text>\n</g>\n<!-- 139746978206512&#45;&gt;139746978159632 -->\n<g id=\"edge103\" class=\"edge\">\n<title>139746978206512&#45;&gt;139746978159632</title>\n<path fill=\"none\" stroke=\"black\" d=\"M1212.73,-1983.3C1197.69,-1972.64 1172,-1954.43 1154.07,-1941.73\"/>\n</g>\n<!-- 139746978159152 -->\n<g id=\"node106\" class=\"node\">\n<title>139746978159152</title>\n<polygon fill=\"lightblue\" stroke=\"black\" points=\"1248,-1942 1194,-1942 1194,-1911 1248,-1911 1248,-1942\"/>\n<text text-anchor=\"middle\" x=\"1221\" y=\"-1918\" font-family=\"monospace\" font-size=\"10.00\"> (16)</text>\n</g>\n<!-- 139746978206512&#45;&gt;139746978159152 -->\n<g id=\"edge104\" class=\"edge\">\n<title>139746978206512&#45;&gt;139746978159152</title>\n<path fill=\"none\" stroke=\"black\" d=\"M1224.46,-1983.3C1223.81,-1972.85 1222.71,-1955.14 1221.93,-1942.47\"/>\n</g>\n<!-- 139746978206224 -->\n<g id=\"node149\" class=\"node\">\n<title>139746978206224</title>\n<polygon fill=\"lightgrey\" stroke=\"black\" points=\"1326.5,-1869 1225.5,-1869 1225.5,-1850 1326.5,-1850 1326.5,-1869\"/>\n<text text-anchor=\"middle\" x=\"1276\" y=\"-1857\" font-family=\"monospace\" font-size=\"10.00\">AccumulateGrad</text>\n</g>\n<!-- 139746978159152&#45;&gt;139746978206224 -->\n<g id=\"edge154\" class=\"edge\">\n<title>139746978159152&#45;&gt;139746978206224</title>\n<path fill=\"none\" stroke=\"black\" d=\"M1233.48,-1910.75C1242,-1900.68 1253.29,-1887.34 1262.09,-1876.93\"/>\n<polygon fill=\"black\" stroke=\"black\" points=\"1265,-1878.91 1268.79,-1869.02 1259.66,-1874.39 1265,-1878.91\"/>\n</g>\n<!-- 139746978207856 -->\n<g id=\"node107\" class=\"node\">\n<title>139746978207856</title>\n<polygon fill=\"lightgrey\" stroke=\"black\" points=\"1412.5,-2069 1317.5,-2069 1317.5,-2050 1412.5,-2050 1412.5,-2069\"/>\n<text text-anchor=\"middle\" x=\"1365\" y=\"-2057\" font-family=\"monospace\" font-size=\"10.00\">ReluBackward0</text>\n</g>\n<!-- 139746978207856&#45;&gt;139746978206512 -->\n<g id=\"edge105\" class=\"edge\">\n<title>139746978207856&#45;&gt;139746978206512</title>\n<path fill=\"none\" stroke=\"black\" d=\"M1346.41,-2049.93C1322.46,-2038.9 1280.61,-2019.62 1252.85,-2006.83\"/>\n<polygon fill=\"black\" stroke=\"black\" points=\"1254.21,-2003.61 1243.67,-2002.6 1251.29,-2009.96 1254.21,-2003.61\"/>\n</g>\n<!-- 139746979473152 -->\n<g id=\"node108\" class=\"node\">\n<title>139746979473152</title>\n<polygon fill=\"orange\" stroke=\"black\" points=\"1436.5,-2008 1323.5,-2008 1323.5,-1978 1436.5,-1978 1436.5,-2008\"/>\n<text text-anchor=\"middle\" x=\"1380\" y=\"-1996\" font-family=\"monospace\" font-size=\"10.00\">result</text>\n<text text-anchor=\"middle\" x=\"1380\" y=\"-1985\" font-family=\"monospace\" font-size=\"10.00\"> (1, 16, 16, 16)</text>\n</g>\n<!-- 139746978207856&#45;&gt;139746979473152 -->\n<g id=\"edge106\" class=\"edge\">\n<title>139746978207856&#45;&gt;139746979473152</title>\n<path fill=\"none\" stroke=\"black\" d=\"M1367.02,-2049.8C1369.49,-2039.21 1373.68,-2021.17 1376.63,-2008.47\"/>\n</g>\n<!-- 139746978206416 -->\n<g id=\"node109\" class=\"node\">\n<title>139746978206416</title>\n<polygon fill=\"lightgrey\" stroke=\"black\" points=\"1667.5,-2136 1530.5,-2136 1530.5,-2117 1667.5,-2117 1667.5,-2136\"/>\n<text text-anchor=\"middle\" x=\"1599\" y=\"-2124\" font-family=\"monospace\" font-size=\"10.00\">ConvolutionBackward0</text>\n</g>\n<!-- 139746978206416&#45;&gt;139746978207856 -->\n<g id=\"edge107\" class=\"edge\">\n<title>139746978206416&#45;&gt;139746978207856</title>\n<path fill=\"none\" stroke=\"black\" d=\"M1567.93,-2116.87C1526.11,-2105.25 1451.67,-2084.58 1405.51,-2071.75\"/>\n<polygon fill=\"black\" stroke=\"black\" points=\"1406.4,-2068.37 1395.83,-2069.06 1404.53,-2075.11 1406.4,-2068.37\"/>\n</g>\n<!-- 139747452180880 -->\n<g id=\"node110\" class=\"node\">\n<title>139747452180880</title>\n<polygon fill=\"orange\" stroke=\"black\" points=\"1537.5,-2074.5 1430.5,-2074.5 1430.5,-2044.5 1537.5,-2044.5 1537.5,-2074.5\"/>\n<text text-anchor=\"middle\" x=\"1484\" y=\"-2062.5\" font-family=\"monospace\" font-size=\"10.00\">input</text>\n<text text-anchor=\"middle\" x=\"1484\" y=\"-2051.5\" font-family=\"monospace\" font-size=\"10.00\"> (1, 8, 34, 34)</text>\n</g>\n<!-- 139746978206416&#45;&gt;139747452180880 -->\n<g id=\"edge108\" class=\"edge\">\n<title>139746978206416&#45;&gt;139747452180880</title>\n<path fill=\"none\" stroke=\"black\" d=\"M1583.49,-2116.73C1564.36,-2105.92 1531.6,-2087.41 1508.93,-2074.59\"/>\n</g>\n<!-- 139746978158192 -->\n<g id=\"node111\" class=\"node\">\n<title>139746978158192</title>\n<polygon fill=\"lightblue\" stroke=\"black\" points=\"1656.5,-2075 1555.5,-2075 1555.5,-2044 1656.5,-2044 1656.5,-2075\"/>\n<text text-anchor=\"middle\" x=\"1606\" y=\"-2051\" font-family=\"monospace\" font-size=\"10.00\"> (16, 8, 3, 3)</text>\n</g>\n<!-- 139746978206416&#45;&gt;139746978158192 -->\n<g id=\"edge109\" class=\"edge\">\n<title>139746978206416&#45;&gt;139746978158192</title>\n<path fill=\"none\" stroke=\"black\" d=\"M1599.94,-2116.73C1601.09,-2106.06 1603.05,-2087.88 1604.43,-2075.08\"/>\n</g>\n<!-- 139746978207568 -->\n<g id=\"node148\" class=\"node\">\n<title>139746978207568</title>\n<polygon fill=\"lightgrey\" stroke=\"black\" points=\"1695.5,-2002.5 1594.5,-2002.5 1594.5,-1983.5 1695.5,-1983.5 1695.5,-2002.5\"/>\n<text text-anchor=\"middle\" x=\"1645\" y=\"-1990.5\" font-family=\"monospace\" font-size=\"10.00\">AccumulateGrad</text>\n</g>\n<!-- 139746978158192&#45;&gt;139746978207568 -->\n<g id=\"edge152\" class=\"edge\">\n<title>139746978158192&#45;&gt;139746978207568</title>\n<path fill=\"none\" stroke=\"black\" d=\"M1614.85,-2043.86C1620.64,-2034.29 1628.24,-2021.72 1634.36,-2011.6\"/>\n<polygon fill=\"black\" stroke=\"black\" points=\"1637.49,-2013.19 1639.67,-2002.82 1631.5,-2009.57 1637.49,-2013.19\"/>\n</g>\n<!-- 139746978206032 -->\n<g id=\"node112\" class=\"node\">\n<title>139746978206032</title>\n<polygon fill=\"lightgrey\" stroke=\"black\" points=\"1575.5,-2203 1438.5,-2203 1438.5,-2184 1575.5,-2184 1575.5,-2203\"/>\n<text text-anchor=\"middle\" x=\"1507\" y=\"-2191\" font-family=\"monospace\" font-size=\"10.00\">ConvolutionBackward0</text>\n</g>\n<!-- 139746978206032&#45;&gt;139746978206416 -->\n<g id=\"edge110\" class=\"edge\">\n<title>139746978206032&#45;&gt;139746978206416</title>\n<path fill=\"none\" stroke=\"black\" d=\"M1519.41,-2183.73C1534.58,-2173.01 1560.48,-2154.72 1578.6,-2141.91\"/>\n<polygon fill=\"black\" stroke=\"black\" points=\"1580.64,-2144.76 1586.79,-2136.13 1576.6,-2139.04 1580.64,-2144.76\"/>\n</g>\n<!-- 139746978264736 -->\n<g id=\"node113\" class=\"node\">\n<title>139746978264736</title>\n<polygon fill=\"orange\" stroke=\"black\" points=\"1512.5,-2141.5 1405.5,-2141.5 1405.5,-2111.5 1512.5,-2111.5 1512.5,-2141.5\"/>\n<text text-anchor=\"middle\" x=\"1459\" y=\"-2129.5\" font-family=\"monospace\" font-size=\"10.00\">input</text>\n<text text-anchor=\"middle\" x=\"1459\" y=\"-2118.5\" font-family=\"monospace\" font-size=\"10.00\"> (1, 8, 32, 32)</text>\n</g>\n<!-- 139746978206032&#45;&gt;139746978264736 -->\n<g id=\"edge111\" class=\"edge\">\n<title>139746978206032&#45;&gt;139746978264736</title>\n<path fill=\"none\" stroke=\"black\" d=\"M1500.53,-2183.73C1492.54,-2172.92 1478.87,-2154.41 1469.4,-2141.59\"/>\n</g>\n<!-- 139746978158432 -->\n<g id=\"node114\" class=\"node\">\n<title>139746978158432</title>\n<polygon fill=\"lightblue\" stroke=\"black\" points=\"1819.5,-2142 1724.5,-2142 1724.5,-2111 1819.5,-2111 1819.5,-2142\"/>\n<text text-anchor=\"middle\" x=\"1772\" y=\"-2118\" font-family=\"monospace\" font-size=\"10.00\"> (8, 8, 1, 1)</text>\n</g>\n<!-- 139746978206032&#45;&gt;139746978158432 -->\n<g id=\"edge112\" class=\"edge\">\n<title>139746978206032&#45;&gt;139746978158432</title>\n<path fill=\"none\" stroke=\"black\" d=\"M1541.92,-2183.94C1588.72,-2172.46 1671.97,-2152.04 1724.46,-2139.16\"/>\n</g>\n<!-- 139746978206656 -->\n<g id=\"node147\" class=\"node\">\n<title>139746978206656</title>\n<polygon fill=\"lightgrey\" stroke=\"black\" points=\"1818.5,-2069 1717.5,-2069 1717.5,-2050 1818.5,-2050 1818.5,-2069\"/>\n<text text-anchor=\"middle\" x=\"1768\" y=\"-2057\" font-family=\"monospace\" font-size=\"10.00\">AccumulateGrad</text>\n</g>\n<!-- 139746978158432&#45;&gt;139746978206656 -->\n<g id=\"edge150\" class=\"edge\">\n<title>139746978158432&#45;&gt;139746978206656</title>\n<path fill=\"none\" stroke=\"black\" d=\"M1771.09,-2110.75C1770.52,-2101.39 1769.77,-2089.19 1769.15,-2079.16\"/>\n<polygon fill=\"black\" stroke=\"black\" points=\"1772.63,-2078.78 1768.52,-2069.02 1765.65,-2079.21 1772.63,-2078.78\"/>\n</g>\n<!-- 139746978207616 -->\n<g id=\"node115\" class=\"node\">\n<title>139746978207616</title>\n<polygon fill=\"lightgrey\" stroke=\"black\" points=\"1419.5,-2269.5 1258.5,-2269.5 1258.5,-2250.5 1419.5,-2250.5 1419.5,-2269.5\"/>\n<text text-anchor=\"middle\" x=\"1339\" y=\"-2257.5\" font-family=\"monospace\" font-size=\"10.00\">NativeBatchNormBackward0</text>\n</g>\n<!-- 139746978207616&#45;&gt;139746978206032 -->\n<g id=\"edge113\" class=\"edge\">\n<title>139746978207616&#45;&gt;139746978206032</title>\n<path fill=\"none\" stroke=\"black\" d=\"M1361.31,-2250.43C1390.43,-2239.25 1441.59,-2219.61 1474.88,-2206.83\"/>\n<polygon fill=\"black\" stroke=\"black\" points=\"1476.52,-2209.95 1484.6,-2203.1 1474.01,-2203.42 1476.52,-2209.95\"/>\n</g>\n<!-- 139746978265376 -->\n<g id=\"node116\" class=\"node\">\n<title>139746978265376</title>\n<polygon fill=\"orange\" stroke=\"black\" points=\"1700.5,-2208.5 1593.5,-2208.5 1593.5,-2178.5 1700.5,-2178.5 1700.5,-2208.5\"/>\n<text text-anchor=\"middle\" x=\"1647\" y=\"-2196.5\" font-family=\"monospace\" font-size=\"10.00\">input</text>\n<text text-anchor=\"middle\" x=\"1647\" y=\"-2185.5\" font-family=\"monospace\" font-size=\"10.00\"> (1, 8, 32, 32)</text>\n</g>\n<!-- 139746978207616&#45;&gt;139746978265376 -->\n<g id=\"edge114\" class=\"edge\">\n<title>139746978207616&#45;&gt;139746978265376</title>\n<path fill=\"none\" stroke=\"black\" d=\"M1383.08,-2250.44C1432.37,-2240.78 1514.54,-2224.4 1585,-2209 1587.7,-2208.41 1590.46,-2207.8 1593.25,-2207.17\"/>\n</g>\n<!-- 139746979474512 -->\n<g id=\"node117\" class=\"node\">\n<title>139746979474512</title>\n<polygon fill=\"orange\" stroke=\"black\" points=\"1777.5,-2208.5 1718.5,-2208.5 1718.5,-2178.5 1777.5,-2178.5 1777.5,-2208.5\"/>\n<text text-anchor=\"middle\" x=\"1748\" y=\"-2196.5\" font-family=\"monospace\" font-size=\"10.00\">result1</text>\n<text text-anchor=\"middle\" x=\"1748\" y=\"-2185.5\" font-family=\"monospace\" font-size=\"10.00\"> (0)</text>\n</g>\n<!-- 139746978207616&#45;&gt;139746979474512 -->\n<g id=\"edge115\" class=\"edge\">\n<title>139746978207616&#45;&gt;139746979474512</title>\n<path fill=\"none\" stroke=\"black\" d=\"M1393.94,-2250.43C1406.14,-2248.59 1419,-2246.69 1431,-2245 1554.81,-2227.59 1588.75,-2239.5 1710,-2209 1712.74,-2208.31 1715.55,-2207.48 1718.34,-2206.58\"/>\n</g>\n<!-- 139746979469952 -->\n<g id=\"node118\" class=\"node\">\n<title>139746979469952</title>\n<polygon fill=\"orange\" stroke=\"black\" points=\"1101.5,-2208.5 1042.5,-2208.5 1042.5,-2178.5 1101.5,-2178.5 1101.5,-2208.5\"/>\n<text text-anchor=\"middle\" x=\"1072\" y=\"-2196.5\" font-family=\"monospace\" font-size=\"10.00\">result2</text>\n<text text-anchor=\"middle\" x=\"1072\" y=\"-2185.5\" font-family=\"monospace\" font-size=\"10.00\"> (0)</text>\n</g>\n<!-- 139746978207616&#45;&gt;139746979469952 -->\n<g id=\"edge116\" class=\"edge\">\n<title>139746978207616&#45;&gt;139746979469952</title>\n<path fill=\"none\" stroke=\"black\" d=\"M1290.91,-2250.48C1244.42,-2241.78 1172.23,-2227 1111,-2209 1107.95,-2208.1 1104.8,-2207.09 1101.67,-2206.02\"/>\n</g>\n<!-- 139746979302352 -->\n<g id=\"node119\" class=\"node\">\n<title>139746979302352</title>\n<polygon fill=\"orange\" stroke=\"black\" points=\"1208.5,-2208.5 1119.5,-2208.5 1119.5,-2178.5 1208.5,-2178.5 1208.5,-2208.5\"/>\n<text text-anchor=\"middle\" x=\"1164\" y=\"-2196.5\" font-family=\"monospace\" font-size=\"10.00\">running_mean</text>\n<text text-anchor=\"middle\" x=\"1164\" y=\"-2185.5\" font-family=\"monospace\" font-size=\"10.00\"> (8)</text>\n</g>\n<!-- 139746978207616&#45;&gt;139746979302352 -->\n<g id=\"edge117\" class=\"edge\">\n<title>139746978207616&#45;&gt;139746979302352</title>\n<path fill=\"none\" stroke=\"black\" d=\"M1315.76,-2250.43C1286.75,-2239.74 1236.74,-2221.31 1202.1,-2208.54\"/>\n</g>\n<!-- 139746978158832 -->\n<g id=\"node120\" class=\"node\">\n<title>139746978158832</title>\n<polygon fill=\"orange\" stroke=\"black\" points=\"1309.5,-2208.5 1226.5,-2208.5 1226.5,-2178.5 1309.5,-2178.5 1309.5,-2208.5\"/>\n<text text-anchor=\"middle\" x=\"1268\" y=\"-2196.5\" font-family=\"monospace\" font-size=\"10.00\">running_var</text>\n<text text-anchor=\"middle\" x=\"1268\" y=\"-2185.5\" font-family=\"monospace\" font-size=\"10.00\"> (8)</text>\n</g>\n<!-- 139746978207616&#45;&gt;139746978158832 -->\n<g id=\"edge118\" class=\"edge\">\n<title>139746978207616&#45;&gt;139746978158832</title>\n<path fill=\"none\" stroke=\"black\" d=\"M1329.42,-2250.3C1317.69,-2239.64 1297.65,-2221.43 1283.66,-2208.73\"/>\n</g>\n<!-- 139746978158352 -->\n<g id=\"node121\" class=\"node\">\n<title>139746978158352</title>\n<polygon fill=\"lightblue\" stroke=\"black\" points=\"1420,-2209 1366,-2209 1366,-2178 1420,-2178 1420,-2209\"/>\n<text text-anchor=\"middle\" x=\"1393\" y=\"-2185\" font-family=\"monospace\" font-size=\"10.00\"> (8)</text>\n</g>\n<!-- 139746978207616&#45;&gt;139746978158352 -->\n<g id=\"edge119\" class=\"edge\">\n<title>139746978207616&#45;&gt;139746978158352</title>\n<path fill=\"none\" stroke=\"black\" d=\"M1346.28,-2250.3C1355.03,-2239.85 1369.86,-2222.14 1380.47,-2209.47\"/>\n</g>\n<!-- 139746978207760 -->\n<g id=\"node144\" class=\"node\">\n<title>139746978207760</title>\n<polygon fill=\"lightgrey\" stroke=\"black\" points=\"1387.5,-2136 1286.5,-2136 1286.5,-2117 1387.5,-2117 1387.5,-2136\"/>\n<text text-anchor=\"middle\" x=\"1337\" y=\"-2124\" font-family=\"monospace\" font-size=\"10.00\">AccumulateGrad</text>\n</g>\n<!-- 139746978158352&#45;&gt;139746978207760 -->\n<g id=\"edge146\" class=\"edge\">\n<title>139746978158352&#45;&gt;139746978207760</title>\n<path fill=\"none\" stroke=\"black\" d=\"M1380.29,-2177.75C1371.53,-2167.58 1359.89,-2154.07 1350.89,-2143.62\"/>\n<polygon fill=\"black\" stroke=\"black\" points=\"1353.52,-2141.31 1344.34,-2136.02 1348.21,-2145.88 1353.52,-2141.31\"/>\n</g>\n<!-- 139746978206464 -->\n<g id=\"node122\" class=\"node\">\n<title>139746978206464</title>\n<polygon fill=\"lightgrey\" stroke=\"black\" points=\"1540.5,-2336 1445.5,-2336 1445.5,-2317 1540.5,-2317 1540.5,-2336\"/>\n<text text-anchor=\"middle\" x=\"1493\" y=\"-2324\" font-family=\"monospace\" font-size=\"10.00\">ReluBackward0</text>\n</g>\n<!-- 139746978206464&#45;&gt;139746978207616 -->\n<g id=\"edge120\" class=\"edge\">\n<title>139746978206464&#45;&gt;139746978207616</title>\n<path fill=\"none\" stroke=\"black\" d=\"M1472.55,-2316.93C1445.97,-2305.8 1399.36,-2286.28 1368.83,-2273.5\"/>\n<polygon fill=\"black\" stroke=\"black\" points=\"1370.11,-2270.24 1359.53,-2269.6 1367.41,-2276.69 1370.11,-2270.24\"/>\n</g>\n<!-- 139746979470512 -->\n<g id=\"node123\" class=\"node\">\n<title>139746979470512</title>\n<polygon fill=\"orange\" stroke=\"black\" points=\"1546.5,-2275 1439.5,-2275 1439.5,-2245 1546.5,-2245 1546.5,-2275\"/>\n<text text-anchor=\"middle\" x=\"1493\" y=\"-2263\" font-family=\"monospace\" font-size=\"10.00\">result</text>\n<text text-anchor=\"middle\" x=\"1493\" y=\"-2252\" font-family=\"monospace\" font-size=\"10.00\"> (1, 8, 32, 32)</text>\n</g>\n<!-- 139746978206464&#45;&gt;139746979470512 -->\n<g id=\"edge121\" class=\"edge\">\n<title>139746978206464&#45;&gt;139746979470512</title>\n<path fill=\"none\" stroke=\"black\" d=\"M1493,-2316.8C1493,-2306.21 1493,-2288.17 1493,-2275.47\"/>\n</g>\n<!-- 139746978207184 -->\n<g id=\"node124\" class=\"node\">\n<title>139746978207184</title>\n<polygon fill=\"lightgrey\" stroke=\"black\" points=\"1680.5,-2403 1543.5,-2403 1543.5,-2384 1680.5,-2384 1680.5,-2403\"/>\n<text text-anchor=\"middle\" x=\"1612\" y=\"-2391\" font-family=\"monospace\" font-size=\"10.00\">ConvolutionBackward0</text>\n</g>\n<!-- 139746978207184&#45;&gt;139746978206464 -->\n<g id=\"edge122\" class=\"edge\">\n<title>139746978207184&#45;&gt;139746978206464</title>\n<path fill=\"none\" stroke=\"black\" d=\"M1595.95,-2383.73C1575.88,-2372.77 1541.3,-2353.88 1517.81,-2341.05\"/>\n<polygon fill=\"black\" stroke=\"black\" points=\"1519.25,-2337.85 1508.79,-2336.13 1515.89,-2343.99 1519.25,-2337.85\"/>\n</g>\n<!-- 139746978002272 -->\n<g id=\"node125\" class=\"node\">\n<title>139746978002272</title>\n<polygon fill=\"orange\" stroke=\"black\" points=\"1665.5,-2341.5 1558.5,-2341.5 1558.5,-2311.5 1665.5,-2311.5 1665.5,-2341.5\"/>\n<text text-anchor=\"middle\" x=\"1612\" y=\"-2329.5\" font-family=\"monospace\" font-size=\"10.00\">input</text>\n<text text-anchor=\"middle\" x=\"1612\" y=\"-2318.5\" font-family=\"monospace\" font-size=\"10.00\"> (1, 8, 32, 32)</text>\n</g>\n<!-- 139746978207184&#45;&gt;139746978002272 -->\n<g id=\"edge123\" class=\"edge\">\n<title>139746978207184&#45;&gt;139746978002272</title>\n<path fill=\"none\" stroke=\"black\" d=\"M1612,-2383.73C1612,-2372.92 1612,-2354.41 1612,-2341.59\"/>\n</g>\n<!-- 139746978154512 -->\n<g id=\"node126\" class=\"node\">\n<title>139746978154512</title>\n<polygon fill=\"lightblue\" stroke=\"black\" points=\"1778.5,-2342 1683.5,-2342 1683.5,-2311 1778.5,-2311 1778.5,-2342\"/>\n<text text-anchor=\"middle\" x=\"1731\" y=\"-2318\" font-family=\"monospace\" font-size=\"10.00\"> (8, 8, 3, 3)</text>\n</g>\n<!-- 139746978207184&#45;&gt;139746978154512 -->\n<g id=\"edge124\" class=\"edge\">\n<title>139746978207184&#45;&gt;139746978154512</title>\n<path fill=\"none\" stroke=\"black\" d=\"M1628.05,-2383.73C1647.59,-2373.06 1680.88,-2354.88 1704.3,-2342.08\"/>\n</g>\n<!-- 139746978207376 -->\n<g id=\"node143\" class=\"node\">\n<title>139746978207376</title>\n<polygon fill=\"lightgrey\" stroke=\"black\" points=\"1819.5,-2269.5 1718.5,-2269.5 1718.5,-2250.5 1819.5,-2250.5 1819.5,-2269.5\"/>\n<text text-anchor=\"middle\" x=\"1769\" y=\"-2257.5\" font-family=\"monospace\" font-size=\"10.00\">AccumulateGrad</text>\n</g>\n<!-- 139746978154512&#45;&gt;139746978207376 -->\n<g id=\"edge144\" class=\"edge\">\n<title>139746978154512&#45;&gt;139746978207376</title>\n<path fill=\"none\" stroke=\"black\" d=\"M1739.62,-2310.86C1745.26,-2301.29 1752.67,-2288.72 1758.63,-2278.6\"/>\n<polygon fill=\"black\" stroke=\"black\" points=\"1761.74,-2280.22 1763.8,-2269.82 1755.71,-2276.66 1761.74,-2280.22\"/>\n</g>\n<!-- 139746978207040 -->\n<g id=\"node127\" class=\"node\">\n<title>139746978207040</title>\n<polygon fill=\"lightgrey\" stroke=\"black\" points=\"1523.5,-2469.5 1362.5,-2469.5 1362.5,-2450.5 1523.5,-2450.5 1523.5,-2469.5\"/>\n<text text-anchor=\"middle\" x=\"1443\" y=\"-2457.5\" font-family=\"monospace\" font-size=\"10.00\">NativeBatchNormBackward0</text>\n</g>\n<!-- 139746978207040&#45;&gt;139746978207184 -->\n<g id=\"edge125\" class=\"edge\">\n<title>139746978207040&#45;&gt;139746978207184</title>\n<path fill=\"none\" stroke=\"black\" d=\"M1465.44,-2450.43C1494.74,-2439.25 1546.2,-2419.61 1579.69,-2406.83\"/>\n<polygon fill=\"black\" stroke=\"black\" points=\"1581.37,-2409.94 1589.47,-2403.1 1578.87,-2403.4 1581.37,-2409.94\"/>\n</g>\n<!-- 139746978263936 -->\n<g id=\"node128\" class=\"node\">\n<title>139746978263936</title>\n<polygon fill=\"orange\" stroke=\"black\" points=\"1805.5,-2408.5 1698.5,-2408.5 1698.5,-2378.5 1805.5,-2378.5 1805.5,-2408.5\"/>\n<text text-anchor=\"middle\" x=\"1752\" y=\"-2396.5\" font-family=\"monospace\" font-size=\"10.00\">input</text>\n<text text-anchor=\"middle\" x=\"1752\" y=\"-2385.5\" font-family=\"monospace\" font-size=\"10.00\"> (1, 8, 32, 32)</text>\n</g>\n<!-- 139746978207040&#45;&gt;139746978263936 -->\n<g id=\"edge126\" class=\"edge\">\n<title>139746978207040&#45;&gt;139746978263936</title>\n<path fill=\"none\" stroke=\"black\" d=\"M1487.26,-2450.46C1536.75,-2440.81 1619.25,-2424.43 1690,-2409 1692.7,-2408.41 1695.46,-2407.8 1698.25,-2407.17\"/>\n</g>\n<!-- 139746978885088 -->\n<g id=\"node129\" class=\"node\">\n<title>139746978885088</title>\n<polygon fill=\"orange\" stroke=\"black\" points=\"1882.5,-2408.5 1823.5,-2408.5 1823.5,-2378.5 1882.5,-2378.5 1882.5,-2408.5\"/>\n<text text-anchor=\"middle\" x=\"1853\" y=\"-2396.5\" font-family=\"monospace\" font-size=\"10.00\">result1</text>\n<text text-anchor=\"middle\" x=\"1853\" y=\"-2385.5\" font-family=\"monospace\" font-size=\"10.00\"> (0)</text>\n</g>\n<!-- 139746978207040&#45;&gt;139746978885088 -->\n<g id=\"edge127\" class=\"edge\">\n<title>139746978207040&#45;&gt;139746978885088</title>\n<path fill=\"none\" stroke=\"black\" d=\"M1496.27,-2450.47C1508.33,-2448.6 1521.1,-2446.68 1533,-2445 1658.1,-2427.29 1692.45,-2439.74 1815,-2409 1817.74,-2408.31 1820.55,-2407.49 1823.34,-2406.58\"/>\n</g>\n<!-- 139746978889328 -->\n<g id=\"node130\" class=\"node\">\n<title>139746978889328</title>\n<polygon fill=\"orange\" stroke=\"black\" points=\"1206.5,-2408.5 1147.5,-2408.5 1147.5,-2378.5 1206.5,-2378.5 1206.5,-2408.5\"/>\n<text text-anchor=\"middle\" x=\"1177\" y=\"-2396.5\" font-family=\"monospace\" font-size=\"10.00\">result2</text>\n<text text-anchor=\"middle\" x=\"1177\" y=\"-2385.5\" font-family=\"monospace\" font-size=\"10.00\"> (0)</text>\n</g>\n<!-- 139746978207040&#45;&gt;139746978889328 -->\n<g id=\"edge128\" class=\"edge\">\n<title>139746978207040&#45;&gt;139746978889328</title>\n<path fill=\"none\" stroke=\"black\" d=\"M1395.12,-2450.46C1348.84,-2441.74 1276.97,-2426.95 1216,-2409 1212.95,-2408.1 1209.8,-2407.08 1206.67,-2406.02\"/>\n</g>\n<!-- 139747028352224 -->\n<g id=\"node131\" class=\"node\">\n<title>139747028352224</title>\n<polygon fill=\"orange\" stroke=\"black\" points=\"1313.5,-2408.5 1224.5,-2408.5 1224.5,-2378.5 1313.5,-2378.5 1313.5,-2408.5\"/>\n<text text-anchor=\"middle\" x=\"1269\" y=\"-2396.5\" font-family=\"monospace\" font-size=\"10.00\">running_mean</text>\n<text text-anchor=\"middle\" x=\"1269\" y=\"-2385.5\" font-family=\"monospace\" font-size=\"10.00\"> (8)</text>\n</g>\n<!-- 139746978207040&#45;&gt;139747028352224 -->\n<g id=\"edge129\" class=\"edge\">\n<title>139746978207040&#45;&gt;139747028352224</title>\n<path fill=\"none\" stroke=\"black\" d=\"M1419.89,-2450.43C1391.05,-2439.74 1341.33,-2421.31 1306.88,-2408.54\"/>\n</g>\n<!-- 139746978157632 -->\n<g id=\"node132\" class=\"node\">\n<title>139746978157632</title>\n<polygon fill=\"orange\" stroke=\"black\" points=\"1414.5,-2408.5 1331.5,-2408.5 1331.5,-2378.5 1414.5,-2378.5 1414.5,-2408.5\"/>\n<text text-anchor=\"middle\" x=\"1373\" y=\"-2396.5\" font-family=\"monospace\" font-size=\"10.00\">running_var</text>\n<text text-anchor=\"middle\" x=\"1373\" y=\"-2385.5\" font-family=\"monospace\" font-size=\"10.00\"> (8)</text>\n</g>\n<!-- 139746978207040&#45;&gt;139746978157632 -->\n<g id=\"edge130\" class=\"edge\">\n<title>139746978207040&#45;&gt;139746978157632</title>\n<path fill=\"none\" stroke=\"black\" d=\"M1433.56,-2450.3C1421.99,-2439.64 1402.23,-2421.43 1388.44,-2408.73\"/>\n</g>\n<!-- 139747028574160 -->\n<g id=\"node133\" class=\"node\">\n<title>139747028574160</title>\n<polygon fill=\"lightblue\" stroke=\"black\" points=\"1525,-2409 1471,-2409 1471,-2378 1525,-2378 1525,-2409\"/>\n<text text-anchor=\"middle\" x=\"1498\" y=\"-2385\" font-family=\"monospace\" font-size=\"10.00\"> (8)</text>\n</g>\n<!-- 139746978207040&#45;&gt;139747028574160 -->\n<g id=\"edge131\" class=\"edge\">\n<title>139746978207040&#45;&gt;139747028574160</title>\n<path fill=\"none\" stroke=\"black\" d=\"M1450.42,-2450.3C1459.33,-2439.85 1474.43,-2422.14 1485.23,-2409.47\"/>\n</g>\n<!-- 139746978206176 -->\n<g id=\"node140\" class=\"node\">\n<title>139746978206176</title>\n<polygon fill=\"lightgrey\" stroke=\"black\" points=\"1427.5,-2336 1326.5,-2336 1326.5,-2317 1427.5,-2317 1427.5,-2336\"/>\n<text text-anchor=\"middle\" x=\"1377\" y=\"-2324\" font-family=\"monospace\" font-size=\"10.00\">AccumulateGrad</text>\n</g>\n<!-- 139747028574160&#45;&gt;139746978206176 -->\n<g id=\"edge140\" class=\"edge\">\n<title>139747028574160&#45;&gt;139746978206176</title>\n<path fill=\"none\" stroke=\"black\" d=\"M1470.85,-2377.91C1450.15,-2366.8 1421.89,-2351.62 1401.81,-2340.83\"/>\n<polygon fill=\"black\" stroke=\"black\" points=\"1403.4,-2337.71 1392.94,-2336.06 1400.09,-2343.88 1403.4,-2337.71\"/>\n</g>\n<!-- 139746978206752 -->\n<g id=\"node134\" class=\"node\">\n<title>139746978206752</title>\n<polygon fill=\"lightgrey\" stroke=\"black\" points=\"1635.5,-2536 1540.5,-2536 1540.5,-2517 1635.5,-2517 1635.5,-2536\"/>\n<text text-anchor=\"middle\" x=\"1588\" y=\"-2524\" font-family=\"monospace\" font-size=\"10.00\">ReluBackward0</text>\n</g>\n<!-- 139746978206752&#45;&gt;139746978207040 -->\n<g id=\"edge132\" class=\"edge\">\n<title>139746978206752&#45;&gt;139746978207040</title>\n<path fill=\"none\" stroke=\"black\" d=\"M1568.75,-2516.93C1543.94,-2505.9 1500.59,-2486.62 1471.84,-2473.83\"/>\n<polygon fill=\"black\" stroke=\"black\" points=\"1472.89,-2470.47 1462.33,-2469.6 1470.05,-2476.86 1472.89,-2470.47\"/>\n</g>\n<!-- 139746978884128 -->\n<g id=\"node135\" class=\"node\">\n<title>139746978884128</title>\n<polygon fill=\"orange\" stroke=\"black\" points=\"1648.5,-2475 1541.5,-2475 1541.5,-2445 1648.5,-2445 1648.5,-2475\"/>\n<text text-anchor=\"middle\" x=\"1595\" y=\"-2463\" font-family=\"monospace\" font-size=\"10.00\">result</text>\n<text text-anchor=\"middle\" x=\"1595\" y=\"-2452\" font-family=\"monospace\" font-size=\"10.00\"> (1, 8, 32, 32)</text>\n</g>\n<!-- 139746978206752&#45;&gt;139746978884128 -->\n<g id=\"edge133\" class=\"edge\">\n<title>139746978206752&#45;&gt;139746978884128</title>\n<path fill=\"none\" stroke=\"black\" d=\"M1588.94,-2516.8C1590.09,-2506.21 1592.05,-2488.17 1593.43,-2475.47\"/>\n</g>\n<!-- 139746978203632 -->\n<g id=\"node136\" class=\"node\">\n<title>139746978203632</title>\n<polygon fill=\"lightgrey\" stroke=\"black\" points=\"1694.5,-2603 1557.5,-2603 1557.5,-2584 1694.5,-2584 1694.5,-2603\"/>\n<text text-anchor=\"middle\" x=\"1626\" y=\"-2591\" font-family=\"monospace\" font-size=\"10.00\">ConvolutionBackward0</text>\n</g>\n<!-- 139746978203632&#45;&gt;139746978206752 -->\n<g id=\"edge134\" class=\"edge\">\n<title>139746978203632&#45;&gt;139746978206752</title>\n<path fill=\"none\" stroke=\"black\" d=\"M1620.88,-2583.73C1615.06,-2573.79 1605.44,-2557.34 1598.11,-2544.79\"/>\n<polygon fill=\"black\" stroke=\"black\" points=\"1601.11,-2542.99 1593.04,-2536.13 1595.07,-2546.53 1601.11,-2542.99\"/>\n</g>\n<!-- 139746978265776 -->\n<g id=\"node137\" class=\"node\">\n<title>139746978265776</title>\n<polygon fill=\"orange\" stroke=\"black\" points=\"1522.5,-2541.5 1415.5,-2541.5 1415.5,-2511.5 1522.5,-2511.5 1522.5,-2541.5\"/>\n<text text-anchor=\"middle\" x=\"1469\" y=\"-2529.5\" font-family=\"monospace\" font-size=\"10.00\">input</text>\n<text text-anchor=\"middle\" x=\"1469\" y=\"-2518.5\" font-family=\"monospace\" font-size=\"10.00\"> (1, 3, 32, 32)</text>\n</g>\n<!-- 139746978203632&#45;&gt;139746978265776 -->\n<g id=\"edge135\" class=\"edge\">\n<title>139746978203632&#45;&gt;139746978265776</title>\n<path fill=\"none\" stroke=\"black\" d=\"M1605.15,-2583.87C1579.04,-2573.06 1533.97,-2554.4 1502.88,-2541.53\"/>\n</g>\n<!-- 139747002093296 -->\n<g id=\"node138\" class=\"node\">\n<title>139747002093296</title>\n<polygon fill=\"lightblue\" stroke=\"black\" points=\"1787.5,-2542 1692.5,-2542 1692.5,-2511 1787.5,-2511 1787.5,-2542\"/>\n<text text-anchor=\"middle\" x=\"1740\" y=\"-2518\" font-family=\"monospace\" font-size=\"10.00\"> (8, 3, 3, 3)</text>\n</g>\n<!-- 139746978203632&#45;&gt;139747002093296 -->\n<g id=\"edge136\" class=\"edge\">\n<title>139746978203632&#45;&gt;139747002093296</title>\n<path fill=\"none\" stroke=\"black\" d=\"M1641.37,-2583.73C1660.09,-2573.06 1691.98,-2554.88 1714.42,-2542.08\"/>\n</g>\n<!-- 139746978203488 -->\n<g id=\"node139\" class=\"node\">\n<title>139746978203488</title>\n<polygon fill=\"lightgrey\" stroke=\"black\" points=\"1782.5,-2469.5 1681.5,-2469.5 1681.5,-2450.5 1782.5,-2450.5 1782.5,-2469.5\"/>\n<text text-anchor=\"middle\" x=\"1732\" y=\"-2457.5\" font-family=\"monospace\" font-size=\"10.00\">AccumulateGrad</text>\n</g>\n<!-- 139747002093296&#45;&gt;139746978203488 -->\n<g id=\"edge138\" class=\"edge\">\n<title>139747002093296&#45;&gt;139746978203488</title>\n<path fill=\"none\" stroke=\"black\" d=\"M1738.18,-2510.86C1737.05,-2501.68 1735.57,-2489.75 1734.34,-2479.86\"/>\n<polygon fill=\"black\" stroke=\"black\" points=\"1737.8,-2479.32 1733.09,-2469.82 1730.85,-2480.18 1737.8,-2479.32\"/>\n</g>\n<!-- 139746978203488&#45;&gt;139746978203632 -->\n<g id=\"edge137\" class=\"edge\">\n<title>139746978203488&#45;&gt;139746978203632</title>\n<path fill=\"none\" stroke=\"black\" d=\"M1722.74,-2469.84C1712.75,-2479.56 1696.59,-2495.8 1684,-2511 1666.59,-2532.02 1648.7,-2557.95 1637.48,-2574.83\"/>\n<polygon fill=\"black\" stroke=\"black\" points=\"1634.26,-2573.35 1631.69,-2583.63 1640.11,-2577.19 1634.26,-2573.35\"/>\n</g>\n<!-- 139746978206176&#45;&gt;139746978207040 -->\n<g id=\"edge139\" class=\"edge\">\n<title>139746978206176&#45;&gt;139746978207040</title>\n<path fill=\"none\" stroke=\"black\" d=\"M1387.66,-2336C1398.47,-2345.2 1414.87,-2360.88 1424,-2378 1434.49,-2397.67 1439.24,-2423.08 1441.36,-2440.14\"/>\n<polygon fill=\"black\" stroke=\"black\" points=\"1437.91,-2440.87 1442.44,-2450.45 1444.87,-2440.14 1437.91,-2440.87\"/>\n</g>\n<!-- 139746978207472 -->\n<g id=\"node141\" class=\"node\">\n<title>139746978207472</title>\n<polygon fill=\"lightgrey\" stroke=\"black\" points=\"1397.5,-2536 1296.5,-2536 1296.5,-2517 1397.5,-2517 1397.5,-2536\"/>\n<text text-anchor=\"middle\" x=\"1347\" y=\"-2524\" font-family=\"monospace\" font-size=\"10.00\">AccumulateGrad</text>\n</g>\n<!-- 139746978207472&#45;&gt;139746978207040 -->\n<g id=\"edge141\" class=\"edge\">\n<title>139746978207472&#45;&gt;139746978207040</title>\n<path fill=\"none\" stroke=\"black\" d=\"M1359.95,-2516.8C1375.78,-2506.16 1402.8,-2488.01 1421.71,-2475.3\"/>\n<polygon fill=\"black\" stroke=\"black\" points=\"1423.91,-2478.04 1430.26,-2469.56 1420.01,-2472.23 1423.91,-2478.04\"/>\n</g>\n<!-- 139746978157712 -->\n<g id=\"node142\" class=\"node\">\n<title>139746978157712</title>\n<polygon fill=\"lightblue\" stroke=\"black\" points=\"1374,-2609 1320,-2609 1320,-2578 1374,-2578 1374,-2609\"/>\n<text text-anchor=\"middle\" x=\"1347\" y=\"-2585\" font-family=\"monospace\" font-size=\"10.00\"> (8)</text>\n</g>\n<!-- 139746978157712&#45;&gt;139746978207472 -->\n<g id=\"edge142\" class=\"edge\">\n<title>139746978157712&#45;&gt;139746978207472</title>\n<path fill=\"none\" stroke=\"black\" d=\"M1347,-2577.75C1347,-2568.39 1347,-2556.19 1347,-2546.16\"/>\n<polygon fill=\"black\" stroke=\"black\" points=\"1350.5,-2546.02 1347,-2536.02 1343.5,-2546.02 1350.5,-2546.02\"/>\n</g>\n<!-- 139746978207376&#45;&gt;139746978207184 -->\n<g id=\"edge143\" class=\"edge\">\n<title>139746978207376&#45;&gt;139746978207184</title>\n<path fill=\"none\" stroke=\"black\" d=\"M1775.1,-2269.5C1785.66,-2285.36 1804.69,-2319.85 1788,-2342 1780.15,-2352.42 1709.97,-2370.25 1660.65,-2381.69\"/>\n<polygon fill=\"black\" stroke=\"black\" points=\"1659.74,-2378.31 1650.77,-2383.96 1661.3,-2385.13 1659.74,-2378.31\"/>\n</g>\n<!-- 139746978207760&#45;&gt;139746978207616 -->\n<g id=\"edge145\" class=\"edge\">\n<title>139746978207760&#45;&gt;139746978207616</title>\n<path fill=\"none\" stroke=\"black\" d=\"M1337.13,-2136.33C1337.46,-2157.44 1338.27,-2211.17 1338.71,-2240.02\"/>\n<polygon fill=\"black\" stroke=\"black\" points=\"1335.22,-2240.43 1338.87,-2250.37 1342.22,-2240.32 1335.22,-2240.43\"/>\n</g>\n<!-- 139746978207664 -->\n<g id=\"node145\" class=\"node\">\n<title>139746978207664</title>\n<polygon fill=\"lightgrey\" stroke=\"black\" points=\"1230.5,-2336 1129.5,-2336 1129.5,-2317 1230.5,-2317 1230.5,-2336\"/>\n<text text-anchor=\"middle\" x=\"1180\" y=\"-2324\" font-family=\"monospace\" font-size=\"10.00\">AccumulateGrad</text>\n</g>\n<!-- 139746978207664&#45;&gt;139746978207616 -->\n<g id=\"edge147\" class=\"edge\">\n<title>139746978207664&#45;&gt;139746978207616</title>\n<path fill=\"none\" stroke=\"black\" d=\"M1201.11,-2316.93C1228.56,-2305.8 1276.68,-2286.28 1308.2,-2273.5\"/>\n<polygon fill=\"black\" stroke=\"black\" points=\"1309.85,-2276.6 1317.8,-2269.6 1307.22,-2270.12 1309.85,-2276.6\"/>\n</g>\n<!-- 139746978158592 -->\n<g id=\"node146\" class=\"node\">\n<title>139746978158592</title>\n<polygon fill=\"lightblue\" stroke=\"black\" points=\"1129,-2409 1075,-2409 1075,-2378 1129,-2378 1129,-2409\"/>\n<text text-anchor=\"middle\" x=\"1102\" y=\"-2385\" font-family=\"monospace\" font-size=\"10.00\"> (8)</text>\n</g>\n<!-- 139746978158592&#45;&gt;139746978207664 -->\n<g id=\"edge148\" class=\"edge\">\n<title>139746978158592&#45;&gt;139746978207664</title>\n<path fill=\"none\" stroke=\"black\" d=\"M1119.7,-2377.75C1132.26,-2367.28 1149.08,-2353.27 1161.76,-2342.7\"/>\n<polygon fill=\"black\" stroke=\"black\" points=\"1164.34,-2345.11 1169.78,-2336.02 1159.85,-2339.73 1164.34,-2345.11\"/>\n</g>\n<!-- 139746978206656&#45;&gt;139746978206032 -->\n<g id=\"edge149\" class=\"edge\">\n<title>139746978206656&#45;&gt;139746978206032</title>\n<path fill=\"none\" stroke=\"black\" d=\"M1759.5,-2069.01C1740.64,-2087.73 1695.51,-2131.65 1677,-2142 1642.39,-2161.34 1599.57,-2174 1565.57,-2181.81\"/>\n<polygon fill=\"black\" stroke=\"black\" points=\"1564.78,-2178.4 1555.78,-2183.98 1566.3,-2185.24 1564.78,-2178.4\"/>\n</g>\n<!-- 139746978207568&#45;&gt;139746978206416 -->\n<g id=\"edge151\" class=\"edge\">\n<title>139746978207568&#45;&gt;139746978206416</title>\n<path fill=\"none\" stroke=\"black\" d=\"M1651.24,-2002.94C1661.15,-2018.33 1678.18,-2050.56 1666,-2075 1657.95,-2091.15 1642,-2103.49 1627.69,-2111.93\"/>\n<polygon fill=\"black\" stroke=\"black\" points=\"1625.69,-2109.03 1618.62,-2116.92 1629.07,-2115.17 1625.69,-2109.03\"/>\n</g>\n<!-- 139746978206224&#45;&gt;139746978206512 -->\n<g id=\"edge153\" class=\"edge\">\n<title>139746978206224&#45;&gt;139746978206512</title>\n<path fill=\"none\" stroke=\"black\" d=\"M1274.94,-1869.37C1272.89,-1884.68 1267.62,-1916.83 1257,-1942 1252.07,-1953.68 1244.49,-1965.68 1237.95,-1974.99\"/>\n<polygon fill=\"black\" stroke=\"black\" points=\"1234.95,-1973.16 1231.88,-1983.3 1240.61,-1977.29 1234.95,-1973.16\"/>\n</g>\n<!-- 139746978205984 -->\n<g id=\"node150\" class=\"node\">\n<title>139746978205984</title>\n<polygon fill=\"lightgrey\" stroke=\"black\" points=\"1275.5,-2069 1174.5,-2069 1174.5,-2050 1275.5,-2050 1275.5,-2069\"/>\n<text text-anchor=\"middle\" x=\"1225\" y=\"-2057\" font-family=\"monospace\" font-size=\"10.00\">AccumulateGrad</text>\n</g>\n<!-- 139746978205984&#45;&gt;139746978206512 -->\n<g id=\"edge155\" class=\"edge\">\n<title>139746978205984&#45;&gt;139746978206512</title>\n<path fill=\"none\" stroke=\"black\" d=\"M1225,-2049.8C1225,-2040.32 1225,-2024.88 1225,-2012.64\"/>\n<polygon fill=\"black\" stroke=\"black\" points=\"1228.5,-2012.56 1225,-2002.56 1221.5,-2012.56 1228.5,-2012.56\"/>\n</g>\n<!-- 139746978159392 -->\n<g id=\"node151\" class=\"node\">\n<title>139746978159392</title>\n<polygon fill=\"lightblue\" stroke=\"black\" points=\"1252,-2142 1198,-2142 1198,-2111 1252,-2111 1252,-2142\"/>\n<text text-anchor=\"middle\" x=\"1225\" y=\"-2118\" font-family=\"monospace\" font-size=\"10.00\"> (16)</text>\n</g>\n<!-- 139746978159392&#45;&gt;139746978205984 -->\n<g id=\"edge156\" class=\"edge\">\n<title>139746978159392&#45;&gt;139746978205984</title>\n<path fill=\"none\" stroke=\"black\" d=\"M1225,-2110.75C1225,-2101.39 1225,-2089.19 1225,-2079.16\"/>\n<polygon fill=\"black\" stroke=\"black\" points=\"1228.5,-2079.02 1225,-2069.02 1221.5,-2079.02 1228.5,-2079.02\"/>\n</g>\n<!-- 139746978202960 -->\n<g id=\"node152\" class=\"node\">\n<title>139746978202960</title>\n<polygon fill=\"lightgrey\" stroke=\"black\" points=\"902.5,-2469.5 741.5,-2469.5 741.5,-2450.5 902.5,-2450.5 902.5,-2469.5\"/>\n<text text-anchor=\"middle\" x=\"822\" y=\"-2457.5\" font-family=\"monospace\" font-size=\"10.00\">NativeBatchNormBackward0</text>\n</g>\n<!-- 139746978202960&#45;&gt;139746978204016 -->\n<g id=\"edge157\" class=\"edge\">\n<title>139746978202960&#45;&gt;139746978204016</title>\n<path fill=\"none\" stroke=\"black\" d=\"M834.16,-2450.33C859.37,-2431.25 915,-2382.87 915,-2327.5 915,-2327.5 915,-2327.5 915,-2058.5 915,-2018.46 915,-1971.54 915,-1946.14\"/>\n<polygon fill=\"black\" stroke=\"black\" points=\"918.5,-1946.08 915,-1936.08 911.5,-1946.08 918.5,-1946.08\"/>\n</g>\n<!-- 139746978260816 -->\n<g id=\"node153\" class=\"node\">\n<title>139746978260816</title>\n<polygon fill=\"orange\" stroke=\"black\" points=\"1056.5,-2408.5 943.5,-2408.5 943.5,-2378.5 1056.5,-2378.5 1056.5,-2408.5\"/>\n<text text-anchor=\"middle\" x=\"1000\" y=\"-2396.5\" font-family=\"monospace\" font-size=\"10.00\">input</text>\n<text text-anchor=\"middle\" x=\"1000\" y=\"-2385.5\" font-family=\"monospace\" font-size=\"10.00\"> (1, 16, 16, 16)</text>\n</g>\n<!-- 139746978202960&#45;&gt;139746978260816 -->\n<g id=\"edge158\" class=\"edge\">\n<title>139746978202960&#45;&gt;139746978260816</title>\n<path fill=\"none\" stroke=\"black\" d=\"M845.64,-2450.43C875.14,-2439.74 926.01,-2421.31 961.25,-2408.54\"/>\n</g>\n<!-- 139746978513120 -->\n<g id=\"node154\" class=\"node\">\n<title>139746978513120</title>\n<polygon fill=\"orange\" stroke=\"black\" points=\"491.5,-2408.5 432.5,-2408.5 432.5,-2378.5 491.5,-2378.5 491.5,-2408.5\"/>\n<text text-anchor=\"middle\" x=\"462\" y=\"-2396.5\" font-family=\"monospace\" font-size=\"10.00\">result1</text>\n<text text-anchor=\"middle\" x=\"462\" y=\"-2385.5\" font-family=\"monospace\" font-size=\"10.00\"> (0)</text>\n</g>\n<!-- 139746978202960&#45;&gt;139746978513120 -->\n<g id=\"edge159\" class=\"edge\">\n<title>139746978202960&#45;&gt;139746978513120</title>\n<path fill=\"none\" stroke=\"black\" d=\"M741.3,-2451.24C675.58,-2443.78 580.79,-2430.43 500,-2409 497.27,-2408.28 494.47,-2407.42 491.68,-2406.5\"/>\n</g>\n<!-- 139746978512960 -->\n<g id=\"node155\" class=\"node\">\n<title>139746978512960</title>\n<polygon fill=\"orange\" stroke=\"black\" points=\"568.5,-2408.5 509.5,-2408.5 509.5,-2378.5 568.5,-2378.5 568.5,-2408.5\"/>\n<text text-anchor=\"middle\" x=\"539\" y=\"-2396.5\" font-family=\"monospace\" font-size=\"10.00\">result2</text>\n<text text-anchor=\"middle\" x=\"539\" y=\"-2385.5\" font-family=\"monospace\" font-size=\"10.00\"> (0)</text>\n</g>\n<!-- 139746978202960&#45;&gt;139746978512960 -->\n<g id=\"edge160\" class=\"edge\">\n<title>139746978202960&#45;&gt;139746978512960</title>\n<path fill=\"none\" stroke=\"black\" d=\"M767.37,-2450.48C717.31,-2442.06 641.4,-2427.72 577,-2409 574.29,-2408.21 571.5,-2407.32 568.71,-2406.36\"/>\n</g>\n<!-- 139746978159312 -->\n<g id=\"node156\" class=\"node\">\n<title>139746978159312</title>\n<polygon fill=\"orange\" stroke=\"black\" points=\"675.5,-2408.5 586.5,-2408.5 586.5,-2378.5 675.5,-2378.5 675.5,-2408.5\"/>\n<text text-anchor=\"middle\" x=\"631\" y=\"-2396.5\" font-family=\"monospace\" font-size=\"10.00\">running_mean</text>\n<text text-anchor=\"middle\" x=\"631\" y=\"-2385.5\" font-family=\"monospace\" font-size=\"10.00\"> (16)</text>\n</g>\n<!-- 139746978202960&#45;&gt;139746978159312 -->\n<g id=\"edge161\" class=\"edge\">\n<title>139746978202960&#45;&gt;139746978159312</title>\n<path fill=\"none\" stroke=\"black\" d=\"M796.64,-2450.43C764.98,-2439.74 710.39,-2421.31 672.58,-2408.54\"/>\n</g>\n<!-- 139746978159952 -->\n<g id=\"node157\" class=\"node\">\n<title>139746978159952</title>\n<polygon fill=\"orange\" stroke=\"black\" points=\"776.5,-2408.5 693.5,-2408.5 693.5,-2378.5 776.5,-2378.5 776.5,-2408.5\"/>\n<text text-anchor=\"middle\" x=\"735\" y=\"-2396.5\" font-family=\"monospace\" font-size=\"10.00\">running_var</text>\n<text text-anchor=\"middle\" x=\"735\" y=\"-2385.5\" font-family=\"monospace\" font-size=\"10.00\"> (16)</text>\n</g>\n<!-- 139746978202960&#45;&gt;139746978159952 -->\n<g id=\"edge162\" class=\"edge\">\n<title>139746978202960&#45;&gt;139746978159952</title>\n<path fill=\"none\" stroke=\"black\" d=\"M810.27,-2450.3C795.89,-2439.64 771.33,-2421.43 754.19,-2408.73\"/>\n</g>\n<!-- 139746978159072 -->\n<g id=\"node158\" class=\"node\">\n<title>139746978159072</title>\n<polygon fill=\"lightblue\" stroke=\"black\" points=\"849,-2409 795,-2409 795,-2378 849,-2378 849,-2409\"/>\n<text text-anchor=\"middle\" x=\"822\" y=\"-2385\" font-family=\"monospace\" font-size=\"10.00\"> (16)</text>\n</g>\n<!-- 139746978202960&#45;&gt;139746978159072 -->\n<g id=\"edge163\" class=\"edge\">\n<title>139746978202960&#45;&gt;139746978159072</title>\n<path fill=\"none\" stroke=\"black\" d=\"M822,-2450.3C822,-2439.85 822,-2422.14 822,-2409.47\"/>\n</g>\n<!-- 139746978208144 -->\n<g id=\"node164\" class=\"node\">\n<title>139746978208144</title>\n<polygon fill=\"lightgrey\" stroke=\"black\" points=\"879.5,-2336 778.5,-2336 778.5,-2317 879.5,-2317 879.5,-2336\"/>\n<text text-anchor=\"middle\" x=\"829\" y=\"-2324\" font-family=\"monospace\" font-size=\"10.00\">AccumulateGrad</text>\n</g>\n<!-- 139746978159072&#45;&gt;139746978208144 -->\n<g id=\"edge172\" class=\"edge\">\n<title>139746978159072&#45;&gt;139746978208144</title>\n<path fill=\"none\" stroke=\"black\" d=\"M823.59,-2377.75C824.6,-2368.39 825.91,-2356.19 826.99,-2346.16\"/>\n<polygon fill=\"black\" stroke=\"black\" points=\"830.49,-2346.34 828.08,-2336.02 823.53,-2345.59 830.49,-2346.34\"/>\n</g>\n<!-- 139746978206080 -->\n<g id=\"node159\" class=\"node\">\n<title>139746978206080</title>\n<polygon fill=\"lightgrey\" stroke=\"black\" points=\"1075.5,-2536 980.5,-2536 980.5,-2517 1075.5,-2517 1075.5,-2536\"/>\n<text text-anchor=\"middle\" x=\"1028\" y=\"-2524\" font-family=\"monospace\" font-size=\"10.00\">ReluBackward0</text>\n</g>\n<!-- 139746978206080&#45;&gt;139746978202960 -->\n<g id=\"edge164\" class=\"edge\">\n<title>139746978206080&#45;&gt;139746978202960</title>\n<path fill=\"none\" stroke=\"black\" d=\"M1000.64,-2516.93C964.25,-2505.54 899.76,-2485.35 859.03,-2472.59\"/>\n<polygon fill=\"black\" stroke=\"black\" points=\"860.06,-2469.25 849.47,-2469.6 857.97,-2475.93 860.06,-2469.25\"/>\n</g>\n<!-- 139746978513040 -->\n<g id=\"node160\" class=\"node\">\n<title>139746978513040</title>\n<polygon fill=\"orange\" stroke=\"black\" points=\"1084.5,-2475 971.5,-2475 971.5,-2445 1084.5,-2445 1084.5,-2475\"/>\n<text text-anchor=\"middle\" x=\"1028\" y=\"-2463\" font-family=\"monospace\" font-size=\"10.00\">result</text>\n<text text-anchor=\"middle\" x=\"1028\" y=\"-2452\" font-family=\"monospace\" font-size=\"10.00\"> (1, 16, 16, 16)</text>\n</g>\n<!-- 139746978206080&#45;&gt;139746978513040 -->\n<g id=\"edge165\" class=\"edge\">\n<title>139746978206080&#45;&gt;139746978513040</title>\n<path fill=\"none\" stroke=\"black\" d=\"M1028,-2516.8C1028,-2506.21 1028,-2488.17 1028,-2475.47\"/>\n</g>\n<!-- 139746978203440 -->\n<g id=\"node161\" class=\"node\">\n<title>139746978203440</title>\n<polygon fill=\"lightgrey\" stroke=\"black\" points=\"1269.5,-2603 1132.5,-2603 1132.5,-2584 1269.5,-2584 1269.5,-2603\"/>\n<text text-anchor=\"middle\" x=\"1201\" y=\"-2591\" font-family=\"monospace\" font-size=\"10.00\">ConvolutionBackward0</text>\n</g>\n<!-- 139746978203440&#45;&gt;139746978265776 -->\n<g id=\"edge167\" class=\"edge\">\n<title>139746978203440&#45;&gt;139746978265776</title>\n<path fill=\"none\" stroke=\"black\" d=\"M1236.31,-2583.94C1281.94,-2572.87 1361.82,-2553.5 1415.06,-2540.58\"/>\n</g>\n<!-- 139746978203440&#45;&gt;139746978206080 -->\n<g id=\"edge166\" class=\"edge\">\n<title>139746978203440&#45;&gt;139746978206080</title>\n<path fill=\"none\" stroke=\"black\" d=\"M1178.03,-2583.87C1147.83,-2572.52 1094.6,-2552.52 1060.34,-2539.65\"/>\n<polygon fill=\"black\" stroke=\"black\" points=\"1061.38,-2536.3 1050.79,-2536.06 1058.92,-2542.86 1061.38,-2536.3\"/>\n</g>\n<!-- 139746978159232 -->\n<g id=\"node162\" class=\"node\">\n<title>139746978159232</title>\n<polygon fill=\"lightblue\" stroke=\"black\" points=\"1220.5,-2542 1119.5,-2542 1119.5,-2511 1220.5,-2511 1220.5,-2542\"/>\n<text text-anchor=\"middle\" x=\"1170\" y=\"-2518\" font-family=\"monospace\" font-size=\"10.00\"> (16, 3, 3, 3)</text>\n</g>\n<!-- 139746978203440&#45;&gt;139746978159232 -->\n<g id=\"edge168\" class=\"edge\">\n<title>139746978203440&#45;&gt;139746978159232</title>\n<path fill=\"none\" stroke=\"black\" d=\"M1196.82,-2583.73C1191.73,-2573.06 1183.06,-2554.88 1176.96,-2542.08\"/>\n</g>\n<!-- 139746978206368 -->\n<g id=\"node163\" class=\"node\">\n<title>139746978206368</title>\n<polygon fill=\"lightgrey\" stroke=\"black\" points=\"1260.5,-2469.5 1159.5,-2469.5 1159.5,-2450.5 1260.5,-2450.5 1260.5,-2469.5\"/>\n<text text-anchor=\"middle\" x=\"1210\" y=\"-2457.5\" font-family=\"monospace\" font-size=\"10.00\">AccumulateGrad</text>\n</g>\n<!-- 139746978159232&#45;&gt;139746978206368 -->\n<g id=\"edge170\" class=\"edge\">\n<title>139746978159232&#45;&gt;139746978206368</title>\n<path fill=\"none\" stroke=\"black\" d=\"M1179.08,-2510.86C1185.02,-2501.29 1192.81,-2488.72 1199.09,-2478.6\"/>\n<polygon fill=\"black\" stroke=\"black\" points=\"1202.23,-2480.17 1204.53,-2469.82 1196.28,-2476.48 1202.23,-2480.17\"/>\n</g>\n<!-- 139746978206368&#45;&gt;139746978203440 -->\n<g id=\"edge169\" class=\"edge\">\n<title>139746978206368&#45;&gt;139746978203440</title>\n<path fill=\"none\" stroke=\"black\" d=\"M1214.97,-2469.54C1222.94,-2484.34 1237.02,-2515.69 1230,-2542 1226.8,-2554.02 1219.98,-2566.14 1213.75,-2575.5\"/>\n<polygon fill=\"black\" stroke=\"black\" points=\"1210.79,-2573.64 1207.89,-2583.83 1216.51,-2577.67 1210.79,-2573.64\"/>\n</g>\n<!-- 139746978208144&#45;&gt;139746978202960 -->\n<g id=\"edge171\" class=\"edge\">\n<title>139746978208144&#45;&gt;139746978202960</title>\n<path fill=\"none\" stroke=\"black\" d=\"M835.89,-2336.17C843.03,-2345.76 853.73,-2361.98 858,-2378 861.55,-2391.31 862.23,-2395.89 858,-2409 853.93,-2421.63 845.35,-2433.75 837.59,-2442.9\"/>\n<polygon fill=\"black\" stroke=\"black\" points=\"834.93,-2440.62 830.85,-2450.4 840.14,-2445.31 834.93,-2440.62\"/>\n</g>\n<!-- 139746978207808 -->\n<g id=\"node165\" class=\"node\">\n<title>139746978207808</title>\n<polygon fill=\"lightgrey\" stroke=\"black\" points=\"872.5,-2536 771.5,-2536 771.5,-2517 872.5,-2517 872.5,-2536\"/>\n<text text-anchor=\"middle\" x=\"822\" y=\"-2524\" font-family=\"monospace\" font-size=\"10.00\">AccumulateGrad</text>\n</g>\n<!-- 139746978207808&#45;&gt;139746978202960 -->\n<g id=\"edge173\" class=\"edge\">\n<title>139746978207808&#45;&gt;139746978202960</title>\n<path fill=\"none\" stroke=\"black\" d=\"M822,-2516.8C822,-2507.32 822,-2491.88 822,-2479.64\"/>\n<polygon fill=\"black\" stroke=\"black\" points=\"825.5,-2479.56 822,-2469.56 818.5,-2479.56 825.5,-2479.56\"/>\n</g>\n<!-- 139746978158992 -->\n<g id=\"node166\" class=\"node\">\n<title>139746978158992</title>\n<polygon fill=\"lightblue\" stroke=\"black\" points=\"849,-2609 795,-2609 795,-2578 849,-2578 849,-2609\"/>\n<text text-anchor=\"middle\" x=\"822\" y=\"-2585\" font-family=\"monospace\" font-size=\"10.00\"> (16)</text>\n</g>\n<!-- 139746978158992&#45;&gt;139746978207808 -->\n<g id=\"edge174\" class=\"edge\">\n<title>139746978158992&#45;&gt;139746978207808</title>\n<path fill=\"none\" stroke=\"black\" d=\"M822,-2577.75C822,-2568.39 822,-2556.19 822,-2546.16\"/>\n<polygon fill=\"black\" stroke=\"black\" points=\"825.5,-2546.02 822,-2536.02 818.5,-2546.02 825.5,-2546.02\"/>\n</g>\n<!-- 139746978203536&#45;&gt;139746978203728 -->\n<g id=\"edge175\" class=\"edge\">\n<title>139746978203536&#45;&gt;139746978203728</title>\n<path fill=\"none\" stroke=\"black\" d=\"M636.83,-1735.59C621.71,-1743.84 601.23,-1757.89 592,-1777 586.01,-1789.41 586.04,-1795.58 592,-1808 599.54,-1823.71 614.61,-1836.07 628.13,-1844.63\"/>\n<polygon fill=\"black\" stroke=\"black\" points=\"626.73,-1847.87 637.12,-1849.94 630.29,-1841.84 626.73,-1847.87\"/>\n</g>\n<!-- 139746978203824&#45;&gt;139746978207520 -->\n<g id=\"edge177\" class=\"edge\">\n<title>139746978203824&#45;&gt;139746978207520</title>\n<path fill=\"none\" stroke=\"black\" d=\"M434.85,-1602.1C435.99,-1617.53 436.71,-1650.62 425,-1675 418.37,-1688.8 406.34,-1701.01 395.74,-1709.92\"/>\n<polygon fill=\"black\" stroke=\"black\" points=\"393.34,-1707.36 387.68,-1716.32 397.69,-1712.84 393.34,-1707.36\"/>\n</g>\n<!-- 139746978203152 -->\n<g id=\"node169\" class=\"node\">\n<title>139746978203152</title>\n<polygon fill=\"lightgrey\" stroke=\"black\" points=\"425.5,-1802 324.5,-1802 324.5,-1783 425.5,-1783 425.5,-1802\"/>\n<text text-anchor=\"middle\" x=\"375\" y=\"-1790\" font-family=\"monospace\" font-size=\"10.00\">AccumulateGrad</text>\n</g>\n<!-- 139746978203152&#45;&gt;139746978207520 -->\n<g id=\"edge179\" class=\"edge\">\n<title>139746978203152&#45;&gt;139746978207520</title>\n<path fill=\"none\" stroke=\"black\" d=\"M375,-1782.8C375,-1773.32 375,-1757.88 375,-1745.64\"/>\n<polygon fill=\"black\" stroke=\"black\" points=\"378.5,-1745.56 375,-1735.56 371.5,-1745.56 378.5,-1745.56\"/>\n</g>\n<!-- 139746978160352 -->\n<g id=\"node170\" class=\"node\">\n<title>139746978160352</title>\n<polygon fill=\"lightblue\" stroke=\"black\" points=\"402,-1875 348,-1875 348,-1844 402,-1844 402,-1875\"/>\n<text text-anchor=\"middle\" x=\"375\" y=\"-1851\" font-family=\"monospace\" font-size=\"10.00\"> (16)</text>\n</g>\n<!-- 139746978160352&#45;&gt;139746978203152 -->\n<g id=\"edge180\" class=\"edge\">\n<title>139746978160352&#45;&gt;139746978203152</title>\n<path fill=\"none\" stroke=\"black\" d=\"M375,-1843.75C375,-1834.39 375,-1822.19 375,-1812.16\"/>\n<polygon fill=\"black\" stroke=\"black\" points=\"378.5,-1812.02 375,-1802.02 371.5,-1812.02 378.5,-1812.02\"/>\n</g>\n<!-- 139746978207136&#45;&gt;139746978208096 -->\n<g id=\"edge181\" class=\"edge\">\n<title>139746978207136&#45;&gt;139746978208096</title>\n<path fill=\"none\" stroke=\"black\" d=\"M719.81,-1535.55C695.6,-1542.87 664.92,-1555.69 645,-1577 628.63,-1594.51 621.02,-1621.71 617.61,-1639.81\"/>\n<polygon fill=\"black\" stroke=\"black\" points=\"614.14,-1639.3 615.98,-1649.73 621.05,-1640.43 614.14,-1639.3\"/>\n</g>\n<!-- 139746978208336&#45;&gt;139746978208480 -->\n<g id=\"edge183\" class=\"edge\">\n<title>139746978208336&#45;&gt;139746978208480</title>\n<path fill=\"none\" stroke=\"black\" d=\"M242.4,-1402.17C258.3,-1411.88 284.48,-1428.33 306,-1444 323.62,-1456.83 326.35,-1462.21 344,-1475 361.96,-1488.02 383.21,-1501.52 398.99,-1511.21\"/>\n<polygon fill=\"black\" stroke=\"black\" points=\"397.22,-1514.23 407.59,-1516.44 400.86,-1508.25 397.22,-1514.23\"/>\n</g>\n<!-- 139746978208528 -->\n<g id=\"node173\" class=\"node\">\n<title>139746978208528</title>\n<polygon fill=\"lightgrey\" stroke=\"black\" points=\"216.5,-1602 115.5,-1602 115.5,-1583 216.5,-1583 216.5,-1602\"/>\n<text text-anchor=\"middle\" x=\"166\" y=\"-1590\" font-family=\"monospace\" font-size=\"10.00\">AccumulateGrad</text>\n</g>\n<!-- 139746978208528&#45;&gt;139746978208480 -->\n<g id=\"edge185\" class=\"edge\">\n<title>139746978208528&#45;&gt;139746978208480</title>\n<path fill=\"none\" stroke=\"black\" d=\"M199.99,-1582.93C245.8,-1571.39 327.41,-1550.83 377.9,-1538.11\"/>\n<polygon fill=\"black\" stroke=\"black\" points=\"379.02,-1541.44 387.86,-1535.6 377.31,-1534.65 379.02,-1541.44\"/>\n</g>\n<!-- 139746978161472 -->\n<g id=\"node174\" class=\"node\">\n<title>139746978161472</title>\n<polygon fill=\"lightblue\" stroke=\"black\" points=\"54,-1675 0,-1675 0,-1644 54,-1644 54,-1675\"/>\n<text text-anchor=\"middle\" x=\"27\" y=\"-1651\" font-family=\"monospace\" font-size=\"10.00\"> (16)</text>\n</g>\n<!-- 139746978161472&#45;&gt;139746978208528 -->\n<g id=\"edge186\" class=\"edge\">\n<title>139746978161472&#45;&gt;139746978208528</title>\n<path fill=\"none\" stroke=\"black\" d=\"M54.13,-1645.81C78.54,-1634.4 114.23,-1617.71 138.7,-1606.27\"/>\n<polygon fill=\"black\" stroke=\"black\" points=\"140.22,-1609.42 147.79,-1602.01 137.25,-1603.08 140.22,-1609.42\"/>\n</g>\n<!-- 139746978207904&#45;&gt;139746978208192 -->\n<g id=\"edge187\" class=\"edge\">\n<title>139746978207904&#45;&gt;139746978208192</title>\n<path fill=\"none\" stroke=\"black\" d=\"M654.13,-1335.71C661.13,-1351.9 673.01,-1386.93 656,-1408 653.12,-1411.57 543.05,-1434.21 474.92,-1447.93\"/>\n<polygon fill=\"black\" stroke=\"black\" points=\"473.89,-1444.57 464.78,-1449.97 475.27,-1451.43 473.89,-1444.57\"/>\n</g>\n<!-- 139746978207088&#45;&gt;139746978207232 -->\n<g id=\"edge189\" class=\"edge\">\n<title>139746978207088&#45;&gt;139746978207232</title>\n<path fill=\"none\" stroke=\"black\" d=\"M413.41,-1202.15C412.02,-1217.67 407.59,-1250.88 394,-1275 386.39,-1288.5 374.13,-1300.85 363.65,-1309.89\"/>\n<polygon fill=\"black\" stroke=\"black\" points=\"361.25,-1307.34 355.75,-1316.4 365.7,-1312.74 361.25,-1307.34\"/>\n</g>\n<!-- 139746978207280 -->\n<g id=\"node177\" class=\"node\">\n<title>139746978207280</title>\n<polygon fill=\"lightgrey\" stroke=\"black\" points=\"155.5,-1402 54.5,-1402 54.5,-1383 155.5,-1383 155.5,-1402\"/>\n<text text-anchor=\"middle\" x=\"105\" y=\"-1390\" font-family=\"monospace\" font-size=\"10.00\">AccumulateGrad</text>\n</g>\n<!-- 139746978207280&#45;&gt;139746978207232 -->\n<g id=\"edge191\" class=\"edge\">\n<title>139746978207280&#45;&gt;139746978207232</title>\n<path fill=\"none\" stroke=\"black\" d=\"M136.74,-1382.93C179.32,-1371.44 255.05,-1351 302.23,-1338.27\"/>\n<polygon fill=\"black\" stroke=\"black\" points=\"303.39,-1341.59 312.13,-1335.6 301.56,-1334.83 303.39,-1341.59\"/>\n</g>\n<!-- 139746978161952 -->\n<g id=\"node178\" class=\"node\">\n<title>139746978161952</title>\n<polygon fill=\"lightblue\" stroke=\"black\" points=\"123,-1475 69,-1475 69,-1444 123,-1444 123,-1475\"/>\n<text text-anchor=\"middle\" x=\"96\" y=\"-1451\" font-family=\"monospace\" font-size=\"10.00\"> (16)</text>\n</g>\n<!-- 139746978161952&#45;&gt;139746978207280 -->\n<g id=\"edge192\" class=\"edge\">\n<title>139746978161952&#45;&gt;139746978207280</title>\n<path fill=\"none\" stroke=\"black\" d=\"M98.04,-1443.75C99.34,-1434.39 101.03,-1422.19 102.42,-1412.16\"/>\n<polygon fill=\"black\" stroke=\"black\" points=\"105.92,-1412.4 103.82,-1402.02 98.98,-1411.44 105.92,-1412.4\"/>\n</g>\n<!-- 139746978208576&#45;&gt;139746978213328 -->\n<g id=\"edge193\" class=\"edge\">\n<title>139746978208576&#45;&gt;139746978213328</title>\n<path fill=\"none\" stroke=\"black\" d=\"M912.41,-1135.26C893.81,-1154.09 850.03,-1197.53 832,-1208 799.72,-1226.75 759.59,-1239.51 727.99,-1247.5\"/>\n<polygon fill=\"black\" stroke=\"black\" points=\"726.93,-1244.16 718.05,-1249.93 728.59,-1250.96 726.93,-1244.16\"/>\n</g>\n<!-- 139746978214192&#45;&gt;139746978214144 -->\n<g id=\"edge195\" class=\"edge\">\n<title>139746978214192&#45;&gt;139746978214144</title>\n<path fill=\"none\" stroke=\"black\" d=\"M433.31,-1068.6C443.06,-1084.03 464.94,-1117.04 488,-1141 500.8,-1154.29 517.09,-1167.27 529.9,-1176.74\"/>\n<polygon fill=\"black\" stroke=\"black\" points=\"527.97,-1179.66 538.13,-1182.69 532.08,-1173.99 527.97,-1179.66\"/>\n</g>\n<!-- 139746978214384&#45;&gt;139746978210736 -->\n<g id=\"edge197\" class=\"edge\">\n<title>139746978214384&#45;&gt;139746978210736</title>\n<path fill=\"none\" stroke=\"black\" d=\"M822.34,-935.07C832.53,-949.93 850.57,-981.43 842,-1008 837.93,-1020.63 829.35,-1032.75 821.59,-1041.9\"/>\n<polygon fill=\"black\" stroke=\"black\" points=\"818.93,-1039.62 814.85,-1049.4 824.14,-1044.31 818.93,-1039.62\"/>\n</g>\n<!-- 139746978214000 -->\n<g id=\"node182\" class=\"node\">\n<title>139746978214000</title>\n<polygon fill=\"lightgrey\" stroke=\"black\" points=\"846.5,-1135 745.5,-1135 745.5,-1116 846.5,-1116 846.5,-1135\"/>\n<text text-anchor=\"middle\" x=\"796\" y=\"-1123\" font-family=\"monospace\" font-size=\"10.00\">AccumulateGrad</text>\n</g>\n<!-- 139746978214000&#45;&gt;139746978210736 -->\n<g id=\"edge199\" class=\"edge\">\n<title>139746978214000&#45;&gt;139746978210736</title>\n<path fill=\"none\" stroke=\"black\" d=\"M797.35,-1115.8C798.82,-1106.32 801.21,-1090.88 803.11,-1078.64\"/>\n<polygon fill=\"black\" stroke=\"black\" points=\"806.6,-1078.98 804.67,-1068.56 799.68,-1077.91 806.6,-1078.98\"/>\n</g>\n<!-- 139746978162512 -->\n<g id=\"node183\" class=\"node\">\n<title>139746978162512</title>\n<polygon fill=\"lightblue\" stroke=\"black\" points=\"692,-1208 638,-1208 638,-1177 692,-1177 692,-1208\"/>\n<text text-anchor=\"middle\" x=\"665\" y=\"-1184\" font-family=\"monospace\" font-size=\"10.00\"> (32)</text>\n</g>\n<!-- 139746978162512&#45;&gt;139746978214000 -->\n<g id=\"edge200\" class=\"edge\">\n<title>139746978162512&#45;&gt;139746978214000</title>\n<path fill=\"none\" stroke=\"black\" d=\"M692.14,-1178.03C714.83,-1166.77 747,-1150.81 769.51,-1139.65\"/>\n<polygon fill=\"black\" stroke=\"black\" points=\"771.1,-1142.76 778.5,-1135.18 767.99,-1136.49 771.1,-1142.76\"/>\n</g>\n<!-- 139746978210784 -->\n<g id=\"node184\" class=\"node\">\n<title>139746978210784</title>\n<polygon fill=\"lightgrey\" stroke=\"black\" points=\"1264.5,-1735.5 1103.5,-1735.5 1103.5,-1716.5 1264.5,-1716.5 1264.5,-1735.5\"/>\n<text text-anchor=\"middle\" x=\"1184\" y=\"-1723.5\" font-family=\"monospace\" font-size=\"10.00\">NativeBatchNormBackward0</text>\n</g>\n<!-- 139746978210784&#45;&gt;139746978209200 -->\n<g id=\"edge201\" class=\"edge\">\n<title>139746978210784&#45;&gt;139746978209200</title>\n<path fill=\"none\" stroke=\"black\" d=\"M1191.79,-1716.46C1200.01,-1707 1212.74,-1690.97 1220,-1675 1235.39,-1641.14 1239,-1630.69 1239,-1593.5 1239,-1593.5 1239,-1593.5 1239,-1124.5 1239,-1084.04 1230.02,-1037.28 1224.4,-1012.02\"/>\n<polygon fill=\"black\" stroke=\"black\" points=\"1227.76,-1010.98 1222.11,-1002.02 1220.93,-1012.55 1227.76,-1010.98\"/>\n</g>\n<!-- 139746978258096 -->\n<g id=\"node185\" class=\"node\">\n<title>139746978258096</title>\n<polygon fill=\"orange\" stroke=\"black\" points=\"1368.5,-1674.5 1267.5,-1674.5 1267.5,-1644.5 1368.5,-1644.5 1368.5,-1674.5\"/>\n<text text-anchor=\"middle\" x=\"1318\" y=\"-1662.5\" font-family=\"monospace\" font-size=\"10.00\">input</text>\n<text text-anchor=\"middle\" x=\"1318\" y=\"-1651.5\" font-family=\"monospace\" font-size=\"10.00\"> (1, 32, 8, 8)</text>\n</g>\n<!-- 139746978210784&#45;&gt;139746978258096 -->\n<g id=\"edge202\" class=\"edge\">\n<title>139746978210784&#45;&gt;139746978258096</title>\n<path fill=\"none\" stroke=\"black\" d=\"M1201.79,-1716.43C1224.01,-1705.74 1262.3,-1687.31 1288.83,-1674.54\"/>\n</g>\n<!-- 139746978513280 -->\n<g id=\"node186\" class=\"node\">\n<title>139746978513280</title>\n<polygon fill=\"orange\" stroke=\"black\" points=\"1445.5,-1674.5 1386.5,-1674.5 1386.5,-1644.5 1445.5,-1644.5 1445.5,-1674.5\"/>\n<text text-anchor=\"middle\" x=\"1416\" y=\"-1662.5\" font-family=\"monospace\" font-size=\"10.00\">result1</text>\n<text text-anchor=\"middle\" x=\"1416\" y=\"-1651.5\" font-family=\"monospace\" font-size=\"10.00\"> (0)</text>\n</g>\n<!-- 139746978210784&#45;&gt;139746978513280 -->\n<g id=\"edge203\" class=\"edge\">\n<title>139746978210784&#45;&gt;139746978513280</title>\n<path fill=\"none\" stroke=\"black\" d=\"M1222.28,-1716.48C1261.67,-1707.39 1324.64,-1692 1378,-1675 1380.69,-1674.14 1383.47,-1673.2 1386.24,-1672.22\"/>\n</g>\n<!-- 139746978513360 -->\n<g id=\"node187\" class=\"node\">\n<title>139746978513360</title>\n<polygon fill=\"orange\" stroke=\"black\" points=\"892.5,-1674.5 833.5,-1674.5 833.5,-1644.5 892.5,-1644.5 892.5,-1674.5\"/>\n<text text-anchor=\"middle\" x=\"863\" y=\"-1662.5\" font-family=\"monospace\" font-size=\"10.00\">result2</text>\n<text text-anchor=\"middle\" x=\"863\" y=\"-1651.5\" font-family=\"monospace\" font-size=\"10.00\"> (0)</text>\n</g>\n<!-- 139746978210784&#45;&gt;139746978513360 -->\n<g id=\"edge204\" class=\"edge\">\n<title>139746978210784&#45;&gt;139746978513360</title>\n<path fill=\"none\" stroke=\"black\" d=\"M1132.53,-1716.45C1057.05,-1703.83 922.91,-1681.06 901,-1675 898.28,-1674.25 895.48,-1673.38 892.69,-1672.44\"/>\n</g>\n<!-- 139746978162832 -->\n<g id=\"node188\" class=\"node\">\n<title>139746978162832</title>\n<polygon fill=\"orange\" stroke=\"black\" points=\"999.5,-1674.5 910.5,-1674.5 910.5,-1644.5 999.5,-1644.5 999.5,-1674.5\"/>\n<text text-anchor=\"middle\" x=\"955\" y=\"-1662.5\" font-family=\"monospace\" font-size=\"10.00\">running_mean</text>\n<text text-anchor=\"middle\" x=\"955\" y=\"-1651.5\" font-family=\"monospace\" font-size=\"10.00\"> (32)</text>\n</g>\n<!-- 139746978210784&#45;&gt;139746978162832 -->\n<g id=\"edge205\" class=\"edge\">\n<title>139746978210784&#45;&gt;139746978162832</title>\n<path fill=\"none\" stroke=\"black\" d=\"M1153.59,-1716.43C1114.17,-1705.33 1045.12,-1685.88 999.72,-1673.1\"/>\n</g>\n<!-- 139746978162432 -->\n<g id=\"node189\" class=\"node\">\n<title>139746978162432</title>\n<polygon fill=\"orange\" stroke=\"black\" points=\"1100.5,-1674.5 1017.5,-1674.5 1017.5,-1644.5 1100.5,-1644.5 1100.5,-1674.5\"/>\n<text text-anchor=\"middle\" x=\"1059\" y=\"-1662.5\" font-family=\"monospace\" font-size=\"10.00\">running_var</text>\n<text text-anchor=\"middle\" x=\"1059\" y=\"-1651.5\" font-family=\"monospace\" font-size=\"10.00\"> (32)</text>\n</g>\n<!-- 139746978210784&#45;&gt;139746978162432 -->\n<g id=\"edge206\" class=\"edge\">\n<title>139746978210784&#45;&gt;139746978162432</title>\n<path fill=\"none\" stroke=\"black\" d=\"M1167.4,-1716.43C1146.68,-1705.74 1110.96,-1687.31 1086.21,-1674.54\"/>\n</g>\n<!-- 139746978162672 -->\n<g id=\"node190\" class=\"node\">\n<title>139746978162672</title>\n<polygon fill=\"lightblue\" stroke=\"black\" points=\"1211,-1675 1157,-1675 1157,-1644 1211,-1644 1211,-1675\"/>\n<text text-anchor=\"middle\" x=\"1184\" y=\"-1651\" font-family=\"monospace\" font-size=\"10.00\"> (32)</text>\n</g>\n<!-- 139746978210784&#45;&gt;139746978162672 -->\n<g id=\"edge207\" class=\"edge\">\n<title>139746978210784&#45;&gt;139746978162672</title>\n<path fill=\"none\" stroke=\"black\" d=\"M1184,-1716.3C1184,-1705.85 1184,-1688.14 1184,-1675.47\"/>\n</g>\n<!-- 139746978214240 -->\n<g id=\"node196\" class=\"node\">\n<title>139746978214240</title>\n<polygon fill=\"lightgrey\" stroke=\"black\" points=\"1194.5,-1602 1093.5,-1602 1093.5,-1583 1194.5,-1583 1194.5,-1602\"/>\n<text text-anchor=\"middle\" x=\"1144\" y=\"-1590\" font-family=\"monospace\" font-size=\"10.00\">AccumulateGrad</text>\n</g>\n<!-- 139746978162672&#45;&gt;139746978214240 -->\n<g id=\"edge217\" class=\"edge\">\n<title>139746978162672&#45;&gt;139746978214240</title>\n<path fill=\"none\" stroke=\"black\" d=\"M1174.92,-1643.75C1168.85,-1633.89 1160.84,-1620.87 1154.5,-1610.56\"/>\n<polygon fill=\"black\" stroke=\"black\" points=\"1157.46,-1608.7 1149.24,-1602.02 1151.5,-1612.37 1157.46,-1608.7\"/>\n</g>\n<!-- 139746978210688 -->\n<g id=\"node191\" class=\"node\">\n<title>139746978210688</title>\n<polygon fill=\"lightgrey\" stroke=\"black\" points=\"1116.5,-1802 1021.5,-1802 1021.5,-1783 1116.5,-1783 1116.5,-1802\"/>\n<text text-anchor=\"middle\" x=\"1069\" y=\"-1790\" font-family=\"monospace\" font-size=\"10.00\">ReluBackward0</text>\n</g>\n<!-- 139746978210688&#45;&gt;139746978210784 -->\n<g id=\"edge208\" class=\"edge\">\n<title>139746978210688&#45;&gt;139746978210784</title>\n<path fill=\"none\" stroke=\"black\" d=\"M1084.51,-1782.8C1103.82,-1771.97 1137.03,-1753.34 1159.72,-1740.62\"/>\n<polygon fill=\"black\" stroke=\"black\" points=\"1161.73,-1743.51 1168.74,-1735.56 1158.3,-1737.4 1161.73,-1743.51\"/>\n</g>\n<!-- 139746978513200 -->\n<g id=\"node192\" class=\"node\">\n<title>139746978513200</title>\n<polygon fill=\"orange\" stroke=\"black\" points=\"1085.5,-1741 984.5,-1741 984.5,-1711 1085.5,-1711 1085.5,-1741\"/>\n<text text-anchor=\"middle\" x=\"1035\" y=\"-1729\" font-family=\"monospace\" font-size=\"10.00\">result</text>\n<text text-anchor=\"middle\" x=\"1035\" y=\"-1718\" font-family=\"monospace\" font-size=\"10.00\"> (1, 32, 8, 8)</text>\n</g>\n<!-- 139746978210688&#45;&gt;139746978513200 -->\n<g id=\"edge209\" class=\"edge\">\n<title>139746978210688&#45;&gt;139746978513200</title>\n<path fill=\"none\" stroke=\"black\" d=\"M1064.41,-1782.8C1058.83,-1772.21 1049.32,-1754.17 1042.63,-1741.47\"/>\n</g>\n<!-- 139746978208000&#45;&gt;139746978265456 -->\n<g id=\"edge211\" class=\"edge\">\n<title>139746978208000&#45;&gt;139746978265456</title>\n<path fill=\"none\" stroke=\"black\" d=\"M897.47,-1849.87C875.59,-1839.09 837.87,-1820.52 811.74,-1807.65\"/>\n</g>\n<!-- 139746978208000&#45;&gt;139746978210688 -->\n<g id=\"edge210\" class=\"edge\">\n<title>139746978208000&#45;&gt;139746978210688</title>\n<path fill=\"none\" stroke=\"black\" d=\"M935.45,-1849.87C962.03,-1838.65 1008.64,-1818.98 1039.17,-1806.09\"/>\n<polygon fill=\"black\" stroke=\"black\" points=\"1040.61,-1809.28 1048.47,-1802.17 1037.89,-1802.83 1040.61,-1809.28\"/>\n</g>\n<!-- 139746978162912 -->\n<g id=\"node194\" class=\"node\">\n<title>139746978162912</title>\n<polygon fill=\"lightblue\" stroke=\"black\" points=\"964.5,-1808 857.5,-1808 857.5,-1777 964.5,-1777 964.5,-1808\"/>\n<text text-anchor=\"middle\" x=\"911\" y=\"-1784\" font-family=\"monospace\" font-size=\"10.00\"> (32, 16, 3, 3)</text>\n</g>\n<!-- 139746978208000&#45;&gt;139746978162912 -->\n<g id=\"edge212\" class=\"edge\">\n<title>139746978208000&#45;&gt;139746978162912</title>\n<path fill=\"none\" stroke=\"black\" d=\"M914.46,-1849.73C913.8,-1839.06 912.68,-1820.88 911.9,-1808.08\"/>\n</g>\n<!-- 139746978208288 -->\n<g id=\"node195\" class=\"node\">\n<title>139746978208288</title>\n<polygon fill=\"lightgrey\" stroke=\"black\" points=\"965.5,-1735.5 864.5,-1735.5 864.5,-1716.5 965.5,-1716.5 965.5,-1735.5\"/>\n<text text-anchor=\"middle\" x=\"915\" y=\"-1723.5\" font-family=\"monospace\" font-size=\"10.00\">AccumulateGrad</text>\n</g>\n<!-- 139746978162912&#45;&gt;139746978208288 -->\n<g id=\"edge215\" class=\"edge\">\n<title>139746978162912&#45;&gt;139746978208288</title>\n<path fill=\"none\" stroke=\"black\" d=\"M911.91,-1776.86C912.48,-1767.68 913.22,-1755.75 913.83,-1745.86\"/>\n<polygon fill=\"black\" stroke=\"black\" points=\"917.33,-1746.02 914.45,-1735.82 910.34,-1745.59 917.33,-1746.02\"/>\n</g>\n<!-- 139746978208288&#45;&gt;139746978208000 -->\n<g id=\"edge214\" class=\"edge\">\n<title>139746978208288&#45;&gt;139746978208000</title>\n<path fill=\"none\" stroke=\"black\" d=\"M931.22,-1735.62C945.21,-1744.07 964.47,-1758.39 973,-1777 978.74,-1789.53 978.71,-1795.46 973,-1808 966.1,-1823.16 952.16,-1835.53 939.67,-1844.24\"/>\n<polygon fill=\"black\" stroke=\"black\" points=\"937.42,-1841.52 930.96,-1849.92 941.25,-1847.39 937.42,-1841.52\"/>\n</g>\n<!-- 139746978214240&#45;&gt;139746978210784 -->\n<g id=\"edge216\" class=\"edge\">\n<title>139746978214240&#45;&gt;139746978210784</title>\n<path fill=\"none\" stroke=\"black\" d=\"M1142.84,-1602.38C1141.17,-1617.69 1139.21,-1649.86 1148,-1675 1152.38,-1687.52 1160.97,-1699.65 1168.66,-1708.82\"/>\n<polygon fill=\"black\" stroke=\"black\" points=\"1166.07,-1711.18 1175.32,-1716.34 1171.31,-1706.54 1166.07,-1711.18\"/>\n</g>\n<!-- 139746978214432 -->\n<g id=\"node197\" class=\"node\">\n<title>139746978214432</title>\n<polygon fill=\"lightgrey\" stroke=\"black\" points=\"1235.5,-1802 1134.5,-1802 1134.5,-1783 1235.5,-1783 1235.5,-1802\"/>\n<text text-anchor=\"middle\" x=\"1185\" y=\"-1790\" font-family=\"monospace\" font-size=\"10.00\">AccumulateGrad</text>\n</g>\n<!-- 139746978214432&#45;&gt;139746978210784 -->\n<g id=\"edge218\" class=\"edge\">\n<title>139746978214432&#45;&gt;139746978210784</title>\n<path fill=\"none\" stroke=\"black\" d=\"M1184.87,-1782.8C1184.72,-1773.32 1184.48,-1757.88 1184.29,-1745.64\"/>\n<polygon fill=\"black\" stroke=\"black\" points=\"1187.79,-1745.51 1184.13,-1735.56 1180.79,-1745.61 1187.79,-1745.51\"/>\n</g>\n<!-- 139746978162592 -->\n<g id=\"node198\" class=\"node\">\n<title>139746978162592</title>\n<polygon fill=\"lightblue\" stroke=\"black\" points=\"1207,-1875 1153,-1875 1153,-1844 1207,-1844 1207,-1875\"/>\n<text text-anchor=\"middle\" x=\"1180\" y=\"-1851\" font-family=\"monospace\" font-size=\"10.00\"> (32)</text>\n</g>\n<!-- 139746978162592&#45;&gt;139746978214432 -->\n<g id=\"edge219\" class=\"edge\">\n<title>139746978162592&#45;&gt;139746978214432</title>\n<path fill=\"none\" stroke=\"black\" d=\"M1181.13,-1843.75C1181.85,-1834.39 1182.79,-1822.19 1183.56,-1812.16\"/>\n<polygon fill=\"black\" stroke=\"black\" points=\"1187.07,-1812.26 1184.34,-1802.02 1180.09,-1811.72 1187.07,-1812.26\"/>\n</g>\n<!-- 139746978211408&#45;&gt;139746978201712 -->\n<g id=\"edge220\" class=\"edge\">\n<title>139746978211408&#45;&gt;139746978201712</title>\n<path fill=\"none\" stroke=\"black\" d=\"M1257.86,-801.69C1253.28,-811.54 1245.9,-828.16 1241,-843 1234.02,-864.13 1228.25,-889.06 1224.73,-905.73\"/>\n<polygon fill=\"black\" stroke=\"black\" points=\"1221.24,-905.31 1222.66,-915.81 1228.1,-906.71 1221.24,-905.31\"/>\n</g>\n<!-- 139746978202144&#45;&gt;139746978201904 -->\n<g id=\"edge222\" class=\"edge\">\n<title>139746978202144&#45;&gt;139746978201904</title>\n<path fill=\"none\" stroke=\"black\" d=\"M1313.4,-668.22C1324.32,-685.09 1350.78,-722.2 1383,-741 1408.46,-755.86 1481.17,-771 1534.8,-780.67\"/>\n<polygon fill=\"black\" stroke=\"black\" points=\"1534.46,-784.16 1544.91,-782.46 1535.68,-777.27 1534.46,-784.16\"/>\n</g>\n<!-- 139746978202096 -->\n<g id=\"node201\" class=\"node\">\n<title>139746978202096</title>\n<polygon fill=\"lightgrey\" stroke=\"black\" points=\"1647.5,-868 1546.5,-868 1546.5,-849 1647.5,-849 1647.5,-868\"/>\n<text text-anchor=\"middle\" x=\"1597\" y=\"-856\" font-family=\"monospace\" font-size=\"10.00\">AccumulateGrad</text>\n</g>\n<!-- 139746978202096&#45;&gt;139746978201904 -->\n<g id=\"edge224\" class=\"edge\">\n<title>139746978202096&#45;&gt;139746978201904</title>\n<path fill=\"none\" stroke=\"black\" d=\"M1597,-848.8C1597,-839.32 1597,-823.88 1597,-811.64\"/>\n<polygon fill=\"black\" stroke=\"black\" points=\"1600.5,-811.56 1597,-801.56 1593.5,-811.56 1600.5,-811.56\"/>\n</g>\n<!-- 139746978163232 -->\n<g id=\"node202\" class=\"node\">\n<title>139746978163232</title>\n<polygon fill=\"lightblue\" stroke=\"black\" points=\"1624,-941 1570,-941 1570,-910 1624,-910 1624,-941\"/>\n<text text-anchor=\"middle\" x=\"1597\" y=\"-917\" font-family=\"monospace\" font-size=\"10.00\"> (32)</text>\n</g>\n<!-- 139746978163232&#45;&gt;139746978202096 -->\n<g id=\"edge225\" class=\"edge\">\n<title>139746978163232&#45;&gt;139746978202096</title>\n<path fill=\"none\" stroke=\"black\" d=\"M1597,-909.75C1597,-900.39 1597,-888.19 1597,-878.16\"/>\n<polygon fill=\"black\" stroke=\"black\" points=\"1600.5,-878.02 1597,-868.02 1593.5,-878.02 1600.5,-878.02\"/>\n</g>\n<!-- 139746978208768&#45;&gt;139746978208624 -->\n<g id=\"edge226\" class=\"edge\">\n<title>139746978208768&#45;&gt;139746978208624</title>\n<path fill=\"none\" stroke=\"black\" d=\"M1675.28,-601.81C1662.37,-618.19 1632.5,-653.5 1600,-674 1571.16,-692.19 1534.86,-705.04 1506.45,-713.23\"/>\n<polygon fill=\"black\" stroke=\"black\" points=\"1505.45,-709.88 1496.76,-715.93 1507.33,-716.62 1505.45,-709.88\"/>\n</g>\n<!-- 139746978209680&#45;&gt;139746978214960 -->\n<g id=\"edge228\" class=\"edge\">\n<title>139746978209680&#45;&gt;139746978214960</title>\n<path fill=\"none\" stroke=\"black\" d=\"M1111.4,-468.22C1122.32,-485.09 1148.78,-522.2 1181,-541 1218.29,-562.76 1264.43,-575.05 1304.3,-582\"/>\n<polygon fill=\"black\" stroke=\"black\" points=\"1303.86,-585.47 1314.3,-583.65 1305,-578.56 1303.86,-585.47\"/>\n</g>\n<!-- 139746978209296 -->\n<g id=\"node205\" class=\"node\">\n<title>139746978209296</title>\n<polygon fill=\"lightgrey\" stroke=\"black\" points=\"1239.5,-668 1138.5,-668 1138.5,-649 1239.5,-649 1239.5,-668\"/>\n<text text-anchor=\"middle\" x=\"1189\" y=\"-656\" font-family=\"monospace\" font-size=\"10.00\">AccumulateGrad</text>\n</g>\n<!-- 139746978209296&#45;&gt;139746978214960 -->\n<g id=\"edge230\" class=\"edge\">\n<title>139746978209296&#45;&gt;139746978214960</title>\n<path fill=\"none\" stroke=\"black\" d=\"M1216.36,-648.93C1252.75,-637.54 1317.24,-617.35 1357.97,-604.59\"/>\n<polygon fill=\"black\" stroke=\"black\" points=\"1359.03,-607.93 1367.53,-601.6 1356.94,-601.25 1359.03,-607.93\"/>\n</g>\n<!-- 139746978164192 -->\n<g id=\"node206\" class=\"node\">\n<title>139746978164192</title>\n<polygon fill=\"lightblue\" stroke=\"black\" points=\"1216,-741 1162,-741 1162,-710 1216,-710 1216,-741\"/>\n<text text-anchor=\"middle\" x=\"1189\" y=\"-717\" font-family=\"monospace\" font-size=\"10.00\"> (32)</text>\n</g>\n<!-- 139746978164192&#45;&gt;139746978209296 -->\n<g id=\"edge231\" class=\"edge\">\n<title>139746978164192&#45;&gt;139746978209296</title>\n<path fill=\"none\" stroke=\"black\" d=\"M1189,-709.75C1189,-700.39 1189,-688.19 1189,-678.16\"/>\n<polygon fill=\"black\" stroke=\"black\" points=\"1192.5,-678.02 1189,-668.02 1185.5,-678.02 1192.5,-678.02\"/>\n</g>\n<!-- 139746978213808&#45;&gt;139746978209776 -->\n<g id=\"edge232\" class=\"edge\">\n<title>139746978213808&#45;&gt;139746978209776</title>\n<path fill=\"none\" stroke=\"black\" d=\"M1473.91,-401.67C1456.38,-420.31 1415.11,-463.35 1398,-474 1368.86,-492.14 1332.27,-505.05 1303.8,-513.27\"/>\n<polygon fill=\"black\" stroke=\"black\" points=\"1302.78,-509.92 1294.09,-515.99 1304.67,-516.67 1302.78,-509.92\"/>\n</g>\n<!-- 139746978214576&#45;&gt;139746978214768 -->\n<g id=\"edge234\" class=\"edge\">\n<title>139746978214576&#45;&gt;139746978214768</title>\n<path fill=\"none\" stroke=\"black\" d=\"M1225.34,-274.11C1230.37,-288.37 1238.54,-317.63 1231,-341 1226.93,-353.63 1218.35,-365.75 1210.59,-374.9\"/>\n<polygon fill=\"black\" stroke=\"black\" points=\"1207.93,-372.62 1203.85,-382.4 1213.14,-377.31 1207.93,-372.62\"/>\n</g>\n<!-- 139746978214528 -->\n<g id=\"node209\" class=\"node\">\n<title>139746978214528</title>\n<polygon fill=\"lightgrey\" stroke=\"black\" points=\"1037.5,-468 936.5,-468 936.5,-449 1037.5,-449 1037.5,-468\"/>\n<text text-anchor=\"middle\" x=\"987\" y=\"-456\" font-family=\"monospace\" font-size=\"10.00\">AccumulateGrad</text>\n</g>\n<!-- 139746978214528&#45;&gt;139746978214768 -->\n<g id=\"edge236\" class=\"edge\">\n<title>139746978214528&#45;&gt;139746978214768</title>\n<path fill=\"none\" stroke=\"black\" d=\"M1014.62,-448.93C1051.37,-437.54 1116.49,-417.35 1157.61,-404.59\"/>\n<polygon fill=\"black\" stroke=\"black\" points=\"1158.75,-407.91 1167.26,-401.6 1156.68,-401.22 1158.75,-407.91\"/>\n</g>\n<!-- 139746978168192 -->\n<g id=\"node210\" class=\"node\">\n<title>139746978168192</title>\n<polygon fill=\"lightblue\" stroke=\"black\" points=\"1014,-541 960,-541 960,-510 1014,-510 1014,-541\"/>\n<text text-anchor=\"middle\" x=\"987\" y=\"-517\" font-family=\"monospace\" font-size=\"10.00\"> (32)</text>\n</g>\n<!-- 139746978168192&#45;&gt;139746978214528 -->\n<g id=\"edge237\" class=\"edge\">\n<title>139746978168192&#45;&gt;139746978214528</title>\n<path fill=\"none\" stroke=\"black\" d=\"M987,-509.75C987,-500.39 987,-488.19 987,-478.16\"/>\n<polygon fill=\"black\" stroke=\"black\" points=\"990.5,-478.02 987,-468.02 983.5,-478.02 990.5,-478.02\"/>\n</g>\n<!-- 139746978209344&#45;&gt;139746978208912 -->\n<g id=\"edge239\" class=\"edge\">\n<title>139746978209344&#45;&gt;139746978208912</title>\n<path fill=\"none\" stroke=\"black\" d=\"M937.68,-86.16C948.26,-101.01 966.28,-131.78 952,-153 938.94,-172.41 916.9,-184.29 895.06,-191.55\"/>\n<polygon fill=\"black\" stroke=\"black\" points=\"893.96,-188.23 885.41,-194.49 896,-194.93 893.96,-188.23\"/>\n</g>\n</g>\n</svg>\n",
            "text/plain": [
              "<graphviz.graphs.Digraph at 0x7f1960fe9cf0>"
            ]
          },
          "metadata": {},
          "execution_count": 33
        }
      ]
    },
    {
      "cell_type": "markdown",
      "source": [
        "## Training"
      ],
      "metadata": {
        "id": "uiDNSZ6HqPQ4"
      }
    },
    {
      "cell_type": "code",
      "source": [
        "model = Net().to(device)"
      ],
      "metadata": {
        "id": "CfTTgd_zqfpX"
      },
      "execution_count": 34,
      "outputs": []
    },
    {
      "cell_type": "code",
      "source": [
        "import torch.optim as optim"
      ],
      "metadata": {
        "id": "4J9i_cYaqYXR"
      },
      "execution_count": 35,
      "outputs": []
    },
    {
      "cell_type": "code",
      "source": [
        "labels = {0: 'airplane',\n",
        "          1: 'automobile',\n",
        "          2: 'bird',\n",
        "          3: 'cat',\n",
        "          4: 'deer',\n",
        "          5: 'dog',\n",
        "          6: 'frog',\n",
        "          7: 'horse',\n",
        "          8: 'ship',\n",
        "          9: 'truck'}"
      ],
      "metadata": {
        "id": "ZlMOi9qKmU-1"
      },
      "execution_count": 36,
      "outputs": []
    },
    {
      "cell_type": "code",
      "source": [
        "optimizer = optim.SGD(model.parameters(), lr=0.1, momentum=0.9)\n",
        "scheduler = optim.lr_scheduler.StepLR(optimizer, step_size=6, gamma=0.1, verbose=True)\n",
        "num_epochs = 20\n",
        "\n",
        "metrics = { 'train_acc': [], 'train_losses': [],\n",
        "            'test_acc': [], 'test_losses': [] }\n",
        "\n",
        "for epoch in range(1, num_epochs + 1):\n",
        "    print(f'Epoch {epoch}')\n",
        "    U.train(model, device, train_dataloader, optimizer, metrics)\n",
        "    U.test(model, device, test_dataloader, metrics, labels, get_misclassified=(epoch == num_epochs))\n",
        "    # break\n",
        "    scheduler.step()"
      ],
      "metadata": {
        "colab": {
          "base_uri": "https://localhost:8080/"
        },
        "id": "ffqkmOOrqRzH",
        "outputId": "94ae14dc-e64b-42ff-a5ac-91b9d5be279b"
      },
      "execution_count": 37,
      "outputs": [
        {
          "metadata": {
            "tags": null
          },
          "name": "stdout",
          "output_type": "stream",
          "text": [
            "Adjusting learning rate of group 0 to 1.0000e-01.\n",
            "Epoch 1\n"
          ]
        },
        {
          "metadata": {
            "tags": null
          },
          "name": "stderr",
          "output_type": "stream",
          "text": [
            "Train: Loss=1.4900 Batch_id=390 Accuracy=39.64: 100%|██████████| 391/391 [00:27<00:00, 14.44it/s]\n"
          ]
        },
        {
          "metadata": {
            "tags": null
          },
          "name": "stdout",
          "output_type": "stream",
          "text": [
            "              precision    recall  f1-score   support\n",
            "\n",
            "    airplane       0.49      0.63      0.55      1000\n",
            "  automobile       0.71      0.60      0.65      1000\n",
            "        bird       0.29      0.54      0.38      1000\n",
            "         cat       0.37      0.21      0.26      1000\n",
            "        deer       0.34      0.33      0.33      1000\n",
            "         dog       0.45      0.31      0.37      1000\n",
            "        frog       0.62      0.50      0.55      1000\n",
            "       horse       0.54      0.62      0.57      1000\n",
            "        ship       0.63      0.52      0.57      1000\n",
            "       truck       0.62      0.62      0.62      1000\n",
            "\n",
            "    accuracy                           0.49     10000\n",
            "   macro avg       0.51      0.49      0.49     10000\n",
            "weighted avg       0.51      0.49      0.49     10000\n",
            "\n",
            "Test set: Average loss: 1.3515, Accuracy: 4886/10000 (48.86%)\n",
            "\n",
            "Adjusting learning rate of group 0 to 1.0000e-01.\n",
            "Epoch 2\n"
          ]
        },
        {
          "metadata": {
            "tags": null
          },
          "name": "stderr",
          "output_type": "stream",
          "text": [
            "Train: Loss=1.2786 Batch_id=390 Accuracy=50.45: 100%|██████████| 391/391 [00:18<00:00, 21.35it/s]\n"
          ]
        },
        {
          "metadata": {
            "tags": null
          },
          "name": "stdout",
          "output_type": "stream",
          "text": [
            "              precision    recall  f1-score   support\n",
            "\n",
            "    airplane       0.51      0.73      0.60      1000\n",
            "  automobile       0.72      0.79      0.76      1000\n",
            "        bird       0.40      0.56      0.46      1000\n",
            "         cat       0.37      0.31      0.34      1000\n",
            "        deer       0.61      0.24      0.34      1000\n",
            "         dog       0.37      0.57      0.45      1000\n",
            "        frog       0.73      0.60      0.66      1000\n",
            "       horse       0.74      0.55      0.63      1000\n",
            "        ship       0.68      0.62      0.65      1000\n",
            "       truck       0.75      0.64      0.69      1000\n",
            "\n",
            "    accuracy                           0.56     10000\n",
            "   macro avg       0.59      0.56      0.56     10000\n",
            "weighted avg       0.59      0.56      0.56     10000\n",
            "\n",
            "Test set: Average loss: 1.2058, Accuracy: 5602/10000 (56.02%)\n",
            "\n",
            "Adjusting learning rate of group 0 to 1.0000e-01.\n",
            "Epoch 3\n"
          ]
        },
        {
          "metadata": {
            "tags": null
          },
          "name": "stderr",
          "output_type": "stream",
          "text": [
            "Train: Loss=1.2121 Batch_id=390 Accuracy=55.58: 100%|██████████| 391/391 [00:18<00:00, 20.97it/s]\n"
          ]
        },
        {
          "metadata": {
            "tags": null
          },
          "name": "stdout",
          "output_type": "stream",
          "text": [
            "              precision    recall  f1-score   support\n",
            "\n",
            "    airplane       0.66      0.68      0.67      1000\n",
            "  automobile       0.75      0.88      0.81      1000\n",
            "        bird       0.55      0.44      0.49      1000\n",
            "         cat       0.40      0.35      0.38      1000\n",
            "        deer       0.59      0.51      0.55      1000\n",
            "         dog       0.45      0.62      0.52      1000\n",
            "        frog       0.70      0.66      0.68      1000\n",
            "       horse       0.65      0.72      0.69      1000\n",
            "        ship       0.76      0.76      0.76      1000\n",
            "       truck       0.83      0.71      0.76      1000\n",
            "\n",
            "    accuracy                           0.63     10000\n",
            "   macro avg       0.64      0.63      0.63     10000\n",
            "weighted avg       0.64      0.63      0.63     10000\n",
            "\n",
            "Test set: Average loss: 1.0332, Accuracy: 6332/10000 (63.32%)\n",
            "\n",
            "Adjusting learning rate of group 0 to 1.0000e-01.\n",
            "Epoch 4\n"
          ]
        },
        {
          "metadata": {
            "tags": null
          },
          "name": "stderr",
          "output_type": "stream",
          "text": [
            "Train: Loss=1.2079 Batch_id=390 Accuracy=58.58: 100%|██████████| 391/391 [00:17<00:00, 22.09it/s]\n"
          ]
        },
        {
          "metadata": {
            "tags": null
          },
          "name": "stdout",
          "output_type": "stream",
          "text": [
            "              precision    recall  f1-score   support\n",
            "\n",
            "    airplane       0.67      0.72      0.69      1000\n",
            "  automobile       0.83      0.79      0.81      1000\n",
            "        bird       0.61      0.40      0.48      1000\n",
            "         cat       0.47      0.34      0.39      1000\n",
            "        deer       0.56      0.69      0.62      1000\n",
            "         dog       0.46      0.73      0.57      1000\n",
            "        frog       0.75      0.67      0.71      1000\n",
            "       horse       0.76      0.65      0.70      1000\n",
            "        ship       0.79      0.78      0.79      1000\n",
            "       truck       0.77      0.81      0.79      1000\n",
            "\n",
            "    accuracy                           0.66     10000\n",
            "   macro avg       0.67      0.66      0.65     10000\n",
            "weighted avg       0.67      0.66      0.65     10000\n",
            "\n",
            "Test set: Average loss: 0.9601, Accuracy: 6579/10000 (65.79%)\n",
            "\n",
            "Adjusting learning rate of group 0 to 1.0000e-01.\n",
            "Epoch 5\n"
          ]
        },
        {
          "metadata": {
            "tags": null
          },
          "name": "stderr",
          "output_type": "stream",
          "text": [
            "Train: Loss=1.0620 Batch_id=390 Accuracy=60.84: 100%|██████████| 391/391 [00:19<00:00, 20.55it/s]\n"
          ]
        },
        {
          "metadata": {
            "tags": null
          },
          "name": "stdout",
          "output_type": "stream",
          "text": [
            "              precision    recall  f1-score   support\n",
            "\n",
            "    airplane       0.67      0.75      0.71      1000\n",
            "  automobile       0.83      0.86      0.84      1000\n",
            "        bird       0.52      0.56      0.54      1000\n",
            "         cat       0.41      0.57      0.48      1000\n",
            "        deer       0.72      0.46      0.56      1000\n",
            "         dog       0.63      0.42      0.50      1000\n",
            "        frog       0.62      0.81      0.70      1000\n",
            "       horse       0.82      0.68      0.74      1000\n",
            "        ship       0.84      0.75      0.79      1000\n",
            "       truck       0.79      0.83      0.81      1000\n",
            "\n",
            "    accuracy                           0.67     10000\n",
            "   macro avg       0.69      0.67      0.67     10000\n",
            "weighted avg       0.69      0.67      0.67     10000\n",
            "\n",
            "Test set: Average loss: 0.9270, Accuracy: 6695/10000 (66.95%)\n",
            "\n",
            "Adjusting learning rate of group 0 to 1.0000e-01.\n",
            "Epoch 6\n"
          ]
        },
        {
          "metadata": {
            "tags": null
          },
          "name": "stderr",
          "output_type": "stream",
          "text": [
            "Train: Loss=1.0036 Batch_id=390 Accuracy=62.82: 100%|██████████| 391/391 [00:18<00:00, 21.01it/s]\n"
          ]
        },
        {
          "metadata": {
            "tags": null
          },
          "name": "stdout",
          "output_type": "stream",
          "text": [
            "              precision    recall  f1-score   support\n",
            "\n",
            "    airplane       0.70      0.73      0.72      1000\n",
            "  automobile       0.81      0.89      0.85      1000\n",
            "        bird       0.50      0.65      0.56      1000\n",
            "         cat       0.49      0.43      0.46      1000\n",
            "        deer       0.61      0.71      0.65      1000\n",
            "         dog       0.54      0.65      0.59      1000\n",
            "        frog       0.75      0.73      0.74      1000\n",
            "       horse       0.90      0.59      0.71      1000\n",
            "        ship       0.86      0.78      0.82      1000\n",
            "       truck       0.91      0.70      0.79      1000\n",
            "\n",
            "    accuracy                           0.69     10000\n",
            "   macro avg       0.71      0.69      0.69     10000\n",
            "weighted avg       0.71      0.69      0.69     10000\n",
            "\n",
            "Test set: Average loss: 0.8830, Accuracy: 6870/10000 (68.70%)\n",
            "\n",
            "Adjusting learning rate of group 0 to 1.0000e-02.\n",
            "Epoch 7\n"
          ]
        },
        {
          "metadata": {
            "tags": null
          },
          "name": "stderr",
          "output_type": "stream",
          "text": [
            "Train: Loss=0.8017 Batch_id=390 Accuracy=66.93: 100%|██████████| 391/391 [00:17<00:00, 22.09it/s]\n"
          ]
        },
        {
          "metadata": {
            "tags": null
          },
          "name": "stdout",
          "output_type": "stream",
          "text": [
            "              precision    recall  f1-score   support\n",
            "\n",
            "    airplane       0.75      0.73      0.74      1000\n",
            "  automobile       0.87      0.88      0.88      1000\n",
            "        bird       0.59      0.63      0.61      1000\n",
            "         cat       0.53      0.50      0.51      1000\n",
            "        deer       0.72      0.66      0.69      1000\n",
            "         dog       0.61      0.61      0.61      1000\n",
            "        frog       0.72      0.82      0.77      1000\n",
            "       horse       0.80      0.74      0.77      1000\n",
            "        ship       0.82      0.87      0.85      1000\n",
            "       truck       0.85      0.83      0.84      1000\n",
            "\n",
            "    accuracy                           0.73     10000\n",
            "   macro avg       0.73      0.73      0.73     10000\n",
            "weighted avg       0.73      0.73      0.73     10000\n",
            "\n",
            "Test set: Average loss: 0.7764, Accuracy: 7269/10000 (72.69%)\n",
            "\n",
            "Adjusting learning rate of group 0 to 1.0000e-02.\n",
            "Epoch 8\n"
          ]
        },
        {
          "metadata": {
            "tags": null
          },
          "name": "stderr",
          "output_type": "stream",
          "text": [
            "Train: Loss=0.9006 Batch_id=390 Accuracy=67.62: 100%|██████████| 391/391 [00:20<00:00, 18.99it/s]\n"
          ]
        },
        {
          "metadata": {
            "tags": null
          },
          "name": "stdout",
          "output_type": "stream",
          "text": [
            "              precision    recall  f1-score   support\n",
            "\n",
            "    airplane       0.73      0.75      0.74      1000\n",
            "  automobile       0.86      0.89      0.87      1000\n",
            "        bird       0.60      0.63      0.61      1000\n",
            "         cat       0.54      0.51      0.53      1000\n",
            "        deer       0.70      0.67      0.69      1000\n",
            "         dog       0.63      0.60      0.62      1000\n",
            "        frog       0.72      0.82      0.77      1000\n",
            "       horse       0.80      0.75      0.78      1000\n",
            "        ship       0.86      0.84      0.85      1000\n",
            "       truck       0.85      0.82      0.84      1000\n",
            "\n",
            "    accuracy                           0.73     10000\n",
            "   macro avg       0.73      0.73      0.73     10000\n",
            "weighted avg       0.73      0.73      0.73     10000\n",
            "\n",
            "Test set: Average loss: 0.7641, Accuracy: 7295/10000 (72.95%)\n",
            "\n",
            "Adjusting learning rate of group 0 to 1.0000e-02.\n",
            "Epoch 9\n"
          ]
        },
        {
          "metadata": {
            "tags": null
          },
          "name": "stderr",
          "output_type": "stream",
          "text": [
            "Train: Loss=0.8509 Batch_id=390 Accuracy=68.15: 100%|██████████| 391/391 [00:19<00:00, 19.85it/s]\n"
          ]
        },
        {
          "metadata": {
            "tags": null
          },
          "name": "stdout",
          "output_type": "stream",
          "text": [
            "              precision    recall  f1-score   support\n",
            "\n",
            "    airplane       0.73      0.76      0.75      1000\n",
            "  automobile       0.87      0.88      0.88      1000\n",
            "        bird       0.60      0.63      0.61      1000\n",
            "         cat       0.53      0.51      0.52      1000\n",
            "        deer       0.69      0.67      0.68      1000\n",
            "         dog       0.62      0.62      0.62      1000\n",
            "        frog       0.70      0.84      0.76      1000\n",
            "       horse       0.86      0.72      0.78      1000\n",
            "        ship       0.85      0.86      0.85      1000\n",
            "       truck       0.88      0.82      0.85      1000\n",
            "\n",
            "    accuracy                           0.73     10000\n",
            "   macro avg       0.73      0.73      0.73     10000\n",
            "weighted avg       0.73      0.73      0.73     10000\n",
            "\n",
            "Test set: Average loss: 0.7645, Accuracy: 7297/10000 (72.97%)\n",
            "\n",
            "Adjusting learning rate of group 0 to 1.0000e-02.\n",
            "Epoch 10\n"
          ]
        },
        {
          "metadata": {
            "tags": null
          },
          "name": "stderr",
          "output_type": "stream",
          "text": [
            "Train: Loss=0.9719 Batch_id=390 Accuracy=68.45: 100%|██████████| 391/391 [00:18<00:00, 21.71it/s]\n"
          ]
        },
        {
          "metadata": {
            "tags": null
          },
          "name": "stdout",
          "output_type": "stream",
          "text": [
            "              precision    recall  f1-score   support\n",
            "\n",
            "    airplane       0.74      0.76      0.75      1000\n",
            "  automobile       0.88      0.89      0.88      1000\n",
            "        bird       0.60      0.63      0.61      1000\n",
            "         cat       0.52      0.54      0.53      1000\n",
            "        deer       0.71      0.67      0.69      1000\n",
            "         dog       0.64      0.60      0.62      1000\n",
            "        frog       0.71      0.83      0.76      1000\n",
            "       horse       0.86      0.72      0.78      1000\n",
            "        ship       0.85      0.86      0.86      1000\n",
            "       truck       0.87      0.82      0.85      1000\n",
            "\n",
            "    accuracy                           0.73     10000\n",
            "   macro avg       0.74      0.73      0.73     10000\n",
            "weighted avg       0.74      0.73      0.73     10000\n",
            "\n",
            "Test set: Average loss: 0.7571, Accuracy: 7333/10000 (73.33%)\n",
            "\n",
            "Adjusting learning rate of group 0 to 1.0000e-02.\n",
            "Epoch 11\n"
          ]
        },
        {
          "metadata": {
            "tags": null
          },
          "name": "stderr",
          "output_type": "stream",
          "text": [
            "Train: Loss=1.0145 Batch_id=390 Accuracy=68.53: 100%|██████████| 391/391 [00:18<00:00, 21.08it/s]\n"
          ]
        },
        {
          "metadata": {
            "tags": null
          },
          "name": "stdout",
          "output_type": "stream",
          "text": [
            "              precision    recall  f1-score   support\n",
            "\n",
            "    airplane       0.77      0.73      0.75      1000\n",
            "  automobile       0.86      0.89      0.87      1000\n",
            "        bird       0.58      0.66      0.61      1000\n",
            "         cat       0.53      0.51      0.52      1000\n",
            "        deer       0.74      0.63      0.68      1000\n",
            "         dog       0.62      0.63      0.63      1000\n",
            "        frog       0.71      0.83      0.77      1000\n",
            "       horse       0.85      0.74      0.79      1000\n",
            "        ship       0.83      0.88      0.85      1000\n",
            "       truck       0.87      0.84      0.85      1000\n",
            "\n",
            "    accuracy                           0.73     10000\n",
            "   macro avg       0.74      0.73      0.73     10000\n",
            "weighted avg       0.74      0.73      0.73     10000\n",
            "\n",
            "Test set: Average loss: 0.7542, Accuracy: 7327/10000 (73.27%)\n",
            "\n",
            "Adjusting learning rate of group 0 to 1.0000e-02.\n",
            "Epoch 12\n"
          ]
        },
        {
          "metadata": {
            "tags": null
          },
          "name": "stderr",
          "output_type": "stream",
          "text": [
            "Train: Loss=0.9141 Batch_id=390 Accuracy=68.97: 100%|██████████| 391/391 [00:18<00:00, 20.77it/s]\n"
          ]
        },
        {
          "metadata": {
            "tags": null
          },
          "name": "stdout",
          "output_type": "stream",
          "text": [
            "              precision    recall  f1-score   support\n",
            "\n",
            "    airplane       0.75      0.76      0.75      1000\n",
            "  automobile       0.87      0.89      0.88      1000\n",
            "        bird       0.60      0.65      0.62      1000\n",
            "         cat       0.53      0.53      0.53      1000\n",
            "        deer       0.73      0.69      0.71      1000\n",
            "         dog       0.64      0.61      0.62      1000\n",
            "        frog       0.76      0.81      0.78      1000\n",
            "       horse       0.82      0.76      0.79      1000\n",
            "        ship       0.84      0.85      0.85      1000\n",
            "       truck       0.86      0.84      0.85      1000\n",
            "\n",
            "    accuracy                           0.74     10000\n",
            "   macro avg       0.74      0.74      0.74     10000\n",
            "weighted avg       0.74      0.74      0.74     10000\n",
            "\n",
            "Test set: Average loss: 0.7374, Accuracy: 7387/10000 (73.87%)\n",
            "\n",
            "Adjusting learning rate of group 0 to 1.0000e-03.\n",
            "Epoch 13\n"
          ]
        },
        {
          "metadata": {
            "tags": null
          },
          "name": "stderr",
          "output_type": "stream",
          "text": [
            "Train: Loss=0.7414 Batch_id=390 Accuracy=69.43: 100%|██████████| 391/391 [00:17<00:00, 21.78it/s]\n"
          ]
        },
        {
          "metadata": {
            "tags": null
          },
          "name": "stdout",
          "output_type": "stream",
          "text": [
            "              precision    recall  f1-score   support\n",
            "\n",
            "    airplane       0.76      0.75      0.76      1000\n",
            "  automobile       0.88      0.88      0.88      1000\n",
            "        bird       0.60      0.64      0.62      1000\n",
            "         cat       0.53      0.55      0.54      1000\n",
            "        deer       0.72      0.68      0.70      1000\n",
            "         dog       0.65      0.61      0.63      1000\n",
            "        frog       0.73      0.83      0.78      1000\n",
            "       horse       0.84      0.75      0.79      1000\n",
            "        ship       0.84      0.87      0.86      1000\n",
            "       truck       0.87      0.83      0.85      1000\n",
            "\n",
            "    accuracy                           0.74     10000\n",
            "   macro avg       0.74      0.74      0.74     10000\n",
            "weighted avg       0.74      0.74      0.74     10000\n",
            "\n",
            "Test set: Average loss: 0.7340, Accuracy: 7394/10000 (73.94%)\n",
            "\n",
            "Adjusting learning rate of group 0 to 1.0000e-03.\n",
            "Epoch 14\n"
          ]
        },
        {
          "metadata": {
            "tags": null
          },
          "name": "stderr",
          "output_type": "stream",
          "text": [
            "Train: Loss=0.9146 Batch_id=390 Accuracy=69.56: 100%|██████████| 391/391 [00:18<00:00, 20.68it/s]\n"
          ]
        },
        {
          "metadata": {
            "tags": null
          },
          "name": "stdout",
          "output_type": "stream",
          "text": [
            "              precision    recall  f1-score   support\n",
            "\n",
            "    airplane       0.76      0.76      0.76      1000\n",
            "  automobile       0.87      0.89      0.88      1000\n",
            "        bird       0.61      0.64      0.63      1000\n",
            "         cat       0.54      0.53      0.54      1000\n",
            "        deer       0.71      0.70      0.71      1000\n",
            "         dog       0.66      0.61      0.63      1000\n",
            "        frog       0.74      0.83      0.78      1000\n",
            "       horse       0.82      0.76      0.79      1000\n",
            "        ship       0.85      0.86      0.86      1000\n",
            "       truck       0.87      0.84      0.85      1000\n",
            "\n",
            "    accuracy                           0.74     10000\n",
            "   macro avg       0.74      0.74      0.74     10000\n",
            "weighted avg       0.74      0.74      0.74     10000\n",
            "\n",
            "Test set: Average loss: 0.7282, Accuracy: 7422/10000 (74.22%)\n",
            "\n",
            "Adjusting learning rate of group 0 to 1.0000e-03.\n",
            "Epoch 15\n"
          ]
        },
        {
          "metadata": {
            "tags": null
          },
          "name": "stderr",
          "output_type": "stream",
          "text": [
            "Train: Loss=0.7928 Batch_id=390 Accuracy=69.60: 100%|██████████| 391/391 [00:19<00:00, 20.56it/s]\n"
          ]
        },
        {
          "metadata": {
            "tags": null
          },
          "name": "stdout",
          "output_type": "stream",
          "text": [
            "              precision    recall  f1-score   support\n",
            "\n",
            "    airplane       0.76      0.75      0.76      1000\n",
            "  automobile       0.87      0.89      0.88      1000\n",
            "        bird       0.60      0.65      0.62      1000\n",
            "         cat       0.52      0.54      0.53      1000\n",
            "        deer       0.73      0.67      0.70      1000\n",
            "         dog       0.64      0.62      0.63      1000\n",
            "        frog       0.74      0.82      0.78      1000\n",
            "       horse       0.84      0.75      0.79      1000\n",
            "        ship       0.85      0.87      0.86      1000\n",
            "       truck       0.87      0.83      0.85      1000\n",
            "\n",
            "    accuracy                           0.74     10000\n",
            "   macro avg       0.74      0.74      0.74     10000\n",
            "weighted avg       0.74      0.74      0.74     10000\n",
            "\n",
            "Test set: Average loss: 0.7298, Accuracy: 7398/10000 (73.98%)\n",
            "\n",
            "Adjusting learning rate of group 0 to 1.0000e-03.\n",
            "Epoch 16\n"
          ]
        },
        {
          "metadata": {
            "tags": null
          },
          "name": "stderr",
          "output_type": "stream",
          "text": [
            "Train: Loss=0.8774 Batch_id=390 Accuracy=69.53: 100%|██████████| 391/391 [00:17<00:00, 21.93it/s]\n"
          ]
        },
        {
          "metadata": {
            "tags": null
          },
          "name": "stdout",
          "output_type": "stream",
          "text": [
            "              precision    recall  f1-score   support\n",
            "\n",
            "    airplane       0.76      0.76      0.76      1000\n",
            "  automobile       0.86      0.89      0.88      1000\n",
            "        bird       0.62      0.64      0.63      1000\n",
            "         cat       0.53      0.54      0.53      1000\n",
            "        deer       0.72      0.70      0.71      1000\n",
            "         dog       0.65      0.61      0.63      1000\n",
            "        frog       0.73      0.83      0.78      1000\n",
            "       horse       0.85      0.75      0.79      1000\n",
            "        ship       0.84      0.87      0.86      1000\n",
            "       truck       0.86      0.83      0.85      1000\n",
            "\n",
            "    accuracy                           0.74     10000\n",
            "   macro avg       0.74      0.74      0.74     10000\n",
            "weighted avg       0.74      0.74      0.74     10000\n",
            "\n",
            "Test set: Average loss: 0.7297, Accuracy: 7410/10000 (74.10%)\n",
            "\n",
            "Adjusting learning rate of group 0 to 1.0000e-03.\n",
            "Epoch 17\n"
          ]
        },
        {
          "metadata": {
            "tags": null
          },
          "name": "stderr",
          "output_type": "stream",
          "text": [
            "Train: Loss=0.7819 Batch_id=390 Accuracy=69.92: 100%|██████████| 391/391 [00:18<00:00, 21.43it/s]\n"
          ]
        },
        {
          "metadata": {
            "tags": null
          },
          "name": "stdout",
          "output_type": "stream",
          "text": [
            "              precision    recall  f1-score   support\n",
            "\n",
            "    airplane       0.77      0.75      0.76      1000\n",
            "  automobile       0.88      0.88      0.88      1000\n",
            "        bird       0.61      0.63      0.62      1000\n",
            "         cat       0.52      0.55      0.54      1000\n",
            "        deer       0.73      0.67      0.70      1000\n",
            "         dog       0.63      0.62      0.63      1000\n",
            "        frog       0.72      0.83      0.78      1000\n",
            "       horse       0.85      0.75      0.80      1000\n",
            "        ship       0.85      0.87      0.86      1000\n",
            "       truck       0.86      0.84      0.85      1000\n",
            "\n",
            "    accuracy                           0.74     10000\n",
            "   macro avg       0.74      0.74      0.74     10000\n",
            "weighted avg       0.74      0.74      0.74     10000\n",
            "\n",
            "Test set: Average loss: 0.7308, Accuracy: 7396/10000 (73.96%)\n",
            "\n",
            "Adjusting learning rate of group 0 to 1.0000e-03.\n",
            "Epoch 18\n"
          ]
        },
        {
          "metadata": {
            "tags": null
          },
          "name": "stderr",
          "output_type": "stream",
          "text": [
            "Train: Loss=0.9969 Batch_id=390 Accuracy=69.52: 100%|██████████| 391/391 [00:17<00:00, 22.22it/s]\n"
          ]
        },
        {
          "metadata": {
            "tags": null
          },
          "name": "stdout",
          "output_type": "stream",
          "text": [
            "              precision    recall  f1-score   support\n",
            "\n",
            "    airplane       0.77      0.74      0.76      1000\n",
            "  automobile       0.88      0.88      0.88      1000\n",
            "        bird       0.61      0.66      0.63      1000\n",
            "         cat       0.53      0.54      0.53      1000\n",
            "        deer       0.73      0.69      0.71      1000\n",
            "         dog       0.65      0.61      0.63      1000\n",
            "        frog       0.73      0.83      0.78      1000\n",
            "       horse       0.85      0.74      0.79      1000\n",
            "        ship       0.84      0.87      0.86      1000\n",
            "       truck       0.86      0.84      0.85      1000\n",
            "\n",
            "    accuracy                           0.74     10000\n",
            "   macro avg       0.74      0.74      0.74     10000\n",
            "weighted avg       0.74      0.74      0.74     10000\n",
            "\n",
            "Test set: Average loss: 0.7321, Accuracy: 7410/10000 (74.10%)\n",
            "\n",
            "Adjusting learning rate of group 0 to 1.0000e-04.\n",
            "Epoch 19\n"
          ]
        },
        {
          "metadata": {
            "tags": null
          },
          "name": "stderr",
          "output_type": "stream",
          "text": [
            "Train: Loss=0.8090 Batch_id=390 Accuracy=69.59: 100%|██████████| 391/391 [00:17<00:00, 22.45it/s]\n"
          ]
        },
        {
          "metadata": {
            "tags": null
          },
          "name": "stdout",
          "output_type": "stream",
          "text": [
            "              precision    recall  f1-score   support\n",
            "\n",
            "    airplane       0.76      0.75      0.76      1000\n",
            "  automobile       0.87      0.89      0.88      1000\n",
            "        bird       0.60      0.65      0.62      1000\n",
            "         cat       0.53      0.53      0.53      1000\n",
            "        deer       0.72      0.68      0.70      1000\n",
            "         dog       0.65      0.60      0.63      1000\n",
            "        frog       0.72      0.83      0.77      1000\n",
            "       horse       0.84      0.75      0.79      1000\n",
            "        ship       0.84      0.88      0.86      1000\n",
            "       truck       0.87      0.84      0.85      1000\n",
            "\n",
            "    accuracy                           0.74     10000\n",
            "   macro avg       0.74      0.74      0.74     10000\n",
            "weighted avg       0.74      0.74      0.74     10000\n",
            "\n",
            "Test set: Average loss: 0.7308, Accuracy: 7391/10000 (73.91%)\n",
            "\n",
            "Adjusting learning rate of group 0 to 1.0000e-04.\n",
            "Epoch 20\n"
          ]
        },
        {
          "metadata": {
            "tags": null
          },
          "name": "stderr",
          "output_type": "stream",
          "text": [
            "Train: Loss=1.1345 Batch_id=390 Accuracy=70.02: 100%|██████████| 391/391 [00:18<00:00, 21.38it/s]\n"
          ]
        },
        {
          "metadata": {
            "tags": null
          },
          "name": "stdout",
          "output_type": "stream",
          "text": [
            "              precision    recall  f1-score   support\n",
            "\n",
            "    airplane       0.75      0.76      0.75      1000\n",
            "  automobile       0.87      0.89      0.88      1000\n",
            "        bird       0.60      0.66      0.63      1000\n",
            "         cat       0.55      0.51      0.53      1000\n",
            "        deer       0.72      0.69      0.71      1000\n",
            "         dog       0.66      0.60      0.63      1000\n",
            "        frog       0.73      0.83      0.78      1000\n",
            "       horse       0.82      0.76      0.79      1000\n",
            "        ship       0.84      0.87      0.86      1000\n",
            "       truck       0.86      0.84      0.85      1000\n",
            "\n",
            "    accuracy                           0.74     10000\n",
            "   macro avg       0.74      0.74      0.74     10000\n",
            "weighted avg       0.74      0.74      0.74     10000\n",
            "\n",
            "Test set: Average loss: 0.7296, Accuracy: 7408/10000 (74.08%)\n",
            "\n",
            "Adjusting learning rate of group 0 to 1.0000e-04.\n"
          ]
        }
      ]
    },
    {
      "cell_type": "code",
      "source": [
        "df_misclassified = pd.DataFrame(metrics['misclassified_data'])"
      ],
      "metadata": {
        "id": "NkQiWbSSxH_M"
      },
      "execution_count": 39,
      "outputs": []
    },
    {
      "cell_type": "code",
      "source": [
        "df_misclassified.sample(n=10)"
      ],
      "metadata": {
        "colab": {
          "base_uri": "https://localhost:8080/",
          "height": 363
        },
        "id": "0JT6sDOYl8cz",
        "outputId": "594e47b4-b167-4681-c8fc-f50977adc16e"
      },
      "execution_count": 41,
      "outputs": [
        {
          "output_type": "execute_result",
          "data": {
            "text/plain": [
              "      pred  actual                                               data\n",
              "1146     7       5  [[[-1.1319779, -1.1478527, -1.1002285, -1.1161...\n",
              "1751     1       3  [[[-0.36999118, -0.33824176, -0.27474287, -0.2...\n",
              "2339     5       4  [[[0.07450114, 0.4713692, 0.8364878, 0.3284967...\n",
              "1498     2       7  [[[-0.782734, -0.7351098, -0.893857, -1.036729...\n",
              "1018     2       6  [[[1.0428592, 1.106358, 1.1539823, 1.1381075, ...\n",
              "1644     8       9  [[[0.31262198, 0.09037587, -0.10012092, 1.8683...\n",
              "1734     4       2  [[[0.0427517, 0.0427517, -0.35411647, -0.36999...\n",
              "1388     6       4  [[[1.4714767, 1.3921031, 1.4238526, 1.5032262,...\n",
              "1276     2       0  [[[0.70949, 0.6777406, 0.70949, 0.7571142, 0.8...\n",
              "2017     4       3  [[[-0.084246196, 0.21737364, 0.39199558, 0.455..."
            ],
            "text/html": [
              "\n",
              "  <div id=\"df-99dfac71-64f9-4177-a600-f3b0452aef87\">\n",
              "    <div class=\"colab-df-container\">\n",
              "      <div>\n",
              "<style scoped>\n",
              "    .dataframe tbody tr th:only-of-type {\n",
              "        vertical-align: middle;\n",
              "    }\n",
              "\n",
              "    .dataframe tbody tr th {\n",
              "        vertical-align: top;\n",
              "    }\n",
              "\n",
              "    .dataframe thead th {\n",
              "        text-align: right;\n",
              "    }\n",
              "</style>\n",
              "<table border=\"1\" class=\"dataframe\">\n",
              "  <thead>\n",
              "    <tr style=\"text-align: right;\">\n",
              "      <th></th>\n",
              "      <th>pred</th>\n",
              "      <th>actual</th>\n",
              "      <th>data</th>\n",
              "    </tr>\n",
              "  </thead>\n",
              "  <tbody>\n",
              "    <tr>\n",
              "      <th>1146</th>\n",
              "      <td>7</td>\n",
              "      <td>5</td>\n",
              "      <td>[[[-1.1319779, -1.1478527, -1.1002285, -1.1161...</td>\n",
              "    </tr>\n",
              "    <tr>\n",
              "      <th>1751</th>\n",
              "      <td>1</td>\n",
              "      <td>3</td>\n",
              "      <td>[[[-0.36999118, -0.33824176, -0.27474287, -0.2...</td>\n",
              "    </tr>\n",
              "    <tr>\n",
              "      <th>2339</th>\n",
              "      <td>5</td>\n",
              "      <td>4</td>\n",
              "      <td>[[[0.07450114, 0.4713692, 0.8364878, 0.3284967...</td>\n",
              "    </tr>\n",
              "    <tr>\n",
              "      <th>1498</th>\n",
              "      <td>2</td>\n",
              "      <td>7</td>\n",
              "      <td>[[[-0.782734, -0.7351098, -0.893857, -1.036729...</td>\n",
              "    </tr>\n",
              "    <tr>\n",
              "      <th>1018</th>\n",
              "      <td>2</td>\n",
              "      <td>6</td>\n",
              "      <td>[[[1.0428592, 1.106358, 1.1539823, 1.1381075, ...</td>\n",
              "    </tr>\n",
              "    <tr>\n",
              "      <th>1644</th>\n",
              "      <td>8</td>\n",
              "      <td>9</td>\n",
              "      <td>[[[0.31262198, 0.09037587, -0.10012092, 1.8683...</td>\n",
              "    </tr>\n",
              "    <tr>\n",
              "      <th>1734</th>\n",
              "      <td>4</td>\n",
              "      <td>2</td>\n",
              "      <td>[[[0.0427517, 0.0427517, -0.35411647, -0.36999...</td>\n",
              "    </tr>\n",
              "    <tr>\n",
              "      <th>1388</th>\n",
              "      <td>6</td>\n",
              "      <td>4</td>\n",
              "      <td>[[[1.4714767, 1.3921031, 1.4238526, 1.5032262,...</td>\n",
              "    </tr>\n",
              "    <tr>\n",
              "      <th>1276</th>\n",
              "      <td>2</td>\n",
              "      <td>0</td>\n",
              "      <td>[[[0.70949, 0.6777406, 0.70949, 0.7571142, 0.8...</td>\n",
              "    </tr>\n",
              "    <tr>\n",
              "      <th>2017</th>\n",
              "      <td>4</td>\n",
              "      <td>3</td>\n",
              "      <td>[[[-0.084246196, 0.21737364, 0.39199558, 0.455...</td>\n",
              "    </tr>\n",
              "  </tbody>\n",
              "</table>\n",
              "</div>\n",
              "      <button class=\"colab-df-convert\" onclick=\"convertToInteractive('df-99dfac71-64f9-4177-a600-f3b0452aef87')\"\n",
              "              title=\"Convert this dataframe to an interactive table.\"\n",
              "              style=\"display:none;\">\n",
              "        \n",
              "  <svg xmlns=\"http://www.w3.org/2000/svg\" height=\"24px\"viewBox=\"0 0 24 24\"\n",
              "       width=\"24px\">\n",
              "    <path d=\"M0 0h24v24H0V0z\" fill=\"none\"/>\n",
              "    <path d=\"M18.56 5.44l.94 2.06.94-2.06 2.06-.94-2.06-.94-.94-2.06-.94 2.06-2.06.94zm-11 1L8.5 8.5l.94-2.06 2.06-.94-2.06-.94L8.5 2.5l-.94 2.06-2.06.94zm10 10l.94 2.06.94-2.06 2.06-.94-2.06-.94-.94-2.06-.94 2.06-2.06.94z\"/><path d=\"M17.41 7.96l-1.37-1.37c-.4-.4-.92-.59-1.43-.59-.52 0-1.04.2-1.43.59L10.3 9.45l-7.72 7.72c-.78.78-.78 2.05 0 2.83L4 21.41c.39.39.9.59 1.41.59.51 0 1.02-.2 1.41-.59l7.78-7.78 2.81-2.81c.8-.78.8-2.07 0-2.86zM5.41 20L4 18.59l7.72-7.72 1.47 1.35L5.41 20z\"/>\n",
              "  </svg>\n",
              "      </button>\n",
              "      \n",
              "  <style>\n",
              "    .colab-df-container {\n",
              "      display:flex;\n",
              "      flex-wrap:wrap;\n",
              "      gap: 12px;\n",
              "    }\n",
              "\n",
              "    .colab-df-convert {\n",
              "      background-color: #E8F0FE;\n",
              "      border: none;\n",
              "      border-radius: 50%;\n",
              "      cursor: pointer;\n",
              "      display: none;\n",
              "      fill: #1967D2;\n",
              "      height: 32px;\n",
              "      padding: 0 0 0 0;\n",
              "      width: 32px;\n",
              "    }\n",
              "\n",
              "    .colab-df-convert:hover {\n",
              "      background-color: #E2EBFA;\n",
              "      box-shadow: 0px 1px 2px rgba(60, 64, 67, 0.3), 0px 1px 3px 1px rgba(60, 64, 67, 0.15);\n",
              "      fill: #174EA6;\n",
              "    }\n",
              "\n",
              "    [theme=dark] .colab-df-convert {\n",
              "      background-color: #3B4455;\n",
              "      fill: #D2E3FC;\n",
              "    }\n",
              "\n",
              "    [theme=dark] .colab-df-convert:hover {\n",
              "      background-color: #434B5C;\n",
              "      box-shadow: 0px 1px 3px 1px rgba(0, 0, 0, 0.15);\n",
              "      filter: drop-shadow(0px 1px 2px rgba(0, 0, 0, 0.3));\n",
              "      fill: #FFFFFF;\n",
              "    }\n",
              "  </style>\n",
              "\n",
              "      <script>\n",
              "        const buttonEl =\n",
              "          document.querySelector('#df-99dfac71-64f9-4177-a600-f3b0452aef87 button.colab-df-convert');\n",
              "        buttonEl.style.display =\n",
              "          google.colab.kernel.accessAllowed ? 'block' : 'none';\n",
              "\n",
              "        async function convertToInteractive(key) {\n",
              "          const element = document.querySelector('#df-99dfac71-64f9-4177-a600-f3b0452aef87');\n",
              "          const dataTable =\n",
              "            await google.colab.kernel.invokeFunction('convertToInteractive',\n",
              "                                                     [key], {});\n",
              "          if (!dataTable) return;\n",
              "\n",
              "          const docLinkHtml = 'Like what you see? Visit the ' +\n",
              "            '<a target=\"_blank\" href=https://colab.research.google.com/notebooks/data_table.ipynb>data table notebook</a>'\n",
              "            + ' to learn more about interactive tables.';\n",
              "          element.innerHTML = '';\n",
              "          dataTable['output_type'] = 'display_data';\n",
              "          await google.colab.output.renderOutput(dataTable, element);\n",
              "          const docLink = document.createElement('div');\n",
              "          docLink.innerHTML = docLinkHtml;\n",
              "          element.appendChild(docLink);\n",
              "        }\n",
              "      </script>\n",
              "    </div>\n",
              "  </div>\n",
              "  "
            ]
          },
          "metadata": {},
          "execution_count": 41
        }
      ]
    },
    {
      "cell_type": "code",
      "source": [
        "import matplotlib.pyplot as plt\n",
        "\n",
        "fig = plt.figure(figsize=(12, 5))\n",
        "\n",
        "for i, row in df_misclassified.sample(n=10).reset_index(drop=True).iterrows():\n",
        "    ax = plt.subplot(2, 5, i+1)\n",
        "    plt.axis('off')\n",
        "\n",
        "    img = row['data']\n",
        "    img = (img - img.min()) / (img.max() - img.min())\n",
        "    img = np.moveaxis(img * 255, [0, 1, 2], [2, 0, 1])\n",
        "    plt.imshow(img.astype(int), cmap='jet')\n",
        "\n",
        "    ax.set_title(f\"actual: {labels[row['actual']]} \\n predicted: {labels[row['pred']]}\")\n",
        "\n",
        "plt.show()\n",
        "plt.savefig('failed_bn.jpg')"
      ],
      "metadata": {
        "colab": {
          "base_uri": "https://localhost:8080/",
          "height": 467
        },
        "id": "DWhMj9tcmuG-",
        "outputId": "7a51f178-fd90-4d25-bffb-8cb73dfdfe0d"
      },
      "execution_count": 68,
      "outputs": [
        {
          "output_type": "display_data",
          "data": {
            "text/plain": [
              "<Figure size 1200x500 with 10 Axes>"
            ],
            "image/png": "[encoded data removed]"
          },
          "metadata": {}
        },
        {
          "output_type": "display_data",
          "data": {
            "text/plain": [
              "<Figure size 640x480 with 0 Axes>"
            ]
          },
          "metadata": {}
        }
      ]
    },
    {
      "cell_type": "markdown",
      "source": [
        "## Display Results"
      ],
      "metadata": {
        "id": "xVXP0fKFzj1Z"
      }
    },
    {
      "cell_type": "code",
      "source": [
        "df = pd.DataFrame({'train_losses': metrics['train_losses'], 'test_losses': metrics['test_losses']})"
      ],
      "metadata": {
        "id": "qBXxW_lx4rM6"
      },
      "execution_count": 65,
      "outputs": []
    },
    {
      "cell_type": "code",
      "source": [
        "df.plot()"
      ],
      "metadata": {
        "colab": {
          "base_uri": "https://localhost:8080/",
          "height": 542
        },
        "id": "wEXQxw4wTjHN",
        "outputId": "33fd5478-ed98-4d90-9896-7bce87195b18"
      },
      "execution_count": 66,
      "outputs": [
        {
          "output_type": "display_data",
          "data": {
            "text/html": [
              "<html>\n",
              "<head><meta charset=\"utf-8\" /></head>\n",
              "<body>\n",
              "    <div>            <script src=\"https://cdnjs.cloudflare.com/ajax/libs/mathjax/2.7.5/MathJax.js?config=TeX-AMS-MML_SVG\"></script><script type=\"text/javascript\">if (window.MathJax && window.MathJax.Hub && window.MathJax.Hub.Config) {window.MathJax.Hub.Config({SVG: {font: \"STIX-Web\"}});}</script>                <script type=\"text/javascript\">window.PlotlyConfig = {MathJaxConfig: 'local'};</script>\n",
              "        <script src=\"https://cdn.plot.ly/plotly-2.18.2.min.js\"></script>                <div id=\"58128bc1-f5a7-4b69-9f60-c91f8c572dfd\" class=\"plotly-graph-div\" style=\"height:525px; width:100%;\"></div>            <script type=\"text/javascript\">                                    window.PLOTLYENV=window.PLOTLYENV || {};                                    if (document.getElementById(\"58128bc1-f5a7-4b69-9f60-c91f8c572dfd\")) {                    Plotly.newPlot(                        \"58128bc1-f5a7-4b69-9f60-c91f8c572dfd\",                        [{\"hovertemplate\":\"variable=train_losses<br>index=%{x}<br>value=%{y}<extra></extra>\",\"legendgroup\":\"train_losses\",\"line\":{\"color\":\"#636efa\",\"dash\":\"solid\"},\"marker\":{\"symbol\":\"circle\"},\"mode\":\"lines\",\"name\":\"train_losses\",\"orientation\":\"v\",\"showlegend\":true,\"x\":[0,1,2,3,4,5,6,7,8,9,10,11,12,13,14,15,16,17,18,19],\"xaxis\":\"x\",\"y\":[1.6434335751301796,1.3578754111629008,1.2274509287246353,1.1514684827736272,1.0876901011027948,1.0403729681773564,0.9354497409232742,0.9049104325606695,0.8926246840020885,0.8894366320136868,0.8811506776858473,0.873475601910935,0.8612447376446346,0.8550105715346763,0.8569143214798949,0.8547121755912176,0.8512579705709081,0.859138502641712,0.8514295686846194,0.8489967612049464],\"yaxis\":\"y\",\"type\":\"scatter\"},{\"hovertemplate\":\"variable=test_losses<br>index=%{x}<br>value=%{y}<extra></extra>\",\"legendgroup\":\"test_losses\",\"line\":{\"color\":\"#EF553B\",\"dash\":\"solid\"},\"marker\":{\"symbol\":\"circle\"},\"mode\":\"lines\",\"name\":\"test_losses\",\"orientation\":\"v\",\"showlegend\":true,\"x\":[0,1,2,3,4,5,6,7,8,9,10,11,12,13,14,15,16,17,18,19],\"xaxis\":\"x\",\"y\":[1.3515227544784545,1.2057645065307616,1.0332171976089477,0.9600648771286011,0.9270186731338501,0.8829951082229615,0.7764384197235108,0.7640623193740844,0.7645481392860413,0.7570631937980652,0.7541838478088378,0.7374366142272949,0.7339591074943542,0.7281677883148193,0.7298151793479919,0.7296991857528686,0.7308237671852111,0.732052363204956,0.7308029216766357,0.7295864608764648],\"yaxis\":\"y\",\"type\":\"scatter\"}],                        {\"template\":{\"data\":{\"histogram2dcontour\":[{\"type\":\"histogram2dcontour\",\"colorbar\":{\"outlinewidth\":0,\"ticks\":\"\"},\"colorscale\":[[0.0,\"#0d0887\"],[0.1111111111111111,\"#46039f\"],[0.2222222222222222,\"#7201a8\"],[0.3333333333333333,\"#9c179e\"],[0.4444444444444444,\"#bd3786\"],[0.5555555555555556,\"#d8576b\"],[0.6666666666666666,\"#ed7953\"],[0.7777777777777778,\"#fb9f3a\"],[0.8888888888888888,\"#fdca26\"],[1.0,\"#f0f921\"]]}],\"choropleth\":[{\"type\":\"choropleth\",\"colorbar\":{\"outlinewidth\":0,\"ticks\":\"\"}}],\"histogram2d\":[{\"type\":\"histogram2d\",\"colorbar\":{\"outlinewidth\":0,\"ticks\":\"\"},\"colorscale\":[[0.0,\"#0d0887\"],[0.1111111111111111,\"#46039f\"],[0.2222222222222222,\"#7201a8\"],[0.3333333333333333,\"#9c179e\"],[0.4444444444444444,\"#bd3786\"],[0.5555555555555556,\"#d8576b\"],[0.6666666666666666,\"#ed7953\"],[0.7777777777777778,\"#fb9f3a\"],[0.8888888888888888,\"#fdca26\"],[1.0,\"#f0f921\"]]}],\"heatmap\":[{\"type\":\"heatmap\",\"colorbar\":{\"outlinewidth\":0,\"ticks\":\"\"},\"colorscale\":[[0.0,\"#0d0887\"],[0.1111111111111111,\"#46039f\"],[0.2222222222222222,\"#7201a8\"],[0.3333333333333333,\"#9c179e\"],[0.4444444444444444,\"#bd3786\"],[0.5555555555555556,\"#d8576b\"],[0.6666666666666666,\"#ed7953\"],[0.7777777777777778,\"#fb9f3a\"],[0.8888888888888888,\"#fdca26\"],[1.0,\"#f0f921\"]]}],\"heatmapgl\":[{\"type\":\"heatmapgl\",\"colorbar\":{\"outlinewidth\":0,\"ticks\":\"\"},\"colorscale\":[[0.0,\"#0d0887\"],[0.1111111111111111,\"#46039f\"],[0.2222222222222222,\"#7201a8\"],[0.3333333333333333,\"#9c179e\"],[0.4444444444444444,\"#bd3786\"],[0.5555555555555556,\"#d8576b\"],[0.6666666666666666,\"#ed7953\"],[0.7777777777777778,\"#fb9f3a\"],[0.8888888888888888,\"#fdca26\"],[1.0,\"#f0f921\"]]}],\"contourcarpet\":[{\"type\":\"contourcarpet\",\"colorbar\":{\"outlinewidth\":0,\"ticks\":\"\"}}],\"contour\":[{\"type\":\"contour\",\"colorbar\":{\"outlinewidth\":0,\"ticks\":\"\"},\"colorscale\":[[0.0,\"#0d0887\"],[0.1111111111111111,\"#46039f\"],[0.2222222222222222,\"#7201a8\"],[0.3333333333333333,\"#9c179e\"],[0.4444444444444444,\"#bd3786\"],[0.5555555555555556,\"#d8576b\"],[0.6666666666666666,\"#ed7953\"],[0.7777777777777778,\"#fb9f3a\"],[0.8888888888888888,\"#fdca26\"],[1.0,\"#f0f921\"]]}],\"surface\":[{\"type\":\"surface\",\"colorbar\":{\"outlinewidth\":0,\"ticks\":\"\"},\"colorscale\":[[0.0,\"#0d0887\"],[0.1111111111111111,\"#46039f\"],[0.2222222222222222,\"#7201a8\"],[0.3333333333333333,\"#9c179e\"],[0.4444444444444444,\"#bd3786\"],[0.5555555555555556,\"#d8576b\"],[0.6666666666666666,\"#ed7953\"],[0.7777777777777778,\"#fb9f3a\"],[0.8888888888888888,\"#fdca26\"],[1.0,\"#f0f921\"]]}],\"mesh3d\":[{\"type\":\"mesh3d\",\"colorbar\":{\"outlinewidth\":0,\"ticks\":\"\"}}],\"scatter\":[{\"fillpattern\":{\"fillmode\":\"overlay\",\"size\":10,\"solidity\":0.2},\"type\":\"scatter\"}],\"parcoords\":[{\"type\":\"parcoords\",\"line\":{\"colorbar\":{\"outlinewidth\":0,\"ticks\":\"\"}}}],\"scatterpolargl\":[{\"type\":\"scatterpolargl\",\"marker\":{\"colorbar\":{\"outlinewidth\":0,\"ticks\":\"\"}}}],\"bar\":[{\"error_x\":{\"color\":\"#2a3f5f\"},\"error_y\":{\"color\":\"#2a3f5f\"},\"marker\":{\"line\":{\"color\":\"#E5ECF6\",\"width\":0.5},\"pattern\":{\"fillmode\":\"overlay\",\"size\":10,\"solidity\":0.2}},\"type\":\"bar\"}],\"scattergeo\":[{\"type\":\"scattergeo\",\"marker\":{\"colorbar\":{\"outlinewidth\":0,\"ticks\":\"\"}}}],\"scatterpolar\":[{\"type\":\"scatterpolar\",\"marker\":{\"colorbar\":{\"outlinewidth\":0,\"ticks\":\"\"}}}],\"histogram\":[{\"marker\":{\"pattern\":{\"fillmode\":\"overlay\",\"size\":10,\"solidity\":0.2}},\"type\":\"histogram\"}],\"scattergl\":[{\"type\":\"scattergl\",\"marker\":{\"colorbar\":{\"outlinewidth\":0,\"ticks\":\"\"}}}],\"scatter3d\":[{\"type\":\"scatter3d\",\"line\":{\"colorbar\":{\"outlinewidth\":0,\"ticks\":\"\"}},\"marker\":{\"colorbar\":{\"outlinewidth\":0,\"ticks\":\"\"}}}],\"scattermapbox\":[{\"type\":\"scattermapbox\",\"marker\":{\"colorbar\":{\"outlinewidth\":0,\"ticks\":\"\"}}}],\"scatterternary\":[{\"type\":\"scatterternary\",\"marker\":{\"colorbar\":{\"outlinewidth\":0,\"ticks\":\"\"}}}],\"scattercarpet\":[{\"type\":\"scattercarpet\",\"marker\":{\"colorbar\":{\"outlinewidth\":0,\"ticks\":\"\"}}}],\"carpet\":[{\"aaxis\":{\"endlinecolor\":\"#2a3f5f\",\"gridcolor\":\"white\",\"linecolor\":\"white\",\"minorgridcolor\":\"white\",\"startlinecolor\":\"#2a3f5f\"},\"baxis\":{\"endlinecolor\":\"#2a3f5f\",\"gridcolor\":\"white\",\"linecolor\":\"white\",\"minorgridcolor\":\"white\",\"startlinecolor\":\"#2a3f5f\"},\"type\":\"carpet\"}],\"table\":[{\"cells\":{\"fill\":{\"color\":\"#EBF0F8\"},\"line\":{\"color\":\"white\"}},\"header\":{\"fill\":{\"color\":\"#C8D4E3\"},\"line\":{\"color\":\"white\"}},\"type\":\"table\"}],\"barpolar\":[{\"marker\":{\"line\":{\"color\":\"#E5ECF6\",\"width\":0.5},\"pattern\":{\"fillmode\":\"overlay\",\"size\":10,\"solidity\":0.2}},\"type\":\"barpolar\"}],\"pie\":[{\"automargin\":true,\"type\":\"pie\"}]},\"layout\":{\"autotypenumbers\":\"strict\",\"colorway\":[\"#636efa\",\"#EF553B\",\"#00cc96\",\"#ab63fa\",\"#FFA15A\",\"#19d3f3\",\"#FF6692\",\"#B6E880\",\"#FF97FF\",\"#FECB52\"],\"font\":{\"color\":\"#2a3f5f\"},\"hovermode\":\"closest\",\"hoverlabel\":{\"align\":\"left\"},\"paper_bgcolor\":\"white\",\"plot_bgcolor\":\"#E5ECF6\",\"polar\":{\"bgcolor\":\"#E5ECF6\",\"angularaxis\":{\"gridcolor\":\"white\",\"linecolor\":\"white\",\"ticks\":\"\"},\"radialaxis\":{\"gridcolor\":\"white\",\"linecolor\":\"white\",\"ticks\":\"\"}},\"ternary\":{\"bgcolor\":\"#E5ECF6\",\"aaxis\":{\"gridcolor\":\"white\",\"linecolor\":\"white\",\"ticks\":\"\"},\"baxis\":{\"gridcolor\":\"white\",\"linecolor\":\"white\",\"ticks\":\"\"},\"caxis\":{\"gridcolor\":\"white\",\"linecolor\":\"white\",\"ticks\":\"\"}},\"coloraxis\":{\"colorbar\":{\"outlinewidth\":0,\"ticks\":\"\"}},\"colorscale\":{\"sequential\":[[0.0,\"#0d0887\"],[0.1111111111111111,\"#46039f\"],[0.2222222222222222,\"#7201a8\"],[0.3333333333333333,\"#9c179e\"],[0.4444444444444444,\"#bd3786\"],[0.5555555555555556,\"#d8576b\"],[0.6666666666666666,\"#ed7953\"],[0.7777777777777778,\"#fb9f3a\"],[0.8888888888888888,\"#fdca26\"],[1.0,\"#f0f921\"]],\"sequentialminus\":[[0.0,\"#0d0887\"],[0.1111111111111111,\"#46039f\"],[0.2222222222222222,\"#7201a8\"],[0.3333333333333333,\"#9c179e\"],[0.4444444444444444,\"#bd3786\"],[0.5555555555555556,\"#d8576b\"],[0.6666666666666666,\"#ed7953\"],[0.7777777777777778,\"#fb9f3a\"],[0.8888888888888888,\"#fdca26\"],[1.0,\"#f0f921\"]],\"diverging\":[[0,\"#8e0152\"],[0.1,\"#c51b7d\"],[0.2,\"#de77ae\"],[0.3,\"#f1b6da\"],[0.4,\"#fde0ef\"],[0.5,\"#f7f7f7\"],[0.6,\"#e6f5d0\"],[0.7,\"#b8e186\"],[0.8,\"#7fbc41\"],[0.9,\"#4d9221\"],[1,\"#276419\"]]},\"xaxis\":{\"gridcolor\":\"white\",\"linecolor\":\"white\",\"ticks\":\"\",\"title\":{\"standoff\":15},\"zerolinecolor\":\"white\",\"automargin\":true,\"zerolinewidth\":2},\"yaxis\":{\"gridcolor\":\"white\",\"linecolor\":\"white\",\"ticks\":\"\",\"title\":{\"standoff\":15},\"zerolinecolor\":\"white\",\"automargin\":true,\"zerolinewidth\":2},\"scene\":{\"xaxis\":{\"backgroundcolor\":\"#E5ECF6\",\"gridcolor\":\"white\",\"linecolor\":\"white\",\"showbackground\":true,\"ticks\":\"\",\"zerolinecolor\":\"white\",\"gridwidth\":2},\"yaxis\":{\"backgroundcolor\":\"#E5ECF6\",\"gridcolor\":\"white\",\"linecolor\":\"white\",\"showbackground\":true,\"ticks\":\"\",\"zerolinecolor\":\"white\",\"gridwidth\":2},\"zaxis\":{\"backgroundcolor\":\"#E5ECF6\",\"gridcolor\":\"white\",\"linecolor\":\"white\",\"showbackground\":true,\"ticks\":\"\",\"zerolinecolor\":\"white\",\"gridwidth\":2}},\"shapedefaults\":{\"line\":{\"color\":\"#2a3f5f\"}},\"annotationdefaults\":{\"arrowcolor\":\"#2a3f5f\",\"arrowhead\":0,\"arrowwidth\":1},\"geo\":{\"bgcolor\":\"white\",\"landcolor\":\"#E5ECF6\",\"subunitcolor\":\"white\",\"showland\":true,\"showlakes\":true,\"lakecolor\":\"white\"},\"title\":{\"x\":0.05},\"mapbox\":{\"style\":\"light\"}}},\"xaxis\":{\"anchor\":\"y\",\"domain\":[0.0,1.0],\"title\":{\"text\":\"index\"}},\"yaxis\":{\"anchor\":\"x\",\"domain\":[0.0,1.0],\"title\":{\"text\":\"value\"}},\"legend\":{\"title\":{\"text\":\"variable\"},\"tracegroupgap\":0},\"margin\":{\"t\":60}},                        {\"responsive\": true}                    ).then(function(){\n",
              "                            \n",
              "var gd = document.getElementById('58128bc1-f5a7-4b69-9f60-c91f8c572dfd');\n",
              "var x = new MutationObserver(function (mutations, observer) {{\n",
              "        var display = window.getComputedStyle(gd).display;\n",
              "        if (!display || display === 'none') {{\n",
              "            console.log([gd, 'removed!']);\n",
              "            Plotly.purge(gd);\n",
              "            observer.disconnect();\n",
              "        }}\n",
              "}});\n",
              "\n",
              "// Listen for the removal of the full notebook cells\n",
              "var notebookContainer = gd.closest('#notebook-container');\n",
              "if (notebookContainer) {{\n",
              "    x.observe(notebookContainer, {childList: true});\n",
              "}}\n",
              "\n",
              "// Listen for the clearing of the current output cell\n",
              "var outputEl = gd.closest('.output');\n",
              "if (outputEl) {{\n",
              "    x.observe(outputEl, {childList: true});\n",
              "}}\n",
              "\n",
              "                        })                };                            </script>        </div>\n",
              "</body>\n",
              "</html>"
            ]
          },
          "metadata": {}
        }
      ]
    },
    {
      "cell_type": "code",
      "source": [
        "df = pd.DataFrame({'train_acc': metrics['train_acc'], 'test_acc': metrics['test_acc']})\n",
        "df.plot()"
      ],
      "metadata": {
        "colab": {
          "base_uri": "https://localhost:8080/",
          "height": 542
        },
        "id": "If8i_k7bTuWo",
        "outputId": "01c201cf-c0f7-49f1-ad90-c00dc3bfe049"
      },
      "execution_count": 67,
      "outputs": [
        {
          "output_type": "display_data",
          "data": {
            "text/html": [
              "<html>\n",
              "<head><meta charset=\"utf-8\" /></head>\n",
              "<body>\n",
              "    <div>            <script src=\"https://cdnjs.cloudflare.com/ajax/libs/mathjax/2.7.5/MathJax.js?config=TeX-AMS-MML_SVG\"></script><script type=\"text/javascript\">if (window.MathJax && window.MathJax.Hub && window.MathJax.Hub.Config) {window.MathJax.Hub.Config({SVG: {font: \"STIX-Web\"}});}</script>                <script type=\"text/javascript\">window.PlotlyConfig = {MathJaxConfig: 'local'};</script>\n",
              "        <script src=\"https://cdn.plot.ly/plotly-2.18.2.min.js\"></script>                <div id=\"dea761f6-2caf-4339-8ca4-8f1435f9db60\" class=\"plotly-graph-div\" style=\"height:525px; width:100%;\"></div>            <script type=\"text/javascript\">                                    window.PLOTLYENV=window.PLOTLYENV || {};                                    if (document.getElementById(\"dea761f6-2caf-4339-8ca4-8f1435f9db60\")) {                    Plotly.newPlot(                        \"dea761f6-2caf-4339-8ca4-8f1435f9db60\",                        [{\"hovertemplate\":\"variable=train_acc<br>index=%{x}<br>value=%{y}<extra></extra>\",\"legendgroup\":\"train_acc\",\"line\":{\"color\":\"#636efa\",\"dash\":\"solid\"},\"marker\":{\"symbol\":\"circle\"},\"mode\":\"lines\",\"name\":\"train_acc\",\"orientation\":\"v\",\"showlegend\":true,\"x\":[0,1,2,3,4,5,6,7,8,9,10,11,12,13,14,15,16,17,18,19],\"xaxis\":\"x\",\"y\":[39.642,50.452,55.576,58.582,60.842,62.816,66.926,67.622,68.146,68.446,68.534,68.97,69.428,69.562,69.604,69.53,69.918,69.524,69.592,70.024],\"yaxis\":\"y\",\"type\":\"scatter\"},{\"hovertemplate\":\"variable=test_acc<br>index=%{x}<br>value=%{y}<extra></extra>\",\"legendgroup\":\"test_acc\",\"line\":{\"color\":\"#EF553B\",\"dash\":\"solid\"},\"marker\":{\"symbol\":\"circle\"},\"mode\":\"lines\",\"name\":\"test_acc\",\"orientation\":\"v\",\"showlegend\":true,\"x\":[0,1,2,3,4,5,6,7,8,9,10,11,12,13,14,15,16,17,18,19],\"xaxis\":\"x\",\"y\":[48.86,56.02,63.32,65.79,66.95,68.7,72.69,72.95,72.97,73.33,73.27,73.87,73.94,74.22,73.98,74.1,73.96,74.1,73.91,74.08],\"yaxis\":\"y\",\"type\":\"scatter\"}],                        {\"template\":{\"data\":{\"histogram2dcontour\":[{\"type\":\"histogram2dcontour\",\"colorbar\":{\"outlinewidth\":0,\"ticks\":\"\"},\"colorscale\":[[0.0,\"#0d0887\"],[0.1111111111111111,\"#46039f\"],[0.2222222222222222,\"#7201a8\"],[0.3333333333333333,\"#9c179e\"],[0.4444444444444444,\"#bd3786\"],[0.5555555555555556,\"#d8576b\"],[0.6666666666666666,\"#ed7953\"],[0.7777777777777778,\"#fb9f3a\"],[0.8888888888888888,\"#fdca26\"],[1.0,\"#f0f921\"]]}],\"choropleth\":[{\"type\":\"choropleth\",\"colorbar\":{\"outlinewidth\":0,\"ticks\":\"\"}}],\"histogram2d\":[{\"type\":\"histogram2d\",\"colorbar\":{\"outlinewidth\":0,\"ticks\":\"\"},\"colorscale\":[[0.0,\"#0d0887\"],[0.1111111111111111,\"#46039f\"],[0.2222222222222222,\"#7201a8\"],[0.3333333333333333,\"#9c179e\"],[0.4444444444444444,\"#bd3786\"],[0.5555555555555556,\"#d8576b\"],[0.6666666666666666,\"#ed7953\"],[0.7777777777777778,\"#fb9f3a\"],[0.8888888888888888,\"#fdca26\"],[1.0,\"#f0f921\"]]}],\"heatmap\":[{\"type\":\"heatmap\",\"colorbar\":{\"outlinewidth\":0,\"ticks\":\"\"},\"colorscale\":[[0.0,\"#0d0887\"],[0.1111111111111111,\"#46039f\"],[0.2222222222222222,\"#7201a8\"],[0.3333333333333333,\"#9c179e\"],[0.4444444444444444,\"#bd3786\"],[0.5555555555555556,\"#d8576b\"],[0.6666666666666666,\"#ed7953\"],[0.7777777777777778,\"#fb9f3a\"],[0.8888888888888888,\"#fdca26\"],[1.0,\"#f0f921\"]]}],\"heatmapgl\":[{\"type\":\"heatmapgl\",\"colorbar\":{\"outlinewidth\":0,\"ticks\":\"\"},\"colorscale\":[[0.0,\"#0d0887\"],[0.1111111111111111,\"#46039f\"],[0.2222222222222222,\"#7201a8\"],[0.3333333333333333,\"#9c179e\"],[0.4444444444444444,\"#bd3786\"],[0.5555555555555556,\"#d8576b\"],[0.6666666666666666,\"#ed7953\"],[0.7777777777777778,\"#fb9f3a\"],[0.8888888888888888,\"#fdca26\"],[1.0,\"#f0f921\"]]}],\"contourcarpet\":[{\"type\":\"contourcarpet\",\"colorbar\":{\"outlinewidth\":0,\"ticks\":\"\"}}],\"contour\":[{\"type\":\"contour\",\"colorbar\":{\"outlinewidth\":0,\"ticks\":\"\"},\"colorscale\":[[0.0,\"#0d0887\"],[0.1111111111111111,\"#46039f\"],[0.2222222222222222,\"#7201a8\"],[0.3333333333333333,\"#9c179e\"],[0.4444444444444444,\"#bd3786\"],[0.5555555555555556,\"#d8576b\"],[0.6666666666666666,\"#ed7953\"],[0.7777777777777778,\"#fb9f3a\"],[0.8888888888888888,\"#fdca26\"],[1.0,\"#f0f921\"]]}],\"surface\":[{\"type\":\"surface\",\"colorbar\":{\"outlinewidth\":0,\"ticks\":\"\"},\"colorscale\":[[0.0,\"#0d0887\"],[0.1111111111111111,\"#46039f\"],[0.2222222222222222,\"#7201a8\"],[0.3333333333333333,\"#9c179e\"],[0.4444444444444444,\"#bd3786\"],[0.5555555555555556,\"#d8576b\"],[0.6666666666666666,\"#ed7953\"],[0.7777777777777778,\"#fb9f3a\"],[0.8888888888888888,\"#fdca26\"],[1.0,\"#f0f921\"]]}],\"mesh3d\":[{\"type\":\"mesh3d\",\"colorbar\":{\"outlinewidth\":0,\"ticks\":\"\"}}],\"scatter\":[{\"fillpattern\":{\"fillmode\":\"overlay\",\"size\":10,\"solidity\":0.2},\"type\":\"scatter\"}],\"parcoords\":[{\"type\":\"parcoords\",\"line\":{\"colorbar\":{\"outlinewidth\":0,\"ticks\":\"\"}}}],\"scatterpolargl\":[{\"type\":\"scatterpolargl\",\"marker\":{\"colorbar\":{\"outlinewidth\":0,\"ticks\":\"\"}}}],\"bar\":[{\"error_x\":{\"color\":\"#2a3f5f\"},\"error_y\":{\"color\":\"#2a3f5f\"},\"marker\":{\"line\":{\"color\":\"#E5ECF6\",\"width\":0.5},\"pattern\":{\"fillmode\":\"overlay\",\"size\":10,\"solidity\":0.2}},\"type\":\"bar\"}],\"scattergeo\":[{\"type\":\"scattergeo\",\"marker\":{\"colorbar\":{\"outlinewidth\":0,\"ticks\":\"\"}}}],\"scatterpolar\":[{\"type\":\"scatterpolar\",\"marker\":{\"colorbar\":{\"outlinewidth\":0,\"ticks\":\"\"}}}],\"histogram\":[{\"marker\":{\"pattern\":{\"fillmode\":\"overlay\",\"size\":10,\"solidity\":0.2}},\"type\":\"histogram\"}],\"scattergl\":[{\"type\":\"scattergl\",\"marker\":{\"colorbar\":{\"outlinewidth\":0,\"ticks\":\"\"}}}],\"scatter3d\":[{\"type\":\"scatter3d\",\"line\":{\"colorbar\":{\"outlinewidth\":0,\"ticks\":\"\"}},\"marker\":{\"colorbar\":{\"outlinewidth\":0,\"ticks\":\"\"}}}],\"scattermapbox\":[{\"type\":\"scattermapbox\",\"marker\":{\"colorbar\":{\"outlinewidth\":0,\"ticks\":\"\"}}}],\"scatterternary\":[{\"type\":\"scatterternary\",\"marker\":{\"colorbar\":{\"outlinewidth\":0,\"ticks\":\"\"}}}],\"scattercarpet\":[{\"type\":\"scattercarpet\",\"marker\":{\"colorbar\":{\"outlinewidth\":0,\"ticks\":\"\"}}}],\"carpet\":[{\"aaxis\":{\"endlinecolor\":\"#2a3f5f\",\"gridcolor\":\"white\",\"linecolor\":\"white\",\"minorgridcolor\":\"white\",\"startlinecolor\":\"#2a3f5f\"},\"baxis\":{\"endlinecolor\":\"#2a3f5f\",\"gridcolor\":\"white\",\"linecolor\":\"white\",\"minorgridcolor\":\"white\",\"startlinecolor\":\"#2a3f5f\"},\"type\":\"carpet\"}],\"table\":[{\"cells\":{\"fill\":{\"color\":\"#EBF0F8\"},\"line\":{\"color\":\"white\"}},\"header\":{\"fill\":{\"color\":\"#C8D4E3\"},\"line\":{\"color\":\"white\"}},\"type\":\"table\"}],\"barpolar\":[{\"marker\":{\"line\":{\"color\":\"#E5ECF6\",\"width\":0.5},\"pattern\":{\"fillmode\":\"overlay\",\"size\":10,\"solidity\":0.2}},\"type\":\"barpolar\"}],\"pie\":[{\"automargin\":true,\"type\":\"pie\"}]},\"layout\":{\"autotypenumbers\":\"strict\",\"colorway\":[\"#636efa\",\"#EF553B\",\"#00cc96\",\"#ab63fa\",\"#FFA15A\",\"#19d3f3\",\"#FF6692\",\"#B6E880\",\"#FF97FF\",\"#FECB52\"],\"font\":{\"color\":\"#2a3f5f\"},\"hovermode\":\"closest\",\"hoverlabel\":{\"align\":\"left\"},\"paper_bgcolor\":\"white\",\"plot_bgcolor\":\"#E5ECF6\",\"polar\":{\"bgcolor\":\"#E5ECF6\",\"angularaxis\":{\"gridcolor\":\"white\",\"linecolor\":\"white\",\"ticks\":\"\"},\"radialaxis\":{\"gridcolor\":\"white\",\"linecolor\":\"white\",\"ticks\":\"\"}},\"ternary\":{\"bgcolor\":\"#E5ECF6\",\"aaxis\":{\"gridcolor\":\"white\",\"linecolor\":\"white\",\"ticks\":\"\"},\"baxis\":{\"gridcolor\":\"white\",\"linecolor\":\"white\",\"ticks\":\"\"},\"caxis\":{\"gridcolor\":\"white\",\"linecolor\":\"white\",\"ticks\":\"\"}},\"coloraxis\":{\"colorbar\":{\"outlinewidth\":0,\"ticks\":\"\"}},\"colorscale\":{\"sequential\":[[0.0,\"#0d0887\"],[0.1111111111111111,\"#46039f\"],[0.2222222222222222,\"#7201a8\"],[0.3333333333333333,\"#9c179e\"],[0.4444444444444444,\"#bd3786\"],[0.5555555555555556,\"#d8576b\"],[0.6666666666666666,\"#ed7953\"],[0.7777777777777778,\"#fb9f3a\"],[0.8888888888888888,\"#fdca26\"],[1.0,\"#f0f921\"]],\"sequentialminus\":[[0.0,\"#0d0887\"],[0.1111111111111111,\"#46039f\"],[0.2222222222222222,\"#7201a8\"],[0.3333333333333333,\"#9c179e\"],[0.4444444444444444,\"#bd3786\"],[0.5555555555555556,\"#d8576b\"],[0.6666666666666666,\"#ed7953\"],[0.7777777777777778,\"#fb9f3a\"],[0.8888888888888888,\"#fdca26\"],[1.0,\"#f0f921\"]],\"diverging\":[[0,\"#8e0152\"],[0.1,\"#c51b7d\"],[0.2,\"#de77ae\"],[0.3,\"#f1b6da\"],[0.4,\"#fde0ef\"],[0.5,\"#f7f7f7\"],[0.6,\"#e6f5d0\"],[0.7,\"#b8e186\"],[0.8,\"#7fbc41\"],[0.9,\"#4d9221\"],[1,\"#276419\"]]},\"xaxis\":{\"gridcolor\":\"white\",\"linecolor\":\"white\",\"ticks\":\"\",\"title\":{\"standoff\":15},\"zerolinecolor\":\"white\",\"automargin\":true,\"zerolinewidth\":2},\"yaxis\":{\"gridcolor\":\"white\",\"linecolor\":\"white\",\"ticks\":\"\",\"title\":{\"standoff\":15},\"zerolinecolor\":\"white\",\"automargin\":true,\"zerolinewidth\":2},\"scene\":{\"xaxis\":{\"backgroundcolor\":\"#E5ECF6\",\"gridcolor\":\"white\",\"linecolor\":\"white\",\"showbackground\":true,\"ticks\":\"\",\"zerolinecolor\":\"white\",\"gridwidth\":2},\"yaxis\":{\"backgroundcolor\":\"#E5ECF6\",\"gridcolor\":\"white\",\"linecolor\":\"white\",\"showbackground\":true,\"ticks\":\"\",\"zerolinecolor\":\"white\",\"gridwidth\":2},\"zaxis\":{\"backgroundcolor\":\"#E5ECF6\",\"gridcolor\":\"white\",\"linecolor\":\"white\",\"showbackground\":true,\"ticks\":\"\",\"zerolinecolor\":\"white\",\"gridwidth\":2}},\"shapedefaults\":{\"line\":{\"color\":\"#2a3f5f\"}},\"annotationdefaults\":{\"arrowcolor\":\"#2a3f5f\",\"arrowhead\":0,\"arrowwidth\":1},\"geo\":{\"bgcolor\":\"white\",\"landcolor\":\"#E5ECF6\",\"subunitcolor\":\"white\",\"showland\":true,\"showlakes\":true,\"lakecolor\":\"white\"},\"title\":{\"x\":0.05},\"mapbox\":{\"style\":\"light\"}}},\"xaxis\":{\"anchor\":\"y\",\"domain\":[0.0,1.0],\"title\":{\"text\":\"index\"}},\"yaxis\":{\"anchor\":\"x\",\"domain\":[0.0,1.0],\"title\":{\"text\":\"value\"}},\"legend\":{\"title\":{\"text\":\"variable\"},\"tracegroupgap\":0},\"margin\":{\"t\":60}},                        {\"responsive\": true}                    ).then(function(){\n",
              "                            \n",
              "var gd = document.getElementById('dea761f6-2caf-4339-8ca4-8f1435f9db60');\n",
              "var x = new MutationObserver(function (mutations, observer) {{\n",
              "        var display = window.getComputedStyle(gd).display;\n",
              "        if (!display || display === 'none') {{\n",
              "            console.log([gd, 'removed!']);\n",
              "            Plotly.purge(gd);\n",
              "            observer.disconnect();\n",
              "        }}\n",
              "}});\n",
              "\n",
              "// Listen for the removal of the full notebook cells\n",
              "var notebookContainer = gd.closest('#notebook-container');\n",
              "if (notebookContainer) {{\n",
              "    x.observe(notebookContainer, {childList: true});\n",
              "}}\n",
              "\n",
              "// Listen for the clearing of the current output cell\n",
              "var outputEl = gd.closest('.output');\n",
              "if (outputEl) {{\n",
              "    x.observe(outputEl, {childList: true});\n",
              "}}\n",
              "\n",
              "                        })                };                            </script>        </div>\n",
              "</body>\n",
              "</html>"
            ]
          },
          "metadata": {}
        }
      ]
    }
  ]
}