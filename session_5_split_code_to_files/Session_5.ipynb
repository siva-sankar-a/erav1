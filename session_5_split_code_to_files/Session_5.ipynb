{
  "nbformat": 4,
  "nbformat_minor": 0,
  "metadata": {
    "colab": {
      "provenance": [],
      "gpuType": "T4",
      "collapsed_sections": [
        "mHGXKHJHpMpD",
        "41RCssjDpaJg",
        "m242rqKopkPU"
      ],
      "toc_visible": true,
      "include_colab_link": true
    },
    "kernelspec": {
      "name": "python3",
      "display_name": "Python 3"
    },
    "language_info": {
      "name": "python"
    },
    "accelerator": "GPU",
    "gpuClass": "standard"
  },
  "cells": [
    {
      "cell_type": "markdown",
      "metadata": {
        "id": "view-in-github",
        "colab_type": "text"
      },
      "source": [
        "<a href=\"https://colab.research.google.com/github/siva-sankar-a/erav1/blob/main/session_5_split_code_to_files/Session_5.ipynb\" target=\"_parent\"><img src=\"https://colab.research.google.com/assets/colab-badge.svg\" alt=\"Open In Colab\"/></a>"
      ]
    },
    {
      "cell_type": "markdown",
      "source": [
        "# ERA V1 Session 5\n",
        "## Refer [link](https://github.com/siva-sankar-a/erav1/tree/main/session_5_split_code_to_files) for further documentation"
      ],
      "metadata": {
        "id": "vxvrP2Onom0u"
      }
    },
    {
      "cell_type": "markdown",
      "source": [
        "## Cloning the Github repository\n",
        "## [Session 5](https://github.com/siva-sankar-a/erav1.git)"
      ],
      "metadata": {
        "id": "0D7qh1EynkZJ"
      }
    },
    {
      "cell_type": "code",
      "source": [
        "!git clone https://github.com/siva-sankar-a/erav1.git"
      ],
      "metadata": {
        "colab": {
          "base_uri": "https://localhost:8080/"
        },
        "id": "c75NRuJHmxzV",
        "outputId": "c5540d18-5086-4f17-88e0-48e56f2893df"
      },
      "execution_count": 31,
      "outputs": [
        {
          "output_type": "stream",
          "name": "stdout",
          "text": [
            "Cloning into 'erav1'...\n",
            "remote: Enumerating objects: 26, done.\u001b[K\n",
            "remote: Counting objects: 100% (26/26), done.\u001b[K\n",
            "remote: Compressing objects: 100% (19/19), done.\u001b[K\n",
            "remote: Total 26 (delta 6), reused 16 (delta 3), pack-reused 0\u001b[K\n",
            "Unpacking objects: 100% (26/26), 197.26 KiB | 8.58 MiB/s, done.\n"
          ]
        }
      ]
    },
    {
      "cell_type": "code",
      "source": [
        "%cd /content/erav1"
      ],
      "metadata": {
        "colab": {
          "base_uri": "https://localhost:8080/"
        },
        "id": "_TcPvRRLzL8m",
        "outputId": "b438959f-395d-4b5c-f52f-fe73c9739fa0"
      },
      "execution_count": 47,
      "outputs": [
        {
          "output_type": "stream",
          "name": "stdout",
          "text": [
            "/content/erav1\n"
          ]
        }
      ]
    },
    {
      "cell_type": "code",
      "source": [
        "!git pull"
      ],
      "metadata": {
        "colab": {
          "base_uri": "https://localhost:8080/"
        },
        "id": "rl5OraqvzON6",
        "outputId": "4642a96c-f7b4-4cbc-84c0-b96fd7d4c383"
      },
      "execution_count": 50,
      "outputs": [
        {
          "output_type": "stream",
          "name": "stdout",
          "text": [
            "remote: Enumerating objects: 1, done.\u001b[K\n",
            "remote: Counting objects: 100% (1/1)\u001b[K\rremote: Counting objects: 100% (1/1), done.\u001b[K\n",
            "remote: Total 1 (delta 0), reused 0 (delta 0), pack-reused 0\u001b[K\n",
            "Unpacking objects: 100% (1/1)\rUnpacking objects: 100% (1/1), 651 bytes | 651.00 KiB/s, done.\n",
            "From https://github.com/siva-sankar-a/erav1\n",
            "   d993850..ffe5c02  main       -> origin/main\n",
            "Updating d993850..ffe5c02\n",
            "Fast-forward\n",
            " session_5_split_code_to_files/README.md          | 169 \u001b[32m++++++++++++++++++++++\u001b[m\u001b[31m-\u001b[m\n",
            " session_5_split_code_to_files/colabstructure.png | Bin \u001b[31m0\u001b[m -> \u001b[32m35334\u001b[m bytes\n",
            " session_5_split_code_to_files/model.py           |   2 \u001b[32m+\u001b[m\n",
            " session_5_split_code_to_files/utils.py           |  19 \u001b[32m++\u001b[m\u001b[31m-\u001b[m\n",
            " 4 files changed, 188 insertions(+), 2 deletions(-)\n",
            " create mode 100644 session_5_split_code_to_files/colabstructure.png\n"
          ]
        }
      ]
    },
    {
      "cell_type": "markdown",
      "source": [
        "## Adding the session folder to path in order to access the functions defined"
      ],
      "metadata": {
        "id": "kn9Duybtn916"
      }
    },
    {
      "cell_type": "code",
      "source": [
        "%load_ext autoreload\n",
        "%autoreload 2"
      ],
      "metadata": {
        "colab": {
          "base_uri": "https://localhost:8080/"
        },
        "id": "VZHmptkFtQLs",
        "outputId": "68ae48b6-f8a3-4259-9c55-d79ec4d9314d"
      },
      "execution_count": 33,
      "outputs": [
        {
          "output_type": "stream",
          "name": "stdout",
          "text": [
            "The autoreload extension is already loaded. To reload it, use:\n",
            "  %reload_ext autoreload\n"
          ]
        }
      ]
    },
    {
      "cell_type": "code",
      "source": [
        "import os\n",
        "import sys"
      ],
      "metadata": {
        "id": "etBGZdEBnLgi"
      },
      "execution_count": 5,
      "outputs": []
    },
    {
      "cell_type": "code",
      "source": [
        "sys.path.append('/content/erav1/session_5_split_code_to_files')"
      ],
      "metadata": {
        "id": "dmlfbkJ5nQF0"
      },
      "execution_count": 6,
      "outputs": []
    },
    {
      "cell_type": "code",
      "source": [
        "import importlib"
      ],
      "metadata": {
        "id": "hYq-JprOx5C5"
      },
      "execution_count": 39,
      "outputs": []
    },
    {
      "cell_type": "code",
      "source": [
        "import utils as U\n",
        "from model import Net"
      ],
      "metadata": {
        "id": "fcdNScH6ndwQ"
      },
      "execution_count": 40,
      "outputs": []
    },
    {
      "cell_type": "code",
      "source": [
        "U = importlib.reload(U)"
      ],
      "metadata": {
        "id": "1eZpnItfx7Ua"
      },
      "execution_count": 51,
      "outputs": []
    },
    {
      "cell_type": "markdown",
      "source": [
        "## Get device"
      ],
      "metadata": {
        "id": "JXU1Lk2JoQTu"
      }
    },
    {
      "cell_type": "code",
      "source": [
        "device = U.get_device()\n",
        "print(device)"
      ],
      "metadata": {
        "colab": {
          "base_uri": "https://localhost:8080/"
        },
        "id": "82LKarofoL7z",
        "outputId": "f0b8ac6b-9ff5-4b4b-8d93-5340da44d830"
      },
      "execution_count": 8,
      "outputs": [
        {
          "output_type": "stream",
          "name": "stdout",
          "text": [
            "CUDA Available? True\n",
            "cuda\n"
          ]
        }
      ]
    },
    {
      "cell_type": "markdown",
      "source": [
        "## Get train and test transforms"
      ],
      "metadata": {
        "id": "0Lvm6vCjoXrw"
      }
    },
    {
      "cell_type": "code",
      "source": [
        "train_transforms = U.get_train_transforms()\n",
        "test_transforms = U.get_test_transforms()"
      ],
      "metadata": {
        "id": "TCqAEH39oiVI"
      },
      "execution_count": 9,
      "outputs": []
    },
    {
      "cell_type": "markdown",
      "source": [
        "## Get dataset"
      ],
      "metadata": {
        "id": "l-tMVwqzpDD4"
      }
    },
    {
      "cell_type": "code",
      "source": [
        "train_dataset = U.get_train_dataset(train_transforms)\n",
        "test_dataset = U.get_test_dataset(test_transforms)"
      ],
      "metadata": {
        "colab": {
          "base_uri": "https://localhost:8080/"
        },
        "id": "x0EKJeSvpHMc",
        "outputId": "9ed7aa0d-d413-43ae-f875-75b2c5987ead"
      },
      "execution_count": 10,
      "outputs": [
        {
          "output_type": "stream",
          "name": "stdout",
          "text": [
            "Downloading http://yann.lecun.com/exdb/mnist/train-images-idx3-ubyte.gz\n",
            "Downloading http://yann.lecun.com/exdb/mnist/train-images-idx3-ubyte.gz to ../data/MNIST/raw/train-images-idx3-ubyte.gz\n"
          ]
        },
        {
          "output_type": "stream",
          "name": "stderr",
          "text": [
            "100%|██████████| 9912422/9912422 [00:00<00:00, 173461967.29it/s]"
          ]
        },
        {
          "output_type": "stream",
          "name": "stdout",
          "text": [
            "Extracting ../data/MNIST/raw/train-images-idx3-ubyte.gz to ../data/MNIST/raw\n"
          ]
        },
        {
          "output_type": "stream",
          "name": "stderr",
          "text": [
            "\n"
          ]
        },
        {
          "output_type": "stream",
          "name": "stdout",
          "text": [
            "\n",
            "Downloading http://yann.lecun.com/exdb/mnist/train-labels-idx1-ubyte.gz\n",
            "Downloading http://yann.lecun.com/exdb/mnist/train-labels-idx1-ubyte.gz to ../data/MNIST/raw/train-labels-idx1-ubyte.gz\n"
          ]
        },
        {
          "output_type": "stream",
          "name": "stderr",
          "text": [
            "100%|██████████| 28881/28881 [00:00<00:00, 135196086.86it/s]\n"
          ]
        },
        {
          "output_type": "stream",
          "name": "stdout",
          "text": [
            "Extracting ../data/MNIST/raw/train-labels-idx1-ubyte.gz to ../data/MNIST/raw\n",
            "\n",
            "Downloading http://yann.lecun.com/exdb/mnist/t10k-images-idx3-ubyte.gz\n",
            "Downloading http://yann.lecun.com/exdb/mnist/t10k-images-idx3-ubyte.gz to ../data/MNIST/raw/t10k-images-idx3-ubyte.gz\n"
          ]
        },
        {
          "output_type": "stream",
          "name": "stderr",
          "text": [
            "100%|██████████| 1648877/1648877 [00:00<00:00, 109231629.60it/s]"
          ]
        },
        {
          "output_type": "stream",
          "name": "stdout",
          "text": [
            "Extracting ../data/MNIST/raw/t10k-images-idx3-ubyte.gz to ../data/MNIST/raw\n",
            "\n",
            "Downloading http://yann.lecun.com/exdb/mnist/t10k-labels-idx1-ubyte.gz\n",
            "Downloading http://yann.lecun.com/exdb/mnist/t10k-labels-idx1-ubyte.gz to ../data/MNIST/raw/t10k-labels-idx1-ubyte.gz\n"
          ]
        },
        {
          "output_type": "stream",
          "name": "stderr",
          "text": [
            "\n",
            "100%|██████████| 4542/4542 [00:00<00:00, 8127358.69it/s]\n"
          ]
        },
        {
          "output_type": "stream",
          "name": "stdout",
          "text": [
            "Extracting ../data/MNIST/raw/t10k-labels-idx1-ubyte.gz to ../data/MNIST/raw\n",
            "\n"
          ]
        }
      ]
    },
    {
      "cell_type": "markdown",
      "source": [
        "## Get train and test dataloader"
      ],
      "metadata": {
        "id": "mHGXKHJHpMpD"
      }
    },
    {
      "cell_type": "code",
      "source": [
        "batch_size = 512\n",
        "kwargs = {'batch_size': batch_size, 'shuffle': True, 'num_workers': 2, 'pin_memory': True}\n",
        "\n",
        "train_dataloader = U.get_train_dataloader(train_dataset, **kwargs)\n",
        "test_dataloader = U.get_test_dataloader(test_dataset, **kwargs)"
      ],
      "metadata": {
        "id": "bKV3bOKbpKpQ"
      },
      "execution_count": 11,
      "outputs": []
    },
    {
      "cell_type": "markdown",
      "source": [
        "## Display image grid"
      ],
      "metadata": {
        "id": "41RCssjDpaJg"
      }
    },
    {
      "cell_type": "code",
      "source": [
        "U.show_image_grid(train_dataloader)"
      ],
      "metadata": {
        "colab": {
          "base_uri": "https://localhost:8080/",
          "height": 463
        },
        "id": "VbQ_ujZnpfnA",
        "outputId": "47eb093c-0143-4b34-9433-da1939320be9"
      },
      "execution_count": 12,
      "outputs": [
        {
          "output_type": "display_data",
          "data": {
            "text/plain": [
              "<Figure size 640x480 with 12 Axes>"
            ],
            "image/png": "[encoded data removed]"
          },
          "metadata": {}
        }
      ]
    },
    {
      "cell_type": "markdown",
      "source": [
        "## Generate model summary"
      ],
      "metadata": {
        "id": "m242rqKopkPU"
      }
    },
    {
      "cell_type": "code",
      "source": [
        "model = Net().to('cpu')\n",
        "U.show_summary(model, -1, 'cpu')"
      ],
      "metadata": {
        "colab": {
          "base_uri": "https://localhost:8080/"
        },
        "id": "2W39NavppocP",
        "outputId": "d6a77958-8e93-4b68-aeae-b57d8bfc66bb"
      },
      "execution_count": 15,
      "outputs": [
        {
          "output_type": "stream",
          "name": "stdout",
          "text": [
            "----------------------------------------------------------------\n",
            "        Layer (type)               Output Shape         Param #\n",
            "================================================================\n",
            "            Conv2d-1           [-1, 32, 26, 26]             288\n",
            "            Conv2d-2           [-1, 64, 24, 24]          18,432\n",
            "            Conv2d-3          [-1, 128, 10, 10]          73,728\n",
            "            Conv2d-4            [-1, 256, 8, 8]         294,912\n",
            "            Linear-5                   [-1, 50]         204,800\n",
            "            Linear-6                   [-1, 10]             500\n",
            "================================================================\n",
            "Total params: 592,660\n",
            "Trainable params: 592,660\n",
            "Non-trainable params: 0\n",
            "----------------------------------------------------------------\n",
            "Input size (MB): 0.00\n",
            "Forward/backward pass size (MB): 0.67\n",
            "Params size (MB): 2.26\n",
            "Estimated Total Size (MB): 2.93\n",
            "----------------------------------------------------------------\n"
          ]
        }
      ]
    },
    {
      "cell_type": "markdown",
      "source": [
        "## Training"
      ],
      "metadata": {
        "id": "uiDNSZ6HqPQ4"
      }
    },
    {
      "cell_type": "code",
      "source": [
        "model = Net().to(device)"
      ],
      "metadata": {
        "id": "CfTTgd_zqfpX"
      },
      "execution_count": 18,
      "outputs": []
    },
    {
      "cell_type": "code",
      "source": [
        "import torch.optim as optim"
      ],
      "metadata": {
        "id": "4J9i_cYaqYXR"
      },
      "execution_count": 19,
      "outputs": []
    },
    {
      "cell_type": "code",
      "source": [
        "optimizer = optim.SGD(model.parameters(), lr=0.01, momentum=0.9)\n",
        "scheduler = optim.lr_scheduler.StepLR(optimizer, step_size=15, gamma=0.1, verbose=True)\n",
        "num_epochs = 20\n",
        "\n",
        "metrics = { 'train_acc': [], 'train_losses': [],\n",
        "            'test_acc': [], 'test_losses': [] }\n",
        "\n",
        "for epoch in range(1, num_epochs + 1):\n",
        "    print(f'Epoch {epoch}')\n",
        "    U.train(model, device, train_dataloader, optimizer, metrics)\n",
        "    U.test(model, device, test_dataloader, metrics)\n",
        "    scheduler.step()"
      ],
      "metadata": {
        "colab": {
          "base_uri": "https://localhost:8080/"
        },
        "id": "ffqkmOOrqRzH",
        "outputId": "874bf518-34cd-46c7-aac1-911e22112e44"
      },
      "execution_count": 20,
      "outputs": [
        {
          "output_type": "stream",
          "name": "stdout",
          "text": [
            "Adjusting learning rate of group 0 to 1.0000e-02.\n",
            "Epoch 1\n"
          ]
        },
        {
          "output_type": "stream",
          "name": "stderr",
          "text": [
            "Train: Loss=0.3034 Batch_id=117 Accuracy=52.07: 100%|██████████| 118/118 [00:28<00:00,  4.09it/s]\n"
          ]
        },
        {
          "output_type": "stream",
          "name": "stdout",
          "text": [
            "Test set: Average loss: 0.2712, Accuracy: 9201/10000 (92.01%)\n",
            "\n",
            "Adjusting learning rate of group 0 to 1.0000e-02.\n",
            "Epoch 2\n"
          ]
        },
        {
          "output_type": "stream",
          "name": "stderr",
          "text": [
            "Train: Loss=0.2488 Batch_id=117 Accuracy=93.52: 100%|██████████| 118/118 [00:22<00:00,  5.14it/s]\n"
          ]
        },
        {
          "output_type": "stream",
          "name": "stdout",
          "text": [
            "Test set: Average loss: 0.0929, Accuracy: 9707/10000 (97.07%)\n",
            "\n",
            "Adjusting learning rate of group 0 to 1.0000e-02.\n",
            "Epoch 3\n"
          ]
        },
        {
          "output_type": "stream",
          "name": "stderr",
          "text": [
            "Train: Loss=0.0261 Batch_id=117 Accuracy=96.05: 100%|██████████| 118/118 [00:22<00:00,  5.19it/s]\n"
          ]
        },
        {
          "output_type": "stream",
          "name": "stdout",
          "text": [
            "Test set: Average loss: 0.0641, Accuracy: 9806/10000 (98.06%)\n",
            "\n",
            "Adjusting learning rate of group 0 to 1.0000e-02.\n",
            "Epoch 4\n"
          ]
        },
        {
          "output_type": "stream",
          "name": "stderr",
          "text": [
            "Train: Loss=0.0152 Batch_id=117 Accuracy=97.03: 100%|██████████| 118/118 [00:23<00:00,  5.13it/s]\n"
          ]
        },
        {
          "output_type": "stream",
          "name": "stdout",
          "text": [
            "Test set: Average loss: 0.0505, Accuracy: 9838/10000 (98.38%)\n",
            "\n",
            "Adjusting learning rate of group 0 to 1.0000e-02.\n",
            "Epoch 5\n"
          ]
        },
        {
          "output_type": "stream",
          "name": "stderr",
          "text": [
            "Train: Loss=0.0578 Batch_id=117 Accuracy=97.47: 100%|██████████| 118/118 [00:22<00:00,  5.18it/s]\n"
          ]
        },
        {
          "output_type": "stream",
          "name": "stdout",
          "text": [
            "Test set: Average loss: 0.0521, Accuracy: 9837/10000 (98.37%)\n",
            "\n",
            "Adjusting learning rate of group 0 to 1.0000e-02.\n",
            "Epoch 6\n"
          ]
        },
        {
          "output_type": "stream",
          "name": "stderr",
          "text": [
            "Train: Loss=0.0379 Batch_id=117 Accuracy=97.88: 100%|██████████| 118/118 [00:22<00:00,  5.15it/s]\n"
          ]
        },
        {
          "output_type": "stream",
          "name": "stdout",
          "text": [
            "Test set: Average loss: 0.0396, Accuracy: 9883/10000 (98.83%)\n",
            "\n",
            "Adjusting learning rate of group 0 to 1.0000e-02.\n",
            "Epoch 7\n"
          ]
        },
        {
          "output_type": "stream",
          "name": "stderr",
          "text": [
            "Train: Loss=0.0347 Batch_id=117 Accuracy=98.07: 100%|██████████| 118/118 [00:23<00:00,  5.10it/s]\n"
          ]
        },
        {
          "output_type": "stream",
          "name": "stdout",
          "text": [
            "Test set: Average loss: 0.0400, Accuracy: 9866/10000 (98.66%)\n",
            "\n",
            "Adjusting learning rate of group 0 to 1.0000e-02.\n",
            "Epoch 8\n"
          ]
        },
        {
          "output_type": "stream",
          "name": "stderr",
          "text": [
            "Train: Loss=0.0252 Batch_id=117 Accuracy=98.27: 100%|██████████| 118/118 [00:22<00:00,  5.20it/s]\n"
          ]
        },
        {
          "output_type": "stream",
          "name": "stdout",
          "text": [
            "Test set: Average loss: 0.0326, Accuracy: 9888/10000 (98.88%)\n",
            "\n",
            "Adjusting learning rate of group 0 to 1.0000e-02.\n",
            "Epoch 9\n"
          ]
        },
        {
          "output_type": "stream",
          "name": "stderr",
          "text": [
            "Train: Loss=0.0780 Batch_id=117 Accuracy=98.45: 100%|██████████| 118/118 [00:23<00:00,  5.12it/s]\n"
          ]
        },
        {
          "output_type": "stream",
          "name": "stdout",
          "text": [
            "Test set: Average loss: 0.0312, Accuracy: 9900/10000 (99.00%)\n",
            "\n",
            "Adjusting learning rate of group 0 to 1.0000e-02.\n",
            "Epoch 10\n"
          ]
        },
        {
          "output_type": "stream",
          "name": "stderr",
          "text": [
            "Train: Loss=0.0120 Batch_id=117 Accuracy=98.51: 100%|██████████| 118/118 [00:22<00:00,  5.18it/s]\n"
          ]
        },
        {
          "output_type": "stream",
          "name": "stdout",
          "text": [
            "Test set: Average loss: 0.0299, Accuracy: 9913/10000 (99.13%)\n",
            "\n",
            "Adjusting learning rate of group 0 to 1.0000e-02.\n",
            "Epoch 11\n"
          ]
        },
        {
          "output_type": "stream",
          "name": "stderr",
          "text": [
            "Train: Loss=0.0332 Batch_id=117 Accuracy=98.57: 100%|██████████| 118/118 [00:22<00:00,  5.23it/s]\n"
          ]
        },
        {
          "output_type": "stream",
          "name": "stdout",
          "text": [
            "Test set: Average loss: 0.0315, Accuracy: 9902/10000 (99.02%)\n",
            "\n",
            "Adjusting learning rate of group 0 to 1.0000e-02.\n",
            "Epoch 12\n"
          ]
        },
        {
          "output_type": "stream",
          "name": "stderr",
          "text": [
            "Train: Loss=0.0087 Batch_id=117 Accuracy=98.65: 100%|██████████| 118/118 [00:22<00:00,  5.30it/s]\n"
          ]
        },
        {
          "output_type": "stream",
          "name": "stdout",
          "text": [
            "Test set: Average loss: 0.0267, Accuracy: 9906/10000 (99.06%)\n",
            "\n",
            "Adjusting learning rate of group 0 to 1.0000e-02.\n",
            "Epoch 13\n"
          ]
        },
        {
          "output_type": "stream",
          "name": "stderr",
          "text": [
            "Train: Loss=0.0142 Batch_id=117 Accuracy=98.73: 100%|██████████| 118/118 [00:22<00:00,  5.29it/s]\n"
          ]
        },
        {
          "output_type": "stream",
          "name": "stdout",
          "text": [
            "Test set: Average loss: 0.0265, Accuracy: 9921/10000 (99.21%)\n",
            "\n",
            "Adjusting learning rate of group 0 to 1.0000e-02.\n",
            "Epoch 14\n"
          ]
        },
        {
          "output_type": "stream",
          "name": "stderr",
          "text": [
            "Train: Loss=0.0167 Batch_id=117 Accuracy=98.83: 100%|██████████| 118/118 [00:22<00:00,  5.36it/s]\n"
          ]
        },
        {
          "output_type": "stream",
          "name": "stdout",
          "text": [
            "Test set: Average loss: 0.0283, Accuracy: 9909/10000 (99.09%)\n",
            "\n",
            "Adjusting learning rate of group 0 to 1.0000e-02.\n",
            "Epoch 15\n"
          ]
        },
        {
          "output_type": "stream",
          "name": "stderr",
          "text": [
            "Train: Loss=0.0878 Batch_id=117 Accuracy=98.85: 100%|██████████| 118/118 [00:23<00:00,  5.09it/s]\n"
          ]
        },
        {
          "output_type": "stream",
          "name": "stdout",
          "text": [
            "Test set: Average loss: 0.0261, Accuracy: 9915/10000 (99.15%)\n",
            "\n",
            "Adjusting learning rate of group 0 to 1.0000e-03.\n",
            "Epoch 16\n"
          ]
        },
        {
          "output_type": "stream",
          "name": "stderr",
          "text": [
            "Train: Loss=0.0202 Batch_id=117 Accuracy=99.05: 100%|██████████| 118/118 [00:21<00:00,  5.47it/s]\n"
          ]
        },
        {
          "output_type": "stream",
          "name": "stdout",
          "text": [
            "Test set: Average loss: 0.0225, Accuracy: 9923/10000 (99.23%)\n",
            "\n",
            "Adjusting learning rate of group 0 to 1.0000e-03.\n",
            "Epoch 17\n"
          ]
        },
        {
          "output_type": "stream",
          "name": "stderr",
          "text": [
            "Train: Loss=0.0355 Batch_id=117 Accuracy=99.15: 100%|██████████| 118/118 [00:21<00:00,  5.56it/s]\n"
          ]
        },
        {
          "output_type": "stream",
          "name": "stdout",
          "text": [
            "Test set: Average loss: 0.0220, Accuracy: 9923/10000 (99.23%)\n",
            "\n",
            "Adjusting learning rate of group 0 to 1.0000e-03.\n",
            "Epoch 18\n"
          ]
        },
        {
          "output_type": "stream",
          "name": "stderr",
          "text": [
            "Train: Loss=0.0077 Batch_id=117 Accuracy=99.14: 100%|██████████| 118/118 [00:21<00:00,  5.41it/s]\n"
          ]
        },
        {
          "output_type": "stream",
          "name": "stdout",
          "text": [
            "Test set: Average loss: 0.0218, Accuracy: 9920/10000 (99.20%)\n",
            "\n",
            "Adjusting learning rate of group 0 to 1.0000e-03.\n",
            "Epoch 19\n"
          ]
        },
        {
          "output_type": "stream",
          "name": "stderr",
          "text": [
            "Train: Loss=0.0069 Batch_id=117 Accuracy=99.18: 100%|██████████| 118/118 [00:22<00:00,  5.21it/s]\n"
          ]
        },
        {
          "output_type": "stream",
          "name": "stdout",
          "text": [
            "Test set: Average loss: 0.0216, Accuracy: 9928/10000 (99.28%)\n",
            "\n",
            "Adjusting learning rate of group 0 to 1.0000e-03.\n",
            "Epoch 20\n"
          ]
        },
        {
          "output_type": "stream",
          "name": "stderr",
          "text": [
            "Train: Loss=0.0019 Batch_id=117 Accuracy=99.22: 100%|██████████| 118/118 [00:22<00:00,  5.21it/s]\n"
          ]
        },
        {
          "output_type": "stream",
          "name": "stdout",
          "text": [
            "Test set: Average loss: 0.0215, Accuracy: 9925/10000 (99.25%)\n",
            "\n",
            "Adjusting learning rate of group 0 to 1.0000e-03.\n"
          ]
        }
      ]
    },
    {
      "cell_type": "markdown",
      "source": [
        "## Display Results"
      ],
      "metadata": {
        "id": "xVXP0fKFzj1Z"
      }
    },
    {
      "cell_type": "code",
      "source": [
        "U.display_results(metrics)"
      ],
      "metadata": {
        "colab": {
          "base_uri": "https://localhost:8080/",
          "height": 615
        },
        "id": "dkuCbWB2yBDO",
        "outputId": "4404aae1-3ea1-455a-feea-6a4b3edeb118"
      },
      "execution_count": 53,
      "outputs": [
        {
          "output_type": "display_data",
          "data": {
            "text/plain": [
              "<Figure size 1500x1000 with 4 Axes>"
            ],
            "image/png": "[encoded data removed]"
          },
          "metadata": {}
        }
      ]
    }
  ]
}