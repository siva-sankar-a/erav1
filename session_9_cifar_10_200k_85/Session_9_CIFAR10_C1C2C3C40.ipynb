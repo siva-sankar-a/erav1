{
  "nbformat": 4,
  "nbformat_minor": 0,
  "metadata": {
    "colab": {
      "provenance": [],
      "gpuType": "T4",
      "include_colab_link": true
    },
    "kernelspec": {
      "name": "python3",
      "display_name": "Python 3"
    },
    "language_info": {
      "name": "python"
    },
    "accelerator": "GPU",
    "gpuClass": "standard"
  },
  "cells": [
    {
      "cell_type": "markdown",
      "metadata": {
        "id": "view-in-github",
        "colab_type": "text"
      },
      "source": [
        "<a href=\"https://colab.research.google.com/github/siva-sankar-a/erav1/blob/main/session_9_cifar_10_200k_85/Session_9_CIFAR10_C1C2C3C40.ipynb\" target=\"_parent\"><img src=\"https://colab.research.google.com/assets/colab-badge.svg\" alt=\"Open In Colab\"/></a>"
      ]
    },
    {
      "cell_type": "markdown",
      "source": [
        "# ERA V1 Session 9\n",
        "## Refer [link](https://github.com/siva-sankar-a/erav1/tree/session/session-6-multiple-architecture-check/session_6_multiple_architectures_mnist#readme) for further documentation"
      ],
      "metadata": {
        "id": "vxvrP2Onom0u"
      }
    },
    {
      "cell_type": "markdown",
      "source": [
        "## Cloning the Github repository\n",
        "## [Session 9](https://github.com/siva-sankar-a/erav1.git)"
      ],
      "metadata": {
        "id": "0D7qh1EynkZJ"
      }
    },
    {
      "cell_type": "code",
      "source": [
        "!pip install torchviz"
      ],
      "metadata": {
        "colab": {
          "base_uri": "https://localhost:8080/"
        },
        "id": "wM7bEw9vZnNQ",
        "outputId": "0f7c5b3d-06b0-467c-f031-f0c38c19441c"
      },
      "execution_count": 1,
      "outputs": [
        {
          "output_type": "stream",
          "name": "stdout",
          "text": [
            "Collecting torchviz\n",
            "  Downloading torchviz-0.0.2.tar.gz (4.9 kB)\n",
            "  Preparing metadata (setup.py) ... \u001b[?25l\u001b[?25hdone\n",
            "Requirement already satisfied: torch in /usr/local/lib/python3.10/dist-packages (from torchviz) (2.0.1+cu118)\n",
            "Requirement already satisfied: graphviz in /usr/local/lib/python3.10/dist-packages (from torchviz) (0.20.1)\n",
            "Requirement already satisfied: filelock in /usr/local/lib/python3.10/dist-packages (from torch->torchviz) (3.12.2)\n",
            "Requirement already satisfied: typing-extensions in /usr/local/lib/python3.10/dist-packages (from torch->torchviz) (4.6.3)\n",
            "Requirement already satisfied: sympy in /usr/local/lib/python3.10/dist-packages (from torch->torchviz) (1.11.1)\n",
            "Requirement already satisfied: networkx in /usr/local/lib/python3.10/dist-packages (from torch->torchviz) (3.1)\n",
            "Requirement already satisfied: jinja2 in /usr/local/lib/python3.10/dist-packages (from torch->torchviz) (3.1.2)\n",
            "Requirement already satisfied: triton==2.0.0 in /usr/local/lib/python3.10/dist-packages (from torch->torchviz) (2.0.0)\n",
            "Requirement already satisfied: cmake in /usr/local/lib/python3.10/dist-packages (from triton==2.0.0->torch->torchviz) (3.25.2)\n",
            "Requirement already satisfied: lit in /usr/local/lib/python3.10/dist-packages (from triton==2.0.0->torch->torchviz) (16.0.6)\n",
            "Requirement already satisfied: MarkupSafe>=2.0 in /usr/local/lib/python3.10/dist-packages (from jinja2->torch->torchviz) (2.1.3)\n",
            "Requirement already satisfied: mpmath>=0.19 in /usr/local/lib/python3.10/dist-packages (from sympy->torch->torchviz) (1.3.0)\n",
            "Building wheels for collected packages: torchviz\n",
            "  Building wheel for torchviz (setup.py) ... \u001b[?25l\u001b[?25hdone\n",
            "  Created wheel for torchviz: filename=torchviz-0.0.2-py3-none-any.whl size=4131 sha256=08e51d36d93417eeccf9d3f6ac563bf0ecc59d556433b0270b4a6f9972172730\n",
            "  Stored in directory: /root/.cache/pip/wheels/4c/97/88/a02973217949e0db0c9f4346d154085f4725f99c4f15a87094\n",
            "Successfully built torchviz\n",
            "Installing collected packages: torchviz\n",
            "Successfully installed torchviz-0.0.2\n"
          ]
        }
      ]
    },
    {
      "cell_type": "code",
      "source": [
        "!git clone https://github.com/siva-sankar-a/erav1.git"
      ],
      "metadata": {
        "colab": {
          "base_uri": "https://localhost:8080/"
        },
        "id": "c75NRuJHmxzV",
        "outputId": "dc9e9914-ba6d-410b-8f47-dbf388803c8b"
      },
      "execution_count": 23,
      "outputs": [
        {
          "output_type": "stream",
          "name": "stdout",
          "text": [
            "Cloning into 'erav1'...\n",
            "remote: Enumerating objects: 270, done.\u001b[K\n",
            "remote: Counting objects: 100% (130/130), done.\u001b[K\n",
            "remote: Compressing objects: 100% (114/114), done.\u001b[K\n",
            "remote: Total 270 (delta 66), reused 37 (delta 15), pack-reused 140\u001b[K\n",
            "Receiving objects: 100% (270/270), 1.20 MiB | 16.82 MiB/s, done.\n",
            "Resolving deltas: 100% (137/137), done.\n"
          ]
        }
      ]
    },
    {
      "cell_type": "code",
      "source": [
        "%cd /content/erav1"
      ],
      "metadata": {
        "colab": {
          "base_uri": "https://localhost:8080/"
        },
        "id": "_TcPvRRLzL8m",
        "outputId": "868a186f-5c14-41bb-dd5b-c40b91831013"
      },
      "execution_count": 24,
      "outputs": [
        {
          "output_type": "stream",
          "name": "stdout",
          "text": [
            "/content/erav1\n"
          ]
        }
      ]
    },
    {
      "cell_type": "code",
      "source": [
        "!git pull"
      ],
      "metadata": {
        "colab": {
          "base_uri": "https://localhost:8080/"
        },
        "id": "rl5OraqvzON6",
        "outputId": "be12fa76-1180-424a-a0b5-866e5f85b451"
      },
      "execution_count": 25,
      "outputs": [
        {
          "output_type": "stream",
          "name": "stdout",
          "text": [
            "Already up to date.\n"
          ]
        }
      ]
    },
    {
      "cell_type": "markdown",
      "source": [
        "## Adding the session folder to path in order to access the functions defined"
      ],
      "metadata": {
        "id": "kn9Duybtn916"
      }
    },
    {
      "cell_type": "code",
      "source": [
        "%load_ext autoreload\n",
        "%autoreload 2"
      ],
      "metadata": {
        "id": "VZHmptkFtQLs",
        "colab": {
          "base_uri": "https://localhost:8080/"
        },
        "outputId": "8538acef-0531-4601-c159-e97dfd9ba2bd"
      },
      "execution_count": 26,
      "outputs": [
        {
          "output_type": "stream",
          "name": "stdout",
          "text": [
            "The autoreload extension is already loaded. To reload it, use:\n",
            "  %reload_ext autoreload\n"
          ]
        }
      ]
    },
    {
      "cell_type": "code",
      "source": [
        "import os\n",
        "import sys"
      ],
      "metadata": {
        "id": "etBGZdEBnLgi"
      },
      "execution_count": 27,
      "outputs": []
    },
    {
      "cell_type": "code",
      "source": [
        "sys.path.append('/content/erav1/session_9_cifar_10_200k_85')"
      ],
      "metadata": {
        "id": "dmlfbkJ5nQF0"
      },
      "execution_count": 28,
      "outputs": []
    },
    {
      "cell_type": "code",
      "source": [
        "import importlib"
      ],
      "metadata": {
        "id": "hYq-JprOx5C5"
      },
      "execution_count": 29,
      "outputs": []
    },
    {
      "cell_type": "code",
      "source": [
        "import utils as U\n",
        "import datasets as ds\n",
        "import transforms as tf"
      ],
      "metadata": {
        "id": "fcdNScH6ndwQ"
      },
      "execution_count": 30,
      "outputs": []
    },
    {
      "cell_type": "code",
      "source": [
        "U = importlib.reload(U)\n",
        "ds = importlib.reload(ds)\n",
        "tf = importlib.reload(tf)"
      ],
      "metadata": {
        "id": "1eZpnItfx7Ua"
      },
      "execution_count": 13,
      "outputs": []
    },
    {
      "cell_type": "markdown",
      "source": [
        "## Get device"
      ],
      "metadata": {
        "id": "JXU1Lk2JoQTu"
      }
    },
    {
      "cell_type": "code",
      "source": [
        "device = U.get_device()\n",
        "print(device)"
      ],
      "metadata": {
        "colab": {
          "base_uri": "https://localhost:8080/"
        },
        "id": "82LKarofoL7z",
        "outputId": "a4dfeaa8-7601-4327-eace-b58fef8b16b2"
      },
      "execution_count": 31,
      "outputs": [
        {
          "output_type": "stream",
          "name": "stdout",
          "text": [
            "CUDA Available? True\n",
            "cuda\n"
          ]
        }
      ]
    },
    {
      "cell_type": "code",
      "source": [
        "import pandas as pd\n",
        "import albumentations as A\n",
        "from albumentations.pytorch import ToTensorV2"
      ],
      "metadata": {
        "id": "AS8QFBG24Saq"
      },
      "execution_count": 32,
      "outputs": []
    },
    {
      "cell_type": "code",
      "source": [
        "pd.options.plotting.backend = \"plotly\""
      ],
      "metadata": {
        "id": "wx6n36Hk4WSb"
      },
      "execution_count": 33,
      "outputs": []
    },
    {
      "cell_type": "markdown",
      "source": [
        "## Get train and test transforms"
      ],
      "metadata": {
        "id": "0Lvm6vCjoXrw"
      }
    },
    {
      "cell_type": "code",
      "source": [
        "train_transforms = tf.get_train_transforms()\n",
        "test_transforms = tf.get_test_transforms()"
      ],
      "metadata": {
        "id": "TCqAEH39oiVI"
      },
      "execution_count": 34,
      "outputs": []
    },
    {
      "cell_type": "code",
      "source": [
        "train_transforms = A.Compose(\n",
        "    [\n",
        "        A.HorizontalFlip(p=0.5),\n",
        "        A.ShiftScaleRotate(shift_limit=0.05, scale_limit=0.10, rotate_limit=25, p=0.5),\n",
        "        A.CoarseDropout(max_holes=3, max_height=20, max_width=20, min_holes=1, min_height=4, min_width=4,\n",
        "                        fill_value=(0.4913997551666284, 0.48215855929893703, 0.446530913373161),\n",
        "                        mask_fill_value=None, always_apply=False, p=0.5),\n",
        "        A.Normalize(mean=(0.4913997551666284, 0.48215855929893703, 0.446530913373161),\n",
        "                    std=(0.24703225141799082, 0.24348516474564, 0.26158783926049628)),\n",
        "        ToTensorV2(),\n",
        "    ]\n",
        ")\n",
        "\n",
        "\n",
        "test_transforms = A.Compose(\n",
        "    [\n",
        "        A.Normalize(mean=(0.4913997551666284, 0.48215855929893703, 0.446530913373161),\n",
        "                    std=(0.24703225141799082, 0.24348516474564, 0.26158783926049628)),\n",
        "        ToTensorV2(),\n",
        "    ]\n",
        ")"
      ],
      "metadata": {
        "id": "CJY7X7hY-awZ"
      },
      "execution_count": 35,
      "outputs": []
    },
    {
      "cell_type": "code",
      "source": [
        "from torchvision import datasets, transforms\n",
        "import numpy as np"
      ],
      "metadata": {
        "id": "5jmS0cIh0I2-"
      },
      "execution_count": 36,
      "outputs": []
    },
    {
      "cell_type": "code",
      "source": [
        "from torch.utils.data import WeightedRandomSampler"
      ],
      "metadata": {
        "id": "mFN3lZviTZ53"
      },
      "execution_count": 37,
      "outputs": []
    },
    {
      "cell_type": "code",
      "source": [
        "class CIFAR10_Dataset(datasets.CIFAR10):\n",
        "    def __init__(self, root=\"./data/\", train=True, download=True, transform=None):\n",
        "        super().__init__(root=root, train=train, download=download, transform=transform)\n",
        "\n",
        "    def __getitem__(self, index):\n",
        "        image, label = self.data[index], self.targets[index]\n",
        "\n",
        "        if self.transform is not None:\n",
        "            transformed = self.transform(image=image)\n",
        "            image = transformed[\"image\"]\n",
        "\n",
        "        return image, label"
      ],
      "metadata": {
        "id": "FMa7LxT3KPo0"
      },
      "execution_count": 38,
      "outputs": []
    },
    {
      "cell_type": "markdown",
      "source": [
        "## Get dataset"
      ],
      "metadata": {
        "id": "l-tMVwqzpDD4"
      }
    },
    {
      "cell_type": "code",
      "source": [
        "train_dataset = CIFAR10_Dataset('../data', train=True, download=True, transform=train_transforms)\n",
        "test_dataset = CIFAR10_Dataset('../data', train=False, download=True, transform=test_transforms)"
      ],
      "metadata": {
        "id": "x0EKJeSvpHMc",
        "colab": {
          "base_uri": "https://localhost:8080/"
        },
        "outputId": "78e8db31-8c0f-4ff7-a5fb-f58a7bfb0f8f"
      },
      "execution_count": 39,
      "outputs": [
        {
          "output_type": "stream",
          "name": "stdout",
          "text": [
            "Downloading https://www.cs.toronto.edu/~kriz/cifar-10-python.tar.gz to ../data/cifar-10-python.tar.gz\n"
          ]
        },
        {
          "output_type": "stream",
          "name": "stderr",
          "text": [
            "100%|██████████| 170498071/170498071 [00:12<00:00, 13159612.98it/s]\n"
          ]
        },
        {
          "output_type": "stream",
          "name": "stdout",
          "text": [
            "Extracting ../data/cifar-10-python.tar.gz to ../data\n",
            "Files already downloaded and verified\n"
          ]
        }
      ]
    },
    {
      "cell_type": "markdown",
      "source": [
        "## Get train and test dataloader"
      ],
      "metadata": {
        "id": "mHGXKHJHpMpD"
      }
    },
    {
      "cell_type": "code",
      "source": [
        "import torch"
      ],
      "metadata": {
        "id": "M5O00LkyUIJl"
      },
      "execution_count": 40,
      "outputs": []
    },
    {
      "cell_type": "code",
      "source": [
        "labels = {0: 'airplane',\n",
        "          1: 'automobile',\n",
        "          2: 'bird',\n",
        "          3: 'cat',\n",
        "          4: 'deer',\n",
        "          5: 'dog',\n",
        "          6: 'frog',\n",
        "          7: 'horse',\n",
        "          8: 'ship',\n",
        "          9: 'truck'}"
      ],
      "metadata": {
        "id": "0yb1sYRXY8cM"
      },
      "execution_count": 41,
      "outputs": []
    },
    {
      "cell_type": "code",
      "source": [
        "label_weights = { 0: 1.0, 1: 1.0, 2: 1.0, 3: 1.0, 4: 1.0, 5: 1.0, 6: 1.0, 7: 1.0, 8: 1.0, 9: 1.0}"
      ],
      "metadata": {
        "id": "wdcA84QPYMvD"
      },
      "execution_count": 42,
      "outputs": []
    },
    {
      "cell_type": "code",
      "source": [
        "_weights = [label_weights[label] for label in train_dataset.targets]"
      ],
      "metadata": {
        "id": "alTROWJwX_Kl"
      },
      "execution_count": 43,
      "outputs": []
    },
    {
      "cell_type": "code",
      "source": [
        "batch_size = 64\n",
        "sampler = torch.utils.data.sampler.WeightedRandomSampler(_weights, len(train_dataset), replacement=False)"
      ],
      "metadata": {
        "id": "5Du_OfgxT8vj"
      },
      "execution_count": 44,
      "outputs": []
    },
    {
      "cell_type": "code",
      "source": [
        "kwargs = {'batch_size': batch_size, 'shuffle': False, 'num_workers': 2, 'pin_memory': True}\n",
        "\n",
        "train_dataloader = ds.get_train_dataloader(train_dataset, sampler=sampler, **kwargs)\n",
        "test_dataloader = ds.get_test_dataloader(test_dataset, **kwargs)"
      ],
      "metadata": {
        "id": "bKV3bOKbpKpQ"
      },
      "execution_count": 45,
      "outputs": []
    },
    {
      "cell_type": "markdown",
      "source": [
        "## Display image grid"
      ],
      "metadata": {
        "id": "41RCssjDpaJg"
      }
    },
    {
      "cell_type": "code",
      "source": [
        "U.show_image_grid(train_dataloader)"
      ],
      "metadata": {
        "colab": {
          "base_uri": "https://localhost:8080/",
          "height": 697
        },
        "id": "VbQ_ujZnpfnA",
        "outputId": "c9b181d8-b607-45a0-e92f-2eea2c3660dd"
      },
      "execution_count": 408,
      "outputs": [
        {
          "output_type": "stream",
          "name": "stderr",
          "text": [
            "WARNING:matplotlib.image:Clipping input data to the valid range for imshow with RGB data ([0..1] for floats or [0..255] for integers).\n",
            "WARNING:matplotlib.image:Clipping input data to the valid range for imshow with RGB data ([0..1] for floats or [0..255] for integers).\n",
            "WARNING:matplotlib.image:Clipping input data to the valid range for imshow with RGB data ([0..1] for floats or [0..255] for integers).\n",
            "WARNING:matplotlib.image:Clipping input data to the valid range for imshow with RGB data ([0..1] for floats or [0..255] for integers).\n",
            "WARNING:matplotlib.image:Clipping input data to the valid range for imshow with RGB data ([0..1] for floats or [0..255] for integers).\n",
            "WARNING:matplotlib.image:Clipping input data to the valid range for imshow with RGB data ([0..1] for floats or [0..255] for integers).\n",
            "WARNING:matplotlib.image:Clipping input data to the valid range for imshow with RGB data ([0..1] for floats or [0..255] for integers).\n",
            "WARNING:matplotlib.image:Clipping input data to the valid range for imshow with RGB data ([0..1] for floats or [0..255] for integers).\n",
            "WARNING:matplotlib.image:Clipping input data to the valid range for imshow with RGB data ([0..1] for floats or [0..255] for integers).\n",
            "WARNING:matplotlib.image:Clipping input data to the valid range for imshow with RGB data ([0..1] for floats or [0..255] for integers).\n",
            "WARNING:matplotlib.image:Clipping input data to the valid range for imshow with RGB data ([0..1] for floats or [0..255] for integers).\n",
            "WARNING:matplotlib.image:Clipping input data to the valid range for imshow with RGB data ([0..1] for floats or [0..255] for integers).\n"
          ]
        },
        {
          "output_type": "display_data",
          "data": {
            "text/plain": [
              "<Figure size 640x480 with 12 Axes>"
            ],
            "image/png": "[encoded data removed]"
          },
          "metadata": {}
        }
      ]
    },
    {
      "cell_type": "code",
      "source": [
        "!git clone https://github.com/Fangyh09/pytorch-receptive-field.git"
      ],
      "metadata": {
        "colab": {
          "base_uri": "https://localhost:8080/"
        },
        "id": "Vcg388r_mioi",
        "outputId": "7053546c-30c3-4141-8607-4251b3b118c5"
      },
      "execution_count": 344,
      "outputs": [
        {
          "output_type": "stream",
          "name": "stdout",
          "text": [
            "fatal: destination path 'pytorch-receptive-field' already exists and is not an empty directory.\n"
          ]
        }
      ]
    },
    {
      "cell_type": "code",
      "source": [
        "sys.path.append('/content/erav1/pytorch-receptive-field')"
      ],
      "metadata": {
        "id": "zaXzqni1myi-"
      },
      "execution_count": 400,
      "outputs": []
    },
    {
      "cell_type": "code",
      "source": [
        "from torch_receptive_field import receptive_field"
      ],
      "metadata": {
        "id": "do7ut0I9mnn2"
      },
      "execution_count": null,
      "outputs": []
    },
    {
      "cell_type": "code",
      "source": [
        "import torch.nn as nn\n",
        "from torchviz import make_dot\n",
        "import torch.nn.functional as F"
      ],
      "metadata": {
        "id": "VqjxT94yNzGW"
      },
      "execution_count": 47,
      "outputs": []
    },
    {
      "cell_type": "markdown",
      "source": [
        "C1C2C3C40"
      ],
      "metadata": {
        "id": "5u0cEeMbNx4c"
      }
    },
    {
      "cell_type": "code",
      "source": [
        "class Net(nn.Module):\n",
        "\n",
        "    '''\n",
        "    This class implements the neural network model\n",
        "\n",
        "    Usage:\n",
        "    >>> device = ...\n",
        "    >>> model = Net().to('cpu')\n",
        "    '''\n",
        "\n",
        "    #This defines the structure of the NN.\n",
        "    def __init__(self):\n",
        "        super(Net, self).__init__()\n",
        "\n",
        "        # C1\n",
        "        self.conv1 = self.conv_block_3x3(3, 32)\n",
        "        self.downsample1 = self.conv3x3_bn_dropout(3, 32, padding=1, stride=2)\n",
        "\n",
        "        # C2\n",
        "        self.conv2 = self.conv_block_3x3(32, 32, depthwise_seperable=True)\n",
        "        self.downsample2 = self.conv3x3_bn_dropout(32, 32, padding=1, stride=2)\n",
        "\n",
        "        #C3\n",
        "        self.conv3 = self.conv_block_3x3(32, 32)\n",
        "        self.downsample3 = self.conv3x3_bn_dropout(32, 32, padding=1, stride=2)\n",
        "\n",
        "        #C4\n",
        "        self.conv4 = self.conv_block_3x3(32, 64, pool=False)\n",
        "        self.downsample4 = self.conv3x3_bn_dropout(32, 64, padding=1)\n",
        "\n",
        "        self.gap = nn.AvgPool2d(4)\n",
        "        self.mixer = nn.Sequential(\n",
        "            self.conv1x1(64, 10),\n",
        "        )\n",
        "\n",
        "    def conv_block_3x3(self, in_channels, out_channels, pool=True, depthwise_seperable=False):\n",
        "        if pool:\n",
        "            return nn.Sequential(\n",
        "                self.conv3x3_bn_dropout(in_channels, out_channels, padding=1),\n",
        "                self.conv3x3_bn_dropout(out_channels, out_channels, padding=1, groups=(out_channels if depthwise_seperable else 1)), # Depthwise seperable convolution\n",
        "                self.conv3x3_bn_dropout(out_channels, out_channels, dilation=2, padding=2, stride=2) # Dilated convlution\n",
        "            )\n",
        "        else:\n",
        "            return nn.Sequential(\n",
        "                self.conv3x3_bn_dropout(in_channels, out_channels, padding=1),\n",
        "                self.conv3x3_bn_dropout(out_channels, out_channels, padding=1),\n",
        "                self.conv3x3_bn_dropout(out_channels, out_channels, padding=1)\n",
        "        )\n",
        "\n",
        "    def conv3x3_bn_dropout(self, in_channels, out_channels, kernel_size=3, stride=1, padding=0, dilation=1, groups=1, bias=False, dropout=0.0):\n",
        "          if dropout:\n",
        "            return nn.Sequential(\n",
        "                self.conv3x3(in_channels, out_channels, kernel_size, stride, padding, dilation, groups, bias),\n",
        "                nn.ReLU(),\n",
        "                nn.BatchNorm2d(out_channels),\n",
        "                nn.Dropout(dropout),\n",
        "                )\n",
        "          else:\n",
        "            return nn.Sequential(\n",
        "                self.conv3x3(in_channels, out_channels, kernel_size, stride, padding, dilation, groups, bias),\n",
        "                nn.ReLU(),\n",
        "                 nn.BatchNorm2d(out_channels),\n",
        "                )\n",
        "\n",
        "    def conv3x3(self, in_channels, out_channels, kernel_size=3, stride=1, padding=0, dilation=1, groups=1, bias=False):\n",
        "          return nn.Conv2d(in_channels,\n",
        "                    out_channels,\n",
        "                    kernel_size=kernel_size,\n",
        "                    stride=stride,\n",
        "                    padding=padding,\n",
        "                    dilation=dilation,\n",
        "                    groups=groups,\n",
        "                    bias=bias)\n",
        "\n",
        "    def conv1x1(self, in_channels, out_channels, kernel_size=1, stride=1, padding=0, bias=False):\n",
        "          return nn.Conv2d(in_channels,\n",
        "                    out_channels,\n",
        "                    kernel_size=kernel_size,\n",
        "                    stride=stride,\n",
        "                    padding=padding,\n",
        "                    bias=bias)\n",
        "\n",
        "\n",
        "    def forward(self, x):\n",
        "\n",
        "        # Block 1\n",
        "        i1 = x\n",
        "        x = self.conv1(x)\n",
        "        i1 = self.downsample1(i1)\n",
        "        x = x + i1\n",
        "\n",
        "        # Block 2\n",
        "        i2 = x\n",
        "        x = self.conv2(x)\n",
        "        i2 = self.downsample2(i2)\n",
        "        x = x + i2\n",
        "\n",
        "        # Block 3\n",
        "        i3 = x\n",
        "        x = self.conv3(x)\n",
        "        i3 = self.downsample3(i3)\n",
        "        x = x + i3\n",
        "\n",
        "        # Block 4\n",
        "        i4 = x\n",
        "        x = self.conv4(x)\n",
        "        i4 = self.downsample4(i4)\n",
        "        x = x + i4\n",
        "\n",
        "        x = self.gap(x)\n",
        "        x = self.mixer(x)\n",
        "        x = x.view(-1, 10)\n",
        "\n",
        "        return F.log_softmax(x, dim=1)\n",
        "\n",
        "        # return x"
      ],
      "metadata": {
        "id": "C1pLoj7rNhzO"
      },
      "execution_count": 48,
      "outputs": []
    },
    {
      "cell_type": "markdown",
      "source": [
        "## Generate model summary"
      ],
      "metadata": {
        "id": "m242rqKopkPU"
      }
    },
    {
      "cell_type": "code",
      "source": [
        "from torchsummary import summary"
      ],
      "metadata": {
        "id": "pw9lTuzcbKCV"
      },
      "execution_count": 49,
      "outputs": []
    },
    {
      "cell_type": "code",
      "source": [
        "model = Net().to('cpu')\n",
        "summary(model, input_size=(3, 32, 32), batch_size=batch_size, device='cpu')"
      ],
      "metadata": {
        "colab": {
          "base_uri": "https://localhost:8080/"
        },
        "id": "2W39NavppocP",
        "outputId": "44b8e0f5-5039-4ff3-c30a-693dbd1b02eb"
      },
      "execution_count": 50,
      "outputs": [
        {
          "output_type": "stream",
          "name": "stdout",
          "text": [
            "----------------------------------------------------------------\n",
            "        Layer (type)               Output Shape         Param #\n",
            "================================================================\n",
            "            Conv2d-1           [64, 32, 32, 32]             864\n",
            "              ReLU-2           [64, 32, 32, 32]               0\n",
            "       BatchNorm2d-3           [64, 32, 32, 32]              64\n",
            "            Conv2d-4           [64, 32, 32, 32]           9,216\n",
            "              ReLU-5           [64, 32, 32, 32]               0\n",
            "       BatchNorm2d-6           [64, 32, 32, 32]              64\n",
            "            Conv2d-7           [64, 32, 16, 16]           9,216\n",
            "              ReLU-8           [64, 32, 16, 16]               0\n",
            "       BatchNorm2d-9           [64, 32, 16, 16]              64\n",
            "           Conv2d-10           [64, 32, 16, 16]             864\n",
            "             ReLU-11           [64, 32, 16, 16]               0\n",
            "      BatchNorm2d-12           [64, 32, 16, 16]              64\n",
            "           Conv2d-13           [64, 32, 16, 16]           9,216\n",
            "             ReLU-14           [64, 32, 16, 16]               0\n",
            "      BatchNorm2d-15           [64, 32, 16, 16]              64\n",
            "           Conv2d-16           [64, 32, 16, 16]             288\n",
            "             ReLU-17           [64, 32, 16, 16]               0\n",
            "      BatchNorm2d-18           [64, 32, 16, 16]              64\n",
            "           Conv2d-19             [64, 32, 8, 8]           9,216\n",
            "             ReLU-20             [64, 32, 8, 8]               0\n",
            "      BatchNorm2d-21             [64, 32, 8, 8]              64\n",
            "           Conv2d-22             [64, 32, 8, 8]           9,216\n",
            "             ReLU-23             [64, 32, 8, 8]               0\n",
            "      BatchNorm2d-24             [64, 32, 8, 8]              64\n",
            "           Conv2d-25             [64, 32, 8, 8]           9,216\n",
            "             ReLU-26             [64, 32, 8, 8]               0\n",
            "      BatchNorm2d-27             [64, 32, 8, 8]              64\n",
            "           Conv2d-28             [64, 32, 8, 8]           9,216\n",
            "             ReLU-29             [64, 32, 8, 8]               0\n",
            "      BatchNorm2d-30             [64, 32, 8, 8]              64\n",
            "           Conv2d-31             [64, 32, 4, 4]           9,216\n",
            "             ReLU-32             [64, 32, 4, 4]               0\n",
            "      BatchNorm2d-33             [64, 32, 4, 4]              64\n",
            "           Conv2d-34             [64, 32, 4, 4]           9,216\n",
            "             ReLU-35             [64, 32, 4, 4]               0\n",
            "      BatchNorm2d-36             [64, 32, 4, 4]              64\n",
            "           Conv2d-37             [64, 64, 4, 4]          18,432\n",
            "             ReLU-38             [64, 64, 4, 4]               0\n",
            "      BatchNorm2d-39             [64, 64, 4, 4]             128\n",
            "           Conv2d-40             [64, 64, 4, 4]          36,864\n",
            "             ReLU-41             [64, 64, 4, 4]               0\n",
            "      BatchNorm2d-42             [64, 64, 4, 4]             128\n",
            "           Conv2d-43             [64, 64, 4, 4]          36,864\n",
            "             ReLU-44             [64, 64, 4, 4]               0\n",
            "      BatchNorm2d-45             [64, 64, 4, 4]             128\n",
            "           Conv2d-46             [64, 64, 4, 4]          18,432\n",
            "             ReLU-47             [64, 64, 4, 4]               0\n",
            "      BatchNorm2d-48             [64, 64, 4, 4]             128\n",
            "        AvgPool2d-49             [64, 64, 1, 1]               0\n",
            "           Conv2d-50             [64, 10, 1, 1]             640\n",
            "================================================================\n",
            "Total params: 197,472\n",
            "Trainable params: 197,472\n",
            "Non-trainable params: 0\n",
            "----------------------------------------------------------------\n",
            "Input size (MB): 0.75\n",
            "Forward/backward pass size (MB): 163.54\n",
            "Params size (MB): 0.75\n",
            "Estimated Total Size (MB): 165.04\n",
            "----------------------------------------------------------------\n"
          ]
        }
      ]
    },
    {
      "cell_type": "code",
      "source": [
        "receptive_field(model.cpu(), input_size=(3, 32, 32), device='cpu')"
      ],
      "metadata": {
        "id": "GSp_eyvLnCTc",
        "colab": {
          "base_uri": "https://localhost:8080/"
        },
        "outputId": "f5124e63-52d7-4c71-a4a6-507422e34e16"
      },
      "execution_count": 411,
      "outputs": [
        {
          "output_type": "stream",
          "name": "stdout",
          "text": [
            "------------------------------------------------------------------------------\n",
            "        Layer (type)    map size      start       jump receptive_field \n",
            "==============================================================================\n",
            "        0               [32, 32]        0.5        1.0             1.0 \n",
            "        1               [32, 32]        0.5        1.0             3.0 \n",
            "        2               [32, 32]        0.5        1.0             3.0 \n",
            "        3               [32, 32]        0.5        1.0             3.0 \n",
            "        4               [32, 32]        0.5        1.0             5.0 \n",
            "        5               [32, 32]        0.5        1.0             5.0 \n",
            "        6               [32, 32]        0.5        1.0             5.0 \n",
            "        7               [16, 16]       -0.5        2.0             9.0 \n",
            "        8               [16, 16]       -0.5        2.0             9.0 \n",
            "        9               [16, 16]       -0.5        2.0             9.0 \n",
            "        10              [16, 16]       -0.5        4.0            13.0 \n",
            "        11              [16, 16]       -0.5        4.0            13.0 \n",
            "        12              [16, 16]       -0.5        4.0            13.0 \n",
            "        13              [16, 16]       -0.5        4.0            21.0 \n",
            "        14              [16, 16]       -0.5        4.0            21.0 \n",
            "        15              [16, 16]       -0.5        4.0            21.0 \n",
            "        16              [16, 16]       -0.5        4.0            29.0 \n",
            "        17              [16, 16]       -0.5        4.0            29.0 \n",
            "        18              [16, 16]       -0.5        4.0            29.0 \n",
            "        19                [8, 8]       -4.5        8.0            45.0 \n",
            "        20                [8, 8]       -4.5        8.0            45.0 \n",
            "        21                [8, 8]       -4.5        8.0            45.0 \n",
            "        22                [8, 8]       -4.5       16.0            61.0 \n",
            "        23                [8, 8]       -4.5       16.0            61.0 \n",
            "        24                [8, 8]       -4.5       16.0            61.0 \n",
            "        25                [8, 8]       -4.5       16.0            93.0 \n",
            "        26                [8, 8]       -4.5       16.0            93.0 \n",
            "        27                [8, 8]       -4.5       16.0            93.0 \n",
            "        28                [8, 8]       -4.5       16.0           125.0 \n",
            "        29                [8, 8]       -4.5       16.0           125.0 \n",
            "        30                [8, 8]       -4.5       16.0           125.0 \n",
            "        31                [4, 4]      -20.5       32.0           189.0 \n",
            "        32                [4, 4]      -20.5       32.0           189.0 \n",
            "        33                [4, 4]      -20.5       32.0           189.0 \n",
            "        34                [4, 4]      -20.5       64.0           253.0 \n",
            "        35                [4, 4]      -20.5       64.0           253.0 \n",
            "        36                [4, 4]      -20.5       64.0           253.0 \n",
            "        37                [4, 4]      -20.5       64.0           381.0 \n",
            "        38                [4, 4]      -20.5       64.0           381.0 \n",
            "        39                [4, 4]      -20.5       64.0           381.0 \n",
            "        40                [4, 4]      -20.5       64.0           509.0 \n",
            "        41                [4, 4]      -20.5       64.0           509.0 \n",
            "        42                [4, 4]      -20.5       64.0           509.0 \n",
            "        43                [4, 4]      -20.5       64.0           637.0 \n",
            "        44                [4, 4]      -20.5       64.0           637.0 \n",
            "        45                [4, 4]      -20.5       64.0           637.0 \n",
            "        46                [4, 4]      -20.5       64.0           765.0 \n",
            "        47                [4, 4]      -20.5       64.0           765.0 \n",
            "        48                [4, 4]      -20.5       64.0           765.0 \n",
            "        49                [1, 1]       75.5      256.0           957.0 \n",
            "        50                [1, 1]       75.5      256.0           957.0 \n",
            "==============================================================================\n"
          ]
        },
        {
          "output_type": "execute_result",
          "data": {
            "text/plain": [
              "OrderedDict([('0',\n",
              "              OrderedDict([('j', 1.0),\n",
              "                           ('r', 1.0),\n",
              "                           ('start', 0.5),\n",
              "                           ('conv_stage', True),\n",
              "                           ('output_shape', [-1, 3, 32, 32])])),\n",
              "             ('1',\n",
              "              OrderedDict([('j', 1.0),\n",
              "                           ('r', 3.0),\n",
              "                           ('start', 0.5),\n",
              "                           ('input_shape', [-1, 3, 32, 32]),\n",
              "                           ('output_shape', [-1, 32, 32, 32])])),\n",
              "             ('2',\n",
              "              OrderedDict([('j', 1.0),\n",
              "                           ('r', 3.0),\n",
              "                           ('start', 0.5),\n",
              "                           ('input_shape', [-1, 32, 32, 32]),\n",
              "                           ('output_shape', [-1, 32, 32, 32])])),\n",
              "             ('3',\n",
              "              OrderedDict([('j', 1.0),\n",
              "                           ('r', 3.0),\n",
              "                           ('start', 0.5),\n",
              "                           ('input_shape', [-1, 32, 32, 32]),\n",
              "                           ('output_shape', [-1, 32, 32, 32])])),\n",
              "             ('4',\n",
              "              OrderedDict([('j', 1.0),\n",
              "                           ('r', 5.0),\n",
              "                           ('start', 0.5),\n",
              "                           ('input_shape', [-1, 32, 32, 32]),\n",
              "                           ('output_shape', [-1, 32, 32, 32])])),\n",
              "             ('5',\n",
              "              OrderedDict([('j', 1.0),\n",
              "                           ('r', 5.0),\n",
              "                           ('start', 0.5),\n",
              "                           ('input_shape', [-1, 32, 32, 32]),\n",
              "                           ('output_shape', [-1, 32, 32, 32])])),\n",
              "             ('6',\n",
              "              OrderedDict([('j', 1.0),\n",
              "                           ('r', 5.0),\n",
              "                           ('start', 0.5),\n",
              "                           ('input_shape', [-1, 32, 32, 32]),\n",
              "                           ('output_shape', [-1, 32, 32, 32])])),\n",
              "             ('7',\n",
              "              OrderedDict([('j', 2.0),\n",
              "                           ('r', 9.0),\n",
              "                           ('start', -0.5),\n",
              "                           ('input_shape', [-1, 32, 32, 32]),\n",
              "                           ('output_shape', [-1, 32, 16, 16])])),\n",
              "             ('8',\n",
              "              OrderedDict([('j', 2.0),\n",
              "                           ('r', 9.0),\n",
              "                           ('start', -0.5),\n",
              "                           ('input_shape', [-1, 32, 16, 16]),\n",
              "                           ('output_shape', [-1, 32, 16, 16])])),\n",
              "             ('9',\n",
              "              OrderedDict([('j', 2.0),\n",
              "                           ('r', 9.0),\n",
              "                           ('start', -0.5),\n",
              "                           ('input_shape', [-1, 32, 16, 16]),\n",
              "                           ('output_shape', [-1, 32, 16, 16])])),\n",
              "             ('10',\n",
              "              OrderedDict([('j', 4.0),\n",
              "                           ('r', 13.0),\n",
              "                           ('start', -0.5),\n",
              "                           ('input_shape', [-1, 3, 32, 32]),\n",
              "                           ('output_shape', [-1, 32, 16, 16])])),\n",
              "             ('11',\n",
              "              OrderedDict([('j', 4.0),\n",
              "                           ('r', 13.0),\n",
              "                           ('start', -0.5),\n",
              "                           ('input_shape', [-1, 32, 16, 16]),\n",
              "                           ('output_shape', [-1, 32, 16, 16])])),\n",
              "             ('12',\n",
              "              OrderedDict([('j', 4.0),\n",
              "                           ('r', 13.0),\n",
              "                           ('start', -0.5),\n",
              "                           ('input_shape', [-1, 32, 16, 16]),\n",
              "                           ('output_shape', [-1, 32, 16, 16])])),\n",
              "             ('13',\n",
              "              OrderedDict([('j', 4.0),\n",
              "                           ('r', 21.0),\n",
              "                           ('start', -0.5),\n",
              "                           ('input_shape', [-1, 32, 16, 16]),\n",
              "                           ('output_shape', [-1, 32, 16, 16])])),\n",
              "             ('14',\n",
              "              OrderedDict([('j', 4.0),\n",
              "                           ('r', 21.0),\n",
              "                           ('start', -0.5),\n",
              "                           ('input_shape', [-1, 32, 16, 16]),\n",
              "                           ('output_shape', [-1, 32, 16, 16])])),\n",
              "             ('15',\n",
              "              OrderedDict([('j', 4.0),\n",
              "                           ('r', 21.0),\n",
              "                           ('start', -0.5),\n",
              "                           ('input_shape', [-1, 32, 16, 16]),\n",
              "                           ('output_shape', [-1, 32, 16, 16])])),\n",
              "             ('16',\n",
              "              OrderedDict([('j', 4.0),\n",
              "                           ('r', 29.0),\n",
              "                           ('start', -0.5),\n",
              "                           ('input_shape', [-1, 32, 16, 16]),\n",
              "                           ('output_shape', [-1, 32, 16, 16])])),\n",
              "             ('17',\n",
              "              OrderedDict([('j', 4.0),\n",
              "                           ('r', 29.0),\n",
              "                           ('start', -0.5),\n",
              "                           ('input_shape', [-1, 32, 16, 16]),\n",
              "                           ('output_shape', [-1, 32, 16, 16])])),\n",
              "             ('18',\n",
              "              OrderedDict([('j', 4.0),\n",
              "                           ('r', 29.0),\n",
              "                           ('start', -0.5),\n",
              "                           ('input_shape', [-1, 32, 16, 16]),\n",
              "                           ('output_shape', [-1, 32, 16, 16])])),\n",
              "             ('19',\n",
              "              OrderedDict([('j', 8.0),\n",
              "                           ('r', 45.0),\n",
              "                           ('start', -4.5),\n",
              "                           ('input_shape', [-1, 32, 16, 16]),\n",
              "                           ('output_shape', [-1, 32, 8, 8])])),\n",
              "             ('20',\n",
              "              OrderedDict([('j', 8.0),\n",
              "                           ('r', 45.0),\n",
              "                           ('start', -4.5),\n",
              "                           ('input_shape', [-1, 32, 8, 8]),\n",
              "                           ('output_shape', [-1, 32, 8, 8])])),\n",
              "             ('21',\n",
              "              OrderedDict([('j', 8.0),\n",
              "                           ('r', 45.0),\n",
              "                           ('start', -4.5),\n",
              "                           ('input_shape', [-1, 32, 8, 8]),\n",
              "                           ('output_shape', [-1, 32, 8, 8])])),\n",
              "             ('22',\n",
              "              OrderedDict([('j', 16.0),\n",
              "                           ('r', 61.0),\n",
              "                           ('start', -4.5),\n",
              "                           ('input_shape', [-1, 32, 16, 16]),\n",
              "                           ('output_shape', [-1, 32, 8, 8])])),\n",
              "             ('23',\n",
              "              OrderedDict([('j', 16.0),\n",
              "                           ('r', 61.0),\n",
              "                           ('start', -4.5),\n",
              "                           ('input_shape', [-1, 32, 8, 8]),\n",
              "                           ('output_shape', [-1, 32, 8, 8])])),\n",
              "             ('24',\n",
              "              OrderedDict([('j', 16.0),\n",
              "                           ('r', 61.0),\n",
              "                           ('start', -4.5),\n",
              "                           ('input_shape', [-1, 32, 8, 8]),\n",
              "                           ('output_shape', [-1, 32, 8, 8])])),\n",
              "             ('25',\n",
              "              OrderedDict([('j', 16.0),\n",
              "                           ('r', 93.0),\n",
              "                           ('start', -4.5),\n",
              "                           ('input_shape', [-1, 32, 8, 8]),\n",
              "                           ('output_shape', [-1, 32, 8, 8])])),\n",
              "             ('26',\n",
              "              OrderedDict([('j', 16.0),\n",
              "                           ('r', 93.0),\n",
              "                           ('start', -4.5),\n",
              "                           ('input_shape', [-1, 32, 8, 8]),\n",
              "                           ('output_shape', [-1, 32, 8, 8])])),\n",
              "             ('27',\n",
              "              OrderedDict([('j', 16.0),\n",
              "                           ('r', 93.0),\n",
              "                           ('start', -4.5),\n",
              "                           ('input_shape', [-1, 32, 8, 8]),\n",
              "                           ('output_shape', [-1, 32, 8, 8])])),\n",
              "             ('28',\n",
              "              OrderedDict([('j', 16.0),\n",
              "                           ('r', 125.0),\n",
              "                           ('start', -4.5),\n",
              "                           ('input_shape', [-1, 32, 8, 8]),\n",
              "                           ('output_shape', [-1, 32, 8, 8])])),\n",
              "             ('29',\n",
              "              OrderedDict([('j', 16.0),\n",
              "                           ('r', 125.0),\n",
              "                           ('start', -4.5),\n",
              "                           ('input_shape', [-1, 32, 8, 8]),\n",
              "                           ('output_shape', [-1, 32, 8, 8])])),\n",
              "             ('30',\n",
              "              OrderedDict([('j', 16.0),\n",
              "                           ('r', 125.0),\n",
              "                           ('start', -4.5),\n",
              "                           ('input_shape', [-1, 32, 8, 8]),\n",
              "                           ('output_shape', [-1, 32, 8, 8])])),\n",
              "             ('31',\n",
              "              OrderedDict([('j', 32.0),\n",
              "                           ('r', 189.0),\n",
              "                           ('start', -20.5),\n",
              "                           ('input_shape', [-1, 32, 8, 8]),\n",
              "                           ('output_shape', [-1, 32, 4, 4])])),\n",
              "             ('32',\n",
              "              OrderedDict([('j', 32.0),\n",
              "                           ('r', 189.0),\n",
              "                           ('start', -20.5),\n",
              "                           ('input_shape', [-1, 32, 4, 4]),\n",
              "                           ('output_shape', [-1, 32, 4, 4])])),\n",
              "             ('33',\n",
              "              OrderedDict([('j', 32.0),\n",
              "                           ('r', 189.0),\n",
              "                           ('start', -20.5),\n",
              "                           ('input_shape', [-1, 32, 4, 4]),\n",
              "                           ('output_shape', [-1, 32, 4, 4])])),\n",
              "             ('34',\n",
              "              OrderedDict([('j', 64.0),\n",
              "                           ('r', 253.0),\n",
              "                           ('start', -20.5),\n",
              "                           ('input_shape', [-1, 32, 8, 8]),\n",
              "                           ('output_shape', [-1, 32, 4, 4])])),\n",
              "             ('35',\n",
              "              OrderedDict([('j', 64.0),\n",
              "                           ('r', 253.0),\n",
              "                           ('start', -20.5),\n",
              "                           ('input_shape', [-1, 32, 4, 4]),\n",
              "                           ('output_shape', [-1, 32, 4, 4])])),\n",
              "             ('36',\n",
              "              OrderedDict([('j', 64.0),\n",
              "                           ('r', 253.0),\n",
              "                           ('start', -20.5),\n",
              "                           ('input_shape', [-1, 32, 4, 4]),\n",
              "                           ('output_shape', [-1, 32, 4, 4])])),\n",
              "             ('37',\n",
              "              OrderedDict([('j', 64.0),\n",
              "                           ('r', 381.0),\n",
              "                           ('start', -20.5),\n",
              "                           ('input_shape', [-1, 32, 4, 4]),\n",
              "                           ('output_shape', [-1, 64, 4, 4])])),\n",
              "             ('38',\n",
              "              OrderedDict([('j', 64.0),\n",
              "                           ('r', 381.0),\n",
              "                           ('start', -20.5),\n",
              "                           ('input_shape', [-1, 64, 4, 4]),\n",
              "                           ('output_shape', [-1, 64, 4, 4])])),\n",
              "             ('39',\n",
              "              OrderedDict([('j', 64.0),\n",
              "                           ('r', 381.0),\n",
              "                           ('start', -20.5),\n",
              "                           ('input_shape', [-1, 64, 4, 4]),\n",
              "                           ('output_shape', [-1, 64, 4, 4])])),\n",
              "             ('40',\n",
              "              OrderedDict([('j', 64.0),\n",
              "                           ('r', 509.0),\n",
              "                           ('start', -20.5),\n",
              "                           ('input_shape', [-1, 64, 4, 4]),\n",
              "                           ('output_shape', [-1, 64, 4, 4])])),\n",
              "             ('41',\n",
              "              OrderedDict([('j', 64.0),\n",
              "                           ('r', 509.0),\n",
              "                           ('start', -20.5),\n",
              "                           ('input_shape', [-1, 64, 4, 4]),\n",
              "                           ('output_shape', [-1, 64, 4, 4])])),\n",
              "             ('42',\n",
              "              OrderedDict([('j', 64.0),\n",
              "                           ('r', 509.0),\n",
              "                           ('start', -20.5),\n",
              "                           ('input_shape', [-1, 64, 4, 4]),\n",
              "                           ('output_shape', [-1, 64, 4, 4])])),\n",
              "             ('43',\n",
              "              OrderedDict([('j', 64.0),\n",
              "                           ('r', 637.0),\n",
              "                           ('start', -20.5),\n",
              "                           ('input_shape', [-1, 64, 4, 4]),\n",
              "                           ('output_shape', [-1, 64, 4, 4])])),\n",
              "             ('44',\n",
              "              OrderedDict([('j', 64.0),\n",
              "                           ('r', 637.0),\n",
              "                           ('start', -20.5),\n",
              "                           ('input_shape', [-1, 64, 4, 4]),\n",
              "                           ('output_shape', [-1, 64, 4, 4])])),\n",
              "             ('45',\n",
              "              OrderedDict([('j', 64.0),\n",
              "                           ('r', 637.0),\n",
              "                           ('start', -20.5),\n",
              "                           ('input_shape', [-1, 64, 4, 4]),\n",
              "                           ('output_shape', [-1, 64, 4, 4])])),\n",
              "             ('46',\n",
              "              OrderedDict([('j', 64.0),\n",
              "                           ('r', 765.0),\n",
              "                           ('start', -20.5),\n",
              "                           ('input_shape', [-1, 32, 4, 4]),\n",
              "                           ('output_shape', [-1, 64, 4, 4])])),\n",
              "             ('47',\n",
              "              OrderedDict([('j', 64.0),\n",
              "                           ('r', 765.0),\n",
              "                           ('start', -20.5),\n",
              "                           ('input_shape', [-1, 64, 4, 4]),\n",
              "                           ('output_shape', [-1, 64, 4, 4])])),\n",
              "             ('48',\n",
              "              OrderedDict([('j', 64.0),\n",
              "                           ('r', 765.0),\n",
              "                           ('start', -20.5),\n",
              "                           ('input_shape', [-1, 64, 4, 4]),\n",
              "                           ('output_shape', [-1, 64, 4, 4])])),\n",
              "             ('49',\n",
              "              OrderedDict([('j', 256.0),\n",
              "                           ('r', 957.0),\n",
              "                           ('start', 75.5),\n",
              "                           ('input_shape', [-1, 64, 4, 4]),\n",
              "                           ('output_shape', [-1, 64, 1, 1])])),\n",
              "             ('50',\n",
              "              OrderedDict([('j', 256.0),\n",
              "                           ('r', 957.0),\n",
              "                           ('start', 75.5),\n",
              "                           ('input_shape', [-1, 64, 1, 1]),\n",
              "                           ('output_shape', [-1, 10, 1, 1])])),\n",
              "             ('input_size', (3, 32, 32))])"
            ]
          },
          "metadata": {},
          "execution_count": 411
        }
      ]
    },
    {
      "cell_type": "code",
      "source": [
        "random_input = torch.randn(1, 3, 32, 32)\n",
        "model.eval()\n",
        "y = model(random_input)\n",
        "dot_graph = make_dot(y, show_attrs=False, show_saved=True)\n",
        "dot_graph.format = 'svg'\n",
        "dot_graph.render(f'net')\n",
        "dot_graph"
      ],
      "metadata": {
        "colab": {
          "base_uri": "https://localhost:8080/",
          "height": 1000
        },
        "id": "VpAYvuxehJL7",
        "outputId": "e3f80f40-02d0-4c18-b60d-01160cd31e1e"
      },
      "execution_count": 51,
      "outputs": [
        {
          "output_type": "execute_result",
          "data": {
            "image/svg+xml": "<?xml version=\"1.0\" encoding=\"UTF-8\" standalone=\"no\"?>\n<!DOCTYPE svg PUBLIC \"-//W3C//DTD SVG 1.1//EN\"\n \"http://www.w3.org/Graphics/SVG/1.1/DTD/svg11.dtd\">\n<!-- Generated by graphviz version 2.43.0 (0)\n -->\n<!-- Title: %3 Pages: 1 -->\n<svg width=\"1967pt\" height=\"2950pt\"\n viewBox=\"0.00 0.00 1967.00 2950.00\" xmlns=\"http://www.w3.org/2000/svg\" xmlns:xlink=\"http://www.w3.org/1999/xlink\">\n<g id=\"graph0\" class=\"graph\" transform=\"scale(1 1) rotate(0) translate(4 2946)\">\n<title>%3</title>\n<polygon fill=\"white\" stroke=\"transparent\" points=\"-4,4 -4,-2946 1963,-2946 1963,4 -4,4\"/>\n<!-- 140112418363312 -->\n<g id=\"node1\" class=\"node\">\n<title>140112418363312</title>\n<polygon fill=\"#caff70\" stroke=\"black\" points=\"1198,-31 1133,-31 1133,0 1198,0 1198,-31\"/>\n<text text-anchor=\"middle\" x=\"1165.5\" y=\"-7\" font-family=\"monospace\" font-size=\"10.00\"> (1, 10)</text>\n</g>\n<!-- 140109045653584 -->\n<g id=\"node2\" class=\"node\">\n<title>140109045653584</title>\n<polygon fill=\"lightgrey\" stroke=\"black\" points=\"1272,-86 1141,-86 1141,-67 1272,-67 1272,-86\"/>\n<text text-anchor=\"middle\" x=\"1206.5\" y=\"-74\" font-family=\"monospace\" font-size=\"10.00\">LogSoftmaxBackward0</text>\n</g>\n<!-- 140109045653584&#45;&gt;140112418363312 -->\n<g id=\"edge305\" class=\"edge\">\n<title>140109045653584&#45;&gt;140112418363312</title>\n<path fill=\"none\" stroke=\"black\" d=\"M1200.45,-66.79C1195.47,-59.63 1188.18,-49.13 1181.54,-39.58\"/>\n<polygon fill=\"black\" stroke=\"black\" points=\"1184.29,-37.41 1175.71,-31.19 1178.54,-41.4 1184.29,-37.41\"/>\n</g>\n<!-- 140112418362272 -->\n<g id=\"node3\" class=\"node\">\n<title>140112418362272</title>\n<polygon fill=\"orange\" stroke=\"black\" points=\"1281,-30.5 1216,-30.5 1216,-0.5 1281,-0.5 1281,-30.5\"/>\n<text text-anchor=\"middle\" x=\"1248.5\" y=\"-18.5\" font-family=\"monospace\" font-size=\"10.00\">result</text>\n<text text-anchor=\"middle\" x=\"1248.5\" y=\"-7.5\" font-family=\"monospace\" font-size=\"10.00\"> (1, 10)</text>\n</g>\n<!-- 140109045653584&#45;&gt;140112418362272 -->\n<g id=\"edge1\" class=\"edge\">\n<title>140109045653584&#45;&gt;140112418362272</title>\n<path fill=\"none\" stroke=\"black\" d=\"M1212.7,-66.79C1219.45,-57.31 1230.36,-41.98 1238.37,-30.74\"/>\n</g>\n<!-- 140112418236320 -->\n<g id=\"node4\" class=\"node\">\n<title>140112418236320</title>\n<polygon fill=\"lightgrey\" stroke=\"black\" points=\"1254,-147 1159,-147 1159,-128 1254,-128 1254,-147\"/>\n<text text-anchor=\"middle\" x=\"1206.5\" y=\"-135\" font-family=\"monospace\" font-size=\"10.00\">ViewBackward0</text>\n</g>\n<!-- 140112418236320&#45;&gt;140109045653584 -->\n<g id=\"edge2\" class=\"edge\">\n<title>140112418236320&#45;&gt;140109045653584</title>\n<path fill=\"none\" stroke=\"black\" d=\"M1206.5,-127.79C1206.5,-119.6 1206.5,-107.06 1206.5,-96.55\"/>\n<polygon fill=\"black\" stroke=\"black\" points=\"1210,-96.24 1206.5,-86.24 1203,-96.24 1210,-96.24\"/>\n</g>\n<!-- 140108161102464 -->\n<g id=\"node5\" class=\"node\">\n<title>140108161102464</title>\n<polygon fill=\"lightgrey\" stroke=\"black\" points=\"1452,-213.5 1315,-213.5 1315,-194.5 1452,-194.5 1452,-213.5\"/>\n<text text-anchor=\"middle\" x=\"1383.5\" y=\"-201.5\" font-family=\"monospace\" font-size=\"10.00\">ConvolutionBackward0</text>\n</g>\n<!-- 140108161102464&#45;&gt;140112418236320 -->\n<g id=\"edge3\" class=\"edge\">\n<title>140108161102464&#45;&gt;140112418236320</title>\n<path fill=\"none\" stroke=\"black\" d=\"M1360,-194.43C1329.18,-183.21 1274.95,-163.44 1239.88,-150.67\"/>\n<polygon fill=\"black\" stroke=\"black\" points=\"1240.7,-147.24 1230.1,-147.1 1238.3,-153.81 1240.7,-147.24\"/>\n</g>\n<!-- 140112418361632 -->\n<g id=\"node6\" class=\"node\">\n<title>140112418361632</title>\n<polygon fill=\"orange\" stroke=\"black\" points=\"1373,-152.5 1272,-152.5 1272,-122.5 1373,-122.5 1373,-152.5\"/>\n<text text-anchor=\"middle\" x=\"1322.5\" y=\"-140.5\" font-family=\"monospace\" font-size=\"10.00\">input</text>\n<text text-anchor=\"middle\" x=\"1322.5\" y=\"-129.5\" font-family=\"monospace\" font-size=\"10.00\"> (1, 64, 1, 1)</text>\n</g>\n<!-- 140108161102464&#45;&gt;140112418361632 -->\n<g id=\"edge4\" class=\"edge\">\n<title>140108161102464&#45;&gt;140112418361632</title>\n<path fill=\"none\" stroke=\"black\" d=\"M1375.27,-194.3C1365.26,-183.71 1348.19,-165.67 1336.19,-152.97\"/>\n</g>\n<!-- 140108196817600 -->\n<g id=\"node7\" class=\"node\">\n<title>140108196817600</title>\n<polygon fill=\"lightblue\" stroke=\"black\" points=\"1498,-153 1391,-153 1391,-122 1498,-122 1498,-153\"/>\n<text text-anchor=\"middle\" x=\"1444.5\" y=\"-129\" font-family=\"monospace\" font-size=\"10.00\"> (10, 64, 1, 1)</text>\n</g>\n<!-- 140108161102464&#45;&gt;140108196817600 -->\n<g id=\"edge5\" class=\"edge\">\n<title>140108161102464&#45;&gt;140108196817600</title>\n<path fill=\"none\" stroke=\"black\" d=\"M1391.73,-194.3C1401.61,-183.85 1418.36,-166.14 1430.34,-153.47\"/>\n</g>\n<!-- 140108161101024 -->\n<g id=\"node266\" class=\"node\">\n<title>140108161101024</title>\n<polygon fill=\"lightgrey\" stroke=\"black\" points=\"1536,-86 1435,-86 1435,-67 1536,-67 1536,-86\"/>\n<text text-anchor=\"middle\" x=\"1485.5\" y=\"-74\" font-family=\"monospace\" font-size=\"10.00\">AccumulateGrad</text>\n</g>\n<!-- 140108196817600&#45;&gt;140108161101024 -->\n<g id=\"edge304\" class=\"edge\">\n<title>140108196817600&#45;&gt;140108161101024</title>\n<path fill=\"none\" stroke=\"black\" d=\"M1454.63,-121.92C1460.41,-113.61 1467.67,-103.16 1473.7,-94.48\"/>\n<polygon fill=\"black\" stroke=\"black\" points=\"1476.59,-96.46 1479.42,-86.25 1470.84,-92.46 1476.59,-96.46\"/>\n</g>\n<!-- 140108161100880 -->\n<g id=\"node8\" class=\"node\">\n<title>140108161100880</title>\n<polygon fill=\"lightgrey\" stroke=\"black\" points=\"1514,-274 1389,-274 1389,-255 1514,-255 1514,-274\"/>\n<text text-anchor=\"middle\" x=\"1451.5\" y=\"-262\" font-family=\"monospace\" font-size=\"10.00\">AvgPool2DBackward0</text>\n</g>\n<!-- 140108161100880&#45;&gt;140108161102464 -->\n<g id=\"edge6\" class=\"edge\">\n<title>140108161100880&#45;&gt;140108161102464</title>\n<path fill=\"none\" stroke=\"black\" d=\"M1441.47,-254.87C1430.92,-245.8 1414.11,-231.34 1401.31,-220.32\"/>\n<polygon fill=\"black\" stroke=\"black\" points=\"1403.44,-217.54 1393.57,-213.67 1398.87,-222.84 1403.44,-217.54\"/>\n</g>\n<!-- 140112418357552 -->\n<g id=\"node9\" class=\"node\">\n<title>140112418357552</title>\n<polygon fill=\"orange\" stroke=\"black\" points=\"1571,-219 1470,-219 1470,-189 1571,-189 1571,-219\"/>\n<text text-anchor=\"middle\" x=\"1520.5\" y=\"-207\" font-family=\"monospace\" font-size=\"10.00\">self</text>\n<text text-anchor=\"middle\" x=\"1520.5\" y=\"-196\" font-family=\"monospace\" font-size=\"10.00\"> (1, 64, 4, 4)</text>\n</g>\n<!-- 140108161100880&#45;&gt;140112418357552 -->\n<g id=\"edge7\" class=\"edge\">\n<title>140108161100880&#45;&gt;140112418357552</title>\n<path fill=\"none\" stroke=\"black\" d=\"M1461.68,-254.87C1472.78,-245.46 1490.7,-230.26 1503.85,-219.11\"/>\n</g>\n<!-- 140108161100400 -->\n<g id=\"node10\" class=\"node\">\n<title>140108161100400</title>\n<polygon fill=\"lightgrey\" stroke=\"black\" points=\"1496,-335 1407,-335 1407,-316 1496,-316 1496,-335\"/>\n<text text-anchor=\"middle\" x=\"1451.5\" y=\"-323\" font-family=\"monospace\" font-size=\"10.00\">AddBackward0</text>\n</g>\n<!-- 140108161100400&#45;&gt;140108161100880 -->\n<g id=\"edge8\" class=\"edge\">\n<title>140108161100400&#45;&gt;140108161100880</title>\n<path fill=\"none\" stroke=\"black\" d=\"M1451.5,-315.79C1451.5,-307.6 1451.5,-295.06 1451.5,-284.55\"/>\n<polygon fill=\"black\" stroke=\"black\" points=\"1455,-284.24 1451.5,-274.24 1448,-284.24 1455,-284.24\"/>\n</g>\n<!-- 140108161100592 -->\n<g id=\"node11\" class=\"node\">\n<title>140108161100592</title>\n<polygon fill=\"lightgrey\" stroke=\"black\" points=\"1006,-401.5 845,-401.5 845,-382.5 1006,-382.5 1006,-401.5\"/>\n<text text-anchor=\"middle\" x=\"925.5\" y=\"-389.5\" font-family=\"monospace\" font-size=\"10.00\">NativeBatchNormBackward0</text>\n</g>\n<!-- 140108161100592&#45;&gt;140108161100400 -->\n<g id=\"edge9\" class=\"edge\">\n<title>140108161100592&#45;&gt;140108161100400</title>\n<path fill=\"none\" stroke=\"black\" d=\"M978.27,-382.44C990.48,-380.56 1003.43,-378.64 1015.5,-377 1152.36,-358.44 1313.98,-340.85 1396.69,-332.15\"/>\n<polygon fill=\"black\" stroke=\"black\" points=\"1397.28,-335.61 1406.86,-331.09 1396.55,-328.65 1397.28,-335.61\"/>\n</g>\n<!-- 140112418361872 -->\n<g id=\"node12\" class=\"node\">\n<title>140112418361872</title>\n<polygon fill=\"orange\" stroke=\"black\" points=\"1110,-340.5 1009,-340.5 1009,-310.5 1110,-310.5 1110,-340.5\"/>\n<text text-anchor=\"middle\" x=\"1059.5\" y=\"-328.5\" font-family=\"monospace\" font-size=\"10.00\">input</text>\n<text text-anchor=\"middle\" x=\"1059.5\" y=\"-317.5\" font-family=\"monospace\" font-size=\"10.00\"> (1, 64, 4, 4)</text>\n</g>\n<!-- 140108161100592&#45;&gt;140112418361872 -->\n<g id=\"edge10\" class=\"edge\">\n<title>140108161100592&#45;&gt;140112418361872</title>\n<path fill=\"none\" stroke=\"black\" d=\"M943.29,-382.43C965.51,-371.74 1003.8,-353.31 1030.33,-340.54\"/>\n</g>\n<!-- 140109089329600 -->\n<g id=\"node13\" class=\"node\">\n<title>140109089329600</title>\n<polygon fill=\"orange\" stroke=\"black\" points=\"1187,-340.5 1128,-340.5 1128,-310.5 1187,-310.5 1187,-340.5\"/>\n<text text-anchor=\"middle\" x=\"1157.5\" y=\"-328.5\" font-family=\"monospace\" font-size=\"10.00\">result1</text>\n<text text-anchor=\"middle\" x=\"1157.5\" y=\"-317.5\" font-family=\"monospace\" font-size=\"10.00\"> (0)</text>\n</g>\n<!-- 140108161100592&#45;&gt;140109089329600 -->\n<g id=\"edge11\" class=\"edge\">\n<title>140108161100592&#45;&gt;140109089329600</title>\n<path fill=\"none\" stroke=\"black\" d=\"M963.78,-382.48C1003.17,-373.39 1066.14,-358 1119.5,-341 1122.19,-340.14 1124.97,-339.2 1127.74,-338.22\"/>\n</g>\n<!-- 140112418358112 -->\n<g id=\"node14\" class=\"node\">\n<title>140112418358112</title>\n<polygon fill=\"orange\" stroke=\"black\" points=\"672,-340.5 613,-340.5 613,-310.5 672,-310.5 672,-340.5\"/>\n<text text-anchor=\"middle\" x=\"642.5\" y=\"-328.5\" font-family=\"monospace\" font-size=\"10.00\">result2</text>\n<text text-anchor=\"middle\" x=\"642.5\" y=\"-317.5\" font-family=\"monospace\" font-size=\"10.00\"> (0)</text>\n</g>\n<!-- 140108161100592&#45;&gt;140112418358112 -->\n<g id=\"edge12\" class=\"edge\">\n<title>140108161100592&#45;&gt;140112418358112</title>\n<path fill=\"none\" stroke=\"black\" d=\"M870.87,-382.48C820.81,-374.06 744.9,-359.72 680.5,-341 677.79,-340.21 675,-339.32 672.21,-338.36\"/>\n</g>\n<!-- 140108170965728 -->\n<g id=\"node15\" class=\"node\">\n<title>140108170965728</title>\n<polygon fill=\"orange\" stroke=\"black\" points=\"779,-340.5 690,-340.5 690,-310.5 779,-310.5 779,-340.5\"/>\n<text text-anchor=\"middle\" x=\"734.5\" y=\"-328.5\" font-family=\"monospace\" font-size=\"10.00\">running_mean</text>\n<text text-anchor=\"middle\" x=\"734.5\" y=\"-317.5\" font-family=\"monospace\" font-size=\"10.00\"> (64)</text>\n</g>\n<!-- 140108161100592&#45;&gt;140108170965728 -->\n<g id=\"edge13\" class=\"edge\">\n<title>140108161100592&#45;&gt;140108170965728</title>\n<path fill=\"none\" stroke=\"black\" d=\"M900.14,-382.43C868.48,-371.74 813.89,-353.31 776.08,-340.54\"/>\n</g>\n<!-- 140108170967648 -->\n<g id=\"node16\" class=\"node\">\n<title>140108170967648</title>\n<polygon fill=\"orange\" stroke=\"black\" points=\"880,-340.5 797,-340.5 797,-310.5 880,-310.5 880,-340.5\"/>\n<text text-anchor=\"middle\" x=\"838.5\" y=\"-328.5\" font-family=\"monospace\" font-size=\"10.00\">running_var</text>\n<text text-anchor=\"middle\" x=\"838.5\" y=\"-317.5\" font-family=\"monospace\" font-size=\"10.00\"> (64)</text>\n</g>\n<!-- 140108161100592&#45;&gt;140108170967648 -->\n<g id=\"edge14\" class=\"edge\">\n<title>140108161100592&#45;&gt;140108170967648</title>\n<path fill=\"none\" stroke=\"black\" d=\"M913.77,-382.3C899.39,-371.64 874.83,-353.43 857.69,-340.73\"/>\n</g>\n<!-- 140108170961888 -->\n<g id=\"node17\" class=\"node\">\n<title>140108170961888</title>\n<polygon fill=\"lightblue\" stroke=\"black\" points=\"952.5,-341 898.5,-341 898.5,-310 952.5,-310 952.5,-341\"/>\n<text text-anchor=\"middle\" x=\"925.5\" y=\"-317\" font-family=\"monospace\" font-size=\"10.00\"> (64)</text>\n</g>\n<!-- 140108161100592&#45;&gt;140108170961888 -->\n<g id=\"edge15\" class=\"edge\">\n<title>140108161100592&#45;&gt;140108170961888</title>\n<path fill=\"none\" stroke=\"black\" d=\"M925.5,-382.3C925.5,-371.85 925.5,-354.14 925.5,-341.47\"/>\n</g>\n<!-- 140108161100832 -->\n<g id=\"node248\" class=\"node\">\n<title>140108161100832</title>\n<polygon fill=\"lightgrey\" stroke=\"black\" points=\"1004,-274 903,-274 903,-255 1004,-255 1004,-274\"/>\n<text text-anchor=\"middle\" x=\"953.5\" y=\"-262\" font-family=\"monospace\" font-size=\"10.00\">AccumulateGrad</text>\n</g>\n<!-- 140108170961888&#45;&gt;140108161100832 -->\n<g id=\"edge281\" class=\"edge\">\n<title>140108170961888&#45;&gt;140108161100832</title>\n<path fill=\"none\" stroke=\"black\" d=\"M932.42,-309.92C936.24,-301.87 941.01,-291.82 945.05,-283.31\"/>\n<polygon fill=\"black\" stroke=\"black\" points=\"948.22,-284.78 949.35,-274.25 941.9,-281.78 948.22,-284.78\"/>\n</g>\n<!-- 140108161101072 -->\n<g id=\"node18\" class=\"node\">\n<title>140108161101072</title>\n<polygon fill=\"lightgrey\" stroke=\"black\" points=\"1001,-468 906,-468 906,-449 1001,-449 1001,-468\"/>\n<text text-anchor=\"middle\" x=\"953.5\" y=\"-456\" font-family=\"monospace\" font-size=\"10.00\">ReluBackward0</text>\n</g>\n<!-- 140108161101072&#45;&gt;140108161100592 -->\n<g id=\"edge16\" class=\"edge\">\n<title>140108161101072&#45;&gt;140108161100592</title>\n<path fill=\"none\" stroke=\"black\" d=\"M949.72,-448.8C945.53,-439.13 938.63,-423.25 933.27,-410.89\"/>\n<polygon fill=\"black\" stroke=\"black\" points=\"936.41,-409.34 929.22,-401.56 929.99,-412.13 936.41,-409.34\"/>\n</g>\n<!-- 140112418362512 -->\n<g id=\"node19\" class=\"node\">\n<title>140112418362512</title>\n<polygon fill=\"orange\" stroke=\"black\" points=\"1125,-407 1024,-407 1024,-377 1125,-377 1125,-407\"/>\n<text text-anchor=\"middle\" x=\"1074.5\" y=\"-395\" font-family=\"monospace\" font-size=\"10.00\">result</text>\n<text text-anchor=\"middle\" x=\"1074.5\" y=\"-384\" font-family=\"monospace\" font-size=\"10.00\"> (1, 64, 4, 4)</text>\n</g>\n<!-- 140108161101072&#45;&gt;140112418362512 -->\n<g id=\"edge17\" class=\"edge\">\n<title>140108161101072&#45;&gt;140112418362512</title>\n<path fill=\"none\" stroke=\"black\" d=\"M969.82,-448.8C989.82,-438.14 1023.97,-419.93 1047.81,-407.23\"/>\n</g>\n<!-- 140108161102368 -->\n<g id=\"node20\" class=\"node\">\n<title>140108161102368</title>\n<polygon fill=\"lightgrey\" stroke=\"black\" points=\"1072,-535 935,-535 935,-516 1072,-516 1072,-535\"/>\n<text text-anchor=\"middle\" x=\"1003.5\" y=\"-523\" font-family=\"monospace\" font-size=\"10.00\">ConvolutionBackward0</text>\n</g>\n<!-- 140108161102368&#45;&gt;140108161101072 -->\n<g id=\"edge18\" class=\"edge\">\n<title>140108161102368&#45;&gt;140108161101072</title>\n<path fill=\"none\" stroke=\"black\" d=\"M996.76,-515.73C988.96,-505.6 975.95,-488.69 966.24,-476.06\"/>\n<polygon fill=\"black\" stroke=\"black\" points=\"969.01,-473.92 960.14,-468.13 963.46,-478.19 969.01,-473.92\"/>\n</g>\n<!-- 140112418360992 -->\n<g id=\"node21\" class=\"node\">\n<title>140112418360992</title>\n<polygon fill=\"orange\" stroke=\"black\" points=\"1120,-473.5 1019,-473.5 1019,-443.5 1120,-443.5 1120,-473.5\"/>\n<text text-anchor=\"middle\" x=\"1069.5\" y=\"-461.5\" font-family=\"monospace\" font-size=\"10.00\">input</text>\n<text text-anchor=\"middle\" x=\"1069.5\" y=\"-450.5\" font-family=\"monospace\" font-size=\"10.00\"> (1, 64, 4, 4)</text>\n</g>\n<!-- 140108161102368&#45;&gt;140112418360992 -->\n<g id=\"edge19\" class=\"edge\">\n<title>140108161102368&#45;&gt;140112418360992</title>\n<path fill=\"none\" stroke=\"black\" d=\"M1012.4,-515.73C1023.38,-504.92 1042.18,-486.41 1055.19,-473.59\"/>\n</g>\n<!-- 140108170967808 -->\n<g id=\"node22\" class=\"node\">\n<title>140108170967808</title>\n<polygon fill=\"lightblue\" stroke=\"black\" points=\"1245,-474 1138,-474 1138,-443 1245,-443 1245,-474\"/>\n<text text-anchor=\"middle\" x=\"1191.5\" y=\"-450\" font-family=\"monospace\" font-size=\"10.00\"> (64, 64, 3, 3)</text>\n</g>\n<!-- 140108161102368&#45;&gt;140108170967808 -->\n<g id=\"edge20\" class=\"edge\">\n<title>140108161102368&#45;&gt;140108170967808</title>\n<path fill=\"none\" stroke=\"black\" d=\"M1028.46,-515.87C1059.33,-505.2 1112.32,-486.88 1149.49,-474.02\"/>\n</g>\n<!-- 140108161105296 -->\n<g id=\"node247\" class=\"node\">\n<title>140108161105296</title>\n<polygon fill=\"lightgrey\" stroke=\"black\" points=\"1270,-401.5 1169,-401.5 1169,-382.5 1270,-382.5 1270,-401.5\"/>\n<text text-anchor=\"middle\" x=\"1219.5\" y=\"-389.5\" font-family=\"monospace\" font-size=\"10.00\">AccumulateGrad</text>\n</g>\n<!-- 140108170967808&#45;&gt;140108161105296 -->\n<g id=\"edge279\" class=\"edge\">\n<title>140108170967808&#45;&gt;140108161105296</title>\n<path fill=\"none\" stroke=\"black\" d=\"M1197.85,-442.86C1201.93,-433.48 1207.24,-421.24 1211.59,-411.23\"/>\n<polygon fill=\"black\" stroke=\"black\" points=\"1214.9,-412.39 1215.67,-401.82 1208.48,-409.6 1214.9,-412.39\"/>\n</g>\n<!-- 140108161105728 -->\n<g id=\"node23\" class=\"node\">\n<title>140108161105728</title>\n<polygon fill=\"lightgrey\" stroke=\"black\" points=\"1084,-601.5 923,-601.5 923,-582.5 1084,-582.5 1084,-601.5\"/>\n<text text-anchor=\"middle\" x=\"1003.5\" y=\"-589.5\" font-family=\"monospace\" font-size=\"10.00\">NativeBatchNormBackward0</text>\n</g>\n<!-- 140108161105728&#45;&gt;140108161102368 -->\n<g id=\"edge21\" class=\"edge\">\n<title>140108161105728&#45;&gt;140108161102368</title>\n<path fill=\"none\" stroke=\"black\" d=\"M1003.5,-582.3C1003.5,-572.82 1003.5,-557.38 1003.5,-545.14\"/>\n<polygon fill=\"black\" stroke=\"black\" points=\"1007,-545.06 1003.5,-535.06 1000,-545.06 1007,-545.06\"/>\n</g>\n<!-- 140112418361232 -->\n<g id=\"node24\" class=\"node\">\n<title>140112418361232</title>\n<polygon fill=\"orange\" stroke=\"black\" points=\"1191,-540.5 1090,-540.5 1090,-510.5 1191,-510.5 1191,-540.5\"/>\n<text text-anchor=\"middle\" x=\"1140.5\" y=\"-528.5\" font-family=\"monospace\" font-size=\"10.00\">input</text>\n<text text-anchor=\"middle\" x=\"1140.5\" y=\"-517.5\" font-family=\"monospace\" font-size=\"10.00\"> (1, 64, 4, 4)</text>\n</g>\n<!-- 140108161105728&#45;&gt;140112418361232 -->\n<g id=\"edge22\" class=\"edge\">\n<title>140108161105728&#45;&gt;140112418361232</title>\n<path fill=\"none\" stroke=\"black\" d=\"M1021.69,-582.43C1044.4,-571.74 1083.55,-553.31 1110.67,-540.54\"/>\n</g>\n<!-- 140112418364272 -->\n<g id=\"node25\" class=\"node\">\n<title>140112418364272</title>\n<polygon fill=\"orange\" stroke=\"black\" points=\"1268,-540.5 1209,-540.5 1209,-510.5 1268,-510.5 1268,-540.5\"/>\n<text text-anchor=\"middle\" x=\"1238.5\" y=\"-528.5\" font-family=\"monospace\" font-size=\"10.00\">result1</text>\n<text text-anchor=\"middle\" x=\"1238.5\" y=\"-517.5\" font-family=\"monospace\" font-size=\"10.00\"> (0)</text>\n</g>\n<!-- 140108161105728&#45;&gt;140112418364272 -->\n<g id=\"edge23\" class=\"edge\">\n<title>140108161105728&#45;&gt;140112418364272</title>\n<path fill=\"none\" stroke=\"black\" d=\"M1042.75,-582.45C1082.78,-573.4 1146.51,-558.09 1200.5,-541 1203.19,-540.15 1205.97,-539.21 1208.74,-538.23\"/>\n</g>\n<!-- 140112418362912 -->\n<g id=\"node26\" class=\"node\">\n<title>140112418362912</title>\n<polygon fill=\"orange\" stroke=\"black\" points=\"1345,-540.5 1286,-540.5 1286,-510.5 1345,-510.5 1345,-540.5\"/>\n<text text-anchor=\"middle\" x=\"1315.5\" y=\"-528.5\" font-family=\"monospace\" font-size=\"10.00\">result2</text>\n<text text-anchor=\"middle\" x=\"1315.5\" y=\"-517.5\" font-family=\"monospace\" font-size=\"10.00\"> (0)</text>\n</g>\n<!-- 140108161105728&#45;&gt;140112418362912 -->\n<g id=\"edge24\" class=\"edge\">\n<title>140108161105728&#45;&gt;140112418362912</title>\n<path fill=\"none\" stroke=\"black\" d=\"M1056.78,-582.48C1124.32,-571.46 1236.87,-552.36 1277.5,-541 1280.22,-540.24 1283.02,-539.36 1285.8,-538.43\"/>\n</g>\n<!-- 140108170949344 -->\n<g id=\"node27\" class=\"node\">\n<title>140108170949344</title>\n<polygon fill=\"orange\" stroke=\"black\" points=\"1452,-540.5 1363,-540.5 1363,-510.5 1452,-510.5 1452,-540.5\"/>\n<text text-anchor=\"middle\" x=\"1407.5\" y=\"-528.5\" font-family=\"monospace\" font-size=\"10.00\">running_mean</text>\n<text text-anchor=\"middle\" x=\"1407.5\" y=\"-517.5\" font-family=\"monospace\" font-size=\"10.00\"> (64)</text>\n</g>\n<!-- 140108161105728&#45;&gt;140108170949344 -->\n<g id=\"edge25\" class=\"edge\">\n<title>140108161105728&#45;&gt;140108170949344</title>\n<path fill=\"none\" stroke=\"black\" d=\"M1057.25,-582.48C1069.18,-580.64 1081.77,-578.72 1093.5,-577 1209.36,-560 1239.78,-564.5 1354.5,-541 1357.21,-540.44 1359.99,-539.83 1362.78,-539.17\"/>\n</g>\n<!-- 140108170949184 -->\n<g id=\"node28\" class=\"node\">\n<title>140108170949184</title>\n<polygon fill=\"orange\" stroke=\"black\" points=\"806,-540.5 723,-540.5 723,-510.5 806,-510.5 806,-540.5\"/>\n<text text-anchor=\"middle\" x=\"764.5\" y=\"-528.5\" font-family=\"monospace\" font-size=\"10.00\">running_var</text>\n<text text-anchor=\"middle\" x=\"764.5\" y=\"-517.5\" font-family=\"monospace\" font-size=\"10.00\"> (64)</text>\n</g>\n<!-- 140108161105728&#45;&gt;140108170949184 -->\n<g id=\"edge26\" class=\"edge\">\n<title>140108161105728&#45;&gt;140108170949184</title>\n<path fill=\"none\" stroke=\"black\" d=\"M970.85,-582.5C933.32,-572.68 869.88,-555.96 815.5,-541 812.48,-540.17 809.37,-539.3 806.23,-538.43\"/>\n</g>\n<!-- 140108170948944 -->\n<g id=\"node29\" class=\"node\">\n<title>140108170948944</title>\n<polygon fill=\"lightblue\" stroke=\"black\" points=\"878.5,-541 824.5,-541 824.5,-510 878.5,-510 878.5,-541\"/>\n<text text-anchor=\"middle\" x=\"851.5\" y=\"-517\" font-family=\"monospace\" font-size=\"10.00\"> (64)</text>\n</g>\n<!-- 140108161105728&#45;&gt;140108170948944 -->\n<g id=\"edge27\" class=\"edge\">\n<title>140108161105728&#45;&gt;140108170948944</title>\n<path fill=\"none\" stroke=\"black\" d=\"M983.32,-582.43C956.42,-571.02 908.75,-550.8 878.71,-538.05\"/>\n</g>\n<!-- 140108161105680 -->\n<g id=\"node244\" class=\"node\">\n<title>140108161105680</title>\n<polygon fill=\"lightgrey\" stroke=\"black\" points=\"888,-468 787,-468 787,-449 888,-449 888,-468\"/>\n<text text-anchor=\"middle\" x=\"837.5\" y=\"-456\" font-family=\"monospace\" font-size=\"10.00\">AccumulateGrad</text>\n</g>\n<!-- 140108170948944&#45;&gt;140108161105680 -->\n<g id=\"edge275\" class=\"edge\">\n<title>140108170948944&#45;&gt;140108161105680</title>\n<path fill=\"none\" stroke=\"black\" d=\"M848.32,-509.75C846.29,-500.29 843.62,-487.93 841.45,-477.84\"/>\n<polygon fill=\"black\" stroke=\"black\" points=\"844.86,-477.06 839.33,-468.02 838.02,-478.53 844.86,-477.06\"/>\n</g>\n<!-- 140108161100544 -->\n<g id=\"node30\" class=\"node\">\n<title>140108161100544</title>\n<polygon fill=\"lightgrey\" stroke=\"black\" points=\"1125,-668 1030,-668 1030,-649 1125,-649 1125,-668\"/>\n<text text-anchor=\"middle\" x=\"1077.5\" y=\"-656\" font-family=\"monospace\" font-size=\"10.00\">ReluBackward0</text>\n</g>\n<!-- 140108161100544&#45;&gt;140108161105728 -->\n<g id=\"edge28\" class=\"edge\">\n<title>140108161100544&#45;&gt;140108161105728</title>\n<path fill=\"none\" stroke=\"black\" d=\"M1067.52,-648.8C1055.65,-638.45 1035.61,-620.99 1021.12,-608.35\"/>\n<polygon fill=\"black\" stroke=\"black\" points=\"1023.16,-605.49 1013.32,-601.56 1018.56,-610.77 1023.16,-605.49\"/>\n</g>\n<!-- 140112418363552 -->\n<g id=\"node31\" class=\"node\">\n<title>140112418363552</title>\n<polygon fill=\"orange\" stroke=\"black\" points=\"1203,-607 1102,-607 1102,-577 1203,-577 1203,-607\"/>\n<text text-anchor=\"middle\" x=\"1152.5\" y=\"-595\" font-family=\"monospace\" font-size=\"10.00\">result</text>\n<text text-anchor=\"middle\" x=\"1152.5\" y=\"-584\" font-family=\"monospace\" font-size=\"10.00\"> (1, 64, 4, 4)</text>\n</g>\n<!-- 140108161100544&#45;&gt;140112418363552 -->\n<g id=\"edge29\" class=\"edge\">\n<title>140108161100544&#45;&gt;140112418363552</title>\n<path fill=\"none\" stroke=\"black\" d=\"M1087.61,-648.8C1100.01,-638.14 1121.18,-619.93 1135.96,-607.23\"/>\n</g>\n<!-- 140108161100928 -->\n<g id=\"node32\" class=\"node\">\n<title>140108161100928</title>\n<polygon fill=\"lightgrey\" stroke=\"black\" points=\"1210,-735 1073,-735 1073,-716 1210,-716 1210,-735\"/>\n<text text-anchor=\"middle\" x=\"1141.5\" y=\"-723\" font-family=\"monospace\" font-size=\"10.00\">ConvolutionBackward0</text>\n</g>\n<!-- 140108161100928&#45;&gt;140108161100544 -->\n<g id=\"edge30\" class=\"edge\">\n<title>140108161100928&#45;&gt;140108161100544</title>\n<path fill=\"none\" stroke=\"black\" d=\"M1132.87,-715.73C1122.7,-705.4 1105.6,-688.04 1093.09,-675.33\"/>\n<polygon fill=\"black\" stroke=\"black\" points=\"1095.5,-672.8 1085.99,-668.13 1090.52,-677.71 1095.5,-672.8\"/>\n</g>\n<!-- 140112418360192 -->\n<g id=\"node33\" class=\"node\">\n<title>140112418360192</title>\n<polygon fill=\"orange\" stroke=\"black\" points=\"1283,-673.5 1182,-673.5 1182,-643.5 1283,-643.5 1283,-673.5\"/>\n<text text-anchor=\"middle\" x=\"1232.5\" y=\"-661.5\" font-family=\"monospace\" font-size=\"10.00\">input</text>\n<text text-anchor=\"middle\" x=\"1232.5\" y=\"-650.5\" font-family=\"monospace\" font-size=\"10.00\"> (1, 64, 4, 4)</text>\n</g>\n<!-- 140108161100928&#45;&gt;140112418360192 -->\n<g id=\"edge31\" class=\"edge\">\n<title>140108161100928&#45;&gt;140112418360192</title>\n<path fill=\"none\" stroke=\"black\" d=\"M1153.77,-715.73C1168.91,-704.92 1194.83,-686.41 1212.78,-673.59\"/>\n</g>\n<!-- 140108170949024 -->\n<g id=\"node34\" class=\"node\">\n<title>140108170949024</title>\n<polygon fill=\"lightblue\" stroke=\"black\" points=\"1408,-674 1301,-674 1301,-643 1408,-643 1408,-674\"/>\n<text text-anchor=\"middle\" x=\"1354.5\" y=\"-650\" font-family=\"monospace\" font-size=\"10.00\"> (64, 64, 3, 3)</text>\n</g>\n<!-- 140108161100928&#45;&gt;140108170949024 -->\n<g id=\"edge32\" class=\"edge\">\n<title>140108161100928&#45;&gt;140108170949024</title>\n<path fill=\"none\" stroke=\"black\" d=\"M1169.78,-715.87C1204.75,-705.2 1264.79,-686.88 1306.9,-674.02\"/>\n</g>\n<!-- 140108161100496 -->\n<g id=\"node243\" class=\"node\">\n<title>140108161100496</title>\n<polygon fill=\"lightgrey\" stroke=\"black\" points=\"1401,-601.5 1300,-601.5 1300,-582.5 1401,-582.5 1401,-601.5\"/>\n<text text-anchor=\"middle\" x=\"1350.5\" y=\"-589.5\" font-family=\"monospace\" font-size=\"10.00\">AccumulateGrad</text>\n</g>\n<!-- 140108170949024&#45;&gt;140108161100496 -->\n<g id=\"edge273\" class=\"edge\">\n<title>140108170949024&#45;&gt;140108161100496</title>\n<path fill=\"none\" stroke=\"black\" d=\"M1353.59,-642.86C1353.02,-633.68 1352.28,-621.75 1351.67,-611.86\"/>\n<polygon fill=\"black\" stroke=\"black\" points=\"1355.16,-611.59 1351.05,-601.82 1348.17,-612.02 1355.16,-611.59\"/>\n</g>\n<!-- 140108161100448 -->\n<g id=\"node35\" class=\"node\">\n<title>140108161100448</title>\n<polygon fill=\"lightgrey\" stroke=\"black\" points=\"984,-801.5 823,-801.5 823,-782.5 984,-782.5 984,-801.5\"/>\n<text text-anchor=\"middle\" x=\"903.5\" y=\"-789.5\" font-family=\"monospace\" font-size=\"10.00\">NativeBatchNormBackward0</text>\n</g>\n<!-- 140108161100448&#45;&gt;140108161100928 -->\n<g id=\"edge33\" class=\"edge\">\n<title>140108161100448&#45;&gt;140108161100928</title>\n<path fill=\"none\" stroke=\"black\" d=\"M935.1,-782.43C977.51,-770.94 1052.93,-750.5 1099.91,-737.77\"/>\n<polygon fill=\"black\" stroke=\"black\" points=\"1101.03,-741.09 1109.76,-735.1 1099.2,-734.34 1101.03,-741.09\"/>\n</g>\n<!-- 140112418360592 -->\n<g id=\"node36\" class=\"node\">\n<title>140112418360592</title>\n<polygon fill=\"orange\" stroke=\"black\" points=\"1329,-740.5 1228,-740.5 1228,-710.5 1329,-710.5 1329,-740.5\"/>\n<text text-anchor=\"middle\" x=\"1278.5\" y=\"-728.5\" font-family=\"monospace\" font-size=\"10.00\">input</text>\n<text text-anchor=\"middle\" x=\"1278.5\" y=\"-717.5\" font-family=\"monospace\" font-size=\"10.00\"> (1, 64, 4, 4)</text>\n</g>\n<!-- 140108161100448&#45;&gt;140112418360592 -->\n<g id=\"edge34\" class=\"edge\">\n<title>140108161100448&#45;&gt;140112418360592</title>\n<path fill=\"none\" stroke=\"black\" d=\"M958.27,-782.46C1045.33,-768.86 1206.82,-743.56 1219.5,-741 1222.19,-740.46 1224.94,-739.88 1227.71,-739.27\"/>\n</g>\n<!-- 140108170774144 -->\n<g id=\"node37\" class=\"node\">\n<title>140108170774144</title>\n<polygon fill=\"orange\" stroke=\"black\" points=\"659,-740.5 600,-740.5 600,-710.5 659,-710.5 659,-740.5\"/>\n<text text-anchor=\"middle\" x=\"629.5\" y=\"-728.5\" font-family=\"monospace\" font-size=\"10.00\">result1</text>\n<text text-anchor=\"middle\" x=\"629.5\" y=\"-717.5\" font-family=\"monospace\" font-size=\"10.00\"> (0)</text>\n</g>\n<!-- 140108161100448&#45;&gt;140108170774144 -->\n<g id=\"edge35\" class=\"edge\">\n<title>140108161100448&#45;&gt;140108170774144</title>\n<path fill=\"none\" stroke=\"black\" d=\"M851.82,-782.45C803.62,-773.91 729.97,-759.41 667.5,-741 664.79,-740.2 662,-739.3 659.22,-738.34\"/>\n</g>\n<!-- 140112418363712 -->\n<g id=\"node38\" class=\"node\">\n<title>140112418363712</title>\n<polygon fill=\"orange\" stroke=\"black\" points=\"736,-740.5 677,-740.5 677,-710.5 736,-710.5 736,-740.5\"/>\n<text text-anchor=\"middle\" x=\"706.5\" y=\"-728.5\" font-family=\"monospace\" font-size=\"10.00\">result2</text>\n<text text-anchor=\"middle\" x=\"706.5\" y=\"-717.5\" font-family=\"monospace\" font-size=\"10.00\"> (0)</text>\n</g>\n<!-- 140108161100448&#45;&gt;140112418363712 -->\n<g id=\"edge36\" class=\"edge\">\n<title>140108161100448&#45;&gt;140112418363712</title>\n<path fill=\"none\" stroke=\"black\" d=\"M875.11,-782.48C843.37,-772.85 790.53,-756.48 745.5,-741 742.49,-739.97 739.37,-738.86 736.26,-737.74\"/>\n</g>\n<!-- 140108170951744 -->\n<g id=\"node39\" class=\"node\">\n<title>140108170951744</title>\n<polygon fill=\"orange\" stroke=\"black\" points=\"843,-740.5 754,-740.5 754,-710.5 843,-710.5 843,-740.5\"/>\n<text text-anchor=\"middle\" x=\"798.5\" y=\"-728.5\" font-family=\"monospace\" font-size=\"10.00\">running_mean</text>\n<text text-anchor=\"middle\" x=\"798.5\" y=\"-717.5\" font-family=\"monospace\" font-size=\"10.00\"> (64)</text>\n</g>\n<!-- 140108161100448&#45;&gt;140108170951744 -->\n<g id=\"edge37\" class=\"edge\">\n<title>140108161100448&#45;&gt;140108170951744</title>\n<path fill=\"none\" stroke=\"black\" d=\"M889.34,-782.3C871.99,-771.64 842.35,-753.43 821.66,-740.73\"/>\n</g>\n<!-- 140108170949504 -->\n<g id=\"node40\" class=\"node\">\n<title>140108170949504</title>\n<polygon fill=\"orange\" stroke=\"black\" points=\"944,-740.5 861,-740.5 861,-710.5 944,-710.5 944,-740.5\"/>\n<text text-anchor=\"middle\" x=\"902.5\" y=\"-728.5\" font-family=\"monospace\" font-size=\"10.00\">running_var</text>\n<text text-anchor=\"middle\" x=\"902.5\" y=\"-717.5\" font-family=\"monospace\" font-size=\"10.00\"> (64)</text>\n</g>\n<!-- 140108161100448&#45;&gt;140108170949504 -->\n<g id=\"edge38\" class=\"edge\">\n<title>140108161100448&#45;&gt;140108170949504</title>\n<path fill=\"none\" stroke=\"black\" d=\"M903.37,-782.3C903.2,-771.71 902.92,-753.67 902.72,-740.97\"/>\n</g>\n<!-- 140108170951424 -->\n<g id=\"node41\" class=\"node\">\n<title>140108170951424</title>\n<polygon fill=\"lightblue\" stroke=\"black\" points=\"1054.5,-741 1000.5,-741 1000.5,-710 1054.5,-710 1054.5,-741\"/>\n<text text-anchor=\"middle\" x=\"1027.5\" y=\"-717\" font-family=\"monospace\" font-size=\"10.00\"> (64)</text>\n</g>\n<!-- 140108161100448&#45;&gt;140108170951424 -->\n<g id=\"edge39\" class=\"edge\">\n<title>140108161100448&#45;&gt;140108170951424</title>\n<path fill=\"none\" stroke=\"black\" d=\"M919.97,-782.43C940.39,-771.81 975.5,-753.55 1000.03,-740.79\"/>\n</g>\n<!-- 140108161104144 -->\n<g id=\"node240\" class=\"node\">\n<title>140108161104144</title>\n<polygon fill=\"lightgrey\" stroke=\"black\" points=\"1012,-668 911,-668 911,-649 1012,-649 1012,-668\"/>\n<text text-anchor=\"middle\" x=\"961.5\" y=\"-656\" font-family=\"monospace\" font-size=\"10.00\">AccumulateGrad</text>\n</g>\n<!-- 140108170951424&#45;&gt;140108161104144 -->\n<g id=\"edge269\" class=\"edge\">\n<title>140108170951424&#45;&gt;140108161104144</title>\n<path fill=\"none\" stroke=\"black\" d=\"M1012.52,-709.75C1002.1,-699.48 988.21,-685.81 977.56,-675.31\"/>\n<polygon fill=\"black\" stroke=\"black\" points=\"979.73,-672.54 970.15,-668.02 974.82,-677.53 979.73,-672.54\"/>\n</g>\n<!-- 140108161104288 -->\n<g id=\"node42\" class=\"node\">\n<title>140108161104288</title>\n<polygon fill=\"lightgrey\" stroke=\"black\" points=\"1068,-868 973,-868 973,-849 1068,-849 1068,-868\"/>\n<text text-anchor=\"middle\" x=\"1020.5\" y=\"-856\" font-family=\"monospace\" font-size=\"10.00\">ReluBackward0</text>\n</g>\n<!-- 140108161104288&#45;&gt;140108161100448 -->\n<g id=\"edge40\" class=\"edge\">\n<title>140108161104288&#45;&gt;140108161100448</title>\n<path fill=\"none\" stroke=\"black\" d=\"M1004.72,-848.8C984.99,-837.92 950.99,-819.18 927.89,-806.45\"/>\n<polygon fill=\"black\" stroke=\"black\" points=\"929.48,-803.32 919.03,-801.56 926.1,-809.45 929.48,-803.32\"/>\n</g>\n<!-- 140112418363152 -->\n<g id=\"node43\" class=\"node\">\n<title>140112418363152</title>\n<polygon fill=\"orange\" stroke=\"black\" points=\"1103,-807 1002,-807 1002,-777 1103,-777 1103,-807\"/>\n<text text-anchor=\"middle\" x=\"1052.5\" y=\"-795\" font-family=\"monospace\" font-size=\"10.00\">result</text>\n<text text-anchor=\"middle\" x=\"1052.5\" y=\"-784\" font-family=\"monospace\" font-size=\"10.00\"> (1, 64, 4, 4)</text>\n</g>\n<!-- 140108161104288&#45;&gt;140112418363152 -->\n<g id=\"edge41\" class=\"edge\">\n<title>140108161104288&#45;&gt;140112418363152</title>\n<path fill=\"none\" stroke=\"black\" d=\"M1024.82,-848.8C1030.07,-838.21 1039.02,-820.17 1045.32,-807.47\"/>\n</g>\n<!-- 140108161101264 -->\n<g id=\"node44\" class=\"node\">\n<title>140108161101264</title>\n<polygon fill=\"lightgrey\" stroke=\"black\" points=\"1247,-935 1110,-935 1110,-916 1247,-916 1247,-935\"/>\n<text text-anchor=\"middle\" x=\"1178.5\" y=\"-923\" font-family=\"monospace\" font-size=\"10.00\">ConvolutionBackward0</text>\n</g>\n<!-- 140108161101264&#45;&gt;140108161104288 -->\n<g id=\"edge42\" class=\"edge\">\n<title>140108161101264&#45;&gt;140108161104288</title>\n<path fill=\"none\" stroke=\"black\" d=\"M1157.52,-915.87C1130.25,-904.65 1082.43,-884.98 1051.11,-872.09\"/>\n<polygon fill=\"black\" stroke=\"black\" points=\"1052.15,-868.74 1041.57,-868.17 1049.48,-875.21 1052.15,-868.74\"/>\n</g>\n<!-- 140112418364512 -->\n<g id=\"node45\" class=\"node\">\n<title>140112418364512</title>\n<polygon fill=\"orange\" stroke=\"black\" points=\"1351,-873.5 1250,-873.5 1250,-843.5 1351,-843.5 1351,-873.5\"/>\n<text text-anchor=\"middle\" x=\"1300.5\" y=\"-861.5\" font-family=\"monospace\" font-size=\"10.00\">input</text>\n<text text-anchor=\"middle\" x=\"1300.5\" y=\"-850.5\" font-family=\"monospace\" font-size=\"10.00\"> (1, 32, 4, 4)</text>\n</g>\n<!-- 140108161101264&#45;&gt;140112418364512 -->\n<g id=\"edge43\" class=\"edge\">\n<title>140108161101264&#45;&gt;140112418364512</title>\n<path fill=\"none\" stroke=\"black\" d=\"M1194.7,-915.87C1214.92,-905.09 1249.79,-886.52 1273.94,-873.65\"/>\n</g>\n<!-- 140108170949744 -->\n<g id=\"node46\" class=\"node\">\n<title>140108170949744</title>\n<polygon fill=\"lightblue\" stroke=\"black\" points=\"1232,-874 1125,-874 1125,-843 1232,-843 1232,-874\"/>\n<text text-anchor=\"middle\" x=\"1178.5\" y=\"-850\" font-family=\"monospace\" font-size=\"10.00\"> (64, 32, 3, 3)</text>\n</g>\n<!-- 140108161101264&#45;&gt;140108170949744 -->\n<g id=\"edge44\" class=\"edge\">\n<title>140108161101264&#45;&gt;140108170949744</title>\n<path fill=\"none\" stroke=\"black\" d=\"M1178.5,-915.73C1178.5,-905.06 1178.5,-886.88 1178.5,-874.08\"/>\n</g>\n<!-- 140108161099248 -->\n<g id=\"node239\" class=\"node\">\n<title>140108161099248</title>\n<polygon fill=\"lightgrey\" stroke=\"black\" points=\"1225,-801.5 1124,-801.5 1124,-782.5 1225,-782.5 1225,-801.5\"/>\n<text text-anchor=\"middle\" x=\"1174.5\" y=\"-789.5\" font-family=\"monospace\" font-size=\"10.00\">AccumulateGrad</text>\n</g>\n<!-- 140108170949744&#45;&gt;140108161099248 -->\n<g id=\"edge267\" class=\"edge\">\n<title>140108170949744&#45;&gt;140108161099248</title>\n<path fill=\"none\" stroke=\"black\" d=\"M1177.59,-842.86C1177.02,-833.68 1176.28,-821.75 1175.67,-811.86\"/>\n<polygon fill=\"black\" stroke=\"black\" points=\"1179.16,-811.59 1175.05,-801.82 1172.17,-812.02 1179.16,-811.59\"/>\n</g>\n<!-- 140108161099008 -->\n<g id=\"node47\" class=\"node\">\n<title>140108161099008</title>\n<polygon fill=\"lightgrey\" stroke=\"black\" points=\"1345,-1002 1256,-1002 1256,-983 1345,-983 1345,-1002\"/>\n<text text-anchor=\"middle\" x=\"1300.5\" y=\"-990\" font-family=\"monospace\" font-size=\"10.00\">AddBackward0</text>\n</g>\n<!-- 140108161099008&#45;&gt;140108161101264 -->\n<g id=\"edge45\" class=\"edge\">\n<title>140108161099008&#45;&gt;140108161101264</title>\n<path fill=\"none\" stroke=\"black\" d=\"M1284.3,-982.87C1263.7,-971.89 1227.91,-952.82 1203.72,-939.94\"/>\n<polygon fill=\"black\" stroke=\"black\" points=\"1205.24,-936.78 1194.77,-935.17 1201.95,-942.96 1205.24,-936.78\"/>\n</g>\n<!-- 140108161099296 -->\n<g id=\"node260\" class=\"node\">\n<title>140108161099296</title>\n<polygon fill=\"lightgrey\" stroke=\"black\" points=\"1491,-935 1354,-935 1354,-916 1491,-916 1491,-935\"/>\n<text text-anchor=\"middle\" x=\"1422.5\" y=\"-923\" font-family=\"monospace\" font-size=\"10.00\">ConvolutionBackward0</text>\n</g>\n<!-- 140108161099008&#45;&gt;140108161099296 -->\n<g id=\"edge296\" class=\"edge\">\n<title>140108161099008&#45;&gt;140108161099296</title>\n<path fill=\"none\" stroke=\"black\" d=\"M1316.7,-982.87C1337.3,-971.89 1373.09,-952.82 1397.28,-939.94\"/>\n<polygon fill=\"black\" stroke=\"black\" points=\"1399.05,-942.96 1406.23,-935.17 1395.76,-936.78 1399.05,-942.96\"/>\n</g>\n<!-- 140108161099392 -->\n<g id=\"node48\" class=\"node\">\n<title>140108161099392</title>\n<polygon fill=\"lightgrey\" stroke=\"black\" points=\"669,-1068.5 508,-1068.5 508,-1049.5 669,-1049.5 669,-1068.5\"/>\n<text text-anchor=\"middle\" x=\"588.5\" y=\"-1056.5\" font-family=\"monospace\" font-size=\"10.00\">NativeBatchNormBackward0</text>\n</g>\n<!-- 140108161099392&#45;&gt;140108161099008 -->\n<g id=\"edge46\" class=\"edge\">\n<title>140108161099392&#45;&gt;140108161099008</title>\n<path fill=\"none\" stroke=\"black\" d=\"M638.3,-1049.49C651.06,-1047.5 664.76,-1045.52 677.5,-1044 886.8,-1019.09 1137.14,-1002.91 1245.75,-996.55\"/>\n<polygon fill=\"black\" stroke=\"black\" points=\"1246.03,-1000.04 1255.81,-995.97 1245.63,-993.05 1246.03,-1000.04\"/>\n</g>\n<!-- 140112418358192 -->\n<g id=\"node49\" class=\"node\">\n<title>140112418358192</title>\n<polygon fill=\"orange\" stroke=\"black\" points=\"773,-1007.5 672,-1007.5 672,-977.5 773,-977.5 773,-1007.5\"/>\n<text text-anchor=\"middle\" x=\"722.5\" y=\"-995.5\" font-family=\"monospace\" font-size=\"10.00\">input</text>\n<text text-anchor=\"middle\" x=\"722.5\" y=\"-984.5\" font-family=\"monospace\" font-size=\"10.00\"> (1, 32, 4, 4)</text>\n</g>\n<!-- 140108161099392&#45;&gt;140112418358192 -->\n<g id=\"edge47\" class=\"edge\">\n<title>140108161099392&#45;&gt;140112418358192</title>\n<path fill=\"none\" stroke=\"black\" d=\"M606.29,-1049.43C628.51,-1038.74 666.8,-1020.31 693.33,-1007.54\"/>\n</g>\n<!-- 140112418364112 -->\n<g id=\"node50\" class=\"node\">\n<title>140112418364112</title>\n<polygon fill=\"orange\" stroke=\"black\" points=\"850,-1007.5 791,-1007.5 791,-977.5 850,-977.5 850,-1007.5\"/>\n<text text-anchor=\"middle\" x=\"820.5\" y=\"-995.5\" font-family=\"monospace\" font-size=\"10.00\">result1</text>\n<text text-anchor=\"middle\" x=\"820.5\" y=\"-984.5\" font-family=\"monospace\" font-size=\"10.00\"> (0)</text>\n</g>\n<!-- 140108161099392&#45;&gt;140112418364112 -->\n<g id=\"edge48\" class=\"edge\">\n<title>140108161099392&#45;&gt;140112418364112</title>\n<path fill=\"none\" stroke=\"black\" d=\"M626.78,-1049.48C666.17,-1040.39 729.14,-1025 782.5,-1008 785.19,-1007.14 787.97,-1006.2 790.74,-1005.22\"/>\n</g>\n<!-- 140112418362752 -->\n<g id=\"node51\" class=\"node\">\n<title>140112418362752</title>\n<polygon fill=\"orange\" stroke=\"black\" points=\"335,-1007.5 276,-1007.5 276,-977.5 335,-977.5 335,-1007.5\"/>\n<text text-anchor=\"middle\" x=\"305.5\" y=\"-995.5\" font-family=\"monospace\" font-size=\"10.00\">result2</text>\n<text text-anchor=\"middle\" x=\"305.5\" y=\"-984.5\" font-family=\"monospace\" font-size=\"10.00\"> (0)</text>\n</g>\n<!-- 140108161099392&#45;&gt;140112418362752 -->\n<g id=\"edge49\" class=\"edge\">\n<title>140108161099392&#45;&gt;140112418362752</title>\n<path fill=\"none\" stroke=\"black\" d=\"M533.87,-1049.48C483.81,-1041.06 407.9,-1026.72 343.5,-1008 340.79,-1007.21 338,-1006.32 335.21,-1005.36\"/>\n</g>\n<!-- 140108170951344 -->\n<g id=\"node52\" class=\"node\">\n<title>140108170951344</title>\n<polygon fill=\"orange\" stroke=\"black\" points=\"442,-1007.5 353,-1007.5 353,-977.5 442,-977.5 442,-1007.5\"/>\n<text text-anchor=\"middle\" x=\"397.5\" y=\"-995.5\" font-family=\"monospace\" font-size=\"10.00\">running_mean</text>\n<text text-anchor=\"middle\" x=\"397.5\" y=\"-984.5\" font-family=\"monospace\" font-size=\"10.00\"> (32)</text>\n</g>\n<!-- 140108161099392&#45;&gt;140108170951344 -->\n<g id=\"edge50\" class=\"edge\">\n<title>140108161099392&#45;&gt;140108170951344</title>\n<path fill=\"none\" stroke=\"black\" d=\"M563.14,-1049.43C531.48,-1038.74 476.89,-1020.31 439.08,-1007.54\"/>\n</g>\n<!-- 140108170950544 -->\n<g id=\"node53\" class=\"node\">\n<title>140108170950544</title>\n<polygon fill=\"orange\" stroke=\"black\" points=\"543,-1007.5 460,-1007.5 460,-977.5 543,-977.5 543,-1007.5\"/>\n<text text-anchor=\"middle\" x=\"501.5\" y=\"-995.5\" font-family=\"monospace\" font-size=\"10.00\">running_var</text>\n<text text-anchor=\"middle\" x=\"501.5\" y=\"-984.5\" font-family=\"monospace\" font-size=\"10.00\"> (32)</text>\n</g>\n<!-- 140108161099392&#45;&gt;140108170950544 -->\n<g id=\"edge51\" class=\"edge\">\n<title>140108161099392&#45;&gt;140108170950544</title>\n<path fill=\"none\" stroke=\"black\" d=\"M576.77,-1049.3C562.39,-1038.64 537.83,-1020.43 520.69,-1007.73\"/>\n</g>\n<!-- 140108170951104 -->\n<g id=\"node54\" class=\"node\">\n<title>140108170951104</title>\n<polygon fill=\"lightblue\" stroke=\"black\" points=\"615.5,-1008 561.5,-1008 561.5,-977 615.5,-977 615.5,-1008\"/>\n<text text-anchor=\"middle\" x=\"588.5\" y=\"-984\" font-family=\"monospace\" font-size=\"10.00\"> (32)</text>\n</g>\n<!-- 140108161099392&#45;&gt;140108170951104 -->\n<g id=\"edge52\" class=\"edge\">\n<title>140108161099392&#45;&gt;140108170951104</title>\n<path fill=\"none\" stroke=\"black\" d=\"M588.5,-1049.3C588.5,-1038.85 588.5,-1021.14 588.5,-1008.47\"/>\n</g>\n<!-- 140108161105056 -->\n<g id=\"node221\" class=\"node\">\n<title>140108161105056</title>\n<polygon fill=\"lightgrey\" stroke=\"black\" points=\"667,-935 566,-935 566,-916 667,-916 667,-935\"/>\n<text text-anchor=\"middle\" x=\"616.5\" y=\"-923\" font-family=\"monospace\" font-size=\"10.00\">AccumulateGrad</text>\n</g>\n<!-- 140108170951104&#45;&gt;140108161105056 -->\n<g id=\"edge244\" class=\"edge\">\n<title>140108170951104&#45;&gt;140108161105056</title>\n<path fill=\"none\" stroke=\"black\" d=\"M594.85,-976.75C598.97,-967.19 604.37,-954.67 608.74,-944.52\"/>\n<polygon fill=\"black\" stroke=\"black\" points=\"612.09,-945.59 612.83,-935.02 605.66,-942.82 612.09,-945.59\"/>\n</g>\n<!-- 140108161098960 -->\n<g id=\"node55\" class=\"node\">\n<title>140108161098960</title>\n<polygon fill=\"lightgrey\" stroke=\"black\" points=\"726,-1135 631,-1135 631,-1116 726,-1116 726,-1135\"/>\n<text text-anchor=\"middle\" x=\"678.5\" y=\"-1123\" font-family=\"monospace\" font-size=\"10.00\">ReluBackward0</text>\n</g>\n<!-- 140108161098960&#45;&gt;140108161099392 -->\n<g id=\"edge53\" class=\"edge\">\n<title>140108161098960&#45;&gt;140108161099392</title>\n<path fill=\"none\" stroke=\"black\" d=\"M666.36,-1115.8C651.65,-1105.26 626.64,-1087.34 608.94,-1074.65\"/>\n<polygon fill=\"black\" stroke=\"black\" points=\"610.61,-1071.54 600.45,-1068.56 606.53,-1077.23 610.61,-1071.54\"/>\n</g>\n<!-- 140112418362112 -->\n<g id=\"node56\" class=\"node\">\n<title>140112418362112</title>\n<polygon fill=\"orange\" stroke=\"black\" points=\"788,-1074 687,-1074 687,-1044 788,-1044 788,-1074\"/>\n<text text-anchor=\"middle\" x=\"737.5\" y=\"-1062\" font-family=\"monospace\" font-size=\"10.00\">result</text>\n<text text-anchor=\"middle\" x=\"737.5\" y=\"-1051\" font-family=\"monospace\" font-size=\"10.00\"> (1, 32, 4, 4)</text>\n</g>\n<!-- 140108161098960&#45;&gt;140112418362112 -->\n<g id=\"edge54\" class=\"edge\">\n<title>140108161098960&#45;&gt;140112418362112</title>\n<path fill=\"none\" stroke=\"black\" d=\"M686.46,-1115.8C696.14,-1105.21 712.65,-1087.17 724.26,-1074.47\"/>\n</g>\n<!-- 140108161089648 -->\n<g id=\"node57\" class=\"node\">\n<title>140108161089648</title>\n<polygon fill=\"lightgrey\" stroke=\"black\" points=\"810,-1202 673,-1202 673,-1183 810,-1183 810,-1202\"/>\n<text text-anchor=\"middle\" x=\"741.5\" y=\"-1190\" font-family=\"monospace\" font-size=\"10.00\">ConvolutionBackward0</text>\n</g>\n<!-- 140108161089648&#45;&gt;140108161098960 -->\n<g id=\"edge55\" class=\"edge\">\n<title>140108161089648&#45;&gt;140108161098960</title>\n<path fill=\"none\" stroke=\"black\" d=\"M733,-1182.73C722.99,-1172.4 706.16,-1155.04 693.84,-1142.33\"/>\n<polygon fill=\"black\" stroke=\"black\" points=\"696.33,-1139.87 686.86,-1135.13 691.31,-1144.74 696.33,-1139.87\"/>\n</g>\n<!-- 140112418357392 -->\n<g id=\"node58\" class=\"node\">\n<title>140112418357392</title>\n<polygon fill=\"orange\" stroke=\"black\" points=\"845,-1140.5 744,-1140.5 744,-1110.5 845,-1110.5 845,-1140.5\"/>\n<text text-anchor=\"middle\" x=\"794.5\" y=\"-1128.5\" font-family=\"monospace\" font-size=\"10.00\">input</text>\n<text text-anchor=\"middle\" x=\"794.5\" y=\"-1117.5\" font-family=\"monospace\" font-size=\"10.00\"> (1, 32, 8, 8)</text>\n</g>\n<!-- 140108161089648&#45;&gt;140112418357392 -->\n<g id=\"edge56\" class=\"edge\">\n<title>140108161089648&#45;&gt;140112418357392</title>\n<path fill=\"none\" stroke=\"black\" d=\"M748.65,-1182.73C757.46,-1171.92 772.56,-1153.41 783.01,-1140.59\"/>\n</g>\n<!-- 140108170950704 -->\n<g id=\"node59\" class=\"node\">\n<title>140108170950704</title>\n<polygon fill=\"lightblue\" stroke=\"black\" points=\"970,-1141 863,-1141 863,-1110 970,-1110 970,-1141\"/>\n<text text-anchor=\"middle\" x=\"916.5\" y=\"-1117\" font-family=\"monospace\" font-size=\"10.00\"> (32, 32, 3, 3)</text>\n</g>\n<!-- 140108161089648&#45;&gt;140108170950704 -->\n<g id=\"edge57\" class=\"edge\">\n<title>140108161089648&#45;&gt;140108170950704</title>\n<path fill=\"none\" stroke=\"black\" d=\"M764.74,-1182.87C793.47,-1172.2 842.8,-1153.88 877.4,-1141.02\"/>\n</g>\n<!-- 140108161089792 -->\n<g id=\"node220\" class=\"node\">\n<title>140108161089792</title>\n<polygon fill=\"lightgrey\" stroke=\"black\" points=\"1008,-1068.5 907,-1068.5 907,-1049.5 1008,-1049.5 1008,-1068.5\"/>\n<text text-anchor=\"middle\" x=\"957.5\" y=\"-1056.5\" font-family=\"monospace\" font-size=\"10.00\">AccumulateGrad</text>\n</g>\n<!-- 140108170950704&#45;&gt;140108161089792 -->\n<g id=\"edge242\" class=\"edge\">\n<title>140108170950704&#45;&gt;140108161089792</title>\n<path fill=\"none\" stroke=\"black\" d=\"M925.8,-1109.86C931.95,-1100.19 940.04,-1087.46 946.51,-1077.29\"/>\n<polygon fill=\"black\" stroke=\"black\" points=\"949.48,-1079.14 951.89,-1068.82 943.57,-1075.38 949.48,-1079.14\"/>\n</g>\n<!-- 140108161090032 -->\n<g id=\"node60\" class=\"node\">\n<title>140108161090032</title>\n<polygon fill=\"lightgrey\" stroke=\"black\" points=\"822,-1268.5 661,-1268.5 661,-1249.5 822,-1249.5 822,-1268.5\"/>\n<text text-anchor=\"middle\" x=\"741.5\" y=\"-1256.5\" font-family=\"monospace\" font-size=\"10.00\">NativeBatchNormBackward0</text>\n</g>\n<!-- 140108161090032&#45;&gt;140108161089648 -->\n<g id=\"edge58\" class=\"edge\">\n<title>140108161090032&#45;&gt;140108161089648</title>\n<path fill=\"none\" stroke=\"black\" d=\"M741.5,-1249.3C741.5,-1239.82 741.5,-1224.38 741.5,-1212.14\"/>\n<polygon fill=\"black\" stroke=\"black\" points=\"745,-1212.06 741.5,-1202.06 738,-1212.06 745,-1212.06\"/>\n</g>\n<!-- 140112418357472 -->\n<g id=\"node61\" class=\"node\">\n<title>140112418357472</title>\n<polygon fill=\"orange\" stroke=\"black\" points=\"929,-1207.5 828,-1207.5 828,-1177.5 929,-1177.5 929,-1207.5\"/>\n<text text-anchor=\"middle\" x=\"878.5\" y=\"-1195.5\" font-family=\"monospace\" font-size=\"10.00\">input</text>\n<text text-anchor=\"middle\" x=\"878.5\" y=\"-1184.5\" font-family=\"monospace\" font-size=\"10.00\"> (1, 32, 8, 8)</text>\n</g>\n<!-- 140108161090032&#45;&gt;140112418357472 -->\n<g id=\"edge59\" class=\"edge\">\n<title>140108161090032&#45;&gt;140112418357472</title>\n<path fill=\"none\" stroke=\"black\" d=\"M759.69,-1249.43C782.4,-1238.74 821.55,-1220.31 848.67,-1207.54\"/>\n</g>\n<!-- 140112418360832 -->\n<g id=\"node62\" class=\"node\">\n<title>140112418360832</title>\n<polygon fill=\"orange\" stroke=\"black\" points=\"1006,-1207.5 947,-1207.5 947,-1177.5 1006,-1177.5 1006,-1207.5\"/>\n<text text-anchor=\"middle\" x=\"976.5\" y=\"-1195.5\" font-family=\"monospace\" font-size=\"10.00\">result1</text>\n<text text-anchor=\"middle\" x=\"976.5\" y=\"-1184.5\" font-family=\"monospace\" font-size=\"10.00\"> (0)</text>\n</g>\n<!-- 140108161090032&#45;&gt;140112418360832 -->\n<g id=\"edge60\" class=\"edge\">\n<title>140108161090032&#45;&gt;140112418360832</title>\n<path fill=\"none\" stroke=\"black\" d=\"M780.75,-1249.45C820.78,-1240.4 884.51,-1225.09 938.5,-1208 941.19,-1207.15 943.97,-1206.21 946.74,-1205.23\"/>\n</g>\n<!-- 140112418361472 -->\n<g id=\"node63\" class=\"node\">\n<title>140112418361472</title>\n<polygon fill=\"orange\" stroke=\"black\" points=\"1083,-1207.5 1024,-1207.5 1024,-1177.5 1083,-1177.5 1083,-1207.5\"/>\n<text text-anchor=\"middle\" x=\"1053.5\" y=\"-1195.5\" font-family=\"monospace\" font-size=\"10.00\">result2</text>\n<text text-anchor=\"middle\" x=\"1053.5\" y=\"-1184.5\" font-family=\"monospace\" font-size=\"10.00\"> (0)</text>\n</g>\n<!-- 140108161090032&#45;&gt;140112418361472 -->\n<g id=\"edge61\" class=\"edge\">\n<title>140108161090032&#45;&gt;140112418361472</title>\n<path fill=\"none\" stroke=\"black\" d=\"M794.78,-1249.48C862.32,-1238.46 974.87,-1219.36 1015.5,-1208 1018.22,-1207.24 1021.02,-1206.36 1023.8,-1205.43\"/>\n</g>\n<!-- 140108170950224 -->\n<g id=\"node64\" class=\"node\">\n<title>140108170950224</title>\n<polygon fill=\"orange\" stroke=\"black\" points=\"1190,-1207.5 1101,-1207.5 1101,-1177.5 1190,-1177.5 1190,-1207.5\"/>\n<text text-anchor=\"middle\" x=\"1145.5\" y=\"-1195.5\" font-family=\"monospace\" font-size=\"10.00\">running_mean</text>\n<text text-anchor=\"middle\" x=\"1145.5\" y=\"-1184.5\" font-family=\"monospace\" font-size=\"10.00\"> (32)</text>\n</g>\n<!-- 140108161090032&#45;&gt;140108170950224 -->\n<g id=\"edge62\" class=\"edge\">\n<title>140108161090032&#45;&gt;140108170950224</title>\n<path fill=\"none\" stroke=\"black\" d=\"M795.25,-1249.48C807.18,-1247.64 819.77,-1245.72 831.5,-1244 947.36,-1227 977.78,-1231.5 1092.5,-1208 1095.21,-1207.44 1097.99,-1206.83 1100.78,-1206.17\"/>\n</g>\n<!-- 140108170950944 -->\n<g id=\"node65\" class=\"node\">\n<title>140108170950944</title>\n<polygon fill=\"orange\" stroke=\"black\" points=\"544,-1207.5 461,-1207.5 461,-1177.5 544,-1177.5 544,-1207.5\"/>\n<text text-anchor=\"middle\" x=\"502.5\" y=\"-1195.5\" font-family=\"monospace\" font-size=\"10.00\">running_var</text>\n<text text-anchor=\"middle\" x=\"502.5\" y=\"-1184.5\" font-family=\"monospace\" font-size=\"10.00\"> (32)</text>\n</g>\n<!-- 140108161090032&#45;&gt;140108170950944 -->\n<g id=\"edge63\" class=\"edge\">\n<title>140108161090032&#45;&gt;140108170950944</title>\n<path fill=\"none\" stroke=\"black\" d=\"M708.85,-1249.5C671.32,-1239.68 607.88,-1222.96 553.5,-1208 550.48,-1207.17 547.37,-1206.3 544.23,-1205.43\"/>\n</g>\n<!-- 140108170949904 -->\n<g id=\"node66\" class=\"node\">\n<title>140108170949904</title>\n<polygon fill=\"lightblue\" stroke=\"black\" points=\"616.5,-1208 562.5,-1208 562.5,-1177 616.5,-1177 616.5,-1208\"/>\n<text text-anchor=\"middle\" x=\"589.5\" y=\"-1184\" font-family=\"monospace\" font-size=\"10.00\"> (32)</text>\n</g>\n<!-- 140108161090032&#45;&gt;140108170949904 -->\n<g id=\"edge64\" class=\"edge\">\n<title>140108161090032&#45;&gt;140108170949904</title>\n<path fill=\"none\" stroke=\"black\" d=\"M721.32,-1249.43C694.42,-1238.02 646.75,-1217.8 616.71,-1205.05\"/>\n</g>\n<!-- 140108161089936 -->\n<g id=\"node217\" class=\"node\">\n<title>140108161089936</title>\n<polygon fill=\"lightgrey\" stroke=\"black\" points=\"613,-1135 512,-1135 512,-1116 613,-1116 613,-1135\"/>\n<text text-anchor=\"middle\" x=\"562.5\" y=\"-1123\" font-family=\"monospace\" font-size=\"10.00\">AccumulateGrad</text>\n</g>\n<!-- 140108170949904&#45;&gt;140108161089936 -->\n<g id=\"edge238\" class=\"edge\">\n<title>140108170949904&#45;&gt;140108161089936</title>\n<path fill=\"none\" stroke=\"black\" d=\"M583.37,-1176.75C579.4,-1167.19 574.2,-1154.67 569.98,-1144.52\"/>\n<polygon fill=\"black\" stroke=\"black\" points=\"573.11,-1142.91 566.04,-1135.02 566.64,-1145.6 573.11,-1142.91\"/>\n</g>\n<!-- 140108161089984 -->\n<g id=\"node67\" class=\"node\">\n<title>140108161089984</title>\n<polygon fill=\"lightgrey\" stroke=\"black\" points=\"863,-1335 768,-1335 768,-1316 863,-1316 863,-1335\"/>\n<text text-anchor=\"middle\" x=\"815.5\" y=\"-1323\" font-family=\"monospace\" font-size=\"10.00\">ReluBackward0</text>\n</g>\n<!-- 140108161089984&#45;&gt;140108161090032 -->\n<g id=\"edge65\" class=\"edge\">\n<title>140108161089984&#45;&gt;140108161090032</title>\n<path fill=\"none\" stroke=\"black\" d=\"M805.52,-1315.8C793.65,-1305.45 773.61,-1287.99 759.12,-1275.35\"/>\n<polygon fill=\"black\" stroke=\"black\" points=\"761.16,-1272.49 751.32,-1268.56 756.56,-1277.77 761.16,-1272.49\"/>\n</g>\n<!-- 140112418362592 -->\n<g id=\"node68\" class=\"node\">\n<title>140112418362592</title>\n<polygon fill=\"orange\" stroke=\"black\" points=\"941,-1274 840,-1274 840,-1244 941,-1244 941,-1274\"/>\n<text text-anchor=\"middle\" x=\"890.5\" y=\"-1262\" font-family=\"monospace\" font-size=\"10.00\">result</text>\n<text text-anchor=\"middle\" x=\"890.5\" y=\"-1251\" font-family=\"monospace\" font-size=\"10.00\"> (1, 32, 8, 8)</text>\n</g>\n<!-- 140108161089984&#45;&gt;140112418362592 -->\n<g id=\"edge66\" class=\"edge\">\n<title>140108161089984&#45;&gt;140112418362592</title>\n<path fill=\"none\" stroke=\"black\" d=\"M825.61,-1315.8C838.01,-1305.14 859.18,-1286.93 873.96,-1274.23\"/>\n</g>\n<!-- 140108161090368 -->\n<g id=\"node69\" class=\"node\">\n<title>140108161090368</title>\n<polygon fill=\"lightgrey\" stroke=\"black\" points=\"948,-1402 811,-1402 811,-1383 948,-1383 948,-1402\"/>\n<text text-anchor=\"middle\" x=\"879.5\" y=\"-1390\" font-family=\"monospace\" font-size=\"10.00\">ConvolutionBackward0</text>\n</g>\n<!-- 140108161090368&#45;&gt;140108161089984 -->\n<g id=\"edge67\" class=\"edge\">\n<title>140108161090368&#45;&gt;140108161089984</title>\n<path fill=\"none\" stroke=\"black\" d=\"M870.87,-1382.73C860.7,-1372.4 843.6,-1355.04 831.09,-1342.33\"/>\n<polygon fill=\"black\" stroke=\"black\" points=\"833.5,-1339.8 823.99,-1335.13 828.52,-1344.71 833.5,-1339.8\"/>\n</g>\n<!-- 140112418362192 -->\n<g id=\"node70\" class=\"node\">\n<title>140112418362192</title>\n<polygon fill=\"orange\" stroke=\"black\" points=\"1021,-1340.5 920,-1340.5 920,-1310.5 1021,-1310.5 1021,-1340.5\"/>\n<text text-anchor=\"middle\" x=\"970.5\" y=\"-1328.5\" font-family=\"monospace\" font-size=\"10.00\">input</text>\n<text text-anchor=\"middle\" x=\"970.5\" y=\"-1317.5\" font-family=\"monospace\" font-size=\"10.00\"> (1, 32, 8, 8)</text>\n</g>\n<!-- 140108161090368&#45;&gt;140112418362192 -->\n<g id=\"edge68\" class=\"edge\">\n<title>140108161090368&#45;&gt;140112418362192</title>\n<path fill=\"none\" stroke=\"black\" d=\"M891.77,-1382.73C906.91,-1371.92 932.83,-1353.41 950.78,-1340.59\"/>\n</g>\n<!-- 140108170950624 -->\n<g id=\"node71\" class=\"node\">\n<title>140108170950624</title>\n<polygon fill=\"lightblue\" stroke=\"black\" points=\"1146,-1341 1039,-1341 1039,-1310 1146,-1310 1146,-1341\"/>\n<text text-anchor=\"middle\" x=\"1092.5\" y=\"-1317\" font-family=\"monospace\" font-size=\"10.00\"> (32, 32, 3, 3)</text>\n</g>\n<!-- 140108161090368&#45;&gt;140108170950624 -->\n<g id=\"edge69\" class=\"edge\">\n<title>140108161090368&#45;&gt;140108170950624</title>\n<path fill=\"none\" stroke=\"black\" d=\"M907.78,-1382.87C942.75,-1372.2 1002.79,-1353.88 1044.9,-1341.02\"/>\n</g>\n<!-- 140108161090416 -->\n<g id=\"node216\" class=\"node\">\n<title>140108161090416</title>\n<polygon fill=\"lightgrey\" stroke=\"black\" points=\"1139,-1268.5 1038,-1268.5 1038,-1249.5 1139,-1249.5 1139,-1268.5\"/>\n<text text-anchor=\"middle\" x=\"1088.5\" y=\"-1256.5\" font-family=\"monospace\" font-size=\"10.00\">AccumulateGrad</text>\n</g>\n<!-- 140108170950624&#45;&gt;140108161090416 -->\n<g id=\"edge236\" class=\"edge\">\n<title>140108170950624&#45;&gt;140108161090416</title>\n<path fill=\"none\" stroke=\"black\" d=\"M1091.59,-1309.86C1091.02,-1300.68 1090.28,-1288.75 1089.67,-1278.86\"/>\n<polygon fill=\"black\" stroke=\"black\" points=\"1093.16,-1278.59 1089.05,-1268.82 1086.17,-1279.02 1093.16,-1278.59\"/>\n</g>\n<!-- 140108161090272 -->\n<g id=\"node72\" class=\"node\">\n<title>140108161090272</title>\n<polygon fill=\"lightgrey\" stroke=\"black\" points=\"722,-1468.5 561,-1468.5 561,-1449.5 722,-1449.5 722,-1468.5\"/>\n<text text-anchor=\"middle\" x=\"641.5\" y=\"-1456.5\" font-family=\"monospace\" font-size=\"10.00\">NativeBatchNormBackward0</text>\n</g>\n<!-- 140108161090272&#45;&gt;140108161090368 -->\n<g id=\"edge70\" class=\"edge\">\n<title>140108161090272&#45;&gt;140108161090368</title>\n<path fill=\"none\" stroke=\"black\" d=\"M673.1,-1449.43C715.51,-1437.94 790.93,-1417.5 837.91,-1404.77\"/>\n<polygon fill=\"black\" stroke=\"black\" points=\"839.03,-1408.09 847.76,-1402.1 837.2,-1401.34 839.03,-1408.09\"/>\n</g>\n<!-- 140112418358432 -->\n<g id=\"node73\" class=\"node\">\n<title>140112418358432</title>\n<polygon fill=\"orange\" stroke=\"black\" points=\"1067,-1407.5 966,-1407.5 966,-1377.5 1067,-1377.5 1067,-1407.5\"/>\n<text text-anchor=\"middle\" x=\"1016.5\" y=\"-1395.5\" font-family=\"monospace\" font-size=\"10.00\">input</text>\n<text text-anchor=\"middle\" x=\"1016.5\" y=\"-1384.5\" font-family=\"monospace\" font-size=\"10.00\"> (1, 32, 8, 8)</text>\n</g>\n<!-- 140108161090272&#45;&gt;140112418358432 -->\n<g id=\"edge71\" class=\"edge\">\n<title>140108161090272&#45;&gt;140112418358432</title>\n<path fill=\"none\" stroke=\"black\" d=\"M695.51,-1449.48C784.93,-1435.38 954.3,-1408.65 957.5,-1408 960.19,-1407.46 962.94,-1406.88 965.71,-1406.27\"/>\n</g>\n<!-- 140112418357792 -->\n<g id=\"node74\" class=\"node\">\n<title>140112418357792</title>\n<polygon fill=\"orange\" stroke=\"black\" points=\"397,-1407.5 338,-1407.5 338,-1377.5 397,-1377.5 397,-1407.5\"/>\n<text text-anchor=\"middle\" x=\"367.5\" y=\"-1395.5\" font-family=\"monospace\" font-size=\"10.00\">result1</text>\n<text text-anchor=\"middle\" x=\"367.5\" y=\"-1384.5\" font-family=\"monospace\" font-size=\"10.00\"> (0)</text>\n</g>\n<!-- 140108161090272&#45;&gt;140112418357792 -->\n<g id=\"edge72\" class=\"edge\">\n<title>140108161090272&#45;&gt;140112418357792</title>\n<path fill=\"none\" stroke=\"black\" d=\"M589.82,-1449.45C541.62,-1440.91 467.97,-1426.41 405.5,-1408 402.79,-1407.2 400,-1406.3 397.22,-1405.34\"/>\n</g>\n<!-- 140112418360272 -->\n<g id=\"node75\" class=\"node\">\n<title>140112418360272</title>\n<polygon fill=\"orange\" stroke=\"black\" points=\"474,-1407.5 415,-1407.5 415,-1377.5 474,-1377.5 474,-1407.5\"/>\n<text text-anchor=\"middle\" x=\"444.5\" y=\"-1395.5\" font-family=\"monospace\" font-size=\"10.00\">result2</text>\n<text text-anchor=\"middle\" x=\"444.5\" y=\"-1384.5\" font-family=\"monospace\" font-size=\"10.00\"> (0)</text>\n</g>\n<!-- 140108161090272&#45;&gt;140112418360272 -->\n<g id=\"edge73\" class=\"edge\">\n<title>140108161090272&#45;&gt;140112418360272</title>\n<path fill=\"none\" stroke=\"black\" d=\"M612.61,-1449.48C580.61,-1439.92 527.6,-1423.68 482.5,-1408 479.83,-1407.07 477.07,-1406.08 474.31,-1405.07\"/>\n</g>\n<!-- 140108170952544 -->\n<g id=\"node76\" class=\"node\">\n<title>140108170952544</title>\n<polygon fill=\"orange\" stroke=\"black\" points=\"581,-1407.5 492,-1407.5 492,-1377.5 581,-1377.5 581,-1407.5\"/>\n<text text-anchor=\"middle\" x=\"536.5\" y=\"-1395.5\" font-family=\"monospace\" font-size=\"10.00\">running_mean</text>\n<text text-anchor=\"middle\" x=\"536.5\" y=\"-1384.5\" font-family=\"monospace\" font-size=\"10.00\"> (32)</text>\n</g>\n<!-- 140108161090272&#45;&gt;140108170952544 -->\n<g id=\"edge74\" class=\"edge\">\n<title>140108161090272&#45;&gt;140108170952544</title>\n<path fill=\"none\" stroke=\"black\" d=\"M627.34,-1449.3C609.99,-1438.64 580.35,-1420.43 559.66,-1407.73\"/>\n</g>\n<!-- 140108170950304 -->\n<g id=\"node77\" class=\"node\">\n<title>140108170950304</title>\n<polygon fill=\"orange\" stroke=\"black\" points=\"682,-1407.5 599,-1407.5 599,-1377.5 682,-1377.5 682,-1407.5\"/>\n<text text-anchor=\"middle\" x=\"640.5\" y=\"-1395.5\" font-family=\"monospace\" font-size=\"10.00\">running_var</text>\n<text text-anchor=\"middle\" x=\"640.5\" y=\"-1384.5\" font-family=\"monospace\" font-size=\"10.00\"> (32)</text>\n</g>\n<!-- 140108161090272&#45;&gt;140108170950304 -->\n<g id=\"edge75\" class=\"edge\">\n<title>140108161090272&#45;&gt;140108170950304</title>\n<path fill=\"none\" stroke=\"black\" d=\"M641.37,-1449.3C641.2,-1438.71 640.92,-1420.67 640.72,-1407.97\"/>\n</g>\n<!-- 140108170952304 -->\n<g id=\"node78\" class=\"node\">\n<title>140108170952304</title>\n<polygon fill=\"lightblue\" stroke=\"black\" points=\"792.5,-1408 738.5,-1408 738.5,-1377 792.5,-1377 792.5,-1408\"/>\n<text text-anchor=\"middle\" x=\"765.5\" y=\"-1384\" font-family=\"monospace\" font-size=\"10.00\"> (32)</text>\n</g>\n<!-- 140108161090272&#45;&gt;140108170952304 -->\n<g id=\"edge76\" class=\"edge\">\n<title>140108161090272&#45;&gt;140108170952304</title>\n<path fill=\"none\" stroke=\"black\" d=\"M657.97,-1449.43C678.39,-1438.81 713.5,-1420.55 738.03,-1407.79\"/>\n</g>\n<!-- 140108161090176 -->\n<g id=\"node213\" class=\"node\">\n<title>140108161090176</title>\n<polygon fill=\"lightgrey\" stroke=\"black\" points=\"750,-1335 649,-1335 649,-1316 750,-1316 750,-1335\"/>\n<text text-anchor=\"middle\" x=\"699.5\" y=\"-1323\" font-family=\"monospace\" font-size=\"10.00\">AccumulateGrad</text>\n</g>\n<!-- 140108170952304&#45;&gt;140108161090176 -->\n<g id=\"edge232\" class=\"edge\">\n<title>140108170952304&#45;&gt;140108161090176</title>\n<path fill=\"none\" stroke=\"black\" d=\"M750.52,-1376.75C740.1,-1366.48 726.21,-1352.81 715.56,-1342.31\"/>\n<polygon fill=\"black\" stroke=\"black\" points=\"717.73,-1339.54 708.15,-1335.02 712.82,-1344.53 717.73,-1339.54\"/>\n</g>\n<!-- 140108161090224 -->\n<g id=\"node79\" class=\"node\">\n<title>140108161090224</title>\n<polygon fill=\"lightgrey\" stroke=\"black\" points=\"805,-1535 710,-1535 710,-1516 805,-1516 805,-1535\"/>\n<text text-anchor=\"middle\" x=\"757.5\" y=\"-1523\" font-family=\"monospace\" font-size=\"10.00\">ReluBackward0</text>\n</g>\n<!-- 140108161090224&#45;&gt;140108161090272 -->\n<g id=\"edge77\" class=\"edge\">\n<title>140108161090224&#45;&gt;140108161090272</title>\n<path fill=\"none\" stroke=\"black\" d=\"M741.86,-1515.8C722.29,-1504.92 688.58,-1486.18 665.68,-1473.45\"/>\n<polygon fill=\"black\" stroke=\"black\" points=\"667.34,-1470.36 656.9,-1468.56 663.94,-1476.48 667.34,-1470.36\"/>\n</g>\n<!-- 140112418358672 -->\n<g id=\"node80\" class=\"node\">\n<title>140112418358672</title>\n<polygon fill=\"orange\" stroke=\"black\" points=\"841,-1474 740,-1474 740,-1444 841,-1444 841,-1474\"/>\n<text text-anchor=\"middle\" x=\"790.5\" y=\"-1462\" font-family=\"monospace\" font-size=\"10.00\">result</text>\n<text text-anchor=\"middle\" x=\"790.5\" y=\"-1451\" font-family=\"monospace\" font-size=\"10.00\"> (1, 32, 8, 8)</text>\n</g>\n<!-- 140108161090224&#45;&gt;140112418358672 -->\n<g id=\"edge78\" class=\"edge\">\n<title>140108161090224&#45;&gt;140112418358672</title>\n<path fill=\"none\" stroke=\"black\" d=\"M761.95,-1515.8C767.37,-1505.21 776.6,-1487.17 783.1,-1474.47\"/>\n</g>\n<!-- 140108161090608 -->\n<g id=\"node81\" class=\"node\">\n<title>140108161090608</title>\n<polygon fill=\"lightgrey\" stroke=\"black\" points=\"984,-1602 847,-1602 847,-1583 984,-1583 984,-1602\"/>\n<text text-anchor=\"middle\" x=\"915.5\" y=\"-1590\" font-family=\"monospace\" font-size=\"10.00\">ConvolutionBackward0</text>\n</g>\n<!-- 140108161090608&#45;&gt;140108161090224 -->\n<g id=\"edge79\" class=\"edge\">\n<title>140108161090608&#45;&gt;140108161090224</title>\n<path fill=\"none\" stroke=\"black\" d=\"M894.52,-1582.87C867.25,-1571.65 819.43,-1551.98 788.11,-1539.09\"/>\n<polygon fill=\"black\" stroke=\"black\" points=\"789.15,-1535.74 778.57,-1535.17 786.48,-1542.21 789.15,-1535.74\"/>\n</g>\n<!-- 140112418160480 -->\n<g id=\"node82\" class=\"node\">\n<title>140112418160480</title>\n<polygon fill=\"orange\" stroke=\"black\" points=\"1088,-1540.5 987,-1540.5 987,-1510.5 1088,-1510.5 1088,-1540.5\"/>\n<text text-anchor=\"middle\" x=\"1037.5\" y=\"-1528.5\" font-family=\"monospace\" font-size=\"10.00\">input</text>\n<text text-anchor=\"middle\" x=\"1037.5\" y=\"-1517.5\" font-family=\"monospace\" font-size=\"10.00\"> (1, 32, 8, 8)</text>\n</g>\n<!-- 140108161090608&#45;&gt;140112418160480 -->\n<g id=\"edge80\" class=\"edge\">\n<title>140108161090608&#45;&gt;140112418160480</title>\n<path fill=\"none\" stroke=\"black\" d=\"M931.7,-1582.87C951.92,-1572.09 986.79,-1553.52 1010.94,-1540.65\"/>\n</g>\n<!-- 140108170949824 -->\n<g id=\"node83\" class=\"node\">\n<title>140108170949824</title>\n<polygon fill=\"lightblue\" stroke=\"black\" points=\"969,-1541 862,-1541 862,-1510 969,-1510 969,-1541\"/>\n<text text-anchor=\"middle\" x=\"915.5\" y=\"-1517\" font-family=\"monospace\" font-size=\"10.00\"> (32, 32, 3, 3)</text>\n</g>\n<!-- 140108161090608&#45;&gt;140108170949824 -->\n<g id=\"edge81\" class=\"edge\">\n<title>140108161090608&#45;&gt;140108170949824</title>\n<path fill=\"none\" stroke=\"black\" d=\"M915.5,-1582.73C915.5,-1572.06 915.5,-1553.88 915.5,-1541.08\"/>\n</g>\n<!-- 140108161090656 -->\n<g id=\"node212\" class=\"node\">\n<title>140108161090656</title>\n<polygon fill=\"lightgrey\" stroke=\"black\" points=\"963,-1468.5 862,-1468.5 862,-1449.5 963,-1449.5 963,-1468.5\"/>\n<text text-anchor=\"middle\" x=\"912.5\" y=\"-1456.5\" font-family=\"monospace\" font-size=\"10.00\">AccumulateGrad</text>\n</g>\n<!-- 140108170949824&#45;&gt;140108161090656 -->\n<g id=\"edge230\" class=\"edge\">\n<title>140108170949824&#45;&gt;140108161090656</title>\n<path fill=\"none\" stroke=\"black\" d=\"M914.82,-1509.86C914.39,-1500.68 913.84,-1488.75 913.38,-1478.86\"/>\n<polygon fill=\"black\" stroke=\"black\" points=\"916.87,-1478.65 912.91,-1468.82 909.88,-1478.97 916.87,-1478.65\"/>\n</g>\n<!-- 140108161090512 -->\n<g id=\"node84\" class=\"node\">\n<title>140108161090512</title>\n<polygon fill=\"lightgrey\" stroke=\"black\" points=\"1082,-1669 993,-1669 993,-1650 1082,-1650 1082,-1669\"/>\n<text text-anchor=\"middle\" x=\"1037.5\" y=\"-1657\" font-family=\"monospace\" font-size=\"10.00\">AddBackward0</text>\n</g>\n<!-- 140108161090512&#45;&gt;140108161090608 -->\n<g id=\"edge82\" class=\"edge\">\n<title>140108161090512&#45;&gt;140108161090608</title>\n<path fill=\"none\" stroke=\"black\" d=\"M1021.3,-1649.87C1000.7,-1638.89 964.91,-1619.82 940.72,-1606.94\"/>\n<polygon fill=\"black\" stroke=\"black\" points=\"942.24,-1603.78 931.77,-1602.17 938.95,-1609.96 942.24,-1603.78\"/>\n</g>\n<!-- 140108161090704 -->\n<g id=\"node233\" class=\"node\">\n<title>140108161090704</title>\n<polygon fill=\"lightgrey\" stroke=\"black\" points=\"1228,-1602 1091,-1602 1091,-1583 1228,-1583 1228,-1602\"/>\n<text text-anchor=\"middle\" x=\"1159.5\" y=\"-1590\" font-family=\"monospace\" font-size=\"10.00\">ConvolutionBackward0</text>\n</g>\n<!-- 140108161090512&#45;&gt;140108161090704 -->\n<g id=\"edge259\" class=\"edge\">\n<title>140108161090512&#45;&gt;140108161090704</title>\n<path fill=\"none\" stroke=\"black\" d=\"M1053.7,-1649.87C1074.3,-1638.89 1110.09,-1619.82 1134.28,-1606.94\"/>\n<polygon fill=\"black\" stroke=\"black\" points=\"1136.05,-1609.96 1143.23,-1602.17 1132.76,-1603.78 1136.05,-1609.96\"/>\n</g>\n<!-- 140108161089744 -->\n<g id=\"node85\" class=\"node\">\n<title>140108161089744</title>\n<polygon fill=\"lightgrey\" stroke=\"black\" points=\"393,-1735.5 232,-1735.5 232,-1716.5 393,-1716.5 393,-1735.5\"/>\n<text text-anchor=\"middle\" x=\"312.5\" y=\"-1723.5\" font-family=\"monospace\" font-size=\"10.00\">NativeBatchNormBackward0</text>\n</g>\n<!-- 140108161089744&#45;&gt;140108161090512 -->\n<g id=\"edge83\" class=\"edge\">\n<title>140108161089744&#45;&gt;140108161090512</title>\n<path fill=\"none\" stroke=\"black\" d=\"M362.3,-1716.48C375.05,-1714.48 388.76,-1712.51 401.5,-1711 615.69,-1685.69 872,-1669.67 982.44,-1663.44\"/>\n<polygon fill=\"black\" stroke=\"black\" points=\"982.87,-1666.93 992.66,-1662.87 982.48,-1659.94 982.87,-1666.93\"/>\n</g>\n<!-- 140112418360032 -->\n<g id=\"node86\" class=\"node\">\n<title>140112418360032</title>\n<polygon fill=\"orange\" stroke=\"black\" points=\"497,-1674.5 396,-1674.5 396,-1644.5 497,-1644.5 497,-1674.5\"/>\n<text text-anchor=\"middle\" x=\"446.5\" y=\"-1662.5\" font-family=\"monospace\" font-size=\"10.00\">input</text>\n<text text-anchor=\"middle\" x=\"446.5\" y=\"-1651.5\" font-family=\"monospace\" font-size=\"10.00\"> (1, 32, 8, 8)</text>\n</g>\n<!-- 140108161089744&#45;&gt;140112418360032 -->\n<g id=\"edge84\" class=\"edge\">\n<title>140108161089744&#45;&gt;140112418360032</title>\n<path fill=\"none\" stroke=\"black\" d=\"M330.29,-1716.43C352.51,-1705.74 390.8,-1687.31 417.33,-1674.54\"/>\n</g>\n<!-- 140112418358752 -->\n<g id=\"node87\" class=\"node\">\n<title>140112418358752</title>\n<polygon fill=\"orange\" stroke=\"black\" points=\"574,-1674.5 515,-1674.5 515,-1644.5 574,-1644.5 574,-1674.5\"/>\n<text text-anchor=\"middle\" x=\"544.5\" y=\"-1662.5\" font-family=\"monospace\" font-size=\"10.00\">result1</text>\n<text text-anchor=\"middle\" x=\"544.5\" y=\"-1651.5\" font-family=\"monospace\" font-size=\"10.00\"> (0)</text>\n</g>\n<!-- 140108161089744&#45;&gt;140112418358752 -->\n<g id=\"edge85\" class=\"edge\">\n<title>140108161089744&#45;&gt;140112418358752</title>\n<path fill=\"none\" stroke=\"black\" d=\"M350.18,-1716.45C389.32,-1707.28 452.18,-1691.77 505.5,-1675 508.53,-1674.05 511.67,-1672.99 514.8,-1671.9\"/>\n</g>\n<!-- 140112418359792 -->\n<g id=\"node88\" class=\"node\">\n<title>140112418359792</title>\n<polygon fill=\"orange\" stroke=\"black\" points=\"59,-1674.5 0,-1674.5 0,-1644.5 59,-1644.5 59,-1674.5\"/>\n<text text-anchor=\"middle\" x=\"29.5\" y=\"-1662.5\" font-family=\"monospace\" font-size=\"10.00\">result2</text>\n<text text-anchor=\"middle\" x=\"29.5\" y=\"-1651.5\" font-family=\"monospace\" font-size=\"10.00\"> (0)</text>\n</g>\n<!-- 140108161089744&#45;&gt;140112418359792 -->\n<g id=\"edge86\" class=\"edge\">\n<title>140108161089744&#45;&gt;140112418359792</title>\n<path fill=\"none\" stroke=\"black\" d=\"M257.87,-1716.48C207.81,-1708.06 131.9,-1693.72 67.5,-1675 64.79,-1674.21 62,-1673.32 59.21,-1672.36\"/>\n</g>\n<!-- 140108170948544 -->\n<g id=\"node89\" class=\"node\">\n<title>140108170948544</title>\n<polygon fill=\"orange\" stroke=\"black\" points=\"166,-1674.5 77,-1674.5 77,-1644.5 166,-1644.5 166,-1674.5\"/>\n<text text-anchor=\"middle\" x=\"121.5\" y=\"-1662.5\" font-family=\"monospace\" font-size=\"10.00\">running_mean</text>\n<text text-anchor=\"middle\" x=\"121.5\" y=\"-1651.5\" font-family=\"monospace\" font-size=\"10.00\"> (32)</text>\n</g>\n<!-- 140108161089744&#45;&gt;140108170948544 -->\n<g id=\"edge87\" class=\"edge\">\n<title>140108161089744&#45;&gt;140108170948544</title>\n<path fill=\"none\" stroke=\"black\" d=\"M287.14,-1716.43C255.48,-1705.74 200.89,-1687.31 163.08,-1674.54\"/>\n</g>\n<!-- 140108170948224 -->\n<g id=\"node90\" class=\"node\">\n<title>140108170948224</title>\n<polygon fill=\"orange\" stroke=\"black\" points=\"267,-1674.5 184,-1674.5 184,-1644.5 267,-1644.5 267,-1674.5\"/>\n<text text-anchor=\"middle\" x=\"225.5\" y=\"-1662.5\" font-family=\"monospace\" font-size=\"10.00\">running_var</text>\n<text text-anchor=\"middle\" x=\"225.5\" y=\"-1651.5\" font-family=\"monospace\" font-size=\"10.00\"> (32)</text>\n</g>\n<!-- 140108161089744&#45;&gt;140108170948224 -->\n<g id=\"edge88\" class=\"edge\">\n<title>140108161089744&#45;&gt;140108170948224</title>\n<path fill=\"none\" stroke=\"black\" d=\"M300.77,-1716.3C286.39,-1705.64 261.83,-1687.43 244.69,-1674.73\"/>\n</g>\n<!-- 140108170948704 -->\n<g id=\"node91\" class=\"node\">\n<title>140108170948704</title>\n<polygon fill=\"lightblue\" stroke=\"black\" points=\"339.5,-1675 285.5,-1675 285.5,-1644 339.5,-1644 339.5,-1675\"/>\n<text text-anchor=\"middle\" x=\"312.5\" y=\"-1651\" font-family=\"monospace\" font-size=\"10.00\"> (32)</text>\n</g>\n<!-- 140108161089744&#45;&gt;140108170948704 -->\n<g id=\"edge89\" class=\"edge\">\n<title>140108161089744&#45;&gt;140108170948704</title>\n<path fill=\"none\" stroke=\"black\" d=\"M312.5,-1716.3C312.5,-1705.85 312.5,-1688.14 312.5,-1675.47\"/>\n</g>\n<!-- 140108161091184 -->\n<g id=\"node194\" class=\"node\">\n<title>140108161091184</title>\n<polygon fill=\"lightgrey\" stroke=\"black\" points=\"391,-1602 290,-1602 290,-1583 391,-1583 391,-1602\"/>\n<text text-anchor=\"middle\" x=\"340.5\" y=\"-1590\" font-family=\"monospace\" font-size=\"10.00\">AccumulateGrad</text>\n</g>\n<!-- 140108170948704&#45;&gt;140108161091184 -->\n<g id=\"edge207\" class=\"edge\">\n<title>140108170948704&#45;&gt;140108161091184</title>\n<path fill=\"none\" stroke=\"black\" d=\"M318.85,-1643.75C322.97,-1634.19 328.37,-1621.67 332.74,-1611.52\"/>\n<polygon fill=\"black\" stroke=\"black\" points=\"336.09,-1612.59 336.83,-1602.02 329.66,-1609.82 336.09,-1612.59\"/>\n</g>\n<!-- 140108161097136 -->\n<g id=\"node92\" class=\"node\">\n<title>140108161097136</title>\n<polygon fill=\"lightgrey\" stroke=\"black\" points=\"435,-1802 340,-1802 340,-1783 435,-1783 435,-1802\"/>\n<text text-anchor=\"middle\" x=\"387.5\" y=\"-1790\" font-family=\"monospace\" font-size=\"10.00\">ReluBackward0</text>\n</g>\n<!-- 140108161097136&#45;&gt;140108161089744 -->\n<g id=\"edge90\" class=\"edge\">\n<title>140108161097136&#45;&gt;140108161089744</title>\n<path fill=\"none\" stroke=\"black\" d=\"M377.39,-1782.8C365.35,-1772.45 345.05,-1754.99 330.35,-1742.35\"/>\n<polygon fill=\"black\" stroke=\"black\" points=\"332.32,-1739.43 322.45,-1735.56 327.75,-1744.74 332.32,-1739.43\"/>\n</g>\n<!-- 140112418357872 -->\n<g id=\"node93\" class=\"node\">\n<title>140112418357872</title>\n<polygon fill=\"orange\" stroke=\"black\" points=\"512,-1741 411,-1741 411,-1711 512,-1711 512,-1741\"/>\n<text text-anchor=\"middle\" x=\"461.5\" y=\"-1729\" font-family=\"monospace\" font-size=\"10.00\">result</text>\n<text text-anchor=\"middle\" x=\"461.5\" y=\"-1718\" font-family=\"monospace\" font-size=\"10.00\"> (1, 32, 8, 8)</text>\n</g>\n<!-- 140108161097136&#45;&gt;140112418357872 -->\n<g id=\"edge91\" class=\"edge\">\n<title>140108161097136&#45;&gt;140112418357872</title>\n<path fill=\"none\" stroke=\"black\" d=\"M397.48,-1782.8C409.71,-1772.14 430.6,-1753.93 445.18,-1741.23\"/>\n</g>\n<!-- 140108161096848 -->\n<g id=\"node94\" class=\"node\">\n<title>140108161096848</title>\n<polygon fill=\"lightgrey\" stroke=\"black\" points=\"506,-1869 369,-1869 369,-1850 506,-1850 506,-1869\"/>\n<text text-anchor=\"middle\" x=\"437.5\" y=\"-1857\" font-family=\"monospace\" font-size=\"10.00\">ConvolutionBackward0</text>\n</g>\n<!-- 140108161096848&#45;&gt;140108161097136 -->\n<g id=\"edge92\" class=\"edge\">\n<title>140108161096848&#45;&gt;140108161097136</title>\n<path fill=\"none\" stroke=\"black\" d=\"M430.76,-1849.73C422.96,-1839.6 409.95,-1822.69 400.24,-1810.06\"/>\n<polygon fill=\"black\" stroke=\"black\" points=\"403.01,-1807.92 394.14,-1802.13 397.46,-1812.19 403.01,-1807.92\"/>\n</g>\n<!-- 140109085506864 -->\n<g id=\"node95\" class=\"node\">\n<title>140109085506864</title>\n<polygon fill=\"orange\" stroke=\"black\" points=\"566,-1807.5 453,-1807.5 453,-1777.5 566,-1777.5 566,-1807.5\"/>\n<text text-anchor=\"middle\" x=\"509.5\" y=\"-1795.5\" font-family=\"monospace\" font-size=\"10.00\">input</text>\n<text text-anchor=\"middle\" x=\"509.5\" y=\"-1784.5\" font-family=\"monospace\" font-size=\"10.00\"> (1, 32, 16, 16)</text>\n</g>\n<!-- 140108161096848&#45;&gt;140109085506864 -->\n<g id=\"edge93\" class=\"edge\">\n<title>140108161096848&#45;&gt;140109085506864</title>\n<path fill=\"none\" stroke=\"black\" d=\"M447.21,-1849.73C459.19,-1838.92 479.7,-1820.41 493.89,-1807.59\"/>\n</g>\n<!-- 140108170948464 -->\n<g id=\"node96\" class=\"node\">\n<title>140108170948464</title>\n<polygon fill=\"lightblue\" stroke=\"black\" points=\"691,-1808 584,-1808 584,-1777 691,-1777 691,-1808\"/>\n<text text-anchor=\"middle\" x=\"637.5\" y=\"-1784\" font-family=\"monospace\" font-size=\"10.00\"> (32, 32, 3, 3)</text>\n</g>\n<!-- 140108161096848&#45;&gt;140108170948464 -->\n<g id=\"edge94\" class=\"edge\">\n<title>140108161096848&#45;&gt;140108170948464</title>\n<path fill=\"none\" stroke=\"black\" d=\"M464.06,-1849.87C496.89,-1839.2 553.27,-1820.88 592.81,-1808.02\"/>\n</g>\n<!-- 140108161096800 -->\n<g id=\"node193\" class=\"node\">\n<title>140108161096800</title>\n<polygon fill=\"lightgrey\" stroke=\"black\" points=\"729,-1735.5 628,-1735.5 628,-1716.5 729,-1716.5 729,-1735.5\"/>\n<text text-anchor=\"middle\" x=\"678.5\" y=\"-1723.5\" font-family=\"monospace\" font-size=\"10.00\">AccumulateGrad</text>\n</g>\n<!-- 140108170948464&#45;&gt;140108161096800 -->\n<g id=\"edge205\" class=\"edge\">\n<title>140108170948464&#45;&gt;140108161096800</title>\n<path fill=\"none\" stroke=\"black\" d=\"M646.8,-1776.86C652.95,-1767.19 661.04,-1754.46 667.51,-1744.29\"/>\n<polygon fill=\"black\" stroke=\"black\" points=\"670.48,-1746.14 672.89,-1735.82 664.57,-1742.38 670.48,-1746.14\"/>\n</g>\n<!-- 140108161096896 -->\n<g id=\"node97\" class=\"node\">\n<title>140108161096896</title>\n<polygon fill=\"lightgrey\" stroke=\"black\" points=\"518,-1935.5 357,-1935.5 357,-1916.5 518,-1916.5 518,-1935.5\"/>\n<text text-anchor=\"middle\" x=\"437.5\" y=\"-1923.5\" font-family=\"monospace\" font-size=\"10.00\">NativeBatchNormBackward0</text>\n</g>\n<!-- 140108161096896&#45;&gt;140108161096848 -->\n<g id=\"edge95\" class=\"edge\">\n<title>140108161096896&#45;&gt;140108161096848</title>\n<path fill=\"none\" stroke=\"black\" d=\"M437.5,-1916.3C437.5,-1906.82 437.5,-1891.38 437.5,-1879.14\"/>\n<polygon fill=\"black\" stroke=\"black\" points=\"441,-1879.06 437.5,-1869.06 434,-1879.06 441,-1879.06\"/>\n</g>\n<!-- 140112418358272 -->\n<g id=\"node98\" class=\"node\">\n<title>140112418358272</title>\n<polygon fill=\"orange\" stroke=\"black\" points=\"637,-1874.5 524,-1874.5 524,-1844.5 637,-1844.5 637,-1874.5\"/>\n<text text-anchor=\"middle\" x=\"580.5\" y=\"-1862.5\" font-family=\"monospace\" font-size=\"10.00\">input</text>\n<text text-anchor=\"middle\" x=\"580.5\" y=\"-1851.5\" font-family=\"monospace\" font-size=\"10.00\"> (1, 32, 16, 16)</text>\n</g>\n<!-- 140108161096896&#45;&gt;140112418358272 -->\n<g id=\"edge96\" class=\"edge\">\n<title>140108161096896&#45;&gt;140112418358272</title>\n<path fill=\"none\" stroke=\"black\" d=\"M456.49,-1916.43C480.19,-1905.74 521.06,-1887.31 549.37,-1874.54\"/>\n</g>\n<!-- 140112418360352 -->\n<g id=\"node99\" class=\"node\">\n<title>140112418360352</title>\n<polygon fill=\"orange\" stroke=\"black\" points=\"714,-1874.5 655,-1874.5 655,-1844.5 714,-1844.5 714,-1874.5\"/>\n<text text-anchor=\"middle\" x=\"684.5\" y=\"-1862.5\" font-family=\"monospace\" font-size=\"10.00\">result1</text>\n<text text-anchor=\"middle\" x=\"684.5\" y=\"-1851.5\" font-family=\"monospace\" font-size=\"10.00\"> (0)</text>\n</g>\n<!-- 140108161096896&#45;&gt;140112418360352 -->\n<g id=\"edge97\" class=\"edge\">\n<title>140108161096896&#45;&gt;140112418360352</title>\n<path fill=\"none\" stroke=\"black\" d=\"M479.33,-1916.49C521.62,-1907.53 588.66,-1892.33 645.5,-1875 648.54,-1874.07 651.69,-1873.04 654.82,-1871.96\"/>\n</g>\n<!-- 140112418363872 -->\n<g id=\"node100\" class=\"node\">\n<title>140112418363872</title>\n<polygon fill=\"orange\" stroke=\"black\" points=\"791,-1874.5 732,-1874.5 732,-1844.5 791,-1844.5 791,-1874.5\"/>\n<text text-anchor=\"middle\" x=\"761.5\" y=\"-1862.5\" font-family=\"monospace\" font-size=\"10.00\">result2</text>\n<text text-anchor=\"middle\" x=\"761.5\" y=\"-1851.5\" font-family=\"monospace\" font-size=\"10.00\"> (0)</text>\n</g>\n<!-- 140108161096896&#45;&gt;140112418363872 -->\n<g id=\"edge98\" class=\"edge\">\n<title>140108161096896&#45;&gt;140112418363872</title>\n<path fill=\"none\" stroke=\"black\" d=\"M489.02,-1916.49C564.96,-1903.86 700.38,-1881 722.5,-1875 725.57,-1874.17 728.73,-1873.19 731.87,-1872.15\"/>\n</g>\n<!-- 140108170947744 -->\n<g id=\"node101\" class=\"node\">\n<title>140108170947744</title>\n<polygon fill=\"orange\" stroke=\"black\" points=\"898,-1874.5 809,-1874.5 809,-1844.5 898,-1844.5 898,-1874.5\"/>\n<text text-anchor=\"middle\" x=\"853.5\" y=\"-1862.5\" font-family=\"monospace\" font-size=\"10.00\">running_mean</text>\n<text text-anchor=\"middle\" x=\"853.5\" y=\"-1851.5\" font-family=\"monospace\" font-size=\"10.00\"> (32)</text>\n</g>\n<!-- 140108161096896&#45;&gt;140108170947744 -->\n<g id=\"edge99\" class=\"edge\">\n<title>140108161096896&#45;&gt;140108170947744</title>\n<path fill=\"none\" stroke=\"black\" d=\"M490.18,-1916.49C502.11,-1914.62 514.73,-1912.7 526.5,-1911 648.06,-1893.46 680.1,-1899.26 800.5,-1875 803.21,-1874.45 805.99,-1873.84 808.78,-1873.19\"/>\n</g>\n<!-- 140108170947344 -->\n<g id=\"node102\" class=\"node\">\n<title>140108170947344</title>\n<polygon fill=\"orange\" stroke=\"black\" points=\"240,-1874.5 157,-1874.5 157,-1844.5 240,-1844.5 240,-1874.5\"/>\n<text text-anchor=\"middle\" x=\"198.5\" y=\"-1862.5\" font-family=\"monospace\" font-size=\"10.00\">running_var</text>\n<text text-anchor=\"middle\" x=\"198.5\" y=\"-1851.5\" font-family=\"monospace\" font-size=\"10.00\"> (32)</text>\n</g>\n<!-- 140108161096896&#45;&gt;140108170947344 -->\n<g id=\"edge100\" class=\"edge\">\n<title>140108161096896&#45;&gt;140108170947344</title>\n<path fill=\"none\" stroke=\"black\" d=\"M404.85,-1916.5C367.32,-1906.68 303.88,-1889.96 249.5,-1875 246.48,-1874.17 243.37,-1873.3 240.23,-1872.43\"/>\n</g>\n<!-- 140108170947664 -->\n<g id=\"node103\" class=\"node\">\n<title>140108170947664</title>\n<polygon fill=\"lightblue\" stroke=\"black\" points=\"312.5,-1875 258.5,-1875 258.5,-1844 312.5,-1844 312.5,-1875\"/>\n<text text-anchor=\"middle\" x=\"285.5\" y=\"-1851\" font-family=\"monospace\" font-size=\"10.00\"> (32)</text>\n</g>\n<!-- 140108161096896&#45;&gt;140108170947664 -->\n<g id=\"edge101\" class=\"edge\">\n<title>140108161096896&#45;&gt;140108170947664</title>\n<path fill=\"none\" stroke=\"black\" d=\"M417.32,-1916.43C390.42,-1905.02 342.75,-1884.8 312.71,-1872.05\"/>\n</g>\n<!-- 140108161096416 -->\n<g id=\"node190\" class=\"node\">\n<title>140108161096416</title>\n<polygon fill=\"lightgrey\" stroke=\"black\" points=\"322,-1802 221,-1802 221,-1783 322,-1783 322,-1802\"/>\n<text text-anchor=\"middle\" x=\"271.5\" y=\"-1790\" font-family=\"monospace\" font-size=\"10.00\">AccumulateGrad</text>\n</g>\n<!-- 140108170947664&#45;&gt;140108161096416 -->\n<g id=\"edge201\" class=\"edge\">\n<title>140108170947664&#45;&gt;140108161096416</title>\n<path fill=\"none\" stroke=\"black\" d=\"M282.32,-1843.75C280.29,-1834.29 277.62,-1821.93 275.45,-1811.84\"/>\n<polygon fill=\"black\" stroke=\"black\" points=\"278.86,-1811.06 273.33,-1802.02 272.02,-1812.53 278.86,-1811.06\"/>\n</g>\n<!-- 140108161096368 -->\n<g id=\"node104\" class=\"node\">\n<title>140108161096368</title>\n<polygon fill=\"lightgrey\" stroke=\"black\" points=\"600,-2002 505,-2002 505,-1983 600,-1983 600,-2002\"/>\n<text text-anchor=\"middle\" x=\"552.5\" y=\"-1990\" font-family=\"monospace\" font-size=\"10.00\">ReluBackward0</text>\n</g>\n<!-- 140108161096368&#45;&gt;140108161096896 -->\n<g id=\"edge102\" class=\"edge\">\n<title>140108161096368&#45;&gt;140108161096896</title>\n<path fill=\"none\" stroke=\"black\" d=\"M536.99,-1982.8C517.68,-1971.97 484.47,-1953.34 461.78,-1940.62\"/>\n<polygon fill=\"black\" stroke=\"black\" points=\"463.2,-1937.4 452.76,-1935.56 459.77,-1943.51 463.2,-1937.4\"/>\n</g>\n<!-- 140108170312688 -->\n<g id=\"node105\" class=\"node\">\n<title>140108170312688</title>\n<polygon fill=\"orange\" stroke=\"black\" points=\"649,-1941 536,-1941 536,-1911 649,-1911 649,-1941\"/>\n<text text-anchor=\"middle\" x=\"592.5\" y=\"-1929\" font-family=\"monospace\" font-size=\"10.00\">result</text>\n<text text-anchor=\"middle\" x=\"592.5\" y=\"-1918\" font-family=\"monospace\" font-size=\"10.00\"> (1, 32, 16, 16)</text>\n</g>\n<!-- 140108161096368&#45;&gt;140108170312688 -->\n<g id=\"edge103\" class=\"edge\">\n<title>140108161096368&#45;&gt;140108170312688</title>\n<path fill=\"none\" stroke=\"black\" d=\"M557.89,-1982.8C564.46,-1972.21 575.65,-1954.17 583.52,-1941.47\"/>\n</g>\n<!-- 140108161096176 -->\n<g id=\"node106\" class=\"node\">\n<title>140108161096176</title>\n<polygon fill=\"lightgrey\" stroke=\"black\" points=\"686,-2069 549,-2069 549,-2050 686,-2050 686,-2069\"/>\n<text text-anchor=\"middle\" x=\"617.5\" y=\"-2057\" font-family=\"monospace\" font-size=\"10.00\">ConvolutionBackward0</text>\n</g>\n<!-- 140108161096176&#45;&gt;140108161096368 -->\n<g id=\"edge104\" class=\"edge\">\n<title>140108161096176&#45;&gt;140108161096368</title>\n<path fill=\"none\" stroke=\"black\" d=\"M608.73,-2049.73C598.4,-2039.4 581.04,-2022.04 568.33,-2009.33\"/>\n<polygon fill=\"black\" stroke=\"black\" points=\"570.67,-2006.72 561.13,-2002.13 565.72,-2011.67 570.67,-2006.72\"/>\n</g>\n<!-- 140112418150560 -->\n<g id=\"node107\" class=\"node\">\n<title>140112418150560</title>\n<polygon fill=\"orange\" stroke=\"black\" points=\"770,-2007.5 657,-2007.5 657,-1977.5 770,-1977.5 770,-2007.5\"/>\n<text text-anchor=\"middle\" x=\"713.5\" y=\"-1995.5\" font-family=\"monospace\" font-size=\"10.00\">input</text>\n<text text-anchor=\"middle\" x=\"713.5\" y=\"-1984.5\" font-family=\"monospace\" font-size=\"10.00\"> (1, 32, 16, 16)</text>\n</g>\n<!-- 140108161096176&#45;&gt;140112418150560 -->\n<g id=\"edge105\" class=\"edge\">\n<title>140108161096176&#45;&gt;140112418150560</title>\n<path fill=\"none\" stroke=\"black\" d=\"M630.45,-2049.73C646.41,-2038.92 673.76,-2020.41 692.69,-2007.59\"/>\n</g>\n<!-- 140108170947584 -->\n<g id=\"node108\" class=\"node\">\n<title>140108170947584</title>\n<polygon fill=\"lightblue\" stroke=\"black\" points=\"889,-2008 788,-2008 788,-1977 889,-1977 889,-2008\"/>\n<text text-anchor=\"middle\" x=\"838.5\" y=\"-1984\" font-family=\"monospace\" font-size=\"10.00\"> (32, 1, 3, 3)</text>\n</g>\n<!-- 140108161096176&#45;&gt;140108170947584 -->\n<g id=\"edge106\" class=\"edge\">\n<title>140108161096176&#45;&gt;140108170947584</title>\n<path fill=\"none\" stroke=\"black\" d=\"M646.85,-2049.87C683.13,-2039.2 745.42,-2020.88 789.12,-2008.02\"/>\n</g>\n<!-- 140108161096224 -->\n<g id=\"node189\" class=\"node\">\n<title>140108161096224</title>\n<polygon fill=\"lightgrey\" stroke=\"black\" points=\"809,-1935.5 708,-1935.5 708,-1916.5 809,-1916.5 809,-1935.5\"/>\n<text text-anchor=\"middle\" x=\"758.5\" y=\"-1923.5\" font-family=\"monospace\" font-size=\"10.00\">AccumulateGrad</text>\n</g>\n<!-- 140108170947584&#45;&gt;140108161096224 -->\n<g id=\"edge199\" class=\"edge\">\n<title>140108170947584&#45;&gt;140108161096224</title>\n<path fill=\"none\" stroke=\"black\" d=\"M820.35,-1976.86C807.49,-1966.5 790.29,-1952.63 777.29,-1942.15\"/>\n<polygon fill=\"black\" stroke=\"black\" points=\"779.42,-1939.37 769.44,-1935.82 775.03,-1944.82 779.42,-1939.37\"/>\n</g>\n<!-- 140108161096464 -->\n<g id=\"node109\" class=\"node\">\n<title>140108161096464</title>\n<polygon fill=\"lightgrey\" stroke=\"black\" points=\"458,-2135.5 297,-2135.5 297,-2116.5 458,-2116.5 458,-2135.5\"/>\n<text text-anchor=\"middle\" x=\"377.5\" y=\"-2123.5\" font-family=\"monospace\" font-size=\"10.00\">NativeBatchNormBackward0</text>\n</g>\n<!-- 140108161096464&#45;&gt;140108161096176 -->\n<g id=\"edge107\" class=\"edge\">\n<title>140108161096464&#45;&gt;140108161096176</title>\n<path fill=\"none\" stroke=\"black\" d=\"M409.37,-2116.43C452.14,-2104.94 528.18,-2084.5 575.56,-2071.77\"/>\n<polygon fill=\"black\" stroke=\"black\" points=\"576.75,-2075.08 585.5,-2069.1 574.93,-2068.32 576.75,-2075.08\"/>\n</g>\n<!-- 140112418149920 -->\n<g id=\"node110\" class=\"node\">\n<title>140112418149920</title>\n<polygon fill=\"orange\" stroke=\"black\" points=\"817,-2074.5 704,-2074.5 704,-2044.5 817,-2044.5 817,-2074.5\"/>\n<text text-anchor=\"middle\" x=\"760.5\" y=\"-2062.5\" font-family=\"monospace\" font-size=\"10.00\">input</text>\n<text text-anchor=\"middle\" x=\"760.5\" y=\"-2051.5\" font-family=\"monospace\" font-size=\"10.00\"> (1, 32, 16, 16)</text>\n</g>\n<!-- 140108161096464&#45;&gt;140112418149920 -->\n<g id=\"edge108\" class=\"edge\">\n<title>140108161096464&#45;&gt;140112418149920</title>\n<path fill=\"none\" stroke=\"black\" d=\"M431.68,-2116.48C521.38,-2102.36 691.28,-2075.61 694.5,-2075 697.5,-2074.43 700.57,-2073.83 703.66,-2073.21\"/>\n</g>\n<!-- 140108170307328 -->\n<g id=\"node111\" class=\"node\">\n<title>140108170307328</title>\n<polygon fill=\"orange\" stroke=\"black\" points=\"134,-2074.5 75,-2074.5 75,-2044.5 134,-2044.5 134,-2074.5\"/>\n<text text-anchor=\"middle\" x=\"104.5\" y=\"-2062.5\" font-family=\"monospace\" font-size=\"10.00\">result1</text>\n<text text-anchor=\"middle\" x=\"104.5\" y=\"-2051.5\" font-family=\"monospace\" font-size=\"10.00\"> (0)</text>\n</g>\n<!-- 140108161096464&#45;&gt;140108170307328 -->\n<g id=\"edge109\" class=\"edge\">\n<title>140108161096464&#45;&gt;140108170307328</title>\n<path fill=\"none\" stroke=\"black\" d=\"M326.05,-2116.42C278.05,-2107.87 204.71,-2093.37 142.5,-2075 139.79,-2074.2 137,-2073.3 134.22,-2072.34\"/>\n</g>\n<!-- 140108170306288 -->\n<g id=\"node112\" class=\"node\">\n<title>140108170306288</title>\n<polygon fill=\"orange\" stroke=\"black\" points=\"211,-2074.5 152,-2074.5 152,-2044.5 211,-2044.5 211,-2074.5\"/>\n<text text-anchor=\"middle\" x=\"181.5\" y=\"-2062.5\" font-family=\"monospace\" font-size=\"10.00\">result2</text>\n<text text-anchor=\"middle\" x=\"181.5\" y=\"-2051.5\" font-family=\"monospace\" font-size=\"10.00\"> (0)</text>\n</g>\n<!-- 140108161096464&#45;&gt;140108170306288 -->\n<g id=\"edge110\" class=\"edge\">\n<title>140108161096464&#45;&gt;140108170306288</title>\n<path fill=\"none\" stroke=\"black\" d=\"M348.79,-2116.46C317,-2106.88 264.33,-2090.63 219.5,-2075 216.83,-2074.07 214.07,-2073.08 211.31,-2072.06\"/>\n</g>\n<!-- 140108170947184 -->\n<g id=\"node113\" class=\"node\">\n<title>140108170947184</title>\n<polygon fill=\"orange\" stroke=\"black\" points=\"318,-2074.5 229,-2074.5 229,-2044.5 318,-2044.5 318,-2074.5\"/>\n<text text-anchor=\"middle\" x=\"273.5\" y=\"-2062.5\" font-family=\"monospace\" font-size=\"10.00\">running_mean</text>\n<text text-anchor=\"middle\" x=\"273.5\" y=\"-2051.5\" font-family=\"monospace\" font-size=\"10.00\"> (32)</text>\n</g>\n<!-- 140108161096464&#45;&gt;140108170947184 -->\n<g id=\"edge111\" class=\"edge\">\n<title>140108161096464&#45;&gt;140108170947184</title>\n<path fill=\"none\" stroke=\"black\" d=\"M363.47,-2116.3C346.29,-2105.64 316.93,-2087.43 296.44,-2074.73\"/>\n</g>\n<!-- 140108170946624 -->\n<g id=\"node114\" class=\"node\">\n<title>140108170946624</title>\n<polygon fill=\"orange\" stroke=\"black\" points=\"419,-2074.5 336,-2074.5 336,-2044.5 419,-2044.5 419,-2074.5\"/>\n<text text-anchor=\"middle\" x=\"377.5\" y=\"-2062.5\" font-family=\"monospace\" font-size=\"10.00\">running_var</text>\n<text text-anchor=\"middle\" x=\"377.5\" y=\"-2051.5\" font-family=\"monospace\" font-size=\"10.00\"> (32)</text>\n</g>\n<!-- 140108161096464&#45;&gt;140108170946624 -->\n<g id=\"edge112\" class=\"edge\">\n<title>140108161096464&#45;&gt;140108170946624</title>\n<path fill=\"none\" stroke=\"black\" d=\"M377.5,-2116.3C377.5,-2105.71 377.5,-2087.67 377.5,-2074.97\"/>\n</g>\n<!-- 140108170947024 -->\n<g id=\"node115\" class=\"node\">\n<title>140108170947024</title>\n<polygon fill=\"lightblue\" stroke=\"black\" points=\"529.5,-2075 475.5,-2075 475.5,-2044 529.5,-2044 529.5,-2075\"/>\n<text text-anchor=\"middle\" x=\"502.5\" y=\"-2051\" font-family=\"monospace\" font-size=\"10.00\"> (32)</text>\n</g>\n<!-- 140108161096464&#45;&gt;140108170947024 -->\n<g id=\"edge113\" class=\"edge\">\n<title>140108161096464&#45;&gt;140108170947024</title>\n<path fill=\"none\" stroke=\"black\" d=\"M394.1,-2116.43C414.82,-2105.74 450.54,-2087.31 475.29,-2074.54\"/>\n</g>\n<!-- 140108161096560 -->\n<g id=\"node186\" class=\"node\">\n<title>140108161096560</title>\n<polygon fill=\"lightgrey\" stroke=\"black\" points=\"487,-2002 386,-2002 386,-1983 487,-1983 487,-2002\"/>\n<text text-anchor=\"middle\" x=\"436.5\" y=\"-1990\" font-family=\"monospace\" font-size=\"10.00\">AccumulateGrad</text>\n</g>\n<!-- 140108170947024&#45;&gt;140108161096560 -->\n<g id=\"edge195\" class=\"edge\">\n<title>140108170947024&#45;&gt;140108161096560</title>\n<path fill=\"none\" stroke=\"black\" d=\"M487.52,-2043.75C477.1,-2033.48 463.21,-2019.81 452.56,-2009.31\"/>\n<polygon fill=\"black\" stroke=\"black\" points=\"454.73,-2006.54 445.15,-2002.02 449.82,-2011.53 454.73,-2006.54\"/>\n</g>\n<!-- 140108161096080 -->\n<g id=\"node116\" class=\"node\">\n<title>140108161096080</title>\n<polygon fill=\"lightgrey\" stroke=\"black\" points=\"547,-2202 452,-2202 452,-2183 547,-2183 547,-2202\"/>\n<text text-anchor=\"middle\" x=\"499.5\" y=\"-2190\" font-family=\"monospace\" font-size=\"10.00\">ReluBackward0</text>\n</g>\n<!-- 140108161096080&#45;&gt;140108161096464 -->\n<g id=\"edge114\" class=\"edge\">\n<title>140108161096080&#45;&gt;140108161096464</title>\n<path fill=\"none\" stroke=\"black\" d=\"M483.3,-2182.93C462.7,-2172.04 426.91,-2153.12 402.72,-2140.34\"/>\n<polygon fill=\"black\" stroke=\"black\" points=\"404.24,-2137.18 393.77,-2135.6 400.97,-2143.37 404.24,-2137.18\"/>\n</g>\n<!-- 140108170307568 -->\n<g id=\"node117\" class=\"node\">\n<title>140108170307568</title>\n<polygon fill=\"orange\" stroke=\"black\" points=\"589,-2141 476,-2141 476,-2111 589,-2111 589,-2141\"/>\n<text text-anchor=\"middle\" x=\"532.5\" y=\"-2129\" font-family=\"monospace\" font-size=\"10.00\">result</text>\n<text text-anchor=\"middle\" x=\"532.5\" y=\"-2118\" font-family=\"monospace\" font-size=\"10.00\"> (1, 32, 16, 16)</text>\n</g>\n<!-- 140108161096080&#45;&gt;140108170307568 -->\n<g id=\"edge115\" class=\"edge\">\n<title>140108161096080&#45;&gt;140108170307568</title>\n<path fill=\"none\" stroke=\"black\" d=\"M503.95,-2182.8C509.37,-2172.21 518.6,-2154.17 525.1,-2141.47\"/>\n</g>\n<!-- 140108161095696 -->\n<g id=\"node118\" class=\"node\">\n<title>140108161095696</title>\n<polygon fill=\"lightgrey\" stroke=\"black\" points=\"726,-2269 589,-2269 589,-2250 726,-2250 726,-2269\"/>\n<text text-anchor=\"middle\" x=\"657.5\" y=\"-2257\" font-family=\"monospace\" font-size=\"10.00\">ConvolutionBackward0</text>\n</g>\n<!-- 140108161095696&#45;&gt;140108161096080 -->\n<g id=\"edge116\" class=\"edge\">\n<title>140108161095696&#45;&gt;140108161096080</title>\n<path fill=\"none\" stroke=\"black\" d=\"M636.52,-2249.87C609.25,-2238.65 561.43,-2218.98 530.11,-2206.09\"/>\n<polygon fill=\"black\" stroke=\"black\" points=\"531.15,-2202.74 520.57,-2202.17 528.48,-2209.21 531.15,-2202.74\"/>\n</g>\n<!-- 140108170938944 -->\n<g id=\"node119\" class=\"node\">\n<title>140108170938944</title>\n<polygon fill=\"orange\" stroke=\"black\" points=\"842,-2207.5 729,-2207.5 729,-2177.5 842,-2177.5 842,-2207.5\"/>\n<text text-anchor=\"middle\" x=\"785.5\" y=\"-2195.5\" font-family=\"monospace\" font-size=\"10.00\">input</text>\n<text text-anchor=\"middle\" x=\"785.5\" y=\"-2184.5\" font-family=\"monospace\" font-size=\"10.00\"> (1, 32, 16, 16)</text>\n</g>\n<!-- 140108161095696&#45;&gt;140108170938944 -->\n<g id=\"edge117\" class=\"edge\">\n<title>140108161095696&#45;&gt;140108170938944</title>\n<path fill=\"none\" stroke=\"black\" d=\"M674.5,-2249.87C695.71,-2239.09 732.29,-2220.52 757.63,-2207.65\"/>\n</g>\n<!-- 140108170946784 -->\n<g id=\"node120\" class=\"node\">\n<title>140108170946784</title>\n<polygon fill=\"lightblue\" stroke=\"black\" points=\"711,-2208 604,-2208 604,-2177 711,-2177 711,-2208\"/>\n<text text-anchor=\"middle\" x=\"657.5\" y=\"-2184\" font-family=\"monospace\" font-size=\"10.00\"> (32, 32, 3, 3)</text>\n</g>\n<!-- 140108161095696&#45;&gt;140108170946784 -->\n<g id=\"edge118\" class=\"edge\">\n<title>140108161095696&#45;&gt;140108170946784</title>\n<path fill=\"none\" stroke=\"black\" d=\"M657.5,-2249.73C657.5,-2239.06 657.5,-2220.88 657.5,-2208.08\"/>\n</g>\n<!-- 140108161095648 -->\n<g id=\"node185\" class=\"node\">\n<title>140108161095648</title>\n<polygon fill=\"lightgrey\" stroke=\"black\" points=\"708,-2135.5 607,-2135.5 607,-2116.5 708,-2116.5 708,-2135.5\"/>\n<text text-anchor=\"middle\" x=\"657.5\" y=\"-2123.5\" font-family=\"monospace\" font-size=\"10.00\">AccumulateGrad</text>\n</g>\n<!-- 140108170946784&#45;&gt;140108161095648 -->\n<g id=\"edge193\" class=\"edge\">\n<title>140108170946784&#45;&gt;140108161095648</title>\n<path fill=\"none\" stroke=\"black\" d=\"M657.5,-2176.86C657.5,-2167.68 657.5,-2155.75 657.5,-2145.86\"/>\n<polygon fill=\"black\" stroke=\"black\" points=\"661,-2145.82 657.5,-2135.82 654,-2145.82 661,-2145.82\"/>\n</g>\n<!-- 140108161095936 -->\n<g id=\"node121\" class=\"node\">\n<title>140108161095936</title>\n<polygon fill=\"lightgrey\" stroke=\"black\" points=\"966,-2336 877,-2336 877,-2317 966,-2317 966,-2336\"/>\n<text text-anchor=\"middle\" x=\"921.5\" y=\"-2324\" font-family=\"monospace\" font-size=\"10.00\">AddBackward0</text>\n</g>\n<!-- 140108161095936&#45;&gt;140108161095696 -->\n<g id=\"edge119\" class=\"edge\">\n<title>140108161095936&#45;&gt;140108161095696</title>\n<path fill=\"none\" stroke=\"black\" d=\"M886.72,-2316.94C839.33,-2305.27 754.44,-2284.37 702.33,-2271.54\"/>\n<polygon fill=\"black\" stroke=\"black\" points=\"702.91,-2268.08 692.36,-2269.08 701.24,-2274.87 702.91,-2268.08\"/>\n</g>\n<!-- 140108161095792 -->\n<g id=\"node206\" class=\"node\">\n<title>140108161095792</title>\n<polygon fill=\"lightgrey\" stroke=\"black\" points=\"990,-2269 853,-2269 853,-2250 990,-2250 990,-2269\"/>\n<text text-anchor=\"middle\" x=\"921.5\" y=\"-2257\" font-family=\"monospace\" font-size=\"10.00\">ConvolutionBackward0</text>\n</g>\n<!-- 140108161095936&#45;&gt;140108161095792 -->\n<g id=\"edge222\" class=\"edge\">\n<title>140108161095936&#45;&gt;140108161095792</title>\n<path fill=\"none\" stroke=\"black\" d=\"M921.5,-2316.73C921.5,-2307.18 921.5,-2291.62 921.5,-2279.28\"/>\n<polygon fill=\"black\" stroke=\"black\" points=\"925,-2279.13 921.5,-2269.13 918,-2279.13 925,-2279.13\"/>\n</g>\n<!-- 140108161095984 -->\n<g id=\"node122\" class=\"node\">\n<title>140108161095984</title>\n<polygon fill=\"lightgrey\" stroke=\"black\" points=\"1300,-2402.5 1139,-2402.5 1139,-2383.5 1300,-2383.5 1300,-2402.5\"/>\n<text text-anchor=\"middle\" x=\"1219.5\" y=\"-2390.5\" font-family=\"monospace\" font-size=\"10.00\">NativeBatchNormBackward0</text>\n</g>\n<!-- 140108161095984&#45;&gt;140108161095936 -->\n<g id=\"edge120\" class=\"edge\">\n<title>140108161095984&#45;&gt;140108161095936</title>\n<path fill=\"none\" stroke=\"black\" d=\"M1173.45,-2383.42C1124.26,-2374.06 1044.09,-2358.22 975.5,-2342 971.08,-2340.95 966.46,-2339.81 961.88,-2338.63\"/>\n<polygon fill=\"black\" stroke=\"black\" points=\"962.54,-2335.18 951.98,-2336.03 960.76,-2341.95 962.54,-2335.18\"/>\n</g>\n<!-- 140112418154880 -->\n<g id=\"node123\" class=\"node\">\n<title>140112418154880</title>\n<polygon fill=\"orange\" stroke=\"black\" points=\"1416,-2341.5 1303,-2341.5 1303,-2311.5 1416,-2311.5 1416,-2341.5\"/>\n<text text-anchor=\"middle\" x=\"1359.5\" y=\"-2329.5\" font-family=\"monospace\" font-size=\"10.00\">input</text>\n<text text-anchor=\"middle\" x=\"1359.5\" y=\"-2318.5\" font-family=\"monospace\" font-size=\"10.00\"> (1, 32, 16, 16)</text>\n</g>\n<!-- 140108161095984&#45;&gt;140112418154880 -->\n<g id=\"edge121\" class=\"edge\">\n<title>140108161095984&#45;&gt;140112418154880</title>\n<path fill=\"none\" stroke=\"black\" d=\"M1238.09,-2383.43C1261.3,-2372.74 1301.3,-2354.31 1329.02,-2341.54\"/>\n</g>\n<!-- 140108170313168 -->\n<g id=\"node124\" class=\"node\">\n<title>140108170313168</title>\n<polygon fill=\"orange\" stroke=\"black\" points=\"1493,-2341.5 1434,-2341.5 1434,-2311.5 1493,-2311.5 1493,-2341.5\"/>\n<text text-anchor=\"middle\" x=\"1463.5\" y=\"-2329.5\" font-family=\"monospace\" font-size=\"10.00\">result1</text>\n<text text-anchor=\"middle\" x=\"1463.5\" y=\"-2318.5\" font-family=\"monospace\" font-size=\"10.00\"> (0)</text>\n</g>\n<!-- 140108161095984&#45;&gt;140108170313168 -->\n<g id=\"edge122\" class=\"edge\">\n<title>140108161095984&#45;&gt;140108170313168</title>\n<path fill=\"none\" stroke=\"black\" d=\"M1261.35,-2383.47C1303.27,-2374.54 1369.45,-2359.42 1425.5,-2342 1428.2,-2341.16 1430.98,-2340.23 1433.75,-2339.26\"/>\n</g>\n<!-- 140108170964048 -->\n<g id=\"node125\" class=\"node\">\n<title>140108170964048</title>\n<polygon fill=\"orange\" stroke=\"black\" points=\"1570,-2341.5 1511,-2341.5 1511,-2311.5 1570,-2311.5 1570,-2341.5\"/>\n<text text-anchor=\"middle\" x=\"1540.5\" y=\"-2329.5\" font-family=\"monospace\" font-size=\"10.00\">result2</text>\n<text text-anchor=\"middle\" x=\"1540.5\" y=\"-2318.5\" font-family=\"monospace\" font-size=\"10.00\"> (0)</text>\n</g>\n<!-- 140108161095984&#45;&gt;140108170964048 -->\n<g id=\"edge123\" class=\"edge\">\n<title>140108161095984&#45;&gt;140108170964048</title>\n<path fill=\"none\" stroke=\"black\" d=\"M1275.13,-2383.46C1344.96,-2372.51 1460.66,-2353.57 1502.5,-2342 1505.22,-2341.25 1508.02,-2340.38 1510.81,-2339.44\"/>\n</g>\n<!-- 140108170944864 -->\n<g id=\"node126\" class=\"node\">\n<title>140108170944864</title>\n<polygon fill=\"orange\" stroke=\"black\" points=\"1073,-2341.5 984,-2341.5 984,-2311.5 1073,-2311.5 1073,-2341.5\"/>\n<text text-anchor=\"middle\" x=\"1028.5\" y=\"-2329.5\" font-family=\"monospace\" font-size=\"10.00\">running_mean</text>\n<text text-anchor=\"middle\" x=\"1028.5\" y=\"-2318.5\" font-family=\"monospace\" font-size=\"10.00\"> (32)</text>\n</g>\n<!-- 140108161095984&#45;&gt;140108170944864 -->\n<g id=\"edge124\" class=\"edge\">\n<title>140108161095984&#45;&gt;140108170944864</title>\n<path fill=\"none\" stroke=\"black\" d=\"M1194.14,-2383.43C1162.48,-2372.74 1107.89,-2354.31 1070.08,-2341.54\"/>\n</g>\n<!-- 140108170946464 -->\n<g id=\"node127\" class=\"node\">\n<title>140108170946464</title>\n<polygon fill=\"orange\" stroke=\"black\" points=\"1174,-2341.5 1091,-2341.5 1091,-2311.5 1174,-2311.5 1174,-2341.5\"/>\n<text text-anchor=\"middle\" x=\"1132.5\" y=\"-2329.5\" font-family=\"monospace\" font-size=\"10.00\">running_var</text>\n<text text-anchor=\"middle\" x=\"1132.5\" y=\"-2318.5\" font-family=\"monospace\" font-size=\"10.00\"> (32)</text>\n</g>\n<!-- 140108161095984&#45;&gt;140108170946464 -->\n<g id=\"edge125\" class=\"edge\">\n<title>140108161095984&#45;&gt;140108170946464</title>\n<path fill=\"none\" stroke=\"black\" d=\"M1207.77,-2383.3C1193.39,-2372.64 1168.83,-2354.43 1151.69,-2341.73\"/>\n</g>\n<!-- 140108170945904 -->\n<g id=\"node128\" class=\"node\">\n<title>140108170945904</title>\n<polygon fill=\"lightblue\" stroke=\"black\" points=\"1246.5,-2342 1192.5,-2342 1192.5,-2311 1246.5,-2311 1246.5,-2342\"/>\n<text text-anchor=\"middle\" x=\"1219.5\" y=\"-2318\" font-family=\"monospace\" font-size=\"10.00\"> (32)</text>\n</g>\n<!-- 140108161095984&#45;&gt;140108170945904 -->\n<g id=\"edge126\" class=\"edge\">\n<title>140108161095984&#45;&gt;140108170945904</title>\n<path fill=\"none\" stroke=\"black\" d=\"M1219.5,-2383.3C1219.5,-2372.85 1219.5,-2355.14 1219.5,-2342.47\"/>\n</g>\n<!-- 140108161097040 -->\n<g id=\"node167\" class=\"node\">\n<title>140108161097040</title>\n<polygon fill=\"lightgrey\" stroke=\"black\" points=\"1325,-2269 1224,-2269 1224,-2250 1325,-2250 1325,-2269\"/>\n<text text-anchor=\"middle\" x=\"1274.5\" y=\"-2257\" font-family=\"monospace\" font-size=\"10.00\">AccumulateGrad</text>\n</g>\n<!-- 140108170945904&#45;&gt;140108161097040 -->\n<g id=\"edge171\" class=\"edge\">\n<title>140108170945904&#45;&gt;140108161097040</title>\n<path fill=\"none\" stroke=\"black\" d=\"M1231.98,-2310.75C1240.5,-2300.68 1251.79,-2287.34 1260.59,-2276.93\"/>\n<polygon fill=\"black\" stroke=\"black\" points=\"1263.5,-2278.91 1267.29,-2269.02 1258.16,-2274.39 1263.5,-2278.91\"/>\n</g>\n<!-- 140108161097232 -->\n<g id=\"node129\" class=\"node\">\n<title>140108161097232</title>\n<polygon fill=\"lightgrey\" stroke=\"black\" points=\"1420,-2469 1325,-2469 1325,-2450 1420,-2450 1420,-2469\"/>\n<text text-anchor=\"middle\" x=\"1372.5\" y=\"-2457\" font-family=\"monospace\" font-size=\"10.00\">ReluBackward0</text>\n</g>\n<!-- 140108161097232&#45;&gt;140108161095984 -->\n<g id=\"edge127\" class=\"edge\">\n<title>140108161097232&#45;&gt;140108161095984</title>\n<path fill=\"none\" stroke=\"black\" d=\"M1352.18,-2449.93C1325.78,-2438.8 1279.47,-2419.28 1249.14,-2406.5\"/>\n<polygon fill=\"black\" stroke=\"black\" points=\"1250.48,-2403.26 1239.9,-2402.6 1247.76,-2409.71 1250.48,-2403.26\"/>\n</g>\n<!-- 140108170965328 -->\n<g id=\"node130\" class=\"node\">\n<title>140108170965328</title>\n<polygon fill=\"orange\" stroke=\"black\" points=\"1431,-2408 1318,-2408 1318,-2378 1431,-2378 1431,-2408\"/>\n<text text-anchor=\"middle\" x=\"1374.5\" y=\"-2396\" font-family=\"monospace\" font-size=\"10.00\">result</text>\n<text text-anchor=\"middle\" x=\"1374.5\" y=\"-2385\" font-family=\"monospace\" font-size=\"10.00\"> (1, 32, 16, 16)</text>\n</g>\n<!-- 140108161097232&#45;&gt;140108170965328 -->\n<g id=\"edge128\" class=\"edge\">\n<title>140108161097232&#45;&gt;140108170965328</title>\n<path fill=\"none\" stroke=\"black\" d=\"M1372.77,-2449.8C1373.1,-2439.21 1373.66,-2421.17 1374.05,-2408.47\"/>\n</g>\n<!-- 140108161098864 -->\n<g id=\"node131\" class=\"node\">\n<title>140108161098864</title>\n<polygon fill=\"lightgrey\" stroke=\"black\" points=\"1346,-2536 1209,-2536 1209,-2517 1346,-2517 1346,-2536\"/>\n<text text-anchor=\"middle\" x=\"1277.5\" y=\"-2524\" font-family=\"monospace\" font-size=\"10.00\">ConvolutionBackward0</text>\n</g>\n<!-- 140108161098864&#45;&gt;140108161097232 -->\n<g id=\"edge129\" class=\"edge\">\n<title>140108161098864&#45;&gt;140108161097232</title>\n<path fill=\"none\" stroke=\"black\" d=\"M1290.31,-2516.73C1305.98,-2506.01 1332.72,-2487.72 1351.43,-2474.91\"/>\n<polygon fill=\"black\" stroke=\"black\" points=\"1353.61,-2477.66 1359.89,-2469.13 1349.66,-2471.89 1353.61,-2477.66\"/>\n</g>\n<!-- 140112418154800 -->\n<g id=\"node132\" class=\"node\">\n<title>140112418154800</title>\n<polygon fill=\"orange\" stroke=\"black\" points=\"1307,-2474.5 1194,-2474.5 1194,-2444.5 1307,-2444.5 1307,-2474.5\"/>\n<text text-anchor=\"middle\" x=\"1250.5\" y=\"-2462.5\" font-family=\"monospace\" font-size=\"10.00\">input</text>\n<text text-anchor=\"middle\" x=\"1250.5\" y=\"-2451.5\" font-family=\"monospace\" font-size=\"10.00\"> (1, 32, 32, 32)</text>\n</g>\n<!-- 140108161098864&#45;&gt;140112418154800 -->\n<g id=\"edge130\" class=\"edge\">\n<title>140108161098864&#45;&gt;140112418154800</title>\n<path fill=\"none\" stroke=\"black\" d=\"M1273.86,-2516.73C1269.37,-2505.92 1261.68,-2487.41 1256.35,-2474.59\"/>\n</g>\n<!-- 140108170946144 -->\n<g id=\"node133\" class=\"node\">\n<title>140108170946144</title>\n<polygon fill=\"lightblue\" stroke=\"black\" points=\"1584,-2475 1477,-2475 1477,-2444 1584,-2444 1584,-2475\"/>\n<text text-anchor=\"middle\" x=\"1530.5\" y=\"-2451\" font-family=\"monospace\" font-size=\"10.00\"> (32, 32, 3, 3)</text>\n</g>\n<!-- 140108161098864&#45;&gt;140108170946144 -->\n<g id=\"edge131\" class=\"edge\">\n<title>140108161098864&#45;&gt;140108170946144</title>\n<path fill=\"none\" stroke=\"black\" d=\"M1310.84,-2516.94C1353.1,-2506.08 1426.51,-2487.22 1476.74,-2474.31\"/>\n</g>\n<!-- 140108161098816 -->\n<g id=\"node166\" class=\"node\">\n<title>140108161098816</title>\n<polygon fill=\"lightgrey\" stroke=\"black\" points=\"1566,-2402.5 1465,-2402.5 1465,-2383.5 1566,-2383.5 1566,-2402.5\"/>\n<text text-anchor=\"middle\" x=\"1515.5\" y=\"-2390.5\" font-family=\"monospace\" font-size=\"10.00\">AccumulateGrad</text>\n</g>\n<!-- 140108170946144&#45;&gt;140108161098816 -->\n<g id=\"edge169\" class=\"edge\">\n<title>140108170946144&#45;&gt;140108161098816</title>\n<path fill=\"none\" stroke=\"black\" d=\"M1527.1,-2443.86C1524.96,-2434.68 1522.19,-2422.75 1519.89,-2412.86\"/>\n<polygon fill=\"black\" stroke=\"black\" points=\"1523.23,-2411.77 1517.55,-2402.82 1516.41,-2413.36 1523.23,-2411.77\"/>\n</g>\n<!-- 140108161098720 -->\n<g id=\"node134\" class=\"node\">\n<title>140108161098720</title>\n<polygon fill=\"lightgrey\" stroke=\"black\" points=\"1501,-2602.5 1340,-2602.5 1340,-2583.5 1501,-2583.5 1501,-2602.5\"/>\n<text text-anchor=\"middle\" x=\"1420.5\" y=\"-2590.5\" font-family=\"monospace\" font-size=\"10.00\">NativeBatchNormBackward0</text>\n</g>\n<!-- 140108161098720&#45;&gt;140108161098864 -->\n<g id=\"edge132\" class=\"edge\">\n<title>140108161098720&#45;&gt;140108161098864</title>\n<path fill=\"none\" stroke=\"black\" d=\"M1401.51,-2583.43C1377.04,-2572.4 1334.3,-2553.12 1305.94,-2540.33\"/>\n<polygon fill=\"black\" stroke=\"black\" points=\"1307.12,-2537.02 1296.57,-2536.1 1304.24,-2543.4 1307.12,-2537.02\"/>\n</g>\n<!-- 140112418159840 -->\n<g id=\"node135\" class=\"node\">\n<title>140112418159840</title>\n<polygon fill=\"orange\" stroke=\"black\" points=\"1477,-2541.5 1364,-2541.5 1364,-2511.5 1477,-2511.5 1477,-2541.5\"/>\n<text text-anchor=\"middle\" x=\"1420.5\" y=\"-2529.5\" font-family=\"monospace\" font-size=\"10.00\">input</text>\n<text text-anchor=\"middle\" x=\"1420.5\" y=\"-2518.5\" font-family=\"monospace\" font-size=\"10.00\"> (1, 32, 32, 32)</text>\n</g>\n<!-- 140108161098720&#45;&gt;140112418159840 -->\n<g id=\"edge133\" class=\"edge\">\n<title>140108161098720&#45;&gt;140112418159840</title>\n<path fill=\"none\" stroke=\"black\" d=\"M1420.5,-2583.3C1420.5,-2572.71 1420.5,-2554.67 1420.5,-2541.97\"/>\n</g>\n<!-- 140111714470144 -->\n<g id=\"node136\" class=\"node\">\n<title>140111714470144</title>\n<polygon fill=\"orange\" stroke=\"black\" points=\"1554,-2541.5 1495,-2541.5 1495,-2511.5 1554,-2511.5 1554,-2541.5\"/>\n<text text-anchor=\"middle\" x=\"1524.5\" y=\"-2529.5\" font-family=\"monospace\" font-size=\"10.00\">result1</text>\n<text text-anchor=\"middle\" x=\"1524.5\" y=\"-2518.5\" font-family=\"monospace\" font-size=\"10.00\"> (0)</text>\n</g>\n<!-- 140108161098720&#45;&gt;140111714470144 -->\n<g id=\"edge134\" class=\"edge\">\n<title>140108161098720&#45;&gt;140111714470144</title>\n<path fill=\"none\" stroke=\"black\" d=\"M1434.53,-2583.3C1451.71,-2572.64 1481.07,-2554.43 1501.56,-2541.73\"/>\n</g>\n<!-- 140108170965408 -->\n<g id=\"node137\" class=\"node\">\n<title>140108170965408</title>\n<polygon fill=\"orange\" stroke=\"black\" points=\"1631,-2541.5 1572,-2541.5 1572,-2511.5 1631,-2511.5 1631,-2541.5\"/>\n<text text-anchor=\"middle\" x=\"1601.5\" y=\"-2529.5\" font-family=\"monospace\" font-size=\"10.00\">result2</text>\n<text text-anchor=\"middle\" x=\"1601.5\" y=\"-2518.5\" font-family=\"monospace\" font-size=\"10.00\"> (0)</text>\n</g>\n<!-- 140108161098720&#45;&gt;140108170965408 -->\n<g id=\"edge135\" class=\"edge\">\n<title>140108161098720&#45;&gt;140108170965408</title>\n<path fill=\"none\" stroke=\"black\" d=\"M1445.63,-2583.45C1474.25,-2573.66 1522.37,-2557.03 1563.5,-2542 1566.15,-2541.03 1568.9,-2540.01 1571.66,-2538.98\"/>\n</g>\n<!-- 140108170942224 -->\n<g id=\"node138\" class=\"node\">\n<title>140108170942224</title>\n<polygon fill=\"orange\" stroke=\"black\" points=\"1738,-2541.5 1649,-2541.5 1649,-2511.5 1738,-2511.5 1738,-2541.5\"/>\n<text text-anchor=\"middle\" x=\"1693.5\" y=\"-2529.5\" font-family=\"monospace\" font-size=\"10.00\">running_mean</text>\n<text text-anchor=\"middle\" x=\"1693.5\" y=\"-2518.5\" font-family=\"monospace\" font-size=\"10.00\"> (32)</text>\n</g>\n<!-- 140108161098720&#45;&gt;140108170942224 -->\n<g id=\"edge136\" class=\"edge\">\n<title>140108161098720&#45;&gt;140108170942224</title>\n<path fill=\"none\" stroke=\"black\" d=\"M1460.37,-2583.49C1504.54,-2573.93 1577.81,-2557.69 1640.5,-2542 1643.18,-2541.33 1645.94,-2540.62 1648.72,-2539.9\"/>\n</g>\n<!-- 140108170945344 -->\n<g id=\"node139\" class=\"node\">\n<title>140108170945344</title>\n<polygon fill=\"orange\" stroke=\"black\" points=\"1839,-2541.5 1756,-2541.5 1756,-2511.5 1839,-2511.5 1839,-2541.5\"/>\n<text text-anchor=\"middle\" x=\"1797.5\" y=\"-2529.5\" font-family=\"monospace\" font-size=\"10.00\">running_var</text>\n<text text-anchor=\"middle\" x=\"1797.5\" y=\"-2518.5\" font-family=\"monospace\" font-size=\"10.00\"> (32)</text>\n</g>\n<!-- 140108161098720&#45;&gt;140108170945344 -->\n<g id=\"edge137\" class=\"edge\">\n<title>140108161098720&#45;&gt;140108170945344</title>\n<path fill=\"none\" stroke=\"black\" d=\"M1475.23,-2583.45C1486.87,-2581.65 1499.09,-2579.75 1510.5,-2578 1615.8,-2561.81 1643.45,-2564.89 1747.5,-2542 1750.24,-2541.4 1753.04,-2540.73 1755.86,-2540.02\"/>\n</g>\n<!-- 140108170945584 -->\n<g id=\"node140\" class=\"node\">\n<title>140108170945584</title>\n<polygon fill=\"lightblue\" stroke=\"black\" points=\"1152.5,-2542 1098.5,-2542 1098.5,-2511 1152.5,-2511 1152.5,-2542\"/>\n<text text-anchor=\"middle\" x=\"1125.5\" y=\"-2518\" font-family=\"monospace\" font-size=\"10.00\"> (32)</text>\n</g>\n<!-- 140108161098720&#45;&gt;140108170945584 -->\n<g id=\"edge138\" class=\"edge\">\n<title>140108161098720&#45;&gt;140108170945584</title>\n<path fill=\"none\" stroke=\"black\" d=\"M1364.96,-2583.46C1313.14,-2574.93 1233.91,-2560.45 1166.5,-2542 1161.98,-2540.76 1157.25,-2539.28 1152.67,-2537.73\"/>\n</g>\n<!-- 140108161098624 -->\n<g id=\"node163\" class=\"node\">\n<title>140108161098624</title>\n<polygon fill=\"lightgrey\" stroke=\"black\" points=\"1176,-2469 1075,-2469 1075,-2450 1176,-2450 1176,-2469\"/>\n<text text-anchor=\"middle\" x=\"1125.5\" y=\"-2457\" font-family=\"monospace\" font-size=\"10.00\">AccumulateGrad</text>\n</g>\n<!-- 140108170945584&#45;&gt;140108161098624 -->\n<g id=\"edge165\" class=\"edge\">\n<title>140108170945584&#45;&gt;140108161098624</title>\n<path fill=\"none\" stroke=\"black\" d=\"M1125.5,-2510.75C1125.5,-2501.39 1125.5,-2489.19 1125.5,-2479.16\"/>\n<polygon fill=\"black\" stroke=\"black\" points=\"1129,-2479.02 1125.5,-2469.02 1122,-2479.02 1129,-2479.02\"/>\n</g>\n<!-- 140108161090848 -->\n<g id=\"node141\" class=\"node\">\n<title>140108161090848</title>\n<polygon fill=\"lightgrey\" stroke=\"black\" points=\"1604,-2669 1509,-2669 1509,-2650 1604,-2650 1604,-2669\"/>\n<text text-anchor=\"middle\" x=\"1556.5\" y=\"-2657\" font-family=\"monospace\" font-size=\"10.00\">ReluBackward0</text>\n</g>\n<!-- 140108161090848&#45;&gt;140108161098720 -->\n<g id=\"edge139\" class=\"edge\">\n<title>140108161090848&#45;&gt;140108161098720</title>\n<path fill=\"none\" stroke=\"black\" d=\"M1538.44,-2649.93C1515.27,-2638.95 1474.87,-2619.79 1447.9,-2607\"/>\n<polygon fill=\"black\" stroke=\"black\" points=\"1449.17,-2603.72 1438.63,-2602.6 1446.17,-2610.05 1449.17,-2603.72\"/>\n</g>\n<!-- 140108170961648 -->\n<g id=\"node142\" class=\"node\">\n<title>140108170961648</title>\n<polygon fill=\"orange\" stroke=\"black\" points=\"1632,-2608 1519,-2608 1519,-2578 1632,-2578 1632,-2608\"/>\n<text text-anchor=\"middle\" x=\"1575.5\" y=\"-2596\" font-family=\"monospace\" font-size=\"10.00\">result</text>\n<text text-anchor=\"middle\" x=\"1575.5\" y=\"-2585\" font-family=\"monospace\" font-size=\"10.00\"> (1, 32, 32, 32)</text>\n</g>\n<!-- 140108161090848&#45;&gt;140108170961648 -->\n<g id=\"edge140\" class=\"edge\">\n<title>140108161090848&#45;&gt;140108170961648</title>\n<path fill=\"none\" stroke=\"black\" d=\"M1559.06,-2649.8C1562.18,-2639.21 1567.5,-2621.17 1571.24,-2608.47\"/>\n</g>\n<!-- 140108161105536 -->\n<g id=\"node143\" class=\"node\">\n<title>140108161105536</title>\n<polygon fill=\"lightgrey\" stroke=\"black\" points=\"1728,-2736 1591,-2736 1591,-2717 1728,-2717 1728,-2736\"/>\n<text text-anchor=\"middle\" x=\"1659.5\" y=\"-2724\" font-family=\"monospace\" font-size=\"10.00\">ConvolutionBackward0</text>\n</g>\n<!-- 140108161105536&#45;&gt;140108161090848 -->\n<g id=\"edge141\" class=\"edge\">\n<title>140108161105536&#45;&gt;140108161090848</title>\n<path fill=\"none\" stroke=\"black\" d=\"M1645.61,-2716.73C1628.47,-2705.92 1599.1,-2687.38 1578.79,-2674.57\"/>\n<polygon fill=\"black\" stroke=\"black\" points=\"1580.5,-2671.5 1570.17,-2669.13 1576.76,-2677.42 1580.5,-2671.5\"/>\n</g>\n<!-- 140112418155120 -->\n<g id=\"node144\" class=\"node\">\n<title>140112418155120</title>\n<polygon fill=\"orange\" stroke=\"black\" points=\"1735,-2674.5 1622,-2674.5 1622,-2644.5 1735,-2644.5 1735,-2674.5\"/>\n<text text-anchor=\"middle\" x=\"1678.5\" y=\"-2662.5\" font-family=\"monospace\" font-size=\"10.00\">input</text>\n<text text-anchor=\"middle\" x=\"1678.5\" y=\"-2651.5\" font-family=\"monospace\" font-size=\"10.00\"> (1, 32, 32, 32)</text>\n</g>\n<!-- 140108161105536&#45;&gt;140112418155120 -->\n<g id=\"edge142\" class=\"edge\">\n<title>140108161105536&#45;&gt;140112418155120</title>\n<path fill=\"none\" stroke=\"black\" d=\"M1662.06,-2716.73C1665.22,-2705.92 1670.64,-2687.41 1674.38,-2674.59\"/>\n</g>\n<!-- 140108170945664 -->\n<g id=\"node145\" class=\"node\">\n<title>140108170945664</title>\n<polygon fill=\"lightblue\" stroke=\"black\" points=\"1860,-2675 1753,-2675 1753,-2644 1860,-2644 1860,-2675\"/>\n<text text-anchor=\"middle\" x=\"1806.5\" y=\"-2651\" font-family=\"monospace\" font-size=\"10.00\"> (32, 32, 3, 3)</text>\n</g>\n<!-- 140108161105536&#45;&gt;140108170945664 -->\n<g id=\"edge143\" class=\"edge\">\n<title>140108161105536&#45;&gt;140108170945664</title>\n<path fill=\"none\" stroke=\"black\" d=\"M1679.02,-2716.87C1703.15,-2706.2 1744.59,-2687.88 1773.65,-2675.02\"/>\n</g>\n<!-- 140108161105632 -->\n<g id=\"node162\" class=\"node\">\n<title>140108161105632</title>\n<polygon fill=\"lightgrey\" stroke=\"black\" points=\"1898,-2602.5 1797,-2602.5 1797,-2583.5 1898,-2583.5 1898,-2602.5\"/>\n<text text-anchor=\"middle\" x=\"1847.5\" y=\"-2590.5\" font-family=\"monospace\" font-size=\"10.00\">AccumulateGrad</text>\n</g>\n<!-- 140108170945664&#45;&gt;140108161105632 -->\n<g id=\"edge163\" class=\"edge\">\n<title>140108170945664&#45;&gt;140108161105632</title>\n<path fill=\"none\" stroke=\"black\" d=\"M1815.8,-2643.86C1821.95,-2634.19 1830.04,-2621.46 1836.51,-2611.29\"/>\n<polygon fill=\"black\" stroke=\"black\" points=\"1839.48,-2613.14 1841.89,-2602.82 1833.57,-2609.38 1839.48,-2613.14\"/>\n</g>\n<!-- 140108161105392 -->\n<g id=\"node146\" class=\"node\">\n<title>140108161105392</title>\n<polygon fill=\"lightgrey\" stroke=\"black\" points=\"1571,-2802.5 1410,-2802.5 1410,-2783.5 1571,-2783.5 1571,-2802.5\"/>\n<text text-anchor=\"middle\" x=\"1490.5\" y=\"-2790.5\" font-family=\"monospace\" font-size=\"10.00\">NativeBatchNormBackward0</text>\n</g>\n<!-- 140108161105392&#45;&gt;140108161105536 -->\n<g id=\"edge144\" class=\"edge\">\n<title>140108161105392&#45;&gt;140108161105536</title>\n<path fill=\"none\" stroke=\"black\" d=\"M1512.94,-2783.43C1542.24,-2772.25 1593.7,-2752.61 1627.19,-2739.83\"/>\n<polygon fill=\"black\" stroke=\"black\" points=\"1628.87,-2742.94 1636.97,-2736.1 1626.37,-2736.4 1628.87,-2742.94\"/>\n</g>\n<!-- 140112418155200 -->\n<g id=\"node147\" class=\"node\">\n<title>140112418155200</title>\n<polygon fill=\"orange\" stroke=\"black\" points=\"1859,-2741.5 1746,-2741.5 1746,-2711.5 1859,-2711.5 1859,-2741.5\"/>\n<text text-anchor=\"middle\" x=\"1802.5\" y=\"-2729.5\" font-family=\"monospace\" font-size=\"10.00\">input</text>\n<text text-anchor=\"middle\" x=\"1802.5\" y=\"-2718.5\" font-family=\"monospace\" font-size=\"10.00\"> (1, 32, 32, 32)</text>\n</g>\n<!-- 140108161105392&#45;&gt;140112418155200 -->\n<g id=\"edge145\" class=\"edge\">\n<title>140108161105392&#45;&gt;140112418155200</title>\n<path fill=\"none\" stroke=\"black\" d=\"M1533.83,-2783.5C1583.2,-2773.75 1666.25,-2757.16 1737.5,-2742 1740.21,-2741.42 1742.99,-2740.83 1745.79,-2740.22\"/>\n</g>\n<!-- 140108170963648 -->\n<g id=\"node148\" class=\"node\">\n<title>140108170963648</title>\n<polygon fill=\"orange\" stroke=\"black\" points=\"1936,-2741.5 1877,-2741.5 1877,-2711.5 1936,-2711.5 1936,-2741.5\"/>\n<text text-anchor=\"middle\" x=\"1906.5\" y=\"-2729.5\" font-family=\"monospace\" font-size=\"10.00\">result1</text>\n<text text-anchor=\"middle\" x=\"1906.5\" y=\"-2718.5\" font-family=\"monospace\" font-size=\"10.00\"> (0)</text>\n</g>\n<!-- 140108161105392&#45;&gt;140108170963648 -->\n<g id=\"edge146\" class=\"edge\">\n<title>140108161105392&#45;&gt;140108170963648</title>\n<path fill=\"none\" stroke=\"black\" d=\"M1543.76,-2783.44C1555.83,-2781.58 1568.6,-2779.67 1580.5,-2778 1708.25,-2760.08 1743.34,-2773.22 1868.5,-2742 1871.24,-2741.32 1874.05,-2740.49 1876.85,-2739.59\"/>\n</g>\n<!-- 140108170956848 -->\n<g id=\"node149\" class=\"node\">\n<title>140108170956848</title>\n<polygon fill=\"orange\" stroke=\"black\" points=\"1254,-2741.5 1195,-2741.5 1195,-2711.5 1254,-2711.5 1254,-2741.5\"/>\n<text text-anchor=\"middle\" x=\"1224.5\" y=\"-2729.5\" font-family=\"monospace\" font-size=\"10.00\">result2</text>\n<text text-anchor=\"middle\" x=\"1224.5\" y=\"-2718.5\" font-family=\"monospace\" font-size=\"10.00\"> (0)</text>\n</g>\n<!-- 140108161105392&#45;&gt;140108170956848 -->\n<g id=\"edge147\" class=\"edge\">\n<title>140108161105392&#45;&gt;140108170956848</title>\n<path fill=\"none\" stroke=\"black\" d=\"M1442.62,-2783.46C1396.34,-2774.74 1324.47,-2759.95 1263.5,-2742 1260.45,-2741.1 1257.3,-2740.08 1254.17,-2739.02\"/>\n</g>\n<!-- 140108170302448 -->\n<g id=\"node150\" class=\"node\">\n<title>140108170302448</title>\n<polygon fill=\"orange\" stroke=\"black\" points=\"1361,-2741.5 1272,-2741.5 1272,-2711.5 1361,-2711.5 1361,-2741.5\"/>\n<text text-anchor=\"middle\" x=\"1316.5\" y=\"-2729.5\" font-family=\"monospace\" font-size=\"10.00\">running_mean</text>\n<text text-anchor=\"middle\" x=\"1316.5\" y=\"-2718.5\" font-family=\"monospace\" font-size=\"10.00\"> (32)</text>\n</g>\n<!-- 140108161105392&#45;&gt;140108170302448 -->\n<g id=\"edge148\" class=\"edge\">\n<title>140108161105392&#45;&gt;140108170302448</title>\n<path fill=\"none\" stroke=\"black\" d=\"M1467.39,-2783.43C1438.55,-2772.74 1388.83,-2754.31 1354.38,-2741.54\"/>\n</g>\n<!-- 140111714483104 -->\n<g id=\"node151\" class=\"node\">\n<title>140111714483104</title>\n<polygon fill=\"orange\" stroke=\"black\" points=\"1462,-2741.5 1379,-2741.5 1379,-2711.5 1462,-2711.5 1462,-2741.5\"/>\n<text text-anchor=\"middle\" x=\"1420.5\" y=\"-2729.5\" font-family=\"monospace\" font-size=\"10.00\">running_var</text>\n<text text-anchor=\"middle\" x=\"1420.5\" y=\"-2718.5\" font-family=\"monospace\" font-size=\"10.00\"> (32)</text>\n</g>\n<!-- 140108161105392&#45;&gt;140111714483104 -->\n<g id=\"edge149\" class=\"edge\">\n<title>140108161105392&#45;&gt;140111714483104</title>\n<path fill=\"none\" stroke=\"black\" d=\"M1481.06,-2783.3C1469.49,-2772.64 1449.73,-2754.43 1435.94,-2741.73\"/>\n</g>\n<!-- 140108170686320 -->\n<g id=\"node152\" class=\"node\">\n<title>140108170686320</title>\n<polygon fill=\"lightblue\" stroke=\"black\" points=\"1572.5,-2742 1518.5,-2742 1518.5,-2711 1572.5,-2711 1572.5,-2742\"/>\n<text text-anchor=\"middle\" x=\"1545.5\" y=\"-2718\" font-family=\"monospace\" font-size=\"10.00\"> (32)</text>\n</g>\n<!-- 140108161105392&#45;&gt;140108170686320 -->\n<g id=\"edge150\" class=\"edge\">\n<title>140108161105392&#45;&gt;140108170686320</title>\n<path fill=\"none\" stroke=\"black\" d=\"M1497.92,-2783.3C1506.83,-2772.85 1521.93,-2755.14 1532.73,-2742.47\"/>\n</g>\n<!-- 140108161104624 -->\n<g id=\"node159\" class=\"node\">\n<title>140108161104624</title>\n<polygon fill=\"lightgrey\" stroke=\"black\" points=\"1491,-2669 1390,-2669 1390,-2650 1491,-2650 1491,-2669\"/>\n<text text-anchor=\"middle\" x=\"1440.5\" y=\"-2657\" font-family=\"monospace\" font-size=\"10.00\">AccumulateGrad</text>\n</g>\n<!-- 140108170686320&#45;&gt;140108161104624 -->\n<g id=\"edge159\" class=\"edge\">\n<title>140108170686320&#45;&gt;140108161104624</title>\n<path fill=\"none\" stroke=\"black\" d=\"M1521.94,-2710.91C1504.39,-2700.05 1480.56,-2685.3 1463.22,-2674.56\"/>\n<polygon fill=\"black\" stroke=\"black\" points=\"1464.68,-2671.35 1454.33,-2669.06 1460.99,-2677.3 1464.68,-2671.35\"/>\n</g>\n<!-- 140108161098048 -->\n<g id=\"node153\" class=\"node\">\n<title>140108161098048</title>\n<polygon fill=\"lightgrey\" stroke=\"black\" points=\"1663,-2869 1568,-2869 1568,-2850 1663,-2850 1663,-2869\"/>\n<text text-anchor=\"middle\" x=\"1615.5\" y=\"-2857\" font-family=\"monospace\" font-size=\"10.00\">ReluBackward0</text>\n</g>\n<!-- 140108161098048&#45;&gt;140108161105392 -->\n<g id=\"edge151\" class=\"edge\">\n<title>140108161098048&#45;&gt;140108161105392</title>\n<path fill=\"none\" stroke=\"black\" d=\"M1598.9,-2849.93C1577.79,-2839.04 1541.12,-2820.12 1516.34,-2807.34\"/>\n<polygon fill=\"black\" stroke=\"black\" points=\"1517.66,-2804.08 1507.17,-2802.6 1514.45,-2810.3 1517.66,-2804.08\"/>\n</g>\n<!-- 140108170965248 -->\n<g id=\"node154\" class=\"node\">\n<title>140108170965248</title>\n<polygon fill=\"orange\" stroke=\"black\" points=\"1702,-2808 1589,-2808 1589,-2778 1702,-2778 1702,-2808\"/>\n<text text-anchor=\"middle\" x=\"1645.5\" y=\"-2796\" font-family=\"monospace\" font-size=\"10.00\">result</text>\n<text text-anchor=\"middle\" x=\"1645.5\" y=\"-2785\" font-family=\"monospace\" font-size=\"10.00\"> (1, 32, 32, 32)</text>\n</g>\n<!-- 140108161098048&#45;&gt;140108170965248 -->\n<g id=\"edge152\" class=\"edge\">\n<title>140108161098048&#45;&gt;140108170965248</title>\n<path fill=\"none\" stroke=\"black\" d=\"M1619.55,-2849.8C1624.47,-2839.21 1632.86,-2821.17 1638.77,-2808.47\"/>\n</g>\n<!-- 140108161098480 -->\n<g id=\"node155\" class=\"node\">\n<title>140108161098480</title>\n<polygon fill=\"lightgrey\" stroke=\"black\" points=\"1722,-2936 1585,-2936 1585,-2917 1722,-2917 1722,-2936\"/>\n<text text-anchor=\"middle\" x=\"1653.5\" y=\"-2924\" font-family=\"monospace\" font-size=\"10.00\">ConvolutionBackward0</text>\n</g>\n<!-- 140108161098480&#45;&gt;140108161098048 -->\n<g id=\"edge153\" class=\"edge\">\n<title>140108161098480&#45;&gt;140108161098048</title>\n<path fill=\"none\" stroke=\"black\" d=\"M1648.38,-2916.73C1642.56,-2906.79 1632.94,-2890.34 1625.61,-2877.79\"/>\n<polygon fill=\"black\" stroke=\"black\" points=\"1628.61,-2875.99 1620.54,-2869.13 1622.57,-2879.53 1628.61,-2875.99\"/>\n</g>\n<!-- 140112418149760 -->\n<g id=\"node156\" class=\"node\">\n<title>140112418149760</title>\n<polygon fill=\"orange\" stroke=\"black\" points=\"1400,-2874.5 1293,-2874.5 1293,-2844.5 1400,-2844.5 1400,-2874.5\"/>\n<text text-anchor=\"middle\" x=\"1346.5\" y=\"-2862.5\" font-family=\"monospace\" font-size=\"10.00\">input</text>\n<text text-anchor=\"middle\" x=\"1346.5\" y=\"-2851.5\" font-family=\"monospace\" font-size=\"10.00\"> (1, 3, 32, 32)</text>\n</g>\n<!-- 140108161098480&#45;&gt;140112418149760 -->\n<g id=\"edge154\" class=\"edge\">\n<title>140108161098480&#45;&gt;140112418149760</title>\n<path fill=\"none\" stroke=\"black\" d=\"M1613.05,-2916.94C1558.42,-2905.37 1460.94,-2884.73 1400.21,-2871.87\"/>\n</g>\n<!-- 140108170939744 -->\n<g id=\"node157\" class=\"node\">\n<title>140108170939744</title>\n<polygon fill=\"lightblue\" stroke=\"black\" points=\"1821,-2875 1720,-2875 1720,-2844 1821,-2844 1821,-2875\"/>\n<text text-anchor=\"middle\" x=\"1770.5\" y=\"-2851\" font-family=\"monospace\" font-size=\"10.00\"> (32, 3, 3, 3)</text>\n</g>\n<!-- 140108161098480&#45;&gt;140108170939744 -->\n<g id=\"edge155\" class=\"edge\">\n<title>140108161098480&#45;&gt;140108170939744</title>\n<path fill=\"none\" stroke=\"black\" d=\"M1669.28,-2916.73C1688.49,-2906.06 1721.22,-2887.88 1744.25,-2875.08\"/>\n</g>\n<!-- 140108161101696 -->\n<g id=\"node158\" class=\"node\">\n<title>140108161101696</title>\n<polygon fill=\"lightgrey\" stroke=\"black\" points=\"1821,-2802.5 1720,-2802.5 1720,-2783.5 1821,-2783.5 1821,-2802.5\"/>\n<text text-anchor=\"middle\" x=\"1770.5\" y=\"-2790.5\" font-family=\"monospace\" font-size=\"10.00\">AccumulateGrad</text>\n</g>\n<!-- 140108170939744&#45;&gt;140108161101696 -->\n<g id=\"edge157\" class=\"edge\">\n<title>140108170939744&#45;&gt;140108161101696</title>\n<path fill=\"none\" stroke=\"black\" d=\"M1770.5,-2843.86C1770.5,-2834.68 1770.5,-2822.75 1770.5,-2812.86\"/>\n<polygon fill=\"black\" stroke=\"black\" points=\"1774,-2812.82 1770.5,-2802.82 1767,-2812.82 1774,-2812.82\"/>\n</g>\n<!-- 140108161101696&#45;&gt;140108161098480 -->\n<g id=\"edge156\" class=\"edge\">\n<title>140108161101696&#45;&gt;140108161098480</title>\n<path fill=\"none\" stroke=\"black\" d=\"M1758.43,-2802.8C1745.93,-2812.22 1726.22,-2827.98 1711.5,-2844 1692.84,-2864.31 1675.01,-2890.79 1664.16,-2907.97\"/>\n<polygon fill=\"black\" stroke=\"black\" points=\"1660.92,-2906.54 1658.63,-2916.89 1666.87,-2910.23 1660.92,-2906.54\"/>\n</g>\n<!-- 140108161104624&#45;&gt;140108161105392 -->\n<g id=\"edge158\" class=\"edge\">\n<title>140108161104624&#45;&gt;140108161105392</title>\n<path fill=\"none\" stroke=\"black\" d=\"M1447.15,-2669.33C1454.16,-2679.06 1465.08,-2695.4 1471.5,-2711 1479.9,-2731.4 1485.04,-2756.3 1487.82,-2773.06\"/>\n<polygon fill=\"black\" stroke=\"black\" points=\"1484.4,-2773.85 1489.38,-2783.21 1491.32,-2772.79 1484.4,-2773.85\"/>\n</g>\n<!-- 140108161098000 -->\n<g id=\"node160\" class=\"node\">\n<title>140108161098000</title>\n<polygon fill=\"lightgrey\" stroke=\"black\" points=\"1541,-2869 1440,-2869 1440,-2850 1541,-2850 1541,-2869\"/>\n<text text-anchor=\"middle\" x=\"1490.5\" y=\"-2857\" font-family=\"monospace\" font-size=\"10.00\">AccumulateGrad</text>\n</g>\n<!-- 140108161098000&#45;&gt;140108161105392 -->\n<g id=\"edge160\" class=\"edge\">\n<title>140108161098000&#45;&gt;140108161105392</title>\n<path fill=\"none\" stroke=\"black\" d=\"M1490.5,-2849.8C1490.5,-2840.32 1490.5,-2824.88 1490.5,-2812.64\"/>\n<polygon fill=\"black\" stroke=\"black\" points=\"1494,-2812.56 1490.5,-2802.56 1487,-2812.56 1494,-2812.56\"/>\n</g>\n<!-- 140111714482624 -->\n<g id=\"node161\" class=\"node\">\n<title>140111714482624</title>\n<polygon fill=\"lightblue\" stroke=\"black\" points=\"1517.5,-2942 1463.5,-2942 1463.5,-2911 1517.5,-2911 1517.5,-2942\"/>\n<text text-anchor=\"middle\" x=\"1490.5\" y=\"-2918\" font-family=\"monospace\" font-size=\"10.00\"> (32)</text>\n</g>\n<!-- 140111714482624&#45;&gt;140108161098000 -->\n<g id=\"edge161\" class=\"edge\">\n<title>140111714482624&#45;&gt;140108161098000</title>\n<path fill=\"none\" stroke=\"black\" d=\"M1490.5,-2910.75C1490.5,-2901.39 1490.5,-2889.19 1490.5,-2879.16\"/>\n<polygon fill=\"black\" stroke=\"black\" points=\"1494,-2879.02 1490.5,-2869.02 1487,-2879.02 1494,-2879.02\"/>\n</g>\n<!-- 140108161105632&#45;&gt;140108161105536 -->\n<g id=\"edge162\" class=\"edge\">\n<title>140108161105632&#45;&gt;140108161105536</title>\n<path fill=\"none\" stroke=\"black\" d=\"M1854.18,-2602.54C1865.78,-2618.45 1886.82,-2653.03 1869.5,-2675 1864.51,-2681.33 1771.38,-2701.96 1710.83,-2714.81\"/>\n<polygon fill=\"black\" stroke=\"black\" points=\"1709.73,-2711.47 1700.67,-2716.96 1711.18,-2718.32 1709.73,-2711.47\"/>\n</g>\n<!-- 140108161098624&#45;&gt;140108161098720 -->\n<g id=\"edge164\" class=\"edge\">\n<title>140108161098624&#45;&gt;140108161098720</title>\n<path fill=\"none\" stroke=\"black\" d=\"M1130.89,-2469.23C1141.8,-2486.14 1168.22,-2523.3 1200.5,-2542 1239.64,-2564.68 1288.23,-2577.07 1329.79,-2583.84\"/>\n<polygon fill=\"black\" stroke=\"black\" points=\"1329.49,-2587.34 1339.91,-2585.41 1330.56,-2580.42 1329.49,-2587.34\"/>\n</g>\n<!-- 140108161098672 -->\n<g id=\"node164\" class=\"node\">\n<title>140108161098672</title>\n<polygon fill=\"lightgrey\" stroke=\"black\" points=\"1286,-2669 1185,-2669 1185,-2650 1286,-2650 1286,-2669\"/>\n<text text-anchor=\"middle\" x=\"1235.5\" y=\"-2657\" font-family=\"monospace\" font-size=\"10.00\">AccumulateGrad</text>\n</g>\n<!-- 140108161098672&#45;&gt;140108161098720 -->\n<g id=\"edge166\" class=\"edge\">\n<title>140108161098672&#45;&gt;140108161098720</title>\n<path fill=\"none\" stroke=\"black\" d=\"M1260.07,-2649.93C1292.41,-2638.66 1349.45,-2618.77 1386.08,-2606\"/>\n<polygon fill=\"black\" stroke=\"black\" points=\"1387.54,-2609.2 1395.83,-2602.6 1385.24,-2602.59 1387.54,-2609.2\"/>\n</g>\n<!-- 140108170945264 -->\n<g id=\"node165\" class=\"node\">\n<title>140108170945264</title>\n<polygon fill=\"lightblue\" stroke=\"black\" points=\"1176.5,-2742 1122.5,-2742 1122.5,-2711 1176.5,-2711 1176.5,-2742\"/>\n<text text-anchor=\"middle\" x=\"1149.5\" y=\"-2718\" font-family=\"monospace\" font-size=\"10.00\"> (32)</text>\n</g>\n<!-- 140108170945264&#45;&gt;140108161098672 -->\n<g id=\"edge167\" class=\"edge\">\n<title>140108170945264&#45;&gt;140108161098672</title>\n<path fill=\"none\" stroke=\"black\" d=\"M1169.01,-2710.75C1183.13,-2700.08 1202.12,-2685.73 1216.19,-2675.09\"/>\n<polygon fill=\"black\" stroke=\"black\" points=\"1218.36,-2677.84 1224.23,-2669.02 1214.14,-2672.26 1218.36,-2677.84\"/>\n</g>\n<!-- 140108161098816&#45;&gt;140108161098864 -->\n<g id=\"edge168\" class=\"edge\">\n<title>140108161098816&#45;&gt;140108161098864</title>\n<path fill=\"none\" stroke=\"black\" d=\"M1507.21,-2402.7C1489.27,-2421.4 1447.02,-2464.54 1429.5,-2475 1398.29,-2493.63 1359.32,-2506.4 1328.65,-2514.44\"/>\n<polygon fill=\"black\" stroke=\"black\" points=\"1327.43,-2511.14 1318.59,-2516.99 1329.15,-2517.93 1327.43,-2511.14\"/>\n</g>\n<!-- 140108161097040&#45;&gt;140108161095984 -->\n<g id=\"edge170\" class=\"edge\">\n<title>140108161097040&#45;&gt;140108161095984</title>\n<path fill=\"none\" stroke=\"black\" d=\"M1273.58,-2269.43C1271.75,-2284.84 1266.8,-2317.13 1255.5,-2342 1250,-2354.1 1241.36,-2366.24 1233.92,-2375.52\"/>\n<polygon fill=\"black\" stroke=\"black\" points=\"1231.02,-2373.54 1227.29,-2383.46 1236.39,-2378.02 1231.02,-2373.54\"/>\n</g>\n<!-- 140108161097088 -->\n<g id=\"node168\" class=\"node\">\n<title>140108161097088</title>\n<polygon fill=\"lightgrey\" stroke=\"black\" points=\"1057,-2469 956,-2469 956,-2450 1057,-2450 1057,-2469\"/>\n<text text-anchor=\"middle\" x=\"1006.5\" y=\"-2457\" font-family=\"monospace\" font-size=\"10.00\">AccumulateGrad</text>\n</g>\n<!-- 140108161097088&#45;&gt;140108161095984 -->\n<g id=\"edge172\" class=\"edge\">\n<title>140108161097088&#45;&gt;140108161095984</title>\n<path fill=\"none\" stroke=\"black\" d=\"M1034.78,-2449.93C1072.5,-2438.51 1139.38,-2418.26 1181.48,-2405.51\"/>\n<polygon fill=\"black\" stroke=\"black\" points=\"1182.54,-2408.85 1191.1,-2402.6 1180.51,-2402.15 1182.54,-2408.85\"/>\n</g>\n<!-- 140108170946384 -->\n<g id=\"node169\" class=\"node\">\n<title>140108170946384</title>\n<polygon fill=\"lightblue\" stroke=\"black\" points=\"1033.5,-2542 979.5,-2542 979.5,-2511 1033.5,-2511 1033.5,-2542\"/>\n<text text-anchor=\"middle\" x=\"1006.5\" y=\"-2518\" font-family=\"monospace\" font-size=\"10.00\"> (32)</text>\n</g>\n<!-- 140108170946384&#45;&gt;140108161097088 -->\n<g id=\"edge173\" class=\"edge\">\n<title>140108170946384&#45;&gt;140108161097088</title>\n<path fill=\"none\" stroke=\"black\" d=\"M1006.5,-2510.75C1006.5,-2501.39 1006.5,-2489.19 1006.5,-2479.16\"/>\n<polygon fill=\"black\" stroke=\"black\" points=\"1010,-2479.02 1006.5,-2469.02 1003,-2479.02 1010,-2479.02\"/>\n</g>\n<!-- 140108161096032 -->\n<g id=\"node170\" class=\"node\">\n<title>140108161096032</title>\n<polygon fill=\"lightgrey\" stroke=\"black\" points=\"913,-2802.5 752,-2802.5 752,-2783.5 913,-2783.5 913,-2802.5\"/>\n<text text-anchor=\"middle\" x=\"832.5\" y=\"-2790.5\" font-family=\"monospace\" font-size=\"10.00\">NativeBatchNormBackward0</text>\n</g>\n<!-- 140108161096032&#45;&gt;140108161095936 -->\n<g id=\"edge174\" class=\"edge\">\n<title>140108161096032&#45;&gt;140108161095936</title>\n<path fill=\"none\" stroke=\"black\" d=\"M844.66,-2783.33C869.87,-2764.25 925.5,-2715.87 925.5,-2660.5 925.5,-2660.5 925.5,-2660.5 925.5,-2458.5 925.5,-2418.44 923.61,-2371.53 922.43,-2346.13\"/>\n<polygon fill=\"black\" stroke=\"black\" points=\"925.92,-2345.9 921.94,-2336.08 918.93,-2346.24 925.92,-2345.9\"/>\n</g>\n<!-- 140112418160160 -->\n<g id=\"node171\" class=\"node\">\n<title>140112418160160</title>\n<polygon fill=\"orange\" stroke=\"black\" points=\"1067,-2741.5 954,-2741.5 954,-2711.5 1067,-2711.5 1067,-2741.5\"/>\n<text text-anchor=\"middle\" x=\"1010.5\" y=\"-2729.5\" font-family=\"monospace\" font-size=\"10.00\">input</text>\n<text text-anchor=\"middle\" x=\"1010.5\" y=\"-2718.5\" font-family=\"monospace\" font-size=\"10.00\"> (1, 32, 16, 16)</text>\n</g>\n<!-- 140108161096032&#45;&gt;140112418160160 -->\n<g id=\"edge175\" class=\"edge\">\n<title>140108161096032&#45;&gt;140112418160160</title>\n<path fill=\"none\" stroke=\"black\" d=\"M856.14,-2783.43C885.64,-2772.74 936.51,-2754.31 971.75,-2741.54\"/>\n</g>\n<!-- 140108170965168 -->\n<g id=\"node172\" class=\"node\">\n<title>140108170965168</title>\n<polygon fill=\"orange\" stroke=\"black\" points=\"502,-2741.5 443,-2741.5 443,-2711.5 502,-2711.5 502,-2741.5\"/>\n<text text-anchor=\"middle\" x=\"472.5\" y=\"-2729.5\" font-family=\"monospace\" font-size=\"10.00\">result1</text>\n<text text-anchor=\"middle\" x=\"472.5\" y=\"-2718.5\" font-family=\"monospace\" font-size=\"10.00\"> (0)</text>\n</g>\n<!-- 140108161096032&#45;&gt;140108170965168 -->\n<g id=\"edge176\" class=\"edge\">\n<title>140108161096032&#45;&gt;140108170965168</title>\n<path fill=\"none\" stroke=\"black\" d=\"M751.8,-2784.24C686.08,-2776.78 591.29,-2763.43 510.5,-2742 507.77,-2741.28 504.97,-2740.42 502.18,-2739.5\"/>\n</g>\n<!-- 140108170957968 -->\n<g id=\"node173\" class=\"node\">\n<title>140108170957968</title>\n<polygon fill=\"orange\" stroke=\"black\" points=\"579,-2741.5 520,-2741.5 520,-2711.5 579,-2711.5 579,-2741.5\"/>\n<text text-anchor=\"middle\" x=\"549.5\" y=\"-2729.5\" font-family=\"monospace\" font-size=\"10.00\">result2</text>\n<text text-anchor=\"middle\" x=\"549.5\" y=\"-2718.5\" font-family=\"monospace\" font-size=\"10.00\"> (0)</text>\n</g>\n<!-- 140108161096032&#45;&gt;140108170957968 -->\n<g id=\"edge177\" class=\"edge\">\n<title>140108161096032&#45;&gt;140108170957968</title>\n<path fill=\"none\" stroke=\"black\" d=\"M777.87,-2783.48C727.81,-2775.06 651.9,-2760.72 587.5,-2742 584.79,-2741.21 582,-2740.32 579.21,-2739.36\"/>\n</g>\n<!-- 140108170946064 -->\n<g id=\"node174\" class=\"node\">\n<title>140108170946064</title>\n<polygon fill=\"orange\" stroke=\"black\" points=\"686,-2741.5 597,-2741.5 597,-2711.5 686,-2711.5 686,-2741.5\"/>\n<text text-anchor=\"middle\" x=\"641.5\" y=\"-2729.5\" font-family=\"monospace\" font-size=\"10.00\">running_mean</text>\n<text text-anchor=\"middle\" x=\"641.5\" y=\"-2718.5\" font-family=\"monospace\" font-size=\"10.00\"> (32)</text>\n</g>\n<!-- 140108161096032&#45;&gt;140108170946064 -->\n<g id=\"edge178\" class=\"edge\">\n<title>140108161096032&#45;&gt;140108170946064</title>\n<path fill=\"none\" stroke=\"black\" d=\"M807.14,-2783.43C775.48,-2772.74 720.89,-2754.31 683.08,-2741.54\"/>\n</g>\n<!-- 140108170946944 -->\n<g id=\"node175\" class=\"node\">\n<title>140108170946944</title>\n<polygon fill=\"orange\" stroke=\"black\" points=\"787,-2741.5 704,-2741.5 704,-2711.5 787,-2711.5 787,-2741.5\"/>\n<text text-anchor=\"middle\" x=\"745.5\" y=\"-2729.5\" font-family=\"monospace\" font-size=\"10.00\">running_var</text>\n<text text-anchor=\"middle\" x=\"745.5\" y=\"-2718.5\" font-family=\"monospace\" font-size=\"10.00\"> (32)</text>\n</g>\n<!-- 140108161096032&#45;&gt;140108170946944 -->\n<g id=\"edge179\" class=\"edge\">\n<title>140108161096032&#45;&gt;140108170946944</title>\n<path fill=\"none\" stroke=\"black\" d=\"M820.77,-2783.3C806.39,-2772.64 781.83,-2754.43 764.69,-2741.73\"/>\n</g>\n<!-- 140108170945824 -->\n<g id=\"node176\" class=\"node\">\n<title>140108170945824</title>\n<polygon fill=\"lightblue\" stroke=\"black\" points=\"859.5,-2742 805.5,-2742 805.5,-2711 859.5,-2711 859.5,-2742\"/>\n<text text-anchor=\"middle\" x=\"832.5\" y=\"-2718\" font-family=\"monospace\" font-size=\"10.00\"> (32)</text>\n</g>\n<!-- 140108161096032&#45;&gt;140108170945824 -->\n<g id=\"edge180\" class=\"edge\">\n<title>140108161096032&#45;&gt;140108170945824</title>\n<path fill=\"none\" stroke=\"black\" d=\"M832.5,-2783.3C832.5,-2772.85 832.5,-2755.14 832.5,-2742.47\"/>\n</g>\n<!-- 140108161098528 -->\n<g id=\"node182\" class=\"node\">\n<title>140108161098528</title>\n<polygon fill=\"lightgrey\" stroke=\"black\" points=\"890,-2669 789,-2669 789,-2650 890,-2650 890,-2669\"/>\n<text text-anchor=\"middle\" x=\"839.5\" y=\"-2657\" font-family=\"monospace\" font-size=\"10.00\">AccumulateGrad</text>\n</g>\n<!-- 140108170945824&#45;&gt;140108161098528 -->\n<g id=\"edge189\" class=\"edge\">\n<title>140108170945824&#45;&gt;140108161098528</title>\n<path fill=\"none\" stroke=\"black\" d=\"M834.09,-2710.75C835.1,-2701.39 836.41,-2689.19 837.49,-2679.16\"/>\n<polygon fill=\"black\" stroke=\"black\" points=\"840.99,-2679.34 838.58,-2669.02 834.03,-2678.59 840.99,-2679.34\"/>\n</g>\n<!-- 140108161098576 -->\n<g id=\"node177\" class=\"node\">\n<title>140108161098576</title>\n<polygon fill=\"lightgrey\" stroke=\"black\" points=\"1084,-2869 989,-2869 989,-2850 1084,-2850 1084,-2869\"/>\n<text text-anchor=\"middle\" x=\"1036.5\" y=\"-2857\" font-family=\"monospace\" font-size=\"10.00\">ReluBackward0</text>\n</g>\n<!-- 140108161098576&#45;&gt;140108161096032 -->\n<g id=\"edge181\" class=\"edge\">\n<title>140108161098576&#45;&gt;140108161096032</title>\n<path fill=\"none\" stroke=\"black\" d=\"M1009.41,-2849.93C973.44,-2838.56 909.77,-2818.43 869.43,-2805.68\"/>\n<polygon fill=\"black\" stroke=\"black\" points=\"870.29,-2802.28 859.7,-2802.6 868.18,-2808.95 870.29,-2802.28\"/>\n</g>\n<!-- 140108170965088 -->\n<g id=\"node178\" class=\"node\">\n<title>140108170965088</title>\n<polygon fill=\"orange\" stroke=\"black\" points=\"1093,-2808 980,-2808 980,-2778 1093,-2778 1093,-2808\"/>\n<text text-anchor=\"middle\" x=\"1036.5\" y=\"-2796\" font-family=\"monospace\" font-size=\"10.00\">result</text>\n<text text-anchor=\"middle\" x=\"1036.5\" y=\"-2785\" font-family=\"monospace\" font-size=\"10.00\"> (1, 32, 16, 16)</text>\n</g>\n<!-- 140108161098576&#45;&gt;140108170965088 -->\n<g id=\"edge182\" class=\"edge\">\n<title>140108161098576&#45;&gt;140108170965088</title>\n<path fill=\"none\" stroke=\"black\" d=\"M1036.5,-2849.8C1036.5,-2839.21 1036.5,-2821.17 1036.5,-2808.47\"/>\n</g>\n<!-- 140108161101600 -->\n<g id=\"node179\" class=\"node\">\n<title>140108161101600</title>\n<polygon fill=\"lightgrey\" stroke=\"black\" points=\"1282,-2936 1145,-2936 1145,-2917 1282,-2917 1282,-2936\"/>\n<text text-anchor=\"middle\" x=\"1213.5\" y=\"-2924\" font-family=\"monospace\" font-size=\"10.00\">ConvolutionBackward0</text>\n</g>\n<!-- 140108161101600&#45;&gt;140112418149760 -->\n<g id=\"edge184\" class=\"edge\">\n<title>140108161101600&#45;&gt;140112418149760</title>\n<path fill=\"none\" stroke=\"black\" d=\"M1231.16,-2916.87C1253.28,-2906.06 1291.46,-2887.4 1317.8,-2874.53\"/>\n</g>\n<!-- 140108161101600&#45;&gt;140108161098576 -->\n<g id=\"edge183\" class=\"edge\">\n<title>140108161101600&#45;&gt;140108161098576</title>\n<path fill=\"none\" stroke=\"black\" d=\"M1190,-2916.87C1159.1,-2905.52 1104.64,-2885.52 1069.59,-2872.65\"/>\n<polygon fill=\"black\" stroke=\"black\" points=\"1070.41,-2869.23 1059.82,-2869.06 1068,-2875.8 1070.41,-2869.23\"/>\n</g>\n<!-- 140108170945744 -->\n<g id=\"node180\" class=\"node\">\n<title>140108170945744</title>\n<polygon fill=\"lightblue\" stroke=\"black\" points=\"1225,-2875 1124,-2875 1124,-2844 1225,-2844 1225,-2875\"/>\n<text text-anchor=\"middle\" x=\"1174.5\" y=\"-2851\" font-family=\"monospace\" font-size=\"10.00\"> (32, 3, 3, 3)</text>\n</g>\n<!-- 140108161101600&#45;&gt;140108170945744 -->\n<g id=\"edge185\" class=\"edge\">\n<title>140108161101600&#45;&gt;140108170945744</title>\n<path fill=\"none\" stroke=\"black\" d=\"M1208.24,-2916.73C1201.84,-2906.06 1190.93,-2887.88 1183.25,-2875.08\"/>\n</g>\n<!-- 140108161098336 -->\n<g id=\"node181\" class=\"node\">\n<title>140108161098336</title>\n<polygon fill=\"lightgrey\" stroke=\"black\" points=\"1247,-2802.5 1146,-2802.5 1146,-2783.5 1247,-2783.5 1247,-2802.5\"/>\n<text text-anchor=\"middle\" x=\"1196.5\" y=\"-2790.5\" font-family=\"monospace\" font-size=\"10.00\">AccumulateGrad</text>\n</g>\n<!-- 140108170945744&#45;&gt;140108161098336 -->\n<g id=\"edge187\" class=\"edge\">\n<title>140108170945744&#45;&gt;140108161098336</title>\n<path fill=\"none\" stroke=\"black\" d=\"M1179.49,-2843.86C1182.66,-2834.58 1186.78,-2822.5 1190.17,-2812.55\"/>\n<polygon fill=\"black\" stroke=\"black\" points=\"1193.58,-2813.42 1193.49,-2802.82 1186.95,-2811.16 1193.58,-2813.42\"/>\n</g>\n<!-- 140108161098336&#45;&gt;140108161101600 -->\n<g id=\"edge186\" class=\"edge\">\n<title>140108161098336&#45;&gt;140108161101600</title>\n<path fill=\"none\" stroke=\"black\" d=\"M1205.83,-2802.5C1215.14,-2811.69 1228.86,-2827.26 1234.5,-2844 1241.76,-2865.56 1232.42,-2891.04 1223.99,-2907.7\"/>\n<polygon fill=\"black\" stroke=\"black\" points=\"1220.73,-2906.36 1219.01,-2916.81 1226.88,-2909.71 1220.73,-2906.36\"/>\n</g>\n<!-- 140108161098528&#45;&gt;140108161096032 -->\n<g id=\"edge188\" class=\"edge\">\n<title>140108161098528&#45;&gt;140108161096032</title>\n<path fill=\"none\" stroke=\"black\" d=\"M846.39,-2669.17C853.53,-2678.76 864.23,-2694.98 868.5,-2711 872.05,-2724.31 872.73,-2728.89 868.5,-2742 864.43,-2754.63 855.85,-2766.75 848.09,-2775.9\"/>\n<polygon fill=\"black\" stroke=\"black\" points=\"845.43,-2773.62 841.35,-2783.4 850.64,-2778.31 845.43,-2773.62\"/>\n</g>\n<!-- 140108161098912 -->\n<g id=\"node183\" class=\"node\">\n<title>140108161098912</title>\n<polygon fill=\"lightgrey\" stroke=\"black\" points=\"883,-2869 782,-2869 782,-2850 883,-2850 883,-2869\"/>\n<text text-anchor=\"middle\" x=\"832.5\" y=\"-2857\" font-family=\"monospace\" font-size=\"10.00\">AccumulateGrad</text>\n</g>\n<!-- 140108161098912&#45;&gt;140108161096032 -->\n<g id=\"edge190\" class=\"edge\">\n<title>140108161098912&#45;&gt;140108161096032</title>\n<path fill=\"none\" stroke=\"black\" d=\"M832.5,-2849.8C832.5,-2840.32 832.5,-2824.88 832.5,-2812.64\"/>\n<polygon fill=\"black\" stroke=\"black\" points=\"836,-2812.56 832.5,-2802.56 829,-2812.56 836,-2812.56\"/>\n</g>\n<!-- 140108170946704 -->\n<g id=\"node184\" class=\"node\">\n<title>140108170946704</title>\n<polygon fill=\"lightblue\" stroke=\"black\" points=\"859.5,-2942 805.5,-2942 805.5,-2911 859.5,-2911 859.5,-2942\"/>\n<text text-anchor=\"middle\" x=\"832.5\" y=\"-2918\" font-family=\"monospace\" font-size=\"10.00\"> (32)</text>\n</g>\n<!-- 140108170946704&#45;&gt;140108161098912 -->\n<g id=\"edge191\" class=\"edge\">\n<title>140108170946704&#45;&gt;140108161098912</title>\n<path fill=\"none\" stroke=\"black\" d=\"M832.5,-2910.75C832.5,-2901.39 832.5,-2889.19 832.5,-2879.16\"/>\n<polygon fill=\"black\" stroke=\"black\" points=\"836,-2879.02 832.5,-2869.02 829,-2879.02 836,-2879.02\"/>\n</g>\n<!-- 140108161095648&#45;&gt;140108161095696 -->\n<g id=\"edge192\" class=\"edge\">\n<title>140108161095648&#45;&gt;140108161095696</title>\n<path fill=\"none\" stroke=\"black\" d=\"M639.33,-2135.59C624.21,-2143.84 603.73,-2157.89 594.5,-2177 588.51,-2189.41 588.54,-2195.58 594.5,-2208 602.04,-2223.71 617.11,-2236.07 630.63,-2244.63\"/>\n<polygon fill=\"black\" stroke=\"black\" points=\"629.23,-2247.87 639.62,-2249.94 632.79,-2241.84 629.23,-2247.87\"/>\n</g>\n<!-- 140108161096560&#45;&gt;140108161096464 -->\n<g id=\"edge194\" class=\"edge\">\n<title>140108161096560&#45;&gt;140108161096464</title>\n<path fill=\"none\" stroke=\"black\" d=\"M437.35,-2002.1C438.49,-2017.53 439.21,-2050.62 427.5,-2075 420.87,-2088.8 408.84,-2101.01 398.24,-2109.92\"/>\n<polygon fill=\"black\" stroke=\"black\" points=\"395.84,-2107.36 390.18,-2116.32 400.19,-2112.84 395.84,-2107.36\"/>\n</g>\n<!-- 140108161096608 -->\n<g id=\"node187\" class=\"node\">\n<title>140108161096608</title>\n<polygon fill=\"lightgrey\" stroke=\"black\" points=\"428,-2202 327,-2202 327,-2183 428,-2183 428,-2202\"/>\n<text text-anchor=\"middle\" x=\"377.5\" y=\"-2190\" font-family=\"monospace\" font-size=\"10.00\">AccumulateGrad</text>\n</g>\n<!-- 140108161096608&#45;&gt;140108161096464 -->\n<g id=\"edge196\" class=\"edge\">\n<title>140108161096608&#45;&gt;140108161096464</title>\n<path fill=\"none\" stroke=\"black\" d=\"M377.5,-2182.8C377.5,-2173.32 377.5,-2157.88 377.5,-2145.64\"/>\n<polygon fill=\"black\" stroke=\"black\" points=\"381,-2145.56 377.5,-2135.56 374,-2145.56 381,-2145.56\"/>\n</g>\n<!-- 140108170946864 -->\n<g id=\"node188\" class=\"node\">\n<title>140108170946864</title>\n<polygon fill=\"lightblue\" stroke=\"black\" points=\"404.5,-2275 350.5,-2275 350.5,-2244 404.5,-2244 404.5,-2275\"/>\n<text text-anchor=\"middle\" x=\"377.5\" y=\"-2251\" font-family=\"monospace\" font-size=\"10.00\"> (32)</text>\n</g>\n<!-- 140108170946864&#45;&gt;140108161096608 -->\n<g id=\"edge197\" class=\"edge\">\n<title>140108170946864&#45;&gt;140108161096608</title>\n<path fill=\"none\" stroke=\"black\" d=\"M377.5,-2243.75C377.5,-2234.39 377.5,-2222.19 377.5,-2212.16\"/>\n<polygon fill=\"black\" stroke=\"black\" points=\"381,-2212.02 377.5,-2202.02 374,-2212.02 381,-2212.02\"/>\n</g>\n<!-- 140108161096224&#45;&gt;140108161096176 -->\n<g id=\"edge198\" class=\"edge\">\n<title>140108161096224&#45;&gt;140108161096176</title>\n<path fill=\"none\" stroke=\"black\" d=\"M721.9,-1935.56C697.86,-1942.89 667.31,-1955.74 647.5,-1977 631.16,-1994.54 623.54,-2021.73 620.12,-2039.82\"/>\n<polygon fill=\"black\" stroke=\"black\" points=\"616.66,-2039.3 618.49,-2049.74 623.56,-2040.44 616.66,-2039.3\"/>\n</g>\n<!-- 140108161096416&#45;&gt;140108161096896 -->\n<g id=\"edge200\" class=\"edge\">\n<title>140108161096416&#45;&gt;140108161096896</title>\n<path fill=\"none\" stroke=\"black\" d=\"M279.79,-1802.13C294.89,-1817.62 328.21,-1850.79 359.5,-1875 376.83,-1888.41 397.81,-1901.71 413.65,-1911.22\"/>\n<polygon fill=\"black\" stroke=\"black\" points=\"411.92,-1914.26 422.31,-1916.35 415.49,-1908.24 411.92,-1914.26\"/>\n</g>\n<!-- 140108161096656 -->\n<g id=\"node191\" class=\"node\">\n<title>140108161096656</title>\n<polygon fill=\"lightgrey\" stroke=\"black\" points=\"219,-2002 118,-2002 118,-1983 219,-1983 219,-2002\"/>\n<text text-anchor=\"middle\" x=\"168.5\" y=\"-1990\" font-family=\"monospace\" font-size=\"10.00\">AccumulateGrad</text>\n</g>\n<!-- 140108161096656&#45;&gt;140108161096896 -->\n<g id=\"edge202\" class=\"edge\">\n<title>140108161096656&#45;&gt;140108161096896</title>\n<path fill=\"none\" stroke=\"black\" d=\"M204.22,-1982.93C252.56,-1971.35 338.82,-1950.66 391.82,-1937.95\"/>\n<polygon fill=\"black\" stroke=\"black\" points=\"392.72,-1941.34 401.63,-1935.6 391.09,-1934.53 392.72,-1941.34\"/>\n</g>\n<!-- 140108170947424 -->\n<g id=\"node192\" class=\"node\">\n<title>140108170947424</title>\n<polygon fill=\"lightblue\" stroke=\"black\" points=\"56.5,-2075 2.5,-2075 2.5,-2044 56.5,-2044 56.5,-2075\"/>\n<text text-anchor=\"middle\" x=\"29.5\" y=\"-2051\" font-family=\"monospace\" font-size=\"10.00\"> (32)</text>\n</g>\n<!-- 140108170947424&#45;&gt;140108161096656 -->\n<g id=\"edge203\" class=\"edge\">\n<title>140108170947424&#45;&gt;140108161096656</title>\n<path fill=\"none\" stroke=\"black\" d=\"M56.63,-2045.81C81.04,-2034.4 116.73,-2017.71 141.2,-2006.27\"/>\n<polygon fill=\"black\" stroke=\"black\" points=\"142.72,-2009.42 150.29,-2002.01 139.75,-2003.08 142.72,-2009.42\"/>\n</g>\n<!-- 140108161096800&#45;&gt;140108161096848 -->\n<g id=\"edge204\" class=\"edge\">\n<title>140108161096800&#45;&gt;140108161096848</title>\n<path fill=\"none\" stroke=\"black\" d=\"M685.11,-1735.62C696.57,-1751.68 717.26,-1786.49 699.5,-1808 698.67,-1809.01 569.25,-1833.61 492.64,-1848.09\"/>\n<polygon fill=\"black\" stroke=\"black\" points=\"491.83,-1844.69 482.66,-1849.98 493.13,-1851.56 491.83,-1844.69\"/>\n</g>\n<!-- 140108161091184&#45;&gt;140108161089744 -->\n<g id=\"edge206\" class=\"edge\">\n<title>140108161091184&#45;&gt;140108161089744</title>\n<path fill=\"none\" stroke=\"black\" d=\"M343.63,-1602.31C348.54,-1617.53 356.7,-1649.56 348.5,-1675 344.43,-1687.63 335.85,-1699.75 328.09,-1708.9\"/>\n<polygon fill=\"black\" stroke=\"black\" points=\"325.43,-1706.62 321.35,-1716.4 330.64,-1711.31 325.43,-1706.62\"/>\n</g>\n<!-- 140108161097184 -->\n<g id=\"node195\" class=\"node\">\n<title>140108161097184</title>\n<polygon fill=\"lightgrey\" stroke=\"black\" points=\"189,-1802 88,-1802 88,-1783 189,-1783 189,-1802\"/>\n<text text-anchor=\"middle\" x=\"138.5\" y=\"-1790\" font-family=\"monospace\" font-size=\"10.00\">AccumulateGrad</text>\n</g>\n<!-- 140108161097184&#45;&gt;140108161089744 -->\n<g id=\"edge208\" class=\"edge\">\n<title>140108161097184&#45;&gt;140108161089744</title>\n<path fill=\"none\" stroke=\"black\" d=\"M161.61,-1782.93C191.9,-1771.71 245.21,-1751.94 279.68,-1739.17\"/>\n<polygon fill=\"black\" stroke=\"black\" points=\"281.14,-1742.36 289.3,-1735.6 278.71,-1735.79 281.14,-1742.36\"/>\n</g>\n<!-- 140108170948384 -->\n<g id=\"node196\" class=\"node\">\n<title>140108170948384</title>\n<polygon fill=\"lightblue\" stroke=\"black\" points=\"138.5,-1875 84.5,-1875 84.5,-1844 138.5,-1844 138.5,-1875\"/>\n<text text-anchor=\"middle\" x=\"111.5\" y=\"-1851\" font-family=\"monospace\" font-size=\"10.00\"> (32)</text>\n</g>\n<!-- 140108170948384&#45;&gt;140108161097184 -->\n<g id=\"edge209\" class=\"edge\">\n<title>140108170948384&#45;&gt;140108161097184</title>\n<path fill=\"none\" stroke=\"black\" d=\"M117.63,-1843.75C121.6,-1834.19 126.8,-1821.67 131.02,-1811.52\"/>\n<polygon fill=\"black\" stroke=\"black\" points=\"134.36,-1812.6 134.96,-1802.02 127.89,-1809.91 134.36,-1812.6\"/>\n</g>\n<!-- 140108161089696 -->\n<g id=\"node197\" class=\"node\">\n<title>140108161089696</title>\n<polygon fill=\"lightgrey\" stroke=\"black\" points=\"1267,-2135.5 1106,-2135.5 1106,-2116.5 1267,-2116.5 1267,-2135.5\"/>\n<text text-anchor=\"middle\" x=\"1186.5\" y=\"-2123.5\" font-family=\"monospace\" font-size=\"10.00\">NativeBatchNormBackward0</text>\n</g>\n<!-- 140108161089696&#45;&gt;140108161090512 -->\n<g id=\"edge210\" class=\"edge\">\n<title>140108161089696&#45;&gt;140108161090512</title>\n<path fill=\"none\" stroke=\"black\" d=\"M1194.29,-2116.46C1202.51,-2107 1215.24,-2090.97 1222.5,-2075 1237.89,-2041.14 1241.5,-2030.69 1241.5,-1993.5 1241.5,-1993.5 1241.5,-1993.5 1241.5,-1791.5 1241.5,-1720.23 1152.25,-1685.93 1091.82,-1670.87\"/>\n<polygon fill=\"black\" stroke=\"black\" points=\"1092.56,-1667.45 1082.02,-1668.53 1090.93,-1674.26 1092.56,-1667.45\"/>\n</g>\n<!-- 140112418357952 -->\n<g id=\"node198\" class=\"node\">\n<title>140112418357952</title>\n<polygon fill=\"orange\" stroke=\"black\" points=\"1371,-2074.5 1270,-2074.5 1270,-2044.5 1371,-2044.5 1371,-2074.5\"/>\n<text text-anchor=\"middle\" x=\"1320.5\" y=\"-2062.5\" font-family=\"monospace\" font-size=\"10.00\">input</text>\n<text text-anchor=\"middle\" x=\"1320.5\" y=\"-2051.5\" font-family=\"monospace\" font-size=\"10.00\"> (1, 32, 8, 8)</text>\n</g>\n<!-- 140108161089696&#45;&gt;140112418357952 -->\n<g id=\"edge211\" class=\"edge\">\n<title>140108161089696&#45;&gt;140112418357952</title>\n<path fill=\"none\" stroke=\"black\" d=\"M1204.29,-2116.43C1226.51,-2105.74 1264.8,-2087.31 1291.33,-2074.54\"/>\n</g>\n<!-- 140108170968048 -->\n<g id=\"node199\" class=\"node\">\n<title>140108170968048</title>\n<polygon fill=\"orange\" stroke=\"black\" points=\"1448,-2074.5 1389,-2074.5 1389,-2044.5 1448,-2044.5 1448,-2074.5\"/>\n<text text-anchor=\"middle\" x=\"1418.5\" y=\"-2062.5\" font-family=\"monospace\" font-size=\"10.00\">result1</text>\n<text text-anchor=\"middle\" x=\"1418.5\" y=\"-2051.5\" font-family=\"monospace\" font-size=\"10.00\"> (0)</text>\n</g>\n<!-- 140108161089696&#45;&gt;140108170968048 -->\n<g id=\"edge212\" class=\"edge\">\n<title>140108161089696&#45;&gt;140108170968048</title>\n<path fill=\"none\" stroke=\"black\" d=\"M1224.78,-2116.48C1264.17,-2107.39 1327.14,-2092 1380.5,-2075 1383.19,-2074.14 1385.97,-2073.2 1388.74,-2072.22\"/>\n</g>\n<!-- 140108170957168 -->\n<g id=\"node200\" class=\"node\">\n<title>140108170957168</title>\n<polygon fill=\"orange\" stroke=\"black\" points=\"895,-2074.5 836,-2074.5 836,-2044.5 895,-2044.5 895,-2074.5\"/>\n<text text-anchor=\"middle\" x=\"865.5\" y=\"-2062.5\" font-family=\"monospace\" font-size=\"10.00\">result2</text>\n<text text-anchor=\"middle\" x=\"865.5\" y=\"-2051.5\" font-family=\"monospace\" font-size=\"10.00\"> (0)</text>\n</g>\n<!-- 140108161089696&#45;&gt;140108170957168 -->\n<g id=\"edge213\" class=\"edge\">\n<title>140108161089696&#45;&gt;140108170957168</title>\n<path fill=\"none\" stroke=\"black\" d=\"M1135.52,-2116.48C1060.39,-2103.83 926.39,-2080.96 904.5,-2075 901.43,-2074.17 898.27,-2073.19 895.13,-2072.14\"/>\n</g>\n<!-- 140108170948144 -->\n<g id=\"node201\" class=\"node\">\n<title>140108170948144</title>\n<polygon fill=\"orange\" stroke=\"black\" points=\"1002,-2074.5 913,-2074.5 913,-2044.5 1002,-2044.5 1002,-2074.5\"/>\n<text text-anchor=\"middle\" x=\"957.5\" y=\"-2062.5\" font-family=\"monospace\" font-size=\"10.00\">running_mean</text>\n<text text-anchor=\"middle\" x=\"957.5\" y=\"-2051.5\" font-family=\"monospace\" font-size=\"10.00\"> (32)</text>\n</g>\n<!-- 140108161089696&#45;&gt;140108170948144 -->\n<g id=\"edge214\" class=\"edge\">\n<title>140108161089696&#45;&gt;140108170948144</title>\n<path fill=\"none\" stroke=\"black\" d=\"M1156.09,-2116.43C1116.67,-2105.33 1047.62,-2085.88 1002.22,-2073.1\"/>\n</g>\n<!-- 140108170949584 -->\n<g id=\"node202\" class=\"node\">\n<title>140108170949584</title>\n<polygon fill=\"orange\" stroke=\"black\" points=\"1103,-2074.5 1020,-2074.5 1020,-2044.5 1103,-2044.5 1103,-2074.5\"/>\n<text text-anchor=\"middle\" x=\"1061.5\" y=\"-2062.5\" font-family=\"monospace\" font-size=\"10.00\">running_var</text>\n<text text-anchor=\"middle\" x=\"1061.5\" y=\"-2051.5\" font-family=\"monospace\" font-size=\"10.00\"> (32)</text>\n</g>\n<!-- 140108161089696&#45;&gt;140108170949584 -->\n<g id=\"edge215\" class=\"edge\">\n<title>140108161089696&#45;&gt;140108170949584</title>\n<path fill=\"none\" stroke=\"black\" d=\"M1169.9,-2116.43C1149.18,-2105.74 1113.46,-2087.31 1088.71,-2074.54\"/>\n</g>\n<!-- 140108170947904 -->\n<g id=\"node203\" class=\"node\">\n<title>140108170947904</title>\n<polygon fill=\"lightblue\" stroke=\"black\" points=\"1213.5,-2075 1159.5,-2075 1159.5,-2044 1213.5,-2044 1213.5,-2075\"/>\n<text text-anchor=\"middle\" x=\"1186.5\" y=\"-2051\" font-family=\"monospace\" font-size=\"10.00\"> (32)</text>\n</g>\n<!-- 140108161089696&#45;&gt;140108170947904 -->\n<g id=\"edge216\" class=\"edge\">\n<title>140108161089696&#45;&gt;140108170947904</title>\n<path fill=\"none\" stroke=\"black\" d=\"M1186.5,-2116.3C1186.5,-2105.85 1186.5,-2088.14 1186.5,-2075.47\"/>\n</g>\n<!-- 140108161096704 -->\n<g id=\"node209\" class=\"node\">\n<title>140108161096704</title>\n<polygon fill=\"lightgrey\" stroke=\"black\" points=\"1197,-2002 1096,-2002 1096,-1983 1197,-1983 1197,-2002\"/>\n<text text-anchor=\"middle\" x=\"1146.5\" y=\"-1990\" font-family=\"monospace\" font-size=\"10.00\">AccumulateGrad</text>\n</g>\n<!-- 140108170947904&#45;&gt;140108161096704 -->\n<g id=\"edge226\" class=\"edge\">\n<title>140108170947904&#45;&gt;140108161096704</title>\n<path fill=\"none\" stroke=\"black\" d=\"M1177.42,-2043.75C1171.35,-2033.89 1163.34,-2020.87 1157,-2010.56\"/>\n<polygon fill=\"black\" stroke=\"black\" points=\"1159.96,-2008.7 1151.74,-2002.02 1154,-2012.37 1159.96,-2008.7\"/>\n</g>\n<!-- 140108161096752 -->\n<g id=\"node204\" class=\"node\">\n<title>140108161096752</title>\n<polygon fill=\"lightgrey\" stroke=\"black\" points=\"1119,-2202 1024,-2202 1024,-2183 1119,-2183 1119,-2202\"/>\n<text text-anchor=\"middle\" x=\"1071.5\" y=\"-2190\" font-family=\"monospace\" font-size=\"10.00\">ReluBackward0</text>\n</g>\n<!-- 140108161096752&#45;&gt;140108161089696 -->\n<g id=\"edge217\" class=\"edge\">\n<title>140108161096752&#45;&gt;140108161089696</title>\n<path fill=\"none\" stroke=\"black\" d=\"M1087.01,-2182.8C1106.32,-2171.97 1139.53,-2153.34 1162.22,-2140.62\"/>\n<polygon fill=\"black\" stroke=\"black\" points=\"1164.23,-2143.51 1171.24,-2135.56 1160.8,-2137.4 1164.23,-2143.51\"/>\n</g>\n<!-- 140108170967888 -->\n<g id=\"node205\" class=\"node\">\n<title>140108170967888</title>\n<polygon fill=\"orange\" stroke=\"black\" points=\"1088,-2141 987,-2141 987,-2111 1088,-2111 1088,-2141\"/>\n<text text-anchor=\"middle\" x=\"1037.5\" y=\"-2129\" font-family=\"monospace\" font-size=\"10.00\">result</text>\n<text text-anchor=\"middle\" x=\"1037.5\" y=\"-2118\" font-family=\"monospace\" font-size=\"10.00\"> (1, 32, 8, 8)</text>\n</g>\n<!-- 140108161096752&#45;&gt;140108170967888 -->\n<g id=\"edge218\" class=\"edge\">\n<title>140108161096752&#45;&gt;140108170967888</title>\n<path fill=\"none\" stroke=\"black\" d=\"M1066.91,-2182.8C1061.33,-2172.21 1051.82,-2154.17 1045.13,-2141.47\"/>\n</g>\n<!-- 140108161095792&#45;&gt;140108170938944 -->\n<g id=\"edge220\" class=\"edge\">\n<title>140108161095792&#45;&gt;140108170938944</title>\n<path fill=\"none\" stroke=\"black\" d=\"M903.44,-2249.87C880.82,-2239.06 841.78,-2220.4 814.85,-2207.53\"/>\n</g>\n<!-- 140108161095792&#45;&gt;140108161096752 -->\n<g id=\"edge219\" class=\"edge\">\n<title>140108161095792&#45;&gt;140108161096752</title>\n<path fill=\"none\" stroke=\"black\" d=\"M941.42,-2249.87C967.19,-2238.7 1012.32,-2219.15 1042.05,-2206.26\"/>\n<polygon fill=\"black\" stroke=\"black\" points=\"1043.71,-2209.35 1051.5,-2202.17 1040.93,-2202.93 1043.71,-2209.35\"/>\n</g>\n<!-- 140108170948784 -->\n<g id=\"node207\" class=\"node\">\n<title>140108170948784</title>\n<polygon fill=\"lightblue\" stroke=\"black\" points=\"967,-2208 860,-2208 860,-2177 967,-2177 967,-2208\"/>\n<text text-anchor=\"middle\" x=\"913.5\" y=\"-2184\" font-family=\"monospace\" font-size=\"10.00\"> (32, 32, 3, 3)</text>\n</g>\n<!-- 140108161095792&#45;&gt;140108170948784 -->\n<g id=\"edge221\" class=\"edge\">\n<title>140108161095792&#45;&gt;140108170948784</title>\n<path fill=\"none\" stroke=\"black\" d=\"M920.42,-2249.73C919.11,-2239.06 916.87,-2220.88 915.3,-2208.08\"/>\n</g>\n<!-- 140108161095840 -->\n<g id=\"node208\" class=\"node\">\n<title>140108161095840</title>\n<polygon fill=\"lightgrey\" stroke=\"black\" points=\"966,-2135.5 865,-2135.5 865,-2116.5 966,-2116.5 966,-2135.5\"/>\n<text text-anchor=\"middle\" x=\"915.5\" y=\"-2123.5\" font-family=\"monospace\" font-size=\"10.00\">AccumulateGrad</text>\n</g>\n<!-- 140108170948784&#45;&gt;140108161095840 -->\n<g id=\"edge224\" class=\"edge\">\n<title>140108170948784&#45;&gt;140108161095840</title>\n<path fill=\"none\" stroke=\"black\" d=\"M913.95,-2176.86C914.24,-2167.68 914.61,-2155.75 914.92,-2145.86\"/>\n<polygon fill=\"black\" stroke=\"black\" points=\"918.41,-2145.93 915.23,-2135.82 911.42,-2145.71 918.41,-2145.93\"/>\n</g>\n<!-- 140108161095840&#45;&gt;140108161095792 -->\n<g id=\"edge223\" class=\"edge\">\n<title>140108161095840&#45;&gt;140108161095792</title>\n<path fill=\"none\" stroke=\"black\" d=\"M932.83,-2135.57C947.5,-2143.9 967.54,-2158.06 976.5,-2177 982.39,-2189.45 982.04,-2195.39 976.5,-2208 969.95,-2222.9 956.6,-2235.33 944.69,-2244.13\"/>\n<polygon fill=\"black\" stroke=\"black\" points=\"942.62,-2241.31 936.4,-2249.88 946.61,-2247.06 942.62,-2241.31\"/>\n</g>\n<!-- 140108161096704&#45;&gt;140108161089696 -->\n<g id=\"edge225\" class=\"edge\">\n<title>140108161096704&#45;&gt;140108161089696</title>\n<path fill=\"none\" stroke=\"black\" d=\"M1145.34,-2002.38C1143.67,-2017.69 1141.71,-2049.86 1150.5,-2075 1154.88,-2087.52 1163.47,-2099.65 1171.16,-2108.82\"/>\n<polygon fill=\"black\" stroke=\"black\" points=\"1168.57,-2111.18 1177.82,-2116.34 1173.81,-2106.54 1168.57,-2111.18\"/>\n</g>\n<!-- 140108161096992 -->\n<g id=\"node210\" class=\"node\">\n<title>140108161096992</title>\n<polygon fill=\"lightgrey\" stroke=\"black\" points=\"1238,-2202 1137,-2202 1137,-2183 1238,-2183 1238,-2202\"/>\n<text text-anchor=\"middle\" x=\"1187.5\" y=\"-2190\" font-family=\"monospace\" font-size=\"10.00\">AccumulateGrad</text>\n</g>\n<!-- 140108161096992&#45;&gt;140108161089696 -->\n<g id=\"edge227\" class=\"edge\">\n<title>140108161096992&#45;&gt;140108161089696</title>\n<path fill=\"none\" stroke=\"black\" d=\"M1187.37,-2182.8C1187.22,-2173.32 1186.98,-2157.88 1186.79,-2145.64\"/>\n<polygon fill=\"black\" stroke=\"black\" points=\"1190.29,-2145.51 1186.63,-2135.56 1183.29,-2145.61 1190.29,-2145.51\"/>\n</g>\n<!-- 140108170937504 -->\n<g id=\"node211\" class=\"node\">\n<title>140108170937504</title>\n<polygon fill=\"lightblue\" stroke=\"black\" points=\"1205.5,-2275 1151.5,-2275 1151.5,-2244 1205.5,-2244 1205.5,-2275\"/>\n<text text-anchor=\"middle\" x=\"1178.5\" y=\"-2251\" font-family=\"monospace\" font-size=\"10.00\"> (32)</text>\n</g>\n<!-- 140108170937504&#45;&gt;140108161096992 -->\n<g id=\"edge228\" class=\"edge\">\n<title>140108170937504&#45;&gt;140108161096992</title>\n<path fill=\"none\" stroke=\"black\" d=\"M1180.54,-2243.75C1181.84,-2234.39 1183.53,-2222.19 1184.92,-2212.16\"/>\n<polygon fill=\"black\" stroke=\"black\" points=\"1188.42,-2212.4 1186.32,-2202.02 1181.48,-2211.44 1188.42,-2212.4\"/>\n</g>\n<!-- 140108161090656&#45;&gt;140108161090608 -->\n<g id=\"edge229\" class=\"edge\">\n<title>140108161090656&#45;&gt;140108161090608</title>\n<path fill=\"none\" stroke=\"black\" d=\"M896,-1468.55C881.78,-1476.96 862.19,-1491.24 853.5,-1510 847.71,-1522.5 847.59,-1528.56 853.5,-1541 860.91,-1556.59 875.74,-1568.94 889.04,-1577.53\"/>\n<polygon fill=\"black\" stroke=\"black\" points=\"887.52,-1580.7 897.89,-1582.87 891.14,-1574.71 887.52,-1580.7\"/>\n</g>\n<!-- 140108161090176&#45;&gt;140108161090272 -->\n<g id=\"edge231\" class=\"edge\">\n<title>140108161090176&#45;&gt;140108161090272</title>\n<path fill=\"none\" stroke=\"black\" d=\"M700.32,-1335.08C701.43,-1350.5 702.09,-1383.56 690.5,-1408 684.01,-1421.69 672.22,-1433.91 661.83,-1442.84\"/>\n<polygon fill=\"black\" stroke=\"black\" points=\"659.48,-1440.23 653.93,-1449.26 663.9,-1445.67 659.48,-1440.23\"/>\n</g>\n<!-- 140108161090320 -->\n<g id=\"node214\" class=\"node\">\n<title>140108161090320</title>\n<polygon fill=\"lightgrey\" stroke=\"black\" points=\"692,-1535 591,-1535 591,-1516 692,-1516 692,-1535\"/>\n<text text-anchor=\"middle\" x=\"641.5\" y=\"-1523\" font-family=\"monospace\" font-size=\"10.00\">AccumulateGrad</text>\n</g>\n<!-- 140108161090320&#45;&gt;140108161090272 -->\n<g id=\"edge233\" class=\"edge\">\n<title>140108161090320&#45;&gt;140108161090272</title>\n<path fill=\"none\" stroke=\"black\" d=\"M641.5,-1515.8C641.5,-1506.32 641.5,-1490.88 641.5,-1478.64\"/>\n<polygon fill=\"black\" stroke=\"black\" points=\"645,-1478.56 641.5,-1468.56 638,-1478.56 645,-1478.56\"/>\n</g>\n<!-- 140108170950064 -->\n<g id=\"node215\" class=\"node\">\n<title>140108170950064</title>\n<polygon fill=\"lightblue\" stroke=\"black\" points=\"668.5,-1608 614.5,-1608 614.5,-1577 668.5,-1577 668.5,-1608\"/>\n<text text-anchor=\"middle\" x=\"641.5\" y=\"-1584\" font-family=\"monospace\" font-size=\"10.00\"> (32)</text>\n</g>\n<!-- 140108170950064&#45;&gt;140108161090320 -->\n<g id=\"edge234\" class=\"edge\">\n<title>140108170950064&#45;&gt;140108161090320</title>\n<path fill=\"none\" stroke=\"black\" d=\"M641.5,-1576.75C641.5,-1567.39 641.5,-1555.19 641.5,-1545.16\"/>\n<polygon fill=\"black\" stroke=\"black\" points=\"645,-1545.02 641.5,-1535.02 638,-1545.02 645,-1545.02\"/>\n</g>\n<!-- 140108161090416&#45;&gt;140108161090368 -->\n<g id=\"edge235\" class=\"edge\">\n<title>140108161090416&#45;&gt;140108161090368</title>\n<path fill=\"none\" stroke=\"black\" d=\"M1037.68,-1262.43C998.76,-1266.84 946.05,-1278.7 911.5,-1310 893.4,-1326.39 885.41,-1354.31 881.98,-1372.83\"/>\n<polygon fill=\"black\" stroke=\"black\" points=\"878.48,-1372.53 880.38,-1382.96 885.39,-1373.63 878.48,-1372.53\"/>\n</g>\n<!-- 140108161089936&#45;&gt;140108161090032 -->\n<g id=\"edge237\" class=\"edge\">\n<title>140108161089936&#45;&gt;140108161090032</title>\n<path fill=\"none\" stroke=\"black\" d=\"M573.22,-1135.05C585.78,-1145.07 607.19,-1162.19 625.5,-1177 642.45,-1190.71 645.85,-1195.21 663.5,-1208 681.46,-1221.02 702.71,-1234.52 718.49,-1244.21\"/>\n<polygon fill=\"black\" stroke=\"black\" points=\"716.72,-1247.23 727.09,-1249.44 720.36,-1241.25 716.72,-1247.23\"/>\n</g>\n<!-- 140108161090080 -->\n<g id=\"node218\" class=\"node\">\n<title>140108161090080</title>\n<polygon fill=\"lightgrey\" stroke=\"black\" points=\"482,-1335 381,-1335 381,-1316 482,-1316 482,-1335\"/>\n<text text-anchor=\"middle\" x=\"431.5\" y=\"-1323\" font-family=\"monospace\" font-size=\"10.00\">AccumulateGrad</text>\n</g>\n<!-- 140108161090080&#45;&gt;140108161090032 -->\n<g id=\"edge239\" class=\"edge\">\n<title>140108161090080&#45;&gt;140108161090032</title>\n<path fill=\"none\" stroke=\"black\" d=\"M472.67,-1315.93C528.83,-1304.25 629.44,-1283.32 690.37,-1270.64\"/>\n<polygon fill=\"black\" stroke=\"black\" points=\"691.09,-1274.06 700.16,-1268.6 689.66,-1267.21 691.09,-1274.06\"/>\n</g>\n<!-- 140108170950864 -->\n<g id=\"node219\" class=\"node\">\n<title>140108170950864</title>\n<polygon fill=\"lightblue\" stroke=\"black\" points=\"319.5,-1408 265.5,-1408 265.5,-1377 319.5,-1377 319.5,-1408\"/>\n<text text-anchor=\"middle\" x=\"292.5\" y=\"-1384\" font-family=\"monospace\" font-size=\"10.00\"> (32)</text>\n</g>\n<!-- 140108170950864&#45;&gt;140108161090080 -->\n<g id=\"edge240\" class=\"edge\">\n<title>140108170950864&#45;&gt;140108161090080</title>\n<path fill=\"none\" stroke=\"black\" d=\"M319.63,-1378.81C344.04,-1367.4 379.73,-1350.71 404.2,-1339.27\"/>\n<polygon fill=\"black\" stroke=\"black\" points=\"405.72,-1342.42 413.29,-1335.01 402.75,-1336.08 405.72,-1342.42\"/>\n</g>\n<!-- 140108161089792&#45;&gt;140108161089648 -->\n<g id=\"edge241\" class=\"edge\">\n<title>140108161089792&#45;&gt;140108161089648</title>\n<path fill=\"none\" stroke=\"black\" d=\"M964.24,-1068.58C975.93,-1084.57 997.11,-1119.26 979.5,-1141 976.56,-1144.63 864.16,-1167.33 794.89,-1181.03\"/>\n<polygon fill=\"black\" stroke=\"black\" points=\"794.14,-1177.61 785.01,-1182.99 795.5,-1184.48 794.14,-1177.61\"/>\n</g>\n<!-- 140108161105056&#45;&gt;140108161099392 -->\n<g id=\"edge243\" class=\"edge\">\n<title>140108161105056&#45;&gt;140108161099392</title>\n<path fill=\"none\" stroke=\"black\" d=\"M619.63,-935.31C624.54,-950.53 632.7,-982.56 624.5,-1008 620.43,-1020.63 611.85,-1032.75 604.09,-1041.9\"/>\n<polygon fill=\"black\" stroke=\"black\" points=\"601.43,-1039.62 597.35,-1049.4 606.64,-1044.31 601.43,-1039.62\"/>\n</g>\n<!-- 140108161105104 -->\n<g id=\"node222\" class=\"node\">\n<title>140108161105104</title>\n<polygon fill=\"lightgrey\" stroke=\"black\" points=\"480,-1135 379,-1135 379,-1116 480,-1116 480,-1135\"/>\n<text text-anchor=\"middle\" x=\"429.5\" y=\"-1123\" font-family=\"monospace\" font-size=\"10.00\">AccumulateGrad</text>\n</g>\n<!-- 140108161105104&#45;&gt;140108161099392 -->\n<g id=\"edge245\" class=\"edge\">\n<title>140108161105104&#45;&gt;140108161099392</title>\n<path fill=\"none\" stroke=\"black\" d=\"M450.61,-1115.93C478.06,-1104.8 526.18,-1085.28 557.7,-1072.5\"/>\n<polygon fill=\"black\" stroke=\"black\" points=\"559.35,-1075.6 567.3,-1068.6 556.72,-1069.12 559.35,-1075.6\"/>\n</g>\n<!-- 140108170950784 -->\n<g id=\"node223\" class=\"node\">\n<title>140108170950784</title>\n<polygon fill=\"lightblue\" stroke=\"black\" points=\"442.5,-1208 388.5,-1208 388.5,-1177 442.5,-1177 442.5,-1208\"/>\n<text text-anchor=\"middle\" x=\"415.5\" y=\"-1184\" font-family=\"monospace\" font-size=\"10.00\"> (32)</text>\n</g>\n<!-- 140108170950784&#45;&gt;140108161105104 -->\n<g id=\"edge246\" class=\"edge\">\n<title>140108170950784&#45;&gt;140108161105104</title>\n<path fill=\"none\" stroke=\"black\" d=\"M418.68,-1176.75C420.71,-1167.29 423.38,-1154.93 425.55,-1144.84\"/>\n<polygon fill=\"black\" stroke=\"black\" points=\"428.98,-1145.53 427.67,-1135.02 422.14,-1144.06 428.98,-1145.53\"/>\n</g>\n<!-- 140108161099440 -->\n<g id=\"node224\" class=\"node\">\n<title>140108161099440</title>\n<polygon fill=\"lightgrey\" stroke=\"black\" points=\"1515,-1468.5 1354,-1468.5 1354,-1449.5 1515,-1449.5 1515,-1468.5\"/>\n<text text-anchor=\"middle\" x=\"1434.5\" y=\"-1456.5\" font-family=\"monospace\" font-size=\"10.00\">NativeBatchNormBackward0</text>\n</g>\n<!-- 140108161099440&#45;&gt;140108161099008 -->\n<g id=\"edge247\" class=\"edge\">\n<title>140108161099440&#45;&gt;140108161099008</title>\n<path fill=\"none\" stroke=\"black\" d=\"M1442.52,-1449.5C1450.97,-1440.07 1464.07,-1424.08 1471.5,-1408 1487.11,-1374.24 1490.5,-1363.69 1490.5,-1326.5 1490.5,-1326.5 1490.5,-1326.5 1490.5,-1124.5 1490.5,-1056.28 1406.44,-1020.85 1350.15,-1004.78\"/>\n<polygon fill=\"black\" stroke=\"black\" points=\"1350.9,-1001.36 1340.33,-1002.09 1349.05,-1008.11 1350.9,-1001.36\"/>\n</g>\n<!-- 140112418358592 -->\n<g id=\"node225\" class=\"node\">\n<title>140112418358592</title>\n<polygon fill=\"orange\" stroke=\"black\" points=\"1620,-1407.5 1519,-1407.5 1519,-1377.5 1620,-1377.5 1620,-1407.5\"/>\n<text text-anchor=\"middle\" x=\"1569.5\" y=\"-1395.5\" font-family=\"monospace\" font-size=\"10.00\">input</text>\n<text text-anchor=\"middle\" x=\"1569.5\" y=\"-1384.5\" font-family=\"monospace\" font-size=\"10.00\"> (1, 32, 4, 4)</text>\n</g>\n<!-- 140108161099440&#45;&gt;140112418358592 -->\n<g id=\"edge248\" class=\"edge\">\n<title>140108161099440&#45;&gt;140112418358592</title>\n<path fill=\"none\" stroke=\"black\" d=\"M1452.43,-1449.43C1474.8,-1438.74 1513.38,-1420.31 1540.11,-1407.54\"/>\n</g>\n<!-- 140108170966928 -->\n<g id=\"node226\" class=\"node\">\n<title>140108170966928</title>\n<polygon fill=\"orange\" stroke=\"black\" points=\"1697,-1407.5 1638,-1407.5 1638,-1377.5 1697,-1377.5 1697,-1407.5\"/>\n<text text-anchor=\"middle\" x=\"1667.5\" y=\"-1395.5\" font-family=\"monospace\" font-size=\"10.00\">result1</text>\n<text text-anchor=\"middle\" x=\"1667.5\" y=\"-1384.5\" font-family=\"monospace\" font-size=\"10.00\"> (0)</text>\n</g>\n<!-- 140108161099440&#45;&gt;140108170966928 -->\n<g id=\"edge249\" class=\"edge\">\n<title>140108161099440&#45;&gt;140108170966928</title>\n<path fill=\"none\" stroke=\"black\" d=\"M1472.98,-1449.5C1512.57,-1440.43 1575.88,-1425.05 1629.5,-1408 1632.19,-1407.14 1634.97,-1406.2 1637.74,-1405.22\"/>\n</g>\n<!-- 140108160606400 -->\n<g id=\"node227\" class=\"node\">\n<title>140108160606400</title>\n<polygon fill=\"orange\" stroke=\"black\" points=\"1144,-1407.5 1085,-1407.5 1085,-1377.5 1144,-1377.5 1144,-1407.5\"/>\n<text text-anchor=\"middle\" x=\"1114.5\" y=\"-1395.5\" font-family=\"monospace\" font-size=\"10.00\">result2</text>\n<text text-anchor=\"middle\" x=\"1114.5\" y=\"-1384.5\" font-family=\"monospace\" font-size=\"10.00\"> (0)</text>\n</g>\n<!-- 140108161099440&#45;&gt;140108160606400 -->\n<g id=\"edge250\" class=\"edge\">\n<title>140108161099440&#45;&gt;140108160606400</title>\n<path fill=\"none\" stroke=\"black\" d=\"M1379.88,-1449.48C1310.62,-1438.47 1195.21,-1419.37 1153.5,-1408 1150.43,-1407.16 1147.27,-1406.19 1144.13,-1405.14\"/>\n</g>\n<!-- 140108170310448 -->\n<g id=\"node228\" class=\"node\">\n<title>140108170310448</title>\n<polygon fill=\"orange\" stroke=\"black\" points=\"1251,-1407.5 1162,-1407.5 1162,-1377.5 1251,-1377.5 1251,-1407.5\"/>\n<text text-anchor=\"middle\" x=\"1206.5\" y=\"-1395.5\" font-family=\"monospace\" font-size=\"10.00\">running_mean</text>\n<text text-anchor=\"middle\" x=\"1206.5\" y=\"-1384.5\" font-family=\"monospace\" font-size=\"10.00\"> (32)</text>\n</g>\n<!-- 140108161099440&#45;&gt;140108170310448 -->\n<g id=\"edge251\" class=\"edge\">\n<title>140108161099440&#45;&gt;140108170310448</title>\n<path fill=\"none\" stroke=\"black\" d=\"M1404.22,-1449.43C1364.98,-1438.33 1296.22,-1418.88 1251.02,-1406.1\"/>\n</g>\n<!-- 140108170952144 -->\n<g id=\"node229\" class=\"node\">\n<title>140108170952144</title>\n<polygon fill=\"orange\" stroke=\"black\" points=\"1352,-1407.5 1269,-1407.5 1269,-1377.5 1352,-1377.5 1352,-1407.5\"/>\n<text text-anchor=\"middle\" x=\"1310.5\" y=\"-1395.5\" font-family=\"monospace\" font-size=\"10.00\">running_var</text>\n<text text-anchor=\"middle\" x=\"1310.5\" y=\"-1384.5\" font-family=\"monospace\" font-size=\"10.00\"> (32)</text>\n</g>\n<!-- 140108161099440&#45;&gt;140108170952144 -->\n<g id=\"edge252\" class=\"edge\">\n<title>140108161099440&#45;&gt;140108170952144</title>\n<path fill=\"none\" stroke=\"black\" d=\"M1418.03,-1449.43C1397.48,-1438.74 1362.04,-1420.31 1337.5,-1407.54\"/>\n</g>\n<!-- 140108170951904 -->\n<g id=\"node230\" class=\"node\">\n<title>140108170951904</title>\n<polygon fill=\"lightblue\" stroke=\"black\" points=\"1462.5,-1408 1408.5,-1408 1408.5,-1377 1462.5,-1377 1462.5,-1408\"/>\n<text text-anchor=\"middle\" x=\"1435.5\" y=\"-1384\" font-family=\"monospace\" font-size=\"10.00\"> (32)</text>\n</g>\n<!-- 140108161099440&#45;&gt;140108170951904 -->\n<g id=\"edge253\" class=\"edge\">\n<title>140108161099440&#45;&gt;140108170951904</title>\n<path fill=\"none\" stroke=\"black\" d=\"M1434.63,-1449.3C1434.8,-1438.85 1435.07,-1421.14 1435.27,-1408.47\"/>\n</g>\n<!-- 140108161090800 -->\n<g id=\"node236\" class=\"node\">\n<title>140108161090800</title>\n<polygon fill=\"lightgrey\" stroke=\"black\" points=\"1446,-1335 1345,-1335 1345,-1316 1446,-1316 1446,-1335\"/>\n<text text-anchor=\"middle\" x=\"1395.5\" y=\"-1323\" font-family=\"monospace\" font-size=\"10.00\">AccumulateGrad</text>\n</g>\n<!-- 140108170951904&#45;&gt;140108161090800 -->\n<g id=\"edge263\" class=\"edge\">\n<title>140108170951904&#45;&gt;140108161090800</title>\n<path fill=\"none\" stroke=\"black\" d=\"M1426.42,-1376.75C1420.35,-1366.89 1412.34,-1353.87 1406,-1343.56\"/>\n<polygon fill=\"black\" stroke=\"black\" points=\"1408.96,-1341.7 1400.74,-1335.02 1403,-1345.37 1408.96,-1341.7\"/>\n</g>\n<!-- 140108161089600 -->\n<g id=\"node231\" class=\"node\">\n<title>140108161089600</title>\n<polygon fill=\"lightgrey\" stroke=\"black\" points=\"1365,-1535 1270,-1535 1270,-1516 1365,-1516 1365,-1535\"/>\n<text text-anchor=\"middle\" x=\"1317.5\" y=\"-1523\" font-family=\"monospace\" font-size=\"10.00\">ReluBackward0</text>\n</g>\n<!-- 140108161089600&#45;&gt;140108161099440 -->\n<g id=\"edge254\" class=\"edge\">\n<title>140108161089600&#45;&gt;140108161099440</title>\n<path fill=\"none\" stroke=\"black\" d=\"M1333.28,-1515.8C1353.01,-1504.92 1387.01,-1486.18 1410.11,-1473.45\"/>\n<polygon fill=\"black\" stroke=\"black\" points=\"1411.9,-1476.45 1418.97,-1468.56 1408.52,-1470.32 1411.9,-1476.45\"/>\n</g>\n<!-- 140108160606560 -->\n<g id=\"node232\" class=\"node\">\n<title>140108160606560</title>\n<polygon fill=\"orange\" stroke=\"black\" points=\"1336,-1474 1235,-1474 1235,-1444 1336,-1444 1336,-1474\"/>\n<text text-anchor=\"middle\" x=\"1285.5\" y=\"-1462\" font-family=\"monospace\" font-size=\"10.00\">result</text>\n<text text-anchor=\"middle\" x=\"1285.5\" y=\"-1451\" font-family=\"monospace\" font-size=\"10.00\"> (1, 32, 4, 4)</text>\n</g>\n<!-- 140108161089600&#45;&gt;140108160606560 -->\n<g id=\"edge255\" class=\"edge\">\n<title>140108161089600&#45;&gt;140108160606560</title>\n<path fill=\"none\" stroke=\"black\" d=\"M1313.18,-1515.8C1307.93,-1505.21 1298.98,-1487.17 1292.68,-1474.47\"/>\n</g>\n<!-- 140108161090704&#45;&gt;140112418160480 -->\n<g id=\"edge257\" class=\"edge\">\n<title>140108161090704&#45;&gt;140112418160480</title>\n<path fill=\"none\" stroke=\"black\" d=\"M1143.3,-1582.87C1123.08,-1572.09 1088.21,-1553.52 1064.06,-1540.65\"/>\n</g>\n<!-- 140108161090704&#45;&gt;140108161089600 -->\n<g id=\"edge256\" class=\"edge\">\n<title>140108161090704&#45;&gt;140108161089600</title>\n<path fill=\"none\" stroke=\"black\" d=\"M1180.48,-1582.87C1207.75,-1571.65 1255.57,-1551.98 1286.89,-1539.09\"/>\n<polygon fill=\"black\" stroke=\"black\" points=\"1288.52,-1542.21 1296.43,-1535.17 1285.85,-1535.74 1288.52,-1542.21\"/>\n</g>\n<!-- 140108170951984 -->\n<g id=\"node234\" class=\"node\">\n<title>140108170951984</title>\n<polygon fill=\"lightblue\" stroke=\"black\" points=\"1213,-1541 1106,-1541 1106,-1510 1213,-1510 1213,-1541\"/>\n<text text-anchor=\"middle\" x=\"1159.5\" y=\"-1517\" font-family=\"monospace\" font-size=\"10.00\"> (32, 32, 3, 3)</text>\n</g>\n<!-- 140108161090704&#45;&gt;140108170951984 -->\n<g id=\"edge258\" class=\"edge\">\n<title>140108161090704&#45;&gt;140108170951984</title>\n<path fill=\"none\" stroke=\"black\" d=\"M1159.5,-1582.73C1159.5,-1572.06 1159.5,-1553.88 1159.5,-1541.08\"/>\n</g>\n<!-- 140108161090464 -->\n<g id=\"node235\" class=\"node\">\n<title>140108161090464</title>\n<polygon fill=\"lightgrey\" stroke=\"black\" points=\"1213,-1468.5 1112,-1468.5 1112,-1449.5 1213,-1449.5 1213,-1468.5\"/>\n<text text-anchor=\"middle\" x=\"1162.5\" y=\"-1456.5\" font-family=\"monospace\" font-size=\"10.00\">AccumulateGrad</text>\n</g>\n<!-- 140108170951984&#45;&gt;140108161090464 -->\n<g id=\"edge261\" class=\"edge\">\n<title>140108170951984&#45;&gt;140108161090464</title>\n<path fill=\"none\" stroke=\"black\" d=\"M1160.18,-1509.86C1160.61,-1500.68 1161.16,-1488.75 1161.62,-1478.86\"/>\n<polygon fill=\"black\" stroke=\"black\" points=\"1165.12,-1478.97 1162.09,-1468.82 1158.13,-1478.65 1165.12,-1478.97\"/>\n</g>\n<!-- 140108161090464&#45;&gt;140108161090704 -->\n<g id=\"edge260\" class=\"edge\">\n<title>140108161090464&#45;&gt;140108161090704</title>\n<path fill=\"none\" stroke=\"black\" d=\"M1179.55,-1468.65C1193.99,-1477.02 1213.7,-1491.21 1222.5,-1510 1228.34,-1522.48 1228.46,-1528.58 1222.5,-1541 1214.96,-1556.71 1199.89,-1569.07 1186.37,-1577.63\"/>\n<polygon fill=\"black\" stroke=\"black\" points=\"1184.21,-1574.84 1177.38,-1582.94 1187.77,-1580.87 1184.21,-1574.84\"/>\n</g>\n<!-- 140108161090800&#45;&gt;140108161099440 -->\n<g id=\"edge262\" class=\"edge\">\n<title>140108161090800&#45;&gt;140108161099440</title>\n<path fill=\"none\" stroke=\"black\" d=\"M1394.37,-1335.36C1392.76,-1350.66 1390.87,-1382.8 1399.5,-1408 1403.71,-1420.31 1411.94,-1432.31 1419.35,-1441.47\"/>\n<polygon fill=\"black\" stroke=\"black\" points=\"1416.89,-1443.98 1426.06,-1449.3 1422.21,-1439.42 1416.89,-1443.98\"/>\n</g>\n<!-- 140108161097280 -->\n<g id=\"node237\" class=\"node\">\n<title>140108161097280</title>\n<polygon fill=\"lightgrey\" stroke=\"black\" points=\"1485,-1535 1384,-1535 1384,-1516 1485,-1516 1485,-1535\"/>\n<text text-anchor=\"middle\" x=\"1434.5\" y=\"-1523\" font-family=\"monospace\" font-size=\"10.00\">AccumulateGrad</text>\n</g>\n<!-- 140108161097280&#45;&gt;140108161099440 -->\n<g id=\"edge264\" class=\"edge\">\n<title>140108161097280&#45;&gt;140108161099440</title>\n<path fill=\"none\" stroke=\"black\" d=\"M1434.5,-1515.8C1434.5,-1506.32 1434.5,-1490.88 1434.5,-1478.64\"/>\n<polygon fill=\"black\" stroke=\"black\" points=\"1438,-1478.56 1434.5,-1468.56 1431,-1478.56 1438,-1478.56\"/>\n</g>\n<!-- 140108170952064 -->\n<g id=\"node238\" class=\"node\">\n<title>140108170952064</title>\n<polygon fill=\"lightblue\" stroke=\"black\" points=\"1461.5,-1608 1407.5,-1608 1407.5,-1577 1461.5,-1577 1461.5,-1608\"/>\n<text text-anchor=\"middle\" x=\"1434.5\" y=\"-1584\" font-family=\"monospace\" font-size=\"10.00\"> (32)</text>\n</g>\n<!-- 140108170952064&#45;&gt;140108161097280 -->\n<g id=\"edge265\" class=\"edge\">\n<title>140108170952064&#45;&gt;140108161097280</title>\n<path fill=\"none\" stroke=\"black\" d=\"M1434.5,-1576.75C1434.5,-1567.39 1434.5,-1555.19 1434.5,-1545.16\"/>\n<polygon fill=\"black\" stroke=\"black\" points=\"1438,-1545.02 1434.5,-1535.02 1431,-1545.02 1438,-1545.02\"/>\n</g>\n<!-- 140108161099248&#45;&gt;140108161101264 -->\n<g id=\"edge266\" class=\"edge\">\n<title>140108161099248&#45;&gt;140108161101264</title>\n<path fill=\"none\" stroke=\"black\" d=\"M1158.28,-801.62C1144.29,-810.07 1125.03,-824.39 1116.5,-843 1110.76,-855.53 1110.59,-861.56 1116.5,-874 1123.91,-889.59 1138.74,-901.94 1152.04,-910.53\"/>\n<polygon fill=\"black\" stroke=\"black\" points=\"1150.52,-913.7 1160.89,-915.87 1154.14,-907.71 1150.52,-913.7\"/>\n</g>\n<!-- 140108161104144&#45;&gt;140108161100448 -->\n<g id=\"edge268\" class=\"edge\">\n<title>140108161104144&#45;&gt;140108161100448</title>\n<path fill=\"none\" stroke=\"black\" d=\"M962.48,-668.09C963.86,-683.51 965.05,-716.58 953.5,-741 946.96,-754.84 934.93,-767.05 924.31,-775.95\"/>\n<polygon fill=\"black\" stroke=\"black\" points=\"921.9,-773.39 916.23,-782.34 926.24,-778.88 921.9,-773.39\"/>\n</g>\n<!-- 140108161105248 -->\n<g id=\"node241\" class=\"node\">\n<title>140108161105248</title>\n<polygon fill=\"lightgrey\" stroke=\"black\" points=\"954,-868 853,-868 853,-849 954,-849 954,-868\"/>\n<text text-anchor=\"middle\" x=\"903.5\" y=\"-856\" font-family=\"monospace\" font-size=\"10.00\">AccumulateGrad</text>\n</g>\n<!-- 140108161105248&#45;&gt;140108161100448 -->\n<g id=\"edge270\" class=\"edge\">\n<title>140108161105248&#45;&gt;140108161100448</title>\n<path fill=\"none\" stroke=\"black\" d=\"M903.5,-848.8C903.5,-839.32 903.5,-823.88 903.5,-811.64\"/>\n<polygon fill=\"black\" stroke=\"black\" points=\"907,-811.56 903.5,-801.56 900,-811.56 907,-811.56\"/>\n</g>\n<!-- 140108170949664 -->\n<g id=\"node242\" class=\"node\">\n<title>140108170949664</title>\n<polygon fill=\"lightblue\" stroke=\"black\" points=\"930.5,-941 876.5,-941 876.5,-910 930.5,-910 930.5,-941\"/>\n<text text-anchor=\"middle\" x=\"903.5\" y=\"-917\" font-family=\"monospace\" font-size=\"10.00\"> (64)</text>\n</g>\n<!-- 140108170949664&#45;&gt;140108161105248 -->\n<g id=\"edge271\" class=\"edge\">\n<title>140108170949664&#45;&gt;140108161105248</title>\n<path fill=\"none\" stroke=\"black\" d=\"M903.5,-909.75C903.5,-900.39 903.5,-888.19 903.5,-878.16\"/>\n<polygon fill=\"black\" stroke=\"black\" points=\"907,-878.02 903.5,-868.02 900,-878.02 907,-878.02\"/>\n</g>\n<!-- 140108161100496&#45;&gt;140108161100928 -->\n<g id=\"edge272\" class=\"edge\">\n<title>140108161100496&#45;&gt;140108161100928</title>\n<path fill=\"none\" stroke=\"black\" d=\"M1299.68,-595.43C1260.76,-599.84 1208.05,-611.7 1173.5,-643 1155.4,-659.39 1147.41,-687.31 1143.98,-705.83\"/>\n<polygon fill=\"black\" stroke=\"black\" points=\"1140.48,-705.53 1142.38,-715.96 1147.39,-706.63 1140.48,-705.53\"/>\n</g>\n<!-- 140108161105680&#45;&gt;140108161105728 -->\n<g id=\"edge274\" class=\"edge\">\n<title>140108161105680&#45;&gt;140108161105728</title>\n<path fill=\"none\" stroke=\"black\" d=\"M845.92,-468.1C861.24,-483.54 895.02,-516.64 926.5,-541 943.62,-554.25 964.25,-567.51 979.84,-577.05\"/>\n<polygon fill=\"black\" stroke=\"black\" points=\"978.45,-580.3 988.82,-582.47 982.07,-574.3 978.45,-580.3\"/>\n</g>\n<!-- 140108161104912 -->\n<g id=\"node245\" class=\"node\">\n<title>140108161104912</title>\n<polygon fill=\"lightgrey\" stroke=\"black\" points=\"744,-668 643,-668 643,-649 744,-649 744,-668\"/>\n<text text-anchor=\"middle\" x=\"693.5\" y=\"-656\" font-family=\"monospace\" font-size=\"10.00\">AccumulateGrad</text>\n</g>\n<!-- 140108161104912&#45;&gt;140108161105728 -->\n<g id=\"edge276\" class=\"edge\">\n<title>140108161104912&#45;&gt;140108161105728</title>\n<path fill=\"none\" stroke=\"black\" d=\"M734.67,-648.93C790.83,-637.25 891.44,-616.32 952.37,-603.64\"/>\n<polygon fill=\"black\" stroke=\"black\" points=\"953.09,-607.06 962.16,-601.6 951.66,-600.21 953.09,-607.06\"/>\n</g>\n<!-- 140108170949104 -->\n<g id=\"node246\" class=\"node\">\n<title>140108170949104</title>\n<polygon fill=\"lightblue\" stroke=\"black\" points=\"581.5,-741 527.5,-741 527.5,-710 581.5,-710 581.5,-741\"/>\n<text text-anchor=\"middle\" x=\"554.5\" y=\"-717\" font-family=\"monospace\" font-size=\"10.00\"> (64)</text>\n</g>\n<!-- 140108170949104&#45;&gt;140108161104912 -->\n<g id=\"edge277\" class=\"edge\">\n<title>140108170949104&#45;&gt;140108161104912</title>\n<path fill=\"none\" stroke=\"black\" d=\"M581.63,-711.81C606.04,-700.4 641.73,-683.71 666.2,-672.27\"/>\n<polygon fill=\"black\" stroke=\"black\" points=\"667.72,-675.42 675.29,-668.01 664.75,-669.08 667.72,-675.42\"/>\n</g>\n<!-- 140108161105296&#45;&gt;140108161102368 -->\n<g id=\"edge278\" class=\"edge\">\n<title>140108161105296&#45;&gt;140108161102368</title>\n<path fill=\"none\" stroke=\"black\" d=\"M1228.71,-401.64C1244.43,-417.41 1273.04,-451.36 1254.5,-474 1252.93,-475.92 1131.06,-499.8 1057.73,-514.03\"/>\n<polygon fill=\"black\" stroke=\"black\" points=\"1056.88,-510.63 1047.73,-515.97 1058.21,-517.5 1056.88,-510.63\"/>\n</g>\n<!-- 140108161100832&#45;&gt;140108161100592 -->\n<g id=\"edge280\" class=\"edge\">\n<title>140108161100832&#45;&gt;140108161100592</title>\n<path fill=\"none\" stroke=\"black\" d=\"M956.66,-274.11C961.39,-288.38 969.03,-317.67 961.5,-341 957.43,-353.63 948.85,-365.75 941.09,-374.9\"/>\n<polygon fill=\"black\" stroke=\"black\" points=\"938.43,-372.62 934.35,-382.4 943.64,-377.31 938.43,-372.62\"/>\n</g>\n<!-- 140108161100976 -->\n<g id=\"node249\" class=\"node\">\n<title>140108161100976</title>\n<polygon fill=\"lightgrey\" stroke=\"black\" points=\"755,-468 654,-468 654,-449 755,-449 755,-468\"/>\n<text text-anchor=\"middle\" x=\"704.5\" y=\"-456\" font-family=\"monospace\" font-size=\"10.00\">AccumulateGrad</text>\n</g>\n<!-- 140108161100976&#45;&gt;140108161100592 -->\n<g id=\"edge282\" class=\"edge\">\n<title>140108161100976&#45;&gt;140108161100592</title>\n<path fill=\"none\" stroke=\"black\" d=\"M733.85,-448.93C773.06,-437.49 842.67,-417.18 886.33,-404.43\"/>\n<polygon fill=\"black\" stroke=\"black\" points=\"887.41,-407.76 896.03,-401.6 885.45,-401.04 887.41,-407.76\"/>\n</g>\n<!-- 140108170968848 -->\n<g id=\"node250\" class=\"node\">\n<title>140108170968848</title>\n<polygon fill=\"lightblue\" stroke=\"black\" points=\"704.5,-541 650.5,-541 650.5,-510 704.5,-510 704.5,-541\"/>\n<text text-anchor=\"middle\" x=\"677.5\" y=\"-517\" font-family=\"monospace\" font-size=\"10.00\"> (64)</text>\n</g>\n<!-- 140108170968848&#45;&gt;140108161100976 -->\n<g id=\"edge283\" class=\"edge\">\n<title>140108170968848&#45;&gt;140108161100976</title>\n<path fill=\"none\" stroke=\"black\" d=\"M683.63,-509.75C687.6,-500.19 692.8,-487.67 697.02,-477.52\"/>\n<polygon fill=\"black\" stroke=\"black\" points=\"700.36,-478.6 700.96,-468.02 693.89,-475.91 700.36,-478.6\"/>\n</g>\n<!-- 140108161100352 -->\n<g id=\"node251\" class=\"node\">\n<title>140108161100352</title>\n<polygon fill=\"lightgrey\" stroke=\"black\" points=\"1778,-801.5 1617,-801.5 1617,-782.5 1778,-782.5 1778,-801.5\"/>\n<text text-anchor=\"middle\" x=\"1697.5\" y=\"-789.5\" font-family=\"monospace\" font-size=\"10.00\">NativeBatchNormBackward0</text>\n</g>\n<!-- 140108161100352&#45;&gt;140108161100400 -->\n<g id=\"edge284\" class=\"edge\">\n<title>140108161100352&#45;&gt;140108161100400</title>\n<path fill=\"none\" stroke=\"black\" d=\"M1705.29,-782.46C1713.51,-773 1726.24,-756.97 1733.5,-741 1748.89,-707.14 1752.5,-696.69 1752.5,-659.5 1752.5,-659.5 1752.5,-659.5 1752.5,-457.5 1752.5,-351.39 1593.29,-330.33 1506.45,-326.74\"/>\n<polygon fill=\"black\" stroke=\"black\" points=\"1506.35,-323.23 1496.24,-326.38 1506.11,-330.23 1506.35,-323.23\"/>\n</g>\n<!-- 140112418361952 -->\n<g id=\"node252\" class=\"node\">\n<title>140112418361952</title>\n<polygon fill=\"orange\" stroke=\"black\" points=\"1882,-740.5 1781,-740.5 1781,-710.5 1882,-710.5 1882,-740.5\"/>\n<text text-anchor=\"middle\" x=\"1831.5\" y=\"-728.5\" font-family=\"monospace\" font-size=\"10.00\">input</text>\n<text text-anchor=\"middle\" x=\"1831.5\" y=\"-717.5\" font-family=\"monospace\" font-size=\"10.00\"> (1, 64, 4, 4)</text>\n</g>\n<!-- 140108161100352&#45;&gt;140112418361952 -->\n<g id=\"edge285\" class=\"edge\">\n<title>140108161100352&#45;&gt;140112418361952</title>\n<path fill=\"none\" stroke=\"black\" d=\"M1715.29,-782.43C1737.51,-771.74 1775.8,-753.31 1802.33,-740.54\"/>\n</g>\n<!-- 140108160606160 -->\n<g id=\"node253\" class=\"node\">\n<title>140108160606160</title>\n<polygon fill=\"orange\" stroke=\"black\" points=\"1959,-740.5 1900,-740.5 1900,-710.5 1959,-710.5 1959,-740.5\"/>\n<text text-anchor=\"middle\" x=\"1929.5\" y=\"-728.5\" font-family=\"monospace\" font-size=\"10.00\">result1</text>\n<text text-anchor=\"middle\" x=\"1929.5\" y=\"-717.5\" font-family=\"monospace\" font-size=\"10.00\"> (0)</text>\n</g>\n<!-- 140108161100352&#45;&gt;140108160606160 -->\n<g id=\"edge286\" class=\"edge\">\n<title>140108161100352&#45;&gt;140108160606160</title>\n<path fill=\"none\" stroke=\"black\" d=\"M1735.78,-782.48C1775.17,-773.39 1838.14,-758 1891.5,-741 1894.19,-740.14 1896.97,-739.2 1899.74,-738.22\"/>\n</g>\n<!-- 140108160598640 -->\n<g id=\"node254\" class=\"node\">\n<title>140108160598640</title>\n<polygon fill=\"orange\" stroke=\"black\" points=\"1406,-740.5 1347,-740.5 1347,-710.5 1406,-710.5 1406,-740.5\"/>\n<text text-anchor=\"middle\" x=\"1376.5\" y=\"-728.5\" font-family=\"monospace\" font-size=\"10.00\">result2</text>\n<text text-anchor=\"middle\" x=\"1376.5\" y=\"-717.5\" font-family=\"monospace\" font-size=\"10.00\"> (0)</text>\n</g>\n<!-- 140108161100352&#45;&gt;140108160598640 -->\n<g id=\"edge287\" class=\"edge\">\n<title>140108161100352&#45;&gt;140108160598640</title>\n<path fill=\"none\" stroke=\"black\" d=\"M1646.52,-782.48C1571.39,-769.83 1437.39,-746.96 1415.5,-741 1412.43,-740.17 1409.27,-739.19 1406.13,-738.14\"/>\n</g>\n<!-- 140108170459904 -->\n<g id=\"node255\" class=\"node\">\n<title>140108170459904</title>\n<polygon fill=\"orange\" stroke=\"black\" points=\"1513,-740.5 1424,-740.5 1424,-710.5 1513,-710.5 1513,-740.5\"/>\n<text text-anchor=\"middle\" x=\"1468.5\" y=\"-728.5\" font-family=\"monospace\" font-size=\"10.00\">running_mean</text>\n<text text-anchor=\"middle\" x=\"1468.5\" y=\"-717.5\" font-family=\"monospace\" font-size=\"10.00\"> (64)</text>\n</g>\n<!-- 140108161100352&#45;&gt;140108170459904 -->\n<g id=\"edge288\" class=\"edge\">\n<title>140108161100352&#45;&gt;140108170459904</title>\n<path fill=\"none\" stroke=\"black\" d=\"M1667.09,-782.43C1627.67,-771.33 1558.62,-751.88 1513.22,-739.1\"/>\n</g>\n<!-- 140108160602880 -->\n<g id=\"node256\" class=\"node\">\n<title>140108160602880</title>\n<polygon fill=\"orange\" stroke=\"black\" points=\"1614,-740.5 1531,-740.5 1531,-710.5 1614,-710.5 1614,-740.5\"/>\n<text text-anchor=\"middle\" x=\"1572.5\" y=\"-728.5\" font-family=\"monospace\" font-size=\"10.00\">running_var</text>\n<text text-anchor=\"middle\" x=\"1572.5\" y=\"-717.5\" font-family=\"monospace\" font-size=\"10.00\"> (64)</text>\n</g>\n<!-- 140108161100352&#45;&gt;140108160602880 -->\n<g id=\"edge289\" class=\"edge\">\n<title>140108161100352&#45;&gt;140108160602880</title>\n<path fill=\"none\" stroke=\"black\" d=\"M1680.9,-782.43C1660.18,-771.74 1624.46,-753.31 1599.71,-740.54\"/>\n</g>\n<!-- 140108170964848 -->\n<g id=\"node257\" class=\"node\">\n<title>140108170964848</title>\n<polygon fill=\"lightblue\" stroke=\"black\" points=\"1724.5,-741 1670.5,-741 1670.5,-710 1724.5,-710 1724.5,-741\"/>\n<text text-anchor=\"middle\" x=\"1697.5\" y=\"-717\" font-family=\"monospace\" font-size=\"10.00\"> (64)</text>\n</g>\n<!-- 140108161100352&#45;&gt;140108170964848 -->\n<g id=\"edge290\" class=\"edge\">\n<title>140108161100352&#45;&gt;140108170964848</title>\n<path fill=\"none\" stroke=\"black\" d=\"M1697.5,-782.3C1697.5,-771.85 1697.5,-754.14 1697.5,-741.47\"/>\n</g>\n<!-- 140108161100160 -->\n<g id=\"node263\" class=\"node\">\n<title>140108161100160</title>\n<polygon fill=\"lightgrey\" stroke=\"black\" points=\"1709,-668 1608,-668 1608,-649 1709,-649 1709,-668\"/>\n<text text-anchor=\"middle\" x=\"1658.5\" y=\"-656\" font-family=\"monospace\" font-size=\"10.00\">AccumulateGrad</text>\n</g>\n<!-- 140108170964848&#45;&gt;140108161100160 -->\n<g id=\"edge300\" class=\"edge\">\n<title>140108170964848&#45;&gt;140108161100160</title>\n<path fill=\"none\" stroke=\"black\" d=\"M1688.65,-709.75C1682.79,-699.99 1675.08,-687.14 1668.93,-676.88\"/>\n<polygon fill=\"black\" stroke=\"black\" points=\"1671.76,-674.79 1663.61,-668.02 1665.75,-678.39 1671.76,-674.79\"/>\n</g>\n<!-- 140108161102608 -->\n<g id=\"node258\" class=\"node\">\n<title>140108161102608</title>\n<polygon fill=\"lightgrey\" stroke=\"black\" points=\"1628,-868 1533,-868 1533,-849 1628,-849 1628,-868\"/>\n<text text-anchor=\"middle\" x=\"1580.5\" y=\"-856\" font-family=\"monospace\" font-size=\"10.00\">ReluBackward0</text>\n</g>\n<!-- 140108161102608&#45;&gt;140108161100352 -->\n<g id=\"edge291\" class=\"edge\">\n<title>140108161102608&#45;&gt;140108161100352</title>\n<path fill=\"none\" stroke=\"black\" d=\"M1596.28,-848.8C1616.01,-837.92 1650.01,-819.18 1673.11,-806.45\"/>\n<polygon fill=\"black\" stroke=\"black\" points=\"1674.9,-809.45 1681.97,-801.56 1671.52,-803.32 1674.9,-809.45\"/>\n</g>\n<!-- 140108160598560 -->\n<g id=\"node259\" class=\"node\">\n<title>140108160598560</title>\n<polygon fill=\"orange\" stroke=\"black\" points=\"1599,-807 1498,-807 1498,-777 1599,-777 1599,-807\"/>\n<text text-anchor=\"middle\" x=\"1548.5\" y=\"-795\" font-family=\"monospace\" font-size=\"10.00\">result</text>\n<text text-anchor=\"middle\" x=\"1548.5\" y=\"-784\" font-family=\"monospace\" font-size=\"10.00\"> (1, 64, 4, 4)</text>\n</g>\n<!-- 140108161102608&#45;&gt;140108160598560 -->\n<g id=\"edge292\" class=\"edge\">\n<title>140108161102608&#45;&gt;140108160598560</title>\n<path fill=\"none\" stroke=\"black\" d=\"M1576.18,-848.8C1570.93,-838.21 1561.98,-820.17 1555.68,-807.47\"/>\n</g>\n<!-- 140108161099296&#45;&gt;140112418364512 -->\n<g id=\"edge294\" class=\"edge\">\n<title>140108161099296&#45;&gt;140112418364512</title>\n<path fill=\"none\" stroke=\"black\" d=\"M1406.3,-915.87C1386.08,-905.09 1351.21,-886.52 1327.06,-873.65\"/>\n</g>\n<!-- 140108161099296&#45;&gt;140108161102608 -->\n<g id=\"edge293\" class=\"edge\">\n<title>140108161099296&#45;&gt;140108161102608</title>\n<path fill=\"none\" stroke=\"black\" d=\"M1443.48,-915.87C1470.75,-904.65 1518.57,-884.98 1549.89,-872.09\"/>\n<polygon fill=\"black\" stroke=\"black\" points=\"1551.52,-875.21 1559.43,-868.17 1548.85,-868.74 1551.52,-875.21\"/>\n</g>\n<!-- 140108170969008 -->\n<g id=\"node261\" class=\"node\">\n<title>140108170969008</title>\n<polygon fill=\"lightblue\" stroke=\"black\" points=\"1476,-874 1369,-874 1369,-843 1476,-843 1476,-874\"/>\n<text text-anchor=\"middle\" x=\"1422.5\" y=\"-850\" font-family=\"monospace\" font-size=\"10.00\"> (64, 32, 3, 3)</text>\n</g>\n<!-- 140108161099296&#45;&gt;140108170969008 -->\n<g id=\"edge295\" class=\"edge\">\n<title>140108161099296&#45;&gt;140108170969008</title>\n<path fill=\"none\" stroke=\"black\" d=\"M1422.5,-915.73C1422.5,-905.06 1422.5,-886.88 1422.5,-874.08\"/>\n</g>\n<!-- 140108161100688 -->\n<g id=\"node262\" class=\"node\">\n<title>140108161100688</title>\n<polygon fill=\"lightgrey\" stroke=\"black\" points=\"1476,-801.5 1375,-801.5 1375,-782.5 1476,-782.5 1476,-801.5\"/>\n<text text-anchor=\"middle\" x=\"1425.5\" y=\"-789.5\" font-family=\"monospace\" font-size=\"10.00\">AccumulateGrad</text>\n</g>\n<!-- 140108170969008&#45;&gt;140108161100688 -->\n<g id=\"edge298\" class=\"edge\">\n<title>140108170969008&#45;&gt;140108161100688</title>\n<path fill=\"none\" stroke=\"black\" d=\"M1423.18,-842.86C1423.61,-833.68 1424.16,-821.75 1424.62,-811.86\"/>\n<polygon fill=\"black\" stroke=\"black\" points=\"1428.12,-811.97 1425.09,-801.82 1421.13,-811.65 1428.12,-811.97\"/>\n</g>\n<!-- 140108161100688&#45;&gt;140108161099296 -->\n<g id=\"edge297\" class=\"edge\">\n<title>140108161100688&#45;&gt;140108161099296</title>\n<path fill=\"none\" stroke=\"black\" d=\"M1442.55,-801.65C1456.99,-810.02 1476.7,-824.21 1485.5,-843 1491.34,-855.48 1491.46,-861.58 1485.5,-874 1477.96,-889.71 1462.89,-902.07 1449.37,-910.63\"/>\n<polygon fill=\"black\" stroke=\"black\" points=\"1447.21,-907.84 1440.38,-915.94 1450.77,-913.87 1447.21,-907.84\"/>\n</g>\n<!-- 140108161100160&#45;&gt;140108161100352 -->\n<g id=\"edge299\" class=\"edge\">\n<title>140108161100160&#45;&gt;140108161100352</title>\n<path fill=\"none\" stroke=\"black\" d=\"M1657.19,-668.37C1655.29,-683.67 1652.86,-715.82 1661.5,-741 1665.8,-753.55 1674.39,-765.68 1682.09,-774.84\"/>\n<polygon fill=\"black\" stroke=\"black\" points=\"1679.52,-777.21 1688.78,-782.36 1684.75,-772.56 1679.52,-777.21\"/>\n</g>\n<!-- 140108161103328 -->\n<g id=\"node264\" class=\"node\">\n<title>140108161103328</title>\n<polygon fill=\"lightgrey\" stroke=\"black\" points=\"1748,-868 1647,-868 1647,-849 1748,-849 1748,-868\"/>\n<text text-anchor=\"middle\" x=\"1697.5\" y=\"-856\" font-family=\"monospace\" font-size=\"10.00\">AccumulateGrad</text>\n</g>\n<!-- 140108161103328&#45;&gt;140108161100352 -->\n<g id=\"edge301\" class=\"edge\">\n<title>140108161103328&#45;&gt;140108161100352</title>\n<path fill=\"none\" stroke=\"black\" d=\"M1697.5,-848.8C1697.5,-839.32 1697.5,-823.88 1697.5,-811.64\"/>\n<polygon fill=\"black\" stroke=\"black\" points=\"1701,-811.56 1697.5,-801.56 1694,-811.56 1701,-811.56\"/>\n</g>\n<!-- 140108170958768 -->\n<g id=\"node265\" class=\"node\">\n<title>140108170958768</title>\n<polygon fill=\"lightblue\" stroke=\"black\" points=\"1724.5,-941 1670.5,-941 1670.5,-910 1724.5,-910 1724.5,-941\"/>\n<text text-anchor=\"middle\" x=\"1697.5\" y=\"-917\" font-family=\"monospace\" font-size=\"10.00\"> (64)</text>\n</g>\n<!-- 140108170958768&#45;&gt;140108161103328 -->\n<g id=\"edge302\" class=\"edge\">\n<title>140108170958768&#45;&gt;140108161103328</title>\n<path fill=\"none\" stroke=\"black\" d=\"M1697.5,-909.75C1697.5,-900.39 1697.5,-888.19 1697.5,-878.16\"/>\n<polygon fill=\"black\" stroke=\"black\" points=\"1701,-878.02 1697.5,-868.02 1694,-878.02 1701,-878.02\"/>\n</g>\n<!-- 140108161101024&#45;&gt;140108161102464 -->\n<g id=\"edge303\" class=\"edge\">\n<title>140108161101024&#45;&gt;140108161102464</title>\n<path fill=\"none\" stroke=\"black\" d=\"M1492.37,-86.15C1503.26,-100.98 1521.86,-131.73 1507.5,-153 1494.43,-172.36 1472.49,-184.22 1450.65,-191.49\"/>\n<polygon fill=\"black\" stroke=\"black\" points=\"1449.55,-188.17 1441,-194.43 1451.58,-194.87 1449.55,-188.17\"/>\n</g>\n</g>\n</svg>\n",
            "text/plain": [
              "<graphviz.graphs.Digraph at 0x7f6dade57490>"
            ]
          },
          "metadata": {},
          "execution_count": 51
        }
      ]
    },
    {
      "cell_type": "markdown",
      "source": [
        "## Training"
      ],
      "metadata": {
        "id": "uiDNSZ6HqPQ4"
      }
    },
    {
      "cell_type": "code",
      "source": [
        "model = Net().to(device)"
      ],
      "metadata": {
        "id": "CfTTgd_zqfpX"
      },
      "execution_count": 427,
      "outputs": []
    },
    {
      "cell_type": "code",
      "source": [
        "import torch.optim as optim"
      ],
      "metadata": {
        "id": "4J9i_cYaqYXR"
      },
      "execution_count": 428,
      "outputs": []
    },
    {
      "cell_type": "code",
      "source": [
        "labels = {0: 'airplane',\n",
        "          1: 'automobile',\n",
        "          2: 'bird',\n",
        "          3: 'cat',\n",
        "          4: 'deer',\n",
        "          5: 'dog',\n",
        "          6: 'frog',\n",
        "          7: 'horse',\n",
        "          8: 'ship',\n",
        "          9: 'truck'}"
      ],
      "metadata": {
        "id": "ZlMOi9qKmU-1"
      },
      "execution_count": 429,
      "outputs": []
    },
    {
      "cell_type": "code",
      "source": [
        "num_epochs = 35\n",
        "momentum = 0.9\n",
        "max_lr = 0.1\n",
        "regularization = None\n",
        "epochs_up = 7\n",
        "base_momentum = 0.85\n",
        "div_factor = 1e6\n",
        "\n",
        "steps_per_epoch = len(train_dataloader)\n",
        "total_steps = num_epochs * steps_per_epoch\n",
        "pct_start = epochs_up / num_epochs"
      ],
      "metadata": {
        "id": "rk3MsP-FhZ4E"
      },
      "execution_count": 430,
      "outputs": []
    },
    {
      "cell_type": "code",
      "source": [
        "optimizer = optim.SGD(model.parameters(), lr=0.1, momentum=0.99)\n",
        "# scheduler = optim.lr_scheduler.StepLR(optimizer, step_size=6, gamma=0.1, verbose=True)\n",
        "scheduler = optim.lr_scheduler.OneCycleLR(optimizer,\n",
        "                                          max_lr=max_lr,\n",
        "                                          total_steps=total_steps,\n",
        "                                          epochs=num_epochs,\n",
        "                                          steps_per_epoch=steps_per_epoch,\n",
        "                                          pct_start=pct_start,\n",
        "                                          anneal_strategy='linear',\n",
        "                                          cycle_momentum=True,\n",
        "                                          base_momentum=base_momentum,\n",
        "                                          max_momentum=momentum,\n",
        "                                          div_factor=div_factor,\n",
        "                                          verbose=False)"
      ],
      "metadata": {
        "id": "i9-H6GcshK3b"
      },
      "execution_count": 431,
      "outputs": []
    },
    {
      "cell_type": "code",
      "source": [
        "metrics = { 'train_acc': [], 'train_losses': [],\n",
        "            'test_acc': [], 'test_losses': [] }\n",
        "\n",
        "for epoch in range(1, num_epochs + 1):\n",
        "    print(f'Epoch {epoch}')\n",
        "    U.train(model, device, train_dataloader, optimizer, metrics, scheduler)\n",
        "    U.test(model, device, test_dataloader, metrics, labels, get_misclassified=(epoch == num_epochs))\n",
        "    # break\n",
        "    # scheduler.step()"
      ],
      "metadata": {
        "colab": {
          "base_uri": "https://localhost:8080/"
        },
        "id": "ImTShnt7ZuBq",
        "outputId": "eb938b04-8459-44e4-9e08-d502b99bf2cb"
      },
      "execution_count": 432,
      "outputs": [
        {
          "output_type": "stream",
          "name": "stdout",
          "text": [
            "Epoch 1\n"
          ]
        },
        {
          "output_type": "stream",
          "name": "stderr",
          "text": [
            "Train: Loss=1.4691 Batch_id=781 Accuracy=36.10: 100%|██████████| 782/782 [00:17<00:00, 44.83it/s]\n"
          ]
        },
        {
          "output_type": "stream",
          "name": "stdout",
          "text": [
            "              precision    recall  f1-score   support\n",
            "\n",
            "    airplane       0.59      0.37      0.45      1000\n",
            "  automobile       0.48      0.72      0.58      1000\n",
            "        bird       0.50      0.20      0.28      1000\n",
            "         cat       0.36      0.23      0.28      1000\n",
            "        deer       0.49      0.30      0.37      1000\n",
            "         dog       0.44      0.40      0.42      1000\n",
            "        frog       0.52      0.61      0.56      1000\n",
            "       horse       0.42      0.68      0.52      1000\n",
            "        ship       0.51      0.60      0.55      1000\n",
            "       truck       0.46      0.63      0.53      1000\n",
            "\n",
            "    accuracy                           0.47     10000\n",
            "   macro avg       0.48      0.47      0.45     10000\n",
            "weighted avg       0.48      0.47      0.45     10000\n",
            "\n",
            "Test set: Average loss: 1.5279, Accuracy: 4726/10000 (47.26%)\n",
            "\n",
            "Epoch 2\n"
          ]
        },
        {
          "output_type": "stream",
          "name": "stderr",
          "text": [
            "Train: Loss=1.3390 Batch_id=781 Accuracy=49.36: 100%|██████████| 782/782 [00:16<00:00, 46.93it/s]\n"
          ]
        },
        {
          "output_type": "stream",
          "name": "stdout",
          "text": [
            "              precision    recall  f1-score   support\n",
            "\n",
            "    airplane       0.68      0.56      0.61      1000\n",
            "  automobile       0.75      0.74      0.75      1000\n",
            "        bird       0.46      0.48      0.47      1000\n",
            "         cat       0.42      0.29      0.34      1000\n",
            "        deer       0.64      0.38      0.48      1000\n",
            "         dog       0.45      0.61      0.52      1000\n",
            "        frog       0.64      0.74      0.69      1000\n",
            "       horse       0.70      0.63      0.66      1000\n",
            "        ship       0.59      0.83      0.69      1000\n",
            "       truck       0.66      0.69      0.68      1000\n",
            "\n",
            "    accuracy                           0.60     10000\n",
            "   macro avg       0.60      0.60      0.59     10000\n",
            "weighted avg       0.60      0.60      0.59     10000\n",
            "\n",
            "Test set: Average loss: 1.1265, Accuracy: 5960/10000 (59.60%)\n",
            "\n",
            "Epoch 3\n"
          ]
        },
        {
          "output_type": "stream",
          "name": "stderr",
          "text": [
            "Train: Loss=1.2015 Batch_id=781 Accuracy=56.29: 100%|██████████| 782/782 [00:17<00:00, 45.84it/s]\n"
          ]
        },
        {
          "output_type": "stream",
          "name": "stdout",
          "text": [
            "              precision    recall  f1-score   support\n",
            "\n",
            "    airplane       0.75      0.61      0.67      1000\n",
            "  automobile       0.75      0.82      0.78      1000\n",
            "        bird       0.58      0.51      0.55      1000\n",
            "         cat       0.50      0.43      0.47      1000\n",
            "        deer       0.59      0.58      0.59      1000\n",
            "         dog       0.61      0.45      0.52      1000\n",
            "        frog       0.75      0.71      0.73      1000\n",
            "       horse       0.64      0.77      0.70      1000\n",
            "        ship       0.65      0.87      0.75      1000\n",
            "       truck       0.69      0.77      0.73      1000\n",
            "\n",
            "    accuracy                           0.65     10000\n",
            "   macro avg       0.65      0.65      0.65     10000\n",
            "weighted avg       0.65      0.65      0.65     10000\n",
            "\n",
            "Test set: Average loss: 0.9954, Accuracy: 6536/10000 (65.36%)\n",
            "\n",
            "Epoch 4\n"
          ]
        },
        {
          "output_type": "stream",
          "name": "stderr",
          "text": [
            "Train: Loss=1.0561 Batch_id=781 Accuracy=60.23: 100%|██████████| 782/782 [00:17<00:00, 45.78it/s]\n"
          ]
        },
        {
          "output_type": "stream",
          "name": "stdout",
          "text": [
            "              precision    recall  f1-score   support\n",
            "\n",
            "    airplane       0.72      0.73      0.72      1000\n",
            "  automobile       0.79      0.85      0.82      1000\n",
            "        bird       0.59      0.58      0.58      1000\n",
            "         cat       0.51      0.46      0.48      1000\n",
            "        deer       0.71      0.56      0.62      1000\n",
            "         dog       0.60      0.58      0.59      1000\n",
            "        frog       0.69      0.80      0.74      1000\n",
            "       horse       0.74      0.75      0.75      1000\n",
            "        ship       0.70      0.89      0.78      1000\n",
            "       truck       0.85      0.70      0.76      1000\n",
            "\n",
            "    accuracy                           0.69     10000\n",
            "   macro avg       0.69      0.69      0.69     10000\n",
            "weighted avg       0.69      0.69      0.69     10000\n",
            "\n",
            "Test set: Average loss: 0.8947, Accuracy: 6889/10000 (68.89%)\n",
            "\n",
            "Epoch 5\n"
          ]
        },
        {
          "output_type": "stream",
          "name": "stderr",
          "text": [
            "Train: Loss=1.1307 Batch_id=781 Accuracy=63.27: 100%|██████████| 782/782 [00:17<00:00, 45.42it/s]\n"
          ]
        },
        {
          "output_type": "stream",
          "name": "stdout",
          "text": [
            "              precision    recall  f1-score   support\n",
            "\n",
            "    airplane       0.75      0.78      0.77      1000\n",
            "  automobile       0.82      0.81      0.81      1000\n",
            "        bird       0.69      0.54      0.60      1000\n",
            "         cat       0.49      0.59      0.54      1000\n",
            "        deer       0.74      0.59      0.65      1000\n",
            "         dog       0.67      0.56      0.61      1000\n",
            "        frog       0.75      0.77      0.76      1000\n",
            "       horse       0.78      0.77      0.77      1000\n",
            "        ship       0.87      0.78      0.82      1000\n",
            "       truck       0.62      0.90      0.73      1000\n",
            "\n",
            "    accuracy                           0.71     10000\n",
            "   macro avg       0.72      0.71      0.71     10000\n",
            "weighted avg       0.72      0.71      0.71     10000\n",
            "\n",
            "Test set: Average loss: 0.8298, Accuracy: 7082/10000 (70.82%)\n",
            "\n",
            "Epoch 6\n"
          ]
        },
        {
          "output_type": "stream",
          "name": "stderr",
          "text": [
            "Train: Loss=0.6230 Batch_id=781 Accuracy=65.16: 100%|██████████| 782/782 [00:18<00:00, 43.19it/s]\n"
          ]
        },
        {
          "output_type": "stream",
          "name": "stdout",
          "text": [
            "              precision    recall  f1-score   support\n",
            "\n",
            "    airplane       0.75      0.76      0.75      1000\n",
            "  automobile       0.79      0.90      0.84      1000\n",
            "        bird       0.56      0.62      0.59      1000\n",
            "         cat       0.61      0.45      0.52      1000\n",
            "        deer       0.77      0.60      0.68      1000\n",
            "         dog       0.71      0.52      0.60      1000\n",
            "        frog       0.62      0.91      0.74      1000\n",
            "       horse       0.86      0.71      0.78      1000\n",
            "        ship       0.76      0.90      0.82      1000\n",
            "       truck       0.79      0.77      0.78      1000\n",
            "\n",
            "    accuracy                           0.72     10000\n",
            "   macro avg       0.72      0.72      0.71     10000\n",
            "weighted avg       0.72      0.72      0.71     10000\n",
            "\n",
            "Test set: Average loss: 0.8204, Accuracy: 7157/10000 (71.57%)\n",
            "\n",
            "Epoch 7\n"
          ]
        },
        {
          "output_type": "stream",
          "name": "stderr",
          "text": [
            "Train: Loss=1.0345 Batch_id=781 Accuracy=66.74: 100%|██████████| 782/782 [00:16<00:00, 46.34it/s]\n"
          ]
        },
        {
          "output_type": "stream",
          "name": "stdout",
          "text": [
            "              precision    recall  f1-score   support\n",
            "\n",
            "    airplane       0.77      0.79      0.78      1000\n",
            "  automobile       0.81      0.89      0.85      1000\n",
            "        bird       0.73      0.60      0.66      1000\n",
            "         cat       0.54      0.60      0.57      1000\n",
            "        deer       0.63      0.77      0.70      1000\n",
            "         dog       0.67      0.58      0.62      1000\n",
            "        frog       0.79      0.82      0.81      1000\n",
            "       horse       0.85      0.75      0.79      1000\n",
            "        ship       0.85      0.82      0.84      1000\n",
            "       truck       0.83      0.80      0.81      1000\n",
            "\n",
            "    accuracy                           0.74     10000\n",
            "   macro avg       0.75      0.74      0.74     10000\n",
            "weighted avg       0.75      0.74      0.74     10000\n",
            "\n",
            "Test set: Average loss: 0.7382, Accuracy: 7426/10000 (74.26%)\n",
            "\n",
            "Epoch 8\n"
          ]
        },
        {
          "output_type": "stream",
          "name": "stderr",
          "text": [
            "Train: Loss=1.0829 Batch_id=781 Accuracy=68.36: 100%|██████████| 782/782 [00:17<00:00, 43.94it/s]\n"
          ]
        },
        {
          "output_type": "stream",
          "name": "stdout",
          "text": [
            "              precision    recall  f1-score   support\n",
            "\n",
            "    airplane       0.82      0.74      0.78      1000\n",
            "  automobile       0.87      0.91      0.89      1000\n",
            "        bird       0.61      0.74      0.67      1000\n",
            "         cat       0.65      0.49      0.56      1000\n",
            "        deer       0.71      0.71      0.71      1000\n",
            "         dog       0.72      0.62      0.67      1000\n",
            "        frog       0.77      0.86      0.81      1000\n",
            "       horse       0.79      0.82      0.80      1000\n",
            "        ship       0.85      0.88      0.86      1000\n",
            "       truck       0.85      0.85      0.85      1000\n",
            "\n",
            "    accuracy                           0.76     10000\n",
            "   macro avg       0.76      0.76      0.76     10000\n",
            "weighted avg       0.76      0.76      0.76     10000\n",
            "\n",
            "Test set: Average loss: 0.6875, Accuracy: 7631/10000 (76.31%)\n",
            "\n",
            "Epoch 9\n"
          ]
        },
        {
          "output_type": "stream",
          "name": "stderr",
          "text": [
            "Train: Loss=1.0399 Batch_id=781 Accuracy=69.77: 100%|██████████| 782/782 [00:16<00:00, 46.54it/s]\n"
          ]
        },
        {
          "output_type": "stream",
          "name": "stdout",
          "text": [
            "              precision    recall  f1-score   support\n",
            "\n",
            "    airplane       0.78      0.76      0.77      1000\n",
            "  automobile       0.88      0.90      0.89      1000\n",
            "        bird       0.66      0.75      0.71      1000\n",
            "         cat       0.66      0.57      0.61      1000\n",
            "        deer       0.73      0.78      0.76      1000\n",
            "         dog       0.78      0.56      0.66      1000\n",
            "        frog       0.78      0.85      0.82      1000\n",
            "       horse       0.81      0.82      0.82      1000\n",
            "        ship       0.82      0.90      0.86      1000\n",
            "       truck       0.84      0.87      0.86      1000\n",
            "\n",
            "    accuracy                           0.78     10000\n",
            "   macro avg       0.78      0.78      0.77     10000\n",
            "weighted avg       0.78      0.78      0.77     10000\n",
            "\n",
            "Test set: Average loss: 0.6445, Accuracy: 7771/10000 (77.71%)\n",
            "\n",
            "Epoch 10\n"
          ]
        },
        {
          "output_type": "stream",
          "name": "stderr",
          "text": [
            "Train: Loss=0.8126 Batch_id=781 Accuracy=71.18: 100%|██████████| 782/782 [00:17<00:00, 44.64it/s]\n"
          ]
        },
        {
          "output_type": "stream",
          "name": "stdout",
          "text": [
            "              precision    recall  f1-score   support\n",
            "\n",
            "    airplane       0.76      0.87      0.81      1000\n",
            "  automobile       0.92      0.84      0.88      1000\n",
            "        bird       0.77      0.65      0.71      1000\n",
            "         cat       0.64      0.58      0.61      1000\n",
            "        deer       0.77      0.77      0.77      1000\n",
            "         dog       0.74      0.63      0.68      1000\n",
            "        frog       0.71      0.91      0.80      1000\n",
            "       horse       0.84      0.85      0.84      1000\n",
            "        ship       0.88      0.87      0.88      1000\n",
            "       truck       0.83      0.89      0.86      1000\n",
            "\n",
            "    accuracy                           0.79     10000\n",
            "   macro avg       0.79      0.79      0.78     10000\n",
            "weighted avg       0.79      0.79      0.78     10000\n",
            "\n",
            "Test set: Average loss: 0.6301, Accuracy: 7859/10000 (78.59%)\n",
            "\n",
            "Epoch 11\n"
          ]
        },
        {
          "output_type": "stream",
          "name": "stderr",
          "text": [
            "Train: Loss=0.5716 Batch_id=781 Accuracy=71.82: 100%|██████████| 782/782 [00:16<00:00, 46.50it/s]\n"
          ]
        },
        {
          "output_type": "stream",
          "name": "stdout",
          "text": [
            "              precision    recall  f1-score   support\n",
            "\n",
            "    airplane       0.79      0.82      0.80      1000\n",
            "  automobile       0.89      0.91      0.90      1000\n",
            "        bird       0.84      0.59      0.69      1000\n",
            "         cat       0.66      0.54      0.59      1000\n",
            "        deer       0.78      0.78      0.78      1000\n",
            "         dog       0.65      0.76      0.70      1000\n",
            "        frog       0.83      0.86      0.85      1000\n",
            "       horse       0.85      0.83      0.84      1000\n",
            "        ship       0.80      0.93      0.86      1000\n",
            "       truck       0.81      0.88      0.84      1000\n",
            "\n",
            "    accuracy                           0.79     10000\n",
            "   macro avg       0.79      0.79      0.79     10000\n",
            "weighted avg       0.79      0.79      0.79     10000\n",
            "\n",
            "Test set: Average loss: 0.6265, Accuracy: 7886/10000 (78.86%)\n",
            "\n",
            "Epoch 12\n"
          ]
        },
        {
          "output_type": "stream",
          "name": "stderr",
          "text": [
            "Train: Loss=0.8462 Batch_id=781 Accuracy=72.69: 100%|██████████| 782/782 [00:17<00:00, 45.90it/s]\n"
          ]
        },
        {
          "output_type": "stream",
          "name": "stdout",
          "text": [
            "              precision    recall  f1-score   support\n",
            "\n",
            "    airplane       0.78      0.85      0.81      1000\n",
            "  automobile       0.89      0.89      0.89      1000\n",
            "        bird       0.76      0.69      0.72      1000\n",
            "         cat       0.69      0.56      0.62      1000\n",
            "        deer       0.75      0.81      0.78      1000\n",
            "         dog       0.75      0.66      0.70      1000\n",
            "        frog       0.80      0.90      0.84      1000\n",
            "       horse       0.81      0.85      0.83      1000\n",
            "        ship       0.90      0.86      0.88      1000\n",
            "       truck       0.81      0.90      0.85      1000\n",
            "\n",
            "    accuracy                           0.80     10000\n",
            "   macro avg       0.79      0.80      0.79     10000\n",
            "weighted avg       0.79      0.80      0.79     10000\n",
            "\n",
            "Test set: Average loss: 0.5898, Accuracy: 7967/10000 (79.67%)\n",
            "\n",
            "Epoch 13\n"
          ]
        },
        {
          "output_type": "stream",
          "name": "stderr",
          "text": [
            "Train: Loss=1.5475 Batch_id=781 Accuracy=73.39: 100%|██████████| 782/782 [00:17<00:00, 45.30it/s]\n"
          ]
        },
        {
          "output_type": "stream",
          "name": "stdout",
          "text": [
            "              precision    recall  f1-score   support\n",
            "\n",
            "    airplane       0.79      0.86      0.82      1000\n",
            "  automobile       0.90      0.88      0.89      1000\n",
            "        bird       0.84      0.64      0.73      1000\n",
            "         cat       0.70      0.54      0.61      1000\n",
            "        deer       0.76      0.82      0.79      1000\n",
            "         dog       0.68      0.76      0.72      1000\n",
            "        frog       0.82      0.87      0.85      1000\n",
            "       horse       0.81      0.87      0.84      1000\n",
            "        ship       0.91      0.86      0.88      1000\n",
            "       truck       0.81      0.91      0.86      1000\n",
            "\n",
            "    accuracy                           0.80     10000\n",
            "   macro avg       0.80      0.80      0.80     10000\n",
            "weighted avg       0.80      0.80      0.80     10000\n",
            "\n",
            "Test set: Average loss: 0.5815, Accuracy: 8016/10000 (80.16%)\n",
            "\n",
            "Epoch 14\n"
          ]
        },
        {
          "output_type": "stream",
          "name": "stderr",
          "text": [
            "Train: Loss=0.6619 Batch_id=781 Accuracy=74.38: 100%|██████████| 782/782 [00:16<00:00, 46.37it/s]\n"
          ]
        },
        {
          "output_type": "stream",
          "name": "stdout",
          "text": [
            "              precision    recall  f1-score   support\n",
            "\n",
            "    airplane       0.79      0.83      0.81      1000\n",
            "  automobile       0.91      0.91      0.91      1000\n",
            "        bird       0.83      0.65      0.73      1000\n",
            "         cat       0.67      0.63      0.65      1000\n",
            "        deer       0.81      0.77      0.79      1000\n",
            "         dog       0.71      0.74      0.72      1000\n",
            "        frog       0.85      0.86      0.86      1000\n",
            "       horse       0.80      0.89      0.84      1000\n",
            "        ship       0.89      0.90      0.89      1000\n",
            "       truck       0.81      0.91      0.86      1000\n",
            "\n",
            "    accuracy                           0.81     10000\n",
            "   macro avg       0.81      0.81      0.81     10000\n",
            "weighted avg       0.81      0.81      0.81     10000\n",
            "\n",
            "Test set: Average loss: 0.5641, Accuracy: 8075/10000 (80.75%)\n",
            "\n",
            "Epoch 15\n"
          ]
        },
        {
          "output_type": "stream",
          "name": "stderr",
          "text": [
            "Train: Loss=0.9672 Batch_id=781 Accuracy=74.84: 100%|██████████| 782/782 [00:18<00:00, 41.27it/s]\n"
          ]
        },
        {
          "output_type": "stream",
          "name": "stdout",
          "text": [
            "              precision    recall  f1-score   support\n",
            "\n",
            "    airplane       0.83      0.84      0.84      1000\n",
            "  automobile       0.91      0.90      0.91      1000\n",
            "        bird       0.78      0.73      0.76      1000\n",
            "         cat       0.70      0.60      0.64      1000\n",
            "        deer       0.76      0.82      0.79      1000\n",
            "         dog       0.77      0.67      0.72      1000\n",
            "        frog       0.87      0.85      0.86      1000\n",
            "       horse       0.75      0.93      0.83      1000\n",
            "        ship       0.90      0.91      0.90      1000\n",
            "       truck       0.85      0.90      0.88      1000\n",
            "\n",
            "    accuracy                           0.81     10000\n",
            "   macro avg       0.81      0.81      0.81     10000\n",
            "weighted avg       0.81      0.81      0.81     10000\n",
            "\n",
            "Test set: Average loss: 0.5474, Accuracy: 8138/10000 (81.38%)\n",
            "\n",
            "Epoch 16\n"
          ]
        },
        {
          "output_type": "stream",
          "name": "stderr",
          "text": [
            "Train: Loss=0.8491 Batch_id=781 Accuracy=75.46: 100%|██████████| 782/782 [00:16<00:00, 46.45it/s]\n"
          ]
        },
        {
          "output_type": "stream",
          "name": "stdout",
          "text": [
            "              precision    recall  f1-score   support\n",
            "\n",
            "    airplane       0.79      0.89      0.84      1000\n",
            "  automobile       0.91      0.91      0.91      1000\n",
            "        bird       0.79      0.71      0.75      1000\n",
            "         cat       0.71      0.59      0.64      1000\n",
            "        deer       0.77      0.85      0.81      1000\n",
            "         dog       0.76      0.69      0.72      1000\n",
            "        frog       0.81      0.89      0.85      1000\n",
            "       horse       0.83      0.88      0.85      1000\n",
            "        ship       0.90      0.89      0.90      1000\n",
            "       truck       0.90      0.86      0.88      1000\n",
            "\n",
            "    accuracy                           0.82     10000\n",
            "   macro avg       0.82      0.82      0.82     10000\n",
            "weighted avg       0.82      0.82      0.82     10000\n",
            "\n",
            "Test set: Average loss: 0.5340, Accuracy: 8183/10000 (81.83%)\n",
            "\n",
            "Epoch 17\n"
          ]
        },
        {
          "output_type": "stream",
          "name": "stderr",
          "text": [
            "Train: Loss=0.5507 Batch_id=781 Accuracy=76.13: 100%|██████████| 782/782 [00:18<00:00, 43.29it/s]\n"
          ]
        },
        {
          "output_type": "stream",
          "name": "stdout",
          "text": [
            "              precision    recall  f1-score   support\n",
            "\n",
            "    airplane       0.81      0.83      0.82      1000\n",
            "  automobile       0.92      0.90      0.91      1000\n",
            "        bird       0.81      0.67      0.73      1000\n",
            "         cat       0.67      0.62      0.64      1000\n",
            "        deer       0.76      0.83      0.80      1000\n",
            "         dog       0.69      0.73      0.71      1000\n",
            "        frog       0.82      0.89      0.86      1000\n",
            "       horse       0.87      0.84      0.86      1000\n",
            "        ship       0.92      0.86      0.89      1000\n",
            "       truck       0.83      0.91      0.87      1000\n",
            "\n",
            "    accuracy                           0.81     10000\n",
            "   macro avg       0.81      0.81      0.81     10000\n",
            "weighted avg       0.81      0.81      0.81     10000\n",
            "\n",
            "Test set: Average loss: 0.5441, Accuracy: 8093/10000 (80.93%)\n",
            "\n",
            "Epoch 18\n"
          ]
        },
        {
          "output_type": "stream",
          "name": "stderr",
          "text": [
            "Train: Loss=0.5131 Batch_id=781 Accuracy=76.60: 100%|██████████| 782/782 [00:16<00:00, 46.71it/s]\n"
          ]
        },
        {
          "output_type": "stream",
          "name": "stdout",
          "text": [
            "              precision    recall  f1-score   support\n",
            "\n",
            "    airplane       0.84      0.83      0.83      1000\n",
            "  automobile       0.89      0.93      0.91      1000\n",
            "        bird       0.68      0.83      0.75      1000\n",
            "         cat       0.65      0.68      0.66      1000\n",
            "        deer       0.83      0.80      0.81      1000\n",
            "         dog       0.80      0.64      0.71      1000\n",
            "        frog       0.85      0.88      0.86      1000\n",
            "       horse       0.90      0.84      0.86      1000\n",
            "        ship       0.92      0.90      0.91      1000\n",
            "       truck       0.89      0.89      0.89      1000\n",
            "\n",
            "    accuracy                           0.82     10000\n",
            "   macro avg       0.82      0.82      0.82     10000\n",
            "weighted avg       0.82      0.82      0.82     10000\n",
            "\n",
            "Test set: Average loss: 0.5264, Accuracy: 8203/10000 (82.03%)\n",
            "\n",
            "Epoch 19\n"
          ]
        },
        {
          "output_type": "stream",
          "name": "stderr",
          "text": [
            "Train: Loss=0.4672 Batch_id=781 Accuracy=77.03: 100%|██████████| 782/782 [00:17<00:00, 45.47it/s]\n"
          ]
        },
        {
          "output_type": "stream",
          "name": "stdout",
          "text": [
            "              precision    recall  f1-score   support\n",
            "\n",
            "    airplane       0.82      0.86      0.84      1000\n",
            "  automobile       0.94      0.90      0.92      1000\n",
            "        bird       0.76      0.79      0.77      1000\n",
            "         cat       0.68      0.66      0.67      1000\n",
            "        deer       0.84      0.79      0.81      1000\n",
            "         dog       0.80      0.69      0.74      1000\n",
            "        frog       0.83      0.88      0.86      1000\n",
            "       horse       0.87      0.86      0.87      1000\n",
            "        ship       0.88      0.93      0.90      1000\n",
            "       truck       0.86      0.91      0.88      1000\n",
            "\n",
            "    accuracy                           0.83     10000\n",
            "   macro avg       0.83      0.83      0.83     10000\n",
            "weighted avg       0.83      0.83      0.83     10000\n",
            "\n",
            "Test set: Average loss: 0.4999, Accuracy: 8268/10000 (82.68%)\n",
            "\n",
            "Epoch 20\n"
          ]
        },
        {
          "output_type": "stream",
          "name": "stderr",
          "text": [
            "Train: Loss=0.6740 Batch_id=781 Accuracy=77.36: 100%|██████████| 782/782 [00:17<00:00, 45.82it/s]\n"
          ]
        },
        {
          "output_type": "stream",
          "name": "stdout",
          "text": [
            "              precision    recall  f1-score   support\n",
            "\n",
            "    airplane       0.87      0.81      0.84      1000\n",
            "  automobile       0.85      0.96      0.90      1000\n",
            "        bird       0.79      0.76      0.77      1000\n",
            "         cat       0.70      0.62      0.66      1000\n",
            "        deer       0.80      0.80      0.80      1000\n",
            "         dog       0.76      0.72      0.74      1000\n",
            "        frog       0.81      0.90      0.85      1000\n",
            "       horse       0.87      0.88      0.87      1000\n",
            "        ship       0.86      0.94      0.90      1000\n",
            "       truck       0.90      0.84      0.87      1000\n",
            "\n",
            "    accuracy                           0.82     10000\n",
            "   macro avg       0.82      0.82      0.82     10000\n",
            "weighted avg       0.82      0.82      0.82     10000\n",
            "\n",
            "Test set: Average loss: 0.5181, Accuracy: 8234/10000 (82.34%)\n",
            "\n",
            "Epoch 21\n"
          ]
        },
        {
          "output_type": "stream",
          "name": "stderr",
          "text": [
            "Train: Loss=0.4518 Batch_id=781 Accuracy=77.90: 100%|██████████| 782/782 [00:16<00:00, 46.11it/s]\n"
          ]
        },
        {
          "output_type": "stream",
          "name": "stdout",
          "text": [
            "              precision    recall  f1-score   support\n",
            "\n",
            "    airplane       0.84      0.85      0.84      1000\n",
            "  automobile       0.91      0.94      0.92      1000\n",
            "        bird       0.83      0.70      0.76      1000\n",
            "         cat       0.71      0.62      0.66      1000\n",
            "        deer       0.84      0.79      0.81      1000\n",
            "         dog       0.74      0.74      0.74      1000\n",
            "        frog       0.86      0.88      0.87      1000\n",
            "       horse       0.77      0.92      0.84      1000\n",
            "        ship       0.91      0.91      0.91      1000\n",
            "       truck       0.86      0.92      0.89      1000\n",
            "\n",
            "    accuracy                           0.83     10000\n",
            "   macro avg       0.83      0.83      0.83     10000\n",
            "weighted avg       0.83      0.83      0.83     10000\n",
            "\n",
            "Test set: Average loss: 0.5107, Accuracy: 8271/10000 (82.71%)\n",
            "\n",
            "Epoch 22\n"
          ]
        },
        {
          "output_type": "stream",
          "name": "stderr",
          "text": [
            "Train: Loss=0.5182 Batch_id=781 Accuracy=78.37: 100%|██████████| 782/782 [00:17<00:00, 44.09it/s]\n"
          ]
        },
        {
          "output_type": "stream",
          "name": "stdout",
          "text": [
            "              precision    recall  f1-score   support\n",
            "\n",
            "    airplane       0.77      0.90      0.83      1000\n",
            "  automobile       0.93      0.92      0.92      1000\n",
            "        bird       0.82      0.73      0.77      1000\n",
            "         cat       0.70      0.65      0.67      1000\n",
            "        deer       0.86      0.78      0.82      1000\n",
            "         dog       0.73      0.75      0.74      1000\n",
            "        frog       0.88      0.87      0.88      1000\n",
            "       horse       0.84      0.90      0.87      1000\n",
            "        ship       0.91      0.90      0.90      1000\n",
            "       truck       0.89      0.91      0.90      1000\n",
            "\n",
            "    accuracy                           0.83     10000\n",
            "   macro avg       0.83      0.83      0.83     10000\n",
            "weighted avg       0.83      0.83      0.83     10000\n",
            "\n",
            "Test set: Average loss: 0.4976, Accuracy: 8308/10000 (83.08%)\n",
            "\n",
            "Epoch 23\n"
          ]
        },
        {
          "output_type": "stream",
          "name": "stderr",
          "text": [
            "Train: Loss=0.9123 Batch_id=781 Accuracy=78.66: 100%|██████████| 782/782 [00:16<00:00, 46.18it/s]\n"
          ]
        },
        {
          "output_type": "stream",
          "name": "stdout",
          "text": [
            "              precision    recall  f1-score   support\n",
            "\n",
            "    airplane       0.81      0.90      0.85      1000\n",
            "  automobile       0.91      0.94      0.92      1000\n",
            "        bird       0.85      0.70      0.77      1000\n",
            "         cat       0.67      0.70      0.68      1000\n",
            "        deer       0.81      0.84      0.82      1000\n",
            "         dog       0.79      0.71      0.75      1000\n",
            "        frog       0.83      0.90      0.86      1000\n",
            "       horse       0.90      0.87      0.88      1000\n",
            "        ship       0.92      0.91      0.91      1000\n",
            "       truck       0.88      0.90      0.89      1000\n",
            "\n",
            "    accuracy                           0.84     10000\n",
            "   macro avg       0.84      0.84      0.83     10000\n",
            "weighted avg       0.84      0.84      0.83     10000\n",
            "\n",
            "Test set: Average loss: 0.4868, Accuracy: 8352/10000 (83.52%)\n",
            "\n",
            "Epoch 24\n"
          ]
        },
        {
          "output_type": "stream",
          "name": "stderr",
          "text": [
            "Train: Loss=0.6807 Batch_id=781 Accuracy=79.23: 100%|██████████| 782/782 [00:18<00:00, 42.58it/s]\n"
          ]
        },
        {
          "output_type": "stream",
          "name": "stdout",
          "text": [
            "              precision    recall  f1-score   support\n",
            "\n",
            "    airplane       0.85      0.87      0.86      1000\n",
            "  automobile       0.91      0.94      0.92      1000\n",
            "        bird       0.82      0.71      0.76      1000\n",
            "         cat       0.70      0.66      0.68      1000\n",
            "        deer       0.80      0.84      0.82      1000\n",
            "         dog       0.77      0.73      0.75      1000\n",
            "        frog       0.82      0.90      0.86      1000\n",
            "       horse       0.87      0.88      0.87      1000\n",
            "        ship       0.88      0.93      0.90      1000\n",
            "       truck       0.90      0.89      0.89      1000\n",
            "\n",
            "    accuracy                           0.83     10000\n",
            "   macro avg       0.83      0.83      0.83     10000\n",
            "weighted avg       0.83      0.83      0.83     10000\n",
            "\n",
            "Test set: Average loss: 0.4876, Accuracy: 8343/10000 (83.43%)\n",
            "\n",
            "Epoch 25\n"
          ]
        },
        {
          "output_type": "stream",
          "name": "stderr",
          "text": [
            "Train: Loss=1.1794 Batch_id=781 Accuracy=79.43: 100%|██████████| 782/782 [00:18<00:00, 42.66it/s]\n"
          ]
        },
        {
          "output_type": "stream",
          "name": "stdout",
          "text": [
            "              precision    recall  f1-score   support\n",
            "\n",
            "    airplane       0.83      0.86      0.85      1000\n",
            "  automobile       0.90      0.95      0.92      1000\n",
            "        bird       0.75      0.80      0.78      1000\n",
            "         cat       0.78      0.57      0.66      1000\n",
            "        deer       0.85      0.82      0.83      1000\n",
            "         dog       0.74      0.79      0.76      1000\n",
            "        frog       0.86      0.90      0.88      1000\n",
            "       horse       0.88      0.88      0.88      1000\n",
            "        ship       0.93      0.90      0.91      1000\n",
            "       truck       0.86      0.91      0.88      1000\n",
            "\n",
            "    accuracy                           0.84     10000\n",
            "   macro avg       0.84      0.84      0.84     10000\n",
            "weighted avg       0.84      0.84      0.84     10000\n",
            "\n",
            "Test set: Average loss: 0.4742, Accuracy: 8373/10000 (83.73%)\n",
            "\n",
            "Epoch 26\n"
          ]
        },
        {
          "output_type": "stream",
          "name": "stderr",
          "text": [
            "Train: Loss=0.4955 Batch_id=781 Accuracy=79.98: 100%|██████████| 782/782 [00:17<00:00, 44.35it/s]\n"
          ]
        },
        {
          "output_type": "stream",
          "name": "stdout",
          "text": [
            "              precision    recall  f1-score   support\n",
            "\n",
            "    airplane       0.83      0.87      0.85      1000\n",
            "  automobile       0.93      0.92      0.93      1000\n",
            "        bird       0.82      0.76      0.79      1000\n",
            "         cat       0.69      0.67      0.68      1000\n",
            "        deer       0.81      0.86      0.83      1000\n",
            "         dog       0.79      0.73      0.76      1000\n",
            "        frog       0.85      0.90      0.88      1000\n",
            "       horse       0.88      0.89      0.89      1000\n",
            "        ship       0.90      0.91      0.91      1000\n",
            "       truck       0.90      0.91      0.90      1000\n",
            "\n",
            "    accuracy                           0.84     10000\n",
            "   macro avg       0.84      0.84      0.84     10000\n",
            "weighted avg       0.84      0.84      0.84     10000\n",
            "\n",
            "Test set: Average loss: 0.4562, Accuracy: 8425/10000 (84.25%)\n",
            "\n",
            "Epoch 27\n"
          ]
        },
        {
          "output_type": "stream",
          "name": "stderr",
          "text": [
            "Train: Loss=0.7707 Batch_id=781 Accuracy=80.31: 100%|██████████| 782/782 [00:17<00:00, 45.82it/s]\n"
          ]
        },
        {
          "output_type": "stream",
          "name": "stdout",
          "text": [
            "              precision    recall  f1-score   support\n",
            "\n",
            "    airplane       0.83      0.88      0.85      1000\n",
            "  automobile       0.94      0.92      0.93      1000\n",
            "        bird       0.79      0.78      0.79      1000\n",
            "         cat       0.79      0.56      0.66      1000\n",
            "        deer       0.81      0.85      0.83      1000\n",
            "         dog       0.74      0.77      0.76      1000\n",
            "        frog       0.83      0.92      0.87      1000\n",
            "       horse       0.88      0.87      0.88      1000\n",
            "        ship       0.91      0.92      0.91      1000\n",
            "       truck       0.86      0.92      0.89      1000\n",
            "\n",
            "    accuracy                           0.84     10000\n",
            "   macro avg       0.84      0.84      0.84     10000\n",
            "weighted avg       0.84      0.84      0.84     10000\n",
            "\n",
            "Test set: Average loss: 0.4686, Accuracy: 8382/10000 (83.82%)\n",
            "\n",
            "Epoch 28\n"
          ]
        },
        {
          "output_type": "stream",
          "name": "stderr",
          "text": [
            "Train: Loss=0.2993 Batch_id=781 Accuracy=80.64: 100%|██████████| 782/782 [00:17<00:00, 45.97it/s]\n"
          ]
        },
        {
          "output_type": "stream",
          "name": "stdout",
          "text": [
            "              precision    recall  f1-score   support\n",
            "\n",
            "    airplane       0.81      0.90      0.85      1000\n",
            "  automobile       0.93      0.94      0.93      1000\n",
            "        bird       0.82      0.76      0.79      1000\n",
            "         cat       0.71      0.66      0.69      1000\n",
            "        deer       0.82      0.85      0.84      1000\n",
            "         dog       0.79      0.75      0.77      1000\n",
            "        frog       0.87      0.89      0.88      1000\n",
            "       horse       0.90      0.87      0.89      1000\n",
            "        ship       0.92      0.90      0.91      1000\n",
            "       truck       0.86      0.91      0.89      1000\n",
            "\n",
            "    accuracy                           0.84     10000\n",
            "   macro avg       0.84      0.84      0.84     10000\n",
            "weighted avg       0.84      0.84      0.84     10000\n",
            "\n",
            "Test set: Average loss: 0.4574, Accuracy: 8440/10000 (84.40%)\n",
            "\n",
            "Epoch 29\n"
          ]
        },
        {
          "output_type": "stream",
          "name": "stderr",
          "text": [
            "Train: Loss=0.7644 Batch_id=781 Accuracy=81.38: 100%|██████████| 782/782 [00:17<00:00, 45.21it/s]\n"
          ]
        },
        {
          "output_type": "stream",
          "name": "stdout",
          "text": [
            "              precision    recall  f1-score   support\n",
            "\n",
            "    airplane       0.86      0.85      0.86      1000\n",
            "  automobile       0.92      0.93      0.93      1000\n",
            "        bird       0.81      0.77      0.79      1000\n",
            "         cat       0.72      0.65      0.69      1000\n",
            "        deer       0.84      0.82      0.83      1000\n",
            "         dog       0.79      0.75      0.77      1000\n",
            "        frog       0.81      0.92      0.86      1000\n",
            "       horse       0.89      0.88      0.89      1000\n",
            "        ship       0.89      0.93      0.91      1000\n",
            "       truck       0.87      0.92      0.89      1000\n",
            "\n",
            "    accuracy                           0.84     10000\n",
            "   macro avg       0.84      0.84      0.84     10000\n",
            "weighted avg       0.84      0.84      0.84     10000\n",
            "\n",
            "Test set: Average loss: 0.4557, Accuracy: 8429/10000 (84.29%)\n",
            "\n",
            "Epoch 30\n"
          ]
        },
        {
          "output_type": "stream",
          "name": "stderr",
          "text": [
            "Train: Loss=0.8071 Batch_id=781 Accuracy=81.72: 100%|██████████| 782/782 [00:17<00:00, 45.08it/s]\n"
          ]
        },
        {
          "output_type": "stream",
          "name": "stdout",
          "text": [
            "              precision    recall  f1-score   support\n",
            "\n",
            "    airplane       0.86      0.88      0.87      1000\n",
            "  automobile       0.92      0.94      0.93      1000\n",
            "        bird       0.80      0.80      0.80      1000\n",
            "         cat       0.74      0.67      0.70      1000\n",
            "        deer       0.83      0.84      0.84      1000\n",
            "         dog       0.80      0.76      0.78      1000\n",
            "        frog       0.87      0.90      0.88      1000\n",
            "       horse       0.88      0.89      0.88      1000\n",
            "        ship       0.91      0.92      0.92      1000\n",
            "       truck       0.89      0.91      0.90      1000\n",
            "\n",
            "    accuracy                           0.85     10000\n",
            "   macro avg       0.85      0.85      0.85     10000\n",
            "weighted avg       0.85      0.85      0.85     10000\n",
            "\n",
            "Test set: Average loss: 0.4459, Accuracy: 8513/10000 (85.13%)\n",
            "\n",
            "Epoch 31\n"
          ]
        },
        {
          "output_type": "stream",
          "name": "stderr",
          "text": [
            "Train: Loss=0.6057 Batch_id=781 Accuracy=81.93: 100%|██████████| 782/782 [00:17<00:00, 44.37it/s]\n"
          ]
        },
        {
          "output_type": "stream",
          "name": "stdout",
          "text": [
            "              precision    recall  f1-score   support\n",
            "\n",
            "    airplane       0.86      0.88      0.87      1000\n",
            "  automobile       0.92      0.94      0.93      1000\n",
            "        bird       0.81      0.78      0.80      1000\n",
            "         cat       0.69      0.69      0.69      1000\n",
            "        deer       0.85      0.82      0.83      1000\n",
            "         dog       0.82      0.73      0.77      1000\n",
            "        frog       0.85      0.90      0.88      1000\n",
            "       horse       0.89      0.89      0.89      1000\n",
            "        ship       0.90      0.93      0.91      1000\n",
            "       truck       0.88      0.92      0.90      1000\n",
            "\n",
            "    accuracy                           0.85     10000\n",
            "   macro avg       0.85      0.85      0.85     10000\n",
            "weighted avg       0.85      0.85      0.85     10000\n",
            "\n",
            "Test set: Average loss: 0.4456, Accuracy: 8485/10000 (84.85%)\n",
            "\n",
            "Epoch 32\n"
          ]
        },
        {
          "output_type": "stream",
          "name": "stderr",
          "text": [
            "Train: Loss=0.6870 Batch_id=781 Accuracy=82.37: 100%|██████████| 782/782 [00:17<00:00, 46.00it/s]\n"
          ]
        },
        {
          "output_type": "stream",
          "name": "stdout",
          "text": [
            "              precision    recall  f1-score   support\n",
            "\n",
            "    airplane       0.85      0.89      0.87      1000\n",
            "  automobile       0.94      0.92      0.93      1000\n",
            "        bird       0.83      0.76      0.79      1000\n",
            "         cat       0.71      0.70      0.70      1000\n",
            "        deer       0.83      0.84      0.83      1000\n",
            "         dog       0.79      0.75      0.77      1000\n",
            "        frog       0.87      0.90      0.88      1000\n",
            "       horse       0.87      0.89      0.88      1000\n",
            "        ship       0.91      0.92      0.92      1000\n",
            "       truck       0.88      0.93      0.90      1000\n",
            "\n",
            "    accuracy                           0.85     10000\n",
            "   macro avg       0.85      0.85      0.85     10000\n",
            "weighted avg       0.85      0.85      0.85     10000\n",
            "\n",
            "Test set: Average loss: 0.4395, Accuracy: 8492/10000 (84.92%)\n",
            "\n",
            "Epoch 33\n"
          ]
        },
        {
          "output_type": "stream",
          "name": "stderr",
          "text": [
            "Train: Loss=0.6690 Batch_id=781 Accuracy=82.73: 100%|██████████| 782/782 [00:18<00:00, 42.29it/s]\n"
          ]
        },
        {
          "output_type": "stream",
          "name": "stdout",
          "text": [
            "              precision    recall  f1-score   support\n",
            "\n",
            "    airplane       0.86      0.89      0.87      1000\n",
            "  automobile       0.92      0.95      0.93      1000\n",
            "        bird       0.81      0.78      0.80      1000\n",
            "         cat       0.76      0.64      0.69      1000\n",
            "        deer       0.85      0.84      0.84      1000\n",
            "         dog       0.77      0.77      0.77      1000\n",
            "        frog       0.86      0.91      0.88      1000\n",
            "       horse       0.88      0.90      0.89      1000\n",
            "        ship       0.91      0.93      0.92      1000\n",
            "       truck       0.88      0.92      0.90      1000\n",
            "\n",
            "    accuracy                           0.85     10000\n",
            "   macro avg       0.85      0.85      0.85     10000\n",
            "weighted avg       0.85      0.85      0.85     10000\n",
            "\n",
            "Test set: Average loss: 0.4412, Accuracy: 8509/10000 (85.09%)\n",
            "\n",
            "Epoch 34\n"
          ]
        },
        {
          "output_type": "stream",
          "name": "stderr",
          "text": [
            "Train: Loss=0.5991 Batch_id=781 Accuracy=83.10: 100%|██████████| 782/782 [00:17<00:00, 45.87it/s]\n"
          ]
        },
        {
          "output_type": "stream",
          "name": "stdout",
          "text": [
            "              precision    recall  f1-score   support\n",
            "\n",
            "    airplane       0.86      0.88      0.87      1000\n",
            "  automobile       0.93      0.94      0.94      1000\n",
            "        bird       0.82      0.78      0.80      1000\n",
            "         cat       0.76      0.67      0.71      1000\n",
            "        deer       0.84      0.85      0.85      1000\n",
            "         dog       0.79      0.78      0.78      1000\n",
            "        frog       0.87      0.90      0.88      1000\n",
            "       horse       0.88      0.91      0.89      1000\n",
            "        ship       0.91      0.93      0.92      1000\n",
            "       truck       0.88      0.92      0.90      1000\n",
            "\n",
            "    accuracy                           0.86     10000\n",
            "   macro avg       0.85      0.86      0.85     10000\n",
            "weighted avg       0.85      0.86      0.85     10000\n",
            "\n",
            "Test set: Average loss: 0.4276, Accuracy: 8551/10000 (85.51%)\n",
            "\n",
            "Epoch 35\n"
          ]
        },
        {
          "output_type": "stream",
          "name": "stderr",
          "text": [
            "Train: Loss=0.8475 Batch_id=781 Accuracy=83.18: 100%|██████████| 782/782 [00:19<00:00, 40.51it/s]\n"
          ]
        },
        {
          "output_type": "stream",
          "name": "stdout",
          "text": [
            "              precision    recall  f1-score   support\n",
            "\n",
            "    airplane       0.87      0.88      0.87      1000\n",
            "  automobile       0.93      0.94      0.94      1000\n",
            "        bird       0.82      0.78      0.80      1000\n",
            "         cat       0.74      0.69      0.71      1000\n",
            "        deer       0.84      0.84      0.84      1000\n",
            "         dog       0.80      0.77      0.78      1000\n",
            "        frog       0.85      0.91      0.88      1000\n",
            "       horse       0.89      0.90      0.89      1000\n",
            "        ship       0.92      0.92      0.92      1000\n",
            "       truck       0.89      0.92      0.91      1000\n",
            "\n",
            "    accuracy                           0.86     10000\n",
            "   macro avg       0.85      0.86      0.85     10000\n",
            "weighted avg       0.85      0.86      0.85     10000\n",
            "\n",
            "Test set: Average loss: 0.4253, Accuracy: 8560/10000 (85.60%)\n",
            "\n"
          ]
        }
      ]
    },
    {
      "cell_type": "code",
      "source": [
        "df_misclassified = pd.DataFrame(metrics['misclassified_data'])"
      ],
      "metadata": {
        "id": "NkQiWbSSxH_M"
      },
      "execution_count": null,
      "outputs": []
    },
    {
      "cell_type": "code",
      "source": [
        "df_misclassified.sample(n=10)"
      ],
      "metadata": {
        "colab": {
          "base_uri": "https://localhost:8080/",
          "height": 363
        },
        "id": "0JT6sDOYl8cz",
        "outputId": "c6e16c7c-ae64-4041-f216-b228e46d0133"
      },
      "execution_count": 435,
      "outputs": [
        {
          "output_type": "execute_result",
          "data": {
            "text/plain": [
              "      pred  actual                                               data\n",
              "1125     5       2  [[[-0.14774506, -0.115995616, -0.0048725586, 0...\n",
              "532      2       0  [[[1.8842195, 1.9477184, 2.0112174, 2.0429666,...\n",
              "985      8       0  [[[0.55074275, 0.55074275, 0.63011634, 0.70949...\n",
              "333      5       3  [[[0.32849663, 0.4554944, 0.63011634, 0.661865...\n",
              "1313     4       3  [[[-0.43349007, -0.22711869, -0.19536923, -0.2...\n",
              "1324     3       4  [[[0.4554944, 0.3761208, 0.70949, 0.9476108, 0...\n",
              "1288     4       2  [[[0.18562412, 0.058626335, 0.07450106, 0.4237...\n",
              "190      8       0  [[[1.5032262, 1.4714767, 1.5191009, 1.566725, ...\n",
              "890      2       5  [[[-0.35411647, -0.90973175, -0.97323066, 0.09...\n",
              "773      4       3  [[[-1.9098393, -1.9098393, -1.9098393, -1.9098..."
            ],
            "text/html": [
              "\n",
              "  <div id=\"df-a16a1822-ef6a-4b16-b5e4-7fdbc5b8a119\">\n",
              "    <div class=\"colab-df-container\">\n",
              "      <div>\n",
              "<style scoped>\n",
              "    .dataframe tbody tr th:only-of-type {\n",
              "        vertical-align: middle;\n",
              "    }\n",
              "\n",
              "    .dataframe tbody tr th {\n",
              "        vertical-align: top;\n",
              "    }\n",
              "\n",
              "    .dataframe thead th {\n",
              "        text-align: right;\n",
              "    }\n",
              "</style>\n",
              "<table border=\"1\" class=\"dataframe\">\n",
              "  <thead>\n",
              "    <tr style=\"text-align: right;\">\n",
              "      <th></th>\n",
              "      <th>pred</th>\n",
              "      <th>actual</th>\n",
              "      <th>data</th>\n",
              "    </tr>\n",
              "  </thead>\n",
              "  <tbody>\n",
              "    <tr>\n",
              "      <th>1125</th>\n",
              "      <td>5</td>\n",
              "      <td>2</td>\n",
              "      <td>[[[-0.14774506, -0.115995616, -0.0048725586, 0...</td>\n",
              "    </tr>\n",
              "    <tr>\n",
              "      <th>532</th>\n",
              "      <td>2</td>\n",
              "      <td>0</td>\n",
              "      <td>[[[1.8842195, 1.9477184, 2.0112174, 2.0429666,...</td>\n",
              "    </tr>\n",
              "    <tr>\n",
              "      <th>985</th>\n",
              "      <td>8</td>\n",
              "      <td>0</td>\n",
              "      <td>[[[0.55074275, 0.55074275, 0.63011634, 0.70949...</td>\n",
              "    </tr>\n",
              "    <tr>\n",
              "      <th>333</th>\n",
              "      <td>5</td>\n",
              "      <td>3</td>\n",
              "      <td>[[[0.32849663, 0.4554944, 0.63011634, 0.661865...</td>\n",
              "    </tr>\n",
              "    <tr>\n",
              "      <th>1313</th>\n",
              "      <td>4</td>\n",
              "      <td>3</td>\n",
              "      <td>[[[-0.43349007, -0.22711869, -0.19536923, -0.2...</td>\n",
              "    </tr>\n",
              "    <tr>\n",
              "      <th>1324</th>\n",
              "      <td>3</td>\n",
              "      <td>4</td>\n",
              "      <td>[[[0.4554944, 0.3761208, 0.70949, 0.9476108, 0...</td>\n",
              "    </tr>\n",
              "    <tr>\n",
              "      <th>1288</th>\n",
              "      <td>4</td>\n",
              "      <td>2</td>\n",
              "      <td>[[[0.18562412, 0.058626335, 0.07450106, 0.4237...</td>\n",
              "    </tr>\n",
              "    <tr>\n",
              "      <th>190</th>\n",
              "      <td>8</td>\n",
              "      <td>0</td>\n",
              "      <td>[[[1.5032262, 1.4714767, 1.5191009, 1.566725, ...</td>\n",
              "    </tr>\n",
              "    <tr>\n",
              "      <th>890</th>\n",
              "      <td>2</td>\n",
              "      <td>5</td>\n",
              "      <td>[[[-0.35411647, -0.90973175, -0.97323066, 0.09...</td>\n",
              "    </tr>\n",
              "    <tr>\n",
              "      <th>773</th>\n",
              "      <td>4</td>\n",
              "      <td>3</td>\n",
              "      <td>[[[-1.9098393, -1.9098393, -1.9098393, -1.9098...</td>\n",
              "    </tr>\n",
              "  </tbody>\n",
              "</table>\n",
              "</div>\n",
              "      <button class=\"colab-df-convert\" onclick=\"convertToInteractive('df-a16a1822-ef6a-4b16-b5e4-7fdbc5b8a119')\"\n",
              "              title=\"Convert this dataframe to an interactive table.\"\n",
              "              style=\"display:none;\">\n",
              "        \n",
              "  <svg xmlns=\"http://www.w3.org/2000/svg\" height=\"24px\"viewBox=\"0 0 24 24\"\n",
              "       width=\"24px\">\n",
              "    <path d=\"M0 0h24v24H0V0z\" fill=\"none\"/>\n",
              "    <path d=\"M18.56 5.44l.94 2.06.94-2.06 2.06-.94-2.06-.94-.94-2.06-.94 2.06-2.06.94zm-11 1L8.5 8.5l.94-2.06 2.06-.94-2.06-.94L8.5 2.5l-.94 2.06-2.06.94zm10 10l.94 2.06.94-2.06 2.06-.94-2.06-.94-.94-2.06-.94 2.06-2.06.94z\"/><path d=\"M17.41 7.96l-1.37-1.37c-.4-.4-.92-.59-1.43-.59-.52 0-1.04.2-1.43.59L10.3 9.45l-7.72 7.72c-.78.78-.78 2.05 0 2.83L4 21.41c.39.39.9.59 1.41.59.51 0 1.02-.2 1.41-.59l7.78-7.78 2.81-2.81c.8-.78.8-2.07 0-2.86zM5.41 20L4 18.59l7.72-7.72 1.47 1.35L5.41 20z\"/>\n",
              "  </svg>\n",
              "      </button>\n",
              "      \n",
              "  <style>\n",
              "    .colab-df-container {\n",
              "      display:flex;\n",
              "      flex-wrap:wrap;\n",
              "      gap: 12px;\n",
              "    }\n",
              "\n",
              "    .colab-df-convert {\n",
              "      background-color: #E8F0FE;\n",
              "      border: none;\n",
              "      border-radius: 50%;\n",
              "      cursor: pointer;\n",
              "      display: none;\n",
              "      fill: #1967D2;\n",
              "      height: 32px;\n",
              "      padding: 0 0 0 0;\n",
              "      width: 32px;\n",
              "    }\n",
              "\n",
              "    .colab-df-convert:hover {\n",
              "      background-color: #E2EBFA;\n",
              "      box-shadow: 0px 1px 2px rgba(60, 64, 67, 0.3), 0px 1px 3px 1px rgba(60, 64, 67, 0.15);\n",
              "      fill: #174EA6;\n",
              "    }\n",
              "\n",
              "    [theme=dark] .colab-df-convert {\n",
              "      background-color: #3B4455;\n",
              "      fill: #D2E3FC;\n",
              "    }\n",
              "\n",
              "    [theme=dark] .colab-df-convert:hover {\n",
              "      background-color: #434B5C;\n",
              "      box-shadow: 0px 1px 3px 1px rgba(0, 0, 0, 0.15);\n",
              "      filter: drop-shadow(0px 1px 2px rgba(0, 0, 0, 0.3));\n",
              "      fill: #FFFFFF;\n",
              "    }\n",
              "  </style>\n",
              "\n",
              "      <script>\n",
              "        const buttonEl =\n",
              "          document.querySelector('#df-a16a1822-ef6a-4b16-b5e4-7fdbc5b8a119 button.colab-df-convert');\n",
              "        buttonEl.style.display =\n",
              "          google.colab.kernel.accessAllowed ? 'block' : 'none';\n",
              "\n",
              "        async function convertToInteractive(key) {\n",
              "          const element = document.querySelector('#df-a16a1822-ef6a-4b16-b5e4-7fdbc5b8a119');\n",
              "          const dataTable =\n",
              "            await google.colab.kernel.invokeFunction('convertToInteractive',\n",
              "                                                     [key], {});\n",
              "          if (!dataTable) return;\n",
              "\n",
              "          const docLinkHtml = 'Like what you see? Visit the ' +\n",
              "            '<a target=\"_blank\" href=https://colab.research.google.com/notebooks/data_table.ipynb>data table notebook</a>'\n",
              "            + ' to learn more about interactive tables.';\n",
              "          element.innerHTML = '';\n",
              "          dataTable['output_type'] = 'display_data';\n",
              "          await google.colab.output.renderOutput(dataTable, element);\n",
              "          const docLink = document.createElement('div');\n",
              "          docLink.innerHTML = docLinkHtml;\n",
              "          element.appendChild(docLink);\n",
              "        }\n",
              "      </script>\n",
              "    </div>\n",
              "  </div>\n",
              "  "
            ]
          },
          "metadata": {},
          "execution_count": 435
        }
      ]
    },
    {
      "cell_type": "code",
      "source": [
        "import matplotlib.pyplot as plt\n",
        "\n",
        "fig = plt.figure(figsize=(12, 5))\n",
        "\n",
        "for i, row in df_misclassified.sample(n=10).reset_index(drop=True).iterrows():\n",
        "    ax = plt.subplot(2, 5, i+1)\n",
        "    plt.axis('off')\n",
        "\n",
        "    img = row['data']\n",
        "    img = (img - img.min()) / (img.max() - img.min())\n",
        "    img = np.moveaxis(img * 255, [0, 1, 2], [2, 0, 1])\n",
        "    plt.imshow(img.astype(int), cmap='jet')\n",
        "\n",
        "    ax.set_title(f\"actual: {labels[row['actual']]} \\n predicted: {labels[row['pred']]}\")\n",
        "\n",
        "plt.show()\n",
        "plt.savefig('failed_ln.jpg')"
      ],
      "metadata": {
        "colab": {
          "base_uri": "https://localhost:8080/",
          "height": 468
        },
        "id": "DWhMj9tcmuG-",
        "outputId": "680ff915-400e-470c-85c1-a90585ca23a2"
      },
      "execution_count": 421,
      "outputs": [
        {
          "output_type": "display_data",
          "data": {
            "text/plain": [
              "<Figure size 1200x500 with 10 Axes>"
            ],
            "image/png": "[encoded data removed]"
          },
          "metadata": {}
        },
        {
          "output_type": "display_data",
          "data": {
            "text/plain": [
              "<Figure size 640x480 with 0 Axes>"
            ]
          },
          "metadata": {}
        }
      ]
    },
    {
      "cell_type": "markdown",
      "source": [
        "## Display Results"
      ],
      "metadata": {
        "id": "xVXP0fKFzj1Z"
      }
    },
    {
      "cell_type": "code",
      "source": [
        "df = pd.DataFrame({'train_losses': metrics['train_losses'], 'test_losses': metrics['test_losses']})"
      ],
      "metadata": {
        "id": "qBXxW_lx4rM6"
      },
      "execution_count": 422,
      "outputs": []
    },
    {
      "cell_type": "code",
      "source": [
        "df.plot()"
      ],
      "metadata": {
        "colab": {
          "base_uri": "https://localhost:8080/",
          "height": 542
        },
        "id": "wEXQxw4wTjHN",
        "outputId": "fac93e94-f929-4073-8481-470d1c7f9b07"
      },
      "execution_count": 423,
      "outputs": [
        {
          "output_type": "display_data",
          "data": {
            "text/html": [
              "<html>\n",
              "<head><meta charset=\"utf-8\" /></head>\n",
              "<body>\n",
              "    <div>            <script src=\"https://cdnjs.cloudflare.com/ajax/libs/mathjax/2.7.5/MathJax.js?config=TeX-AMS-MML_SVG\"></script><script type=\"text/javascript\">if (window.MathJax && window.MathJax.Hub && window.MathJax.Hub.Config) {window.MathJax.Hub.Config({SVG: {font: \"STIX-Web\"}});}</script>                <script type=\"text/javascript\">window.PlotlyConfig = {MathJaxConfig: 'local'};</script>\n",
              "        <script src=\"https://cdn.plot.ly/plotly-2.18.2.min.js\"></script>                <div id=\"fc30d5f2-15c1-4101-9ef1-345bbc0c9623\" class=\"plotly-graph-div\" style=\"height:525px; width:100%;\"></div>            <script type=\"text/javascript\">                                    window.PLOTLYENV=window.PLOTLYENV || {};                                    if (document.getElementById(\"fc30d5f2-15c1-4101-9ef1-345bbc0c9623\")) {                    Plotly.newPlot(                        \"fc30d5f2-15c1-4101-9ef1-345bbc0c9623\",                        [{\"hovertemplate\":\"variable=train_losses<br>index=%{x}<br>value=%{y}<extra></extra>\",\"legendgroup\":\"train_losses\",\"line\":{\"color\":\"#636efa\",\"dash\":\"solid\"},\"marker\":{\"symbol\":\"circle\"},\"mode\":\"lines\",\"name\":\"train_losses\",\"orientation\":\"v\",\"showlegend\":true,\"x\":[0,1,2,3,4,5,6,7,8,9,10,11,12,13,14,15,16,17,18,19,20,21,22,23,24,25,26,27,28,29,30,31,32,33,34],\"xaxis\":\"x\",\"y\":[1.7361653404467552,1.395588920092034,1.2393997865717123,1.1301792639753092,1.0604983669565158,1.0074793829789856,0.9552245874843939,0.9184866325019876,0.872163827690627,0.8420293493877591,0.8099341043807051,0.7901374719408162,0.7705539876161633,0.7423859895266536,0.7269117928222012,0.7091731426051205,0.6996801489835505,0.6791795404137247,0.6690845128215487,0.6584648461369298,0.6401992281303381,0.6252966017826743,0.6138624282901549,0.6028295918498807,0.592274327336065,0.5828403125105002,0.5664234651095422,0.5558971716543598,0.5525801132630814,0.5328503206677144,0.5254205039623753,0.5161894420376214,0.5103856185856073,0.49793698242329576,0.48778605748854026],\"yaxis\":\"y\",\"type\":\"scatter\"},{\"hovertemplate\":\"variable=test_losses<br>index=%{x}<br>value=%{y}<extra></extra>\",\"legendgroup\":\"test_losses\",\"line\":{\"color\":\"#EF553B\",\"dash\":\"solid\"},\"marker\":{\"symbol\":\"circle\"},\"mode\":\"lines\",\"name\":\"test_losses\",\"orientation\":\"v\",\"showlegend\":true,\"x\":[0,1,2,3,4,5,6,7,8,9,10,11,12,13,14,15,16,17,18,19,20,21,22,23,24,25,26,27,28,29,30,31,32,33,34],\"xaxis\":\"x\",\"y\":[1.376719803237915,1.1339698122024535,0.9921038994789123,0.9028643291473388,0.8256269813537598,0.8384888257980346,0.7605096518516541,0.7007872676849365,0.6694816079139709,0.6227322458267212,0.6274249488830567,0.6209003428459168,0.5864707132339477,0.5700955235481262,0.5584190580368043,0.5766956497192383,0.564763026714325,0.5475521186828614,0.5268486305236817,0.5379576608657837,0.5291693870067596,0.5084766345977784,0.5044460812568664,0.5070061549186706,0.49555570755004885,0.5018767497062683,0.48640915603637697,0.48885506081581115,0.48280848960876466,0.47050613098144534,0.46333869795799254,0.4626098693847656,0.4587084144592285,0.45096552839279175,0.4513785029411316],\"yaxis\":\"y\",\"type\":\"scatter\"}],                        {\"template\":{\"data\":{\"histogram2dcontour\":[{\"type\":\"histogram2dcontour\",\"colorbar\":{\"outlinewidth\":0,\"ticks\":\"\"},\"colorscale\":[[0.0,\"#0d0887\"],[0.1111111111111111,\"#46039f\"],[0.2222222222222222,\"#7201a8\"],[0.3333333333333333,\"#9c179e\"],[0.4444444444444444,\"#bd3786\"],[0.5555555555555556,\"#d8576b\"],[0.6666666666666666,\"#ed7953\"],[0.7777777777777778,\"#fb9f3a\"],[0.8888888888888888,\"#fdca26\"],[1.0,\"#f0f921\"]]}],\"choropleth\":[{\"type\":\"choropleth\",\"colorbar\":{\"outlinewidth\":0,\"ticks\":\"\"}}],\"histogram2d\":[{\"type\":\"histogram2d\",\"colorbar\":{\"outlinewidth\":0,\"ticks\":\"\"},\"colorscale\":[[0.0,\"#0d0887\"],[0.1111111111111111,\"#46039f\"],[0.2222222222222222,\"#7201a8\"],[0.3333333333333333,\"#9c179e\"],[0.4444444444444444,\"#bd3786\"],[0.5555555555555556,\"#d8576b\"],[0.6666666666666666,\"#ed7953\"],[0.7777777777777778,\"#fb9f3a\"],[0.8888888888888888,\"#fdca26\"],[1.0,\"#f0f921\"]]}],\"heatmap\":[{\"type\":\"heatmap\",\"colorbar\":{\"outlinewidth\":0,\"ticks\":\"\"},\"colorscale\":[[0.0,\"#0d0887\"],[0.1111111111111111,\"#46039f\"],[0.2222222222222222,\"#7201a8\"],[0.3333333333333333,\"#9c179e\"],[0.4444444444444444,\"#bd3786\"],[0.5555555555555556,\"#d8576b\"],[0.6666666666666666,\"#ed7953\"],[0.7777777777777778,\"#fb9f3a\"],[0.8888888888888888,\"#fdca26\"],[1.0,\"#f0f921\"]]}],\"heatmapgl\":[{\"type\":\"heatmapgl\",\"colorbar\":{\"outlinewidth\":0,\"ticks\":\"\"},\"colorscale\":[[0.0,\"#0d0887\"],[0.1111111111111111,\"#46039f\"],[0.2222222222222222,\"#7201a8\"],[0.3333333333333333,\"#9c179e\"],[0.4444444444444444,\"#bd3786\"],[0.5555555555555556,\"#d8576b\"],[0.6666666666666666,\"#ed7953\"],[0.7777777777777778,\"#fb9f3a\"],[0.8888888888888888,\"#fdca26\"],[1.0,\"#f0f921\"]]}],\"contourcarpet\":[{\"type\":\"contourcarpet\",\"colorbar\":{\"outlinewidth\":0,\"ticks\":\"\"}}],\"contour\":[{\"type\":\"contour\",\"colorbar\":{\"outlinewidth\":0,\"ticks\":\"\"},\"colorscale\":[[0.0,\"#0d0887\"],[0.1111111111111111,\"#46039f\"],[0.2222222222222222,\"#7201a8\"],[0.3333333333333333,\"#9c179e\"],[0.4444444444444444,\"#bd3786\"],[0.5555555555555556,\"#d8576b\"],[0.6666666666666666,\"#ed7953\"],[0.7777777777777778,\"#fb9f3a\"],[0.8888888888888888,\"#fdca26\"],[1.0,\"#f0f921\"]]}],\"surface\":[{\"type\":\"surface\",\"colorbar\":{\"outlinewidth\":0,\"ticks\":\"\"},\"colorscale\":[[0.0,\"#0d0887\"],[0.1111111111111111,\"#46039f\"],[0.2222222222222222,\"#7201a8\"],[0.3333333333333333,\"#9c179e\"],[0.4444444444444444,\"#bd3786\"],[0.5555555555555556,\"#d8576b\"],[0.6666666666666666,\"#ed7953\"],[0.7777777777777778,\"#fb9f3a\"],[0.8888888888888888,\"#fdca26\"],[1.0,\"#f0f921\"]]}],\"mesh3d\":[{\"type\":\"mesh3d\",\"colorbar\":{\"outlinewidth\":0,\"ticks\":\"\"}}],\"scatter\":[{\"fillpattern\":{\"fillmode\":\"overlay\",\"size\":10,\"solidity\":0.2},\"type\":\"scatter\"}],\"parcoords\":[{\"type\":\"parcoords\",\"line\":{\"colorbar\":{\"outlinewidth\":0,\"ticks\":\"\"}}}],\"scatterpolargl\":[{\"type\":\"scatterpolargl\",\"marker\":{\"colorbar\":{\"outlinewidth\":0,\"ticks\":\"\"}}}],\"bar\":[{\"error_x\":{\"color\":\"#2a3f5f\"},\"error_y\":{\"color\":\"#2a3f5f\"},\"marker\":{\"line\":{\"color\":\"#E5ECF6\",\"width\":0.5},\"pattern\":{\"fillmode\":\"overlay\",\"size\":10,\"solidity\":0.2}},\"type\":\"bar\"}],\"scattergeo\":[{\"type\":\"scattergeo\",\"marker\":{\"colorbar\":{\"outlinewidth\":0,\"ticks\":\"\"}}}],\"scatterpolar\":[{\"type\":\"scatterpolar\",\"marker\":{\"colorbar\":{\"outlinewidth\":0,\"ticks\":\"\"}}}],\"histogram\":[{\"marker\":{\"pattern\":{\"fillmode\":\"overlay\",\"size\":10,\"solidity\":0.2}},\"type\":\"histogram\"}],\"scattergl\":[{\"type\":\"scattergl\",\"marker\":{\"colorbar\":{\"outlinewidth\":0,\"ticks\":\"\"}}}],\"scatter3d\":[{\"type\":\"scatter3d\",\"line\":{\"colorbar\":{\"outlinewidth\":0,\"ticks\":\"\"}},\"marker\":{\"colorbar\":{\"outlinewidth\":0,\"ticks\":\"\"}}}],\"scattermapbox\":[{\"type\":\"scattermapbox\",\"marker\":{\"colorbar\":{\"outlinewidth\":0,\"ticks\":\"\"}}}],\"scatterternary\":[{\"type\":\"scatterternary\",\"marker\":{\"colorbar\":{\"outlinewidth\":0,\"ticks\":\"\"}}}],\"scattercarpet\":[{\"type\":\"scattercarpet\",\"marker\":{\"colorbar\":{\"outlinewidth\":0,\"ticks\":\"\"}}}],\"carpet\":[{\"aaxis\":{\"endlinecolor\":\"#2a3f5f\",\"gridcolor\":\"white\",\"linecolor\":\"white\",\"minorgridcolor\":\"white\",\"startlinecolor\":\"#2a3f5f\"},\"baxis\":{\"endlinecolor\":\"#2a3f5f\",\"gridcolor\":\"white\",\"linecolor\":\"white\",\"minorgridcolor\":\"white\",\"startlinecolor\":\"#2a3f5f\"},\"type\":\"carpet\"}],\"table\":[{\"cells\":{\"fill\":{\"color\":\"#EBF0F8\"},\"line\":{\"color\":\"white\"}},\"header\":{\"fill\":{\"color\":\"#C8D4E3\"},\"line\":{\"color\":\"white\"}},\"type\":\"table\"}],\"barpolar\":[{\"marker\":{\"line\":{\"color\":\"#E5ECF6\",\"width\":0.5},\"pattern\":{\"fillmode\":\"overlay\",\"size\":10,\"solidity\":0.2}},\"type\":\"barpolar\"}],\"pie\":[{\"automargin\":true,\"type\":\"pie\"}]},\"layout\":{\"autotypenumbers\":\"strict\",\"colorway\":[\"#636efa\",\"#EF553B\",\"#00cc96\",\"#ab63fa\",\"#FFA15A\",\"#19d3f3\",\"#FF6692\",\"#B6E880\",\"#FF97FF\",\"#FECB52\"],\"font\":{\"color\":\"#2a3f5f\"},\"hovermode\":\"closest\",\"hoverlabel\":{\"align\":\"left\"},\"paper_bgcolor\":\"white\",\"plot_bgcolor\":\"#E5ECF6\",\"polar\":{\"bgcolor\":\"#E5ECF6\",\"angularaxis\":{\"gridcolor\":\"white\",\"linecolor\":\"white\",\"ticks\":\"\"},\"radialaxis\":{\"gridcolor\":\"white\",\"linecolor\":\"white\",\"ticks\":\"\"}},\"ternary\":{\"bgcolor\":\"#E5ECF6\",\"aaxis\":{\"gridcolor\":\"white\",\"linecolor\":\"white\",\"ticks\":\"\"},\"baxis\":{\"gridcolor\":\"white\",\"linecolor\":\"white\",\"ticks\":\"\"},\"caxis\":{\"gridcolor\":\"white\",\"linecolor\":\"white\",\"ticks\":\"\"}},\"coloraxis\":{\"colorbar\":{\"outlinewidth\":0,\"ticks\":\"\"}},\"colorscale\":{\"sequential\":[[0.0,\"#0d0887\"],[0.1111111111111111,\"#46039f\"],[0.2222222222222222,\"#7201a8\"],[0.3333333333333333,\"#9c179e\"],[0.4444444444444444,\"#bd3786\"],[0.5555555555555556,\"#d8576b\"],[0.6666666666666666,\"#ed7953\"],[0.7777777777777778,\"#fb9f3a\"],[0.8888888888888888,\"#fdca26\"],[1.0,\"#f0f921\"]],\"sequentialminus\":[[0.0,\"#0d0887\"],[0.1111111111111111,\"#46039f\"],[0.2222222222222222,\"#7201a8\"],[0.3333333333333333,\"#9c179e\"],[0.4444444444444444,\"#bd3786\"],[0.5555555555555556,\"#d8576b\"],[0.6666666666666666,\"#ed7953\"],[0.7777777777777778,\"#fb9f3a\"],[0.8888888888888888,\"#fdca26\"],[1.0,\"#f0f921\"]],\"diverging\":[[0,\"#8e0152\"],[0.1,\"#c51b7d\"],[0.2,\"#de77ae\"],[0.3,\"#f1b6da\"],[0.4,\"#fde0ef\"],[0.5,\"#f7f7f7\"],[0.6,\"#e6f5d0\"],[0.7,\"#b8e186\"],[0.8,\"#7fbc41\"],[0.9,\"#4d9221\"],[1,\"#276419\"]]},\"xaxis\":{\"gridcolor\":\"white\",\"linecolor\":\"white\",\"ticks\":\"\",\"title\":{\"standoff\":15},\"zerolinecolor\":\"white\",\"automargin\":true,\"zerolinewidth\":2},\"yaxis\":{\"gridcolor\":\"white\",\"linecolor\":\"white\",\"ticks\":\"\",\"title\":{\"standoff\":15},\"zerolinecolor\":\"white\",\"automargin\":true,\"zerolinewidth\":2},\"scene\":{\"xaxis\":{\"backgroundcolor\":\"#E5ECF6\",\"gridcolor\":\"white\",\"linecolor\":\"white\",\"showbackground\":true,\"ticks\":\"\",\"zerolinecolor\":\"white\",\"gridwidth\":2},\"yaxis\":{\"backgroundcolor\":\"#E5ECF6\",\"gridcolor\":\"white\",\"linecolor\":\"white\",\"showbackground\":true,\"ticks\":\"\",\"zerolinecolor\":\"white\",\"gridwidth\":2},\"zaxis\":{\"backgroundcolor\":\"#E5ECF6\",\"gridcolor\":\"white\",\"linecolor\":\"white\",\"showbackground\":true,\"ticks\":\"\",\"zerolinecolor\":\"white\",\"gridwidth\":2}},\"shapedefaults\":{\"line\":{\"color\":\"#2a3f5f\"}},\"annotationdefaults\":{\"arrowcolor\":\"#2a3f5f\",\"arrowhead\":0,\"arrowwidth\":1},\"geo\":{\"bgcolor\":\"white\",\"landcolor\":\"#E5ECF6\",\"subunitcolor\":\"white\",\"showland\":true,\"showlakes\":true,\"lakecolor\":\"white\"},\"title\":{\"x\":0.05},\"mapbox\":{\"style\":\"light\"}}},\"xaxis\":{\"anchor\":\"y\",\"domain\":[0.0,1.0],\"title\":{\"text\":\"index\"}},\"yaxis\":{\"anchor\":\"x\",\"domain\":[0.0,1.0],\"title\":{\"text\":\"value\"}},\"legend\":{\"title\":{\"text\":\"variable\"},\"tracegroupgap\":0},\"margin\":{\"t\":60}},                        {\"responsive\": true}                    ).then(function(){\n",
              "                            \n",
              "var gd = document.getElementById('fc30d5f2-15c1-4101-9ef1-345bbc0c9623');\n",
              "var x = new MutationObserver(function (mutations, observer) {{\n",
              "        var display = window.getComputedStyle(gd).display;\n",
              "        if (!display || display === 'none') {{\n",
              "            console.log([gd, 'removed!']);\n",
              "            Plotly.purge(gd);\n",
              "            observer.disconnect();\n",
              "        }}\n",
              "}});\n",
              "\n",
              "// Listen for the removal of the full notebook cells\n",
              "var notebookContainer = gd.closest('#notebook-container');\n",
              "if (notebookContainer) {{\n",
              "    x.observe(notebookContainer, {childList: true});\n",
              "}}\n",
              "\n",
              "// Listen for the clearing of the current output cell\n",
              "var outputEl = gd.closest('.output');\n",
              "if (outputEl) {{\n",
              "    x.observe(outputEl, {childList: true});\n",
              "}}\n",
              "\n",
              "                        })                };                            </script>        </div>\n",
              "</body>\n",
              "</html>"
            ]
          },
          "metadata": {}
        }
      ]
    },
    {
      "cell_type": "code",
      "source": [
        "df = pd.DataFrame({'train_acc': metrics['train_acc'], 'test_acc': metrics['test_acc']})\n",
        "df.plot()"
      ],
      "metadata": {
        "colab": {
          "base_uri": "https://localhost:8080/",
          "height": 542
        },
        "id": "If8i_k7bTuWo",
        "outputId": "76ea9a86-271c-41d1-a525-5c70903cf742"
      },
      "execution_count": 424,
      "outputs": [
        {
          "output_type": "display_data",
          "data": {
            "text/html": [
              "<html>\n",
              "<head><meta charset=\"utf-8\" /></head>\n",
              "<body>\n",
              "    <div>            <script src=\"https://cdnjs.cloudflare.com/ajax/libs/mathjax/2.7.5/MathJax.js?config=TeX-AMS-MML_SVG\"></script><script type=\"text/javascript\">if (window.MathJax && window.MathJax.Hub && window.MathJax.Hub.Config) {window.MathJax.Hub.Config({SVG: {font: \"STIX-Web\"}});}</script>                <script type=\"text/javascript\">window.PlotlyConfig = {MathJaxConfig: 'local'};</script>\n",
              "        <script src=\"https://cdn.plot.ly/plotly-2.18.2.min.js\"></script>                <div id=\"c0281a80-71a4-4230-bd7d-9cf0185c7665\" class=\"plotly-graph-div\" style=\"height:525px; width:100%;\"></div>            <script type=\"text/javascript\">                                    window.PLOTLYENV=window.PLOTLYENV || {};                                    if (document.getElementById(\"c0281a80-71a4-4230-bd7d-9cf0185c7665\")) {                    Plotly.newPlot(                        \"c0281a80-71a4-4230-bd7d-9cf0185c7665\",                        [{\"hovertemplate\":\"variable=train_acc<br>index=%{x}<br>value=%{y}<extra></extra>\",\"legendgroup\":\"train_acc\",\"line\":{\"color\":\"#636efa\",\"dash\":\"solid\"},\"marker\":{\"symbol\":\"circle\"},\"mode\":\"lines\",\"name\":\"train_acc\",\"orientation\":\"v\",\"showlegend\":true,\"x\":[0,1,2,3,4,5,6,7,8,9,10,11,12,13,14,15,16,17,18,19,20,21,22,23,24,25,26,27,28,29,30,31,32,33,34],\"xaxis\":\"x\",\"y\":[35.934,49.444,55.73,59.53,62.374,64.16,66.208,67.622,69.398,70.472,71.436,72.478,72.924,73.834,74.578,75.148,75.524,76.08,76.518,77.012,77.454,78.13,78.434,78.728,79.374,79.582,80.208,80.474,80.708,81.412,81.518,81.9,82.184,82.686,82.984],\"yaxis\":\"y\",\"type\":\"scatter\"},{\"hovertemplate\":\"variable=test_acc<br>index=%{x}<br>value=%{y}<extra></extra>\",\"legendgroup\":\"test_acc\",\"line\":{\"color\":\"#EF553B\",\"dash\":\"solid\"},\"marker\":{\"symbol\":\"circle\"},\"mode\":\"lines\",\"name\":\"test_acc\",\"orientation\":\"v\",\"showlegend\":true,\"x\":[0,1,2,3,4,5,6,7,8,9,10,11,12,13,14,15,16,17,18,19,20,21,22,23,24,25,26,27,28,29,30,31,32,33,34],\"xaxis\":\"x\",\"y\":[50.63,58.42,64.71,67.8,70.65,70.66,73.72,75.18,76.58,78.05,78.32,78.26,79.67,80.0,80.53,80.31,80.35,81.22,81.7,81.85,81.81,82.5,82.89,82.86,83.26,83.14,83.26,83.16,83.51,84.08,84.36,84.35,84.38,84.9,84.76],\"yaxis\":\"y\",\"type\":\"scatter\"}],                        {\"template\":{\"data\":{\"histogram2dcontour\":[{\"type\":\"histogram2dcontour\",\"colorbar\":{\"outlinewidth\":0,\"ticks\":\"\"},\"colorscale\":[[0.0,\"#0d0887\"],[0.1111111111111111,\"#46039f\"],[0.2222222222222222,\"#7201a8\"],[0.3333333333333333,\"#9c179e\"],[0.4444444444444444,\"#bd3786\"],[0.5555555555555556,\"#d8576b\"],[0.6666666666666666,\"#ed7953\"],[0.7777777777777778,\"#fb9f3a\"],[0.8888888888888888,\"#fdca26\"],[1.0,\"#f0f921\"]]}],\"choropleth\":[{\"type\":\"choropleth\",\"colorbar\":{\"outlinewidth\":0,\"ticks\":\"\"}}],\"histogram2d\":[{\"type\":\"histogram2d\",\"colorbar\":{\"outlinewidth\":0,\"ticks\":\"\"},\"colorscale\":[[0.0,\"#0d0887\"],[0.1111111111111111,\"#46039f\"],[0.2222222222222222,\"#7201a8\"],[0.3333333333333333,\"#9c179e\"],[0.4444444444444444,\"#bd3786\"],[0.5555555555555556,\"#d8576b\"],[0.6666666666666666,\"#ed7953\"],[0.7777777777777778,\"#fb9f3a\"],[0.8888888888888888,\"#fdca26\"],[1.0,\"#f0f921\"]]}],\"heatmap\":[{\"type\":\"heatmap\",\"colorbar\":{\"outlinewidth\":0,\"ticks\":\"\"},\"colorscale\":[[0.0,\"#0d0887\"],[0.1111111111111111,\"#46039f\"],[0.2222222222222222,\"#7201a8\"],[0.3333333333333333,\"#9c179e\"],[0.4444444444444444,\"#bd3786\"],[0.5555555555555556,\"#d8576b\"],[0.6666666666666666,\"#ed7953\"],[0.7777777777777778,\"#fb9f3a\"],[0.8888888888888888,\"#fdca26\"],[1.0,\"#f0f921\"]]}],\"heatmapgl\":[{\"type\":\"heatmapgl\",\"colorbar\":{\"outlinewidth\":0,\"ticks\":\"\"},\"colorscale\":[[0.0,\"#0d0887\"],[0.1111111111111111,\"#46039f\"],[0.2222222222222222,\"#7201a8\"],[0.3333333333333333,\"#9c179e\"],[0.4444444444444444,\"#bd3786\"],[0.5555555555555556,\"#d8576b\"],[0.6666666666666666,\"#ed7953\"],[0.7777777777777778,\"#fb9f3a\"],[0.8888888888888888,\"#fdca26\"],[1.0,\"#f0f921\"]]}],\"contourcarpet\":[{\"type\":\"contourcarpet\",\"colorbar\":{\"outlinewidth\":0,\"ticks\":\"\"}}],\"contour\":[{\"type\":\"contour\",\"colorbar\":{\"outlinewidth\":0,\"ticks\":\"\"},\"colorscale\":[[0.0,\"#0d0887\"],[0.1111111111111111,\"#46039f\"],[0.2222222222222222,\"#7201a8\"],[0.3333333333333333,\"#9c179e\"],[0.4444444444444444,\"#bd3786\"],[0.5555555555555556,\"#d8576b\"],[0.6666666666666666,\"#ed7953\"],[0.7777777777777778,\"#fb9f3a\"],[0.8888888888888888,\"#fdca26\"],[1.0,\"#f0f921\"]]}],\"surface\":[{\"type\":\"surface\",\"colorbar\":{\"outlinewidth\":0,\"ticks\":\"\"},\"colorscale\":[[0.0,\"#0d0887\"],[0.1111111111111111,\"#46039f\"],[0.2222222222222222,\"#7201a8\"],[0.3333333333333333,\"#9c179e\"],[0.4444444444444444,\"#bd3786\"],[0.5555555555555556,\"#d8576b\"],[0.6666666666666666,\"#ed7953\"],[0.7777777777777778,\"#fb9f3a\"],[0.8888888888888888,\"#fdca26\"],[1.0,\"#f0f921\"]]}],\"mesh3d\":[{\"type\":\"mesh3d\",\"colorbar\":{\"outlinewidth\":0,\"ticks\":\"\"}}],\"scatter\":[{\"fillpattern\":{\"fillmode\":\"overlay\",\"size\":10,\"solidity\":0.2},\"type\":\"scatter\"}],\"parcoords\":[{\"type\":\"parcoords\",\"line\":{\"colorbar\":{\"outlinewidth\":0,\"ticks\":\"\"}}}],\"scatterpolargl\":[{\"type\":\"scatterpolargl\",\"marker\":{\"colorbar\":{\"outlinewidth\":0,\"ticks\":\"\"}}}],\"bar\":[{\"error_x\":{\"color\":\"#2a3f5f\"},\"error_y\":{\"color\":\"#2a3f5f\"},\"marker\":{\"line\":{\"color\":\"#E5ECF6\",\"width\":0.5},\"pattern\":{\"fillmode\":\"overlay\",\"size\":10,\"solidity\":0.2}},\"type\":\"bar\"}],\"scattergeo\":[{\"type\":\"scattergeo\",\"marker\":{\"colorbar\":{\"outlinewidth\":0,\"ticks\":\"\"}}}],\"scatterpolar\":[{\"type\":\"scatterpolar\",\"marker\":{\"colorbar\":{\"outlinewidth\":0,\"ticks\":\"\"}}}],\"histogram\":[{\"marker\":{\"pattern\":{\"fillmode\":\"overlay\",\"size\":10,\"solidity\":0.2}},\"type\":\"histogram\"}],\"scattergl\":[{\"type\":\"scattergl\",\"marker\":{\"colorbar\":{\"outlinewidth\":0,\"ticks\":\"\"}}}],\"scatter3d\":[{\"type\":\"scatter3d\",\"line\":{\"colorbar\":{\"outlinewidth\":0,\"ticks\":\"\"}},\"marker\":{\"colorbar\":{\"outlinewidth\":0,\"ticks\":\"\"}}}],\"scattermapbox\":[{\"type\":\"scattermapbox\",\"marker\":{\"colorbar\":{\"outlinewidth\":0,\"ticks\":\"\"}}}],\"scatterternary\":[{\"type\":\"scatterternary\",\"marker\":{\"colorbar\":{\"outlinewidth\":0,\"ticks\":\"\"}}}],\"scattercarpet\":[{\"type\":\"scattercarpet\",\"marker\":{\"colorbar\":{\"outlinewidth\":0,\"ticks\":\"\"}}}],\"carpet\":[{\"aaxis\":{\"endlinecolor\":\"#2a3f5f\",\"gridcolor\":\"white\",\"linecolor\":\"white\",\"minorgridcolor\":\"white\",\"startlinecolor\":\"#2a3f5f\"},\"baxis\":{\"endlinecolor\":\"#2a3f5f\",\"gridcolor\":\"white\",\"linecolor\":\"white\",\"minorgridcolor\":\"white\",\"startlinecolor\":\"#2a3f5f\"},\"type\":\"carpet\"}],\"table\":[{\"cells\":{\"fill\":{\"color\":\"#EBF0F8\"},\"line\":{\"color\":\"white\"}},\"header\":{\"fill\":{\"color\":\"#C8D4E3\"},\"line\":{\"color\":\"white\"}},\"type\":\"table\"}],\"barpolar\":[{\"marker\":{\"line\":{\"color\":\"#E5ECF6\",\"width\":0.5},\"pattern\":{\"fillmode\":\"overlay\",\"size\":10,\"solidity\":0.2}},\"type\":\"barpolar\"}],\"pie\":[{\"automargin\":true,\"type\":\"pie\"}]},\"layout\":{\"autotypenumbers\":\"strict\",\"colorway\":[\"#636efa\",\"#EF553B\",\"#00cc96\",\"#ab63fa\",\"#FFA15A\",\"#19d3f3\",\"#FF6692\",\"#B6E880\",\"#FF97FF\",\"#FECB52\"],\"font\":{\"color\":\"#2a3f5f\"},\"hovermode\":\"closest\",\"hoverlabel\":{\"align\":\"left\"},\"paper_bgcolor\":\"white\",\"plot_bgcolor\":\"#E5ECF6\",\"polar\":{\"bgcolor\":\"#E5ECF6\",\"angularaxis\":{\"gridcolor\":\"white\",\"linecolor\":\"white\",\"ticks\":\"\"},\"radialaxis\":{\"gridcolor\":\"white\",\"linecolor\":\"white\",\"ticks\":\"\"}},\"ternary\":{\"bgcolor\":\"#E5ECF6\",\"aaxis\":{\"gridcolor\":\"white\",\"linecolor\":\"white\",\"ticks\":\"\"},\"baxis\":{\"gridcolor\":\"white\",\"linecolor\":\"white\",\"ticks\":\"\"},\"caxis\":{\"gridcolor\":\"white\",\"linecolor\":\"white\",\"ticks\":\"\"}},\"coloraxis\":{\"colorbar\":{\"outlinewidth\":0,\"ticks\":\"\"}},\"colorscale\":{\"sequential\":[[0.0,\"#0d0887\"],[0.1111111111111111,\"#46039f\"],[0.2222222222222222,\"#7201a8\"],[0.3333333333333333,\"#9c179e\"],[0.4444444444444444,\"#bd3786\"],[0.5555555555555556,\"#d8576b\"],[0.6666666666666666,\"#ed7953\"],[0.7777777777777778,\"#fb9f3a\"],[0.8888888888888888,\"#fdca26\"],[1.0,\"#f0f921\"]],\"sequentialminus\":[[0.0,\"#0d0887\"],[0.1111111111111111,\"#46039f\"],[0.2222222222222222,\"#7201a8\"],[0.3333333333333333,\"#9c179e\"],[0.4444444444444444,\"#bd3786\"],[0.5555555555555556,\"#d8576b\"],[0.6666666666666666,\"#ed7953\"],[0.7777777777777778,\"#fb9f3a\"],[0.8888888888888888,\"#fdca26\"],[1.0,\"#f0f921\"]],\"diverging\":[[0,\"#8e0152\"],[0.1,\"#c51b7d\"],[0.2,\"#de77ae\"],[0.3,\"#f1b6da\"],[0.4,\"#fde0ef\"],[0.5,\"#f7f7f7\"],[0.6,\"#e6f5d0\"],[0.7,\"#b8e186\"],[0.8,\"#7fbc41\"],[0.9,\"#4d9221\"],[1,\"#276419\"]]},\"xaxis\":{\"gridcolor\":\"white\",\"linecolor\":\"white\",\"ticks\":\"\",\"title\":{\"standoff\":15},\"zerolinecolor\":\"white\",\"automargin\":true,\"zerolinewidth\":2},\"yaxis\":{\"gridcolor\":\"white\",\"linecolor\":\"white\",\"ticks\":\"\",\"title\":{\"standoff\":15},\"zerolinecolor\":\"white\",\"automargin\":true,\"zerolinewidth\":2},\"scene\":{\"xaxis\":{\"backgroundcolor\":\"#E5ECF6\",\"gridcolor\":\"white\",\"linecolor\":\"white\",\"showbackground\":true,\"ticks\":\"\",\"zerolinecolor\":\"white\",\"gridwidth\":2},\"yaxis\":{\"backgroundcolor\":\"#E5ECF6\",\"gridcolor\":\"white\",\"linecolor\":\"white\",\"showbackground\":true,\"ticks\":\"\",\"zerolinecolor\":\"white\",\"gridwidth\":2},\"zaxis\":{\"backgroundcolor\":\"#E5ECF6\",\"gridcolor\":\"white\",\"linecolor\":\"white\",\"showbackground\":true,\"ticks\":\"\",\"zerolinecolor\":\"white\",\"gridwidth\":2}},\"shapedefaults\":{\"line\":{\"color\":\"#2a3f5f\"}},\"annotationdefaults\":{\"arrowcolor\":\"#2a3f5f\",\"arrowhead\":0,\"arrowwidth\":1},\"geo\":{\"bgcolor\":\"white\",\"landcolor\":\"#E5ECF6\",\"subunitcolor\":\"white\",\"showland\":true,\"showlakes\":true,\"lakecolor\":\"white\"},\"title\":{\"x\":0.05},\"mapbox\":{\"style\":\"light\"}}},\"xaxis\":{\"anchor\":\"y\",\"domain\":[0.0,1.0],\"title\":{\"text\":\"index\"}},\"yaxis\":{\"anchor\":\"x\",\"domain\":[0.0,1.0],\"title\":{\"text\":\"value\"}},\"legend\":{\"title\":{\"text\":\"variable\"},\"tracegroupgap\":0},\"margin\":{\"t\":60}},                        {\"responsive\": true}                    ).then(function(){\n",
              "                            \n",
              "var gd = document.getElementById('c0281a80-71a4-4230-bd7d-9cf0185c7665');\n",
              "var x = new MutationObserver(function (mutations, observer) {{\n",
              "        var display = window.getComputedStyle(gd).display;\n",
              "        if (!display || display === 'none') {{\n",
              "            console.log([gd, 'removed!']);\n",
              "            Plotly.purge(gd);\n",
              "            observer.disconnect();\n",
              "        }}\n",
              "}});\n",
              "\n",
              "// Listen for the removal of the full notebook cells\n",
              "var notebookContainer = gd.closest('#notebook-container');\n",
              "if (notebookContainer) {{\n",
              "    x.observe(notebookContainer, {childList: true});\n",
              "}}\n",
              "\n",
              "// Listen for the clearing of the current output cell\n",
              "var outputEl = gd.closest('.output');\n",
              "if (outputEl) {{\n",
              "    x.observe(outputEl, {childList: true});\n",
              "}}\n",
              "\n",
              "                        })                };                            </script>        </div>\n",
              "</body>\n",
              "</html>"
            ]
          },
          "metadata": {}
        }
      ]
    }
  ]
}