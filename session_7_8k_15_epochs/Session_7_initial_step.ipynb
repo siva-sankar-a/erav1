{
  "nbformat": 4,
  "nbformat_minor": 0,
  "metadata": {
    "colab": {
      "provenance": [],
      "gpuType": "T4",
      "include_colab_link": true
    },
    "kernelspec": {
      "name": "python3",
      "display_name": "Python 3"
    },
    "language_info": {
      "name": "python"
    },
    "accelerator": "GPU",
    "gpuClass": "standard"
  },
  "cells": [
    {
      "cell_type": "markdown",
      "metadata": {
        "id": "view-in-github",
        "colab_type": "text"
      },
      "source": [
        "<a href=\"https://colab.research.google.com/github/siva-sankar-a/erav1/blob/main/session_7_8k_15_epochs/Session_7_initial_step.ipynb\" target=\"_parent\"><img src=\"https://colab.research.google.com/assets/colab-badge.svg\" alt=\"Open In Colab\"/></a>"
      ]
    },
    {
      "cell_type": "markdown",
      "source": [
        "# ERA V1 Session 7\n",
        "## Refer [link](https://github.com/siva-sankar-a/erav1/blob/main/session_7_8k_15_epochs/README.md) for further documentation"
      ],
      "metadata": {
        "id": "vxvrP2Onom0u"
      }
    },
    {
      "cell_type": "markdown",
      "source": [
        "## Cloning the Github repository\n",
        "## [Session 7](https://github.com/siva-sankar-a/erav1.git)"
      ],
      "metadata": {
        "id": "0D7qh1EynkZJ"
      }
    },
    {
      "cell_type": "code",
      "source": [
        "!git clone https://github.com/siva-sankar-a/erav1.git"
      ],
      "metadata": {
        "colab": {
          "base_uri": "https://localhost:8080/"
        },
        "id": "c75NRuJHmxzV",
        "outputId": "a30b1d1d-9937-4225-e84c-527999de5d8b"
      },
      "execution_count": 1,
      "outputs": [
        {
          "output_type": "stream",
          "name": "stdout",
          "text": [
            "Cloning into 'erav1'...\n",
            "remote: Enumerating objects: 161, done.\u001b[K\n",
            "remote: Counting objects: 100% (21/21), done.\u001b[K\n",
            "remote: Compressing objects: 100% (20/20), done.\u001b[K\n",
            "remote: Total 161 (delta 9), reused 1 (delta 1), pack-reused 140\u001b[K\n",
            "Receiving objects: 100% (161/161), 563.41 KiB | 15.23 MiB/s, done.\n",
            "Resolving deltas: 100% (80/80), done.\n"
          ]
        }
      ]
    },
    {
      "cell_type": "code",
      "source": [
        "%cd /content/erav1"
      ],
      "metadata": {
        "colab": {
          "base_uri": "https://localhost:8080/"
        },
        "id": "_TcPvRRLzL8m",
        "outputId": "16bdf951-ef8a-410a-fb6f-9bb311c19718"
      },
      "execution_count": 2,
      "outputs": [
        {
          "output_type": "stream",
          "name": "stdout",
          "text": [
            "/content/erav1\n"
          ]
        }
      ]
    },
    {
      "cell_type": "code",
      "source": [
        "!git pull"
      ],
      "metadata": {
        "colab": {
          "base_uri": "https://localhost:8080/"
        },
        "id": "rl5OraqvzON6",
        "outputId": "d531920e-92e3-481b-bfcf-8e5f0c185fbc"
      },
      "execution_count": 3,
      "outputs": [
        {
          "output_type": "stream",
          "name": "stdout",
          "text": [
            "Already up to date.\n"
          ]
        }
      ]
    },
    {
      "cell_type": "markdown",
      "source": [
        "## Adding the session folder to path in order to access the functions defined"
      ],
      "metadata": {
        "id": "kn9Duybtn916"
      }
    },
    {
      "cell_type": "code",
      "source": [
        "%load_ext autoreload\n",
        "%autoreload 2"
      ],
      "metadata": {
        "id": "VZHmptkFtQLs"
      },
      "execution_count": 4,
      "outputs": []
    },
    {
      "cell_type": "code",
      "source": [
        "import os\n",
        "import sys"
      ],
      "metadata": {
        "id": "etBGZdEBnLgi"
      },
      "execution_count": 5,
      "outputs": []
    },
    {
      "cell_type": "code",
      "source": [
        "sys.path.append('/content/erav1/session_6_multiple_architectures_mnist/')"
      ],
      "metadata": {
        "id": "dmlfbkJ5nQF0"
      },
      "execution_count": 6,
      "outputs": []
    },
    {
      "cell_type": "code",
      "source": [
        "import importlib"
      ],
      "metadata": {
        "id": "hYq-JprOx5C5"
      },
      "execution_count": 7,
      "outputs": []
    },
    {
      "cell_type": "code",
      "source": [
        "import utils as U"
      ],
      "metadata": {
        "id": "fcdNScH6ndwQ"
      },
      "execution_count": 8,
      "outputs": []
    },
    {
      "cell_type": "code",
      "source": [
        "U = importlib.reload(U)"
      ],
      "metadata": {
        "id": "1eZpnItfx7Ua"
      },
      "execution_count": 9,
      "outputs": []
    },
    {
      "cell_type": "markdown",
      "source": [
        "## Get device"
      ],
      "metadata": {
        "id": "JXU1Lk2JoQTu"
      }
    },
    {
      "cell_type": "code",
      "source": [
        "device = U.get_device()\n",
        "print(device)"
      ],
      "metadata": {
        "colab": {
          "base_uri": "https://localhost:8080/"
        },
        "id": "82LKarofoL7z",
        "outputId": "7b8a5fed-bb97-488b-d7c4-5c829fc524fd"
      },
      "execution_count": 33,
      "outputs": [
        {
          "output_type": "stream",
          "name": "stdout",
          "text": [
            "CUDA Available? True\n",
            "cuda\n"
          ]
        }
      ]
    },
    {
      "cell_type": "code",
      "source": [
        "import pandas as pd"
      ],
      "metadata": {
        "id": "AS8QFBG24Saq"
      },
      "execution_count": 10,
      "outputs": []
    },
    {
      "cell_type": "code",
      "source": [
        "pd.options.plotting.backend = \"plotly\""
      ],
      "metadata": {
        "id": "wx6n36Hk4WSb"
      },
      "execution_count": 11,
      "outputs": []
    },
    {
      "cell_type": "markdown",
      "source": [
        "## Get train and test transforms"
      ],
      "metadata": {
        "id": "0Lvm6vCjoXrw"
      }
    },
    {
      "cell_type": "code",
      "source": [
        "train_transforms = U.get_train_transforms()\n",
        "test_transforms = U.get_test_transforms()"
      ],
      "metadata": {
        "id": "TCqAEH39oiVI"
      },
      "execution_count": 12,
      "outputs": []
    },
    {
      "cell_type": "code",
      "source": [
        "from torchvision import datasets, transforms"
      ],
      "metadata": {
        "id": "5jmS0cIh0I2-"
      },
      "execution_count": 13,
      "outputs": []
    },
    {
      "cell_type": "code",
      "source": [
        "from torch.utils.data import WeightedRandomSampler"
      ],
      "metadata": {
        "id": "mFN3lZviTZ53"
      },
      "execution_count": 14,
      "outputs": []
    },
    {
      "cell_type": "code",
      "source": [
        "train_transforms = transforms.Compose([\n",
        "                                    transforms.RandomRotation((-7.0, 7.0), fill=(1,)),\n",
        "                                    # transforms.ElasticTransform(alpha=100.0, sigma=5.0, interpolation=transforms.InterpolationMode.NEAREST),\n",
        "                                    # transforms.RandomInvert(p=0.5),\n",
        "                                    transforms.ToTensor(),\n",
        "                                    transforms.Normalize((0.1307,), (0.3081,))\n",
        "                                    ])"
      ],
      "metadata": {
        "id": "iGqHDZLL0A_u"
      },
      "execution_count": 15,
      "outputs": []
    },
    {
      "cell_type": "code",
      "source": [
        "test_transforms = transforms.Compose([\n",
        "                                    # transforms.RandomRotation((-7.0, 7.0), fill=(1,)),\n",
        "                                    transforms.ToTensor(),\n",
        "                                    transforms.Normalize((0.1307,), (0.3081,))\n",
        "                                    ])"
      ],
      "metadata": {
        "id": "jTFC19j50DBx"
      },
      "execution_count": 16,
      "outputs": []
    },
    {
      "cell_type": "markdown",
      "source": [
        "## Get dataset"
      ],
      "metadata": {
        "id": "l-tMVwqzpDD4"
      }
    },
    {
      "cell_type": "code",
      "source": [
        "train_dataset = U.get_train_dataset(train_transforms)\n",
        "test_dataset = U.get_test_dataset(test_transforms)"
      ],
      "metadata": {
        "id": "x0EKJeSvpHMc",
        "colab": {
          "base_uri": "https://localhost:8080/"
        },
        "outputId": "7b08fdc5-e45c-429a-f938-1ad0c41d8c38"
      },
      "execution_count": 17,
      "outputs": [
        {
          "output_type": "stream",
          "name": "stdout",
          "text": [
            "Downloading http://yann.lecun.com/exdb/mnist/train-images-idx3-ubyte.gz\n",
            "Downloading http://yann.lecun.com/exdb/mnist/train-images-idx3-ubyte.gz to ../data/MNIST/raw/train-images-idx3-ubyte.gz\n"
          ]
        },
        {
          "output_type": "stream",
          "name": "stderr",
          "text": [
            "100%|██████████| 9912422/9912422 [00:00<00:00, 218527396.24it/s]"
          ]
        },
        {
          "output_type": "stream",
          "name": "stdout",
          "text": [
            "Extracting ../data/MNIST/raw/train-images-idx3-ubyte.gz to ../data/MNIST/raw\n"
          ]
        },
        {
          "output_type": "stream",
          "name": "stderr",
          "text": [
            "\n"
          ]
        },
        {
          "output_type": "stream",
          "name": "stdout",
          "text": [
            "\n",
            "Downloading http://yann.lecun.com/exdb/mnist/train-labels-idx1-ubyte.gz\n",
            "Downloading http://yann.lecun.com/exdb/mnist/train-labels-idx1-ubyte.gz to ../data/MNIST/raw/train-labels-idx1-ubyte.gz\n"
          ]
        },
        {
          "output_type": "stream",
          "name": "stderr",
          "text": [
            "100%|██████████| 28881/28881 [00:00<00:00, 103534781.05it/s]\n"
          ]
        },
        {
          "output_type": "stream",
          "name": "stdout",
          "text": [
            "Extracting ../data/MNIST/raw/train-labels-idx1-ubyte.gz to ../data/MNIST/raw\n",
            "\n",
            "Downloading http://yann.lecun.com/exdb/mnist/t10k-images-idx3-ubyte.gz\n",
            "Downloading http://yann.lecun.com/exdb/mnist/t10k-images-idx3-ubyte.gz to ../data/MNIST/raw/t10k-images-idx3-ubyte.gz\n"
          ]
        },
        {
          "output_type": "stream",
          "name": "stderr",
          "text": [
            "100%|██████████| 1648877/1648877 [00:00<00:00, 72164568.23it/s]"
          ]
        },
        {
          "output_type": "stream",
          "name": "stdout",
          "text": [
            "Extracting ../data/MNIST/raw/t10k-images-idx3-ubyte.gz to ../data/MNIST/raw\n",
            "\n",
            "Downloading http://yann.lecun.com/exdb/mnist/t10k-labels-idx1-ubyte.gz\n"
          ]
        },
        {
          "output_type": "stream",
          "name": "stderr",
          "text": [
            "\n"
          ]
        },
        {
          "output_type": "stream",
          "name": "stdout",
          "text": [
            "Downloading http://yann.lecun.com/exdb/mnist/t10k-labels-idx1-ubyte.gz to ../data/MNIST/raw/t10k-labels-idx1-ubyte.gz\n"
          ]
        },
        {
          "output_type": "stream",
          "name": "stderr",
          "text": [
            "100%|██████████| 4542/4542 [00:00<00:00, 2264684.83it/s]"
          ]
        },
        {
          "output_type": "stream",
          "name": "stdout",
          "text": [
            "Extracting ../data/MNIST/raw/t10k-labels-idx1-ubyte.gz to ../data/MNIST/raw\n",
            "\n"
          ]
        },
        {
          "output_type": "stream",
          "name": "stderr",
          "text": [
            "\n"
          ]
        }
      ]
    },
    {
      "cell_type": "markdown",
      "source": [
        "## Get train and test dataloader"
      ],
      "metadata": {
        "id": "mHGXKHJHpMpD"
      }
    },
    {
      "cell_type": "code",
      "source": [
        "import torch"
      ],
      "metadata": {
        "id": "M5O00LkyUIJl"
      },
      "execution_count": 18,
      "outputs": []
    },
    {
      "cell_type": "code",
      "source": [
        "label_weights = { 0: 1.0, 1: 1.0, 2: 1.0, 3: 1.0, 4: 1.0, 5: 1.0, 6: 1.0, 7: 1.0, 8: 1.0, 9: 1.0}"
      ],
      "metadata": {
        "id": "wdcA84QPYMvD"
      },
      "execution_count": 19,
      "outputs": []
    },
    {
      "cell_type": "code",
      "source": [
        "_weights = [label_weights[label] for label in train_dataset.targets.cpu().tolist()]"
      ],
      "metadata": {
        "id": "alTROWJwX_Kl"
      },
      "execution_count": 20,
      "outputs": []
    },
    {
      "cell_type": "code",
      "source": [
        "batch_size = 128\n",
        "sampler = torch.utils.data.sampler.WeightedRandomSampler(_weights, len(train_dataset), replacement=False)"
      ],
      "metadata": {
        "id": "5Du_OfgxT8vj"
      },
      "execution_count": 21,
      "outputs": []
    },
    {
      "cell_type": "code",
      "source": [
        "kwargs = {'batch_size': batch_size, 'shuffle': False, 'num_workers': 2, 'pin_memory': True}\n",
        "\n",
        "train_dataloader = U.get_train_dataloader(train_dataset, sampler=sampler, **kwargs)\n",
        "test_dataloader = U.get_test_dataloader(test_dataset, **kwargs)"
      ],
      "metadata": {
        "id": "bKV3bOKbpKpQ"
      },
      "execution_count": 22,
      "outputs": []
    },
    {
      "cell_type": "markdown",
      "source": [
        "## Display image grid"
      ],
      "metadata": {
        "id": "41RCssjDpaJg"
      }
    },
    {
      "cell_type": "code",
      "source": [
        "U.show_image_grid(train_dataloader)"
      ],
      "metadata": {
        "colab": {
          "base_uri": "https://localhost:8080/",
          "height": 463
        },
        "id": "VbQ_ujZnpfnA",
        "outputId": "1bb39afd-68d8-427a-fd3e-d09822617c1b"
      },
      "execution_count": 23,
      "outputs": [
        {
          "output_type": "display_data",
          "data": {
            "text/plain": [
              "<Figure size 640x480 with 12 Axes>"
            ],
            "image/png": "[encoded data removed]"
          },
          "metadata": {}
        }
      ]
    },
    {
      "cell_type": "code",
      "source": [
        "!git clone https://github.com/Fangyh09/pytorch-receptive-field.git"
      ],
      "metadata": {
        "colab": {
          "base_uri": "https://localhost:8080/"
        },
        "id": "Vcg388r_mioi",
        "outputId": "c486d784-b789-4c93-8bf4-5c723f6186d8"
      },
      "execution_count": 24,
      "outputs": [
        {
          "output_type": "stream",
          "name": "stdout",
          "text": [
            "Cloning into 'pytorch-receptive-field'...\n",
            "remote: Enumerating objects: 111, done.\u001b[K\n",
            "remote: Counting objects: 100% (44/44), done.\u001b[K\n",
            "remote: Compressing objects: 100% (21/21), done.\u001b[K\n",
            "remote: Total 111 (delta 37), reused 23 (delta 23), pack-reused 67\u001b[K\n",
            "Receiving objects: 100% (111/111), 27.59 KiB | 13.80 MiB/s, done.\n",
            "Resolving deltas: 100% (51/51), done.\n"
          ]
        }
      ]
    },
    {
      "cell_type": "code",
      "source": [
        "sys.path.append('/content/erav1/pytorch-receptive-field')"
      ],
      "metadata": {
        "id": "zaXzqni1myi-"
      },
      "execution_count": 25,
      "outputs": []
    },
    {
      "cell_type": "code",
      "source": [
        "from torch_receptive_field import receptive_field"
      ],
      "metadata": {
        "id": "do7ut0I9mnn2"
      },
      "execution_count": 26,
      "outputs": []
    },
    {
      "cell_type": "code",
      "source": [
        "import torch.nn as nn\n",
        "import torch.nn.functional as F"
      ],
      "metadata": {
        "id": "VqjxT94yNzGW"
      },
      "execution_count": 27,
      "outputs": []
    },
    {
      "cell_type": "code",
      "source": [
        "class Net(nn.Module):\n",
        "\n",
        "    '''\n",
        "    This class implements the neural network model\n",
        "\n",
        "    Usage:\n",
        "    >>> device = ...\n",
        "    >>> model = Net().to('cpu')\n",
        "    '''\n",
        "\n",
        "    #This defines the structure of the NN.\n",
        "    def __init__(self):\n",
        "        super(Net, self).__init__()\n",
        "        self.conv1 = self.conv3x3_bn_dropout(1, 8, padding=1)\n",
        "        self.conv2 = self.conv3x3_bn_dropout(8, 8)\n",
        "\n",
        "        self.squeeze1 = self.conv1x1(8, 1)\n",
        "\n",
        "        self.conv3 = self.conv3x3_bn_dropout(1, 8, padding=1)\n",
        "        self.conv4 = self.conv3x3_bn_dropout(8, 8)\n",
        "        self.conv5 = self.conv3x3_bn_dropout(8, 8)\n",
        "        self.conv6 = self.conv3x3_bn_dropout(8, 8, stride=2)\n",
        "\n",
        "        self.squeeze2 = self.conv1x1(8, 1)\n",
        "\n",
        "        self.conv7 = self.conv3x3_bn_dropout(1, 8, padding=1)\n",
        "        self.conv8 = self.conv3x3_bn_dropout(8, 8)\n",
        "        self.conv9 = self.conv3x3_bn_dropout(8, 16)\n",
        "        self.conv10 = self.conv3x3_bn_dropout(16, 16)\n",
        "\n",
        "        self.gap = nn.AvgPool2d(4)\n",
        "        self.mixer = nn.Sequential(\n",
        "            self.conv1x1(16, 10),\n",
        "        )\n",
        "\n",
        "\n",
        "    def conv3x3_bn_dropout(self, in_channels, out_channels, kernel_size=3, stride=1, padding=0, bias=False, dropout=None):\n",
        "          if dropout:\n",
        "            return nn.Sequential(\n",
        "                self.conv3x3(in_channels, out_channels, kernel_size, stride, padding, bias),\n",
        "                nn.ReLU(),\n",
        "                nn.BatchNorm2d(out_channels),\n",
        "                nn.Dropout(dropout),\n",
        "                )\n",
        "          else:\n",
        "            return nn.Sequential(\n",
        "                self.conv3x3(in_channels, out_channels, kernel_size, stride, padding, bias),\n",
        "                nn.ReLU(),\n",
        "                nn.BatchNorm2d(out_channels),\n",
        "                )\n",
        "\n",
        "    def conv3x3(self, in_channels, out_channels, kernel_size=3, stride=1, padding=0, bias=False):\n",
        "          return nn.Conv2d(in_channels,\n",
        "                    out_channels,\n",
        "                    kernel_size=kernel_size,\n",
        "                    stride=stride,\n",
        "                    padding=padding,\n",
        "                    bias=bias)\n",
        "\n",
        "    def conv1x1(self, in_channels, out_channels, kernel_size=1, stride=1, padding=0, bias=False):\n",
        "          return nn.Conv2d(in_channels,\n",
        "                    out_channels,\n",
        "                    kernel_size=kernel_size,\n",
        "                    stride=stride,\n",
        "                    padding=padding,\n",
        "                    bias=bias)\n",
        "\n",
        "\n",
        "    def forward(self, x):\n",
        "        x = self.conv1(x)\n",
        "        x = self.conv2(x)\n",
        "        x = self.squeeze1(x)\n",
        "\n",
        "        x = self.conv3(x)\n",
        "        x = self.conv4(x)\n",
        "        x = self.conv5(x)\n",
        "        x = self.conv6(x)\n",
        "        x = self.squeeze2(x)\n",
        "\n",
        "        x = self.conv7(x)\n",
        "        x = self.conv8(x)\n",
        "        x = self.conv9(x)\n",
        "        x = self.conv10(x)\n",
        "\n",
        "        x = self.gap(x)\n",
        "        x = self.mixer(x)\n",
        "        x = x.view(-1, 10)\n",
        "        return F.log_softmax(x, dim=1)"
      ],
      "metadata": {
        "id": "C1pLoj7rNhzO"
      },
      "execution_count": 37,
      "outputs": []
    },
    {
      "cell_type": "markdown",
      "source": [
        "## Generate model summary"
      ],
      "metadata": {
        "id": "m242rqKopkPU"
      }
    },
    {
      "cell_type": "code",
      "source": [
        "model = Net().to('cpu')\n",
        "U.show_summary(model, 1024, 'cpu')"
      ],
      "metadata": {
        "colab": {
          "base_uri": "https://localhost:8080/"
        },
        "id": "2W39NavppocP",
        "outputId": "04c24fb7-eea0-450f-9901-75fc8a70b4e9"
      },
      "execution_count": 38,
      "outputs": [
        {
          "output_type": "stream",
          "name": "stdout",
          "text": [
            "----------------------------------------------------------------\n",
            "        Layer (type)               Output Shape         Param #\n",
            "================================================================\n",
            "            Conv2d-1          [1024, 8, 28, 28]              72\n",
            "              ReLU-2          [1024, 8, 28, 28]               0\n",
            "       BatchNorm2d-3          [1024, 8, 28, 28]              16\n",
            "            Conv2d-4          [1024, 8, 26, 26]             576\n",
            "              ReLU-5          [1024, 8, 26, 26]               0\n",
            "       BatchNorm2d-6          [1024, 8, 26, 26]              16\n",
            "            Conv2d-7          [1024, 1, 26, 26]               8\n",
            "            Conv2d-8          [1024, 8, 26, 26]              72\n",
            "              ReLU-9          [1024, 8, 26, 26]               0\n",
            "      BatchNorm2d-10          [1024, 8, 26, 26]              16\n",
            "           Conv2d-11          [1024, 8, 24, 24]             576\n",
            "             ReLU-12          [1024, 8, 24, 24]               0\n",
            "      BatchNorm2d-13          [1024, 8, 24, 24]              16\n",
            "           Conv2d-14          [1024, 8, 22, 22]             576\n",
            "             ReLU-15          [1024, 8, 22, 22]               0\n",
            "      BatchNorm2d-16          [1024, 8, 22, 22]              16\n",
            "           Conv2d-17          [1024, 8, 10, 10]             576\n",
            "             ReLU-18          [1024, 8, 10, 10]               0\n",
            "      BatchNorm2d-19          [1024, 8, 10, 10]              16\n",
            "           Conv2d-20          [1024, 1, 10, 10]               8\n",
            "           Conv2d-21          [1024, 8, 10, 10]              72\n",
            "             ReLU-22          [1024, 8, 10, 10]               0\n",
            "      BatchNorm2d-23          [1024, 8, 10, 10]              16\n",
            "           Conv2d-24            [1024, 8, 8, 8]             576\n",
            "             ReLU-25            [1024, 8, 8, 8]               0\n",
            "      BatchNorm2d-26            [1024, 8, 8, 8]              16\n",
            "           Conv2d-27           [1024, 16, 6, 6]           1,152\n",
            "             ReLU-28           [1024, 16, 6, 6]               0\n",
            "      BatchNorm2d-29           [1024, 16, 6, 6]              32\n",
            "           Conv2d-30           [1024, 16, 4, 4]           2,304\n",
            "             ReLU-31           [1024, 16, 4, 4]               0\n",
            "      BatchNorm2d-32           [1024, 16, 4, 4]              32\n",
            "        AvgPool2d-33           [1024, 16, 1, 1]               0\n",
            "           Conv2d-34           [1024, 10, 1, 1]             160\n",
            "================================================================\n",
            "Total params: 6,920\n",
            "Trainable params: 6,920\n",
            "Non-trainable params: 0\n",
            "----------------------------------------------------------------\n",
            "Input size (MB): 3.06\n",
            "Forward/backward pass size (MB): 674.52\n",
            "Params size (MB): 0.03\n",
            "Estimated Total Size (MB): 677.60\n",
            "----------------------------------------------------------------\n"
          ]
        }
      ]
    },
    {
      "cell_type": "code",
      "source": [
        "receptive_field(model.cpu(), input_size=(1, 28, 28), device='cpu')"
      ],
      "metadata": {
        "id": "GSp_eyvLnCTc",
        "colab": {
          "base_uri": "https://localhost:8080/"
        },
        "outputId": "ecbd1080-4a72-472e-fa5b-3c1e3da33be9"
      },
      "execution_count": 39,
      "outputs": [
        {
          "output_type": "stream",
          "name": "stdout",
          "text": [
            "------------------------------------------------------------------------------\n",
            "        Layer (type)    map size      start       jump receptive_field \n",
            "==============================================================================\n",
            "        0               [28, 28]        0.5        1.0             1.0 \n",
            "        1               [28, 28]        0.5        1.0             3.0 \n",
            "        2               [28, 28]        0.5        1.0             3.0 \n",
            "        3               [28, 28]        0.5        1.0             3.0 \n",
            "        4               [26, 26]        1.5        1.0             5.0 \n",
            "        5               [26, 26]        1.5        1.0             5.0 \n",
            "        6               [26, 26]        1.5        1.0             5.0 \n",
            "        7               [26, 26]        1.5        1.0             5.0 \n",
            "        8               [26, 26]        1.5        1.0             7.0 \n",
            "        9               [26, 26]        1.5        1.0             7.0 \n",
            "        10              [26, 26]        1.5        1.0             7.0 \n",
            "        11              [24, 24]        2.5        1.0             9.0 \n",
            "        12              [24, 24]        2.5        1.0             9.0 \n",
            "        13              [24, 24]        2.5        1.0             9.0 \n",
            "        14              [22, 22]        3.5        1.0            11.0 \n",
            "        15              [22, 22]        3.5        1.0            11.0 \n",
            "        16              [22, 22]        3.5        1.0            11.0 \n",
            "        17              [10, 10]        4.5        2.0            13.0 \n",
            "        18              [10, 10]        4.5        2.0            13.0 \n",
            "        19              [10, 10]        4.5        2.0            13.0 \n",
            "        20              [10, 10]        4.5        2.0            13.0 \n",
            "        21              [10, 10]        4.5        2.0            17.0 \n",
            "        22              [10, 10]        4.5        2.0            17.0 \n",
            "        23              [10, 10]        4.5        2.0            17.0 \n",
            "        24                [8, 8]        6.5        2.0            21.0 \n",
            "        25                [8, 8]        6.5        2.0            21.0 \n",
            "        26                [8, 8]        6.5        2.0            21.0 \n",
            "        27                [6, 6]        8.5        2.0            25.0 \n",
            "        28                [6, 6]        8.5        2.0            25.0 \n",
            "        29                [6, 6]        8.5        2.0            25.0 \n",
            "        30                [4, 4]       10.5        2.0            29.0 \n",
            "        31                [4, 4]       10.5        2.0            29.0 \n",
            "        32                [4, 4]       10.5        2.0            29.0 \n",
            "        33                [1, 1]       13.5        8.0            35.0 \n",
            "        34                [1, 1]       13.5        8.0            35.0 \n",
            "==============================================================================\n"
          ]
        },
        {
          "output_type": "execute_result",
          "data": {
            "text/plain": [
              "OrderedDict([('0',\n",
              "              OrderedDict([('j', 1.0),\n",
              "                           ('r', 1.0),\n",
              "                           ('start', 0.5),\n",
              "                           ('conv_stage', True),\n",
              "                           ('output_shape', [-1, 1, 28, 28])])),\n",
              "             ('1',\n",
              "              OrderedDict([('j', 1.0),\n",
              "                           ('r', 3.0),\n",
              "                           ('start', 0.5),\n",
              "                           ('input_shape', [-1, 1, 28, 28]),\n",
              "                           ('output_shape', [-1, 8, 28, 28])])),\n",
              "             ('2',\n",
              "              OrderedDict([('j', 1.0),\n",
              "                           ('r', 3.0),\n",
              "                           ('start', 0.5),\n",
              "                           ('input_shape', [-1, 8, 28, 28]),\n",
              "                           ('output_shape', [-1, 8, 28, 28])])),\n",
              "             ('3',\n",
              "              OrderedDict([('j', 1.0),\n",
              "                           ('r', 3.0),\n",
              "                           ('start', 0.5),\n",
              "                           ('input_shape', [-1, 8, 28, 28]),\n",
              "                           ('output_shape', [-1, 8, 28, 28])])),\n",
              "             ('4',\n",
              "              OrderedDict([('j', 1.0),\n",
              "                           ('r', 5.0),\n",
              "                           ('start', 1.5),\n",
              "                           ('input_shape', [-1, 8, 28, 28]),\n",
              "                           ('output_shape', [-1, 8, 26, 26])])),\n",
              "             ('5',\n",
              "              OrderedDict([('j', 1.0),\n",
              "                           ('r', 5.0),\n",
              "                           ('start', 1.5),\n",
              "                           ('input_shape', [-1, 8, 26, 26]),\n",
              "                           ('output_shape', [-1, 8, 26, 26])])),\n",
              "             ('6',\n",
              "              OrderedDict([('j', 1.0),\n",
              "                           ('r', 5.0),\n",
              "                           ('start', 1.5),\n",
              "                           ('input_shape', [-1, 8, 26, 26]),\n",
              "                           ('output_shape', [-1, 8, 26, 26])])),\n",
              "             ('7',\n",
              "              OrderedDict([('j', 1.0),\n",
              "                           ('r', 5.0),\n",
              "                           ('start', 1.5),\n",
              "                           ('input_shape', [-1, 8, 26, 26]),\n",
              "                           ('output_shape', [-1, 1, 26, 26])])),\n",
              "             ('8',\n",
              "              OrderedDict([('j', 1.0),\n",
              "                           ('r', 7.0),\n",
              "                           ('start', 1.5),\n",
              "                           ('input_shape', [-1, 1, 26, 26]),\n",
              "                           ('output_shape', [-1, 8, 26, 26])])),\n",
              "             ('9',\n",
              "              OrderedDict([('j', 1.0),\n",
              "                           ('r', 7.0),\n",
              "                           ('start', 1.5),\n",
              "                           ('input_shape', [-1, 8, 26, 26]),\n",
              "                           ('output_shape', [-1, 8, 26, 26])])),\n",
              "             ('10',\n",
              "              OrderedDict([('j', 1.0),\n",
              "                           ('r', 7.0),\n",
              "                           ('start', 1.5),\n",
              "                           ('input_shape', [-1, 8, 26, 26]),\n",
              "                           ('output_shape', [-1, 8, 26, 26])])),\n",
              "             ('11',\n",
              "              OrderedDict([('j', 1.0),\n",
              "                           ('r', 9.0),\n",
              "                           ('start', 2.5),\n",
              "                           ('input_shape', [-1, 8, 26, 26]),\n",
              "                           ('output_shape', [-1, 8, 24, 24])])),\n",
              "             ('12',\n",
              "              OrderedDict([('j', 1.0),\n",
              "                           ('r', 9.0),\n",
              "                           ('start', 2.5),\n",
              "                           ('input_shape', [-1, 8, 24, 24]),\n",
              "                           ('output_shape', [-1, 8, 24, 24])])),\n",
              "             ('13',\n",
              "              OrderedDict([('j', 1.0),\n",
              "                           ('r', 9.0),\n",
              "                           ('start', 2.5),\n",
              "                           ('input_shape', [-1, 8, 24, 24]),\n",
              "                           ('output_shape', [-1, 8, 24, 24])])),\n",
              "             ('14',\n",
              "              OrderedDict([('j', 1.0),\n",
              "                           ('r', 11.0),\n",
              "                           ('start', 3.5),\n",
              "                           ('input_shape', [-1, 8, 24, 24]),\n",
              "                           ('output_shape', [-1, 8, 22, 22])])),\n",
              "             ('15',\n",
              "              OrderedDict([('j', 1.0),\n",
              "                           ('r', 11.0),\n",
              "                           ('start', 3.5),\n",
              "                           ('input_shape', [-1, 8, 22, 22]),\n",
              "                           ('output_shape', [-1, 8, 22, 22])])),\n",
              "             ('16',\n",
              "              OrderedDict([('j', 1.0),\n",
              "                           ('r', 11.0),\n",
              "                           ('start', 3.5),\n",
              "                           ('input_shape', [-1, 8, 22, 22]),\n",
              "                           ('output_shape', [-1, 8, 22, 22])])),\n",
              "             ('17',\n",
              "              OrderedDict([('j', 2.0),\n",
              "                           ('r', 13.0),\n",
              "                           ('start', 4.5),\n",
              "                           ('input_shape', [-1, 8, 22, 22]),\n",
              "                           ('output_shape', [-1, 8, 10, 10])])),\n",
              "             ('18',\n",
              "              OrderedDict([('j', 2.0),\n",
              "                           ('r', 13.0),\n",
              "                           ('start', 4.5),\n",
              "                           ('input_shape', [-1, 8, 10, 10]),\n",
              "                           ('output_shape', [-1, 8, 10, 10])])),\n",
              "             ('19',\n",
              "              OrderedDict([('j', 2.0),\n",
              "                           ('r', 13.0),\n",
              "                           ('start', 4.5),\n",
              "                           ('input_shape', [-1, 8, 10, 10]),\n",
              "                           ('output_shape', [-1, 8, 10, 10])])),\n",
              "             ('20',\n",
              "              OrderedDict([('j', 2.0),\n",
              "                           ('r', 13.0),\n",
              "                           ('start', 4.5),\n",
              "                           ('input_shape', [-1, 8, 10, 10]),\n",
              "                           ('output_shape', [-1, 1, 10, 10])])),\n",
              "             ('21',\n",
              "              OrderedDict([('j', 2.0),\n",
              "                           ('r', 17.0),\n",
              "                           ('start', 4.5),\n",
              "                           ('input_shape', [-1, 1, 10, 10]),\n",
              "                           ('output_shape', [-1, 8, 10, 10])])),\n",
              "             ('22',\n",
              "              OrderedDict([('j', 2.0),\n",
              "                           ('r', 17.0),\n",
              "                           ('start', 4.5),\n",
              "                           ('input_shape', [-1, 8, 10, 10]),\n",
              "                           ('output_shape', [-1, 8, 10, 10])])),\n",
              "             ('23',\n",
              "              OrderedDict([('j', 2.0),\n",
              "                           ('r', 17.0),\n",
              "                           ('start', 4.5),\n",
              "                           ('input_shape', [-1, 8, 10, 10]),\n",
              "                           ('output_shape', [-1, 8, 10, 10])])),\n",
              "             ('24',\n",
              "              OrderedDict([('j', 2.0),\n",
              "                           ('r', 21.0),\n",
              "                           ('start', 6.5),\n",
              "                           ('input_shape', [-1, 8, 10, 10]),\n",
              "                           ('output_shape', [-1, 8, 8, 8])])),\n",
              "             ('25',\n",
              "              OrderedDict([('j', 2.0),\n",
              "                           ('r', 21.0),\n",
              "                           ('start', 6.5),\n",
              "                           ('input_shape', [-1, 8, 8, 8]),\n",
              "                           ('output_shape', [-1, 8, 8, 8])])),\n",
              "             ('26',\n",
              "              OrderedDict([('j', 2.0),\n",
              "                           ('r', 21.0),\n",
              "                           ('start', 6.5),\n",
              "                           ('input_shape', [-1, 8, 8, 8]),\n",
              "                           ('output_shape', [-1, 8, 8, 8])])),\n",
              "             ('27',\n",
              "              OrderedDict([('j', 2.0),\n",
              "                           ('r', 25.0),\n",
              "                           ('start', 8.5),\n",
              "                           ('input_shape', [-1, 8, 8, 8]),\n",
              "                           ('output_shape', [-1, 16, 6, 6])])),\n",
              "             ('28',\n",
              "              OrderedDict([('j', 2.0),\n",
              "                           ('r', 25.0),\n",
              "                           ('start', 8.5),\n",
              "                           ('input_shape', [-1, 16, 6, 6]),\n",
              "                           ('output_shape', [-1, 16, 6, 6])])),\n",
              "             ('29',\n",
              "              OrderedDict([('j', 2.0),\n",
              "                           ('r', 25.0),\n",
              "                           ('start', 8.5),\n",
              "                           ('input_shape', [-1, 16, 6, 6]),\n",
              "                           ('output_shape', [-1, 16, 6, 6])])),\n",
              "             ('30',\n",
              "              OrderedDict([('j', 2.0),\n",
              "                           ('r', 29.0),\n",
              "                           ('start', 10.5),\n",
              "                           ('input_shape', [-1, 16, 6, 6]),\n",
              "                           ('output_shape', [-1, 16, 4, 4])])),\n",
              "             ('31',\n",
              "              OrderedDict([('j', 2.0),\n",
              "                           ('r', 29.0),\n",
              "                           ('start', 10.5),\n",
              "                           ('input_shape', [-1, 16, 4, 4]),\n",
              "                           ('output_shape', [-1, 16, 4, 4])])),\n",
              "             ('32',\n",
              "              OrderedDict([('j', 2.0),\n",
              "                           ('r', 29.0),\n",
              "                           ('start', 10.5),\n",
              "                           ('input_shape', [-1, 16, 4, 4]),\n",
              "                           ('output_shape', [-1, 16, 4, 4])])),\n",
              "             ('33',\n",
              "              OrderedDict([('j', 8.0),\n",
              "                           ('r', 35.0),\n",
              "                           ('start', 13.5),\n",
              "                           ('input_shape', [-1, 16, 4, 4]),\n",
              "                           ('output_shape', [-1, 16, 1, 1])])),\n",
              "             ('34',\n",
              "              OrderedDict([('j', 8.0),\n",
              "                           ('r', 35.0),\n",
              "                           ('start', 13.5),\n",
              "                           ('input_shape', [-1, 16, 1, 1]),\n",
              "                           ('output_shape', [-1, 10, 1, 1])])),\n",
              "             ('input_size', (1, 28, 28))])"
            ]
          },
          "metadata": {},
          "execution_count": 39
        }
      ]
    },
    {
      "cell_type": "markdown",
      "source": [
        "## Training"
      ],
      "metadata": {
        "id": "uiDNSZ6HqPQ4"
      }
    },
    {
      "cell_type": "code",
      "source": [
        "model = Net().to(device)"
      ],
      "metadata": {
        "id": "CfTTgd_zqfpX"
      },
      "execution_count": 34,
      "outputs": []
    },
    {
      "cell_type": "code",
      "source": [
        "import torch.optim as optim"
      ],
      "metadata": {
        "id": "4J9i_cYaqYXR"
      },
      "execution_count": 35,
      "outputs": []
    },
    {
      "cell_type": "code",
      "source": [
        "optimizer = optim.SGD(model.parameters(), lr=0.1, momentum=0.9)\n",
        "scheduler = optim.lr_scheduler.StepLR(optimizer, step_size=6, gamma=0.1, verbose=True)\n",
        "num_epochs = 20\n",
        "\n",
        "metrics = { 'train_acc': [], 'train_losses': [],\n",
        "            'test_acc': [], 'test_losses': [] }\n",
        "\n",
        "for epoch in range(1, num_epochs + 1):\n",
        "    print(f'Epoch {epoch}')\n",
        "    U.train(model, device, train_dataloader, optimizer, metrics)\n",
        "    U.test(model, device, test_dataloader, metrics)\n",
        "    scheduler.step()"
      ],
      "metadata": {
        "colab": {
          "base_uri": "https://localhost:8080/"
        },
        "id": "ffqkmOOrqRzH",
        "outputId": "8f624e0a-8db6-419f-a3cd-2d1778762b45"
      },
      "execution_count": 36,
      "outputs": [
        {
          "output_type": "stream",
          "name": "stdout",
          "text": [
            "Adjusting learning rate of group 0 to 1.0000e-01.\n",
            "Epoch 1\n"
          ]
        },
        {
          "output_type": "stream",
          "name": "stderr",
          "text": [
            "Train: Loss=0.1988 Batch_id=468 Accuracy=88.25: 100%|██████████| 469/469 [00:30<00:00, 15.36it/s]\n"
          ]
        },
        {
          "output_type": "stream",
          "name": "stdout",
          "text": [
            "              precision    recall  f1-score   support\n",
            "\n",
            "           0       0.99      0.93      0.96      1050\n",
            "           1       0.99      0.98      0.98      1144\n",
            "           2       0.98      0.95      0.96      1061\n",
            "           3       0.94      0.98      0.96       978\n",
            "           4       0.98      0.96      0.97      1002\n",
            "           5       0.98      0.94      0.96       925\n",
            "           6       0.92      0.99      0.95       898\n",
            "           7       0.96      0.97      0.97      1021\n",
            "           8       0.95      0.98      0.96       947\n",
            "           9       0.95      0.98      0.96       974\n",
            "\n",
            "    accuracy                           0.96     10000\n",
            "   macro avg       0.96      0.97      0.96     10000\n",
            "weighted avg       0.97      0.96      0.96     10000\n",
            "\n",
            "Test set: Average loss: 0.1063, Accuracy: 9649/10000 (96.49%)\n",
            "\n",
            "Adjusting learning rate of group 0 to 1.0000e-01.\n",
            "Epoch 2\n"
          ]
        },
        {
          "output_type": "stream",
          "name": "stderr",
          "text": [
            "Train: Loss=0.1822 Batch_id=468 Accuracy=95.12: 100%|██████████| 469/469 [00:24<00:00, 18.85it/s]\n"
          ]
        },
        {
          "output_type": "stream",
          "name": "stdout",
          "text": [
            "              precision    recall  f1-score   support\n",
            "\n",
            "           0       0.99      0.95      0.97      1030\n",
            "           1       1.00      0.97      0.98      1172\n",
            "           2       0.97      0.98      0.97      1026\n",
            "           3       0.98      0.96      0.97      1029\n",
            "           4       0.97      0.99      0.98       957\n",
            "           5       0.94      0.99      0.97       851\n",
            "           6       0.94      0.99      0.96       907\n",
            "           7       0.98      0.96      0.97      1051\n",
            "           8       0.97      0.97      0.97       978\n",
            "           9       0.96      0.97      0.97       999\n",
            "\n",
            "    accuracy                           0.97     10000\n",
            "   macro avg       0.97      0.97      0.97     10000\n",
            "weighted avg       0.97      0.97      0.97     10000\n",
            "\n",
            "Test set: Average loss: 0.0888, Accuracy: 9712/10000 (97.12%)\n",
            "\n",
            "Adjusting learning rate of group 0 to 1.0000e-01.\n",
            "Epoch 3\n"
          ]
        },
        {
          "output_type": "stream",
          "name": "stderr",
          "text": [
            "Train: Loss=0.1705 Batch_id=468 Accuracy=96.11: 100%|██████████| 469/469 [00:24<00:00, 19.14it/s]\n"
          ]
        },
        {
          "output_type": "stream",
          "name": "stdout",
          "text": [
            "              precision    recall  f1-score   support\n",
            "\n",
            "           0       0.99      0.97      0.98      1006\n",
            "           1       0.99      0.99      0.99      1141\n",
            "           2       0.99      0.97      0.98      1050\n",
            "           3       0.98      0.98      0.98      1015\n",
            "           4       1.00      0.97      0.98      1008\n",
            "           5       0.97      0.99      0.98       876\n",
            "           6       0.98      0.98      0.98       954\n",
            "           7       0.98      0.98      0.98      1020\n",
            "           8       0.96      0.98      0.97       954\n",
            "           9       0.95      0.99      0.97       976\n",
            "\n",
            "    accuracy                           0.98     10000\n",
            "   macro avg       0.98      0.98      0.98     10000\n",
            "weighted avg       0.98      0.98      0.98     10000\n",
            "\n",
            "Test set: Average loss: 0.0647, Accuracy: 9792/10000 (97.92%)\n",
            "\n",
            "Adjusting learning rate of group 0 to 1.0000e-01.\n",
            "Epoch 4\n"
          ]
        },
        {
          "output_type": "stream",
          "name": "stderr",
          "text": [
            "Train: Loss=0.1530 Batch_id=468 Accuracy=96.52: 100%|██████████| 469/469 [00:24<00:00, 19.17it/s]\n"
          ]
        },
        {
          "output_type": "stream",
          "name": "stdout",
          "text": [
            "              precision    recall  f1-score   support\n",
            "\n",
            "           0       0.99      0.98      0.99       989\n",
            "           1       0.99      0.99      0.99      1142\n",
            "           2       0.98      0.98      0.98      1031\n",
            "           3       0.98      0.98      0.98      1009\n",
            "           4       0.96      0.99      0.98       952\n",
            "           5       0.98      0.98      0.98       897\n",
            "           6       0.97      0.99      0.98       935\n",
            "           7       0.99      0.97      0.98      1051\n",
            "           8       0.98      0.98      0.98       976\n",
            "           9       0.98      0.97      0.97      1018\n",
            "\n",
            "    accuracy                           0.98     10000\n",
            "   macro avg       0.98      0.98      0.98     10000\n",
            "weighted avg       0.98      0.98      0.98     10000\n",
            "\n",
            "Test set: Average loss: 0.0551, Accuracy: 9829/10000 (98.29%)\n",
            "\n",
            "Adjusting learning rate of group 0 to 1.0000e-01.\n",
            "Epoch 5\n"
          ]
        },
        {
          "output_type": "stream",
          "name": "stderr",
          "text": [
            "Train: Loss=0.2702 Batch_id=468 Accuracy=96.82: 100%|██████████| 469/469 [00:24<00:00, 19.27it/s]\n"
          ]
        },
        {
          "output_type": "stream",
          "name": "stdout",
          "text": [
            "              precision    recall  f1-score   support\n",
            "\n",
            "           0       0.99      0.97      0.98      1000\n",
            "           1       1.00      0.99      0.99      1148\n",
            "           2       0.99      0.99      0.99      1032\n",
            "           3       0.99      0.99      0.99      1008\n",
            "           4       0.98      0.99      0.99       973\n",
            "           5       0.98      0.98      0.98       892\n",
            "           6       0.98      0.98      0.98       953\n",
            "           7       0.99      0.98      0.99      1038\n",
            "           8       0.97      0.99      0.98       952\n",
            "           9       0.98      0.98      0.98      1004\n",
            "\n",
            "    accuracy                           0.98     10000\n",
            "   macro avg       0.98      0.98      0.98     10000\n",
            "weighted avg       0.98      0.98      0.98     10000\n",
            "\n",
            "Test set: Average loss: 0.0492, Accuracy: 9840/10000 (98.40%)\n",
            "\n",
            "Adjusting learning rate of group 0 to 1.0000e-01.\n",
            "Epoch 6\n"
          ]
        },
        {
          "output_type": "stream",
          "name": "stderr",
          "text": [
            "Train: Loss=0.1124 Batch_id=468 Accuracy=97.03: 100%|██████████| 469/469 [00:24<00:00, 19.15it/s]\n"
          ]
        },
        {
          "output_type": "stream",
          "name": "stdout",
          "text": [
            "              precision    recall  f1-score   support\n",
            "\n",
            "           0       1.00      0.97      0.98      1006\n",
            "           1       1.00      0.98      0.99      1156\n",
            "           2       0.98      0.98      0.98      1032\n",
            "           3       0.98      0.99      0.99       996\n",
            "           4       0.98      0.99      0.99       974\n",
            "           5       0.98      0.99      0.98       885\n",
            "           6       0.98      0.99      0.98       944\n",
            "           7       0.99      0.97      0.98      1056\n",
            "           8       0.97      0.99      0.98       961\n",
            "           9       0.97      0.99      0.98       990\n",
            "\n",
            "    accuracy                           0.98     10000\n",
            "   macro avg       0.98      0.98      0.98     10000\n",
            "weighted avg       0.98      0.98      0.98     10000\n",
            "\n",
            "Test set: Average loss: 0.0515, Accuracy: 9831/10000 (98.31%)\n",
            "\n",
            "Adjusting learning rate of group 0 to 1.0000e-02.\n",
            "Epoch 7\n"
          ]
        },
        {
          "output_type": "stream",
          "name": "stderr",
          "text": [
            "Train: Loss=0.1249 Batch_id=468 Accuracy=97.54: 100%|██████████| 469/469 [00:25<00:00, 18.21it/s]\n"
          ]
        },
        {
          "output_type": "stream",
          "name": "stdout",
          "text": [
            "              precision    recall  f1-score   support\n",
            "\n",
            "           0       1.00      0.98      0.99       993\n",
            "           1       1.00      0.99      0.99      1142\n",
            "           2       0.99      0.99      0.99      1033\n",
            "           3       0.99      0.99      0.99      1010\n",
            "           4       0.99      0.99      0.99       981\n",
            "           5       0.99      0.99      0.99       889\n",
            "           6       0.98      1.00      0.99       941\n",
            "           7       0.99      0.98      0.99      1039\n",
            "           8       0.99      0.99      0.99       972\n",
            "           9       0.98      0.99      0.98      1000\n",
            "\n",
            "    accuracy                           0.99     10000\n",
            "   macro avg       0.99      0.99      0.99     10000\n",
            "weighted avg       0.99      0.99      0.99     10000\n",
            "\n",
            "Test set: Average loss: 0.0355, Accuracy: 9888/10000 (98.88%)\n",
            "\n",
            "Adjusting learning rate of group 0 to 1.0000e-02.\n",
            "Epoch 8\n"
          ]
        },
        {
          "output_type": "stream",
          "name": "stderr",
          "text": [
            "Train: Loss=0.0879 Batch_id=468 Accuracy=97.73: 100%|██████████| 469/469 [00:24<00:00, 19.07it/s]\n"
          ]
        },
        {
          "output_type": "stream",
          "name": "stdout",
          "text": [
            "              precision    recall  f1-score   support\n",
            "\n",
            "           0       1.00      0.99      0.99       988\n",
            "           1       1.00      0.99      0.99      1143\n",
            "           2       0.99      0.99      0.99      1031\n",
            "           3       0.99      0.99      0.99      1009\n",
            "           4       0.99      0.99      0.99       980\n",
            "           5       0.99      0.99      0.99       890\n",
            "           6       0.98      1.00      0.99       943\n",
            "           7       0.99      0.98      0.98      1044\n",
            "           8       0.99      0.98      0.99       977\n",
            "           9       0.97      0.99      0.98       995\n",
            "\n",
            "    accuracy                           0.99     10000\n",
            "   macro avg       0.99      0.99      0.99     10000\n",
            "weighted avg       0.99      0.99      0.99     10000\n",
            "\n",
            "Test set: Average loss: 0.0361, Accuracy: 9878/10000 (98.78%)\n",
            "\n",
            "Adjusting learning rate of group 0 to 1.0000e-02.\n",
            "Epoch 9\n"
          ]
        },
        {
          "output_type": "stream",
          "name": "stderr",
          "text": [
            "Train: Loss=0.1810 Batch_id=468 Accuracy=97.82: 100%|██████████| 469/469 [00:24<00:00, 19.14it/s]\n"
          ]
        },
        {
          "output_type": "stream",
          "name": "stdout",
          "text": [
            "              precision    recall  f1-score   support\n",
            "\n",
            "           0       1.00      0.98      0.99       996\n",
            "           1       1.00      0.99      0.99      1139\n",
            "           2       0.99      0.99      0.99      1036\n",
            "           3       0.99      0.99      0.99      1008\n",
            "           4       0.99      0.99      0.99       979\n",
            "           5       0.98      0.99      0.99       886\n",
            "           6       0.98      0.99      0.99       950\n",
            "           7       0.99      0.98      0.98      1037\n",
            "           8       0.98      0.99      0.99       972\n",
            "           9       0.98      0.99      0.98       997\n",
            "\n",
            "    accuracy                           0.99     10000\n",
            "   macro avg       0.99      0.99      0.99     10000\n",
            "weighted avg       0.99      0.99      0.99     10000\n",
            "\n",
            "Test set: Average loss: 0.0361, Accuracy: 9878/10000 (98.78%)\n",
            "\n",
            "Adjusting learning rate of group 0 to 1.0000e-02.\n",
            "Epoch 10\n"
          ]
        },
        {
          "output_type": "stream",
          "name": "stderr",
          "text": [
            "Train: Loss=0.0227 Batch_id=468 Accuracy=97.75: 100%|██████████| 469/469 [00:24<00:00, 19.27it/s]\n"
          ]
        },
        {
          "output_type": "stream",
          "name": "stdout",
          "text": [
            "              precision    recall  f1-score   support\n",
            "\n",
            "           0       1.00      0.99      0.99       989\n",
            "           1       1.00      0.99      0.99      1143\n",
            "           2       0.99      0.99      0.99      1032\n",
            "           3       0.99      0.99      0.99      1008\n",
            "           4       0.99      0.99      0.99       981\n",
            "           5       0.99      0.99      0.99       892\n",
            "           6       0.98      1.00      0.99       942\n",
            "           7       0.99      0.98      0.98      1040\n",
            "           8       0.98      0.99      0.99       967\n",
            "           9       0.98      0.98      0.98      1006\n",
            "\n",
            "    accuracy                           0.99     10000\n",
            "   macro avg       0.99      0.99      0.99     10000\n",
            "weighted avg       0.99      0.99      0.99     10000\n",
            "\n",
            "Test set: Average loss: 0.0353, Accuracy: 9881/10000 (98.81%)\n",
            "\n",
            "Adjusting learning rate of group 0 to 1.0000e-02.\n",
            "Epoch 11\n"
          ]
        },
        {
          "output_type": "stream",
          "name": "stderr",
          "text": [
            "Train: Loss=0.0381 Batch_id=468 Accuracy=97.94: 100%|██████████| 469/469 [00:24<00:00, 19.20it/s]\n"
          ]
        },
        {
          "output_type": "stream",
          "name": "stdout",
          "text": [
            "              precision    recall  f1-score   support\n",
            "\n",
            "           0       1.00      0.98      0.99       991\n",
            "           1       1.00      0.99      0.99      1142\n",
            "           2       0.99      0.99      0.99      1034\n",
            "           3       0.99      0.99      0.99      1009\n",
            "           4       0.99      0.99      0.99       982\n",
            "           5       0.99      0.99      0.99       892\n",
            "           6       0.98      1.00      0.99       941\n",
            "           7       0.99      0.98      0.99      1038\n",
            "           8       0.99      0.99      0.99       973\n",
            "           9       0.98      0.99      0.98       998\n",
            "\n",
            "    accuracy                           0.99     10000\n",
            "   macro avg       0.99      0.99      0.99     10000\n",
            "weighted avg       0.99      0.99      0.99     10000\n",
            "\n",
            "Test set: Average loss: 0.0350, Accuracy: 9891/10000 (98.91%)\n",
            "\n",
            "Adjusting learning rate of group 0 to 1.0000e-02.\n",
            "Epoch 12\n"
          ]
        },
        {
          "output_type": "stream",
          "name": "stderr",
          "text": [
            "Train: Loss=0.0571 Batch_id=468 Accuracy=97.80: 100%|██████████| 469/469 [00:24<00:00, 19.12it/s]\n"
          ]
        },
        {
          "output_type": "stream",
          "name": "stdout",
          "text": [
            "              precision    recall  f1-score   support\n",
            "\n",
            "           0       0.99      0.98      0.99       989\n",
            "           1       1.00      0.99      0.99      1145\n",
            "           2       0.99      0.99      0.99      1032\n",
            "           3       0.99      0.99      0.99      1011\n",
            "           4       0.99      0.99      0.99       981\n",
            "           5       0.98      0.99      0.99       889\n",
            "           6       0.98      0.99      0.99       945\n",
            "           7       0.99      0.98      0.99      1038\n",
            "           8       0.99      0.99      0.99       972\n",
            "           9       0.98      0.99      0.98       998\n",
            "\n",
            "    accuracy                           0.99     10000\n",
            "   macro avg       0.99      0.99      0.99     10000\n",
            "weighted avg       0.99      0.99      0.99     10000\n",
            "\n",
            "Test set: Average loss: 0.0347, Accuracy: 9883/10000 (98.83%)\n",
            "\n",
            "Adjusting learning rate of group 0 to 1.0000e-03.\n",
            "Epoch 13\n"
          ]
        },
        {
          "output_type": "stream",
          "name": "stderr",
          "text": [
            "Train: Loss=0.0726 Batch_id=468 Accuracy=97.88: 100%|██████████| 469/469 [00:25<00:00, 18.43it/s]\n"
          ]
        },
        {
          "output_type": "stream",
          "name": "stdout",
          "text": [
            "              precision    recall  f1-score   support\n",
            "\n",
            "           0       0.99      0.98      0.99       991\n",
            "           1       1.00      0.99      0.99      1145\n",
            "           2       0.99      0.99      0.99      1034\n",
            "           3       0.99      0.99      0.99      1008\n",
            "           4       0.99      0.99      0.99       980\n",
            "           5       0.98      0.99      0.99       888\n",
            "           6       0.98      1.00      0.99       944\n",
            "           7       0.99      0.98      0.99      1039\n",
            "           8       0.99      0.99      0.99       970\n",
            "           9       0.98      0.99      0.98      1001\n",
            "\n",
            "    accuracy                           0.99     10000\n",
            "   macro avg       0.99      0.99      0.99     10000\n",
            "weighted avg       0.99      0.99      0.99     10000\n",
            "\n",
            "Test set: Average loss: 0.0349, Accuracy: 9885/10000 (98.85%)\n",
            "\n",
            "Adjusting learning rate of group 0 to 1.0000e-03.\n",
            "Epoch 14\n"
          ]
        },
        {
          "output_type": "stream",
          "name": "stderr",
          "text": [
            "Train: Loss=0.0157 Batch_id=468 Accuracy=97.83: 100%|██████████| 469/469 [00:24<00:00, 19.12it/s]\n"
          ]
        },
        {
          "output_type": "stream",
          "name": "stdout",
          "text": [
            "              precision    recall  f1-score   support\n",
            "\n",
            "           0       1.00      0.98      0.99       993\n",
            "           1       1.00      0.99      0.99      1144\n",
            "           2       0.99      0.99      0.99      1038\n",
            "           3       0.99      0.99      0.99      1010\n",
            "           4       0.99      0.99      0.99       980\n",
            "           5       0.98      0.99      0.99       888\n",
            "           6       0.98      1.00      0.99       943\n",
            "           7       0.99      0.98      0.99      1036\n",
            "           8       0.99      0.99      0.99       973\n",
            "           9       0.98      0.99      0.98       995\n",
            "\n",
            "    accuracy                           0.99     10000\n",
            "   macro avg       0.99      0.99      0.99     10000\n",
            "weighted avg       0.99      0.99      0.99     10000\n",
            "\n",
            "Test set: Average loss: 0.0349, Accuracy: 9886/10000 (98.86%)\n",
            "\n",
            "Adjusting learning rate of group 0 to 1.0000e-03.\n",
            "Epoch 15\n"
          ]
        },
        {
          "output_type": "stream",
          "name": "stderr",
          "text": [
            "Train: Loss=0.0924 Batch_id=468 Accuracy=97.94: 100%|██████████| 469/469 [00:24<00:00, 19.11it/s]\n"
          ]
        },
        {
          "output_type": "stream",
          "name": "stdout",
          "text": [
            "              precision    recall  f1-score   support\n",
            "\n",
            "           0       1.00      0.98      0.99       993\n",
            "           1       1.00      0.99      0.99      1144\n",
            "           2       0.99      0.99      0.99      1034\n",
            "           3       0.99      0.99      0.99      1006\n",
            "           4       0.99      0.99      0.99       979\n",
            "           5       0.99      0.99      0.99       890\n",
            "           6       0.98      1.00      0.99       943\n",
            "           7       0.99      0.98      0.99      1040\n",
            "           8       0.99      0.99      0.99       971\n",
            "           9       0.98      0.99      0.98      1000\n",
            "\n",
            "    accuracy                           0.99     10000\n",
            "   macro avg       0.99      0.99      0.99     10000\n",
            "weighted avg       0.99      0.99      0.99     10000\n",
            "\n",
            "Test set: Average loss: 0.0343, Accuracy: 9890/10000 (98.90%)\n",
            "\n",
            "Adjusting learning rate of group 0 to 1.0000e-03.\n",
            "Epoch 16\n"
          ]
        },
        {
          "output_type": "stream",
          "name": "stderr",
          "text": [
            "Train: Loss=0.0724 Batch_id=468 Accuracy=97.91: 100%|██████████| 469/469 [00:24<00:00, 19.14it/s]\n"
          ]
        },
        {
          "output_type": "stream",
          "name": "stdout",
          "text": [
            "              precision    recall  f1-score   support\n",
            "\n",
            "           0       1.00      0.98      0.99       991\n",
            "           1       1.00      0.99      0.99      1142\n",
            "           2       0.99      0.99      0.99      1038\n",
            "           3       0.99      0.99      0.99      1010\n",
            "           4       0.99      0.99      0.99       978\n",
            "           5       0.99      0.99      0.99       890\n",
            "           6       0.98      1.00      0.99       943\n",
            "           7       0.99      0.98      0.99      1038\n",
            "           8       0.99      0.99      0.99       971\n",
            "           9       0.98      0.99      0.98       999\n",
            "\n",
            "    accuracy                           0.99     10000\n",
            "   macro avg       0.99      0.99      0.99     10000\n",
            "weighted avg       0.99      0.99      0.99     10000\n",
            "\n",
            "Test set: Average loss: 0.0343, Accuracy: 9889/10000 (98.89%)\n",
            "\n",
            "Adjusting learning rate of group 0 to 1.0000e-03.\n",
            "Epoch 17\n"
          ]
        },
        {
          "output_type": "stream",
          "name": "stderr",
          "text": [
            "Train: Loss=0.0761 Batch_id=468 Accuracy=97.87: 100%|██████████| 469/469 [00:24<00:00, 19.06it/s]\n"
          ]
        },
        {
          "output_type": "stream",
          "name": "stdout",
          "text": [
            "              precision    recall  f1-score   support\n",
            "\n",
            "           0       1.00      0.98      0.99       992\n",
            "           1       1.00      0.99      0.99      1141\n",
            "           2       0.99      0.99      0.99      1039\n",
            "           3       0.99      0.99      0.99      1009\n",
            "           4       0.99      0.99      0.99       978\n",
            "           5       0.99      0.99      0.99       890\n",
            "           6       0.98      1.00      0.99       944\n",
            "           7       0.99      0.98      0.99      1037\n",
            "           8       0.99      0.99      0.99       972\n",
            "           9       0.98      0.99      0.98       998\n",
            "\n",
            "    accuracy                           0.99     10000\n",
            "   macro avg       0.99      0.99      0.99     10000\n",
            "weighted avg       0.99      0.99      0.99     10000\n",
            "\n",
            "Test set: Average loss: 0.0337, Accuracy: 9888/10000 (98.88%)\n",
            "\n",
            "Adjusting learning rate of group 0 to 1.0000e-03.\n",
            "Epoch 18\n"
          ]
        },
        {
          "output_type": "stream",
          "name": "stderr",
          "text": [
            "Train: Loss=0.1139 Batch_id=468 Accuracy=97.91: 100%|██████████| 469/469 [00:26<00:00, 17.99it/s]\n"
          ]
        },
        {
          "output_type": "stream",
          "name": "stdout",
          "text": [
            "              precision    recall  f1-score   support\n",
            "\n",
            "           0       1.00      0.99      0.99       990\n",
            "           1       1.00      0.99      0.99      1144\n",
            "           2       0.99      0.99      0.99      1037\n",
            "           3       0.99      0.99      0.99      1009\n",
            "           4       0.99      0.99      0.99       979\n",
            "           5       0.99      0.99      0.99       891\n",
            "           6       0.98      1.00      0.99       943\n",
            "           7       0.99      0.98      0.99      1037\n",
            "           8       0.99      0.99      0.99       973\n",
            "           9       0.98      0.99      0.98       997\n",
            "\n",
            "    accuracy                           0.99     10000\n",
            "   macro avg       0.99      0.99      0.99     10000\n",
            "weighted avg       0.99      0.99      0.99     10000\n",
            "\n",
            "Test set: Average loss: 0.0337, Accuracy: 9890/10000 (98.90%)\n",
            "\n",
            "Adjusting learning rate of group 0 to 1.0000e-04.\n",
            "Epoch 19\n"
          ]
        },
        {
          "output_type": "stream",
          "name": "stderr",
          "text": [
            "Train: Loss=0.0501 Batch_id=468 Accuracy=97.91: 100%|██████████| 469/469 [00:24<00:00, 19.19it/s]\n"
          ]
        },
        {
          "output_type": "stream",
          "name": "stdout",
          "text": [
            "              precision    recall  f1-score   support\n",
            "\n",
            "           0       1.00      0.99      0.99       990\n",
            "           1       1.00      0.99      0.99      1144\n",
            "           2       0.99      0.99      0.99      1037\n",
            "           3       0.99      0.99      0.99      1010\n",
            "           4       0.99      0.99      0.99       978\n",
            "           5       0.99      0.99      0.99       890\n",
            "           6       0.98      1.00      0.99       943\n",
            "           7       0.99      0.98      0.99      1037\n",
            "           8       0.99      0.99      0.99       973\n",
            "           9       0.98      0.99      0.98       998\n",
            "\n",
            "    accuracy                           0.99     10000\n",
            "   macro avg       0.99      0.99      0.99     10000\n",
            "weighted avg       0.99      0.99      0.99     10000\n",
            "\n",
            "Test set: Average loss: 0.0342, Accuracy: 9888/10000 (98.88%)\n",
            "\n",
            "Adjusting learning rate of group 0 to 1.0000e-04.\n",
            "Epoch 20\n"
          ]
        },
        {
          "output_type": "stream",
          "name": "stderr",
          "text": [
            "Train: Loss=0.0499 Batch_id=468 Accuracy=97.93: 100%|██████████| 469/469 [00:23<00:00, 19.74it/s]\n"
          ]
        },
        {
          "output_type": "stream",
          "name": "stdout",
          "text": [
            "              precision    recall  f1-score   support\n",
            "\n",
            "           0       1.00      0.99      0.99       990\n",
            "           1       1.00      0.99      0.99      1141\n",
            "           2       0.99      0.98      0.99      1041\n",
            "           3       0.99      0.99      0.99      1010\n",
            "           4       0.99      0.99      0.99       979\n",
            "           5       0.99      0.99      0.99       890\n",
            "           6       0.98      0.99      0.99       945\n",
            "           7       0.99      0.98      0.99      1034\n",
            "           8       0.99      0.99      0.99       973\n",
            "           9       0.98      0.99      0.98       997\n",
            "\n",
            "    accuracy                           0.99     10000\n",
            "   macro avg       0.99      0.99      0.99     10000\n",
            "weighted avg       0.99      0.99      0.99     10000\n",
            "\n",
            "Test set: Average loss: 0.0333, Accuracy: 9889/10000 (98.89%)\n",
            "\n",
            "Adjusting learning rate of group 0 to 1.0000e-04.\n"
          ]
        }
      ]
    },
    {
      "cell_type": "markdown",
      "source": [
        "## Display Results"
      ],
      "metadata": {
        "id": "xVXP0fKFzj1Z"
      }
    },
    {
      "cell_type": "code",
      "source": [
        "df = pd.DataFrame(metrics)"
      ],
      "metadata": {
        "id": "qBXxW_lx4rM6"
      },
      "execution_count": null,
      "outputs": []
    },
    {
      "cell_type": "code",
      "source": [
        "df[['train_losses', 'test_losses']].plot()"
      ],
      "metadata": {
        "colab": {
          "base_uri": "https://localhost:8080/",
          "height": 542
        },
        "id": "wEXQxw4wTjHN",
        "outputId": "751ae7f5-0b50-48c6-b7b0-93202ec2f259"
      },
      "execution_count": null,
      "outputs": [
        {
          "output_type": "display_data",
          "data": {
            "text/html": [
              "<html>\n",
              "<head><meta charset=\"utf-8\" /></head>\n",
              "<body>\n",
              "    <div>            <script src=\"https://cdnjs.cloudflare.com/ajax/libs/mathjax/2.7.5/MathJax.js?config=TeX-AMS-MML_SVG\"></script><script type=\"text/javascript\">if (window.MathJax && window.MathJax.Hub && window.MathJax.Hub.Config) {window.MathJax.Hub.Config({SVG: {font: \"STIX-Web\"}});}</script>                <script type=\"text/javascript\">window.PlotlyConfig = {MathJaxConfig: 'local'};</script>\n",
              "        <script src=\"https://cdn.plot.ly/plotly-2.18.2.min.js\"></script>                <div id=\"bdb8f5d4-45d9-42c9-bc56-c52bcd7cfb8b\" class=\"plotly-graph-div\" style=\"height:525px; width:100%;\"></div>            <script type=\"text/javascript\">                                    window.PLOTLYENV=window.PLOTLYENV || {};                                    if (document.getElementById(\"bdb8f5d4-45d9-42c9-bc56-c52bcd7cfb8b\")) {                    Plotly.newPlot(                        \"bdb8f5d4-45d9-42c9-bc56-c52bcd7cfb8b\",                        [{\"hovertemplate\":\"variable=train_losses<br>index=%{x}<br>value=%{y}<extra></extra>\",\"legendgroup\":\"train_losses\",\"line\":{\"color\":\"#636efa\",\"dash\":\"solid\"},\"marker\":{\"symbol\":\"circle\"},\"mode\":\"lines\",\"name\":\"train_losses\",\"orientation\":\"v\",\"showlegend\":true,\"x\":[0,1,2,3,4,5,6,7,8,9,10,11,12,13,14,15,16,17,18,19],\"xaxis\":\"x\",\"y\":[0.36065603224402765,0.07717815101525541,0.06071025153456287,0.052297953642525916,0.04761924021640571,0.044820216429119895,0.035436133127975264,0.03381796511111118,0.031976218489235486,0.03179690899264257,0.03058425291299315,0.03131887737377468,0.029676752914753506,0.02966495937178448,0.029925460082684027,0.030500156733886164,0.029583849012851715,0.02830474131535423,0.029715048804310924,0.030775843338125337],\"yaxis\":\"y\",\"type\":\"scatter\"},{\"hovertemplate\":\"variable=test_losses<br>index=%{x}<br>value=%{y}<extra></extra>\",\"legendgroup\":\"test_losses\",\"line\":{\"color\":\"#EF553B\",\"dash\":\"solid\"},\"marker\":{\"symbol\":\"circle\"},\"mode\":\"lines\",\"name\":\"test_losses\",\"orientation\":\"v\",\"showlegend\":true,\"x\":[0,1,2,3,4,5,6,7,8,9,10,11,12,13,14,15,16,17,18,19],\"xaxis\":\"x\",\"y\":[0.06281507225036621,0.036748953342437746,0.03288969388008118,0.03725401582717895,0.028616151428222655,0.025102040481567382,0.019487552332878112,0.020051990532875062,0.019916568684577942,0.019977282691001894,0.018095819878578185,0.01788035020828247,0.017905800354480743,0.018468843770027162,0.018049407291412353,0.017764000958204268,0.018110212051868437,0.017653742897510528,0.01782397711277008,0.0181930207490921],\"yaxis\":\"y\",\"type\":\"scatter\"}],                        {\"template\":{\"data\":{\"histogram2dcontour\":[{\"type\":\"histogram2dcontour\",\"colorbar\":{\"outlinewidth\":0,\"ticks\":\"\"},\"colorscale\":[[0.0,\"#0d0887\"],[0.1111111111111111,\"#46039f\"],[0.2222222222222222,\"#7201a8\"],[0.3333333333333333,\"#9c179e\"],[0.4444444444444444,\"#bd3786\"],[0.5555555555555556,\"#d8576b\"],[0.6666666666666666,\"#ed7953\"],[0.7777777777777778,\"#fb9f3a\"],[0.8888888888888888,\"#fdca26\"],[1.0,\"#f0f921\"]]}],\"choropleth\":[{\"type\":\"choropleth\",\"colorbar\":{\"outlinewidth\":0,\"ticks\":\"\"}}],\"histogram2d\":[{\"type\":\"histogram2d\",\"colorbar\":{\"outlinewidth\":0,\"ticks\":\"\"},\"colorscale\":[[0.0,\"#0d0887\"],[0.1111111111111111,\"#46039f\"],[0.2222222222222222,\"#7201a8\"],[0.3333333333333333,\"#9c179e\"],[0.4444444444444444,\"#bd3786\"],[0.5555555555555556,\"#d8576b\"],[0.6666666666666666,\"#ed7953\"],[0.7777777777777778,\"#fb9f3a\"],[0.8888888888888888,\"#fdca26\"],[1.0,\"#f0f921\"]]}],\"heatmap\":[{\"type\":\"heatmap\",\"colorbar\":{\"outlinewidth\":0,\"ticks\":\"\"},\"colorscale\":[[0.0,\"#0d0887\"],[0.1111111111111111,\"#46039f\"],[0.2222222222222222,\"#7201a8\"],[0.3333333333333333,\"#9c179e\"],[0.4444444444444444,\"#bd3786\"],[0.5555555555555556,\"#d8576b\"],[0.6666666666666666,\"#ed7953\"],[0.7777777777777778,\"#fb9f3a\"],[0.8888888888888888,\"#fdca26\"],[1.0,\"#f0f921\"]]}],\"heatmapgl\":[{\"type\":\"heatmapgl\",\"colorbar\":{\"outlinewidth\":0,\"ticks\":\"\"},\"colorscale\":[[0.0,\"#0d0887\"],[0.1111111111111111,\"#46039f\"],[0.2222222222222222,\"#7201a8\"],[0.3333333333333333,\"#9c179e\"],[0.4444444444444444,\"#bd3786\"],[0.5555555555555556,\"#d8576b\"],[0.6666666666666666,\"#ed7953\"],[0.7777777777777778,\"#fb9f3a\"],[0.8888888888888888,\"#fdca26\"],[1.0,\"#f0f921\"]]}],\"contourcarpet\":[{\"type\":\"contourcarpet\",\"colorbar\":{\"outlinewidth\":0,\"ticks\":\"\"}}],\"contour\":[{\"type\":\"contour\",\"colorbar\":{\"outlinewidth\":0,\"ticks\":\"\"},\"colorscale\":[[0.0,\"#0d0887\"],[0.1111111111111111,\"#46039f\"],[0.2222222222222222,\"#7201a8\"],[0.3333333333333333,\"#9c179e\"],[0.4444444444444444,\"#bd3786\"],[0.5555555555555556,\"#d8576b\"],[0.6666666666666666,\"#ed7953\"],[0.7777777777777778,\"#fb9f3a\"],[0.8888888888888888,\"#fdca26\"],[1.0,\"#f0f921\"]]}],\"surface\":[{\"type\":\"surface\",\"colorbar\":{\"outlinewidth\":0,\"ticks\":\"\"},\"colorscale\":[[0.0,\"#0d0887\"],[0.1111111111111111,\"#46039f\"],[0.2222222222222222,\"#7201a8\"],[0.3333333333333333,\"#9c179e\"],[0.4444444444444444,\"#bd3786\"],[0.5555555555555556,\"#d8576b\"],[0.6666666666666666,\"#ed7953\"],[0.7777777777777778,\"#fb9f3a\"],[0.8888888888888888,\"#fdca26\"],[1.0,\"#f0f921\"]]}],\"mesh3d\":[{\"type\":\"mesh3d\",\"colorbar\":{\"outlinewidth\":0,\"ticks\":\"\"}}],\"scatter\":[{\"fillpattern\":{\"fillmode\":\"overlay\",\"size\":10,\"solidity\":0.2},\"type\":\"scatter\"}],\"parcoords\":[{\"type\":\"parcoords\",\"line\":{\"colorbar\":{\"outlinewidth\":0,\"ticks\":\"\"}}}],\"scatterpolargl\":[{\"type\":\"scatterpolargl\",\"marker\":{\"colorbar\":{\"outlinewidth\":0,\"ticks\":\"\"}}}],\"bar\":[{\"error_x\":{\"color\":\"#2a3f5f\"},\"error_y\":{\"color\":\"#2a3f5f\"},\"marker\":{\"line\":{\"color\":\"#E5ECF6\",\"width\":0.5},\"pattern\":{\"fillmode\":\"overlay\",\"size\":10,\"solidity\":0.2}},\"type\":\"bar\"}],\"scattergeo\":[{\"type\":\"scattergeo\",\"marker\":{\"colorbar\":{\"outlinewidth\":0,\"ticks\":\"\"}}}],\"scatterpolar\":[{\"type\":\"scatterpolar\",\"marker\":{\"colorbar\":{\"outlinewidth\":0,\"ticks\":\"\"}}}],\"histogram\":[{\"marker\":{\"pattern\":{\"fillmode\":\"overlay\",\"size\":10,\"solidity\":0.2}},\"type\":\"histogram\"}],\"scattergl\":[{\"type\":\"scattergl\",\"marker\":{\"colorbar\":{\"outlinewidth\":0,\"ticks\":\"\"}}}],\"scatter3d\":[{\"type\":\"scatter3d\",\"line\":{\"colorbar\":{\"outlinewidth\":0,\"ticks\":\"\"}},\"marker\":{\"colorbar\":{\"outlinewidth\":0,\"ticks\":\"\"}}}],\"scattermapbox\":[{\"type\":\"scattermapbox\",\"marker\":{\"colorbar\":{\"outlinewidth\":0,\"ticks\":\"\"}}}],\"scatterternary\":[{\"type\":\"scatterternary\",\"marker\":{\"colorbar\":{\"outlinewidth\":0,\"ticks\":\"\"}}}],\"scattercarpet\":[{\"type\":\"scattercarpet\",\"marker\":{\"colorbar\":{\"outlinewidth\":0,\"ticks\":\"\"}}}],\"carpet\":[{\"aaxis\":{\"endlinecolor\":\"#2a3f5f\",\"gridcolor\":\"white\",\"linecolor\":\"white\",\"minorgridcolor\":\"white\",\"startlinecolor\":\"#2a3f5f\"},\"baxis\":{\"endlinecolor\":\"#2a3f5f\",\"gridcolor\":\"white\",\"linecolor\":\"white\",\"minorgridcolor\":\"white\",\"startlinecolor\":\"#2a3f5f\"},\"type\":\"carpet\"}],\"table\":[{\"cells\":{\"fill\":{\"color\":\"#EBF0F8\"},\"line\":{\"color\":\"white\"}},\"header\":{\"fill\":{\"color\":\"#C8D4E3\"},\"line\":{\"color\":\"white\"}},\"type\":\"table\"}],\"barpolar\":[{\"marker\":{\"line\":{\"color\":\"#E5ECF6\",\"width\":0.5},\"pattern\":{\"fillmode\":\"overlay\",\"size\":10,\"solidity\":0.2}},\"type\":\"barpolar\"}],\"pie\":[{\"automargin\":true,\"type\":\"pie\"}]},\"layout\":{\"autotypenumbers\":\"strict\",\"colorway\":[\"#636efa\",\"#EF553B\",\"#00cc96\",\"#ab63fa\",\"#FFA15A\",\"#19d3f3\",\"#FF6692\",\"#B6E880\",\"#FF97FF\",\"#FECB52\"],\"font\":{\"color\":\"#2a3f5f\"},\"hovermode\":\"closest\",\"hoverlabel\":{\"align\":\"left\"},\"paper_bgcolor\":\"white\",\"plot_bgcolor\":\"#E5ECF6\",\"polar\":{\"bgcolor\":\"#E5ECF6\",\"angularaxis\":{\"gridcolor\":\"white\",\"linecolor\":\"white\",\"ticks\":\"\"},\"radialaxis\":{\"gridcolor\":\"white\",\"linecolor\":\"white\",\"ticks\":\"\"}},\"ternary\":{\"bgcolor\":\"#E5ECF6\",\"aaxis\":{\"gridcolor\":\"white\",\"linecolor\":\"white\",\"ticks\":\"\"},\"baxis\":{\"gridcolor\":\"white\",\"linecolor\":\"white\",\"ticks\":\"\"},\"caxis\":{\"gridcolor\":\"white\",\"linecolor\":\"white\",\"ticks\":\"\"}},\"coloraxis\":{\"colorbar\":{\"outlinewidth\":0,\"ticks\":\"\"}},\"colorscale\":{\"sequential\":[[0.0,\"#0d0887\"],[0.1111111111111111,\"#46039f\"],[0.2222222222222222,\"#7201a8\"],[0.3333333333333333,\"#9c179e\"],[0.4444444444444444,\"#bd3786\"],[0.5555555555555556,\"#d8576b\"],[0.6666666666666666,\"#ed7953\"],[0.7777777777777778,\"#fb9f3a\"],[0.8888888888888888,\"#fdca26\"],[1.0,\"#f0f921\"]],\"sequentialminus\":[[0.0,\"#0d0887\"],[0.1111111111111111,\"#46039f\"],[0.2222222222222222,\"#7201a8\"],[0.3333333333333333,\"#9c179e\"],[0.4444444444444444,\"#bd3786\"],[0.5555555555555556,\"#d8576b\"],[0.6666666666666666,\"#ed7953\"],[0.7777777777777778,\"#fb9f3a\"],[0.8888888888888888,\"#fdca26\"],[1.0,\"#f0f921\"]],\"diverging\":[[0,\"#8e0152\"],[0.1,\"#c51b7d\"],[0.2,\"#de77ae\"],[0.3,\"#f1b6da\"],[0.4,\"#fde0ef\"],[0.5,\"#f7f7f7\"],[0.6,\"#e6f5d0\"],[0.7,\"#b8e186\"],[0.8,\"#7fbc41\"],[0.9,\"#4d9221\"],[1,\"#276419\"]]},\"xaxis\":{\"gridcolor\":\"white\",\"linecolor\":\"white\",\"ticks\":\"\",\"title\":{\"standoff\":15},\"zerolinecolor\":\"white\",\"automargin\":true,\"zerolinewidth\":2},\"yaxis\":{\"gridcolor\":\"white\",\"linecolor\":\"white\",\"ticks\":\"\",\"title\":{\"standoff\":15},\"zerolinecolor\":\"white\",\"automargin\":true,\"zerolinewidth\":2},\"scene\":{\"xaxis\":{\"backgroundcolor\":\"#E5ECF6\",\"gridcolor\":\"white\",\"linecolor\":\"white\",\"showbackground\":true,\"ticks\":\"\",\"zerolinecolor\":\"white\",\"gridwidth\":2},\"yaxis\":{\"backgroundcolor\":\"#E5ECF6\",\"gridcolor\":\"white\",\"linecolor\":\"white\",\"showbackground\":true,\"ticks\":\"\",\"zerolinecolor\":\"white\",\"gridwidth\":2},\"zaxis\":{\"backgroundcolor\":\"#E5ECF6\",\"gridcolor\":\"white\",\"linecolor\":\"white\",\"showbackground\":true,\"ticks\":\"\",\"zerolinecolor\":\"white\",\"gridwidth\":2}},\"shapedefaults\":{\"line\":{\"color\":\"#2a3f5f\"}},\"annotationdefaults\":{\"arrowcolor\":\"#2a3f5f\",\"arrowhead\":0,\"arrowwidth\":1},\"geo\":{\"bgcolor\":\"white\",\"landcolor\":\"#E5ECF6\",\"subunitcolor\":\"white\",\"showland\":true,\"showlakes\":true,\"lakecolor\":\"white\"},\"title\":{\"x\":0.05},\"mapbox\":{\"style\":\"light\"}}},\"xaxis\":{\"anchor\":\"y\",\"domain\":[0.0,1.0],\"title\":{\"text\":\"index\"}},\"yaxis\":{\"anchor\":\"x\",\"domain\":[0.0,1.0],\"title\":{\"text\":\"value\"}},\"legend\":{\"title\":{\"text\":\"variable\"},\"tracegroupgap\":0},\"margin\":{\"t\":60}},                        {\"responsive\": true}                    ).then(function(){\n",
              "                            \n",
              "var gd = document.getElementById('bdb8f5d4-45d9-42c9-bc56-c52bcd7cfb8b');\n",
              "var x = new MutationObserver(function (mutations, observer) {{\n",
              "        var display = window.getComputedStyle(gd).display;\n",
              "        if (!display || display === 'none') {{\n",
              "            console.log([gd, 'removed!']);\n",
              "            Plotly.purge(gd);\n",
              "            observer.disconnect();\n",
              "        }}\n",
              "}});\n",
              "\n",
              "// Listen for the removal of the full notebook cells\n",
              "var notebookContainer = gd.closest('#notebook-container');\n",
              "if (notebookContainer) {{\n",
              "    x.observe(notebookContainer, {childList: true});\n",
              "}}\n",
              "\n",
              "// Listen for the clearing of the current output cell\n",
              "var outputEl = gd.closest('.output');\n",
              "if (outputEl) {{\n",
              "    x.observe(outputEl, {childList: true});\n",
              "}}\n",
              "\n",
              "                        })                };                            </script>        </div>\n",
              "</body>\n",
              "</html>"
            ]
          },
          "metadata": {}
        }
      ]
    },
    {
      "cell_type": "code",
      "source": [
        "df[['train_acc', 'test_acc']].plot()"
      ],
      "metadata": {
        "colab": {
          "base_uri": "https://localhost:8080/",
          "height": 542
        },
        "id": "If8i_k7bTuWo",
        "outputId": "d19f60d3-0d5e-4245-ade6-3c38cce44267"
      },
      "execution_count": null,
      "outputs": [
        {
          "output_type": "display_data",
          "data": {
            "text/html": [
              "<html>\n",
              "<head><meta charset=\"utf-8\" /></head>\n",
              "<body>\n",
              "    <div>            <script src=\"https://cdnjs.cloudflare.com/ajax/libs/mathjax/2.7.5/MathJax.js?config=TeX-AMS-MML_SVG\"></script><script type=\"text/javascript\">if (window.MathJax && window.MathJax.Hub && window.MathJax.Hub.Config) {window.MathJax.Hub.Config({SVG: {font: \"STIX-Web\"}});}</script>                <script type=\"text/javascript\">window.PlotlyConfig = {MathJaxConfig: 'local'};</script>\n",
              "        <script src=\"https://cdn.plot.ly/plotly-2.18.2.min.js\"></script>                <div id=\"7456a415-ef57-473c-bc76-3f975929ff3a\" class=\"plotly-graph-div\" style=\"height:525px; width:100%;\"></div>            <script type=\"text/javascript\">                                    window.PLOTLYENV=window.PLOTLYENV || {};                                    if (document.getElementById(\"7456a415-ef57-473c-bc76-3f975929ff3a\")) {                    Plotly.newPlot(                        \"7456a415-ef57-473c-bc76-3f975929ff3a\",                        [{\"hovertemplate\":\"variable=train_acc<br>index=%{x}<br>value=%{y}<extra></extra>\",\"legendgroup\":\"train_acc\",\"line\":{\"color\":\"#636efa\",\"dash\":\"solid\"},\"marker\":{\"symbol\":\"circle\"},\"mode\":\"lines\",\"name\":\"train_acc\",\"orientation\":\"v\",\"showlegend\":true,\"x\":[0,1,2,3,4,5,6,7,8,9,10,11,12,13,14,15,16,17,18,19],\"xaxis\":\"x\",\"y\":[89.07666666666667,97.65,98.085,98.33833333333334,98.51666666666667,98.595,98.905,98.91333333333333,98.97666666666667,99.04833333333333,99.02,99.00666666666666,99.06333333333333,99.07166666666667,99.09166666666667,99.03166666666667,99.09,99.11166666666666,99.06166666666667,99.03166666666667],\"yaxis\":\"y\",\"type\":\"scatter\"},{\"hovertemplate\":\"variable=test_acc<br>index=%{x}<br>value=%{y}<extra></extra>\",\"legendgroup\":\"test_acc\",\"line\":{\"color\":\"#EF553B\",\"dash\":\"solid\"},\"marker\":{\"symbol\":\"circle\"},\"mode\":\"lines\",\"name\":\"test_acc\",\"orientation\":\"v\",\"showlegend\":true,\"x\":[0,1,2,3,4,5,6,7,8,9,10,11,12,13,14,15,16,17,18,19],\"xaxis\":\"x\",\"y\":[98.02,98.86,98.94,98.73,99.14,99.26,99.42,99.33,99.34,99.34,99.4,99.41,99.39,99.4,99.42,99.44,99.4,99.43,99.43,99.36],\"yaxis\":\"y\",\"type\":\"scatter\"}],                        {\"template\":{\"data\":{\"histogram2dcontour\":[{\"type\":\"histogram2dcontour\",\"colorbar\":{\"outlinewidth\":0,\"ticks\":\"\"},\"colorscale\":[[0.0,\"#0d0887\"],[0.1111111111111111,\"#46039f\"],[0.2222222222222222,\"#7201a8\"],[0.3333333333333333,\"#9c179e\"],[0.4444444444444444,\"#bd3786\"],[0.5555555555555556,\"#d8576b\"],[0.6666666666666666,\"#ed7953\"],[0.7777777777777778,\"#fb9f3a\"],[0.8888888888888888,\"#fdca26\"],[1.0,\"#f0f921\"]]}],\"choropleth\":[{\"type\":\"choropleth\",\"colorbar\":{\"outlinewidth\":0,\"ticks\":\"\"}}],\"histogram2d\":[{\"type\":\"histogram2d\",\"colorbar\":{\"outlinewidth\":0,\"ticks\":\"\"},\"colorscale\":[[0.0,\"#0d0887\"],[0.1111111111111111,\"#46039f\"],[0.2222222222222222,\"#7201a8\"],[0.3333333333333333,\"#9c179e\"],[0.4444444444444444,\"#bd3786\"],[0.5555555555555556,\"#d8576b\"],[0.6666666666666666,\"#ed7953\"],[0.7777777777777778,\"#fb9f3a\"],[0.8888888888888888,\"#fdca26\"],[1.0,\"#f0f921\"]]}],\"heatmap\":[{\"type\":\"heatmap\",\"colorbar\":{\"outlinewidth\":0,\"ticks\":\"\"},\"colorscale\":[[0.0,\"#0d0887\"],[0.1111111111111111,\"#46039f\"],[0.2222222222222222,\"#7201a8\"],[0.3333333333333333,\"#9c179e\"],[0.4444444444444444,\"#bd3786\"],[0.5555555555555556,\"#d8576b\"],[0.6666666666666666,\"#ed7953\"],[0.7777777777777778,\"#fb9f3a\"],[0.8888888888888888,\"#fdca26\"],[1.0,\"#f0f921\"]]}],\"heatmapgl\":[{\"type\":\"heatmapgl\",\"colorbar\":{\"outlinewidth\":0,\"ticks\":\"\"},\"colorscale\":[[0.0,\"#0d0887\"],[0.1111111111111111,\"#46039f\"],[0.2222222222222222,\"#7201a8\"],[0.3333333333333333,\"#9c179e\"],[0.4444444444444444,\"#bd3786\"],[0.5555555555555556,\"#d8576b\"],[0.6666666666666666,\"#ed7953\"],[0.7777777777777778,\"#fb9f3a\"],[0.8888888888888888,\"#fdca26\"],[1.0,\"#f0f921\"]]}],\"contourcarpet\":[{\"type\":\"contourcarpet\",\"colorbar\":{\"outlinewidth\":0,\"ticks\":\"\"}}],\"contour\":[{\"type\":\"contour\",\"colorbar\":{\"outlinewidth\":0,\"ticks\":\"\"},\"colorscale\":[[0.0,\"#0d0887\"],[0.1111111111111111,\"#46039f\"],[0.2222222222222222,\"#7201a8\"],[0.3333333333333333,\"#9c179e\"],[0.4444444444444444,\"#bd3786\"],[0.5555555555555556,\"#d8576b\"],[0.6666666666666666,\"#ed7953\"],[0.7777777777777778,\"#fb9f3a\"],[0.8888888888888888,\"#fdca26\"],[1.0,\"#f0f921\"]]}],\"surface\":[{\"type\":\"surface\",\"colorbar\":{\"outlinewidth\":0,\"ticks\":\"\"},\"colorscale\":[[0.0,\"#0d0887\"],[0.1111111111111111,\"#46039f\"],[0.2222222222222222,\"#7201a8\"],[0.3333333333333333,\"#9c179e\"],[0.4444444444444444,\"#bd3786\"],[0.5555555555555556,\"#d8576b\"],[0.6666666666666666,\"#ed7953\"],[0.7777777777777778,\"#fb9f3a\"],[0.8888888888888888,\"#fdca26\"],[1.0,\"#f0f921\"]]}],\"mesh3d\":[{\"type\":\"mesh3d\",\"colorbar\":{\"outlinewidth\":0,\"ticks\":\"\"}}],\"scatter\":[{\"fillpattern\":{\"fillmode\":\"overlay\",\"size\":10,\"solidity\":0.2},\"type\":\"scatter\"}],\"parcoords\":[{\"type\":\"parcoords\",\"line\":{\"colorbar\":{\"outlinewidth\":0,\"ticks\":\"\"}}}],\"scatterpolargl\":[{\"type\":\"scatterpolargl\",\"marker\":{\"colorbar\":{\"outlinewidth\":0,\"ticks\":\"\"}}}],\"bar\":[{\"error_x\":{\"color\":\"#2a3f5f\"},\"error_y\":{\"color\":\"#2a3f5f\"},\"marker\":{\"line\":{\"color\":\"#E5ECF6\",\"width\":0.5},\"pattern\":{\"fillmode\":\"overlay\",\"size\":10,\"solidity\":0.2}},\"type\":\"bar\"}],\"scattergeo\":[{\"type\":\"scattergeo\",\"marker\":{\"colorbar\":{\"outlinewidth\":0,\"ticks\":\"\"}}}],\"scatterpolar\":[{\"type\":\"scatterpolar\",\"marker\":{\"colorbar\":{\"outlinewidth\":0,\"ticks\":\"\"}}}],\"histogram\":[{\"marker\":{\"pattern\":{\"fillmode\":\"overlay\",\"size\":10,\"solidity\":0.2}},\"type\":\"histogram\"}],\"scattergl\":[{\"type\":\"scattergl\",\"marker\":{\"colorbar\":{\"outlinewidth\":0,\"ticks\":\"\"}}}],\"scatter3d\":[{\"type\":\"scatter3d\",\"line\":{\"colorbar\":{\"outlinewidth\":0,\"ticks\":\"\"}},\"marker\":{\"colorbar\":{\"outlinewidth\":0,\"ticks\":\"\"}}}],\"scattermapbox\":[{\"type\":\"scattermapbox\",\"marker\":{\"colorbar\":{\"outlinewidth\":0,\"ticks\":\"\"}}}],\"scatterternary\":[{\"type\":\"scatterternary\",\"marker\":{\"colorbar\":{\"outlinewidth\":0,\"ticks\":\"\"}}}],\"scattercarpet\":[{\"type\":\"scattercarpet\",\"marker\":{\"colorbar\":{\"outlinewidth\":0,\"ticks\":\"\"}}}],\"carpet\":[{\"aaxis\":{\"endlinecolor\":\"#2a3f5f\",\"gridcolor\":\"white\",\"linecolor\":\"white\",\"minorgridcolor\":\"white\",\"startlinecolor\":\"#2a3f5f\"},\"baxis\":{\"endlinecolor\":\"#2a3f5f\",\"gridcolor\":\"white\",\"linecolor\":\"white\",\"minorgridcolor\":\"white\",\"startlinecolor\":\"#2a3f5f\"},\"type\":\"carpet\"}],\"table\":[{\"cells\":{\"fill\":{\"color\":\"#EBF0F8\"},\"line\":{\"color\":\"white\"}},\"header\":{\"fill\":{\"color\":\"#C8D4E3\"},\"line\":{\"color\":\"white\"}},\"type\":\"table\"}],\"barpolar\":[{\"marker\":{\"line\":{\"color\":\"#E5ECF6\",\"width\":0.5},\"pattern\":{\"fillmode\":\"overlay\",\"size\":10,\"solidity\":0.2}},\"type\":\"barpolar\"}],\"pie\":[{\"automargin\":true,\"type\":\"pie\"}]},\"layout\":{\"autotypenumbers\":\"strict\",\"colorway\":[\"#636efa\",\"#EF553B\",\"#00cc96\",\"#ab63fa\",\"#FFA15A\",\"#19d3f3\",\"#FF6692\",\"#B6E880\",\"#FF97FF\",\"#FECB52\"],\"font\":{\"color\":\"#2a3f5f\"},\"hovermode\":\"closest\",\"hoverlabel\":{\"align\":\"left\"},\"paper_bgcolor\":\"white\",\"plot_bgcolor\":\"#E5ECF6\",\"polar\":{\"bgcolor\":\"#E5ECF6\",\"angularaxis\":{\"gridcolor\":\"white\",\"linecolor\":\"white\",\"ticks\":\"\"},\"radialaxis\":{\"gridcolor\":\"white\",\"linecolor\":\"white\",\"ticks\":\"\"}},\"ternary\":{\"bgcolor\":\"#E5ECF6\",\"aaxis\":{\"gridcolor\":\"white\",\"linecolor\":\"white\",\"ticks\":\"\"},\"baxis\":{\"gridcolor\":\"white\",\"linecolor\":\"white\",\"ticks\":\"\"},\"caxis\":{\"gridcolor\":\"white\",\"linecolor\":\"white\",\"ticks\":\"\"}},\"coloraxis\":{\"colorbar\":{\"outlinewidth\":0,\"ticks\":\"\"}},\"colorscale\":{\"sequential\":[[0.0,\"#0d0887\"],[0.1111111111111111,\"#46039f\"],[0.2222222222222222,\"#7201a8\"],[0.3333333333333333,\"#9c179e\"],[0.4444444444444444,\"#bd3786\"],[0.5555555555555556,\"#d8576b\"],[0.6666666666666666,\"#ed7953\"],[0.7777777777777778,\"#fb9f3a\"],[0.8888888888888888,\"#fdca26\"],[1.0,\"#f0f921\"]],\"sequentialminus\":[[0.0,\"#0d0887\"],[0.1111111111111111,\"#46039f\"],[0.2222222222222222,\"#7201a8\"],[0.3333333333333333,\"#9c179e\"],[0.4444444444444444,\"#bd3786\"],[0.5555555555555556,\"#d8576b\"],[0.6666666666666666,\"#ed7953\"],[0.7777777777777778,\"#fb9f3a\"],[0.8888888888888888,\"#fdca26\"],[1.0,\"#f0f921\"]],\"diverging\":[[0,\"#8e0152\"],[0.1,\"#c51b7d\"],[0.2,\"#de77ae\"],[0.3,\"#f1b6da\"],[0.4,\"#fde0ef\"],[0.5,\"#f7f7f7\"],[0.6,\"#e6f5d0\"],[0.7,\"#b8e186\"],[0.8,\"#7fbc41\"],[0.9,\"#4d9221\"],[1,\"#276419\"]]},\"xaxis\":{\"gridcolor\":\"white\",\"linecolor\":\"white\",\"ticks\":\"\",\"title\":{\"standoff\":15},\"zerolinecolor\":\"white\",\"automargin\":true,\"zerolinewidth\":2},\"yaxis\":{\"gridcolor\":\"white\",\"linecolor\":\"white\",\"ticks\":\"\",\"title\":{\"standoff\":15},\"zerolinecolor\":\"white\",\"automargin\":true,\"zerolinewidth\":2},\"scene\":{\"xaxis\":{\"backgroundcolor\":\"#E5ECF6\",\"gridcolor\":\"white\",\"linecolor\":\"white\",\"showbackground\":true,\"ticks\":\"\",\"zerolinecolor\":\"white\",\"gridwidth\":2},\"yaxis\":{\"backgroundcolor\":\"#E5ECF6\",\"gridcolor\":\"white\",\"linecolor\":\"white\",\"showbackground\":true,\"ticks\":\"\",\"zerolinecolor\":\"white\",\"gridwidth\":2},\"zaxis\":{\"backgroundcolor\":\"#E5ECF6\",\"gridcolor\":\"white\",\"linecolor\":\"white\",\"showbackground\":true,\"ticks\":\"\",\"zerolinecolor\":\"white\",\"gridwidth\":2}},\"shapedefaults\":{\"line\":{\"color\":\"#2a3f5f\"}},\"annotationdefaults\":{\"arrowcolor\":\"#2a3f5f\",\"arrowhead\":0,\"arrowwidth\":1},\"geo\":{\"bgcolor\":\"white\",\"landcolor\":\"#E5ECF6\",\"subunitcolor\":\"white\",\"showland\":true,\"showlakes\":true,\"lakecolor\":\"white\"},\"title\":{\"x\":0.05},\"mapbox\":{\"style\":\"light\"}}},\"xaxis\":{\"anchor\":\"y\",\"domain\":[0.0,1.0],\"title\":{\"text\":\"index\"}},\"yaxis\":{\"anchor\":\"x\",\"domain\":[0.0,1.0],\"title\":{\"text\":\"value\"}},\"legend\":{\"title\":{\"text\":\"variable\"},\"tracegroupgap\":0},\"margin\":{\"t\":60}},                        {\"responsive\": true}                    ).then(function(){\n",
              "                            \n",
              "var gd = document.getElementById('7456a415-ef57-473c-bc76-3f975929ff3a');\n",
              "var x = new MutationObserver(function (mutations, observer) {{\n",
              "        var display = window.getComputedStyle(gd).display;\n",
              "        if (!display || display === 'none') {{\n",
              "            console.log([gd, 'removed!']);\n",
              "            Plotly.purge(gd);\n",
              "            observer.disconnect();\n",
              "        }}\n",
              "}});\n",
              "\n",
              "// Listen for the removal of the full notebook cells\n",
              "var notebookContainer = gd.closest('#notebook-container');\n",
              "if (notebookContainer) {{\n",
              "    x.observe(notebookContainer, {childList: true});\n",
              "}}\n",
              "\n",
              "// Listen for the clearing of the current output cell\n",
              "var outputEl = gd.closest('.output');\n",
              "if (outputEl) {{\n",
              "    x.observe(outputEl, {childList: true});\n",
              "}}\n",
              "\n",
              "                        })                };                            </script>        </div>\n",
              "</body>\n",
              "</html>"
            ]
          },
          "metadata": {}
        }
      ]
    }
  ]
}