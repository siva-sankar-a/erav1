{
  "nbformat": 4,
  "nbformat_minor": 0,
  "metadata": {
    "colab": {
      "provenance": [],
      "gpuType": "T4",
      "include_colab_link": true
    },
    "kernelspec": {
      "name": "python3",
      "display_name": "Python 3"
    },
    "language_info": {
      "name": "python"
    },
    "accelerator": "GPU",
    "gpuClass": "standard"
  },
  "cells": [
    {
      "cell_type": "markdown",
      "metadata": {
        "id": "view-in-github",
        "colab_type": "text"
      },
      "source": [
        "<a href=\"https://colab.research.google.com/github/siva-sankar-a/erav1/blob/main/session_7_8k_15_epochs/Session_7_step_3.ipynb\" target=\"_parent\"><img src=\"https://colab.research.google.com/assets/colab-badge.svg\" alt=\"Open In Colab\"/></a>"
      ]
    },
    {
      "cell_type": "markdown",
      "source": [
        "# ERA V1 Session 7\n",
        "## Refer [link](https://github.com/siva-sankar-a/erav1/tree/session/session-6-multiple-architecture-check/session_6_multiple_architectures_mnist#readme) for further documentation"
      ],
      "metadata": {
        "id": "vxvrP2Onom0u"
      }
    },
    {
      "cell_type": "markdown",
      "source": [
        "## Cloning the Github repository\n",
        "## [Session 7](https://github.com/siva-sankar-a/erav1.git)"
      ],
      "metadata": {
        "id": "0D7qh1EynkZJ"
      }
    },
    {
      "cell_type": "code",
      "source": [
        "!git clone https://github.com/siva-sankar-a/erav1.git"
      ],
      "metadata": {
        "colab": {
          "base_uri": "https://localhost:8080/"
        },
        "id": "c75NRuJHmxzV",
        "outputId": "29470858-b681-4d31-d5e1-851674e56868"
      },
      "execution_count": null,
      "outputs": [
        {
          "output_type": "stream",
          "name": "stdout",
          "text": [
            "Cloning into 'erav1'...\n",
            "remote: Enumerating objects: 144, done.\u001b[K\n",
            "remote: Counting objects: 100% (144/144), done.\u001b[K\n",
            "remote: Compressing objects: 100% (116/116), done.\u001b[K\n",
            "remote: Total 144 (delta 69), reused 67 (delta 24), pack-reused 0\u001b[K\n",
            "Receiving objects: 100% (144/144), 557.32 KiB | 6.12 MiB/s, done.\n",
            "Resolving deltas: 100% (69/69), done.\n"
          ]
        }
      ]
    },
    {
      "cell_type": "code",
      "source": [
        "%cd /content/erav1"
      ],
      "metadata": {
        "colab": {
          "base_uri": "https://localhost:8080/"
        },
        "id": "_TcPvRRLzL8m",
        "outputId": "9e037cd7-6110-469b-e945-2da3f6d3f337"
      },
      "execution_count": null,
      "outputs": [
        {
          "output_type": "stream",
          "name": "stdout",
          "text": [
            "/content/erav1\n"
          ]
        }
      ]
    },
    {
      "cell_type": "code",
      "source": [
        "!git pull"
      ],
      "metadata": {
        "colab": {
          "base_uri": "https://localhost:8080/"
        },
        "id": "rl5OraqvzON6",
        "outputId": "9e75e01a-5f94-4cb4-d761-39bc63eb0ce4"
      },
      "execution_count": null,
      "outputs": [
        {
          "output_type": "stream",
          "name": "stdout",
          "text": [
            "remote: Enumerating objects: 14, done.\u001b[K\n",
            "remote: Counting objects:   7% (1/13)\u001b[K\rremote: Counting objects:  15% (2/13)\u001b[K\rremote: Counting objects:  23% (3/13)\u001b[K\rremote: Counting objects:  30% (4/13)\u001b[K\rremote: Counting objects:  38% (5/13)\u001b[K\rremote: Counting objects:  46% (6/13)\u001b[K\rremote: Counting objects:  53% (7/13)\u001b[K\rremote: Counting objects:  61% (8/13)\u001b[K\rremote: Counting objects:  69% (9/13)\u001b[K\rremote: Counting objects:  76% (10/13)\u001b[K\rremote: Counting objects:  84% (11/13)\u001b[K\rremote: Counting objects:  92% (12/13)\u001b[K\rremote: Counting objects: 100% (13/13)\u001b[K\rremote: Counting objects: 100% (13/13), done.\u001b[K\n",
            "remote: Compressing objects:  20% (1/5)\u001b[K\rremote: Compressing objects:  40% (2/5)\u001b[K\rremote: Compressing objects:  60% (3/5)\u001b[K\rremote: Compressing objects:  80% (4/5)\u001b[K\rremote: Compressing objects: 100% (5/5)\u001b[K\rremote: Compressing objects: 100% (5/5), done.\u001b[K\n",
            "remote: Total 8 (delta 6), reused 3 (delta 3), pack-reused 0\u001b[K\n",
            "Unpacking objects:  12% (1/8)\rUnpacking objects:  25% (2/8)\rUnpacking objects:  37% (3/8)\rUnpacking objects:  50% (4/8)\rUnpacking objects:  62% (5/8)\rUnpacking objects:  75% (6/8)\rUnpacking objects:  87% (7/8)\rUnpacking objects: 100% (8/8)\rUnpacking objects: 100% (8/8), 1.77 KiB | 908.00 KiB/s, done.\n",
            "From https://github.com/siva-sankar-a/erav1\n",
            "   f48fe5a..5ce4689  main       -> origin/main\n",
            "   12986e9..39109ee  sandbox    -> origin/sandbox\n",
            "   b9a5f9c..71ebe89  session/session-6-multiple-architecture-check -> origin/session/session-6-multiple-architecture-check\n",
            "Updating f48fe5a..5ce4689\n",
            "Fast-forward\n",
            " session_6_multiple_architectures_mnist/utils.py | 9 \u001b[32m+++++++++\u001b[m\n",
            " 1 file changed, 9 insertions(+)\n"
          ]
        }
      ]
    },
    {
      "cell_type": "markdown",
      "source": [
        "## Adding the session folder to path in order to access the functions defined"
      ],
      "metadata": {
        "id": "kn9Duybtn916"
      }
    },
    {
      "cell_type": "code",
      "source": [
        "%load_ext autoreload\n",
        "%autoreload 2"
      ],
      "metadata": {
        "id": "VZHmptkFtQLs",
        "colab": {
          "base_uri": "https://localhost:8080/"
        },
        "outputId": "06d3b0b9-0d3f-4a83-b5f6-8f446e336eac"
      },
      "execution_count": null,
      "outputs": [
        {
          "output_type": "stream",
          "name": "stdout",
          "text": [
            "The autoreload extension is already loaded. To reload it, use:\n",
            "  %reload_ext autoreload\n"
          ]
        }
      ]
    },
    {
      "cell_type": "code",
      "source": [
        "import os\n",
        "import sys"
      ],
      "metadata": {
        "id": "etBGZdEBnLgi"
      },
      "execution_count": null,
      "outputs": []
    },
    {
      "cell_type": "code",
      "source": [
        "sys.path.append('/content/erav1/session_6_multiple_architectures_mnist/')"
      ],
      "metadata": {
        "id": "dmlfbkJ5nQF0"
      },
      "execution_count": null,
      "outputs": []
    },
    {
      "cell_type": "code",
      "source": [
        "import importlib"
      ],
      "metadata": {
        "id": "hYq-JprOx5C5"
      },
      "execution_count": null,
      "outputs": []
    },
    {
      "cell_type": "code",
      "source": [
        "import utils as U"
      ],
      "metadata": {
        "id": "fcdNScH6ndwQ"
      },
      "execution_count": null,
      "outputs": []
    },
    {
      "cell_type": "code",
      "source": [
        "U = importlib.reload(U)"
      ],
      "metadata": {
        "id": "1eZpnItfx7Ua"
      },
      "execution_count": null,
      "outputs": []
    },
    {
      "cell_type": "markdown",
      "source": [
        "## Get device"
      ],
      "metadata": {
        "id": "JXU1Lk2JoQTu"
      }
    },
    {
      "cell_type": "code",
      "source": [
        "device = U.get_device()\n",
        "print(device)"
      ],
      "metadata": {
        "colab": {
          "base_uri": "https://localhost:8080/"
        },
        "id": "82LKarofoL7z",
        "outputId": "635333b0-b7d5-40c7-8659-e5860c896a75"
      },
      "execution_count": null,
      "outputs": [
        {
          "output_type": "stream",
          "name": "stdout",
          "text": [
            "CUDA Available? True\n",
            "cuda\n"
          ]
        }
      ]
    },
    {
      "cell_type": "code",
      "source": [
        "import pandas as pd"
      ],
      "metadata": {
        "id": "AS8QFBG24Saq"
      },
      "execution_count": null,
      "outputs": []
    },
    {
      "cell_type": "code",
      "source": [
        "pd.options.plotting.backend = \"plotly\""
      ],
      "metadata": {
        "id": "wx6n36Hk4WSb"
      },
      "execution_count": null,
      "outputs": []
    },
    {
      "cell_type": "markdown",
      "source": [
        "## Get train and test transforms"
      ],
      "metadata": {
        "id": "0Lvm6vCjoXrw"
      }
    },
    {
      "cell_type": "code",
      "source": [
        "train_transforms = U.get_train_transforms()\n",
        "test_transforms = U.get_test_transforms()"
      ],
      "metadata": {
        "id": "TCqAEH39oiVI"
      },
      "execution_count": null,
      "outputs": []
    },
    {
      "cell_type": "code",
      "source": [
        "from torchvision import datasets, transforms"
      ],
      "metadata": {
        "id": "5jmS0cIh0I2-"
      },
      "execution_count": null,
      "outputs": []
    },
    {
      "cell_type": "code",
      "source": [
        "from torch.utils.data import WeightedRandomSampler"
      ],
      "metadata": {
        "id": "mFN3lZviTZ53"
      },
      "execution_count": null,
      "outputs": []
    },
    {
      "cell_type": "code",
      "source": [
        "train_transforms = transforms.Compose([\n",
        "                                    transforms.RandomRotation((-5.0, 5.0), fill=(1,)),\n",
        "                                    # transforms.ElasticTransform(alpha=100.0, sigma=5.0, interpolation=transforms.InterpolationMode.NEAREST),\n",
        "                                    # transforms.RandomInvert(p=0.5),\n",
        "                                    transforms.ToTensor(),\n",
        "                                    transforms.Normalize((0.1307,), (0.3081,))\n",
        "                                    ])"
      ],
      "metadata": {
        "id": "iGqHDZLL0A_u"
      },
      "execution_count": null,
      "outputs": []
    },
    {
      "cell_type": "code",
      "source": [
        "test_transforms = transforms.Compose([\n",
        "                                    # transforms.RandomRotation((-7.0, 7.0), fill=(1,)),\n",
        "                                    transforms.ToTensor(),\n",
        "                                    transforms.Normalize((0.1307,), (0.3081,))\n",
        "                                    ])"
      ],
      "metadata": {
        "id": "jTFC19j50DBx"
      },
      "execution_count": null,
      "outputs": []
    },
    {
      "cell_type": "markdown",
      "source": [
        "## Get dataset"
      ],
      "metadata": {
        "id": "l-tMVwqzpDD4"
      }
    },
    {
      "cell_type": "code",
      "source": [
        "train_dataset = U.get_train_dataset(train_transforms)\n",
        "test_dataset = U.get_test_dataset(test_transforms)"
      ],
      "metadata": {
        "id": "x0EKJeSvpHMc"
      },
      "execution_count": null,
      "outputs": []
    },
    {
      "cell_type": "markdown",
      "source": [
        "## Get train and test dataloader"
      ],
      "metadata": {
        "id": "mHGXKHJHpMpD"
      }
    },
    {
      "cell_type": "code",
      "source": [
        "import torch"
      ],
      "metadata": {
        "id": "M5O00LkyUIJl"
      },
      "execution_count": null,
      "outputs": []
    },
    {
      "cell_type": "code",
      "source": [
        "label_weights = { 0: 1.0, 1: 1.0, 2: 1.0, 3: 1.0, 4: 1.0, 5: 1.0, 6: 1.0, 7: 1.0, 8: 1.0, 9: 1.0}"
      ],
      "metadata": {
        "id": "wdcA84QPYMvD"
      },
      "execution_count": null,
      "outputs": []
    },
    {
      "cell_type": "code",
      "source": [
        "_weights = [label_weights[label] for label in train_dataset.targets.cpu().tolist()]"
      ],
      "metadata": {
        "id": "alTROWJwX_Kl"
      },
      "execution_count": null,
      "outputs": []
    },
    {
      "cell_type": "code",
      "source": [
        "batch_size = 128\n",
        "sampler = torch.utils.data.sampler.WeightedRandomSampler(_weights, len(train_dataset), replacement=False)"
      ],
      "metadata": {
        "id": "5Du_OfgxT8vj"
      },
      "execution_count": null,
      "outputs": []
    },
    {
      "cell_type": "code",
      "source": [
        "kwargs = {'batch_size': batch_size, 'shuffle': False, 'num_workers': 2, 'pin_memory': True}\n",
        "\n",
        "train_dataloader = U.get_train_dataloader(train_dataset, sampler=sampler, **kwargs)\n",
        "test_dataloader = U.get_test_dataloader(test_dataset, **kwargs)"
      ],
      "metadata": {
        "id": "bKV3bOKbpKpQ"
      },
      "execution_count": null,
      "outputs": []
    },
    {
      "cell_type": "markdown",
      "source": [
        "## Display image grid"
      ],
      "metadata": {
        "id": "41RCssjDpaJg"
      }
    },
    {
      "cell_type": "code",
      "source": [
        "U.show_image_grid(train_dataloader)"
      ],
      "metadata": {
        "colab": {
          "base_uri": "https://localhost:8080/",
          "height": 463
        },
        "id": "VbQ_ujZnpfnA",
        "outputId": "04850bcd-4149-45ba-df35-a7b9bf17ed00"
      },
      "execution_count": null,
      "outputs": [
        {
          "output_type": "display_data",
          "data": {
            "text/plain": [
              "<Figure size 640x480 with 12 Axes>"
            ],
            "image/png": "[encoded data removed]"
          },
          "metadata": {}
        }
      ]
    },
    {
      "cell_type": "code",
      "source": [
        "!git clone https://github.com/Fangyh09/pytorch-receptive-field.git"
      ],
      "metadata": {
        "colab": {
          "base_uri": "https://localhost:8080/"
        },
        "id": "Vcg388r_mioi",
        "outputId": "0b16d9db-a272-40cd-aee5-807417eb0350"
      },
      "execution_count": null,
      "outputs": [
        {
          "output_type": "stream",
          "name": "stdout",
          "text": [
            "fatal: destination path 'pytorch-receptive-field' already exists and is not an empty directory.\n"
          ]
        }
      ]
    },
    {
      "cell_type": "code",
      "source": [
        "sys.path.append('/content/erav1/pytorch-receptive-field')"
      ],
      "metadata": {
        "id": "zaXzqni1myi-"
      },
      "execution_count": null,
      "outputs": []
    },
    {
      "cell_type": "code",
      "source": [
        "from torch_receptive_field import receptive_field"
      ],
      "metadata": {
        "id": "do7ut0I9mnn2"
      },
      "execution_count": null,
      "outputs": []
    },
    {
      "cell_type": "code",
      "source": [
        "import torch.nn as nn\n",
        "import torch.nn.functional as F"
      ],
      "metadata": {
        "id": "VqjxT94yNzGW"
      },
      "execution_count": null,
      "outputs": []
    },
    {
      "cell_type": "code",
      "source": [
        "class Net(nn.Module):\n",
        "\n",
        "    '''\n",
        "    This class implements the neural network model\n",
        "\n",
        "    Usage:\n",
        "    >>> device = ...\n",
        "    >>> model = Net().to('cpu')\n",
        "    '''\n",
        "\n",
        "    #This defines the structure of the NN.\n",
        "    def __init__(self):\n",
        "        super(Net, self).__init__()\n",
        "        self.conv1 = self.conv3x3_bn_dropout(1, 8, padding=1)\n",
        "        self.conv2 = self.conv3x3_bn_dropout(8, 8)\n",
        "\n",
        "        # self.squeeze1 = self.conv1x1(4, 1)\n",
        "\n",
        "        self.conv3 = self.conv3x3_bn_dropout(8, 8, padding=1)\n",
        "        self.conv4 = self.conv3x3_bn_dropout(8, 8)\n",
        "        self.conv5 = self.conv3x3_bn_dropout(8, 8)\n",
        "        self.conv6 = self.conv3x3_bn_dropout(8, 8, stride=2)\n",
        "\n",
        "        # self.squeeze2 = self.conv1x1(8, 1)\n",
        "\n",
        "        self.conv7 = self.conv3x3_bn_dropout(8, 8, padding=1)\n",
        "        self.conv8 = self.conv3x3_bn_dropout(8, 8)\n",
        "        self.conv9 = self.conv3x3_bn_dropout(8, 16)\n",
        "        self.conv10 = self.conv3x3_bn_dropout(16, 16)\n",
        "\n",
        "        self.gap = nn.AvgPool2d(4)\n",
        "        self.mixer = nn.Sequential(\n",
        "            self.conv1x1(16, 10),\n",
        "        )\n",
        "\n",
        "\n",
        "    def conv3x3_bn_dropout(self, in_channels, out_channels, kernel_size=3, stride=1, padding=0, bias=False, dropout=0.1):\n",
        "          if dropout:\n",
        "            return nn.Sequential(\n",
        "                self.conv3x3(in_channels, out_channels, kernel_size, stride, padding, bias),\n",
        "                nn.ReLU(),\n",
        "                nn.BatchNorm2d(out_channels),\n",
        "                nn.Dropout(dropout),\n",
        "                )\n",
        "          else:\n",
        "            return nn.Sequential(\n",
        "                self.conv3x3(in_channels, out_channels, kernel_size, stride, padding, bias),\n",
        "                nn.ReLU(),\n",
        "                nn.BatchNorm2d(out_channels),\n",
        "                )\n",
        "\n",
        "    def conv3x3(self, in_channels, out_channels, kernel_size=3, stride=1, padding=0, bias=False):\n",
        "          return nn.Conv2d(in_channels,\n",
        "                    out_channels,\n",
        "                    kernel_size=kernel_size,\n",
        "                    stride=stride,\n",
        "                    padding=padding,\n",
        "                    bias=bias)\n",
        "\n",
        "    def conv1x1(self, in_channels, out_channels, kernel_size=1, stride=1, padding=0, bias=False):\n",
        "          return nn.Conv2d(in_channels,\n",
        "                    out_channels,\n",
        "                    kernel_size=kernel_size,\n",
        "                    stride=stride,\n",
        "                    padding=padding,\n",
        "                    bias=bias)\n",
        "\n",
        "\n",
        "    def forward(self, x):\n",
        "        x = self.conv1(x)\n",
        "        x = self.conv2(x)\n",
        "        # x = self.squeeze1(x)\n",
        "\n",
        "        x = self.conv3(x)\n",
        "        x = self.conv4(x)\n",
        "        x = self.conv5(x)\n",
        "        x = self.conv6(x)\n",
        "        # x = self.squeeze2(x)\n",
        "\n",
        "        x = self.conv7(x)\n",
        "        x = self.conv8(x)\n",
        "        x = self.conv9(x)\n",
        "        x = self.conv10(x)\n",
        "\n",
        "        x = self.gap(x)\n",
        "        x = self.mixer(x)\n",
        "        x = x.view(-1, 10)\n",
        "        return F.log_softmax(x, dim=1)"
      ],
      "metadata": {
        "id": "C1pLoj7rNhzO"
      },
      "execution_count": null,
      "outputs": []
    },
    {
      "cell_type": "markdown",
      "source": [
        "## Generate model summary"
      ],
      "metadata": {
        "id": "m242rqKopkPU"
      }
    },
    {
      "cell_type": "code",
      "source": [
        "model = Net().to('cpu')\n",
        "U.show_summary(model, 1024, 'cpu')"
      ],
      "metadata": {
        "colab": {
          "base_uri": "https://localhost:8080/"
        },
        "id": "2W39NavppocP",
        "outputId": "008b8ad1-8775-4a61-adbd-a24cb376261a"
      },
      "execution_count": null,
      "outputs": [
        {
          "output_type": "stream",
          "name": "stdout",
          "text": [
            "----------------------------------------------------------------\n",
            "        Layer (type)               Output Shape         Param #\n",
            "================================================================\n",
            "            Conv2d-1          [1024, 8, 28, 28]              72\n",
            "              ReLU-2          [1024, 8, 28, 28]               0\n",
            "       BatchNorm2d-3          [1024, 8, 28, 28]              16\n",
            "           Dropout-4          [1024, 8, 28, 28]               0\n",
            "            Conv2d-5          [1024, 8, 26, 26]             576\n",
            "              ReLU-6          [1024, 8, 26, 26]               0\n",
            "       BatchNorm2d-7          [1024, 8, 26, 26]              16\n",
            "           Dropout-8          [1024, 8, 26, 26]               0\n",
            "            Conv2d-9          [1024, 8, 26, 26]             576\n",
            "             ReLU-10          [1024, 8, 26, 26]               0\n",
            "      BatchNorm2d-11          [1024, 8, 26, 26]              16\n",
            "          Dropout-12          [1024, 8, 26, 26]               0\n",
            "           Conv2d-13          [1024, 8, 24, 24]             576\n",
            "             ReLU-14          [1024, 8, 24, 24]               0\n",
            "      BatchNorm2d-15          [1024, 8, 24, 24]              16\n",
            "          Dropout-16          [1024, 8, 24, 24]               0\n",
            "           Conv2d-17          [1024, 8, 22, 22]             576\n",
            "             ReLU-18          [1024, 8, 22, 22]               0\n",
            "      BatchNorm2d-19          [1024, 8, 22, 22]              16\n",
            "          Dropout-20          [1024, 8, 22, 22]               0\n",
            "           Conv2d-21          [1024, 8, 10, 10]             576\n",
            "             ReLU-22          [1024, 8, 10, 10]               0\n",
            "      BatchNorm2d-23          [1024, 8, 10, 10]              16\n",
            "          Dropout-24          [1024, 8, 10, 10]               0\n",
            "           Conv2d-25          [1024, 8, 10, 10]             576\n",
            "             ReLU-26          [1024, 8, 10, 10]               0\n",
            "      BatchNorm2d-27          [1024, 8, 10, 10]              16\n",
            "          Dropout-28          [1024, 8, 10, 10]               0\n",
            "           Conv2d-29            [1024, 8, 8, 8]             576\n",
            "             ReLU-30            [1024, 8, 8, 8]               0\n",
            "      BatchNorm2d-31            [1024, 8, 8, 8]              16\n",
            "          Dropout-32            [1024, 8, 8, 8]               0\n",
            "           Conv2d-33           [1024, 16, 6, 6]           1,152\n",
            "             ReLU-34           [1024, 16, 6, 6]               0\n",
            "      BatchNorm2d-35           [1024, 16, 6, 6]              32\n",
            "          Dropout-36           [1024, 16, 6, 6]               0\n",
            "           Conv2d-37           [1024, 16, 4, 4]           2,304\n",
            "             ReLU-38           [1024, 16, 4, 4]               0\n",
            "      BatchNorm2d-39           [1024, 16, 4, 4]              32\n",
            "          Dropout-40           [1024, 16, 4, 4]               0\n",
            "        AvgPool2d-41           [1024, 16, 1, 1]               0\n",
            "           Conv2d-42           [1024, 10, 1, 1]             160\n",
            "================================================================\n",
            "Total params: 7,912\n",
            "Trainable params: 7,912\n",
            "Non-trainable params: 0\n",
            "----------------------------------------------------------------\n",
            "Input size (MB): 3.06\n",
            "Forward/backward pass size (MB): 891.20\n",
            "Params size (MB): 0.03\n",
            "Estimated Total Size (MB): 894.30\n",
            "----------------------------------------------------------------\n"
          ]
        }
      ]
    },
    {
      "cell_type": "code",
      "source": [
        "receptive_field(model.cpu(), input_size=(1, 28, 28), device='cpu')"
      ],
      "metadata": {
        "id": "GSp_eyvLnCTc"
      },
      "execution_count": null,
      "outputs": []
    },
    {
      "cell_type": "markdown",
      "source": [
        "## Training"
      ],
      "metadata": {
        "id": "uiDNSZ6HqPQ4"
      }
    },
    {
      "cell_type": "code",
      "source": [
        "model = Net().to(device)"
      ],
      "metadata": {
        "id": "CfTTgd_zqfpX"
      },
      "execution_count": null,
      "outputs": []
    },
    {
      "cell_type": "code",
      "source": [
        "import torch.optim as optim"
      ],
      "metadata": {
        "id": "4J9i_cYaqYXR"
      },
      "execution_count": null,
      "outputs": []
    },
    {
      "cell_type": "code",
      "source": [
        "optimizer = optim.SGD(model.parameters(), lr=0.1, momentum=0.9)\n",
        "scheduler = optim.lr_scheduler.StepLR(optimizer, step_size=6, gamma=0.1, verbose=True)\n",
        "num_epochs = 20\n",
        "\n",
        "metrics = { 'train_acc': [], 'train_losses': [],\n",
        "            'test_acc': [], 'test_losses': [] }\n",
        "\n",
        "for epoch in range(1, num_epochs + 1):\n",
        "    print(f'Epoch {epoch}')\n",
        "    U.train(model, device, train_dataloader, optimizer, metrics)\n",
        "    U.test(model, device, test_dataloader, metrics)\n",
        "    scheduler.step()"
      ],
      "metadata": {
        "colab": {
          "base_uri": "https://localhost:8080/"
        },
        "id": "ffqkmOOrqRzH",
        "outputId": "f2557419-6a69-44d8-c213-7dcf16c7ba09"
      },
      "execution_count": null,
      "outputs": [
        {
          "output_type": "stream",
          "name": "stdout",
          "text": [
            "Adjusting learning rate of group 0 to 1.0000e-01.\n",
            "Epoch 1\n"
          ]
        },
        {
          "output_type": "stream",
          "name": "stderr",
          "text": [
            "Train: Loss=0.0343 Batch_id=468 Accuracy=92.34: 100%|██████████| 469/469 [00:25<00:00, 18.43it/s]\n"
          ]
        },
        {
          "output_type": "stream",
          "name": "stdout",
          "text": [
            "              precision    recall  f1-score   support\n",
            "\n",
            "           0       0.99      0.99      0.99       978\n",
            "           1       0.99      0.99      0.99      1133\n",
            "           2       0.98      0.98      0.98      1029\n",
            "           3       0.98      0.99      0.98       999\n",
            "           4       0.98      0.99      0.98       977\n",
            "           5       0.99      0.98      0.98       903\n",
            "           6       0.99      0.98      0.98       970\n",
            "           7       0.98      0.97      0.98      1039\n",
            "           8       0.98      0.99      0.99       962\n",
            "           9       0.98      0.98      0.98      1010\n",
            "\n",
            "    accuracy                           0.98     10000\n",
            "   macro avg       0.98      0.98      0.98     10000\n",
            "weighted avg       0.98      0.98      0.98     10000\n",
            "\n",
            "Test set: Average loss: 0.0498, Accuracy: 9839/10000 (98.39%)\n",
            "\n",
            "Adjusting learning rate of group 0 to 1.0000e-01.\n",
            "Epoch 2\n"
          ]
        },
        {
          "output_type": "stream",
          "name": "stderr",
          "text": [
            "Train: Loss=0.0337 Batch_id=468 Accuracy=97.46: 100%|██████████| 469/469 [00:24<00:00, 18.95it/s]\n"
          ]
        },
        {
          "output_type": "stream",
          "name": "stdout",
          "text": [
            "              precision    recall  f1-score   support\n",
            "\n",
            "           0       0.99      0.99      0.99       980\n",
            "           1       1.00      1.00      1.00      1135\n",
            "           2       1.00      0.98      0.99      1043\n",
            "           3       0.99      0.99      0.99      1010\n",
            "           4       0.95      1.00      0.98       937\n",
            "           5       0.99      0.98      0.99       899\n",
            "           6       0.99      0.99      0.99       950\n",
            "           7       0.99      0.99      0.99      1030\n",
            "           8       0.99      0.99      0.99       970\n",
            "           9       0.99      0.96      0.97      1046\n",
            "\n",
            "    accuracy                           0.99     10000\n",
            "   macro avg       0.99      0.99      0.99     10000\n",
            "weighted avg       0.99      0.99      0.99     10000\n",
            "\n",
            "Test set: Average loss: 0.0383, Accuracy: 9877/10000 (98.77%)\n",
            "\n",
            "Adjusting learning rate of group 0 to 1.0000e-01.\n",
            "Epoch 3\n"
          ]
        },
        {
          "output_type": "stream",
          "name": "stderr",
          "text": [
            "Train: Loss=0.0485 Batch_id=468 Accuracy=97.86: 100%|██████████| 469/469 [00:24<00:00, 18.78it/s]\n"
          ]
        },
        {
          "output_type": "stream",
          "name": "stdout",
          "text": [
            "              precision    recall  f1-score   support\n",
            "\n",
            "           0       0.99      0.99      0.99       979\n",
            "           1       0.99      0.99      0.99      1134\n",
            "           2       0.99      0.99      0.99      1030\n",
            "           3       0.99      1.00      0.99      1006\n",
            "           4       0.99      0.99      0.99       984\n",
            "           5       0.99      0.99      0.99       893\n",
            "           6       0.99      0.98      0.99       969\n",
            "           7       0.98      0.99      0.99      1017\n",
            "           8       0.99      0.99      0.99       967\n",
            "           9       0.99      0.98      0.98      1021\n",
            "\n",
            "    accuracy                           0.99     10000\n",
            "   macro avg       0.99      0.99      0.99     10000\n",
            "weighted avg       0.99      0.99      0.99     10000\n",
            "\n",
            "Test set: Average loss: 0.0331, Accuracy: 9897/10000 (98.97%)\n",
            "\n",
            "Adjusting learning rate of group 0 to 1.0000e-01.\n",
            "Epoch 4\n"
          ]
        },
        {
          "output_type": "stream",
          "name": "stderr",
          "text": [
            "Train: Loss=0.0202 Batch_id=468 Accuracy=98.13: 100%|██████████| 469/469 [00:24<00:00, 19.04it/s]\n"
          ]
        },
        {
          "output_type": "stream",
          "name": "stdout",
          "text": [
            "              precision    recall  f1-score   support\n",
            "\n",
            "           0       1.00      0.99      0.99       986\n",
            "           1       0.99      0.99      0.99      1133\n",
            "           2       0.99      0.99      0.99      1033\n",
            "           3       0.99      0.99      0.99      1007\n",
            "           4       0.99      0.99      0.99       989\n",
            "           5       0.99      0.98      0.99       897\n",
            "           6       0.99      0.98      0.99       965\n",
            "           7       0.98      1.00      0.99      1014\n",
            "           8       0.99      0.99      0.99       978\n",
            "           9       0.98      0.99      0.98       998\n",
            "\n",
            "    accuracy                           0.99     10000\n",
            "   macro avg       0.99      0.99      0.99     10000\n",
            "weighted avg       0.99      0.99      0.99     10000\n",
            "\n",
            "Test set: Average loss: 0.0349, Accuracy: 9892/10000 (98.92%)\n",
            "\n",
            "Adjusting learning rate of group 0 to 1.0000e-01.\n",
            "Epoch 5\n"
          ]
        },
        {
          "output_type": "stream",
          "name": "stderr",
          "text": [
            "Train: Loss=0.0343 Batch_id=468 Accuracy=98.16: 100%|██████████| 469/469 [00:24<00:00, 19.06it/s]\n"
          ]
        },
        {
          "output_type": "stream",
          "name": "stdout",
          "text": [
            "              precision    recall  f1-score   support\n",
            "\n",
            "           0       0.99      1.00      1.00       978\n",
            "           1       1.00      0.99      1.00      1146\n",
            "           2       0.99      0.98      0.99      1043\n",
            "           3       0.99      1.00      0.99      1003\n",
            "           4       0.99      1.00      0.99       973\n",
            "           5       0.99      0.99      0.99       891\n",
            "           6       1.00      0.99      0.99       970\n",
            "           7       0.98      0.99      0.99      1013\n",
            "           8       0.99      0.99      0.99       977\n",
            "           9       0.99      0.99      0.99      1006\n",
            "\n",
            "    accuracy                           0.99     10000\n",
            "   macro avg       0.99      0.99      0.99     10000\n",
            "weighted avg       0.99      0.99      0.99     10000\n",
            "\n",
            "Test set: Average loss: 0.0291, Accuracy: 9908/10000 (99.08%)\n",
            "\n",
            "Adjusting learning rate of group 0 to 1.0000e-01.\n",
            "Epoch 6\n"
          ]
        },
        {
          "output_type": "stream",
          "name": "stderr",
          "text": [
            "Train: Loss=0.0431 Batch_id=468 Accuracy=98.36: 100%|██████████| 469/469 [00:24<00:00, 18.84it/s]\n"
          ]
        },
        {
          "output_type": "stream",
          "name": "stdout",
          "text": [
            "              precision    recall  f1-score   support\n",
            "\n",
            "           0       1.00      0.98      0.99       996\n",
            "           1       1.00      0.99      0.99      1143\n",
            "           2       1.00      0.99      0.99      1040\n",
            "           3       0.99      0.99      0.99      1007\n",
            "           4       0.99      1.00      0.99       975\n",
            "           5       0.99      0.99      0.99       892\n",
            "           6       0.98      1.00      0.99       944\n",
            "           7       0.98      0.99      0.99      1018\n",
            "           8       0.99      1.00      0.99       967\n",
            "           9       0.99      0.98      0.99      1018\n",
            "\n",
            "    accuracy                           0.99     10000\n",
            "   macro avg       0.99      0.99      0.99     10000\n",
            "weighted avg       0.99      0.99      0.99     10000\n",
            "\n",
            "Test set: Average loss: 0.0285, Accuracy: 9905/10000 (99.05%)\n",
            "\n",
            "Adjusting learning rate of group 0 to 1.0000e-02.\n",
            "Epoch 7\n"
          ]
        },
        {
          "output_type": "stream",
          "name": "stderr",
          "text": [
            "Train: Loss=0.0356 Batch_id=468 Accuracy=98.72: 100%|██████████| 469/469 [00:25<00:00, 18.18it/s]\n"
          ]
        },
        {
          "output_type": "stream",
          "name": "stdout",
          "text": [
            "              precision    recall  f1-score   support\n",
            "\n",
            "           0       1.00      0.99      1.00       982\n",
            "           1       1.00      0.99      1.00      1141\n",
            "           2       1.00      0.99      0.99      1037\n",
            "           3       0.99      0.99      0.99      1008\n",
            "           4       0.99      1.00      0.99       974\n",
            "           5       0.99      0.99      0.99       894\n",
            "           6       0.99      1.00      1.00       957\n",
            "           7       0.99      0.99      0.99      1023\n",
            "           8       0.99      1.00      0.99       968\n",
            "           9       0.99      0.99      0.99      1016\n",
            "\n",
            "    accuracy                           0.99     10000\n",
            "   macro avg       0.99      0.99      0.99     10000\n",
            "weighted avg       0.99      0.99      0.99     10000\n",
            "\n",
            "Test set: Average loss: 0.0212, Accuracy: 9934/10000 (99.34%)\n",
            "\n",
            "Adjusting learning rate of group 0 to 1.0000e-02.\n",
            "Epoch 8\n"
          ]
        },
        {
          "output_type": "stream",
          "name": "stderr",
          "text": [
            "Train: Loss=0.0625 Batch_id=468 Accuracy=98.80: 100%|██████████| 469/469 [00:23<00:00, 19.60it/s]\n"
          ]
        },
        {
          "output_type": "stream",
          "name": "stdout",
          "text": [
            "              precision    recall  f1-score   support\n",
            "\n",
            "           0       1.00      1.00      1.00       981\n",
            "           1       1.00      0.99      1.00      1140\n",
            "           2       1.00      0.99      1.00      1034\n",
            "           3       0.99      0.99      0.99      1009\n",
            "           4       0.99      1.00      0.99       980\n",
            "           5       0.99      0.99      0.99       894\n",
            "           6       0.99      1.00      0.99       956\n",
            "           7       0.99      0.99      0.99      1028\n",
            "           8       0.99      1.00      0.99       968\n",
            "           9       0.99      0.99      0.99      1010\n",
            "\n",
            "    accuracy                           0.99     10000\n",
            "   macro avg       0.99      0.99      0.99     10000\n",
            "weighted avg       0.99      0.99      0.99     10000\n",
            "\n",
            "Test set: Average loss: 0.0198, Accuracy: 9940/10000 (99.40%)\n",
            "\n",
            "Adjusting learning rate of group 0 to 1.0000e-02.\n",
            "Epoch 9\n"
          ]
        },
        {
          "output_type": "stream",
          "name": "stderr",
          "text": [
            "Train: Loss=0.0180 Batch_id=468 Accuracy=98.85: 100%|██████████| 469/469 [00:23<00:00, 19.55it/s]\n"
          ]
        },
        {
          "output_type": "stream",
          "name": "stdout",
          "text": [
            "              precision    recall  f1-score   support\n",
            "\n",
            "           0       1.00      0.99      1.00       983\n",
            "           1       1.00      0.99      1.00      1141\n",
            "           2       1.00      0.99      0.99      1033\n",
            "           3       0.99      0.99      0.99      1010\n",
            "           4       1.00      0.99      1.00       983\n",
            "           5       0.99      0.99      0.99       894\n",
            "           6       1.00      1.00      1.00       957\n",
            "           7       0.99      0.99      0.99      1025\n",
            "           8       0.99      1.00      0.99       971\n",
            "           9       0.99      0.99      0.99      1003\n",
            "\n",
            "    accuracy                           0.99     10000\n",
            "   macro avg       0.99      0.99      0.99     10000\n",
            "weighted avg       0.99      0.99      0.99     10000\n",
            "\n",
            "Test set: Average loss: 0.0197, Accuracy: 9942/10000 (99.42%)\n",
            "\n",
            "Adjusting learning rate of group 0 to 1.0000e-02.\n",
            "Epoch 10\n"
          ]
        },
        {
          "output_type": "stream",
          "name": "stderr",
          "text": [
            "Train: Loss=0.0307 Batch_id=468 Accuracy=98.85: 100%|██████████| 469/469 [00:24<00:00, 19.18it/s]\n"
          ]
        },
        {
          "output_type": "stream",
          "name": "stdout",
          "text": [
            "              precision    recall  f1-score   support\n",
            "\n",
            "           0       1.00      1.00      1.00       981\n",
            "           1       1.00      0.99      0.99      1143\n",
            "           2       1.00      1.00      1.00      1032\n",
            "           3       0.99      1.00      0.99      1008\n",
            "           4       0.99      1.00      1.00       980\n",
            "           5       0.99      0.99      0.99       894\n",
            "           6       0.99      1.00      0.99       954\n",
            "           7       0.99      0.99      0.99      1029\n",
            "           8       0.99      1.00      0.99       969\n",
            "           9       0.99      0.99      0.99      1010\n",
            "\n",
            "    accuracy                           0.99     10000\n",
            "   macro avg       0.99      0.99      0.99     10000\n",
            "weighted avg       0.99      0.99      0.99     10000\n",
            "\n",
            "Test set: Average loss: 0.0197, Accuracy: 9942/10000 (99.42%)\n",
            "\n",
            "Adjusting learning rate of group 0 to 1.0000e-02.\n",
            "Epoch 11\n"
          ]
        },
        {
          "output_type": "stream",
          "name": "stderr",
          "text": [
            "Train: Loss=0.0369 Batch_id=468 Accuracy=98.88: 100%|██████████| 469/469 [00:24<00:00, 18.94it/s]\n"
          ]
        },
        {
          "output_type": "stream",
          "name": "stdout",
          "text": [
            "              precision    recall  f1-score   support\n",
            "\n",
            "           0       1.00      1.00      1.00       980\n",
            "           1       1.00      0.99      1.00      1141\n",
            "           2       0.99      1.00      0.99      1028\n",
            "           3       0.99      0.99      0.99      1009\n",
            "           4       0.99      1.00      1.00       979\n",
            "           5       0.99      0.99      0.99       893\n",
            "           6       1.00      0.99      1.00       959\n",
            "           7       0.99      0.99      0.99      1031\n",
            "           8       0.99      1.00      0.99       970\n",
            "           9       0.99      0.99      0.99      1010\n",
            "\n",
            "    accuracy                           0.99     10000\n",
            "   macro avg       0.99      0.99      0.99     10000\n",
            "weighted avg       0.99      0.99      0.99     10000\n",
            "\n",
            "Test set: Average loss: 0.0192, Accuracy: 9940/10000 (99.40%)\n",
            "\n",
            "Adjusting learning rate of group 0 to 1.0000e-02.\n",
            "Epoch 12\n"
          ]
        },
        {
          "output_type": "stream",
          "name": "stderr",
          "text": [
            "Train: Loss=0.0223 Batch_id=468 Accuracy=98.87: 100%|██████████| 469/469 [00:25<00:00, 18.75it/s]\n"
          ]
        },
        {
          "output_type": "stream",
          "name": "stdout",
          "text": [
            "              precision    recall  f1-score   support\n",
            "\n",
            "           0       1.00      1.00      1.00       980\n",
            "           1       1.00      0.99      1.00      1142\n",
            "           2       0.99      1.00      0.99      1031\n",
            "           3       1.00      0.99      0.99      1011\n",
            "           4       1.00      1.00      1.00       982\n",
            "           5       0.99      0.99      0.99       892\n",
            "           6       1.00      0.99      1.00       959\n",
            "           7       0.99      0.99      0.99      1025\n",
            "           8       0.99      1.00      1.00       967\n",
            "           9       0.99      0.99      0.99      1011\n",
            "\n",
            "    accuracy                           0.99     10000\n",
            "   macro avg       0.99      0.99      0.99     10000\n",
            "weighted avg       0.99      0.99      0.99     10000\n",
            "\n",
            "Test set: Average loss: 0.0192, Accuracy: 9944/10000 (99.44%)\n",
            "\n",
            "Adjusting learning rate of group 0 to 1.0000e-03.\n",
            "Epoch 13\n"
          ]
        },
        {
          "output_type": "stream",
          "name": "stderr",
          "text": [
            "Train: Loss=0.0242 Batch_id=468 Accuracy=98.93: 100%|██████████| 469/469 [00:24<00:00, 19.05it/s]\n"
          ]
        },
        {
          "output_type": "stream",
          "name": "stdout",
          "text": [
            "              precision    recall  f1-score   support\n",
            "\n",
            "           0       1.00      1.00      1.00       980\n",
            "           1       1.00      0.99      0.99      1143\n",
            "           2       0.99      1.00      0.99      1030\n",
            "           3       1.00      0.99      0.99      1011\n",
            "           4       0.99      1.00      1.00       979\n",
            "           5       0.99      0.99      0.99       894\n",
            "           6       0.99      1.00      1.00       957\n",
            "           7       0.99      0.99      0.99      1026\n",
            "           8       0.99      1.00      0.99       969\n",
            "           9       0.99      0.99      0.99      1011\n",
            "\n",
            "    accuracy                           0.99     10000\n",
            "   macro avg       0.99      0.99      0.99     10000\n",
            "weighted avg       0.99      0.99      0.99     10000\n",
            "\n",
            "Test set: Average loss: 0.0189, Accuracy: 9942/10000 (99.42%)\n",
            "\n",
            "Adjusting learning rate of group 0 to 1.0000e-03.\n",
            "Epoch 14\n"
          ]
        },
        {
          "output_type": "stream",
          "name": "stderr",
          "text": [
            "Train: Loss=0.0426 Batch_id=468 Accuracy=98.96: 100%|██████████| 469/469 [00:24<00:00, 18.94it/s]\n"
          ]
        },
        {
          "output_type": "stream",
          "name": "stdout",
          "text": [
            "              precision    recall  f1-score   support\n",
            "\n",
            "           0       1.00      1.00      1.00       980\n",
            "           1       1.00      0.99      1.00      1141\n",
            "           2       0.99      1.00      0.99      1031\n",
            "           3       0.99      0.99      0.99      1009\n",
            "           4       0.99      1.00      1.00       980\n",
            "           5       0.99      0.99      0.99       893\n",
            "           6       1.00      1.00      1.00       958\n",
            "           7       0.99      0.99      0.99      1028\n",
            "           8       0.99      1.00      0.99       968\n",
            "           9       0.99      0.99      0.99      1012\n",
            "\n",
            "    accuracy                           0.99     10000\n",
            "   macro avg       0.99      0.99      0.99     10000\n",
            "weighted avg       0.99      0.99      0.99     10000\n",
            "\n",
            "Test set: Average loss: 0.0188, Accuracy: 9943/10000 (99.43%)\n",
            "\n",
            "Adjusting learning rate of group 0 to 1.0000e-03.\n",
            "Epoch 15\n"
          ]
        },
        {
          "output_type": "stream",
          "name": "stderr",
          "text": [
            "Train: Loss=0.0674 Batch_id=468 Accuracy=98.89: 100%|██████████| 469/469 [00:24<00:00, 18.84it/s]\n"
          ]
        },
        {
          "output_type": "stream",
          "name": "stdout",
          "text": [
            "              precision    recall  f1-score   support\n",
            "\n",
            "           0       1.00      1.00      1.00       980\n",
            "           1       1.00      0.99      1.00      1142\n",
            "           2       0.99      1.00      0.99      1031\n",
            "           3       0.99      0.99      0.99      1009\n",
            "           4       1.00      1.00      1.00       981\n",
            "           5       0.99      0.99      0.99       893\n",
            "           6       1.00      1.00      1.00       958\n",
            "           7       0.99      0.99      0.99      1027\n",
            "           8       0.99      1.00      1.00       967\n",
            "           9       0.99      0.99      0.99      1012\n",
            "\n",
            "    accuracy                           0.99     10000\n",
            "   macro avg       0.99      0.99      0.99     10000\n",
            "weighted avg       0.99      0.99      0.99     10000\n",
            "\n",
            "Test set: Average loss: 0.0188, Accuracy: 9944/10000 (99.44%)\n",
            "\n",
            "Adjusting learning rate of group 0 to 1.0000e-03.\n",
            "Epoch 16\n"
          ]
        },
        {
          "output_type": "stream",
          "name": "stderr",
          "text": [
            "Train: Loss=0.0074 Batch_id=468 Accuracy=98.94: 100%|██████████| 469/469 [00:26<00:00, 18.00it/s]\n"
          ]
        },
        {
          "output_type": "stream",
          "name": "stdout",
          "text": [
            "              precision    recall  f1-score   support\n",
            "\n",
            "           0       1.00      1.00      1.00       980\n",
            "           1       1.00      0.99      1.00      1142\n",
            "           2       0.99      1.00      0.99      1031\n",
            "           3       0.99      0.99      0.99      1009\n",
            "           4       0.99      1.00      1.00       980\n",
            "           5       0.99      0.99      0.99       893\n",
            "           6       1.00      1.00      1.00       958\n",
            "           7       0.99      0.99      0.99      1027\n",
            "           8       0.99      1.00      0.99       969\n",
            "           9       0.99      0.99      0.99      1011\n",
            "\n",
            "    accuracy                           0.99     10000\n",
            "   macro avg       0.99      0.99      0.99     10000\n",
            "weighted avg       0.99      0.99      0.99     10000\n",
            "\n",
            "Test set: Average loss: 0.0188, Accuracy: 9942/10000 (99.42%)\n",
            "\n",
            "Adjusting learning rate of group 0 to 1.0000e-03.\n",
            "Epoch 17\n"
          ]
        },
        {
          "output_type": "stream",
          "name": "stderr",
          "text": [
            "Train: Loss=0.0352 Batch_id=468 Accuracy=98.92: 100%|██████████| 469/469 [00:24<00:00, 18.93it/s]\n"
          ]
        },
        {
          "output_type": "stream",
          "name": "stdout",
          "text": [
            "              precision    recall  f1-score   support\n",
            "\n",
            "           0       1.00      1.00      1.00       980\n",
            "           1       1.00      0.99      1.00      1142\n",
            "           2       1.00      1.00      1.00      1032\n",
            "           3       1.00      0.99      0.99      1011\n",
            "           4       0.99      1.00      1.00       980\n",
            "           5       0.99      0.99      0.99       894\n",
            "           6       1.00      1.00      1.00       958\n",
            "           7       0.99      0.99      0.99      1024\n",
            "           8       0.99      1.00      0.99       971\n",
            "           9       0.99      0.99      0.99      1008\n",
            "\n",
            "    accuracy                           0.99     10000\n",
            "   macro avg       0.99      0.99      0.99     10000\n",
            "weighted avg       0.99      0.99      0.99     10000\n",
            "\n",
            "Test set: Average loss: 0.0189, Accuracy: 9944/10000 (99.44%)\n",
            "\n",
            "Adjusting learning rate of group 0 to 1.0000e-03.\n",
            "Epoch 18\n"
          ]
        },
        {
          "output_type": "stream",
          "name": "stderr",
          "text": [
            "Train: Loss=0.0029 Batch_id=468 Accuracy=98.92: 100%|██████████| 469/469 [00:24<00:00, 18.84it/s]\n"
          ]
        },
        {
          "output_type": "stream",
          "name": "stdout",
          "text": [
            "              precision    recall  f1-score   support\n",
            "\n",
            "           0       1.00      1.00      1.00       981\n",
            "           1       1.00      0.99      1.00      1142\n",
            "           2       1.00      1.00      1.00      1032\n",
            "           3       0.99      0.99      0.99      1009\n",
            "           4       1.00      0.99      1.00       983\n",
            "           5       0.99      0.99      0.99       892\n",
            "           6       1.00      0.99      1.00       959\n",
            "           7       0.99      0.99      0.99      1026\n",
            "           8       0.99      1.00      0.99       968\n",
            "           9       0.99      0.99      0.99      1008\n",
            "\n",
            "    accuracy                           0.99     10000\n",
            "   macro avg       0.99      0.99      0.99     10000\n",
            "weighted avg       0.99      0.99      0.99     10000\n",
            "\n",
            "Test set: Average loss: 0.0189, Accuracy: 9940/10000 (99.40%)\n",
            "\n",
            "Adjusting learning rate of group 0 to 1.0000e-04.\n",
            "Epoch 19\n"
          ]
        },
        {
          "output_type": "stream",
          "name": "stderr",
          "text": [
            "Train: Loss=0.0036 Batch_id=468 Accuracy=98.96: 100%|██████████| 469/469 [00:24<00:00, 19.15it/s]\n"
          ]
        },
        {
          "output_type": "stream",
          "name": "stdout",
          "text": [
            "              precision    recall  f1-score   support\n",
            "\n",
            "           0       1.00      1.00      1.00       981\n",
            "           1       1.00      0.99      1.00      1142\n",
            "           2       1.00      1.00      1.00      1032\n",
            "           3       0.99      0.99      0.99      1009\n",
            "           4       0.99      1.00      1.00       979\n",
            "           5       0.99      0.99      0.99       893\n",
            "           6       1.00      0.99      1.00       959\n",
            "           7       0.99      0.99      0.99      1026\n",
            "           8       0.99      1.00      0.99       971\n",
            "           9       0.99      0.99      0.99      1008\n",
            "\n",
            "    accuracy                           0.99     10000\n",
            "   macro avg       0.99      0.99      0.99     10000\n",
            "weighted avg       0.99      0.99      0.99     10000\n",
            "\n",
            "Test set: Average loss: 0.0189, Accuracy: 9941/10000 (99.41%)\n",
            "\n",
            "Adjusting learning rate of group 0 to 1.0000e-04.\n",
            "Epoch 20\n"
          ]
        },
        {
          "output_type": "stream",
          "name": "stderr",
          "text": [
            "Train: Loss=0.0022 Batch_id=468 Accuracy=98.95: 100%|██████████| 469/469 [00:24<00:00, 19.47it/s]\n"
          ]
        },
        {
          "output_type": "stream",
          "name": "stdout",
          "text": [
            "              precision    recall  f1-score   support\n",
            "\n",
            "           0       1.00      1.00      1.00       980\n",
            "           1       1.00      0.99      1.00      1141\n",
            "           2       0.99      1.00      0.99      1030\n",
            "           3       0.99      0.99      0.99      1010\n",
            "           4       0.99      1.00      1.00       979\n",
            "           5       0.99      0.99      0.99       893\n",
            "           6       1.00      1.00      1.00       958\n",
            "           7       0.99      0.99      0.99      1029\n",
            "           8       0.99      1.00      0.99       968\n",
            "           9       0.99      0.99      0.99      1012\n",
            "\n",
            "    accuracy                           0.99     10000\n",
            "   macro avg       0.99      0.99      0.99     10000\n",
            "weighted avg       0.99      0.99      0.99     10000\n",
            "\n",
            "Test set: Average loss: 0.0190, Accuracy: 9945/10000 (99.45%)\n",
            "\n",
            "Adjusting learning rate of group 0 to 1.0000e-04.\n"
          ]
        }
      ]
    },
    {
      "cell_type": "markdown",
      "source": [
        "## Display Results"
      ],
      "metadata": {
        "id": "xVXP0fKFzj1Z"
      }
    },
    {
      "cell_type": "code",
      "source": [
        "df = pd.DataFrame(metrics)"
      ],
      "metadata": {
        "id": "qBXxW_lx4rM6"
      },
      "execution_count": null,
      "outputs": []
    },
    {
      "cell_type": "code",
      "source": [
        "df[['train_losses', 'test_losses']].plot()"
      ],
      "metadata": {
        "colab": {
          "base_uri": "https://localhost:8080/",
          "height": 542
        },
        "id": "wEXQxw4wTjHN",
        "outputId": "751ae7f5-0b50-48c6-b7b0-93202ec2f259"
      },
      "execution_count": null,
      "outputs": [
        {
          "output_type": "display_data",
          "data": {
            "text/html": [
              "<html>\n",
              "<head><meta charset=\"utf-8\" /></head>\n",
              "<body>\n",
              "    <div>            <script src=\"https://cdnjs.cloudflare.com/ajax/libs/mathjax/2.7.5/MathJax.js?config=TeX-AMS-MML_SVG\"></script><script type=\"text/javascript\">if (window.MathJax && window.MathJax.Hub && window.MathJax.Hub.Config) {window.MathJax.Hub.Config({SVG: {font: \"STIX-Web\"}});}</script>                <script type=\"text/javascript\">window.PlotlyConfig = {MathJaxConfig: 'local'};</script>\n",
              "        <script src=\"https://cdn.plot.ly/plotly-2.18.2.min.js\"></script>                <div id=\"bdb8f5d4-45d9-42c9-bc56-c52bcd7cfb8b\" class=\"plotly-graph-div\" style=\"height:525px; width:100%;\"></div>            <script type=\"text/javascript\">                                    window.PLOTLYENV=window.PLOTLYENV || {};                                    if (document.getElementById(\"bdb8f5d4-45d9-42c9-bc56-c52bcd7cfb8b\")) {                    Plotly.newPlot(                        \"bdb8f5d4-45d9-42c9-bc56-c52bcd7cfb8b\",                        [{\"hovertemplate\":\"variable=train_losses<br>index=%{x}<br>value=%{y}<extra></extra>\",\"legendgroup\":\"train_losses\",\"line\":{\"color\":\"#636efa\",\"dash\":\"solid\"},\"marker\":{\"symbol\":\"circle\"},\"mode\":\"lines\",\"name\":\"train_losses\",\"orientation\":\"v\",\"showlegend\":true,\"x\":[0,1,2,3,4,5,6,7,8,9,10,11,12,13,14,15,16,17,18,19],\"xaxis\":\"x\",\"y\":[0.36065603224402765,0.07717815101525541,0.06071025153456287,0.052297953642525916,0.04761924021640571,0.044820216429119895,0.035436133127975264,0.03381796511111118,0.031976218489235486,0.03179690899264257,0.03058425291299315,0.03131887737377468,0.029676752914753506,0.02966495937178448,0.029925460082684027,0.030500156733886164,0.029583849012851715,0.02830474131535423,0.029715048804310924,0.030775843338125337],\"yaxis\":\"y\",\"type\":\"scatter\"},{\"hovertemplate\":\"variable=test_losses<br>index=%{x}<br>value=%{y}<extra></extra>\",\"legendgroup\":\"test_losses\",\"line\":{\"color\":\"#EF553B\",\"dash\":\"solid\"},\"marker\":{\"symbol\":\"circle\"},\"mode\":\"lines\",\"name\":\"test_losses\",\"orientation\":\"v\",\"showlegend\":true,\"x\":[0,1,2,3,4,5,6,7,8,9,10,11,12,13,14,15,16,17,18,19],\"xaxis\":\"x\",\"y\":[0.06281507225036621,0.036748953342437746,0.03288969388008118,0.03725401582717895,0.028616151428222655,0.025102040481567382,0.019487552332878112,0.020051990532875062,0.019916568684577942,0.019977282691001894,0.018095819878578185,0.01788035020828247,0.017905800354480743,0.018468843770027162,0.018049407291412353,0.017764000958204268,0.018110212051868437,0.017653742897510528,0.01782397711277008,0.0181930207490921],\"yaxis\":\"y\",\"type\":\"scatter\"}],                        {\"template\":{\"data\":{\"histogram2dcontour\":[{\"type\":\"histogram2dcontour\",\"colorbar\":{\"outlinewidth\":0,\"ticks\":\"\"},\"colorscale\":[[0.0,\"#0d0887\"],[0.1111111111111111,\"#46039f\"],[0.2222222222222222,\"#7201a8\"],[0.3333333333333333,\"#9c179e\"],[0.4444444444444444,\"#bd3786\"],[0.5555555555555556,\"#d8576b\"],[0.6666666666666666,\"#ed7953\"],[0.7777777777777778,\"#fb9f3a\"],[0.8888888888888888,\"#fdca26\"],[1.0,\"#f0f921\"]]}],\"choropleth\":[{\"type\":\"choropleth\",\"colorbar\":{\"outlinewidth\":0,\"ticks\":\"\"}}],\"histogram2d\":[{\"type\":\"histogram2d\",\"colorbar\":{\"outlinewidth\":0,\"ticks\":\"\"},\"colorscale\":[[0.0,\"#0d0887\"],[0.1111111111111111,\"#46039f\"],[0.2222222222222222,\"#7201a8\"],[0.3333333333333333,\"#9c179e\"],[0.4444444444444444,\"#bd3786\"],[0.5555555555555556,\"#d8576b\"],[0.6666666666666666,\"#ed7953\"],[0.7777777777777778,\"#fb9f3a\"],[0.8888888888888888,\"#fdca26\"],[1.0,\"#f0f921\"]]}],\"heatmap\":[{\"type\":\"heatmap\",\"colorbar\":{\"outlinewidth\":0,\"ticks\":\"\"},\"colorscale\":[[0.0,\"#0d0887\"],[0.1111111111111111,\"#46039f\"],[0.2222222222222222,\"#7201a8\"],[0.3333333333333333,\"#9c179e\"],[0.4444444444444444,\"#bd3786\"],[0.5555555555555556,\"#d8576b\"],[0.6666666666666666,\"#ed7953\"],[0.7777777777777778,\"#fb9f3a\"],[0.8888888888888888,\"#fdca26\"],[1.0,\"#f0f921\"]]}],\"heatmapgl\":[{\"type\":\"heatmapgl\",\"colorbar\":{\"outlinewidth\":0,\"ticks\":\"\"},\"colorscale\":[[0.0,\"#0d0887\"],[0.1111111111111111,\"#46039f\"],[0.2222222222222222,\"#7201a8\"],[0.3333333333333333,\"#9c179e\"],[0.4444444444444444,\"#bd3786\"],[0.5555555555555556,\"#d8576b\"],[0.6666666666666666,\"#ed7953\"],[0.7777777777777778,\"#fb9f3a\"],[0.8888888888888888,\"#fdca26\"],[1.0,\"#f0f921\"]]}],\"contourcarpet\":[{\"type\":\"contourcarpet\",\"colorbar\":{\"outlinewidth\":0,\"ticks\":\"\"}}],\"contour\":[{\"type\":\"contour\",\"colorbar\":{\"outlinewidth\":0,\"ticks\":\"\"},\"colorscale\":[[0.0,\"#0d0887\"],[0.1111111111111111,\"#46039f\"],[0.2222222222222222,\"#7201a8\"],[0.3333333333333333,\"#9c179e\"],[0.4444444444444444,\"#bd3786\"],[0.5555555555555556,\"#d8576b\"],[0.6666666666666666,\"#ed7953\"],[0.7777777777777778,\"#fb9f3a\"],[0.8888888888888888,\"#fdca26\"],[1.0,\"#f0f921\"]]}],\"surface\":[{\"type\":\"surface\",\"colorbar\":{\"outlinewidth\":0,\"ticks\":\"\"},\"colorscale\":[[0.0,\"#0d0887\"],[0.1111111111111111,\"#46039f\"],[0.2222222222222222,\"#7201a8\"],[0.3333333333333333,\"#9c179e\"],[0.4444444444444444,\"#bd3786\"],[0.5555555555555556,\"#d8576b\"],[0.6666666666666666,\"#ed7953\"],[0.7777777777777778,\"#fb9f3a\"],[0.8888888888888888,\"#fdca26\"],[1.0,\"#f0f921\"]]}],\"mesh3d\":[{\"type\":\"mesh3d\",\"colorbar\":{\"outlinewidth\":0,\"ticks\":\"\"}}],\"scatter\":[{\"fillpattern\":{\"fillmode\":\"overlay\",\"size\":10,\"solidity\":0.2},\"type\":\"scatter\"}],\"parcoords\":[{\"type\":\"parcoords\",\"line\":{\"colorbar\":{\"outlinewidth\":0,\"ticks\":\"\"}}}],\"scatterpolargl\":[{\"type\":\"scatterpolargl\",\"marker\":{\"colorbar\":{\"outlinewidth\":0,\"ticks\":\"\"}}}],\"bar\":[{\"error_x\":{\"color\":\"#2a3f5f\"},\"error_y\":{\"color\":\"#2a3f5f\"},\"marker\":{\"line\":{\"color\":\"#E5ECF6\",\"width\":0.5},\"pattern\":{\"fillmode\":\"overlay\",\"size\":10,\"solidity\":0.2}},\"type\":\"bar\"}],\"scattergeo\":[{\"type\":\"scattergeo\",\"marker\":{\"colorbar\":{\"outlinewidth\":0,\"ticks\":\"\"}}}],\"scatterpolar\":[{\"type\":\"scatterpolar\",\"marker\":{\"colorbar\":{\"outlinewidth\":0,\"ticks\":\"\"}}}],\"histogram\":[{\"marker\":{\"pattern\":{\"fillmode\":\"overlay\",\"size\":10,\"solidity\":0.2}},\"type\":\"histogram\"}],\"scattergl\":[{\"type\":\"scattergl\",\"marker\":{\"colorbar\":{\"outlinewidth\":0,\"ticks\":\"\"}}}],\"scatter3d\":[{\"type\":\"scatter3d\",\"line\":{\"colorbar\":{\"outlinewidth\":0,\"ticks\":\"\"}},\"marker\":{\"colorbar\":{\"outlinewidth\":0,\"ticks\":\"\"}}}],\"scattermapbox\":[{\"type\":\"scattermapbox\",\"marker\":{\"colorbar\":{\"outlinewidth\":0,\"ticks\":\"\"}}}],\"scatterternary\":[{\"type\":\"scatterternary\",\"marker\":{\"colorbar\":{\"outlinewidth\":0,\"ticks\":\"\"}}}],\"scattercarpet\":[{\"type\":\"scattercarpet\",\"marker\":{\"colorbar\":{\"outlinewidth\":0,\"ticks\":\"\"}}}],\"carpet\":[{\"aaxis\":{\"endlinecolor\":\"#2a3f5f\",\"gridcolor\":\"white\",\"linecolor\":\"white\",\"minorgridcolor\":\"white\",\"startlinecolor\":\"#2a3f5f\"},\"baxis\":{\"endlinecolor\":\"#2a3f5f\",\"gridcolor\":\"white\",\"linecolor\":\"white\",\"minorgridcolor\":\"white\",\"startlinecolor\":\"#2a3f5f\"},\"type\":\"carpet\"}],\"table\":[{\"cells\":{\"fill\":{\"color\":\"#EBF0F8\"},\"line\":{\"color\":\"white\"}},\"header\":{\"fill\":{\"color\":\"#C8D4E3\"},\"line\":{\"color\":\"white\"}},\"type\":\"table\"}],\"barpolar\":[{\"marker\":{\"line\":{\"color\":\"#E5ECF6\",\"width\":0.5},\"pattern\":{\"fillmode\":\"overlay\",\"size\":10,\"solidity\":0.2}},\"type\":\"barpolar\"}],\"pie\":[{\"automargin\":true,\"type\":\"pie\"}]},\"layout\":{\"autotypenumbers\":\"strict\",\"colorway\":[\"#636efa\",\"#EF553B\",\"#00cc96\",\"#ab63fa\",\"#FFA15A\",\"#19d3f3\",\"#FF6692\",\"#B6E880\",\"#FF97FF\",\"#FECB52\"],\"font\":{\"color\":\"#2a3f5f\"},\"hovermode\":\"closest\",\"hoverlabel\":{\"align\":\"left\"},\"paper_bgcolor\":\"white\",\"plot_bgcolor\":\"#E5ECF6\",\"polar\":{\"bgcolor\":\"#E5ECF6\",\"angularaxis\":{\"gridcolor\":\"white\",\"linecolor\":\"white\",\"ticks\":\"\"},\"radialaxis\":{\"gridcolor\":\"white\",\"linecolor\":\"white\",\"ticks\":\"\"}},\"ternary\":{\"bgcolor\":\"#E5ECF6\",\"aaxis\":{\"gridcolor\":\"white\",\"linecolor\":\"white\",\"ticks\":\"\"},\"baxis\":{\"gridcolor\":\"white\",\"linecolor\":\"white\",\"ticks\":\"\"},\"caxis\":{\"gridcolor\":\"white\",\"linecolor\":\"white\",\"ticks\":\"\"}},\"coloraxis\":{\"colorbar\":{\"outlinewidth\":0,\"ticks\":\"\"}},\"colorscale\":{\"sequential\":[[0.0,\"#0d0887\"],[0.1111111111111111,\"#46039f\"],[0.2222222222222222,\"#7201a8\"],[0.3333333333333333,\"#9c179e\"],[0.4444444444444444,\"#bd3786\"],[0.5555555555555556,\"#d8576b\"],[0.6666666666666666,\"#ed7953\"],[0.7777777777777778,\"#fb9f3a\"],[0.8888888888888888,\"#fdca26\"],[1.0,\"#f0f921\"]],\"sequentialminus\":[[0.0,\"#0d0887\"],[0.1111111111111111,\"#46039f\"],[0.2222222222222222,\"#7201a8\"],[0.3333333333333333,\"#9c179e\"],[0.4444444444444444,\"#bd3786\"],[0.5555555555555556,\"#d8576b\"],[0.6666666666666666,\"#ed7953\"],[0.7777777777777778,\"#fb9f3a\"],[0.8888888888888888,\"#fdca26\"],[1.0,\"#f0f921\"]],\"diverging\":[[0,\"#8e0152\"],[0.1,\"#c51b7d\"],[0.2,\"#de77ae\"],[0.3,\"#f1b6da\"],[0.4,\"#fde0ef\"],[0.5,\"#f7f7f7\"],[0.6,\"#e6f5d0\"],[0.7,\"#b8e186\"],[0.8,\"#7fbc41\"],[0.9,\"#4d9221\"],[1,\"#276419\"]]},\"xaxis\":{\"gridcolor\":\"white\",\"linecolor\":\"white\",\"ticks\":\"\",\"title\":{\"standoff\":15},\"zerolinecolor\":\"white\",\"automargin\":true,\"zerolinewidth\":2},\"yaxis\":{\"gridcolor\":\"white\",\"linecolor\":\"white\",\"ticks\":\"\",\"title\":{\"standoff\":15},\"zerolinecolor\":\"white\",\"automargin\":true,\"zerolinewidth\":2},\"scene\":{\"xaxis\":{\"backgroundcolor\":\"#E5ECF6\",\"gridcolor\":\"white\",\"linecolor\":\"white\",\"showbackground\":true,\"ticks\":\"\",\"zerolinecolor\":\"white\",\"gridwidth\":2},\"yaxis\":{\"backgroundcolor\":\"#E5ECF6\",\"gridcolor\":\"white\",\"linecolor\":\"white\",\"showbackground\":true,\"ticks\":\"\",\"zerolinecolor\":\"white\",\"gridwidth\":2},\"zaxis\":{\"backgroundcolor\":\"#E5ECF6\",\"gridcolor\":\"white\",\"linecolor\":\"white\",\"showbackground\":true,\"ticks\":\"\",\"zerolinecolor\":\"white\",\"gridwidth\":2}},\"shapedefaults\":{\"line\":{\"color\":\"#2a3f5f\"}},\"annotationdefaults\":{\"arrowcolor\":\"#2a3f5f\",\"arrowhead\":0,\"arrowwidth\":1},\"geo\":{\"bgcolor\":\"white\",\"landcolor\":\"#E5ECF6\",\"subunitcolor\":\"white\",\"showland\":true,\"showlakes\":true,\"lakecolor\":\"white\"},\"title\":{\"x\":0.05},\"mapbox\":{\"style\":\"light\"}}},\"xaxis\":{\"anchor\":\"y\",\"domain\":[0.0,1.0],\"title\":{\"text\":\"index\"}},\"yaxis\":{\"anchor\":\"x\",\"domain\":[0.0,1.0],\"title\":{\"text\":\"value\"}},\"legend\":{\"title\":{\"text\":\"variable\"},\"tracegroupgap\":0},\"margin\":{\"t\":60}},                        {\"responsive\": true}                    ).then(function(){\n",
              "                            \n",
              "var gd = document.getElementById('bdb8f5d4-45d9-42c9-bc56-c52bcd7cfb8b');\n",
              "var x = new MutationObserver(function (mutations, observer) {{\n",
              "        var display = window.getComputedStyle(gd).display;\n",
              "        if (!display || display === 'none') {{\n",
              "            console.log([gd, 'removed!']);\n",
              "            Plotly.purge(gd);\n",
              "            observer.disconnect();\n",
              "        }}\n",
              "}});\n",
              "\n",
              "// Listen for the removal of the full notebook cells\n",
              "var notebookContainer = gd.closest('#notebook-container');\n",
              "if (notebookContainer) {{\n",
              "    x.observe(notebookContainer, {childList: true});\n",
              "}}\n",
              "\n",
              "// Listen for the clearing of the current output cell\n",
              "var outputEl = gd.closest('.output');\n",
              "if (outputEl) {{\n",
              "    x.observe(outputEl, {childList: true});\n",
              "}}\n",
              "\n",
              "                        })                };                            </script>        </div>\n",
              "</body>\n",
              "</html>"
            ]
          },
          "metadata": {}
        }
      ]
    },
    {
      "cell_type": "code",
      "source": [
        "df[['train_acc', 'test_acc']].plot()"
      ],
      "metadata": {
        "colab": {
          "base_uri": "https://localhost:8080/",
          "height": 542
        },
        "id": "If8i_k7bTuWo",
        "outputId": "d19f60d3-0d5e-4245-ade6-3c38cce44267"
      },
      "execution_count": null,
      "outputs": [
        {
          "output_type": "display_data",
          "data": {
            "text/html": [
              "<html>\n",
              "<head><meta charset=\"utf-8\" /></head>\n",
              "<body>\n",
              "    <div>            <script src=\"https://cdnjs.cloudflare.com/ajax/libs/mathjax/2.7.5/MathJax.js?config=TeX-AMS-MML_SVG\"></script><script type=\"text/javascript\">if (window.MathJax && window.MathJax.Hub && window.MathJax.Hub.Config) {window.MathJax.Hub.Config({SVG: {font: \"STIX-Web\"}});}</script>                <script type=\"text/javascript\">window.PlotlyConfig = {MathJaxConfig: 'local'};</script>\n",
              "        <script src=\"https://cdn.plot.ly/plotly-2.18.2.min.js\"></script>                <div id=\"7456a415-ef57-473c-bc76-3f975929ff3a\" class=\"plotly-graph-div\" style=\"height:525px; width:100%;\"></div>            <script type=\"text/javascript\">                                    window.PLOTLYENV=window.PLOTLYENV || {};                                    if (document.getElementById(\"7456a415-ef57-473c-bc76-3f975929ff3a\")) {                    Plotly.newPlot(                        \"7456a415-ef57-473c-bc76-3f975929ff3a\",                        [{\"hovertemplate\":\"variable=train_acc<br>index=%{x}<br>value=%{y}<extra></extra>\",\"legendgroup\":\"train_acc\",\"line\":{\"color\":\"#636efa\",\"dash\":\"solid\"},\"marker\":{\"symbol\":\"circle\"},\"mode\":\"lines\",\"name\":\"train_acc\",\"orientation\":\"v\",\"showlegend\":true,\"x\":[0,1,2,3,4,5,6,7,8,9,10,11,12,13,14,15,16,17,18,19],\"xaxis\":\"x\",\"y\":[89.07666666666667,97.65,98.085,98.33833333333334,98.51666666666667,98.595,98.905,98.91333333333333,98.97666666666667,99.04833333333333,99.02,99.00666666666666,99.06333333333333,99.07166666666667,99.09166666666667,99.03166666666667,99.09,99.11166666666666,99.06166666666667,99.03166666666667],\"yaxis\":\"y\",\"type\":\"scatter\"},{\"hovertemplate\":\"variable=test_acc<br>index=%{x}<br>value=%{y}<extra></extra>\",\"legendgroup\":\"test_acc\",\"line\":{\"color\":\"#EF553B\",\"dash\":\"solid\"},\"marker\":{\"symbol\":\"circle\"},\"mode\":\"lines\",\"name\":\"test_acc\",\"orientation\":\"v\",\"showlegend\":true,\"x\":[0,1,2,3,4,5,6,7,8,9,10,11,12,13,14,15,16,17,18,19],\"xaxis\":\"x\",\"y\":[98.02,98.86,98.94,98.73,99.14,99.26,99.42,99.33,99.34,99.34,99.4,99.41,99.39,99.4,99.42,99.44,99.4,99.43,99.43,99.36],\"yaxis\":\"y\",\"type\":\"scatter\"}],                        {\"template\":{\"data\":{\"histogram2dcontour\":[{\"type\":\"histogram2dcontour\",\"colorbar\":{\"outlinewidth\":0,\"ticks\":\"\"},\"colorscale\":[[0.0,\"#0d0887\"],[0.1111111111111111,\"#46039f\"],[0.2222222222222222,\"#7201a8\"],[0.3333333333333333,\"#9c179e\"],[0.4444444444444444,\"#bd3786\"],[0.5555555555555556,\"#d8576b\"],[0.6666666666666666,\"#ed7953\"],[0.7777777777777778,\"#fb9f3a\"],[0.8888888888888888,\"#fdca26\"],[1.0,\"#f0f921\"]]}],\"choropleth\":[{\"type\":\"choropleth\",\"colorbar\":{\"outlinewidth\":0,\"ticks\":\"\"}}],\"histogram2d\":[{\"type\":\"histogram2d\",\"colorbar\":{\"outlinewidth\":0,\"ticks\":\"\"},\"colorscale\":[[0.0,\"#0d0887\"],[0.1111111111111111,\"#46039f\"],[0.2222222222222222,\"#7201a8\"],[0.3333333333333333,\"#9c179e\"],[0.4444444444444444,\"#bd3786\"],[0.5555555555555556,\"#d8576b\"],[0.6666666666666666,\"#ed7953\"],[0.7777777777777778,\"#fb9f3a\"],[0.8888888888888888,\"#fdca26\"],[1.0,\"#f0f921\"]]}],\"heatmap\":[{\"type\":\"heatmap\",\"colorbar\":{\"outlinewidth\":0,\"ticks\":\"\"},\"colorscale\":[[0.0,\"#0d0887\"],[0.1111111111111111,\"#46039f\"],[0.2222222222222222,\"#7201a8\"],[0.3333333333333333,\"#9c179e\"],[0.4444444444444444,\"#bd3786\"],[0.5555555555555556,\"#d8576b\"],[0.6666666666666666,\"#ed7953\"],[0.7777777777777778,\"#fb9f3a\"],[0.8888888888888888,\"#fdca26\"],[1.0,\"#f0f921\"]]}],\"heatmapgl\":[{\"type\":\"heatmapgl\",\"colorbar\":{\"outlinewidth\":0,\"ticks\":\"\"},\"colorscale\":[[0.0,\"#0d0887\"],[0.1111111111111111,\"#46039f\"],[0.2222222222222222,\"#7201a8\"],[0.3333333333333333,\"#9c179e\"],[0.4444444444444444,\"#bd3786\"],[0.5555555555555556,\"#d8576b\"],[0.6666666666666666,\"#ed7953\"],[0.7777777777777778,\"#fb9f3a\"],[0.8888888888888888,\"#fdca26\"],[1.0,\"#f0f921\"]]}],\"contourcarpet\":[{\"type\":\"contourcarpet\",\"colorbar\":{\"outlinewidth\":0,\"ticks\":\"\"}}],\"contour\":[{\"type\":\"contour\",\"colorbar\":{\"outlinewidth\":0,\"ticks\":\"\"},\"colorscale\":[[0.0,\"#0d0887\"],[0.1111111111111111,\"#46039f\"],[0.2222222222222222,\"#7201a8\"],[0.3333333333333333,\"#9c179e\"],[0.4444444444444444,\"#bd3786\"],[0.5555555555555556,\"#d8576b\"],[0.6666666666666666,\"#ed7953\"],[0.7777777777777778,\"#fb9f3a\"],[0.8888888888888888,\"#fdca26\"],[1.0,\"#f0f921\"]]}],\"surface\":[{\"type\":\"surface\",\"colorbar\":{\"outlinewidth\":0,\"ticks\":\"\"},\"colorscale\":[[0.0,\"#0d0887\"],[0.1111111111111111,\"#46039f\"],[0.2222222222222222,\"#7201a8\"],[0.3333333333333333,\"#9c179e\"],[0.4444444444444444,\"#bd3786\"],[0.5555555555555556,\"#d8576b\"],[0.6666666666666666,\"#ed7953\"],[0.7777777777777778,\"#fb9f3a\"],[0.8888888888888888,\"#fdca26\"],[1.0,\"#f0f921\"]]}],\"mesh3d\":[{\"type\":\"mesh3d\",\"colorbar\":{\"outlinewidth\":0,\"ticks\":\"\"}}],\"scatter\":[{\"fillpattern\":{\"fillmode\":\"overlay\",\"size\":10,\"solidity\":0.2},\"type\":\"scatter\"}],\"parcoords\":[{\"type\":\"parcoords\",\"line\":{\"colorbar\":{\"outlinewidth\":0,\"ticks\":\"\"}}}],\"scatterpolargl\":[{\"type\":\"scatterpolargl\",\"marker\":{\"colorbar\":{\"outlinewidth\":0,\"ticks\":\"\"}}}],\"bar\":[{\"error_x\":{\"color\":\"#2a3f5f\"},\"error_y\":{\"color\":\"#2a3f5f\"},\"marker\":{\"line\":{\"color\":\"#E5ECF6\",\"width\":0.5},\"pattern\":{\"fillmode\":\"overlay\",\"size\":10,\"solidity\":0.2}},\"type\":\"bar\"}],\"scattergeo\":[{\"type\":\"scattergeo\",\"marker\":{\"colorbar\":{\"outlinewidth\":0,\"ticks\":\"\"}}}],\"scatterpolar\":[{\"type\":\"scatterpolar\",\"marker\":{\"colorbar\":{\"outlinewidth\":0,\"ticks\":\"\"}}}],\"histogram\":[{\"marker\":{\"pattern\":{\"fillmode\":\"overlay\",\"size\":10,\"solidity\":0.2}},\"type\":\"histogram\"}],\"scattergl\":[{\"type\":\"scattergl\",\"marker\":{\"colorbar\":{\"outlinewidth\":0,\"ticks\":\"\"}}}],\"scatter3d\":[{\"type\":\"scatter3d\",\"line\":{\"colorbar\":{\"outlinewidth\":0,\"ticks\":\"\"}},\"marker\":{\"colorbar\":{\"outlinewidth\":0,\"ticks\":\"\"}}}],\"scattermapbox\":[{\"type\":\"scattermapbox\",\"marker\":{\"colorbar\":{\"outlinewidth\":0,\"ticks\":\"\"}}}],\"scatterternary\":[{\"type\":\"scatterternary\",\"marker\":{\"colorbar\":{\"outlinewidth\":0,\"ticks\":\"\"}}}],\"scattercarpet\":[{\"type\":\"scattercarpet\",\"marker\":{\"colorbar\":{\"outlinewidth\":0,\"ticks\":\"\"}}}],\"carpet\":[{\"aaxis\":{\"endlinecolor\":\"#2a3f5f\",\"gridcolor\":\"white\",\"linecolor\":\"white\",\"minorgridcolor\":\"white\",\"startlinecolor\":\"#2a3f5f\"},\"baxis\":{\"endlinecolor\":\"#2a3f5f\",\"gridcolor\":\"white\",\"linecolor\":\"white\",\"minorgridcolor\":\"white\",\"startlinecolor\":\"#2a3f5f\"},\"type\":\"carpet\"}],\"table\":[{\"cells\":{\"fill\":{\"color\":\"#EBF0F8\"},\"line\":{\"color\":\"white\"}},\"header\":{\"fill\":{\"color\":\"#C8D4E3\"},\"line\":{\"color\":\"white\"}},\"type\":\"table\"}],\"barpolar\":[{\"marker\":{\"line\":{\"color\":\"#E5ECF6\",\"width\":0.5},\"pattern\":{\"fillmode\":\"overlay\",\"size\":10,\"solidity\":0.2}},\"type\":\"barpolar\"}],\"pie\":[{\"automargin\":true,\"type\":\"pie\"}]},\"layout\":{\"autotypenumbers\":\"strict\",\"colorway\":[\"#636efa\",\"#EF553B\",\"#00cc96\",\"#ab63fa\",\"#FFA15A\",\"#19d3f3\",\"#FF6692\",\"#B6E880\",\"#FF97FF\",\"#FECB52\"],\"font\":{\"color\":\"#2a3f5f\"},\"hovermode\":\"closest\",\"hoverlabel\":{\"align\":\"left\"},\"paper_bgcolor\":\"white\",\"plot_bgcolor\":\"#E5ECF6\",\"polar\":{\"bgcolor\":\"#E5ECF6\",\"angularaxis\":{\"gridcolor\":\"white\",\"linecolor\":\"white\",\"ticks\":\"\"},\"radialaxis\":{\"gridcolor\":\"white\",\"linecolor\":\"white\",\"ticks\":\"\"}},\"ternary\":{\"bgcolor\":\"#E5ECF6\",\"aaxis\":{\"gridcolor\":\"white\",\"linecolor\":\"white\",\"ticks\":\"\"},\"baxis\":{\"gridcolor\":\"white\",\"linecolor\":\"white\",\"ticks\":\"\"},\"caxis\":{\"gridcolor\":\"white\",\"linecolor\":\"white\",\"ticks\":\"\"}},\"coloraxis\":{\"colorbar\":{\"outlinewidth\":0,\"ticks\":\"\"}},\"colorscale\":{\"sequential\":[[0.0,\"#0d0887\"],[0.1111111111111111,\"#46039f\"],[0.2222222222222222,\"#7201a8\"],[0.3333333333333333,\"#9c179e\"],[0.4444444444444444,\"#bd3786\"],[0.5555555555555556,\"#d8576b\"],[0.6666666666666666,\"#ed7953\"],[0.7777777777777778,\"#fb9f3a\"],[0.8888888888888888,\"#fdca26\"],[1.0,\"#f0f921\"]],\"sequentialminus\":[[0.0,\"#0d0887\"],[0.1111111111111111,\"#46039f\"],[0.2222222222222222,\"#7201a8\"],[0.3333333333333333,\"#9c179e\"],[0.4444444444444444,\"#bd3786\"],[0.5555555555555556,\"#d8576b\"],[0.6666666666666666,\"#ed7953\"],[0.7777777777777778,\"#fb9f3a\"],[0.8888888888888888,\"#fdca26\"],[1.0,\"#f0f921\"]],\"diverging\":[[0,\"#8e0152\"],[0.1,\"#c51b7d\"],[0.2,\"#de77ae\"],[0.3,\"#f1b6da\"],[0.4,\"#fde0ef\"],[0.5,\"#f7f7f7\"],[0.6,\"#e6f5d0\"],[0.7,\"#b8e186\"],[0.8,\"#7fbc41\"],[0.9,\"#4d9221\"],[1,\"#276419\"]]},\"xaxis\":{\"gridcolor\":\"white\",\"linecolor\":\"white\",\"ticks\":\"\",\"title\":{\"standoff\":15},\"zerolinecolor\":\"white\",\"automargin\":true,\"zerolinewidth\":2},\"yaxis\":{\"gridcolor\":\"white\",\"linecolor\":\"white\",\"ticks\":\"\",\"title\":{\"standoff\":15},\"zerolinecolor\":\"white\",\"automargin\":true,\"zerolinewidth\":2},\"scene\":{\"xaxis\":{\"backgroundcolor\":\"#E5ECF6\",\"gridcolor\":\"white\",\"linecolor\":\"white\",\"showbackground\":true,\"ticks\":\"\",\"zerolinecolor\":\"white\",\"gridwidth\":2},\"yaxis\":{\"backgroundcolor\":\"#E5ECF6\",\"gridcolor\":\"white\",\"linecolor\":\"white\",\"showbackground\":true,\"ticks\":\"\",\"zerolinecolor\":\"white\",\"gridwidth\":2},\"zaxis\":{\"backgroundcolor\":\"#E5ECF6\",\"gridcolor\":\"white\",\"linecolor\":\"white\",\"showbackground\":true,\"ticks\":\"\",\"zerolinecolor\":\"white\",\"gridwidth\":2}},\"shapedefaults\":{\"line\":{\"color\":\"#2a3f5f\"}},\"annotationdefaults\":{\"arrowcolor\":\"#2a3f5f\",\"arrowhead\":0,\"arrowwidth\":1},\"geo\":{\"bgcolor\":\"white\",\"landcolor\":\"#E5ECF6\",\"subunitcolor\":\"white\",\"showland\":true,\"showlakes\":true,\"lakecolor\":\"white\"},\"title\":{\"x\":0.05},\"mapbox\":{\"style\":\"light\"}}},\"xaxis\":{\"anchor\":\"y\",\"domain\":[0.0,1.0],\"title\":{\"text\":\"index\"}},\"yaxis\":{\"anchor\":\"x\",\"domain\":[0.0,1.0],\"title\":{\"text\":\"value\"}},\"legend\":{\"title\":{\"text\":\"variable\"},\"tracegroupgap\":0},\"margin\":{\"t\":60}},                        {\"responsive\": true}                    ).then(function(){\n",
              "                            \n",
              "var gd = document.getElementById('7456a415-ef57-473c-bc76-3f975929ff3a');\n",
              "var x = new MutationObserver(function (mutations, observer) {{\n",
              "        var display = window.getComputedStyle(gd).display;\n",
              "        if (!display || display === 'none') {{\n",
              "            console.log([gd, 'removed!']);\n",
              "            Plotly.purge(gd);\n",
              "            observer.disconnect();\n",
              "        }}\n",
              "}});\n",
              "\n",
              "// Listen for the removal of the full notebook cells\n",
              "var notebookContainer = gd.closest('#notebook-container');\n",
              "if (notebookContainer) {{\n",
              "    x.observe(notebookContainer, {childList: true});\n",
              "}}\n",
              "\n",
              "// Listen for the clearing of the current output cell\n",
              "var outputEl = gd.closest('.output');\n",
              "if (outputEl) {{\n",
              "    x.observe(outputEl, {childList: true});\n",
              "}}\n",
              "\n",
              "                        })                };                            </script>        </div>\n",
              "</body>\n",
              "</html>"
            ]
          },
          "metadata": {}
        }
      ]
    }
  ]
}