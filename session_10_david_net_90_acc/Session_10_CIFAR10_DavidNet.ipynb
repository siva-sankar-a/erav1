{
  "nbformat": 4,
  "nbformat_minor": 0,
  "metadata": {
    "colab": {
      "provenance": [],
      "gpuType": "T4",
      "machine_shape": "hm",
      "include_colab_link": true
    },
    "kernelspec": {
      "name": "python3",
      "display_name": "Python 3"
    },
    "language_info": {
      "name": "python"
    },
    "accelerator": "GPU",
    "widgets": {
      "application/vnd.jupyter.widget-state+json": {
        "6c77d30cd1014bf5896a4bcc0324b9c9": {
          "model_module": "@jupyter-widgets/controls",
          "model_name": "HBoxModel",
          "model_module_version": "1.5.0",
          "state": {
            "_dom_classes": [],
            "_model_module": "@jupyter-widgets/controls",
            "_model_module_version": "1.5.0",
            "_model_name": "HBoxModel",
            "_view_count": null,
            "_view_module": "@jupyter-widgets/controls",
            "_view_module_version": "1.5.0",
            "_view_name": "HBoxView",
            "box_style": "",
            "children": [
              "IPY_MODEL_ad2512ad16fb4cfd9d5c4e6df021a301",
              "IPY_MODEL_8dfe80bc7bda4cd59602f9b3a726af35",
              "IPY_MODEL_178bfad0118541cd97db098f18bbccc8"
            ],
            "layout": "IPY_MODEL_916673c87c1d42caa220040573b66844"
          }
        },
        "ad2512ad16fb4cfd9d5c4e6df021a301": {
          "model_module": "@jupyter-widgets/controls",
          "model_name": "HTMLModel",
          "model_module_version": "1.5.0",
          "state": {
            "_dom_classes": [],
            "_model_module": "@jupyter-widgets/controls",
            "_model_module_version": "1.5.0",
            "_model_name": "HTMLModel",
            "_view_count": null,
            "_view_module": "@jupyter-widgets/controls",
            "_view_module_version": "1.5.0",
            "_view_name": "HTMLView",
            "description": "",
            "description_tooltip": null,
            "layout": "IPY_MODEL_aec686883b5842508ef8517723e1b54e",
            "placeholder": "​",
            "style": "IPY_MODEL_ed165a897c604b12bdc21da89fd2cc6e",
            "value": "100%"
          }
        },
        "8dfe80bc7bda4cd59602f9b3a726af35": {
          "model_module": "@jupyter-widgets/controls",
          "model_name": "FloatProgressModel",
          "model_module_version": "1.5.0",
          "state": {
            "_dom_classes": [],
            "_model_module": "@jupyter-widgets/controls",
            "_model_module_version": "1.5.0",
            "_model_name": "FloatProgressModel",
            "_view_count": null,
            "_view_module": "@jupyter-widgets/controls",
            "_view_module_version": "1.5.0",
            "_view_name": "ProgressView",
            "bar_style": "success",
            "description": "",
            "description_tooltip": null,
            "layout": "IPY_MODEL_30dd6f0905c045728a7618c357e253c6",
            "max": 200,
            "min": 0,
            "orientation": "horizontal",
            "style": "IPY_MODEL_0b1f6e430d5247f1be1d5bc9fcebeaa5",
            "value": 200
          }
        },
        "178bfad0118541cd97db098f18bbccc8": {
          "model_module": "@jupyter-widgets/controls",
          "model_name": "HTMLModel",
          "model_module_version": "1.5.0",
          "state": {
            "_dom_classes": [],
            "_model_module": "@jupyter-widgets/controls",
            "_model_module_version": "1.5.0",
            "_model_name": "HTMLModel",
            "_view_count": null,
            "_view_module": "@jupyter-widgets/controls",
            "_view_module_version": "1.5.0",
            "_view_name": "HTMLView",
            "description": "",
            "description_tooltip": null,
            "layout": "IPY_MODEL_cf904dea633344e8b81adc57a4b6ccad",
            "placeholder": "​",
            "style": "IPY_MODEL_d504729377e34651b11a2f0634d2dc72",
            "value": " 200/200 [00:43&lt;00:00,  4.25it/s]"
          }
        },
        "916673c87c1d42caa220040573b66844": {
          "model_module": "@jupyter-widgets/base",
          "model_name": "LayoutModel",
          "model_module_version": "1.2.0",
          "state": {
            "_model_module": "@jupyter-widgets/base",
            "_model_module_version": "1.2.0",
            "_model_name": "LayoutModel",
            "_view_count": null,
            "_view_module": "@jupyter-widgets/base",
            "_view_module_version": "1.2.0",
            "_view_name": "LayoutView",
            "align_content": null,
            "align_items": null,
            "align_self": null,
            "border": null,
            "bottom": null,
            "display": null,
            "flex": null,
            "flex_flow": null,
            "grid_area": null,
            "grid_auto_columns": null,
            "grid_auto_flow": null,
            "grid_auto_rows": null,
            "grid_column": null,
            "grid_gap": null,
            "grid_row": null,
            "grid_template_areas": null,
            "grid_template_columns": null,
            "grid_template_rows": null,
            "height": null,
            "justify_content": null,
            "justify_items": null,
            "left": null,
            "margin": null,
            "max_height": null,
            "max_width": null,
            "min_height": null,
            "min_width": null,
            "object_fit": null,
            "object_position": null,
            "order": null,
            "overflow": null,
            "overflow_x": null,
            "overflow_y": null,
            "padding": null,
            "right": null,
            "top": null,
            "visibility": null,
            "width": null
          }
        },
        "aec686883b5842508ef8517723e1b54e": {
          "model_module": "@jupyter-widgets/base",
          "model_name": "LayoutModel",
          "model_module_version": "1.2.0",
          "state": {
            "_model_module": "@jupyter-widgets/base",
            "_model_module_version": "1.2.0",
            "_model_name": "LayoutModel",
            "_view_count": null,
            "_view_module": "@jupyter-widgets/base",
            "_view_module_version": "1.2.0",
            "_view_name": "LayoutView",
            "align_content": null,
            "align_items": null,
            "align_self": null,
            "border": null,
            "bottom": null,
            "display": null,
            "flex": null,
            "flex_flow": null,
            "grid_area": null,
            "grid_auto_columns": null,
            "grid_auto_flow": null,
            "grid_auto_rows": null,
            "grid_column": null,
            "grid_gap": null,
            "grid_row": null,
            "grid_template_areas": null,
            "grid_template_columns": null,
            "grid_template_rows": null,
            "height": null,
            "justify_content": null,
            "justify_items": null,
            "left": null,
            "margin": null,
            "max_height": null,
            "max_width": null,
            "min_height": null,
            "min_width": null,
            "object_fit": null,
            "object_position": null,
            "order": null,
            "overflow": null,
            "overflow_x": null,
            "overflow_y": null,
            "padding": null,
            "right": null,
            "top": null,
            "visibility": null,
            "width": null
          }
        },
        "ed165a897c604b12bdc21da89fd2cc6e": {
          "model_module": "@jupyter-widgets/controls",
          "model_name": "DescriptionStyleModel",
          "model_module_version": "1.5.0",
          "state": {
            "_model_module": "@jupyter-widgets/controls",
            "_model_module_version": "1.5.0",
            "_model_name": "DescriptionStyleModel",
            "_view_count": null,
            "_view_module": "@jupyter-widgets/base",
            "_view_module_version": "1.2.0",
            "_view_name": "StyleView",
            "description_width": ""
          }
        },
        "30dd6f0905c045728a7618c357e253c6": {
          "model_module": "@jupyter-widgets/base",
          "model_name": "LayoutModel",
          "model_module_version": "1.2.0",
          "state": {
            "_model_module": "@jupyter-widgets/base",
            "_model_module_version": "1.2.0",
            "_model_name": "LayoutModel",
            "_view_count": null,
            "_view_module": "@jupyter-widgets/base",
            "_view_module_version": "1.2.0",
            "_view_name": "LayoutView",
            "align_content": null,
            "align_items": null,
            "align_self": null,
            "border": null,
            "bottom": null,
            "display": null,
            "flex": null,
            "flex_flow": null,
            "grid_area": null,
            "grid_auto_columns": null,
            "grid_auto_flow": null,
            "grid_auto_rows": null,
            "grid_column": null,
            "grid_gap": null,
            "grid_row": null,
            "grid_template_areas": null,
            "grid_template_columns": null,
            "grid_template_rows": null,
            "height": null,
            "justify_content": null,
            "justify_items": null,
            "left": null,
            "margin": null,
            "max_height": null,
            "max_width": null,
            "min_height": null,
            "min_width": null,
            "object_fit": null,
            "object_position": null,
            "order": null,
            "overflow": null,
            "overflow_x": null,
            "overflow_y": null,
            "padding": null,
            "right": null,
            "top": null,
            "visibility": null,
            "width": null
          }
        },
        "0b1f6e430d5247f1be1d5bc9fcebeaa5": {
          "model_module": "@jupyter-widgets/controls",
          "model_name": "ProgressStyleModel",
          "model_module_version": "1.5.0",
          "state": {
            "_model_module": "@jupyter-widgets/controls",
            "_model_module_version": "1.5.0",
            "_model_name": "ProgressStyleModel",
            "_view_count": null,
            "_view_module": "@jupyter-widgets/base",
            "_view_module_version": "1.2.0",
            "_view_name": "StyleView",
            "bar_color": null,
            "description_width": ""
          }
        },
        "cf904dea633344e8b81adc57a4b6ccad": {
          "model_module": "@jupyter-widgets/base",
          "model_name": "LayoutModel",
          "model_module_version": "1.2.0",
          "state": {
            "_model_module": "@jupyter-widgets/base",
            "_model_module_version": "1.2.0",
            "_model_name": "LayoutModel",
            "_view_count": null,
            "_view_module": "@jupyter-widgets/base",
            "_view_module_version": "1.2.0",
            "_view_name": "LayoutView",
            "align_content": null,
            "align_items": null,
            "align_self": null,
            "border": null,
            "bottom": null,
            "display": null,
            "flex": null,
            "flex_flow": null,
            "grid_area": null,
            "grid_auto_columns": null,
            "grid_auto_flow": null,
            "grid_auto_rows": null,
            "grid_column": null,
            "grid_gap": null,
            "grid_row": null,
            "grid_template_areas": null,
            "grid_template_columns": null,
            "grid_template_rows": null,
            "height": null,
            "justify_content": null,
            "justify_items": null,
            "left": null,
            "margin": null,
            "max_height": null,
            "max_width": null,
            "min_height": null,
            "min_width": null,
            "object_fit": null,
            "object_position": null,
            "order": null,
            "overflow": null,
            "overflow_x": null,
            "overflow_y": null,
            "padding": null,
            "right": null,
            "top": null,
            "visibility": null,
            "width": null
          }
        },
        "d504729377e34651b11a2f0634d2dc72": {
          "model_module": "@jupyter-widgets/controls",
          "model_name": "DescriptionStyleModel",
          "model_module_version": "1.5.0",
          "state": {
            "_model_module": "@jupyter-widgets/controls",
            "_model_module_version": "1.5.0",
            "_model_name": "DescriptionStyleModel",
            "_view_count": null,
            "_view_module": "@jupyter-widgets/base",
            "_view_module_version": "1.2.0",
            "_view_name": "StyleView",
            "description_width": ""
          }
        }
      }
    }
  },
  "cells": [
    {
      "cell_type": "markdown",
      "metadata": {
        "id": "view-in-github",
        "colab_type": "text"
      },
      "source": [
        "<a href=\"https://colab.research.google.com/github/siva-sankar-a/erav1/blob/main/session_10_david_net_90_acc/Session_10_CIFAR10_DavidNet.ipynb\" target=\"_parent\"><img src=\"https://colab.research.google.com/assets/colab-badge.svg\" alt=\"Open In Colab\"/></a>"
      ]
    },
    {
      "cell_type": "markdown",
      "source": [
        "# ERA V1 Session 10\n",
        "## Refer [link](https://github.com/siva-sankar-a/erav1/tree/session/session-6-multiple-architecture-check/session_6_multiple_architectures_mnist#readme) for further documentation"
      ],
      "metadata": {
        "id": "vxvrP2Onom0u"
      }
    },
    {
      "cell_type": "markdown",
      "source": [
        "## Cloning the Github repository\n",
        "## [Session 10](https://github.com/siva-sankar-a/erav1.git)"
      ],
      "metadata": {
        "id": "0D7qh1EynkZJ"
      }
    },
    {
      "cell_type": "code",
      "source": [
        "import numpy as np"
      ],
      "metadata": {
        "id": "9q-OpGlmgVJ_"
      },
      "execution_count": 1,
      "outputs": []
    },
    {
      "cell_type": "code",
      "source": [
        "!pip install torchviz"
      ],
      "metadata": {
        "colab": {
          "base_uri": "https://localhost:8080/"
        },
        "id": "wM7bEw9vZnNQ",
        "outputId": "ba50a980-80aa-4321-dbe9-a33eb1581fd2"
      },
      "execution_count": 2,
      "outputs": [
        {
          "output_type": "stream",
          "name": "stdout",
          "text": [
            "Collecting torchviz\n",
            "  Downloading torchviz-0.0.2.tar.gz (4.9 kB)\n",
            "  Preparing metadata (setup.py) ... \u001b[?25l\u001b[?25hdone\n",
            "Requirement already satisfied: torch in /usr/local/lib/python3.10/dist-packages (from torchviz) (2.0.1+cu118)\n",
            "Requirement already satisfied: graphviz in /usr/local/lib/python3.10/dist-packages (from torchviz) (0.20.1)\n",
            "Requirement already satisfied: filelock in /usr/local/lib/python3.10/dist-packages (from torch->torchviz) (3.12.2)\n",
            "Requirement already satisfied: typing-extensions in /usr/local/lib/python3.10/dist-packages (from torch->torchviz) (4.7.1)\n",
            "Requirement already satisfied: sympy in /usr/local/lib/python3.10/dist-packages (from torch->torchviz) (1.11.1)\n",
            "Requirement already satisfied: networkx in /usr/local/lib/python3.10/dist-packages (from torch->torchviz) (3.1)\n",
            "Requirement already satisfied: jinja2 in /usr/local/lib/python3.10/dist-packages (from torch->torchviz) (3.1.2)\n",
            "Requirement already satisfied: triton==2.0.0 in /usr/local/lib/python3.10/dist-packages (from torch->torchviz) (2.0.0)\n",
            "Requirement already satisfied: cmake in /usr/local/lib/python3.10/dist-packages (from triton==2.0.0->torch->torchviz) (3.25.2)\n",
            "Requirement already satisfied: lit in /usr/local/lib/python3.10/dist-packages (from triton==2.0.0->torch->torchviz) (16.0.6)\n",
            "Requirement already satisfied: MarkupSafe>=2.0 in /usr/local/lib/python3.10/dist-packages (from jinja2->torch->torchviz) (2.1.3)\n",
            "Requirement already satisfied: mpmath>=0.19 in /usr/local/lib/python3.10/dist-packages (from sympy->torch->torchviz) (1.3.0)\n",
            "Building wheels for collected packages: torchviz\n",
            "  Building wheel for torchviz (setup.py) ... \u001b[?25l\u001b[?25hdone\n",
            "  Created wheel for torchviz: filename=torchviz-0.0.2-py3-none-any.whl size=4131 sha256=77d0525e69db80399b3517c3250d2c271d7f18931458adb4b6c5a37e32a7b563\n",
            "  Stored in directory: /root/.cache/pip/wheels/4c/97/88/a02973217949e0db0c9f4346d154085f4725f99c4f15a87094\n",
            "Successfully built torchviz\n",
            "Installing collected packages: torchviz\n",
            "Successfully installed torchviz-0.0.2\n"
          ]
        }
      ]
    },
    {
      "cell_type": "code",
      "source": [
        "!pip install torch-lr-finder"
      ],
      "metadata": {
        "colab": {
          "base_uri": "https://localhost:8080/"
        },
        "id": "-oR8KOVBwRTJ",
        "outputId": "0f1a32e8-edf1-4ff6-d147-e0bc17f0817e"
      },
      "execution_count": 3,
      "outputs": [
        {
          "output_type": "stream",
          "name": "stdout",
          "text": [
            "Collecting torch-lr-finder\n",
            "  Downloading torch_lr_finder-0.2.1-py3-none-any.whl (11 kB)\n",
            "Requirement already satisfied: matplotlib in /usr/local/lib/python3.10/dist-packages (from torch-lr-finder) (3.7.1)\n",
            "Requirement already satisfied: numpy in /usr/local/lib/python3.10/dist-packages (from torch-lr-finder) (1.22.4)\n",
            "Requirement already satisfied: torch>=0.4.1 in /usr/local/lib/python3.10/dist-packages (from torch-lr-finder) (2.0.1+cu118)\n",
            "Requirement already satisfied: tqdm in /usr/local/lib/python3.10/dist-packages (from torch-lr-finder) (4.65.0)\n",
            "Requirement already satisfied: packaging in /usr/local/lib/python3.10/dist-packages (from torch-lr-finder) (23.1)\n",
            "Requirement already satisfied: filelock in /usr/local/lib/python3.10/dist-packages (from torch>=0.4.1->torch-lr-finder) (3.12.2)\n",
            "Requirement already satisfied: typing-extensions in /usr/local/lib/python3.10/dist-packages (from torch>=0.4.1->torch-lr-finder) (4.7.1)\n",
            "Requirement already satisfied: sympy in /usr/local/lib/python3.10/dist-packages (from torch>=0.4.1->torch-lr-finder) (1.11.1)\n",
            "Requirement already satisfied: networkx in /usr/local/lib/python3.10/dist-packages (from torch>=0.4.1->torch-lr-finder) (3.1)\n",
            "Requirement already satisfied: jinja2 in /usr/local/lib/python3.10/dist-packages (from torch>=0.4.1->torch-lr-finder) (3.1.2)\n",
            "Requirement already satisfied: triton==2.0.0 in /usr/local/lib/python3.10/dist-packages (from torch>=0.4.1->torch-lr-finder) (2.0.0)\n",
            "Requirement already satisfied: cmake in /usr/local/lib/python3.10/dist-packages (from triton==2.0.0->torch>=0.4.1->torch-lr-finder) (3.25.2)\n",
            "Requirement already satisfied: lit in /usr/local/lib/python3.10/dist-packages (from triton==2.0.0->torch>=0.4.1->torch-lr-finder) (16.0.6)\n",
            "Requirement already satisfied: contourpy>=1.0.1 in /usr/local/lib/python3.10/dist-packages (from matplotlib->torch-lr-finder) (1.1.0)\n",
            "Requirement already satisfied: cycler>=0.10 in /usr/local/lib/python3.10/dist-packages (from matplotlib->torch-lr-finder) (0.11.0)\n",
            "Requirement already satisfied: fonttools>=4.22.0 in /usr/local/lib/python3.10/dist-packages (from matplotlib->torch-lr-finder) (4.41.0)\n",
            "Requirement already satisfied: kiwisolver>=1.0.1 in /usr/local/lib/python3.10/dist-packages (from matplotlib->torch-lr-finder) (1.4.4)\n",
            "Requirement already satisfied: pillow>=6.2.0 in /usr/local/lib/python3.10/dist-packages (from matplotlib->torch-lr-finder) (8.4.0)\n",
            "Requirement already satisfied: pyparsing>=2.3.1 in /usr/local/lib/python3.10/dist-packages (from matplotlib->torch-lr-finder) (3.1.0)\n",
            "Requirement already satisfied: python-dateutil>=2.7 in /usr/local/lib/python3.10/dist-packages (from matplotlib->torch-lr-finder) (2.8.2)\n",
            "Requirement already satisfied: six>=1.5 in /usr/local/lib/python3.10/dist-packages (from python-dateutil>=2.7->matplotlib->torch-lr-finder) (1.16.0)\n",
            "Requirement already satisfied: MarkupSafe>=2.0 in /usr/local/lib/python3.10/dist-packages (from jinja2->torch>=0.4.1->torch-lr-finder) (2.1.3)\n",
            "Requirement already satisfied: mpmath>=0.19 in /usr/local/lib/python3.10/dist-packages (from sympy->torch>=0.4.1->torch-lr-finder) (1.3.0)\n",
            "Installing collected packages: torch-lr-finder\n",
            "Successfully installed torch-lr-finder-0.2.1\n"
          ]
        }
      ]
    },
    {
      "cell_type": "code",
      "source": [],
      "metadata": {
        "id": "Lux6M64GgUDi"
      },
      "execution_count": null,
      "outputs": []
    },
    {
      "cell_type": "code",
      "source": [
        "!git clone https://github.com/siva-sankar-a/erav1.git"
      ],
      "metadata": {
        "colab": {
          "base_uri": "https://localhost:8080/"
        },
        "id": "c75NRuJHmxzV",
        "outputId": "fa5b5da4-ac21-4034-8dc8-d323eb81afdb"
      },
      "execution_count": 4,
      "outputs": [
        {
          "output_type": "stream",
          "name": "stdout",
          "text": [
            "Cloning into 'erav1'...\n",
            "remote: Enumerating objects: 321, done.\u001b[K\n",
            "remote: Counting objects: 100% (181/181), done.\u001b[K\n",
            "remote: Compressing objects: 100% (90/90), done.\u001b[K\n",
            "remote: Total 321 (delta 103), reused 148 (delta 90), pack-reused 140\u001b[K\n",
            "Receiving objects: 100% (321/321), 1.38 MiB | 26.62 MiB/s, done.\n",
            "Resolving deltas: 100% (174/174), done.\n"
          ]
        }
      ]
    },
    {
      "cell_type": "code",
      "source": [
        "%cd /content/erav1"
      ],
      "metadata": {
        "colab": {
          "base_uri": "https://localhost:8080/"
        },
        "id": "_TcPvRRLzL8m",
        "outputId": "010a6f09-25dc-4bbb-e7ef-a6978b9f7d5a"
      },
      "execution_count": 5,
      "outputs": [
        {
          "output_type": "stream",
          "name": "stdout",
          "text": [
            "/content/erav1\n"
          ]
        }
      ]
    },
    {
      "cell_type": "code",
      "source": [
        "!git pull"
      ],
      "metadata": {
        "id": "rl5OraqvzON6"
      },
      "execution_count": null,
      "outputs": []
    },
    {
      "cell_type": "markdown",
      "source": [
        "## Adding the session folder to path in order to access the functions defined"
      ],
      "metadata": {
        "id": "kn9Duybtn916"
      }
    },
    {
      "cell_type": "code",
      "source": [
        "%load_ext autoreload\n",
        "%autoreload 2"
      ],
      "metadata": {
        "id": "VZHmptkFtQLs"
      },
      "execution_count": 6,
      "outputs": []
    },
    {
      "cell_type": "code",
      "source": [
        "import os\n",
        "import sys"
      ],
      "metadata": {
        "id": "etBGZdEBnLgi"
      },
      "execution_count": 7,
      "outputs": []
    },
    {
      "cell_type": "code",
      "source": [
        "sys.path.append('/content/erav1/session_10_david_net_90_acc/')"
      ],
      "metadata": {
        "id": "dmlfbkJ5nQF0"
      },
      "execution_count": 8,
      "outputs": []
    },
    {
      "cell_type": "code",
      "source": [
        "import importlib"
      ],
      "metadata": {
        "id": "hYq-JprOx5C5"
      },
      "execution_count": 9,
      "outputs": []
    },
    {
      "cell_type": "code",
      "source": [
        "import utils as U\n",
        "import datasets as ds\n",
        "import transforms as tf"
      ],
      "metadata": {
        "id": "fcdNScH6ndwQ"
      },
      "execution_count": 10,
      "outputs": []
    },
    {
      "cell_type": "code",
      "source": [
        "U = importlib.reload(U)\n",
        "ds = importlib.reload(ds)\n",
        "tf = importlib.reload(tf)"
      ],
      "metadata": {
        "id": "1eZpnItfx7Ua"
      },
      "execution_count": 126,
      "outputs": []
    },
    {
      "cell_type": "markdown",
      "source": [
        "## Get device"
      ],
      "metadata": {
        "id": "JXU1Lk2JoQTu"
      }
    },
    {
      "cell_type": "code",
      "source": [
        "device = U.get_device()\n",
        "print(device)"
      ],
      "metadata": {
        "colab": {
          "base_uri": "https://localhost:8080/"
        },
        "id": "82LKarofoL7z",
        "outputId": "2daef840-f93f-40a9-e144-4427bf05f71c"
      },
      "execution_count": 11,
      "outputs": [
        {
          "output_type": "stream",
          "name": "stdout",
          "text": [
            "CUDA Available? True\n",
            "cuda\n"
          ]
        }
      ]
    },
    {
      "cell_type": "code",
      "source": [
        "import pandas as pd\n",
        "import albumentations as A\n",
        "from albumentations.pytorch import ToTensorV2"
      ],
      "metadata": {
        "id": "AS8QFBG24Saq"
      },
      "execution_count": 12,
      "outputs": []
    },
    {
      "cell_type": "code",
      "source": [
        "pd.options.plotting.backend = \"plotly\""
      ],
      "metadata": {
        "id": "wx6n36Hk4WSb"
      },
      "execution_count": 13,
      "outputs": []
    },
    {
      "cell_type": "markdown",
      "source": [
        "## Get train and test transforms"
      ],
      "metadata": {
        "id": "0Lvm6vCjoXrw"
      }
    },
    {
      "cell_type": "code",
      "source": [
        "train_transforms = tf.get_train_transforms()\n",
        "test_transforms = tf.get_test_transforms()"
      ],
      "metadata": {
        "id": "TCqAEH39oiVI"
      },
      "execution_count": 14,
      "outputs": []
    },
    {
      "cell_type": "code",
      "source": [
        "train_transforms = A.Compose(\n",
        "    [\n",
        "        A.CropAndPad(px=4, pad_mode=4, p=0.5),\n",
        "        A.HorizontalFlip(p=0.5),\n",
        "        A.CoarseDropout(max_holes=8, max_height=8, max_width=8, min_holes=8, min_height=8, min_width=8,\n",
        "                        fill_value=(0.4913997551666284, 0.48215855929893703, 0.446530913373161),\n",
        "                        mask_fill_value=None, always_apply=False, p=0.5),\n",
        "        A.Normalize(mean=(0.4913997551666284, 0.48215855929893703, 0.446530913373161),\n",
        "                    std=(0.24703225141799082, 0.24348516474564, 0.26158783926049628)),\n",
        "        ToTensorV2(),\n",
        "    ]\n",
        ")\n",
        "\n",
        "\n",
        "test_transforms = A.Compose(\n",
        "    [\n",
        "        A.Normalize(mean=(0.4913997551666284, 0.48215855929893703, 0.446530913373161),\n",
        "                    std=(0.24703225141799082, 0.24348516474564, 0.26158783926049628)),\n",
        "        ToTensorV2(),\n",
        "    ]\n",
        ")"
      ],
      "metadata": {
        "id": "CJY7X7hY-awZ"
      },
      "execution_count": 15,
      "outputs": []
    },
    {
      "cell_type": "code",
      "source": [
        "from torchvision import datasets, transforms\n",
        "import numpy as np"
      ],
      "metadata": {
        "id": "5jmS0cIh0I2-"
      },
      "execution_count": 16,
      "outputs": []
    },
    {
      "cell_type": "code",
      "source": [
        "from torch.utils.data import WeightedRandomSampler"
      ],
      "metadata": {
        "id": "mFN3lZviTZ53"
      },
      "execution_count": 17,
      "outputs": []
    },
    {
      "cell_type": "code",
      "source": [
        "class CIFAR10_Dataset(datasets.CIFAR10):\n",
        "    def __init__(self, root=\"./data/\", train=True, download=True, transform=None):\n",
        "        super().__init__(root=root, train=train, download=download, transform=transform)\n",
        "\n",
        "    def __getitem__(self, index):\n",
        "        image, label = self.data[index], self.targets[index]\n",
        "\n",
        "        if self.transform is not None:\n",
        "            transformed = self.transform(image=image)\n",
        "            image = transformed[\"image\"]\n",
        "\n",
        "        return image, label"
      ],
      "metadata": {
        "id": "FMa7LxT3KPo0"
      },
      "execution_count": 18,
      "outputs": []
    },
    {
      "cell_type": "markdown",
      "source": [
        "## Get dataset"
      ],
      "metadata": {
        "id": "l-tMVwqzpDD4"
      }
    },
    {
      "cell_type": "code",
      "source": [
        "train_dataset = CIFAR10_Dataset('../data', train=True, download=True, transform=train_transforms)\n",
        "test_dataset = CIFAR10_Dataset('../data', train=False, download=True, transform=test_transforms)"
      ],
      "metadata": {
        "id": "x0EKJeSvpHMc",
        "colab": {
          "base_uri": "https://localhost:8080/"
        },
        "outputId": "d08ae8ad-2bf1-49e8-9ab7-eb572fc404b1"
      },
      "execution_count": 19,
      "outputs": [
        {
          "output_type": "stream",
          "name": "stdout",
          "text": [
            "Downloading https://www.cs.toronto.edu/~kriz/cifar-10-python.tar.gz to ../data/cifar-10-python.tar.gz\n"
          ]
        },
        {
          "output_type": "stream",
          "name": "stderr",
          "text": [
            "100%|██████████| 170498071/170498071 [00:13<00:00, 12999460.21it/s]\n"
          ]
        },
        {
          "output_type": "stream",
          "name": "stdout",
          "text": [
            "Extracting ../data/cifar-10-python.tar.gz to ../data\n",
            "Files already downloaded and verified\n"
          ]
        }
      ]
    },
    {
      "cell_type": "markdown",
      "source": [
        "## Get train and test dataloader"
      ],
      "metadata": {
        "id": "mHGXKHJHpMpD"
      }
    },
    {
      "cell_type": "code",
      "source": [
        "import torch"
      ],
      "metadata": {
        "id": "M5O00LkyUIJl"
      },
      "execution_count": 20,
      "outputs": []
    },
    {
      "cell_type": "code",
      "source": [
        "labels = {0: 'airplane',\n",
        "          1: 'automobile',\n",
        "          2: 'bird',\n",
        "          3: 'cat',\n",
        "          4: 'deer',\n",
        "          5: 'dog',\n",
        "          6: 'frog',\n",
        "          7: 'horse',\n",
        "          8: 'ship',\n",
        "          9: 'truck'}"
      ],
      "metadata": {
        "id": "0yb1sYRXY8cM"
      },
      "execution_count": 21,
      "outputs": []
    },
    {
      "cell_type": "code",
      "source": [
        "label_weights = { 0: 1.0, 1: 1.0, 2: 1.0, 3: 1.0, 4: 1.0, 5: 1.0, 6: 1.0, 7: 1.0, 8: 1.0, 9: 1.0}"
      ],
      "metadata": {
        "id": "wdcA84QPYMvD"
      },
      "execution_count": 22,
      "outputs": []
    },
    {
      "cell_type": "code",
      "source": [
        "_weights = [label_weights[label] for label in train_dataset.targets]"
      ],
      "metadata": {
        "id": "alTROWJwX_Kl"
      },
      "execution_count": 23,
      "outputs": []
    },
    {
      "cell_type": "code",
      "source": [
        "batch_size = 512\n",
        "sampler = torch.utils.data.sampler.WeightedRandomSampler(_weights, len(train_dataset), replacement=False)"
      ],
      "metadata": {
        "id": "5Du_OfgxT8vj"
      },
      "execution_count": 24,
      "outputs": []
    },
    {
      "cell_type": "code",
      "source": [
        "kwargs = {'batch_size': batch_size, 'shuffle': False, 'num_workers': 2, 'pin_memory': True}\n",
        "\n",
        "train_dataloader = ds.get_train_dataloader(train_dataset, sampler=sampler, **kwargs)\n",
        "test_dataloader = ds.get_test_dataloader(test_dataset, **kwargs)"
      ],
      "metadata": {
        "id": "bKV3bOKbpKpQ"
      },
      "execution_count": 25,
      "outputs": []
    },
    {
      "cell_type": "markdown",
      "source": [
        "## Display image grid"
      ],
      "metadata": {
        "id": "41RCssjDpaJg"
      }
    },
    {
      "cell_type": "code",
      "source": [
        "U.show_image_grid(train_dataloader)"
      ],
      "metadata": {
        "colab": {
          "base_uri": "https://localhost:8080/",
          "height": 671
        },
        "id": "VbQ_ujZnpfnA",
        "outputId": "3c4271df-e366-4781-eded-ebfbab5bcb02"
      },
      "execution_count": 26,
      "outputs": [
        {
          "output_type": "stream",
          "name": "stderr",
          "text": [
            "WARNING:matplotlib.image:Clipping input data to the valid range for imshow with RGB data ([0..1] for floats or [0..255] for integers).\n",
            "WARNING:matplotlib.image:Clipping input data to the valid range for imshow with RGB data ([0..1] for floats or [0..255] for integers).\n",
            "WARNING:matplotlib.image:Clipping input data to the valid range for imshow with RGB data ([0..1] for floats or [0..255] for integers).\n",
            "WARNING:matplotlib.image:Clipping input data to the valid range for imshow with RGB data ([0..1] for floats or [0..255] for integers).\n",
            "WARNING:matplotlib.image:Clipping input data to the valid range for imshow with RGB data ([0..1] for floats or [0..255] for integers).\n",
            "WARNING:matplotlib.image:Clipping input data to the valid range for imshow with RGB data ([0..1] for floats or [0..255] for integers).\n",
            "WARNING:matplotlib.image:Clipping input data to the valid range for imshow with RGB data ([0..1] for floats or [0..255] for integers).\n",
            "WARNING:matplotlib.image:Clipping input data to the valid range for imshow with RGB data ([0..1] for floats or [0..255] for integers).\n",
            "WARNING:matplotlib.image:Clipping input data to the valid range for imshow with RGB data ([0..1] for floats or [0..255] for integers).\n",
            "WARNING:matplotlib.image:Clipping input data to the valid range for imshow with RGB data ([0..1] for floats or [0..255] for integers).\n",
            "WARNING:matplotlib.image:Clipping input data to the valid range for imshow with RGB data ([0..1] for floats or [0..255] for integers).\n",
            "WARNING:matplotlib.image:Clipping input data to the valid range for imshow with RGB data ([0..1] for floats or [0..255] for integers).\n"
          ]
        },
        {
          "output_type": "display_data",
          "data": {
            "text/plain": [
              "<Figure size 640x480 with 12 Axes>"
            ],
            "image/png": "[encoded data removed]"
          },
          "metadata": {}
        }
      ]
    },
    {
      "cell_type": "code",
      "source": [
        "!git clone https://github.com/Fangyh09/pytorch-receptive-field.git"
      ],
      "metadata": {
        "colab": {
          "base_uri": "https://localhost:8080/"
        },
        "id": "Vcg388r_mioi",
        "outputId": "ceb24e8a-6b3c-42c0-c1fc-c9311dd1cdb5"
      },
      "execution_count": 27,
      "outputs": [
        {
          "output_type": "stream",
          "name": "stdout",
          "text": [
            "Cloning into 'pytorch-receptive-field'...\n",
            "remote: Enumerating objects: 111, done.\u001b[K\n",
            "remote: Counting objects: 100% (44/44), done.\u001b[K\n",
            "remote: Compressing objects: 100% (21/21), done.\u001b[K\n",
            "remote: Total 111 (delta 37), reused 23 (delta 23), pack-reused 67\u001b[K\n",
            "Receiving objects: 100% (111/111), 27.59 KiB | 13.80 MiB/s, done.\n",
            "Resolving deltas: 100% (51/51), done.\n"
          ]
        }
      ]
    },
    {
      "cell_type": "code",
      "source": [
        "sys.path.append('/content/erav1/pytorch-receptive-field')"
      ],
      "metadata": {
        "id": "zaXzqni1myi-"
      },
      "execution_count": 28,
      "outputs": []
    },
    {
      "cell_type": "code",
      "source": [
        "from torch_receptive_field import receptive_field"
      ],
      "metadata": {
        "id": "do7ut0I9mnn2"
      },
      "execution_count": 29,
      "outputs": []
    },
    {
      "cell_type": "code",
      "source": [
        "import torch.nn as nn\n",
        "from torchviz import make_dot\n",
        "import torch.nn.functional as F"
      ],
      "metadata": {
        "id": "VqjxT94yNzGW"
      },
      "execution_count": 30,
      "outputs": []
    },
    {
      "cell_type": "markdown",
      "source": [
        "C1C2C3C40"
      ],
      "metadata": {
        "id": "5u0cEeMbNx4c"
      }
    },
    {
      "cell_type": "code",
      "source": [
        "class Net(nn.Module):\n",
        "\n",
        "    '''\n",
        "    This class implements the neural network model\n",
        "\n",
        "    Usage:\n",
        "    >>> device = ...\n",
        "    >>> model = Net().to('cpu')\n",
        "    '''\n",
        "\n",
        "    #This defines the structure of the NN.\n",
        "    def __init__(self):\n",
        "        super(Net, self).__init__()\n",
        "\n",
        "        # Prep Layer\n",
        "        self.prep = self.conv3x3_bn_dropout(3, 64, padding=1)\n",
        "\n",
        "        # Layer 1\n",
        "        self.conv_bn_pool_1 = self.conv3x3_maxpool(64, 128)\n",
        "        # Layer 1 - residual\n",
        "        self.res_1 = self.conv3x3_bn_dropout(128, 128, padding=1)\n",
        "        self.res_2 = self.conv3x3_bn_dropout(128, 128, padding=1)\n",
        "        self.downsample_1 = self.conv1x1(128, 128)\n",
        "\n",
        "        # Layer 2\n",
        "        self.conv_bn_pool_2 = self.conv3x3_maxpool(128, 256)\n",
        "\n",
        "        # Layer 3\n",
        "        self.conv_bn_pool_3 = self.conv3x3_maxpool(256, 512)\n",
        "        # Layer 3 - residual\n",
        "        self.res_3 = self.conv3x3_bn_dropout(512, 512, padding=1)\n",
        "        self.res_4 = self.conv3x3_bn_dropout(512, 512, padding=1)\n",
        "        self.downsample_2 = self.conv1x1(512, 512)\n",
        "\n",
        "        # Pool\n",
        "        self.pool = nn.MaxPool2d(4)\n",
        "\n",
        "        # Linear\n",
        "        self.linear = nn.Linear(512, 10)\n",
        "\n",
        "    def conv3x3_maxpool(self, in_channels, out_channels):\n",
        "        layers = [self.conv3x3_bn_dropout(in_channels, out_channels, padding=1),\n",
        "                  nn.MaxPool2d(2)]\n",
        "\n",
        "        return nn.Sequential(\n",
        "                    *layers\n",
        "                )\n",
        "\n",
        "    def conv3x3_bn_dropout(self, in_channels, out_channels, kernel_size=3, stride=1, padding=0, dilation=1, groups=1, bias=False, dropout=None, is_relu_bn=True):\n",
        "\n",
        "          if is_relu_bn:\n",
        "            layers = [\n",
        "                  self.conv3x3(in_channels, out_channels, kernel_size, stride, padding, dilation, groups, bias),\n",
        "                  nn.BatchNorm2d(out_channels),\n",
        "                  nn.ReLU(),\n",
        "            ]\n",
        "          else:\n",
        "            layers = [\n",
        "                  self.conv3x3(in_channels, out_channels, kernel_size, stride, padding, dilation, groups, bias)\n",
        "            ]\n",
        "\n",
        "          if dropout:\n",
        "            return nn.Sequential(\n",
        "                    *layers,\n",
        "                    nn.Dropout(dropout)\n",
        "                )\n",
        "          else:\n",
        "            return nn.Sequential(\n",
        "                    *layers\n",
        "                )\n",
        "\n",
        "    def conv3x3(self, in_channels, out_channels, kernel_size=3, stride=1, padding=0, dilation=1, groups=1, bias=False):\n",
        "          return nn.Conv2d(in_channels,\n",
        "                    out_channels,\n",
        "                    kernel_size=kernel_size,\n",
        "                    stride=stride,\n",
        "                    padding=padding,\n",
        "                    dilation=dilation,\n",
        "                    groups=groups,\n",
        "                    bias=bias)\n",
        "\n",
        "    def conv1x1(self, in_channels, out_channels, kernel_size=1, stride=1, padding=0, bias=False):\n",
        "          return nn.Conv2d(in_channels,\n",
        "                    out_channels,\n",
        "                    kernel_size=kernel_size,\n",
        "                    stride=stride,\n",
        "                    padding=padding,\n",
        "                    bias=bias)\n",
        "\n",
        "\n",
        "    def forward(self, x):\n",
        "\n",
        "        # Prep Layer\n",
        "        x = self.prep(x)\n",
        "\n",
        "        # Layer 1\n",
        "        x = self.conv_bn_pool_1(x)\n",
        "        # Layer 1 - residual\n",
        "        i = x\n",
        "        x = self.res_1(x)\n",
        "        x = self.res_2(x)\n",
        "        x = x + i\n",
        "\n",
        "        # Layer 2\n",
        "        x = self.conv_bn_pool_2(x)\n",
        "\n",
        "        # Layer 3\n",
        "        x = self.conv_bn_pool_3(x)\n",
        "        # Layer 3 - residual\n",
        "        i = x\n",
        "        x = self.res_3(x)\n",
        "        x = self.res_4(x)\n",
        "        x = x + i\n",
        "\n",
        "        # Pool\n",
        "        x = self.pool(x)\n",
        "\n",
        "        # Flatten\n",
        "        x = x.view(-1, 512)\n",
        "\n",
        "        # Linear\n",
        "        self.linear(x)\n",
        "\n",
        "        # return F.log_softmax(x, dim=1)\n",
        "\n",
        "        return x"
      ],
      "metadata": {
        "id": "C1pLoj7rNhzO"
      },
      "execution_count": 31,
      "outputs": []
    },
    {
      "cell_type": "markdown",
      "source": [
        "## LR range finder"
      ],
      "metadata": {
        "id": "ERYI7zpLUtnX"
      }
    },
    {
      "cell_type": "code",
      "source": [
        "from torch_lr_finder import LRFinder\n",
        "import torch.optim as optim"
      ],
      "metadata": {
        "id": "hcWVUzD5V1eX"
      },
      "execution_count": 150,
      "outputs": []
    },
    {
      "cell_type": "code",
      "source": [
        "model = Net().to('cuda')"
      ],
      "metadata": {
        "id": "f9trXnUnUq5J"
      },
      "execution_count": 151,
      "outputs": []
    },
    {
      "cell_type": "code",
      "source": [
        "criterion = nn.CrossEntropyLoss()\n",
        "optimizer = optim.Adam(model.parameters(), lr=0.00000001, weight_decay=0)\n",
        "lr_finder = LRFinder(model, optimizer, criterion, device=\"cuda\")\n",
        "lr_finder.range_test(train_dataloader, end_lr=10, num_iter=200)\n",
        "lr_finder.plot() # to inspect the loss-learning rate graph\n",
        "lr_finder.reset() # to reset the model and optimizer to their initial state"
      ],
      "metadata": {
        "colab": {
          "base_uri": "https://localhost:8080/",
          "height": 538,
          "referenced_widgets": [
            "6c77d30cd1014bf5896a4bcc0324b9c9",
            "ad2512ad16fb4cfd9d5c4e6df021a301",
            "8dfe80bc7bda4cd59602f9b3a726af35",
            "178bfad0118541cd97db098f18bbccc8",
            "916673c87c1d42caa220040573b66844",
            "aec686883b5842508ef8517723e1b54e",
            "ed165a897c604b12bdc21da89fd2cc6e",
            "30dd6f0905c045728a7618c357e253c6",
            "0b1f6e430d5247f1be1d5bc9fcebeaa5",
            "cf904dea633344e8b81adc57a4b6ccad",
            "d504729377e34651b11a2f0634d2dc72"
          ]
        },
        "id": "qJI8-6UwV6xp",
        "outputId": "07ac32d7-3d79-498d-f8ce-f80c363ef176"
      },
      "execution_count": 152,
      "outputs": [
        {
          "output_type": "display_data",
          "data": {
            "text/plain": [
              "  0%|          | 0/200 [00:00<?, ?it/s]"
            ],
            "application/vnd.jupyter.widget-view+json": {
              "version_major": 2,
              "version_minor": 0,
              "model_id": "6c77d30cd1014bf5896a4bcc0324b9c9"
            }
          },
          "metadata": {}
        },
        {
          "output_type": "stream",
          "name": "stdout",
          "text": [
            "Learning rate search finished. See the graph with {finder_name}.plot()\n",
            "LR suggestion: steepest gradient\n",
            "Suggested LR: 1.18E-04\n"
          ]
        },
        {
          "output_type": "display_data",
          "data": {
            "text/plain": [
              "<Figure size 640x480 with 1 Axes>"
            ],
            "image/png": "[encoded data removed]"
          },
          "metadata": {}
        }
      ]
    },
    {
      "cell_type": "markdown",
      "source": [
        "## Generate model summary"
      ],
      "metadata": {
        "id": "m242rqKopkPU"
      }
    },
    {
      "cell_type": "code",
      "source": [
        "from torchsummary import summary"
      ],
      "metadata": {
        "id": "pw9lTuzcbKCV"
      },
      "execution_count": 153,
      "outputs": []
    },
    {
      "cell_type": "code",
      "source": [
        "model = Net().to('cpu')\n",
        "summary(model, input_size=(3, 32, 32), batch_size=batch_size, device='cpu')"
      ],
      "metadata": {
        "colab": {
          "base_uri": "https://localhost:8080/"
        },
        "id": "2W39NavppocP",
        "outputId": "a2f4d8b7-106e-4b14-b7c6-452d34a99584"
      },
      "execution_count": 154,
      "outputs": [
        {
          "output_type": "stream",
          "name": "stdout",
          "text": [
            "----------------------------------------------------------------\n",
            "        Layer (type)               Output Shape         Param #\n",
            "================================================================\n",
            "            Conv2d-1          [512, 64, 32, 32]           1,728\n",
            "       BatchNorm2d-2          [512, 64, 32, 32]             128\n",
            "              ReLU-3          [512, 64, 32, 32]               0\n",
            "            Conv2d-4         [512, 128, 32, 32]          73,728\n",
            "       BatchNorm2d-5         [512, 128, 32, 32]             256\n",
            "              ReLU-6         [512, 128, 32, 32]               0\n",
            "         MaxPool2d-7         [512, 128, 16, 16]               0\n",
            "            Conv2d-8         [512, 128, 16, 16]         147,456\n",
            "       BatchNorm2d-9         [512, 128, 16, 16]             256\n",
            "             ReLU-10         [512, 128, 16, 16]               0\n",
            "           Conv2d-11         [512, 128, 16, 16]         147,456\n",
            "      BatchNorm2d-12         [512, 128, 16, 16]             256\n",
            "             ReLU-13         [512, 128, 16, 16]               0\n",
            "           Conv2d-14         [512, 256, 16, 16]         294,912\n",
            "      BatchNorm2d-15         [512, 256, 16, 16]             512\n",
            "             ReLU-16         [512, 256, 16, 16]               0\n",
            "        MaxPool2d-17           [512, 256, 8, 8]               0\n",
            "           Conv2d-18           [512, 512, 8, 8]       1,179,648\n",
            "      BatchNorm2d-19           [512, 512, 8, 8]           1,024\n",
            "             ReLU-20           [512, 512, 8, 8]               0\n",
            "        MaxPool2d-21           [512, 512, 4, 4]               0\n",
            "           Conv2d-22           [512, 512, 4, 4]       2,359,296\n",
            "      BatchNorm2d-23           [512, 512, 4, 4]           1,024\n",
            "             ReLU-24           [512, 512, 4, 4]               0\n",
            "           Conv2d-25           [512, 512, 4, 4]       2,359,296\n",
            "      BatchNorm2d-26           [512, 512, 4, 4]           1,024\n",
            "             ReLU-27           [512, 512, 4, 4]               0\n",
            "        MaxPool2d-28           [512, 512, 1, 1]               0\n",
            "           Linear-29                  [512, 10]           5,130\n",
            "================================================================\n",
            "Total params: 6,573,130\n",
            "Trainable params: 6,573,130\n",
            "Non-trainable params: 0\n",
            "----------------------------------------------------------------\n",
            "Input size (MB): 6.00\n",
            "Forward/backward pass size (MB): 4642.04\n",
            "Params size (MB): 25.07\n",
            "Estimated Total Size (MB): 4673.11\n",
            "----------------------------------------------------------------\n"
          ]
        }
      ]
    },
    {
      "cell_type": "code",
      "source": [
        "receptive_field(model.cpu(), input_size=(3, 32, 32), device='cpu')"
      ],
      "metadata": {
        "id": "GSp_eyvLnCTc",
        "colab": {
          "base_uri": "https://localhost:8080/"
        },
        "outputId": "3bd6281f-9748-47f8-b297-5027d122e0b2"
      },
      "execution_count": 56,
      "outputs": [
        {
          "output_type": "stream",
          "name": "stdout",
          "text": [
            "------------------------------------------------------------------------------\n",
            "        Layer (type)    map size      start       jump receptive_field \n",
            "==============================================================================\n",
            "        0               [32, 32]        0.5        1.0             1.0 \n",
            "        1               [32, 32]        0.5        1.0             3.0 \n",
            "        2               [32, 32]        0.5        1.0             3.0 \n",
            "        3               [32, 32]        0.5        1.0             3.0 \n",
            "        4               [32, 32]        0.5        1.0             5.0 \n",
            "        5               [32, 32]        0.5        1.0             5.0 \n",
            "        6               [32, 32]        0.5        1.0             5.0 \n",
            "        7               [16, 16]        1.0        2.0             6.0 \n",
            "        8               [16, 16]        1.0        2.0            10.0 \n",
            "        9               [16, 16]        1.0        2.0            10.0 \n",
            "        10              [16, 16]        1.0        2.0            10.0 \n",
            "        11              [16, 16]        1.0        2.0            14.0 \n",
            "        12              [16, 16]        1.0        2.0            14.0 \n",
            "        13              [16, 16]        1.0        2.0            14.0 \n",
            "        14              [16, 16]        1.0        2.0            18.0 \n",
            "        15              [16, 16]        1.0        2.0            18.0 \n",
            "        16              [16, 16]        1.0        2.0            18.0 \n",
            "        17                [8, 8]        2.0        4.0            20.0 \n",
            "        18                [8, 8]        2.0        4.0            28.0 \n",
            "        19                [8, 8]        2.0        4.0            28.0 \n",
            "        20                [8, 8]        2.0        4.0            28.0 \n",
            "        21                [4, 4]        4.0        8.0            32.0 \n",
            "        22                [4, 4]        4.0        8.0            48.0 \n",
            "        23                [4, 4]        4.0        8.0            48.0 \n",
            "        24                [4, 4]        4.0        8.0            48.0 \n",
            "        25                [4, 4]        4.0        8.0            64.0 \n",
            "        26                [4, 4]        4.0        8.0            64.0 \n",
            "        27                [4, 4]        4.0        8.0            64.0 \n",
            "        28                [1, 1]       16.0       32.0            88.0 \n",
            "==============================================================================\n"
          ]
        },
        {
          "output_type": "execute_result",
          "data": {
            "text/plain": [
              "OrderedDict([('0',\n",
              "              OrderedDict([('j', 1.0),\n",
              "                           ('r', 1.0),\n",
              "                           ('start', 0.5),\n",
              "                           ('conv_stage', True),\n",
              "                           ('output_shape', [-1, 3, 32, 32])])),\n",
              "             ('1',\n",
              "              OrderedDict([('j', 1.0),\n",
              "                           ('r', 3.0),\n",
              "                           ('start', 0.5),\n",
              "                           ('input_shape', [-1, 3, 32, 32]),\n",
              "                           ('output_shape', [-1, 64, 32, 32])])),\n",
              "             ('2',\n",
              "              OrderedDict([('j', 1.0),\n",
              "                           ('r', 3.0),\n",
              "                           ('start', 0.5),\n",
              "                           ('input_shape', [-1, 64, 32, 32]),\n",
              "                           ('output_shape', [-1, 64, 32, 32])])),\n",
              "             ('3',\n",
              "              OrderedDict([('j', 1.0),\n",
              "                           ('r', 3.0),\n",
              "                           ('start', 0.5),\n",
              "                           ('input_shape', [-1, 64, 32, 32]),\n",
              "                           ('output_shape', [-1, 64, 32, 32])])),\n",
              "             ('4',\n",
              "              OrderedDict([('j', 1.0),\n",
              "                           ('r', 5.0),\n",
              "                           ('start', 0.5),\n",
              "                           ('input_shape', [-1, 64, 32, 32]),\n",
              "                           ('output_shape', [-1, 128, 32, 32])])),\n",
              "             ('5',\n",
              "              OrderedDict([('j', 1.0),\n",
              "                           ('r', 5.0),\n",
              "                           ('start', 0.5),\n",
              "                           ('input_shape', [-1, 128, 32, 32]),\n",
              "                           ('output_shape', [-1, 128, 32, 32])])),\n",
              "             ('6',\n",
              "              OrderedDict([('j', 1.0),\n",
              "                           ('r', 5.0),\n",
              "                           ('start', 0.5),\n",
              "                           ('input_shape', [-1, 128, 32, 32]),\n",
              "                           ('output_shape', [-1, 128, 32, 32])])),\n",
              "             ('7',\n",
              "              OrderedDict([('j', 2.0),\n",
              "                           ('r', 6.0),\n",
              "                           ('start', 1.0),\n",
              "                           ('input_shape', [-1, 128, 32, 32]),\n",
              "                           ('output_shape', [-1, 128, 16, 16])])),\n",
              "             ('8',\n",
              "              OrderedDict([('j', 2.0),\n",
              "                           ('r', 10.0),\n",
              "                           ('start', 1.0),\n",
              "                           ('input_shape', [-1, 128, 16, 16]),\n",
              "                           ('output_shape', [-1, 128, 16, 16])])),\n",
              "             ('9',\n",
              "              OrderedDict([('j', 2.0),\n",
              "                           ('r', 10.0),\n",
              "                           ('start', 1.0),\n",
              "                           ('input_shape', [-1, 128, 16, 16]),\n",
              "                           ('output_shape', [-1, 128, 16, 16])])),\n",
              "             ('10',\n",
              "              OrderedDict([('j', 2.0),\n",
              "                           ('r', 10.0),\n",
              "                           ('start', 1.0),\n",
              "                           ('input_shape', [-1, 128, 16, 16]),\n",
              "                           ('output_shape', [-1, 128, 16, 16])])),\n",
              "             ('11',\n",
              "              OrderedDict([('j', 2.0),\n",
              "                           ('r', 14.0),\n",
              "                           ('start', 1.0),\n",
              "                           ('input_shape', [-1, 128, 16, 16]),\n",
              "                           ('output_shape', [-1, 128, 16, 16])])),\n",
              "             ('12',\n",
              "              OrderedDict([('j', 2.0),\n",
              "                           ('r', 14.0),\n",
              "                           ('start', 1.0),\n",
              "                           ('input_shape', [-1, 128, 16, 16]),\n",
              "                           ('output_shape', [-1, 128, 16, 16])])),\n",
              "             ('13',\n",
              "              OrderedDict([('j', 2.0),\n",
              "                           ('r', 14.0),\n",
              "                           ('start', 1.0),\n",
              "                           ('input_shape', [-1, 128, 16, 16]),\n",
              "                           ('output_shape', [-1, 128, 16, 16])])),\n",
              "             ('14',\n",
              "              OrderedDict([('j', 2.0),\n",
              "                           ('r', 18.0),\n",
              "                           ('start', 1.0),\n",
              "                           ('input_shape', [-1, 128, 16, 16]),\n",
              "                           ('output_shape', [-1, 256, 16, 16])])),\n",
              "             ('15',\n",
              "              OrderedDict([('j', 2.0),\n",
              "                           ('r', 18.0),\n",
              "                           ('start', 1.0),\n",
              "                           ('input_shape', [-1, 256, 16, 16]),\n",
              "                           ('output_shape', [-1, 256, 16, 16])])),\n",
              "             ('16',\n",
              "              OrderedDict([('j', 2.0),\n",
              "                           ('r', 18.0),\n",
              "                           ('start', 1.0),\n",
              "                           ('input_shape', [-1, 256, 16, 16]),\n",
              "                           ('output_shape', [-1, 256, 16, 16])])),\n",
              "             ('17',\n",
              "              OrderedDict([('j', 4.0),\n",
              "                           ('r', 20.0),\n",
              "                           ('start', 2.0),\n",
              "                           ('input_shape', [-1, 256, 16, 16]),\n",
              "                           ('output_shape', [-1, 256, 8, 8])])),\n",
              "             ('18',\n",
              "              OrderedDict([('j', 4.0),\n",
              "                           ('r', 28.0),\n",
              "                           ('start', 2.0),\n",
              "                           ('input_shape', [-1, 256, 8, 8]),\n",
              "                           ('output_shape', [-1, 512, 8, 8])])),\n",
              "             ('19',\n",
              "              OrderedDict([('j', 4.0),\n",
              "                           ('r', 28.0),\n",
              "                           ('start', 2.0),\n",
              "                           ('input_shape', [-1, 512, 8, 8]),\n",
              "                           ('output_shape', [-1, 512, 8, 8])])),\n",
              "             ('20',\n",
              "              OrderedDict([('j', 4.0),\n",
              "                           ('r', 28.0),\n",
              "                           ('start', 2.0),\n",
              "                           ('input_shape', [-1, 512, 8, 8]),\n",
              "                           ('output_shape', [-1, 512, 8, 8])])),\n",
              "             ('21',\n",
              "              OrderedDict([('j', 8.0),\n",
              "                           ('r', 32.0),\n",
              "                           ('start', 4.0),\n",
              "                           ('input_shape', [-1, 512, 8, 8]),\n",
              "                           ('output_shape', [-1, 512, 4, 4])])),\n",
              "             ('22',\n",
              "              OrderedDict([('j', 8.0),\n",
              "                           ('r', 48.0),\n",
              "                           ('start', 4.0),\n",
              "                           ('input_shape', [-1, 512, 4, 4]),\n",
              "                           ('output_shape', [-1, 512, 4, 4])])),\n",
              "             ('23',\n",
              "              OrderedDict([('j', 8.0),\n",
              "                           ('r', 48.0),\n",
              "                           ('start', 4.0),\n",
              "                           ('input_shape', [-1, 512, 4, 4]),\n",
              "                           ('output_shape', [-1, 512, 4, 4])])),\n",
              "             ('24',\n",
              "              OrderedDict([('j', 8.0),\n",
              "                           ('r', 48.0),\n",
              "                           ('start', 4.0),\n",
              "                           ('input_shape', [-1, 512, 4, 4]),\n",
              "                           ('output_shape', [-1, 512, 4, 4])])),\n",
              "             ('25',\n",
              "              OrderedDict([('j', 8.0),\n",
              "                           ('r', 64.0),\n",
              "                           ('start', 4.0),\n",
              "                           ('input_shape', [-1, 512, 4, 4]),\n",
              "                           ('output_shape', [-1, 512, 4, 4])])),\n",
              "             ('26',\n",
              "              OrderedDict([('j', 8.0),\n",
              "                           ('r', 64.0),\n",
              "                           ('start', 4.0),\n",
              "                           ('input_shape', [-1, 512, 4, 4]),\n",
              "                           ('output_shape', [-1, 512, 4, 4])])),\n",
              "             ('27',\n",
              "              OrderedDict([('j', 8.0),\n",
              "                           ('r', 64.0),\n",
              "                           ('start', 4.0),\n",
              "                           ('input_shape', [-1, 512, 4, 4]),\n",
              "                           ('output_shape', [-1, 512, 4, 4])])),\n",
              "             ('28',\n",
              "              OrderedDict([('j', 32.0),\n",
              "                           ('r', 88.0),\n",
              "                           ('start', 16.0),\n",
              "                           ('input_shape', [-1, 512, 4, 4]),\n",
              "                           ('output_shape', [-1, 512, 1, 1])])),\n",
              "             ('input_size', (3, 32, 32))])"
            ]
          },
          "metadata": {},
          "execution_count": 56
        }
      ]
    },
    {
      "cell_type": "code",
      "source": [
        "random_input = torch.randn(1, 3, 32, 32)\n",
        "model.eval()\n",
        "y = model(random_input)\n",
        "dot_graph = make_dot(y, show_attrs=False, show_saved=True)\n",
        "dot_graph.format = 'svg'\n",
        "dot_graph.render(f'net')\n",
        "dot_graph"
      ],
      "metadata": {
        "colab": {
          "base_uri": "https://localhost:8080/",
          "height": 1000
        },
        "id": "VpAYvuxehJL7",
        "outputId": "732a8e32-5469-499d-f8c4-444911660bf0"
      },
      "execution_count": 38,
      "outputs": [
        {
          "output_type": "execute_result",
          "data": {
            "image/svg+xml": "<?xml version=\"1.0\" encoding=\"UTF-8\" standalone=\"no\"?>\n<!DOCTYPE svg PUBLIC \"-//W3C//DTD SVG 1.1//EN\"\n \"http://www.w3.org/Graphics/SVG/1.1/DTD/svg11.dtd\">\n<!-- Generated by graphviz version 2.43.0 (0)\n -->\n<!-- Title: %3 Pages: 1 -->\n<svg width=\"1869pt\" height=\"2140pt\"\n viewBox=\"0.00 0.00 1869.00 2140.00\" xmlns=\"http://www.w3.org/2000/svg\" xmlns:xlink=\"http://www.w3.org/1999/xlink\">\n<g id=\"graph0\" class=\"graph\" transform=\"scale(1 1) rotate(0) translate(4 2136)\">\n<title>%3</title>\n<polygon fill=\"white\" stroke=\"transparent\" points=\"-4,4 -4,-2136 1865,-2136 1865,4 -4,4\"/>\n<!-- 135084833452688 -->\n<g id=\"node1\" class=\"node\">\n<title>135084833452688</title>\n<polygon fill=\"#caff70\" stroke=\"black\" points=\"868,-31 797,-31 797,0 868,0 868,-31\"/>\n<text text-anchor=\"middle\" x=\"832.5\" y=\"-7\" font-family=\"monospace\" font-size=\"10.00\"> (1, 512)</text>\n</g>\n<!-- 135088898086208 -->\n<g id=\"node2\" class=\"node\">\n<title>135088898086208</title>\n<polygon fill=\"lightgrey\" stroke=\"black\" points=\"821,-92 726,-92 726,-73 821,-73 821,-92\"/>\n<text text-anchor=\"middle\" x=\"773.5\" y=\"-80\" font-family=\"monospace\" font-size=\"10.00\">ViewBackward0</text>\n</g>\n<!-- 135088898086208&#45;&gt;135084833452688 -->\n<g id=\"edge161\" class=\"edge\">\n<title>135088898086208&#45;&gt;135084833452688</title>\n<path fill=\"none\" stroke=\"black\" d=\"M781.46,-72.73C789.33,-64.06 801.7,-50.43 812.29,-38.76\"/>\n<polygon fill=\"black\" stroke=\"black\" points=\"815.13,-40.84 819.26,-31.08 809.95,-36.14 815.13,-40.84\"/>\n</g>\n<!-- 135088898081456 -->\n<g id=\"node3\" class=\"node\">\n<title>135088898081456</title>\n<polygon fill=\"lightgrey\" stroke=\"black\" points=\"1050,-153 859,-153 859,-134 1050,-134 1050,-153\"/>\n<text text-anchor=\"middle\" x=\"954.5\" y=\"-141\" font-family=\"monospace\" font-size=\"10.00\">MaxPool2DWithIndicesBackward0</text>\n</g>\n<!-- 135088898081456&#45;&gt;135088898086208 -->\n<g id=\"edge1\" class=\"edge\">\n<title>135088898081456&#45;&gt;135088898086208</title>\n<path fill=\"none\" stroke=\"black\" d=\"M928.18,-133.92C896.95,-123.74 844.7,-106.71 809.68,-95.29\"/>\n<polygon fill=\"black\" stroke=\"black\" points=\"810.44,-91.86 799.85,-92.09 808.27,-98.52 810.44,-91.86\"/>\n</g>\n<!-- 135084833454368 -->\n<g id=\"node4\" class=\"node\">\n<title>135084833454368</title>\n<polygon fill=\"orange\" stroke=\"black\" points=\"1071,-97.5 964,-97.5 964,-67.5 1071,-67.5 1071,-97.5\"/>\n<text text-anchor=\"middle\" x=\"1017.5\" y=\"-85.5\" font-family=\"monospace\" font-size=\"10.00\">result1</text>\n<text text-anchor=\"middle\" x=\"1017.5\" y=\"-74.5\" font-family=\"monospace\" font-size=\"10.00\"> (1, 512, 1, 1)</text>\n</g>\n<!-- 135088898081456&#45;&gt;135084833454368 -->\n<g id=\"edge2\" class=\"edge\">\n<title>135088898081456&#45;&gt;135084833454368</title>\n<path fill=\"none\" stroke=\"black\" d=\"M963.8,-133.79C973.93,-124.31 990.29,-108.98 1002.3,-97.74\"/>\n</g>\n<!-- 135088898760976 -->\n<g id=\"node5\" class=\"node\">\n<title>135088898760976</title>\n<polygon fill=\"orange\" stroke=\"black\" points=\"1196,-97.5 1089,-97.5 1089,-67.5 1196,-67.5 1196,-97.5\"/>\n<text text-anchor=\"middle\" x=\"1142.5\" y=\"-85.5\" font-family=\"monospace\" font-size=\"10.00\">self</text>\n<text text-anchor=\"middle\" x=\"1142.5\" y=\"-74.5\" font-family=\"monospace\" font-size=\"10.00\"> (1, 512, 4, 4)</text>\n</g>\n<!-- 135088898081456&#45;&gt;135088898760976 -->\n<g id=\"edge3\" class=\"edge\">\n<title>135088898081456&#45;&gt;135088898760976</title>\n<path fill=\"none\" stroke=\"black\" d=\"M981.84,-133.92C1012.18,-124.4 1061.63,-108.88 1097.67,-97.57\"/>\n</g>\n<!-- 135088899258976 -->\n<g id=\"node145\" class=\"node\">\n<title>135088899258976</title>\n<polygon fill=\"#a2cd5a\" stroke=\"black\" points=\"946,-98 839,-98 839,-67 946,-67 946,-98\"/>\n<text text-anchor=\"middle\" x=\"892.5\" y=\"-74\" font-family=\"monospace\" font-size=\"10.00\"> (1, 512, 1, 1)</text>\n</g>\n<!-- 135088898081456&#45;&gt;135088899258976 -->\n<g id=\"edge162\" class=\"edge\">\n<title>135088898081456&#45;&gt;135088899258976</title>\n<path fill=\"none\" stroke=\"black\" d=\"M945.35,-133.79C937.44,-126.26 925.66,-115.05 915.22,-105.12\"/>\n<polygon fill=\"black\" stroke=\"black\" points=\"917.6,-102.55 907.94,-98.19 912.77,-107.62 917.6,-102.55\"/>\n</g>\n<!-- 135088898083616 -->\n<g id=\"node6\" class=\"node\">\n<title>135088898083616</title>\n<polygon fill=\"lightgrey\" stroke=\"black\" points=\"999,-213.5 910,-213.5 910,-194.5 999,-194.5 999,-213.5\"/>\n<text text-anchor=\"middle\" x=\"954.5\" y=\"-201.5\" font-family=\"monospace\" font-size=\"10.00\">AddBackward0</text>\n</g>\n<!-- 135088898083616&#45;&gt;135088898081456 -->\n<g id=\"edge4\" class=\"edge\">\n<title>135088898083616&#45;&gt;135088898081456</title>\n<path fill=\"none\" stroke=\"black\" d=\"M954.5,-194.37C954.5,-186.25 954.5,-173.81 954.5,-163.39\"/>\n<polygon fill=\"black\" stroke=\"black\" points=\"958,-163.17 954.5,-153.17 951,-163.17 958,-163.17\"/>\n</g>\n<!-- 135088898086016 -->\n<g id=\"node7\" class=\"node\">\n<title>135088898086016</title>\n<polygon fill=\"lightgrey\" stroke=\"black\" points=\"693,-280 598,-280 598,-261 693,-261 693,-280\"/>\n<text text-anchor=\"middle\" x=\"645.5\" y=\"-268\" font-family=\"monospace\" font-size=\"10.00\">ReluBackward0</text>\n</g>\n<!-- 135088898086016&#45;&gt;135088898083616 -->\n<g id=\"edge5\" class=\"edge\">\n<title>135088898086016&#45;&gt;135088898083616</title>\n<path fill=\"none\" stroke=\"black\" d=\"M677.68,-260.99C685.76,-258.95 694.43,-256.83 702.5,-255 770.2,-239.68 848.72,-224.51 899.88,-214.97\"/>\n<polygon fill=\"black\" stroke=\"black\" points=\"900.55,-218.4 909.74,-213.14 899.27,-211.52 900.55,-218.4\"/>\n</g>\n<!-- 135084833445488 -->\n<g id=\"node8\" class=\"node\">\n<title>135084833445488</title>\n<polygon fill=\"orange\" stroke=\"black\" points=\"699,-219 592,-219 592,-189 699,-189 699,-219\"/>\n<text text-anchor=\"middle\" x=\"645.5\" y=\"-207\" font-family=\"monospace\" font-size=\"10.00\">result</text>\n<text text-anchor=\"middle\" x=\"645.5\" y=\"-196\" font-family=\"monospace\" font-size=\"10.00\"> (1, 512, 4, 4)</text>\n</g>\n<!-- 135088898086016&#45;&gt;135084833445488 -->\n<g id=\"edge6\" class=\"edge\">\n<title>135088898086016&#45;&gt;135084833445488</title>\n<path fill=\"none\" stroke=\"black\" d=\"M645.5,-260.8C645.5,-250.21 645.5,-232.17 645.5,-219.47\"/>\n</g>\n<!-- 135088898081744 -->\n<g id=\"node9\" class=\"node\">\n<title>135088898081744</title>\n<polygon fill=\"lightgrey\" stroke=\"black\" points=\"456,-347 295,-347 295,-328 456,-328 456,-347\"/>\n<text text-anchor=\"middle\" x=\"375.5\" y=\"-335\" font-family=\"monospace\" font-size=\"10.00\">NativeBatchNormBackward0</text>\n</g>\n<!-- 135088898081744&#45;&gt;135088898086016 -->\n<g id=\"edge7\" class=\"edge\">\n<title>135088898081744&#45;&gt;135088898086016</title>\n<path fill=\"none\" stroke=\"black\" d=\"M411.08,-327.94C459.64,-316.24 546.72,-295.28 599.99,-282.46\"/>\n<polygon fill=\"black\" stroke=\"black\" points=\"600.94,-285.83 609.85,-280.08 599.3,-279.02 600.94,-285.83\"/>\n</g>\n<!-- 135088898768096 -->\n<g id=\"node10\" class=\"node\">\n<title>135088898768096</title>\n<polygon fill=\"orange\" stroke=\"black\" points=\"107,-285.5 0,-285.5 0,-255.5 107,-255.5 107,-285.5\"/>\n<text text-anchor=\"middle\" x=\"53.5\" y=\"-273.5\" font-family=\"monospace\" font-size=\"10.00\">input</text>\n<text text-anchor=\"middle\" x=\"53.5\" y=\"-262.5\" font-family=\"monospace\" font-size=\"10.00\"> (1, 512, 4, 4)</text>\n</g>\n<!-- 135088898081744&#45;&gt;135088898768096 -->\n<g id=\"edge8\" class=\"edge\">\n<title>135088898081744&#45;&gt;135088898768096</title>\n<path fill=\"none\" stroke=\"black\" d=\"M328.89,-328C276.78,-318.36 189.92,-301.92 115.5,-286 112.8,-285.42 110.03,-284.82 107.24,-284.2\"/>\n</g>\n<!-- 135084833446608 -->\n<g id=\"node11\" class=\"node\">\n<title>135084833446608</title>\n<polygon fill=\"orange\" stroke=\"black\" points=\"184,-285.5 125,-285.5 125,-255.5 184,-255.5 184,-285.5\"/>\n<text text-anchor=\"middle\" x=\"154.5\" y=\"-273.5\" font-family=\"monospace\" font-size=\"10.00\">result1</text>\n<text text-anchor=\"middle\" x=\"154.5\" y=\"-262.5\" font-family=\"monospace\" font-size=\"10.00\"> (0)</text>\n</g>\n<!-- 135088898081744&#45;&gt;135084833446608 -->\n<g id=\"edge9\" class=\"edge\">\n<title>135088898081744&#45;&gt;135084833446608</title>\n<path fill=\"none\" stroke=\"black\" d=\"M340.8,-327.98C303.78,-318.64 243.55,-302.74 192.5,-286 189.82,-285.12 187.04,-284.16 184.27,-283.17\"/>\n</g>\n<!-- 135084833439968 -->\n<g id=\"node12\" class=\"node\">\n<title>135084833439968</title>\n<polygon fill=\"orange\" stroke=\"black\" points=\"261,-285.5 202,-285.5 202,-255.5 261,-255.5 261,-285.5\"/>\n<text text-anchor=\"middle\" x=\"231.5\" y=\"-273.5\" font-family=\"monospace\" font-size=\"10.00\">result2</text>\n<text text-anchor=\"middle\" x=\"231.5\" y=\"-262.5\" font-family=\"monospace\" font-size=\"10.00\"> (0)</text>\n</g>\n<!-- 135088898081744&#45;&gt;135084833439968 -->\n<g id=\"edge10\" class=\"edge\">\n<title>135088898081744&#45;&gt;135084833439968</title>\n<path fill=\"none\" stroke=\"black\" d=\"M356.38,-327.87C332.05,-316.89 289.77,-297.8 261.22,-284.92\"/>\n</g>\n<!-- 135084843025248 -->\n<g id=\"node13\" class=\"node\">\n<title>135084843025248</title>\n<polygon fill=\"orange\" stroke=\"black\" points=\"368,-285.5 279,-285.5 279,-255.5 368,-255.5 368,-285.5\"/>\n<text text-anchor=\"middle\" x=\"323.5\" y=\"-273.5\" font-family=\"monospace\" font-size=\"10.00\">running_mean</text>\n<text text-anchor=\"middle\" x=\"323.5\" y=\"-262.5\" font-family=\"monospace\" font-size=\"10.00\"> (512)</text>\n</g>\n<!-- 135088898081744&#45;&gt;135084843025248 -->\n<g id=\"edge11\" class=\"edge\">\n<title>135088898081744&#45;&gt;135084843025248</title>\n<path fill=\"none\" stroke=\"black\" d=\"M368.49,-327.73C359.84,-316.92 345.02,-298.41 334.77,-285.59\"/>\n</g>\n<!-- 135084843040688 -->\n<g id=\"node14\" class=\"node\">\n<title>135084843040688</title>\n<polygon fill=\"orange\" stroke=\"black\" points=\"469,-285.5 386,-285.5 386,-255.5 469,-255.5 469,-285.5\"/>\n<text text-anchor=\"middle\" x=\"427.5\" y=\"-273.5\" font-family=\"monospace\" font-size=\"10.00\">running_var</text>\n<text text-anchor=\"middle\" x=\"427.5\" y=\"-262.5\" font-family=\"monospace\" font-size=\"10.00\"> (512)</text>\n</g>\n<!-- 135088898081744&#45;&gt;135084843040688 -->\n<g id=\"edge12\" class=\"edge\">\n<title>135088898081744&#45;&gt;135084843040688</title>\n<path fill=\"none\" stroke=\"black\" d=\"M382.51,-327.73C391.16,-316.92 405.98,-298.41 416.23,-285.59\"/>\n</g>\n<!-- 135084843028368 -->\n<g id=\"node15\" class=\"node\">\n<title>135084843028368</title>\n<polygon fill=\"lightblue\" stroke=\"black\" points=\"541.5,-286 487.5,-286 487.5,-255 541.5,-255 541.5,-286\"/>\n<text text-anchor=\"middle\" x=\"514.5\" y=\"-262\" font-family=\"monospace\" font-size=\"10.00\"> (512)</text>\n</g>\n<!-- 135088898081744&#45;&gt;135084843028368 -->\n<g id=\"edge13\" class=\"edge\">\n<title>135088898081744&#45;&gt;135084843028368</title>\n<path fill=\"none\" stroke=\"black\" d=\"M393.96,-327.87C417.89,-316.68 459.8,-297.08 487.36,-284.19\"/>\n</g>\n<!-- 135088898080832 -->\n<g id=\"node142\" class=\"node\">\n<title>135088898080832</title>\n<polygon fill=\"lightgrey\" stroke=\"black\" points=\"570,-213.5 469,-213.5 469,-194.5 570,-194.5 570,-213.5\"/>\n<text text-anchor=\"middle\" x=\"519.5\" y=\"-201.5\" font-family=\"monospace\" font-size=\"10.00\">AccumulateGrad</text>\n</g>\n<!-- 135084843028368&#45;&gt;135088898080832 -->\n<g id=\"edge157\" class=\"edge\">\n<title>135084843028368&#45;&gt;135088898080832</title>\n<path fill=\"none\" stroke=\"black\" d=\"M515.63,-254.86C516.35,-245.68 517.27,-233.75 518.04,-223.86\"/>\n<polygon fill=\"black\" stroke=\"black\" points=\"521.53,-224.06 518.82,-213.82 514.55,-223.52 521.53,-224.06\"/>\n</g>\n<!-- 135088898083952 -->\n<g id=\"node16\" class=\"node\">\n<title>135088898083952</title>\n<polygon fill=\"lightgrey\" stroke=\"black\" points=\"786,-413.5 649,-413.5 649,-394.5 786,-394.5 786,-413.5\"/>\n<text text-anchor=\"middle\" x=\"717.5\" y=\"-401.5\" font-family=\"monospace\" font-size=\"10.00\">ConvolutionBackward0</text>\n</g>\n<!-- 135088898083952&#45;&gt;135088898081744 -->\n<g id=\"edge14\" class=\"edge\">\n<title>135088898083952&#45;&gt;135088898081744</title>\n<path fill=\"none\" stroke=\"black\" d=\"M672.09,-394.43C609.78,-382.68 497.9,-361.58 430.8,-348.93\"/>\n<polygon fill=\"black\" stroke=\"black\" points=\"431.31,-345.46 420.83,-347.05 430.01,-352.34 431.31,-345.46\"/>\n</g>\n<!-- 135088899254416 -->\n<g id=\"node17\" class=\"node\">\n<title>135088899254416</title>\n<polygon fill=\"orange\" stroke=\"black\" points=\"897,-352.5 790,-352.5 790,-322.5 897,-322.5 897,-352.5\"/>\n<text text-anchor=\"middle\" x=\"843.5\" y=\"-340.5\" font-family=\"monospace\" font-size=\"10.00\">input</text>\n<text text-anchor=\"middle\" x=\"843.5\" y=\"-329.5\" font-family=\"monospace\" font-size=\"10.00\"> (1, 512, 4, 4)</text>\n</g>\n<!-- 135088898083952&#45;&gt;135088899254416 -->\n<g id=\"edge15\" class=\"edge\">\n<title>135088898083952&#45;&gt;135088899254416</title>\n<path fill=\"none\" stroke=\"black\" d=\"M734.23,-394.43C755.12,-383.74 791.12,-365.31 816.07,-352.54\"/>\n</g>\n<!-- 135084843026128 -->\n<g id=\"node18\" class=\"node\">\n<title>135084843026128</title>\n<polygon fill=\"lightblue\" stroke=\"black\" points=\"733,-353 614,-353 614,-322 733,-322 733,-353\"/>\n<text text-anchor=\"middle\" x=\"673.5\" y=\"-329\" font-family=\"monospace\" font-size=\"10.00\"> (512, 512, 3, 3)</text>\n</g>\n<!-- 135088898083952&#45;&gt;135084843026128 -->\n<g id=\"edge16\" class=\"edge\">\n<title>135088898083952&#45;&gt;135084843026128</title>\n<path fill=\"none\" stroke=\"black\" d=\"M711.57,-394.3C704.43,-383.85 692.35,-366.14 683.71,-353.47\"/>\n</g>\n<!-- 135088898088032 -->\n<g id=\"node141\" class=\"node\">\n<title>135088898088032</title>\n<polygon fill=\"lightgrey\" stroke=\"black\" points=\"812,-280 711,-280 711,-261 812,-261 812,-280\"/>\n<text text-anchor=\"middle\" x=\"761.5\" y=\"-268\" font-family=\"monospace\" font-size=\"10.00\">AccumulateGrad</text>\n</g>\n<!-- 135084843026128&#45;&gt;135088898088032 -->\n<g id=\"edge155\" class=\"edge\">\n<title>135084843026128&#45;&gt;135088898088032</title>\n<path fill=\"none\" stroke=\"black\" d=\"M693.47,-321.75C707.91,-311.08 727.35,-296.73 741.74,-286.09\"/>\n<polygon fill=\"black\" stroke=\"black\" points=\"744,-288.78 749.97,-280.02 739.84,-283.14 744,-288.78\"/>\n</g>\n<!-- 135088898092352 -->\n<g id=\"node19\" class=\"node\">\n<title>135088898092352</title>\n<polygon fill=\"lightgrey\" stroke=\"black\" points=\"762,-480 667,-480 667,-461 762,-461 762,-480\"/>\n<text text-anchor=\"middle\" x=\"714.5\" y=\"-468\" font-family=\"monospace\" font-size=\"10.00\">ReluBackward0</text>\n</g>\n<!-- 135088898092352&#45;&gt;135088898083952 -->\n<g id=\"edge17\" class=\"edge\">\n<title>135088898092352&#45;&gt;135088898083952</title>\n<path fill=\"none\" stroke=\"black\" d=\"M714.9,-460.8C715.35,-451.32 716.06,-435.88 716.63,-423.64\"/>\n<polygon fill=\"black\" stroke=\"black\" points=\"720.13,-423.71 717.1,-413.56 713.14,-423.39 720.13,-423.71\"/>\n</g>\n<!-- 135084843028608 -->\n<g id=\"node20\" class=\"node\">\n<title>135084843028608</title>\n<polygon fill=\"orange\" stroke=\"black\" points=\"911,-419 804,-419 804,-389 911,-389 911,-419\"/>\n<text text-anchor=\"middle\" x=\"857.5\" y=\"-407\" font-family=\"monospace\" font-size=\"10.00\">result</text>\n<text text-anchor=\"middle\" x=\"857.5\" y=\"-396\" font-family=\"monospace\" font-size=\"10.00\"> (1, 512, 4, 4)</text>\n</g>\n<!-- 135088898092352&#45;&gt;135084843028608 -->\n<g id=\"edge18\" class=\"edge\">\n<title>135088898092352&#45;&gt;135084843028608</title>\n<path fill=\"none\" stroke=\"black\" d=\"M733.49,-460.93C757.19,-450.24 798.06,-431.81 826.37,-419.04\"/>\n</g>\n<!-- 135088898082080 -->\n<g id=\"node21\" class=\"node\">\n<title>135088898082080</title>\n<polygon fill=\"lightgrey\" stroke=\"black\" points=\"664,-547 503,-547 503,-528 664,-528 664,-547\"/>\n<text text-anchor=\"middle\" x=\"583.5\" y=\"-535\" font-family=\"monospace\" font-size=\"10.00\">NativeBatchNormBackward0</text>\n</g>\n<!-- 135088898082080&#45;&gt;135088898092352 -->\n<g id=\"edge19\" class=\"edge\">\n<title>135088898082080&#45;&gt;135088898092352</title>\n<path fill=\"none\" stroke=\"black\" d=\"M600.9,-527.87C623.11,-516.84 661.79,-497.66 687.76,-484.77\"/>\n<polygon fill=\"black\" stroke=\"black\" points=\"689.63,-487.75 697.03,-480.17 686.52,-481.48 689.63,-487.75\"/>\n</g>\n<!-- 135088898759056 -->\n<g id=\"node22\" class=\"node\">\n<title>135088898759056</title>\n<polygon fill=\"orange\" stroke=\"black\" points=\"887,-485.5 780,-485.5 780,-455.5 887,-455.5 887,-485.5\"/>\n<text text-anchor=\"middle\" x=\"833.5\" y=\"-473.5\" font-family=\"monospace\" font-size=\"10.00\">input</text>\n<text text-anchor=\"middle\" x=\"833.5\" y=\"-462.5\" font-family=\"monospace\" font-size=\"10.00\"> (1, 512, 4, 4)</text>\n</g>\n<!-- 135088898082080&#45;&gt;135088898759056 -->\n<g id=\"edge20\" class=\"edge\">\n<title>135088898082080&#45;&gt;135088898759056</title>\n<path fill=\"none\" stroke=\"black\" d=\"M616.44,-527.94C658.07,-517.11 730.28,-498.34 779.9,-485.44\"/>\n</g>\n<!-- 135084833446048 -->\n<g id=\"node23\" class=\"node\">\n<title>135084833446048</title>\n<polygon fill=\"orange\" stroke=\"black\" points=\"253,-485.5 194,-485.5 194,-455.5 253,-455.5 253,-485.5\"/>\n<text text-anchor=\"middle\" x=\"223.5\" y=\"-473.5\" font-family=\"monospace\" font-size=\"10.00\">result1</text>\n<text text-anchor=\"middle\" x=\"223.5\" y=\"-462.5\" font-family=\"monospace\" font-size=\"10.00\"> (0)</text>\n</g>\n<!-- 135088898082080&#45;&gt;135084833446048 -->\n<g id=\"edge21\" class=\"edge\">\n<title>135088898082080&#45;&gt;135084833446048</title>\n<path fill=\"none\" stroke=\"black\" d=\"M502.77,-528.33C437.3,-520.62 343,-507.07 262.5,-486 259.43,-485.2 256.26,-484.24 253.11,-483.21\"/>\n</g>\n<!-- 135084833441568 -->\n<g id=\"node24\" class=\"node\">\n<title>135084833441568</title>\n<polygon fill=\"orange\" stroke=\"black\" points=\"330,-485.5 271,-485.5 271,-455.5 330,-455.5 330,-485.5\"/>\n<text text-anchor=\"middle\" x=\"300.5\" y=\"-473.5\" font-family=\"monospace\" font-size=\"10.00\">result2</text>\n<text text-anchor=\"middle\" x=\"300.5\" y=\"-462.5\" font-family=\"monospace\" font-size=\"10.00\"> (0)</text>\n</g>\n<!-- 135088898082080&#45;&gt;135084833441568 -->\n<g id=\"edge22\" class=\"edge\">\n<title>135088898082080&#45;&gt;135084833441568</title>\n<path fill=\"none\" stroke=\"black\" d=\"M530.58,-527.94C480.77,-519.32 404.36,-504.65 339.5,-486 336.45,-485.12 333.29,-484.12 330.16,-483.05\"/>\n</g>\n<!-- 135088899868848 -->\n<g id=\"node25\" class=\"node\">\n<title>135088899868848</title>\n<polygon fill=\"orange\" stroke=\"black\" points=\"437,-485.5 348,-485.5 348,-455.5 437,-455.5 437,-485.5\"/>\n<text text-anchor=\"middle\" x=\"392.5\" y=\"-473.5\" font-family=\"monospace\" font-size=\"10.00\">running_mean</text>\n<text text-anchor=\"middle\" x=\"392.5\" y=\"-462.5\" font-family=\"monospace\" font-size=\"10.00\"> (512)</text>\n</g>\n<!-- 135088898082080&#45;&gt;135088899868848 -->\n<g id=\"edge23\" class=\"edge\">\n<title>135088898082080&#45;&gt;135088899868848</title>\n<path fill=\"none\" stroke=\"black\" d=\"M558.14,-527.87C526.37,-517.06 471.54,-498.4 433.72,-485.53\"/>\n</g>\n<!-- 135088899586896 -->\n<g id=\"node26\" class=\"node\">\n<title>135088899586896</title>\n<polygon fill=\"orange\" stroke=\"black\" points=\"538,-485.5 455,-485.5 455,-455.5 538,-455.5 538,-485.5\"/>\n<text text-anchor=\"middle\" x=\"496.5\" y=\"-473.5\" font-family=\"monospace\" font-size=\"10.00\">running_var</text>\n<text text-anchor=\"middle\" x=\"496.5\" y=\"-462.5\" font-family=\"monospace\" font-size=\"10.00\"> (512)</text>\n</g>\n<!-- 135088898082080&#45;&gt;135088899586896 -->\n<g id=\"edge24\" class=\"edge\">\n<title>135088898082080&#45;&gt;135088899586896</title>\n<path fill=\"none\" stroke=\"black\" d=\"M571.77,-527.73C557.3,-516.92 532.51,-498.41 515.36,-485.59\"/>\n</g>\n<!-- 135088899866688 -->\n<g id=\"node27\" class=\"node\">\n<title>135088899866688</title>\n<polygon fill=\"lightblue\" stroke=\"black\" points=\"610.5,-486 556.5,-486 556.5,-455 610.5,-455 610.5,-486\"/>\n<text text-anchor=\"middle\" x=\"583.5\" y=\"-462\" font-family=\"monospace\" font-size=\"10.00\"> (512)</text>\n</g>\n<!-- 135088898082080&#45;&gt;135088899866688 -->\n<g id=\"edge25\" class=\"edge\">\n<title>135088898082080&#45;&gt;135088899866688</title>\n<path fill=\"none\" stroke=\"black\" d=\"M583.5,-527.73C583.5,-517.06 583.5,-498.88 583.5,-486.08\"/>\n</g>\n<!-- 135088898082128 -->\n<g id=\"node138\" class=\"node\">\n<title>135088898082128</title>\n<polygon fill=\"lightgrey\" stroke=\"black\" points=\"631,-413.5 530,-413.5 530,-394.5 631,-394.5 631,-413.5\"/>\n<text text-anchor=\"middle\" x=\"580.5\" y=\"-401.5\" font-family=\"monospace\" font-size=\"10.00\">AccumulateGrad</text>\n</g>\n<!-- 135088899866688&#45;&gt;135088898082128 -->\n<g id=\"edge151\" class=\"edge\">\n<title>135088899866688&#45;&gt;135088898082128</title>\n<path fill=\"none\" stroke=\"black\" d=\"M582.82,-454.86C582.39,-445.68 581.84,-433.75 581.38,-423.86\"/>\n<polygon fill=\"black\" stroke=\"black\" points=\"584.87,-423.65 580.91,-413.82 577.88,-423.97 584.87,-423.65\"/>\n</g>\n<!-- 135088898085680 -->\n<g id=\"node28\" class=\"node\">\n<title>135088898085680</title>\n<polygon fill=\"lightgrey\" stroke=\"black\" points=\"873,-613.5 736,-613.5 736,-594.5 873,-594.5 873,-613.5\"/>\n<text text-anchor=\"middle\" x=\"804.5\" y=\"-601.5\" font-family=\"monospace\" font-size=\"10.00\">ConvolutionBackward0</text>\n</g>\n<!-- 135088898085680&#45;&gt;135088898082080 -->\n<g id=\"edge26\" class=\"edge\">\n<title>135088898085680&#45;&gt;135088898082080</title>\n<path fill=\"none\" stroke=\"black\" d=\"M775.15,-594.43C735.94,-582.99 666.33,-562.68 622.67,-549.93\"/>\n<polygon fill=\"black\" stroke=\"black\" points=\"623.55,-546.54 612.97,-547.1 621.59,-553.26 623.55,-546.54\"/>\n</g>\n<!-- 135088898762816 -->\n<g id=\"node29\" class=\"node\">\n<title>135088898762816</title>\n<polygon fill=\"orange\" stroke=\"black\" points=\"1028,-552.5 921,-552.5 921,-522.5 1028,-522.5 1028,-552.5\"/>\n<text text-anchor=\"middle\" x=\"974.5\" y=\"-540.5\" font-family=\"monospace\" font-size=\"10.00\">input</text>\n<text text-anchor=\"middle\" x=\"974.5\" y=\"-529.5\" font-family=\"monospace\" font-size=\"10.00\"> (1, 512, 4, 4)</text>\n</g>\n<!-- 135088898085680&#45;&gt;135088898762816 -->\n<g id=\"edge27\" class=\"edge\">\n<title>135088898085680&#45;&gt;135088898762816</title>\n<path fill=\"none\" stroke=\"black\" d=\"M827.07,-594.43C855.25,-583.74 903.83,-565.31 937.49,-552.54\"/>\n</g>\n<!-- 135088899877088 -->\n<g id=\"node30\" class=\"node\">\n<title>135088899877088</title>\n<polygon fill=\"lightblue\" stroke=\"black\" points=\"864,-553 745,-553 745,-522 864,-522 864,-553\"/>\n<text text-anchor=\"middle\" x=\"804.5\" y=\"-529\" font-family=\"monospace\" font-size=\"10.00\"> (512, 512, 3, 3)</text>\n</g>\n<!-- 135088898085680&#45;&gt;135088899877088 -->\n<g id=\"edge28\" class=\"edge\">\n<title>135088898085680&#45;&gt;135088899877088</title>\n<path fill=\"none\" stroke=\"black\" d=\"M804.5,-594.3C804.5,-583.85 804.5,-566.14 804.5,-553.47\"/>\n</g>\n<!-- 135088898081312 -->\n<g id=\"node137\" class=\"node\">\n<title>135088898081312</title>\n<polygon fill=\"lightgrey\" stroke=\"black\" points=\"1006,-480 905,-480 905,-461 1006,-461 1006,-480\"/>\n<text text-anchor=\"middle\" x=\"955.5\" y=\"-468\" font-family=\"monospace\" font-size=\"10.00\">AccumulateGrad</text>\n</g>\n<!-- 135088899877088&#45;&gt;135088898081312 -->\n<g id=\"edge149\" class=\"edge\">\n<title>135088899877088&#45;&gt;135088898081312</title>\n<path fill=\"none\" stroke=\"black\" d=\"M838.39,-521.91C864.79,-510.55 901.08,-494.93 926.23,-484.1\"/>\n<polygon fill=\"black\" stroke=\"black\" points=\"927.81,-487.23 935.61,-480.06 925.04,-480.8 927.81,-487.23\"/>\n</g>\n<!-- 135088898084480 -->\n<g id=\"node31\" class=\"node\">\n<title>135088898084480</title>\n<polygon fill=\"lightgrey\" stroke=\"black\" points=\"1102,-680 911,-680 911,-661 1102,-661 1102,-680\"/>\n<text text-anchor=\"middle\" x=\"1006.5\" y=\"-668\" font-family=\"monospace\" font-size=\"10.00\">MaxPool2DWithIndicesBackward0</text>\n</g>\n<!-- 135088898084480&#45;&gt;135088898083616 -->\n<g id=\"edge160\" class=\"edge\">\n<title>135088898084480&#45;&gt;135088898083616</title>\n<path fill=\"none\" stroke=\"black\" d=\"M1056.3,-660.99C1082.55,-653.99 1113.21,-641.42 1132.5,-619 1156.48,-591.14 1151.5,-575.26 1151.5,-538.5 1151.5,-538.5 1151.5,-538.5 1151.5,-336.5 1151.5,-266.92 1065.43,-231.87 1007.07,-216.1\"/>\n<polygon fill=\"black\" stroke=\"black\" points=\"1007.8,-212.68 997.25,-213.56 1006.05,-219.45 1007.8,-212.68\"/>\n</g>\n<!-- 135088898084480&#45;&gt;135088898085680 -->\n<g id=\"edge29\" class=\"edge\">\n<title>135088898084480&#45;&gt;135088898085680</title>\n<path fill=\"none\" stroke=\"black\" d=\"M979.68,-660.93C944.06,-649.56 881.01,-629.43 841.06,-616.68\"/>\n<polygon fill=\"black\" stroke=\"black\" points=\"842.03,-613.31 831.43,-613.6 839.9,-619.98 842.03,-613.31\"/>\n</g>\n<!-- 135084833444448 -->\n<g id=\"node32\" class=\"node\">\n<title>135084833444448</title>\n<polygon fill=\"orange\" stroke=\"black\" points=\"998,-619 891,-619 891,-589 998,-589 998,-619\"/>\n<text text-anchor=\"middle\" x=\"944.5\" y=\"-607\" font-family=\"monospace\" font-size=\"10.00\">result1</text>\n<text text-anchor=\"middle\" x=\"944.5\" y=\"-596\" font-family=\"monospace\" font-size=\"10.00\"> (1, 512, 4, 4)</text>\n</g>\n<!-- 135088898084480&#45;&gt;135084833444448 -->\n<g id=\"edge30\" class=\"edge\">\n<title>135088898084480&#45;&gt;135084833444448</title>\n<path fill=\"none\" stroke=\"black\" d=\"M998.14,-660.8C987.96,-650.21 970.62,-632.17 958.41,-619.47\"/>\n</g>\n<!-- 135088898766336 -->\n<g id=\"node33\" class=\"node\">\n<title>135088898766336</title>\n<polygon fill=\"orange\" stroke=\"black\" points=\"1123,-619 1016,-619 1016,-589 1123,-589 1123,-619\"/>\n<text text-anchor=\"middle\" x=\"1069.5\" y=\"-607\" font-family=\"monospace\" font-size=\"10.00\">self</text>\n<text text-anchor=\"middle\" x=\"1069.5\" y=\"-596\" font-family=\"monospace\" font-size=\"10.00\"> (1, 512, 8, 8)</text>\n</g>\n<!-- 135088898084480&#45;&gt;135088898766336 -->\n<g id=\"edge31\" class=\"edge\">\n<title>135088898084480&#45;&gt;135088898766336</title>\n<path fill=\"none\" stroke=\"black\" d=\"M1015,-660.8C1025.34,-650.21 1042.96,-632.17 1055.36,-619.47\"/>\n</g>\n<!-- 135088898085536 -->\n<g id=\"node34\" class=\"node\">\n<title>135088898085536</title>\n<polygon fill=\"lightgrey\" stroke=\"black\" points=\"1054,-747 959,-747 959,-728 1054,-728 1054,-747\"/>\n<text text-anchor=\"middle\" x=\"1006.5\" y=\"-735\" font-family=\"monospace\" font-size=\"10.00\">ReluBackward0</text>\n</g>\n<!-- 135088898085536&#45;&gt;135088898084480 -->\n<g id=\"edge32\" class=\"edge\">\n<title>135088898085536&#45;&gt;135088898084480</title>\n<path fill=\"none\" stroke=\"black\" d=\"M1006.5,-727.73C1006.5,-718.18 1006.5,-702.62 1006.5,-690.28\"/>\n<polygon fill=\"black\" stroke=\"black\" points=\"1010,-690.13 1006.5,-680.13 1003,-690.13 1010,-690.13\"/>\n</g>\n<!-- 135084833448128 -->\n<g id=\"node35\" class=\"node\">\n<title>135084833448128</title>\n<polygon fill=\"orange\" stroke=\"black\" points=\"1227,-685.5 1120,-685.5 1120,-655.5 1227,-655.5 1227,-685.5\"/>\n<text text-anchor=\"middle\" x=\"1173.5\" y=\"-673.5\" font-family=\"monospace\" font-size=\"10.00\">result</text>\n<text text-anchor=\"middle\" x=\"1173.5\" y=\"-662.5\" font-family=\"monospace\" font-size=\"10.00\"> (1, 512, 8, 8)</text>\n</g>\n<!-- 135088898085536&#45;&gt;135084833448128 -->\n<g id=\"edge33\" class=\"edge\">\n<title>135088898085536&#45;&gt;135084833448128</title>\n<path fill=\"none\" stroke=\"black\" d=\"M1028.68,-727.87C1056.45,-717.06 1104.39,-698.4 1137.46,-685.53\"/>\n</g>\n<!-- 135088898085920 -->\n<g id=\"node36\" class=\"node\">\n<title>135088898085920</title>\n<polygon fill=\"lightgrey\" stroke=\"black\" points=\"831,-814 670,-814 670,-795 831,-795 831,-814\"/>\n<text text-anchor=\"middle\" x=\"750.5\" y=\"-802\" font-family=\"monospace\" font-size=\"10.00\">NativeBatchNormBackward0</text>\n</g>\n<!-- 135088898085920&#45;&gt;135088898085536 -->\n<g id=\"edge34\" class=\"edge\">\n<title>135088898085920&#45;&gt;135088898085536</title>\n<path fill=\"none\" stroke=\"black\" d=\"M784.23,-794.94C830.09,-783.29 912.16,-762.45 962.72,-749.62\"/>\n<polygon fill=\"black\" stroke=\"black\" points=\"963.86,-752.94 972.69,-747.08 962.14,-746.15 963.86,-752.94\"/>\n</g>\n<!-- 135088898755456 -->\n<g id=\"node37\" class=\"node\">\n<title>135088898755456</title>\n<polygon fill=\"orange\" stroke=\"black\" points=\"435,-752.5 328,-752.5 328,-722.5 435,-722.5 435,-752.5\"/>\n<text text-anchor=\"middle\" x=\"381.5\" y=\"-740.5\" font-family=\"monospace\" font-size=\"10.00\">input</text>\n<text text-anchor=\"middle\" x=\"381.5\" y=\"-729.5\" font-family=\"monospace\" font-size=\"10.00\"> (1, 512, 8, 8)</text>\n</g>\n<!-- 135088898085920&#45;&gt;135088898755456 -->\n<g id=\"edge35\" class=\"edge\">\n<title>135088898085920&#45;&gt;135088898755456</title>\n<path fill=\"none\" stroke=\"black\" d=\"M692.21,-794.99C630.5,-785.73 530.34,-769.94 444.5,-753 441.42,-752.39 438.25,-751.74 435.07,-751.07\"/>\n</g>\n<!-- 135084833450688 -->\n<g id=\"node38\" class=\"node\">\n<title>135084833450688</title>\n<polygon fill=\"orange\" stroke=\"black\" points=\"512,-752.5 453,-752.5 453,-722.5 512,-722.5 512,-752.5\"/>\n<text text-anchor=\"middle\" x=\"482.5\" y=\"-740.5\" font-family=\"monospace\" font-size=\"10.00\">result1</text>\n<text text-anchor=\"middle\" x=\"482.5\" y=\"-729.5\" font-family=\"monospace\" font-size=\"10.00\"> (0)</text>\n</g>\n<!-- 135088898085920&#45;&gt;135084833450688 -->\n<g id=\"edge36\" class=\"edge\">\n<title>135088898085920&#45;&gt;135084833450688</title>\n<path fill=\"none\" stroke=\"black\" d=\"M702.64,-794.96C655.97,-786.15 583.2,-771.18 521.5,-753 518.45,-752.1 515.3,-751.08 512.17,-750.01\"/>\n</g>\n<!-- 135084833450368 -->\n<g id=\"node39\" class=\"node\">\n<title>135084833450368</title>\n<polygon fill=\"orange\" stroke=\"black\" points=\"589,-752.5 530,-752.5 530,-722.5 589,-722.5 589,-752.5\"/>\n<text text-anchor=\"middle\" x=\"559.5\" y=\"-740.5\" font-family=\"monospace\" font-size=\"10.00\">result2</text>\n<text text-anchor=\"middle\" x=\"559.5\" y=\"-729.5\" font-family=\"monospace\" font-size=\"10.00\"> (0)</text>\n</g>\n<!-- 135088898085920&#45;&gt;135084833450368 -->\n<g id=\"edge37\" class=\"edge\">\n<title>135088898085920&#45;&gt;135084833450368</title>\n<path fill=\"none\" stroke=\"black\" d=\"M723.77,-794.93C693.33,-785.11 642.17,-768.37 598.5,-753 595.5,-751.94 592.38,-750.82 589.27,-749.69\"/>\n</g>\n<!-- 135088898546384 -->\n<g id=\"node40\" class=\"node\">\n<title>135088898546384</title>\n<polygon fill=\"orange\" stroke=\"black\" points=\"696,-752.5 607,-752.5 607,-722.5 696,-722.5 696,-752.5\"/>\n<text text-anchor=\"middle\" x=\"651.5\" y=\"-740.5\" font-family=\"monospace\" font-size=\"10.00\">running_mean</text>\n<text text-anchor=\"middle\" x=\"651.5\" y=\"-729.5\" font-family=\"monospace\" font-size=\"10.00\"> (512)</text>\n</g>\n<!-- 135088898085920&#45;&gt;135088898546384 -->\n<g id=\"edge38\" class=\"edge\">\n<title>135088898085920&#45;&gt;135088898546384</title>\n<path fill=\"none\" stroke=\"black\" d=\"M737.15,-794.73C720.68,-783.92 692.48,-765.41 672.96,-752.59\"/>\n</g>\n<!-- 135088899746736 -->\n<g id=\"node41\" class=\"node\">\n<title>135088899746736</title>\n<polygon fill=\"orange\" stroke=\"black\" points=\"797,-752.5 714,-752.5 714,-722.5 797,-722.5 797,-752.5\"/>\n<text text-anchor=\"middle\" x=\"755.5\" y=\"-740.5\" font-family=\"monospace\" font-size=\"10.00\">running_var</text>\n<text text-anchor=\"middle\" x=\"755.5\" y=\"-729.5\" font-family=\"monospace\" font-size=\"10.00\"> (512)</text>\n</g>\n<!-- 135088898085920&#45;&gt;135088899746736 -->\n<g id=\"edge39\" class=\"edge\">\n<title>135088898085920&#45;&gt;135088899746736</title>\n<path fill=\"none\" stroke=\"black\" d=\"M751.17,-794.73C752.01,-783.92 753.43,-765.41 754.42,-752.59\"/>\n</g>\n<!-- 135088899751376 -->\n<g id=\"node42\" class=\"node\">\n<title>135088899751376</title>\n<polygon fill=\"lightblue\" stroke=\"black\" points=\"869.5,-753 815.5,-753 815.5,-722 869.5,-722 869.5,-753\"/>\n<text text-anchor=\"middle\" x=\"842.5\" y=\"-729\" font-family=\"monospace\" font-size=\"10.00\"> (512)</text>\n</g>\n<!-- 135088898085920&#45;&gt;135088899751376 -->\n<g id=\"edge40\" class=\"edge\">\n<title>135088898085920&#45;&gt;135088899751376</title>\n<path fill=\"none\" stroke=\"black\" d=\"M762.91,-794.73C778.01,-784.06 803.75,-765.88 821.86,-753.08\"/>\n</g>\n<!-- 135088898085584 -->\n<g id=\"node134\" class=\"node\">\n<title>135088898085584</title>\n<polygon fill=\"lightgrey\" stroke=\"black\" points=\"893,-680 792,-680 792,-661 893,-661 893,-680\"/>\n<text text-anchor=\"middle\" x=\"842.5\" y=\"-668\" font-family=\"monospace\" font-size=\"10.00\">AccumulateGrad</text>\n</g>\n<!-- 135088899751376&#45;&gt;135088898085584 -->\n<g id=\"edge145\" class=\"edge\">\n<title>135088899751376&#45;&gt;135088898085584</title>\n<path fill=\"none\" stroke=\"black\" d=\"M842.5,-721.75C842.5,-712.39 842.5,-700.19 842.5,-690.16\"/>\n<polygon fill=\"black\" stroke=\"black\" points=\"846,-690.02 842.5,-680.02 839,-690.02 846,-690.02\"/>\n</g>\n<!-- 135088898081504 -->\n<g id=\"node43\" class=\"node\">\n<title>135088898081504</title>\n<polygon fill=\"lightgrey\" stroke=\"black\" points=\"1204,-880.5 1067,-880.5 1067,-861.5 1204,-861.5 1204,-880.5\"/>\n<text text-anchor=\"middle\" x=\"1135.5\" y=\"-868.5\" font-family=\"monospace\" font-size=\"10.00\">ConvolutionBackward0</text>\n</g>\n<!-- 135088898081504&#45;&gt;135088898085920 -->\n<g id=\"edge41\" class=\"edge\">\n<title>135088898081504&#45;&gt;135088898085920</title>\n<path fill=\"none\" stroke=\"black\" d=\"M1089.1,-861.43C1079.02,-859.61 1068.41,-857.71 1058.5,-856 974.16,-841.42 876.64,-825.61 814.31,-815.63\"/>\n<polygon fill=\"black\" stroke=\"black\" points=\"814.67,-812.14 804.24,-814.02 813.56,-819.06 814.67,-812.14\"/>\n</g>\n<!-- 135088898765856 -->\n<g id=\"node44\" class=\"node\">\n<title>135088898765856</title>\n<polygon fill=\"orange\" stroke=\"black\" points=\"1271,-819.5 1164,-819.5 1164,-789.5 1271,-789.5 1271,-819.5\"/>\n<text text-anchor=\"middle\" x=\"1217.5\" y=\"-807.5\" font-family=\"monospace\" font-size=\"10.00\">input</text>\n<text text-anchor=\"middle\" x=\"1217.5\" y=\"-796.5\" font-family=\"monospace\" font-size=\"10.00\"> (1, 256, 8, 8)</text>\n</g>\n<!-- 135088898081504&#45;&gt;135088898765856 -->\n<g id=\"edge42\" class=\"edge\">\n<title>135088898081504&#45;&gt;135088898765856</title>\n<path fill=\"none\" stroke=\"black\" d=\"M1146.56,-861.3C1160.11,-850.64 1183.26,-832.43 1199.41,-819.73\"/>\n</g>\n<!-- 135088899748816 -->\n<g id=\"node45\" class=\"node\">\n<title>135088899748816</title>\n<polygon fill=\"lightblue\" stroke=\"black\" points=\"1107,-820 988,-820 988,-789 1107,-789 1107,-820\"/>\n<text text-anchor=\"middle\" x=\"1047.5\" y=\"-796\" font-family=\"monospace\" font-size=\"10.00\"> (512, 256, 3, 3)</text>\n</g>\n<!-- 135088898081504&#45;&gt;135088899748816 -->\n<g id=\"edge43\" class=\"edge\">\n<title>135088898081504&#45;&gt;135088899748816</title>\n<path fill=\"none\" stroke=\"black\" d=\"M1123.63,-861.3C1109.28,-850.78 1084.89,-832.9 1067.58,-820.22\"/>\n</g>\n<!-- 135088898082608 -->\n<g id=\"node133\" class=\"node\">\n<title>135088898082608</title>\n<polygon fill=\"lightgrey\" stroke=\"black\" points=\"1181,-747 1080,-747 1080,-728 1181,-728 1181,-747\"/>\n<text text-anchor=\"middle\" x=\"1130.5\" y=\"-735\" font-family=\"monospace\" font-size=\"10.00\">AccumulateGrad</text>\n</g>\n<!-- 135088899748816&#45;&gt;135088898082608 -->\n<g id=\"edge143\" class=\"edge\">\n<title>135088899748816&#45;&gt;135088898082608</title>\n<path fill=\"none\" stroke=\"black\" d=\"M1066.33,-788.75C1079.83,-778.18 1097.94,-764 1111.48,-753.39\"/>\n<polygon fill=\"black\" stroke=\"black\" points=\"1113.91,-755.94 1119.62,-747.02 1109.59,-750.43 1113.91,-755.94\"/>\n</g>\n<!-- 135088898081024 -->\n<g id=\"node46\" class=\"node\">\n<title>135088898081024</title>\n<polygon fill=\"lightgrey\" stroke=\"black\" points=\"1087,-947 896,-947 896,-928 1087,-928 1087,-947\"/>\n<text text-anchor=\"middle\" x=\"991.5\" y=\"-935\" font-family=\"monospace\" font-size=\"10.00\">MaxPool2DWithIndicesBackward0</text>\n</g>\n<!-- 135088898081024&#45;&gt;135088898081504 -->\n<g id=\"edge44\" class=\"edge\">\n<title>135088898081024&#45;&gt;135088898081504</title>\n<path fill=\"none\" stroke=\"black\" d=\"M1010.62,-927.93C1035.26,-916.9 1078.31,-897.62 1106.86,-884.83\"/>\n<polygon fill=\"black\" stroke=\"black\" points=\"1108.6,-887.88 1116.3,-880.6 1105.74,-881.49 1108.6,-887.88\"/>\n</g>\n<!-- 135084833451808 -->\n<g id=\"node47\" class=\"node\">\n<title>135084833451808</title>\n<polygon fill=\"orange\" stroke=\"black\" points=\"912,-886 805,-886 805,-856 912,-856 912,-886\"/>\n<text text-anchor=\"middle\" x=\"858.5\" y=\"-874\" font-family=\"monospace\" font-size=\"10.00\">result1</text>\n<text text-anchor=\"middle\" x=\"858.5\" y=\"-863\" font-family=\"monospace\" font-size=\"10.00\"> (1, 256, 8, 8)</text>\n</g>\n<!-- 135088898081024&#45;&gt;135084833451808 -->\n<g id=\"edge45\" class=\"edge\">\n<title>135088898081024&#45;&gt;135084833451808</title>\n<path fill=\"none\" stroke=\"black\" d=\"M973.84,-927.93C951.79,-917.24 913.79,-898.81 887.46,-886.04\"/>\n</g>\n<!-- 135088898766656 -->\n<g id=\"node48\" class=\"node\">\n<title>135088898766656</title>\n<polygon fill=\"orange\" stroke=\"black\" points=\"1049,-886 930,-886 930,-856 1049,-856 1049,-886\"/>\n<text text-anchor=\"middle\" x=\"989.5\" y=\"-874\" font-family=\"monospace\" font-size=\"10.00\">self</text>\n<text text-anchor=\"middle\" x=\"989.5\" y=\"-863\" font-family=\"monospace\" font-size=\"10.00\"> (1, 256, 16, 16)</text>\n</g>\n<!-- 135088898081024&#45;&gt;135088898766656 -->\n<g id=\"edge46\" class=\"edge\">\n<title>135088898081024&#45;&gt;135088898766656</title>\n<path fill=\"none\" stroke=\"black\" d=\"M991.23,-927.8C990.9,-917.21 990.34,-899.17 989.95,-886.47\"/>\n</g>\n<!-- 135088898083472 -->\n<g id=\"node49\" class=\"node\">\n<title>135088898083472</title>\n<polygon fill=\"lightgrey\" stroke=\"black\" points=\"1037,-1014 942,-1014 942,-995 1037,-995 1037,-1014\"/>\n<text text-anchor=\"middle\" x=\"989.5\" y=\"-1002\" font-family=\"monospace\" font-size=\"10.00\">ReluBackward0</text>\n</g>\n<!-- 135088898083472&#45;&gt;135088898081024 -->\n<g id=\"edge47\" class=\"edge\">\n<title>135088898083472&#45;&gt;135088898081024</title>\n<path fill=\"none\" stroke=\"black\" d=\"M989.77,-994.73C990.06,-985.18 990.54,-969.62 990.92,-957.28\"/>\n<polygon fill=\"black\" stroke=\"black\" points=\"994.43,-957.23 991.23,-947.13 987.43,-957.01 994.43,-957.23\"/>\n</g>\n<!-- 135084833440128 -->\n<g id=\"node50\" class=\"node\">\n<title>135084833440128</title>\n<polygon fill=\"orange\" stroke=\"black\" points=\"1224,-952.5 1105,-952.5 1105,-922.5 1224,-922.5 1224,-952.5\"/>\n<text text-anchor=\"middle\" x=\"1164.5\" y=\"-940.5\" font-family=\"monospace\" font-size=\"10.00\">result</text>\n<text text-anchor=\"middle\" x=\"1164.5\" y=\"-929.5\" font-family=\"monospace\" font-size=\"10.00\"> (1, 256, 16, 16)</text>\n</g>\n<!-- 135088898083472&#45;&gt;135084833440128 -->\n<g id=\"edge48\" class=\"edge\">\n<title>135088898083472&#45;&gt;135084833440128</title>\n<path fill=\"none\" stroke=\"black\" d=\"M1012.74,-994.87C1041.84,-984.06 1092.08,-965.4 1126.73,-952.53\"/>\n</g>\n<!-- 135088898084048 -->\n<g id=\"node51\" class=\"node\">\n<title>135088898084048</title>\n<polygon fill=\"lightgrey\" stroke=\"black\" points=\"823,-1081 662,-1081 662,-1062 823,-1062 823,-1081\"/>\n<text text-anchor=\"middle\" x=\"742.5\" y=\"-1069\" font-family=\"monospace\" font-size=\"10.00\">NativeBatchNormBackward0</text>\n</g>\n<!-- 135088898084048&#45;&gt;135088898083472 -->\n<g id=\"edge49\" class=\"edge\">\n<title>135088898084048&#45;&gt;135088898083472</title>\n<path fill=\"none\" stroke=\"black\" d=\"M775.04,-1061.94C819.19,-1050.32 898.14,-1029.54 946.95,-1016.7\"/>\n<polygon fill=\"black\" stroke=\"black\" points=\"948.1,-1020.01 956.88,-1014.08 946.32,-1013.24 948.1,-1020.01\"/>\n</g>\n<!-- 135088898757456 -->\n<g id=\"node52\" class=\"node\">\n<title>135088898757456</title>\n<polygon fill=\"orange\" stroke=\"black\" points=\"422,-1019.5 303,-1019.5 303,-989.5 422,-989.5 422,-1019.5\"/>\n<text text-anchor=\"middle\" x=\"362.5\" y=\"-1007.5\" font-family=\"monospace\" font-size=\"10.00\">input</text>\n<text text-anchor=\"middle\" x=\"362.5\" y=\"-996.5\" font-family=\"monospace\" font-size=\"10.00\"> (1, 256, 16, 16)</text>\n</g>\n<!-- 135088898084048&#45;&gt;135088898757456 -->\n<g id=\"edge50\" class=\"edge\">\n<title>135088898084048&#45;&gt;135088898757456</title>\n<path fill=\"none\" stroke=\"black\" d=\"M685.04,-1061.98C622.52,-1052.53 519.69,-1036.42 431.5,-1020 428.49,-1019.44 425.41,-1018.85 422.31,-1018.24\"/>\n</g>\n<!-- 135084833446768 -->\n<g id=\"node53\" class=\"node\">\n<title>135084833446768</title>\n<polygon fill=\"orange\" stroke=\"black\" points=\"499,-1019.5 440,-1019.5 440,-989.5 499,-989.5 499,-1019.5\"/>\n<text text-anchor=\"middle\" x=\"469.5\" y=\"-1007.5\" font-family=\"monospace\" font-size=\"10.00\">result1</text>\n<text text-anchor=\"middle\" x=\"469.5\" y=\"-996.5\" font-family=\"monospace\" font-size=\"10.00\"> (0)</text>\n</g>\n<!-- 135088898084048&#45;&gt;135084833446768 -->\n<g id=\"edge51\" class=\"edge\">\n<title>135088898084048&#45;&gt;135084833446768</title>\n<path fill=\"none\" stroke=\"black\" d=\"M693.14,-1061.98C645.42,-1053.24 571.33,-1038.36 508.5,-1020 505.45,-1019.11 502.29,-1018.1 499.16,-1017.03\"/>\n</g>\n<!-- 135084833446848 -->\n<g id=\"node54\" class=\"node\">\n<title>135084833446848</title>\n<polygon fill=\"orange\" stroke=\"black\" points=\"576,-1019.5 517,-1019.5 517,-989.5 576,-989.5 576,-1019.5\"/>\n<text text-anchor=\"middle\" x=\"546.5\" y=\"-1007.5\" font-family=\"monospace\" font-size=\"10.00\">result2</text>\n<text text-anchor=\"middle\" x=\"546.5\" y=\"-996.5\" font-family=\"monospace\" font-size=\"10.00\"> (0)</text>\n</g>\n<!-- 135088898084048&#45;&gt;135084833446848 -->\n<g id=\"edge52\" class=\"edge\">\n<title>135088898084048&#45;&gt;135084833446848</title>\n<path fill=\"none\" stroke=\"black\" d=\"M714.58,-1061.93C683.09,-1052.18 630.41,-1035.56 585.5,-1020 582.5,-1018.96 579.37,-1017.85 576.26,-1016.72\"/>\n</g>\n<!-- 135088898555424 -->\n<g id=\"node55\" class=\"node\">\n<title>135088898555424</title>\n<polygon fill=\"orange\" stroke=\"black\" points=\"683,-1019.5 594,-1019.5 594,-989.5 683,-989.5 683,-1019.5\"/>\n<text text-anchor=\"middle\" x=\"638.5\" y=\"-1007.5\" font-family=\"monospace\" font-size=\"10.00\">running_mean</text>\n<text text-anchor=\"middle\" x=\"638.5\" y=\"-996.5\" font-family=\"monospace\" font-size=\"10.00\"> (256)</text>\n</g>\n<!-- 135088898084048&#45;&gt;135088898555424 -->\n<g id=\"edge53\" class=\"edge\">\n<title>135088898084048&#45;&gt;135088898555424</title>\n<path fill=\"none\" stroke=\"black\" d=\"M728.47,-1061.73C711.18,-1050.92 681.55,-1032.41 661.04,-1019.59\"/>\n</g>\n<!-- 135088898546784 -->\n<g id=\"node56\" class=\"node\">\n<title>135088898546784</title>\n<polygon fill=\"orange\" stroke=\"black\" points=\"784,-1019.5 701,-1019.5 701,-989.5 784,-989.5 784,-1019.5\"/>\n<text text-anchor=\"middle\" x=\"742.5\" y=\"-1007.5\" font-family=\"monospace\" font-size=\"10.00\">running_var</text>\n<text text-anchor=\"middle\" x=\"742.5\" y=\"-996.5\" font-family=\"monospace\" font-size=\"10.00\"> (256)</text>\n</g>\n<!-- 135088898084048&#45;&gt;135088898546784 -->\n<g id=\"edge54\" class=\"edge\">\n<title>135088898084048&#45;&gt;135088898546784</title>\n<path fill=\"none\" stroke=\"black\" d=\"M742.5,-1061.73C742.5,-1050.92 742.5,-1032.41 742.5,-1019.59\"/>\n</g>\n<!-- 135088898554224 -->\n<g id=\"node57\" class=\"node\">\n<title>135088898554224</title>\n<polygon fill=\"lightblue\" stroke=\"black\" points=\"856.5,-1020 802.5,-1020 802.5,-989 856.5,-989 856.5,-1020\"/>\n<text text-anchor=\"middle\" x=\"829.5\" y=\"-996\" font-family=\"monospace\" font-size=\"10.00\"> (256)</text>\n</g>\n<!-- 135088898084048&#45;&gt;135088898554224 -->\n<g id=\"edge55\" class=\"edge\">\n<title>135088898084048&#45;&gt;135088898554224</title>\n<path fill=\"none\" stroke=\"black\" d=\"M754.23,-1061.73C768.52,-1051.06 792.85,-1032.88 809.98,-1020.08\"/>\n</g>\n<!-- 135088898084336 -->\n<g id=\"node130\" class=\"node\">\n<title>135088898084336</title>\n<polygon fill=\"lightgrey\" stroke=\"black\" points=\"878,-947 777,-947 777,-928 878,-928 878,-947\"/>\n<text text-anchor=\"middle\" x=\"827.5\" y=\"-935\" font-family=\"monospace\" font-size=\"10.00\">AccumulateGrad</text>\n</g>\n<!-- 135088898554224&#45;&gt;135088898084336 -->\n<g id=\"edge139\" class=\"edge\">\n<title>135088898554224&#45;&gt;135088898084336</title>\n<path fill=\"none\" stroke=\"black\" d=\"M829.05,-988.75C828.76,-979.39 828.38,-967.19 828.07,-957.16\"/>\n<polygon fill=\"black\" stroke=\"black\" points=\"831.57,-956.91 827.76,-947.02 824.57,-957.12 831.57,-956.91\"/>\n</g>\n<!-- 135088898084096 -->\n<g id=\"node58\" class=\"node\">\n<title>135088898084096</title>\n<polygon fill=\"lightgrey\" stroke=\"black\" points=\"1173,-1142 1036,-1142 1036,-1123 1173,-1123 1173,-1142\"/>\n<text text-anchor=\"middle\" x=\"1104.5\" y=\"-1130\" font-family=\"monospace\" font-size=\"10.00\">ConvolutionBackward0</text>\n</g>\n<!-- 135088898084096&#45;&gt;135088898084048 -->\n<g id=\"edge56\" class=\"edge\">\n<title>135088898084096&#45;&gt;135088898084048</title>\n<path fill=\"none\" stroke=\"black\" d=\"M1052.25,-1122.98C986.74,-1112.31 874.6,-1094.03 804.73,-1082.64\"/>\n<polygon fill=\"black\" stroke=\"black\" points=\"805.17,-1079.17 794.74,-1081.01 804.04,-1086.08 805.17,-1079.17\"/>\n</g>\n<!-- 135088898542304 -->\n<g id=\"node59\" class=\"node\">\n<title>135088898542304</title>\n<polygon fill=\"orange\" stroke=\"black\" points=\"1253,-1086.5 1134,-1086.5 1134,-1056.5 1253,-1056.5 1253,-1086.5\"/>\n<text text-anchor=\"middle\" x=\"1193.5\" y=\"-1074.5\" font-family=\"monospace\" font-size=\"10.00\">input</text>\n<text text-anchor=\"middle\" x=\"1193.5\" y=\"-1063.5\" font-family=\"monospace\" font-size=\"10.00\"> (1, 128, 16, 16)</text>\n</g>\n<!-- 135088898084096&#45;&gt;135088898542304 -->\n<g id=\"edge57\" class=\"edge\">\n<title>135088898084096&#45;&gt;135088898542304</title>\n<path fill=\"none\" stroke=\"black\" d=\"M1117.63,-1122.79C1132.04,-1113.24 1155.38,-1097.77 1172.37,-1086.51\"/>\n</g>\n<!-- 135088898541264 -->\n<g id=\"node60\" class=\"node\">\n<title>135088898541264</title>\n<polygon fill=\"lightblue\" stroke=\"black\" points=\"1077,-1087 958,-1087 958,-1056 1077,-1056 1077,-1087\"/>\n<text text-anchor=\"middle\" x=\"1017.5\" y=\"-1063\" font-family=\"monospace\" font-size=\"10.00\"> (256, 128, 3, 3)</text>\n</g>\n<!-- 135088898084096&#45;&gt;135088898541264 -->\n<g id=\"edge58\" class=\"edge\">\n<title>135088898084096&#45;&gt;135088898541264</title>\n<path fill=\"none\" stroke=\"black\" d=\"M1091.66,-1122.79C1077.86,-1113.43 1055.68,-1098.39 1039.17,-1087.19\"/>\n</g>\n<!-- 135088898082032 -->\n<g id=\"node129\" class=\"node\">\n<title>135088898082032</title>\n<polygon fill=\"lightgrey\" stroke=\"black\" points=\"1156,-1014 1055,-1014 1055,-995 1156,-995 1156,-1014\"/>\n<text text-anchor=\"middle\" x=\"1105.5\" y=\"-1002\" font-family=\"monospace\" font-size=\"10.00\">AccumulateGrad</text>\n</g>\n<!-- 135088898541264&#45;&gt;135088898082032 -->\n<g id=\"edge137\" class=\"edge\">\n<title>135088898541264&#45;&gt;135088898082032</title>\n<path fill=\"none\" stroke=\"black\" d=\"M1037.47,-1055.75C1051.91,-1045.08 1071.35,-1030.73 1085.74,-1020.09\"/>\n<polygon fill=\"black\" stroke=\"black\" points=\"1088,-1022.78 1093.97,-1014.02 1083.84,-1017.14 1088,-1022.78\"/>\n</g>\n<!-- 135088898082320 -->\n<g id=\"node61\" class=\"node\">\n<title>135088898082320</title>\n<polygon fill=\"lightgrey\" stroke=\"black\" points=\"1149,-1203 1060,-1203 1060,-1184 1149,-1184 1149,-1203\"/>\n<text text-anchor=\"middle\" x=\"1104.5\" y=\"-1191\" font-family=\"monospace\" font-size=\"10.00\">AddBackward0</text>\n</g>\n<!-- 135088898082320&#45;&gt;135088898084096 -->\n<g id=\"edge59\" class=\"edge\">\n<title>135088898082320&#45;&gt;135088898084096</title>\n<path fill=\"none\" stroke=\"black\" d=\"M1104.5,-1183.79C1104.5,-1175.6 1104.5,-1163.06 1104.5,-1152.55\"/>\n<polygon fill=\"black\" stroke=\"black\" points=\"1108,-1152.24 1104.5,-1142.24 1101,-1152.24 1108,-1152.24\"/>\n</g>\n<!-- 135088898083040 -->\n<g id=\"node62\" class=\"node\">\n<title>135088898083040</title>\n<polygon fill=\"lightgrey\" stroke=\"black\" points=\"1025,-1270 930,-1270 930,-1251 1025,-1251 1025,-1270\"/>\n<text text-anchor=\"middle\" x=\"977.5\" y=\"-1258\" font-family=\"monospace\" font-size=\"10.00\">ReluBackward0</text>\n</g>\n<!-- 135088898083040&#45;&gt;135088898082320 -->\n<g id=\"edge60\" class=\"edge\">\n<title>135088898083040&#45;&gt;135088898082320</title>\n<path fill=\"none\" stroke=\"black\" d=\"M994.36,-1250.87C1015.9,-1239.84 1053.4,-1220.66 1078.58,-1207.77\"/>\n<polygon fill=\"black\" stroke=\"black\" points=\"1080.26,-1210.84 1087.57,-1203.17 1077.07,-1204.61 1080.26,-1210.84\"/>\n</g>\n<!-- 135084833441648 -->\n<g id=\"node63\" class=\"node\">\n<title>135084833441648</title>\n<polygon fill=\"orange\" stroke=\"black\" points=\"1037,-1208.5 918,-1208.5 918,-1178.5 1037,-1178.5 1037,-1208.5\"/>\n<text text-anchor=\"middle\" x=\"977.5\" y=\"-1196.5\" font-family=\"monospace\" font-size=\"10.00\">result</text>\n<text text-anchor=\"middle\" x=\"977.5\" y=\"-1185.5\" font-family=\"monospace\" font-size=\"10.00\"> (1, 128, 16, 16)</text>\n</g>\n<!-- 135088898083040&#45;&gt;135084833441648 -->\n<g id=\"edge61\" class=\"edge\">\n<title>135088898083040&#45;&gt;135084833441648</title>\n<path fill=\"none\" stroke=\"black\" d=\"M977.5,-1250.73C977.5,-1239.92 977.5,-1221.41 977.5,-1208.59\"/>\n</g>\n<!-- 135088898087168 -->\n<g id=\"node64\" class=\"node\">\n<title>135088898087168</title>\n<polygon fill=\"lightgrey\" stroke=\"black\" points=\"838,-1337 677,-1337 677,-1318 838,-1318 838,-1337\"/>\n<text text-anchor=\"middle\" x=\"757.5\" y=\"-1325\" font-family=\"monospace\" font-size=\"10.00\">NativeBatchNormBackward0</text>\n</g>\n<!-- 135088898087168&#45;&gt;135088898083040 -->\n<g id=\"edge62\" class=\"edge\">\n<title>135088898087168&#45;&gt;135088898083040</title>\n<path fill=\"none\" stroke=\"black\" d=\"M786.71,-1317.87C825.86,-1306.3 895.43,-1285.75 938.87,-1272.91\"/>\n<polygon fill=\"black\" stroke=\"black\" points=\"939.92,-1276.25 948.52,-1270.06 937.93,-1269.54 939.92,-1276.25\"/>\n</g>\n<!-- 135084843033888 -->\n<g id=\"node65\" class=\"node\">\n<title>135084843033888</title>\n<polygon fill=\"orange\" stroke=\"black\" points=\"439,-1275.5 320,-1275.5 320,-1245.5 439,-1245.5 439,-1275.5\"/>\n<text text-anchor=\"middle\" x=\"379.5\" y=\"-1263.5\" font-family=\"monospace\" font-size=\"10.00\">input</text>\n<text text-anchor=\"middle\" x=\"379.5\" y=\"-1252.5\" font-family=\"monospace\" font-size=\"10.00\"> (1, 128, 16, 16)</text>\n</g>\n<!-- 135088898087168&#45;&gt;135084843033888 -->\n<g id=\"edge63\" class=\"edge\">\n<title>135088898087168&#45;&gt;135084843033888</title>\n<path fill=\"none\" stroke=\"black\" d=\"M700.41,-1317.96C638.3,-1308.48 536.13,-1292.36 448.5,-1276 445.49,-1275.44 442.41,-1274.85 439.31,-1274.24\"/>\n</g>\n<!-- 135084833441248 -->\n<g id=\"node66\" class=\"node\">\n<title>135084833441248</title>\n<polygon fill=\"orange\" stroke=\"black\" points=\"516,-1275.5 457,-1275.5 457,-1245.5 516,-1245.5 516,-1275.5\"/>\n<text text-anchor=\"middle\" x=\"486.5\" y=\"-1263.5\" font-family=\"monospace\" font-size=\"10.00\">result1</text>\n<text text-anchor=\"middle\" x=\"486.5\" y=\"-1252.5\" font-family=\"monospace\" font-size=\"10.00\"> (0)</text>\n</g>\n<!-- 135088898087168&#45;&gt;135084833441248 -->\n<g id=\"edge64\" class=\"edge\">\n<title>135088898087168&#45;&gt;135084833441248</title>\n<path fill=\"none\" stroke=\"black\" d=\"M708.56,-1317.94C661.26,-1309.17 587.8,-1294.26 525.5,-1276 522.45,-1275.11 519.3,-1274.09 516.16,-1273.02\"/>\n</g>\n<!-- 135084833442848 -->\n<g id=\"node67\" class=\"node\">\n<title>135084833442848</title>\n<polygon fill=\"orange\" stroke=\"black\" points=\"593,-1275.5 534,-1275.5 534,-1245.5 593,-1245.5 593,-1275.5\"/>\n<text text-anchor=\"middle\" x=\"563.5\" y=\"-1263.5\" font-family=\"monospace\" font-size=\"10.00\">result2</text>\n<text text-anchor=\"middle\" x=\"563.5\" y=\"-1252.5\" font-family=\"monospace\" font-size=\"10.00\"> (0)</text>\n</g>\n<!-- 135088898087168&#45;&gt;135084833442848 -->\n<g id=\"edge65\" class=\"edge\">\n<title>135088898087168&#45;&gt;135084833442848</title>\n<path fill=\"none\" stroke=\"black\" d=\"M730.23,-1317.99C699.18,-1308.21 647,-1291.51 602.5,-1276 599.5,-1274.95 596.38,-1273.84 593.27,-1272.71\"/>\n</g>\n<!-- 135088898550384 -->\n<g id=\"node68\" class=\"node\">\n<title>135088898550384</title>\n<polygon fill=\"orange\" stroke=\"black\" points=\"700,-1275.5 611,-1275.5 611,-1245.5 700,-1245.5 700,-1275.5\"/>\n<text text-anchor=\"middle\" x=\"655.5\" y=\"-1263.5\" font-family=\"monospace\" font-size=\"10.00\">running_mean</text>\n<text text-anchor=\"middle\" x=\"655.5\" y=\"-1252.5\" font-family=\"monospace\" font-size=\"10.00\"> (128)</text>\n</g>\n<!-- 135088898087168&#45;&gt;135088898550384 -->\n<g id=\"edge66\" class=\"edge\">\n<title>135088898087168&#45;&gt;135088898550384</title>\n<path fill=\"none\" stroke=\"black\" d=\"M743.74,-1317.73C726.78,-1306.92 697.72,-1288.41 677.61,-1275.59\"/>\n</g>\n<!-- 135088898552544 -->\n<g id=\"node69\" class=\"node\">\n<title>135088898552544</title>\n<polygon fill=\"orange\" stroke=\"black\" points=\"801,-1275.5 718,-1275.5 718,-1245.5 801,-1245.5 801,-1275.5\"/>\n<text text-anchor=\"middle\" x=\"759.5\" y=\"-1263.5\" font-family=\"monospace\" font-size=\"10.00\">running_var</text>\n<text text-anchor=\"middle\" x=\"759.5\" y=\"-1252.5\" font-family=\"monospace\" font-size=\"10.00\"> (128)</text>\n</g>\n<!-- 135088898087168&#45;&gt;135088898552544 -->\n<g id=\"edge67\" class=\"edge\">\n<title>135088898087168&#45;&gt;135088898552544</title>\n<path fill=\"none\" stroke=\"black\" d=\"M757.77,-1317.73C758.1,-1306.92 758.67,-1288.41 759.07,-1275.59\"/>\n</g>\n<!-- 135088898550544 -->\n<g id=\"node70\" class=\"node\">\n<title>135088898550544</title>\n<polygon fill=\"lightblue\" stroke=\"black\" points=\"873.5,-1276 819.5,-1276 819.5,-1245 873.5,-1245 873.5,-1276\"/>\n<text text-anchor=\"middle\" x=\"846.5\" y=\"-1252\" font-family=\"monospace\" font-size=\"10.00\"> (128)</text>\n</g>\n<!-- 135088898087168&#45;&gt;135088898550544 -->\n<g id=\"edge68\" class=\"edge\">\n<title>135088898087168&#45;&gt;135088898550544</title>\n<path fill=\"none\" stroke=\"black\" d=\"M769.5,-1317.73C784.12,-1307.06 809.01,-1288.88 826.53,-1276.08\"/>\n</g>\n<!-- 135088898086784 -->\n<g id=\"node126\" class=\"node\">\n<title>135088898086784</title>\n<polygon fill=\"lightgrey\" stroke=\"black\" points=\"899,-1203 798,-1203 798,-1184 899,-1184 899,-1203\"/>\n<text text-anchor=\"middle\" x=\"848.5\" y=\"-1191\" font-family=\"monospace\" font-size=\"10.00\">AccumulateGrad</text>\n</g>\n<!-- 135088898550544&#45;&gt;135088898086784 -->\n<g id=\"edge132\" class=\"edge\">\n<title>135088898550544&#45;&gt;135088898086784</title>\n<path fill=\"none\" stroke=\"black\" d=\"M846.95,-1244.75C847.24,-1235.39 847.62,-1223.19 847.93,-1213.16\"/>\n<polygon fill=\"black\" stroke=\"black\" points=\"851.43,-1213.12 848.24,-1203.02 844.43,-1212.91 851.43,-1213.12\"/>\n</g>\n<!-- 135088898087120 -->\n<g id=\"node71\" class=\"node\">\n<title>135088898087120</title>\n<polygon fill=\"lightgrey\" stroke=\"black\" points=\"1079,-1403.5 942,-1403.5 942,-1384.5 1079,-1384.5 1079,-1403.5\"/>\n<text text-anchor=\"middle\" x=\"1010.5\" y=\"-1391.5\" font-family=\"monospace\" font-size=\"10.00\">ConvolutionBackward0</text>\n</g>\n<!-- 135088898087120&#45;&gt;135088898087168 -->\n<g id=\"edge69\" class=\"edge\">\n<title>135088898087120&#45;&gt;135088898087168</title>\n<path fill=\"none\" stroke=\"black\" d=\"M976.9,-1384.43C931.63,-1372.89 850.98,-1352.33 801.09,-1339.61\"/>\n<polygon fill=\"black\" stroke=\"black\" points=\"801.79,-1336.18 791.24,-1337.1 800.06,-1342.96 801.79,-1336.18\"/>\n</g>\n<!-- 135084843039888 -->\n<g id=\"node72\" class=\"node\">\n<title>135084843039888</title>\n<polygon fill=\"orange\" stroke=\"black\" points=\"1241,-1342.5 1122,-1342.5 1122,-1312.5 1241,-1312.5 1241,-1342.5\"/>\n<text text-anchor=\"middle\" x=\"1181.5\" y=\"-1330.5\" font-family=\"monospace\" font-size=\"10.00\">input</text>\n<text text-anchor=\"middle\" x=\"1181.5\" y=\"-1319.5\" font-family=\"monospace\" font-size=\"10.00\"> (1, 128, 16, 16)</text>\n</g>\n<!-- 135088898087120&#45;&gt;135084843039888 -->\n<g id=\"edge70\" class=\"edge\">\n<title>135088898087120&#45;&gt;135084843039888</title>\n<path fill=\"none\" stroke=\"black\" d=\"M1033.21,-1384.43C1061.55,-1373.74 1110.42,-1355.31 1144.27,-1342.54\"/>\n</g>\n<!-- 135088898554464 -->\n<g id=\"node73\" class=\"node\">\n<title>135088898554464</title>\n<polygon fill=\"lightblue\" stroke=\"black\" points=\"1065,-1343 946,-1343 946,-1312 1065,-1312 1065,-1343\"/>\n<text text-anchor=\"middle\" x=\"1005.5\" y=\"-1319\" font-family=\"monospace\" font-size=\"10.00\"> (128, 128, 3, 3)</text>\n</g>\n<!-- 135088898087120&#45;&gt;135088898554464 -->\n<g id=\"edge71\" class=\"edge\">\n<title>135088898087120&#45;&gt;135088898554464</title>\n<path fill=\"none\" stroke=\"black\" d=\"M1009.83,-1384.3C1009.02,-1373.85 1007.64,-1356.14 1006.66,-1343.47\"/>\n</g>\n<!-- 135088898081264 -->\n<g id=\"node125\" class=\"node\">\n<title>135088898081264</title>\n<polygon fill=\"lightgrey\" stroke=\"black\" points=\"1144,-1270 1043,-1270 1043,-1251 1144,-1251 1144,-1270\"/>\n<text text-anchor=\"middle\" x=\"1093.5\" y=\"-1258\" font-family=\"monospace\" font-size=\"10.00\">AccumulateGrad</text>\n</g>\n<!-- 135088898554464&#45;&gt;135088898081264 -->\n<g id=\"edge130\" class=\"edge\">\n<title>135088898554464&#45;&gt;135088898081264</title>\n<path fill=\"none\" stroke=\"black\" d=\"M1025.47,-1311.75C1039.91,-1301.08 1059.35,-1286.73 1073.74,-1276.09\"/>\n<polygon fill=\"black\" stroke=\"black\" points=\"1076,-1278.78 1081.97,-1270.02 1071.84,-1273.14 1076,-1278.78\"/>\n</g>\n<!-- 135088898090048 -->\n<g id=\"node74\" class=\"node\">\n<title>135088898090048</title>\n<polygon fill=\"lightgrey\" stroke=\"black\" points=\"1055,-1470 960,-1470 960,-1451 1055,-1451 1055,-1470\"/>\n<text text-anchor=\"middle\" x=\"1007.5\" y=\"-1458\" font-family=\"monospace\" font-size=\"10.00\">ReluBackward0</text>\n</g>\n<!-- 135088898090048&#45;&gt;135088898087120 -->\n<g id=\"edge72\" class=\"edge\">\n<title>135088898090048&#45;&gt;135088898087120</title>\n<path fill=\"none\" stroke=\"black\" d=\"M1007.9,-1450.8C1008.35,-1441.32 1009.06,-1425.88 1009.63,-1413.64\"/>\n<polygon fill=\"black\" stroke=\"black\" points=\"1013.13,-1413.71 1010.1,-1403.56 1006.14,-1413.39 1013.13,-1413.71\"/>\n</g>\n<!-- 135084833447808 -->\n<g id=\"node75\" class=\"node\">\n<title>135084833447808</title>\n<polygon fill=\"orange\" stroke=\"black\" points=\"1216,-1409 1097,-1409 1097,-1379 1216,-1379 1216,-1409\"/>\n<text text-anchor=\"middle\" x=\"1156.5\" y=\"-1397\" font-family=\"monospace\" font-size=\"10.00\">result</text>\n<text text-anchor=\"middle\" x=\"1156.5\" y=\"-1386\" font-family=\"monospace\" font-size=\"10.00\"> (1, 128, 16, 16)</text>\n</g>\n<!-- 135088898090048&#45;&gt;135084833447808 -->\n<g id=\"edge73\" class=\"edge\">\n<title>135088898090048&#45;&gt;135084833447808</title>\n<path fill=\"none\" stroke=\"black\" d=\"M1027.29,-1450.93C1051.98,-1440.24 1094.56,-1421.81 1124.06,-1409.04\"/>\n</g>\n<!-- 135088898082416 -->\n<g id=\"node76\" class=\"node\">\n<title>135088898082416</title>\n<polygon fill=\"lightgrey\" stroke=\"black\" points=\"957,-1537 796,-1537 796,-1518 957,-1518 957,-1537\"/>\n<text text-anchor=\"middle\" x=\"876.5\" y=\"-1525\" font-family=\"monospace\" font-size=\"10.00\">NativeBatchNormBackward0</text>\n</g>\n<!-- 135088898082416&#45;&gt;135088898090048 -->\n<g id=\"edge74\" class=\"edge\">\n<title>135088898082416&#45;&gt;135088898090048</title>\n<path fill=\"none\" stroke=\"black\" d=\"M893.9,-1517.87C916.11,-1506.84 954.79,-1487.66 980.76,-1474.77\"/>\n<polygon fill=\"black\" stroke=\"black\" points=\"982.63,-1477.75 990.03,-1470.17 979.52,-1471.48 982.63,-1477.75\"/>\n</g>\n<!-- 135084843030928 -->\n<g id=\"node77\" class=\"node\">\n<title>135084843030928</title>\n<polygon fill=\"orange\" stroke=\"black\" points=\"1192,-1475.5 1073,-1475.5 1073,-1445.5 1192,-1445.5 1192,-1475.5\"/>\n<text text-anchor=\"middle\" x=\"1132.5\" y=\"-1463.5\" font-family=\"monospace\" font-size=\"10.00\">input</text>\n<text text-anchor=\"middle\" x=\"1132.5\" y=\"-1452.5\" font-family=\"monospace\" font-size=\"10.00\"> (1, 128, 16, 16)</text>\n</g>\n<!-- 135088898082416&#45;&gt;135084843030928 -->\n<g id=\"edge75\" class=\"edge\">\n<title>135088898082416&#45;&gt;135084843030928</title>\n<path fill=\"none\" stroke=\"black\" d=\"M910.23,-1517.94C952.73,-1507.15 1026.33,-1488.46 1077.13,-1475.56\"/>\n</g>\n<!-- 135084833448608 -->\n<g id=\"node78\" class=\"node\">\n<title>135084833448608</title>\n<polygon fill=\"orange\" stroke=\"black\" points=\"546,-1475.5 487,-1475.5 487,-1445.5 546,-1445.5 546,-1475.5\"/>\n<text text-anchor=\"middle\" x=\"516.5\" y=\"-1463.5\" font-family=\"monospace\" font-size=\"10.00\">result1</text>\n<text text-anchor=\"middle\" x=\"516.5\" y=\"-1452.5\" font-family=\"monospace\" font-size=\"10.00\"> (0)</text>\n</g>\n<!-- 135088898082416&#45;&gt;135084833448608 -->\n<g id=\"edge76\" class=\"edge\">\n<title>135088898082416&#45;&gt;135084833448608</title>\n<path fill=\"none\" stroke=\"black\" d=\"M795.77,-1518.33C730.3,-1510.62 636,-1497.07 555.5,-1476 552.43,-1475.2 549.26,-1474.24 546.11,-1473.21\"/>\n</g>\n<!-- 135084833450128 -->\n<g id=\"node79\" class=\"node\">\n<title>135084833450128</title>\n<polygon fill=\"orange\" stroke=\"black\" points=\"623,-1475.5 564,-1475.5 564,-1445.5 623,-1445.5 623,-1475.5\"/>\n<text text-anchor=\"middle\" x=\"593.5\" y=\"-1463.5\" font-family=\"monospace\" font-size=\"10.00\">result2</text>\n<text text-anchor=\"middle\" x=\"593.5\" y=\"-1452.5\" font-family=\"monospace\" font-size=\"10.00\"> (0)</text>\n</g>\n<!-- 135088898082416&#45;&gt;135084833450128 -->\n<g id=\"edge77\" class=\"edge\">\n<title>135088898082416&#45;&gt;135084833450128</title>\n<path fill=\"none\" stroke=\"black\" d=\"M823.58,-1517.94C773.77,-1509.32 697.36,-1494.65 632.5,-1476 629.45,-1475.12 626.29,-1474.12 623.16,-1473.05\"/>\n</g>\n<!-- 135088898543984 -->\n<g id=\"node80\" class=\"node\">\n<title>135088898543984</title>\n<polygon fill=\"orange\" stroke=\"black\" points=\"730,-1475.5 641,-1475.5 641,-1445.5 730,-1445.5 730,-1475.5\"/>\n<text text-anchor=\"middle\" x=\"685.5\" y=\"-1463.5\" font-family=\"monospace\" font-size=\"10.00\">running_mean</text>\n<text text-anchor=\"middle\" x=\"685.5\" y=\"-1452.5\" font-family=\"monospace\" font-size=\"10.00\"> (128)</text>\n</g>\n<!-- 135088898082416&#45;&gt;135088898543984 -->\n<g id=\"edge78\" class=\"edge\">\n<title>135088898082416&#45;&gt;135088898543984</title>\n<path fill=\"none\" stroke=\"black\" d=\"M851.14,-1517.87C819.37,-1507.06 764.54,-1488.4 726.72,-1475.53\"/>\n</g>\n<!-- 135088898547424 -->\n<g id=\"node81\" class=\"node\">\n<title>135088898547424</title>\n<polygon fill=\"orange\" stroke=\"black\" points=\"831,-1475.5 748,-1475.5 748,-1445.5 831,-1445.5 831,-1475.5\"/>\n<text text-anchor=\"middle\" x=\"789.5\" y=\"-1463.5\" font-family=\"monospace\" font-size=\"10.00\">running_var</text>\n<text text-anchor=\"middle\" x=\"789.5\" y=\"-1452.5\" font-family=\"monospace\" font-size=\"10.00\"> (128)</text>\n</g>\n<!-- 135088898082416&#45;&gt;135088898547424 -->\n<g id=\"edge79\" class=\"edge\">\n<title>135088898082416&#45;&gt;135088898547424</title>\n<path fill=\"none\" stroke=\"black\" d=\"M864.77,-1517.73C850.3,-1506.92 825.51,-1488.41 808.36,-1475.59\"/>\n</g>\n<!-- 135088898545744 -->\n<g id=\"node82\" class=\"node\">\n<title>135088898545744</title>\n<polygon fill=\"lightblue\" stroke=\"black\" points=\"903.5,-1476 849.5,-1476 849.5,-1445 903.5,-1445 903.5,-1476\"/>\n<text text-anchor=\"middle\" x=\"876.5\" y=\"-1452\" font-family=\"monospace\" font-size=\"10.00\"> (128)</text>\n</g>\n<!-- 135088898082416&#45;&gt;135088898545744 -->\n<g id=\"edge80\" class=\"edge\">\n<title>135088898082416&#45;&gt;135088898545744</title>\n<path fill=\"none\" stroke=\"black\" d=\"M876.5,-1517.73C876.5,-1507.06 876.5,-1488.88 876.5,-1476.08\"/>\n</g>\n<!-- 135088898089520 -->\n<g id=\"node122\" class=\"node\">\n<title>135088898089520</title>\n<polygon fill=\"lightgrey\" stroke=\"black\" points=\"924,-1403.5 823,-1403.5 823,-1384.5 924,-1384.5 924,-1403.5\"/>\n<text text-anchor=\"middle\" x=\"873.5\" y=\"-1391.5\" font-family=\"monospace\" font-size=\"10.00\">AccumulateGrad</text>\n</g>\n<!-- 135088898545744&#45;&gt;135088898089520 -->\n<g id=\"edge126\" class=\"edge\">\n<title>135088898545744&#45;&gt;135088898089520</title>\n<path fill=\"none\" stroke=\"black\" d=\"M875.82,-1444.86C875.39,-1435.68 874.84,-1423.75 874.38,-1413.86\"/>\n<polygon fill=\"black\" stroke=\"black\" points=\"877.87,-1413.65 873.91,-1403.82 870.88,-1413.97 877.87,-1413.65\"/>\n</g>\n<!-- 135088898091968 -->\n<g id=\"node83\" class=\"node\">\n<title>135088898091968</title>\n<polygon fill=\"lightgrey\" stroke=\"black\" points=\"1172,-1603.5 1035,-1603.5 1035,-1584.5 1172,-1584.5 1172,-1603.5\"/>\n<text text-anchor=\"middle\" x=\"1103.5\" y=\"-1591.5\" font-family=\"monospace\" font-size=\"10.00\">ConvolutionBackward0</text>\n</g>\n<!-- 135088898091968&#45;&gt;135088898082416 -->\n<g id=\"edge81\" class=\"edge\">\n<title>135088898091968&#45;&gt;135088898082416</title>\n<path fill=\"none\" stroke=\"black\" d=\"M1073.36,-1584.43C1032.99,-1572.97 961.28,-1552.59 916.45,-1539.85\"/>\n<polygon fill=\"black\" stroke=\"black\" points=\"917.34,-1536.47 906.77,-1537.1 915.43,-1543.2 917.34,-1536.47\"/>\n</g>\n<!-- 135088898540704 -->\n<g id=\"node84\" class=\"node\">\n<title>135088898540704</title>\n<polygon fill=\"orange\" stroke=\"black\" points=\"1339,-1542.5 1220,-1542.5 1220,-1512.5 1339,-1512.5 1339,-1542.5\"/>\n<text text-anchor=\"middle\" x=\"1279.5\" y=\"-1530.5\" font-family=\"monospace\" font-size=\"10.00\">input</text>\n<text text-anchor=\"middle\" x=\"1279.5\" y=\"-1519.5\" font-family=\"monospace\" font-size=\"10.00\"> (1, 128, 16, 16)</text>\n</g>\n<!-- 135088898091968&#45;&gt;135088898540704 -->\n<g id=\"edge82\" class=\"edge\">\n<title>135088898091968&#45;&gt;135088898540704</title>\n<path fill=\"none\" stroke=\"black\" d=\"M1126.87,-1584.43C1156.05,-1573.74 1206.34,-1555.31 1241.18,-1542.54\"/>\n</g>\n<!-- 135088898545824 -->\n<g id=\"node85\" class=\"node\">\n<title>135088898545824</title>\n<polygon fill=\"lightblue\" stroke=\"black\" points=\"1163,-1543 1044,-1543 1044,-1512 1163,-1512 1163,-1543\"/>\n<text text-anchor=\"middle\" x=\"1103.5\" y=\"-1519\" font-family=\"monospace\" font-size=\"10.00\"> (128, 128, 3, 3)</text>\n</g>\n<!-- 135088898091968&#45;&gt;135088898545824 -->\n<g id=\"edge83\" class=\"edge\">\n<title>135088898091968&#45;&gt;135088898545824</title>\n<path fill=\"none\" stroke=\"black\" d=\"M1103.5,-1584.3C1103.5,-1573.85 1103.5,-1556.14 1103.5,-1543.47\"/>\n</g>\n<!-- 135088898093024 -->\n<g id=\"node121\" class=\"node\">\n<title>135088898093024</title>\n<polygon fill=\"lightgrey\" stroke=\"black\" points=\"1311,-1470 1210,-1470 1210,-1451 1311,-1451 1311,-1470\"/>\n<text text-anchor=\"middle\" x=\"1260.5\" y=\"-1458\" font-family=\"monospace\" font-size=\"10.00\">AccumulateGrad</text>\n</g>\n<!-- 135088898545824&#45;&gt;135088898093024 -->\n<g id=\"edge124\" class=\"edge\">\n<title>135088898545824&#45;&gt;135088898093024</title>\n<path fill=\"none\" stroke=\"black\" d=\"M1138.73,-1511.91C1166.31,-1500.5 1204.25,-1484.79 1230.41,-1473.96\"/>\n<polygon fill=\"black\" stroke=\"black\" points=\"1231.92,-1477.12 1239.82,-1470.06 1229.24,-1470.65 1231.92,-1477.12\"/>\n</g>\n<!-- 135088898085776 -->\n<g id=\"node86\" class=\"node\">\n<title>135088898085776</title>\n<polygon fill=\"lightgrey\" stroke=\"black\" points=\"1413,-1670 1222,-1670 1222,-1651 1413,-1651 1413,-1670\"/>\n<text text-anchor=\"middle\" x=\"1317.5\" y=\"-1658\" font-family=\"monospace\" font-size=\"10.00\">MaxPool2DWithIndicesBackward0</text>\n</g>\n<!-- 135088898085776&#45;&gt;135088898082320 -->\n<g id=\"edge135\" class=\"edge\">\n<title>135088898085776&#45;&gt;135088898082320</title>\n<path fill=\"none\" stroke=\"black\" d=\"M1377.15,-1650.93C1404.64,-1644 1435.52,-1631.52 1455.5,-1609 1479.9,-1581.51 1474.5,-1565.26 1474.5,-1528.5 1474.5,-1528.5 1474.5,-1528.5 1474.5,-1326.5 1474.5,-1260.33 1261.93,-1218.63 1159.03,-1202.33\"/>\n<polygon fill=\"black\" stroke=\"black\" points=\"1159.55,-1198.86 1149.13,-1200.78 1158.47,-1205.78 1159.55,-1198.86\"/>\n</g>\n<!-- 135088898085776&#45;&gt;135088898091968 -->\n<g id=\"edge84\" class=\"edge\">\n<title>135088898085776&#45;&gt;135088898091968</title>\n<path fill=\"none\" stroke=\"black\" d=\"M1289.08,-1650.93C1251.19,-1639.51 1183.99,-1619.26 1141.7,-1606.51\"/>\n<polygon fill=\"black\" stroke=\"black\" points=\"1142.62,-1603.14 1132.04,-1603.6 1140.6,-1609.84 1142.62,-1603.14\"/>\n</g>\n<!-- 135084833444608 -->\n<g id=\"node87\" class=\"node\">\n<title>135084833444608</title>\n<polygon fill=\"orange\" stroke=\"black\" points=\"1309,-1609 1190,-1609 1190,-1579 1309,-1579 1309,-1609\"/>\n<text text-anchor=\"middle\" x=\"1249.5\" y=\"-1597\" font-family=\"monospace\" font-size=\"10.00\">result1</text>\n<text text-anchor=\"middle\" x=\"1249.5\" y=\"-1586\" font-family=\"monospace\" font-size=\"10.00\"> (1, 128, 16, 16)</text>\n</g>\n<!-- 135088898085776&#45;&gt;135084833444608 -->\n<g id=\"edge85\" class=\"edge\">\n<title>135088898085776&#45;&gt;135084833444608</title>\n<path fill=\"none\" stroke=\"black\" d=\"M1308.33,-1650.8C1297.09,-1640.14 1277.9,-1621.93 1264.5,-1609.23\"/>\n</g>\n<!-- 135084843034128 -->\n<g id=\"node88\" class=\"node\">\n<title>135084843034128</title>\n<polygon fill=\"orange\" stroke=\"black\" points=\"1446,-1609 1327,-1609 1327,-1579 1446,-1579 1446,-1609\"/>\n<text text-anchor=\"middle\" x=\"1386.5\" y=\"-1597\" font-family=\"monospace\" font-size=\"10.00\">self</text>\n<text text-anchor=\"middle\" x=\"1386.5\" y=\"-1586\" font-family=\"monospace\" font-size=\"10.00\"> (1, 128, 32, 32)</text>\n</g>\n<!-- 135088898085776&#45;&gt;135084843034128 -->\n<g id=\"edge86\" class=\"edge\">\n<title>135088898085776&#45;&gt;135084843034128</title>\n<path fill=\"none\" stroke=\"black\" d=\"M1326.81,-1650.8C1338.21,-1640.14 1357.69,-1621.93 1371.28,-1609.23\"/>\n</g>\n<!-- 135088898083520 -->\n<g id=\"node89\" class=\"node\">\n<title>135088898083520</title>\n<polygon fill=\"lightgrey\" stroke=\"black\" points=\"1365,-1737 1270,-1737 1270,-1718 1365,-1718 1365,-1737\"/>\n<text text-anchor=\"middle\" x=\"1317.5\" y=\"-1725\" font-family=\"monospace\" font-size=\"10.00\">ReluBackward0</text>\n</g>\n<!-- 135088898083520&#45;&gt;135088898085776 -->\n<g id=\"edge87\" class=\"edge\">\n<title>135088898083520&#45;&gt;135088898085776</title>\n<path fill=\"none\" stroke=\"black\" d=\"M1317.5,-1717.73C1317.5,-1708.18 1317.5,-1692.62 1317.5,-1680.28\"/>\n<polygon fill=\"black\" stroke=\"black\" points=\"1321,-1680.13 1317.5,-1670.13 1314,-1680.13 1321,-1680.13\"/>\n</g>\n<!-- 135084833451408 -->\n<g id=\"node90\" class=\"node\">\n<title>135084833451408</title>\n<polygon fill=\"orange\" stroke=\"black\" points=\"1550,-1675.5 1431,-1675.5 1431,-1645.5 1550,-1645.5 1550,-1675.5\"/>\n<text text-anchor=\"middle\" x=\"1490.5\" y=\"-1663.5\" font-family=\"monospace\" font-size=\"10.00\">result</text>\n<text text-anchor=\"middle\" x=\"1490.5\" y=\"-1652.5\" font-family=\"monospace\" font-size=\"10.00\"> (1, 128, 32, 32)</text>\n</g>\n<!-- 135088898083520&#45;&gt;135084833451408 -->\n<g id=\"edge88\" class=\"edge\">\n<title>135088898083520&#45;&gt;135084833451408</title>\n<path fill=\"none\" stroke=\"black\" d=\"M1340.47,-1717.87C1369.24,-1707.06 1418.9,-1688.4 1453.16,-1675.53\"/>\n</g>\n<!-- 135088898091248 -->\n<g id=\"node91\" class=\"node\">\n<title>135088898091248</title>\n<polygon fill=\"lightgrey\" stroke=\"black\" points=\"1095,-1804 934,-1804 934,-1785 1095,-1785 1095,-1804\"/>\n<text text-anchor=\"middle\" x=\"1014.5\" y=\"-1792\" font-family=\"monospace\" font-size=\"10.00\">NativeBatchNormBackward0</text>\n</g>\n<!-- 135088898091248&#45;&gt;135088898083520 -->\n<g id=\"edge89\" class=\"edge\">\n<title>135088898091248&#45;&gt;135088898083520</title>\n<path fill=\"none\" stroke=\"black\" d=\"M1054.42,-1784.94C1109.26,-1773.17 1207.87,-1752.02 1267.54,-1739.22\"/>\n<polygon fill=\"black\" stroke=\"black\" points=\"1268.44,-1742.6 1277.49,-1737.08 1266.98,-1735.76 1268.44,-1742.6\"/>\n</g>\n<!-- 135084843028848 -->\n<g id=\"node92\" class=\"node\">\n<title>135084843028848</title>\n<polygon fill=\"orange\" stroke=\"black\" points=\"746,-1742.5 627,-1742.5 627,-1712.5 746,-1712.5 746,-1742.5\"/>\n<text text-anchor=\"middle\" x=\"686.5\" y=\"-1730.5\" font-family=\"monospace\" font-size=\"10.00\">input</text>\n<text text-anchor=\"middle\" x=\"686.5\" y=\"-1719.5\" font-family=\"monospace\" font-size=\"10.00\"> (1, 128, 32, 32)</text>\n</g>\n<!-- 135088898091248&#45;&gt;135084843028848 -->\n<g id=\"edge90\" class=\"edge\">\n<title>135088898091248&#45;&gt;135084843028848</title>\n<path fill=\"none\" stroke=\"black\" d=\"M969.54,-1784.94C917.85,-1775.05 830.48,-1758.19 755.5,-1743 752.5,-1742.39 749.43,-1741.77 746.33,-1741.13\"/>\n</g>\n<!-- 135084833443728 -->\n<g id=\"node93\" class=\"node\">\n<title>135084833443728</title>\n<polygon fill=\"orange\" stroke=\"black\" points=\"823,-1742.5 764,-1742.5 764,-1712.5 823,-1712.5 823,-1742.5\"/>\n<text text-anchor=\"middle\" x=\"793.5\" y=\"-1730.5\" font-family=\"monospace\" font-size=\"10.00\">result1</text>\n<text text-anchor=\"middle\" x=\"793.5\" y=\"-1719.5\" font-family=\"monospace\" font-size=\"10.00\"> (0)</text>\n</g>\n<!-- 135088898091248&#45;&gt;135084833443728 -->\n<g id=\"edge91\" class=\"edge\">\n<title>135088898091248&#45;&gt;135084833443728</title>\n<path fill=\"none\" stroke=\"black\" d=\"M980.36,-1784.96C943.6,-1775.54 883.5,-1759.52 832.5,-1743 829.48,-1742.02 826.34,-1740.95 823.22,-1739.85\"/>\n</g>\n<!-- 135084833444048 -->\n<g id=\"node94\" class=\"node\">\n<title>135084833444048</title>\n<polygon fill=\"orange\" stroke=\"black\" points=\"900,-1742.5 841,-1742.5 841,-1712.5 900,-1712.5 900,-1742.5\"/>\n<text text-anchor=\"middle\" x=\"870.5\" y=\"-1730.5\" font-family=\"monospace\" font-size=\"10.00\">result2</text>\n<text text-anchor=\"middle\" x=\"870.5\" y=\"-1719.5\" font-family=\"monospace\" font-size=\"10.00\"> (0)</text>\n</g>\n<!-- 135088898091248&#45;&gt;135084833444048 -->\n<g id=\"edge92\" class=\"edge\">\n<title>135088898091248&#45;&gt;135084833444048</title>\n<path fill=\"none\" stroke=\"black\" d=\"M995.38,-1784.87C971.05,-1773.89 928.77,-1754.8 900.22,-1741.92\"/>\n</g>\n<!-- 135088898555104 -->\n<g id=\"node95\" class=\"node\">\n<title>135088898555104</title>\n<polygon fill=\"orange\" stroke=\"black\" points=\"1007,-1742.5 918,-1742.5 918,-1712.5 1007,-1712.5 1007,-1742.5\"/>\n<text text-anchor=\"middle\" x=\"962.5\" y=\"-1730.5\" font-family=\"monospace\" font-size=\"10.00\">running_mean</text>\n<text text-anchor=\"middle\" x=\"962.5\" y=\"-1719.5\" font-family=\"monospace\" font-size=\"10.00\"> (128)</text>\n</g>\n<!-- 135088898091248&#45;&gt;135088898555104 -->\n<g id=\"edge93\" class=\"edge\">\n<title>135088898091248&#45;&gt;135088898555104</title>\n<path fill=\"none\" stroke=\"black\" d=\"M1007.49,-1784.73C998.84,-1773.92 984.02,-1755.41 973.77,-1742.59\"/>\n</g>\n<!-- 135088898542064 -->\n<g id=\"node96\" class=\"node\">\n<title>135088898542064</title>\n<polygon fill=\"orange\" stroke=\"black\" points=\"1108,-1742.5 1025,-1742.5 1025,-1712.5 1108,-1712.5 1108,-1742.5\"/>\n<text text-anchor=\"middle\" x=\"1066.5\" y=\"-1730.5\" font-family=\"monospace\" font-size=\"10.00\">running_var</text>\n<text text-anchor=\"middle\" x=\"1066.5\" y=\"-1719.5\" font-family=\"monospace\" font-size=\"10.00\"> (128)</text>\n</g>\n<!-- 135088898091248&#45;&gt;135088898542064 -->\n<g id=\"edge94\" class=\"edge\">\n<title>135088898091248&#45;&gt;135088898542064</title>\n<path fill=\"none\" stroke=\"black\" d=\"M1021.51,-1784.73C1030.16,-1773.92 1044.98,-1755.41 1055.23,-1742.59\"/>\n</g>\n<!-- 135088898543184 -->\n<g id=\"node97\" class=\"node\">\n<title>135088898543184</title>\n<polygon fill=\"lightblue\" stroke=\"black\" points=\"1180.5,-1743 1126.5,-1743 1126.5,-1712 1180.5,-1712 1180.5,-1743\"/>\n<text text-anchor=\"middle\" x=\"1153.5\" y=\"-1719\" font-family=\"monospace\" font-size=\"10.00\"> (128)</text>\n</g>\n<!-- 135088898091248&#45;&gt;135088898543184 -->\n<g id=\"edge95\" class=\"edge\">\n<title>135088898091248&#45;&gt;135088898543184</title>\n<path fill=\"none\" stroke=\"black\" d=\"M1032.96,-1784.87C1056.89,-1773.68 1098.8,-1754.08 1126.36,-1741.19\"/>\n</g>\n<!-- 135088898086304 -->\n<g id=\"node118\" class=\"node\">\n<title>135088898086304</title>\n<polygon fill=\"lightgrey\" stroke=\"black\" points=\"1204,-1670 1103,-1670 1103,-1651 1204,-1651 1204,-1670\"/>\n<text text-anchor=\"middle\" x=\"1153.5\" y=\"-1658\" font-family=\"monospace\" font-size=\"10.00\">AccumulateGrad</text>\n</g>\n<!-- 135088898543184&#45;&gt;135088898086304 -->\n<g id=\"edge120\" class=\"edge\">\n<title>135088898543184&#45;&gt;135088898086304</title>\n<path fill=\"none\" stroke=\"black\" d=\"M1153.5,-1711.75C1153.5,-1702.39 1153.5,-1690.19 1153.5,-1680.16\"/>\n<polygon fill=\"black\" stroke=\"black\" points=\"1157,-1680.02 1153.5,-1670.02 1150,-1680.02 1157,-1680.02\"/>\n</g>\n<!-- 135088898083424 -->\n<g id=\"node98\" class=\"node\">\n<title>135088898083424</title>\n<polygon fill=\"lightgrey\" stroke=\"black\" points=\"1547,-1870.5 1410,-1870.5 1410,-1851.5 1547,-1851.5 1547,-1870.5\"/>\n<text text-anchor=\"middle\" x=\"1478.5\" y=\"-1858.5\" font-family=\"monospace\" font-size=\"10.00\">ConvolutionBackward0</text>\n</g>\n<!-- 135088898083424&#45;&gt;135088898091248 -->\n<g id=\"edge96\" class=\"edge\">\n<title>135088898083424&#45;&gt;135088898091248</title>\n<path fill=\"none\" stroke=\"black\" d=\"M1433.78,-1851.48C1423.21,-1849.57 1411.97,-1847.63 1401.5,-1846 1297.55,-1829.78 1177.32,-1814.66 1098.81,-1805.27\"/>\n<polygon fill=\"black\" stroke=\"black\" points=\"1098.83,-1801.75 1088.49,-1804.04 1098,-1808.7 1098.83,-1801.75\"/>\n</g>\n<!-- 135084843035168 -->\n<g id=\"node99\" class=\"node\">\n<title>135084843035168</title>\n<polygon fill=\"orange\" stroke=\"black\" points=\"1620,-1809.5 1507,-1809.5 1507,-1779.5 1620,-1779.5 1620,-1809.5\"/>\n<text text-anchor=\"middle\" x=\"1563.5\" y=\"-1797.5\" font-family=\"monospace\" font-size=\"10.00\">input</text>\n<text text-anchor=\"middle\" x=\"1563.5\" y=\"-1786.5\" font-family=\"monospace\" font-size=\"10.00\"> (1, 64, 32, 32)</text>\n</g>\n<!-- 135088898083424&#45;&gt;135084843035168 -->\n<g id=\"edge97\" class=\"edge\">\n<title>135088898083424&#45;&gt;135084843035168</title>\n<path fill=\"none\" stroke=\"black\" d=\"M1489.96,-1851.3C1504.01,-1840.64 1528.01,-1822.43 1544.75,-1809.73\"/>\n</g>\n<!-- 135088898543264 -->\n<g id=\"node100\" class=\"node\">\n<title>135088898543264</title>\n<polygon fill=\"lightblue\" stroke=\"black\" points=\"1450,-1810 1337,-1810 1337,-1779 1450,-1779 1450,-1810\"/>\n<text text-anchor=\"middle\" x=\"1393.5\" y=\"-1786\" font-family=\"monospace\" font-size=\"10.00\"> (128, 64, 3, 3)</text>\n</g>\n<!-- 135088898083424&#45;&gt;135088898543264 -->\n<g id=\"edge98\" class=\"edge\">\n<title>135088898083424&#45;&gt;135088898543264</title>\n<path fill=\"none\" stroke=\"black\" d=\"M1467.04,-1851.3C1453.17,-1840.78 1429.61,-1822.9 1412.9,-1810.22\"/>\n</g>\n<!-- 135088898090432 -->\n<g id=\"node117\" class=\"node\">\n<title>135088898090432</title>\n<polygon fill=\"lightgrey\" stroke=\"black\" points=\"1486,-1737 1385,-1737 1385,-1718 1486,-1718 1486,-1737\"/>\n<text text-anchor=\"middle\" x=\"1435.5\" y=\"-1725\" font-family=\"monospace\" font-size=\"10.00\">AccumulateGrad</text>\n</g>\n<!-- 135088898543264&#45;&gt;135088898090432 -->\n<g id=\"edge118\" class=\"edge\">\n<title>135088898543264&#45;&gt;135088898090432</title>\n<path fill=\"none\" stroke=\"black\" d=\"M1403.03,-1778.75C1409.4,-1768.89 1417.81,-1755.87 1424.48,-1745.56\"/>\n<polygon fill=\"black\" stroke=\"black\" points=\"1427.51,-1747.32 1430,-1737.02 1421.63,-1743.52 1427.51,-1747.32\"/>\n</g>\n<!-- 135088898081888 -->\n<g id=\"node101\" class=\"node\">\n<title>135088898081888</title>\n<polygon fill=\"lightgrey\" stroke=\"black\" points=\"1526,-1937 1431,-1937 1431,-1918 1526,-1918 1526,-1937\"/>\n<text text-anchor=\"middle\" x=\"1478.5\" y=\"-1925\" font-family=\"monospace\" font-size=\"10.00\">ReluBackward0</text>\n</g>\n<!-- 135088898081888&#45;&gt;135088898083424 -->\n<g id=\"edge99\" class=\"edge\">\n<title>135088898081888&#45;&gt;135088898083424</title>\n<path fill=\"none\" stroke=\"black\" d=\"M1478.5,-1917.8C1478.5,-1908.32 1478.5,-1892.88 1478.5,-1880.64\"/>\n<polygon fill=\"black\" stroke=\"black\" points=\"1482,-1880.56 1478.5,-1870.56 1475,-1880.56 1482,-1880.56\"/>\n</g>\n<!-- 135084833454128 -->\n<g id=\"node102\" class=\"node\">\n<title>135084833454128</title>\n<polygon fill=\"orange\" stroke=\"black\" points=\"1678,-1876 1565,-1876 1565,-1846 1678,-1846 1678,-1876\"/>\n<text text-anchor=\"middle\" x=\"1621.5\" y=\"-1864\" font-family=\"monospace\" font-size=\"10.00\">result</text>\n<text text-anchor=\"middle\" x=\"1621.5\" y=\"-1853\" font-family=\"monospace\" font-size=\"10.00\"> (1, 64, 32, 32)</text>\n</g>\n<!-- 135088898081888&#45;&gt;135084833454128 -->\n<g id=\"edge100\" class=\"edge\">\n<title>135088898081888&#45;&gt;135084833454128</title>\n<path fill=\"none\" stroke=\"black\" d=\"M1497.49,-1917.93C1521.19,-1907.24 1562.06,-1888.81 1590.37,-1876.04\"/>\n</g>\n<!-- 135088898083232 -->\n<g id=\"node103\" class=\"node\">\n<title>135088898083232</title>\n<polygon fill=\"lightgrey\" stroke=\"black\" points=\"1428,-2004 1267,-2004 1267,-1985 1428,-1985 1428,-2004\"/>\n<text text-anchor=\"middle\" x=\"1347.5\" y=\"-1992\" font-family=\"monospace\" font-size=\"10.00\">NativeBatchNormBackward0</text>\n</g>\n<!-- 135088898083232&#45;&gt;135088898081888 -->\n<g id=\"edge101\" class=\"edge\">\n<title>135088898083232&#45;&gt;135088898081888</title>\n<path fill=\"none\" stroke=\"black\" d=\"M1364.9,-1984.87C1387.11,-1973.84 1425.79,-1954.66 1451.76,-1941.77\"/>\n<polygon fill=\"black\" stroke=\"black\" points=\"1453.63,-1944.75 1461.03,-1937.17 1450.52,-1938.48 1453.63,-1944.75\"/>\n</g>\n<!-- 135084843030208 -->\n<g id=\"node104\" class=\"node\">\n<title>135084843030208</title>\n<polygon fill=\"orange\" stroke=\"black\" points=\"1657,-1942.5 1544,-1942.5 1544,-1912.5 1657,-1912.5 1657,-1942.5\"/>\n<text text-anchor=\"middle\" x=\"1600.5\" y=\"-1930.5\" font-family=\"monospace\" font-size=\"10.00\">input</text>\n<text text-anchor=\"middle\" x=\"1600.5\" y=\"-1919.5\" font-family=\"monospace\" font-size=\"10.00\"> (1, 64, 32, 32)</text>\n</g>\n<!-- 135088898083232&#45;&gt;135084843030208 -->\n<g id=\"edge102\" class=\"edge\">\n<title>135088898083232&#45;&gt;135084843030208</title>\n<path fill=\"none\" stroke=\"black\" d=\"M1380.84,-1984.94C1422.83,-1974.15 1495.58,-1955.46 1545.78,-1942.56\"/>\n</g>\n<!-- 135084833451728 -->\n<g id=\"node105\" class=\"node\">\n<title>135084833451728</title>\n<polygon fill=\"orange\" stroke=\"black\" points=\"1017,-1942.5 958,-1942.5 958,-1912.5 1017,-1912.5 1017,-1942.5\"/>\n<text text-anchor=\"middle\" x=\"987.5\" y=\"-1930.5\" font-family=\"monospace\" font-size=\"10.00\">result1</text>\n<text text-anchor=\"middle\" x=\"987.5\" y=\"-1919.5\" font-family=\"monospace\" font-size=\"10.00\"> (0)</text>\n</g>\n<!-- 135088898083232&#45;&gt;135084833451728 -->\n<g id=\"edge103\" class=\"edge\">\n<title>135088898083232&#45;&gt;135084833451728</title>\n<path fill=\"none\" stroke=\"black\" d=\"M1266.77,-1985.33C1201.3,-1977.62 1107,-1964.07 1026.5,-1943 1023.43,-1942.2 1020.26,-1941.24 1017.11,-1940.21\"/>\n</g>\n<!-- 135084833455888 -->\n<g id=\"node106\" class=\"node\">\n<title>135084833455888</title>\n<polygon fill=\"orange\" stroke=\"black\" points=\"1094,-1942.5 1035,-1942.5 1035,-1912.5 1094,-1912.5 1094,-1942.5\"/>\n<text text-anchor=\"middle\" x=\"1064.5\" y=\"-1930.5\" font-family=\"monospace\" font-size=\"10.00\">result2</text>\n<text text-anchor=\"middle\" x=\"1064.5\" y=\"-1919.5\" font-family=\"monospace\" font-size=\"10.00\"> (0)</text>\n</g>\n<!-- 135088898083232&#45;&gt;135084833455888 -->\n<g id=\"edge104\" class=\"edge\">\n<title>135088898083232&#45;&gt;135084833455888</title>\n<path fill=\"none\" stroke=\"black\" d=\"M1294.58,-1984.94C1244.77,-1976.32 1168.36,-1961.65 1103.5,-1943 1100.45,-1942.12 1097.29,-1941.12 1094.16,-1940.05\"/>\n</g>\n<!-- 135088898837376 -->\n<g id=\"node107\" class=\"node\">\n<title>135088898837376</title>\n<polygon fill=\"orange\" stroke=\"black\" points=\"1201,-1942.5 1112,-1942.5 1112,-1912.5 1201,-1912.5 1201,-1942.5\"/>\n<text text-anchor=\"middle\" x=\"1156.5\" y=\"-1930.5\" font-family=\"monospace\" font-size=\"10.00\">running_mean</text>\n<text text-anchor=\"middle\" x=\"1156.5\" y=\"-1919.5\" font-family=\"monospace\" font-size=\"10.00\"> (64)</text>\n</g>\n<!-- 135088898083232&#45;&gt;135088898837376 -->\n<g id=\"edge105\" class=\"edge\">\n<title>135088898083232&#45;&gt;135088898837376</title>\n<path fill=\"none\" stroke=\"black\" d=\"M1322.14,-1984.87C1290.37,-1974.06 1235.54,-1955.4 1197.72,-1942.53\"/>\n</g>\n<!-- 135088898553984 -->\n<g id=\"node108\" class=\"node\">\n<title>135088898553984</title>\n<polygon fill=\"orange\" stroke=\"black\" points=\"1302,-1942.5 1219,-1942.5 1219,-1912.5 1302,-1912.5 1302,-1942.5\"/>\n<text text-anchor=\"middle\" x=\"1260.5\" y=\"-1930.5\" font-family=\"monospace\" font-size=\"10.00\">running_var</text>\n<text text-anchor=\"middle\" x=\"1260.5\" y=\"-1919.5\" font-family=\"monospace\" font-size=\"10.00\"> (64)</text>\n</g>\n<!-- 135088898083232&#45;&gt;135088898553984 -->\n<g id=\"edge106\" class=\"edge\">\n<title>135088898083232&#45;&gt;135088898553984</title>\n<path fill=\"none\" stroke=\"black\" d=\"M1335.77,-1984.73C1321.3,-1973.92 1296.51,-1955.41 1279.36,-1942.59\"/>\n</g>\n<!-- 135088898753696 -->\n<g id=\"node109\" class=\"node\">\n<title>135088898753696</title>\n<polygon fill=\"lightblue\" stroke=\"black\" points=\"1374.5,-1943 1320.5,-1943 1320.5,-1912 1374.5,-1912 1374.5,-1943\"/>\n<text text-anchor=\"middle\" x=\"1347.5\" y=\"-1919\" font-family=\"monospace\" font-size=\"10.00\"> (64)</text>\n</g>\n<!-- 135088898083232&#45;&gt;135088898753696 -->\n<g id=\"edge107\" class=\"edge\">\n<title>135088898083232&#45;&gt;135088898753696</title>\n<path fill=\"none\" stroke=\"black\" d=\"M1347.5,-1984.73C1347.5,-1974.06 1347.5,-1955.88 1347.5,-1943.08\"/>\n</g>\n<!-- 135088898086832 -->\n<g id=\"node114\" class=\"node\">\n<title>135088898086832</title>\n<polygon fill=\"lightgrey\" stroke=\"black\" points=\"1392,-1870.5 1291,-1870.5 1291,-1851.5 1392,-1851.5 1392,-1870.5\"/>\n<text text-anchor=\"middle\" x=\"1341.5\" y=\"-1858.5\" font-family=\"monospace\" font-size=\"10.00\">AccumulateGrad</text>\n</g>\n<!-- 135088898753696&#45;&gt;135088898086832 -->\n<g id=\"edge114\" class=\"edge\">\n<title>135088898753696&#45;&gt;135088898086832</title>\n<path fill=\"none\" stroke=\"black\" d=\"M1346.14,-1911.86C1345.28,-1902.68 1344.17,-1890.75 1343.25,-1880.86\"/>\n<polygon fill=\"black\" stroke=\"black\" points=\"1346.73,-1880.46 1342.32,-1870.82 1339.76,-1881.1 1346.73,-1880.46\"/>\n</g>\n<!-- 135088898083184 -->\n<g id=\"node110\" class=\"node\">\n<title>135088898083184</title>\n<polygon fill=\"lightgrey\" stroke=\"black\" points=\"1754,-2065 1617,-2065 1617,-2046 1754,-2046 1754,-2065\"/>\n<text text-anchor=\"middle\" x=\"1685.5\" y=\"-2053\" font-family=\"monospace\" font-size=\"10.00\">ConvolutionBackward0</text>\n</g>\n<!-- 135088898083184&#45;&gt;135088898083232 -->\n<g id=\"edge108\" class=\"edge\">\n<title>135088898083184&#45;&gt;135088898083232</title>\n<path fill=\"none\" stroke=\"black\" d=\"M1636.71,-2045.98C1575.8,-2035.35 1471.7,-2017.18 1406.41,-2005.78\"/>\n<polygon fill=\"black\" stroke=\"black\" points=\"1406.73,-2002.29 1396.27,-2004.01 1405.52,-2009.18 1406.73,-2002.29\"/>\n</g>\n<!-- 135088898839456 -->\n<g id=\"node111\" class=\"node\">\n<title>135088898839456</title>\n<polygon fill=\"orange\" stroke=\"black\" points=\"1861,-2009.5 1754,-2009.5 1754,-1979.5 1861,-1979.5 1861,-2009.5\"/>\n<text text-anchor=\"middle\" x=\"1807.5\" y=\"-1997.5\" font-family=\"monospace\" font-size=\"10.00\">input</text>\n<text text-anchor=\"middle\" x=\"1807.5\" y=\"-1986.5\" font-family=\"monospace\" font-size=\"10.00\"> (1, 3, 32, 32)</text>\n</g>\n<!-- 135088898083184&#45;&gt;135088898839456 -->\n<g id=\"edge109\" class=\"edge\">\n<title>135088898083184&#45;&gt;135088898839456</title>\n<path fill=\"none\" stroke=\"black\" d=\"M1703.24,-2045.92C1722.93,-2036.4 1755.02,-2020.88 1778.41,-2009.57\"/>\n</g>\n<!-- 135088898553904 -->\n<g id=\"node112\" class=\"node\">\n<title>135088898553904</title>\n<polygon fill=\"lightblue\" stroke=\"black\" points=\"1697,-2010 1596,-2010 1596,-1979 1697,-1979 1697,-2010\"/>\n<text text-anchor=\"middle\" x=\"1646.5\" y=\"-1986\" font-family=\"monospace\" font-size=\"10.00\"> (64, 3, 3, 3)</text>\n</g>\n<!-- 135088898083184&#45;&gt;135088898553904 -->\n<g id=\"edge110\" class=\"edge\">\n<title>135088898083184&#45;&gt;135088898553904</title>\n<path fill=\"none\" stroke=\"black\" d=\"M1679.75,-2045.79C1673.56,-2036.43 1663.62,-2021.39 1656.21,-2010.19\"/>\n</g>\n<!-- 135088898081360 -->\n<g id=\"node113\" class=\"node\">\n<title>135088898081360</title>\n<polygon fill=\"lightgrey\" stroke=\"black\" points=\"1776,-1937 1675,-1937 1675,-1918 1776,-1918 1776,-1937\"/>\n<text text-anchor=\"middle\" x=\"1725.5\" y=\"-1925\" font-family=\"monospace\" font-size=\"10.00\">AccumulateGrad</text>\n</g>\n<!-- 135088898553904&#45;&gt;135088898081360 -->\n<g id=\"edge112\" class=\"edge\">\n<title>135088898553904&#45;&gt;135088898081360</title>\n<path fill=\"none\" stroke=\"black\" d=\"M1664.43,-1978.75C1677.27,-1968.18 1694.51,-1954 1707.4,-1943.39\"/>\n<polygon fill=\"black\" stroke=\"black\" points=\"1709.65,-1946.07 1715.15,-1937.02 1705.2,-1940.67 1709.65,-1946.07\"/>\n</g>\n<!-- 135088898081360&#45;&gt;135088898083184 -->\n<g id=\"edge111\" class=\"edge\">\n<title>135088898081360&#45;&gt;135088898083184</title>\n<path fill=\"none\" stroke=\"black\" d=\"M1724.09,-1937.24C1721.52,-1952.34 1715.48,-1984.2 1706.5,-2010 1703.34,-2019.08 1698.9,-2028.77 1694.92,-2036.78\"/>\n<polygon fill=\"black\" stroke=\"black\" points=\"1691.71,-2035.37 1690.25,-2045.87 1697.94,-2038.57 1691.71,-2035.37\"/>\n</g>\n<!-- 135088898086832&#45;&gt;135088898083232 -->\n<g id=\"edge113\" class=\"edge\">\n<title>135088898086832&#45;&gt;135088898083232</title>\n<path fill=\"none\" stroke=\"black\" d=\"M1352.17,-1870.63C1362.44,-1879.69 1377.29,-1894.96 1383.5,-1912 1388.22,-1924.95 1387.7,-1929.88 1383.5,-1943 1379.43,-1955.72 1370.85,-1967.97 1363.09,-1977.22\"/>\n<polygon fill=\"black\" stroke=\"black\" points=\"1360.38,-1975 1356.35,-1984.79 1365.61,-1979.65 1360.38,-1975\"/>\n</g>\n<!-- 135088898087648 -->\n<g id=\"node115\" class=\"node\">\n<title>135088898087648</title>\n<polygon fill=\"lightgrey\" stroke=\"black\" points=\"1398,-2065 1297,-2065 1297,-2046 1398,-2046 1398,-2065\"/>\n<text text-anchor=\"middle\" x=\"1347.5\" y=\"-2053\" font-family=\"monospace\" font-size=\"10.00\">AccumulateGrad</text>\n</g>\n<!-- 135088898087648&#45;&gt;135088898083232 -->\n<g id=\"edge115\" class=\"edge\">\n<title>135088898087648&#45;&gt;135088898083232</title>\n<path fill=\"none\" stroke=\"black\" d=\"M1347.5,-2045.79C1347.5,-2037.6 1347.5,-2025.06 1347.5,-2014.55\"/>\n<polygon fill=\"black\" stroke=\"black\" points=\"1351,-2014.24 1347.5,-2004.24 1344,-2014.24 1351,-2014.24\"/>\n</g>\n<!-- 135088898543024 -->\n<g id=\"node116\" class=\"node\">\n<title>135088898543024</title>\n<polygon fill=\"lightblue\" stroke=\"black\" points=\"1374.5,-2132 1320.5,-2132 1320.5,-2101 1374.5,-2101 1374.5,-2132\"/>\n<text text-anchor=\"middle\" x=\"1347.5\" y=\"-2108\" font-family=\"monospace\" font-size=\"10.00\"> (64)</text>\n</g>\n<!-- 135088898543024&#45;&gt;135088898087648 -->\n<g id=\"edge116\" class=\"edge\">\n<title>135088898543024&#45;&gt;135088898087648</title>\n<path fill=\"none\" stroke=\"black\" d=\"M1347.5,-2100.92C1347.5,-2093.22 1347.5,-2083.69 1347.5,-2075.43\"/>\n<polygon fill=\"black\" stroke=\"black\" points=\"1351,-2075.25 1347.5,-2065.25 1344,-2075.25 1351,-2075.25\"/>\n</g>\n<!-- 135088898090432&#45;&gt;135088898083424 -->\n<g id=\"edge117\" class=\"edge\">\n<title>135088898090432&#45;&gt;135088898083424</title>\n<path fill=\"none\" stroke=\"black\" d=\"M1440.34,-1737.2C1445.66,-1747.07 1454.17,-1763.79 1459.5,-1779 1466.8,-1799.82 1472.15,-1824.63 1475.28,-1841.26\"/>\n<polygon fill=\"black\" stroke=\"black\" points=\"1471.87,-1842.09 1477.09,-1851.32 1478.76,-1840.85 1471.87,-1842.09\"/>\n</g>\n<!-- 135088898086304&#45;&gt;135088898091248 -->\n<g id=\"edge119\" class=\"edge\">\n<title>135088898086304&#45;&gt;135088898091248</title>\n<path fill=\"none\" stroke=\"black\" d=\"M1162.72,-1670.03C1178.48,-1685.64 1207.26,-1719.39 1189.5,-1743 1176.01,-1760.93 1123.68,-1774.51 1079.73,-1783.04\"/>\n<polygon fill=\"black\" stroke=\"black\" points=\"1078.81,-1779.65 1069.63,-1784.94 1080.1,-1786.53 1078.81,-1779.65\"/>\n</g>\n<!-- 135088898086400 -->\n<g id=\"node119\" class=\"node\">\n<title>135088898086400</title>\n<polygon fill=\"lightgrey\" stroke=\"black\" points=\"1060,-1870.5 959,-1870.5 959,-1851.5 1060,-1851.5 1060,-1870.5\"/>\n<text text-anchor=\"middle\" x=\"1009.5\" y=\"-1858.5\" font-family=\"monospace\" font-size=\"10.00\">AccumulateGrad</text>\n</g>\n<!-- 135088898086400&#45;&gt;135088898091248 -->\n<g id=\"edge121\" class=\"edge\">\n<title>135088898086400&#45;&gt;135088898091248</title>\n<path fill=\"none\" stroke=\"black\" d=\"M1010.17,-1851.3C1010.91,-1841.82 1012.11,-1826.38 1013.06,-1814.14\"/>\n<polygon fill=\"black\" stroke=\"black\" points=\"1016.55,-1814.3 1013.84,-1804.06 1009.57,-1813.76 1016.55,-1814.3\"/>\n</g>\n<!-- 135088898543824 -->\n<g id=\"node120\" class=\"node\">\n<title>135088898543824</title>\n<polygon fill=\"lightblue\" stroke=\"black\" points=\"939.5,-1943 885.5,-1943 885.5,-1912 939.5,-1912 939.5,-1943\"/>\n<text text-anchor=\"middle\" x=\"912.5\" y=\"-1919\" font-family=\"monospace\" font-size=\"10.00\"> (128)</text>\n</g>\n<!-- 135088898543824&#45;&gt;135088898086400 -->\n<g id=\"edge122\" class=\"edge\">\n<title>135088898543824&#45;&gt;135088898086400</title>\n<path fill=\"none\" stroke=\"black\" d=\"M934.51,-1911.86C950.49,-1901.24 972.01,-1886.93 987.89,-1876.37\"/>\n<polygon fill=\"black\" stroke=\"black\" points=\"990.12,-1879.09 996.51,-1870.64 986.25,-1873.26 990.12,-1879.09\"/>\n</g>\n<!-- 135088898093024&#45;&gt;135088898091968 -->\n<g id=\"edge123\" class=\"edge\">\n<title>135088898093024&#45;&gt;135088898091968</title>\n<path fill=\"none\" stroke=\"black\" d=\"M1251.58,-1470.44C1236.04,-1485.86 1202.77,-1518.17 1172.5,-1543 1157.02,-1555.7 1138.62,-1568.95 1124.72,-1578.61\"/>\n<polygon fill=\"black\" stroke=\"black\" points=\"1122.56,-1575.85 1116.3,-1584.41 1126.53,-1581.62 1122.56,-1575.85\"/>\n</g>\n<!-- 135088898089520&#45;&gt;135088898082416 -->\n<g id=\"edge125\" class=\"edge\">\n<title>135088898089520&#45;&gt;135088898082416</title>\n<path fill=\"none\" stroke=\"black\" d=\"M883.42,-1403.79C892.97,-1412.98 906.77,-1428.34 912.5,-1445 916.98,-1458.03 916.7,-1462.88 912.5,-1476 908.43,-1488.72 899.85,-1500.97 892.09,-1510.22\"/>\n<polygon fill=\"black\" stroke=\"black\" points=\"889.38,-1508 885.35,-1517.79 894.61,-1512.65 889.38,-1508\"/>\n</g>\n<!-- 135088898086448 -->\n<g id=\"node123\" class=\"node\">\n<title>135088898086448</title>\n<polygon fill=\"lightgrey\" stroke=\"black\" points=\"927,-1603.5 826,-1603.5 826,-1584.5 927,-1584.5 927,-1603.5\"/>\n<text text-anchor=\"middle\" x=\"876.5\" y=\"-1591.5\" font-family=\"monospace\" font-size=\"10.00\">AccumulateGrad</text>\n</g>\n<!-- 135088898086448&#45;&gt;135088898082416 -->\n<g id=\"edge127\" class=\"edge\">\n<title>135088898086448&#45;&gt;135088898082416</title>\n<path fill=\"none\" stroke=\"black\" d=\"M876.5,-1584.3C876.5,-1574.82 876.5,-1559.38 876.5,-1547.14\"/>\n<polygon fill=\"black\" stroke=\"black\" points=\"880,-1547.06 876.5,-1537.06 873,-1547.06 880,-1547.06\"/>\n</g>\n<!-- 135088898547184 -->\n<g id=\"node124\" class=\"node\">\n<title>135088898547184</title>\n<polygon fill=\"lightblue\" stroke=\"black\" points=\"903.5,-1676 849.5,-1676 849.5,-1645 903.5,-1645 903.5,-1676\"/>\n<text text-anchor=\"middle\" x=\"876.5\" y=\"-1652\" font-family=\"monospace\" font-size=\"10.00\"> (128)</text>\n</g>\n<!-- 135088898547184&#45;&gt;135088898086448 -->\n<g id=\"edge128\" class=\"edge\">\n<title>135088898547184&#45;&gt;135088898086448</title>\n<path fill=\"none\" stroke=\"black\" d=\"M876.5,-1644.86C876.5,-1635.68 876.5,-1623.75 876.5,-1613.86\"/>\n<polygon fill=\"black\" stroke=\"black\" points=\"880,-1613.82 876.5,-1603.82 873,-1613.82 880,-1613.82\"/>\n</g>\n<!-- 135088898081264&#45;&gt;135088898087120 -->\n<g id=\"edge129\" class=\"edge\">\n<title>135088898081264&#45;&gt;135088898087120</title>\n<path fill=\"none\" stroke=\"black\" d=\"M1093.34,-1270.07C1092.66,-1285.76 1089.44,-1319.61 1074.5,-1343 1064.94,-1357.97 1049.3,-1370.31 1035.87,-1378.98\"/>\n<polygon fill=\"black\" stroke=\"black\" points=\"1033.74,-1376.19 1027.03,-1384.39 1037.39,-1382.16 1033.74,-1376.19\"/>\n</g>\n<!-- 135088898086784&#45;&gt;135088898087168 -->\n<g id=\"edge131\" class=\"edge\">\n<title>135088898086784&#45;&gt;135088898087168</title>\n<path fill=\"none\" stroke=\"black\" d=\"M857.36,-1203.14C872.17,-1218.65 898.79,-1251.85 882.5,-1276 869.22,-1295.69 846.82,-1307.71 824.63,-1315.04\"/>\n<polygon fill=\"black\" stroke=\"black\" points=\"823.38,-1311.76 814.82,-1317.99 825.4,-1318.46 823.38,-1311.76\"/>\n</g>\n<!-- 135088898084240 -->\n<g id=\"node127\" class=\"node\">\n<title>135088898084240</title>\n<polygon fill=\"lightgrey\" stroke=\"black\" points=\"647,-1403.5 546,-1403.5 546,-1384.5 647,-1384.5 647,-1403.5\"/>\n<text text-anchor=\"middle\" x=\"596.5\" y=\"-1391.5\" font-family=\"monospace\" font-size=\"10.00\">AccumulateGrad</text>\n</g>\n<!-- 135088898084240&#45;&gt;135088898087168 -->\n<g id=\"edge133\" class=\"edge\">\n<title>135088898084240&#45;&gt;135088898087168</title>\n<path fill=\"none\" stroke=\"black\" d=\"M617.88,-1384.43C645.79,-1373.25 694.82,-1353.61 726.72,-1340.83\"/>\n<polygon fill=\"black\" stroke=\"black\" points=\"728.05,-1344.07 736.03,-1337.1 725.45,-1337.57 728.05,-1344.07\"/>\n</g>\n<!-- 135088898550624 -->\n<g id=\"node128\" class=\"node\">\n<title>135088898550624</title>\n<polygon fill=\"lightblue\" stroke=\"black\" points=\"468.5,-1476 414.5,-1476 414.5,-1445 468.5,-1445 468.5,-1476\"/>\n<text text-anchor=\"middle\" x=\"441.5\" y=\"-1452\" font-family=\"monospace\" font-size=\"10.00\"> (128)</text>\n</g>\n<!-- 135088898550624&#45;&gt;135088898084240 -->\n<g id=\"edge134\" class=\"edge\">\n<title>135088898550624&#45;&gt;135088898084240</title>\n<path fill=\"none\" stroke=\"black\" d=\"M468.85,-1448.12C496.22,-1436.73 538.2,-1419.26 566.48,-1407.49\"/>\n<polygon fill=\"black\" stroke=\"black\" points=\"567.97,-1410.66 575.86,-1403.59 565.28,-1404.2 567.97,-1410.66\"/>\n</g>\n<!-- 135088898082032&#45;&gt;135088898084096 -->\n<g id=\"edge136\" class=\"edge\">\n<title>135088898082032&#45;&gt;135088898084096</title>\n<path fill=\"none\" stroke=\"black\" d=\"M1105.43,-1014.22C1105.27,-1034.42 1104.87,-1084.81 1104.65,-1112.51\"/>\n<polygon fill=\"black\" stroke=\"black\" points=\"1101.15,-1112.81 1104.57,-1122.84 1108.15,-1112.87 1101.15,-1112.81\"/>\n</g>\n<!-- 135088898084336&#45;&gt;135088898084048 -->\n<g id=\"edge138\" class=\"edge\">\n<title>135088898084336&#45;&gt;135088898084048</title>\n<path fill=\"none\" stroke=\"black\" d=\"M837.07,-947.05C853.09,-962.4 882.02,-995.36 865.5,-1020 852.34,-1039.62 830.04,-1051.63 808.02,-1058.97\"/>\n<polygon fill=\"black\" stroke=\"black\" points=\"806.83,-1055.67 798.29,-1061.93 808.87,-1062.37 806.83,-1055.67\"/>\n</g>\n<!-- 135088898085968 -->\n<g id=\"node131\" class=\"node\">\n<title>135088898085968</title>\n<polygon fill=\"lightgrey\" stroke=\"black\" points=\"793,-1142 692,-1142 692,-1123 793,-1123 793,-1142\"/>\n<text text-anchor=\"middle\" x=\"742.5\" y=\"-1130\" font-family=\"monospace\" font-size=\"10.00\">AccumulateGrad</text>\n</g>\n<!-- 135088898085968&#45;&gt;135088898084048 -->\n<g id=\"edge140\" class=\"edge\">\n<title>135088898085968&#45;&gt;135088898084048</title>\n<path fill=\"none\" stroke=\"black\" d=\"M742.5,-1122.79C742.5,-1114.6 742.5,-1102.06 742.5,-1091.55\"/>\n<polygon fill=\"black\" stroke=\"black\" points=\"746,-1091.24 742.5,-1081.24 739,-1091.24 746,-1091.24\"/>\n</g>\n<!-- 135088898553024 -->\n<g id=\"node132\" class=\"node\">\n<title>135088898553024</title>\n<polygon fill=\"lightblue\" stroke=\"black\" points=\"769.5,-1209 715.5,-1209 715.5,-1178 769.5,-1178 769.5,-1209\"/>\n<text text-anchor=\"middle\" x=\"742.5\" y=\"-1185\" font-family=\"monospace\" font-size=\"10.00\"> (256)</text>\n</g>\n<!-- 135088898553024&#45;&gt;135088898085968 -->\n<g id=\"edge141\" class=\"edge\">\n<title>135088898553024&#45;&gt;135088898085968</title>\n<path fill=\"none\" stroke=\"black\" d=\"M742.5,-1177.92C742.5,-1170.22 742.5,-1160.69 742.5,-1152.43\"/>\n<polygon fill=\"black\" stroke=\"black\" points=\"746,-1152.25 742.5,-1142.25 739,-1152.25 746,-1152.25\"/>\n</g>\n<!-- 135088898082608&#45;&gt;135088898081504 -->\n<g id=\"edge142\" class=\"edge\">\n<title>135088898082608&#45;&gt;135088898081504</title>\n<path fill=\"none\" stroke=\"black\" d=\"M1130.84,-747.33C1131.64,-768.44 1133.68,-822.17 1134.78,-851.02\"/>\n<polygon fill=\"black\" stroke=\"black\" points=\"1131.29,-851.51 1135.17,-861.37 1138.29,-851.25 1131.29,-851.51\"/>\n</g>\n<!-- 135088898085584&#45;&gt;135088898085920 -->\n<g id=\"edge144\" class=\"edge\">\n<title>135088898085584&#45;&gt;135088898085920</title>\n<path fill=\"none\" stroke=\"black\" d=\"M851.74,-680.11C867.2,-695.58 895.03,-728.7 878.5,-753 865.04,-772.79 842.5,-784.82 820.07,-792.14\"/>\n<polygon fill=\"black\" stroke=\"black\" points=\"819.07,-788.79 810.48,-795 821.07,-795.49 819.07,-788.79\"/>\n</g>\n<!-- 135088898084000 -->\n<g id=\"node135\" class=\"node\">\n<title>135088898084000</title>\n<polygon fill=\"lightgrey\" stroke=\"black\" points=\"785,-880.5 684,-880.5 684,-861.5 785,-861.5 785,-880.5\"/>\n<text text-anchor=\"middle\" x=\"734.5\" y=\"-868.5\" font-family=\"monospace\" font-size=\"10.00\">AccumulateGrad</text>\n</g>\n<!-- 135088898084000&#45;&gt;135088898085920 -->\n<g id=\"edge146\" class=\"edge\">\n<title>135088898084000&#45;&gt;135088898085920</title>\n<path fill=\"none\" stroke=\"black\" d=\"M736.66,-861.3C739.01,-851.82 742.84,-836.38 745.88,-824.14\"/>\n<polygon fill=\"black\" stroke=\"black\" points=\"749.37,-824.61 748.38,-814.06 742.57,-822.92 749.37,-824.61\"/>\n</g>\n<!-- 135088899744736 -->\n<g id=\"node136\" class=\"node\">\n<title>135088899744736</title>\n<polygon fill=\"lightblue\" stroke=\"black\" points=\"758.5,-953 704.5,-953 704.5,-922 758.5,-922 758.5,-953\"/>\n<text text-anchor=\"middle\" x=\"731.5\" y=\"-929\" font-family=\"monospace\" font-size=\"10.00\"> (512)</text>\n</g>\n<!-- 135088899744736&#45;&gt;135088898084000 -->\n<g id=\"edge147\" class=\"edge\">\n<title>135088899744736&#45;&gt;135088898084000</title>\n<path fill=\"none\" stroke=\"black\" d=\"M732.18,-921.86C732.61,-912.68 733.16,-900.75 733.62,-890.86\"/>\n<polygon fill=\"black\" stroke=\"black\" points=\"737.12,-890.97 734.09,-880.82 730.13,-890.65 737.12,-890.97\"/>\n</g>\n<!-- 135088898081312&#45;&gt;135088898085680 -->\n<g id=\"edge148\" class=\"edge\">\n<title>135088898081312&#45;&gt;135088898085680</title>\n<path fill=\"none\" stroke=\"black\" d=\"M947.75,-480.03C933.65,-495.37 902.55,-528.3 873.5,-553 858.34,-565.89 840.06,-579.04 826.12,-588.62\"/>\n<polygon fill=\"black\" stroke=\"black\" points=\"823.98,-585.85 817.67,-594.36 827.91,-591.64 823.98,-585.85\"/>\n</g>\n<!-- 135088898082128&#45;&gt;135088898082080 -->\n<g id=\"edge150\" class=\"edge\">\n<title>135088898082128&#45;&gt;135088898082080</title>\n<path fill=\"none\" stroke=\"black\" d=\"M590.42,-413.79C599.97,-422.98 613.77,-438.34 619.5,-455 623.98,-468.03 623.7,-472.88 619.5,-486 615.43,-498.72 606.85,-510.97 599.09,-520.22\"/>\n<polygon fill=\"black\" stroke=\"black\" points=\"596.38,-518 592.35,-527.79 601.61,-522.65 596.38,-518\"/>\n</g>\n<!-- 135088898080880 -->\n<g id=\"node139\" class=\"node\">\n<title>135088898080880</title>\n<polygon fill=\"lightgrey\" stroke=\"black\" points=\"634,-613.5 533,-613.5 533,-594.5 634,-594.5 634,-613.5\"/>\n<text text-anchor=\"middle\" x=\"583.5\" y=\"-601.5\" font-family=\"monospace\" font-size=\"10.00\">AccumulateGrad</text>\n</g>\n<!-- 135088898080880&#45;&gt;135088898082080 -->\n<g id=\"edge152\" class=\"edge\">\n<title>135088898080880&#45;&gt;135088898082080</title>\n<path fill=\"none\" stroke=\"black\" d=\"M583.5,-594.3C583.5,-584.82 583.5,-569.38 583.5,-557.14\"/>\n<polygon fill=\"black\" stroke=\"black\" points=\"587,-557.06 583.5,-547.06 580,-557.06 587,-557.06\"/>\n</g>\n<!-- 135088899576656 -->\n<g id=\"node140\" class=\"node\">\n<title>135088899576656</title>\n<polygon fill=\"lightblue\" stroke=\"black\" points=\"610.5,-686 556.5,-686 556.5,-655 610.5,-655 610.5,-686\"/>\n<text text-anchor=\"middle\" x=\"583.5\" y=\"-662\" font-family=\"monospace\" font-size=\"10.00\"> (512)</text>\n</g>\n<!-- 135088899576656&#45;&gt;135088898080880 -->\n<g id=\"edge153\" class=\"edge\">\n<title>135088899576656&#45;&gt;135088898080880</title>\n<path fill=\"none\" stroke=\"black\" d=\"M583.5,-654.86C583.5,-645.68 583.5,-633.75 583.5,-623.86\"/>\n<polygon fill=\"black\" stroke=\"black\" points=\"587,-623.82 583.5,-613.82 580,-623.82 587,-623.82\"/>\n</g>\n<!-- 135088898088032&#45;&gt;135088898083952 -->\n<g id=\"edge154\" class=\"edge\">\n<title>135088898088032&#45;&gt;135088898083952</title>\n<path fill=\"none\" stroke=\"black\" d=\"M760.15,-280.26C757.67,-295.4 751.77,-327.31 742.5,-353 738.44,-364.25 732.5,-376.25 727.43,-385.67\"/>\n<polygon fill=\"black\" stroke=\"black\" points=\"724.36,-383.98 722.57,-394.42 730.48,-387.38 724.36,-383.98\"/>\n</g>\n<!-- 135088898080832&#45;&gt;135088898081744 -->\n<g id=\"edge156\" class=\"edge\">\n<title>135088898080832&#45;&gt;135088898081744</title>\n<path fill=\"none\" stroke=\"black\" d=\"M527.82,-213.57C542.02,-229.24 567.79,-263.02 550.5,-286 537.01,-303.93 484.68,-317.51 440.73,-326.04\"/>\n<polygon fill=\"black\" stroke=\"black\" points=\"439.81,-322.65 430.63,-327.94 441.1,-329.53 439.81,-322.65\"/>\n</g>\n<!-- 135088898083376 -->\n<g id=\"node143\" class=\"node\">\n<title>135088898083376</title>\n<polygon fill=\"lightgrey\" stroke=\"black\" points=\"310,-413.5 209,-413.5 209,-394.5 310,-394.5 310,-413.5\"/>\n<text text-anchor=\"middle\" x=\"259.5\" y=\"-401.5\" font-family=\"monospace\" font-size=\"10.00\">AccumulateGrad</text>\n</g>\n<!-- 135088898083376&#45;&gt;135088898081744 -->\n<g id=\"edge158\" class=\"edge\">\n<title>135088898083376&#45;&gt;135088898081744</title>\n<path fill=\"none\" stroke=\"black\" d=\"M275.14,-394.3C294.71,-383.42 328.42,-364.68 351.32,-351.95\"/>\n<polygon fill=\"black\" stroke=\"black\" points=\"353.06,-354.98 360.1,-347.06 349.66,-348.86 353.06,-354.98\"/>\n</g>\n<!-- 135084843025888 -->\n<g id=\"node144\" class=\"node\">\n<title>135084843025888</title>\n<polygon fill=\"lightblue\" stroke=\"black\" points=\"175.5,-486 121.5,-486 121.5,-455 175.5,-455 175.5,-486\"/>\n<text text-anchor=\"middle\" x=\"148.5\" y=\"-462\" font-family=\"monospace\" font-size=\"10.00\"> (512)</text>\n</g>\n<!-- 135084843025888&#45;&gt;135088898083376 -->\n<g id=\"edge159\" class=\"edge\">\n<title>135084843025888&#45;&gt;135088898083376</title>\n<path fill=\"none\" stroke=\"black\" d=\"M173.69,-454.86C192.32,-444.04 217.52,-429.4 235.79,-418.78\"/>\n<polygon fill=\"black\" stroke=\"black\" points=\"237.75,-421.69 244.64,-413.64 234.23,-415.64 237.75,-421.69\"/>\n</g>\n<!-- 135088899258976&#45;&gt;135084833452688 -->\n<g id=\"edge163\" class=\"edge\">\n<title>135088899258976&#45;&gt;135084833452688</title>\n<path fill=\"none\" stroke=\"black\" stroke-dasharray=\"1,5\" d=\"M878.89,-66.75C871.21,-58.44 861.48,-47.9 852.91,-38.61\"/>\n<polygon fill=\"black\" stroke=\"black\" points=\"855.42,-36.17 846.06,-31.19 850.27,-40.91 855.42,-36.17\"/>\n</g>\n</g>\n</svg>\n",
            "text/plain": [
              "<graphviz.graphs.Digraph at 0x7adcd5c889d0>"
            ]
          },
          "metadata": {},
          "execution_count": 38
        }
      ]
    },
    {
      "cell_type": "markdown",
      "source": [
        "## Training"
      ],
      "metadata": {
        "id": "uiDNSZ6HqPQ4"
      }
    },
    {
      "cell_type": "code",
      "source": [
        "model = Net().to(device)"
      ],
      "metadata": {
        "id": "CfTTgd_zqfpX"
      },
      "execution_count": 168,
      "outputs": []
    },
    {
      "cell_type": "code",
      "source": [
        "import torch.optim as optim"
      ],
      "metadata": {
        "id": "4J9i_cYaqYXR"
      },
      "execution_count": 169,
      "outputs": []
    },
    {
      "cell_type": "code",
      "source": [
        "labels = {0: 'airplane',\n",
        "          1: 'automobile',\n",
        "          2: 'bird',\n",
        "          3: 'cat',\n",
        "          4: 'deer',\n",
        "          5: 'dog',\n",
        "          6: 'frog',\n",
        "          7: 'horse',\n",
        "          8: 'ship',\n",
        "          9: 'truck'}"
      ],
      "metadata": {
        "id": "ZlMOi9qKmU-1"
      },
      "execution_count": 170,
      "outputs": []
    },
    {
      "cell_type": "code",
      "source": [
        "num_epochs = 60\n",
        "momentum = 0.9\n",
        "max_lr = 1E-03\n",
        "regularization = None\n",
        "epochs_up = 20\n",
        "base_momentum = 0.85\n",
        "div_factor = 100\n",
        "\n",
        "steps_per_epoch = len(train_dataloader)\n",
        "total_steps = num_epochs * steps_per_epoch\n",
        "pct_start = epochs_up / num_epochs"
      ],
      "metadata": {
        "id": "rk3MsP-FhZ4E"
      },
      "execution_count": 171,
      "outputs": []
    },
    {
      "cell_type": "code",
      "source": [
        "optimizer = optim.Adam(model.parameters(), lr=0.1)\n",
        "# scheduler = optim.lr_scheduler.StepLR(optimizer, step_size=6, gamma=0.1, verbose=True)\n",
        "scheduler = optim.lr_scheduler.OneCycleLR(optimizer,\n",
        "                                          max_lr=max_lr,\n",
        "                                          total_steps=total_steps,\n",
        "                                          epochs=num_epochs,\n",
        "                                          steps_per_epoch=steps_per_epoch,\n",
        "                                          pct_start=pct_start,\n",
        "                                          anneal_strategy='linear',\n",
        "                                          cycle_momentum=True,\n",
        "                                          base_momentum=base_momentum,\n",
        "                                          max_momentum=momentum,\n",
        "                                          div_factor=div_factor,\n",
        "                                          verbose=False)"
      ],
      "metadata": {
        "id": "i9-H6GcshK3b"
      },
      "execution_count": 172,
      "outputs": []
    },
    {
      "cell_type": "code",
      "source": [
        "metrics = { 'train_acc': [], 'train_losses': [],\n",
        "            'test_acc': [], 'test_losses': [] }\n",
        "\n",
        "for epoch in range(1, num_epochs + 1):\n",
        "    print(f'Epoch {epoch}')\n",
        "    U.train(model, device, train_dataloader, optimizer, metrics, scheduler)\n",
        "    U.test(model, device, test_dataloader, metrics, None, get_misclassified=(epoch == num_epochs))\n",
        "    # break\n",
        "    # scheduler.step()"
      ],
      "metadata": {
        "colab": {
          "base_uri": "https://localhost:8080/"
        },
        "id": "ImTShnt7ZuBq",
        "outputId": "1e3e724a-99a7-4f8d-bc71-3c0043b2300e"
      },
      "execution_count": 173,
      "outputs": [
        {
          "output_type": "stream",
          "name": "stdout",
          "text": [
            "Epoch 1\n"
          ]
        },
        {
          "output_type": "stream",
          "name": "stderr",
          "text": [
            "Train: Loss=1.9506 Batch_id=97 Accuracy=25.10: 100%|██████████| 98/98 [00:21<00:00,  4.63it/s]\n"
          ]
        },
        {
          "output_type": "stream",
          "name": "stdout",
          "text": [
            "              precision    recall  f1-score   support\n",
            "\n",
            "           0       0.45      0.61      0.52      1000\n",
            "           1       0.63      0.52      0.57      1000\n",
            "           2       0.43      0.23      0.30      1000\n",
            "           3       0.30      0.30      0.30      1000\n",
            "           4       0.38      0.35      0.37      1000\n",
            "           5       0.34      0.44      0.38      1000\n",
            "           6       0.52      0.55      0.53      1000\n",
            "           7       0.40      0.59      0.48      1000\n",
            "           8       0.57      0.46      0.51      1000\n",
            "           9       0.58      0.42      0.49      1000\n",
            "\n",
            "    accuracy                           0.45     10000\n",
            "   macro avg       0.46      0.45      0.44     10000\n",
            "weighted avg       0.46      0.45      0.44     10000\n",
            "\n",
            "Test set: Average loss: 1.9074, Accuracy: 4469/10000 (44.69%)\n",
            "\n",
            "Epoch 2\n"
          ]
        },
        {
          "output_type": "stream",
          "name": "stderr",
          "text": [
            "Train: Loss=1.6276 Batch_id=97 Accuracy=43.75: 100%|██████████| 98/98 [00:21<00:00,  4.56it/s]\n"
          ]
        },
        {
          "output_type": "stream",
          "name": "stdout",
          "text": [
            "              precision    recall  f1-score   support\n",
            "\n",
            "           0       0.64      0.60      0.62      1000\n",
            "           1       0.72      0.68      0.70      1000\n",
            "           2       0.43      0.47      0.45      1000\n",
            "           3       0.43      0.28      0.34      1000\n",
            "           4       0.47      0.39      0.43      1000\n",
            "           5       0.48      0.42      0.45      1000\n",
            "           6       0.61      0.70      0.66      1000\n",
            "           7       0.52      0.71      0.60      1000\n",
            "           8       0.65      0.69      0.67      1000\n",
            "           9       0.61      0.67      0.64      1000\n",
            "\n",
            "    accuracy                           0.56     10000\n",
            "   macro avg       0.56      0.56      0.55     10000\n",
            "weighted avg       0.56      0.56      0.55     10000\n",
            "\n",
            "Test set: Average loss: 1.3822, Accuracy: 5614/10000 (56.14%)\n",
            "\n",
            "Epoch 3\n"
          ]
        },
        {
          "output_type": "stream",
          "name": "stderr",
          "text": [
            "Train: Loss=1.4347 Batch_id=97 Accuracy=51.21: 100%|██████████| 98/98 [00:21<00:00,  4.64it/s]\n"
          ]
        },
        {
          "output_type": "stream",
          "name": "stdout",
          "text": [
            "              precision    recall  f1-score   support\n",
            "\n",
            "           0       0.65      0.68      0.66      1000\n",
            "           1       0.60      0.86      0.71      1000\n",
            "           2       0.42      0.56      0.48      1000\n",
            "           3       0.44      0.34      0.38      1000\n",
            "           4       0.59      0.40      0.48      1000\n",
            "           5       0.55      0.35      0.43      1000\n",
            "           6       0.62      0.77      0.68      1000\n",
            "           7       0.73      0.63      0.67      1000\n",
            "           8       0.65      0.80      0.72      1000\n",
            "           9       0.72      0.58      0.64      1000\n",
            "\n",
            "    accuracy                           0.60     10000\n",
            "   macro avg       0.60      0.60      0.59     10000\n",
            "weighted avg       0.60      0.60      0.59     10000\n",
            "\n",
            "Test set: Average loss: 1.2276, Accuracy: 5953/10000 (59.53%)\n",
            "\n",
            "Epoch 4\n"
          ]
        },
        {
          "output_type": "stream",
          "name": "stderr",
          "text": [
            "Train: Loss=1.0378 Batch_id=97 Accuracy=56.10: 100%|██████████| 98/98 [00:21<00:00,  4.65it/s]\n"
          ]
        },
        {
          "output_type": "stream",
          "name": "stdout",
          "text": [
            "              precision    recall  f1-score   support\n",
            "\n",
            "           0       0.73      0.64      0.68      1000\n",
            "           1       0.65      0.84      0.74      1000\n",
            "           2       0.40      0.65      0.49      1000\n",
            "           3       0.49      0.30      0.37      1000\n",
            "           4       0.78      0.28      0.42      1000\n",
            "           5       0.66      0.42      0.51      1000\n",
            "           6       0.56      0.86      0.68      1000\n",
            "           7       0.74      0.68      0.71      1000\n",
            "           8       0.84      0.64      0.72      1000\n",
            "           9       0.61      0.84      0.70      1000\n",
            "\n",
            "    accuracy                           0.61     10000\n",
            "   macro avg       0.65      0.61      0.60     10000\n",
            "weighted avg       0.65      0.61      0.60     10000\n",
            "\n",
            "Test set: Average loss: 1.1671, Accuracy: 6148/10000 (61.48%)\n",
            "\n",
            "Epoch 5\n"
          ]
        },
        {
          "output_type": "stream",
          "name": "stderr",
          "text": [
            "Train: Loss=1.1221 Batch_id=97 Accuracy=60.08: 100%|██████████| 98/98 [00:21<00:00,  4.63it/s]\n"
          ]
        },
        {
          "output_type": "stream",
          "name": "stdout",
          "text": [
            "              precision    recall  f1-score   support\n",
            "\n",
            "           0       0.79      0.62      0.70      1000\n",
            "           1       0.84      0.78      0.81      1000\n",
            "           2       0.63      0.50      0.56      1000\n",
            "           3       0.36      0.69      0.47      1000\n",
            "           4       0.67      0.59      0.63      1000\n",
            "           5       0.49      0.57      0.53      1000\n",
            "           6       0.82      0.61      0.70      1000\n",
            "           7       0.86      0.60      0.71      1000\n",
            "           8       0.80      0.75      0.78      1000\n",
            "           9       0.72      0.83      0.77      1000\n",
            "\n",
            "    accuracy                           0.65     10000\n",
            "   macro avg       0.70      0.65      0.66     10000\n",
            "weighted avg       0.70      0.65      0.66     10000\n",
            "\n",
            "Test set: Average loss: 1.0131, Accuracy: 6537/10000 (65.37%)\n",
            "\n",
            "Epoch 6\n"
          ]
        },
        {
          "output_type": "stream",
          "name": "stderr",
          "text": [
            "Train: Loss=1.1560 Batch_id=97 Accuracy=62.44: 100%|██████████| 98/98 [00:21<00:00,  4.61it/s]\n"
          ]
        },
        {
          "output_type": "stream",
          "name": "stdout",
          "text": [
            "              precision    recall  f1-score   support\n",
            "\n",
            "           0       0.61      0.87      0.72      1000\n",
            "           1       0.74      0.91      0.81      1000\n",
            "           2       0.62      0.54      0.58      1000\n",
            "           3       0.56      0.49      0.52      1000\n",
            "           4       0.63      0.69      0.66      1000\n",
            "           5       0.60      0.64      0.62      1000\n",
            "           6       0.70      0.84      0.76      1000\n",
            "           7       0.87      0.67      0.76      1000\n",
            "           8       0.92      0.62      0.74      1000\n",
            "           9       0.89      0.71      0.79      1000\n",
            "\n",
            "    accuracy                           0.70     10000\n",
            "   macro avg       0.71      0.70      0.70     10000\n",
            "weighted avg       0.71      0.70      0.70     10000\n",
            "\n",
            "Test set: Average loss: 0.8902, Accuracy: 6977/10000 (69.77%)\n",
            "\n",
            "Epoch 7\n"
          ]
        },
        {
          "output_type": "stream",
          "name": "stderr",
          "text": [
            "Train: Loss=0.9762 Batch_id=97 Accuracy=64.98: 100%|██████████| 98/98 [00:21<00:00,  4.65it/s]\n"
          ]
        },
        {
          "output_type": "stream",
          "name": "stdout",
          "text": [
            "              precision    recall  f1-score   support\n",
            "\n",
            "           0       0.77      0.73      0.75      1000\n",
            "           1       0.86      0.77      0.81      1000\n",
            "           2       0.63      0.60      0.61      1000\n",
            "           3       0.58      0.47      0.52      1000\n",
            "           4       0.77      0.61      0.68      1000\n",
            "           5       0.56      0.74      0.64      1000\n",
            "           6       0.81      0.74      0.78      1000\n",
            "           7       0.79      0.77      0.78      1000\n",
            "           8       0.79      0.85      0.82      1000\n",
            "           9       0.68      0.89      0.77      1000\n",
            "\n",
            "    accuracy                           0.72     10000\n",
            "   macro avg       0.72      0.72      0.71     10000\n",
            "weighted avg       0.72      0.72      0.71     10000\n",
            "\n",
            "Test set: Average loss: 0.8460, Accuracy: 7166/10000 (71.66%)\n",
            "\n",
            "Epoch 8\n"
          ]
        },
        {
          "output_type": "stream",
          "name": "stderr",
          "text": [
            "Train: Loss=1.0595 Batch_id=97 Accuracy=66.88: 100%|██████████| 98/98 [00:21<00:00,  4.65it/s]\n"
          ]
        },
        {
          "output_type": "stream",
          "name": "stdout",
          "text": [
            "              precision    recall  f1-score   support\n",
            "\n",
            "           0       0.79      0.73      0.76      1000\n",
            "           1       0.92      0.81      0.86      1000\n",
            "           2       0.57      0.71      0.63      1000\n",
            "           3       0.58      0.59      0.58      1000\n",
            "           4       0.82      0.56      0.66      1000\n",
            "           5       0.61      0.65      0.63      1000\n",
            "           6       0.73      0.86      0.79      1000\n",
            "           7       0.85      0.74      0.79      1000\n",
            "           8       0.75      0.91      0.82      1000\n",
            "           9       0.87      0.82      0.84      1000\n",
            "\n",
            "    accuracy                           0.74     10000\n",
            "   macro avg       0.75      0.74      0.74     10000\n",
            "weighted avg       0.75      0.74      0.74     10000\n",
            "\n",
            "Test set: Average loss: 0.7770, Accuracy: 7360/10000 (73.60%)\n",
            "\n",
            "Epoch 9\n"
          ]
        },
        {
          "output_type": "stream",
          "name": "stderr",
          "text": [
            "Train: Loss=0.8040 Batch_id=97 Accuracy=68.82: 100%|██████████| 98/98 [00:21<00:00,  4.62it/s]\n"
          ]
        },
        {
          "output_type": "stream",
          "name": "stdout",
          "text": [
            "              precision    recall  f1-score   support\n",
            "\n",
            "           0       0.84      0.64      0.73      1000\n",
            "           1       0.92      0.79      0.85      1000\n",
            "           2       0.78      0.52      0.62      1000\n",
            "           3       0.49      0.69      0.57      1000\n",
            "           4       0.61      0.81      0.70      1000\n",
            "           5       0.83      0.35      0.49      1000\n",
            "           6       0.64      0.90      0.75      1000\n",
            "           7       0.79      0.79      0.79      1000\n",
            "           8       0.70      0.93      0.80      1000\n",
            "           9       0.91      0.72      0.80      1000\n",
            "\n",
            "    accuracy                           0.72     10000\n",
            "   macro avg       0.75      0.72      0.71     10000\n",
            "weighted avg       0.75      0.72      0.71     10000\n",
            "\n",
            "Test set: Average loss: 0.8478, Accuracy: 7156/10000 (71.56%)\n",
            "\n",
            "Epoch 10\n"
          ]
        },
        {
          "output_type": "stream",
          "name": "stderr",
          "text": [
            "Train: Loss=0.8091 Batch_id=97 Accuracy=70.52: 100%|██████████| 98/98 [00:21<00:00,  4.62it/s]\n"
          ]
        },
        {
          "output_type": "stream",
          "name": "stdout",
          "text": [
            "              precision    recall  f1-score   support\n",
            "\n",
            "           0       0.84      0.68      0.75      1000\n",
            "           1       0.88      0.87      0.88      1000\n",
            "           2       0.59      0.75      0.66      1000\n",
            "           3       0.55      0.62      0.58      1000\n",
            "           4       0.89      0.46      0.60      1000\n",
            "           5       0.60      0.72      0.66      1000\n",
            "           6       0.84      0.76      0.80      1000\n",
            "           7       0.82      0.81      0.81      1000\n",
            "           8       0.82      0.88      0.85      1000\n",
            "           9       0.79      0.88      0.83      1000\n",
            "\n",
            "    accuracy                           0.74     10000\n",
            "   macro avg       0.76      0.74      0.74     10000\n",
            "weighted avg       0.76      0.74      0.74     10000\n",
            "\n",
            "Test set: Average loss: 0.7771, Accuracy: 7436/10000 (74.36%)\n",
            "\n",
            "Epoch 11\n"
          ]
        },
        {
          "output_type": "stream",
          "name": "stderr",
          "text": [
            "Train: Loss=0.7594 Batch_id=97 Accuracy=71.79: 100%|██████████| 98/98 [00:21<00:00,  4.61it/s]\n"
          ]
        },
        {
          "output_type": "stream",
          "name": "stdout",
          "text": [
            "              precision    recall  f1-score   support\n",
            "\n",
            "           0       0.81      0.82      0.81      1000\n",
            "           1       0.90      0.90      0.90      1000\n",
            "           2       0.67      0.75      0.71      1000\n",
            "           3       0.64      0.59      0.62      1000\n",
            "           4       0.68      0.87      0.76      1000\n",
            "           5       0.73      0.65      0.68      1000\n",
            "           6       0.84      0.84      0.84      1000\n",
            "           7       0.88      0.78      0.82      1000\n",
            "           8       0.92      0.83      0.87      1000\n",
            "           9       0.88      0.86      0.87      1000\n",
            "\n",
            "    accuracy                           0.79     10000\n",
            "   macro avg       0.79      0.79      0.79     10000\n",
            "weighted avg       0.79      0.79      0.79     10000\n",
            "\n",
            "Test set: Average loss: 0.6303, Accuracy: 7881/10000 (78.81%)\n",
            "\n",
            "Epoch 12\n"
          ]
        },
        {
          "output_type": "stream",
          "name": "stderr",
          "text": [
            "Train: Loss=0.7302 Batch_id=97 Accuracy=73.33: 100%|██████████| 98/98 [00:21<00:00,  4.63it/s]\n"
          ]
        },
        {
          "output_type": "stream",
          "name": "stdout",
          "text": [
            "              precision    recall  f1-score   support\n",
            "\n",
            "           0       0.83      0.79      0.81      1000\n",
            "           1       0.89      0.91      0.90      1000\n",
            "           2       0.52      0.82      0.64      1000\n",
            "           3       0.74      0.51      0.60      1000\n",
            "           4       0.83      0.62      0.71      1000\n",
            "           5       0.68      0.77      0.72      1000\n",
            "           6       0.85      0.81      0.83      1000\n",
            "           7       0.88      0.78      0.82      1000\n",
            "           8       0.84      0.91      0.88      1000\n",
            "           9       0.90      0.86      0.88      1000\n",
            "\n",
            "    accuracy                           0.78     10000\n",
            "   macro avg       0.80      0.78      0.78     10000\n",
            "weighted avg       0.80      0.78      0.78     10000\n",
            "\n",
            "Test set: Average loss: 0.6676, Accuracy: 7779/10000 (77.79%)\n",
            "\n",
            "Epoch 13\n"
          ]
        },
        {
          "output_type": "stream",
          "name": "stderr",
          "text": [
            "Train: Loss=0.6516 Batch_id=97 Accuracy=74.21: 100%|██████████| 98/98 [00:21<00:00,  4.63it/s]\n"
          ]
        },
        {
          "output_type": "stream",
          "name": "stdout",
          "text": [
            "              precision    recall  f1-score   support\n",
            "\n",
            "           0       0.68      0.91      0.77      1000\n",
            "           1       0.86      0.92      0.89      1000\n",
            "           2       0.51      0.82      0.63      1000\n",
            "           3       0.55      0.69      0.61      1000\n",
            "           4       0.89      0.58      0.70      1000\n",
            "           5       0.92      0.36      0.52      1000\n",
            "           6       0.88      0.78      0.82      1000\n",
            "           7       0.85      0.79      0.82      1000\n",
            "           8       0.88      0.85      0.87      1000\n",
            "           9       0.92      0.84      0.88      1000\n",
            "\n",
            "    accuracy                           0.75     10000\n",
            "   macro avg       0.79      0.75      0.75     10000\n",
            "weighted avg       0.79      0.75      0.75     10000\n",
            "\n",
            "Test set: Average loss: 0.7223, Accuracy: 7525/10000 (75.25%)\n",
            "\n",
            "Epoch 14\n"
          ]
        },
        {
          "output_type": "stream",
          "name": "stderr",
          "text": [
            "Train: Loss=0.6669 Batch_id=97 Accuracy=75.28: 100%|██████████| 98/98 [00:21<00:00,  4.63it/s]\n"
          ]
        },
        {
          "output_type": "stream",
          "name": "stdout",
          "text": [
            "              precision    recall  f1-score   support\n",
            "\n",
            "           0       0.77      0.86      0.81      1000\n",
            "           1       0.92      0.88      0.90      1000\n",
            "           2       0.64      0.77      0.70      1000\n",
            "           3       0.62      0.63      0.62      1000\n",
            "           4       0.89      0.67      0.77      1000\n",
            "           5       0.71      0.71      0.71      1000\n",
            "           6       0.93      0.74      0.83      1000\n",
            "           7       0.83      0.87      0.85      1000\n",
            "           8       0.89      0.86      0.87      1000\n",
            "           9       0.80      0.93      0.86      1000\n",
            "\n",
            "    accuracy                           0.79     10000\n",
            "   macro avg       0.80      0.79      0.79     10000\n",
            "weighted avg       0.80      0.79      0.79     10000\n",
            "\n",
            "Test set: Average loss: 0.6149, Accuracy: 7914/10000 (79.14%)\n",
            "\n",
            "Epoch 15\n"
          ]
        },
        {
          "output_type": "stream",
          "name": "stderr",
          "text": [
            "Train: Loss=0.7253 Batch_id=97 Accuracy=76.11: 100%|██████████| 98/98 [00:21<00:00,  4.65it/s]\n"
          ]
        },
        {
          "output_type": "stream",
          "name": "stdout",
          "text": [
            "              precision    recall  f1-score   support\n",
            "\n",
            "           0       0.94      0.67      0.79      1000\n",
            "           1       0.92      0.89      0.90      1000\n",
            "           2       0.76      0.68      0.72      1000\n",
            "           3       0.55      0.77      0.64      1000\n",
            "           4       0.66      0.88      0.75      1000\n",
            "           5       0.84      0.59      0.69      1000\n",
            "           6       0.89      0.82      0.85      1000\n",
            "           7       0.86      0.85      0.85      1000\n",
            "           8       0.91      0.89      0.90      1000\n",
            "           9       0.83      0.91      0.87      1000\n",
            "\n",
            "    accuracy                           0.79     10000\n",
            "   macro avg       0.81      0.79      0.80     10000\n",
            "weighted avg       0.81      0.79      0.80     10000\n",
            "\n",
            "Test set: Average loss: 0.6161, Accuracy: 7943/10000 (79.43%)\n",
            "\n",
            "Epoch 16\n"
          ]
        },
        {
          "output_type": "stream",
          "name": "stderr",
          "text": [
            "Train: Loss=0.7238 Batch_id=97 Accuracy=76.95: 100%|██████████| 98/98 [00:21<00:00,  4.64it/s]\n"
          ]
        },
        {
          "output_type": "stream",
          "name": "stdout",
          "text": [
            "              precision    recall  f1-score   support\n",
            "\n",
            "           0       0.83      0.84      0.84      1000\n",
            "           1       0.93      0.86      0.90      1000\n",
            "           2       0.60      0.81      0.69      1000\n",
            "           3       0.60      0.70      0.65      1000\n",
            "           4       0.71      0.85      0.77      1000\n",
            "           5       0.72      0.68      0.70      1000\n",
            "           6       0.97      0.70      0.81      1000\n",
            "           7       0.96      0.68      0.80      1000\n",
            "           8       0.93      0.87      0.90      1000\n",
            "           9       0.88      0.90      0.89      1000\n",
            "\n",
            "    accuracy                           0.79     10000\n",
            "   macro avg       0.81      0.79      0.79     10000\n",
            "weighted avg       0.81      0.79      0.79     10000\n",
            "\n",
            "Test set: Average loss: 0.6340, Accuracy: 7901/10000 (79.01%)\n",
            "\n",
            "Epoch 17\n"
          ]
        },
        {
          "output_type": "stream",
          "name": "stderr",
          "text": [
            "Train: Loss=0.6811 Batch_id=97 Accuracy=77.67: 100%|██████████| 98/98 [00:21<00:00,  4.64it/s]\n"
          ]
        },
        {
          "output_type": "stream",
          "name": "stdout",
          "text": [
            "              precision    recall  f1-score   support\n",
            "\n",
            "           0       0.81      0.83      0.82      1000\n",
            "           1       0.97      0.83      0.89      1000\n",
            "           2       0.57      0.85      0.68      1000\n",
            "           3       0.66      0.66      0.66      1000\n",
            "           4       0.80      0.79      0.79      1000\n",
            "           5       0.79      0.65      0.71      1000\n",
            "           6       0.87      0.85      0.86      1000\n",
            "           7       0.90      0.81      0.85      1000\n",
            "           8       0.88      0.88      0.88      1000\n",
            "           9       0.91      0.84      0.88      1000\n",
            "\n",
            "    accuracy                           0.80     10000\n",
            "   macro avg       0.82      0.80      0.80     10000\n",
            "weighted avg       0.82      0.80      0.80     10000\n",
            "\n",
            "Test set: Average loss: 0.5935, Accuracy: 7991/10000 (79.91%)\n",
            "\n",
            "Epoch 18\n"
          ]
        },
        {
          "output_type": "stream",
          "name": "stderr",
          "text": [
            "Train: Loss=0.6262 Batch_id=97 Accuracy=78.32: 100%|██████████| 98/98 [00:21<00:00,  4.62it/s]\n"
          ]
        },
        {
          "output_type": "stream",
          "name": "stdout",
          "text": [
            "              precision    recall  f1-score   support\n",
            "\n",
            "           0       0.77      0.87      0.81      1000\n",
            "           1       0.89      0.92      0.90      1000\n",
            "           2       0.75      0.74      0.74      1000\n",
            "           3       0.81      0.42      0.56      1000\n",
            "           4       0.89      0.67      0.76      1000\n",
            "           5       0.68      0.78      0.73      1000\n",
            "           6       0.78      0.91      0.84      1000\n",
            "           7       0.72      0.94      0.82      1000\n",
            "           8       0.93      0.83      0.88      1000\n",
            "           9       0.84      0.91      0.87      1000\n",
            "\n",
            "    accuracy                           0.80     10000\n",
            "   macro avg       0.81      0.80      0.79     10000\n",
            "weighted avg       0.81      0.80      0.79     10000\n",
            "\n",
            "Test set: Average loss: 0.5999, Accuracy: 7984/10000 (79.84%)\n",
            "\n",
            "Epoch 19\n"
          ]
        },
        {
          "output_type": "stream",
          "name": "stderr",
          "text": [
            "Train: Loss=0.6061 Batch_id=97 Accuracy=78.96: 100%|██████████| 98/98 [00:21<00:00,  4.63it/s]\n"
          ]
        },
        {
          "output_type": "stream",
          "name": "stdout",
          "text": [
            "              precision    recall  f1-score   support\n",
            "\n",
            "           0       0.73      0.92      0.82      1000\n",
            "           1       0.88      0.92      0.90      1000\n",
            "           2       0.68      0.83      0.75      1000\n",
            "           3       0.72      0.64      0.68      1000\n",
            "           4       0.92      0.64      0.75      1000\n",
            "           5       0.80      0.74      0.77      1000\n",
            "           6       0.85      0.88      0.87      1000\n",
            "           7       0.74      0.92      0.82      1000\n",
            "           8       0.97      0.80      0.88      1000\n",
            "           9       0.94      0.82      0.88      1000\n",
            "\n",
            "    accuracy                           0.81     10000\n",
            "   macro avg       0.82      0.81      0.81     10000\n",
            "weighted avg       0.82      0.81      0.81     10000\n",
            "\n",
            "Test set: Average loss: 0.5686, Accuracy: 8103/10000 (81.03%)\n",
            "\n",
            "Epoch 20\n"
          ]
        },
        {
          "output_type": "stream",
          "name": "stderr",
          "text": [
            "Train: Loss=0.6173 Batch_id=97 Accuracy=80.00: 100%|██████████| 98/98 [00:21<00:00,  4.62it/s]\n"
          ]
        },
        {
          "output_type": "stream",
          "name": "stdout",
          "text": [
            "              precision    recall  f1-score   support\n",
            "\n",
            "           0       0.85      0.87      0.86      1000\n",
            "           1       0.89      0.94      0.91      1000\n",
            "           2       0.80      0.71      0.75      1000\n",
            "           3       0.71      0.62      0.66      1000\n",
            "           4       0.92      0.68      0.78      1000\n",
            "           5       0.54      0.89      0.67      1000\n",
            "           6       0.93      0.82      0.87      1000\n",
            "           7       0.89      0.82      0.86      1000\n",
            "           8       0.91      0.91      0.91      1000\n",
            "           9       0.91      0.88      0.89      1000\n",
            "\n",
            "    accuracy                           0.81     10000\n",
            "   macro avg       0.83      0.81      0.82     10000\n",
            "weighted avg       0.83      0.81      0.82     10000\n",
            "\n",
            "Test set: Average loss: 0.5619, Accuracy: 8134/10000 (81.34%)\n",
            "\n",
            "Epoch 21\n"
          ]
        },
        {
          "output_type": "stream",
          "name": "stderr",
          "text": [
            "Train: Loss=0.5318 Batch_id=97 Accuracy=80.90: 100%|██████████| 98/98 [00:21<00:00,  4.62it/s]\n"
          ]
        },
        {
          "output_type": "stream",
          "name": "stdout",
          "text": [
            "              precision    recall  f1-score   support\n",
            "\n",
            "           0       0.83      0.88      0.86      1000\n",
            "           1       0.95      0.89      0.91      1000\n",
            "           2       0.82      0.72      0.77      1000\n",
            "           3       0.68      0.70      0.69      1000\n",
            "           4       0.82      0.86      0.84      1000\n",
            "           5       0.69      0.83      0.75      1000\n",
            "           6       0.93      0.83      0.88      1000\n",
            "           7       0.92      0.85      0.88      1000\n",
            "           8       0.88      0.93      0.90      1000\n",
            "           9       0.92      0.89      0.90      1000\n",
            "\n",
            "    accuracy                           0.84     10000\n",
            "   macro avg       0.84      0.84      0.84     10000\n",
            "weighted avg       0.84      0.84      0.84     10000\n",
            "\n",
            "Test set: Average loss: 0.4858, Accuracy: 8375/10000 (83.75%)\n",
            "\n",
            "Epoch 22\n"
          ]
        },
        {
          "output_type": "stream",
          "name": "stderr",
          "text": [
            "Train: Loss=0.5791 Batch_id=97 Accuracy=81.73: 100%|██████████| 98/98 [00:21<00:00,  4.64it/s]\n"
          ]
        },
        {
          "output_type": "stream",
          "name": "stdout",
          "text": [
            "              precision    recall  f1-score   support\n",
            "\n",
            "           0       0.85      0.84      0.85      1000\n",
            "           1       0.86      0.96      0.91      1000\n",
            "           2       0.61      0.86      0.72      1000\n",
            "           3       0.77      0.63      0.69      1000\n",
            "           4       0.74      0.90      0.81      1000\n",
            "           5       0.84      0.71      0.77      1000\n",
            "           6       0.94      0.84      0.89      1000\n",
            "           7       0.94      0.79      0.86      1000\n",
            "           8       0.89      0.93      0.91      1000\n",
            "           9       0.97      0.81      0.88      1000\n",
            "\n",
            "    accuracy                           0.83     10000\n",
            "   macro avg       0.84      0.83      0.83     10000\n",
            "weighted avg       0.84      0.83      0.83     10000\n",
            "\n",
            "Test set: Average loss: 0.5209, Accuracy: 8263/10000 (82.63%)\n",
            "\n",
            "Epoch 23\n"
          ]
        },
        {
          "output_type": "stream",
          "name": "stderr",
          "text": [
            "Train: Loss=0.5422 Batch_id=97 Accuracy=82.69: 100%|██████████| 98/98 [00:21<00:00,  4.62it/s]\n"
          ]
        },
        {
          "output_type": "stream",
          "name": "stdout",
          "text": [
            "              precision    recall  f1-score   support\n",
            "\n",
            "           0       0.88      0.84      0.86      1000\n",
            "           1       0.86      0.96      0.91      1000\n",
            "           2       0.75      0.81      0.78      1000\n",
            "           3       0.63      0.78      0.69      1000\n",
            "           4       0.91      0.73      0.81      1000\n",
            "           5       0.82      0.74      0.78      1000\n",
            "           6       0.87      0.92      0.89      1000\n",
            "           7       0.90      0.86      0.88      1000\n",
            "           8       0.91      0.90      0.91      1000\n",
            "           9       0.95      0.87      0.91      1000\n",
            "\n",
            "    accuracy                           0.84     10000\n",
            "   macro avg       0.85      0.84      0.84     10000\n",
            "weighted avg       0.85      0.84      0.84     10000\n",
            "\n",
            "Test set: Average loss: 0.4723, Accuracy: 8402/10000 (84.02%)\n",
            "\n",
            "Epoch 24\n"
          ]
        },
        {
          "output_type": "stream",
          "name": "stderr",
          "text": [
            "Train: Loss=0.4048 Batch_id=97 Accuracy=83.54: 100%|██████████| 98/98 [00:21<00:00,  4.63it/s]\n"
          ]
        },
        {
          "output_type": "stream",
          "name": "stdout",
          "text": [
            "              precision    recall  f1-score   support\n",
            "\n",
            "           0       0.91      0.77      0.84      1000\n",
            "           1       0.90      0.93      0.91      1000\n",
            "           2       0.58      0.90      0.70      1000\n",
            "           3       0.64      0.74      0.68      1000\n",
            "           4       0.86      0.79      0.82      1000\n",
            "           5       0.76      0.75      0.76      1000\n",
            "           6       0.92      0.82      0.87      1000\n",
            "           7       0.93      0.81      0.87      1000\n",
            "           8       0.96      0.84      0.90      1000\n",
            "           9       0.95      0.84      0.89      1000\n",
            "\n",
            "    accuracy                           0.82     10000\n",
            "   macro avg       0.84      0.82      0.82     10000\n",
            "weighted avg       0.84      0.82      0.82     10000\n",
            "\n",
            "Test set: Average loss: 0.5475, Accuracy: 8183/10000 (81.83%)\n",
            "\n",
            "Epoch 25\n"
          ]
        },
        {
          "output_type": "stream",
          "name": "stderr",
          "text": [
            "Train: Loss=0.5390 Batch_id=97 Accuracy=83.78: 100%|██████████| 98/98 [00:21<00:00,  4.62it/s]\n"
          ]
        },
        {
          "output_type": "stream",
          "name": "stdout",
          "text": [
            "              precision    recall  f1-score   support\n",
            "\n",
            "           0       0.85      0.89      0.87      1000\n",
            "           1       0.93      0.91      0.92      1000\n",
            "           2       0.90      0.72      0.80      1000\n",
            "           3       0.65      0.79      0.71      1000\n",
            "           4       0.89      0.81      0.85      1000\n",
            "           5       0.78      0.77      0.78      1000\n",
            "           6       0.90      0.91      0.90      1000\n",
            "           7       0.87      0.91      0.89      1000\n",
            "           8       0.83      0.95      0.88      1000\n",
            "           9       0.97      0.84      0.90      1000\n",
            "\n",
            "    accuracy                           0.85     10000\n",
            "   macro avg       0.86      0.85      0.85     10000\n",
            "weighted avg       0.86      0.85      0.85     10000\n",
            "\n",
            "Test set: Average loss: 0.4640, Accuracy: 8494/10000 (84.94%)\n",
            "\n",
            "Epoch 26\n"
          ]
        },
        {
          "output_type": "stream",
          "name": "stderr",
          "text": [
            "Train: Loss=0.4857 Batch_id=97 Accuracy=84.73: 100%|██████████| 98/98 [00:21<00:00,  4.60it/s]\n"
          ]
        },
        {
          "output_type": "stream",
          "name": "stdout",
          "text": [
            "              precision    recall  f1-score   support\n",
            "\n",
            "           0       0.84      0.89      0.86      1000\n",
            "           1       0.89      0.95      0.92      1000\n",
            "           2       0.89      0.75      0.81      1000\n",
            "           3       0.74      0.62      0.68      1000\n",
            "           4       0.90      0.82      0.86      1000\n",
            "           5       0.56      0.92      0.69      1000\n",
            "           6       0.96      0.80      0.87      1000\n",
            "           7       0.97      0.81      0.89      1000\n",
            "           8       0.92      0.91      0.91      1000\n",
            "           9       0.92      0.89      0.91      1000\n",
            "\n",
            "    accuracy                           0.84     10000\n",
            "   macro avg       0.86      0.84      0.84     10000\n",
            "weighted avg       0.86      0.84      0.84     10000\n",
            "\n",
            "Test set: Average loss: 0.5058, Accuracy: 8357/10000 (83.57%)\n",
            "\n",
            "Epoch 27\n"
          ]
        },
        {
          "output_type": "stream",
          "name": "stderr",
          "text": [
            "Train: Loss=0.4432 Batch_id=97 Accuracy=85.40: 100%|██████████| 98/98 [00:21<00:00,  4.61it/s]\n"
          ]
        },
        {
          "output_type": "stream",
          "name": "stdout",
          "text": [
            "              precision    recall  f1-score   support\n",
            "\n",
            "           0       0.83      0.90      0.86      1000\n",
            "           1       0.90      0.94      0.92      1000\n",
            "           2       0.82      0.82      0.82      1000\n",
            "           3       0.79      0.64      0.71      1000\n",
            "           4       0.85      0.85      0.85      1000\n",
            "           5       0.84      0.73      0.78      1000\n",
            "           6       0.88      0.92      0.90      1000\n",
            "           7       0.80      0.94      0.86      1000\n",
            "           8       0.96      0.87      0.91      1000\n",
            "           9       0.88      0.93      0.91      1000\n",
            "\n",
            "    accuracy                           0.85     10000\n",
            "   macro avg       0.85      0.85      0.85     10000\n",
            "weighted avg       0.85      0.85      0.85     10000\n",
            "\n",
            "Test set: Average loss: 0.4388, Accuracy: 8546/10000 (85.46%)\n",
            "\n",
            "Epoch 28\n"
          ]
        },
        {
          "output_type": "stream",
          "name": "stderr",
          "text": [
            "Train: Loss=0.4492 Batch_id=97 Accuracy=86.02: 100%|██████████| 98/98 [00:21<00:00,  4.63it/s]\n"
          ]
        },
        {
          "output_type": "stream",
          "name": "stdout",
          "text": [
            "              precision    recall  f1-score   support\n",
            "\n",
            "           0       0.79      0.94      0.86      1000\n",
            "           1       0.91      0.96      0.93      1000\n",
            "           2       0.84      0.79      0.81      1000\n",
            "           3       0.67      0.81      0.73      1000\n",
            "           4       0.90      0.82      0.86      1000\n",
            "           5       0.88      0.67      0.76      1000\n",
            "           6       0.90      0.91      0.90      1000\n",
            "           7       0.84      0.93      0.88      1000\n",
            "           8       0.95      0.87      0.91      1000\n",
            "           9       0.95      0.88      0.91      1000\n",
            "\n",
            "    accuracy                           0.86     10000\n",
            "   macro avg       0.86      0.86      0.86     10000\n",
            "weighted avg       0.86      0.86      0.86     10000\n",
            "\n",
            "Test set: Average loss: 0.4488, Accuracy: 8562/10000 (85.62%)\n",
            "\n",
            "Epoch 29\n"
          ]
        },
        {
          "output_type": "stream",
          "name": "stderr",
          "text": [
            "Train: Loss=0.3873 Batch_id=97 Accuracy=86.39: 100%|██████████| 98/98 [00:21<00:00,  4.62it/s]\n"
          ]
        },
        {
          "output_type": "stream",
          "name": "stdout",
          "text": [
            "              precision    recall  f1-score   support\n",
            "\n",
            "           0       0.83      0.91      0.87      1000\n",
            "           1       0.93      0.93      0.93      1000\n",
            "           2       0.88      0.76      0.82      1000\n",
            "           3       0.81      0.59      0.68      1000\n",
            "           4       0.88      0.85      0.87      1000\n",
            "           5       0.63      0.89      0.74      1000\n",
            "           6       0.91      0.90      0.91      1000\n",
            "           7       0.94      0.87      0.90      1000\n",
            "           8       0.97      0.85      0.91      1000\n",
            "           9       0.86      0.96      0.91      1000\n",
            "\n",
            "    accuracy                           0.85     10000\n",
            "   macro avg       0.86      0.85      0.85     10000\n",
            "weighted avg       0.86      0.85      0.85     10000\n",
            "\n",
            "Test set: Average loss: 0.4595, Accuracy: 8518/10000 (85.18%)\n",
            "\n",
            "Epoch 30\n"
          ]
        },
        {
          "output_type": "stream",
          "name": "stderr",
          "text": [
            "Train: Loss=0.3553 Batch_id=97 Accuracy=86.85: 100%|██████████| 98/98 [00:21<00:00,  4.63it/s]\n"
          ]
        },
        {
          "output_type": "stream",
          "name": "stdout",
          "text": [
            "              precision    recall  f1-score   support\n",
            "\n",
            "           0       0.83      0.91      0.87      1000\n",
            "           1       0.93      0.94      0.94      1000\n",
            "           2       0.91      0.73      0.81      1000\n",
            "           3       0.65      0.80      0.72      1000\n",
            "           4       0.81      0.89      0.85      1000\n",
            "           5       0.82      0.76      0.79      1000\n",
            "           6       0.91      0.89      0.90      1000\n",
            "           7       0.88      0.91      0.89      1000\n",
            "           8       0.97      0.84      0.90      1000\n",
            "           9       0.95      0.89      0.92      1000\n",
            "\n",
            "    accuracy                           0.86     10000\n",
            "   macro avg       0.87      0.86      0.86     10000\n",
            "weighted avg       0.87      0.86      0.86     10000\n",
            "\n",
            "Test set: Average loss: 0.4412, Accuracy: 8574/10000 (85.74%)\n",
            "\n",
            "Epoch 31\n"
          ]
        },
        {
          "output_type": "stream",
          "name": "stderr",
          "text": [
            "Train: Loss=0.4169 Batch_id=97 Accuracy=87.52: 100%|██████████| 98/98 [00:21<00:00,  4.62it/s]\n"
          ]
        },
        {
          "output_type": "stream",
          "name": "stdout",
          "text": [
            "              precision    recall  f1-score   support\n",
            "\n",
            "           0       0.89      0.86      0.88      1000\n",
            "           1       0.94      0.93      0.93      1000\n",
            "           2       0.86      0.82      0.84      1000\n",
            "           3       0.71      0.80      0.75      1000\n",
            "           4       0.85      0.90      0.87      1000\n",
            "           5       0.87      0.74      0.80      1000\n",
            "           6       0.92      0.89      0.90      1000\n",
            "           7       0.91      0.88      0.90      1000\n",
            "           8       0.90      0.94      0.92      1000\n",
            "           9       0.88      0.95      0.91      1000\n",
            "\n",
            "    accuracy                           0.87     10000\n",
            "   macro avg       0.87      0.87      0.87     10000\n",
            "weighted avg       0.87      0.87      0.87     10000\n",
            "\n",
            "Test set: Average loss: 0.3973, Accuracy: 8704/10000 (87.04%)\n",
            "\n",
            "Epoch 32\n"
          ]
        },
        {
          "output_type": "stream",
          "name": "stderr",
          "text": [
            "Train: Loss=0.3794 Batch_id=97 Accuracy=88.15: 100%|██████████| 98/98 [00:21<00:00,  4.63it/s]\n"
          ]
        },
        {
          "output_type": "stream",
          "name": "stdout",
          "text": [
            "              precision    recall  f1-score   support\n",
            "\n",
            "           0       0.90      0.87      0.89      1000\n",
            "           1       0.97      0.88      0.92      1000\n",
            "           2       0.78      0.85      0.81      1000\n",
            "           3       0.67      0.82      0.73      1000\n",
            "           4       0.91      0.81      0.85      1000\n",
            "           5       0.88      0.64      0.74      1000\n",
            "           6       0.89      0.93      0.91      1000\n",
            "           7       0.91      0.91      0.91      1000\n",
            "           8       0.92      0.93      0.93      1000\n",
            "           9       0.85      0.96      0.90      1000\n",
            "\n",
            "    accuracy                           0.86     10000\n",
            "   macro avg       0.87      0.86      0.86     10000\n",
            "weighted avg       0.87      0.86      0.86     10000\n",
            "\n",
            "Test set: Average loss: 0.4337, Accuracy: 8603/10000 (86.03%)\n",
            "\n",
            "Epoch 33\n"
          ]
        },
        {
          "output_type": "stream",
          "name": "stderr",
          "text": [
            "Train: Loss=0.2879 Batch_id=97 Accuracy=88.15: 100%|██████████| 98/98 [00:21<00:00,  4.63it/s]\n"
          ]
        },
        {
          "output_type": "stream",
          "name": "stdout",
          "text": [
            "              precision    recall  f1-score   support\n",
            "\n",
            "           0       0.90      0.81      0.85      1000\n",
            "           1       0.95      0.92      0.93      1000\n",
            "           2       0.86      0.75      0.80      1000\n",
            "           3       0.73      0.67      0.70      1000\n",
            "           4       0.89      0.77      0.83      1000\n",
            "           5       0.47      0.95      0.63      1000\n",
            "           6       0.94      0.85      0.89      1000\n",
            "           7       0.98      0.72      0.83      1000\n",
            "           8       0.97      0.86      0.91      1000\n",
            "           9       0.95      0.88      0.91      1000\n",
            "\n",
            "    accuracy                           0.82     10000\n",
            "   macro avg       0.86      0.82      0.83     10000\n",
            "weighted avg       0.86      0.82      0.83     10000\n",
            "\n",
            "Test set: Average loss: 0.5739, Accuracy: 8191/10000 (81.91%)\n",
            "\n",
            "Epoch 34\n"
          ]
        },
        {
          "output_type": "stream",
          "name": "stderr",
          "text": [
            "Train: Loss=0.3697 Batch_id=97 Accuracy=88.95: 100%|██████████| 98/98 [00:21<00:00,  4.62it/s]\n"
          ]
        },
        {
          "output_type": "stream",
          "name": "stdout",
          "text": [
            "              precision    recall  f1-score   support\n",
            "\n",
            "           0       0.86      0.90      0.87      1000\n",
            "           1       0.95      0.94      0.94      1000\n",
            "           2       0.89      0.78      0.83      1000\n",
            "           3       0.75      0.76      0.76      1000\n",
            "           4       0.85      0.88      0.86      1000\n",
            "           5       0.80      0.82      0.81      1000\n",
            "           6       0.89      0.95      0.92      1000\n",
            "           7       0.92      0.90      0.91      1000\n",
            "           8       0.91      0.93      0.92      1000\n",
            "           9       0.95      0.90      0.92      1000\n",
            "\n",
            "    accuracy                           0.88     10000\n",
            "   macro avg       0.88      0.88      0.88     10000\n",
            "weighted avg       0.88      0.88      0.88     10000\n",
            "\n",
            "Test set: Average loss: 0.3890, Accuracy: 8754/10000 (87.54%)\n",
            "\n",
            "Epoch 35\n"
          ]
        },
        {
          "output_type": "stream",
          "name": "stderr",
          "text": [
            "Train: Loss=0.3737 Batch_id=97 Accuracy=89.36: 100%|██████████| 98/98 [00:21<00:00,  4.63it/s]\n"
          ]
        },
        {
          "output_type": "stream",
          "name": "stdout",
          "text": [
            "              precision    recall  f1-score   support\n",
            "\n",
            "           0       0.84      0.93      0.88      1000\n",
            "           1       0.96      0.90      0.93      1000\n",
            "           2       0.91      0.80      0.85      1000\n",
            "           3       0.78      0.75      0.76      1000\n",
            "           4       0.85      0.90      0.87      1000\n",
            "           5       0.80      0.83      0.81      1000\n",
            "           6       0.92      0.93      0.93      1000\n",
            "           7       0.93      0.90      0.91      1000\n",
            "           8       0.95      0.90      0.93      1000\n",
            "           9       0.86      0.95      0.90      1000\n",
            "\n",
            "    accuracy                           0.88     10000\n",
            "   macro avg       0.88      0.88      0.88     10000\n",
            "weighted avg       0.88      0.88      0.88     10000\n",
            "\n",
            "Test set: Average loss: 0.3834, Accuracy: 8781/10000 (87.81%)\n",
            "\n",
            "Epoch 36\n"
          ]
        },
        {
          "output_type": "stream",
          "name": "stderr",
          "text": [
            "Train: Loss=0.3127 Batch_id=97 Accuracy=89.69: 100%|██████████| 98/98 [00:21<00:00,  4.62it/s]\n"
          ]
        },
        {
          "output_type": "stream",
          "name": "stdout",
          "text": [
            "              precision    recall  f1-score   support\n",
            "\n",
            "           0       0.88      0.89      0.88      1000\n",
            "           1       0.97      0.90      0.93      1000\n",
            "           2       0.85      0.82      0.84      1000\n",
            "           3       0.76      0.77      0.76      1000\n",
            "           4       0.86      0.88      0.87      1000\n",
            "           5       0.82      0.81      0.81      1000\n",
            "           6       0.93      0.91      0.92      1000\n",
            "           7       0.87      0.93      0.90      1000\n",
            "           8       0.93      0.91      0.92      1000\n",
            "           9       0.92      0.93      0.93      1000\n",
            "\n",
            "    accuracy                           0.88     10000\n",
            "   macro avg       0.88      0.88      0.88     10000\n",
            "weighted avg       0.88      0.88      0.88     10000\n",
            "\n",
            "Test set: Average loss: 0.3774, Accuracy: 8764/10000 (87.64%)\n",
            "\n",
            "Epoch 37\n"
          ]
        },
        {
          "output_type": "stream",
          "name": "stderr",
          "text": [
            "Train: Loss=0.2768 Batch_id=97 Accuracy=90.24: 100%|██████████| 98/98 [00:21<00:00,  4.64it/s]\n"
          ]
        },
        {
          "output_type": "stream",
          "name": "stdout",
          "text": [
            "              precision    recall  f1-score   support\n",
            "\n",
            "           0       0.91      0.85      0.88      1000\n",
            "           1       0.97      0.91      0.94      1000\n",
            "           2       0.91      0.78      0.84      1000\n",
            "           3       0.68      0.82      0.74      1000\n",
            "           4       0.71      0.95      0.81      1000\n",
            "           5       0.87      0.74      0.80      1000\n",
            "           6       0.95      0.87      0.91      1000\n",
            "           7       0.91      0.88      0.89      1000\n",
            "           8       0.92      0.94      0.93      1000\n",
            "           9       0.94      0.92      0.93      1000\n",
            "\n",
            "    accuracy                           0.87     10000\n",
            "   macro avg       0.88      0.87      0.87     10000\n",
            "weighted avg       0.88      0.87      0.87     10000\n",
            "\n",
            "Test set: Average loss: 0.4305, Accuracy: 8654/10000 (86.54%)\n",
            "\n",
            "Epoch 38\n"
          ]
        },
        {
          "output_type": "stream",
          "name": "stderr",
          "text": [
            "Train: Loss=0.2631 Batch_id=97 Accuracy=90.50: 100%|██████████| 98/98 [00:21<00:00,  4.62it/s]\n"
          ]
        },
        {
          "output_type": "stream",
          "name": "stdout",
          "text": [
            "              precision    recall  f1-score   support\n",
            "\n",
            "           0       0.85      0.90      0.88      1000\n",
            "           1       0.95      0.92      0.93      1000\n",
            "           2       0.79      0.87      0.83      1000\n",
            "           3       0.69      0.81      0.74      1000\n",
            "           4       0.87      0.87      0.87      1000\n",
            "           5       0.90      0.71      0.79      1000\n",
            "           6       0.95      0.89      0.92      1000\n",
            "           7       0.96      0.86      0.91      1000\n",
            "           8       0.85      0.97      0.90      1000\n",
            "           9       0.95      0.90      0.93      1000\n",
            "\n",
            "    accuracy                           0.87     10000\n",
            "   macro avg       0.88      0.87      0.87     10000\n",
            "weighted avg       0.88      0.87      0.87     10000\n",
            "\n",
            "Test set: Average loss: 0.4090, Accuracy: 8693/10000 (86.93%)\n",
            "\n",
            "Epoch 39\n"
          ]
        },
        {
          "output_type": "stream",
          "name": "stderr",
          "text": [
            "Train: Loss=0.3004 Batch_id=97 Accuracy=90.53: 100%|██████████| 98/98 [00:21<00:00,  4.62it/s]\n"
          ]
        },
        {
          "output_type": "stream",
          "name": "stdout",
          "text": [
            "              precision    recall  f1-score   support\n",
            "\n",
            "           0       0.83      0.92      0.87      1000\n",
            "           1       0.94      0.94      0.94      1000\n",
            "           2       0.87      0.79      0.83      1000\n",
            "           3       0.74      0.75      0.75      1000\n",
            "           4       0.92      0.78      0.85      1000\n",
            "           5       0.74      0.84      0.79      1000\n",
            "           6       0.79      0.96      0.86      1000\n",
            "           7       0.95      0.86      0.91      1000\n",
            "           8       0.97      0.87      0.92      1000\n",
            "           9       0.95      0.91      0.93      1000\n",
            "\n",
            "    accuracy                           0.86     10000\n",
            "   macro avg       0.87      0.86      0.86     10000\n",
            "weighted avg       0.87      0.86      0.86     10000\n",
            "\n",
            "Test set: Average loss: 0.4280, Accuracy: 8633/10000 (86.33%)\n",
            "\n",
            "Epoch 40\n"
          ]
        },
        {
          "output_type": "stream",
          "name": "stderr",
          "text": [
            "Train: Loss=0.3149 Batch_id=97 Accuracy=90.88: 100%|██████████| 98/98 [00:21<00:00,  4.63it/s]\n"
          ]
        },
        {
          "output_type": "stream",
          "name": "stdout",
          "text": [
            "              precision    recall  f1-score   support\n",
            "\n",
            "           0       0.88      0.90      0.89      1000\n",
            "           1       0.96      0.93      0.94      1000\n",
            "           2       0.82      0.85      0.83      1000\n",
            "           3       0.73      0.81      0.77      1000\n",
            "           4       0.86      0.90      0.88      1000\n",
            "           5       0.86      0.74      0.80      1000\n",
            "           6       0.95      0.88      0.91      1000\n",
            "           7       0.91      0.91      0.91      1000\n",
            "           8       0.95      0.92      0.94      1000\n",
            "           9       0.90      0.95      0.92      1000\n",
            "\n",
            "    accuracy                           0.88     10000\n",
            "   macro avg       0.88      0.88      0.88     10000\n",
            "weighted avg       0.88      0.88      0.88     10000\n",
            "\n",
            "Test set: Average loss: 0.3759, Accuracy: 8788/10000 (87.88%)\n",
            "\n",
            "Epoch 41\n"
          ]
        },
        {
          "output_type": "stream",
          "name": "stderr",
          "text": [
            "Train: Loss=0.2165 Batch_id=97 Accuracy=91.24: 100%|██████████| 98/98 [00:21<00:00,  4.62it/s]\n"
          ]
        },
        {
          "output_type": "stream",
          "name": "stdout",
          "text": [
            "              precision    recall  f1-score   support\n",
            "\n",
            "           0       0.91      0.83      0.87      1000\n",
            "           1       0.91      0.95      0.93      1000\n",
            "           2       0.93      0.75      0.83      1000\n",
            "           3       0.73      0.81      0.77      1000\n",
            "           4       0.82      0.90      0.86      1000\n",
            "           5       0.85      0.80      0.82      1000\n",
            "           6       0.93      0.91      0.92      1000\n",
            "           7       0.90      0.92      0.91      1000\n",
            "           8       0.87      0.96      0.91      1000\n",
            "           9       0.93      0.92      0.92      1000\n",
            "\n",
            "    accuracy                           0.87     10000\n",
            "   macro avg       0.88      0.87      0.87     10000\n",
            "weighted avg       0.88      0.87      0.87     10000\n",
            "\n",
            "Test set: Average loss: 0.3937, Accuracy: 8748/10000 (87.48%)\n",
            "\n",
            "Epoch 42\n"
          ]
        },
        {
          "output_type": "stream",
          "name": "stderr",
          "text": [
            "Train: Loss=0.2109 Batch_id=97 Accuracy=91.86: 100%|██████████| 98/98 [00:21<00:00,  4.61it/s]\n"
          ]
        },
        {
          "output_type": "stream",
          "name": "stdout",
          "text": [
            "              precision    recall  f1-score   support\n",
            "\n",
            "           0       0.84      0.93      0.88      1000\n",
            "           1       0.95      0.93      0.94      1000\n",
            "           2       0.92      0.77      0.84      1000\n",
            "           3       0.68      0.85      0.75      1000\n",
            "           4       0.90      0.86      0.88      1000\n",
            "           5       0.85      0.76      0.80      1000\n",
            "           6       0.88      0.95      0.91      1000\n",
            "           7       0.93      0.90      0.91      1000\n",
            "           8       0.96      0.88      0.92      1000\n",
            "           9       0.92      0.93      0.93      1000\n",
            "\n",
            "    accuracy                           0.88     10000\n",
            "   macro avg       0.88      0.88      0.88     10000\n",
            "weighted avg       0.88      0.88      0.88     10000\n",
            "\n",
            "Test set: Average loss: 0.3934, Accuracy: 8762/10000 (87.62%)\n",
            "\n",
            "Epoch 43\n"
          ]
        },
        {
          "output_type": "stream",
          "name": "stderr",
          "text": [
            "Train: Loss=0.2579 Batch_id=97 Accuracy=91.92: 100%|██████████| 98/98 [00:21<00:00,  4.62it/s]\n"
          ]
        },
        {
          "output_type": "stream",
          "name": "stdout",
          "text": [
            "              precision    recall  f1-score   support\n",
            "\n",
            "           0       0.91      0.89      0.90      1000\n",
            "           1       0.96      0.93      0.94      1000\n",
            "           2       0.82      0.89      0.85      1000\n",
            "           3       0.70      0.84      0.77      1000\n",
            "           4       0.89      0.88      0.89      1000\n",
            "           5       0.92      0.72      0.81      1000\n",
            "           6       0.95      0.90      0.93      1000\n",
            "           7       0.93      0.92      0.93      1000\n",
            "           8       0.92      0.95      0.94      1000\n",
            "           9       0.92      0.95      0.93      1000\n",
            "\n",
            "    accuracy                           0.89     10000\n",
            "   macro avg       0.89      0.89      0.89     10000\n",
            "weighted avg       0.89      0.89      0.89     10000\n",
            "\n",
            "Test set: Average loss: 0.3668, Accuracy: 8880/10000 (88.80%)\n",
            "\n",
            "Epoch 44\n"
          ]
        },
        {
          "output_type": "stream",
          "name": "stderr",
          "text": [
            "Train: Loss=0.2233 Batch_id=97 Accuracy=92.47: 100%|██████████| 98/98 [00:21<00:00,  4.63it/s]\n"
          ]
        },
        {
          "output_type": "stream",
          "name": "stdout",
          "text": [
            "              precision    recall  f1-score   support\n",
            "\n",
            "           0       0.88      0.92      0.90      1000\n",
            "           1       0.94      0.95      0.94      1000\n",
            "           2       0.85      0.85      0.85      1000\n",
            "           3       0.73      0.80      0.77      1000\n",
            "           4       0.86      0.90      0.88      1000\n",
            "           5       0.87      0.75      0.80      1000\n",
            "           6       0.94      0.92      0.93      1000\n",
            "           7       0.91      0.93      0.92      1000\n",
            "           8       0.94      0.92      0.93      1000\n",
            "           9       0.94      0.92      0.93      1000\n",
            "\n",
            "    accuracy                           0.89     10000\n",
            "   macro avg       0.89      0.89      0.89     10000\n",
            "weighted avg       0.89      0.89      0.89     10000\n",
            "\n",
            "Test set: Average loss: 0.3597, Accuracy: 8855/10000 (88.55%)\n",
            "\n",
            "Epoch 45\n"
          ]
        },
        {
          "output_type": "stream",
          "name": "stderr",
          "text": [
            "Train: Loss=0.2025 Batch_id=97 Accuracy=92.63: 100%|██████████| 98/98 [00:21<00:00,  4.62it/s]\n"
          ]
        },
        {
          "output_type": "stream",
          "name": "stdout",
          "text": [
            "              precision    recall  f1-score   support\n",
            "\n",
            "           0       0.82      0.94      0.88      1000\n",
            "           1       0.95      0.93      0.94      1000\n",
            "           2       0.86      0.84      0.85      1000\n",
            "           3       0.75      0.79      0.77      1000\n",
            "           4       0.89      0.89      0.89      1000\n",
            "           5       0.85      0.79      0.82      1000\n",
            "           6       0.95      0.89      0.92      1000\n",
            "           7       0.92      0.91      0.92      1000\n",
            "           8       0.94      0.92      0.93      1000\n",
            "           9       0.93      0.93      0.93      1000\n",
            "\n",
            "    accuracy                           0.88     10000\n",
            "   macro avg       0.89      0.88      0.88     10000\n",
            "weighted avg       0.89      0.88      0.88     10000\n",
            "\n",
            "Test set: Average loss: 0.3668, Accuracy: 8839/10000 (88.39%)\n",
            "\n",
            "Epoch 46\n"
          ]
        },
        {
          "output_type": "stream",
          "name": "stderr",
          "text": [
            "Train: Loss=0.2028 Batch_id=97 Accuracy=92.82: 100%|██████████| 98/98 [00:21<00:00,  4.64it/s]\n"
          ]
        },
        {
          "output_type": "stream",
          "name": "stdout",
          "text": [
            "              precision    recall  f1-score   support\n",
            "\n",
            "           0       0.91      0.88      0.90      1000\n",
            "           1       0.95      0.95      0.95      1000\n",
            "           2       0.86      0.82      0.84      1000\n",
            "           3       0.79      0.77      0.78      1000\n",
            "           4       0.82      0.92      0.87      1000\n",
            "           5       0.81      0.83      0.82      1000\n",
            "           6       0.94      0.91      0.93      1000\n",
            "           7       0.91      0.92      0.91      1000\n",
            "           8       0.95      0.93      0.94      1000\n",
            "           9       0.93      0.94      0.93      1000\n",
            "\n",
            "    accuracy                           0.89     10000\n",
            "   macro avg       0.89      0.89      0.89     10000\n",
            "weighted avg       0.89      0.89      0.89     10000\n",
            "\n",
            "Test set: Average loss: 0.3622, Accuracy: 8865/10000 (88.65%)\n",
            "\n",
            "Epoch 47\n"
          ]
        },
        {
          "output_type": "stream",
          "name": "stderr",
          "text": [
            "Train: Loss=0.2307 Batch_id=97 Accuracy=93.31: 100%|██████████| 98/98 [00:21<00:00,  4.65it/s]\n"
          ]
        },
        {
          "output_type": "stream",
          "name": "stdout",
          "text": [
            "              precision    recall  f1-score   support\n",
            "\n",
            "           0       0.86      0.92      0.89      1000\n",
            "           1       0.96      0.92      0.94      1000\n",
            "           2       0.91      0.78      0.84      1000\n",
            "           3       0.75      0.78      0.77      1000\n",
            "           4       0.86      0.91      0.89      1000\n",
            "           5       0.86      0.80      0.83      1000\n",
            "           6       0.91      0.94      0.93      1000\n",
            "           7       0.93      0.91      0.92      1000\n",
            "           8       0.92      0.94      0.93      1000\n",
            "           9       0.92      0.95      0.94      1000\n",
            "\n",
            "    accuracy                           0.89     10000\n",
            "   macro avg       0.89      0.89      0.89     10000\n",
            "weighted avg       0.89      0.89      0.89     10000\n",
            "\n",
            "Test set: Average loss: 0.3693, Accuracy: 8879/10000 (88.79%)\n",
            "\n",
            "Epoch 48\n"
          ]
        },
        {
          "output_type": "stream",
          "name": "stderr",
          "text": [
            "Train: Loss=0.2104 Batch_id=97 Accuracy=93.44: 100%|██████████| 98/98 [00:21<00:00,  4.64it/s]\n"
          ]
        },
        {
          "output_type": "stream",
          "name": "stdout",
          "text": [
            "              precision    recall  f1-score   support\n",
            "\n",
            "           0       0.87      0.94      0.90      1000\n",
            "           1       0.94      0.95      0.94      1000\n",
            "           2       0.84      0.86      0.85      1000\n",
            "           3       0.77      0.80      0.79      1000\n",
            "           4       0.90      0.86      0.88      1000\n",
            "           5       0.86      0.81      0.83      1000\n",
            "           6       0.93      0.92      0.93      1000\n",
            "           7       0.91      0.92      0.92      1000\n",
            "           8       0.95      0.92      0.93      1000\n",
            "           9       0.94      0.93      0.93      1000\n",
            "\n",
            "    accuracy                           0.89     10000\n",
            "   macro avg       0.89      0.89      0.89     10000\n",
            "weighted avg       0.89      0.89      0.89     10000\n",
            "\n",
            "Test set: Average loss: 0.3525, Accuracy: 8897/10000 (88.97%)\n",
            "\n",
            "Epoch 49\n"
          ]
        },
        {
          "output_type": "stream",
          "name": "stderr",
          "text": [
            "Train: Loss=0.1776 Batch_id=97 Accuracy=93.66: 100%|██████████| 98/98 [00:21<00:00,  4.62it/s]\n"
          ]
        },
        {
          "output_type": "stream",
          "name": "stdout",
          "text": [
            "              precision    recall  f1-score   support\n",
            "\n",
            "           0       0.91      0.91      0.91      1000\n",
            "           1       0.95      0.94      0.94      1000\n",
            "           2       0.83      0.87      0.85      1000\n",
            "           3       0.87      0.66      0.75      1000\n",
            "           4       0.88      0.89      0.88      1000\n",
            "           5       0.76      0.90      0.82      1000\n",
            "           6       0.95      0.92      0.93      1000\n",
            "           7       0.91      0.92      0.92      1000\n",
            "           8       0.92      0.95      0.93      1000\n",
            "           9       0.95      0.92      0.94      1000\n",
            "\n",
            "    accuracy                           0.89     10000\n",
            "   macro avg       0.89      0.89      0.89     10000\n",
            "weighted avg       0.89      0.89      0.89     10000\n",
            "\n",
            "Test set: Average loss: 0.3566, Accuracy: 8888/10000 (88.88%)\n",
            "\n",
            "Epoch 50\n"
          ]
        },
        {
          "output_type": "stream",
          "name": "stderr",
          "text": [
            "Train: Loss=0.2168 Batch_id=97 Accuracy=93.79: 100%|██████████| 98/98 [00:21<00:00,  4.64it/s]\n"
          ]
        },
        {
          "output_type": "stream",
          "name": "stdout",
          "text": [
            "              precision    recall  f1-score   support\n",
            "\n",
            "           0       0.91      0.89      0.90      1000\n",
            "           1       0.97      0.91      0.94      1000\n",
            "           2       0.91      0.81      0.86      1000\n",
            "           3       0.76      0.81      0.79      1000\n",
            "           4       0.89      0.89      0.89      1000\n",
            "           5       0.85      0.82      0.83      1000\n",
            "           6       0.93      0.94      0.93      1000\n",
            "           7       0.90      0.94      0.92      1000\n",
            "           8       0.92      0.95      0.93      1000\n",
            "           9       0.90      0.95      0.93      1000\n",
            "\n",
            "    accuracy                           0.89     10000\n",
            "   macro avg       0.89      0.89      0.89     10000\n",
            "weighted avg       0.89      0.89      0.89     10000\n",
            "\n",
            "Test set: Average loss: 0.3414, Accuracy: 8918/10000 (89.18%)\n",
            "\n",
            "Epoch 51\n"
          ]
        },
        {
          "output_type": "stream",
          "name": "stderr",
          "text": [
            "Train: Loss=0.2053 Batch_id=97 Accuracy=94.22: 100%|██████████| 98/98 [00:21<00:00,  4.64it/s]\n"
          ]
        },
        {
          "output_type": "stream",
          "name": "stdout",
          "text": [
            "              precision    recall  f1-score   support\n",
            "\n",
            "           0       0.86      0.94      0.90      1000\n",
            "           1       0.94      0.94      0.94      1000\n",
            "           2       0.89      0.82      0.86      1000\n",
            "           3       0.83      0.74      0.78      1000\n",
            "           4       0.88      0.90      0.89      1000\n",
            "           5       0.78      0.88      0.83      1000\n",
            "           6       0.93      0.94      0.93      1000\n",
            "           7       0.95      0.90      0.93      1000\n",
            "           8       0.96      0.92      0.94      1000\n",
            "           9       0.92      0.94      0.93      1000\n",
            "\n",
            "    accuracy                           0.89     10000\n",
            "   macro avg       0.89      0.89      0.89     10000\n",
            "weighted avg       0.89      0.89      0.89     10000\n",
            "\n",
            "Test set: Average loss: 0.3482, Accuracy: 8916/10000 (89.16%)\n",
            "\n",
            "Epoch 52\n"
          ]
        },
        {
          "output_type": "stream",
          "name": "stderr",
          "text": [
            "Train: Loss=0.1452 Batch_id=97 Accuracy=94.47: 100%|██████████| 98/98 [00:21<00:00,  4.62it/s]\n"
          ]
        },
        {
          "output_type": "stream",
          "name": "stdout",
          "text": [
            "              precision    recall  f1-score   support\n",
            "\n",
            "           0       0.90      0.91      0.91      1000\n",
            "           1       0.92      0.97      0.94      1000\n",
            "           2       0.89      0.84      0.86      1000\n",
            "           3       0.80      0.78      0.79      1000\n",
            "           4       0.88      0.89      0.88      1000\n",
            "           5       0.80      0.87      0.83      1000\n",
            "           6       0.94      0.93      0.93      1000\n",
            "           7       0.92      0.92      0.92      1000\n",
            "           8       0.97      0.91      0.94      1000\n",
            "           9       0.94      0.93      0.93      1000\n",
            "\n",
            "    accuracy                           0.89     10000\n",
            "   macro avg       0.89      0.89      0.89     10000\n",
            "weighted avg       0.89      0.89      0.89     10000\n",
            "\n",
            "Test set: Average loss: 0.3383, Accuracy: 8941/10000 (89.41%)\n",
            "\n",
            "Epoch 53\n"
          ]
        },
        {
          "output_type": "stream",
          "name": "stderr",
          "text": [
            "Train: Loss=0.1070 Batch_id=97 Accuracy=94.87: 100%|██████████| 98/98 [00:21<00:00,  4.62it/s]\n"
          ]
        },
        {
          "output_type": "stream",
          "name": "stdout",
          "text": [
            "              precision    recall  f1-score   support\n",
            "\n",
            "           0       0.92      0.89      0.90      1000\n",
            "           1       0.96      0.95      0.95      1000\n",
            "           2       0.86      0.86      0.86      1000\n",
            "           3       0.80      0.80      0.80      1000\n",
            "           4       0.89      0.89      0.89      1000\n",
            "           5       0.82      0.86      0.84      1000\n",
            "           6       0.93      0.94      0.94      1000\n",
            "           7       0.95      0.92      0.93      1000\n",
            "           8       0.95      0.93      0.94      1000\n",
            "           9       0.92      0.95      0.93      1000\n",
            "\n",
            "    accuracy                           0.90     10000\n",
            "   macro avg       0.90      0.90      0.90     10000\n",
            "weighted avg       0.90      0.90      0.90     10000\n",
            "\n",
            "Test set: Average loss: 0.3296, Accuracy: 8991/10000 (89.91%)\n",
            "\n",
            "Epoch 54\n"
          ]
        },
        {
          "output_type": "stream",
          "name": "stderr",
          "text": [
            "Train: Loss=0.1295 Batch_id=97 Accuracy=94.96: 100%|██████████| 98/98 [00:21<00:00,  4.63it/s]\n"
          ]
        },
        {
          "output_type": "stream",
          "name": "stdout",
          "text": [
            "              precision    recall  f1-score   support\n",
            "\n",
            "           0       0.91      0.92      0.91      1000\n",
            "           1       0.95      0.95      0.95      1000\n",
            "           2       0.85      0.86      0.86      1000\n",
            "           3       0.84      0.72      0.78      1000\n",
            "           4       0.89      0.89      0.89      1000\n",
            "           5       0.80      0.88      0.84      1000\n",
            "           6       0.91      0.96      0.93      1000\n",
            "           7       0.95      0.91      0.93      1000\n",
            "           8       0.95      0.95      0.95      1000\n",
            "           9       0.92      0.94      0.93      1000\n",
            "\n",
            "    accuracy                           0.90     10000\n",
            "   macro avg       0.90      0.90      0.90     10000\n",
            "weighted avg       0.90      0.90      0.90     10000\n",
            "\n",
            "Test set: Average loss: 0.3380, Accuracy: 8967/10000 (89.67%)\n",
            "\n",
            "Epoch 55\n"
          ]
        },
        {
          "output_type": "stream",
          "name": "stderr",
          "text": [
            "Train: Loss=0.1546 Batch_id=97 Accuracy=95.21: 100%|██████████| 98/98 [00:21<00:00,  4.62it/s]\n"
          ]
        },
        {
          "output_type": "stream",
          "name": "stdout",
          "text": [
            "              precision    recall  f1-score   support\n",
            "\n",
            "           0       0.89      0.92      0.91      1000\n",
            "           1       0.95      0.96      0.95      1000\n",
            "           2       0.90      0.83      0.86      1000\n",
            "           3       0.77      0.81      0.79      1000\n",
            "           4       0.89      0.90      0.90      1000\n",
            "           5       0.84      0.84      0.84      1000\n",
            "           6       0.93      0.94      0.93      1000\n",
            "           7       0.93      0.93      0.93      1000\n",
            "           8       0.96      0.94      0.95      1000\n",
            "           9       0.95      0.93      0.94      1000\n",
            "\n",
            "    accuracy                           0.90     10000\n",
            "   macro avg       0.90      0.90      0.90     10000\n",
            "weighted avg       0.90      0.90      0.90     10000\n",
            "\n",
            "Test set: Average loss: 0.3273, Accuracy: 8990/10000 (89.90%)\n",
            "\n",
            "Epoch 56\n"
          ]
        },
        {
          "output_type": "stream",
          "name": "stderr",
          "text": [
            "Train: Loss=0.1394 Batch_id=97 Accuracy=95.49: 100%|██████████| 98/98 [00:21<00:00,  4.62it/s]\n"
          ]
        },
        {
          "output_type": "stream",
          "name": "stdout",
          "text": [
            "              precision    recall  f1-score   support\n",
            "\n",
            "           0       0.89      0.92      0.91      1000\n",
            "           1       0.94      0.95      0.95      1000\n",
            "           2       0.88      0.84      0.86      1000\n",
            "           3       0.80      0.78      0.79      1000\n",
            "           4       0.89      0.90      0.89      1000\n",
            "           5       0.84      0.84      0.84      1000\n",
            "           6       0.91      0.95      0.93      1000\n",
            "           7       0.94      0.92      0.93      1000\n",
            "           8       0.95      0.94      0.94      1000\n",
            "           9       0.94      0.94      0.94      1000\n",
            "\n",
            "    accuracy                           0.90     10000\n",
            "   macro avg       0.90      0.90      0.90     10000\n",
            "weighted avg       0.90      0.90      0.90     10000\n",
            "\n",
            "Test set: Average loss: 0.3245, Accuracy: 8985/10000 (89.85%)\n",
            "\n",
            "Epoch 57\n"
          ]
        },
        {
          "output_type": "stream",
          "name": "stderr",
          "text": [
            "Train: Loss=0.1405 Batch_id=97 Accuracy=95.66: 100%|██████████| 98/98 [00:21<00:00,  4.61it/s]\n"
          ]
        },
        {
          "output_type": "stream",
          "name": "stdout",
          "text": [
            "              precision    recall  f1-score   support\n",
            "\n",
            "           0       0.90      0.92      0.91      1000\n",
            "           1       0.95      0.95      0.95      1000\n",
            "           2       0.91      0.82      0.86      1000\n",
            "           3       0.78      0.81      0.80      1000\n",
            "           4       0.90      0.90      0.90      1000\n",
            "           5       0.82      0.85      0.84      1000\n",
            "           6       0.93      0.95      0.94      1000\n",
            "           7       0.94      0.92      0.93      1000\n",
            "           8       0.95      0.93      0.94      1000\n",
            "           9       0.93      0.94      0.93      1000\n",
            "\n",
            "    accuracy                           0.90     10000\n",
            "   macro avg       0.90      0.90      0.90     10000\n",
            "weighted avg       0.90      0.90      0.90     10000\n",
            "\n",
            "Test set: Average loss: 0.3253, Accuracy: 8993/10000 (89.93%)\n",
            "\n",
            "Epoch 58\n"
          ]
        },
        {
          "output_type": "stream",
          "name": "stderr",
          "text": [
            "Train: Loss=0.1465 Batch_id=97 Accuracy=95.75: 100%|██████████| 98/98 [00:21<00:00,  4.63it/s]\n"
          ]
        },
        {
          "output_type": "stream",
          "name": "stdout",
          "text": [
            "              precision    recall  f1-score   support\n",
            "\n",
            "           0       0.90      0.92      0.91      1000\n",
            "           1       0.95      0.96      0.95      1000\n",
            "           2       0.89      0.84      0.87      1000\n",
            "           3       0.80      0.79      0.79      1000\n",
            "           4       0.87      0.91      0.89      1000\n",
            "           5       0.85      0.85      0.85      1000\n",
            "           6       0.93      0.94      0.94      1000\n",
            "           7       0.93      0.92      0.93      1000\n",
            "           8       0.95      0.94      0.94      1000\n",
            "           9       0.94      0.94      0.94      1000\n",
            "\n",
            "    accuracy                           0.90     10000\n",
            "   macro avg       0.90      0.90      0.90     10000\n",
            "weighted avg       0.90      0.90      0.90     10000\n",
            "\n",
            "Test set: Average loss: 0.3205, Accuracy: 9010/10000 (90.10%)\n",
            "\n",
            "Epoch 59\n"
          ]
        },
        {
          "output_type": "stream",
          "name": "stderr",
          "text": [
            "Train: Loss=0.1423 Batch_id=97 Accuracy=96.02: 100%|██████████| 98/98 [00:21<00:00,  4.62it/s]\n"
          ]
        },
        {
          "output_type": "stream",
          "name": "stdout",
          "text": [
            "              precision    recall  f1-score   support\n",
            "\n",
            "           0       0.90      0.92      0.91      1000\n",
            "           1       0.95      0.95      0.95      1000\n",
            "           2       0.89      0.84      0.86      1000\n",
            "           3       0.80      0.79      0.80      1000\n",
            "           4       0.87      0.91      0.89      1000\n",
            "           5       0.85      0.85      0.85      1000\n",
            "           6       0.94      0.94      0.94      1000\n",
            "           7       0.93      0.92      0.92      1000\n",
            "           8       0.95      0.94      0.95      1000\n",
            "           9       0.94      0.94      0.94      1000\n",
            "\n",
            "    accuracy                           0.90     10000\n",
            "   macro avg       0.90      0.90      0.90     10000\n",
            "weighted avg       0.90      0.90      0.90     10000\n",
            "\n",
            "Test set: Average loss: 0.3177, Accuracy: 9016/10000 (90.16%)\n",
            "\n",
            "Epoch 60\n"
          ]
        },
        {
          "output_type": "stream",
          "name": "stderr",
          "text": [
            "Train: Loss=0.1257 Batch_id=97 Accuracy=96.09: 100%|██████████| 98/98 [00:21<00:00,  4.62it/s]\n"
          ]
        },
        {
          "output_type": "stream",
          "name": "stdout",
          "text": [
            "              precision    recall  f1-score   support\n",
            "\n",
            "           0       0.90      0.92      0.91      1000\n",
            "           1       0.96      0.95      0.95      1000\n",
            "           2       0.90      0.84      0.87      1000\n",
            "           3       0.80      0.79      0.80      1000\n",
            "           4       0.87      0.91      0.89      1000\n",
            "           5       0.84      0.86      0.85      1000\n",
            "           6       0.94      0.94      0.94      1000\n",
            "           7       0.93      0.92      0.93      1000\n",
            "           8       0.95      0.94      0.95      1000\n",
            "           9       0.93      0.94      0.94      1000\n",
            "\n",
            "    accuracy                           0.90     10000\n",
            "   macro avg       0.90      0.90      0.90     10000\n",
            "weighted avg       0.90      0.90      0.90     10000\n",
            "\n",
            "Test set: Average loss: 0.3168, Accuracy: 9018/10000 (90.18%)\n",
            "\n"
          ]
        }
      ]
    },
    {
      "cell_type": "code",
      "source": [
        "df_misclassified = pd.DataFrame(metrics['misclassified_data'])"
      ],
      "metadata": {
        "id": "NkQiWbSSxH_M"
      },
      "execution_count": 174,
      "outputs": []
    },
    {
      "cell_type": "code",
      "source": [
        "df_misclassified.sample(n=10)"
      ],
      "metadata": {
        "colab": {
          "base_uri": "https://localhost:8080/",
          "height": 363
        },
        "id": "0JT6sDOYl8cz",
        "outputId": "38eae2fe-9410-468f-cda1-e6a6fa2240f9"
      },
      "execution_count": 175,
      "outputs": [
        {
          "output_type": "execute_result",
          "data": {
            "text/plain": [
              "     pred  actual                                               data\n",
              "448     3       9  [[[0.88411194, 0.96348554, 1.0587339, 0.741239...\n",
              "230     1       8  [[[0.70949, 0.820613, 0.77298886, 0.8682372, 0...\n",
              "670     0       9  [[[1.9635931, 2.0588412, 2.0588412, 2.0429666,...\n",
              "726     0       8  [[[1.1539822, 1.1381075, 1.1857316, 1.2174811,...\n",
              "257     9       5  [[[0.5189933, 0.63011634, 0.6777405, 0.7729888...\n",
              "241     6       4  [[[-0.68748564, -0.46523952, -0.46523952, 0.07...\n",
              "624     4       6  [[[-0.2429934, -0.16361979, -0.14774506, -0.22...\n",
              "44      4       3  [[[-0.40174064, -0.49698898, -0.115995616, -0....\n",
              "581     0       2  [[[0.61424166, 0.5666175, 0.534868, 0.47136912...\n",
              "879     2       3  [[[0.63011634, 0.1697494, 0.1697494, 0.0268768..."
            ],
            "text/html": [
              "\n",
              "\n",
              "  <div id=\"df-5618e760-f4f8-4305-81de-8ddc2e091f67\">\n",
              "    <div class=\"colab-df-container\">\n",
              "      <div>\n",
              "<style scoped>\n",
              "    .dataframe tbody tr th:only-of-type {\n",
              "        vertical-align: middle;\n",
              "    }\n",
              "\n",
              "    .dataframe tbody tr th {\n",
              "        vertical-align: top;\n",
              "    }\n",
              "\n",
              "    .dataframe thead th {\n",
              "        text-align: right;\n",
              "    }\n",
              "</style>\n",
              "<table border=\"1\" class=\"dataframe\">\n",
              "  <thead>\n",
              "    <tr style=\"text-align: right;\">\n",
              "      <th></th>\n",
              "      <th>pred</th>\n",
              "      <th>actual</th>\n",
              "      <th>data</th>\n",
              "    </tr>\n",
              "  </thead>\n",
              "  <tbody>\n",
              "    <tr>\n",
              "      <th>448</th>\n",
              "      <td>3</td>\n",
              "      <td>9</td>\n",
              "      <td>[[[0.88411194, 0.96348554, 1.0587339, 0.741239...</td>\n",
              "    </tr>\n",
              "    <tr>\n",
              "      <th>230</th>\n",
              "      <td>1</td>\n",
              "      <td>8</td>\n",
              "      <td>[[[0.70949, 0.820613, 0.77298886, 0.8682372, 0...</td>\n",
              "    </tr>\n",
              "    <tr>\n",
              "      <th>670</th>\n",
              "      <td>0</td>\n",
              "      <td>9</td>\n",
              "      <td>[[[1.9635931, 2.0588412, 2.0588412, 2.0429666,...</td>\n",
              "    </tr>\n",
              "    <tr>\n",
              "      <th>726</th>\n",
              "      <td>0</td>\n",
              "      <td>8</td>\n",
              "      <td>[[[1.1539822, 1.1381075, 1.1857316, 1.2174811,...</td>\n",
              "    </tr>\n",
              "    <tr>\n",
              "      <th>257</th>\n",
              "      <td>9</td>\n",
              "      <td>5</td>\n",
              "      <td>[[[0.5189933, 0.63011634, 0.6777405, 0.7729888...</td>\n",
              "    </tr>\n",
              "    <tr>\n",
              "      <th>241</th>\n",
              "      <td>6</td>\n",
              "      <td>4</td>\n",
              "      <td>[[[-0.68748564, -0.46523952, -0.46523952, 0.07...</td>\n",
              "    </tr>\n",
              "    <tr>\n",
              "      <th>624</th>\n",
              "      <td>4</td>\n",
              "      <td>6</td>\n",
              "      <td>[[[-0.2429934, -0.16361979, -0.14774506, -0.22...</td>\n",
              "    </tr>\n",
              "    <tr>\n",
              "      <th>44</th>\n",
              "      <td>4</td>\n",
              "      <td>3</td>\n",
              "      <td>[[[-0.40174064, -0.49698898, -0.115995616, -0....</td>\n",
              "    </tr>\n",
              "    <tr>\n",
              "      <th>581</th>\n",
              "      <td>0</td>\n",
              "      <td>2</td>\n",
              "      <td>[[[0.61424166, 0.5666175, 0.534868, 0.47136912...</td>\n",
              "    </tr>\n",
              "    <tr>\n",
              "      <th>879</th>\n",
              "      <td>2</td>\n",
              "      <td>3</td>\n",
              "      <td>[[[0.63011634, 0.1697494, 0.1697494, 0.0268768...</td>\n",
              "    </tr>\n",
              "  </tbody>\n",
              "</table>\n",
              "</div>\n",
              "      <button class=\"colab-df-convert\" onclick=\"convertToInteractive('df-5618e760-f4f8-4305-81de-8ddc2e091f67')\"\n",
              "              title=\"Convert this dataframe to an interactive table.\"\n",
              "              style=\"display:none;\">\n",
              "\n",
              "  <svg xmlns=\"http://www.w3.org/2000/svg\" height=\"24px\"viewBox=\"0 0 24 24\"\n",
              "       width=\"24px\">\n",
              "    <path d=\"M0 0h24v24H0V0z\" fill=\"none\"/>\n",
              "    <path d=\"M18.56 5.44l.94 2.06.94-2.06 2.06-.94-2.06-.94-.94-2.06-.94 2.06-2.06.94zm-11 1L8.5 8.5l.94-2.06 2.06-.94-2.06-.94L8.5 2.5l-.94 2.06-2.06.94zm10 10l.94 2.06.94-2.06 2.06-.94-2.06-.94-.94-2.06-.94 2.06-2.06.94z\"/><path d=\"M17.41 7.96l-1.37-1.37c-.4-.4-.92-.59-1.43-.59-.52 0-1.04.2-1.43.59L10.3 9.45l-7.72 7.72c-.78.78-.78 2.05 0 2.83L4 21.41c.39.39.9.59 1.41.59.51 0 1.02-.2 1.41-.59l7.78-7.78 2.81-2.81c.8-.78.8-2.07 0-2.86zM5.41 20L4 18.59l7.72-7.72 1.47 1.35L5.41 20z\"/>\n",
              "  </svg>\n",
              "      </button>\n",
              "\n",
              "\n",
              "\n",
              "    <div id=\"df-653d5e69-29e4-4aff-b63f-c32e56edb1ee\">\n",
              "      <button class=\"colab-df-quickchart\" onclick=\"quickchart('df-653d5e69-29e4-4aff-b63f-c32e56edb1ee')\"\n",
              "              title=\"Suggest charts.\"\n",
              "              style=\"display:none;\">\n",
              "\n",
              "<svg xmlns=\"http://www.w3.org/2000/svg\" height=\"24px\"viewBox=\"0 0 24 24\"\n",
              "     width=\"24px\">\n",
              "    <g>\n",
              "        <path d=\"M19 3H5c-1.1 0-2 .9-2 2v14c0 1.1.9 2 2 2h14c1.1 0 2-.9 2-2V5c0-1.1-.9-2-2-2zM9 17H7v-7h2v7zm4 0h-2V7h2v10zm4 0h-2v-4h2v4z\"/>\n",
              "    </g>\n",
              "</svg>\n",
              "      </button>\n",
              "    </div>\n",
              "\n",
              "<style>\n",
              "  .colab-df-quickchart {\n",
              "    background-color: #E8F0FE;\n",
              "    border: none;\n",
              "    border-radius: 50%;\n",
              "    cursor: pointer;\n",
              "    display: none;\n",
              "    fill: #1967D2;\n",
              "    height: 32px;\n",
              "    padding: 0 0 0 0;\n",
              "    width: 32px;\n",
              "  }\n",
              "\n",
              "  .colab-df-quickchart:hover {\n",
              "    background-color: #E2EBFA;\n",
              "    box-shadow: 0px 1px 2px rgba(60, 64, 67, 0.3), 0px 1px 3px 1px rgba(60, 64, 67, 0.15);\n",
              "    fill: #174EA6;\n",
              "  }\n",
              "\n",
              "  [theme=dark] .colab-df-quickchart {\n",
              "    background-color: #3B4455;\n",
              "    fill: #D2E3FC;\n",
              "  }\n",
              "\n",
              "  [theme=dark] .colab-df-quickchart:hover {\n",
              "    background-color: #434B5C;\n",
              "    box-shadow: 0px 1px 3px 1px rgba(0, 0, 0, 0.15);\n",
              "    filter: drop-shadow(0px 1px 2px rgba(0, 0, 0, 0.3));\n",
              "    fill: #FFFFFF;\n",
              "  }\n",
              "</style>\n",
              "\n",
              "    <script>\n",
              "      async function quickchart(key) {\n",
              "        const containerElement = document.querySelector('#' + key);\n",
              "        const charts = await google.colab.kernel.invokeFunction(\n",
              "            'suggestCharts', [key], {});\n",
              "      }\n",
              "    </script>\n",
              "\n",
              "      <script>\n",
              "\n",
              "function displayQuickchartButton(domScope) {\n",
              "  let quickchartButtonEl =\n",
              "    domScope.querySelector('#df-653d5e69-29e4-4aff-b63f-c32e56edb1ee button.colab-df-quickchart');\n",
              "  quickchartButtonEl.style.display =\n",
              "    google.colab.kernel.accessAllowed ? 'block' : 'none';\n",
              "}\n",
              "\n",
              "        displayQuickchartButton(document);\n",
              "      </script>\n",
              "      <style>\n",
              "    .colab-df-container {\n",
              "      display:flex;\n",
              "      flex-wrap:wrap;\n",
              "      gap: 12px;\n",
              "    }\n",
              "\n",
              "    .colab-df-convert {\n",
              "      background-color: #E8F0FE;\n",
              "      border: none;\n",
              "      border-radius: 50%;\n",
              "      cursor: pointer;\n",
              "      display: none;\n",
              "      fill: #1967D2;\n",
              "      height: 32px;\n",
              "      padding: 0 0 0 0;\n",
              "      width: 32px;\n",
              "    }\n",
              "\n",
              "    .colab-df-convert:hover {\n",
              "      background-color: #E2EBFA;\n",
              "      box-shadow: 0px 1px 2px rgba(60, 64, 67, 0.3), 0px 1px 3px 1px rgba(60, 64, 67, 0.15);\n",
              "      fill: #174EA6;\n",
              "    }\n",
              "\n",
              "    [theme=dark] .colab-df-convert {\n",
              "      background-color: #3B4455;\n",
              "      fill: #D2E3FC;\n",
              "    }\n",
              "\n",
              "    [theme=dark] .colab-df-convert:hover {\n",
              "      background-color: #434B5C;\n",
              "      box-shadow: 0px 1px 3px 1px rgba(0, 0, 0, 0.15);\n",
              "      filter: drop-shadow(0px 1px 2px rgba(0, 0, 0, 0.3));\n",
              "      fill: #FFFFFF;\n",
              "    }\n",
              "  </style>\n",
              "\n",
              "      <script>\n",
              "        const buttonEl =\n",
              "          document.querySelector('#df-5618e760-f4f8-4305-81de-8ddc2e091f67 button.colab-df-convert');\n",
              "        buttonEl.style.display =\n",
              "          google.colab.kernel.accessAllowed ? 'block' : 'none';\n",
              "\n",
              "        async function convertToInteractive(key) {\n",
              "          const element = document.querySelector('#df-5618e760-f4f8-4305-81de-8ddc2e091f67');\n",
              "          const dataTable =\n",
              "            await google.colab.kernel.invokeFunction('convertToInteractive',\n",
              "                                                     [key], {});\n",
              "          if (!dataTable) return;\n",
              "\n",
              "          const docLinkHtml = 'Like what you see? Visit the ' +\n",
              "            '<a target=\"_blank\" href=https://colab.research.google.com/notebooks/data_table.ipynb>data table notebook</a>'\n",
              "            + ' to learn more about interactive tables.';\n",
              "          element.innerHTML = '';\n",
              "          dataTable['output_type'] = 'display_data';\n",
              "          await google.colab.output.renderOutput(dataTable, element);\n",
              "          const docLink = document.createElement('div');\n",
              "          docLink.innerHTML = docLinkHtml;\n",
              "          element.appendChild(docLink);\n",
              "        }\n",
              "      </script>\n",
              "    </div>\n",
              "  </div>\n"
            ]
          },
          "metadata": {},
          "execution_count": 175
        }
      ]
    },
    {
      "cell_type": "code",
      "source": [
        "import matplotlib.pyplot as plt\n",
        "\n",
        "fig = plt.figure(figsize=(12, 5))\n",
        "\n",
        "for i, row in df_misclassified.sample(n=10).reset_index(drop=True).iterrows():\n",
        "    ax = plt.subplot(2, 5, i+1)\n",
        "    plt.axis('off')\n",
        "\n",
        "    img = row['data']\n",
        "    img = (img - img.min()) / (img.max() - img.min())\n",
        "    img = np.moveaxis(img * 255, [0, 1, 2], [2, 0, 1])\n",
        "    plt.imshow(img.astype(int), cmap='jet')\n",
        "\n",
        "    ax.set_title(f\"actual: {labels[row['actual']]} \\n predicted: {labels[row['pred']]}\")\n",
        "\n",
        "plt.show()\n",
        "plt.savefig('failed_ln.jpg')"
      ],
      "metadata": {
        "colab": {
          "base_uri": "https://localhost:8080/",
          "height": 467
        },
        "id": "DWhMj9tcmuG-",
        "outputId": "37189327-9f8c-4a08-f1f0-2f618144fd83"
      },
      "execution_count": 176,
      "outputs": [
        {
          "output_type": "display_data",
          "data": {
            "text/plain": [
              "<Figure size 1200x500 with 10 Axes>"
            ],
            "image/png": "[encoded data removed]"
          },
          "metadata": {}
        },
        {
          "output_type": "display_data",
          "data": {
            "text/plain": [
              "<Figure size 640x480 with 0 Axes>"
            ]
          },
          "metadata": {}
        }
      ]
    },
    {
      "cell_type": "markdown",
      "source": [
        "## Display Results"
      ],
      "metadata": {
        "id": "xVXP0fKFzj1Z"
      }
    },
    {
      "cell_type": "code",
      "source": [
        "df = pd.DataFrame({'train_losses': metrics['train_losses'], 'test_losses': metrics['test_losses']})"
      ],
      "metadata": {
        "id": "qBXxW_lx4rM6"
      },
      "execution_count": 177,
      "outputs": []
    },
    {
      "cell_type": "code",
      "source": [
        "df.plot()"
      ],
      "metadata": {
        "colab": {
          "base_uri": "https://localhost:8080/",
          "height": 542
        },
        "id": "5TJk6RD0_JFw",
        "outputId": "e885cb8f-aa41-4a04-99db-be1c08fb2ce8"
      },
      "execution_count": 178,
      "outputs": [
        {
          "output_type": "display_data",
          "data": {
            "text/html": [
              "<html>\n",
              "<head><meta charset=\"utf-8\" /></head>\n",
              "<body>\n",
              "    <div>            <script src=\"https://cdnjs.cloudflare.com/ajax/libs/mathjax/2.7.5/MathJax.js?config=TeX-AMS-MML_SVG\"></script><script type=\"text/javascript\">if (window.MathJax && window.MathJax.Hub && window.MathJax.Hub.Config) {window.MathJax.Hub.Config({SVG: {font: \"STIX-Web\"}});}</script>                <script type=\"text/javascript\">window.PlotlyConfig = {MathJaxConfig: 'local'};</script>\n",
              "        <script src=\"https://cdn.plot.ly/plotly-2.18.2.min.js\"></script>                <div id=\"e24f55e3-7ef6-48f2-9259-a4451032e971\" class=\"plotly-graph-div\" style=\"height:525px; width:100%;\"></div>            <script type=\"text/javascript\">                                    window.PLOTLYENV=window.PLOTLYENV || {};                                    if (document.getElementById(\"e24f55e3-7ef6-48f2-9259-a4451032e971\")) {                    Plotly.newPlot(                        \"e24f55e3-7ef6-48f2-9259-a4451032e971\",                        [{\"hovertemplate\":\"variable=train_losses<br>index=%{x}<br>value=%{y}<extra></extra>\",\"legendgroup\":\"train_losses\",\"line\":{\"color\":\"#636efa\",\"dash\":\"solid\"},\"marker\":{\"symbol\":\"circle\"},\"mode\":\"lines\",\"name\":\"train_losses\",\"orientation\":\"v\",\"showlegend\":true,\"x\":[0,1,2,3,4,5,6,7,8,9,10,11,12,13,14,15,16,17,18,19,20,21,22,23,24,25,26,27,28,29,30,31,32,33,34,35,36,37,38,39,40,41,42,43,44,45,46,47,48,49,50,51,52,53,54,55,56,57,58,59],\"xaxis\":\"x\",\"y\":[3.390965861933572,1.8158743977546692,1.4913170203870656,1.305657828340725,1.1829717353898652,1.10174149214005,1.0205365170021445,0.962404157434191,0.9036017419124136,0.855668914561369,0.818988096957304,0.777400583637004,0.7499100255722903,0.7186548338860882,0.6948507659289301,0.661824683145601,0.6475290321573919,0.6270733974417861,0.6037222007099463,0.5785303888272266,0.5516500324010849,0.5295328069098142,0.5008016292537961,0.47544660556073093,0.469356929465216,0.4437320986572577,0.42347188750091863,0.4070003133039085,0.39050760561106157,0.3788041098385441,0.36481051177394636,0.3456043683144511,0.34304667644354764,0.32232276639159846,0.30944704279607654,0.30024924342121395,0.28361328037417666,0.27734638902605796,0.27333042572955696,0.2666108865214854,0.2526423979778679,0.2386239986030423,0.23859332060935545,0.22525933415305857,0.21633291077248903,0.21161015210103015,0.2003437530021278,0.1939412945387315,0.18538287859790178,0.18307953054199413,0.1753328394676958,0.1664972215586779,0.1532505415380001,0.1511597837872651,0.14483684917189638,0.13626820198735412,0.13253291407409978,0.12526165610369372,0.12125306356014037,0.117665773903837],\"yaxis\":\"y\",\"type\":\"scatter\"},{\"hovertemplate\":\"variable=test_losses<br>index=%{x}<br>value=%{y}<extra></extra>\",\"legendgroup\":\"test_losses\",\"line\":{\"color\":\"#EF553B\",\"dash\":\"solid\"},\"marker\":{\"symbol\":\"circle\"},\"mode\":\"lines\",\"name\":\"test_losses\",\"orientation\":\"v\",\"showlegend\":true,\"x\":[0,1,2,3,4,5,6,7,8,9,10,11,12,13,14,15,16,17,18,19,20,21,22,23,24,25,26,27,28,29,30,31,32,33,34,35,36,37,38,39,40,41,42,43,44,45,46,47,48,49,50,51,52,53,54,55,56,57,58,59],\"xaxis\":\"x\",\"y\":[1.9074322937011718,1.3822216339111328,1.2276145599365234,1.1671244140625,1.0131295043945312,0.890208480834961,0.8460258056640625,0.7770084838867187,0.8477949584960938,0.7770501617431641,0.6302850860595703,0.6676366592407227,0.7222816116333007,0.6148880325317383,0.616086962890625,0.6339724853515625,0.5934968795776367,0.5999218963623046,0.5685614990234376,0.561865754699707,0.48579348907470704,0.5209083587646485,0.47227125396728514,0.5474510452270508,0.4640209289550781,0.5057996673583984,0.4388309059143066,0.44883135070800784,0.4594878814697266,0.4411935089111328,0.397332625579834,0.4336969123840332,0.5739334579467773,0.38895804748535157,0.38337214813232423,0.37735322036743163,0.4304691223144531,0.409011824798584,0.4280194877624512,0.375939697265625,0.3937155700683594,0.3933796081542969,0.36682427597045897,0.3596857261657715,0.3667817176818848,0.3622305877685547,0.36926907653808594,0.35254673233032224,0.3565870307922363,0.3414218650817871,0.3481566047668457,0.3383024787902832,0.3296301010131836,0.33804379119873046,0.32734424743652346,0.3244613037109375,0.32528496170043947,0.3205233741760254,0.3177061561584473,0.3168265571594238],\"yaxis\":\"y\",\"type\":\"scatter\"}],                        {\"template\":{\"data\":{\"histogram2dcontour\":[{\"type\":\"histogram2dcontour\",\"colorbar\":{\"outlinewidth\":0,\"ticks\":\"\"},\"colorscale\":[[0.0,\"#0d0887\"],[0.1111111111111111,\"#46039f\"],[0.2222222222222222,\"#7201a8\"],[0.3333333333333333,\"#9c179e\"],[0.4444444444444444,\"#bd3786\"],[0.5555555555555556,\"#d8576b\"],[0.6666666666666666,\"#ed7953\"],[0.7777777777777778,\"#fb9f3a\"],[0.8888888888888888,\"#fdca26\"],[1.0,\"#f0f921\"]]}],\"choropleth\":[{\"type\":\"choropleth\",\"colorbar\":{\"outlinewidth\":0,\"ticks\":\"\"}}],\"histogram2d\":[{\"type\":\"histogram2d\",\"colorbar\":{\"outlinewidth\":0,\"ticks\":\"\"},\"colorscale\":[[0.0,\"#0d0887\"],[0.1111111111111111,\"#46039f\"],[0.2222222222222222,\"#7201a8\"],[0.3333333333333333,\"#9c179e\"],[0.4444444444444444,\"#bd3786\"],[0.5555555555555556,\"#d8576b\"],[0.6666666666666666,\"#ed7953\"],[0.7777777777777778,\"#fb9f3a\"],[0.8888888888888888,\"#fdca26\"],[1.0,\"#f0f921\"]]}],\"heatmap\":[{\"type\":\"heatmap\",\"colorbar\":{\"outlinewidth\":0,\"ticks\":\"\"},\"colorscale\":[[0.0,\"#0d0887\"],[0.1111111111111111,\"#46039f\"],[0.2222222222222222,\"#7201a8\"],[0.3333333333333333,\"#9c179e\"],[0.4444444444444444,\"#bd3786\"],[0.5555555555555556,\"#d8576b\"],[0.6666666666666666,\"#ed7953\"],[0.7777777777777778,\"#fb9f3a\"],[0.8888888888888888,\"#fdca26\"],[1.0,\"#f0f921\"]]}],\"heatmapgl\":[{\"type\":\"heatmapgl\",\"colorbar\":{\"outlinewidth\":0,\"ticks\":\"\"},\"colorscale\":[[0.0,\"#0d0887\"],[0.1111111111111111,\"#46039f\"],[0.2222222222222222,\"#7201a8\"],[0.3333333333333333,\"#9c179e\"],[0.4444444444444444,\"#bd3786\"],[0.5555555555555556,\"#d8576b\"],[0.6666666666666666,\"#ed7953\"],[0.7777777777777778,\"#fb9f3a\"],[0.8888888888888888,\"#fdca26\"],[1.0,\"#f0f921\"]]}],\"contourcarpet\":[{\"type\":\"contourcarpet\",\"colorbar\":{\"outlinewidth\":0,\"ticks\":\"\"}}],\"contour\":[{\"type\":\"contour\",\"colorbar\":{\"outlinewidth\":0,\"ticks\":\"\"},\"colorscale\":[[0.0,\"#0d0887\"],[0.1111111111111111,\"#46039f\"],[0.2222222222222222,\"#7201a8\"],[0.3333333333333333,\"#9c179e\"],[0.4444444444444444,\"#bd3786\"],[0.5555555555555556,\"#d8576b\"],[0.6666666666666666,\"#ed7953\"],[0.7777777777777778,\"#fb9f3a\"],[0.8888888888888888,\"#fdca26\"],[1.0,\"#f0f921\"]]}],\"surface\":[{\"type\":\"surface\",\"colorbar\":{\"outlinewidth\":0,\"ticks\":\"\"},\"colorscale\":[[0.0,\"#0d0887\"],[0.1111111111111111,\"#46039f\"],[0.2222222222222222,\"#7201a8\"],[0.3333333333333333,\"#9c179e\"],[0.4444444444444444,\"#bd3786\"],[0.5555555555555556,\"#d8576b\"],[0.6666666666666666,\"#ed7953\"],[0.7777777777777778,\"#fb9f3a\"],[0.8888888888888888,\"#fdca26\"],[1.0,\"#f0f921\"]]}],\"mesh3d\":[{\"type\":\"mesh3d\",\"colorbar\":{\"outlinewidth\":0,\"ticks\":\"\"}}],\"scatter\":[{\"fillpattern\":{\"fillmode\":\"overlay\",\"size\":10,\"solidity\":0.2},\"type\":\"scatter\"}],\"parcoords\":[{\"type\":\"parcoords\",\"line\":{\"colorbar\":{\"outlinewidth\":0,\"ticks\":\"\"}}}],\"scatterpolargl\":[{\"type\":\"scatterpolargl\",\"marker\":{\"colorbar\":{\"outlinewidth\":0,\"ticks\":\"\"}}}],\"bar\":[{\"error_x\":{\"color\":\"#2a3f5f\"},\"error_y\":{\"color\":\"#2a3f5f\"},\"marker\":{\"line\":{\"color\":\"#E5ECF6\",\"width\":0.5},\"pattern\":{\"fillmode\":\"overlay\",\"size\":10,\"solidity\":0.2}},\"type\":\"bar\"}],\"scattergeo\":[{\"type\":\"scattergeo\",\"marker\":{\"colorbar\":{\"outlinewidth\":0,\"ticks\":\"\"}}}],\"scatterpolar\":[{\"type\":\"scatterpolar\",\"marker\":{\"colorbar\":{\"outlinewidth\":0,\"ticks\":\"\"}}}],\"histogram\":[{\"marker\":{\"pattern\":{\"fillmode\":\"overlay\",\"size\":10,\"solidity\":0.2}},\"type\":\"histogram\"}],\"scattergl\":[{\"type\":\"scattergl\",\"marker\":{\"colorbar\":{\"outlinewidth\":0,\"ticks\":\"\"}}}],\"scatter3d\":[{\"type\":\"scatter3d\",\"line\":{\"colorbar\":{\"outlinewidth\":0,\"ticks\":\"\"}},\"marker\":{\"colorbar\":{\"outlinewidth\":0,\"ticks\":\"\"}}}],\"scattermapbox\":[{\"type\":\"scattermapbox\",\"marker\":{\"colorbar\":{\"outlinewidth\":0,\"ticks\":\"\"}}}],\"scatterternary\":[{\"type\":\"scatterternary\",\"marker\":{\"colorbar\":{\"outlinewidth\":0,\"ticks\":\"\"}}}],\"scattercarpet\":[{\"type\":\"scattercarpet\",\"marker\":{\"colorbar\":{\"outlinewidth\":0,\"ticks\":\"\"}}}],\"carpet\":[{\"aaxis\":{\"endlinecolor\":\"#2a3f5f\",\"gridcolor\":\"white\",\"linecolor\":\"white\",\"minorgridcolor\":\"white\",\"startlinecolor\":\"#2a3f5f\"},\"baxis\":{\"endlinecolor\":\"#2a3f5f\",\"gridcolor\":\"white\",\"linecolor\":\"white\",\"minorgridcolor\":\"white\",\"startlinecolor\":\"#2a3f5f\"},\"type\":\"carpet\"}],\"table\":[{\"cells\":{\"fill\":{\"color\":\"#EBF0F8\"},\"line\":{\"color\":\"white\"}},\"header\":{\"fill\":{\"color\":\"#C8D4E3\"},\"line\":{\"color\":\"white\"}},\"type\":\"table\"}],\"barpolar\":[{\"marker\":{\"line\":{\"color\":\"#E5ECF6\",\"width\":0.5},\"pattern\":{\"fillmode\":\"overlay\",\"size\":10,\"solidity\":0.2}},\"type\":\"barpolar\"}],\"pie\":[{\"automargin\":true,\"type\":\"pie\"}]},\"layout\":{\"autotypenumbers\":\"strict\",\"colorway\":[\"#636efa\",\"#EF553B\",\"#00cc96\",\"#ab63fa\",\"#FFA15A\",\"#19d3f3\",\"#FF6692\",\"#B6E880\",\"#FF97FF\",\"#FECB52\"],\"font\":{\"color\":\"#2a3f5f\"},\"hovermode\":\"closest\",\"hoverlabel\":{\"align\":\"left\"},\"paper_bgcolor\":\"white\",\"plot_bgcolor\":\"#E5ECF6\",\"polar\":{\"bgcolor\":\"#E5ECF6\",\"angularaxis\":{\"gridcolor\":\"white\",\"linecolor\":\"white\",\"ticks\":\"\"},\"radialaxis\":{\"gridcolor\":\"white\",\"linecolor\":\"white\",\"ticks\":\"\"}},\"ternary\":{\"bgcolor\":\"#E5ECF6\",\"aaxis\":{\"gridcolor\":\"white\",\"linecolor\":\"white\",\"ticks\":\"\"},\"baxis\":{\"gridcolor\":\"white\",\"linecolor\":\"white\",\"ticks\":\"\"},\"caxis\":{\"gridcolor\":\"white\",\"linecolor\":\"white\",\"ticks\":\"\"}},\"coloraxis\":{\"colorbar\":{\"outlinewidth\":0,\"ticks\":\"\"}},\"colorscale\":{\"sequential\":[[0.0,\"#0d0887\"],[0.1111111111111111,\"#46039f\"],[0.2222222222222222,\"#7201a8\"],[0.3333333333333333,\"#9c179e\"],[0.4444444444444444,\"#bd3786\"],[0.5555555555555556,\"#d8576b\"],[0.6666666666666666,\"#ed7953\"],[0.7777777777777778,\"#fb9f3a\"],[0.8888888888888888,\"#fdca26\"],[1.0,\"#f0f921\"]],\"sequentialminus\":[[0.0,\"#0d0887\"],[0.1111111111111111,\"#46039f\"],[0.2222222222222222,\"#7201a8\"],[0.3333333333333333,\"#9c179e\"],[0.4444444444444444,\"#bd3786\"],[0.5555555555555556,\"#d8576b\"],[0.6666666666666666,\"#ed7953\"],[0.7777777777777778,\"#fb9f3a\"],[0.8888888888888888,\"#fdca26\"],[1.0,\"#f0f921\"]],\"diverging\":[[0,\"#8e0152\"],[0.1,\"#c51b7d\"],[0.2,\"#de77ae\"],[0.3,\"#f1b6da\"],[0.4,\"#fde0ef\"],[0.5,\"#f7f7f7\"],[0.6,\"#e6f5d0\"],[0.7,\"#b8e186\"],[0.8,\"#7fbc41\"],[0.9,\"#4d9221\"],[1,\"#276419\"]]},\"xaxis\":{\"gridcolor\":\"white\",\"linecolor\":\"white\",\"ticks\":\"\",\"title\":{\"standoff\":15},\"zerolinecolor\":\"white\",\"automargin\":true,\"zerolinewidth\":2},\"yaxis\":{\"gridcolor\":\"white\",\"linecolor\":\"white\",\"ticks\":\"\",\"title\":{\"standoff\":15},\"zerolinecolor\":\"white\",\"automargin\":true,\"zerolinewidth\":2},\"scene\":{\"xaxis\":{\"backgroundcolor\":\"#E5ECF6\",\"gridcolor\":\"white\",\"linecolor\":\"white\",\"showbackground\":true,\"ticks\":\"\",\"zerolinecolor\":\"white\",\"gridwidth\":2},\"yaxis\":{\"backgroundcolor\":\"#E5ECF6\",\"gridcolor\":\"white\",\"linecolor\":\"white\",\"showbackground\":true,\"ticks\":\"\",\"zerolinecolor\":\"white\",\"gridwidth\":2},\"zaxis\":{\"backgroundcolor\":\"#E5ECF6\",\"gridcolor\":\"white\",\"linecolor\":\"white\",\"showbackground\":true,\"ticks\":\"\",\"zerolinecolor\":\"white\",\"gridwidth\":2}},\"shapedefaults\":{\"line\":{\"color\":\"#2a3f5f\"}},\"annotationdefaults\":{\"arrowcolor\":\"#2a3f5f\",\"arrowhead\":0,\"arrowwidth\":1},\"geo\":{\"bgcolor\":\"white\",\"landcolor\":\"#E5ECF6\",\"subunitcolor\":\"white\",\"showland\":true,\"showlakes\":true,\"lakecolor\":\"white\"},\"title\":{\"x\":0.05},\"mapbox\":{\"style\":\"light\"}}},\"xaxis\":{\"anchor\":\"y\",\"domain\":[0.0,1.0],\"title\":{\"text\":\"index\"}},\"yaxis\":{\"anchor\":\"x\",\"domain\":[0.0,1.0],\"title\":{\"text\":\"value\"}},\"legend\":{\"title\":{\"text\":\"variable\"},\"tracegroupgap\":0},\"margin\":{\"t\":60}},                        {\"responsive\": true}                    ).then(function(){\n",
              "                            \n",
              "var gd = document.getElementById('e24f55e3-7ef6-48f2-9259-a4451032e971');\n",
              "var x = new MutationObserver(function (mutations, observer) {{\n",
              "        var display = window.getComputedStyle(gd).display;\n",
              "        if (!display || display === 'none') {{\n",
              "            console.log([gd, 'removed!']);\n",
              "            Plotly.purge(gd);\n",
              "            observer.disconnect();\n",
              "        }}\n",
              "}});\n",
              "\n",
              "// Listen for the removal of the full notebook cells\n",
              "var notebookContainer = gd.closest('#notebook-container');\n",
              "if (notebookContainer) {{\n",
              "    x.observe(notebookContainer, {childList: true});\n",
              "}}\n",
              "\n",
              "// Listen for the clearing of the current output cell\n",
              "var outputEl = gd.closest('.output');\n",
              "if (outputEl) {{\n",
              "    x.observe(outputEl, {childList: true});\n",
              "}}\n",
              "\n",
              "                        })                };                            </script>        </div>\n",
              "</body>\n",
              "</html>"
            ]
          },
          "metadata": {}
        }
      ]
    },
    {
      "cell_type": "code",
      "source": [
        "df = pd.DataFrame({'train_acc': metrics['train_acc'], 'test_acc': metrics['test_acc']})\n",
        "df.plot()"
      ],
      "metadata": {
        "colab": {
          "base_uri": "https://localhost:8080/",
          "height": 542
        },
        "id": "-CyO-R_f_P8F",
        "outputId": "4896cff6-80c3-4964-ce65-cf43223c5762"
      },
      "execution_count": 179,
      "outputs": [
        {
          "output_type": "display_data",
          "data": {
            "text/html": [
              "<html>\n",
              "<head><meta charset=\"utf-8\" /></head>\n",
              "<body>\n",
              "    <div>            <script src=\"https://cdnjs.cloudflare.com/ajax/libs/mathjax/2.7.5/MathJax.js?config=TeX-AMS-MML_SVG\"></script><script type=\"text/javascript\">if (window.MathJax && window.MathJax.Hub && window.MathJax.Hub.Config) {window.MathJax.Hub.Config({SVG: {font: \"STIX-Web\"}});}</script>                <script type=\"text/javascript\">window.PlotlyConfig = {MathJaxConfig: 'local'};</script>\n",
              "        <script src=\"https://cdn.plot.ly/plotly-2.18.2.min.js\"></script>                <div id=\"47e7f8d8-8cf9-4d54-8b2e-363f9f4c709b\" class=\"plotly-graph-div\" style=\"height:525px; width:100%;\"></div>            <script type=\"text/javascript\">                                    window.PLOTLYENV=window.PLOTLYENV || {};                                    if (document.getElementById(\"47e7f8d8-8cf9-4d54-8b2e-363f9f4c709b\")) {                    Plotly.newPlot(                        \"47e7f8d8-8cf9-4d54-8b2e-363f9f4c709b\",                        [{\"hovertemplate\":\"variable=train_acc<br>index=%{x}<br>value=%{y}<extra></extra>\",\"legendgroup\":\"train_acc\",\"line\":{\"color\":\"#636efa\",\"dash\":\"solid\"},\"marker\":{\"symbol\":\"circle\"},\"mode\":\"lines\",\"name\":\"train_acc\",\"orientation\":\"v\",\"showlegend\":true,\"x\":[0,1,2,3,4,5,6,7,8,9,10,11,12,13,14,15,16,17,18,19,20,21,22,23,24,25,26,27,28,29,30,31,32,33,34,35,36,37,38,39,40,41,42,43,44,45,46,47,48,49,50,51,52,53,54,55,56,57,58,59],\"xaxis\":\"x\",\"y\":[25.096,43.748,51.21,56.1,60.08,62.436,64.984,66.876,68.824,70.52,71.794,73.332,74.206,75.28,76.108,76.95,77.672,78.316,78.956,80.004,80.898,81.73,82.69,83.544,83.784,84.728,85.398,86.018,86.388,86.854,87.518,88.154,88.154,88.946,89.356,89.69,90.236,90.502,90.534,90.884,91.242,91.86,91.924,92.468,92.632,92.818,93.306,93.44,93.664,93.79,94.218,94.466,94.872,94.962,95.21,95.49,95.664,95.746,96.02,96.088],\"yaxis\":\"y\",\"type\":\"scatter\"},{\"hovertemplate\":\"variable=test_acc<br>index=%{x}<br>value=%{y}<extra></extra>\",\"legendgroup\":\"test_acc\",\"line\":{\"color\":\"#EF553B\",\"dash\":\"solid\"},\"marker\":{\"symbol\":\"circle\"},\"mode\":\"lines\",\"name\":\"test_acc\",\"orientation\":\"v\",\"showlegend\":true,\"x\":[0,1,2,3,4,5,6,7,8,9,10,11,12,13,14,15,16,17,18,19,20,21,22,23,24,25,26,27,28,29,30,31,32,33,34,35,36,37,38,39,40,41,42,43,44,45,46,47,48,49,50,51,52,53,54,55,56,57,58,59],\"xaxis\":\"x\",\"y\":[44.69,56.14,59.53,61.48,65.37,69.77,71.66,73.6,71.56,74.36,78.81,77.79,75.25,79.14,79.43,79.01,79.91,79.84,81.03,81.34,83.75,82.63,84.02,81.83,84.94,83.57,85.46,85.62,85.18,85.74,87.04,86.03,81.91,87.54,87.81,87.64,86.54,86.93,86.33,87.88,87.48,87.62,88.8,88.55,88.39,88.65,88.79,88.97,88.88,89.18,89.16,89.41,89.91,89.67,89.9,89.85,89.93,90.1,90.16,90.18],\"yaxis\":\"y\",\"type\":\"scatter\"}],                        {\"template\":{\"data\":{\"histogram2dcontour\":[{\"type\":\"histogram2dcontour\",\"colorbar\":{\"outlinewidth\":0,\"ticks\":\"\"},\"colorscale\":[[0.0,\"#0d0887\"],[0.1111111111111111,\"#46039f\"],[0.2222222222222222,\"#7201a8\"],[0.3333333333333333,\"#9c179e\"],[0.4444444444444444,\"#bd3786\"],[0.5555555555555556,\"#d8576b\"],[0.6666666666666666,\"#ed7953\"],[0.7777777777777778,\"#fb9f3a\"],[0.8888888888888888,\"#fdca26\"],[1.0,\"#f0f921\"]]}],\"choropleth\":[{\"type\":\"choropleth\",\"colorbar\":{\"outlinewidth\":0,\"ticks\":\"\"}}],\"histogram2d\":[{\"type\":\"histogram2d\",\"colorbar\":{\"outlinewidth\":0,\"ticks\":\"\"},\"colorscale\":[[0.0,\"#0d0887\"],[0.1111111111111111,\"#46039f\"],[0.2222222222222222,\"#7201a8\"],[0.3333333333333333,\"#9c179e\"],[0.4444444444444444,\"#bd3786\"],[0.5555555555555556,\"#d8576b\"],[0.6666666666666666,\"#ed7953\"],[0.7777777777777778,\"#fb9f3a\"],[0.8888888888888888,\"#fdca26\"],[1.0,\"#f0f921\"]]}],\"heatmap\":[{\"type\":\"heatmap\",\"colorbar\":{\"outlinewidth\":0,\"ticks\":\"\"},\"colorscale\":[[0.0,\"#0d0887\"],[0.1111111111111111,\"#46039f\"],[0.2222222222222222,\"#7201a8\"],[0.3333333333333333,\"#9c179e\"],[0.4444444444444444,\"#bd3786\"],[0.5555555555555556,\"#d8576b\"],[0.6666666666666666,\"#ed7953\"],[0.7777777777777778,\"#fb9f3a\"],[0.8888888888888888,\"#fdca26\"],[1.0,\"#f0f921\"]]}],\"heatmapgl\":[{\"type\":\"heatmapgl\",\"colorbar\":{\"outlinewidth\":0,\"ticks\":\"\"},\"colorscale\":[[0.0,\"#0d0887\"],[0.1111111111111111,\"#46039f\"],[0.2222222222222222,\"#7201a8\"],[0.3333333333333333,\"#9c179e\"],[0.4444444444444444,\"#bd3786\"],[0.5555555555555556,\"#d8576b\"],[0.6666666666666666,\"#ed7953\"],[0.7777777777777778,\"#fb9f3a\"],[0.8888888888888888,\"#fdca26\"],[1.0,\"#f0f921\"]]}],\"contourcarpet\":[{\"type\":\"contourcarpet\",\"colorbar\":{\"outlinewidth\":0,\"ticks\":\"\"}}],\"contour\":[{\"type\":\"contour\",\"colorbar\":{\"outlinewidth\":0,\"ticks\":\"\"},\"colorscale\":[[0.0,\"#0d0887\"],[0.1111111111111111,\"#46039f\"],[0.2222222222222222,\"#7201a8\"],[0.3333333333333333,\"#9c179e\"],[0.4444444444444444,\"#bd3786\"],[0.5555555555555556,\"#d8576b\"],[0.6666666666666666,\"#ed7953\"],[0.7777777777777778,\"#fb9f3a\"],[0.8888888888888888,\"#fdca26\"],[1.0,\"#f0f921\"]]}],\"surface\":[{\"type\":\"surface\",\"colorbar\":{\"outlinewidth\":0,\"ticks\":\"\"},\"colorscale\":[[0.0,\"#0d0887\"],[0.1111111111111111,\"#46039f\"],[0.2222222222222222,\"#7201a8\"],[0.3333333333333333,\"#9c179e\"],[0.4444444444444444,\"#bd3786\"],[0.5555555555555556,\"#d8576b\"],[0.6666666666666666,\"#ed7953\"],[0.7777777777777778,\"#fb9f3a\"],[0.8888888888888888,\"#fdca26\"],[1.0,\"#f0f921\"]]}],\"mesh3d\":[{\"type\":\"mesh3d\",\"colorbar\":{\"outlinewidth\":0,\"ticks\":\"\"}}],\"scatter\":[{\"fillpattern\":{\"fillmode\":\"overlay\",\"size\":10,\"solidity\":0.2},\"type\":\"scatter\"}],\"parcoords\":[{\"type\":\"parcoords\",\"line\":{\"colorbar\":{\"outlinewidth\":0,\"ticks\":\"\"}}}],\"scatterpolargl\":[{\"type\":\"scatterpolargl\",\"marker\":{\"colorbar\":{\"outlinewidth\":0,\"ticks\":\"\"}}}],\"bar\":[{\"error_x\":{\"color\":\"#2a3f5f\"},\"error_y\":{\"color\":\"#2a3f5f\"},\"marker\":{\"line\":{\"color\":\"#E5ECF6\",\"width\":0.5},\"pattern\":{\"fillmode\":\"overlay\",\"size\":10,\"solidity\":0.2}},\"type\":\"bar\"}],\"scattergeo\":[{\"type\":\"scattergeo\",\"marker\":{\"colorbar\":{\"outlinewidth\":0,\"ticks\":\"\"}}}],\"scatterpolar\":[{\"type\":\"scatterpolar\",\"marker\":{\"colorbar\":{\"outlinewidth\":0,\"ticks\":\"\"}}}],\"histogram\":[{\"marker\":{\"pattern\":{\"fillmode\":\"overlay\",\"size\":10,\"solidity\":0.2}},\"type\":\"histogram\"}],\"scattergl\":[{\"type\":\"scattergl\",\"marker\":{\"colorbar\":{\"outlinewidth\":0,\"ticks\":\"\"}}}],\"scatter3d\":[{\"type\":\"scatter3d\",\"line\":{\"colorbar\":{\"outlinewidth\":0,\"ticks\":\"\"}},\"marker\":{\"colorbar\":{\"outlinewidth\":0,\"ticks\":\"\"}}}],\"scattermapbox\":[{\"type\":\"scattermapbox\",\"marker\":{\"colorbar\":{\"outlinewidth\":0,\"ticks\":\"\"}}}],\"scatterternary\":[{\"type\":\"scatterternary\",\"marker\":{\"colorbar\":{\"outlinewidth\":0,\"ticks\":\"\"}}}],\"scattercarpet\":[{\"type\":\"scattercarpet\",\"marker\":{\"colorbar\":{\"outlinewidth\":0,\"ticks\":\"\"}}}],\"carpet\":[{\"aaxis\":{\"endlinecolor\":\"#2a3f5f\",\"gridcolor\":\"white\",\"linecolor\":\"white\",\"minorgridcolor\":\"white\",\"startlinecolor\":\"#2a3f5f\"},\"baxis\":{\"endlinecolor\":\"#2a3f5f\",\"gridcolor\":\"white\",\"linecolor\":\"white\",\"minorgridcolor\":\"white\",\"startlinecolor\":\"#2a3f5f\"},\"type\":\"carpet\"}],\"table\":[{\"cells\":{\"fill\":{\"color\":\"#EBF0F8\"},\"line\":{\"color\":\"white\"}},\"header\":{\"fill\":{\"color\":\"#C8D4E3\"},\"line\":{\"color\":\"white\"}},\"type\":\"table\"}],\"barpolar\":[{\"marker\":{\"line\":{\"color\":\"#E5ECF6\",\"width\":0.5},\"pattern\":{\"fillmode\":\"overlay\",\"size\":10,\"solidity\":0.2}},\"type\":\"barpolar\"}],\"pie\":[{\"automargin\":true,\"type\":\"pie\"}]},\"layout\":{\"autotypenumbers\":\"strict\",\"colorway\":[\"#636efa\",\"#EF553B\",\"#00cc96\",\"#ab63fa\",\"#FFA15A\",\"#19d3f3\",\"#FF6692\",\"#B6E880\",\"#FF97FF\",\"#FECB52\"],\"font\":{\"color\":\"#2a3f5f\"},\"hovermode\":\"closest\",\"hoverlabel\":{\"align\":\"left\"},\"paper_bgcolor\":\"white\",\"plot_bgcolor\":\"#E5ECF6\",\"polar\":{\"bgcolor\":\"#E5ECF6\",\"angularaxis\":{\"gridcolor\":\"white\",\"linecolor\":\"white\",\"ticks\":\"\"},\"radialaxis\":{\"gridcolor\":\"white\",\"linecolor\":\"white\",\"ticks\":\"\"}},\"ternary\":{\"bgcolor\":\"#E5ECF6\",\"aaxis\":{\"gridcolor\":\"white\",\"linecolor\":\"white\",\"ticks\":\"\"},\"baxis\":{\"gridcolor\":\"white\",\"linecolor\":\"white\",\"ticks\":\"\"},\"caxis\":{\"gridcolor\":\"white\",\"linecolor\":\"white\",\"ticks\":\"\"}},\"coloraxis\":{\"colorbar\":{\"outlinewidth\":0,\"ticks\":\"\"}},\"colorscale\":{\"sequential\":[[0.0,\"#0d0887\"],[0.1111111111111111,\"#46039f\"],[0.2222222222222222,\"#7201a8\"],[0.3333333333333333,\"#9c179e\"],[0.4444444444444444,\"#bd3786\"],[0.5555555555555556,\"#d8576b\"],[0.6666666666666666,\"#ed7953\"],[0.7777777777777778,\"#fb9f3a\"],[0.8888888888888888,\"#fdca26\"],[1.0,\"#f0f921\"]],\"sequentialminus\":[[0.0,\"#0d0887\"],[0.1111111111111111,\"#46039f\"],[0.2222222222222222,\"#7201a8\"],[0.3333333333333333,\"#9c179e\"],[0.4444444444444444,\"#bd3786\"],[0.5555555555555556,\"#d8576b\"],[0.6666666666666666,\"#ed7953\"],[0.7777777777777778,\"#fb9f3a\"],[0.8888888888888888,\"#fdca26\"],[1.0,\"#f0f921\"]],\"diverging\":[[0,\"#8e0152\"],[0.1,\"#c51b7d\"],[0.2,\"#de77ae\"],[0.3,\"#f1b6da\"],[0.4,\"#fde0ef\"],[0.5,\"#f7f7f7\"],[0.6,\"#e6f5d0\"],[0.7,\"#b8e186\"],[0.8,\"#7fbc41\"],[0.9,\"#4d9221\"],[1,\"#276419\"]]},\"xaxis\":{\"gridcolor\":\"white\",\"linecolor\":\"white\",\"ticks\":\"\",\"title\":{\"standoff\":15},\"zerolinecolor\":\"white\",\"automargin\":true,\"zerolinewidth\":2},\"yaxis\":{\"gridcolor\":\"white\",\"linecolor\":\"white\",\"ticks\":\"\",\"title\":{\"standoff\":15},\"zerolinecolor\":\"white\",\"automargin\":true,\"zerolinewidth\":2},\"scene\":{\"xaxis\":{\"backgroundcolor\":\"#E5ECF6\",\"gridcolor\":\"white\",\"linecolor\":\"white\",\"showbackground\":true,\"ticks\":\"\",\"zerolinecolor\":\"white\",\"gridwidth\":2},\"yaxis\":{\"backgroundcolor\":\"#E5ECF6\",\"gridcolor\":\"white\",\"linecolor\":\"white\",\"showbackground\":true,\"ticks\":\"\",\"zerolinecolor\":\"white\",\"gridwidth\":2},\"zaxis\":{\"backgroundcolor\":\"#E5ECF6\",\"gridcolor\":\"white\",\"linecolor\":\"white\",\"showbackground\":true,\"ticks\":\"\",\"zerolinecolor\":\"white\",\"gridwidth\":2}},\"shapedefaults\":{\"line\":{\"color\":\"#2a3f5f\"}},\"annotationdefaults\":{\"arrowcolor\":\"#2a3f5f\",\"arrowhead\":0,\"arrowwidth\":1},\"geo\":{\"bgcolor\":\"white\",\"landcolor\":\"#E5ECF6\",\"subunitcolor\":\"white\",\"showland\":true,\"showlakes\":true,\"lakecolor\":\"white\"},\"title\":{\"x\":0.05},\"mapbox\":{\"style\":\"light\"}}},\"xaxis\":{\"anchor\":\"y\",\"domain\":[0.0,1.0],\"title\":{\"text\":\"index\"}},\"yaxis\":{\"anchor\":\"x\",\"domain\":[0.0,1.0],\"title\":{\"text\":\"value\"}},\"legend\":{\"title\":{\"text\":\"variable\"},\"tracegroupgap\":0},\"margin\":{\"t\":60}},                        {\"responsive\": true}                    ).then(function(){\n",
              "                            \n",
              "var gd = document.getElementById('47e7f8d8-8cf9-4d54-8b2e-363f9f4c709b');\n",
              "var x = new MutationObserver(function (mutations, observer) {{\n",
              "        var display = window.getComputedStyle(gd).display;\n",
              "        if (!display || display === 'none') {{\n",
              "            console.log([gd, 'removed!']);\n",
              "            Plotly.purge(gd);\n",
              "            observer.disconnect();\n",
              "        }}\n",
              "}});\n",
              "\n",
              "// Listen for the removal of the full notebook cells\n",
              "var notebookContainer = gd.closest('#notebook-container');\n",
              "if (notebookContainer) {{\n",
              "    x.observe(notebookContainer, {childList: true});\n",
              "}}\n",
              "\n",
              "// Listen for the clearing of the current output cell\n",
              "var outputEl = gd.closest('.output');\n",
              "if (outputEl) {{\n",
              "    x.observe(outputEl, {childList: true});\n",
              "}}\n",
              "\n",
              "                        })                };                            </script>        </div>\n",
              "</body>\n",
              "</html>"
            ]
          },
          "metadata": {}
        }
      ]
    }
  ]
}